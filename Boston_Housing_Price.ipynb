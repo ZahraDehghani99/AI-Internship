{
  "nbformat": 4,
  "nbformat_minor": 0,
  "metadata": {
    "colab": {
      "name": "Boston Housing Price.ipynb",
      "provenance": [],
      "collapsed_sections": []
    },
    "kernelspec": {
      "name": "python3",
      "display_name": "Python 3"
    },
    "language_info": {
      "name": "python"
    }
  },
  "cells": [
    {
      "cell_type": "markdown",
      "metadata": {
        "id": "Jq_TB96cVYmN"
      },
      "source": [
        "#Boston Housing Price"
      ]
    },
    {
      "cell_type": "code",
      "metadata": {
        "id": "-FjhZZDcczlC"
      },
      "source": [
        "import pandas as pd\n",
        "import numpy as np\n",
        "import matplotlib.pyplot as plt\n",
        "from sklearn import datasets\n",
        "from sklearn.model_selection import train_test_split\n",
        "from sklearn import linear_model\n",
        "import seaborn as sns"
      ],
      "execution_count": 1,
      "outputs": []
    },
    {
      "cell_type": "code",
      "metadata": {
        "colab": {
          "base_uri": "https://localhost:8080/"
        },
        "id": "P4NECnq1SuBZ",
        "outputId": "52bbca3c-54ff-4603-83b0-f595e596c80c"
      },
      "source": [
        "from google.colab import drive\n",
        "drive.mount('/content/drive')"
      ],
      "execution_count": 2,
      "outputs": [
        {
          "output_type": "stream",
          "text": [
            "Drive already mounted at /content/drive; to attempt to forcibly remount, call drive.mount(\"/content/drive\", force_remount=True).\n"
          ],
          "name": "stdout"
        }
      ]
    },
    {
      "cell_type": "code",
      "metadata": {
        "colab": {
          "base_uri": "https://localhost:8080/",
          "height": 202
        },
        "id": "Gyp15YSGUsfA",
        "outputId": "1aef4ac9-4031-40f5-ac1f-bdceb90edf7e"
      },
      "source": [
        "dataset = pd.read_csv('/content/drive/MyDrive/boston.csv')\n",
        "dataset.head()"
      ],
      "execution_count": 3,
      "outputs": [
        {
          "output_type": "execute_result",
          "data": {
            "text/html": [
              "<div>\n",
              "<style scoped>\n",
              "    .dataframe tbody tr th:only-of-type {\n",
              "        vertical-align: middle;\n",
              "    }\n",
              "\n",
              "    .dataframe tbody tr th {\n",
              "        vertical-align: top;\n",
              "    }\n",
              "\n",
              "    .dataframe thead th {\n",
              "        text-align: right;\n",
              "    }\n",
              "</style>\n",
              "<table border=\"1\" class=\"dataframe\">\n",
              "  <thead>\n",
              "    <tr style=\"text-align: right;\">\n",
              "      <th></th>\n",
              "      <th>CRIM</th>\n",
              "      <th>ZN</th>\n",
              "      <th>INDUS</th>\n",
              "      <th>CHAS</th>\n",
              "      <th>NOX</th>\n",
              "      <th>RM</th>\n",
              "      <th>AGE</th>\n",
              "      <th>DIS</th>\n",
              "      <th>RAD</th>\n",
              "      <th>TAX</th>\n",
              "      <th>PTRATIO</th>\n",
              "      <th>B</th>\n",
              "      <th>LSTAT</th>\n",
              "      <th>MDEV</th>\n",
              "    </tr>\n",
              "  </thead>\n",
              "  <tbody>\n",
              "    <tr>\n",
              "      <th>0</th>\n",
              "      <td>0.00632</td>\n",
              "      <td>18.0</td>\n",
              "      <td>2.31</td>\n",
              "      <td>0.0</td>\n",
              "      <td>0.538</td>\n",
              "      <td>6.575</td>\n",
              "      <td>65.2</td>\n",
              "      <td>4.0900</td>\n",
              "      <td>1.0</td>\n",
              "      <td>296.0</td>\n",
              "      <td>15.3</td>\n",
              "      <td>396.90</td>\n",
              "      <td>4.98</td>\n",
              "      <td>24.0</td>\n",
              "    </tr>\n",
              "    <tr>\n",
              "      <th>1</th>\n",
              "      <td>0.02731</td>\n",
              "      <td>0.0</td>\n",
              "      <td>7.07</td>\n",
              "      <td>0.0</td>\n",
              "      <td>0.469</td>\n",
              "      <td>6.421</td>\n",
              "      <td>78.9</td>\n",
              "      <td>4.9671</td>\n",
              "      <td>2.0</td>\n",
              "      <td>242.0</td>\n",
              "      <td>17.8</td>\n",
              "      <td>396.90</td>\n",
              "      <td>9.14</td>\n",
              "      <td>21.6</td>\n",
              "    </tr>\n",
              "    <tr>\n",
              "      <th>2</th>\n",
              "      <td>0.02729</td>\n",
              "      <td>0.0</td>\n",
              "      <td>7.07</td>\n",
              "      <td>0.0</td>\n",
              "      <td>0.469</td>\n",
              "      <td>7.185</td>\n",
              "      <td>61.1</td>\n",
              "      <td>4.9671</td>\n",
              "      <td>2.0</td>\n",
              "      <td>242.0</td>\n",
              "      <td>17.8</td>\n",
              "      <td>392.83</td>\n",
              "      <td>4.03</td>\n",
              "      <td>34.7</td>\n",
              "    </tr>\n",
              "    <tr>\n",
              "      <th>3</th>\n",
              "      <td>0.03237</td>\n",
              "      <td>0.0</td>\n",
              "      <td>2.18</td>\n",
              "      <td>0.0</td>\n",
              "      <td>0.458</td>\n",
              "      <td>6.998</td>\n",
              "      <td>45.8</td>\n",
              "      <td>6.0622</td>\n",
              "      <td>3.0</td>\n",
              "      <td>222.0</td>\n",
              "      <td>18.7</td>\n",
              "      <td>394.63</td>\n",
              "      <td>2.94</td>\n",
              "      <td>33.4</td>\n",
              "    </tr>\n",
              "    <tr>\n",
              "      <th>4</th>\n",
              "      <td>0.06905</td>\n",
              "      <td>0.0</td>\n",
              "      <td>2.18</td>\n",
              "      <td>0.0</td>\n",
              "      <td>0.458</td>\n",
              "      <td>7.147</td>\n",
              "      <td>54.2</td>\n",
              "      <td>6.0622</td>\n",
              "      <td>3.0</td>\n",
              "      <td>222.0</td>\n",
              "      <td>18.7</td>\n",
              "      <td>396.90</td>\n",
              "      <td>5.33</td>\n",
              "      <td>36.2</td>\n",
              "    </tr>\n",
              "  </tbody>\n",
              "</table>\n",
              "</div>"
            ],
            "text/plain": [
              "      CRIM    ZN  INDUS  CHAS    NOX  ...    TAX  PTRATIO       B  LSTAT  MDEV\n",
              "0  0.00632  18.0   2.31   0.0  0.538  ...  296.0     15.3  396.90   4.98  24.0\n",
              "1  0.02731   0.0   7.07   0.0  0.469  ...  242.0     17.8  396.90   9.14  21.6\n",
              "2  0.02729   0.0   7.07   0.0  0.469  ...  242.0     17.8  392.83   4.03  34.7\n",
              "3  0.03237   0.0   2.18   0.0  0.458  ...  222.0     18.7  394.63   2.94  33.4\n",
              "4  0.06905   0.0   2.18   0.0  0.458  ...  222.0     18.7  396.90   5.33  36.2\n",
              "\n",
              "[5 rows x 14 columns]"
            ]
          },
          "metadata": {
            "tags": []
          },
          "execution_count": 3
        }
      ]
    },
    {
      "cell_type": "code",
      "metadata": {
        "colab": {
          "base_uri": "https://localhost:8080/"
        },
        "id": "QDFCSe-Xd0eb",
        "outputId": "ffb8630a-3502-44a1-f9d2-48b0fc364efa"
      },
      "source": [
        "dataset.shape"
      ],
      "execution_count": 4,
      "outputs": [
        {
          "output_type": "execute_result",
          "data": {
            "text/plain": [
              "(506, 14)"
            ]
          },
          "metadata": {
            "tags": []
          },
          "execution_count": 4
        }
      ]
    },
    {
      "cell_type": "code",
      "metadata": {
        "colab": {
          "base_uri": "https://localhost:8080/"
        },
        "id": "G9FldNB9eR9B",
        "outputId": "303ffb84-e47b-417c-cf77-8ec9ffebc423"
      },
      "source": [
        "dataset.isnull().sum() # return number of missing values for each variable"
      ],
      "execution_count": 5,
      "outputs": [
        {
          "output_type": "execute_result",
          "data": {
            "text/plain": [
              "CRIM       0\n",
              "ZN         0\n",
              "INDUS      0\n",
              "CHAS       0\n",
              "NOX        0\n",
              "RM         0\n",
              "AGE        0\n",
              "DIS        0\n",
              "RAD        0\n",
              "TAX        0\n",
              "PTRATIO    0\n",
              "B          0\n",
              "LSTAT      0\n",
              "MDEV       0\n",
              "dtype: int64"
            ]
          },
          "metadata": {
            "tags": []
          },
          "execution_count": 5
        }
      ]
    },
    {
      "cell_type": "code",
      "metadata": {
        "colab": {
          "base_uri": "https://localhost:8080/",
          "height": 294
        },
        "id": "PYJMpi9rixy6",
        "outputId": "2afb6e37-f776-46d5-b242-2056d346989e"
      },
      "source": [
        "dataset.describe()"
      ],
      "execution_count": 6,
      "outputs": [
        {
          "output_type": "execute_result",
          "data": {
            "text/html": [
              "<div>\n",
              "<style scoped>\n",
              "    .dataframe tbody tr th:only-of-type {\n",
              "        vertical-align: middle;\n",
              "    }\n",
              "\n",
              "    .dataframe tbody tr th {\n",
              "        vertical-align: top;\n",
              "    }\n",
              "\n",
              "    .dataframe thead th {\n",
              "        text-align: right;\n",
              "    }\n",
              "</style>\n",
              "<table border=\"1\" class=\"dataframe\">\n",
              "  <thead>\n",
              "    <tr style=\"text-align: right;\">\n",
              "      <th></th>\n",
              "      <th>CRIM</th>\n",
              "      <th>ZN</th>\n",
              "      <th>INDUS</th>\n",
              "      <th>CHAS</th>\n",
              "      <th>NOX</th>\n",
              "      <th>RM</th>\n",
              "      <th>AGE</th>\n",
              "      <th>DIS</th>\n",
              "      <th>RAD</th>\n",
              "      <th>TAX</th>\n",
              "      <th>PTRATIO</th>\n",
              "      <th>B</th>\n",
              "      <th>LSTAT</th>\n",
              "      <th>MDEV</th>\n",
              "    </tr>\n",
              "  </thead>\n",
              "  <tbody>\n",
              "    <tr>\n",
              "      <th>count</th>\n",
              "      <td>506.000000</td>\n",
              "      <td>506.000000</td>\n",
              "      <td>506.000000</td>\n",
              "      <td>506.000000</td>\n",
              "      <td>506.000000</td>\n",
              "      <td>506.000000</td>\n",
              "      <td>506.000000</td>\n",
              "      <td>506.000000</td>\n",
              "      <td>506.000000</td>\n",
              "      <td>506.000000</td>\n",
              "      <td>506.000000</td>\n",
              "      <td>506.000000</td>\n",
              "      <td>506.000000</td>\n",
              "      <td>506.000000</td>\n",
              "    </tr>\n",
              "    <tr>\n",
              "      <th>mean</th>\n",
              "      <td>3.593761</td>\n",
              "      <td>11.363636</td>\n",
              "      <td>11.136779</td>\n",
              "      <td>0.069170</td>\n",
              "      <td>0.554695</td>\n",
              "      <td>6.284634</td>\n",
              "      <td>68.574901</td>\n",
              "      <td>3.795043</td>\n",
              "      <td>9.549407</td>\n",
              "      <td>408.237154</td>\n",
              "      <td>18.455534</td>\n",
              "      <td>356.674032</td>\n",
              "      <td>12.653063</td>\n",
              "      <td>22.532806</td>\n",
              "    </tr>\n",
              "    <tr>\n",
              "      <th>std</th>\n",
              "      <td>8.596783</td>\n",
              "      <td>23.322453</td>\n",
              "      <td>6.860353</td>\n",
              "      <td>0.253994</td>\n",
              "      <td>0.115878</td>\n",
              "      <td>0.702617</td>\n",
              "      <td>28.148861</td>\n",
              "      <td>2.105710</td>\n",
              "      <td>8.707259</td>\n",
              "      <td>168.537116</td>\n",
              "      <td>2.164946</td>\n",
              "      <td>91.294864</td>\n",
              "      <td>7.141062</td>\n",
              "      <td>9.197104</td>\n",
              "    </tr>\n",
              "    <tr>\n",
              "      <th>min</th>\n",
              "      <td>0.006320</td>\n",
              "      <td>0.000000</td>\n",
              "      <td>0.460000</td>\n",
              "      <td>0.000000</td>\n",
              "      <td>0.385000</td>\n",
              "      <td>3.561000</td>\n",
              "      <td>2.900000</td>\n",
              "      <td>1.129600</td>\n",
              "      <td>1.000000</td>\n",
              "      <td>187.000000</td>\n",
              "      <td>12.600000</td>\n",
              "      <td>0.320000</td>\n",
              "      <td>1.730000</td>\n",
              "      <td>5.000000</td>\n",
              "    </tr>\n",
              "    <tr>\n",
              "      <th>25%</th>\n",
              "      <td>0.082045</td>\n",
              "      <td>0.000000</td>\n",
              "      <td>5.190000</td>\n",
              "      <td>0.000000</td>\n",
              "      <td>0.449000</td>\n",
              "      <td>5.885500</td>\n",
              "      <td>45.025000</td>\n",
              "      <td>2.100175</td>\n",
              "      <td>4.000000</td>\n",
              "      <td>279.000000</td>\n",
              "      <td>17.400000</td>\n",
              "      <td>375.377500</td>\n",
              "      <td>6.950000</td>\n",
              "      <td>17.025000</td>\n",
              "    </tr>\n",
              "    <tr>\n",
              "      <th>50%</th>\n",
              "      <td>0.256510</td>\n",
              "      <td>0.000000</td>\n",
              "      <td>9.690000</td>\n",
              "      <td>0.000000</td>\n",
              "      <td>0.538000</td>\n",
              "      <td>6.208500</td>\n",
              "      <td>77.500000</td>\n",
              "      <td>3.207450</td>\n",
              "      <td>5.000000</td>\n",
              "      <td>330.000000</td>\n",
              "      <td>19.050000</td>\n",
              "      <td>391.440000</td>\n",
              "      <td>11.360000</td>\n",
              "      <td>21.200000</td>\n",
              "    </tr>\n",
              "    <tr>\n",
              "      <th>75%</th>\n",
              "      <td>3.647422</td>\n",
              "      <td>12.500000</td>\n",
              "      <td>18.100000</td>\n",
              "      <td>0.000000</td>\n",
              "      <td>0.624000</td>\n",
              "      <td>6.623500</td>\n",
              "      <td>94.075000</td>\n",
              "      <td>5.188425</td>\n",
              "      <td>24.000000</td>\n",
              "      <td>666.000000</td>\n",
              "      <td>20.200000</td>\n",
              "      <td>396.225000</td>\n",
              "      <td>16.955000</td>\n",
              "      <td>25.000000</td>\n",
              "    </tr>\n",
              "    <tr>\n",
              "      <th>max</th>\n",
              "      <td>88.976200</td>\n",
              "      <td>100.000000</td>\n",
              "      <td>27.740000</td>\n",
              "      <td>1.000000</td>\n",
              "      <td>0.871000</td>\n",
              "      <td>8.780000</td>\n",
              "      <td>100.000000</td>\n",
              "      <td>12.126500</td>\n",
              "      <td>24.000000</td>\n",
              "      <td>711.000000</td>\n",
              "      <td>22.000000</td>\n",
              "      <td>396.900000</td>\n",
              "      <td>37.970000</td>\n",
              "      <td>50.000000</td>\n",
              "    </tr>\n",
              "  </tbody>\n",
              "</table>\n",
              "</div>"
            ],
            "text/plain": [
              "             CRIM          ZN       INDUS  ...           B       LSTAT        MDEV\n",
              "count  506.000000  506.000000  506.000000  ...  506.000000  506.000000  506.000000\n",
              "mean     3.593761   11.363636   11.136779  ...  356.674032   12.653063   22.532806\n",
              "std      8.596783   23.322453    6.860353  ...   91.294864    7.141062    9.197104\n",
              "min      0.006320    0.000000    0.460000  ...    0.320000    1.730000    5.000000\n",
              "25%      0.082045    0.000000    5.190000  ...  375.377500    6.950000   17.025000\n",
              "50%      0.256510    0.000000    9.690000  ...  391.440000   11.360000   21.200000\n",
              "75%      3.647422   12.500000   18.100000  ...  396.225000   16.955000   25.000000\n",
              "max     88.976200  100.000000   27.740000  ...  396.900000   37.970000   50.000000\n",
              "\n",
              "[8 rows x 14 columns]"
            ]
          },
          "metadata": {
            "tags": []
          },
          "execution_count": 6
        }
      ]
    },
    {
      "cell_type": "code",
      "metadata": {
        "colab": {
          "base_uri": "https://localhost:8080/",
          "height": 311
        },
        "id": "xCyzVhufi5Ay",
        "outputId": "e2397116-5f22-483d-8ade-ffa14fde8152"
      },
      "source": [
        "#histogram of price\n",
        "sns.histplot(dataset['MDEV'])\n",
        "plt.title(\"Histogram of Price\")"
      ],
      "execution_count": 7,
      "outputs": [
        {
          "output_type": "execute_result",
          "data": {
            "text/plain": [
              "Text(0.5, 1.0, 'Histogram of Price')"
            ]
          },
          "metadata": {
            "tags": []
          },
          "execution_count": 7
        },
        {
          "output_type": "display_data",
          "data": {
            "image/png": "[encoded data removed]",
            "text/plain": [
              "<Figure size 432x288 with 1 Axes>"
            ]
          },
          "metadata": {
            "tags": [],
            "needs_background": "light"
          }
        }
      ]
    },
    {
      "cell_type": "markdown",
      "metadata": {
        "id": "w5wceaIzJFzt"
      },
      "source": [
        "##Correlation Matrix"
      ]
    },
    {
      "cell_type": "code",
      "metadata": {
        "colab": {
          "base_uri": "https://localhost:8080/",
          "height": 584
        },
        "id": "wUZd0qEOmngW",
        "outputId": "e3afafb1-9451-41df-db82-2884702e7941"
      },
      "source": [
        "#price correlation matrix\n",
        "correlation_matrix = dataset.corr()\n",
        "k = 14 #number of variables for heatmap\n",
        "cols = correlation_matrix.nlargest(k,'MDEV')['MDEV'].index\n",
        "cm = np.corrcoef(dataset[cols].values.T)\n",
        "sns.set(font_scale=1)\n",
        "fig, ax = plt.subplots(figsize=(10,10))         # Sample figsize in inches\n",
        "hm = sns.heatmap(cm, cbar=True, annot=True, square=True, fmt='.01f', annot_kws={'size': 10}, yticklabels=cols.values, xticklabels=cols.values,ax=ax)\n",
        "plt.title(\"Correlation Matrix\")\n",
        "plt.show()"
      ],
      "execution_count": 8,
      "outputs": [
        {
          "output_type": "display_data",
          "data": {
            "image/png": "[encoded data removed]",
            "text/plain": [
              "<Figure size 720x720 with 2 Axes>"
            ]
          },
          "metadata": {
            "tags": []
          }
        }
      ]
    },
    {
      "cell_type": "code",
      "metadata": {
        "colab": {
          "base_uri": "https://localhost:8080/"
        },
        "id": "U4d7_HfqA6AN",
        "outputId": "c234d8e4-368d-48b3-af89-f59145def2c5"
      },
      "source": [
        "#Correlation with output variable\n",
        "cor_target = abs(correlation_matrix['MDEV'])\n",
        "\n",
        "#Selecting highly correlated features\n",
        "relevant_features = cor_target[cor_target>0.5]\n",
        "relevant_features"
      ],
      "execution_count": 9,
      "outputs": [
        {
          "output_type": "execute_result",
          "data": {
            "text/plain": [
              "RM         0.695360\n",
              "PTRATIO    0.507787\n",
              "LSTAT      0.737663\n",
              "MDEV       1.000000\n",
              "Name: MDEV, dtype: float64"
            ]
          },
          "metadata": {
            "tags": []
          },
          "execution_count": 9
        }
      ]
    },
    {
      "cell_type": "markdown",
      "metadata": {
        "id": "C2EMubn2JnZm"
      },
      "source": [
        "we should check the correlation between theses features in order to have independent features."
      ]
    },
    {
      "cell_type": "code",
      "metadata": {
        "colab": {
          "base_uri": "https://localhost:8080/"
        },
        "id": "eMdpWNLLJcKQ",
        "outputId": "526c942d-21bf-4bac-e6b4-d68a295740bd"
      },
      "source": [
        "print(dataset[[\"LSTAT\",\"PTRATIO\"]].corr())\n",
        "print(dataset[[\"RM\",\"LSTAT\"]].corr())"
      ],
      "execution_count": 10,
      "outputs": [
        {
          "output_type": "stream",
          "text": [
            "            LSTAT   PTRATIO\n",
            "LSTAT    1.000000  0.374044\n",
            "PTRATIO  0.374044  1.000000\n",
            "             RM     LSTAT\n",
            "RM     1.000000 -0.613808\n",
            "LSTAT -0.613808  1.000000\n"
          ],
          "name": "stdout"
        }
      ]
    },
    {
      "cell_type": "markdown",
      "metadata": {
        "id": "3jwm_WrgKlYh"
      },
      "source": [
        "We find out that LSTAT and RM are highly correlated, so we keep one of them that highly correlated with MDEV."
      ]
    },
    {
      "cell_type": "code",
      "metadata": {
        "colab": {
          "base_uri": "https://localhost:8080/"
        },
        "id": "jN7K2eaiKRX7",
        "outputId": "64471cc3-2f57-4dcb-de91-f1feaf5c781f"
      },
      "source": [
        "print(dataset[[\"RM\",\"MDEV\"]].corr())\n",
        "print(dataset[[\"MDEV\",\"LSTAT\"]].corr())"
      ],
      "execution_count": 11,
      "outputs": [
        {
          "output_type": "stream",
          "text": [
            "           RM     MDEV\n",
            "RM    1.00000  0.69536\n",
            "MDEV  0.69536  1.00000\n",
            "           MDEV     LSTAT\n",
            "MDEV   1.000000 -0.737663\n",
            "LSTAT -0.737663  1.000000\n"
          ],
          "name": "stdout"
        }
      ]
    },
    {
      "cell_type": "markdown",
      "metadata": {
        "id": "_wBmpnL0Kzo2"
      },
      "source": [
        "We keep LSTAT, because it's highly correlated with MDEV.\n",
        "and we should drop irrelavent columns."
      ]
    },
    {
      "cell_type": "code",
      "metadata": {
        "colab": {
          "base_uri": "https://localhost:8080/"
        },
        "id": "0eBgzG-eLR58",
        "outputId": "6303f7d3-3ffa-4b7e-a663-603380240ab9"
      },
      "source": [
        "dataset.columns"
      ],
      "execution_count": 12,
      "outputs": [
        {
          "output_type": "execute_result",
          "data": {
            "text/plain": [
              "Index(['CRIM', 'ZN', 'INDUS', 'CHAS', 'NOX', 'RM', 'AGE', 'DIS', 'RAD', 'TAX',\n",
              "       'PTRATIO', 'B', 'LSTAT', 'MDEV'],\n",
              "      dtype='object')"
            ]
          },
          "metadata": {
            "tags": []
          },
          "execution_count": 12
        }
      ]
    },
    {
      "cell_type": "code",
      "metadata": {
        "colab": {
          "base_uri": "https://localhost:8080/",
          "height": 202
        },
        "id": "YTrem5e3p4yp",
        "outputId": "a3b1841b-3d18-4a22-e4d1-96e5c28e7ef5"
      },
      "source": [
        "dataset.drop(labels=['CRIM', 'ZN', 'INDUS', 'CHAS', 'NOX', 'RM', 'AGE', 'DIS', 'RAD', 'TAX','B'], axis=1, inplace=True) # remove irrelavent columns features\n",
        "dataset.head()"
      ],
      "execution_count": 13,
      "outputs": [
        {
          "output_type": "execute_result",
          "data": {
            "text/html": [
              "<div>\n",
              "<style scoped>\n",
              "    .dataframe tbody tr th:only-of-type {\n",
              "        vertical-align: middle;\n",
              "    }\n",
              "\n",
              "    .dataframe tbody tr th {\n",
              "        vertical-align: top;\n",
              "    }\n",
              "\n",
              "    .dataframe thead th {\n",
              "        text-align: right;\n",
              "    }\n",
              "</style>\n",
              "<table border=\"1\" class=\"dataframe\">\n",
              "  <thead>\n",
              "    <tr style=\"text-align: right;\">\n",
              "      <th></th>\n",
              "      <th>PTRATIO</th>\n",
              "      <th>LSTAT</th>\n",
              "      <th>MDEV</th>\n",
              "    </tr>\n",
              "  </thead>\n",
              "  <tbody>\n",
              "    <tr>\n",
              "      <th>0</th>\n",
              "      <td>15.3</td>\n",
              "      <td>4.98</td>\n",
              "      <td>24.0</td>\n",
              "    </tr>\n",
              "    <tr>\n",
              "      <th>1</th>\n",
              "      <td>17.8</td>\n",
              "      <td>9.14</td>\n",
              "      <td>21.6</td>\n",
              "    </tr>\n",
              "    <tr>\n",
              "      <th>2</th>\n",
              "      <td>17.8</td>\n",
              "      <td>4.03</td>\n",
              "      <td>34.7</td>\n",
              "    </tr>\n",
              "    <tr>\n",
              "      <th>3</th>\n",
              "      <td>18.7</td>\n",
              "      <td>2.94</td>\n",
              "      <td>33.4</td>\n",
              "    </tr>\n",
              "    <tr>\n",
              "      <th>4</th>\n",
              "      <td>18.7</td>\n",
              "      <td>5.33</td>\n",
              "      <td>36.2</td>\n",
              "    </tr>\n",
              "  </tbody>\n",
              "</table>\n",
              "</div>"
            ],
            "text/plain": [
              "   PTRATIO  LSTAT  MDEV\n",
              "0     15.3   4.98  24.0\n",
              "1     17.8   9.14  21.6\n",
              "2     17.8   4.03  34.7\n",
              "3     18.7   2.94  33.4\n",
              "4     18.7   5.33  36.2"
            ]
          },
          "metadata": {
            "tags": []
          },
          "execution_count": 13
        }
      ]
    },
    {
      "cell_type": "code",
      "metadata": {
        "colab": {
          "base_uri": "https://localhost:8080/",
          "height": 294
        },
        "id": "C_l-nbcXsiij",
        "outputId": "81924981-69a9-4002-af29-a72047df9718"
      },
      "source": [
        "dataset.describe()"
      ],
      "execution_count": 14,
      "outputs": [
        {
          "output_type": "execute_result",
          "data": {
            "text/html": [
              "<div>\n",
              "<style scoped>\n",
              "    .dataframe tbody tr th:only-of-type {\n",
              "        vertical-align: middle;\n",
              "    }\n",
              "\n",
              "    .dataframe tbody tr th {\n",
              "        vertical-align: top;\n",
              "    }\n",
              "\n",
              "    .dataframe thead th {\n",
              "        text-align: right;\n",
              "    }\n",
              "</style>\n",
              "<table border=\"1\" class=\"dataframe\">\n",
              "  <thead>\n",
              "    <tr style=\"text-align: right;\">\n",
              "      <th></th>\n",
              "      <th>PTRATIO</th>\n",
              "      <th>LSTAT</th>\n",
              "      <th>MDEV</th>\n",
              "    </tr>\n",
              "  </thead>\n",
              "  <tbody>\n",
              "    <tr>\n",
              "      <th>count</th>\n",
              "      <td>506.000000</td>\n",
              "      <td>506.000000</td>\n",
              "      <td>506.000000</td>\n",
              "    </tr>\n",
              "    <tr>\n",
              "      <th>mean</th>\n",
              "      <td>18.455534</td>\n",
              "      <td>12.653063</td>\n",
              "      <td>22.532806</td>\n",
              "    </tr>\n",
              "    <tr>\n",
              "      <th>std</th>\n",
              "      <td>2.164946</td>\n",
              "      <td>7.141062</td>\n",
              "      <td>9.197104</td>\n",
              "    </tr>\n",
              "    <tr>\n",
              "      <th>min</th>\n",
              "      <td>12.600000</td>\n",
              "      <td>1.730000</td>\n",
              "      <td>5.000000</td>\n",
              "    </tr>\n",
              "    <tr>\n",
              "      <th>25%</th>\n",
              "      <td>17.400000</td>\n",
              "      <td>6.950000</td>\n",
              "      <td>17.025000</td>\n",
              "    </tr>\n",
              "    <tr>\n",
              "      <th>50%</th>\n",
              "      <td>19.050000</td>\n",
              "      <td>11.360000</td>\n",
              "      <td>21.200000</td>\n",
              "    </tr>\n",
              "    <tr>\n",
              "      <th>75%</th>\n",
              "      <td>20.200000</td>\n",
              "      <td>16.955000</td>\n",
              "      <td>25.000000</td>\n",
              "    </tr>\n",
              "    <tr>\n",
              "      <th>max</th>\n",
              "      <td>22.000000</td>\n",
              "      <td>37.970000</td>\n",
              "      <td>50.000000</td>\n",
              "    </tr>\n",
              "  </tbody>\n",
              "</table>\n",
              "</div>"
            ],
            "text/plain": [
              "          PTRATIO       LSTAT        MDEV\n",
              "count  506.000000  506.000000  506.000000\n",
              "mean    18.455534   12.653063   22.532806\n",
              "std      2.164946    7.141062    9.197104\n",
              "min     12.600000    1.730000    5.000000\n",
              "25%     17.400000    6.950000   17.025000\n",
              "50%     19.050000   11.360000   21.200000\n",
              "75%     20.200000   16.955000   25.000000\n",
              "max     22.000000   37.970000   50.000000"
            ]
          },
          "metadata": {
            "tags": []
          },
          "execution_count": 14
        }
      ]
    },
    {
      "cell_type": "code",
      "metadata": {
        "id": "hBGu_d4itQMu"
      },
      "source": [
        "features = dataset.drop(columns='MDEV')\n",
        "targets = pd.DataFrame(dataset['MDEV'])"
      ],
      "execution_count": 15,
      "outputs": []
    },
    {
      "cell_type": "code",
      "metadata": {
        "colab": {
          "base_uri": "https://localhost:8080/"
        },
        "id": "RFnfSYoQtqga",
        "outputId": "83c9fc68-72f3-48de-b783-f7c4f1a221cd"
      },
      "source": [
        "print(features.shape)\n",
        "print(targets.shape)"
      ],
      "execution_count": 16,
      "outputs": [
        {
          "output_type": "stream",
          "text": [
            "(506, 2)\n",
            "(506, 1)\n"
          ],
          "name": "stdout"
        }
      ]
    },
    {
      "cell_type": "markdown",
      "metadata": {
        "id": "3nnv8tNfN1Bn"
      },
      "source": [
        "Both of these two features have negative correlation with MDEV, so as these features increase, the amount of MDEV decreases"
      ]
    },
    {
      "cell_type": "code",
      "metadata": {
        "colab": {
          "base_uri": "https://localhost:8080/",
          "height": 354
        },
        "id": "nFmCjb6a-WV_",
        "outputId": "38d4e61b-8213-4079-ff60-3d6f28a9050c"
      },
      "source": [
        "plt.figure(figsize=(20, 5))\n",
        "\n",
        "# i: index\n",
        "for i, col in enumerate(features.columns):\n",
        "    # 3 plots here hence 1, 3\n",
        "    plt.subplot(1, 3, i+1)\n",
        "    x = dataset[col]\n",
        "    y = targets\n",
        "    plt.plot(x, y, 'o')\n",
        "    # Create regression line\n",
        "    # plt.plot(np.unique(x), np.poly1d(np.polyfit(x, y, 1)) ///?\n",
        "    plt.title(col)\n",
        "    plt.xlabel(col)\n",
        "    plt.ylabel('prices')"
      ],
      "execution_count": 17,
      "outputs": [
        {
          "output_type": "display_data",
          "data": {
            "image/png": "[encoded data removed]",
            "text/plain": [
              "<Figure size 1440x360 with 2 Axes>"
            ]
          },
          "metadata": {
            "tags": []
          }
        }
      ]
    },
    {
      "cell_type": "code",
      "metadata": {
        "id": "tLrvc5B-spGq"
      },
      "source": [
        "(X_train ,X_test, y_train, y_test) = train_test_split(features, targets, test_size=0.2, random_state=42, shuffle=False)"
      ],
      "execution_count": 18,
      "outputs": []
    },
    {
      "cell_type": "code",
      "metadata": {
        "colab": {
          "base_uri": "https://localhost:8080/"
        },
        "id": "1N9bVDyJuNtA",
        "outputId": "3757825e-4e1a-4305-d4e9-fb4ff0dfb9b3"
      },
      "source": [
        "print(\"X_train : \",X_train.shape)\n",
        "print(\"X_test : \",X_test.shape)\n",
        "print(\"y_train : \",y_train.shape)\n",
        "print(\"y_test : \",y_test.shape)\n",
        "print(\"type of X_train : \",type(X_train))"
      ],
      "execution_count": 19,
      "outputs": [
        {
          "output_type": "stream",
          "text": [
            "X_train :  (404, 2)\n",
            "X_test :  (102, 2)\n",
            "y_train :  (404, 1)\n",
            "y_test :  (102, 1)\n",
            "type of X_train :  <class 'pandas.core.frame.DataFrame'>\n"
          ],
          "name": "stdout"
        }
      ]
    },
    {
      "cell_type": "markdown",
      "metadata": {
        "id": "NwUeQdkyuzu7"
      },
      "source": [
        "##Standardization"
      ]
    },
    {
      "cell_type": "code",
      "metadata": {
        "id": "fgshx5lpuc-7"
      },
      "source": [
        "from sklearn.preprocessing import StandardScaler\n",
        "sc = StandardScaler()\n",
        "X_train = sc.fit_transform(X_train)\n",
        "X_test = sc.transform(X_test)"
      ],
      "execution_count": 20,
      "outputs": []
    },
    {
      "cell_type": "code",
      "metadata": {
        "colab": {
          "base_uri": "https://localhost:8080/"
        },
        "id": "XCu_XCqp45ue",
        "outputId": "89226fe3-d90b-48f1-f238-fff082358cd2"
      },
      "source": [
        "X_train"
      ],
      "execution_count": 21,
      "outputs": [
        {
          "output_type": "execute_result",
          "data": {
            "text/plain": [
              "array([[-1.22944106e+00, -9.35437559e-01],\n",
              "       [-1.02025525e-01, -3.25013957e-01],\n",
              "       [-1.02025525e-01, -1.07483718e+00],\n",
              "       [ 3.03844068e-01, -1.23477990e+00],\n",
              "       [ 3.03844068e-01, -8.84079804e-01],\n",
              "       [ 3.03844068e-01, -9.01688177e-01],\n",
              "       [-1.27453768e+00,  1.57748940e-01],\n",
              "       [-1.27453768e+00,  1.14381784e+00],\n",
              "       [-1.27453768e+00,  2.72563669e+00],\n",
              "       [-1.27453768e+00,  8.43008128e-01],\n",
              "       [-1.27453768e+00,  1.33457521e+00],\n",
              "       [-1.27453768e+00,  2.81007552e-01],\n",
              "       [-1.27453768e+00,  6.39044473e-01],\n",
              "       [ 1.34106636e+00, -4.54142026e-01],\n",
              "       [ 1.34106636e+00, -1.60669141e-01],\n",
              "       [ 1.34106636e+00, -4.23327373e-01],\n",
              "       [ 1.34106636e+00, -7.00659250e-01],\n",
              "       [ 1.34106636e+00,  4.86438572e-01],\n",
              "       [ 1.34106636e+00,  4.91639725e-02],\n",
              "       [ 1.34106636e+00, -1.09979690e-02],\n",
              "       [ 1.34106636e+00,  1.41821498e+00],\n",
              "       [ 1.34106636e+00,  3.63179960e-01],\n",
              "       [ 1.34106636e+00,  1.08072117e+00],\n",
              "       [ 1.34106636e+00,  1.25093544e+00],\n",
              "       [ 1.34106636e+00,  7.25618974e-01],\n",
              "       [ 1.34106636e+00,  7.56433627e-01],\n",
              "       [ 1.34106636e+00,  5.06981674e-01],\n",
              "       [ 1.34106636e+00,  8.69420688e-01],\n",
              "       [ 1.34106636e+00,  2.12041424e-01],\n",
              "       [ 1.34106636e+00,  9.17175409e-02],\n",
              "       [ 1.34106636e+00,  1.65005856e+00],\n",
              "       [ 1.34106636e+00,  2.47258170e-01],\n",
              "       [ 1.34106636e+00,  2.39988179e+00],\n",
              "       [ 1.34106636e+00,  1.02642868e+00],\n",
              "       [ 1.34106636e+00,  1.31843420e+00],\n",
              "       [ 5.29327175e-01, -2.45776278e-01],\n",
              "       [ 5.29327175e-01,  8.07776854e-03],\n",
              "       [ 5.29327175e-01, -3.79306440e-01],\n",
              "       [ 5.29327175e-01, -1.79744878e-01],\n",
              "       [ 1.23457582e-01, -1.03228361e+00],\n",
              "       [ 1.23457582e-01, -1.37564689e+00],\n",
              "       [-5.69289032e-02, -9.55980661e-01],\n",
              "       [-5.69289032e-02, -8.13646311e-01],\n",
              "       [-5.69289032e-02, -5.74465909e-01],\n",
              "       [-5.69289032e-02, -2.64852015e-01],\n",
              "       [-5.69289032e-02, -1.68005963e-01],\n",
              "       [-5.69289032e-02,  4.10135622e-01],\n",
              "       [-5.69289032e-02,  1.09246008e+00],\n",
              "       [-5.69289032e-02,  2.85476476e+00],\n",
              "       [-5.69289032e-02,  7.10945330e-01],\n",
              "       [-5.52991738e-01,  3.07420112e-01],\n",
              "       [-5.52991738e-01, -2.82460388e-01],\n",
              "       [-5.52991738e-01, -8.91416626e-01],\n",
              "       [-5.52991738e-01, -4.29196831e-01],\n",
              "       [ 1.38616298e+00,  5.05514310e-01],\n",
              "       [-5.69289032e-02, -9.60382754e-01],\n",
              "       [-3.27508632e-01, -8.19515769e-01],\n",
              "       [-1.31963430e+00, -1.08657609e+00],\n",
              "       [ 7.54810282e-01, -6.59573046e-01],\n",
              "       [ 7.54810282e-01, -3.13275041e-01],\n",
              "       [ 7.54810282e-01,  2.63399179e-01],\n",
              "       [ 7.54810282e-01,  4.52689190e-01],\n",
              "       [ 7.54810282e-01, -6.78648784e-01],\n",
              "       [ 7.54810282e-01, -2.72188837e-01],\n",
              "       [ 2.58747446e-01, -4.84956679e-01],\n",
              "       [-8.68668088e-01, -9.80925856e-01],\n",
              "       [-8.68668088e-01, -1.63603870e-01],\n",
              "       [ 3.94037311e-01, -4.77619857e-01],\n",
              "       [ 3.94037311e-01,  2.54594992e-01],\n",
              "       [ 3.94037311e-01, -3.76371712e-01],\n",
              "       [ 5.29327175e-01, -6.80116148e-01],\n",
              "       [ 5.29327175e-01, -2.16428989e-01],\n",
              "       [ 5.29327175e-01, -8.56199880e-01],\n",
              "       [ 5.29327175e-01, -5.59792265e-01],\n",
              "       [ 3.03844068e-01, -6.71311962e-01],\n",
              "       [ 3.03844068e-01, -3.54361245e-01],\n",
              "       [ 3.03844068e-01,  9.02501765e-02],\n",
              "       [ 3.03844068e-01, -1.59201776e-01],\n",
              "       [ 3.03844068e-01,  1.44542660e-01],\n",
              "       [ 3.03844068e-01, -3.30883414e-01],\n",
              "       [ 4.39133932e-01, -8.89949261e-01],\n",
              "       [ 4.39133932e-01, -6.06747927e-01],\n",
              "       [ 4.39133932e-01, -6.80116148e-01],\n",
              "       [ 4.39133932e-01, -5.64194358e-01],\n",
              "       [ 2.13650825e-01, -2.54580464e-01],\n",
              "       [ 2.13650825e-01, -7.07996072e-01],\n",
              "       [ 2.13650825e-01,  2.20845611e-01],\n",
              "       [ 2.13650825e-01, -4.27729467e-01],\n",
              "       [-1.02025525e-01, -8.59134608e-01],\n",
              "       [-1.02025525e-01, -8.29787320e-01],\n",
              "       [-1.02025525e-01, -3.73436983e-01],\n",
              "       [-1.02025525e-01, -4.62946213e-01],\n",
              "       [ 7.83609609e-02, -4.68815671e-01],\n",
              "       [ 7.83609609e-02, -7.54951734e-01],\n",
              "       [ 7.83609609e-02, -1.12246115e-01],\n",
              "       [-1.18322818e-02, -6.90387699e-01],\n",
              "       [-1.18322818e-02, -2.19378246e-03],\n",
              "       [-1.18322818e-02, -1.04842462e+00],\n",
              "       [-1.18322818e-02, -1.14233594e+00],\n",
              "       [-1.18322818e-02, -7.57886463e-01],\n",
              "       [ 1.29596974e+00, -2.83927753e-01],\n",
              "       [ 1.29596974e+00, -5.40716528e-01],\n",
              "       [ 1.29596974e+00, -1.06376657e-01],\n",
              "       [ 1.29596974e+00,  3.05952747e-01],\n",
              "       [ 1.29596974e+00,  1.43075296e-01],\n",
              "       [ 1.29596974e+00,  7.50564169e-01],\n",
              "       [ 1.29596974e+00,  1.07191698e+00],\n",
              "       [ 1.29596974e+00,  4.01331435e-01],\n",
              "       [ 1.29596974e+00,  1.34271109e-01],\n",
              "       [ 1.29596974e+00,  6.15566642e-01],\n",
              "       [ 1.29596974e+00,  2.41388713e-01],\n",
              "       [-1.02025525e-01, -1.75342785e-01],\n",
              "       [-1.02025525e-01,  7.12412694e-01],\n",
              "       [-1.02025525e-01,  8.41540764e-01],\n",
              "       [-1.02025525e-01, -1.32789217e-01],\n",
              "       [-1.02025525e-01,  6.46381295e-01],\n",
              "       [-1.02025525e-01,  1.00521728e-01],\n",
              "       [-1.02025525e-01, -1.54799683e-01],\n",
              "       [-1.02025525e-01,  5.89154082e-01],\n",
              "       [-1.02025525e-01,  3.30897943e-01],\n",
              "       [ 4.84230553e-01,  4.42417639e-01],\n",
              "       [ 4.84230553e-01,  4.27743995e-01],\n",
              "       [ 4.84230553e-01,  9.64799376e-01],\n",
              "       [ 4.84230553e-01,  2.06238797e+00],\n",
              "       [ 4.84230553e-01,  9.13441621e-01],\n",
              "       [ 4.84230553e-01,  5.06981674e-01],\n",
              "       [ 4.84230553e-01,  2.33385039e+00],\n",
              "       [ 1.43125960e+00,  8.56214408e-01],\n",
              "       [ 1.43125960e+00,  5.92088811e-01],\n",
              "       [ 1.43125960e+00,  1.02496132e+00],\n",
              "       [ 1.43125960e+00,  1.82694135e-01],\n",
              "       [ 1.43125960e+00,  1.32803745e-01],\n",
              "       [ 1.43125960e+00, -3.44757999e-02],\n",
              "       [ 1.43125960e+00,  5.39263692e-01],\n",
              "       [ 1.43125960e+00,  8.73822781e-01],\n",
              "       [ 1.43125960e+00,  8.22465026e-01],\n",
              "       [ 1.43125960e+00,  8.13660840e-01],\n",
              "       [ 1.43125960e+00,  4.74699657e-01],\n",
              "       [ 1.43125960e+00,  1.46223592e+00],\n",
              "       [ 1.43125960e+00,  1.04256969e+00],\n",
              "       [ 1.43125960e+00,  1.87896741e+00],\n",
              "       [ 1.43125960e+00,  3.38301595e+00],\n",
              "       [-1.50002079e+00,  2.26928635e+00],\n",
              "       [-1.50002079e+00,  2.21059178e+00],\n",
              "       [-1.50002079e+00,  2.63172537e+00],\n",
              "       [-1.50002079e+00,  2.41308807e+00],\n",
              "       [-1.50002079e+00,  7.76976729e-01],\n",
              "       [-1.50002079e+00,  2.66694211e+00],\n",
              "       [-1.50002079e+00,  2.48939102e+00],\n",
              "       [-1.50002079e+00,  1.48131165e+00],\n",
              "       [-1.50002079e+00,  4.02798800e-01],\n",
              "       [-1.50002079e+00,  2.82474917e-01],\n",
              "       [-1.50002079e+00,  1.12260643e-01],\n",
              "       [-1.50002079e+00,  6.50783388e-01],\n",
              "       [-1.50002079e+00,  5.52469971e-01],\n",
              "       [-1.50002079e+00,  5.37796327e-01],\n",
              "       [-1.50002079e+00,  7.02141143e-01],\n",
              "       [-1.50002079e+00, -9.92664771e-01],\n",
              "       [-1.50002079e+00, -7.22669717e-01],\n",
              "       [-1.50002079e+00, -5.81802732e-01],\n",
              "       [-1.50002079e+00, -8.59134608e-01],\n",
              "       [-1.50002079e+00, -1.41233100e+00],\n",
              "       [-1.50002079e+00, -1.38445107e+00],\n",
              "       [-1.50002079e+00, -1.17902005e+00],\n",
              "       [-1.50002079e+00,  4.18271504e-02],\n",
              "       [-1.50002079e+00, -2.26700540e-01],\n",
              "       [-1.50002079e+00, -1.12326021e+00],\n",
              "       [-1.50002079e+00,  1.15195372e-01],\n",
              "       [-1.50002079e+00, -3.74105287e-02],\n",
              "       [-1.50002079e+00, -5.12851132e-03],\n",
              "       [-1.50002079e+00,  4.51221826e-01],\n",
              "       [-1.50002079e+00,  9.90543631e-02],\n",
              "       [-6.43184981e-01,  4.89373301e-01],\n",
              "       [-6.43184981e-01, -3.39687601e-01],\n",
              "       [-6.43184981e-01, -2.51645735e-01],\n",
              "       [-6.43184981e-01, -8.84079804e-01],\n",
              "       [-6.43184981e-01, -1.82679607e-01],\n",
              "       [-6.43184981e-01, -7.43212819e-01],\n",
              "       [-6.43184981e-01, -6.50768860e-01],\n",
              "       [-1.02025525e-01, -9.26633372e-01],\n",
              "       [-1.02025525e-01, -5.56857536e-01],\n",
              "       [-1.02025525e-01, -2.79525659e-01],\n",
              "       [-1.02025525e-01, -9.58915390e-01],\n",
              "       [-1.02025525e-01, -8.32722049e-01],\n",
              "       [-1.02025525e-01,  3.85190427e-01],\n",
              "       [-1.02025525e-01,  2.63399179e-01],\n",
              "       [-1.02025525e-01, -1.01320787e+00],\n",
              "       [-1.27453768e+00, -6.85985606e-01],\n",
              "       [-1.27453768e+00, -9.97066865e-01],\n",
              "       [-1.27453768e+00, -8.75275617e-01],\n",
              "       [-1.27453768e+00, -9.17829186e-01],\n",
              "       [-1.27453768e+00, -9.77991127e-01],\n",
              "       [-1.27453768e+00, -1.24505145e+00],\n",
              "       [-1.09415120e+00, -9.28100737e-01],\n",
              "       [-1.09415120e+00, -1.02347942e+00],\n",
              "       [-1.63531065e+00, -1.23037781e+00],\n",
              "       [-2.44704984e+00, -1.06750036e+00],\n",
              "       [-2.44704984e+00, -4.02784271e-01],\n",
              "       [-2.44704984e+00, -6.94789793e-01],\n",
              "       [-4.62798496e-01, -9.97066865e-01],\n",
              "       [-4.62798496e-01, -1.01320787e+00],\n",
              "       [-1.50002079e+00, -5.75933274e-01],\n",
              "       [-1.50002079e+00, -1.20983471e+00],\n",
              "       [-1.50002079e+00, -1.10711920e+00],\n",
              "       [-1.50002079e+00, -1.24358409e+00],\n",
              "       [ 2.58747446e-01, -7.11599106e-02],\n",
              "       [ 2.58747446e-01, -5.64862663e-02],\n",
              "       [ 2.58747446e-01,  9.83875113e-01],\n",
              "       [ 2.58747446e-01,  4.84971208e-01],\n",
              "       [ 2.58747446e-01,  1.72195942e+00],\n",
              "       [ 2.58747446e-01,  8.67953323e-01],\n",
              "       [ 2.58747446e-01,  1.85255485e+00],\n",
              "       [ 2.58747446e-01,  6.86000134e-01],\n",
              "       [ 2.58747446e-01, -2.89797210e-01],\n",
              "       [ 2.58747446e-01,  2.66987684e+00],\n",
              "       [ 2.58747446e-01, -2.76590931e-01],\n",
              "       [-7.33378224e-01,  3.16224298e-01],\n",
              "       [-7.33378224e-01, -2.44308913e-01],\n",
              "       [-7.33378224e-01,  9.63332011e-01],\n",
              "       [-7.33378224e-01, -1.25452394e-01],\n",
              "       [-2.82412010e-01, -2.41374184e-01],\n",
              "       [-2.82412010e-01,  1.48277902e+00],\n",
              "       [-2.82412010e-01, -2.09092167e-01],\n",
              "       [-2.82412010e-01, -5.50988079e-01],\n",
              "       [-2.82412010e-01, -1.05869617e+00],\n",
              "       [-2.82412010e-01, -9.86795314e-01],\n",
              "       [-2.82412010e-01, -1.20689998e+00],\n",
              "       [-2.82412010e-01, -7.32941268e-01],\n",
              "       [-2.82412010e-01, -1.09097819e+00],\n",
              "       [-2.82412010e-01, -1.11445602e+00],\n",
              "       [-2.82412010e-01,  4.32945148e-02],\n",
              "       [-2.82412010e-01, -8.95818719e-01],\n",
              "       [-2.82412010e-01, -1.30374603e+00],\n",
              "       [-2.82412010e-01, -1.08657609e+00],\n",
              "       [-2.82412010e-01, -4.84956679e-01],\n",
              "       [-2.82412010e-01, -6.96925462e-02],\n",
              "       [-2.82412010e-01, -2.66319380e-01],\n",
              "       [-2.82412010e-01, -9.72121669e-01],\n",
              "       [-6.43184981e-01, -7.32941268e-01],\n",
              "       [-6.43184981e-01, -5.84737460e-01],\n",
              "       [-6.43184981e-01,  3.67567525e-03],\n",
              "       [-6.43184981e-01,  1.53346847e-01],\n",
              "       [-6.43184981e-01, -1.98021556e-02],\n",
              "       [-6.43184981e-01, -9.04622906e-01],\n",
              "       [ 4.84230553e-01,  1.68020491e-01],\n",
              "       [ 4.84230553e-01,  1.04256969e+00],\n",
              "       [ 4.84230553e-01, -3.22079228e-01],\n",
              "       [ 4.84230553e-01, -1.76810149e-01],\n",
              "       [ 4.84230553e-01, -2.69254108e-01],\n",
              "       [ 4.84230553e-01, -7.03593979e-01],\n",
              "       [ 4.84230553e-01, -8.00440031e-01],\n",
              "       [ 4.84230553e-01, -1.13940121e+00],\n",
              "       [ 4.84230553e-01, -1.14820540e+00],\n",
              "       [ 4.84230553e-01, -1.14673804e+00],\n",
              "       [-7.33378224e-01, -7.02126615e-01],\n",
              "       [-7.33378224e-01, -3.08872948e-01],\n",
              "       [-9.58861331e-01, -1.20983471e+00],\n",
              "       [-2.26666335e+00, -9.14894457e-01],\n",
              "       [-2.26666335e+00, -5.23108154e-01],\n",
              "       [-2.26666335e+00, -6.53703589e-01],\n",
              "       [-2.26666335e+00, -2.58982557e-01],\n",
              "       [-2.26666335e+00, -6.00878469e-01],\n",
              "       [-2.26666335e+00, -7.98972667e-01],\n",
              "       [-2.26666335e+00, -1.54000623e-02],\n",
              "       [-2.26666335e+00, -4.77619857e-01],\n",
              "       [-2.26666335e+00, -1.32789217e-01],\n",
              "       [-2.26666335e+00,  5.04046945e-01],\n",
              "       [-2.26666335e+00, -5.74465909e-01],\n",
              "       [-2.26666335e+00, -1.20249788e+00],\n",
              "       [ 2.58747446e-01,  3.36767400e-01],\n",
              "       [ 2.58747446e-01,  2.41388713e-01],\n",
              "       [ 2.58747446e-01, -6.99191886e-01],\n",
              "       [ 2.58747446e-01, -5.31912341e-01],\n",
              "       [ 2.58747446e-01, -7.00659250e-01],\n",
              "       [-1.92218767e-01, -1.14820540e+00],\n",
              "       [-1.92218767e-01, -1.22891044e+00],\n",
              "       [-1.92218767e-01, -7.78429565e-01],\n",
              "       [-1.92218767e-01, -1.05576144e+00],\n",
              "       [-1.92218767e-01, -6.11150020e-01],\n",
              "       [-1.40982754e+00, -9.54513296e-01],\n",
              "       [-1.40982754e+00, -1.11445602e+00],\n",
              "       [-1.40982754e+00, -9.92664771e-01],\n",
              "       [-1.40982754e+00, -1.22450835e+00],\n",
              "       [-1.99608362e+00, -1.20249788e+00],\n",
              "       [-1.22944106e+00, -5.14303968e-01],\n",
              "       [-1.22944106e+00, -4.58544120e-01],\n",
              "       [ 7.83609609e-02,  2.31117162e-01],\n",
              "       [-6.43184981e-01, -6.18486842e-01],\n",
              "       [-6.43184981e-01, -5.50988079e-01],\n",
              "       [-6.43184981e-01, -2.70721473e-01],\n",
              "       [ 5.29327175e-01, -1.17755269e+00],\n",
              "       [ 5.29327175e-01, -1.14380331e+00],\n",
              "       [ 5.29327175e-01, -9.76523763e-01],\n",
              "       [-9.13764710e-01, -4.07186365e-01],\n",
              "       [-9.13764710e-01, -1.40126039e-01],\n",
              "       [-9.13764710e-01, -7.46147548e-01],\n",
              "       [-9.13764710e-01, -5.81802732e-01],\n",
              "       [-9.13764710e-01,  6.58120210e-01],\n",
              "       [-1.45492417e+00, -9.36904923e-01],\n",
              "       [-1.45492417e+00, -9.70654305e-01],\n",
              "       [-1.45492417e+00, -7.75494836e-01],\n",
              "       [-8.68668088e-01, -2.72188837e-01],\n",
              "       [-8.68668088e-01, -3.93980085e-01],\n",
              "       [-8.68668088e-01, -9.53045932e-01],\n",
              "       [ 1.68554204e-01, -6.49301495e-01],\n",
              "       [ 1.68554204e-01, -3.55828610e-01],\n",
              "       [ 1.68554204e-01, -7.16800259e-01],\n",
              "       [ 1.68554204e-01, -5.61259630e-01],\n",
              "       [ 1.68554204e-01, -1.00000159e+00],\n",
              "       [ 1.68554204e-01, -2.03222709e-01],\n",
              "       [ 1.68554204e-01,  1.88563593e-01],\n",
              "       [ 1.68554204e-01, -7.88701116e-01],\n",
              "       [ 1.68554204e-01,  5.35660658e-02],\n",
              "       [ 1.68554204e-01, -5.06967146e-01],\n",
              "       [ 1.68554204e-01, -3.04470855e-01],\n",
              "       [ 1.68554204e-01,  2.12840484e-02],\n",
              "       [ 1.68554204e-01,  1.02349395e+00],\n",
              "       [ 1.68554204e-01,  6.72793854e-01],\n",
              "       [ 1.68554204e-01, -1.45995496e-01],\n",
              "       [ 1.68554204e-01,  2.01769873e-01],\n",
              "       [ 7.09713660e-01, -6.09682656e-01],\n",
              "       [ 7.09713660e-01, -6.58105682e-01],\n",
              "       [ 7.09713660e-01, -5.36314434e-01],\n",
              "       [ 7.09713660e-01,  5.65007947e-02],\n",
              "       [ 7.09713660e-01, -7.68158014e-01],\n",
              "       [ 7.09713660e-01, -9.20763914e-01],\n",
              "       [ 7.09713660e-01, -7.63755921e-01],\n",
              "       [ 7.09713660e-01,  2.10574060e-01],\n",
              "       [-5.07895117e-01, -2.03222709e-01],\n",
              "       [-5.07895117e-01, -5.89139554e-01],\n",
              "       [-5.07895117e-01, -3.32350779e-01],\n",
              "       [-5.07895117e-01,  1.57748940e-01],\n",
              "       [-5.07895117e-01, -5.17238697e-01],\n",
              "       [ 9.80293389e-01, -8.32722049e-01],\n",
              "       [ 9.80293389e-01, -6.75714055e-01],\n",
              "       [ 9.80293389e-01, -4.90826137e-01],\n",
              "       [ 9.80293389e-01, -2.28167904e-01],\n",
              "       [ 9.80293389e-01, -1.16648208e-01],\n",
              "       [ 9.80293389e-01, -4.17457916e-01],\n",
              "       [ 9.80293389e-01, -2.36972091e-01],\n",
              "       [ 9.80293389e-01, -3.03003490e-01],\n",
              "       [-1.13924782e+00, -8.60601973e-01],\n",
              "       [-9.58861331e-01, -3.96914814e-01],\n",
              "       [-1.92218767e-01, -6.12617385e-01],\n",
              "       [-1.92218767e-01, -9.89730043e-01],\n",
              "       [ 3.48940689e-01, -1.21050301e-01],\n",
              "       [ 3.48940689e-01,  1.92965686e-01],\n",
              "       [-5.69289032e-02, -7.32941268e-01],\n",
              "       [-4.62798496e-01, -7.87233752e-01],\n",
              "       [ 7.54810282e-01, -8.01907396e-01],\n",
              "       [ 7.54810282e-01, -7.88701116e-01],\n",
              "       [ 1.23457582e-01, -8.60601973e-01],\n",
              "       [ 1.23457582e-01, -5.23108154e-01],\n",
              "       [-4.62798496e-01, -1.00587105e+00],\n",
              "       [ 1.79203257e+00, -4.84956679e-01],\n",
              "       [ 1.79203257e+00, -8.48863058e-01],\n",
              "       [ 9.80293389e-01,  9.16376350e-01],\n",
              "       [ 9.80293389e-01,  2.81007552e-01],\n",
              "       [ 9.80293389e-01,  1.83493195e-02],\n",
              "       [ 9.80293389e-01,  1.92965686e-01],\n",
              "       [ 9.80293389e-01, -5.23108154e-01],\n",
              "       [ 9.80293389e-01,  4.16005080e-01],\n",
              "       [ 9.80293389e-01, -1.70940692e-01],\n",
              "       [ 9.80293389e-01,  4.82036479e-01],\n",
              "       [ 9.80293389e-01, -8.89949261e-01],\n",
              "       [ 9.80293389e-01, -6.21421571e-01],\n",
              "       [ 9.80293389e-01,  3.88125155e-01],\n",
              "       [ 9.80293389e-01,  2.89811739e-01],\n",
              "       [ 9.80293389e-01, -1.18782424e+00],\n",
              "       [ 9.80293389e-01, -1.11885811e+00],\n",
              "       [ 9.80293389e-01, -1.23184517e+00],\n",
              "       [ 9.80293389e-01, -2.67786744e-01],\n",
              "       [ 9.80293389e-01, -3.63165432e-01],\n",
              "       [ 9.80293389e-01,  3.43584107e+00],\n",
              "       [ 9.80293389e-01,  3.90539769e+00],\n",
              "       [ 9.80293389e-01,  3.05952747e-01],\n",
              "       [ 9.80293389e-01,  1.74396989e+00],\n",
              "       [ 9.80293389e-01,  1.45049700e+00],\n",
              "       [ 9.80293389e-01,  1.81000129e+00],\n",
              "       [ 9.80293389e-01,  1.52973468e+00],\n",
              "       [ 9.80293389e-01,  8.59149137e-01],\n",
              "       [ 9.80293389e-01,  1.42701917e+00],\n",
              "       [ 9.80293389e-01,  1.79679501e+00],\n",
              "       [ 9.80293389e-01,  1.93766199e+00],\n",
              "       [ 9.80293389e-01,  2.82835220e+00],\n",
              "       [ 9.80293389e-01,  2.85476476e+00],\n",
              "       [ 9.80293389e-01,  2.48352156e+00],\n",
              "       [ 9.80293389e-01,  3.02791376e+00],\n",
              "       [ 9.80293389e-01,  2.82688484e+00],\n",
              "       [ 9.80293389e-01,  1.39326979e+00],\n",
              "       [ 9.80293389e-01,  8.44475493e-01],\n",
              "       [ 9.80293389e-01,  1.08659062e+00],\n",
              "       [ 9.80293389e-01,  2.10200681e+00],\n",
              "       [ 9.80293389e-01,  5.59806794e-01],\n",
              "       [ 9.80293389e-01,  7.32955796e-01],\n",
              "       [ 9.80293389e-01,  8.45942857e-01],\n",
              "       [ 9.80293389e-01,  1.17609985e+00],\n",
              "       [ 9.80293389e-01,  1.25680490e+00],\n",
              "       [ 9.80293389e-01,  2.82248274e+00],\n",
              "       [ 9.80293389e-01,  2.73150615e+00],\n",
              "       [ 9.80293389e-01,  2.26194953e+00],\n",
              "       [ 9.80293389e-01,  1.31549947e+00],\n",
              "       [ 9.80293389e-01,  1.31403211e+00],\n",
              "       [ 9.80293389e-01,  1.23479443e+00]])"
            ]
          },
          "metadata": {
            "tags": []
          },
          "execution_count": 21
        }
      ]
    },
    {
      "cell_type": "markdown",
      "metadata": {
        "id": "e6M8GB1Y6zaM"
      },
      "source": [
        "##Linear Regression Model"
      ]
    },
    {
      "cell_type": "code",
      "metadata": {
        "id": "B8Yss0gm49rS"
      },
      "source": [
        "from sklearn.linear_model import LinearRegression\n",
        "reg = LinearRegression().fit(X_train, y_train)"
      ],
      "execution_count": 22,
      "outputs": []
    },
    {
      "cell_type": "code",
      "metadata": {
        "colab": {
          "base_uri": "https://localhost:8080/"
        },
        "id": "CqNn3RXU7dAF",
        "outputId": "559bb865-f741-4e9d-d43f-f76d0f2becf3"
      },
      "source": [
        "reg.score(X_train, y_train)"
      ],
      "execution_count": 23,
      "outputs": [
        {
          "output_type": "execute_result",
          "data": {
            "text/plain": [
              "0.5611798399289958"
            ]
          },
          "metadata": {
            "tags": []
          },
          "execution_count": 23
        }
      ]
    },
    {
      "cell_type": "code",
      "metadata": {
        "colab": {
          "base_uri": "https://localhost:8080/"
        },
        "id": "pj5GYaYeEAmh",
        "outputId": "423beca4-0e2a-49fa-ef72-a6a03a9c5236"
      },
      "source": [
        "reg.coef_"
      ],
      "execution_count": 24,
      "outputs": [
        {
          "output_type": "execute_result",
          "data": {
            "text/plain": [
              "array([[-2.35572166, -5.85057626]])"
            ]
          },
          "metadata": {
            "tags": []
          },
          "execution_count": 24
        }
      ]
    },
    {
      "cell_type": "code",
      "metadata": {
        "colab": {
          "base_uri": "https://localhost:8080/"
        },
        "id": "EeE5M2A9EKdA",
        "outputId": "d9aeacee-a925-4ac7-e85d-2ebb6ce06ec0"
      },
      "source": [
        "y_test_predict = reg.predict(X_test)\n",
        "type(y_test_predict)"
      ],
      "execution_count": 25,
      "outputs": [
        {
          "output_type": "execute_result",
          "data": {
            "text/plain": [
              "numpy.ndarray"
            ]
          },
          "metadata": {
            "tags": []
          },
          "execution_count": 25
        }
      ]
    },
    {
      "cell_type": "code",
      "metadata": {
        "colab": {
          "base_uri": "https://localhost:8080/"
        },
        "id": "mMGChMgbUDD5",
        "outputId": "b21998a7-2f5b-4dd3-f966-e8667433b59b"
      },
      "source": [
        "from sklearn.metrics import mean_squared_error, r2_score\n",
        "print(\"Mean squared error: %.2f\" % mean_squared_error(y_test,y_test_predict))"
      ],
      "execution_count": 26,
      "outputs": [
        {
          "output_type": "stream",
          "text": [
            "Mean squared error: 16.40\n"
          ],
          "name": "stdout"
        }
      ]
    }
  ]
}