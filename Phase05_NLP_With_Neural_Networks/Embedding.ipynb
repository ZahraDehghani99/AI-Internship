{
  "nbformat": 4,
  "nbformat_minor": 0,
  "metadata": {
    "colab": {
      "name": "Embedding.ipynb",
      "provenance": [],
      "collapsed_sections": [],
      "toc_visible": true
    },
    "kernelspec": {
      "name": "python3",
      "display_name": "Python 3"
    },
    "language_info": {
      "name": "python"
    }
  },
  "cells": [
    {
      "cell_type": "markdown",
      "metadata": {
        "id": "AEKR6LlFeCO5"
      },
      "source": [
        "# Section 3: Embedding"
      ]
    },
    {
      "cell_type": "markdown",
      "metadata": {
        "id": "4OjgCnXHe9oY"
      },
      "source": [
        "## Word Embedding on Hamshahri Newspaper dataset"
      ]
    },
    {
      "cell_type": "markdown",
      "metadata": {
        "id": "ve1GCqQr6E6K"
      },
      "source": [
        "In this section, we want to try different Word Embedding methods. We work on the Hamshahri dataset that is preprocessed in the previous notebook.(Text_Classification.ipynb)\n",
        "\n",
        "In the beginning, we load the dataset and take a look at the length of texts in it. Then we create an LSTM model for it because based on our result, LSTM models are good for text classification and sentiment analysis. Then try to print word embedding for a few words from the embedding layer in our model and try other embedding methods(e.g. Gensim and Fasttext)"
      ]
    },
    {
      "cell_type": "code",
      "metadata": {
        "colab": {
          "base_uri": "https://localhost:8080/"
        },
        "id": "oI8x0yF09KQX",
        "outputId": "3b2b4057-974c-4e93-b1f2-23264be13c85"
      },
      "source": [
        "!pip install python-bidi\n",
        "!pip install arabic-reshaper"
      ],
      "execution_count": 3,
      "outputs": [
        {
          "output_type": "stream",
          "name": "stdout",
          "text": [
            "Collecting python-bidi\n",
            "  Downloading python_bidi-0.4.2-py2.py3-none-any.whl (30 kB)\n",
            "Requirement already satisfied: six in /usr/local/lib/python3.7/dist-packages (from python-bidi) (1.15.0)\n",
            "Installing collected packages: python-bidi\n",
            "Successfully installed python-bidi-0.4.2\n",
            "Collecting arabic-reshaper\n",
            "  Downloading arabic_reshaper-2.1.3-py3-none-any.whl (20 kB)\n",
            "Requirement already satisfied: future in /usr/local/lib/python3.7/dist-packages (from arabic-reshaper) (0.16.0)\n",
            "Requirement already satisfied: setuptools in /usr/local/lib/python3.7/dist-packages (from arabic-reshaper) (57.4.0)\n",
            "Installing collected packages: arabic-reshaper\n",
            "Successfully installed arabic-reshaper-2.1.3\n"
          ]
        }
      ]
    },
    {
      "cell_type": "code",
      "metadata": {
        "id": "ZsWiDV1YeAAC"
      },
      "source": [
        "# plot\n",
        "import matplotlib.pyplot as plt\n",
        "\n",
        "import pandas as pd\n",
        "import string\n",
        "import re\n",
        "import numpy as np\n",
        "np.random.seed(0)\n",
        "\n",
        "# libraries for show persian words in correct way(right to left)\n",
        "from bidi.algorithm import get_display\n",
        "from arabic_reshaper import reshape\n",
        "\n",
        "import warnings\n",
        "warnings.filterwarnings('ignore')"
      ],
      "execution_count": 4,
      "outputs": []
    },
    {
      "cell_type": "code",
      "metadata": {
        "colab": {
          "base_uri": "https://localhost:8080/"
        },
        "id": "0GcE6L33eYEB",
        "outputId": "d1a72f5b-957a-4149-f4a4-286cbdafb064"
      },
      "source": [
        "from google.colab import drive\n",
        "drive.mount('/content/drive')"
      ],
      "execution_count": 5,
      "outputs": [
        {
          "output_type": "stream",
          "name": "stdout",
          "text": [
            "Mounted at /content/drive\n"
          ]
        }
      ]
    },
    {
      "cell_type": "markdown",
      "metadata": {
        "id": "7dxyLm7iVWEU"
      },
      "source": [
        "### Read dataset"
      ]
    },
    {
      "cell_type": "code",
      "metadata": {
        "id": "JqsVC8lI4BzG"
      },
      "source": [
        "#load the preprocessing dataframe\n",
        "ham_train = pd.read_csv('/content/drive/MyDrive/AI-Internship/preprocessed_data/train.csv')\n",
        "ham_valid = pd.read_csv('/content/drive/MyDrive/AI-Internship/preprocessed_data/valid.csv')\n",
        "ham_test = pd.read_csv('/content/drive/MyDrive/AI-Internship/preprocessed_data/test.csv')"
      ],
      "execution_count": null,
      "outputs": []
    },
    {
      "cell_type": "code",
      "metadata": {
        "colab": {
          "base_uri": "https://localhost:8080/"
        },
        "id": "FDwcH0sx47Vg",
        "outputId": "880ef38d-bc9e-4853-9c93-3ab0c0f45a30"
      },
      "source": [
        "print(f'ham train shape: {ham_train.shape}')\n",
        "print(f'ham valid shape: {ham_valid.shape}')\n",
        "print(f'ham test shape: {ham_test.shape}')"
      ],
      "execution_count": null,
      "outputs": [
        {
          "output_type": "stream",
          "name": "stdout",
          "text": [
            "ham train shape: (8724, 2)\n",
            "ham valid shape: (2181, 2)\n",
            "ham test shape: (2727, 2)\n"
          ]
        }
      ]
    },
    {
      "cell_type": "code",
      "metadata": {
        "colab": {
          "base_uri": "https://localhost:8080/",
          "height": 206
        },
        "id": "JHr49dJx8sD4",
        "outputId": "a26bcb46-b850-4d51-9cfc-a00b7ab192b5"
      },
      "source": [
        "ham_train.head()"
      ],
      "execution_count": null,
      "outputs": [
        {
          "output_type": "execute_result",
          "data": {
            "text/html": [
              "<div>\n",
              "<style scoped>\n",
              "    .dataframe tbody tr th:only-of-type {\n",
              "        vertical-align: middle;\n",
              "    }\n",
              "\n",
              "    .dataframe tbody tr th {\n",
              "        vertical-align: top;\n",
              "    }\n",
              "\n",
              "    .dataframe thead th {\n",
              "        text-align: right;\n",
              "    }\n",
              "</style>\n",
              "<table border=\"1\" class=\"dataframe\">\n",
              "  <thead>\n",
              "    <tr style=\"text-align: right;\">\n",
              "      <th></th>\n",
              "      <th>preprocessing_text</th>\n",
              "      <th>label</th>\n",
              "    </tr>\n",
              "  </thead>\n",
              "  <tbody>\n",
              "    <tr>\n",
              "      <th>0</th>\n",
              "      <td>مخبر کمیسیون امنیت ملی سیاست خارجی مجلس نسبت ا...</td>\n",
              "      <td>3</td>\n",
              "    </tr>\n",
              "    <tr>\n",
              "      <th>1</th>\n",
              "      <td>علی تاجرنیا نماینده مشهد مجلس انتقاد محاکمه سی...</td>\n",
              "      <td>3</td>\n",
              "    </tr>\n",
              "    <tr>\n",
              "      <th>2</th>\n",
              "      <td>عضو کمیسیون صنایع معادن مجلس شورا اسلامی منظور...</td>\n",
              "      <td>2</td>\n",
              "    </tr>\n",
              "    <tr>\n",
              "      <th>3</th>\n",
              "      <td>دریابان علی شمخانی وزیر دفاع جمهوری اسلامی ایر...</td>\n",
              "      <td>3</td>\n",
              "    </tr>\n",
              "    <tr>\n",
              "      <th>4</th>\n",
              "      <td>گردهمایی کارشناس کارکنان سازمان دانش آموخت&amp;آمو...</td>\n",
              "      <td>4</td>\n",
              "    </tr>\n",
              "  </tbody>\n",
              "</table>\n",
              "</div>"
            ],
            "text/plain": [
              "                                  preprocessing_text  label\n",
              "0  مخبر کمیسیون امنیت ملی سیاست خارجی مجلس نسبت ا...      3\n",
              "1  علی تاجرنیا نماینده مشهد مجلس انتقاد محاکمه سی...      3\n",
              "2  عضو کمیسیون صنایع معادن مجلس شورا اسلامی منظور...      2\n",
              "3  دریابان علی شمخانی وزیر دفاع جمهوری اسلامی ایر...      3\n",
              "4  گردهمایی کارشناس کارکنان سازمان دانش آموخت&آمو...      4"
            ]
          },
          "metadata": {},
          "execution_count": 6
        }
      ]
    },
    {
      "cell_type": "markdown",
      "metadata": {
        "id": "cMmIWIzi9_ZK"
      },
      "source": [
        "label encoding (based on lexical order):\n",
        "\n",
        "    سیاسی -> 3\n",
        "    اقتصاد -> 2\n",
        "    اجتماعی-> 0\n",
        "    ورزش -> 5\n",
        "    علمی فرهنگی -> 4\n",
        "    ادب و هنر -> 1\n"
      ]
    },
    {
      "cell_type": "code",
      "metadata": {
        "colab": {
          "base_uri": "https://localhost:8080/"
        },
        "id": "EfaFI-jL-WAo",
        "outputId": "d72ca223-5974-4267-c939-e66314982740"
      },
      "source": [
        "ham_train.label.value_counts()"
      ],
      "execution_count": null,
      "outputs": [
        {
          "output_type": "execute_result",
          "data": {
            "text/plain": [
              "3    2086\n",
              "2    1917\n",
              "5    1379\n",
              "0    1350\n",
              "4    1253\n",
              "1     739\n",
              "Name: label, dtype: int64"
            ]
          },
          "metadata": {},
          "execution_count": 7
        }
      ]
    },
    {
      "cell_type": "code",
      "metadata": {
        "colab": {
          "base_uri": "https://localhost:8080/",
          "height": 296
        },
        "id": "ZvNwZyFi8uDn",
        "outputId": "6e478746-5a58-413f-e703-ca0ed4962aa4"
      },
      "source": [
        "# destribution of data in each class\n",
        "distribution  = list(ham_train.label.value_counts())\n",
        "\n",
        "classes = ['سیاسی','اقتصاد','ورزش','اجتماعی','علمی فرهنگی','ادب و هنر'] \n",
        "classes = [get_display(reshape(label)) for label in classes]\n",
        "\n",
        "plt.bar(classes, distribution)\n",
        "plt.xlabel(\"Label\")\n",
        "plt.ylabel(\"Number of news\")\n",
        "plt.title(\"Distribution of train data in each class\")\n",
        "plt.show()"
      ],
      "execution_count": null,
      "outputs": [
        {
          "output_type": "display_data",
          "data": {
            "image/png": "[encoded data removed]",
            "text/plain": [
              "<Figure size 432x288 with 1 Axes>"
            ]
          },
          "metadata": {
            "needs_background": "light"
          }
        }
      ]
    },
    {
      "cell_type": "code",
      "metadata": {
        "colab": {
          "base_uri": "https://localhost:8080/"
        },
        "id": "bCvLcrMZ9hxE",
        "outputId": "e8042254-41d7-44d7-e22c-130cd1370279"
      },
      "source": [
        "ham_valid.label.value_counts()"
      ],
      "execution_count": null,
      "outputs": [
        {
          "output_type": "execute_result",
          "data": {
            "text/plain": [
              "2    519\n",
              "3    511\n",
              "5    332\n",
              "0    323\n",
              "4    312\n",
              "1    184\n",
              "Name: label, dtype: int64"
            ]
          },
          "metadata": {},
          "execution_count": 9
        }
      ]
    },
    {
      "cell_type": "code",
      "metadata": {
        "colab": {
          "base_uri": "https://localhost:8080/",
          "height": 296
        },
        "id": "HXLwbtxQ9Yk8",
        "outputId": "ca4c946d-d5b5-4d41-c64f-f1b91992c8f5"
      },
      "source": [
        "# destribution of data in each class\n",
        "distribution  = list(ham_valid.label.value_counts())\n",
        "\n",
        "classes = ['اقتصاد','سیاسی','ورزش','اجتماعی','علمی فرهنگی','ادب و هنر'] \n",
        "classes = [get_display(reshape(label)) for label in classes]\n",
        "\n",
        "plt.bar(classes, distribution)\n",
        "plt.xlabel(\"Label\")\n",
        "plt.ylabel(\"Number of news\")\n",
        "plt.title(\"Distribution of valid data in each class\")\n",
        "plt.show()"
      ],
      "execution_count": null,
      "outputs": [
        {
          "output_type": "display_data",
          "data": {
            "image/png": "[encoded data removed]",
            "text/plain": [
              "<Figure size 432x288 with 1 Axes>"
            ]
          },
          "metadata": {
            "needs_background": "light"
          }
        }
      ]
    },
    {
      "cell_type": "code",
      "metadata": {
        "colab": {
          "base_uri": "https://localhost:8080/"
        },
        "id": "zgKFOEtc-v7y",
        "outputId": "d5e298e1-f699-44e0-b94c-41e35cfe6b24"
      },
      "source": [
        "ham_test.label.value_counts()"
      ],
      "execution_count": null,
      "outputs": [
        {
          "output_type": "execute_result",
          "data": {
            "text/plain": [
              "3    622\n",
              "2    598\n",
              "0    462\n",
              "4    404\n",
              "5    402\n",
              "1    239\n",
              "Name: label, dtype: int64"
            ]
          },
          "metadata": {},
          "execution_count": 11
        }
      ]
    },
    {
      "cell_type": "code",
      "metadata": {
        "colab": {
          "base_uri": "https://localhost:8080/",
          "height": 296
        },
        "id": "XcBS1RRM-1bf",
        "outputId": "f4f7cea7-f0f8-420b-9962-d770b5193f8a"
      },
      "source": [
        "# destribution of data in each class\n",
        "distribution  = list(ham_test.label.value_counts())\n",
        "\n",
        "classes = ['سیاسی','اقتصاد','اجتماعی','علمی فرهنگی', 'ورزش','ادب و هنر'] \n",
        "classes = [get_display(reshape(label)) for label in classes]\n",
        "\n",
        "plt.bar(classes, distribution)\n",
        "plt.xlabel(\"Label\")\n",
        "plt.ylabel(\"Number of news\")\n",
        "plt.title(\"Distribution of test data in each class\")\n",
        "plt.show()"
      ],
      "execution_count": null,
      "outputs": [
        {
          "output_type": "display_data",
          "data": {
            "image/png": "[encoded data removed]",
            "text/plain": [
              "<Figure size 432x288 with 1 Axes>"
            ]
          },
          "metadata": {
            "needs_background": "light"
          }
        }
      ]
    },
    {
      "cell_type": "markdown",
      "metadata": {
        "id": "RLd6XP-o6Cyp"
      },
      "source": [
        "As we see in the following cell, we have on missing value in our text column, So in order to calculate text length, we should drop this row."
      ]
    },
    {
      "cell_type": "code",
      "metadata": {
        "colab": {
          "base_uri": "https://localhost:8080/"
        },
        "id": "bWpnQWHzBXBZ",
        "outputId": "df7dc984-37e0-44f2-e962-7eb0787ab0b7"
      },
      "source": [
        "ham_train.info()"
      ],
      "execution_count": null,
      "outputs": [
        {
          "output_type": "stream",
          "name": "stdout",
          "text": [
            "<class 'pandas.core.frame.DataFrame'>\n",
            "RangeIndex: 8724 entries, 0 to 8723\n",
            "Data columns (total 2 columns):\n",
            " #   Column              Non-Null Count  Dtype \n",
            "---  ------              --------------  ----- \n",
            " 0   preprocessing_text  8723 non-null   object\n",
            " 1   label               8724 non-null   int64 \n",
            "dtypes: int64(1), object(1)\n",
            "memory usage: 136.4+ KB\n"
          ]
        }
      ]
    },
    {
      "cell_type": "code",
      "metadata": {
        "id": "BelBfRDLCed5"
      },
      "source": [
        "df = ham_train.copy()\n",
        "ham_train = df.dropna()"
      ],
      "execution_count": null,
      "outputs": []
    },
    {
      "cell_type": "code",
      "metadata": {
        "colab": {
          "base_uri": "https://localhost:8080/"
        },
        "id": "0p0B6gClC_qu",
        "outputId": "1f86ba51-85b8-4601-8db9-78790c218738"
      },
      "source": [
        "ham_train.info()"
      ],
      "execution_count": null,
      "outputs": [
        {
          "output_type": "stream",
          "name": "stdout",
          "text": [
            "<class 'pandas.core.frame.DataFrame'>\n",
            "Int64Index: 8723 entries, 0 to 8723\n",
            "Data columns (total 2 columns):\n",
            " #   Column              Non-Null Count  Dtype \n",
            "---  ------              --------------  ----- \n",
            " 0   preprocessing_text  8723 non-null   object\n",
            " 1   label               8723 non-null   int64 \n",
            "dtypes: int64(1), object(1)\n",
            "memory usage: 204.4+ KB\n"
          ]
        }
      ]
    },
    {
      "cell_type": "code",
      "metadata": {
        "id": "DhCPwOpx0znv"
      },
      "source": [
        "# ham_train.to_csv('/content/drive/MyDrive/AI-Internship/preprocessed_data/train_updated.csv', index=False)"
      ],
      "execution_count": null,
      "outputs": []
    },
    {
      "cell_type": "markdown",
      "metadata": {
        "id": "gAxFmeopCixD"
      },
      "source": [
        "Let's take a look at length of texts in dataset."
      ]
    },
    {
      "cell_type": "code",
      "metadata": {
        "colab": {
          "base_uri": "https://localhost:8080/",
          "height": 466
        },
        "id": "2y83shV18mmx",
        "outputId": "5072ad5e-e670-4ab3-d999-619833161e18"
      },
      "source": [
        "text_len = [len(i.split()) for i in ham_train.preprocessing_text.values]\n",
        "pd.Series(text_len).hist()\n",
        "plt.title('Text lenght')\n",
        "plt.xlabel('text length')\n",
        "plt.ylabel('No. of sentences')\n",
        "plt.show()\n",
        "pd.Series(text_len).describe()"
      ],
      "execution_count": null,
      "outputs": [
        {
          "output_type": "display_data",
          "data": {
            "image/png": "[encoded data removed]",
            "text/plain": [
              "<Figure size 432x288 with 1 Axes>"
            ]
          },
          "metadata": {
            "needs_background": "light"
          }
        },
        {
          "output_type": "execute_result",
          "data": {
            "text/plain": [
              "count    8723.000000\n",
              "mean       42.027743\n",
              "std        22.978069\n",
              "min         1.000000\n",
              "25%        29.000000\n",
              "50%        38.000000\n",
              "75%        48.000000\n",
              "max       302.000000\n",
              "dtype: float64"
            ]
          },
          "metadata": {},
          "execution_count": 16
        }
      ]
    },
    {
      "cell_type": "markdown",
      "metadata": {
        "id": "UupWrbMJehdh"
      },
      "source": [
        "### Prepare Dataset for Neural Network"
      ]
    },
    {
      "cell_type": "code",
      "metadata": {
        "colab": {
          "base_uri": "https://localhost:8080/"
        },
        "id": "T1xVvVCFey7E",
        "outputId": "a6520d5d-f9ad-4d08-d4db-e5261c6998ac"
      },
      "source": [
        "import torch\n",
        "import torchtext\n",
        "from torchtext.legacy import data\n",
        "from torch.utils.data import DataLoader\n",
        "\n",
        "import torch.nn as nn\n",
        "import torch.optim as optim\n",
        "import torch.nn.functional as F\n",
        "\n",
        "from torch.optim import lr_scheduler\n",
        "from torch.utils.data.dataset import random_split\n",
        "\n",
        "from sklearn.metrics import classification_report\n",
        "from torchtext.vocab import Vectors\n",
        "from sklearn import metrics\n",
        "import matplotlib.pyplot as plt\n",
        "import seaborn as sns\n",
        "\n",
        "#Reproducing same results\n",
        "SEED = 2019\n",
        "torch.manual_seed(SEED)"
      ],
      "execution_count": 6,
      "outputs": [
        {
          "output_type": "execute_result",
          "data": {
            "text/plain": [
              "<torch._C.Generator at 0x7fa812f09bf0>"
            ]
          },
          "metadata": {},
          "execution_count": 6
        }
      ]
    },
    {
      "cell_type": "markdown",
      "metadata": {
        "id": "PkKe6A1AeziO"
      },
      "source": [
        "#### Load the custom dataset using PyTorchText TabularDataset"
      ]
    },
    {
      "cell_type": "code",
      "metadata": {
        "id": "zIe0ZkAW3wxL"
      },
      "source": [
        "# define pipline for text and label columns\n",
        "TEXT = data.Field(tokenize='spacy',\n",
        "                  include_lengths=True, batch_first=True)\n",
        "LABEL = data.LabelField(dtype = torch.float,batch_first=True)"
      ],
      "execution_count": 7,
      "outputs": []
    },
    {
      "cell_type": "code",
      "metadata": {
        "id": "mcY3bdtCfMB5"
      },
      "source": [
        "fields = [('preprocessing_text',TEXT), ('label', LABEL)]"
      ],
      "execution_count": 8,
      "outputs": []
    },
    {
      "cell_type": "code",
      "metadata": {
        "id": "xG-Ukp0EfMhb"
      },
      "source": [
        "train_data = data.TabularDataset(path='/content/drive/MyDrive/AI-Internship/preprocessed_data/train_updated.csv'\n",
        "                                , format='csv', fields=fields, skip_header=True)\n",
        "\n",
        "valid_data = data.TabularDataset(path='/content/drive/MyDrive/AI-Internship/preprocessed_data/valid.csv'\n",
        "                                , format='csv', fields=fields, skip_header=True)\n",
        "\n",
        "test_data = data.TabularDataset(path='/content/drive/MyDrive/AI-Internship/preprocessed_data/test.csv'\n",
        "                                , format='csv', fields=fields, skip_header=True)\n"
      ],
      "execution_count": 9,
      "outputs": []
    },
    {
      "cell_type": "code",
      "metadata": {
        "colab": {
          "base_uri": "https://localhost:8080/"
        },
        "id": "vhBC9R5ffPKO",
        "outputId": "aeadf27c-ac05-491a-830a-8edd03363cc7"
      },
      "source": [
        "len(train_data)"
      ],
      "execution_count": 10,
      "outputs": [
        {
          "output_type": "execute_result",
          "data": {
            "text/plain": [
              "8723"
            ]
          },
          "metadata": {},
          "execution_count": 10
        }
      ]
    },
    {
      "cell_type": "markdown",
      "metadata": {
        "id": "9C1DLM_UfTfh"
      },
      "source": [
        "#### Construct Vocabulary"
      ]
    },
    {
      "cell_type": "code",
      "metadata": {
        "id": "1dz8UlNdfRGO"
      },
      "source": [
        "TEXT.build_vocab(train_data, valid_data,min_freq=3 )\n",
        "LABEL.build_vocab(train_data, valid_data)"
      ],
      "execution_count": 11,
      "outputs": []
    },
    {
      "cell_type": "code",
      "metadata": {
        "colab": {
          "base_uri": "https://localhost:8080/"
        },
        "id": "YW7stHfufXDO",
        "outputId": "e5080f67-f7ec-4483-86aa-6f115ec5a71a"
      },
      "source": [
        "#No. of unique tokens in text\n",
        "print(\"Size of TEXT vocabulary:\",len(TEXT.vocab))\n",
        "print(\"Size of TEXT vocabulary:\",len(LABEL.vocab))\n",
        "print(\" \")\n",
        "print('-'*200)\n",
        "\n",
        "#Commonly used words\n",
        "print(f'10 commonly used words : {TEXT.vocab.freqs.most_common(10)}')  \n",
        "print(\" \")\n",
        "print('-'*200)\n",
        "\n",
        "#Word dictionary\n",
        "print(f'word dictionary : {TEXT.vocab.stoi}') "
      ],
      "execution_count": null,
      "outputs": [
        {
          "output_type": "stream",
          "name": "stdout",
          "text": [
            "Size of TEXT vocabulary: 9802\n",
            "Size of TEXT vocabulary: 6\n",
            " \n",
            "--------------------------------------------------------------------------------------------------------------------------------------------------------------------------------------------------------\n",
            "10 commonly used words : [('ایران', 6568), ('کشور', 5182), ('اسلامی', 4086), ('سال', 3229), ('تهران', 3182), ('رئیس', 2631), ('شورا', 2613), ('تیم', 2487), ('جمهوری', 2458), ('گزارش', 2203)]\n",
            " \n",
            "--------------------------------------------------------------------------------------------------------------------------------------------------------------------------------------------------------\n",
            "word dictionary : defaultdict(<bound method Vocab._default_unk_index of <torchtext.legacy.vocab.Vocab object at 0x7f3be4db5390>>, {'<unk>': 0, '<pad>': 1, 'ایران': 2, 'کشور': 3, 'اسلامی': 4, 'سال': 5, 'تهران': 6, 'رئیس': 7, 'شورا': 8, 'تیم': 9, 'جمهوری': 10, 'گزارش': 11, 'سازمان': 12, 'مجلس': 13, 'ملی': 14, 'شرکت': 15, 'شهر': 16, 'سرمایه\\u200cگذاری': 17, 'وزیر': 18, 'برگزار': 19, 'خبرنگار': 20, 'وزارت': 21, 'طرح': 22, 'قرار': 23, 'کرد&کن': 24, 'فرهنگی': 25, 'استان': 26, 'نماینده': 27, 'اقتصادی': 28, 'حضور': 29, 'عمومی': 30, 'توسعه': 31, 'کار': 32, 'عضو': 33, 'دیدار': 34, 'ماه': 35, 'رابطه': 36, 'فوتبال': 37, 'قیمت': 38, 'برنامه': 39, 'خبرگزاری': 40, 'قانون': 41, 'دولت': 42, 'سه': 43, 'صنایع': 44, 'هیات': 45, 'شد&شو': 46, 'دانشگاه': 47, 'آموزش': 48, 'بین\\u200cالمللی': 49, 'جهانی': 50, 'جلسه': 51, 'علی': 52, 'دوره': 53, 'هفته': 54, 'اجتماعی': 55, 'گروه': 56, 'جهان': 57, 'درصد': 58, 'آزادی': 59, 'پارس': 60, 'مدیر': 61, 'بررسی': 62, 'مسئول': 63, 'اجرا': 64, 'نظر': 65, 'سیاسی': 66, 'روزنامه': 67, 'اشاره': 68, 'معاون': 69, 'بازی': 70, 'انقلاب': 71, 'محمد': 72, 'شنبه': 73, 'نیرو': 74, 'فرهنگ': 75, 'داد&ده': 76, 'افزایش': 77, 'کمیسیون': 78, 'آمریکا': 79, 'نظام': 80, 'نفت': 81, 'دلار': 82, 'خبر': 83, 'آغاز': 84, 'فیلم': 85, 'ریال': 86, 'جاری': 87, 'دکتر': 88, 'صنعتی': 89, 'دست': 90, 'مرکز': 91, 'نمایشگاه': 92, 'اثر': 93, 'جامعه': 94, 'مطلب': 95, 'جام': 96, 'انتخابات': 97, 'مراسم': 98, 'کتاب': 99, 'سیمان': 100, 'جوان': 101, 'پتروشیمی': 102, 'نامه': 103, 'بانک': 104, 'ماده': 105, 'بازار': 106, 'همایش': 107, 'تاکید': 108, 'دادگاه': 109, 'تولید': 110, 'خارجی': 111, 'فدراسیون': 112, 'اصفهان': 113, 'تشکیل': 114, 'مهم': 115, 'نفر': 116, 'توجه': 117, 'همکاری': 118, 'رقابت': 119, 'پایان': 120, 'آینده': 121, 'خاتمی': 122, 'کشتی': 123, 'نسبت': 124, 'فعالیت': 125, 'پرورش': 126, 'بهار': 127, 'خودرو': 128, 'ریاست': 129, 'ایرنا': 130, 'بود&باش': 131, 'صنعت': 132, 'انجمن': 133, 'ایجاد': 134, 'گفت\\u200cوگو': 135, 'کاهش': 136, 'باشگاه': 137, 'مقام': 138, 'ساعت': 139, 'جشنواره': 140, 'منطقه': 141, 'ایرانی': 142, 'کودک': 143, 'تامین': 144, 'مرحله': 145, 'همشهری': 146, 'تصویب': 147, 'مسابقات': 148, 'واحد': 149, 'تن': 150, 'علم': 151, 'آیت\\u200cالله': 152, 'ارائه': 153, 'آخرین': 154, 'بازیکن': 155, 'داروساز': 156, 'کالا': 157, 'اقتصاد': 158, 'مرکزی': 159, 'مسابقه': 160, 'شماره': 161, 'آزاد': 162, 'جمع': 163, 'بودجه': 164, 'علمی': 165, 'توانست&توان': 166, 'گرفت&گیر': 167, 'قهرمانی': 168, 'دانش': 169, 'طلا': 170, 'اداره': 171, 'بیان': 172, 'دلیل': 173, 'مدیریت': 174, 'نشست': 175, 'سینما': 176, 'آسیا': 177, 'محل': 178, 'عالی': 179, 'برگزاری': 180, 'سیاست': 181, 'گفتگو': 182, 'افراد': 183, 'مشکلات': 184, 'پیام': 185, 'جمعه': 186, 'چهارشنبه': 187, 'شرایط': 188, 'تولیدی': 189, 'فروش': 190, 'مشارکت': 191, 'منظور': 192, 'امام': 193, 'سفر': 194, 'دانشجو': 195, 'مجمع': 196, 'شهرداری': 197, 'هدف': 198, 'ارزی': 199, 'امنیت': 200, 'مشهد': 201, 'مطبوعات': 202, 'ادامه': 203, 'حوزه': 204, 'رشد': 205, 'نقش': 206, 'آب': 207, 'کمیته': 208, 'تلاش': 209, 'داخلی': 210, 'دستگاه': 211, 'چاپ': 212, 'ارشاد': 213, 'عامل': 214, 'اجرایی': 215, 'هنر': 216, 'بازرگانی': 217, 'حمایت': 218, 'بحث': 219, 'دوشنبه': 220, 'قوه': 221, 'اطلاعات': 222, 'ملت': 223, 'اظهار': 224, 'انتخاب': 225, 'کشاورزی': 226, 'دفتر': 227, 'خارجه': 228, 'اساسی': 229, 'هنری': 230, 'مجموعه': 231, 'استقلال': 232, 'معظم': 233, 'والیبال': 234, 'شهرستان': 235, 'جمله': 236, 'مربوط': 237, 'گسترش': 238, 'کاشی': 239, 'پرداخت': 240, 'اقدام': 241, 'بهمن': 242, 'تاریخ': 243, 'شهید': 244, 'ورزشی': 245, 'زندگی': 246, 'معادن': 247, 'رای': 248, 'برنامه\\u200cریزی': 249, 'سخن': 250, 'نمایش': 251, 'زنان': 252, 'یکشنبه': 253, 'نوجوان': 254, 'افغانستان': 255, 'ستاد': 256, 'معرفی': 257, 'نیاز': 258, 'انتظامی': 259, 'دولتی': 260, 'مسائل': 261, 'خانواده': 262, 'دبیر': 263, 'صادرات': 264, 'آموزشی': 265, 'حضرت': 266, 'نرخ': 267, 'اصلی': 268, 'حقوق': 269, 'سپرده': 270, 'صبح': 271, 'ملل': 272, 'موضوع': 273, 'کارشناس': 274, 'احمد': 275, 'اصلاح': 276, 'دفاع': 277, 'خانه': 278, 'درآمد': 279, 'همراه': 280, 'گل': 281, 'شب': 282, 'حادثه': 283, 'زاده': 284, 'موسیقی': 285, 'سید': 286, 'لایحه': 287, 'مشترک': 288, 'ارز': 289, 'اصل': 290, 'سهام': 291, 'نشریه': 292, 'ایسنا': 293, 'اطلاعیه': 294, 'نگار': 295, 'نگهبان': 296, 'دریافت': 297, 'بیمه': 298, 'تربیت': 299, 'سطح': 300, 'وضعیت': 301, 'تحقیقات': 302, 'مهدی': 303, 'حسین': 304, 'ارزش': 305, 'خصوص': 306, 'منتشر': 307, 'شیراز': 308, 'مالی': 309, 'مربی': 310, 'پاسخ': 311, 'رهبری': 312, 'قانونی': 313, 'منبع': 314, 'نظارت': 315, 'تعداد': 316, 'شاخص': 317, 'علنی': 318, 'گاز': 319, 'دنیا': 320, 'شعبه': 321, 'قند': 322, 'پنجشنبه': 323, 'کسب': 324, 'دور': 325, 'صدور': 326, 'هنرمند': 327, 'لازم': 328, 'وارد': 329, 'کمک': 330, 'بهره': 331, 'اسلام': 332, 'مبارزه': 333, 'مناطق': 334, 'خواستار': 335, 'دارو': 336, 'دومین': 337, 'قضائیه': 338, 'گفت&گو': 339, 'تومان': 340, 'مهندس': 341, 'شبکه': 342, 'فارس': 343, 'موجب': 344, 'پرونده': 345, 'گواهی': 346, 'رسمی': 347, 'یافت&یاب': 348, 'الله': 349, 'به\\u200cطور': 350, 'خارج': 351, 'روسیه': 352, 'عرصه': 353, 'عصر': 354, 'اتحادیه': 355, 'اروپا': 356, 'حکم': 357, 'صندوق': 358, 'پیروزی': 359, 'خراسان': 360, 'نتیجه': 361, 'فرانسه': 362, 'البرز': 363, 'شکست': 364, 'تمدن': 365, 'ورزش': 366, 'چین': 367, 'هزینه': 368, 'آمد&آ': 369, 'دنبال': 370, 'موجود': 371, 'تشخیص': 372, 'بهشهر': 373, 'دانست&دان': 374, 'کانون': 375, 'استاد': 376, 'دادگستری': 377, 'سرمایه': 378, 'شهری': 379, 'کارتن': 380, 'انتشار': 381, 'تعیین': 382, 'خواند&خوان': 383, 'ساله': 384, 'صفحه': 385, 'نیم': 386, 'سالن': 387, 'ارتباط': 388, 'مشکل': 389, 'مطرح': 390, 'حل': 391, 'زندان': 392, 'هاشمی': 393, 'ساخت': 394, 'علت': 395, 'رسیدگی': 396, 'سومین': 397, 'خصوصی': 398, 'عربستان': 399, 'انسانی': 400, 'دهه': 401, 'مصرف': 402, 'بخش': 403, 'رهبر': 404, 'امر': 405, 'اردو': 406, 'اشتغال': 407, 'شعر': 408, 'مناسب': 409, 'انسان': 410, 'ساختمان': 411, 'بنیاد': 412, 'قرارداد': 413, 'صنفی': 414, 'واقع': 415, 'گرم': 416, 'برق': 417, 'حسن': 418, 'رضا': 419, 'آموزاند&آموزان': 420, 'جمهور': 421, 'خرداد': 422, 'محسن': 423, 'نهایی': 424, 'پرداخت&پرداز': 425, 'موسسه': 426, 'اجلاس': 427, 'تجارت': 428, 'جنوبی': 429, 'سایپا': 430, 'رسید&رس': 431, 'روند': 432, 'آبان': 433, 'دعوت': 434, 'معاونت': 435, 'صاحب': 436, 'مصلحت': 437, 'ایتالیا': 438, 'تاریخی': 439, 'دارای': 440, 'مسکن': 441, 'اختصاص': 442, 'ترکیه': 443, 'ثبت': 444, 'زبان': 445, 'قضایی': 446, 'آمادگی': 447, 'حفظ': 448, 'ارسال': 449, 'انرژی': 450, 'تصمیم': 451, 'شیشه': 452, 'مناسبت': 453, 'پرسپولیس': 454, 'کنفرانس': 455, 'رسانه': 456, 'یورو': 457, 'مدیرکل': 458, 'بحران': 459, 'ضرورت': 460, 'فعال': 461, 'اطلاع\\u200cرسانی': 462, 'ناشر': 463, 'جمعیت': 464, 'تغییر': 465, 'مذاکره': 466, 'نوشت&نویس': 467, '،': 468, 'فناوری': 469, 'داور': 470, 'شمال': 471, 'گذاشت&گذار': 472, 'حقوقی': 473, 'شامل': 474, 'برگزیده': 475, 'تحولات': 476, 'تسهیلات': 477, 'خیابان': 478, 'ساز': 479, 'مدارس': 480, 'برد&بر': 481, 'تعدادسهام': 482, 'تغییرقیمت': 483, 'عیار': 484, 'پیشنهاد': 485, 'خط': 486, 'معامله\\u200cشده\\u200cنام': 487, 'موسوی': 488, 'برخورد': 489, 'حرکت': 490, 'خرید': 491, 'فراهم': 492, 'پزشکی': 493, 'شرح': 494, 'میدان': 495, 'میراث': 496, 'بیماری': 497, 'اوپک': 498, 'تبریز': 499, 'شهد': 500, 'محمدرضا': 501, 'ژاپن': 502, 'اهمیت': 503, 'فرصت': 504, 'فنی': 505, 'قدرت': 506, 'پژوهش': 507, 'آلمان': 508, 'حمله': 509, 'ابتدا': 510, 'انتقال': 511, 'فجر': 512, 'بیانیه': 513, 'عمل\\u200cکرد': 514, 'مصوبه': 515, 'ربع': 516, 'برتر': 517, 'تصریح': 518, 'توزیع': 519, 'ساخته\\u200cنشده': 520, 'سیدمحمد': 521, 'غیررسمی': 522, 'نهاد': 523, 'مدیرعامل': 524, 'مرد': 525, 'آمار': 526, 'تلفن': 527, 'جایگاه': 528, 'اعتبار': 529, 'جامع': 530, 'نوشته': 531, 'کارگر': 532, 'فصل': 533, 'گشایش': 534, 'امتیاز': 535, 'حمل\\u200cونقل': 536, 'وزارتخانه': 537, 'تجاری': 538, 'رفت&رو': 539, 'زیادی': 540, 'صفر': 541, 'موفق': 542, 'واردات': 543, 'ورود': 544, 'کرمان': 545, 'جنگ': 546, 'صدا': 547, 'آزمون': 548, 'تئاتر': 549, 'تحصیلی': 550, 'زمینه': 551, 'طول': 552, 'علاوه': 553, 'عملیات': 554, 'پیش\\u200cبینی': 555, 'اردیبهشت': 556, 'سود': 557, 'قرآن': 558, 'حجت\\u200cالاسلام\\u200cوالمسلمین': 559, 'رساند&رسان': 560, 'روغن': 561, 'قاضی': 562, 'نیمه': 563, 'مشخص': 564, 'نتایج': 565, 'ورزشگاه': 566, 'آذربایجان': 567, 'چینی': 568, 'کارکنان': 569, 'گلستان': 570, 'آموخت&آموز': 571, 'احزاب': 572, 'حال': 573, 'زمین': 574, 'غدیر': 575, 'غرب': 576, 'موافقت': 577, 'اختیار': 578, 'اصلاحات': 579, 'امضا': 580, 'دارویی': 581, 'شهریور': 582, 'یاد': 583, 'رشت': 584, 'رقم': 585, 'انگلیس': 586, 'بانو': 587, 'می\\u200cتوان': 588, 'اساس': 589, 'تقویت': 590, 'دارایی': 591, 'دینی': 592, 'نقل': 593, 'بدنی': 594, 'خوزستان': 595, 'روستا': 596, 'هماهنگی': 597, 'همدان': 598, 'اکبر': 599, 'جهاد': 600, 'خامنه\\u200cای': 601, 'پایانی': 602, 'پور': 603, 'گسترده': 604, 'دوران': 605, 'قهرمان': 606, 'پاکستان': 607, 'تراکتورسازی': 608, 'دستور': 609, 'متهم': 610, 'نهاد&نه': 611, 'وزن': 612, 'چارچوب': 613, 'چشم': 614, 'کارشناسی': 615, 'دی': 616, 'شهروند': 617, 'ظرفیت': 618, 'عرضه': 619, 'نشر': 620, 'کروبی': 621, 'آماده': 622, 'تخصصی': 623, 'شکل': 624, 'فلسطین': 625, 'محمود': 626, 'مطالب': 627, 'وگوی': 628, 'بنا': 629, 'رئیسه': 630, 'مبنی': 631, 'پرسش': 632, 'بهداشت': 633, 'سینا': 634, 'مبلغ': 635, 'کره': 636, 'زن': 637, 'سمت': 638, 'سوئیس': 639, 'عراق': 640, 'کربن': 641, 'اراک': 642, 'اهداف': 643, 'تحقیق': 644, 'فولاد': 645, 'مقدس': 646, 'امارات': 647, 'تاسیس': 648, 'خاص': 649, 'صادر': 650, 'وحدت': 651, 'تاثیر': 652, 'خبری': 653, 'قوانین': 654, 'پیکان': 655, 'امیر': 656, 'سفیر': 657, 'علیرضا': 658, 'قالب': 659, 'قم': 660, 'تهیه': 661, 'اقدامات': 662, 'تحقق': 663, 'حریف': 664, 'لیگ': 665, 'نحوه': 666, 'استقبال': 667, 'انتقاد': 668, 'رفع': 669, 'رنا': 670, 'علاقه': 671, 'فضا': 672, 'مخدر': 673, 'نقاشی': 674, 'ابراز': 675, 'اداری': 676, 'سراسری': 677, 'مطبوعاتی': 678, 'کیلوگرم': 679, 'استاندار': 680, 'دین': 681, 'متحد': 682, 'مهر': 683, 'تشکل': 684, 'دیدگاه': 685, 'طبق': 686, 'عمرانی': 687, 'نبات': 688, 'کاری': 689, 'ادبیات': 690, 'بازداشت': 691, 'باعث': 692, 'ترتیب': 693, 'سعید': 694, 'شیوه': 695, 'مسیر': 696, 'مصاحبه': 697, 'دریا': 698, 'ساخت&ساز': 699, 'اطلاع': 700, 'حجت\\u200cالاسلام': 701, 'درخواست': 702, 'سپاهان': 703, 'نظامی': 704, 'ومعدن': 705, 'گذشت': 706, 'درمان': 707, 'محترم': 708, 'مدرسه': 709, 'مشاور': 710, 'معادل': 711, 'معاصر': 712, 'معلم': 713, 'نامزد': 714, 'پژوهشی': 715, 'اسم': 716, 'تالار': 717, 'شکایت': 718, 'فارابی': 719, 'مصطفی': 720, 'مقامات': 721, 'مقررات': 722, 'نماز': 723, 'کوتاه': 724, 'امکانات': 725, 'انتظار': 726, 'بزرگداشت': 727, 'تایید': 728, 'خارک': 729, 'سیما': 730, 'سینمایی': 731, 'متن': 732, 'مثبت': 733, 'نفتی': 734, 'نگاه': 735, 'هشتمین': 736, 'وکیل': 737, 'پاک': 738, 'کف': 739, 'بانکی': 740, 'بن': 741, 'فرانک': 742, 'قاچاق': 743, 'قزوین': 744, 'مجتمع': 745, 'وزنه': 746, 'وظایف': 747, 'چهارم': 748, 'کارخانجات': 749, 'ارزیابی': 750, 'دسته': 751, 'محقق': 752, 'یارانه': 753, 'تجربه': 754, 'خواست&خواه': 755, 'راستا': 756, 'فرد': 757, 'مذکور': 758, 'موثر': 759, 'کارخانه': 760, 'تقاضا': 761, 'شیمیایی': 762, 'مساله': 763, 'مشابه': 764, 'مهرماه': 765, 'پنجم': 766, 'پوند': 767, 'ره': 768, 'ساختار': 769, 'طبیعی': 770, 'فرآورده': 771, 'فرمانده': 772, 'فرنگی': 773, 'قصد': 774, 'خاطر': 775, 'دختر': 776, 'محصولات': 777, 'مسئولیت': 778, 'وظیفه': 779, 'پیگیری': 780, 'دچار': 781, 'رد': 782, 'گریست&گری': 783, 'آورد&آور': 784, 'تعاون': 785, 'شاهد': 786, 'محمدی': 787, 'نمونه': 788, 'کریم': 789, 'اتهام': 790, 'بزرگتر': 791, 'تبدیل': 792, 'تولیدکننده': 793, 'جایزه': 794, 'خدمت': 795, 'شاهرود': 796, 'محکوم': 797, 'مسجد': 798, 'پیشرفت': 799, 'کشید&کش': 800, 'اندیشه': 801, 'بورس': 802, 'جشن': 803, 'روسا': 804, 'شرق': 805, 'مقدماتی': 806, 'نکته': 807, 'پایه': 808, 'تدوین': 809, 'زد&زن': 810, 'صحنه': 811, 'لاستیک': 812, 'نشانی': 813, 'تشریح': 814, 'دانشگاهی': 815, 'دید&بین': 816, 'الکتریک': 817, 'سپه': 818, 'شمار': 819, 'عدالت': 820, 'فرهنگسرا': 821, 'مجوز': 822, 'مراجعه': 823, 'مرتضی': 824, 'نوسازی': 825, 'وقت': 826, 'گام': 827, 'انتشارات': 828, 'جنوب': 829, 'رعایت': 830, 'صلاحیت': 831, 'فعلی': 832, 'مسلمان': 833, 'مهندسی': 834, 'نسخه': 835, 'وابسته': 836, 'پدیده': 837, 'آهن': 838, 'بسته\\u200cبندی': 839, 'تبلیغات': 840, 'تقدم': 841, 'شده': 842, 'منافع': 843, 'پاس': 844, 'کشوری': 845, 'احداث': 846, 'حرفه\\u200cای': 847, 'روزه': 848, 'روستایی': 849, 'مذهبی': 850, 'مردمی': 851, 'موزه': 852, 'نیویورک': 853, 'یک': 854, 'آبسال': 855, 'امید': 856, 'تقدیم': 857, 'حکومت': 858, 'روبه': 859, 'مدال': 860, 'موفقیت': 861, 'آتش': 862, 'اعتراض': 863, 'حذف': 864, 'خزر': 865, 'خمینی': 866, 'مدیره': 867, 'مطالعات': 868, 'مکان': 869, 'جان': 870, 'خرازی': 871, 'سخنگو': 872, 'سی': 873, 'شاعر': 874, 'شناسایی': 875, 'مقاله': 876, 'مواجه': 877, 'نویسنده': 878, 'کیفیت': 879, 'آستانه': 880, 'ریخته': 881, 'قتل': 882, 'نایب': 883, 'کنترل': 884, 'دقیقه': 885, 'دلایل': 886, 'دنا': 887, 'ششم': 888, 'ششمین': 889, 'مارگارین': 890, 'موسسات': 891, 'کوثر': 892, 'آئین': 893, 'آیین': 894, 'اتفاق': 895, 'امکان': 896, 'اوراق': 897, 'داروپخش': 898, 'دراین': 899, 'عباس': 900, 'مرداد': 901, 'موقت': 902, 'پول': 903, 'آهنگر': 904, 'جبهه': 905, 'روشن': 906, 'ساسان': 907, 'سیستم': 908, 'شرقی': 909, 'ویژگی': 910, 'پروژه': 911, 'چهره': 912, 'کابل': 913, 'کنگره': 914, 'کیمیدارو': 915, 'امنیتی': 916, 'باقی': 917, 'تبادل': 918, 'تلویزیونی': 919, 'دانشجویی': 920, 'درخصوص': 921, 'شخصیت': 922, 'شروع': 923, 'مستقیم': 924, 'میلادی': 925, 'آیین\\u200cنامه': 926, 'اردبیل': 927, 'تلویزیون': 928, 'تیر': 929, 'جهانگردی': 930, 'ذخیره': 931, 'سخنرانی': 932, 'عمل': 933, 'مسئله': 934, 'آذر': 935, 'ابراهیم': 936, 'راهکار': 937, 'رشته': 938, 'سرمربی': 939, 'مسعود': 940, 'منتقد': 941, 'نمایندگی': 942, 'کشاورز': 943, 'گرگان': 944, 'داوطلب': 945, 'رده': 946, 'قضائی': 947, 'منصوب': 948, 'منطقه\\u200cای': 949, 'توانایی': 950, 'حاشیه': 951, 'دبیرخانه': 952, 'ذکر': 953, 'رازک': 954, 'رفسنجانی': 955, 'عهده': 956, 'محیط': 957, 'چگونگی': 958, 'کمال': 959, 'کویت': 960, 'اعتبارات': 961, 'رفتار': 962, 'سنی': 963, 'غیردولتی': 964, 'محاکمه': 965, 'هرگونه': 966, 'پیکار': 967, 'برجسته': 968, 'سد': 969, 'قطر': 970, 'ملاقات': 971, 'نقد': 972, 'ترجمه': 973, 'جانبه': 974, 'خرم': 975, 'دقیق': 976, 'رژیم': 977, 'سهم': 978, 'لبنیات': 979, 'لرستان': 980, 'نو': 981, 'برد': 982, 'بهزیستی': 983, 'دانشکده': 984, 'سوریه': 985, 'مازندران': 986, 'مالیات': 987, 'محور': 988, 'مهاجم': 989, 'کشف': 990, 'کوچک': 991, 'آفرین': 992, 'آمریکایی': 993, 'راه\\u200cاندازی': 994, 'نژاد': 995, 'پارلمانی': 996, 'پژوهشگر': 997, 'ارشد': 998, 'بهبود': 999, 'تصویر': 1000, 'حساب': 1001, 'شهردار': 1002, 'لزوم': 1003, 'موقعیت': 1004, 'نمود&نما': 1005, 'همسر': 1006, 'گردهمایی': 1007, 'اتاق': 1008, 'اهل': 1009, 'تبصره': 1010, 'ترابری': 1011, 'سرپرست': 1012, 'شیخ': 1013, 'عربی': 1014, 'عوارض': 1015, 'فهرست': 1016, 'قرن': 1017, 'لبنان': 1018, 'اهواز': 1019, 'برپایی': 1020, 'تایر': 1021, 'توقیف': 1022, 'راهنمایی': 1023, 'سعودی': 1024, 'صعود': 1025, 'فارسی': 1026, 'لوله': 1027, 'ماهنامه': 1028, 'ماهه': 1029, 'نسل': 1030, 'هشتم': 1031, 'کارگردان': 1032, 'آبادان': 1033, 'ثابت': 1034, 'جدیدی': 1035, 'حجم': 1036, 'حد': 1037, 'شریف': 1038, 'مالیاتی': 1039, 'متخصص': 1040, 'مرگ': 1041, 'مهرام': 1042, 'پنجمین': 1043, 'المپیک': 1044, 'حمید': 1045, 'قدیمی': 1046, 'قطع': 1047, 'مدعی': 1048, 'مصر': 1049, 'مقایسه': 1050, 'مناسبات': 1051, 'نگرانی': 1052, 'پخش': 1053, 'پذیرفت&پذیر': 1054, 'کتابخانه': 1055, 'آگاهی': 1056, 'اجازه': 1057, 'احتمال': 1058, 'احساس': 1059, 'اسفند': 1060, 'ایام': 1061, 'بشکه': 1062, 'تحصیل': 1063, 'جلب': 1064, 'حی': 1065, 'خانم': 1066, 'دبیرکل': 1067, 'دوست': 1068, 'راه': 1069, 'روزی': 1070, 'عکس': 1071, 'فکری': 1072, 'متر': 1073, 'نورد': 1074, 'هشت': 1075, 'گیر': 1076, 'استاندارد': 1077, 'افتاد&افت': 1078, 'جانباز': 1079, 'جذب': 1080, 'حسینی': 1081, 'راهی': 1082, 'زندانی': 1083, 'قرآنی': 1084, 'لحاظ': 1085, 'لندن': 1086, 'مرز': 1087, 'وام': 1088, 'ارتباطات': 1089, 'ارتش': 1090, 'اظهارات': 1091, 'برپا': 1092, 'تاج': 1093, 'توافق': 1094, 'خاصی': 1095, 'خاک': 1096, 'راس': 1097, 'زنجان': 1098, 'سپنتا': 1099, 'غذایی': 1100, 'متفاوت': 1101, 'محمدعلی': 1102, 'هند': 1103, 'گمرک': 1104, 'انگلیسی': 1105, 'تروریستی': 1106, 'رمضان': 1107, 'فروردین': 1108, 'قطعا': 1109, 'مسلح': 1110, 'معنا': 1111, 'نقطه': 1112, 'هواپیما': 1113, 'گونه': 1114, 'گیلان': 1115, 'آزادگان': 1116, 'احضار': 1117, 'جریمه': 1118, 'سنتی': 1119, 'شوکوپارس': 1120, 'نیازمند': 1121, 'همت': 1122, 'پیشگیری': 1123, 'گردید&گرد': 1124, 'اخذ': 1125, 'اصغر': 1126, 'بحرین': 1127, 'بلاژویچ': 1128, 'تروریسم': 1129, 'تشویق': 1130, 'تعاونی': 1131, 'تیرماه': 1132, 'رغم': 1133, 'ساماندهی': 1134, 'لاری': 1135, 'لغو': 1136, 'محلی': 1137, 'پست': 1138, 'پسر': 1139, 'کلاس': 1140, 'آشنایی': 1141, 'اخیرا': 1142, 'اروپایی': 1143, 'داستان': 1144, 'سران': 1145, 'مخالف': 1146, 'موانع': 1147, 'آشنا': 1148, 'ابعاد': 1149, 'ارتقا': 1150, 'افتتاح': 1151, 'تجلیل': 1152, 'تمرینات': 1153, 'تنظیم': 1154, 'درج': 1155, 'زیبا': 1156, 'سالگرد': 1157, 'شغلی': 1158, 'صادراتی': 1159, 'مانده': 1160, 'مبارک': 1161, 'متعدد': 1162, 'مجموع': 1163, 'مخاطب': 1164, 'مرحوم': 1165, 'مفهوم': 1166, 'نخست\\u200cوزیر': 1167, 'پیشنهادی': 1168, 'کافی': 1169, 'گشت&گرد': 1170, 'استانداری': 1171, 'ترانسفو': 1172, 'تربیتی': 1173, 'ترک': 1174, 'تولیدات': 1175, 'خبره': 1176, 'دستاورد': 1177, 'رسیدن': 1178, 'زودی': 1179, 'سعدی': 1180, 'عمران': 1181, 'فشار': 1182, 'قاره': 1183, 'قبلی': 1184, 'مدافع': 1185, 'هدایت': 1186, 'پایتخت': 1187, 'پزشک': 1188, 'کریمی': 1189, 'گوناگون': 1190, 'یکصد': 1191, 'آسیایی': 1192, 'اختلاف': 1193, 'ادبی': 1194, 'برزیل': 1195, 'بیمار': 1196, 'حاصل': 1197, 'شهرسازی': 1198, 'منتخب': 1199, 'پوشش': 1200, 'چای': 1201, 'ابزار': 1202, 'انداخت&انداز': 1203, 'انواع': 1204, 'برگشت': 1205, 'بوشهر': 1206, 'بین\\u200cالملل': 1207, 'تجهیزات': 1208, 'خطاب': 1209, 'دیزل': 1210, 'فراکسیون': 1211, 'قرائت': 1212, 'محسوب': 1213, 'مطلوب': 1214, 'نساجی': 1215, 'نهمین': 1216, 'نویسندگان': 1217, 'هفتم': 1218, 'واگذاری': 1219, 'چهارمین': 1220, 'آسیب': 1221, 'اضافه': 1222, 'اولیه': 1223, 'تحلیل': 1224, 'تفحص': 1225, 'توضیح': 1226, 'خوبی': 1227, 'سخنانی': 1228, 'شدت': 1229, 'صحیح': 1230, 'عالم': 1231, 'عضویت': 1232, 'فولادی': 1233, 'مادر': 1234, 'متقاضی': 1235, 'محورسازان': 1236, 'مقابله': 1237, 'اتهامات': 1238, 'احکام': 1239, 'اقتدار': 1240, 'الدین': 1241, 'اینترنت': 1242, 'بسیج': 1243, 'تایلند': 1244, 'تحول': 1245, 'تماس': 1246, 'دشمن': 1247, 'طراحی': 1248, 'عشق': 1249, 'فساد': 1250, 'لقمان': 1251, 'مانع': 1252, 'مرغ': 1253, 'مسکو': 1254, 'مسکونی': 1255, 'مصرف\\u200cکننده': 1256, 'مصوب': 1257, 'مطالعه': 1258, 'معرض': 1259, 'گذشت&گذر': 1260, 'بازدید': 1261, 'بازنشسته': 1262, 'توصیف': 1263, 'سرامیک': 1264, 'سرما': 1265, 'سنندج': 1266, 'سنگین': 1267, 'صادرکننده': 1268, 'صلح': 1269, 'فکر': 1270, 'محصول': 1271, 'مسایل': 1272, 'ناحیه': 1273, 'نشست&نشین': 1274, 'واکنش': 1275, 'چک': 1276, 'کردستان': 1277, 'اختیارات': 1278, 'ارومیه': 1279, 'بازنشستگی': 1280, 'بازگشت': 1281, 'برتری': 1282, 'جرم': 1283, 'جلسات': 1284, 'خاطرنشان': 1285, 'داشت&دار': 1286, 'سن': 1287, 'صنام': 1288, 'عظیم': 1289, 'فرماندار': 1290, 'متوسط': 1291, 'مرزی': 1292, 'پاکسان': 1293, 'اعتماد': 1294, 'اندرکاران': 1295, 'بیکاری': 1296, 'تدارکاتی': 1297, 'خواننده': 1298, 'درگذشت': 1299, 'دریایی': 1300, 'دید': 1301, 'زیست': 1302, 'سابقه': 1303, 'سردار': 1304, 'سنت': 1305, 'ضروری': 1306, 'غربی': 1307, 'غیرنفتی': 1308, 'فردی': 1309, 'قائم': 1310, 'قضاییه': 1311, 'معین': 1312, 'همبستگی': 1313, 'هوایی': 1314, 'کمبود': 1315, 'آما': 1316, 'اعتیاد': 1317, 'برعهده': 1318, 'بزرگسال': 1319, 'حزب': 1320, 'دل': 1321, 'ذوبآهن': 1322, 'روانی': 1323, 'زامیاد': 1324, 'زده': 1325, 'شرکت\\u200cکننده': 1326, 'عام': 1327, 'فاصله': 1328, 'قضا': 1329, 'محروم': 1330, 'منفی': 1331, 'نقاط': 1332, 'هوا': 1333, 'پدر': 1334, 'پروانه': 1335, 'پل': 1336, 'کنفدراسیون': 1337, 'یادداشت': 1338, 'ابلاغ': 1339, 'اهدا': 1340, 'بهپاک': 1341, 'بیش\\u200cترین': 1342, 'بیمارستان': 1343, 'تازه': 1344, 'جلد': 1345, 'دستیابی': 1346, 'سردبیر': 1347, 'سلامت': 1348, 'مصاف': 1349, 'میلاد': 1350, 'نمود': 1351, 'والد': 1352, 'ویژه': 1353, 'تداوم': 1354, 'حاکمیت': 1355, 'دام': 1356, 'رخ': 1357, 'زهرا': 1358, 'صرف': 1359, 'عملی': 1360, 'فرش': 1361, 'مامور': 1362, 'مجید': 1363, 'مستقل': 1364, 'پر': 1365, 'کابینه': 1366, 'کرج': 1367, 'یزد': 1368, 'آرامش': 1369, 'ادعا': 1370, 'اعزام': 1371, 'افزود&افزا': 1372, 'امیدواری': 1373, 'انتخابی': 1374, 'ایفا': 1375, 'ایلام': 1376, 'تخریب': 1377, 'تلفنی': 1378, 'خصوصی\\u200cسازی': 1379, 'درخشان': 1380, 'سبز': 1381, 'شمس': 1382, 'شکر': 1383, 'ضوابط': 1384, 'عبدالله': 1385, 'فرودگاه': 1386, 'قوا': 1387, 'مدیرمسئول': 1388, 'معماری': 1389, 'مینو': 1390, 'واقعیت': 1391, 'انگیزه': 1392, 'اولویت': 1393, 'این\\u200cگونه': 1394, 'تعریف': 1395, 'تماشاگر': 1396, 'تهرانی': 1397, 'جمع\\u200c\\u200cآوری': 1398, 'حاج': 1399, 'حاجی': 1400, 'خشونت': 1401, 'روز': 1402, 'ریشه': 1403, 'شناخت': 1404, 'چالش': 1405, 'کارگاه': 1406, 'کاشان': 1407, 'کشتیرانی': 1408, 'بازسازی': 1409, 'ترکیب': 1410, 'تغییرات': 1411, 'حرف': 1412, 'حقیقت': 1413, 'دایی': 1414, 'رنج': 1415, 'رونق': 1416, 'عمر': 1417, 'مجازات': 1418, 'هواپیمایی': 1419, 'پایانه': 1420, 'کیش': 1421, 'آذرماه': 1422, 'اتباع': 1423, 'اسوه': 1424, 'اعطا': 1425, 'تاسف': 1426, 'تقدیر': 1427, 'ثبات': 1428, 'روش': 1429, 'سنگ': 1430, 'صاحبنظران': 1431, 'غلامرضا': 1432, 'لنت': 1433, 'مراجع': 1434, 'میزبان': 1435, 'واگذار': 1436, 'وگویی': 1437, 'پذیرش': 1438, 'پذیرفته': 1439, 'پرواز': 1440, 'گنجی': 1441, 'یونان': 1442, 'استناد': 1443, 'اسپانیا': 1444, 'ایمنی': 1445, 'بهر': 1446, 'تصمیم\\u200cگیری': 1447, 'تهدید': 1448, 'توشه': 1449, 'جابرابن': 1450, 'حذفی': 1451, 'خطر': 1452, 'داود': 1453, 'رفاه': 1454, 'زیان': 1455, 'سقوط': 1456, 'سنجش': 1457, 'طرف': 1458, 'طولانی': 1459, 'عده\\u200cای': 1460, 'عنصر': 1461, 'فقر': 1462, 'معدنی': 1463, 'نمایند': 1464, 'نهضت': 1465, 'آبگینه': 1466, 'اتریش': 1467, 'اتوبوس': 1468, 'الگو': 1469, 'بالغ': 1470, 'باهنر': 1471, 'بلند': 1472, 'تکنولوژی': 1473, 'جواد': 1474, 'حاکم': 1475, 'دوستانه': 1476, 'زنده': 1477, 'سئوال': 1478, 'فاطمه': 1479, 'فرزند': 1480, 'قبول': 1481, 'لامیران': 1482, 'مجله': 1483, 'مدرس': 1484, 'منجر': 1485, 'منصفه': 1486, 'وزرای': 1487, 'پامچال': 1488, 'کارگردانی': 1489, 'کرمانشاه': 1490, 'اواخر': 1491, 'بچه': 1492, 'تبریک': 1493, 'حافظ': 1494, 'ردیف': 1495, 'رنگ': 1496, 'سیل': 1497, 'شهادت': 1498, 'صادق': 1499, 'لوازم': 1500, 'مجامع': 1501, 'می\\u200cگویند': 1502, 'نوزدهم': 1503, 'نوین': 1504, 'نیلو': 1505, 'وقوع': 1506, 'پشتیبانی': 1507, 'استرالیا': 1508, 'باور': 1509, 'برقراری': 1510, 'بسکتبال': 1511, 'بهره\\u200cگیری': 1512, 'تسلیت': 1513, 'تمدید': 1514, 'جنبش': 1515, 'حقوقدان': 1516, 'خاورمیانه': 1517, 'درجه': 1518, 'دوجانبه': 1519, 'سبب': 1520, 'فرا': 1521, 'فرزندان': 1522, 'مربوطه': 1523, 'معلول': 1524, 'مفید': 1525, 'مندان': 1526, 'نهایت': 1527, 'نور': 1528, 'چندی': 1529, 'ارمنستان': 1530, 'اسفندماه': 1531, 'اعزامی': 1532, 'ایستاد&ایست': 1533, 'تحقیقاتی': 1534, 'تورم': 1535, 'تکمیل': 1536, 'جبران': 1537, 'جنبه': 1538, 'خواهان': 1539, 'خورد&خور': 1540, 'رانندگی': 1541, 'سهامی': 1542, 'سهند': 1543, 'شور': 1544, 'صفت': 1545, 'فراوان': 1546, 'قادر': 1547, 'قربانی': 1548, 'قصه': 1549, 'قطعه': 1550, 'مجدد': 1551, 'معتبر': 1552, 'مقرر': 1553, 'موضوعات': 1554, 'ناصر': 1555, 'نظرات': 1556, 'نگارخانه': 1557, 'واشنگتن': 1558, 'پایین': 1559, 'کشته': 1560, 'استقرار': 1561, 'بعدی': 1562, 'تجدیدنظر': 1563, 'تشکیلات': 1564, 'جهانگیری': 1565, 'خام': 1566, 'خسارت': 1567, 'رضایی': 1568, 'سالروز': 1569, 'سلام': 1570, 'عبور': 1571, 'متناسب': 1572, 'نمی\\u200cتوان': 1573, 'هویت': 1574, 'پرورشی': 1575, 'آفریقا': 1576, 'ابتدایی': 1577, 'استعفا': 1578, 'افست': 1579, 'امین': 1580, 'تختی': 1581, 'تکلیف': 1582, 'جلال': 1583, 'جوامع': 1584, 'حقوق\\u200cبشر': 1585, 'درک': 1586, 'سرعت': 1587, 'ظرف': 1588, 'عرب': 1589, 'مدنی': 1590, 'معنوی': 1591, 'ناظر': 1592, 'هکتار': 1593, 'کارفرما': 1594, 'اتخاذ': 1595, 'احترام': 1596, 'اطلاعاتی': 1597, 'اقشار': 1598, 'بازرسی': 1599, 'بالاتر': 1600, 'بدن': 1601, 'حاکی': 1602, 'دائمی': 1603, 'ساده': 1604, 'سرنوشت': 1605, 'مبنا': 1606, 'نمابر': 1607, 'نگرش': 1608, 'ورزشکار': 1609, 'کاوه': 1610, 'آرژانتین': 1611, 'آگاه': 1612, 'اندیشمند': 1613, 'باران': 1614, 'بازیگر': 1615, 'بهشتی': 1616, 'ترمز': 1617, 'تساوی': 1618, 'حساس': 1619, 'دانشمند': 1620, 'سرطان': 1621, 'سقف': 1622, 'سپتامبر': 1623, 'شعار': 1624, 'فارغ': 1625, 'قدردانی': 1626, 'قزاقستان': 1627, 'محدود': 1628, 'مسافر': 1629, 'نسوز': 1630, 'وسایل': 1631, 'کارت': 1632, 'کلان': 1633, 'یار': 1634, 'اختصاصی': 1635, 'ارزشمند': 1636, 'اسحاق': 1637, 'اندازه': 1638, 'انصاری': 1639, 'برنده': 1640, 'تعرفه': 1641, 'دفاعی': 1642, 'سالم': 1643, 'ستاره': 1644, 'ظهر': 1645, 'عازم': 1646, 'عزت': 1647, 'قبال': 1648, 'ماند&مان': 1649, 'مخالفت': 1650, 'مدارک': 1651, 'مس': 1652, 'مشاهده': 1653, 'نوری': 1654, 'پایگاه': 1655, 'پرویز': 1656, 'پشم': 1657, 'پیشکسوت': 1658, 'گردشگری': 1659, 'ابراهیمی': 1660, 'ادب': 1661, 'اسناد': 1662, 'اوایل': 1663, 'باقری': 1664, 'تحویل': 1665, 'جاده': 1666, 'جن': 1667, 'دستگیری': 1668, 'روی': 1669, 'رویداد': 1670, 'زنجیره': 1671, 'سرزمین': 1672, 'شایسته': 1673, 'طالبان': 1674, 'ماشین': 1675, 'محدودیت': 1676, 'مرتضوی': 1677, 'مرمت': 1678, 'مشغول': 1679, 'مطابق': 1680, 'معضلات': 1681, 'مقوله': 1682, 'مورخ': 1683, 'وثیقه': 1684, 'وکلای': 1685, 'استراتژی': 1686, 'برداشت': 1687, 'بزرگی': 1688, 'بقیه': 1689, 'بلندپایه': 1690, 'تحکیم': 1691, 'تفاهم': 1692, 'تکسرام': 1693, 'جدول': 1694, 'حفاظت': 1695, 'حیات': 1696, 'خانگی': 1697, 'خلیج\\u200cفارس': 1698, 'دخالت': 1699, 'راد': 1700, 'فراوانی': 1701, 'قرار\\u200cبود': 1702, 'متقابل': 1703, 'مستضعف': 1704, 'ناب': 1705, 'نسبی': 1706, 'هشدار': 1707, 'پای': 1708, 'پیمان': 1709, 'کانادا': 1710, 'آلومینیم': 1711, 'اراده': 1712, 'اردن': 1713, 'بختیاری': 1714, 'بهزاد': 1715, 'تبلیغاتی': 1716, 'تخصیص': 1717, 'تک': 1718, 'تکذیب': 1719, 'حمیدرضا': 1720, 'دوچرخه': 1721, 'سیاه': 1722, 'عمیق': 1723, 'فرانسوی': 1724, 'فصلنامه': 1725, 'فقیه': 1726, 'فلسفه': 1727, 'قسمت': 1728, 'قلم': 1729, 'لاستیکی': 1730, 'مجاهد': 1731, 'هادی': 1732, 'وخوزستان': 1733, 'کاربردی': 1734, 'گرامیداشت': 1735, 'گلتاش': 1736, 'آتی': 1737, 'اسرائیل': 1738, 'اعتباری': 1739, 'افزوده': 1740, 'الف': 1741, 'انتفاضه': 1742, 'بخشنامه': 1743, 'برنج': 1744, 'بهداشتی': 1745, 'تبیین': 1746, 'تصدی': 1747, 'جزیره': 1748, 'جمشید': 1749, 'حالت': 1750, 'حج': 1751, 'خادم': 1752, 'خطبه': 1753, 'رفتن': 1754, 'رکود': 1755, 'سهمیه': 1756, 'صدر': 1757, 'فنرسازی': 1758, 'فوتسال': 1759, 'قطعی': 1760, 'ماند': 1761, 'متشکل': 1762, 'مراد': 1763, 'مرتبط': 1764, 'مزبور': 1765, 'مشاغل': 1766, 'مشمول': 1767, 'پارک': 1768, 'پانزدهم': 1769, 'پلیس': 1770, 'یونس': 1771, 'افتخار': 1772, 'الرحمن': 1773, 'الرحیم': 1774, 'الکترونیک': 1775, 'الیاف': 1776, 'ایرلند': 1777, 'بسته': 1778, 'بسم': 1779, 'بوجود': 1780, 'جانشین': 1781, 'درمانی': 1782, 'دیوان': 1783, 'سمینار': 1784, 'سپاه': 1785, 'شیرودی': 1786, 'شیمی': 1787, 'صالح': 1788, 'صحبت': 1789, 'علاقمند': 1790, 'عمان': 1791, 'عین': 1792, 'فضایی': 1793, 'قلبی': 1794, 'متعلق': 1795, 'مدرن': 1796, 'مرور': 1797, 'مرینوس': 1798, 'مند': 1799, 'منچستر': 1800, 'وعده': 1801, 'پیشرفته': 1802, 'گذار': 1803, 'گردیده': 1804, 'یاری': 1805, 'افغانی': 1806, 'انگلستان': 1807, 'بافت': 1808, 'بهای': 1809, 'تابستان': 1810, 'تسریع': 1811, 'تسهیل': 1812, 'تصور': 1813, 'توصیه': 1814, 'ذهن': 1815, 'رایزنی': 1816, 'سفید': 1817, 'شادی': 1818, 'شخصی': 1819, 'صهیونیستی': 1820, 'فاضلاب': 1821, 'مازاد': 1822, 'مخابراتی': 1823, 'مسجدجامعی': 1824, 'مغلوب': 1825, 'موسوم': 1826, 'نقدی': 1827, 'هفتمین': 1828, 'پیامد': 1829, 'چهل': 1830, 'کاغذسازی': 1831, 'گندم': 1832, 'یونایتد': 1833, 'آرزو': 1834, 'آماده\\u200cسازی': 1835, 'اخلاقی': 1836, 'اراضی': 1837, 'ازا': 1838, 'استعداد': 1839, 'ایمان': 1840, 'بندر': 1841, 'بیت': 1842, 'تاخیر': 1843, 'جعفر': 1844, 'خشکسالی': 1845, 'خودداری': 1846, 'داوری': 1847, 'دستگیر': 1848, 'زدن': 1849, 'سازنده': 1850, 'شاغل': 1851, 'شطرنج': 1852, 'شغل': 1853, 'شناخته': 1854, 'عزیز': 1855, 'فرمود&فرما': 1856, 'لحظه': 1857, 'مادرید': 1858, 'مبحث': 1859, 'مختلف': 1860, 'مصوبات': 1861, 'معارفه': 1862, 'معتقد': 1863, 'معدن': 1864, 'معروف': 1865, 'موظف': 1866, 'میزبانی': 1867, 'نوروزی': 1868, 'نیا': 1869, 'نیروگاه': 1870, 'نیشابور': 1871, 'پوشید&پوش': 1872, 'چشمگیر': 1873, 'کارنامه': 1874, 'گذراند&گذران': 1875, 'یوسف': 1876, 'ارتباطی': 1877, 'استانی': 1878, 'اعتقاد': 1879, 'الوند': 1880, 'باتوجه': 1881, 'تسلیم': 1882, 'تعلیم': 1883, 'درپی': 1884, 'دقت': 1885, 'روحانی': 1886, 'شبانه': 1887, 'ضعف': 1888, 'غلامحسین': 1889, 'فوریت': 1890, 'متحده': 1891, 'محکومیت': 1892, 'مدت': 1893, 'منتشر\\u200cشده\\u200cاست': 1894, 'مهلت': 1895, 'نبوده': 1896, 'نجات': 1897, 'نیل': 1898, 'همگانی': 1899, 'وین': 1900, 'پرداخته': 1901, 'پیکر': 1902, 'یادشده': 1903, 'اعم': 1904, 'بازرگان': 1905, 'بازنگری': 1906, 'بدست': 1907, 'برلین': 1908, 'تقسیم': 1909, 'حمل': 1910, 'خروج': 1911, 'دیدن': 1912, 'ریالی': 1913, 'ساکن': 1914, 'سرمایه\\u200cگذار': 1915, 'شانزدهم': 1916, 'شکل\\u200cگیری': 1917, 'صابر': 1918, 'علامه': 1919, 'مترجم': 1920, 'متولد': 1921, 'مقاومت': 1922, 'نظری': 1923, 'نفرات': 1924, 'نویسی': 1925, 'وجه': 1926, 'وسیع': 1927, 'پا': 1928, 'پایدار': 1929, 'پستی': 1930, 'پمپ\\u200cسازی': 1931, 'پنجاه': 1932, 'پیوند': 1933, 'گوش': 1934, 'یونسکو': 1935, 'آبی': 1936, 'آرائ': 1937, 'ارگان': 1938, 'اصولی': 1939, 'انجامید&انجام': 1940, 'انقلابی': 1941, 'برج': 1942, 'برزیلی': 1943, 'بلیت': 1944, 'تحریم': 1945, 'ترویج': 1946, 'تعطیلات': 1947, 'تماشا': 1948, 'توانمندی': 1949, 'خاور': 1950, 'دکترا': 1951, 'رم': 1952, 'روبرو': 1953, 'روح': 1954, 'ریز': 1955, 'سانحه': 1956, 'شکوری': 1957, 'صادره': 1958, 'متنوع': 1959, 'مجاز': 1960, 'محیطی': 1961, 'مصالح': 1962, 'مقیم': 1963, 'مونیخ': 1964, 'میانگین': 1965, 'نقره': 1966, 'پیوست': 1967, 'کالابرگ': 1968, 'کاپیتان': 1969, 'کوچه': 1970, 'ادغام': 1971, 'ایرانگردی': 1972, 'بنزین': 1973, 'بهانه': 1974, 'تری': 1975, 'تلقی': 1976, 'جزئ': 1977, 'حبس': 1978, 'خلاف': 1979, 'خودروسازی': 1980, 'دلاری': 1981, 'زمینی': 1982, 'سمنان': 1983, 'سواری': 1984, 'شیر': 1985, 'فرهاد': 1986, 'فیزیک': 1987, 'قضاوت': 1988, 'قوی': 1989, 'ماشین\\u200cسازی': 1990, 'مبتلا': 1991, 'متوقف': 1992, 'مخبر': 1993, 'معامله': 1994, 'میاندوره\\u200cای': 1995, 'میلان': 1996, 'نام': 1997, 'نشانه': 1998, 'نگهداری': 1999, 'هما': 2000, 'هندبال': 2001, 'ور': 2002, 'پاسخ\\u200cگویی': 2003, 'کلیات': 2004, 'کیلومتر': 2005, 'اجتماع': 2006, 'امینی': 2007, 'انگیخت&انگیز': 2008, 'باغ': 2009, 'برخلاف': 2010, 'برطرف': 2011, 'تجدید': 2012, 'تردید': 2013, 'تفکر': 2014, 'جودو': 2015, 'خلق': 2016, 'درمی': 2017, 'رسول': 2018, 'سوابق': 2019, 'شاه': 2020, 'طوری': 2021, 'عارف': 2022, 'فرماندهی': 2023, 'ماسه': 2024, 'محتوا': 2025, 'محمدصادق': 2026, 'مستمری': 2027, 'نصب': 2028, 'نوروز': 2029, 'هماهنگ': 2030, 'گرامی': 2031, 'یازدهم': 2032, 'آلات': 2033, 'اتمام': 2034, 'اجتماعات': 2035, 'ارزنوع': 2036, 'افتتاحیه': 2037, 'اوضاع': 2038, 'بایست&باید': 2039, 'برادر': 2040, 'بردار': 2041, 'تصویری': 2042, 'تعطیلی': 2043, 'حریم': 2044, 'خون': 2045, 'خیابانی': 2046, 'داده\\u200cپردازی': 2047, 'دایر': 2048, 'درس': 2049, 'دستمزد': 2050, 'ذیل': 2051, 'رتبه': 2052, 'رمید&رم': 2053, 'روحی': 2054, 'سرپرستی': 2055, 'سوخت': 2056, 'شرکت\\u200cکنندگان': 2057, 'شهرک': 2058, 'ضربه': 2059, 'عرض': 2060, 'عکاس': 2061, 'غیرعلنی': 2062, 'قابل\\u200cتوجه': 2063, 'قدس': 2064, 'قطار': 2065, 'قطعنامه': 2066, 'مالزی': 2067, 'ماندن': 2068, 'محرکه': 2069, 'مستمر': 2070, 'معیار': 2071, 'منزل': 2072, 'مهاجر': 2073, 'موافقت\\u200cنامه': 2074, 'نفس': 2075, 'هتل': 2076, 'همتا': 2077, 'هیاتی': 2078, 'ولایت': 2079, 'کاخ': 2080, 'کارکرد': 2081, 'گرایش': 2082, 'آل': 2083, 'آلودگی': 2084, 'انتخاباتی': 2085, 'ایراد': 2086, 'بدهی': 2087, 'بشر': 2088, 'بیژن': 2089, 'تابلو': 2090, 'ترکمنستان': 2091, 'تعطیل': 2092, 'تعقیب': 2093, 'توقف': 2094, 'جدال': 2095, 'داریوش': 2096, 'درصدی': 2097, 'دورایران': 2098, 'ذهنی': 2099, 'رضایت': 2100, 'سحابی': 2101, 'سلامتی': 2102, 'سپاسی': 2103, 'عید': 2104, 'فروند': 2105, 'فوریتی': 2106, 'ماهی': 2107, 'مبادلات': 2108, 'محرومیت': 2109, 'مرد&میر': 2110, 'مردادماه': 2111, 'مشورت': 2112, 'ملک': 2113, 'مواضع': 2114, 'نمایشی': 2115, 'همراهی': 2116, 'پرسید&پرس': 2117, 'آلومینیوم': 2118, 'احمدی': 2119, 'ارتقائ': 2120, 'اساسنامه': 2121, 'العموم': 2122, 'امورخارجه': 2123, 'بلوچستان': 2124, 'بهنام': 2125, 'بهنوش': 2126, 'بیستم': 2127, 'تازگی': 2128, 'تاسیسات': 2129, 'تثبیت': 2130, 'تشکر': 2131, 'تعامل': 2132, 'تمایل': 2133, 'تنش': 2134, 'جو': 2135, 'حماسه': 2136, 'خانوار': 2137, 'دماوند': 2138, 'رادیو': 2139, 'رجایی': 2140, 'روحانیت': 2141, 'ریاضی': 2142, 'سالاری': 2143, 'سرقت': 2144, 'سیستان': 2145, 'سیگار': 2146, 'شاخه': 2147, 'شخص': 2148, 'شرط': 2149, 'شریعتمداری': 2150, 'شمالی': 2151, 'شهریورماه': 2152, 'فردوسی': 2153, 'فقدان': 2154, 'فیلمساز': 2155, 'قاهره': 2156, 'قشر': 2157, 'قول': 2158, 'ماموریت': 2159, 'متوجه': 2160, 'مجیدی': 2161, 'محافل': 2162, 'میانه': 2163, 'نظریه': 2164, 'نقاش': 2165, 'نما': 2166, 'ونزوئلا': 2167, 'پاریس': 2168, 'کاندیدا': 2169, 'گزینش': 2170, 'آدم': 2171, 'اساتید': 2172, 'اشتباه': 2173, 'اینترنتی': 2174, 'بازرس': 2175, 'بامداد': 2176, 'ترافیک': 2177, 'تفاوت': 2178, 'تلخ': 2179, 'توجیه': 2180, 'حجتی': 2181, 'حساسیت': 2182, 'حیدری': 2183, 'دسترسی': 2184, 'دشوار': 2185, 'دغدغه': 2186, 'رمان': 2187, 'صدها': 2188, 'طاهر': 2189, 'طبقه': 2190, 'طلبید&طلب': 2191, 'علیزاده': 2192, 'فرهنگستان': 2193, 'مجروح': 2194, 'معضل': 2195, 'مکلف': 2196, 'میزگرد': 2197, 'نفوذ': 2198, 'پاسداران': 2199, 'پناهنده': 2200, 'چهاردهمین': 2201, 'کالسیمین': 2202, 'کوه': 2203, 'کوی': 2204, 'گمرکی': 2205, 'یادآور': 2206, 'آزادسازی': 2207, 'آزمایش': 2208, 'آصفی': 2209, 'آلمانی': 2210, 'ازبکستان': 2211, 'ازدواج': 2212, 'اندیشید&اندیش': 2213, 'اوقات': 2214, 'ایتالیایی': 2215, 'برگ': 2216, 'بهرام': 2217, 'تحمل': 2218, 'تکواندو': 2219, 'تکیه': 2220, 'ثروت': 2221, 'خاتمه': 2222, 'خاطره': 2223, 'خطوط': 2224, 'خلاقیت': 2225, 'دیوار': 2226, 'سپرد&سپار': 2227, 'شاهین': 2228, 'شناخت&شناس': 2229, 'صحت': 2230, 'صورتی': 2231, 'عبارت': 2232, 'غذا': 2233, 'غلبه': 2234, 'فتح': 2235, 'فن': 2236, 'قابلیت': 2237, 'قندهار': 2238, 'مشاوره': 2239, 'مفاد': 2240, 'پرهیز': 2241, 'پیوستن': 2242, 'کهن': 2243, 'ابتلا': 2244, 'احسان': 2245, 'العاده': 2246, 'امری': 2247, 'امضائ': 2248, 'ایدز': 2249, 'تجسمی': 2250, 'جانب': 2251, 'حامل': 2252, 'خدا': 2253, 'خرمشهر': 2254, 'خواجه': 2255, 'درسی': 2256, 'دوستی': 2257, 'راننده': 2258, 'راهنما': 2259, 'رایانه': 2260, 'رسانه\\u200cای': 2261, 'ساری': 2262, 'سیر': 2263, 'شیلات': 2264, 'ضعیف': 2265, 'طرفین': 2266, 'عکاسی': 2267, 'فاجعه': 2268, 'فیزیکی': 2269, 'فیلمنامه': 2270, 'قرعه': 2271, 'مجری': 2272, 'محاسبه': 2273, 'محوطه': 2274, 'مطالبات': 2275, 'مظاهری': 2276, 'منتقل': 2277, 'موضع': 2278, 'مومن': 2279, 'میرداماد': 2280, 'میهمان': 2281, 'نبوی': 2282, 'نزدیکی': 2283, 'نشان\\u200cدهنده': 2284, 'نفع': 2285, 'همکار': 2286, 'پرشور': 2287, 'کاربراتور': 2288, 'کوشید&کوش': 2289, 'آبزی': 2290, 'آرای': 2291, 'آفرینش': 2292, 'ابومسلم': 2293, 'اثبات': 2294, 'ارکستر': 2295, 'اعظم': 2296, 'ایستگاه': 2297, 'ب': 2298, 'باستانی': 2299, 'بدمینتون': 2300, 'بهشت': 2301, 'بیکار': 2302, 'تالیف': 2303, 'تایمز': 2304, 'تخفیف': 2305, 'تمرین': 2306, 'تنهایی': 2307, 'جایگزین': 2308, 'جعفری': 2309, 'جناب': 2310, 'خالی': 2311, 'خواسته': 2312, 'درد': 2313, 'دروازه': 2314, 'ری': 2315, 'سهراب': 2316, 'شعب': 2317, 'شکایات': 2318, 'طبیعت': 2319, 'طلاق': 2320, 'عزم': 2321, 'علوی': 2322, 'فراگیر': 2323, 'قبیل': 2324, 'قدم': 2325, 'قلعه': 2326, 'محله': 2327, 'مریم': 2328, 'موج': 2329, 'میر': 2330, 'ناوگان': 2331, 'نگرفته': 2332, 'هزاران': 2333, 'هلند': 2334, 'واحدی': 2335, 'وزیری': 2336, 'پکن': 2337, 'پیامبر': 2338, 'پیشین': 2339, 'کارمند': 2340, 'کارگری': 2341, 'کوبا': 2342, 'کیفی': 2343, 'گوشت': 2344, 'یوونتوس': 2345, 'آبادی': 2346, 'افشاری': 2347, 'الکترونیکی': 2348, 'برقرار': 2349, 'بنابر': 2350, 'بندرعباس': 2351, 'تاثیرات': 2352, 'تجمع': 2353, 'تذکر': 2354, 'تفسیر': 2355, 'تولد': 2356, 'تونس': 2357, 'توپ': 2358, 'ثمر': 2359, 'جلوه': 2360, 'حقیقی': 2361, 'دادستان': 2362, 'دارنده': 2363, 'درآمدی': 2364, 'دشت': 2365, 'رسالت': 2366, 'رقع': 2367, 'زایید&زا': 2368, 'زیبایی': 2369, 'سند': 2370, 'سیاستگذاری': 2371, 'سیف': 2372, 'شایعه': 2373, 'ضد': 2374, 'طباطبایی': 2375, 'طراح': 2376, 'غنی': 2377, 'فرو': 2378, 'فلسطینی': 2379, 'قوچان': 2380, 'ماجرا': 2381, 'محوری': 2382, 'مقطع': 2383, 'مهاجرت': 2384, 'موافق': 2385, 'مولف': 2386, 'نابینا': 2387, 'نعمت': 2388, 'نقض': 2389, 'نقلیه': 2390, 'نیک': 2391, 'وسیله': 2392, 'پرده': 2393, 'پلاک': 2394, 'پنبه': 2395, 'چاه': 2396, 'ژاپنی': 2397, 'کارآمد': 2398, 'کامپیوتر': 2399, 'کودکی': 2400, 'کیلومتری': 2401, 'اسماعیل': 2402, 'اصلاح\\u200cطلبان': 2403, 'المپیاد': 2404, 'امن': 2405, 'امیرکبیر': 2406, 'انتخابیه': 2407, 'اندونزی': 2408, 'اینجانب': 2409, 'برآورد': 2410, 'بسر': 2411, 'بلژیک': 2412, 'تخلیه': 2413, 'ترانزیت': 2414, 'تغذیه': 2415, 'تلفیق': 2416, 'توکیو': 2417, 'حبیبی': 2418, 'حرکتی': 2419, 'حکومتی': 2420, 'خورد': 2421, 'داستانی': 2422, 'دبیرستان': 2423, 'دستورالعمل': 2424, 'دوحه': 2425, 'دیداری': 2426, 'رحمت': 2427, 'رقیب': 2428, 'زائر': 2429, 'زدود&زدا': 2430, 'زنگنه': 2431, 'سرتیپ': 2432, 'سو': 2433, 'سیزدهم': 2434, 'صوفی': 2435, 'طلایی': 2436, 'عادی': 2437, 'عبید': 2438, 'عناوین': 2439, 'غیرقابل': 2440, 'فیفا': 2441, 'فیلا': 2442, 'قلب': 2443, 'لیورپول': 2444, 'مال': 2445, 'ماهیت': 2446, 'معرفت': 2447, 'ملکی': 2448, 'ممتاز': 2449, 'منظر': 2450, 'مهرآباد': 2451, 'مکعب': 2452, 'میروسلاو': 2453, 'نامناسب': 2454, 'هجدهم': 2455, 'هفتاد': 2456, 'پاسخگو': 2457, 'پویا': 2458, 'پیچیده': 2459, 'ژیمناستیک': 2460, 'کشت': 2461, 'کوتاهی': 2462, 'کوشش': 2463, 'یونیسف': 2464, 'آذری': 2465, 'آزمایشی': 2466, 'ابهام': 2467, 'اعضائ': 2468, 'امتحانات': 2469, 'انبوه': 2470, 'اوکراین': 2471, 'باب': 2472, 'بایرن': 2473, 'بستر': 2474, 'بنادر': 2475, 'بی\\u200cرویه': 2476, 'تاجیکستان': 2477, 'تبعیض': 2478, 'تجهیز': 2479, 'تربت': 2480, 'تعویق': 2481, 'تقی': 2482, 'تنوع': 2483, 'جنگل': 2484, 'جوانی': 2485, 'جوی': 2486, 'حکایت': 2487, 'خردادماه': 2488, 'خریداری': 2489, 'خطرناک': 2490, 'ذیربط': 2491, 'رئال': 2492, 'روحیه': 2493, 'رییس': 2494, 'ساختمانی': 2495, 'سایه': 2496, 'سبک': 2497, 'سفارت': 2498, 'سوال': 2499, 'شمارگان': 2500, 'شنید&شنو': 2501, 'شنیده': 2502, 'شهدا': 2503, 'صادر\\u200cشده\\u200cاست': 2504, 'عبدالواحد': 2505, 'فریدون': 2506, 'قله': 2507, 'مستقر': 2508, 'مصونیت': 2509, 'مطهر': 2510, 'مهاجرانی': 2511, 'موزد': 2512, 'موقع': 2513, 'نشاط': 2514, 'نشدن': 2515, 'نوازنده': 2516, 'واسطه': 2517, 'وسعت': 2518, 'پنهان': 2519, 'کامیون': 2520, 'کتبی': 2521, 'یازدهمین': 2522, 'آغاز\\u200cشده\\u200cاست': 2523, 'ابوریحان': 2524, 'اثرات': 2525, 'اطمینان': 2526, 'انتظارات': 2527, 'انزلی': 2528, 'اهتمام': 2529, 'اوین': 2530, 'باستان\\u200cشناسی': 2531, 'برنز': 2532, 'بزرگراه': 2533, 'بشریت': 2534, 'بلغارستان': 2535, 'بهینه': 2536, 'بیستمین': 2537, 'تحمیل': 2538, 'تحمیلی': 2539, 'تعهد': 2540, 'توهین': 2541, 'تکرار': 2542, 'جراحی': 2543, 'درصدد': 2544, 'دمشق': 2545, 'ده': 2546, 'دیپلم': 2547, 'رحیم': 2548, 'رسا': 2549, 'روایت': 2550, 'ریاض': 2551, 'زلزله': 2552, 'ساختن': 2553, 'سالگی': 2554, 'سوئاستفاده': 2555, 'سپردن': 2556, 'سکوت': 2557, 'شایستگی': 2558, 'شتاب': 2559, 'شفاف': 2560, 'شیرازی': 2561, 'صفایی': 2562, 'فراز': 2563, 'فراهان': 2564, 'مادی': 2565, 'مایکل': 2566, 'متولی': 2567, 'محمدحسن': 2568, 'مراتب': 2569, 'مشهور': 2570, 'مصنوعی': 2571, 'مقصد': 2572, 'مهرداد': 2573, 'موتوژن': 2574, 'موسی': 2575, 'میانی': 2576, 'می\\u200cآیند': 2577, 'نفره': 2578, 'نهم': 2579, 'هرمزگان': 2580, 'وارداتی': 2581, 'پارسیلون': 2582, 'پشتوانه': 2583, 'پوشاند&پوشان': 2584, 'کاریکاتور': 2585, 'گرد': 2586, 'گرفته\\u200cشده\\u200cاست': 2587, 'آشکار': 2588, 'آواره': 2589, 'احتمالی': 2590, 'اخلاق': 2591, 'استراحت': 2592, 'اف': 2593, 'اقامت': 2594, 'الجزایر': 2595, 'ایده': 2596, 'بازجویی': 2597, 'بانکوک': 2598, 'بردن': 2599, 'بزرگوار': 2600, 'بند': 2601, 'بهادار': 2602, 'بگیران': 2603, 'تاجیک': 2604, 'تخلف': 2605, 'تخلفات': 2606, 'تشدید': 2607, 'تصمیمات': 2608, 'توضیحاتی': 2609, 'جداگانه': 2610, 'جستجو': 2611, 'دادفر': 2612, 'دهمین': 2613, 'راز': 2614, 'رای\\u200cگیری': 2615, 'رقابتی': 2616, 'رویکرد': 2617, 'زاهدان': 2618, 'زیدآبادی': 2619, 'سئوالات': 2620, 'سدید': 2621, 'سرماآفرین': 2622, 'سلیمانی': 2623, 'شانس': 2624, 'شکست&شکن': 2625, 'عراقی': 2626, 'عنایت': 2627, 'قاجار': 2628, 'قدرتمند': 2629, 'مبارکه': 2630, 'مبتنی': 2631, 'متمرکز': 2632, 'مجارستان': 2633, 'محدوده': 2634, 'مظلوم': 2635, 'معافیت': 2636, 'مقالات': 2637, 'ممنوعیت': 2638, 'منظم': 2639, 'نادر': 2640, 'نادیده': 2641, 'نحوی': 2642, 'نظارتی': 2643, 'ورودی': 2644, 'وکلا': 2645, 'پیاده': 2646, 'پیروز': 2647, 'پیوست&پیوند': 2648, 'کاردانی': 2649, 'کاظمی': 2650, 'آماری': 2651, 'آموخته': 2652, 'احساسات': 2653, 'اختتامیه': 2654, 'استثنایی': 2655, 'اشخاص': 2656, 'افزون': 2657, 'اقیانوسیه': 2658, 'امامی': 2659, 'اوج': 2660, 'بالاترین': 2661, 'بحرانی': 2662, 'بشری': 2663, 'بیگانه': 2664, 'تبلیغ': 2665, 'تجربیات': 2666, 'تحرک': 2667, 'تحصیلات': 2668, 'تزریق': 2669, 'تشکیل\\u200cشده\\u200cاست': 2670, 'تشییع': 2671, 'تفکیک': 2672, 'توافقنامه': 2673, 'توفیق': 2674, 'تکریم': 2675, 'جوایز': 2676, 'حامد': 2677, 'خسرو': 2678, 'خواب': 2679, 'خورشید': 2680, 'دادرسی': 2681, 'دادسرا': 2682, 'دانسته': 2683, 'درونی': 2684, 'دوازدهمین': 2685, 'ران': 2686, 'روانه': 2687, 'رود': 2688, 'روزگار': 2689, 'ساحلی': 2690, 'سایت': 2691, 'سعادت': 2692, 'سعدآباد': 2693, 'سلیقه': 2694, 'سه\\u200cگانه': 2695, 'سوئ': 2696, 'سوار': 2697, 'شست&شوی': 2698, 'طهماسب': 2699, 'ظاهر': 2700, 'غم': 2701, 'فرآیند': 2702, 'فرارسیدن': 2703, 'فراغت': 2704, 'قفقاز': 2705, 'ماهانه': 2706, 'مخملباف': 2707, 'مرجع': 2708, 'مشکلاتی': 2709, 'مطمئن': 2710, 'معتاد': 2711, 'معتمد': 2712, 'معنی': 2713, 'ملاک': 2714, 'ناپیوسته': 2715, 'نظریات': 2716, 'نظم': 2717, 'نوبت': 2718, 'هافبک': 2719, 'هدی': 2720, 'وحید': 2721, 'کیا': 2722, 'گسترد&گستر': 2723, 'یادواره': 2724, 'احضاریه': 2725, 'ارزنده': 2726, 'اسب': 2727, 'استانبول': 2728, 'افغان': 2729, 'امداد': 2730, 'انجام\\u200cشده\\u200cاست': 2731, 'بهینه\\u200cسازی': 2732, 'بی\\u200cتوجهی': 2733, 'تابعه': 2734, 'تطبیق': 2735, 'تعیین\\u200cکننده': 2736, 'تنی': 2737, 'تهاجم': 2738, 'جسمانی': 2739, 'حرمت': 2740, 'خسارات': 2741, 'دایره': 2742, 'درحالی': 2743, 'دوازدهم': 2744, 'زد': 2745, 'زیارت': 2746, 'سرانه': 2747, 'سرخ': 2748, 'سلاح': 2749, 'سوخت&سوز': 2750, 'سینماگر': 2751, 'شناسنامه': 2752, 'صرفه\\u200cجویی': 2753, 'غرق': 2754, 'غیرمجاز': 2755, 'فینال': 2756, 'قندشیروان': 2757, 'متوسطه': 2758, 'مجبور': 2759, 'محمدباقر': 2760, 'محمدحسین': 2761, 'مدار': 2762, 'مدیریتی': 2763, 'مصرفی': 2764, 'مظفر': 2765, 'مظهر': 2766, 'معمول': 2767, 'مقدمه': 2768, 'منطق': 2769, 'منوچهر': 2770, 'مهدوی': 2771, 'نخبه': 2772, 'نسب': 2773, 'نفری': 2774, 'نمایشنامه': 2775, 'همان\\u200cطور': 2776, 'وبجنورد': 2777, 'پالایشگاه': 2778, 'پرنده': 2779, 'پولی': 2780, 'پیرو': 2781, 'کادر': 2782, 'گوشه': 2783, 'یزدی': 2784, 'آدمی': 2785, 'آرمان': 2786, 'آگهی': 2787, 'ارجاع': 2788, 'اردوگاه': 2789, 'ارزان': 2790, 'اطفال': 2791, 'الواعظین': 2792, 'امامت': 2793, 'امروزی': 2794, 'اندک': 2795, 'بازتاب': 2796, 'باکو': 2797, 'بزرگ': 2798, 'بومی': 2799, 'بی\\u200cسابقه': 2800, 'تایوان': 2801, 'تدریج': 2802, 'تعلق': 2803, 'تلفات': 2804, 'جرائم': 2805, 'جنتی': 2806, 'حبیبالله': 2807, 'حراست': 2808, 'حرم': 2809, 'حمایتی': 2810, 'خدماتی': 2811, 'درخت': 2812, 'درمورد': 2813, 'درهم': 2814, 'درگیری': 2815, 'دوده': 2816, 'رضوی': 2817, 'روانشناسی': 2818, 'روحانیون': 2819, 'رودخانه': 2820, 'رونالدو': 2821, 'سبزوار': 2822, 'سرب': 2823, 'سرگشاده': 2824, 'سطوح': 2825, 'سلسله': 2826, 'سنگی': 2827, 'شک': 2828, 'صنایع\\u200cدستی': 2829, 'عنان': 2830, 'غلط': 2831, 'فرمانداری': 2832, 'قاطع': 2833, 'قالیباف': 2834, 'قدیم': 2835, 'قید': 2836, 'لطیف': 2837, 'مبادله': 2838, 'مربیگری': 2839, 'معنویت': 2840, 'مفاسد': 2841, 'مقدم': 2842, 'منتشره': 2843, 'نبودن': 2844, 'هزارو': 2845, 'هیچ\\u200cگونه': 2846, 'واژه': 2847, 'پدید': 2848, 'پیچیدگی': 2849, 'چابهار': 2850, 'کسری': 2851, 'کنکور': 2852, 'کوهنوردی': 2853, 'گوناگونی': 2854, 'یکسان\\u200cسازی': 2855, 'یکمین': 2856, 'آبیاری': 2857, 'آرسنال': 2858, 'آفریقایی': 2859, 'آلوده': 2860, 'ابوالقاسم': 2861, 'ادا': 2862, 'اظهارنظر': 2863, 'افسردگی': 2864, 'التحصیلان': 2865, 'امکان\\u200cپذیر': 2866, 'امیرحسین': 2867, 'اهالی': 2868, 'ایثارگر': 2869, 'ایرج': 2870, 'بارگیری': 2871, 'برده': 2872, 'برون': 2873, 'بست': 2874, 'بسط': 2875, 'بلندی': 2876, 'بنیان\\u200cگذار': 2877, 'به\\u200cوسیله': 2878, 'تابستانی': 2879, 'تاثیرگذار': 2880, 'تبریزی': 2881, 'تجربی': 2882, 'تدریس': 2883, 'ترجیح': 2884, 'ترس': 2885, 'تعادل': 2886, 'تعمیق': 2887, 'تعیین\\u200cشده\\u200cاست': 2888, 'تفاهم\\u200cنامه': 2889, 'توابع': 2890, 'توام': 2891, 'توطئه': 2892, 'جسمی': 2893, 'جواب': 2894, 'حیدر': 2895, 'داملران': 2896, 'دخان': 2897, 'درستی': 2898, 'دوومیدانی': 2899, 'راحتی': 2900, 'راهپیمایی': 2901, 'رایانه\\u200cای': 2902, 'رحیمی': 2903, 'روزافزون': 2904, 'ریاضیات': 2905, 'زرین': 2906, 'زیربنایی': 2907, 'ساختاری': 2908, 'سامان': 2909, 'عبدالعلی': 2910, 'عده': 2911, 'علمیه': 2912, 'عملیاتی': 2913, 'فراموش': 2914, 'قاچاقچی': 2915, 'مایع': 2916, 'مجالس': 2917, 'مجریه': 2918, 'مجسمه': 2919, 'محمودی': 2920, 'مشخصا': 2921, 'مطلع': 2922, 'منصوری': 2923, 'موسس': 2924, 'موکل': 2925, 'میهن': 2926, 'ناکامی': 2927, 'نعیمی': 2928, 'نوشهر': 2929, 'نیشکر': 2930, 'هندوستان': 2931, 'وارده': 2932, 'واقعه': 2933, 'واگن': 2934, 'ودر': 2935, 'وکالت': 2936, 'پایداری': 2937, 'پیرانشهر': 2938, 'پیش\\u200cبینی\\u200cشده\\u200cاست': 2939, 'چمن': 2940, 'ژانویه': 2941, 'کوفی': 2942, 'گران': 2943, 'گلوکوزان': 2944, 'یادگیری': 2945, 'یازده': 2946, 'یکم': 2947, 'آهنگساز': 2948, 'اختلافات': 2949, 'ارسالی': 2950, 'ارکان': 2951, 'استیضاح': 2952, 'اسدالله': 2953, 'انحصار': 2954, 'انفجار': 2955, 'اواسط': 2956, 'بابت': 2957, 'باخت': 2958, 'بازمانده': 2959, 'باشگاهی': 2960, 'باقر': 2961, 'بخشیدن': 2962, 'بریتانیا': 2963, 'بیانگر': 2964, 'تامل': 2965, 'تبدیل\\u200cشده\\u200cاست': 2966, 'تحلیلی': 2967, 'تخم': 2968, 'تدارک': 2969, 'تصادفا': 2970, 'تضمین': 2971, 'تکنیک': 2972, 'جاده\\u200cای': 2973, 'جایگزینی': 2974, 'جزو': 2975, 'جناح': 2976, 'جهش': 2977, 'حرفه': 2978, 'حسینیه': 2979, 'حلقه': 2980, 'خانوادگی': 2981, 'خطا': 2982, 'دیوید': 2983, 'راهبرد': 2984, 'رزمایش': 2985, 'روشنی': 2986, 'رکورد': 2987, 'زمستان': 2988, 'سخنران': 2989, 'سرنشین': 2990, 'سرود&سرا': 2991, 'سوره': 2992, 'صلاح': 2993, 'عزیزی': 2994, 'عمق': 2995, 'فاتح': 2996, 'فرم': 2997, 'فشرده': 2998, 'فیبر': 2999, 'فیلیپ': 3000, 'قائن': 3001, 'قرمز': 3002, 'لادن': 3003, 'لعابیران': 3004, 'مالکیت': 3005, 'مبارز': 3006, 'متری': 3007, 'مجرم': 3008, 'مخابرات': 3009, 'مزروعی': 3010, 'مسلم': 3011, 'مغایر': 3012, 'مغز': 3013, 'مقاطع': 3014, 'ملوان': 3015, 'ممنوع': 3016, 'نجفی': 3017, 'نی': 3018, 'هزاره': 3019, 'همایون': 3020, 'همدلی': 3021, 'هموار': 3022, 'هموطن': 3023, 'واجد': 3024, 'وقایع': 3025, 'پاپ': 3026, 'پهلوان': 3027, 'کاراته': 3028, 'کارگیری': 3029, 'کاوش': 3030, 'کتابفروشان': 3031, 'کرواسی': 3032, 'گازی': 3033, 'گرفتار': 3034, 'گشود&گشا': 3035, 'گلزن': 3036, 'گنبد': 3037, 'گور': 3038, 'آهنگ': 3039, 'آواز': 3040, 'اذهان': 3041, 'ارزشی': 3042, 'اسبق': 3043, 'استوار': 3044, 'اسماعیلی': 3045, 'اسکان': 3046, 'اشکال': 3047, 'اصیل': 3048, 'امیررضا': 3049, 'انضباطی': 3050, 'اینترمیلان': 3051, 'باری': 3052, 'بازگشایی': 3053, 'برخورداری': 3054, 'بروجرد': 3055, 'تاجر': 3056, 'تار': 3057, 'تجارب': 3058, 'ترور': 3059, 'ترکی': 3060, 'تضمینی': 3061, 'تعالی': 3062, 'تعدیل': 3063, 'تلگراف': 3064, 'تودیع': 3065, 'جدید': 3066, 'جنایات': 3067, 'جی': 3068, 'حریق': 3069, 'خدمتگزار': 3070, 'خریدار': 3071, 'خواندن': 3072, 'خوانده': 3073, 'داده\\u200cشده\\u200cاست': 3074, 'دامن': 3075, 'دامنه': 3076, 'دریچه': 3077, 'دندان': 3078, 'دوستدار': 3079, 'روان': 3080, 'روشنفکر': 3081, 'زباله': 3082, 'زخمی': 3083, 'ساعات': 3084, 'ستون': 3085, 'سلول': 3086, 'صحن': 3087, 'ضرب': 3088, 'طرفدار': 3089, 'طهماسبی': 3090, 'عبادی': 3091, 'عیسی': 3092, 'فرانکفورت': 3093, 'فرایند': 3094, 'فرستاده': 3095, 'فروخت&فروش': 3096, 'قاسم': 3097, 'قوت': 3098, 'لباس': 3099, 'مبانی': 3100, 'متوالی': 3101, 'مجتبی': 3102, 'مزایا': 3103, 'مساحت': 3104, 'مسافری': 3105, 'مقر': 3106, 'مقننه': 3107, 'ملاحظه': 3108, 'ملایر': 3109, 'نارضایتی': 3110, 'نامید&نام': 3111, 'نصیب': 3112, 'نظرسنجی': 3113, 'نقشه': 3114, 'نوشتن': 3115, 'هاست': 3116, 'وداع': 3117, 'وصول': 3118, 'پاکسازی': 3119, 'پاییز': 3120, 'پروین': 3121, 'چندان': 3122, 'چپ': 3123, 'کابلسازی': 3124, 'کاشانی': 3125, 'کثیر': 3126, 'کلاسیک': 3127, 'کیان': 3128, 'گردش': 3129, 'گمرکات': 3130, 'یکسان': 3131, 'آذربایجانی': 3132, 'ابتکار': 3133, 'اتحاد': 3134, 'احیا': 3135, 'اختلال': 3136, 'استمرار': 3137, 'البرزدارو': 3138, 'اکتشاف': 3139, 'اینتر': 3140, 'باحضور': 3141, 'بازیافت': 3142, 'باند': 3143, 'بدنبال': 3144, 'برداشته': 3145, 'بصورت': 3146, 'بهرامی': 3147, 'بی\\u200cبی': 3148, 'تدبیر': 3149, 'ترانه': 3150, 'تصادف': 3151, 'تصحیح': 3152, 'تضعیف': 3153, 'جریان': 3154, 'جهادکشاورزی': 3155, 'جویا': 3156, 'حفاری': 3157, 'حین': 3158, 'خاموشی': 3159, 'خان': 3160, 'خداحافظی': 3161, 'خداوند': 3162, 'خسروی': 3163, 'درویش': 3164, 'رحمان': 3165, 'روسی': 3166, 'رویا': 3167, 'ساخته\\u200cشده\\u200cاست': 3168, 'سرشار': 3169, 'سطحی': 3170, 'سوئد': 3171, 'شدید': 3172, 'شریعتی': 3173, 'شمخانی': 3174, 'شکاف': 3175, 'شگفتی': 3176, 'صریح': 3177, 'صنعتگر': 3178, 'طالقانی': 3179, 'ظریف': 3180, 'عدد': 3181, 'غیبت': 3182, 'فقیر': 3183, 'قاعده': 3184, 'لاتین': 3185, 'مالک': 3186, 'محاسبات': 3187, 'مدرک': 3188, 'مدنظر': 3189, 'مربع': 3190, 'معلوم': 3191, 'مقره\\u200cسازی': 3192, 'مندرج': 3193, 'مهارت': 3194, 'مو': 3195, 'میثاق': 3196, 'نامبرده': 3197, 'نامدار': 3198, 'نداده': 3199, 'نداشتن': 3200, 'نشین': 3201, 'نصیری': 3202, 'نهادینه': 3203, 'نوربخش': 3204, 'نگران': 3205, 'نیکبخت': 3206, 'هفته\\u200cای': 3207, 'ورزید&ورز': 3208, 'وماشین\\u200cسازی': 3209, 'پژوهشکده': 3210, 'پیاپی': 3211, 'چهارمحال': 3212, 'کرباسیان': 3213, 'کلام': 3214, 'یافته': 3215, 'یمن': 3216, 'آذین': 3217, 'آفتاب': 3218, 'آفرید&آفرین': 3219, 'آلن': 3220, 'آمارگیری': 3221, 'ابراهیمبای': 3222, 'اتومبیل': 3223, 'ارائه\\u200cشده\\u200cاست': 3224, 'ارتفاع': 3225, 'اسکار': 3226, 'اشغالی': 3227, 'افتاده': 3228, 'اقامه': 3229, 'الاتحاد': 3230, 'التحصیل': 3231, 'امان': 3232, 'املاک': 3233, 'ایالت': 3234, 'بابک': 3235, 'باخت&باز': 3236, 'بازارچه': 3237, 'باقیمانده': 3238, 'بروجردی': 3239, 'برگزارکننده': 3240, 'برگزار\\u200cشده\\u200cاست': 3241, 'بزهکار': 3242, 'بستگی': 3243, 'بسیجی': 3244, 'بلوغ': 3245, 'بهروز': 3246, 'بوی': 3247, 'تخمین': 3248, 'تدریجی': 3249, 'تردد': 3250, 'تنگنا': 3251, 'تهیه\\u200cکننده': 3252, 'خجسته': 3253, 'خطیب': 3254, 'خودرودیزل': 3255, 'دریافتی': 3256, 'دفترچه': 3257, 'دوروزه': 3258, 'رساندن': 3259, 'رفیع': 3260, 'رمضانپور': 3261, 'ریخت&ریز': 3262, 'ریزش': 3263, 'زیدان': 3264, 'سامره': 3265, 'سرشناس': 3266, 'سلیمان': 3267, 'سنگاپور': 3268, 'سیاست\\u200cگذاری': 3269, 'شد&شد': 3270, 'شصت': 3271, 'شمارش': 3272, 'شهیدی': 3273, 'صمیمانه': 3274, 'صید': 3275, 'طنز': 3276, 'عابد': 3277, 'عاطفی': 3278, 'عقیده': 3279, 'عمده': 3280, 'غار': 3281, 'غفلت': 3282, 'غلامعلی': 3283, 'فریبا': 3284, 'قاتل': 3285, 'قدمت': 3286, 'قریب': 3287, 'متخلف': 3288, 'محمدجواد': 3289, 'مرودشت': 3290, 'مزیت': 3291, 'مسافربری': 3292, 'مسوول': 3293, 'مصادف': 3294, 'منشا': 3295, 'منع': 3296, 'موادمخدر': 3297, 'موحد': 3298, 'موکول': 3299, 'مکزیک': 3300, 'نادرست': 3301, 'نامگذاری': 3302, 'نامی': 3303, 'نان': 3304, 'نوزاد': 3305, 'نکات': 3306, 'نگریست&نگر': 3307, 'نیاوران': 3308, 'هجوم': 3309, 'وابستگی': 3310, 'وسرامیک': 3311, 'چشمه': 3312, 'ژنو': 3313, 'کاریابی': 3314, 'کاظم': 3315, 'کاویانپور': 3316, 'کمالی': 3317, 'کمتر': 3318, 'کیفری': 3319, 'گیم': 3320, 'یادآوری': 3321, 'یاس': 3322, 'ابن': 3323, 'ابوالفضل': 3324, 'اخراج': 3325, 'اس': 3326, 'استخر': 3327, 'استراتژیک': 3328, 'اظهارداشت': 3329, 'اعتراف': 3330, 'افشار': 3331, 'امت': 3332, 'املاح': 3333, 'امیدوار': 3334, 'امیرالمومنین': 3335, 'بارندگی': 3336, 'باشکوه': 3337, 'بغداد': 3338, 'بنده': 3339, 'بکهام': 3340, 'بیروت': 3341, 'بیع': 3342, 'تحقیقی': 3343, 'تفهیم': 3344, 'توضیحات': 3345, 'توکلی': 3346, 'تکامل': 3347, 'جانی': 3348, 'جلیل': 3349, 'جهانیان': 3350, 'حاوی': 3351, 'حس': 3352, 'حیاتی': 3353, 'خیال': 3354, 'خیریه': 3355, 'داغ': 3356, 'درخشش': 3357, 'دروس': 3358, 'دسترس': 3359, 'دیروزدر': 3360, 'دیپلماتیک': 3361, 'روس': 3362, 'ریلی': 3363, 'زوج': 3364, 'ساحل': 3365, 'ستاری': 3366, 'ستد': 3367, 'سرآغاز': 3368, 'سرویس': 3369, 'سپری': 3370, 'سکو': 3371, 'شمشیربازی': 3372, 'شناور': 3373, 'شکسته': 3374, 'شکوفایی': 3375, 'شگفت': 3376, 'صداوسیما': 3377, 'ظهور': 3378, 'عزیمت': 3379, 'عفو': 3380, 'عقل': 3381, 'فرار': 3382, 'فرزانه': 3383, 'فروشگاه': 3384, 'ماشائالله': 3385, 'محلات': 3386, 'مشتری': 3387, 'مغولستان': 3388, 'منحصر': 3389, 'منعکس': 3390, 'موازین': 3391, 'میل': 3392, 'ناامنی': 3393, 'ناخالص': 3394, 'ناراحتی': 3395, 'نرم': 3396, 'نوبل': 3397, 'نویسان': 3398, 'هوش': 3399, 'پیک': 3400, 'چرخه': 3401, 'کارها': 3402, 'کمیساریای': 3403, 'کننده': 3404, 'گیاه': 3405, 'آحاد': 3406, 'آسیبشناسی': 3407, 'اتکا': 3408, 'اجباری': 3409, 'اخلال': 3410, 'اشرف': 3411, 'اصفهانی': 3412, 'اصلاحیه': 3413, 'اصناف': 3414, 'اعلام\\u200cشده\\u200cاست': 3415, 'الزهرا': 3416, 'انستیتو': 3417, 'انعکاس': 3418, 'انفرادی': 3419, 'اهانت': 3420, 'اوون': 3421, 'اکاذیب': 3422, 'اکباتان': 3423, 'اکرم': 3424, 'بااشاره': 3425, 'بارسلون': 3426, 'بانکداری': 3427, 'بخت': 3428, 'برابری': 3429, 'برشمرد': 3430, 'بقا': 3431, 'بلندمدت': 3432, 'بوسیله': 3433, 'بیرجند': 3434, 'تفریحی': 3435, 'جغرافیایی': 3436, 'جناحی': 3437, 'جنبی': 3438, 'جنجال': 3439, 'جهت\\u200cگیری': 3440, 'حجت': 3441, 'خرسندی': 3442, 'خلیل': 3443, 'خوان': 3444, 'درآمده': 3445, 'دشواری': 3446, 'ذوب': 3447, 'رخداد': 3448, 'رفاهی': 3449, 'رکن': 3450, 'ریسک': 3451, 'زارع': 3452, 'سازندگی': 3453, 'ساعته': 3454, 'سالار': 3455, 'سردبیری': 3456, 'سرهنگ': 3457, 'سریع': 3458, 'سفارش': 3459, 'سوی': 3460, 'سیب': 3461, 'سیدنی': 3462, 'سیروس': 3463, 'شاگرد': 3464, 'شهرت': 3465, 'صادقی': 3466, 'صفوی': 3467, 'صوتی': 3468, 'ضریب': 3469, 'طوسی': 3470, 'عادلانه': 3471, 'عاطفه': 3472, 'عج': 3473, 'عقد': 3474, 'غرفه': 3475, 'فراخواند': 3476, 'فرمان': 3477, 'لوح': 3478, 'ماهواره': 3479, 'مترمربع': 3480, 'مثابه': 3481, 'محاکم': 3482, 'مدیرمسئولی': 3483, 'مذهب': 3484, 'مستحکم': 3485, 'مصور': 3486, 'مقدمات': 3487, 'منامه': 3488, 'مندی': 3489, 'مه': 3490, 'مهار': 3491, 'نماد': 3492, 'نود': 3493, 'نونهالان': 3494, 'هدفمند': 3495, 'هفده': 3496, 'همسایه': 3497, 'هپاتیت': 3498, 'والا': 3499, 'وجوه': 3500, 'پرتو': 3501, 'پرداختی': 3502, 'پرس': 3503, 'پهلوی': 3504, 'پژو': 3505, 'پیر': 3506, 'کاغذ': 3507, 'کشیده': 3508, 'کلانتری': 3509, 'کلمبیا': 3510, 'کوالالامپور': 3511, 'کیلو': 3512, 'گرو': 3513, 'آرمین': 3514, 'آزرد&آزار': 3515, 'آسمان': 3516, 'آموزشگاه': 3517, 'آن': 3518, 'اردبیلی': 3519, 'اشرار': 3520, 'اصلاح\\u200cطلب': 3521, 'اضطراب': 3522, 'افسانه': 3523, 'اقیانوس': 3524, 'انبار': 3525, 'انجام\\u200cشده\\u200c': 3526, 'بخشید&بخش': 3527, 'برومند': 3528, 'بروکسل': 3529, 'بلور': 3530, 'تجزیه': 3531, 'تخصص': 3532, 'تریبون': 3533, 'تعبیر': 3534, 'توانیر': 3535, 'تورنتو': 3536, 'تورنمنت': 3537, 'تپه': 3538, 'جالب': 3539, 'جدایی': 3540, 'جزا': 3541, 'جنسی': 3542, 'حرکات': 3543, 'حسابدار': 3544, 'حیوانات': 3545, 'خلیلی': 3546, 'خوئینی': 3547, 'خودروساز': 3548, 'خورده': 3549, 'دانشور': 3550, 'داوطلبانه': 3551, 'درتهران': 3552, 'دستی': 3553, 'دوسالانه': 3554, 'دیابت': 3555, 'دیار': 3556, 'رها': 3557, 'رواج': 3558, 'روزمره': 3559, 'ریوالدو': 3560, 'زم': 3561, 'زین': 3562, 'سارق': 3563, 'ساوه': 3564, 'سرباز': 3565, 'سفال': 3566, 'سلیم': 3567, 'سهولت': 3568, 'سپهری': 3569, 'سکه': 3570, 'سکونت': 3571, 'سیاستمدار': 3572, 'سیلیس': 3573, 'شاکی': 3574, 'شنا': 3575, 'شهروندی': 3576, 'شهریار': 3577, 'شکنجه': 3578, 'صفا': 3579, 'ضرر': 3580, 'ضلع': 3581, 'ضمانت': 3582, 'طیف': 3583, 'عارضه': 3584, 'عصبی': 3585, 'عطائالله': 3586, 'عهده\\u200cدار': 3587, 'فاطمی': 3588, 'فرسوده': 3589, 'فروشنده': 3590, 'فقره': 3591, 'فیروزکوه': 3592, 'قانونگذاری': 3593, 'قبولی': 3594, 'قراردادن': 3595, 'قوم': 3596, 'لاله': 3597, 'له': 3598, 'لیبی': 3599, 'لیتر': 3600, 'محافظه': 3601, 'محیطزیست': 3602, 'مرتفع': 3603, 'مرغدار': 3604, 'مساعد': 3605, 'مطالعاتی': 3606, 'مغازه': 3607, 'مغزی': 3608, 'منتظر': 3609, 'منصور': 3610, 'منعقد': 3611, 'مهران': 3612, 'موجب\\u200cشده\\u200cاست': 3613, 'میز': 3614, 'ناجا': 3615, 'ناصری': 3616, 'نتوانسته': 3617, 'نوسان': 3618, 'نکردن': 3619, 'نگارش': 3620, 'هجری': 3621, 'هلال': 3622, 'وجودی': 3623, 'وگوهای': 3624, 'پلیسی': 3625, 'پناهجوی': 3626, 'پوست': 3627, 'پیدایش': 3628, 'چمران': 3629, 'کاربرد': 3630, 'کارگزاران': 3631, 'کتابخوانی': 3632, 'کد': 3633, 'کشتار': 3634, 'کمرنگ': 3635, 'کنسرت': 3636, 'گره': 3637, 'یادگار': 3638, 'یاسوج': 3639, 'یزدانی': 3640, 'آرامگاه': 3641, 'آنکارا': 3642, 'آیات': 3643, 'ائتلاف': 3644, 'ابوظبی': 3645, 'اتوبوسرانی': 3646, 'اجاره': 3647, 'استخدام': 3648, 'استدلال': 3649, 'اعتلا': 3650, 'افت': 3651, 'افراسیاب': 3652, 'الحاق': 3653, 'الهلال': 3654, 'الهه': 3655, 'انتصاب': 3656, 'انتقالات': 3657, 'انتهای': 3658, 'انجام\\u200cشده\\u200cدر': 3659, 'انعقاد': 3660, 'اکبری': 3661, 'اکتبر': 3662, 'ایجاد\\u200cشده\\u200cاست': 3663, 'این\\u200cبود': 3664, 'بازپرداخت': 3665, 'بالقوه': 3666, 'بدوی': 3667, 'بستری': 3668, 'بصری': 3669, 'بهترین': 3670, 'بودجه\\u200cریزی': 3671, 'بیات': 3672, 'بین': 3673, 'بینش': 3674, 'تاثیرگذاری': 3675, 'تاکتیکی': 3676, 'تاکید\\u200cشده\\u200cاست': 3677, 'تروریست': 3678, 'تشکیلاتی': 3679, 'تعمیم': 3680, 'تقلید': 3681, 'تور': 3682, 'توسل': 3683, 'ثالث': 3684, 'جاذبه': 3685, 'جامعه\\u200cشناسی': 3686, 'جورج': 3687, 'حائز': 3688, 'حجاج': 3689, 'حسابرسی': 3690, 'حسب': 3691, 'حضوری': 3692, 'حیطه': 3693, 'خبرنامه': 3694, 'خرید&خر': 3695, 'خشن': 3696, 'خطه': 3697, 'خلاق': 3698, 'خوشنویسی': 3699, 'در': 3700, 'دراختیار': 3701, 'درجلسه': 3702, 'دیه': 3703, 'راهبردی': 3704, 'رجبعلی': 3705, 'رحلت': 3706, 'رسم': 3707, 'رمز': 3708, 'روبات': 3709, 'زانو': 3710, 'سازمانی': 3711, 'سازوکار': 3712, 'سختی': 3713, 'سراغ': 3714, 'سرد': 3715, 'سلب': 3716, 'سلطانی': 3717, 'سنگینی': 3718, 'سواد': 3719, 'سیدعلی': 3720, 'سیدمحمود': 3721, 'سیدمصطفی': 3722, 'سیره': 3723, 'شامگاه': 3724, 'شبان': 3725, 'شهاب': 3726, 'شهرری': 3727, 'صاحبامتیازی': 3728, 'صبر': 3729, 'صوفیه': 3730, 'عامه': 3731, 'عباسعلی': 3732, 'عباسی': 3733, 'عبدالعزیز': 3734, 'علامت': 3735, 'غیره': 3736, 'فرخ': 3737, 'فرستاد&فرست': 3738, 'فرسودگی': 3739, 'فرهیخته': 3740, 'فقید': 3741, 'فلسفی': 3742, 'قاسمی': 3743, 'قیام': 3744, 'لوایح': 3745, 'لیسانس': 3746, 'محتشم': 3747, 'مصادیق': 3748, 'مصمم': 3749, 'مفهومی': 3750, 'مهرنوش': 3751, 'موضوعی': 3752, 'موعد': 3753, 'مک': 3754, 'میرزا': 3755, 'میلانی': 3756, 'نابودی': 3757, 'ناکارآمد': 3758, 'نبرد': 3759, 'نروژ': 3760, 'نصیرالدین': 3761, 'نفی': 3762, 'نفیس': 3763, 'نمایندگانی': 3764, 'نوآوری': 3765, 'نوار': 3766, 'نوامبر': 3767, 'نگه': 3768, 'نیازی': 3769, 'نیت': 3770, 'هدیه': 3771, 'هراس': 3772, 'هفتگی': 3773, 'همدردی': 3774, 'هوادار': 3775, 'هوشمند': 3776, 'هوشنگ': 3777, 'واحده': 3778, 'وارشاد': 3779, 'پالایش': 3780, 'پرداختن': 3781, 'پنجره': 3782, 'پژوهان': 3783, 'چراغ': 3784, 'چهاردهم': 3785, 'کاستی': 3786, 'کانال': 3787, 'کتب': 3788, 'کرمانی': 3789, 'کمپرسورسازی': 3790, 'کولایی': 3791, 'کیهان': 3792, 'کیوان': 3793, 'گازرسانی': 3794, 'گالری': 3795, 'گرجستان': 3796, 'گرجی': 3797, 'گزینه': 3798, 'گستره': 3799, 'یادمان': 3800, 'یحیی': 3801, 'یکبار': 3802, 'آرش': 3803, 'آسیبدیدگی': 3804, 'آشامیدنی': 3805, 'آهنی': 3806, 'آیینه': 3807, 'آیینی': 3808, 'احتساب': 3809, 'اخطار': 3810, 'اذعان': 3811, 'ارزشیابی': 3812, 'استحکام': 3813, 'اصحاب': 3814, 'اصرار': 3815, 'افق': 3816, 'الاهلی': 3817, 'الزامی': 3818, 'امیری': 3819, 'اول': 3820, 'ایروان': 3821, 'بابایی': 3822, 'بارز': 3823, 'بارش': 3824, 'بالایی': 3825, 'بانی': 3826, 'براثر': 3827, 'برف': 3828, 'بست&بند': 3829, 'بسزایی': 3830, 'بلاروس': 3831, 'بنگاه': 3832, 'بهسازی': 3833, 'بولبرینگ': 3834, 'بیسکویت': 3835, 'تام': 3836, 'تبار': 3837, 'تعجب': 3838, 'تعزیر': 3839, 'تنیس': 3840, 'توس': 3841, 'تومانی': 3842, 'ثانیه': 3843, 'جابربن': 3844, 'جانبی': 3845, 'جده': 3846, 'جم': 3847, 'جنگلی': 3848, 'جوابگو': 3849, 'حاتمی': 3850, 'حامی': 3851, 'حیث': 3852, 'خدای': 3853, 'خطی': 3854, 'خلبان': 3855, 'خم': 3856, 'خواهر': 3857, 'خوردن': 3858, 'خورشیدی': 3859, 'دارا': 3860, 'داران': 3861, 'دانه': 3862, 'دراز': 3863, 'درجمع': 3864, 'دروازه\\u200cبان': 3865, 'درگیر': 3866, 'دوچرخ': 3867, 'دیدنی': 3868, 'راجع': 3869, 'رده\\u200cبندی': 3870, 'رضازاده': 3871, 'رقبای': 3872, 'رهایی': 3873, 'ریاحی': 3874, 'زحمات': 3875, 'زرگر': 3876, 'سامسونگ': 3877, 'سرو': 3878, 'سودان': 3879, 'سیدعبدالواحد': 3880, 'شبه': 3881, 'شبهه': 3882, 'شجاعی': 3883, 'شرع': 3884, 'شهرام': 3885, 'شیوع': 3886, 'صمیمی': 3887, 'صندلی': 3888, 'صیادی': 3889, 'طالبی': 3890, 'علیجانی': 3891, 'علیپور': 3892, 'غیاب': 3893, 'فراروی': 3894, 'فراموشی': 3895, 'فردا': 3896, 'فرشاد': 3897, 'فروخته': 3898, 'فزاینده': 3899, 'فن\\u200cآوری': 3900, 'لاتزیو': 3901, 'لایه': 3902, 'لیدز': 3903, 'مایل': 3904, 'مایه': 3905, 'مبادرت': 3906, 'مترمکعب': 3907, 'متفکر': 3908, 'مجهز': 3909, 'محبت': 3910, 'محضر': 3911, 'مخدوش': 3912, 'مخصوص': 3913, 'مداخله': 3914, 'مراقبت': 3915, 'مرخصی': 3916, 'مرده': 3917, 'مرو': 3918, 'مسائلی': 3919, 'مسافرتی': 3920, 'مشرف': 3921, 'مصدومیت': 3922, 'مصطفوی': 3923, 'مطرح\\u200cشده\\u200cدر': 3924, 'مطهری': 3925, 'معاف': 3926, 'منازل': 3927, 'موازی': 3928, 'موتلفه': 3929, 'میادین': 3930, 'میسر': 3931, 'نارسایی': 3932, 'نامزدی': 3933, 'نحو': 3934, 'نرسیده': 3935, 'نطق': 3936, 'نقص': 3937, 'نواحی': 3938, 'نکاتی': 3939, 'نیجریه': 3940, 'نیرومحرکه': 3941, 'نیما': 3942, 'هنجار': 3943, 'وبا': 3944, 'ورشکستگی': 3945, 'ولادت': 3946, 'پادشاه': 3947, 'پارلمان': 3948, 'پذیرا': 3949, 'پرورد&پرور': 3950, 'پسند': 3951, 'پنالتی': 3952, 'پوسان': 3953, 'پژمان': 3954, 'پیتر': 3955, 'چهارجانبه': 3956, 'کارآمدی': 3957, 'کبیر': 3958, 'کتابفروشی\\u200cها': 3959, 'کلید': 3960, 'گاو': 3961, 'گذر': 3962, 'گلپایگانی': 3963, 'گمان': 3964, 'یگان': 3965, 'آر': 3966, 'آزرمی': 3967, 'آستان': 3968, 'آقایی': 3969, 'آیت\\u200cالله\\u200cالعظمی': 3970, 'آینه': 3971, 'اجتنابناپذیر': 3972, 'احراز': 3973, 'احمر': 3974, 'ارسال\\u200cشده\\u200cاست': 3975, 'استیجاری': 3976, 'اسلحه': 3977, 'افتخاری': 3978, 'افشین': 3979, 'اقتصاددان': 3980, 'اقلا': 3981, 'التفاوت': 3982, 'التهاب': 3983, 'الجزیره': 3984, 'انتقادات': 3985, 'انحصاری': 3986, 'اندوه': 3987, 'انسجام': 3988, 'اهدائ': 3989, 'اکو': 3990, 'ایالات': 3991, 'ایجاب': 3992, 'ایوانف': 3993, 'باتجربه': 3994, 'برانگیز': 3995, 'برترین': 3996, 'برگزید': 3997, 'بزند': 3998, 'بنی': 3999, 'بنیان': 4000, 'بویراحمد': 4001, 'بی\\u200cتردید': 4002, 'تئوری': 4003, 'تاکسی': 4004, 'تب': 4005, 'تراکتور': 4006, 'تراکم': 4007, 'ترکمن': 4008, 'تضییع': 4009, 'تعرض': 4010, 'تعهدات': 4011, 'تقلیل': 4012, 'توافقی': 4013, 'توانبخشی': 4014, 'توانمند': 4015, 'توقع': 4016, 'تولی': 4017, 'جمع\\u200cبندی': 4018, 'حدی': 4019, 'حیثیت': 4020, 'خدشه': 4021, 'خسته': 4022, 'خطیر': 4023, 'داد': 4024, 'داوود': 4025, 'درحال': 4026, 'درگفت': 4027, 'دزفول': 4028, 'دولتمرد': 4029, 'دگرگونی': 4030, 'دیرباز': 4031, 'دیپلماسی': 4032, 'رابه': 4033, 'راهیابی': 4034, 'رجب': 4035, 'رزمنده': 4036, 'رسیدگی\\u200cکننده': 4037, 'رفتاری': 4038, 'زراعی': 4039, 'زیرزمینی': 4040, 'سده': 4041, 'سطر': 4042, 'سلطه': 4043, 'سوق': 4044, 'سومی': 4045, 'سیدمهدی': 4046, 'شادمانی': 4047, 'شاملو': 4048, 'شاکر': 4049, 'شبیه': 4050, 'شجاع': 4051, 'شمیرانات': 4052, 'شناختی': 4053, 'شهرنشینی': 4054, 'شهرکرد': 4055, 'شورایعالی': 4056, 'شوق': 4057, 'شکوه': 4058, 'شیعی': 4059, 'صاحبامتیاز': 4060, 'صدرنشین': 4061, 'صدری': 4062, 'صف': 4063, 'صهیونیست': 4064, 'طیب': 4065, 'عالیرتبه': 4066, 'عبدالحسین': 4067, 'عدیده': 4068, 'عقیدتی': 4069, 'عنوان\\u200cشده\\u200cاست': 4070, 'غریب': 4071, 'غلام': 4072, 'غیرمترقبه': 4073, 'فاز': 4074, 'فداکاری': 4075, 'فرض': 4076, 'فرید': 4077, 'فلاح': 4078, 'فلزی': 4079, 'فنلاند': 4080, 'قائل': 4081, 'قالی': 4082, 'قلی': 4083, 'قوام': 4084, 'لطف': 4085, 'لهستان': 4086, 'لیست': 4087, 'متکی': 4088, 'محض': 4089, 'مخاطره': 4090, 'مرغداری': 4091, 'مریخ': 4092, 'مسافرت': 4093, 'مشتزنی': 4094, 'مشهود': 4095, 'مصلا': 4096, 'معصومه': 4097, 'ملا': 4098, 'مملکت': 4099, 'مناظره': 4100, 'منش': 4101, 'موفقیت\\u200cآمیز': 4102, 'مکتوب': 4103, 'میدانی': 4104, 'میرزایی': 4105, 'نت': 4106, 'نزدیک': 4107, 'نزول': 4108, 'نشانگر': 4109, 'نمازجمعه': 4110, 'نمودن': 4111, 'نوازی': 4112, 'نوردوقطعات': 4113, 'نیافته': 4114, 'همدانی': 4115, 'همگروه': 4116, 'هوشیاری': 4117, 'واز': 4118, 'ورق': 4119, 'وفاق': 4120, 'ولادیمیر': 4121, 'ونیز': 4122, 'ویتامین': 4123, 'پانزده': 4124, 'پاکستانی': 4125, 'پسته': 4126, 'پیراهن': 4127, 'چاوز': 4128, 'چهارراه': 4129, 'کارآیی': 4130, 'کارشناسانه': 4131, 'کرخه': 4132, 'کشور\\u200cشده\\u200cاست': 4133, 'کلمه': 4134, 'کلیدی': 4135, 'کندی': 4136, 'کنوانسیون': 4137, 'کویر': 4138, 'کی': 4139, 'گرانقدر': 4140, 'گردشگر': 4141, 'گفتار': 4142, 'گلی': 4143, 'گنجینه': 4144, 'یاک': 4145, 'یوگسلاوی': 4146, 'آتن': 4147, 'آث': 4148, 'آرد': 4149, 'آرژانتینی': 4150, 'آسیاست': 4151, 'آغاز\\u200cشده\\u200cو': 4152, 'آمفی': 4153, 'آنتالیا': 4154, 'آوای': 4155, 'آیت': 4156, 'ابزاری': 4157, 'اتفاقی': 4158, 'اتمی': 4159, 'احوال': 4160, 'ارتحال': 4161, 'اسامه': 4162, 'استرس': 4163, 'اسقف': 4164, 'اصطلاح': 4165, 'اضطراری': 4166, 'اعتصاب': 4167, 'اعدام': 4168, 'اعطایی': 4169, 'اعلامیه': 4170, 'الزام': 4171, 'النصر': 4172, 'امتحان': 4173, 'اکران': 4174, 'ایستادگی': 4175, 'باتور': 4176, 'بازاریابی': 4177, 'بازبینی': 4178, 'بازمی': 4179, 'بافی': 4180, 'بجا': 4181, 'بدلیل': 4182, 'بدنه': 4183, 'بردارد': 4184, 'برشمردن': 4185, 'برقی': 4186, 'برهم': 4187, 'برکناری': 4188, 'بستن': 4189, 'بعنوان': 4190, 'بنگلادش': 4191, 'بورقانی': 4192, 'بوستان': 4193, 'بوسنی': 4194, 'بوش': 4195, 'بینی': 4196, 'بیگی': 4197, 'بی\\u200cتفاوت': 4198, 'تخته': 4199, 'تدابیر': 4200, 'تراز': 4201, 'ترافیکی': 4202, 'تشویش': 4203, 'تعمیر': 4204, 'تقویم': 4205, 'تمرکز': 4206, 'تندیس': 4207, 'تهمینه': 4208, 'توازن': 4209, 'توافقات': 4210, 'توفان': 4211, 'تیزرو': 4212, 'جدیت': 4213, 'جذاب': 4214, 'جست': 4215, 'جعبه': 4216, 'جغرافیا': 4217, 'جوابیه\\u200cای': 4218, 'جوار': 4219, 'حسابداری': 4220, 'حصول': 4221, 'حمام': 4222, 'حمد': 4223, 'خاطرات': 4224, 'خرد': 4225, 'خشک': 4226, 'خواری': 4227, 'خودکشی': 4228, 'خوشنویس': 4229, 'خوی': 4230, 'دامدار': 4231, 'دامپزشکی': 4232, 'دبی': 4233, 'درازمدت': 4234, 'دردناک': 4235, 'درسال': 4236, 'دستگیرشده': 4237, 'دموکراسی': 4238, 'دهان': 4239, 'دوبی': 4240, 'راحل': 4241, 'رشدی': 4242, 'رهن': 4243, 'رودسر': 4244, 'رویارویی': 4245, 'رویه': 4246, 'زاویه': 4247, 'زاید': 4248, 'زر': 4249, 'زعفران': 4250, 'زمین\\u200cشناسی': 4251, 'زیارتی': 4252, 'زیرمجموعه': 4253, 'سازماندهی': 4254, 'ساعی': 4255, 'سال\\u200cها': 4256, 'سبد': 4257, 'سر': 4258, 'سریال': 4259, 'سمع': 4260, 'سوادآموزی': 4261, 'سیاوش': 4262, 'سیمرغ': 4263, 'سیگاری': 4264, 'شجریان': 4265, 'شرعی': 4266, 'شعبان': 4267, 'شناخته\\u200cشده\\u200cاست': 4268, 'شهرستانی': 4269, 'شوروی': 4270, 'شین': 4271, 'صحرا': 4272, 'صدد': 4273, 'صدمه': 4274, 'صراحت': 4275, 'صفویه': 4276, 'صنوف': 4277, 'ضبط': 4278, 'طبا': 4279, 'عاشقانه': 4280, 'عجیب': 4281, 'عطر': 4282, 'عینی': 4283, 'غفور': 4284, 'فائق': 4285, 'فراخوان': 4286, 'فرزاد': 4287, 'فروغی': 4288, 'فشرد&فشار': 4289, 'فلزات': 4290, 'فوری': 4291, 'فی': 4292, 'فیمابین': 4293, 'قشم': 4294, 'قضیه': 4295, 'قوطی': 4296, 'قیمت\\u200cگذاری': 4297, 'لازمه': 4298, 'مابه': 4299, 'مارک': 4300, 'ماریا': 4301, 'ماندگار': 4302, 'مبهم': 4303, 'متاهل': 4304, 'متحمل': 4305, 'متعادل': 4306, 'متعهد': 4307, 'متغیر': 4308, 'متون': 4309, 'مثال': 4310, 'مجرد': 4311, 'محسنی': 4312, 'مختار': 4313, 'مداوا': 4314, 'مدینه': 4315, 'مستلزم': 4316, 'مشروط': 4317, 'مشی': 4318, 'مصدوم': 4319, 'مضمون': 4320, 'مطرح\\u200cشده\\u200cاست': 4321, 'مطمئنا': 4322, 'معبر': 4323, 'معطوف': 4324, 'مفقود': 4325, 'مناقشه': 4326, 'مودب': 4327, 'موشک': 4328, 'مولانا': 4329, 'مکتب': 4330, 'مکرم': 4331, 'میلیون': 4332, 'مینا': 4333, 'میوه': 4334, 'می\\u200cنمایند': 4335, 'ناشنوا': 4336, 'نامطلوب': 4337, 'نغمه': 4338, 'نقدینگی': 4339, 'نوجوانی': 4340, 'نژادپرست': 4341, 'هاشم': 4342, 'هرتابرلین': 4343, 'هشتاد': 4344, 'همراه\\u200cبود': 4345, 'همیشگی': 4346, 'هندی': 4347, 'هنگ': 4348, 'هواشناسی': 4349, 'هوانیروز': 4350, 'هیجان': 4351, 'واردکننده': 4352, 'والنسیا': 4353, 'وزنی': 4354, 'ویروس': 4355, 'پاداش': 4356, 'پارسی': 4357, 'پانصد': 4358, 'پایبندی': 4359, 'پرچم': 4360, 'پری': 4361, 'پلاستیران': 4362, 'پمپ': 4363, 'پیشینه': 4364, 'چاره': 4365, 'چوب': 4366, 'ژان': 4367, 'کاربری': 4368, 'کاروان': 4369, 'کریدور': 4370, 'کسر': 4371, 'کشور\\u200cبود': 4372, 'کشیدن': 4373, 'کناره\\u200cگیری': 4374, 'کهنه': 4375, 'گذرا': 4376, 'گرافیک': 4377, 'گرده': 4378, 'گرسنگی': 4379, 'گشوده': 4380, 'گلزنی': 4381, 'گم': 4382, 'آبانماه': 4383, 'آسایش': 4384, 'آسیبدیده': 4385, 'ابهامات': 4386, 'اتلاف': 4387, 'احقاق': 4388, 'ارتفاعات': 4389, 'ارج': 4390, 'اروگوئه': 4391, 'استحضار': 4392, 'استکبار': 4393, 'اسپانیایی': 4394, 'اسکی': 4395, 'اسید': 4396, 'اشاعه': 4397, 'افراطی': 4398, 'اقبال': 4399, 'البدل': 4400, 'البلاغه': 4401, 'السد': 4402, 'السلام': 4403, 'الهام': 4404, 'امتیازات': 4405, 'انصراف': 4406, 'انیمیشن': 4407, 'اکریل': 4408, 'ایوان': 4409, 'بازدیدکننده': 4410, 'باسابقه': 4411, 'باستان\\u200cشناس': 4412, 'بدیهی': 4413, 'برآورده': 4414, 'براندازی': 4415, 'براین': 4416, 'برساند': 4417, 'برگزارشد': 4418, 'بعداز': 4419, 'بنیادین': 4420, 'تاکتیک': 4421, 'تبعات': 4422, 'تجاوز': 4423, 'تجلی': 4424, 'تحریریه': 4425, 'ترسیم': 4426, 'تشنج': 4427, 'تعمق': 4428, 'تقابل': 4429, 'تمامیت': 4430, 'تنگ': 4431, 'تهیه\\u200cشده\\u200cاست': 4432, 'توانا': 4433, 'توکل': 4434, 'تیپ': 4435, 'جابه': 4436, 'جراید': 4437, 'جنس': 4438, 'جوایزی': 4439, 'حاصله': 4440, 'حالیکه': 4441, 'حدودی': 4442, 'حزبالله': 4443, 'حکیم': 4444, 'حیرت': 4445, 'خاتم': 4446, 'خاموش': 4447, 'خداداد': 4448, 'خرج': 4449, 'خوابگاه': 4450, 'دائم': 4451, 'دامی': 4452, 'دان': 4453, 'درنظر': 4454, 'دروغ': 4455, 'درکشور': 4456, 'دریابان': 4457, 'دستخوش': 4458, 'دعا': 4459, 'دلسوز': 4460, 'دهلی': 4461, 'دوری': 4462, 'دوکشور': 4463, 'دکترعبیدی': 4464, 'دیرینه': 4465, 'ذاتی': 4466, 'رابرت': 4467, 'رادر': 4468, 'رادیاتور': 4469, 'راکعی': 4470, 'رایگان': 4471, 'رباط': 4472, 'ربانی': 4473, 'ردصلاحیت': 4474, 'رستم': 4475, 'رهنمود': 4476, 'روال': 4477, 'رومانی': 4478, 'ریال\\u200cبود': 4479, 'زخم': 4480, 'زرافشان': 4481, 'زرتشتی': 4482, 'زمره': 4483, 'زننده': 4484, 'زیرنظر': 4485, 'زیست\\u200cشناس': 4486, 'سام': 4487, 'ستار': 4488, 'سرود': 4489, 'سروش': 4490, 'سلطان': 4491, 'سودمند': 4492, 'سگ': 4493, 'سیدحسین': 4494, 'سیدمرتضی': 4495, 'سیم': 4496, 'شاهرخ': 4497, 'شتافت&شتاب': 4498, 'شعاع': 4499, 'شفافیت': 4500, 'شواهد': 4501, 'شوهر': 4502, 'صخره': 4503, 'صداقت': 4504, 'صلابت': 4505, 'طلب': 4506, 'عاری': 4507, 'عشایری': 4508, 'عطف': 4509, 'عظمت': 4510, 'عوض': 4511, 'غزل': 4512, 'فاصل': 4513, 'فانی': 4514, 'فراگیری': 4515, 'فروغ': 4516, 'فروپاشی': 4517, 'فرگوسن': 4518, 'فریبرز': 4519, 'فطر': 4520, 'فیض': 4521, 'فیگو': 4522, 'قراردادی': 4523, 'قرارگاه': 4524, 'قربان': 4525, 'قصر': 4526, 'قلمرو': 4527, 'لطمه': 4528, 'مابقی': 4529, 'مارادونا': 4530, 'مارس': 4531, 'ماهواره\\u200cای': 4532, 'مبارزات': 4533, 'مبتکر': 4534, 'متحول': 4535, 'متقی': 4536, 'متناقض': 4537, 'محال': 4538, 'محبوب': 4539, 'مد': 4540, 'مداوم': 4541, 'مدل': 4542, 'مراتع': 4543, 'مراغه': 4544, 'مرحله\\u200cای': 4545, 'مرغاب': 4546, 'مزار': 4547, 'مسلحانه': 4548, 'مسیحی': 4549, 'مطروحه': 4550, 'مطلق': 4551, 'معزالدین': 4552, 'معمار': 4553, 'مناقصه': 4554, 'منتشر\\u200cشده\\u200c': 4555, 'منزلت': 4556, 'منشی': 4557, 'مواجه\\u200cشده\\u200cاست': 4558, 'موتور': 4559, 'موجبات': 4560, 'مور': 4561, 'مورد': 4562, 'موزون': 4563, 'موضوعاتی': 4564, 'مولد': 4565, 'مولوی': 4566, 'مکالمه': 4567, 'مگاوات': 4568, 'میلیاردو': 4569, 'مین': 4570, 'میناوند': 4571, 'ناطق': 4572, 'ناپذیر': 4573, 'ناچار': 4574, 'نایف': 4575, 'نجوا': 4576, 'نرخی': 4577, 'نرگس': 4578, 'نسوزایران': 4579, 'نظرخواهی': 4580, 'نمایان': 4581, 'نهج': 4582, 'نهفته': 4583, 'نواب': 4584, 'نویسندگی': 4585, 'نیکوکاری': 4586, 'هالیوود': 4587, 'هسته\\u200cای': 4588, 'هیاهو': 4589, 'وترابری': 4590, 'وحشت': 4591, 'ونک': 4592, 'ویکمین': 4593, 'پاتر': 4594, 'پاراگوئه': 4595, 'پاسدار': 4596, 'پاولودار': 4597, 'پراکنده': 4598, 'پرتاب': 4599, 'پرداخت\\u200cشده\\u200cاست': 4600, 'پروفسور': 4601, 'پرکار': 4602, 'پوتین': 4603, 'پیروی': 4604, 'چاق': 4605, 'چرخ': 4606, 'چرخش': 4607, 'ژوئن': 4608, 'کاست': 4609, 'کاسترو': 4610, 'کبد': 4611, 'کشمش': 4612, 'کور': 4613, 'کوروش': 4614, 'گذرنامه': 4615, 'گله': 4616, 'گناه': 4617, 'گودرزی': 4618, 'گوشزد': 4619, 'یادبود': 4620, 'یدالله': 4621, 'یوفا': 4622, 'آبادانی': 4623, 'آنت': 4624, 'آنتونیو': 4625, 'آگاهانه': 4626, 'ابطال': 4627, 'اجرای\\u200cبند': 4628, 'احد': 4629, 'احمدرضا': 4630, 'احیائ': 4631, 'اذان': 4632, 'استخراج': 4633, 'استخوان': 4634, 'اسد': 4635, 'اسکله': 4636, 'اسیر': 4637, 'اشک': 4638, 'اشکوری': 4639, 'اعاده': 4640, 'اعتنا': 4641, 'اعلا': 4642, 'افتادن': 4643, 'افزارهای': 4644, 'اقساطی': 4645, 'ال': 4646, 'انتقادی': 4647, 'اندام': 4648, 'انکار': 4649, 'اهرم': 4650, 'او': 4651, 'اولیا': 4652, 'ایرادات': 4653, 'بازیکنانی': 4654, 'بجنورد': 4655, 'بخاطر': 4656, 'بدترین': 4657, 'بدو': 4658, 'بذر': 4659, 'برانگیخت': 4660, 'براون': 4661, 'برن': 4662, 'برپایه': 4663, 'بصیرت': 4664, 'بلا': 4665, 'بلوار': 4666, 'بمب': 4667, 'بندرانزلی': 4668, 'به': 4669, 'بها': 4670, 'بهبودی': 4671, 'بوت': 4672, 'بیرونی': 4673, 'بیم': 4674, 'بیمارستانی': 4675, 'بی\\u200cطرف': 4676, 'بی\\u200cعدالتی': 4677, 'تاثر': 4678, 'تاریخچه': 4679, 'تاشکند': 4680, 'تحسین': 4681, 'تخت': 4682, 'تضاد': 4683, 'تعویض': 4684, 'تقاطع': 4685, 'تناسب': 4686, 'توتال': 4687, 'تکراری': 4688, 'تکمیلی': 4689, 'تیره': 4690, 'جاندار': 4691, 'جد': 4692, 'جسد': 4693, 'جمال': 4694, 'جنجالی': 4695, 'جنگی': 4696, 'جهات': 4697, 'جهانگرد': 4698, 'جوابیه': 4699, 'جواز': 4700, 'حاد': 4701, 'حبیب': 4702, 'حسنی': 4703, 'حفاظتی': 4704, 'حکیمی': 4705, 'خالد': 4706, 'خزانه': 4707, 'دخترانه': 4708, 'درایت': 4709, 'درشت': 4710, 'درمجلس': 4711, 'دره': 4712, 'دسامبر': 4713, 'دستورات': 4714, 'دستیار': 4715, 'دما': 4716, 'دمکراسی': 4717, 'دوازده': 4718, 'دورود': 4719, 'دوش': 4720, 'دویست': 4721, 'دیجیتال': 4722, 'دیماه': 4723, 'دیپلمات': 4724, 'رابی': 4725, 'رایج': 4726, 'ربط': 4727, 'رشادت': 4728, 'رهام': 4729, 'رژه': 4730, 'ریشه\\u200cای': 4731, 'زعفرانیه': 4732, 'زنگ': 4733, 'زور': 4734, 'زیانبار': 4735, 'زیربنا': 4736, 'زیستی': 4737, 'سازگاری': 4738, 'سالیان': 4739, 'ساوجبلاغ': 4740, 'سایپاآذین': 4741, 'ستاند&ستان': 4742, 'سرگرم': 4743, 'سعدی\\u200cشناسی': 4744, 'سلمان': 4745, 'سم': 4746, 'سهیلا': 4747, 'سوری': 4748, 'سپهر': 4749, 'سیدحسن': 4750, 'سیدمحمدخاتمی': 4751, 'سینه': 4752, 'شاد': 4753, 'شادروان': 4754, 'شارون': 4755, 'شانه': 4756, 'شاهنامه': 4757, 'شایع': 4758, 'شخصیتی': 4759, 'شفق': 4760, 'شفیعی': 4761, 'شموشک': 4762, 'شنیدن': 4763, 'شهریه': 4764, 'شکستن': 4765, 'صانعی': 4766, 'صعودکننده': 4767, 'صفحه\\u200cای': 4768, 'طبقه\\u200cبندی': 4769, 'طرز': 4770, 'طعمه': 4771, 'ظاهری': 4772, 'عابر': 4773, 'عادت': 4774, 'عاشق': 4775, 'عاشورا': 4776, 'عذرخواهی': 4777, 'عسلویه': 4778, 'عظام': 4779, 'عقاید': 4780, 'عقیق': 4781, 'عنوان': 4782, 'غنا': 4783, 'غیرانتفاعی': 4784, 'فایده': 4785, 'فدرال': 4786, 'فرشته': 4787, 'فروشندگی': 4788, 'فلات': 4789, 'فلاحی': 4790, 'فهم': 4791, 'فیروز': 4792, 'فیلم\\u200cبرداری': 4793, 'فیورنتینا': 4794, 'قبرس': 4795, 'لامپ': 4796, 'لشکر': 4797, 'لغایت': 4798, 'ماندگاری': 4799, 'متاثر': 4800, 'متال': 4801, 'متداول': 4802, 'متعالی': 4803, 'مجال': 4804, 'مجسمه\\u200cسازی': 4805, 'محرم': 4806, 'محوریت': 4807, 'مخرب': 4808, 'مددکار': 4809, 'مدون': 4810, 'مرهون': 4811, 'مروج': 4812, 'مساوی': 4813, 'مشتاق': 4814, 'مشخص\\u200cشده\\u200cاست': 4815, 'مشکینی': 4816, 'معیشتی': 4817, 'مقالاتی': 4818, 'ممانعت': 4819, 'منتظری': 4820, 'منطبق': 4821, 'منچستریونایتد': 4822, 'موجودیت': 4823, 'مکارم': 4824, 'میلیون\\u200cها': 4825, 'ناشناخته': 4826, 'ناقص': 4827, 'نامساعد': 4828, 'نامعلوم': 4829, 'ناهنجاری': 4830, 'ناچیز': 4831, 'ناکارآمدی': 4832, 'نشسته': 4833, 'نفرت': 4834, 'نمره': 4835, 'نهادن': 4836, 'نهاده': 4837, 'نواخت&نواز': 4838, 'نوپا': 4839, 'نوید': 4840, 'نگارنده': 4841, 'نیرومند': 4842, 'نیکوکار': 4843, 'هرمز': 4844, 'هریک': 4845, 'هزینه\\u200cشده\\u200cاست': 4846, 'هوگو': 4847, 'وا': 4848, 'ورامین': 4849, 'ورزیران': 4850, 'ون': 4851, 'وپرورش': 4852, 'ویکتور': 4853, 'ویکم': 4854, 'پاسداشت': 4855, 'پرافتخار': 4856, 'پیروانی': 4857, 'پیمانکار': 4858, 'پیمود&پیما': 4859, 'چاپ\\u200cشده\\u200cاست': 4860, 'چلسی': 4861, 'چیز': 4862, 'ژنتیک': 4863, 'کارایی': 4864, 'کارلوس': 4865, 'کاریکاتوریست': 4866, 'کاستن': 4867, 'کام': 4868, 'کبدی': 4869, 'کدیور': 4870, 'کذب': 4871, 'کرمی': 4872, 'کسوت': 4873, 'کودکانی': 4874, 'کوفت&کوب': 4875, 'کیف': 4876, 'گذاشته\\u200cشده\\u200cاست': 4877, 'گفتمان': 4878, 'گلایه': 4879, 'گلوله': 4880, 'گیرنده': 4881, 'یخ': 4882, 'آبرو': 4883, 'آرمانی': 4884, 'آریل': 4885, 'آزار': 4886, 'آزرم': 4887, 'آشتی': 4888, 'آموزه': 4889, 'آمیخت&آمیز': 4890, 'آن\\u200cبود': 4891, 'آکادمی': 4892, 'آیرس': 4893, 'احتیاط': 4894, 'اختراع': 4895, 'اختلالات': 4896, 'اخوان': 4897, 'ارائه\\u200cشده\\u200cدر': 4898, 'اردل': 4899, 'اردکانی': 4900, 'ارمغان': 4901, 'استثنا': 4902, 'استفساریه': 4903, 'اسلامشهر': 4904, 'اشتباها': 4905, 'اشغال': 4906, 'اشکالات': 4907, 'اصطلاحا': 4908, 'اطاعت': 4909, 'اعتقادات': 4910, 'اعتمادسازی': 4911, 'افتخارات': 4912, 'افراط': 4913, 'افسر': 4914, 'افکند&افکن': 4915, 'اقلیت': 4916, 'الاوسط': 4917, 'البر': 4918, 'الشان': 4919, 'الشرق': 4920, 'العمل': 4921, 'المسلمین': 4922, 'الملک': 4923, 'الکساندر': 4924, 'امیدوارکننده': 4925, 'انجام\\u200cشده\\u200cاز': 4926, 'انجام\\u200cشده\\u200cبرای': 4927, 'انگشت': 4928, 'اوائل': 4929, 'اوقاف': 4930, 'ایرانشهر': 4931, 'ایست': 4932, 'ایستاده': 4933, 'بار': 4934, 'بازدهی': 4935, 'باستان': 4936, 'باطل': 4937, 'باعث\\u200cشده\\u200cاست': 4938, 'باغبانی': 4939, 'بدیع': 4940, 'برآن': 4941, 'برداشتن': 4942, 'برشمردند': 4943, 'برلزوم': 4944, 'برگرفته': 4945, 'برگزیدند': 4946, 'بشار': 4947, 'بقایا': 4948, 'بهاری': 4949, 'بوندس': 4950, 'تا': 4951, 'تاجرنیا': 4952, 'تاز': 4953, 'تاکیدکرد': 4954, 'تایپه': 4955, 'تجویز': 4956, 'تحریف': 4957, 'تحلیف': 4958, 'تحولاتی': 4959, 'تذکرات': 4960, 'ترقی': 4961, 'ترمزایران': 4962, 'ترکاند&ترکان': 4963, 'تسلط': 4964, 'تصرف': 4965, 'تصویبنامه': 4966, 'تعزیه': 4967, 'تعلیق': 4968, 'تغییراتی': 4969, 'تفویض': 4970, 'تماسی': 4971, 'تمتع': 4972, 'تندرستی': 4973, 'تنظیم\\u200cشده\\u200cاست': 4974, 'توماس': 4975, 'تکنیکی': 4976, 'تیتر': 4977, 'تیراندازی': 4978, 'ثروتمند': 4979, 'جابر': 4980, 'جمیله': 4981, 'جنایت': 4982, 'جندقی': 4983, 'حاضر': 4984, 'حافظه': 4985, 'حدیث': 4986, 'حسرت': 4987, 'خزانه\\u200cدار': 4988, 'دادستانی': 4989, 'دادوستد': 4990, 'دارفانی': 4991, 'داروی': 4992, 'درخواهد': 4993, 'درنهایت': 4994, 'درید&در': 4995, 'دفع': 4996, 'دقایق': 4997, 'دوام': 4998, 'دوربین': 4999, 'دوما': 5000, 'رامسر': 5001, 'رحمانی': 5002, 'رسولی': 5003, 'رنگی': 5004, 'رودکی': 5005, 'روستائیان': 5006, 'ریخت': 5007, 'زبانی': 5008, 'زمینه\\u200cسازی': 5009, 'سازگارنژاد': 5010, 'ستایش': 5011, 'سربازی': 5012, 'سردرگمی': 5013, 'سرلوحه': 5014, 'سرگرمی': 5015, 'سنا': 5016, 'سیاستگذاران': 5017, 'شفاف\\u200cسازی': 5018, 'شفاهی': 5019, 'شلیک': 5020, 'شوکو': 5021, 'شگفت\\u200cانگیز': 5022, 'شیخی': 5023, 'صداگذاری': 5024, 'صفحات': 5025, 'صله': 5026, 'صمد': 5027, 'ضایعه': 5028, 'طوفان': 5029, 'عبدالرحمن': 5030, 'عبدالرضا': 5031, 'عبداللهی': 5032, 'عبدالکریم': 5033, 'عرف': 5034, 'عصبانیت': 5035, 'علا': 5036, 'عهد': 5037, 'غایب': 5038, 'غول': 5039, 'غیرعضو': 5040, 'فاضل': 5041, 'فاولر': 5042, 'فدای': 5043, 'فرح': 5044, 'فرق': 5045, 'فروزنده': 5046, 'فروکش': 5047, 'فریده': 5048, 'فهد': 5049, 'فوت': 5050, 'فوریه': 5051, 'فیلمسازی': 5052, 'قطب': 5053, 'لبنانی': 5054, 'لشکری': 5055, 'مابین': 5056, 'ماخوذه': 5057, 'مازیار': 5058, 'ماشینی': 5059, 'مانور': 5060, 'مبادی': 5061, 'مبدا': 5062, 'متبوع': 5063, 'متکدی': 5064, 'محمدتقی': 5065, 'محو': 5066, 'مختاباد': 5067, 'مخترع': 5068, 'مختصر': 5069, 'مدت\\u200cها': 5070, 'مراکش': 5071, 'مرتکب': 5072, 'مردمسالاری': 5073, 'مرقد': 5074, 'مرکب': 5075, 'مری': 5076, 'مریوان': 5077, 'مزمن': 5078, 'مسیح': 5079, 'مشهدی': 5080, 'مشک': 5081, 'مصلح': 5082, 'معما': 5083, 'مغرب': 5084, 'مقارن': 5085, 'مقبره': 5086, 'مقتدر': 5087, 'مقطعی': 5088, 'مقطوع': 5089, 'مناطقی': 5090, 'منوط': 5091, 'مهرپرور': 5092, 'موذن': 5093, 'موظفند': 5094, 'مکاتبه': 5095, 'مید': 5096, 'میشل': 5097, 'مینودشت': 5098, 'نابارور': 5099, 'نابسامانی': 5100, 'ناتوان': 5101, 'ناسا': 5102, 'ناکافی': 5103, 'ناگوار': 5104, 'نجف': 5105, 'نخل': 5106, 'نوازندگی': 5107, 'نیمسال': 5108, 'هدر': 5109, 'هری': 5110, 'هسته': 5111, 'هفدهمین': 5112, 'همانگونه': 5113, 'هنرستان': 5114, 'واتیکان': 5115, 'وجو': 5116, 'وفا': 5117, 'وقفه': 5118, 'ویتنام': 5119, 'ویدیویی': 5120, 'ویلیام': 5121, 'پتانسیل': 5122, 'پرتغال': 5123, 'پرتلاش': 5124, 'پرش': 5125, 'پرشکوه': 5126, 'پروجیا': 5127, 'پوزش': 5128, 'پویانمایی': 5129, 'پویایی': 5130, 'پژوهشگاه': 5131, 'پیشرو': 5132, 'پیگیر': 5133, 'چتر': 5134, 'چنگ': 5135, 'چهارسال': 5136, 'چهارگانه': 5137, 'چیستا': 5138, 'چینی\\u200cسازی': 5139, 'کارون': 5140, 'کاست&کاه': 5141, 'کالایی': 5142, 'کامبیز': 5143, 'کامران': 5144, 'کشتی\\u200cسازی': 5145, 'کشوردر': 5146, 'کلان\\u200cشهر': 5147, 'کلمات': 5148, 'کلیسا': 5149, 'کمپانی': 5150, 'کود': 5151, 'کوچکی': 5152, 'کیانوش': 5153, 'گالینگور': 5154, 'گذاشتن': 5155, 'گریخت&گریز': 5156, 'گمشده': 5157, 'گواهینامه': 5158, 'گورستان': 5159, 'گیاهی': 5160, 'گیلانی': 5161, 'یاد\\u200cشده\\u200cدر': 5162, 'یافت': 5163, 'یثرب': 5164, 'یف': 5165, 'یلدا': 5166, 'یوسفیان': 5167, 'آسانی': 5168, 'آسم': 5169, 'آشفتگی': 5170, 'آشوری': 5171, 'آغوش': 5172, 'آق': 5173, 'آلرژی': 5174, 'آمل': 5175, 'آنجا': 5176, 'آوریل': 5177, 'آوینی': 5178, 'ابطحی': 5179, 'اتخاذ\\u200cشده\\u200cاست': 5180, 'اجبار': 5181, 'اجماع': 5182, 'احساسی': 5183, 'اختر': 5184, 'اختلاف\\u200cنظر': 5185, 'ارایه': 5186, 'ارجمند': 5187, 'ازسوی': 5188, 'استخدامی': 5189, 'استراو': 5190, 'استودیو': 5191, 'استیلی': 5192, 'اسکاتلند': 5193, 'اسکناس': 5194, 'اشتغالزایی': 5195, 'اصلانی': 5196, 'اضافی': 5197, 'اعتدال': 5198, 'اعترافات': 5199, 'اقداماتی': 5200, 'الاسلام': 5201, 'التماس': 5202, 'الماس': 5203, 'امیرفرشاد': 5204, 'انا': 5205, 'انتفاعی': 5206, 'انداختن': 5207, 'اندازه\\u200cگیری': 5208, 'اولی': 5209, 'اکونومیست': 5210, 'ایثار': 5211, 'ایران\\u200cبود': 5212, 'با': 5213, 'بابادی': 5214, 'باتیستوتا': 5215, 'بازخوانی': 5216, 'بازو': 5217, 'باسعادت': 5218, 'باعث\\u200cشده\\u200cتا': 5219, 'بافت&باف': 5220, 'بالتیمور': 5221, 'بالندگی': 5222, 'بالگرد': 5223, 'بخشدار': 5224, 'بخشیده': 5225, 'بدفهمی\\u200cهای': 5226, 'بز': 5227, 'بسترسازی': 5228, 'بعمل': 5229, 'بلغاری': 5230, 'بناب': 5231, 'بهارستان': 5232, 'بهتر': 5233, 'بی\\u200cدفاع': 5234, 'بی\\u200cشک': 5235, 'بی\\u200cمهری': 5236, 'بی\\u200cگناه': 5237, 'تالش': 5238, 'تامین\\u200cکننده': 5239, 'تانکر': 5240, 'تبرئه': 5241, 'تبعیت': 5242, 'تحریک': 5243, 'تحلیلگر': 5244, 'تدوین\\u200cشده\\u200cاست': 5245, 'تراژدی': 5246, 'ترخیص': 5247, 'ترغیب': 5248, 'تظاهرات': 5249, 'تعارض': 5250, 'تعاریف': 5251, 'تفکرات': 5252, 'تقریب': 5253, 'تلفیقی': 5254, 'تنبیه': 5255, 'تند': 5256, 'توده': 5257, 'توزیع\\u200cکننده': 5258, 'توسعه\\u200cای': 5259, 'تومور': 5260, 'تکان': 5261, 'تی': 5262, 'جابجایی': 5263, 'جاسم': 5264, 'جرمی': 5265, 'جست&جو': 5266, 'جسته': 5267, 'جعلی': 5268, 'جلا': 5269, 'جنب': 5270, 'جیووانی': 5271, 'حشمت': 5272, 'حلب': 5273, 'حمزه': 5274, 'حوصله': 5275, 'خاکی': 5276, 'خدایی': 5277, 'خدمه': 5278, 'خراسانی': 5279, 'خصوصیات': 5280, 'خطاطی': 5281, 'خطرات': 5282, 'خلال': 5283, 'خلوت': 5284, 'خوارزم': 5285, 'خودکفایی': 5286, 'خودگردان': 5287, 'خوراک': 5288, 'خوراکی': 5289, 'خورد&خورد': 5290, 'خورسند': 5291, 'خوشبختی': 5292, 'خوشحالی': 5293, 'دارائی': 5294, 'دامپروری': 5295, 'داگلاس': 5296, 'دایمی': 5297, 'دبستان': 5298, 'درآورد': 5299, 'درآید': 5300, 'دربرگیرنده': 5301, 'درجا': 5302, 'درخور': 5303, 'درزمینه': 5304, 'درصد\\u200cبود': 5305, 'درمقابل': 5306, 'درمیان': 5307, 'درگز': 5308, 'دست\\u200cیابی': 5309, 'دعاوی': 5310, 'دنیایی': 5311, 'دونده': 5312, 'دوپینگ': 5313, 'دوید&دو': 5314, 'دیده': 5315, 'دیروزبا': 5316, 'ذات': 5317, 'رزمی': 5318, 'رسمیت': 5319, 'رشیدی': 5320, 'روزبه': 5321, 'روزشنبه': 5322, 'روزنه': 5323, 'زاگرس': 5324, 'زمانه': 5325, 'زمزمه': 5326, 'زندیه': 5327, 'سئول': 5328, 'سادات': 5329, 'ساسانی': 5330, 'سالجاری': 5331, 'سامانه': 5332, 'ستود&ستا': 5333, 'سراسرکشور': 5334, 'سربلندی': 5335, 'سررسید': 5336, 'سرطانی': 5337, 'سرلشکر': 5338, 'سرم': 5339, 'سرماخوردگی': 5340, 'سرمایه\\u200cداری': 5341, 'سرور': 5342, 'سوئتفاهم': 5343, 'سیدکمال': 5344, 'سیمین': 5345, 'شانزده': 5346, 'شاهکار': 5347, 'شتم': 5348, 'شرب': 5349, 'شرف': 5350, 'شرک': 5351, 'شریک': 5352, 'شعری': 5353, 'شکیب': 5354, 'شیروان': 5355, 'شیری': 5356, 'شیعه': 5357, 'صدمات': 5358, 'صعودی': 5359, 'صفی': 5360, 'صلیب': 5361, 'ضمیمه': 5362, 'طبس': 5363, 'طلاب': 5364, 'طیور': 5365, 'عجیبه': 5366, 'عمادالدین': 5367, 'عمره': 5368, 'عواقب': 5369, 'غالب': 5370, 'غلامی': 5371, 'غیرمستقیم': 5372, 'فاروق': 5373, 'فراخوانده': 5374, 'فردوس': 5375, 'فرعی': 5376, 'فریاد': 5377, 'فیدل': 5378, 'فیروزه': 5379, 'فیلسوف': 5380, 'قاره\\u200cای': 5381, 'قاری': 5382, 'قرقیزستان': 5383, 'قمری': 5384, 'قوانینی': 5385, 'قومی': 5386, 'لایق': 5387, 'لذت': 5388, 'لقب': 5389, 'لوئیز': 5390, 'لیزر': 5391, 'مثنوی': 5392, 'محبی': 5393, 'محسوس': 5394, 'محمدمهدی': 5395, 'محموله': 5396, 'مختل': 5397, 'مدارا': 5398, 'مردمان': 5399, 'مردود': 5400, 'مزاحمت': 5401, 'مزارع': 5402, 'مزرعه': 5403, 'مساعدت': 5404, 'مسقط': 5405, 'مشروح': 5406, 'مشروطیت': 5407, 'مشیر': 5408, 'مصدق': 5409, 'مضاعف': 5410, 'مطب': 5411, 'معجزه': 5412, 'معصوم': 5413, 'معقول': 5414, 'معیشت': 5415, 'مقتضی': 5416, 'مقتول': 5417, 'ملاحظات': 5418, 'منتفی': 5419, 'منزله': 5420, 'مهره': 5421, 'موازات': 5422, 'موجودی': 5423, 'موردنیاز': 5424, 'موضع\\u200cگیری': 5425, 'مولا': 5426, 'مومنان': 5427, 'میثم': 5428, 'میکس': 5429, 'نئوپان': 5430, 'نا': 5431, 'نائینی': 5432, 'ناتوانی': 5433, 'نامیده': 5434, 'نایبرئیس': 5435, 'نتواند': 5436, 'نسرین': 5437, 'نشان': 5438, 'نصرالله': 5439, 'نصرت': 5440, 'نمازگزار': 5441, 'نهاوند': 5442, 'نواقص': 5443, 'نوش': 5444, 'نوشته\\u200cشده\\u200cاست': 5445, 'نگارگری': 5446, 'نگران\\u200cکننده': 5447, 'نیافتگی': 5448, 'هاله': 5449, 'هیچ\\u200cگاه': 5450, 'وادار': 5451, 'واریز': 5452, 'وانت': 5453, 'وتبادل': 5454, 'وجاهت': 5455, 'وحشیانه': 5456, 'ولف': 5457, 'ولیعهد': 5458, 'ویزا': 5459, 'پائولو': 5460, 'پتروپارس': 5461, 'پدیدآورنده': 5462, 'پراکندگی': 5463, 'پرسنل': 5464, 'پرقدرت': 5465, 'پسندیده': 5466, 'پناه': 5467, 'پنگ': 5468, 'پهلوانی': 5469, 'پودر': 5470, 'پورنجاتی': 5471, 'پیشنهادات': 5472, 'پیکره': 5473, 'پیگرد': 5474, 'چشمی': 5475, 'ژن': 5476, 'کاربراتورایران': 5477, 'کاردار': 5478, 'کارمزد': 5479, 'کاستاریکا': 5480, 'کاسته': 5481, 'کامل': 5482, 'کان': 5483, 'کرایه': 5484, 'کروات': 5485, 'کشت&کار': 5486, 'کمک\\u200cرسانی': 5487, 'کیلویی': 5488, 'گردان': 5489, 'گردن': 5490, 'گردونه': 5491, 'گروگان': 5492, 'گریبان': 5493, 'گریز': 5494, 'گریه': 5495, 'گشودن': 5496, 'گفته': 5497, 'یاد\\u200cشده\\u200c': 5498, 'یاسین': 5499, 'یعقوب': 5500, 'یکساله': 5501, 'آبرسانی': 5502, 'آزادراه': 5503, 'آزادگی': 5504, 'آزمایشگاه': 5505, 'آسیب\\u200cپذیر': 5506, 'آشوب': 5507, 'آمریکاست': 5508, 'آموزگار': 5509, 'آناتولی': 5510, 'آنتن': 5511, 'آهنگسازی': 5512, 'آوا': 5513, 'آژانس': 5514, 'آکادمیک': 5515, 'ابداع': 5516, 'اتصال': 5517, 'اتفاقا': 5518, 'اتکائ': 5519, 'اجتناب': 5520, 'ادوات': 5521, 'ادیب': 5522, 'ارتکاب': 5523, 'ارضی': 5524, 'استعمال': 5525, 'استفاده\\u200cکنندگان': 5526, 'اسرائیلی': 5527, 'اسرع': 5528, 'اسنادی': 5529, 'اسکواش': 5530, 'اشتیاق': 5531, 'اشیائ': 5532, 'اصغرزاده': 5533, 'اعتبارنامه': 5534, 'اعتمادبه': 5535, 'اعلام\\u200cشده\\u200c': 5536, 'اعلمی': 5537, 'افترا': 5538, 'اقتضا': 5539, 'الحرام': 5540, 'الحساب': 5541, 'السالمیه': 5542, 'المعارف': 5543, 'الکل': 5544, 'الیاس': 5545, 'امامزاده': 5546, 'امجد': 5547, 'امدادی': 5548, 'انتخاب\\u200cشده\\u200cاست': 5549, 'انتساب': 5550, 'انحرافات': 5551, 'انطباق': 5552, 'انفصال': 5553, 'اهم': 5554, 'اوباش': 5555, 'اچ': 5556, 'ایر': 5557, 'ایل': 5558, 'باارزش': 5559, 'بارسلونا': 5560, 'بارید&بار': 5561, 'بازدارنده': 5562, 'بازداشت\\u200cشده\\u200cاست': 5563, 'بانه': 5564, 'باهدف': 5565, 'بدنسازی': 5566, 'برآمده': 5567, 'برآیند': 5568, 'برائت': 5569, 'برانداز': 5570, 'برخاسته': 5571, 'برروی': 5572, 'برغم': 5573, 'برپا\\u200cشده\\u200cاست': 5574, 'بستگان': 5575, 'بعثت': 5576, 'بل': 5577, 'بنیه': 5578, 'بوتزاتی': 5579, 'بیدگل': 5580, 'بیستون': 5581, 'بی\\u200cنظمی': 5582, 'بی\\u200cنظیر': 5583, 'بی\\u200cگمان': 5584, 'تئاتری': 5585, 'تابع': 5586, 'تاریک': 5587, 'تاریکی': 5588, 'تانک': 5589, 'تبلور': 5590, 'تبلیغی': 5591, 'تحت\\u200cالشعاع': 5592, 'ترمیم': 5593, 'ترکیبی': 5594, 'تست': 5595, 'تسخیر': 5596, 'تشریفات': 5597, 'تشییع\\u200cجنازه': 5598, 'تصنیف': 5599, 'تعزیرات': 5600, 'تقوا': 5601, 'تقوی': 5602, 'تمایز': 5603, 'تمهیداتی': 5604, 'تمکین': 5605, 'تنگاتنگ': 5606, 'توباگو': 5607, 'توحید': 5608, 'توقعات': 5609, 'تونل': 5610, 'تونی': 5611, 'تکالیف': 5612, 'تکنولوژیک': 5613, 'تکواندوکا': 5614, 'جا': 5615, 'جادو': 5616, 'جاسوسی': 5617, 'جامه': 5618, 'جرقه': 5619, 'جلیلی': 5620, 'جمهوریت': 5621, 'جنون': 5622, 'جهانگیر': 5623, 'جوبیلو': 5624, 'جودوکار': 5625, 'حاضرین': 5626, 'حجازی': 5627, 'حرارتی': 5628, 'حریری': 5629, 'حلال': 5630, 'حمدالله': 5631, 'حوالی': 5632, 'حوزوی': 5633, 'حومه': 5634, 'حکمیت': 5635, 'خاستگاه': 5636, 'خانیکی': 5637, 'خاویار': 5638, 'خبرنگاری': 5639, 'خواربار': 5640, 'خواست': 5641, 'خواسته\\u200cشده\\u200cاست': 5642, 'خوانساری': 5643, 'خودسرانه': 5644, 'خوزه': 5645, 'خیز': 5646, 'دادرس': 5647, 'درآن': 5648, 'دربرمی': 5649, 'درجامعه': 5650, 'درحاشیه': 5651, 'درخشانید&درخشان': 5652, 'درسالن': 5653, 'دریاچه': 5654, 'دریک': 5655, 'دلائل': 5656, 'دلار\\u200cبود': 5657, 'دلسوزانه': 5658, 'دوخت&دوز': 5659, 'دوهفته': 5660, 'دیانت': 5661, 'رائول': 5662, 'راسخ': 5663, 'رام': 5664, 'راند&ران': 5665, 'راکد': 5666, 'رز': 5667, 'رست&روی': 5668, 'رفیق': 5669, 'رقص': 5670, 'رقمی': 5671, 'رهسپار': 5672, 'روادید': 5673, 'روزدوشنبه': 5674, 'ریچارد': 5675, 'زادمهر': 5676, 'زحمت': 5677, 'زمان': 5678, 'زمستانی': 5679, 'زند': 5680, 'زندی': 5681, 'سالمند': 5682, 'سان': 5683, 'سانتی\\u200cمتر': 5684, 'سایر': 5685, 'سبب\\u200cشده\\u200cاست': 5686, 'سراج': 5687, 'سرایت': 5688, 'سربلند': 5689, 'سردادن': 5690, 'سرمقاله': 5691, 'سرچشمه': 5692, 'سرکوب': 5693, 'سمفونیک': 5694, 'سناتور': 5695, 'سنتور': 5696, 'سواحل': 5697, 'سوگند': 5698, 'سکان': 5699, 'سکته': 5700, 'سیزده': 5701, 'سیکل': 5702, 'شانگهای': 5703, 'شباهت': 5704, 'شجاعانه': 5705, 'شرارت': 5706, 'شمسایی': 5707, 'شمسی': 5708, 'شن': 5709, 'شناساندن': 5710, 'شنود': 5711, 'شهابالدین': 5712, 'شوش': 5713, 'شکار': 5714, 'شیلی': 5715, 'صارمی': 5716, 'صحرائیان': 5717, 'صحرایی': 5718, 'صدام': 5719, 'صدراعظم': 5720, 'صدوقی': 5721, 'صرفنظر': 5722, 'صفدر': 5723, 'ضابطه': 5724, 'طرق': 5725, 'عالیه': 5726, 'عبد': 5727, 'عرضه\\u200cکننده': 5728, 'عزاداری': 5729, 'عزل': 5730, 'عزیزالله': 5731, 'عسگری': 5732, 'عضوگیری': 5733, 'عفونت': 5734, 'عقبماندگی': 5735, 'علوفه': 5736, 'عماد': 5737, 'عمارت': 5738, 'عود': 5739, 'عیدی': 5740, 'عینک': 5741, 'غیرمنطقی': 5742, 'فائو': 5743, 'فاینانس': 5744, 'فایننشال': 5745, 'فتحی': 5746, 'فرانتس': 5747, 'فرانس': 5748, 'فراهم\\u200cشده\\u200cاست': 5749, 'فرضیه': 5750, 'فرهنگنامه': 5751, 'فرود': 5752, 'فریب': 5753, 'فقهی': 5754, 'فلج': 5755, 'فله': 5756, 'فهمید&فهم': 5757, 'فوتبالیست': 5758, 'فومن': 5759, 'فیش': 5760, 'قایرات': 5761, 'قبله': 5762, 'قطعاتی': 5763, 'قنبر': 5764, 'قیمتی': 5765, 'لامرد': 5766, 'لبخند': 5767, 'لحظات': 5768, 'لحن': 5769, 'لطفی': 5770, 'لیلا': 5771, 'لیلی': 5772, 'لیگا': 5773, 'مادری': 5774, 'مار': 5775, 'مبعث': 5776, 'متعارف': 5777, 'متعال': 5778, 'مثلث': 5779, 'مجابی': 5780, 'محلوجی': 5781, 'محوله': 5782, 'مددجو': 5783, 'مراقب': 5784, 'مرثیه': 5785, 'مرعشی': 5786, 'مستندات': 5787, 'مستندساز': 5788, 'مشایخی': 5789, 'مشتمل': 5790, 'مشروطه': 5791, 'مصداق': 5792, 'مصری': 5793, 'مصون': 5794, 'مضامین': 5795, 'مطالبه': 5796, 'مطرح\\u200cشده\\u200c': 5797, 'معترض': 5798, 'معصومی': 5799, 'معکوس': 5800, 'معیل': 5801, 'مغایرت': 5802, 'مقاوم': 5803, 'مقبولیت': 5804, 'ملامین': 5805, 'ملیت': 5806, 'منافق': 5807, 'منحل': 5808, 'منسجم': 5809, 'مهربان': 5810, 'مهربانی': 5811, 'مهرعلیزاده': 5812, 'مومنی': 5813, 'مکمل': 5814, 'میلیاردها': 5815, 'مینیاتور': 5816, 'می\\u200cشده': 5817, 'نادری': 5818, 'ناسازگاری': 5819, 'ناپایدار': 5820, 'ناکام': 5821, 'ناگفته': 5822, 'نجوم': 5823, 'نشیب': 5824, 'نصر': 5825, 'نصف': 5826, 'نهال': 5827, 'نهاوندیان': 5828, 'نوشتار': 5829, 'نژادی': 5830, 'نگری': 5831, 'نیامده': 5832, 'نیمکت': 5833, 'نیوز': 5834, 'هامبورگ': 5835, 'هاوانا': 5836, 'هدایتی': 5837, 'همخوانی': 5838, 'هنرجو': 5839, 'هواپیماربایی': 5840, 'هونگ': 5841, 'هیوندا': 5842, 'وارد\\u200cشده\\u200cاست': 5843, 'واصل': 5844, 'واپسین': 5845, 'واژگون': 5846, 'وب': 5847, 'وزرا': 5848, 'وطن': 5849, 'وقف': 5850, 'ولگرد': 5851, 'پادشاهی': 5852, 'پارما': 5853, 'پارچه': 5854, 'پازاج': 5855, 'پاسداری': 5856, 'پاسگاه': 5857, 'پایبند': 5858, 'پایه\\u200cگذار': 5859, 'پترزبورگ': 5860, 'پراید': 5861, 'پرتغالی': 5862, 'پرخاشگری': 5863, 'پرز': 5864, 'پرگل': 5865, 'پناهی': 5866, 'پنجساله': 5867, 'پژوهی': 5868, 'پیرموذن': 5869, 'پیستون': 5870, 'پیشه': 5871, 'پیشگام': 5872, 'پیش\\u200cبینی\\u200cشده\\u200cدر': 5873, 'پیچید&پیچ': 5874, 'پی\\u200cگیری': 5875, 'چراکه': 5876, 'چرخید&چرخ': 5877, 'چهارصد': 5878, 'چهارچوب': 5879, 'چوبی': 5880, 'چکیده': 5881, 'ژوئیه': 5882, 'کاذب': 5883, 'کارآفرین': 5884, 'کارآفرینی': 5885, 'کامپیوتری': 5886, 'کتابداری': 5887, 'کتابفروشی': 5888, 'کرامت': 5889, 'کریستین': 5890, 'کش': 5891, 'کشتارگاه': 5892, 'کلامی': 5893, 'کلاه': 5894, 'کلینتون': 5895, 'کمان': 5896, 'کمربند': 5897, 'کنسرسیوم': 5898, 'کنش': 5899, 'کنگ': 5900, 'کهنسال': 5901, 'کهگیلویه': 5902, 'گازسوز': 5903, 'گرایید&گرا': 5904, 'گروهک': 5905, 'گزید&گزین': 5906, 'گستردگی': 5907, 'گشت': 5908, 'گلدباخ': 5909, 'گناباد': 5910, 'گنبدکاووس': 5911, 'گوارش': 5912, 'گوهر': 5913, 'یاد\\u200cشده\\u200cرا': 5914, 'یاسر': 5915, 'یو': 5916, 'یکروزه': 5917, 'یکپارچه': 5918, 'آبرنگ': 5919, 'آبفا': 5920, 'آتیلا': 5921, 'آدرس': 5922, 'آرارات': 5923, 'آراست&آرا': 5924, 'آرتور': 5925, 'آزمایشگاهی': 5926, 'آستارا': 5927, 'آفت': 5928, 'آن\\u200cشده\\u200cاست': 5929, 'آوار': 5930, 'ئ': 5931, 'ابتکاری': 5932, 'ابنیه': 5933, 'ابویی': 5934, 'اتفاقاتی': 5935, 'اجرائ': 5936, 'اجرا\\u200cشده\\u200cاست': 5937, 'احسانبخش': 5938, 'ارائه\\u200cشده\\u200cاز': 5939, 'ارائه\\u200cشده\\u200cتوسط': 5940, 'اردکان': 5941, 'ارس': 5942, 'اریکسون': 5943, 'ازآن': 5944, 'ازبک': 5945, 'ازظهر': 5946, 'اسباب': 5947, 'استحصال': 5948, 'استرالیایی': 5949, 'استنباط': 5950, 'استکهلم': 5951, 'اسدی': 5952, 'اسطوره': 5953, 'اسلواکی': 5954, 'اشراف': 5955, 'اطفا': 5956, 'اعتراض\\u200cآمیز': 5957, 'اعتمادی': 5958, 'اعطائ': 5959, 'افخمی': 5960, 'افسانه\\u200cای': 5961, 'افول': 5962, 'الاختیار': 5963, 'الشرع': 5964, 'الغدیر': 5965, 'المجالس': 5966, 'امدادگر': 5967, 'امضائکنندگان': 5968, 'انار': 5969, 'انتقام': 5970, 'انحرافی': 5971, 'انحصارات': 5972, 'اندوخته': 5973, 'انس': 5974, 'انسداد': 5975, 'انشعاب': 5976, 'انفورماتیک': 5977, 'انهدام': 5978, 'انکارناپذیر': 5979, 'اولدترافورد': 5980, 'اوگاندا': 5981, 'اژه': 5982, 'ایرانزاد': 5983, 'ایرلندی': 5984, 'اینزاگی': 5985, 'بابا': 5986, 'بابل': 5987, 'باجه\\u200cهای': 5988, 'بادی': 5989, 'بارداری': 5990, 'بارو': 5991, 'بازیگری': 5992, 'باغات': 5993, 'بافته': 5994, 'بافندگان': 5995, 'بالنده': 5996, 'باوئر': 5997, 'باکتری': 5998, 'ببیند': 5999, 'بحرینی': 6000, 'بداند': 6001, 'بدل': 6002, 'برآورد\\u200cشده\\u200cاست': 6003, 'برخوردار\\u200cبود': 6004, 'بردارند': 6005, 'بردسکن': 6006, 'برشمرده': 6007, 'برمبنای': 6008, 'برکات': 6009, 'برکت': 6010, 'برکنار': 6011, 'برگزارمی': 6012, 'برگه': 6013, 'بریتیش': 6014, 'بلازویچ': 6015, 'بلوک': 6016, 'بمبئی': 6017, 'بمباران': 6018, 'بنایی': 6019, 'بنیادی': 6020, 'بهادر': 6021, 'بهاره': 6022, 'به\\u200cبند': 6023, 'بوئین': 6024, 'بواسطه': 6025, 'بودکه': 6026, 'بوسنیایی': 6027, 'بوم': 6028, 'بکارگیری': 6029, 'بیضایی': 6030, 'بیننده': 6031, 'بی\\u200cشمار': 6032, 'بی\\u200cطرفی': 6033, 'بی\\u200cوقفه': 6034, 'تائو': 6035, 'تائید': 6036, 'تابناک': 6037, 'تبعید': 6038, 'تجمعات': 6039, 'تجمیع': 6040, 'تحرکات': 6041, 'تحریر': 6042, 'تحقیر': 6043, 'تذهیب': 6044, 'ترانزیتی': 6045, 'ترسید&ترس': 6046, 'ترینیداد': 6047, 'تزئین': 6048, 'تصاحب': 6049, 'تصریح\\u200cشده\\u200cاست': 6050, 'تصمیماتی': 6051, 'تصویرگری': 6052, 'تعارف': 6053, 'تفریط': 6054, 'تقسیم\\u200cبندی': 6055, 'تماشاگه': 6056, 'تمرینی': 6057, 'تناقض': 6058, 'تندی': 6059, 'تنویر': 6060, 'تکثر': 6061, 'تکواندوکار': 6062, 'تیراژ': 6063, 'تیمور': 6064, 'جداری': 6065, 'جذابیت': 6066, 'جرات': 6067, 'جراحات': 6068, 'جزئی': 6069, 'جنسیت': 6070, 'جوانمردی': 6071, 'جوینده': 6072, 'جک': 6073, 'جیمز': 6074, 'حافظیه': 6075, 'حجار': 6076, 'حدس': 6077, 'حزبی': 6078, 'حق': 6079, 'حق\\u200cشناس': 6080, 'حماسی': 6081, 'حیدریه': 6082, 'حیران': 6083, 'خائن': 6084, 'خالقی': 6085, 'خانه\\u200cها': 6086, 'خردسال': 6087, 'خرما': 6088, 'خروجی': 6089, 'خصلت': 6090, 'خصوصیت': 6091, 'خضیراوی': 6092, 'خلا': 6093, 'خلیفه': 6094, 'خنثی': 6095, 'خوار': 6096, 'خواندنی': 6097, 'خودباوری': 6098, 'خور': 6099, 'خوشایند': 6100, 'خوشی': 6101, 'دال': 6102, 'دالان': 6103, 'دامداری': 6104, 'دانستن': 6105, 'دانمارک': 6106, 'درآستانه': 6107, 'درام': 6108, 'درایران': 6109, 'دربازی': 6110, 'دربند': 6111, 'دردست': 6112, 'دردیدار': 6113, 'درصدر': 6114, 'درطول': 6115, 'درعین': 6116, 'درمراسم': 6117, 'درمنطقه': 6118, 'دریانوردی': 6119, 'دستغیب': 6120, 'دستوری': 6121, 'دندانپزشکی': 6122, 'دوبار': 6123, 'دود': 6124, 'دوطرف': 6125, 'دوفوریتی': 6126, 'دوهزار': 6127, 'دکتری': 6128, 'دیرپای': 6129, 'دیواری': 6130, 'دیوانسالاری': 6131, 'ذوق': 6132, 'ذکر\\u200cشده\\u200cاست': 6133, 'ذی': 6134, 'ذیصلاح': 6135, 'رااز': 6136, 'رابط': 6137, 'رابینسون': 6138, 'رازی': 6139, 'رامین': 6140, 'رایزن': 6141, 'ربا': 6142, 'ربوده': 6143, 'ربیعی': 6144, 'رجائ': 6145, 'رجبی': 6146, 'رزاق': 6147, 'رست&ره': 6148, 'رمی': 6149, 'رنجبر': 6150, 'رهگذر': 6151, 'روانشناسان': 6152, 'روانپزشک': 6153, 'روان\\u200cشناختی': 6154, 'روبرتو': 6155, 'روزیکشنبه': 6156, 'روغنی': 6157, 'رویت': 6158, 'رو\\u200cشده\\u200cاست': 6159, 'رگ': 6160, 'زاهدی': 6161, 'زمان\\u200cبندی': 6162, 'زوال': 6163, 'زودرس': 6164, 'زیتون': 6165, 'زینت': 6166, 'سئوالاتی': 6167, 'ساخته\\u200cشده\\u200cو': 6168, 'سارتر': 6169, 'سازگار': 6170, 'سالک': 6171, 'ساوجی': 6172, 'سجادی': 6173, 'سرافراز': 6174, 'سرشت': 6175, 'سروکار': 6176, 'سرپوشیده': 6177, 'سرگیری': 6178, 'سست': 6179, 'سعه': 6180, 'سفارتخانه': 6181, 'سفره': 6182, 'سقز': 6183, 'سمیعی': 6184, 'سنجیده': 6185, 'سنن': 6186, 'سهمگین': 6187, 'سوئدی': 6188, 'سوئیسی': 6189, 'سوز': 6190, 'سوگواری': 6191, 'سپ': 6192, 'سپاس': 6193, 'سیا': 6194, 'سیار': 6195, 'سیاستی': 6196, 'سیداحمد': 6197, 'سیدجعفر': 6198, 'سیدرضا': 6199, 'سیدعباس': 6200, 'سیطره': 6201, 'شابک': 6202, 'شاخصه\\u200cهای': 6203, 'شادباش': 6204, 'شاعری': 6205, 'شافعی': 6206, 'شایان': 6207, 'شایست&شاید': 6208, 'شجاعت': 6209, 'شرافتمندانه': 6210, 'شریفجان': 6211, 'شعله': 6212, 'شلتوت': 6213, 'شمرده': 6214, 'شناخته\\u200cشده\\u200cو': 6215, 'شهامت': 6216, 'شهیدباهنر': 6217, 'شهیر': 6218, 'شوشتری': 6219, 'شکوائیه': 6220, 'شیلاتی': 6221, 'شیوا': 6222, 'صادرشده': 6223, 'صباغ': 6224, 'صبور': 6225, 'صداوسیمای': 6226, 'صمیمیت': 6227, 'صیاد': 6228, 'صیانت': 6229, 'ضامن': 6230, 'طاقت': 6231, 'ظرافت': 6232, 'ظرایف': 6233, 'عابدینی': 6234, 'عادل': 6235, 'عبدالستار': 6236, 'عبرت': 6237, 'عروسی': 6238, 'عشایر': 6239, 'عضدی': 6240, 'عطریانفر': 6241, 'عقاب': 6242, 'عقبافتادگی': 6243, 'عقلانی': 6244, 'عقیده\\u200cاند': 6245, 'علیهم': 6246, 'عملکرد': 6247, 'غافل': 6248, 'غروی': 6249, 'غنی\\u200cسازی': 6250, 'غیراقتصادی': 6251, 'غیراوپک': 6252, 'غیرنظامی': 6253, 'فارنهایت': 6254, 'فاسد': 6255, 'فاش': 6256, 'فداکار': 6257, 'فدک': 6258, 'فرامرزی': 6259, 'فرج': 6260, 'فرزامی': 6261, 'فصلی': 6262, 'فضاپیما': 6263, 'فضل': 6264, 'فقه': 6265, 'فقهای': 6266, 'فیزیکدان': 6267, 'قائمشهر': 6268, 'قاطعیت': 6269, 'قانونگذاران': 6270, 'قایل': 6271, 'قد': 6272, 'قداست': 6273, 'قرض\\u200cالحسنه': 6274, 'قره': 6275, 'قشری': 6276, 'قشقایی': 6277, 'قلمداد': 6278, 'لاوان': 6279, 'لرزه': 6280, 'لنگ': 6281, 'لوران': 6282, 'لی': 6283, 'لیر': 6284, 'لیره': 6285, 'لیف': 6286, 'ماسوله': 6287, 'ماقبل': 6288, 'مالدینی': 6289, 'ماهیگیری': 6290, 'مایوس': 6291, 'مبدل': 6292, 'مبشری': 6293, 'مبلمان': 6294, 'مترقی': 6295, 'متزلزل': 6296, 'متقاعد': 6297, 'متنی': 6298, 'متین': 6299, 'مجاور': 6300, 'مجرب': 6301, 'محافظت': 6302, 'محجوب': 6303, 'محمدجعفر': 6304, 'محمدخاتمی': 6305, 'محمدزاده': 6306, 'مدد': 6307, 'مردانی': 6308, 'مرزبان': 6309, 'مستثنی': 6310, 'مستحق': 6311, 'مستعد': 6312, 'مسیحیت': 6313, 'مشاوره\\u200cای': 6314, 'مشتاقانه': 6315, 'مشروعیت': 6316, 'مطابقت': 6317, 'معاش': 6318, 'معالجه': 6319, 'معرفی\\u200cشده\\u200cاز': 6320, 'مقدونیه': 6321, 'مقیاس': 6322, 'ملحق': 6323, 'ملزم': 6324, 'منحصرا': 6325, 'منصرف': 6326, 'منظومه': 6327, 'منهای': 6328, 'مهاباد': 6329, 'مهمات': 6330, 'مهمان': 6331, 'مواداولیه': 6332, 'موتوری': 6333, 'موجی': 6334, 'مود': 6335, 'موردنظر': 6336, 'موشکی': 6337, 'مونترال': 6338, 'موهبت': 6339, 'مکانی': 6340, 'مکانیزم': 6341, 'مکانیسم': 6342, 'مکانیک': 6343, 'میرباقری': 6344, 'میرحسین': 6345, 'میرزاپور': 6346, 'میرمطهری': 6347, 'میرکریمی': 6348, 'میس': 6349, 'میلیونی': 6350, 'میگو': 6351, 'ناآرامی': 6352, 'نائل': 6353, 'ناامیدی': 6354, 'ناتمام': 6355, 'ناجی': 6356, 'نازی': 6357, 'ناشناس': 6358, 'نامنظم': 6359, 'ناپذیری': 6360, 'نبی': 6361, 'نخ': 6362, 'ندادن': 6363, 'ندیم': 6364, 'نرم\\u200cافزار': 6365, 'نظریه\\u200cپرداز': 6366, 'نقی': 6367, 'نمائیم': 6368, 'نمادین': 6369, 'نمودار': 6370, 'نمی\\u200cتوانم': 6371, 'نوآور': 6372, 'نوارسازان': 6373, 'نورالدین': 6374, 'نورزاد': 6375, 'نوسانات': 6376, 'نیازمندی': 6377, 'نیافتن': 6378, 'هاو': 6379, 'هتک': 6380, 'هجرت': 6381, 'هدررفت': 6382, 'هرات': 6383, 'هرمان': 6384, 'هرکدام': 6385, 'هزارتن': 6386, 'هماهنگ\\u200cکننده': 6387, 'همجواری': 6388, 'همسویی': 6389, 'همگام': 6390, 'هنگفت': 6391, 'هیجدهم': 6392, 'واضح': 6393, 'واقعیات': 6394, 'والفجر': 6395, 'وبررسی': 6396, 'وبه': 6397, 'وخیم': 6398, 'ودوم': 6399, 'ورد': 6400, 'وزیرکشور': 6401, 'وصف': 6402, 'وضوح': 6403, 'ونوجوانان': 6404, 'وودی': 6405, 'وگفت': 6406, 'ویرانگر': 6407, 'ویلن': 6408, 'ویندوز': 6409, 'پائین': 6410, 'پادو': 6411, 'پارتی': 6412, 'پانتومیم': 6413, 'پترولیوم': 6414, 'پربار': 6415, 'پرسابقه': 6416, 'پرسشگر': 6417, 'پرشماری': 6418, 'پروتکل': 6419, 'پرکردن': 6420, 'پلاستیک': 6421, 'پله': 6422, 'پنجاهمین': 6423, 'پنهانی': 6424, 'پهلو': 6425, 'پوریا': 6426, 'پوستر': 6427, 'پوسیدگی': 6428, 'پوشیده': 6429, 'پژوه': 6430, 'پیانو': 6431, 'پیست': 6432, 'پیش\\u200cبینی\\u200cشده\\u200cکه': 6433, 'پیمانکاری': 6434, 'پینه': 6435, 'پی\\u200cدرپی': 6436, 'چانه': 6437, 'چهارساله': 6438, 'چهلمین': 6439, 'چیت': 6440, 'ژرف': 6441, 'ژنتیکی': 6442, 'کارآموز': 6443, 'کارساز': 6444, 'کاروانسرا': 6445, 'کامرون': 6446, 'کره\\u200cای': 6447, 'کشاند&کشان': 6448, 'کشمکش': 6449, 'کلسترول': 6450, 'کلهر': 6451, 'کلون': 6452, 'کلیم': 6453, 'کماسایی': 6454, 'کمیت': 6455, 'کهکشان': 6456, 'کهکیلویه': 6457, 'کودتا': 6458, 'کوره': 6459, 'کوهستان': 6460, 'کوچاریان': 6461, 'کیارستمی': 6462, 'کیلکا': 6463, 'کیه': 6464, 'کیومرث': 6465, 'گئورگی': 6466, 'گذشتگان': 6467, 'گرایانه': 6468, 'گرما': 6469, 'گرمی': 6470, 'گریبانگیر': 6471, 'گزارشگر': 6472, 'گزارش\\u200cشده\\u200cاست': 6473, 'گزینشی': 6474, 'گواه': 6475, 'گوسفند': 6476, 'گویا': 6477, 'یدکی': 6478, 'یقین': 6479, 'یونانی': 6480, 'یونیدو': 6481, 'یکباره': 6482, 'یکجانبه': 6483, 'یکصدمین': 6484, 'یکپارچگی': 6485, 'یی': 6486, 'آتیه': 6487, 'آذرآب': 6488, 'آرامی': 6489, 'آزاده': 6490, 'آزادیبخش': 6491, 'آزادیخواه': 6492, 'آسود&آسا': 6493, 'آشتیانی': 6494, 'آغازین': 6495, 'آف': 6496, 'آفریده': 6497, 'آقازاده': 6498, 'آلود&آلا': 6499, 'آماتوری': 6500, 'آموختن': 6501, 'آمیزه': 6502, 'آوارگی': 6503, 'ابتکارات': 6504, 'ابر': 6505, 'ابقا': 6506, 'ابقائ': 6507, 'ابلاغ\\u200cشده\\u200cاست': 6508, 'ابوالحسن': 6509, 'اتوبان': 6510, 'اتوماسیون': 6511, 'اجزا': 6512, 'اجساد': 6513, 'احتیاج': 6514, 'احمدشاه': 6515, 'اخیر': 6516, 'ادواری': 6517, 'ارتشبد': 6518, 'ارتشی': 6519, 'اردشیر': 6520, 'اردونشین': 6521, 'ارزید&ارز': 6522, 'ارمنی': 6523, 'ازطریق': 6524, 'استادی': 6525, 'استثنائ': 6526, 'استقامت': 6527, 'استهلاک': 6528, 'استوارنامه': 6529, 'اسلامیت': 6530, 'اسکندر': 6531, 'اسکولاری': 6532, 'اشعه': 6533, 'اشکانی': 6534, 'اصالت': 6535, 'اظهارنامه': 6536, 'اظهارنظرها': 6537, 'اظهارنظرهای': 6538, 'اعصاب': 6539, 'افاغنه': 6540, 'افروخت&افروز': 6541, 'افزایشی': 6542, 'افقی': 6543, 'افلاطون': 6544, 'التحصیلی': 6545, 'الجوهر': 6546, 'الحسین': 6547, 'الحیات': 6548, 'الشباب': 6549, 'العاده\\u200cای': 6550, 'الویری': 6551, 'امانت': 6552, 'امتناع': 6553, 'امریکا': 6554, 'امپراتور': 6555, 'امیل': 6556, 'ان': 6557, 'انباردار': 6558, 'انباشت': 6559, 'انجام\\u200cشده\\u200cو': 6560, 'انحراف': 6561, 'انحلال': 6562, 'انداخته': 6563, 'اندرکار': 6564, 'اندی': 6565, 'انزجار': 6566, 'انگاره': 6567, 'انگشتان': 6568, 'اهر': 6569, 'اواز': 6570, 'اکبرنژاد': 6571, 'اکونومیک': 6572, 'ایتالران': 6573, 'ایران\\u200cشده\\u200cاست': 6574, 'ایسلند': 6575, 'ایواتا': 6576, 'باثبات': 6577, 'بارگاه': 6578, 'باز': 6579, 'بازده': 6580, 'بازشناسی': 6581, 'بازگردد': 6582, 'بازگشتند': 6583, 'باقرزاده': 6584, 'بال': 6585, 'بالفعل': 6586, 'باوفا': 6587, 'بایسته': 6588, 'بخارا': 6589, 'بخارست': 6590, 'بدهکار': 6591, 'بدینوسیله': 6592, 'بدین\\u200cوسیله': 6593, 'برابر\\u200cشده\\u200cاست': 6594, 'برانگیزی': 6595, 'برایان': 6596, 'برحسب': 6597, 'بردبار': 6598, 'بردگی': 6599, 'برنمی': 6600, 'برونئی': 6601, 'برپاست': 6602, 'برکاته': 6603, 'بری': 6604, 'بریده': 6605, 'بزه': 6606, 'بسمه': 6607, 'بسنده': 6608, 'بشاگرد': 6609, 'بصیر': 6610, 'بلایای': 6611, 'بلر': 6612, 'بلعید&بلع': 6613, 'بنابه': 6614, 'بندرگز': 6615, 'بندری': 6616, 'بهائالدین': 6617, 'بورخس': 6618, 'بوریس': 6619, 'بوکاجونیورز': 6620, 'بوکس': 6621, 'بیابان': 6622, 'بیست': 6623, 'بیل': 6624, 'بیمارانی': 6625, 'بینایی': 6626, 'بی\\u200cاعتمادی': 6627, 'بی\\u200cتفاوتی': 6628, 'بی\\u200cسرپرست': 6629, 'تابش': 6630, 'تابعیت': 6631, 'تافت&تاب': 6632, 'تاپ': 6633, 'تجاوزات': 6634, 'تجویدی': 6635, 'تحصیلکرده': 6636, 'تدی': 6637, 'ترابران': 6638, 'ترابی': 6639, 'تراپاتونی': 6640, 'تراک\\u200cسازی': 6641, 'ترفند': 6642, 'ترم': 6643, 'تروریزم': 6644, 'ترکاشوند': 6645, 'تریاک': 6646, 'تزئینات': 6647, 'تسری': 6648, 'تسویه': 6649, 'تشیع': 6650, 'تصمیم\\u200cسازی': 6651, 'تصورات': 6652, 'تصویرسازی': 6653, 'تصویرگر': 6654, 'تعدد': 6655, 'تعصب': 6656, 'تعیین\\u200cشده\\u200cبرای': 6657, 'تعیین\\u200cشده\\u200cدر': 6658, 'تعیین\\u200cشده\\u200cو': 6659, 'تفتیش': 6660, 'تفرقه': 6661, 'تلافی': 6662, 'تلخی': 6663, 'تماشاخانه': 6664, 'تماشاچی': 6665, 'تمدنی': 6666, 'تنظیمی': 6667, 'تنفیذ': 6668, 'تنکابن': 6669, 'تهمت': 6670, 'تواضع': 6671, 'توتون': 6672, 'توران': 6673, 'توریسم': 6674, 'توهم': 6675, 'تکاور': 6676, 'تیرانداز': 6677, 'ثامن': 6678, 'ثانی': 6679, 'جاجرم': 6680, 'جامعه\\u200cشناسان': 6681, 'جانشینی': 6682, 'جانور': 6683, 'جبار': 6684, 'جداسازی': 6685, 'جعفرزاده': 6686, 'جلفا': 6687, 'جملات': 6688, 'جنایتکار': 6689, 'جهل': 6690, 'جهنم': 6691, 'جوهره': 6692, 'جین': 6693, 'حداد': 6694, 'حدفاصل': 6695, 'حرکت\\u200cبود': 6696, 'حصار': 6697, 'حضرات': 6698, 'حفر': 6699, 'حنا': 6700, 'حکمت': 6701, 'خاصه': 6702, 'خاطی': 6703, 'خاندان': 6704, 'خانه\\u200cدار': 6705, 'خاویاری': 6706, 'ختم': 6707, 'خستگی': 6708, 'خفت&خواب': 6709, 'خفته': 6710, 'خلائ': 6711, 'خلخال': 6712, 'خلع': 6713, 'خندیدن': 6714, 'خواص': 6715, 'خواف': 6716, 'خودرا': 6717, 'خودسازی': 6718, 'خوشبخت': 6719, 'خونریزی': 6720, 'خونین': 6721, 'خویشاوند': 6722, 'خیالی': 6723, 'خیانت': 6724, 'داراب': 6725, 'داروئی': 6726, 'داغستان': 6727, 'دانا': 6728, 'دانشجویانی': 6729, 'دانشنامه': 6730, 'داوودی': 6731, 'دبستانی': 6732, 'دبلیو': 6733, 'دبیرشورای': 6734, 'دخیل': 6735, 'درآوردن': 6736, 'درآیین': 6737, 'درامور': 6738, 'دربی': 6739, 'درج\\u200cشده\\u200cاست': 6740, 'درخشید&درخش': 6741, 'دردآور': 6742, 'درصورت': 6743, 'درصورتی': 6744, 'درمقام': 6745, 'درهمه': 6746, 'درود': 6747, 'درکنار': 6748, 'درکه': 6749, 'درگاه': 6750, 'دری': 6751, 'دریافتند': 6752, 'دریافت\\u200cکننده': 6753, 'دزد': 6754, 'دستباف': 6755, 'دسته\\u200cبندی': 6756, 'دستگاهی': 6757, 'دشتستان': 6758, 'دشمنی': 6759, 'دعوت\\u200cشده\\u200cاست': 6760, 'دعوت\\u200cشده\\u200cبه': 6761, 'دعوی': 6762, 'دفاعیات': 6763, 'دقیقه\\u200cای': 6764, 'دلخراش': 6765, 'دلگرم': 6766, 'دنباله': 6767, 'دنیاست': 6768, 'دهانه': 6769, 'دهقان': 6770, 'ده\\u200cها': 6771, 'دوبل': 6772, 'دوسال': 6773, 'دوو': 6774, 'دوچندان': 6775, 'دوکرو': 6776, 'دینار': 6777, 'دینداری': 6778, 'دیکتاتور': 6779, 'ذبیح': 6780, 'ذلت': 6781, 'رادیویی': 6782, 'رانش': 6783, 'راهبر': 6784, 'راهرو': 6785, 'راه\\u200cاندازی\\u200cشده\\u200cاست': 6786, 'رای\\u200cدهنده': 6787, 'ربود&ربا': 6788, 'رجبزاده': 6789, 'رشید': 6790, 'رض': 6791, 'رضایت\\u200cبخش': 6792, 'رفراندوم': 6793, 'رقبا': 6794, 'رهبرمعظم': 6795, 'رهنمون': 6796, 'روباز': 6797, 'رودررو': 6798, 'رودریگز': 6799, 'روزه\\u200cدار': 6800, 'روشنگری': 6801, 'ریشه\\u200cیابی': 6802, 'زابل': 6803, 'زادروز': 6804, 'زادگاه': 6805, 'زبان\\u200cشناسی': 6806, 'زراعت': 6807, 'زشت': 6808, 'زنجیر': 6809, 'زهره': 6810, 'زودهنگام': 6811, 'زیباسازی': 6812, 'زیبایی\\u200cشناسی': 6813, 'زیرساخت': 6814, 'سازه': 6815, 'سامانی': 6816, 'سامی': 6817, 'سانتراچ': 6818, 'سرا': 6819, 'سراب': 6820, 'سرتاسر': 6821, 'سردخانه': 6822, 'سرشماری': 6823, 'سروده': 6824, 'سروصدا': 6825, 'سرکیسیان': 6826, 'سرگئی': 6827, 'سرگذشت': 6828, 'سعیده': 6829, 'سفارشات': 6830, 'سفرنامه': 6831, 'سلطنتی': 6832, 'سنایی': 6833, 'سنجید&سنج': 6834, 'سهامدار': 6835, 'سهیل': 6836, 'سهیم': 6837, 'سوئتغذیه': 6838, 'سوالات': 6839, 'سوت': 6840, 'سوخته': 6841, 'سودجو': 6842, 'سوسیالیستی': 6843, 'سوسیس': 6844, 'سوله': 6845, 'سوپر': 6846, 'سپاسگزار': 6847, 'سپید': 6848, 'سپیده': 6849, 'سیاره': 6850, 'سیامک': 6851, 'سیاهکل': 6852, 'سیدابوالحسن': 6853, 'سیدجلال': 6854, 'سیدعلیرضا': 6855, 'سیرجان': 6856, 'سیری': 6857, 'سیصد': 6858, 'سیلزده': 6859, 'سی\\u200cام': 6860, 'شئون': 6861, 'شادابی': 6862, 'شاعرانه': 6863, 'شامخ': 6864, 'شرافت': 6865, 'شرکتی': 6866, 'شعاری': 6867, 'شقایق': 6868, 'شمرد&شمر': 6869, 'شواهدی': 6870, 'شوک': 6871, 'شکوفا': 6872, 'شکوهمند': 6873, 'شکیبایی': 6874, 'شیرخشک': 6875, 'شیرینی': 6876, 'شیطنت': 6877, 'صادقانه': 6878, 'صدرنشینی': 6879, 'صدم': 6880, 'صعود\\u200cکننده': 6881, 'صندوقدار': 6882, 'صهیونیسم': 6883, 'ضاربان': 6884, 'ضایعات': 6885, 'ضدانقلاب': 6886, 'طاق': 6887, 'طلسم': 6888, 'ظفرزاده': 6889, 'ظلم': 6890, 'عامر': 6891, 'عبادت': 6892, 'عبدالرحمان': 6893, 'عبدالرزاق': 6894, 'عبدالقادر': 6895, 'عبدالناصر': 6896, 'عرضه\\u200cشده\\u200cاست': 6897, 'عرفات': 6898, 'عرفان': 6899, 'عرق': 6900, 'عروس': 6901, 'عسل': 6902, 'عسکری': 6903, 'عصا': 6904, 'عصرما': 6905, 'عطار': 6906, 'عفت': 6907, 'عقلانیت': 6908, 'عقلی': 6909, 'علائالدین': 6910, 'علو': 6911, 'علیها': 6912, 'عمدی': 6913, 'عوارضی': 6914, 'عیادت': 6915, 'غاصب': 6916, 'غرور': 6917, 'غزه': 6918, 'غمگین': 6919, 'غیاثی': 6920, 'غیراستاندارد': 6921, 'غیرممکن': 6922, 'غیرمنقول': 6923, 'غیرواقعی': 6924, 'فدائی': 6925, 'فراری': 6926, 'فرانسوا': 6927, 'فردادر': 6928, 'فردین': 6929, 'فرسود&فرسا': 6930, 'فرشچیان': 6931, 'فرهنگ\\u200cسازی': 6932, 'فصول': 6933, 'فضاسازی': 6934, 'فضلا': 6935, 'فعل': 6936, 'فورا': 6937, 'فیاض': 6938, 'فیر': 6939, 'فیلادلفیا': 6940, 'فیلد': 6941, 'فیلیپو': 6942, 'قادرند': 6943, 'قالیچه': 6944, 'قانع': 6945, 'قانونا': 6946, 'قایق': 6947, 'قدوسی': 6948, 'قرارداده': 6949, 'قرص': 6950, 'قروه': 6951, 'قریشی': 6952, 'قزاق': 6953, 'قزوه': 6954, 'قلع': 6955, 'قمی': 6956, 'قولنامه': 6957, 'لالجین': 6958, 'لحظاتی': 6959, 'لری': 6960, 'لنکرانی': 6961, 'لنگرودی': 6962, 'لوئی': 6963, 'لوئیس': 6964, 'لیاقت': 6965, 'لیبرال': 6966, 'ماتسورا': 6967, 'ماتیوس': 6968, 'ماد': 6969, 'ماهیانه': 6970, 'ماکو': 6971, 'مایحتاج': 6972, 'مایک': 6973, 'مبالغ': 6974, 'متاسف': 6975, 'مترو': 6976, 'متضمن': 6977, 'متعاقب': 6978, 'متمدن': 6979, 'متواری': 6980, 'متوازن': 6981, 'متوسل': 6982, 'متوفی': 6983, 'مجرمانه': 6984, 'مجلد': 6985, 'محرمانه': 6986, 'محمدهادی': 6987, 'محول': 6988, 'محکمه': 6989, 'مخابره': 6990, 'مخفی': 6991, 'مخل': 6992, 'مخلص': 6993, 'مدیون': 6994, 'مرفه': 6995, 'مرند': 6996, 'مرکبات': 6997, 'مزد': 6998, 'مسئلت': 6999, 'مسابقه\\u200cای': 7000, 'مستی': 7001, 'مشخصه': 7002, 'مصیبت': 7003, 'مظلومیت': 7004, 'معاضدت': 7005, 'معاهده': 7006, 'معاینه': 7007, 'معدود': 7008, 'معیری': 7009, 'معیوب': 7010, 'مفاصل': 7011, 'مقاصد': 7012, 'مقتضیات': 7013, 'مقصر': 7014, 'مقصود': 7015, 'مقهور': 7016, 'ملائعام': 7017, 'ملاصدرا': 7018, 'ممالک': 7019, 'مناقشات': 7020, 'منحرف': 7021, 'منزوی': 7022, 'منشائ': 7023, 'منکر': 7024, 'مهریز': 7025, 'مهیا': 7026, 'مواجهه': 7027, 'موازنه': 7028, 'موانعی': 7029, 'موتوسیکلت': 7030, 'موثق': 7031, 'موجب\\u200cشده\\u200cتا': 7032, 'موجه': 7033, 'موناکو': 7034, 'مونتاژ': 7035, 'موکول\\u200cشده\\u200cاست': 7036, 'مکشوفه': 7037, 'مکه': 7038, 'میدل': 7039, 'میرعلی': 7040, 'میلی': 7041, 'ناآگاهی': 7042, 'ناصرالدین': 7043, 'ناموفق': 7044, 'ناکاتا': 7045, 'ناگسستنی': 7046, 'نتیجه\\u200cگیری': 7047, 'نجومی': 7048, 'ندا': 7049, 'ندانسته': 7050, 'ندرت': 7051, 'نر': 7052, 'نرفته': 7053, 'نزدیکان': 7054, 'نصیر': 7055, 'نظراتی': 7056, 'نفتکش': 7057, 'نهائی': 7058, 'نهیان': 7059, 'نواختن': 7060, 'نوبت\\u200cبندی': 7061, 'نوردآلومینیوم': 7062, 'نوساز': 7063, 'نپذیرفته': 7064, 'نکونام': 7065, 'نگاشته': 7066, 'نیابت': 7067, 'نیلوفر': 7068, 'نیو': 7069, 'نیکلاس': 7070, 'نیکو': 7071, 'نیکی': 7072, 'هادر': 7073, 'هادیزاده': 7074, 'هجده': 7075, 'هر': 7076, 'هرسال': 7077, 'هشت&هل': 7078, 'همجوار': 7079, 'همزمانی': 7080, 'همیاری': 7081, 'هنرمندانی': 7082, 'هوشیار': 7083, 'هیبت': 7084, 'هیجانات': 7085, 'واجتماعی': 7086, 'واقع\\u200cشده\\u200cاست': 7087, 'والامقام': 7088, 'وانمود': 7089, 'واکسن': 7090, 'وبرنامه\\u200cریزی': 7091, 'وجدان': 7092, 'وزیرامور': 7093, 'وساز': 7094, 'وسومین': 7095, 'وششمین': 7096, 'وصال': 7097, 'وعدم': 7098, 'ولاپان': 7099, 'ونوجوان': 7100, 'وهله': 7101, 'وو': 7102, 'وگوها': 7103, 'ویتانا': 7104, 'ویترین': 7105, 'ویدا': 7106, 'ویرایش': 7107, 'پابرجا': 7108, 'پاره': 7109, 'پاستوریزه': 7110, 'پاناماکس': 7111, 'پاول': 7112, 'پایه\\u200cگذاری': 7113, 'پت': 7114, 'پذیرفته\\u200cشده\\u200cدر': 7115, 'پرانرژی': 7116, 'پربرکت': 7117, 'پرجمعیت': 7118, 'پردرآمد': 7119, 'پرستو': 7120, 'پرستید&پرست': 7121, 'پرمیت': 7122, 'پرهیزید&پرهیز': 7123, 'پروتئین': 7124, 'پروستات': 7125, 'پلنگ': 7126, 'پناهگاه': 7127, 'پنتاگون': 7128, 'پنجه': 7129, 'پهن': 7130, 'پهنه': 7131, 'پوشاک': 7132, 'پوینده': 7133, 'پژوهنده': 7134, 'پیری': 7135, 'پیشخوان': 7136, 'پیشی': 7137, 'پیش\\u200cبینی\\u200cشده\\u200cبرای': 7138, 'چارلتون': 7139, 'چاپی': 7140, 'چایکاران': 7141, 'چربی': 7142, 'چمدان': 7143, 'چهارده': 7144, 'چیره': 7145, 'ژرفا': 7146, 'کاردینال': 7147, 'کارشکنی': 7148, 'کاستا': 7149, 'کاشت': 7150, 'کاشف': 7151, 'کاشمر': 7152, 'کالبد': 7153, 'کالیفرنیا': 7154, 'کامکار': 7155, 'کتابخوان': 7156, 'کتیبه': 7157, 'کجا': 7158, 'کرانه': 7159, 'کرباس': 7160, 'کربلا': 7161, 'کشاندن': 7162, 'کشف\\u200cشده\\u200cدر': 7163, 'کشنده': 7164, 'کفالت': 7165, 'کفش': 7166, 'کلنگ': 7167, 'کلودیو': 7168, 'کلیه': 7169, 'کلیوی': 7170, 'کمانچه': 7171, 'کمبریج': 7172, 'کمپ': 7173, 'کنسولگری': 7174, 'کنندگی': 7175, 'کوبید&کوب': 7176, 'کودکانه': 7177, 'کول': 7178, 'کوهدشت': 7179, 'کوهستانی': 7180, 'کوهنورد': 7181, 'کوچولو': 7182, 'کپی': 7183, 'کیانی': 7184, 'کیست': 7185, 'کیسه': 7186, 'کیفرخواست': 7187, 'کیلووات': 7188, 'کیلوگرمی': 7189, 'کین': 7190, 'گامبیا': 7191, 'گاوداری': 7192, 'گذارد&گذار': 7193, 'گذرگاه': 7194, 'گرداند&گردان': 7195, 'گرمسار': 7196, 'گرگ': 7197, 'گریخته': 7198, 'گریزی': 7199, 'گسسته': 7200, 'گفتنی': 7201, 'گلزار': 7202, 'گلوگاه': 7203, 'گهواره': 7204, 'گود': 7205, 'گوشتی': 7206, 'گویش': 7207, 'گوینده': 7208, 'گچساران': 7209, 'یادماندنی': 7210, 'یاد\\u200cشده\\u200cاست': 7211, 'یهودی': 7212, 'یوم': 7213, 'یونگ': 7214, 'یوگا': 7215, 'یوگسلاو': 7216, 'یکماه': 7217, 'آببها': 7218, 'آبدانان': 7219, 'آبراهام': 7220, 'آتشی': 7221, 'آجر': 7222, 'آخرت': 7223, 'آدنیس': 7224, 'آراسته': 7225, 'آریا': 7226, 'آزادند': 7227, 'آستین': 7228, 'آسمانی': 7229, 'آسیبدیدگان': 7230, 'آشنائی': 7231, 'آشناست': 7232, 'آفات': 7233, 'آلاینده': 7234, 'آلماتی': 7235, 'آماتو': 7236, 'آن\\u200cسوی': 7237, 'آهو': 7238, 'آوازه': 7239, 'آورنده': 7240, 'آوری\\u200cهای': 7241, 'آپارتمان': 7242, 'آکرلوف': 7243, 'آکسفورد': 7244, 'آکنده': 7245, 'آگوست': 7246, 'آیدین': 7247, 'ابریشم': 7248, 'اتخاذ\\u200cشده\\u200cو': 7249, 'اتهاماتی': 7250, 'اتیوپی': 7251, 'اثرگذار': 7252, 'اجمالی': 7253, 'احضار\\u200cشده\\u200cاست': 7254, 'اختلاس': 7255, 'ادرار': 7256, 'ارادتمند': 7257, 'اراذل': 7258, 'ارامنه': 7259, 'ارباب': 7260, 'اربعین': 7261, 'اردنی': 7262, 'ارزش\\u200cگذاری': 7263, 'ارسباران': 7264, 'ارسگان': 7265, 'ارعاب': 7266, 'ارغنده': 7267, 'ارگ': 7268, 'ازابتدای': 7269, 'ازدحام': 7270, 'استام': 7271, 'استحفاظی': 7272, 'استفاده\\u200cکننده': 7273, 'استناد\\u200cبند': 7274, 'استوانه': 7275, 'استیلا': 7276, 'اسعدی': 7277, 'اسلامبولی': 7278, 'اسلامی\\u200cبود': 7279, 'اسپانیاست': 7280, 'اشاره\\u200cشده\\u200cو': 7281, 'اشتراک': 7282, 'اشراق': 7283, 'اشرفی': 7284, 'اضافه\\u200cشده\\u200cاست': 7285, 'اطاق': 7286, 'اطلاق': 7287, 'اطلس': 7288, 'اعداد': 7289, 'اغتشاش': 7290, 'افاضاته': 7291, 'افتخارآفرین': 7292, 'افزار': 7293, 'افزوده\\u200cشده\\u200cاست': 7294, 'افسرده': 7295, 'افشا': 7296, 'افنبرگ': 7297, 'الاجرا': 7298, 'الاسلامی': 7299, 'الامکان': 7300, 'الانبیائ': 7301, 'التحریر': 7302, 'الحرمین': 7303, 'الحسینی': 7304, 'الخطاب': 7305, 'الدوساری': 7306, 'الذکر': 7307, 'الریاض': 7308, 'الساندرو': 7309, 'الشعرای': 7310, 'الشن': 7311, 'العابدین': 7312, 'العمل\\u200cهای': 7313, 'الهیات': 7314, 'الوحده': 7315, 'الوصل': 7316, 'الکتریکی': 7317, 'الکس': 7318, 'امانتداری': 7319, 'امضاکنندگان': 7320, 'امنا': 7321, 'اموراجتماعی': 7322, 'اموراقتصادی': 7323, 'امیرعلی': 7324, 'امیرمومنان': 7325, 'انبیائ': 7326, 'انتخابشوندگان': 7327, 'انتخابکنندگان': 7328, 'انجام\\u200cشده\\u200cتوسط': 7329, 'انجام\\u200cشده\\u200cهر': 7330, 'انجام\\u200cنشده\\u200cاست': 7331, 'انجیر': 7332, 'اندازها': 7333, 'اندود': 7334, 'اندیشیدن': 7335, 'اندیشیده': 7336, 'انسانیت': 7337, 'انگیزترین': 7338, 'اورژانس': 7339, 'اونیل': 7340, 'اپرا': 7341, 'اپه': 7342, 'اکوادور': 7343, 'ایتام': 7344, 'ایجاد\\u200cشده\\u200c': 7345, 'ایدئولوژیک': 7346, 'ایرباس': 7347, 'ایرتیش': 7348, 'ایزدی': 7349, 'ایلخان': 7350, 'ایمن': 7351, 'اینترفاکس': 7352, 'ایوانکوویچ': 7353, 'ایوب': 7354, 'ایکائو': 7355, 'ایکس': 7356, 'باایرنا': 7357, 'بااین': 7358, 'باخبرنگاران': 7359, 'باختری': 7360, 'باخته': 7361, 'بادآورده': 7362, 'بادام': 7363, 'بادبادک': 7364, 'باردار': 7365, 'باردیگر': 7366, 'بارنامه': 7367, 'بازدارندگی': 7368, 'بازداشتگاههای': 7369, 'بازنده': 7370, 'بازگشته': 7371, 'باعنوان': 7372, 'بالارفتن': 7373, 'باهوش': 7374, 'بت': 7375, 'بحق': 7376, 'بحمدالله': 7377, 'بخشند': 7378, 'بخشودگی': 7379, 'بدتر': 7380, 'بدشانسی': 7381, 'بدعت': 7382, 'بدیعی': 7383, 'برآمدن': 7384, 'برانگیخته': 7385, 'برای': 7386, 'برخوردار\\u200cشده\\u200cاست': 7387, 'برش': 7388, 'برهان': 7389, 'برهه': 7390, 'برگردان': 7391, 'برگیرنده': 7392, 'بریل': 7393, 'بزرگزاده': 7394, 'بساط': 7395, 'بشود': 7396, 'بقعه': 7397, 'بلاعوض': 7398, 'بمناسبت': 7399, 'بنا\\u200cشده\\u200cاست': 7400, 'بنز': 7401, 'بوئنوس': 7402, 'بوداپست': 7403, 'بوروکراسی': 7404, 'بوعلی': 7405, 'بولتن': 7406, 'بیرهوف': 7407, 'بیوت': 7408, 'بیوتکنولوژی': 7409, 'بی\\u200cارزش': 7410, 'بی\\u200cدلیل': 7411, 'بی\\u200cنام': 7412, 'بی\\u200cنتیجه': 7413, 'بی\\u200cپایه': 7414, 'بی\\u200cپناه': 7415, 'بی\\u200cپی': 7416, 'تادیه': 7417, 'تاسوعا': 7418, 'تاملات': 7419, 'تبع': 7420, 'تبعه': 7421, 'تبهکار': 7422, 'تجسس': 7423, 'تحدید': 7424, 'تحلیل\\u200cگران': 7425, 'تخطی': 7426, 'تراشه': 7427, 'ترتیبات': 7428, 'ترزه': 7429, 'ترقه': 7430, 'تره': 7431, 'تسلسل': 7432, 'تسلیحات': 7433, 'تشائ': 7434, 'تشرف': 7435, 'تشکیل\\u200cشده\\u200cکه': 7436, 'تصفیه': 7437, 'تصویب\\u200cشده\\u200cاست': 7438, 'تضمین\\u200cکننده': 7439, 'تعاملات': 7440, 'تفریح': 7441, 'تقارن': 7442, 'تقبیح': 7443, 'تقریبی': 7444, 'تقصیر': 7445, 'تقلب': 7446, 'تقلبی': 7447, 'تمرکززدایی': 7448, 'تمسک': 7449, 'تمهیدات': 7450, 'تندخو': 7451, 'تندرو': 7452, 'تندروی': 7453, 'تنفس': 7454, 'تهدیدکننده': 7455, 'تهرانجوان': 7456, 'توامان': 7457, 'توانمندسازی': 7458, 'توت': 7459, 'توسکا': 7460, 'تولدو': 7461, 'تیز': 7462, 'تیزهوش': 7463, 'ثابتی': 7464, 'ثمره': 7465, 'جادویی': 7466, 'جامعه\\u200cشناس': 7467, 'جاوید': 7468, 'جایز': 7469, 'جبر': 7470, 'جبیر': 7471, 'جراح': 7472, 'جرج': 7473, 'جرح': 7474, 'جریانات': 7475, 'جریحه\\u200cدار': 7476, 'جزینی': 7477, 'جزییات': 7478, 'جسم': 7479, 'جعل': 7480, 'جلودارزاده': 7481, 'جماران': 7482, 'جمجمه': 7483, 'جمرات': 7484, 'جنایی': 7485, 'جنرال': 7486, 'جنید': 7487, 'جهرمی': 7488, 'جوادی': 7489, 'جوانه': 7490, 'جوسازی': 7491, 'جون': 7492, 'جوهر': 7493, 'جویدن': 7494, 'جیلر': 7495, 'حائر': 7496, 'حاشیه\\u200cنشین': 7497, 'حاملگی': 7498, 'حتم': 7499, 'حجاب': 7500, 'حجاریان': 7501, 'حجربن': 7502, 'حر': 7503, 'حراج': 7504, 'حسابرس': 7505, 'حسام': 7506, 'حضانت': 7507, 'حقانی': 7508, 'حلزونی': 7509, 'حماس': 7510, 'حنیف': 7511, 'حیوان': 7512, 'خاست&خیز': 7513, 'خاویر': 7514, 'خاکستر': 7515, 'خاکستری': 7516, 'خاکسپاری': 7517, 'خباز': 7518, 'خبرداد': 7519, 'خدابنده': 7520, 'خداپرست': 7521, 'خدشه\\u200cدار': 7522, 'خدمتگزاری': 7523, 'خردورزی': 7524, 'خشتی': 7525, 'خشکی': 7526, 'خصوصیاتی': 7527, 'خندید&خند': 7528, 'خوئینی\\u200cها': 7529, 'خودکار': 7530, 'خوردبین': 7531, 'خوش': 7532, 'خوشحال': 7533, 'خوشدل': 7534, 'خیام': 7535, 'خیرخواه': 7536, 'داده': 7537, 'داده\\u200cشده\\u200cاز': 7538, 'دارخوین': 7539, 'دامان': 7540, 'دامغان': 7541, 'درآمدند': 7542, 'درابتدای': 7543, 'درارتباط': 7544, 'دراطلاعیه\\u200cای': 7545, 'دربر': 7546, 'دربرابر': 7547, 'دربرخی': 7548, 'درتاریخ': 7549, 'دردسر': 7550, 'دردو': 7551, 'درقبال': 7552, 'درماه': 7553, 'درمحل': 7554, 'درنخستین': 7555, 'درو': 7556, 'دروید&درو': 7557, 'درگردهمایی': 7558, 'درگزارش': 7559, 'دشتی': 7560, 'دعوا': 7561, 'دفن': 7562, 'دقایقی': 7563, 'دلارآمریکا': 7564, 'دلتنگی': 7565, 'دلخواه': 7566, 'دلسردی': 7567, 'دلهره': 7568, 'دلیجان': 7569, 'دمکراتیک': 7570, 'دنونی': 7571, 'دهلران': 7572, 'دوبرابر': 7573, 'دوراندیشی': 7574, 'دورن': 7575, 'دورنمای': 7576, 'دوغارون': 7577, 'دوفصلنامه': 7578, 'دونفره': 7579, 'دوگانه': 7580, 'دژ': 7581, 'دکوراسیون': 7582, 'دگرگون': 7583, 'دیلم': 7584, 'دیلی': 7585, 'دیوانه': 7586, 'دیون': 7587, 'دیویس': 7588, 'دیپلمه': 7589, 'ذائقه': 7590, 'ذاتا': 7591, 'ذاکری': 7592, 'ذخائر': 7593, 'ذره': 7594, 'ذهنیت': 7595, 'ذکائ': 7596, 'رئوس': 7597, 'رابا': 7598, 'رابرای': 7599, 'راستین': 7600, 'راضی': 7601, 'رافت': 7602, 'رامهرمز': 7603, 'راوی': 7604, 'را\\u200cطلب': 7605, 'ربودن': 7606, 'رحمه': 7607, 'رخسار': 7608, 'رساله': 7609, 'رسانید&رسان': 7610, 'رستوران': 7611, 'رشت&ریس': 7612, 'رصدخانه': 7613, 'رغبت': 7614, 'رفعت': 7615, 'رفو': 7616, 'رقبات': 7617, 'رمضانعلی': 7618, 'رند': 7619, 'رنگرز': 7620, 'رهاند&رهان': 7621, 'روا': 7622, 'روایات': 7623, 'روزسه': 7624, 'روزگذشته': 7625, 'روماریو': 7626, 'رومن': 7627, 'رونوشت': 7628, 'روکش': 7629, 'رویایی': 7630, 'ریاضیدان': 7631, 'ریشه\\u200cشناسی': 7632, 'ریه': 7633, 'ریکاردو': 7634, 'رییس\\u200cجمهور': 7635, 'زاد': 7636, 'زار': 7637, 'زاویه\\u200cای': 7638, 'زبان\\u200cشناس': 7639, 'زبده': 7640, 'زرد': 7641, 'زلاندنو': 7642, 'زلزله\\u200cشناسی': 7643, 'زمامدار': 7644, 'زنجانی': 7645, 'زهکشی': 7646, 'زیرنویس': 7647, 'زیرپوشش': 7648, 'زیرین': 7649, 'زیست&زی': 7650, 'زیستن': 7651, 'زیمبابوه': 7652, 'سابر': 7653, 'سادگی': 7654, 'سارین': 7655, 'سامارانش': 7656, 'ستاره\\u200cشناس': 7657, 'ستم': 7658, 'ستیزی': 7659, 'سجاد': 7660, 'سرحدی': 7661, 'سرخس': 7662, 'سردر': 7663, 'سردشت': 7664, 'سردی': 7665, 'سرسرا': 7666, 'سرنگونی': 7667, 'سرگروه': 7668, 'سرگروهی': 7669, 'سعیدنژاد': 7670, 'سفارشی': 7671, 'سفالینه': 7672, 'سمبل': 7673, 'سموم': 7674, 'سمپوزیوم': 7675, 'سهروردی': 7676, 'سوئاستفاده\\u200cهای': 7677, 'سوختگیری': 7678, 'سورینو': 7679, 'سوسن': 7680, 'سویه': 7681, 'سپرده\\u200cگذاری': 7682, 'سپهبد': 7683, 'سپهوند': 7684, 'سکونتگاه': 7685, 'سیاحتی': 7686, 'سیبزمینی': 7687, 'سیدالشهدا': 7688, 'سیدعباسی': 7689, 'سیدعطائالله': 7690, 'سیفی': 7691, 'سیگل': 7692, 'شاعرانی': 7693, 'شال': 7694, 'شالکه': 7695, 'شام': 7696, 'شایق': 7697, 'شدو': 7698, 'شرفی': 7699, 'شروع\\u200cشده\\u200cاست': 7700, 'شریعت': 7701, 'شرینگهام': 7702, 'شستشو': 7703, 'شعائر': 7704, 'شعردوست': 7705, 'شل': 7706, 'شلاق': 7707, 'شمارد&شمار': 7708, 'شمع': 7709, 'شنوایی': 7710, 'شنونده': 7711, 'شهباز': 7712, 'شهرآرا': 7713, 'شهرضا': 7714, 'شهلا': 7715, 'شهناز': 7716, 'شوخی': 7717, 'شوراهاست': 7718, 'شوینده': 7719, 'شکلات': 7720, 'شکم': 7721, 'شکور': 7722, 'شیدا': 7723, 'شیرر': 7724, 'شیشه\\u200cای': 7725, 'شیفت': 7726, 'شیلیایی': 7727, 'صادر\\u200cشده\\u200cو': 7728, 'صبا': 7729, 'صباغیان': 7730, 'صبحگاه': 7731, 'صخره\\u200cای': 7732, 'صدیق': 7733, 'صرفه': 7734, 'صریحا': 7735, 'صفوف': 7736, 'صلح\\u200cآمیز': 7737, 'صمدزاده': 7738, 'صنف': 7739, 'صوت': 7740, 'صورت': 7741, 'صیدگاه': 7742, 'ضمنا': 7743, 'ضمیر': 7744, 'ضیا': 7745, 'ضیائ': 7746, 'طب': 7747, 'طبیب': 7748, 'طبیبیان': 7749, 'طراحی\\u200cشده\\u200cاست': 7750, 'طراز': 7751, 'طعم': 7752, 'طلال': 7753, 'طلوع': 7754, 'طنین': 7755, 'طه': 7756, 'طورکلی': 7757, 'ظرفیت\\u200cسازی': 7758, 'عابدزاده': 7759, 'عاشقی': 7760, 'عباسپور': 7761, 'عبدالامیر': 7762, 'عبدالحمید': 7763, 'عبدالفتاح': 7764, 'عبدالوهاب': 7765, 'عبده': 7766, 'عدی': 7767, 'عذاب': 7768, 'عذر': 7769, 'عزت\\u200cنفس': 7770, 'عشقی': 7771, 'عصمت': 7772, 'عضله': 7773, 'عطا': 7774, 'عطش': 7775, 'علیخانی': 7776, 'عمید': 7777, 'عنکبوتی': 7778, 'عیب': 7779, 'عینا': 7780, 'غربت': 7781, 'غضنفر': 7782, 'غلات': 7783, 'غوغا': 7784, 'غیربانکی': 7785, 'غیرحضوری': 7786, 'غیرسیاسی': 7787, 'غیرضروری': 7788, 'غیرعادی': 7789, 'غیرفنی': 7790, 'غیرمنصفانه': 7791, 'غیرکارشناسانه': 7792, 'فامیلی': 7793, 'فاکتورنویس': 7794, 'فتاحی': 7795, 'فتنه': 7796, 'فرآوری': 7797, 'فراخواندند': 7798, 'فرجام': 7799, 'فرخزاد': 7800, 'فرسایش': 7801, 'فرشید': 7802, 'فره': 7803, 'فروریختن': 7804, 'فریضه': 7805, 'فضیلت': 7806, 'فغان': 7807, 'فهیم': 7808, 'فولادشهر': 7809, 'فکه': 7810, 'فیزیوتراپی': 7811, 'فیزیولوژی': 7812, 'فیصل': 7813, 'فیضیه': 7814, 'قاب': 7815, 'قاجاریه': 7816, 'قادری': 7817, 'قامت': 7818, 'قانع\\u200cکننده': 7819, 'قانون\\u200cگذاری': 7820, 'قایقران': 7821, 'قبرستان': 7822, 'قرائن': 7823, 'قرارگرفت': 7824, 'قرارگرفته': 7825, 'قرضه': 7826, 'قرمزی': 7827, 'قسم': 7828, 'قطره': 7829, 'قطری': 7830, 'قطع\\u200cشده\\u200cاست': 7831, 'ققنوس': 7832, 'قهوه': 7833, 'قویا': 7834, 'قیاس': 7835, 'لئونید': 7836, 'لابراتوارداروسازی': 7837, 'لار': 7838, 'لاریجانی': 7839, 'لاهیجان': 7840, 'لاکانی': 7841, 'لاکرونیا': 7842, 'لتیان': 7843, 'لحود': 7844, 'لذت\\u200cبخش': 7845, 'لغت': 7846, 'لم': 7847, 'لو': 7848, 'لورکوزن': 7849, 'لون': 7850, 'لوکاس': 7851, 'ماحصل': 7852, 'مارال': 7853, 'مارسل': 7854, 'ماریو': 7855, 'مازندرانی': 7856, 'ماندنی': 7857, 'مانوس': 7858, 'مانیل': 7859, 'ماهشهر': 7860, 'ماهیچه': 7861, 'ماک': 7862, 'ماکاسارا': 7863, 'مایکروسافت': 7864, 'مبدل\\u200cشده\\u200cاست': 7865, 'مبذول': 7866, 'مبنائ': 7867, 'مبنایی': 7868, 'متاخر': 7869, 'متحجر': 7870, 'متحرک': 7871, 'مترجمی': 7872, 'متصل': 7873, 'متمادی': 7874, 'مجادله': 7875, 'مجاری': 7876, 'مجزا': 7877, 'مجلات': 7878, 'مجلس\\u200cشده\\u200cاست': 7879, 'مجنون': 7880, 'محافظ': 7881, 'محاکمات': 7882, 'محدث': 7883, 'محراب': 7884, 'محرز': 7885, 'محمدابراهیم': 7886, 'محمدخانی': 7887, 'محمودآباد': 7888, 'محمولات': 7889, 'محک': 7890, 'مخبرکمیسیون': 7891, 'مختومه': 7892, 'مددکاری': 7893, 'مدرنیته': 7894, 'مدیا': 7895, 'مذکور\\u200cشده\\u200cاست': 7896, 'مرتع': 7897, 'مرج': 7898, 'مرجان': 7899, 'مردم\\u200cشناسی': 7900, 'مرغوب': 7901, 'مزاحم': 7902, 'مزید': 7903, 'مساعی': 7904, 'مسافت': 7905, 'مسایلی': 7906, 'مسبب': 7907, 'مستاجر': 7908, 'مسدود': 7909, 'مسن': 7910, 'مسیل': 7911, 'مشاهده\\u200cشده\\u200cاست': 7912, 'مشروع': 7913, 'مشکوک': 7914, 'مصادره': 7915, 'مصرح': 7916, 'مصلی': 7917, 'مضرات': 7918, 'مضروب': 7919, 'مظلومی': 7920, 'معده': 7921, 'معراج': 7922, 'معرف': 7923, 'معرفی\\u200cشده\\u200cاست': 7924, 'معطل': 7925, 'معلق': 7926, 'معلمانی': 7927, 'معلمی': 7928, 'معلومات': 7929, 'معنایی': 7930, 'مغتنم': 7931, 'مغول': 7932, 'مفتوح': 7933, 'مفتی': 7934, 'مفسد': 7935, 'مفصلی': 7936, 'مقادیر': 7937, 'مقتدایی': 7938, 'مقدور': 7939, 'ملاعام': 7940, 'ملال': 7941, 'ملبورن': 7942, 'ملقب': 7943, 'ممکن': 7944, 'ممیزی': 7945, 'منادی': 7946, 'منتجبنیا': 7947, 'منتسب': 7948, 'منتشر\\u200cشده\\u200cکه': 7949, 'منتقل\\u200cشده\\u200cاست': 7950, 'منشور': 7951, 'منقوش': 7952, 'منوره': 7953, 'مهد': 7954, 'مهرانگیز': 7955, 'مهرجویی': 7956, 'مهرزاد': 7957, 'مهریزی': 7958, 'مهشید': 7959, 'مهیمن': 7960, 'موافقت\\u200cشده\\u200cاست': 7961, 'موتورسیکلت': 7962, 'موجودات': 7963, 'مورخه': 7964, 'موسیقیدانان': 7965, 'موقوفی': 7966, 'مولفه': 7967, 'مولودی': 7968, 'موید': 7969, 'مکاتبات': 7970, 'میدان\\u200cبود': 7971, 'میرمحمد': 7972, 'میرمصطفی': 7973, 'میرنقیبی': 7974, 'میرو': 7975, 'میلواکی': 7976, 'می\\u200cکرده': 7977, 'نائین': 7978, 'ناامن': 7979, 'نابرابری': 7980, 'نابلس': 7981, 'ناخن': 7982, 'ناخوشایند': 7983, 'ناراضی': 7984, 'نارسائی': 7985, 'نازا': 7986, 'نازنین': 7987, 'ناسازگار': 7988, 'ناصرخسرو': 7989, 'ناقض': 7990, 'نامشروع': 7991, 'نامیده\\u200cشده\\u200cاست': 7992, 'نام\\u200cکنندگان': 7993, 'نایل': 7994, 'نثر': 7995, 'نجیب': 7996, 'ندوشن': 7997, 'نرده': 7998, 'نرودا': 7999, 'نزاع': 8000, 'نسنجیده': 8001, 'نسوزپارس': 8002, 'نشاندهنده': 8003, 'نصاب': 8004, 'نقیصه': 8005, 'نمک': 8006, 'نهی': 8007, 'نوا': 8008, 'نواف': 8009, 'نوبته': 8010, 'نوبخت': 8011, 'نوبنیاد': 8012, 'نوبه': 8013, 'نورانی': 8014, 'نومید': 8015, 'نونهال': 8016, 'نپال': 8017, 'نکا': 8018, 'نگردیده': 8019, 'نیازاف': 8020, 'نیشابوری': 8021, 'نیوجرسی': 8022, 'نیوکاسل': 8023, 'نیکان': 8024, 'نیکنام': 8025, 'هائی': 8026, 'هابه': 8027, 'هان': 8028, 'هانری': 8029, 'هانس': 8030, 'هاکی': 8031, 'هاینس': 8032, 'هراسید&هراس': 8033, 'هرج': 8034, 'هرزگوین': 8035, 'هرساله': 8036, 'هرم': 8037, 'هسا': 8038, 'هشتصد': 8039, 'هشتگرد': 8040, 'هشداردهنده': 8041, 'هفتصد': 8042, 'هماهنگ\\u200cسازی': 8043, 'همزیستی': 8044, 'همفکر': 8045, 'همفکری': 8046, 'همگرایی': 8047, 'هنردوست': 8048, 'هنرمندی': 8049, 'هولناک': 8050, 'هکتور': 8051, 'هیروشیما': 8052, 'هیمالیا': 8053, 'واجب': 8054, 'واراده': 8055, 'واقف': 8056, 'واهی': 8057, 'واگذار\\u200cشده\\u200cاست': 8058, 'وتوسعه': 8059, 'وحیدرضا': 8060, 'وخامت': 8061, 'ودومین': 8062, 'ودیعه': 8063, 'ورای': 8064, 'ورون': 8065, 'وزیرامورخارجه': 8066, 'وزیرفرهنگ': 8067, 'وسایط': 8068, 'وسواس': 8069, 'وظایفی': 8070, 'وظیفه\\u200cای': 8071, 'وفادار': 8072, 'وفق': 8073, 'ولو': 8074, 'ونهم': 8075, 'وگسترش': 8076, 'وگوبا': 8077, 'ویرانه': 8078, 'ویرانی': 8079, 'ویسه': 8080, 'ویولن': 8081, 'و\\u200cبند': 8082, 'پابه': 8083, 'پاترا': 8084, 'پاراجانف': 8085, 'پاستور': 8086, 'پتن': 8087, 'پدرام': 8088, 'پدری': 8089, 'پذیرایی': 8090, 'پراهمیت': 8091, 'پردیس': 8092, 'پررونق': 8093, 'پرسه': 8094, 'پرشتاب': 8095, 'پرفراز': 8096, 'پرفروش': 8097, 'پرنیان': 8098, 'پروازی': 8099, 'پروتئینی': 8100, 'پرورش\\u200cدهنده': 8101, 'پرچمدار': 8102, 'پریدر': 8103, 'پسندید&پسند': 8104, 'پسیانی': 8105, 'پشتکار': 8106, 'پلاتینی': 8107, 'پلدختر': 8108, 'پن': 8109, 'پنداشت&پندار': 8110, 'پنیر': 8111, 'پوران': 8112, 'پورکاشیان': 8113, 'پوشیدن': 8114, 'پیرنیا': 8115, 'پیشگیرانه': 8116, 'پین': 8117, 'پیوس': 8118, 'پی\\u200cریزی': 8119, 'چابک': 8120, 'چاووش': 8121, 'چاپ\\u200cشده\\u200cدر': 8122, 'چرا': 8123, 'چرخبال': 8124, 'چشمانی': 8125, 'چنبره': 8126, 'چندجانبه': 8127, 'چندسال': 8128, 'چندماه': 8129, 'ژاردل': 8130, 'ژنرال': 8131, 'کابلی': 8132, 'کابوس': 8133, 'کاتولیک': 8134, 'کارا': 8135, 'کاربر': 8136, 'کاردان': 8137, 'کارگرانی': 8138, 'کاظمیان': 8139, 'کافور': 8140, 'کالچو': 8141, 'کالین': 8142, 'کالیوژنی': 8143, 'کامو': 8144, 'کامیابی': 8145, 'کانادایی': 8146, 'کانتینر': 8147, 'کانتینربر': 8148, 'کاهای': 8149, 'کاهنده': 8150, 'کاوشگر': 8151, 'کاوید&کاو': 8152, 'کاپ': 8153, 'کای': 8154, 'کبود': 8155, 'کبودرآهنگ': 8156, 'کتابشناسی': 8157, 'کتابفروش': 8158, 'کثرانی': 8159, 'کثرت': 8160, 'کر': 8161, 'کردپور': 8162, 'کردکه': 8163, 'کرزایی': 8164, 'کرفتو': 8165, 'کرم': 8166, 'کروواسی': 8167, 'کریدورهای': 8168, 'کریستال': 8169, 'کس': 8170, 'کسرایی': 8171, 'کشتی\\u200cگیر': 8172, 'کشمیر': 8173, 'کشورگفت': 8174, 'کفن': 8175, 'کلاله': 8176, 'کلینیک': 8177, 'کمربندی': 8178, 'کمری': 8179, 'کنترلی': 8180, 'کندوان': 8181, 'کنکاش': 8182, 'کنیون': 8183, 'کوران': 8184, 'کوزه': 8185, 'کوشا': 8186, 'کوشک': 8187, 'کوپا': 8188, 'کوپر': 8189, 'کوک': 8190, 'کپسول': 8191, 'کیوکوشین': 8192, 'کیوی': 8193, 'کیک': 8194, 'گابریل': 8195, 'گارد': 8196, 'گالاتاسرای': 8197, 'گذاری\\u200cشده\\u200cاست': 8198, 'گذشته': 8199, 'گرانسنگ': 8200, 'گربه': 8201, 'گردآوری': 8202, 'گرداب': 8203, 'گرفته\\u200cشده\\u200cو': 8204, 'گروه\\u200cبندی': 8205, 'گزارشات': 8206, 'گسست': 8207, 'گشاده': 8208, 'گشته': 8209, 'گلباز': 8210, 'گلشیری': 8211, 'گلپایگان': 8212, 'گمنام': 8213, 'گنادی': 8214, 'گناوه': 8215, 'گنجانده': 8216, 'گو': 8217, 'گچ': 8218, 'گیتار': 8219, 'گیرانی': 8220, 'گیلکی': 8221, 'یاقوت': 8222, 'یاور': 8223, 'یزدان': 8224, 'یورک': 8225, 'یورگن': 8226, 'یکایک': 8227, 'یکنواختی': 8228, 'یک\\u200cطرفه': 8229, 'یگانه': 8230, '\\u200cای': 8231, '\\u200cدار': 8232, 'آئینه': 8233, 'آاس': 8234, 'آبخیزداری': 8235, 'آبشخور': 8236, 'آبچوری': 8237, 'آتشفشانی': 8238, 'آتشکده': 8239, 'آتلانتا': 8240, 'آجری': 8241, 'آخوند': 8242, 'آدمیرا': 8243, 'آدینه': 8244, 'آرایشی': 8245, 'آرماندو': 8246, 'آری': 8247, 'آزاد\\u200cشده\\u200cاست': 8248, 'آزمود&آزما': 8249, 'آسانسور': 8250, 'آسفالت': 8251, 'آسوده': 8252, 'آسیاب': 8253, 'آسیا\\u200cبود': 8254, 'آسیبپذیری': 8255, 'آشفته': 8256, 'آشکار\\u200cشده\\u200cاست': 8257, 'آصف': 8258, 'آغازگر': 8259, 'آقاجان': 8260, 'آلبرتو': 8261, 'آلبرکامو': 8262, 'آلبوم': 8263, 'آلوارز': 8264, 'آلومینا': 8265, 'آلپ': 8266, 'آماده\\u200cشده\\u200cاست': 8267, 'آمبولانس': 8268, 'آنابولیک': 8269, 'آنان\\u200cبود': 8270, 'آنتونی': 8271, 'آنجلس': 8272, 'آندره': 8273, 'آندوسکوپی': 8274, 'آنلکا': 8275, 'آنگولا': 8276, 'آنگونه': 8277, 'آنی': 8278, 'آن\\u200cها\\u200cشده\\u200cاست': 8279, 'آهنین': 8280, 'آوران': 8281, 'آوند': 8282, 'آویخت&آویز': 8283, 'آویخته': 8284, 'آویو': 8285, 'آژیر': 8286, 'آیه': 8287, 'ابتیاع': 8288, 'ابدی': 8289, 'ابعادی': 8290, 'ابلاغیه': 8291, 'ابلاغ\\u200cنشده\\u200cاست': 8292, 'ابوالحسنی': 8293, 'ابوتراب': 8294, 'ابوطالب': 8295, 'اتیلن': 8296, 'اثاثیه': 8297, 'اجاره\\u200cای': 8298, 'اجتماعی\\u200cشده\\u200cاست': 8299, 'اجتهاد': 8300, 'اجزائ': 8301, 'اجناس': 8302, 'احتجاب': 8303, 'احسن': 8304, 'اختیاری': 8305, 'اخضر': 8306, 'اخطاره': 8307, 'اخوت': 8308, 'ادراک': 8309, 'ادعانامه': 8310, 'اذن': 8311, 'ارائه\\u200cشده\\u200cبه': 8312, 'ارائه\\u200cکننده': 8313, 'ارتباطند': 8314, 'ارد': 8315, 'اردستان': 8316, 'اردهال': 8317, 'ارسال\\u200cشده\\u200cکه': 8318, 'ارشاداسلامی': 8319, 'ارم': 8320, 'اریک': 8321, 'ازنظر': 8322, 'ازنمایندگان': 8323, 'ازکشور': 8324, 'از\\u200cبند': 8325, 'استادمحمد': 8326, 'استبداد': 8327, 'استحقاق': 8328, 'استشمام': 8329, 'استفاده': 8330, 'استفاده\\u200cشده\\u200cاست': 8331, 'استماع': 8332, 'استمداد': 8333, 'استگلیتز': 8334, 'استیو': 8335, 'استیون': 8336, 'اسدآباد': 8337, 'اسرارآمیز': 8338, 'اسطوره\\u200cای': 8339, 'اسعدیان': 8340, 'اسفبار': 8341, 'اسفندیاری': 8342, 'اسلامیه': 8343, 'اسلاید': 8344, 'اسلوواکی': 8345, 'اسلوونی': 8346, 'اسپنس': 8347, 'اسکو': 8348, 'اشاره\\u200cشده\\u200cاست': 8349, 'اشباع': 8350, 'اشغالگر': 8351, 'اشیا': 8352, 'اصفهان\\u200cبود': 8353, 'اطفائ': 8354, 'اظهارنظری': 8355, 'اعتراضات': 8356, 'اعراب': 8357, 'اعلام\\u200cشده\\u200cاز': 8358, 'اعلام\\u200cشده\\u200cتوسط': 8359, 'اعلام\\u200cنشده\\u200cاست': 8360, 'اغراق': 8361, 'افاضات': 8362, 'افزودنی': 8363, 'افشاند&افشان': 8364, 'افضل': 8365, 'افطار': 8366, 'افغانستان\\u200cبود': 8367, 'افه': 8368, 'اقبالی': 8369, 'اقتباس': 8370, 'اقصی': 8371, 'اقلید': 8372, 'اقلیمی': 8373, 'الائمه': 8374, 'الاتباع': 8375, 'الاصول': 8376, 'التزام': 8377, 'التمیات': 8378, 'الحاقی': 8379, 'الحق': 8380, 'الدعایه': 8381, 'الریان': 8382, 'السعید': 8383, 'الشعب': 8384, 'الصباح': 8385, 'الطاف': 8386, 'العیار': 8387, 'القا': 8388, 'القائ': 8389, 'القائات': 8390, 'المال': 8391, 'المقدس': 8392, 'النجمه': 8393, 'النعیمی': 8394, 'النهار': 8395, 'الیه': 8396, 'الیورکان': 8397, 'امثال': 8398, 'امحای': 8399, 'امدادرسان': 8400, 'امدادرسانی': 8401, 'امراللهی': 8402, 'امرسون': 8403, 'امروزین': 8404, 'امور': 8405, 'امپراطوری': 8406, 'امکانپذیر': 8407, 'امی': 8408, 'امیدبخش': 8409, 'امیرشاهی': 8410, 'انبوه\\u200cسازی': 8411, 'انتحاری': 8412, 'انتظاراتی': 8413, 'انجام\\u200cشده\\u200cبه': 8414, 'انجام\\u200cشده\\u200cتا': 8415, 'اندره': 8416, 'اندوخت&اندوز': 8417, 'اندکه': 8418, 'اندیمشک': 8419, 'انزوا': 8420, 'انسان\\u200cشناسی': 8421, 'انصاف': 8422, 'انضباط': 8423, 'انعام': 8424, 'انعطاف': 8425, 'انفعالی': 8426, 'انقراض': 8427, 'انقطاع': 8428, 'انگاشت&انگار': 8429, 'اهتزاز': 8430, 'اهدایی': 8431, 'اهلی': 8432, 'اوباسانجو': 8433, 'اوزاکا': 8434, 'اولاد': 8435, 'اولر': 8436, 'اولیور': 8437, 'او\\u200cبود': 8438, 'اکبرزاده': 8439, 'اکبرپور': 8440, 'اکتفا': 8441, 'اکراین': 8442, 'اکهارد': 8443, 'ایبرو': 8444, 'ایتارتاس': 8445, 'ایتالیاست': 8446, 'ایجاد\\u200cشده\\u200cو': 8447, 'ایجاد\\u200cشده\\u200cکه': 8448, 'ایرانسرای': 8449, 'ایرکوتسک': 8450, 'ایزو': 8451, 'ایلیا': 8452, 'ایمانی': 8453, 'اینصورت': 8454, 'این\\u200cها': 8455, 'ایپز': 8456, 'ایگور': 8457, 'باانگیزه': 8458, 'باایجاد': 8459, 'باتری': 8460, 'باجه': 8461, 'باخبرنگار': 8462, 'باختر': 8463, 'باختگان': 8464, 'بادولینو': 8465, 'بارانداز': 8466, 'باروری': 8467, 'بارگیری\\u200cشده\\u200cاست': 8468, 'بازارغیررسمی': 8469, 'بازماندند': 8470, 'بازپس': 8471, 'بازگردانده': 8472, 'بازگشته\\u200cاند': 8473, 'بازگو': 8474, 'باطن': 8475, 'باغبان': 8476, 'باغداران': 8477, 'باغمیشه': 8478, 'بالینی': 8479, 'بام': 8480, 'بامیان': 8481, 'بامیه': 8482, 'بانشاط': 8483, 'باهم': 8484, 'باوجود': 8485, 'باورنکردنی': 8486, 'باید': 8487, 'بایر': 8488, 'بایرلورکوزن': 8489, 'بایگانی': 8490, 'بتنی': 8491, 'بختیار': 8492, 'بخود': 8493, 'بدبینانه': 8494, 'بدبینی': 8495, 'بدر': 8496, 'بدرقه': 8497, 'بدی': 8498, 'برابر': 8499, 'براتیسلاوا': 8500, 'برادری': 8501, 'براساس\\u200cبند': 8502, 'براندازانه': 8503, 'براگا': 8504, 'براینکه': 8505, 'برجستگی': 8506, 'برخاست': 8507, 'برخوردار\\u200cبودند': 8508, 'برزوفسکی': 8509, 'برزگر': 8510, 'برسر': 8511, 'برشمردیم': 8512, 'برضرورت': 8513, 'برفی': 8514, 'برق\\u200cرسانی': 8515, 'برنزی': 8516, 'بروشور': 8517, 'برپا\\u200cبود': 8518, 'برچسب': 8519, 'برگزار\\u200cشده\\u200cو': 8520, 'برگزار\\u200cکننده': 8521, 'برگسترش': 8522, 'بزرگسالی': 8523, 'بزیک': 8524, 'بس': 8525, 'بسطام': 8526, 'بشیر': 8527, 'بشیکتاش': 8528, 'بضاعت': 8529, 'بطن': 8530, 'بطوری': 8531, 'بعهده': 8532, 'بقال': 8533, 'بلااستفاده': 8534, 'بلال': 8535, 'بلامانع': 8536, 'بلوطی': 8537, 'بلکبرن': 8538, 'بلیط': 8539, 'بم': 8540, 'بمنظور': 8541, 'بنظر': 8542, 'بنیادگرا': 8543, 'بهاران': 8544, 'بهبهان': 8545, 'بهنگام': 8546, 'بو': 8547, 'بوالهری': 8548, 'بودا': 8549, 'بورا': 8550, 'بوس': 8551, 'بوسه': 8552, 'بوف': 8553, 'بوق': 8554, 'بوقوع': 8555, 'بولوار': 8556, 'بولونی': 8557, 'بوینس': 8558, 'بگوئیم': 8559, 'بیافریند': 8560, 'بیدار': 8561, 'بیداری': 8562, 'بیشتربه': 8563, 'بیشتر\\u200cشده\\u200cاست': 8564, 'بیلد': 8565, 'بیمه\\u200cنامه': 8566, 'بیگ': 8567, 'بی\\u200cآنکه': 8568, 'بی\\u200cاعتنایی': 8569, 'بی\\u200cبدیل': 8570, 'بی\\u200cثباتی': 8571, 'بی\\u200cخبری': 8572, 'بی\\u200cدریغ': 8573, 'بی\\u200cشکست': 8574, 'بی\\u200cنیاز': 8575, 'بی\\u200cواسطه': 8576, 'بی\\u200cپاسخ': 8577, 'بی\\u200cپرده': 8578, 'بی\\u200cچون': 8579, 'تاب': 8580, 'تاخت': 8581, 'تالم': 8582, 'تاکیدکردند': 8583, 'تایلندی': 8584, 'تایم': 8585, 'تبعیضات': 8586, 'تجدد': 8587, 'تجریش': 8588, 'تحریک\\u200cآمیز': 8589, 'تحصن': 8590, 'تختی\\u200cبودم': 8591, 'تخریب\\u200cشده\\u200cاست': 8592, 'تخیل': 8593, 'تدوین\\u200cشده\\u200cو': 8594, 'تدوین\\u200cکنندگان': 8595, 'تر': 8596, 'ترابوزان': 8597, 'تراشید&تراش': 8598, 'ترش': 8599, 'ترمینال': 8600, 'ترنج': 8601, 'تروفو': 8602, 'تشریفاتی': 8603, 'تشنه': 8604, 'تشکیل\\u200cشده\\u200cو': 8605, 'تصدیق': 8606, 'تصفیه\\u200cکنندگان': 8607, 'تطهیر': 8608, 'تظاهر': 8609, 'تعابیر': 8610, 'تعبیه': 8611, 'تعقل': 8612, 'تعلل': 8613, 'تعلیمات': 8614, 'تعلیماتی': 8615, 'تعیین\\u200cشده\\u200c': 8616, 'تعیین\\u200cشده\\u200cبه': 8617, 'تقدس': 8618, 'تقسیمات': 8619, 'تقویت\\u200cشده\\u200cاست': 8620, 'تل': 8621, 'تلاقی': 8622, 'تلسکوپ': 8623, 'تماشایی': 8624, 'تملق': 8625, 'تملک': 8626, 'تنب': 8627, 'تنزل': 8628, 'تنظیم\\u200cشده\\u200cو': 8629, 'تنگی': 8630, 'ته': 8631, 'تهاجمی': 8632, 'تهدیدات': 8633, 'تهی': 8634, 'تهیه\\u200cشده\\u200c': 8635, 'تو': 8636, 'توان': 8637, 'توربین': 8638, 'تورمی': 8639, 'توریست': 8640, 'توشی': 8641, 'توقیف\\u200cشده': 8642, 'توقیف\\u200cشده\\u200cآبان': 8643, 'توقیف\\u200cشده\\u200cایران': 8644, 'تولیت': 8645, 'تولید\\u200cشده\\u200cاست': 8646, 'توی': 8647, 'تویوتا': 8648, 'تپش': 8649, 'تکاب': 8650, 'تکان\\u200cدهنده': 8651, 'تکاپو': 8652, 'تکفل': 8653, 'تکوین': 8654, 'تیزبین': 8655, 'ثارالله': 8656, 'ثانوی': 8657, 'ثانویه': 8658, 'ثبتی': 8659, 'ثبت\\u200cشده\\u200cدر': 8660, 'ثریا': 8661, 'ثقل': 8662, 'ثمرات': 8663, 'ثمربخش': 8664, 'جار': 8665, 'جاسوس': 8666, 'جامائیکا': 8667, 'جامعه\\u200cشده\\u200cو': 8668, 'جامی': 8669, 'جانبه\\u200cگرایی': 8670, 'جانسوز': 8671, 'جاودان': 8672, 'جاودانه': 8673, 'جاودانگی': 8674, 'جاکارتا': 8675, 'ججو': 8676, 'جدا': 8677, 'جداول': 8678, 'جدل': 8679, 'جر': 8680, 'جرائمی': 8681, 'جراحت': 8682, 'جردن': 8683, 'جزیی': 8684, 'جسارت': 8685, 'جغتایی': 8686, 'جلساتی': 8687, 'جلگه': 8688, 'جماعت': 8689, 'جماهیر': 8690, 'جمکران': 8691, 'جمیع': 8692, 'جنازه': 8693, 'جنگلکاری': 8694, 'جنگنده': 8695, 'جهاتی': 8696, 'جهاددانشگاهی': 8697, 'جهانبخش': 8698, 'جهانشاهی': 8699, 'جهرم': 8700, 'جوئی': 8701, 'جوائز': 8702, 'جوادیه': 8703, 'جوامعی': 8704, 'جوانمرد': 8705, 'جوردن': 8706, 'جوزف': 8707, 'جولای': 8708, 'جولیانو': 8709, 'جیب': 8710, 'جیرانی': 8711, 'حاصلخیز': 8712, 'حاضر\\u200cشده\\u200cو': 8713, 'حالی\\u200cبود': 8714, 'حتمی': 8715, 'حجج': 8716, 'حدنصاب': 8717, 'حرفه\\u200cای\\u200cگرایی': 8718, 'حسنه': 8719, 'حشم': 8720, 'حشیش': 8721, 'حقه': 8722, 'حلول': 8723, 'حلی': 8724, 'حواس': 8725, 'حوضچه': 8726, 'حکمران': 8727, 'حکیمانه': 8728, 'حیدرزاده': 8729, 'خا': 8730, 'خالص': 8731, 'خامه': 8732, 'خاچیکیان': 8733, 'خبرنگارما': 8734, 'خدمات\\u200cرسانی': 8735, 'خراب': 8736, 'خرابی': 8737, 'خراسان\\u200cبود': 8738, 'خردمندانه': 8739, 'خرده': 8740, 'خریداری\\u200cشده\\u200cاست': 8741, 'خساراتی': 8742, 'خسروآبادی': 8743, 'خشم': 8744, 'خشکبار': 8745, 'خطرآفرین': 8746, 'خلاصه\\u200cشده\\u200cاست': 8747, 'خلافکار': 8748, 'خلوص': 8749, 'خمسه': 8750, 'خمپاره': 8751, 'خنج': 8752, 'خنجر': 8753, 'خوانندگانی': 8754, 'خوداتکایی': 8755, 'خودجوش': 8756, 'خودخواهی': 8757, 'خودنمایی': 8758, 'خودی': 8759, 'خود\\u200cبود': 8760, 'خوراسگان': 8761, 'خورخه': 8762, 'خوشبین': 8763, 'خونی': 8764, 'خویشتنداری': 8765, 'خیر': 8766, 'خیرآباد': 8767, 'خیره\\u200cکننده': 8768, 'خیل': 8769, 'دائره': 8770, 'دائما': 8771, 'دادنامه': 8772, 'دادگر': 8773, 'دارآباد': 8774, 'داردو': 8775, 'داشتنی': 8776, 'دالبی': 8777, 'دانایی': 8778, 'دانیل': 8779, 'داودنژاد': 8780, 'داوطلبانی': 8781, 'دایجست': 8782, 'درآمده\\u200cاند': 8783, 'درآینده': 8784, 'دراستان': 8785, 'درانتخابات': 8786, 'درب': 8787, 'درجریان': 8788, 'درحد': 8789, 'درخانه': 8790, 'درختی': 8791, 'درخشنده': 8792, 'درخواهند': 8793, 'درز': 8794, 'درسازمان': 8795, 'درستکار': 8796, 'درشرایط': 8797, 'درشعبه': 8798, 'درصحن': 8799, 'درصحنه': 8800, 'درمحیط': 8801, 'درموزه': 8802, 'درنتیجه': 8803, 'درنشست': 8804, 'درهمایش': 8805, 'درپیش': 8806, 'دریانورد': 8807, 'دز': 8808, 'دستمایه': 8809, 'دستورعمل': 8810, 'دعوت\\u200cشده\\u200c': 8811, 'دعوت\\u200cشده\\u200cباید': 8812, 'دعوت\\u200cشده\\u200cمی\\u200cبایست': 8813, 'دف': 8814, 'دفاعیه': 8815, 'دلسوزی': 8816, 'دلیر': 8817, 'دمید&دم': 8818, 'دمیدن': 8819, 'دندانپزشک': 8820, 'دندون': 8821, 'دهباشی': 8822, 'دهخدا': 8823, 'دهنه': 8824, 'دهکده': 8825, 'دهکردی': 8826, 'دوا': 8827, 'دواخطاره': 8828, 'دوتیم': 8829, 'دوران\\u200cگذار': 8830, 'دوربان': 8831, 'دوربرد': 8832, 'دوسویه': 8833, 'دوضرب': 8834, 'دومیلیون': 8835, 'دون': 8836, 'دوندگی': 8837, 'دوگانگی': 8838, 'دکترسید': 8839, 'دیابتی': 8840, 'دیبا': 8841, 'دیجیتالی': 8842, 'دیدارو': 8843, 'دیروزاعلام': 8844, 'دیروزبه': 8845, 'دیروزگفت': 8846, 'دیزین': 8847, 'دینو': 8848, 'دینوویچ': 8849, 'دیواره': 8850, 'دیوارکشی': 8851, 'دیوانعالی': 8852, 'دیک': 8853, 'ذخیره\\u200cسازی': 8854, 'ذغال': 8855, 'ذکایی': 8856, 'رئوف': 8857, 'را': 8858, 'راجستان': 8859, 'راجعون': 8860, 'رادیواکتیویته': 8861, 'رادیوتلویزیونی': 8862, 'رادیولوژی\\u200cها': 8863, 'رادیوو': 8864, 'رازینی': 8865, 'راسل': 8866, 'راشد': 8867, 'رانت\\u200cها': 8868, 'رانده': 8869, 'رانده\\u200cشده\\u200cو': 8870, 'رانندگانی': 8871, 'راهزن': 8872, 'راهگشا': 8873, 'راولپندی': 8874, 'راپیدوین': 8875, 'رایان': 8876, 'رایت': 8877, 'رباعیات': 8878, 'رجوع': 8879, 'رحم': 8880, 'رخساره': 8881, 'ردپای': 8882, 'رشوه': 8883, 'رشک': 8884, 'رفسنجان': 8885, 'رمانس': 8886, 'رنجش': 8887, 'رنگین': 8888, 'رهنما': 8889, 'رواق': 8890, 'روان\\u200cشناسی': 8891, 'روایتگر': 8892, 'روبوکاپ': 8893, 'روزآمد': 8894, 'روزیفراخ': 8895, 'روستائی': 8896, 'روضه': 8897, 'رومی': 8898, 'روپیه': 8899, 'روژ': 8900, 'رویانیان': 8901, 'رکود\\u200cشده\\u200cاست': 8902, 'ریتم': 8903, 'ریزی\\u200cشده\\u200cاست': 8904, 'ریل': 8905, 'زانتیای': 8906, 'زایران': 8907, 'زحمتکش': 8908, 'زرینچه': 8909, 'زشتی': 8910, 'زعم': 8911, 'زلال': 8912, 'زمام': 8913, 'زمزم': 8914, 'زندگینامه': 8915, 'زهر': 8916, 'زورا': 8917, 'زولبیا': 8918, 'زکات': 8919, 'زیدوند': 8920, 'زیرسئوال': 8921, 'زیرک': 8922, 'زینب': 8923, 'زیوا': 8924, 'سا': 8925, 'ساعاتی': 8926, 'ساعتها': 8927, 'سالاس': 8928, 'سالخورده': 8929, 'سالخوردگی': 8930, 'سالنامه': 8931, 'ساله\\u200cام': 8932, 'سال\\u200cبود': 8933, 'ساموئل': 8934, 'سانسور': 8935, 'ساوالان': 8936, 'سبا': 8937, 'سببساز': 8938, 'سبحانی': 8939, 'سبقت': 8940, 'سبلان': 8941, 'سترگ': 8942, 'ستی': 8943, 'سحرخیز': 8944, 'سخاوت': 8945, 'سختگیرانه': 8946, 'سدسازی': 8947, 'سراوان': 8948, 'سربوروی': 8949, 'سردرد': 8950, 'سرسبز': 8951, 'سرمایه\\u200cدار': 8952, 'سرنوشت\\u200cساز': 8953, 'سرنگون': 8954, 'سره': 8955, 'سروستان': 8956, 'سرپوش': 8957, 'سرکار': 8958, 'سرکرده': 8959, 'سرکش': 8960, 'سرکوبگرانه': 8961, 'سرگذاشتن': 8962, 'سرگردانی': 8963, 'سزا': 8964, 'سزر': 8965, 'سستی': 8966, 'سعود': 8967, 'سفالگری': 8968, 'سفته': 8969, 'سفرا': 8970, 'سفیدپوستان': 8971, 'سفیدی': 8972, 'سقم': 8973, 'سل': 8974, 'سلاجقه': 8975, 'سلایق': 8976, 'سلجوقی': 8977, 'سلحشور': 8978, 'سلولزی': 8979, 'سلوک': 8980, 'سمبلیک': 8981, 'سناریو': 8982, 'سنگر': 8983, 'سهل': 8984, 'سهو': 8985, 'سوئز': 8986, 'سوئمدیریت': 8987, 'سوادکوه': 8988, 'سوختن': 8989, 'سوداگر': 8990, 'سوددهی': 8991, 'سوزان': 8992, 'سولانا': 8993, 'سوون': 8994, 'سوژه': 8995, 'سوگ': 8996, 'سپرده\\u200cگذار': 8997, 'سپری\\u200cشده\\u200cاست': 8998, 'سیارات': 8999, 'سیاستگذاری\\u200cهای': 9000, 'سیتی': 9001, 'سیحون': 9002, 'سیدامیر': 9003, 'سیدصفدر': 9004, 'سیدهادی': 9005, 'سیدکا': 9006, 'سیراب': 9007, 'سیستم\\u200cعامل': 9008, 'سیلو': 9009, 'سیناد': 9010, 'سینماست': 9011, 'سیه': 9012, 'سیگارسازی': 9013, 'شائبه': 9014, 'شادمانه': 9015, 'شادمهر': 9016, 'شارجه': 9017, 'شازده': 9018, 'شاعره': 9019, 'شالیزار': 9020, 'شاندونگ': 9021, 'شاهزاده': 9022, 'شبح': 9023, 'شرجی': 9024, 'شرودر': 9025, 'شلوغ': 9026, 'شمشیر': 9027, 'شمشیربازان': 9028, 'شمول': 9029, 'شناخته\\u200cشده\\u200cکشور': 9030, 'شناسایی\\u200cشده\\u200cاست': 9031, 'شهدایران': 9032, 'شهرداد': 9033, 'شهره': 9034, 'شهرهاست': 9035, 'شهریاری': 9036, 'شهسوار': 9037, 'شورانگیز': 9038, 'شورشی': 9039, 'شول': 9040, 'شکاری': 9041, 'شکافت&شکاف': 9042, 'شکسته\\u200cشده\\u200cو': 9043, 'شکستگی': 9044, 'شکنان': 9045, 'شکوفه': 9046, 'شکیبی': 9047, 'شگرف': 9048, 'شیبانی': 9049, 'شیرزاد': 9050, 'شیروانی': 9051, 'شیرکوند': 9052, 'شیفته': 9053, 'شیمبون': 9054, 'شیون': 9055, 'صابون': 9056, 'صاحبنام': 9057, 'صاحبنظر': 9058, 'صادر\\u200cشده\\u200c': 9059, 'صافی': 9060, 'صالحه': 9061, 'صبحانه': 9062, 'صبوری': 9063, 'صحرانوردی': 9064, 'صحه': 9065, 'صدسال': 9066, 'صدیقه': 9067, 'صراحتا': 9068, 'صعبالعبور': 9069, 'صفاری': 9070, 'صلواتی': 9071, 'صمیم': 9072, 'صنامی\\u200cها': 9073, 'صورتجلسه': 9074, 'ضارب': 9075, 'ضدتروریستی': 9076, 'ضرایب': 9077, 'ضرباهنگ': 9078, 'ضربتی': 9079, 'ضربدر': 9080, 'ضیافت': 9081, 'ضیمران': 9082, 'طاسی': 9083, 'طالبانی': 9084, 'طالع': 9085, 'طالقان': 9086, 'طاهره': 9087, 'طبی': 9088, 'طراوت': 9089, 'طرد': 9090, 'طرفداری': 9091, 'طریق': 9092, 'طنزپرداز': 9093, 'طوبی': 9094, 'طی\\u200cشده\\u200cو': 9095, 'ظروف': 9096, 'ظله': 9097, 'ظهیرالدوله': 9098, 'عاج': 9099, 'عاجل': 9100, 'عادات': 9101, 'عادی\\u200cسازی': 9102, 'عاشیقها': 9103, 'عبادالله': 9104, 'عثمان': 9105, 'عجین': 9106, 'عدل': 9107, 'عربستانی': 9108, 'عربلو': 9109, 'عرفانی': 9110, 'عروج': 9111, 'عروسکی': 9112, 'عزیززاده': 9113, 'عطارد': 9114, 'عطوفت': 9115, 'عفراتی': 9116, 'عقلا': 9117, 'عقیل': 9118, 'علائق': 9119, 'علیمردانی': 9120, 'عمد': 9121, 'عنصری': 9122, 'عوام': 9123, 'عکس\\u200cدار': 9124, 'عینیت': 9125, 'غافلگیر': 9126, 'غایت': 9127, 'غرض': 9128, 'غرورآفرین': 9129, 'غریبانه': 9130, 'غریبانی': 9131, 'غریق': 9132, 'غنیمت': 9133, 'غوطه': 9134, 'غیراصولی': 9135, 'غیرت': 9136, 'غیرسیگاری': 9137, 'غیرمتعارف': 9138, 'غیرمتمرکز': 9139, 'غیرمنتظره': 9140, 'غیرواقع': 9141, 'غیرپزشکی': 9142, 'فائزه': 9143, 'فال': 9144, 'فامنین': 9145, 'فان': 9146, 'فاکتور': 9147, 'فتاح': 9148, 'فجیع': 9149, 'فحشا': 9150, 'فخر': 9151, 'فدا': 9152, 'فراست': 9153, 'فرامرز': 9154, 'فرامین': 9155, 'فراهم\\u200cشده\\u200cو': 9156, 'فربه': 9157, 'فرضی': 9158, 'فرقه': 9159, 'فرمایشات': 9160, 'فروریخت': 9161, 'فروزان': 9162, 'فعالانه': 9163, 'فقیرنشین': 9164, 'فلزکاری': 9165, 'فلوت': 9166, 'فلوره': 9167, 'فلوریدا': 9168, 'فلک': 9169, 'فلکه': 9170, 'فهمیده': 9171, 'فواد': 9172, 'فولکلوریک': 9173, 'فولیک': 9174, 'فوکس': 9175, 'فوکو': 9176, 'فک': 9177, 'فیدبک': 9178, 'فیروزا': 9179, 'فیل': 9180, 'فیلیپینی': 9181, 'قاسمعلی': 9182, 'قافله': 9183, 'قانونگرایی': 9184, 'قانون\\u200cگذار': 9185, 'قبادی': 9186, 'قبر': 9187, 'قبیله\\u200cای': 9188, 'قتلگاه': 9189, 'قدرتمندی': 9190, 'قدردان': 9191, 'قدیانی': 9192, 'قرا': 9193, 'قراردهند': 9194, 'قرارگرفتن': 9195, 'قربانعلی': 9196, 'قرضی': 9197, 'قریبالوقوع': 9198, 'قسطی': 9199, 'قشقاوی': 9200, 'قصرشیرین': 9201, 'قطور': 9202, 'قلاوند': 9203, 'قلیل': 9204, 'قمر': 9205, 'قنات': 9206, 'قنادی': 9207, 'قندثابت': 9208, 'قندشیرین': 9209, 'قهستان': 9210, 'قومیت': 9211, 'قیدار': 9212, 'قیصر': 9213, 'قیم': 9214, 'لئوندینگ': 9215, 'لاشه': 9216, 'لاغر': 9217, 'لاهیجی': 9218, 'لای': 9219, 'لب': 9220, 'لبنی': 9221, 'لبه': 9222, 'لطمات': 9223, 'لغات': 9224, 'لله': 9225, 'لمس': 9226, 'لنجان': 9227, 'لنگرود': 9228, 'لهستانی': 9229, 'لواسانی': 9230, 'لوبرز': 9231, 'لوشون': 9232, 'لوکاچ': 9233, 'لکن': 9234, 'لیالی': 9235, 'لیتمانن': 9236, 'مادلین': 9237, 'مارتین': 9238, 'مارکوویچ': 9239, 'ماری': 9240, 'مافوق': 9241, 'مافیایی': 9242, 'مالرو': 9243, 'مانوئل': 9244, 'ماهر': 9245, 'ماهور': 9246, 'ماهیگیر': 9247, 'مبین': 9248, 'متانت': 9249, 'متجلی': 9250, 'متخلص': 9251, 'متروک': 9252, 'متشنج': 9253, 'متصدی': 9254, 'متصور': 9255, 'متضاد': 9256, 'متضرر': 9257, 'متعلقه': 9258, 'متقن': 9259, 'متلاشی': 9260, 'متمایز': 9261, 'متمرکز\\u200cبود': 9262, 'متمرکز\\u200cشده\\u200cاست': 9263, 'متناوب': 9264, 'متوقف\\u200cشده\\u200cاست': 9265, 'مثانه': 9266, 'مجاورت': 9267, 'مجتهد': 9268, 'مجتهدی': 9269, 'مجدفر': 9270, 'مجرا': 9271, 'مجلسی': 9272, 'مجلس\\u200cبود': 9273, 'محارب': 9274, 'محامدی': 9275, 'محبوبیت': 9276, 'محتوایی': 9277, 'محتوم': 9278, 'محتویات': 9279, 'محرک': 9280, 'محفوظ': 9281, 'محقق\\u200cشده\\u200cاست': 9282, 'محلاتی': 9283, 'محلوج': 9284, 'محمدبن': 9285, 'محمدنژاد': 9286, 'محکوم\\u200cشده\\u200cاست': 9287, 'مختص': 9288, 'مخزن': 9289, 'مخزنی': 9290, 'مداح': 9291, 'مداخلات': 9292, 'مدعی\\u200cشده\\u200cاست': 9293, 'مراجعه\\u200cکننده': 9294, 'مراعات': 9295, 'مرام': 9296, 'مرتبه': 9297, 'مرجعیت': 9298, 'مرحومه': 9299, 'مرخص': 9300, 'مرداب': 9301, 'مردم\\u200cداری': 9302, 'مردم\\u200cشده\\u200cاست': 9303, 'مرزبندی': 9304, 'مرسوم': 9305, 'مرطوب': 9306, 'مرمر': 9307, 'مرموز': 9308, 'مرگبار': 9309, 'مزه': 9310, 'مزین': 9311, 'مسئولیت\\u200cپذیری': 9312, 'مسالمت': 9313, 'مسالمت\\u200cآمیز': 9314, 'مستحدثات': 9315, 'مستدل': 9316, 'مستهجن': 9317, 'مستوفی': 9318, 'مسجدالاقصی': 9319, 'مسقف': 9320, 'مسلط': 9321, 'مسموم': 9322, 'مسمومیت': 9323, 'مسوولیت': 9324, 'مسیچ': 9325, 'مشاجره': 9326, 'مشاهیر': 9327, 'مشترکا': 9328, 'مشتزن': 9329, 'مشخص\\u200cنشده\\u200cاست': 9330, 'مشق': 9331, 'مضر': 9332, 'مطرح\\u200cبود': 9333, 'مطرح\\u200cشده\\u200cو': 9334, 'مطلقه': 9335, 'مظفری': 9336, 'مظنون': 9337, 'معادلات': 9338, 'معامله\\u200cشده': 9339, 'معامله\\u200cشده\\u200cدر': 9340, 'معانی': 9341, 'معاینات': 9342, 'معتقد\\u200cبود': 9343, 'معتقد\\u200cبودند': 9344, 'معجونی': 9345, 'مفرح': 9346, 'مفرده': 9347, 'مفرط': 9348, 'مفسر': 9349, 'مفصل': 9350, 'مقداری': 9351, 'مقدسات': 9352, 'مقرون': 9353, 'ملاح': 9354, 'ملامت': 9355, 'ملتهب': 9356, 'ملموس': 9357, 'ملهم': 9358, 'ممتد': 9359, 'مملو': 9360, 'ممیز': 9361, 'مناره': 9362, 'منازعات': 9363, 'مناسبتری': 9364, 'منتشر\\u200cشده\\u200cتوسط': 9365, 'مندکردن': 9366, 'منسوب': 9367, 'منعقده': 9368, 'منفجره': 9369, 'منفرد': 9370, 'منفعل': 9371, 'منقول': 9372, 'منیرو': 9373, 'منیژه': 9374, 'مهارتی': 9375, 'مهام': 9376, 'مهجور': 9377, 'مهدیوا': 9378, 'مهرشاد': 9379, 'مهرگان': 9380, 'مهری': 9381, 'مهریه': 9382, 'مهلک': 9383, 'مهمات\\u200cسازی': 9384, 'مهمانسرا': 9385, 'مهیج': 9386, 'مواجه\\u200cبودند': 9387, 'مواظب': 9388, 'موبایل': 9389, 'موتورز': 9390, 'موتورسوار': 9391, 'مودت': 9392, 'مورتی': 9393, 'مورداک': 9394, 'موردتوجه': 9395, 'مورفی': 9396, 'موسیقایی': 9397, 'موسیقیدان': 9398, 'موضوع\\u200cبند': 9399, 'موی': 9400, 'مکانیزاسیون': 9401, 'مکررا': 9402, 'مکزیکی': 9403, 'میانسال': 9404, 'میخائیل': 9405, 'میرزاکوچک': 9406, 'میرعابدینی': 9407, 'میلر': 9408, 'میلوتینوویچ': 9409, 'میلگرد': 9410, 'میهمانی': 9411, 'میکروبی': 9412, 'می\\u200cافزایند': 9413, 'می\\u200cداده': 9414, 'ناآرام': 9415, 'ناآشنایی': 9416, 'ناباوری': 9417, 'نابغه': 9418, 'ناخودآگاه': 9419, 'ناخوش': 9420, 'نادرستی': 9421, 'ناروا': 9422, 'نازک': 9423, 'نازگل': 9424, 'ناشدنی': 9425, 'ناصح': 9426, 'ناعادلانه': 9427, 'نافرمانی': 9428, 'نامجو': 9429, 'نامحدود': 9430, 'نامگذاری\\u200cشده\\u200cاست': 9431, 'نامیرا': 9432, 'نانوایی': 9433, 'نانی': 9434, 'ناهار': 9435, 'ناهموار': 9436, 'ناو': 9437, 'نایبقهرمانی': 9438, 'نباید': 9439, 'نبض': 9440, 'نبیه': 9441, 'نتپک': 9442, 'نثار': 9443, 'نجد': 9444, 'نجم': 9445, 'نزار': 9446, 'نزده': 9447, 'نزولات': 9448, 'نسیم': 9449, 'نشا': 9450, 'نشاند&نشان': 9451, 'نشر\\u200cشده\\u200cاست': 9452, 'نصایح': 9453, 'نظرپور': 9454, 'نظریه\\u200cپردازی': 9455, 'نغز': 9456, 'نفراتی': 9457, 'نفراز': 9458, 'نقایص': 9459, 'نقره\\u200cای': 9460, 'نقوش': 9461, 'نمایانگر': 9462, 'نمایشگر': 9463, 'نمایش\\u200cدهنده': 9464, 'نمایه': 9465, 'نه': 9466, 'نهان': 9467, 'نوازان': 9468, 'نواندیش': 9469, 'نواندیشی': 9470, 'نورالله': 9471, 'نوزادانی': 9472, 'نوزده': 9473, 'نوعا': 9474, 'نوک': 9475, 'نوگرا': 9476, 'نوگرای': 9477, 'نکو': 9478, 'نکوداشت': 9479, 'نگارانی': 9480, 'نگاشت&نگار': 9481, 'نگاشته\\u200cشده\\u200cاست': 9482, 'نگریسته': 9483, 'نگهداشتن': 9484, 'نیامدن': 9485, 'نیاکان': 9486, 'نیسان': 9487, 'نیستلروی': 9488, 'نیفتاده': 9489, 'نیومن': 9490, 'نیکولاس': 9491, 'ها': 9492, 'هارا': 9493, 'هارد': 9494, 'هاروارد': 9495, 'هاری': 9496, 'هالیوودی': 9497, 'هجو': 9498, 'هدایای': 9499, 'هدایایی': 9500, 'هروئین': 9501, 'هرکسی': 9502, 'هریس': 9503, 'هشترود': 9504, 'هشیاری': 9505, 'همانطوری': 9506, 'همانندسازی': 9507, 'همرنگ': 9508, 'همسالان': 9509, 'همسنگ': 9510, 'همسو': 9511, 'همنشینی': 9512, 'همهمه': 9513, 'هموفیلی': 9514, 'همگامی': 9515, 'هندسه': 9516, 'هنرپیشه': 9517, 'هنگامه': 9518, 'هواپیمائی': 9519, 'هومن': 9520, 'هویتی': 9521, 'هویدا': 9522, 'هکمتان': 9523, 'هیدروژن': 9524, 'هیر': 9525, 'هیچیک': 9526, 'وآمد': 9527, 'واترپلو': 9528, 'واحدمرکزی': 9529, 'وادی': 9530, 'واسط': 9531, 'والابصار': 9532, 'والدنر': 9533, 'والمسلمین': 9534, 'والیاف': 9535, 'وانقلاب': 9536, 'واکر': 9537, 'وایجاد': 9538, 'وایدال': 9539, 'وبرای': 9540, 'وبسایت': 9541, 'وتحکیم': 9542, 'وتصریح': 9543, 'وجود': 9544, 'وجوهات': 9545, 'وحشی': 9546, 'وحمایت': 9547, 'وحی': 9548, 'ودستاوردهای': 9549, 'وراث': 9550, 'ورشکسته': 9551, 'وسایر': 9552, 'وششم': 9553, 'وشی': 9554, 'وضعی': 9555, 'وفاداری': 9556, 'وفور': 9557, 'وقار': 9558, 'وقایعی': 9559, 'ولت': 9560, 'ولز': 9561, 'ولیعصر': 9562, 'ومردم': 9563, 'ونحوه': 9564, 'وهشتم': 9565, 'وهم': 9566, 'وول': 9567, 'وپنجمین': 9568, 'وچهارمین': 9569, 'ویدیو': 9570, 'ویراستار': 9571, 'ویراستاری': 9572, 'ویزاردز': 9573, 'وی\\u200cبود': 9574, 'پارسا': 9575, 'پارکینگ': 9576, 'پارگی': 9577, 'پاری': 9578, 'پارینه': 9579, 'پازوکی': 9580, 'پاسارلا': 9581, 'پاساژ': 9582, 'پاسور': 9583, 'پاسکو': 9584, 'پافشاری': 9585, 'پاکت': 9586, 'پاگیر': 9587, 'پاییزی': 9588, 'پدافند': 9589, 'پرتحرک': 9590, 'پرتوایکس': 9591, 'پرحادثه': 9592, 'پرداخته\\u200cشده\\u200cاست': 9593, 'پردازش': 9594, 'پررنگ': 9595, 'پرستار': 9596, 'پرستاری': 9597, 'پرسشنامه': 9598, 'پرسون': 9599, 'پرشمار': 9600, 'پرفسور': 9601, 'پرنشاط': 9602, 'پره': 9603, 'پرو': 9604, 'پروردگار': 9605, 'پروسه': 9606, 'پساب': 9607, 'پمپاژ': 9608, 'پناهندگی': 9609, 'پنج': 9610, 'پنداشته': 9611, 'پو': 9612, 'پوراحمد': 9613, 'پورحیدری': 9614, 'پورکاظمی': 9615, 'پوشکاش': 9616, 'پیاز': 9617, 'پیاچنزا': 9618, 'پیجر': 9619, 'پیدا': 9620, 'پیداکردن': 9621, 'پیرایه': 9622, 'پیرنیاکان': 9623, 'پیشانی': 9624, 'پیشروی': 9625, 'پیشنهاد\\u200cشده\\u200cاست': 9626, 'پیشوا': 9627, 'پیشگاه': 9628, 'پیش\\u200cبینی\\u200cبود': 9629, 'پیش\\u200cبینی\\u200cشده\\u200c': 9630, 'پیش\\u200cبینی\\u200cشده\\u200cو': 9631, 'پیش\\u200cبینی\\u200cنشده\\u200c': 9632, 'پیغام': 9633, 'پیوستگی': 9634, 'پیچ': 9635, 'چادر': 9636, 'چاغری': 9637, 'چالشی': 9638, 'چالوس': 9639, 'چاپلوسی': 9640, 'چرب': 9641, 'چماق': 9642, 'چن': 9643, 'چندتن': 9644, 'چندنرخی': 9645, 'چنی': 9646, 'چهارروزه': 9647, 'چهارسو': 9648, 'چهارقلو': 9649, 'چهارماه': 9650, 'چهره\\u200cپردازان': 9651, 'چو': 9652, 'چونگ': 9653, 'چوکا': 9654, 'چوکای': 9655, 'چپگرایان': 9656, 'چی': 9657, 'چید&چین': 9658, 'چینه': 9659, 'ژانگ': 9660, 'ژاک': 9661, 'ژرارد': 9662, 'ژرمن': 9663, 'ژنراتور': 9664, 'ژک': 9665, 'کاتوزیان': 9666, 'کاج': 9667, 'کاراکاس': 9668, 'کاربست': 9669, 'کارتون': 9670, 'کارشان': 9671, 'کارشناسانی': 9672, 'کارلو': 9673, 'کارناوال\\u200cهای': 9674, 'کاره': 9675, 'کار\\u200cشده\\u200cاست': 9676, 'کازانتزاکیس': 9677, 'کاستاندا': 9678, 'کاظمین': 9679, 'کاغذی': 9680, 'کالباس': 9681, 'کالج': 9682, 'کامبوج': 9683, 'کامبوزیا': 9684, 'کاندیداتوری': 9685, 'کتابت': 9686, 'کثیرالانتشار': 9687, 'کدامیک': 9688, 'کدخدازاده': 9689, 'کدپستی': 9690, 'کدکنی': 9691, 'کردار': 9692, 'کردبچه': 9693, 'کرسی': 9694, 'کرووات': 9695, 'کریستف': 9696, 'کریمه': 9697, 'کسالت': 9698, 'کستلر': 9699, 'کشاکش': 9700, 'کشتزار': 9701, 'کشوربا': 9702, 'کفاشیان': 9703, 'کل': 9704, 'کلاغ': 9705, 'کلاه\\u200cبرداری': 9706, 'کلر': 9707, 'کلسیم': 9708, 'کلماتی': 9709, 'کلونینگ': 9710, 'کلک': 9711, 'کلیا': 9712, 'کلینی': 9713, 'کما': 9714, 'کمابیش': 9715, 'کمانگری': 9716, 'کمر': 9717, 'کمرویی': 9718, 'کمونیست': 9719, 'کمیاب': 9720, 'کمیسر': 9721, 'کمیل': 9722, 'کمیک': 9723, 'کنار': 9724, 'کنجکاو': 9725, 'کنده': 9726, 'کند\\u200cشده\\u200cاست': 9727, 'کنسانتره': 9728, 'که': 9729, 'کهرام': 9730, 'کهزادی': 9731, 'کهولت': 9732, 'کو': 9733, 'کوئین': 9734, 'کواکبیان': 9735, 'کوایزومی': 9736, 'کودیه': 9737, 'کورش': 9738, 'کوری': 9739, 'کولاک': 9740, 'کوله': 9741, 'کونوکو': 9742, 'کچه': 9743, 'کژی': 9744, 'کیج': 9745, 'کیمیایی': 9746, 'کینز': 9747, 'کینه': 9748, 'گاردین': 9749, 'گالتون': 9750, 'گالیکش': 9751, 'گاهشماری': 9752, 'گذاردن': 9753, 'گرانقیمت': 9754, 'گرانمایه': 9755, 'گرفته\\u200cشده\\u200cبرای': 9756, 'گرفته\\u200cشده\\u200cدر': 9757, 'گرفته\\u200cشده\\u200cکه': 9758, 'گرهارد': 9759, 'گرگانی': 9760, 'گریزان': 9761, 'گزند': 9762, 'گزیده': 9763, 'گفته\\u200cشده\\u200cاست': 9764, 'گلف': 9765, 'گلو': 9766, 'گمبریچ': 9767, 'گنجانده\\u200cشده\\u200cاست': 9768, 'گنجید&گنج': 9769, 'گنگ': 9770, 'گوارا': 9771, 'گوی': 9772, 'گویندگی': 9773, 'گویی': 9774, 'گپ': 9775, 'گی': 9776, 'گیشه': 9777, 'گیل': 9778, 'یادآور\\u200cشده\\u200cاست': 9779, 'یاد\\u200cشده\\u200cتا': 9780, 'یاد\\u200cشده\\u200cو': 9781, 'یان': 9782, 'یاپ': 9783, 'یتیم': 9784, 'یحیوی': 9785, 'یخچال': 9786, 'یدک': 9787, 'یراق': 9788, 'یعقوبزاده': 9789, 'یعقوبی': 9790, 'یوآن': 9791, 'یوردان': 9792, 'یورگ': 9793, 'یوشچنکو': 9794, 'یون': 9795, 'یونیورسیاد': 9796, 'یوهانسون': 9797, 'یکدوره': 9798, 'یکدیگرند': 9799, 'یکسر': 9800, 'یکسره': 9801})\n"
          ]
        }
      ]
    },
    {
      "cell_type": "code",
      "metadata": {
        "colab": {
          "base_uri": "https://localhost:8080/"
        },
        "id": "GGpck2wsfa99",
        "outputId": "e6874644-5bca-4fb8-9fb8-47ecf4025dad"
      },
      "source": [
        "vocab_size = len(TEXT.vocab)\n",
        "batch_size = 8\n",
        "embed_dim = 128\n",
        "num_class = 6\n",
        "\n",
        "print(f'vocab size : {vocab_size}')"
      ],
      "execution_count": 12,
      "outputs": [
        {
          "output_type": "stream",
          "name": "stdout",
          "text": [
            "vocab size : 9802\n"
          ]
        }
      ]
    },
    {
      "cell_type": "markdown",
      "metadata": {
        "id": "_Vm-JWpO00u-"
      },
      "source": [
        "In the following cell, we check that which device we are using. Then we should migrate our variables and models on it.\n",
        "\n",
        "https://towardsdatascience.com/pytorch-switching-to-the-gpu-a7c0b21e8a99"
      ]
    },
    {
      "cell_type": "code",
      "metadata": {
        "colab": {
          "base_uri": "https://localhost:8080/"
        },
        "id": "bg7LFRM90zzp",
        "outputId": "ab93700c-1341-4086-bdd0-ac3748ae0bec"
      },
      "source": [
        "device = torch.device('cuda' if torch.cuda.is_available() else 'cpu')\n",
        "device"
      ],
      "execution_count": 13,
      "outputs": [
        {
          "output_type": "execute_result",
          "data": {
            "text/plain": [
              "device(type='cpu')"
            ]
          },
          "metadata": {},
          "execution_count": 13
        }
      ]
    },
    {
      "cell_type": "code",
      "metadata": {
        "id": "cjy1ttZIfdLP"
      },
      "source": [
        "# create dataloader\n",
        "train_loader = data.BucketIterator(train_data, batch_size, sort_key= lambda x: len(x.preprocessing_text),\n",
        "                                  train=True, shuffle=True, sort_within_batch=True, device=device)\n",
        "\n",
        "valid_loader = data.BucketIterator(valid_data, batch_size, sort_key= lambda x: len(x.preprocessing_text),\n",
        "                                  train=False, shuffle=False, sort_within_batch=True, device=device)\n",
        "\n",
        "test_loader = data.BucketIterator(test_data, batch_size, sort_key= lambda x: len(x.preprocessing_text),\n",
        "                                  train=False, shuffle=False, sort_within_batch=True, device=device)\n"
      ],
      "execution_count": 14,
      "outputs": []
    },
    {
      "cell_type": "code",
      "metadata": {
        "colab": {
          "base_uri": "https://localhost:8080/"
        },
        "id": "JtgnKuB8ff8E",
        "outputId": "8b17e10f-e043-4c33-b4f4-7fbc91abe559"
      },
      "source": [
        "print(f'length of train_dataset is : {len(train_data)} and length of train_loader is : {len(train_loader)}')\n",
        "print(f'length of valid_dataset is : {len(valid_data)} and length of valid_loader is : {len(valid_loader)}')\n",
        "print(f'length of test_dataset is : {len(test_data)} and length of test_loader is : {len(test_loader)}')"
      ],
      "execution_count": 15,
      "outputs": [
        {
          "output_type": "stream",
          "name": "stdout",
          "text": [
            "length of train_dataset is : 8723 and length of train_loader is : 1091\n",
            "length of valid_dataset is : 2181 and length of valid_loader is : 273\n",
            "length of test_dataset is : 2727 and length of test_loader is : 341\n"
          ]
        }
      ]
    },
    {
      "cell_type": "markdown",
      "metadata": {
        "id": "4hlsoxilFUC-"
      },
      "source": [
        "Let's take a look at one batch of train_loader.\n"
      ]
    },
    {
      "cell_type": "code",
      "metadata": {
        "colab": {
          "base_uri": "https://localhost:8080/"
        },
        "id": "vVb7pr9TFVUw",
        "outputId": "bedd9390-91fb-4599-b967-98ea87d34345"
      },
      "source": [
        "for batches in train_loader:\n",
        "  print(f'batch size : {len(batches)}')\n",
        "  print(batches)\n",
        "  x, y = batches.preprocessing_text\n",
        "  print(f'text : {x}')\n",
        "  print(f'text shape : {x.shape}')\n",
        "  print(f'len(text) : {len(x)}')\n",
        "  print(f'text length : {y}')\n",
        "  print(f'label : {batches.label}')\n",
        "  break"
      ],
      "execution_count": null,
      "outputs": [
        {
          "output_type": "stream",
          "name": "stdout",
          "text": [
            "batch size : 8\n",
            "\n",
            "[torchtext.legacy.data.batch.Batch of size 8]\n",
            "\t[.preprocessing_text]:('[torch.LongTensor of size 8x29]', '[torch.LongTensor of size 8]')\n",
            "\t[.label]:[torch.FloatTensor of size 8]\n",
            "text : tensor([[ 584,   40,   10,    4,  152, 1013,   72, 7841, 1480,  152, 1013,  303,\n",
            "         7841,  187,  282,  173, 3584, 1794, 2072,   16,  584, 1299, 1902, 1231,\n",
            "         4473,  271,  323, 1096,  270],\n",
            "        [   8,  802,  822,  114,  802,  157,  226,  650,  138, 1612,  802,    6,\n",
            "          994,  802, 4250, 1125,  822,    8,  802,    0,  313,    8,  802,  822,\n",
            "          114,  802,  157,  226,  650],\n",
            "        [ 526,  347,   76, 2108,  538,    2,  636,  429,    5,  925,   82,  124,\n",
            "            5,   82,   77,   11,   12,  428, 1207,  636,  429,  543,    2,    5,\n",
            "           82,  124,    5,   58, 8564],\n",
            "        [7836,    0,    7,   10, 2471,  675, 2100,  799,   36,    6, 4876, 2471,\n",
            "         6315,  726,  194,  122,    7,   10,    2,    3,  951,  427, 1145,  853,\n",
            "          122,  194, 2471,  434,   24],\n",
            "        [2372,  349, 4675,  471,    6, 3668,  381,   83, 1578, 2372,  349,  638,\n",
            "          435,  731,   21,   75,  213,    4,   94,  731,    2,  671, 1526,  176,\n",
            "            0, 4873, 1032, 3252,  816],\n",
            "        [  61,  214,   15,  838,  173, 2849,  313,  510,  432, 1379,  403,   28,\n",
            "          236,  838, 9265,   72, 7670, 2197, 1379,  838,   95, 1147,  184, 1379,\n",
            "         1252,  313,  173, 2849,   41],\n",
            "        [ 139, 1396, 4814,  566,   59,    6,  539, 1130,    0, 5918,    9,   14,\n",
            "           37,    3,  218, 5988, 1944, 3096,  231,  245,   59,    6,  139,  271,\n",
            "          241,  190, 1944,  671, 1526],\n",
            "        [   9,   14,  362,   54,   34, 1476, 6106,  541, 1825,   54,  121,  203,\n",
            "           70, 1297, 5715, 1953,    0,    0,   70,  155, 1997,    0, 7168,    0,\n",
            "         3598,  406,    9,   14,  434]])\n",
            "text shape : torch.Size([8, 29])\n",
            "len(text) : 8\n",
            "text length : tensor([29, 29, 29, 29, 29, 29, 29, 29])\n",
            "label : tensor([0., 1., 1., 0., 5., 1., 2., 2.])\n"
          ]
        }
      ]
    },
    {
      "cell_type": "markdown",
      "metadata": {
        "id": "YQyZ9rGXGmeW"
      },
      "source": [
        "### Building model"
      ]
    },
    {
      "cell_type": "markdown",
      "metadata": {
        "id": "iJ1V-Lhrc_xU"
      },
      "source": [
        "**When we define class for LSTM model or CNN model, we should not pass (model_class_name, self) to super. It give us an error when we want to load model.**"
      ]
    },
    {
      "cell_type": "code",
      "metadata": {
        "id": "Hg6mGoaBFPIN"
      },
      "source": [
        "class LSTM(nn.Module):\n",
        "  def __init__(self, vocab_size, embedding_dim, hidden_dim, output_dim, \n",
        "               num_layers, dropout ):\n",
        "    super().__init__()\n",
        "    \n",
        "    #embedding layer\n",
        "    self.embedding = nn.Embedding(vocab_size, embedding_dim)\n",
        "    \n",
        "    #lstm layer\n",
        "    self.lstm = nn.LSTM(embedding_dim, hidden_dim, num_layers=num_layers, dropout=dropout, batch_first=True)\n",
        "\n",
        "    #dense layer\n",
        "    self.fc = nn.Linear(hidden_dim*2, output_dim)\n",
        "\n",
        "  def forward(self, text, text_lengths):\n",
        "    # text = [batch size, sent_len}\n",
        "    embedded = self.embedding(text)\n",
        "    # embedded = [batch_size, sent_len, emd dim]\n",
        "\n",
        "    packed_embedded = nn.utils.rnn.pack_padded_sequence(embedded, text_lengths, batch_first=True)\n",
        "\n",
        "    packed_out, (hidden, cell) = self.lstm(packed_embedded)\n",
        "    #hidden = [batch size, num layers * num directions,hid dim]\n",
        "    #cell = [batch size, num layers * num directions,hid dim]\n",
        "\n",
        "    # concat the final forward and backward hidden state\n",
        "    hidden = torch.cat((hidden[-2,:,:], hidden[-1,:,:]), dim=1)\n",
        "\n",
        "    # hidden = [batch size, hid dim* num direction]\n",
        "    outputs = self.fc(hidden)\n",
        "\n",
        "    \n",
        "    return outputs\n"
      ],
      "execution_count": 13,
      "outputs": []
    },
    {
      "cell_type": "code",
      "metadata": {
        "id": "miuEP1fMG3cs"
      },
      "source": [
        "# define hyperparameters\n",
        "vocab_size = len(TEXT.vocab)\n",
        "embedding_dim = 128\n",
        "num_hidden_nodes = 32\n",
        "num_output_nodes = 6\n",
        "num_layers = 2\n",
        "dropout = 0.3\n",
        "\n",
        "model1 = LSTM(vocab_size, embedding_dim, num_hidden_nodes, \n",
        "                           num_output_nodes, num_layers, dropout=dropout)"
      ],
      "execution_count": 14,
      "outputs": []
    },
    {
      "cell_type": "code",
      "metadata": {
        "colab": {
          "base_uri": "https://localhost:8080/"
        },
        "id": "3t_gvdhYHORW",
        "outputId": "26a0a5de-49c9-4b88-f2c8-0fa5a5187a5f"
      },
      "source": [
        "print(model1)"
      ],
      "execution_count": 15,
      "outputs": [
        {
          "output_type": "stream",
          "name": "stdout",
          "text": [
            "LSTM(\n",
            "  (embedding): Embedding(9802, 128)\n",
            "  (lstm): LSTM(128, 32, num_layers=2, batch_first=True, dropout=0.3)\n",
            "  (fc): Linear(in_features=64, out_features=6, bias=True)\n",
            ")\n"
          ]
        }
      ]
    },
    {
      "cell_type": "code",
      "metadata": {
        "id": "CA_074JwHQd0"
      },
      "source": [
        "num_epoch = 10\n",
        "learning_rate= 0.001\n",
        "\n",
        "criterion = nn.CrossEntropyLoss()\n",
        "optimizer = torch.optim.Adam(model1.parameters(), lr = learning_rate)\n",
        "scheduler = lr_scheduler.StepLR(optimizer, 2, gamma=0.7)\n",
        "\n",
        "\n",
        "n_total_step = len(train_loader)"
      ],
      "execution_count": 16,
      "outputs": []
    },
    {
      "cell_type": "code",
      "metadata": {
        "id": "kXm6cgGmHVDc"
      },
      "source": [
        "# Define a funciton to calculate accuracy for multi class classification model\n",
        "def multi_class_acc(y_pred, y_act):\n",
        "\n",
        "  y_pred_softmax = torch.softmax(y_pred, 1)\n",
        "  _, y_pred_tag = torch.max(y_pred_softmax,1)\n",
        "\n",
        "  correct = (y_pred_tag == y_act).float()  # Show which elements are the same with 1\n",
        "  acc = correct.sum()/len(correct)\n",
        "  acc = torch.round(acc * 100)\n",
        "\n",
        "  return acc"
      ],
      "execution_count": 17,
      "outputs": []
    },
    {
      "cell_type": "markdown",
      "metadata": {
        "id": "Z7_EFZoIHavo"
      },
      "source": [
        "### Train and Evaluate the model"
      ]
    },
    {
      "cell_type": "code",
      "metadata": {
        "id": "sQOG7GQuHbwV"
      },
      "source": [
        "from torch.utils.tensorboard import SummaryWriter\n",
        "writer = SummaryWriter('model_Ham')"
      ],
      "execution_count": 18,
      "outputs": []
    },
    {
      "cell_type": "code",
      "metadata": {
        "id": "5bcW3WfXHgmI"
      },
      "source": [
        "# %reload_ext tensorboard\n",
        "# %tensorboard --logdir 'model_Ham'"
      ],
      "execution_count": 36,
      "outputs": []
    },
    {
      "cell_type": "code",
      "metadata": {
        "id": "eC5dfAJuHqtI"
      },
      "source": [
        "# define a function for training a model\n",
        "def train(model1, train_loader):\n",
        "  \n",
        "  train_epoch_loss = 0\n",
        "  train_epoch_acc = 0\n",
        "  \n",
        "  # train the model\n",
        "  model1.train()\n",
        "\n",
        "  loop = tqdm(enumerate(train_loader), total = n_total_step, leave = False)\n",
        "\n",
        "  for i, batch in loop:\n",
        "    \n",
        "    optimizer.zero_grad()\n",
        "\n",
        "    # retrieve text and number of words\n",
        "    text, text_lengths = batch.preprocessing_text\n",
        "\n",
        "    # convert to 1D tensor\n",
        "    y_pred = model1(text, text_lengths).squeeze()\n",
        "\n",
        "    # because our labels in form of float tensor, we should convert them to long tensor(int)\n",
        "    label = batch.label.to(torch.long)\n",
        "\n",
        "    loss_train = criterion(y_pred, label)\n",
        "\n",
        "    acc_train = multi_class_acc(y_pred, label)\n",
        "\n",
        "    loss_train.backward()\n",
        "\n",
        "    optimizer.step()\n",
        "\n",
        "    train_epoch_loss += loss_train.item()\n",
        "    train_epoch_acc += acc_train.item()\n",
        "\n",
        "    loop.set_description(f'Epoch : [{epoch}/{num_epoch}]')\n",
        "    loop.set_postfix(loss = loss_train.item(), accuracy = acc_train.item()) \n",
        "  \n",
        "  train_loss.append(train_epoch_loss/len(train_loader))\n",
        "  train_acc.append(train_epoch_acc/len(train_loader))  \n",
        "      \n",
        "  # if you want to monitor your model in tensorboard   \n",
        "  writer.add_scalar('training loss',train_epoch_loss/len(train_loader) , epoch)\n",
        "  writer.add_scalar('training accuracy',train_epoch_acc/len(train_loader) , epoch)\n",
        "\n",
        "  return train_loss, train_acc\n",
        "\n",
        "\n",
        "# define a function for evaluating model\n",
        "def evaluate(model1, valid_loader):\n",
        "\n",
        "  # validation\n",
        "  with torch.no_grad():\n",
        "    model1.eval()\n",
        "\n",
        "    val_epoch_loss = 0\n",
        "    val_epoch_acc = 0\n",
        "\n",
        "    for batch in valid_loader:\n",
        "\n",
        "      text, text_length = batch.preprocessing_text\n",
        "\n",
        "      y_pred_val = model1(text, text_length).squeeze()\n",
        "      label = batch.label.to(torch.long)\n",
        "      loss_valid = criterion(y_pred_val, label)\n",
        "      acc_valid =  multi_class_acc(y_pred_val, label) \n",
        "\n",
        "      val_epoch_loss += loss_valid.item()\n",
        "      val_epoch_acc += acc_valid.item()\n",
        "\n",
        "    valid_loss.append(val_epoch_loss/len(valid_loader))\n",
        "    valid_acc.append(val_epoch_acc/len(valid_loader))  \n",
        "\n",
        "  return valid_loss, valid_acc\n"
      ],
      "execution_count": 20,
      "outputs": []
    },
    {
      "cell_type": "code",
      "metadata": {
        "colab": {
          "base_uri": "https://localhost:8080/"
        },
        "id": "HGBzZ5L-Hs1L",
        "outputId": "b00fed17-59c9-4604-e0ca-294ded9bff30"
      },
      "source": [
        "!nvidia-smi"
      ],
      "execution_count": 21,
      "outputs": [
        {
          "output_type": "stream",
          "name": "stdout",
          "text": [
            "Sun Sep  5 05:15:17 2021       \n",
            "+-----------------------------------------------------------------------------+\n",
            "| NVIDIA-SMI 470.63.01    Driver Version: 460.32.03    CUDA Version: 11.2     |\n",
            "|-------------------------------+----------------------+----------------------+\n",
            "| GPU  Name        Persistence-M| Bus-Id        Disp.A | Volatile Uncorr. ECC |\n",
            "| Fan  Temp  Perf  Pwr:Usage/Cap|         Memory-Usage | GPU-Util  Compute M. |\n",
            "|                               |                      |               MIG M. |\n",
            "|===============================+======================+======================|\n",
            "|   0  Tesla K80           Off  | 00000000:00:04.0 Off |                    0 |\n",
            "| N/A   72C    P8    31W / 149W |      3MiB / 11441MiB |      0%      Default |\n",
            "|                               |                      |                  N/A |\n",
            "+-------------------------------+----------------------+----------------------+\n",
            "                                                                               \n",
            "+-----------------------------------------------------------------------------+\n",
            "| Processes:                                                                  |\n",
            "|  GPU   GI   CI        PID   Type   Process name                  GPU Memory |\n",
            "|        ID   ID                                                   Usage      |\n",
            "|=============================================================================|\n",
            "|  No running processes found                                                 |\n",
            "+-----------------------------------------------------------------------------+\n"
          ]
        }
      ]
    },
    {
      "cell_type": "code",
      "metadata": {
        "colab": {
          "base_uri": "https://localhost:8080/"
        },
        "id": "sAcdiE3RHtbH",
        "outputId": "fe3f1677-fe3c-4302-9bc5-ea307d301248"
      },
      "source": [
        "from tqdm import tqdm\n",
        "\n",
        "train_loss, valid_loss = [], []\n",
        "train_acc, valid_acc = [], []\n",
        "\n",
        "for epoch in range(num_epoch):\n",
        "\n",
        "  train_loss, train_acc = train(model1, train_loader)\n",
        "  writer.flush() \n",
        "  valid_loss, valid_acc = evaluate(model1, valid_loader)   \n",
        "\n",
        "  scheduler.step()"
      ],
      "execution_count": 22,
      "outputs": [
        {
          "output_type": "stream",
          "name": "stderr",
          "text": [
            ""
          ]
        }
      ]
    },
    {
      "cell_type": "code",
      "metadata": {
        "id": "GOF3wqUPHwyU"
      },
      "source": [
        "torch.save(model1, '/content/drive/MyDrive/AI-Internship/model1LSTM_hamshahri') # model1 with 10 epochs"
      ],
      "execution_count": 23,
      "outputs": []
    },
    {
      "cell_type": "code",
      "metadata": {
        "colab": {
          "base_uri": "https://localhost:8080/",
          "height": 295
        },
        "id": "SUicoNXsHyrz",
        "outputId": "8fa19efc-7bf2-4c43-b363-fa7c62c7e624"
      },
      "source": [
        "#Training and validation loss\n",
        "plt.plot(train_loss, label='Training loss')\n",
        "plt.plot(valid_loss, label='Validation loss')\n",
        "plt.legend(frameon=False)\n",
        "plt.xlabel('epoch')\n",
        "plt.ylabel('loss value')\n",
        "plt.title(\"Loss function for each epoch\") \n",
        "plt.show()"
      ],
      "execution_count": 24,
      "outputs": [
        {
          "output_type": "display_data",
          "data": {
            "image/png": "[encoded data removed]",
            "text/plain": [
              "<Figure size 432x288 with 1 Axes>"
            ]
          },
          "metadata": {
            "needs_background": "light"
          }
        }
      ]
    },
    {
      "cell_type": "code",
      "metadata": {
        "colab": {
          "base_uri": "https://localhost:8080/",
          "height": 295
        },
        "id": "sBfN3yQdH0at",
        "outputId": "1862c809-ec37-4256-99c5-4169ad1f902e"
      },
      "source": [
        "#Training and validation accuracy\n",
        "plt.plot(train_acc, label='Training accuracy')\n",
        "plt.plot(valid_acc, label='Validation accuracy')\n",
        "plt.legend(frameon=False)\n",
        "plt.xlabel('epoch')\n",
        "plt.ylabel('accuracy value')\n",
        "plt.title(\"Accuracy for each epoch\")\n",
        "plt.show()"
      ],
      "execution_count": 25,
      "outputs": [
        {
          "output_type": "display_data",
          "data": {
            "image/png": "[encoded data removed]",
            "text/plain": [
              "<Figure size 432x288 with 1 Axes>"
            ]
          },
          "metadata": {
            "needs_background": "light"
          }
        }
      ]
    },
    {
      "cell_type": "code",
      "metadata": {
        "colab": {
          "base_uri": "https://localhost:8080/"
        },
        "id": "94Q3EzxWH2rD",
        "outputId": "259ce795-8630-4b2e-8945-29a208de7aeb"
      },
      "source": [
        "scheduler.state_dict()"
      ],
      "execution_count": 26,
      "outputs": [
        {
          "output_type": "execute_result",
          "data": {
            "text/plain": [
              "{'_get_lr_called_within_step': False,\n",
              " '_last_lr': [0.00016806999999999998],\n",
              " '_step_count': 11,\n",
              " 'base_lrs': [0.001],\n",
              " 'gamma': 0.7,\n",
              " 'last_epoch': 10,\n",
              " 'step_size': 2,\n",
              " 'verbose': False}"
            ]
          },
          "metadata": {},
          "execution_count": 26
        }
      ]
    },
    {
      "cell_type": "code",
      "metadata": {
        "colab": {
          "base_uri": "https://localhost:8080/"
        },
        "id": "JSOcTz8bH4cr",
        "outputId": "dba41c15-52cd-4222-9d38-d7db436949c3"
      },
      "source": [
        "model1.state_dict"
      ],
      "execution_count": 27,
      "outputs": [
        {
          "output_type": "execute_result",
          "data": {
            "text/plain": [
              "<bound method Module.state_dict of LSTM(\n",
              "  (embedding): Embedding(9802, 128)\n",
              "  (lstm): LSTM(128, 32, num_layers=2, batch_first=True, dropout=0.3)\n",
              "  (fc): Linear(in_features=64, out_features=6, bias=True)\n",
              ")>"
            ]
          },
          "metadata": {},
          "execution_count": 27
        }
      ]
    },
    {
      "cell_type": "code",
      "metadata": {
        "colab": {
          "base_uri": "https://localhost:8080/"
        },
        "id": "CTLIagFwH6vl",
        "outputId": "e42aac4e-78f8-41d1-d923-e9fe414584f2"
      },
      "source": [
        "print(f'training loss on last epoch : {train_loss[-1]}')\n",
        "print(f'validation loss on last epoch : {valid_loss[-1]}')\n",
        "print('-'*20)\n",
        "print(f'training accuracy on last epoch : {train_acc[-1]}')\n",
        "print(f'validation accuracy on last epoch : {valid_acc[-1]}')"
      ],
      "execution_count": 28,
      "outputs": [
        {
          "output_type": "stream",
          "name": "stdout",
          "text": [
            "training loss on last epoch : 0.0623618938352876\n",
            "validation loss on last epoch : 0.844019867832885\n",
            "--------------------\n",
            "training accuracy on last epoch : 98.45737855178736\n",
            "validation accuracy on last epoch : 78.92673992673993\n"
          ]
        }
      ]
    },
    {
      "cell_type": "markdown",
      "metadata": {
        "id": "9jrOkszdIJCZ"
      },
      "source": [
        "### Test the model"
      ]
    },
    {
      "cell_type": "code",
      "metadata": {
        "id": "ZDHZjmusIMj_"
      },
      "source": [
        "classes = ['اجتماعی', 'ادب و هنر', 'اقتصاد', 'سیاسی', 'علمی فرهنگی', 'ورزش']"
      ],
      "execution_count": 29,
      "outputs": []
    },
    {
      "cell_type": "code",
      "metadata": {
        "id": "16EL6A51IOlr"
      },
      "source": [
        "def test(model1, test_loader):\n",
        "  y_pred_test = []\n",
        "  y_actual_test = []\n",
        "\n",
        "  model1.eval()\n",
        "  with torch.no_grad():\n",
        "    n_true = 0\n",
        "    n_total = 0\n",
        "    n_class_correct = [0 for i in range(num_class)]\n",
        "    n_class_sample = [0 for i in range(num_class)]\n",
        "  \n",
        "    for batch in test_loader:\n",
        "\n",
        "      text, text_length = batch.preprocessing_text\n",
        "\n",
        "      output = model1(text, text_length).squeeze()\n",
        "\n",
        "      _, y_predtest = torch.max(output,1)\n",
        "\n",
        "      n_true += (y_predtest == batch.label).sum()\n",
        "      n_total += batch.label.size(0)\n",
        "\n",
        "      for i in range(len(y_predtest)):\n",
        "        y_pred_test.append(y_predtest[i])\n",
        "        y_actual_test.append(batch.label[i].item())\n",
        "\n",
        "      for i in range(len(y_predtest)):\n",
        "        lb = int(batch.label[i].item())\n",
        "        pred = y_predtest[i]\n",
        "        if pred == lb:\n",
        "          n_class_correct[lb] += 1\n",
        "        n_class_sample[lb] += 1   \n",
        "\n",
        "    print(f'accuracy of network on the {len(test_loader)} texts is : {(n_true/n_total) *100}')\n",
        "  \n",
        "    for i in range(len(classes)):\n",
        "      acc = 100.0 * n_class_correct[i] / n_class_sample[i]\n",
        "      print(f'Accuracy of {classes[i]}: {acc} %')\n",
        "  \n",
        "  return y_pred_test, y_actual_test"
      ],
      "execution_count": 30,
      "outputs": []
    },
    {
      "cell_type": "code",
      "metadata": {
        "colab": {
          "base_uri": "https://localhost:8080/"
        },
        "id": "xTiy4xSEJ01w",
        "outputId": "165bb9fb-acd4-41de-bd03-cd7358fc091c"
      },
      "source": [
        "y_pred_test, y_actual_test = test(model1, test_loader)"
      ],
      "execution_count": 31,
      "outputs": [
        {
          "output_type": "stream",
          "name": "stdout",
          "text": [
            "accuracy of network on the 341 texts is : 78.98789978027344\n",
            "Accuracy of اجتماعی: 81.35048231511254 %\n",
            "Accuracy of ادب و هنر: 87.62541806020067 %\n",
            "Accuracy of اقتصاد: 94.27860696517413 %\n",
            "Accuracy of سیاسی: 61.47186147186147 %\n",
            "Accuracy of علمی فرهنگی: 72.27722772277228 %\n",
            "Accuracy of ورزش: 70.7112970711297 %\n"
          ]
        }
      ]
    },
    {
      "cell_type": "markdown",
      "metadata": {
        "id": "H2HkI8pkJ2B2"
      },
      "source": [
        "### Confusion Matrix"
      ]
    },
    {
      "cell_type": "code",
      "metadata": {
        "id": "vC9dEwnpJvMy"
      },
      "source": [
        "# libraries for show persian words in correct way(right to left)\n",
        "from bidi.algorithm import get_display\n",
        "from arabic_reshaper import reshape\n",
        "\n",
        "def confusion_matrix(y_actual_test, y_pred_test):\n",
        "  \n",
        "  plt.figure(figsize = (10,7))\n",
        "  ax= plt.subplot()\n",
        "  cnf_matrix = metrics.confusion_matrix(y_actual_test, y_pred_test)\n",
        "  sns.heatmap(pd.DataFrame(cnf_matrix), annot=True, fmt='g', ax=ax);  #annot=True to annotate cells, ftm='g' to disable scientific notation\n",
        "\n",
        "  # labels, title and ticks\n",
        "  ax.set_xlabel('Predicted labels');ax.set_ylabel('Actual labels'); \n",
        "  ax.set_title('Confusion Matrix of model 1'); \n",
        "  class_names= classes\n",
        "  # set persian names in correct way\n",
        "  class_names = [get_display(reshape(label)) for label in class_names]\n",
        "  ax.xaxis.set_ticklabels(class_names); ax.yaxis.set_ticklabels(class_names);\n",
        "  plt.tight_layout()"
      ],
      "execution_count": 32,
      "outputs": []
    },
    {
      "cell_type": "code",
      "metadata": {
        "colab": {
          "base_uri": "https://localhost:8080/",
          "height": 513
        },
        "id": "4iaK0Jy0J6bH",
        "outputId": "53b2d763-4848-4c3b-d887-6761e00a8f47"
      },
      "source": [
        "confusion_matrix(y_actual_test, y_pred_test)"
      ],
      "execution_count": 33,
      "outputs": [
        {
          "output_type": "display_data",
          "data": {
            "image/png": "[encoded data removed]",
            "text/plain": [
              "<Figure size 720x504 with 2 Axes>"
            ]
          },
          "metadata": {
            "needs_background": "light"
          }
        }
      ]
    },
    {
      "cell_type": "code",
      "metadata": {
        "colab": {
          "base_uri": "https://localhost:8080/"
        },
        "id": "c10Cz0DwJ85f",
        "outputId": "82fb8652-3d5e-4e91-b1bb-a21418019566"
      },
      "source": [
        "print(classification_report(y_actual_test, y_pred_test))"
      ],
      "execution_count": 34,
      "outputs": [
        {
          "output_type": "stream",
          "name": "stdout",
          "text": [
            "              precision    recall  f1-score   support\n",
            "\n",
            "         0.0       0.83      0.81      0.82       622\n",
            "         1.0       0.85      0.88      0.86       598\n",
            "         2.0       0.98      0.94      0.96       402\n",
            "         3.0       0.68      0.61      0.65       462\n",
            "         4.0       0.65      0.72      0.68       404\n",
            "         5.0       0.67      0.71      0.69       239\n",
            "\n",
            "    accuracy                           0.79      2727\n",
            "   macro avg       0.78      0.78      0.78      2727\n",
            "weighted avg       0.79      0.79      0.79      2727\n",
            "\n"
          ]
        }
      ]
    },
    {
      "cell_type": "markdown",
      "metadata": {
        "id": "Q5ElP39G5sdt"
      },
      "source": [
        "## Get word vector from Embedding layer"
      ]
    },
    {
      "cell_type": "code",
      "metadata": {
        "id": "NhBUPvWLPwA-"
      },
      "source": [
        "# model1 = torch.load('/content/drive/MyDrive/AI-Internship/model1LSTM_hamshahri')"
      ],
      "execution_count": 37,
      "outputs": []
    },
    {
      "cell_type": "code",
      "metadata": {
        "colab": {
          "base_uri": "https://localhost:8080/"
        },
        "id": "WKn3QodtbBni",
        "outputId": "a1437076-a263-475d-d4c3-a61abe51b521"
      },
      "source": [
        "print(model1)"
      ],
      "execution_count": 35,
      "outputs": [
        {
          "output_type": "stream",
          "name": "stdout",
          "text": [
            "LSTM(\n",
            "  (embedding): Embedding(9802, 128)\n",
            "  (lstm): LSTM(128, 32, num_layers=2, batch_first=True, dropout=0.3)\n",
            "  (fc): Linear(in_features=64, out_features=6, bias=True)\n",
            ")\n"
          ]
        }
      ]
    },
    {
      "cell_type": "code",
      "metadata": {
        "colab": {
          "base_uri": "https://localhost:8080/"
        },
        "id": "vsvND-Pf-VDi",
        "outputId": "2d9b38d8-7fb2-4ef9-d9c7-d5f0352ff73e"
      },
      "source": [
        "boy =  TEXT.vocab.stoi['پسر']\n",
        "child = TEXT.vocab.stoi['کودک']\n",
        "fish = TEXT.vocab.stoi['ماهی']\n",
        "\n",
        "print(f'index of boy : {boy}, index of child : {child}, index of fish : {fish}')\n",
        "\n",
        "boy_embed = model1.embedding(torch.tensor(boy))\n",
        "child_embed = model1.embedding(torch.tensor(child))\n",
        "fish_embed = model1.embedding(torch.tensor(fish))"
      ],
      "execution_count": 44,
      "outputs": [
        {
          "output_type": "stream",
          "name": "stdout",
          "text": [
            "index of boy : 1139, index of child : 143, index of fish : 2107\n"
          ]
        }
      ]
    },
    {
      "cell_type": "code",
      "metadata": {
        "colab": {
          "base_uri": "https://localhost:8080/"
        },
        "id": "1mZtx1ZsdZO1",
        "outputId": "60d827c6-28f2-4f83-b6be-a5700a0ff544"
      },
      "source": [
        "print(f'boy_embed shape: {boy_embed.shape}')\n",
        "print(f'child_embed shape : {child_embed.shape}')\n",
        "print(f'fish_embed shape : {fish_embed.shape}')"
      ],
      "execution_count": 47,
      "outputs": [
        {
          "output_type": "stream",
          "name": "stdout",
          "text": [
            "boy_embed shape: torch.Size([128])\n",
            "child_embed shape : torch.Size([128])\n",
            "fish_embed shape : torch.Size([128])\n"
          ]
        }
      ]
    },
    {
      "cell_type": "code",
      "metadata": {
        "colab": {
          "base_uri": "https://localhost:8080/"
        },
        "id": "eHZCwgW5eBJI",
        "outputId": "5cb454e2-859b-4cc1-b4a3-6d2d3a86509e"
      },
      "source": [
        "boy_embed"
      ],
      "execution_count": 48,
      "outputs": [
        {
          "output_type": "execute_result",
          "data": {
            "text/plain": [
              "tensor([-1.8142, -0.7879, -0.9591,  0.8549,  1.0381,  1.8010,  2.5400, -2.1065,\n",
              "        -1.8167,  0.3648,  0.3850, -0.2662, -0.4410,  0.8093, -0.2465, -1.6679,\n",
              "         0.0740, -0.2081,  0.1731,  0.7464,  0.5341, -0.7943,  0.6945, -0.5339,\n",
              "         0.3576,  0.3231,  0.2664,  0.4831, -1.1682,  1.1127,  0.9054,  1.1607,\n",
              "        -0.9642,  0.7982,  1.2884, -0.1596,  0.7608,  1.5504,  1.1328, -1.2832,\n",
              "        -0.4766,  0.6810, -1.2899, -0.9407,  0.0349, -0.6688,  0.6697,  0.1013,\n",
              "        -1.0894, -0.0245, -0.9701,  0.1136, -1.1523,  1.4279, -0.0913,  0.8113,\n",
              "         0.0669,  0.8797,  1.1270,  2.0819,  0.3517,  2.2403,  1.1120,  1.5252,\n",
              "         0.3403, -1.1239,  0.9155,  0.9142,  0.5975, -1.3170,  0.8972,  0.8846,\n",
              "         0.3901,  0.4965, -1.2770,  1.3922, -0.8238, -1.8485, -1.7148,  1.3693,\n",
              "        -0.1443,  0.4313,  0.6515,  1.5532, -0.0179, -0.1966,  1.3597, -0.4126,\n",
              "         1.2492, -0.3331,  0.0112,  1.7747, -1.0775,  0.3730, -0.6187,  0.6480,\n",
              "        -0.2482, -0.5701,  1.4460,  0.6244, -0.4723, -1.1481,  0.5220, -0.1028,\n",
              "         1.1631, -0.2986, -1.6961,  0.1707,  0.8540, -0.3644, -1.2052,  0.5856,\n",
              "        -0.1760, -1.1149,  0.4941,  0.7108,  1.2587, -2.6545, -0.9684, -0.7387,\n",
              "         0.5302,  1.9180,  1.0531, -1.6448,  0.2742, -0.0460,  0.3770,  1.1806],\n",
              "       grad_fn=<EmbeddingBackward>)"
            ]
          },
          "metadata": {},
          "execution_count": 48
        }
      ]
    },
    {
      "cell_type": "markdown",
      "metadata": {
        "id": "9z6XZDWkgZCH"
      },
      "source": [
        "As we see in the following cell, dot product of boy and child is greater than dot product of fish and child. It means boy and child have more similarity than fish and child."
      ]
    },
    {
      "cell_type": "code",
      "metadata": {
        "id": "-5XziaEg_J0e",
        "colab": {
          "base_uri": "https://localhost:8080/"
        },
        "outputId": "84a639f0-e161-410c-bd83-61fa660e6ae7"
      },
      "source": [
        "similarity_boy_child = torch.dot(boy_embed, child_embed)\n",
        "similarity_boy_fish = torch.dot(fish_embed, boy_embed)\n",
        "\n",
        "print(f'similarity of boy and child : {similarity_boy_child}')\n",
        "print(f'similarity of boy and fish : {similarity_boy_fish}')"
      ],
      "execution_count": 45,
      "outputs": [
        {
          "output_type": "stream",
          "name": "stdout",
          "text": [
            "similarity of boy and child : 0.6667170524597168\n",
            "similarity of boy and fish : -3.3541207313537598\n"
          ]
        }
      ]
    },
    {
      "cell_type": "markdown",
      "metadata": {
        "id": "uGvzWv7Eh_9G"
      },
      "source": [
        "## Word Embedding with Gensim"
      ]
    },
    {
      "cell_type": "code",
      "metadata": {
        "colab": {
          "base_uri": "https://localhost:8080/"
        },
        "id": "kAdLkFIAiGFI",
        "outputId": "fae359f0-d92e-4929-9070-b18e7ad70b52"
      },
      "source": [
        "device = torch.device('cuda' if torch.cuda.is_available() else 'cpu')\n",
        "device"
      ],
      "execution_count": 16,
      "outputs": [
        {
          "output_type": "execute_result",
          "data": {
            "text/plain": [
              "device(type='cpu')"
            ]
          },
          "metadata": {},
          "execution_count": 16
        }
      ]
    },
    {
      "cell_type": "code",
      "metadata": {
        "id": "VhkgB75VzMhf"
      },
      "source": [
        ""
      ],
      "execution_count": null,
      "outputs": []
    }
  ]
}