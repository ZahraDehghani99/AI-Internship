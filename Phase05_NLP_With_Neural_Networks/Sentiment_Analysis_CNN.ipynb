{
  "nbformat": 4,
  "nbformat_minor": 0,
  "metadata": {
    "colab": {
      "name": "Sentiment Analysis_CNN.ipynb",
      "provenance": [],
      "collapsed_sections": [],
      "toc_visible": true
    },
    "kernelspec": {
      "name": "python3",
      "display_name": "Python 3"
    },
    "language_info": {
      "name": "python"
    }
  },
  "cells": [
    {
      "cell_type": "markdown",
      "metadata": {
        "id": "OM1_G40Rj421"
      },
      "source": [
        "# Section 2: Sentiment Analysis on SnappFood dataset"
      ]
    },
    {
      "cell_type": "markdown",
      "metadata": {
        "id": "HMk2DJ1rK4JO"
      },
      "source": [
        "## Sentiment Analysis using CNN"
      ]
    },
    {
      "cell_type": "markdown",
      "metadata": {
        "id": "4WRcVq-ELAja"
      },
      "source": [
        "In this section, we want to use CNN for sentiment analysis. Our dataset is the SnappFood dataset that is preprocessed in the previous notebook for sentiment analysis using LSTM. Now we use SnappFood preprocessed dataset"
      ]
    },
    {
      "cell_type": "code",
      "metadata": {
        "id": "rfeZyySLK_up"
      },
      "source": [
        "# plot\n",
        "import matplotlib.pyplot as plt\n",
        "\n",
        "import pandas as pd\n",
        "import string\n",
        "import re\n",
        "import numpy as np\n",
        "np.random.seed(0)\n",
        "\n",
        "import warnings\n",
        "warnings.filterwarnings('ignore')"
      ],
      "execution_count": 1,
      "outputs": []
    },
    {
      "cell_type": "code",
      "metadata": {
        "colab": {
          "base_uri": "https://localhost:8080/"
        },
        "id": "gQMDzvDqMpvj",
        "outputId": "83242c08-0a3d-4ac2-d2d1-608a0e9987ea"
      },
      "source": [
        "from google.colab import drive\n",
        "drive.mount('/content/drive')"
      ],
      "execution_count": 2,
      "outputs": [
        {
          "output_type": "stream",
          "name": "stdout",
          "text": [
            "Drive already mounted at /content/drive; to attempt to forcibly remount, call drive.mount(\"/content/drive\", force_remount=True).\n"
          ]
        }
      ]
    },
    {
      "cell_type": "markdown",
      "metadata": {
        "id": "_d7tbodW1h7Q"
      },
      "source": [
        "### Prepare Dataset for Neural Network"
      ]
    },
    {
      "cell_type": "code",
      "metadata": {
        "id": "5msyJd2iPhSr"
      },
      "source": [
        "#load the preprocessing dataframe\n",
        "snapp_train = pd.read_pickle(r'/content/drive/MyDrive/AI-Internship/SnappFood_FinalEdit/snapp_train')\n",
        "snapp_valid = pd.read_pickle(r'/content/drive/MyDrive/AI-Internship/SnappFood_FinalEdit/snapp_valid')\n",
        "snapp_test = pd.read_pickle(r'/content/drive/MyDrive/AI-Internship/SnappFood_FinalEdit/snapp_test')\n"
      ],
      "execution_count": 3,
      "outputs": []
    },
    {
      "cell_type": "markdown",
      "metadata": {
        "id": "WR8bmV0nW7T8"
      },
      "source": [
        "Let's take a look at length of texts in dataset."
      ]
    },
    {
      "cell_type": "code",
      "metadata": {
        "colab": {
          "base_uri": "https://localhost:8080/",
          "height": 466
        },
        "id": "OksPqi_BIa_2",
        "outputId": "94b3507c-9cd6-4279-deeb-b76ab99ed856"
      },
      "source": [
        "text_len = [len(i.split()) for i in snapp_train.preprocessing_text.values]\n",
        "pd.Series(text_len).hist()\n",
        "plt.title('Text lenght')\n",
        "plt.xlabel('text length')\n",
        "plt.ylabel('No. of sentences')\n",
        "plt.show()\n",
        "pd.Series(text_len).describe()"
      ],
      "execution_count": 4,
      "outputs": [
        {
          "output_type": "display_data",
          "data": {
            "image/png": "[encoded data removed]",
            "text/plain": [
              "<Figure size 432x288 with 1 Axes>"
            ]
          },
          "metadata": {
            "needs_background": "light"
          }
        },
        {
          "output_type": "execute_result",
          "data": {
            "text/plain": [
              "count    56495.000000\n",
              "mean         8.778494\n",
              "std          7.490531\n",
              "min          1.000000\n",
              "25%          4.000000\n",
              "50%          7.000000\n",
              "75%         11.000000\n",
              "max        170.000000\n",
              "dtype: float64"
            ]
          },
          "metadata": {},
          "execution_count": 4
        }
      ]
    },
    {
      "cell_type": "markdown",
      "metadata": {
        "id": "NrD_82LkEX16"
      },
      "source": [
        "Let's print one sentences with its words."
      ]
    },
    {
      "cell_type": "code",
      "metadata": {
        "colab": {
          "base_uri": "https://localhost:8080/"
        },
        "id": "S9xcJf9sCTji",
        "outputId": "85dcd4c6-001b-4371-a225-9751ac1b02ac"
      },
      "source": [
        "[(i.split()) for i in snapp_train.preprocessing_text.values[:1]]"
      ],
      "execution_count": null,
      "outputs": [
        {
          "output_type": "execute_result",
          "data": {
            "text/plain": [
              "[['حیف', 'وقت', 'نوشت', 'سرویس', 'دهیتون', 'افتضاح']]"
            ]
          },
          "metadata": {},
          "execution_count": 6
        }
      ]
    },
    {
      "cell_type": "markdown",
      "metadata": {
        "id": "TQB3y3gdEt7g"
      },
      "source": [
        "As we see in the above histogram, we have sentences with length one. Because we want to use CNN for our work, and we have different convolution layers with different kernel sizes, we should be upsampling the texts with length, lower than maximum lenght. In the following cell, we want to see how many sentences we have with lengths equals to one."
      ]
    },
    {
      "cell_type": "code",
      "metadata": {
        "colab": {
          "base_uri": "https://localhost:8080/"
        },
        "id": "d3BZuykSC43S",
        "outputId": "3d297376-bb5f-4457-88b6-11ae9dfe312f"
      },
      "source": [
        "len_one = []\n",
        "for i in snapp_train.preprocessing_text.values:\n",
        "  if len(i.split())==1: \n",
        "    len_one.append(i)\n",
        "\n",
        "print(len_one)\n",
        "print(f'we have {len(len_one)} texts with lenghts = 1')"
      ],
      "execution_count": null,
      "outputs": [
        {
          "output_type": "stream",
          "name": "stdout",
          "text": [
            "['خوشمزه', 'غذا', 'عالی', 'عالی', 'غذا', 'اسنپ', 'یبار', 'سرد', 'عالی', 'عالی', 'مرسییییی', 'کیفیت', 'اندازه', 'متشکر', 'نظیره', 'کیفیت', 'لوبیپلو', 'سفارش', 'غذا', 'ارسال', 'خوشمزه', 'کیفیت', 'متشکر', 'ممنون', 'فاکتور', 'شور', 'شکلات', 'غذا', 'عالی', 'سپاسگزار', 'ومتنوع', 'بدتر', 'همهچیش', 'ترد', 'عالی', 'ممنون', 'تواضع', 'تاخیر', 'عالی', 'عالی', 'عالیییی', 'عالی', 'نون', 'تند', 'موقع', 'عالی', 'نهایت', 'کیلو', 'راضی', 'تشکر', 'ضعیف', 'عالی', 'راضی', 'عالی', 'شل', 'موقع', 'عالی', 'موقع', 'غذا', 'شیرینی', 'چیزکیک', 'طعم', 'طعم', 'عالی', 'تست', 'موقع', 'دست', 'نون', 'عالی', 'ممنون', 'داغ', 'پول', 'داغ', 'عالی', 'کیفیت', 'سرد', 'منظم', 'توصیه', 'بادقت', 'وبموقع', 'خوشمزه', 'غذا', 'کیفیت', 'قیمت', 'قیمت', 'اومد', 'قربان', 'قناد', 'قارچ', 'راضی', 'مرغ', 'عالی', 'متشکر', 'دلپذیر', 'سرد', 'دوظرف', 'ممنون', 'شیرینی', 'عالی', 'لذیذ', 'تایم', 'حجمشو', 'تحویل', 'کیفیت', 'غذا', 'فرستاده', 'خوشمزه', 'عاااالیه', 'قیمت', 'تاخیر', 'تحویل', 'دیگس', 'تشکر', 'موقع', 'درد', 'مگه', 'خوشمزه', 'طعم', 'عاااالی', 'متاسف', 'خوشمزه', 'عالی', 'غذا', 'داغ', 'غذا', 'کیک', 'اوکی', 'عالی', 'خوشمزه', 'عالی', 'غذا', 'پنیر', 'سفارش', 'عالی', 'رستوران', 'خوشمزه', 'کیفیت', 'مجموع', 'عالی', 'شدت', 'عالی', 'عالی', 'نون', 'ممنون', 'کیفیت', 'دست', 'غذا', 'ممنون', 'گرم', 'عالی', 'قیمت', 'تنوع', 'نسبت', 'له', 'سلام', 'متاسف', 'موقع', 'دست', 'سس', 'موقع', 'حوب', 'نپخته', 'خوشمزه', 'عالی', 'مو', 'کنجد', 'سرد', 'تشکر', 'عالی', 'سس', 'ممنون', 'بیات', 'عالی', 'سالاد', 'طولانی', 'کوچیک', 'شور', 'کیفیت', 'کیفیت', 'ماده', 'اصلاااا', 'حجم', 'قبول', 'کیفیت', 'شور', 'خوردن', 'مزه', 'مزه', 'یخ', 'راضی', 'دست', 'عالی', 'عالی', 'برنج', 'کیفیت', 'نظر', 'کیفیت', 'گرون', 'سرد', 'حد', 'خوبی', 'ماده', 'سفارش', 'سرد', 'متوسط', 'پیتزامثل', 'مجموع', 'کوچیک', 'کوزه', 'بموقع', 'عالی', 'کیفیت', 'شیرینی', 'کیفیت', 'سرد', 'قیمت', 'شیرینی', 'سفارش', 'پنیر', 'عالی', 'ممنون', 'سالاد', 'عالی', 'کیک', 'طعم', 'راضی', 'بدستم', 'شکر', 'عاااااالی', 'لپه', 'ممنون', 'فرق', 'العاده', 'عالی', 'گرم', 'ممنون', 'عالییییی', 'نمک', 'کیفیت', 'کالا', 'نمیدونم', 'طعم', 'تشکر', 'بیخود', 'اماخیلی', 'ترش', 'نظر', 'نان', 'مثه', 'مو', 'عالی', 'ممنون', 'قنادی', 'متفاوت', 'عالی', 'سفارش', 'عالییییی', 'کیفیت', 'کهنه', 'نون', 'کیک', 'عالی', 'کیفیت', 'تاریخ', 'سرد', 'دست', 'دستمون', 'حجم', 'سرعت', 'کیفیت', 'اینسری', 'سفارش', 'خییلیی', 'چرب', 'بدست', 'عالی', 'خوبه', 'افتضااح', 'شیرینی', 'عالی', 'ممنون', 'موقع', 'غذاهاشون', 'راضی', 'سرد', 'درجه', 'فرستادن', 'کشکش', 'عالی', 'طعم', 'خوشمزه', 'محصولات', 'گرم', 'ممنون', 'عالی', 'اوردن', 'غذا', 'عالللللللی', 'سرد', 'کیفیت', 'دوست', 'کیفیت', 'سس', 'گومز', 'خوردن', 'عالی', 'ارسال', 'برنج', 'ترد', 'کنجد', 'عالی', 'مزه', 'گریل', 'افتضاح', 'اسپایسی', 'سپاس', 'دست', 'غذا', 'عالی', 'تشکر', 'سفارش', 'کیفیت', 'عالی', 'چرب', 'یخ', 'ابمیوه', 'پخته', 'سفارش', 'راضی', 'شیرینی', 'زحماتتون', 'تحویل', 'خوبی', 'ترش', 'وعالی', 'کیفیت', 'سرد', 'مزه', 'دست', 'ارسال', 'برگراش', 'خوشمزه', 'ارسال', 'طعم', 'ممنون', 'ممنون', 'سوخته', 'طعم', 'دست', 'کهنه', 'کاپوچینو', 'چرب', 'عالی', 'بوود', 'عالی', 'سیر', 'مو', 'تاخیر', 'غذا', 'بودممنون', 'غذا', 'شیرینی', 'گرم', 'پیک', 'موقع', 'کیفیت', 'عالی', 'موقع', 'اب', 'سلام', 'تمیز', 'پایین', 'عالی', 'نقص', 'قبلی', 'کیک', 'چرب', 'خاصی', 'تحویل', 'توضیحات', 'حجم', 'متوسط', 'عالی', 'ساندویچ', 'مو', 'شیر', 'خوشمزه', 'نمک', 'طعم', 'ممنون', 'کیفیت', 'سس', 'سرور', 'سس', 'کیک', 'مزه', 'قبول', 'مزه', 'سرد', 'اوردن', 'سرد', 'عالی', 'حجم', 'رولت', 'خشک', 'عالی', 'دست', 'کیفیت', 'کیلو', 'ممنون', 'موز', 'کیفیت', 'کیفیت', 'سرد', 'تشکر', 'عالی', 'عالی', 'تازگی', 'دقیق', 'دست', 'عالی', 'شیرینی', 'بدتر', 'سرد', 'دوتا', 'خسته', 'اومد', 'ارسال', 'سرد', 'خوشمزه', 'مناسب', 'نمک', 'شیرینی', 'غذا', 'منون', 'ممنووونم', 'راضی', 'ممنون', 'سفارش', 'اومد', 'نرم', 'راضی', 'عالی', 'تنوع', 'عالی', 'آماده', 'لدلببل', 'گوشت', 'پیشنهاد', 'ممنون', 'العاده', 'مث', 'عالی', 'دوست', 'عالی', 'برنج', 'آیتم', 'ممنون', 'عالی', 'سرد', 'عالی', 'کیک', 'مرغ', 'پیتزا', 'عالی', 'محصولات', 'عاااالی', 'دانمارکی', 'موقع', 'عالی', 'دست', 'واس', 'خوشمزه', 'خوردن', 'هه', 'العااااده', 'پیک', 'کباب', 'عالی', 'عالی', 'تحویل', 'طعم', 'ودقیق', 'خوشمزه', 'تایید', 'غذا', 'سوپتون', 'خوشمزه', 'عالی', 'بشه', 'عالی', 'عالی', 'کیفیت', 'ضایع', 'برگره', 'منظم', 'متشکر', 'طعم', 'سرد', 'لذیذ', 'تشکر', 'منطقه', 'نیاورده', 'خوشمزه', 'عالی', 'راضی', 'راضی', 'گران', 'کیفیت', 'شیرینی', 'عالی', 'سرد', 'دست', 'تحمله', 'کیفیت', 'کیفیت', 'عااااالیییی', 'برنج', 'کیفیت', 'بدتر', 'دوست', 'نون', 'وقت', 'نون', 'راضی', 'سرد', 'عالی', 'طعم', 'کیک', 'خشک', 'عالی', 'متشکر', 'مشکل', 'برگرلند', 'نان', 'اوقات', 'عالی', 'بهدصرفه', 'بستنی', 'خوشمزه', 'سالاد', 'خوشمزه', 'غذا', 'پنیر', 'ممنون', 'شل', 'انتظار', 'مزه', 'قارچ', 'سرد', 'راضی', 'تایم', 'راضی', 'انتظارشو', 'نان', 'خوشمزه', 'راضی', 'دست', 'عالی', 'بستنی', 'فکرشو', 'سرد', 'تاریخ', 'عااااالی', 'کیفیت', 'عالی', 'موهیتو', 'نظر', 'نمیشه', 'کیفیت', 'غذا', 'عالی', 'سرد', 'سس', 'خوشمزه', 'بدمزه', 'بدتر', 'ربع', 'همبرگرش', 'سس', 'غذا', 'عالی', 'روغن', 'سالاد', 'ممنون', 'ارسال', 'شیرینی', 'سرد', 'پنیر', 'مانده', 'شور', 'کیفیت', 'جفت', 'سالاد', 'تحویل', 'فرستادن', 'سرد', 'کیفیت', 'کیفیت', 'پخته', 'ارسال', 'مزه', 'درجه', 'فرق', 'عالی', 'غذا', 'کیفیت', 'قیمت', 'خوشمزه', 'نوشتش', 'غذا', 'العاده', 'ممنون', 'تشکر', 'تحویل', 'شیرینی', 'عالی', 'تاخیر', 'داغ', 'سیر', 'پیگیری', 'نقص', 'تاخیر', 'تخفیف', 'تایم', 'عالی', 'مزه', 'مرسییی', 'عالی', 'ساعت', 'دست', 'حجم', 'معانی', 'خوشمزه', 'ریخته', 'مزه', 'جالب', 'پیتزا', 'خوشمزه', 'جالب', 'کوچیک', 'غذا', 'کوچیک', 'گرون', 'پرملات', 'راضی', '؟؟', 'سس', 'عالی', 'طعم', 'عالی', 'خوشمزه', 'کیفیت', 'نمک', 'سفارش', 'چرب', 'ممنون', 'کیفیت', 'سفارش', 'متشکر', 'پرپروک', 'اینبار', 'کوبیدش', 'ریخته', 'تشکر', 'قبول', 'خرید', 'راضی', 'پایین', 'گرم', 'چرب', 'خوشمزه', 'عالیییی', 'حجم', 'دوغ', 'عالی', 'کیفیت', 'سیر', 'عالی', 'راضی', 'سرد', 'سرد', 'ممنون', 'عالی', 'ممنون', 'گرم', 'طعم', 'عاااالی', 'عالی', 'کیفیت', 'خوردن', 'چسبیده', 'راضی', 'ممنون', 'عالی', 'کیفیت', 'خوشمزه', 'نوشته', 'اسپایسی', 'طمع', 'گرم', 'عاااااااالی', 'خوشمزه', 'گرون', 'عالی', 'دوست', 'ممنون', 'دقیق', 'دست', 'ارسال', 'ممنون', 'کیفیت', 'دست', 'عالی', 'فرا', 'مزه', 'روغن', 'سرد', 'خوشمزه', 'مچکرم', 'موقع', 'بدمزه', 'دایی', 'سس', 'اومد', 'مرغ', 'تحویل', 'خمیر', 'عالی', 'غذا', 'منع', 'عالی', 'سرد', 'وطعمش', 'دورچین', 'سرد', 'کنجد', 'کیک', 'کیفیت', 'گوجه', 'کیف', 'خوشمزه', 'مزه', 'چرب', 'چیکن', 'مزه', 'عالییییییییی', 'چاشنی', 'قیمت', 'مزش', 'عالی', 'خوشمزه', 'ممنون', 'عالی', 'خوشمزه', 'قیمت', 'رسوندن', 'جالب', 'خوشمزه', 'دیییر', 'داغ', 'ضعیف', 'اشپز', 'ممنون', 'سیر', 'موقع', 'خوشمزه', 'اکبرجوجه', 'عالی', 'خوشمزه', 'راضی', 'عالی', 'دست', 'ممنون', 'شور', 'مشتری', 'سوختگی', 'دوست', 'غذا', 'انتظار', 'خوبه', 'مناسب', 'سرد', 'خوشمزه', 'عالی', 'زیادی', 'غذا', 'گوشت', 'ممنون', 'مناسب', 'خامه', 'خوشمزه', 'ممنون', 'حد', 'راضی', 'کول', 'سپاس', 'کیفیت', 'خشک', 'منظم', 'عالی', 'طعم', 'نان', 'تند', 'راضی', 'پائین', 'موقع', 'تحویل', 'خوشمزه', 'کیفیت', 'سفارش', 'برخورد', 'موقع', 'عاشقه', 'سرد', 'شیرینی', 'غذا', 'لوبیا', 'بدستم', 'عااالی', 'کیفیت', 'موقع', 'خوشمزه', 'برد', 'مدل', 'عالی', 'وقت', 'مال', 'عالی', 'بدستم', 'کیفیت', 'عالییییییی', 'غذا', 'دقیق', 'عالی', 'غذاشون', 'یکم', 'باتشکر', 'سل', 'سپاس', 'اینبار', 'العاده', 'کیفیت', 'پایدار', 'کوکتل', 'خوشمزه', 'پنیر', 'عالی', 'عالی', 'کیفیت', 'راضی', 'راضی', 'گرم', 'ممنون', 'مزه', 'آب', 'له', 'العاده', 'درجه', 'شور', 'قیمت', 'چرب', 'اندازه', 'خوشمزه', 'ملات', 'ممنون', 'ارسال', 'ممنون', 'عالی', 'راضی', 'عالی', 'دست', 'عالی', 'تحویل', 'ممنون', 'عالی', 'نظر', 'سفارش', 'عالی', 'حد', 'چیزبرگرش', 'سپاسگزار', 'سرد', 'نیود', 'عالی', 'گرم', 'غذا', 'سوخته', 'خمیر', 'عالی', 'ممنون', 'ممنون', 'درجه', 'خوشمزه', 'عالی', 'داگ', 'سبزیجات', 'ممنون', 'عالی', 'دوست', 'متاسف', 'گردو', 'شیرینی', 'عالی', 'عالی', 'سفارش', 'سرد', 'مالیات', 'حدودی', 'حجم', 'پیتزا', 'گرم', 'راضی', 'وان', 'ریخته', 'غذا', 'سرد', 'عالی', 'تاریخ', 'حد', 'سالاد', 'گرم', 'نان', 'مزه', 'بهار', 'نیومد', 'باتشکر', 'خوشمزه', 'کیفیت', 'کنجد', 'عالی', 'خوشمزگی', 'غذا', 'عالی', 'عالیییییی', 'دقیقه', 'نرم', 'عالی', 'دقیق', 'ممنون', 'رولت', 'معلوم', 'برنج', 'کیفیت', 'حجم', 'دونفر', 'نان', 'عالی', 'سالاد', 'کیفیت', 'عالی', 'پیک', 'مزه', 'کنجد', 'عاااااااااااااااااااااااااااالی', 'غذا', 'کیفیت', 'عالی', 'بدمزه', 'شیرینی', 'دست', 'مارک', 'عالی', 'ممنون', 'ممنون', 'خوبید', 'خوشمزه', 'ممنون', 'تاخیر', 'سپاسگذارم', 'ممنون', 'طعم', 'غذا', 'پیک', 'سفارش', 'حلیم', 'حجم', 'غذا', 'گوشت', 'عاللللی', 'مزه', 'مچکرم', 'عالی', 'راظی', 'بودددد', 'خوشمزه', 'عالی', 'ارسال', 'سرد', 'سفارش', 'شکلات', 'عکس', 'ممنون', 'سرد', 'تجربه', 'عالی', 'عالی', 'دست', 'زرشک', 'عالی', 'بدستمون', 'زعفرونش', 'شیرینی', 'مجموع', 'عالی', 'عالی', 'غذا', 'ممنون', 'پیشنهاد', 'عالی', 'سلیقه', 'کیفیت', 'عالی', 'خرید', 'دقیق', 'قیمه', 'عالی', 'چیدمان', 'ساندویچ', 'خوشمزه', 'ممنون', 'عالی', 'کیفیت', 'مال', 'عاللللللی', 'وسایل', 'سرد', 'یخ', 'متشکر', 'عالی', 'دقیق', 'کیفیت', 'کیفیت', 'خوشمزه', 'ماده', 'کیفیت', 'خوشمزه', 'ممنون', 'جوجه', 'عالیییی', 'تحویل', 'امل', 'شیرینی', 'کیفیت', 'عطر', 'کالباس', 'کیفیت', 'عالی', 'سرد', 'ممنون', 'عالی', 'قبلی', 'عالی', 'راضی', 'مو', 'خوشمزه', 'دوست', 'خوشمزه', 'خشک', 'خوشمزه', 'مزه', 'سرد', 'گرم', 'سرد', 'معنا', 'ماده', 'چرب', 'موقع', 'طعم', 'عالی', 'خوشمزه', 'عالی', 'متشکر', 'عالی', 'برشته', 'درجه', 'گوشت', 'کنجد', 'عاااااالی', 'شیرینی', 'نون', 'عالی', 'خوشمزه', 'نون', 'سلام', 'گوجه', 'غذا', 'طعم', 'عالی', 'موقع', 'پیشنهاد', 'میموند', 'عالی', 'عالی', 'عالی', 'میامد', 'خوشمزه', 'عالی', 'ارسال', 'کیفیت', 'عالی', 'برخورد', 'دنبه', 'وقت', 'شور', 'مزه', 'عالی', 'ب', 'سس', 'بگر', 'راضی', 'عالی', 'برخورد', 'سس', 'غدا', 'خوشمزززززه', 'پیک', 'العاده', 'عالی', 'عالی', 'عالی', 'اکی', 'بنظرم', 'عالی', 'چرب', 'مزه', 'عالی', 'عالی', 'عالی', 'عالی', 'کرپ', 'خسته', 'تحویل', 'مزه', 'راضی', 'کیفیت', 'کیفیت', 'کهنه', 'نظر', 'سبزی', 'چرب', 'دسر', 'موقع', 'کیفیت', 'ارسال', 'سیر', 'خوشمزه', 'غذا', 'کوچک', 'بربری', 'مرغ', 'حجم', 'طعم', 'عاااااالی', 'کیک', 'کیفیت', 'سرد', 'خامه', 'کیفیت', 'عالی', 'خوشمزه', 'امتحان', 'عالی', 'خراب', 'عالی', 'عالیییی', 'ممنون', 'عدد', 'عالی', 'عالی', 'پیشنهاد', 'ممنون', 'راضی', 'قدیم', 'غذا', 'عالی', 'موسیر', 'العاده', 'مزه', 'متوسط', 'خوشمزه', 'سرعت', 'غذا', 'نقص', 'تحویل', 'عالی', 'همینطور', 'ممنون', 'مخصوصا', 'عالی', 'عالی', 'خوووب', 'عالی', 'راضی', 'باشه', 'افتصاح', 'دست', 'ارسال', 'عالی', 'ممنون', 'ممنون', 'عالی', 'عالی', 'خوبه', 'سرویس', 'عالی', 'ممنون', 'العاده', 'خوشمزه', 'خوشمزه', 'بدی', 'سید', 'برگر', 'دوست', 'تکه', 'خوشمزه', 'ممنون', 'خوشمزه', 'سرد', 'اسفناج', 'ممنون', 'ممنون', 'گرون', 'پیتزا', 'عالی', 'کیفیت', 'سرد', 'سپاس', 'سرد', 'تندی', 'استریپس', 'عالی', 'العاده', 'زیتون', 'عالی', 'عالی', 'کیفیت', 'عالی', 'پیتزا', 'نایلون', 'نون', 'نپخته', 'ممنون', 'برشته', 'مزه', 'تنوع', 'خوشمزه', 'ممنون', 'قیمت', 'سرد', 'کیفیت', 'مانده', 'العاده', 'شور', 'عالی', 'اجناس', 'وا', 'عالی', 'عالی', 'عالی', 'غذاتون', 'طعم', 'ارسال', 'کیفیت', 'ممنون', 'عالی', 'شیرکوزش', 'غذاتون', 'سس', 'راضی', 'پیک', 'عالی', 'طعم', 'عالی', 'گوشفیل', 'سالم', 'عالی', 'میاد', 'عالی', 'عالی', 'ممنون', 'موقع', 'کوچیک', 'دقیق', 'عالی', 'تشکر', 'زد', 'جوجه', 'عالی', 'پنیر', 'پایین', 'خوبو', 'وقت', 'ساندویچ', 'تنوع', 'موقع', 'دونه', 'سرعت', 'نمک', 'عالی', 'راضی', 'تاخیر', 'عالی', 'نسبت', 'شددت', 'کیفیت', 'خوشمزه', 'عالی', 'کیفیت', 'نیومد', 'پیک', 'خوشمزه', 'سپاس', 'راضی', 'کوبیده', 'عالی', 'مزه', 'پیتزا', 'اوکی', 'شیر', 'سرد', 'سرد', 'پیک', 'برخلاف', 'عالی', 'ممنون', 'کیفیت', 'کیفیت', 'تحویل', 'آفرین', 'حجم', 'خوشمزه', 'ریخته', 'خوشمزه', 'کیفیت', 'ممنون', 'عالی', 'عالی', 'سس', 'میاره', 'بو', 'عالی', 'خوشمزه', 'عالی', 'موقع', 'عالی', 'سرد', 'ارسالتون', 'عالی', 'سالادتون', 'داغ', 'راضی', 'تند', 'داغ', 'برنج', 'موقع', 'جعبه', 'ممنون', 'بدستم', 'ستاره', 'منظم', 'راضی', 'غذاییه', 'طولانی', 'ارسال', 'موقع', 'خمیر', 'خوشمزه', 'عالی', 'تاخیر', 'عالی', 'قارچ', 'عال', 'ممنون', 'راضی', 'کیفیت', 'عالی', 'عالی', 'شور', 'لذیذ', 'سرد', 'سوسیس', 'دستمون', 'عکس', 'سرد', 'نسبت', 'خوشمزه', 'سرد']\n",
            "we have 1388 texts with lenghts = 1\n"
          ]
        }
      ]
    },
    {
      "cell_type": "markdown",
      "metadata": {
        "id": "FKcHeIpHQ1Ek"
      },
      "source": [
        "When we want to use CNN for sentiment analysis, we should call the following function to make all of the sentences greater than or equal to the maximum filter size."
      ]
    },
    {
      "cell_type": "code",
      "metadata": {
        "id": "XOGccMBf_G6v"
      },
      "source": [
        "# def padding(dataset, max_sent_len):\n",
        "\n",
        "#   for i in range(len(dataset.preprocessing_text.values)):\n",
        "#     # if len text is lower than maximum filter size, then we should add <pad> tokent to it, to have text greater than\n",
        "#     # kernel size\n",
        "#     tokenize = dataset.preprocessing_text.values[i].split()\n",
        "#     if len(tokenize) < max_sent_len:\n",
        "\n",
        "#       tokenize += ['<pad>'] * (max_sent_len - len(tokenize))\n",
        "#       dataset.preprocessing_text.values[i] = ' '.join(tokenize)\n",
        "\n",
        "#   return dataset      \n",
        "  "
      ],
      "execution_count": 5,
      "outputs": []
    },
    {
      "cell_type": "markdown",
      "metadata": {
        "id": "aOqcOx6dPrbl"
      },
      "source": [
        "Let's apply this function on train and valid dataset to have similar lenghts."
      ]
    },
    {
      "cell_type": "code",
      "metadata": {
        "id": "iimczEcZA0SD"
      },
      "source": [
        "# snap_train = snapp_train.copy()\n",
        "# snap_valid = snapp_valid.copy()\n",
        "\n",
        "# train = padding(snap_train, 170)\n",
        "# valid = padding(snap_valid, 170)"
      ],
      "execution_count": 14,
      "outputs": []
    },
    {
      "cell_type": "code",
      "metadata": {
        "colab": {
          "base_uri": "https://localhost:8080/"
        },
        "id": "zaP_dQ6HNBDT",
        "outputId": "34b96cab-c468-4dd1-d319-4779bd6098f8"
      },
      "source": [
        "# print(f'train shape : {train.shape}')\n",
        "# print(f'valid shape : {valid.shape}')"
      ],
      "execution_count": 15,
      "outputs": [
        {
          "output_type": "stream",
          "name": "stdout",
          "text": [
            "train shape : (56495, 2)\n",
            "valid shape : (6286, 2)\n"
          ]
        }
      ]
    },
    {
      "cell_type": "code",
      "metadata": {
        "colab": {
          "base_uri": "https://localhost:8080/",
          "height": 466
        },
        "id": "yrpFaBQ8PA56",
        "outputId": "0ea01a03-bad8-40d3-860c-9af0653da757"
      },
      "source": [
        "# text_len = [len(i.split()) for i in train.preprocessing_text.values]\n",
        "# pd.Series(text_len).hist()\n",
        "# plt.title('Text lenght')\n",
        "# plt.xlabel('text length')\n",
        "# plt.ylabel('No. of sentences')\n",
        "# plt.show()\n",
        "# pd.Series(text_len).describe()"
      ],
      "execution_count": 16,
      "outputs": [
        {
          "output_type": "display_data",
          "data": {
            "image/png": "[encoded data removed]",
            "text/plain": [
              "<Figure size 432x288 with 1 Axes>"
            ]
          },
          "metadata": {
            "needs_background": "light"
          }
        },
        {
          "output_type": "execute_result",
          "data": {
            "text/plain": [
              "count    56495.0\n",
              "mean       170.0\n",
              "std          0.0\n",
              "min        170.0\n",
              "25%        170.0\n",
              "50%        170.0\n",
              "75%        170.0\n",
              "max        170.0\n",
              "dtype: float64"
            ]
          },
          "metadata": {},
          "execution_count": 16
        }
      ]
    },
    {
      "cell_type": "markdown",
      "metadata": {
        "id": "BEC_Obt1PNJc"
      },
      "source": [
        "As we see in the above histogram, all of the texts have similar size and their size equal to 170 (max text length)"
      ]
    },
    {
      "cell_type": "markdown",
      "metadata": {
        "id": "9Z6vzg8eP2mS"
      },
      "source": [
        "Let's save these dataset in CSV form in the drive to use them in TabularDataset."
      ]
    },
    {
      "cell_type": "code",
      "metadata": {
        "id": "o-wq3B7nPMUx"
      },
      "source": [
        "# train.to_csv('/content/drive/MyDrive/AI-Internship/SnappFood_FinalEdit/train_cnn.csv', index=False)\n",
        "# valid.to_csv('/content/drive/MyDrive/AI-Internship/SnappFood_FinalEdit/valid_cnn.csv', index=False)"
      ],
      "execution_count": 17,
      "outputs": []
    },
    {
      "cell_type": "code",
      "metadata": {
        "colab": {
          "base_uri": "https://localhost:8080/",
          "height": 206
        },
        "id": "VxKABr5rQaSm",
        "outputId": "b5d0ce1b-24eb-4eb7-f0ac-653cdaf92dc1"
      },
      "source": [
        "# data = pd.read_csv('/content/drive/MyDrive/AI-Internship/SnappFood_FinalEdit/train_cnn.csv')\n",
        "# data.head()"
      ],
      "execution_count": 18,
      "outputs": [
        {
          "output_type": "execute_result",
          "data": {
            "text/html": [
              "<div>\n",
              "<style scoped>\n",
              "    .dataframe tbody tr th:only-of-type {\n",
              "        vertical-align: middle;\n",
              "    }\n",
              "\n",
              "    .dataframe tbody tr th {\n",
              "        vertical-align: top;\n",
              "    }\n",
              "\n",
              "    .dataframe thead th {\n",
              "        text-align: right;\n",
              "    }\n",
              "</style>\n",
              "<table border=\"1\" class=\"dataframe\">\n",
              "  <thead>\n",
              "    <tr style=\"text-align: right;\">\n",
              "      <th></th>\n",
              "      <th>label</th>\n",
              "      <th>preprocessing_text</th>\n",
              "    </tr>\n",
              "  </thead>\n",
              "  <tbody>\n",
              "    <tr>\n",
              "      <th>0</th>\n",
              "      <td>1</td>\n",
              "      <td>حیف وقت نوشت سرویس دهیتون افتضاح &lt;pad&gt; &lt;pad&gt; &lt;...</td>\n",
              "    </tr>\n",
              "    <tr>\n",
              "      <th>1</th>\n",
              "      <td>0</td>\n",
              "      <td>قرار ساعته برسه نیم ساعت موقع دید چقدررررررررر...</td>\n",
              "    </tr>\n",
              "    <tr>\n",
              "      <th>2</th>\n",
              "      <td>1</td>\n",
              "      <td>قیمت مدل کیفیت سازگاری نداره ظاهر فریبنده پرش ...</td>\n",
              "    </tr>\n",
              "    <tr>\n",
              "      <th>3</th>\n",
              "      <td>0</td>\n",
              "      <td>عالللی اندازه کیفیت امیداورم کیفیتتون باشه مشت...</td>\n",
              "    </tr>\n",
              "    <tr>\n",
              "      <th>4</th>\n",
              "      <td>0</td>\n",
              "      <td>شیرینی نیل مدل &lt;pad&gt; &lt;pad&gt; &lt;pad&gt; &lt;pad&gt; &lt;pad&gt; &lt;...</td>\n",
              "    </tr>\n",
              "  </tbody>\n",
              "</table>\n",
              "</div>"
            ],
            "text/plain": [
              "   label                                 preprocessing_text\n",
              "0      1  حیف وقت نوشت سرویس دهیتون افتضاح <pad> <pad> <...\n",
              "1      0  قرار ساعته برسه نیم ساعت موقع دید چقدررررررررر...\n",
              "2      1  قیمت مدل کیفیت سازگاری نداره ظاهر فریبنده پرش ...\n",
              "3      0  عالللی اندازه کیفیت امیداورم کیفیتتون باشه مشت...\n",
              "4      0  شیرینی نیل مدل <pad> <pad> <pad> <pad> <pad> <..."
            ]
          },
          "metadata": {},
          "execution_count": 18
        }
      ]
    },
    {
      "cell_type": "markdown",
      "metadata": {
        "id": "16xU4kPMQr1P"
      },
      "source": [
        "Let's print first text. As we see, this text are padding with '<pad>' token to have equal size with max length text in our dataset."
      ]
    },
    {
      "cell_type": "code",
      "metadata": {
        "colab": {
          "base_uri": "https://localhost:8080/",
          "height": 189
        },
        "id": "frIKwkdmQmjk",
        "outputId": "3f07eb66-82d8-48a9-f80d-56484e1fff97"
      },
      "source": [
        "# data.preprocessing_text[0]"
      ],
      "execution_count": 19,
      "outputs": [
        {
          "output_type": "execute_result",
          "data": {
            "application/vnd.google.colaboratory.intrinsic+json": {
              "type": "string"
            },
            "text/plain": [
              "'حیف وقت نوشت سرویس دهیتون افتضاح <pad> <pad> <pad> <pad> <pad> <pad> <pad> <pad> <pad> <pad> <pad> <pad> <pad> <pad> <pad> <pad> <pad> <pad> <pad> <pad> <pad> <pad> <pad> <pad> <pad> <pad> <pad> <pad> <pad> <pad> <pad> <pad> <pad> <pad> <pad> <pad> <pad> <pad> <pad> <pad> <pad> <pad> <pad> <pad> <pad> <pad> <pad> <pad> <pad> <pad> <pad> <pad> <pad> <pad> <pad> <pad> <pad> <pad> <pad> <pad> <pad> <pad> <pad> <pad> <pad> <pad> <pad> <pad> <pad> <pad> <pad> <pad> <pad> <pad> <pad> <pad> <pad> <pad> <pad> <pad> <pad> <pad> <pad> <pad> <pad> <pad> <pad> <pad> <pad> <pad> <pad> <pad> <pad> <pad> <pad> <pad> <pad> <pad> <pad> <pad> <pad> <pad> <pad> <pad> <pad> <pad> <pad> <pad> <pad> <pad> <pad> <pad> <pad> <pad> <pad> <pad> <pad> <pad> <pad> <pad> <pad> <pad> <pad> <pad> <pad> <pad> <pad> <pad> <pad> <pad> <pad> <pad> <pad> <pad> <pad> <pad> <pad> <pad> <pad> <pad> <pad> <pad> <pad> <pad> <pad> <pad> <pad> <pad> <pad> <pad> <pad> <pad> <pad> <pad> <pad> <pad> <pad> <pad> <pad> <pad> <pad> <pad> <pad> <pad>'"
            ]
          },
          "metadata": {},
          "execution_count": 19
        }
      ]
    },
    {
      "cell_type": "code",
      "metadata": {
        "colab": {
          "base_uri": "https://localhost:8080/"
        },
        "id": "WaCG-CMuRn8x",
        "outputId": "d14cbe1e-cdd7-4766-ab64-090564c4005b"
      },
      "source": [
        "# print(len(data.preprocessing_text[0].split()))"
      ],
      "execution_count": 21,
      "outputs": [
        {
          "output_type": "stream",
          "name": "stdout",
          "text": [
            "170\n"
          ]
        }
      ]
    },
    {
      "cell_type": "markdown",
      "metadata": {
        "id": "V3iBrgLdNzoU"
      },
      "source": [
        "#### Load the custom dataset using PyTorchText TabularDataset"
      ]
    },
    {
      "cell_type": "code",
      "metadata": {
        "colab": {
          "base_uri": "https://localhost:8080/"
        },
        "id": "IpjLzrswaFXW",
        "outputId": "7a3b39ac-5424-4248-b71f-adb57af8dc01"
      },
      "source": [
        "import torch\n",
        "import torchtext\n",
        "from torchtext.legacy import data\n",
        "from torch.utils.data import DataLoader\n",
        "\n",
        "import torch.nn as nn\n",
        "import torch.optim as optim\n",
        "import torch.nn.functional as F\n",
        "\n",
        "from torch.optim import lr_scheduler\n",
        "from torch.utils.data.dataset import random_split\n",
        "\n",
        "from sklearn.model_selection import train_test_split\n",
        "from torchtext.vocab import Vectors\n",
        "from sklearn import metrics\n",
        "import matplotlib.pyplot as plt\n",
        "import seaborn as sns\n",
        "\n",
        "#Reproducing same results\n",
        "SEED = 2019\n",
        "torch.manual_seed(SEED)"
      ],
      "execution_count": 4,
      "outputs": [
        {
          "output_type": "execute_result",
          "data": {
            "text/plain": [
              "<torch._C.Generator at 0x7fa56fe23590>"
            ]
          },
          "metadata": {},
          "execution_count": 4
        }
      ]
    },
    {
      "cell_type": "code",
      "metadata": {
        "id": "1YlvDV4SOUQf"
      },
      "source": [
        "# define pipline for text and label columns\n",
        "TEXT = data.Field(tokenize='spacy',\n",
        "                  include_lengths=True, batch_first=True)\n",
        "LABEL = data.LabelField(dtype = torch.float,batch_first=True)"
      ],
      "execution_count": 5,
      "outputs": []
    },
    {
      "cell_type": "markdown",
      "metadata": {
        "id": "b0po89CMPJVu"
      },
      "source": [
        "Let's define our column name and preprocessing pipline for that column, with tupless in fileds."
      ]
    },
    {
      "cell_type": "code",
      "metadata": {
        "id": "C4DlCKyGOXdp"
      },
      "source": [
        "fields = [('label', LABEL), ('preprocessing_text',TEXT)]"
      ],
      "execution_count": 7,
      "outputs": []
    },
    {
      "cell_type": "code",
      "metadata": {
        "id": "BCbAotuUPOpR"
      },
      "source": [
        "train_data = data.TabularDataset(path='/content/drive/MyDrive/AI-Internship/SnappFood_FinalEdit/train_cnn.csv'\n",
        "                                , format='csv', fields=fields, skip_header=True)\n",
        "\n",
        "valid_data = data.TabularDataset(path='/content/drive/MyDrive/AI-Internship/SnappFood_FinalEdit/valid_cnn.csv'\n",
        "                                , format='csv', fields=fields, skip_header=True)\n",
        "\n",
        "test_data = data.TabularDataset(path='/content/drive/MyDrive/AI-Internship/SnappFood_FinalEdit/test.csv'\n",
        "                                , format='csv', fields=fields, skip_header=True)\n"
      ],
      "execution_count": 8,
      "outputs": []
    },
    {
      "cell_type": "code",
      "metadata": {
        "colab": {
          "base_uri": "https://localhost:8080/"
        },
        "id": "cwue_4ESShip",
        "outputId": "07e180f7-165f-4a7c-e84e-3e9bfda65503"
      },
      "source": [
        "type(train_data)"
      ],
      "execution_count": 9,
      "outputs": [
        {
          "output_type": "execute_result",
          "data": {
            "text/plain": [
              "torchtext.legacy.data.dataset.TabularDataset"
            ]
          },
          "metadata": {},
          "execution_count": 9
        }
      ]
    },
    {
      "cell_type": "code",
      "metadata": {
        "colab": {
          "base_uri": "https://localhost:8080/"
        },
        "id": "stHqD0EwTnSt",
        "outputId": "7582967a-7698-44a2-8cb1-873d7de82692"
      },
      "source": [
        "len(train_data)"
      ],
      "execution_count": 10,
      "outputs": [
        {
          "output_type": "execute_result",
          "data": {
            "text/plain": [
              "56495"
            ]
          },
          "metadata": {},
          "execution_count": 10
        }
      ]
    },
    {
      "cell_type": "code",
      "metadata": {
        "colab": {
          "base_uri": "https://localhost:8080/"
        },
        "id": "7r-9yK7QVgtK",
        "outputId": "e9b6a0cb-6e9e-4cd0-861b-ca636841d0f7"
      },
      "source": [
        "[(elem.label) for elem in train_data][:2]"
      ],
      "execution_count": 29,
      "outputs": [
        {
          "output_type": "execute_result",
          "data": {
            "text/plain": [
              "['1', '0']"
            ]
          },
          "metadata": {},
          "execution_count": 29
        }
      ]
    },
    {
      "cell_type": "markdown",
      "metadata": {
        "id": "t3-OfGRGT4bw"
      },
      "source": [
        "#### Construct Vocabulary"
      ]
    },
    {
      "cell_type": "markdown",
      "metadata": {
        "id": "hgBTej40UJWI"
      },
      "source": [
        "Now, we should construct vocabulary from our text and convert them into integer sequences. The vocabulary contains unique words and assigns an index for each word."
      ]
    },
    {
      "cell_type": "code",
      "metadata": {
        "id": "6yn52QmzTrKD"
      },
      "source": [
        "TEXT.build_vocab(train_data, valid_data,min_freq=3 )\n",
        "LABEL.build_vocab(train_data, valid_data)"
      ],
      "execution_count": 11,
      "outputs": []
    },
    {
      "cell_type": "code",
      "metadata": {
        "colab": {
          "base_uri": "https://localhost:8080/"
        },
        "id": "a7GDZ78uUc45",
        "outputId": "3f5fe4a0-58e4-41d5-b2be-306327e07f2c"
      },
      "source": [
        "#No. of unique tokens in text\n",
        "print(\"Size of TEXT vocabulary:\",len(TEXT.vocab))\n",
        "print(\"Size of TEXT vocabulary:\",len(LABEL.vocab))\n",
        "print(\" \")\n",
        "print('-'*200)\n",
        "\n",
        "#Commonly used words\n",
        "print(f'10 commonly used words : {TEXT.vocab.freqs.most_common(10)}')  \n",
        "print(\" \")\n",
        "print('-'*200)\n",
        "\n",
        "#Word dictionary\n",
        "print(f'word dictionary : {TEXT.vocab.stoi}') "
      ],
      "execution_count": 12,
      "outputs": [
        {
          "output_type": "stream",
          "name": "stdout",
          "text": [
            "Size of TEXT vocabulary: 6842\n",
            "Size of TEXT vocabulary: 2\n",
            " \n",
            "--------------------------------------------------------------------------------------------------------------------------------------------------------------------------------------------------------\n",
            "10 commonly used words : [('<', 10121146), ('pad', 10121146), ('>', 10121146), ('غذا', 16683), ('کیفیت', 13919), ('عالی', 11461), ('سفارش', 11291), ('پیتزا', 8998), ('ممنون', 6085), ('سرد', 6085)]\n",
            " \n",
            "--------------------------------------------------------------------------------------------------------------------------------------------------------------------------------------------------------\n",
            "word dictionary : defaultdict(<bound method Vocab._default_unk_index of <torchtext.legacy.vocab.Vocab object at 0x7fa4eec2acd0>>, {'<unk>': 0, '<pad>': 1, '<': 2, '>': 3, 'pad': 4, 'غذا': 5, 'کیفیت': 6, 'عالی': 7, 'سفارش': 8, 'پیتزا': 9, 'سرد': 10, 'ممنون': 11, 'خوشمزه': 12, 'طعم': 13, 'ارسال': 14, 'مرغ': 15, 'پیک': 16, 'قیمت': 17, 'مزه': 18, 'سیب': 19, 'سس': 20, 'تحویل': 21, 'نان': 22, 'بسته': 23, 'رستوران': 24, 'حجم': 25, 'گرم': 26, 'زمینی': 27, 'شیرینی': 28, 'دست': 29, 'ساندویچ': 30, 'نون': 31, 'بند': 32, 'اسنپ': 33, 'نسبت': 34, 'کیک': 35, 'پنیر': 36, 'راضی': 37, 'پایین': 38, 'ساعت': 39, 'سلام': 40, 'گوشت': 41, 'خورد': 42, 'کباب': 43, 'سالاد': 44, 'فود': 45, 'نظر': 46, 'موقع': 47, 'باشه': 48, 'مو': 49, 'مشتری': 50, 'اس': 51, 'برنج': 52, 'جوجه': 53, 'خشک': 54, 'خرید': 55, '؟': 56, 'دقیقه': 57, 'تاخیر': 58, 'خوبی': 59, 'میشه': 60, 'خمیر': 61, 'سوخاری': 62, 'داغ': 63, 'مناسب': 64, 'ماده': 65, 'العاده': 66, 'ریخته': 67, 'تشکر': 68, 'سوخته': 69, 'توجه': 70, 'قارچ': 71, 'افتضاح': 72, 'برگر': 73, 'بشه': 74, 'بوی': 75, 'جعبه': 76, 'سیر': 77, 'طول': 78, 'سه': 79, 'آب': 80, 'برخورد': 81, 'خام': 82, 'نم': 83, 'یکم': 84, 'خوردن': 85, 'کشید': 86, 'هزینه': 87, 'ظرف': 88, 'نوشابه': 89, 'چرب': 90, 'فرستادن': 91, 'دور': 92, 'سفت': 93, 'اندازه': 94, 'روغن': 95, 'همراه': 96, 'متاسف': 97, 'پر': 98, 'انتظار': 99, 'نیم': 100, 'پول': 101, 'خامه': 102, 'توضیحات': 103, 'بستنی': 104, 'دوست': 105, 'فرستاد': 106, 'شور': 107, 'عکس': 108, 'خوبه': 109, 'شدت': 110, 'زد': 111, 'تماس': 112, 'یخ': 113, 'گوجه': 114, 'امیدوار': 115, 'کهنه': 116, 'تکه': 117, 'اشتباه': 118, 'زده': 119, 'کوچک': 120, 'فیله': 121, 'نداره': 122, 'عدد': 123, 'بدی': 124, 'فرستاده': 125, 'نپخته': 126, 'شکلات': 127, 'تیکه': 128, 'ته': 129, 'کاهو': 130, 'تاریخ': 131, 'نصف': 132, 'پیگیری': 133, 'تومن': 134, 'برام': 135, 'پیشنهاد': 136, 'عالیه': 137, 'ریخت': 138, 'نوشته': 139, 'جالب': 140, 'اضافه': 141, 'خورده': 142, 'بیات': 143, 'حد': 144, 'منو': 145, 'میدم': 146, 'بابت': 147, 'بقیه': 148, 'سرخ': 149, 'مشکل': 150, 'سبزی': 151, 'کوچیک': 152, 'فاصله': 153, 'پخته': 154, 'دقت': 155, 'چنگال': 156, 'کار': 157, 'سوپر': 158, 'وقت': 159, 'له': 160, 'کوبیده': 161, 'تند': 162, 'بجا': 163, 'دید': 164, 'سوپ': 165, 'اومد': 166, 'قاشق': 167, 'انتخاب': 168, 'بو': 169, 'پلو': 170, 'زیادی': 171, 'شیر': 172, 'داگ': 173, 'نمیدونم': 174, 'خسته': 175, 'سرعت': 176, 'پیاز': 177, 'تومان': 178, 'سپاس': 179, 'مدیریت': 180, 'مخصوصا': 181, 'بهتره': 182, 'درد': 183, 'مانده': 184, 'پخت': 185, 'ارسالی': 186, 'استیک': 187, 'قرار': 188, 'مخصوص': 189, 'افت': 190, 'برسه': 191, 'سرویس': 192, 'نمک': 193, 'باروژ': 194, 'برد': 195, 'بدترین': 196, 'بنده': 197, 'زنگ': 198, 'ثبت': 199, 'خورش': 200, 'مجبور': 201, 'تخفیف': 202, 'همبرگر': 203, 'غذایی': 204, 'نمیشه': 205, 'فلفل': 206, 'پاستا': 207, 'میوه': 208, 'اومده': 209, 'دستمون': 210, 'ساده': 211, 'مخلفات': 212, 'حمل': 213, 'پرپروک': 214, 'باعث': 215, 'کیلو': 216, 'نامناسب': 217, 'موجود': 218, 'شبیه': 219, 'مارک': 220, 'دوتا': 221, 'گذاشت': 222, 'اوردن': 223, 'دونه': 224, 'کالباس': 225, 'ب': 226, 'درخواست': 227, 'چیکن': 228, 'بدمزه': 229, 'فاکتور': 230, 'نکنه': 231, 'کنه': 232, 'آماده': 233, 'سزار': 234, 'ژامبون': 235, 'سالم': 236, 'رفتار': 237, 'فست': 238, 'قسمت': 239, 'چین': 240, 'ارزش': 241, 'کیسه': 242, 'همون': 243, 'حیف': 244, 'اب': 245, 'قبول': 246, 'مشخص': 247, 'باگ': 248, 'تخم': 249, 'ترش': 250, 'دلیل': 251, 'رسیدن': 252, 'ناراضی': 253, 'خراب': 254, 'فرق': 255, 'اسم': 256, 'نرم': 257, 'پشتیبانی': 258, 'دورچین': 259, 'مصرف': 260, 'متوسط': 261, 'محترم': 262, 'امتحان': 263, 'سوسیس': 264, 'لذیذ': 265, 'پپرونی': 266, 'زرشک': 267, 'محصول': 268, 'قبلی': 269, 'متشکر': 270, 'مدل': 271, 'بدستم': 272, 'چیپس': 273, 'حساب': 274, 'اونم': 275, 'رنگ': 276, 'خالی': 277, 'برشته': 278, 'متفاوت': 279, 'خدا': 280, 'اینبار': 281, 'نمیدم': 282, 'ادویه': 283, 'قیمه': 284, 'ضعیف': 285, 'پرداخت': 286, 'کلم': 287, 'ماهی': 288, 'تغییر': 289, 'کنن': 290, 'خاطر': 291, 'نازک': 292, 'عوض': 293, 'مبلغ': 294, 'اجناس': 295, 'سبزیجات': 296, '،': 297, 'نفر': 298, 'شکل': 299, 'میکنه': 300, 'کنجد': 301, 'خاصی': 302, 'موزد': 303, 'دریافت': 304, 'تعداد': 305, 'خوراک': 306, 'جنس': 307, 'فروخت': 308, 'مودب': 309, 'ازتون': 310, 'تجربه': 311, 'ران': 312, 'سینه': 313, 'محصولات': 314, 'بخاطر': 315, 'شعبه': 316, 'میده': 317, 'ترد': 318, 'شیلا': 319, 'حرف': 320, 'رولت': 321, 'لذت': 322, 'موفق': 323, 'کالا': 324, 'سیاه': 325, 'برند': 326, 'لیمو': 327, 'پلاستیک': 328, 'گردو': 329, 'پک': 330, 'تاکید': 331, 'دستتون': 332, 'حس': 333, 'دفعات': 334, 'تلخ': 335, 'وسط': 336, 'تست': 337, 'مهم': 338, 'سنگک': 339, 'شکسته': 340, 'همینطور': 341, 'ظاهر': 342, 'طبق': 343, 'همیشگی': 344, 'برش': 345, 'سفید': 346, 'نوشت': 347, 'اکسپرس': 348, 'سایز': 349, 'صورتی': 350, 'مالیات': 351, 'لحاظ': 352, 'چسبیده': 353, 'کافی': 354, 'قرمز': 355, 'افتاده': 356, 'آخرین': 357, 'استریپس': 358, 'پای': 359, 'کره': 360, 'اولیه': 361, 'بال': 362, 'مغایرت': 363, 'طوری': 364, 'گذاشتن': 365, 'توصیه': 366, 'دقیق': 367, 'دیگ': 368, 'نهایت': 369, 'آش': 370, 'بدید': 371, 'طولانی': 372, 'چربی': 373, 'اطلاع': 374, 'تهیه': 375, 'توقع': 376, 'نکته': 377, 'مخلوط': 378, 'نوشیدنی': 379, 'دل': 380, 'شه': 381, 'میرسه': 382, 'رضایت': 383, 'پودر': 384, 'سوپرمارکت': 385, 'فروشگاه': 386, 'احترام': 387, 'سفارشات': 388, 'فراموش': 389, 'بودین': 390, 'لقمه': 391, 'گرمی': 392, 'میاد': 393, 'حالت': 394, 'مجموع': 395, 'پاکت': 396, 'آدم': 397, 'درب': 398, 'معلوم': 399, 'حدی': 400, 'رب': 401, 'رسیدگی': 402, 'برخلاف': 403, 'هویج': 404, 'بادمجان': 405, 'خیار': 406, 'سپاسگزار': 407, 'دمتون': 408, 'لوبیا': 409, 'امکان': 410, 'محتویات': 411, 'نا': 412, 'تمیز': 413, 'تنوع': 414, 'ذکر': 415, 'عزیز': 416, 'فرنگی': 417, 'حفظ': 418, 'مغز': 419, 'حضوری': 420, 'مجموعه': 421, 'موز': 422, 'میکنن': 423, 'کمه': 424, 'باکیفیت': 425, 'دوغ': 426, 'امتیاز': 427, 'دستمال': 428, 'غذارو': 429, 'منطقه': 430, 'مسیر': 431, 'جایگزین': 432, 'ایرانی': 433, 'خیس': 434, 'بیف': 435, 'حذف': 436, 'شب': 437, 'طمع': 438, 'نفره': 439, 'تنور': 440, 'جاش': 441, 'کیف': 442, 'زیتون': 443, 'سال': 444, 'عمر': 445, 'درجه': 446, 'انقضا': 447, 'بنظرم': 448, 'خیارشور': 449, 'مقداری': 450, 'نتونستم': 451, 'نخورده': 452, 'تعریف': 453, 'خلاف': 454, 'ادب': 455, 'ازشون': 456, 'ماسیده': 457, 'نایلون': 458, 'رست': 459, 'اینجوری': 460, 'ثابت': 461, 'درصد': 462, 'وزن': 463, 'گرون': 464, 'آدرس': 465, 'هفته': 466, 'بهداشتی': 467, 'شکر': 468, 'اینه': 469, 'قرمه': 470, 'مهمان': 471, 'نداشتن': 472, 'ربع': 473, 'جو': 474, 'دلستر': 475, 'قهوه': 476, 'عجیب': 477, 'باقلوا': 478, '٥': 479, 'قنادی': 480, 'میتونم': 481, 'تایم': 482, 'عرض': 483, 'خرد': 484, 'پرس': 485, 'لیست': 486, 'منزل': 487, 'بدن': 488, 'رعایت': 489, 'احساس': 490, 'ایراد': 491, 'بربری': 492, 'تموم': 493, 'دانمارکی': 494, 'دیزی': 495, 'زدن': 496, 'هستن': 497, 'پایینی': 498, 'لایه': 499, 'ماه': 500, 'تون': 501, 'دارن': 502, 'محترمانه': 503, 'بالاتر': 504, 'میدن': 505, 'ارزید': 506, 'تفاوت': 507, 'سرو': 508, 'سلیقه': 509, 'نشه': 510, 'وجه': 511, 'برگ': 512, 'فراوان': 513, 'خودتون': 514, 'غذاتون': 515, 'فرستادین': 516, 'تولید': 517, 'ذره': 518, 'ساندویج': 519, 'محل': 520, 'پوست': 521, 'نبودن': 522, 'انار': 523, 'قاطی': 524, 'مال': 525, 'میکس': 526, 'علت': 527, 'متوجه': 528, 'ایندفعه': 529, 'براتون': 530, 'مگه': 531, 'نوتلا': 532, 'گریل': 533, 'بدتر': 534, 'ریز': 535, 'شل': 536, 'صبحانه': 537, 'مسافت': 538, 'افزایش': 539, 'درکل': 540, 'نظرات': 541, 'سفارشی': 542, 'فرمود': 543, 'یکبار': 544, 'انداخت': 545, 'بمونه': 546, 'قلم': 547, 'تازگی': 548, 'خوبتون': 549, 'خودشون': 550, 'زحمت': 551, 'پشیمون': 552, 'کمیت': 553, 'بادام': 554, 'هماهنگی': 555, 'کف': 556, 'امل': 557, 'تاسف': 558, 'حلیم': 559, 'ترکی': 560, 'ارائه': 561, 'ساخت': 562, 'ناپلئون': 563, 'نباشه': 564, 'چلو': 565, 'کاری': 566, 'اقلا': 567, 'توت': 568, 'منتظر': 569, 'پلاستیکی': 570, 'اسپایسی': 571, 'قوطی': 572, 'نذاشته': 573, 'پسته': 574, 'دومین': 575, 'کشک': 576, 'اهمیت': 577, 'باری': 578, 'باقی': 579, 'بندری': 580, 'ضمنا': 581, 'هاتون': 582, 'اشتباهی': 583, 'بموقع': 584, 'اورد': 585, 'کدو': 586, 'باسلام': 587, 'خونه': 588, 'سیگار': 589, 'میدیم': 590, 'پاره': 591, 'اصلی': 592, 'فک': 593, 'مجدد': 594, 'مطلوب': 595, 'میگ': 596, 'کوچه': 597, 'تار': 598, 'تعجب': 599, 'توضیح': 600, 'غدا': 601, 'اورده': 602, 'برکت': 603, 'زرد': 604, 'مهمون': 605, 'پرسنل': 606, 'یکساعت': 607, 'انقد': 608, 'بیارن': 609, 'تصویر': 610, 'مقایسه': 611, 'وا': 612, 'پرتقال': 613, 'پولی': 614, 'گران': 615, 'باتشکر': 616, 'خانواده': 617, 'دونات': 618, 'ندارن': 619, 'کاغذ': 620, 'یخچال': 621, 'دوبار': 622, 'پلاسیده': 623, 'ملات': 624, 'بچه': 625, 'ذرت': 626, 'ستاره': 627, 'علاوه': 628, 'اماده': 629, 'سبک': 630, 'طبخ': 631, 'استخوان': 632, 'قدیمی': 633, 'معمول': 634, 'فهمید': 635, 'لازم': 636, 'سبز': 637, 'فاجعه': 638, 'نحوه': 639, 'کاغذی': 640, 'آبمیوه': 641, 'قشنگ': 642, 'باکس': 643, 'علی': 644, 'هوا': 645, 'اتفاق': 646, 'حرفه': 647, 'عطر': 648, 'میتونست': 649, 'گزینه': 650, 'ایتالیایی': 651, 'بیکن': 652, 'خبری': 653, 'ست': 654, 'ترکیب': 655, 'موضوع': 656, 'زور': 657, 'میشم': 658, 'اعتماد': 659, 'دلمه': 660, 'واقع': 661, 'خنک': 662, 'خواهش': 663, 'فرانسوی': 664, 'لیوان': 665, 'نانوایی': 666, 'نیومد': 667, 'تهران': 668, 'درج': 669, 'سایت': 670, 'نفرستادن': 671, 'بزارید': 672, 'بودش': 673, 'موندگی': 674, 'میتونه': 675, 'میره': 676, 'آلفردو': 677, 'رایگان': 678, 'لیتر': 679, 'مزش': 680, 'پوره': 681, 'کیلویی': 682, 'ترشی': 683, 'عاااالی': 684, 'قید': 685, 'نبوده': 686, 'ادم': 687, 'زمین': 688, 'مرغوب': 689, 'موجودی': 690, 'نیمه': 691, 'چندمین': 692, 'آبرو': 693, 'بادمجون': 694, 'بره': 695, 'بنظر': 696, 'باشن': 697, 'بعدی': 698, 'دونم': 699, 'لطف': 700, 'پز': 701, 'یاد': 702, 'روغنی': 703, 'نارگیل': 704, 'نفرستاده': 705, 'کشمش': 706, 'اثر': 707, 'تومنی': 708, 'جمع': 709, 'خاص': 710, 'ریختن': 711, 'سحر': 712, 'نیاز': 713, 'کاهش': 714, 'آبکی': 715, 'باور': 716, 'تک': 717, 'مدار': 718, 'تل': 719, 'جواب': 720, 'خیلیییی': 721, 'میل': 722, 'نکردن': 723, 'پاک': 724, 'گشت': 725, 'آلبالو': 726, 'شرایط': 727, 'پیراشکی': 728, 'تری': 729, 'داغون': 730, 'ذوق': 731, 'بالایی': 732, 'خدایی': 733, 'عین': 734, 'میگه': 735, 'هندی': 736, 'سطح': 737, 'شباهت': 738, 'معجون': 739, 'ناقص': 740, 'مطبوع': 741, 'مین': 742, 'هایدا': 743, 'ادامه': 744, 'امید': 745, 'دسر': 746, 'سی': 747, 'قوت': 748, 'اخرین': 749, 'اسفناج': 750, 'تخمه': 751, 'سوختگی': 752, 'عاشق': 753, 'غذاهاتون': 754, 'ندیده': 755, 'نیل': 756, 'چک': 757, 'کارتون': 758, 'کارد': 759, 'کوچولو': 760, 'اختلاف': 761, 'قورمه': 762, 'ماکارونی': 763, 'نداده': 764, 'نمره': 765, 'کوکا': 766, 'آیس': 767, 'ساعته': 768, 'سبوس': 769, 'طرز': 770, 'مایع': 771, 'هارو': 772, 'تلفنی': 773, 'درشت': 774, 'غذاشون': 775, 'ناراحت': 776, 'کیفیتتون': 777, 'الویه': 778, 'بذارید': 779, 'خواهشا': 780, 'دوس': 781, 'رژیمی': 782, 'طبقه': 783, 'لواش': 784, 'مغازه': 785, 'نی': 786, 'سوال': 787, 'صرفه': 788, 'مایونز': 789, 'لای': 790, 'نیاوردن': 791, 'چیزبرگر': 792, 'میفرستن': 793, 'اخه': 794, 'اصل': 795, 'اصلن': 796, 'محدوده': 797, 'چسبید': 798, 'اکبر': 799, 'برامون': 800, 'بصورت': 801, 'نصفه': 802, 'یدونه': 803, 'اره': 804, 'اصن': 805, 'بامیه': 806, 'بخیر': 807, 'بفرستن': 808, 'ترجیح': 809, 'تندی': 810, 'خارج': 811, 'واحد': 812, 'کثیف': 813, 'اصلاح': 814, 'انتقاد': 815, 'شیرازی': 816, 'مثبت': 817, 'مطابق': 818, 'میومد': 819, 'چرخ': 820, 'انداخته': 821, 'اینا': 822, 'خصوص': 823, 'شرکت': 824, 'فصل': 825, 'نگهبانی': 826, 'آرد': 827, 'رد': 828, 'زبان': 829, 'سکو': 830, 'شفته': 831, 'ضخیم': 832, 'لطیفه': 833, 'مدیر': 834, 'منوی': 835, 'اسلایس': 836, 'بزرگتر': 837, 'تلخی': 838, 'دلچسب': 839, 'سنگین': 840, 'معدنی': 841, 'نگه': 842, 'کروسان': 843, 'آسانسور': 844, 'بهشون': 845, 'جاها': 846, 'جزو': 847, 'رغم': 848, 'عااالی': 849, 'عادی': 850, 'نخود': 851, 'تعویض': 852, 'تناسب': 853, 'ظروف': 854, 'وضعیت': 855, 'کرم': 856, 'اینطوری': 857, 'ریحون': 858, 'سماق': 859, 'فروش': 860, 'ماند': 861, 'متناسب': 862, 'معنا': 863, 'همینجوری': 864, 'کوکی': 865, 'خجالت': 866, 'دهن': 867, 'عدس': 868, 'پرسید': 869, 'چندتا': 870, 'باشین': 871, 'باقالی': 872, 'تکرار': 873, 'دستشون': 874, 'رسوندن': 875, 'میگو': 876, 'هان': 877, 'پسر': 878, 'یادشون': 879, 'دارچین': 880, 'پخش': 881, 'کوتاه': 882, 'اونی': 883, 'سنتی': 884, 'موتور': 885, 'میارن': 886, 'میدین': 887, 'نو': 888, 'هردو': 889, 'ادرس': 890, 'بدست': 891, 'تیم': 892, 'لاستیک': 893, 'مودبانه': 894, 'میگیرن': 895, 'کج': 896, 'یزدی': 897, 'بمونید': 898, 'قیمتی': 899, 'منفی': 900, 'میزنه': 901, 'میگن': 902, 'نشون': 903, 'کتف': 904, 'گرونه': 905, 'اینهمه': 906, 'بریان': 907, 'دونر': 908, 'نقص': 909, 'هربار': 910, 'کسب': 911, 'ارزه': 912, 'بگیره': 913, 'زیبا': 914, 'غیرقابل': 915, 'قدیم': 916, 'مزخرف': 917, 'مشابه': 918, 'پلاک': 919, 'پیکتون': 920, 'کوک': 921, 'جالبه': 922, 'خوشحال': 923, 'زیرو': 924, 'لازانیا': 925, 'متر': 926, 'منتها': 927, 'میگیره': 928, 'نسکافه': 929, 'کشت': 930, 'کلمه': 931, 'اخلاق': 932, 'اینترنتی': 933, 'بذارن': 934, 'تابه': 935, 'توهین': 936, 'خلال': 937, 'درود': 938, 'زندگی': 939, 'محتوی': 940, 'همکار': 941, 'چشم': 942, 'چهل': 943, 'آناناس': 944, 'رساند': 945, 'نیس': 946, 'واقعن': 947, 'گذشت': 948, 'اضافی': 949, 'باتوجه': 950, 'بدستمون': 951, 'حل': 952, 'ردیف': 953, 'زشت': 954, 'شامل': 955, 'ندید': 956, 'چسب': 957, 'چیزکیک': 958, 'آلپارو': 959, 'بگید': 960, 'تاثیر': 961, 'تومانی': 962, 'تیره': 963, 'رسوند': 964, 'میدونم': 965, 'کمال': 966, 'گل': 967, 'اعتبار': 968, 'تولد': 969, 'حالیکه': 970, 'خریداری': 971, 'زردچوبه': 972, 'صفر': 973, 'عددی': 974, 'عذرخواهی': 975, 'متنوع': 976, 'گاز': 977, 'اونقدر': 978, 'ایران': 979, 'تاحالا': 980, 'تصور': 981, 'سانت': 982, 'میخوام': 983, 'بطری': 984, 'تره': 985, 'تعیین': 986, 'توجیه': 987, 'جعفری': 988, 'خرما': 989, 'دلیوری': 990, 'رفتاری': 991, 'زخم': 992, 'سرده': 993, 'غالب': 994, 'ندادن': 995, 'ندار': 996, 'کش': 997, 'کچاپ': 998, 'اخر': 999, 'بخوره': 1000, 'بوقلمون': 1001, 'خودمون': 1002, 'منظم': 1003, 'کودک': 1004, 'گردید': 1005, 'اذیت': 1006, 'خوشمزگی': 1007, 'ربط': 1008, 'ردولوت': 1009, 'زحمات': 1010, 'زولبیا': 1011, 'سانتی': 1012, 'فکری': 1013, 'آجیل': 1014, 'ایجاد': 1015, 'بدلیل': 1016, 'جان': 1017, 'جنسی': 1018, 'محتوا': 1019, 'موهیتو': 1020, 'مکزیکی': 1021, 'نرسیده': 1022, 'چای': 1023, 'کشیده': 1024, 'تزیین': 1025, 'حسابی': 1026, 'رول': 1027, 'سیبزمینی': 1028, 'صبح': 1029, 'فریزر': 1030, 'ممکنه': 1031, 'الکی': 1032, 'اوکی': 1033, 'بخوام': 1034, 'بزارن': 1035, 'دائم': 1036, 'ساله': 1037, 'صورتیکه': 1038, 'طبیعی': 1039, 'ماشروم': 1040, 'معرکه': 1041, 'موسیر': 1042, 'هاشون': 1043, 'کته': 1044, 'گذاشتین': 1045, 'آشپز': 1046, 'اسپرایت': 1047, 'انگشت': 1048, 'برگشت': 1049, 'رفتن': 1050, 'رقیق': 1051, 'شک': 1052, 'شیری': 1053, 'نزدیکی': 1054, 'کوپن': 1055, 'کوچیکه': 1056, 'آنلاین': 1057, 'اندازش': 1058, 'براش': 1059, 'تافتون': 1060, 'تجدید': 1061, 'تلفن': 1062, 'خدمت': 1063, 'خون': 1064, 'دانه': 1065, 'سختی': 1066, 'سفارشو': 1067, 'فرایز': 1068, 'قبولی': 1069, 'پشیمونم': 1070, 'پیاده': 1071, 'گرما': 1072, 'اشکال': 1073, 'افتاد': 1074, 'ایده': 1075, 'خیییلی': 1076, 'دوما': 1077, 'زودفود': 1078, 'صرف': 1079, 'عااااالی': 1080, 'فالوده': 1081, 'مرد': 1082, 'مهمه': 1083, 'نارضایتی': 1084, 'نمیکنه': 1085, 'نگذاشته': 1086, 'کسری': 1087, 'افزوده': 1088, 'براشون': 1089, 'بودو': 1090, 'بیسکویت': 1091, 'تایی': 1092, 'تذکر': 1093, 'جبران': 1094, 'مثله': 1095, 'مسئول': 1096, 'میکشه': 1097, 'نمیکنن': 1098, 'چندبار': 1099, 'کنسل': 1100, 'کوچیکتر': 1101, 'گرسنه': 1102, 'آیتم': 1103, 'تایید': 1104, 'حیفه': 1105, 'دستکش': 1106, 'سویا': 1107, 'شیشه': 1108, 'طلایی': 1109, 'عالیییی': 1110, 'لپه': 1111, 'مشخصا': 1112, 'معطل': 1113, 'میدادن': 1114, 'نتونستیم': 1115, 'نرمال': 1116, 'ویتامینه': 1117, 'آدامس': 1118, 'خوشمزس': 1119, 'ریحان': 1120, 'شناخت': 1121, 'ضعف': 1122, 'طالبی': 1123, 'عسل': 1124, 'قائل': 1125, 'نارنج': 1126, 'نتیجه': 1127, 'نمیده': 1128, 'هماهنگ': 1129, 'پرملات': 1130, 'پستو': 1131, 'کافه': 1132, 'کریسپی': 1133, 'بعیده': 1134, 'لحظه': 1135, 'مصرفی': 1136, 'موتوری': 1137, 'نوشتن': 1138, 'هدیه': 1139, 'پارتی': 1140, 'پاسخ': 1141, 'پایینه': 1142, 'کارشون': 1143, 'کلام': 1144, 'آبدار': 1145, 'اسنک': 1146, 'انبه': 1147, 'بگیرن': 1148, 'جذاب': 1149, 'دنبال': 1150, 'زعفرانی': 1151, 'سنگ': 1152, 'عجله': 1153, 'مشکی': 1154, 'مطمئن': 1155, 'مقوا': 1156, 'منصفانه': 1157, 'موند': 1158, 'میکنین': 1159, 'والا': 1160, 'کیفی': 1161, 'آمریکایی': 1162, 'انتخابی': 1163, 'بررسی': 1164, 'بوود': 1165, 'سایزش': 1166, 'فشار': 1167, 'مخلفاتش': 1168, 'معنی': 1169, 'ناهار': 1170, 'باربیکیو': 1171, 'برنامه': 1172, 'برگراتور': 1173, 'تبریک': 1174, 'خریده': 1175, 'خیلییییی': 1176, 'دیپ': 1177, 'قند': 1178, 'میاره': 1179, 'پولشو': 1180, 'چاقو': 1181, 'کرنبری': 1182, 'ارزان': 1183, 'ایشون': 1184, 'بذارین': 1185, 'بش': 1186, 'خیابون': 1187, 'دنیا': 1188, 'راننده': 1189, 'ریش': 1190, 'زنده': 1191, 'سلامت': 1192, 'شماره': 1193, 'علاقه': 1194, 'فروشنده': 1195, 'متریال': 1196, 'مربا': 1197, 'مربوط': 1198, 'نظیره': 1199, 'نیستن': 1200, 'پکیج': 1201, 'چجوری': 1202, 'گوشه': 1203, 'انصاف': 1204, 'اپلیکیشن': 1205, 'بست': 1206, 'بشن': 1207, 'جلب': 1208, 'دارای': 1209, 'رویه': 1210, 'ساختمان': 1211, 'سوراخ': 1212, 'شله': 1213, 'غضروف': 1214, 'معده': 1215, 'مناسبه': 1216, 'نامی': 1217, 'نشاط': 1218, 'هزارتومن': 1219, 'هلو': 1220, 'وحشتناک': 1221, 'وخوشمزه': 1222, 'وسایل': 1223, 'پرداختی': 1224, 'چانو': 1225, 'گاردن': 1226, 'افتضاحه': 1227, 'اینقد': 1228, 'بری': 1229, 'بزنن': 1230, 'بفرستین': 1231, 'خارجی': 1232, 'دائمی': 1233, 'دکتر': 1234, 'رون': 1235, 'زهم': 1236, 'سمت': 1237, 'فانتا': 1238, 'مارگاریتا': 1239, 'مشخصه': 1240, 'معقول': 1241, 'میزنن': 1242, 'نزاشته': 1243, 'کاکائو': 1244, 'کاکائویی': 1245, 'کیفیتشون': 1246, 'اتفاقی': 1247, 'استاندارد': 1248, 'اقا': 1249, 'امد': 1250, 'بردن': 1251, 'برده': 1252, 'زعفران': 1253, 'شمع': 1254, 'فشرده': 1255, 'قضیه': 1256, 'مث': 1257, 'میخوره': 1258, 'نظم': 1259, 'وعده': 1260, 'پیام': 1261, 'چیدمان': 1262, 'چیده': 1263, 'کاله': 1264, 'کلفت': 1265, 'گاتا': 1266, 'بافت': 1267, 'برگشته': 1268, 'بزارین': 1269, 'تبدیل': 1270, 'خوبیه': 1271, 'دی': 1272, 'دیش': 1273, 'زننده': 1274, 'ساقه': 1275, 'ماشین': 1276, 'مثه': 1277, 'موعد': 1278, 'نیاورده': 1279, 'کارامل': 1280, 'کامنت': 1281, 'کنسرو': 1282, 'آبلیمو': 1283, 'بزنه': 1284, 'حجیم': 1285, 'حرارت': 1286, 'دامدار': 1287, 'داگش': 1288, 'درستی': 1289, 'صحبت': 1290, 'ظهر': 1291, 'عاااااالی': 1292, 'فودی': 1293, 'مستقیم': 1294, 'نکشیده': 1295, 'همشون': 1296, 'واسم': 1297, 'وتازه': 1298, 'کلوچه': 1299, 'کوکتل': 1300, 'گرد': 1301, 'گوشتی': 1302, 'امده': 1303, 'اولی': 1304, 'تحمل': 1305, 'تقصیر': 1306, 'جرات': 1307, 'سفارشمون': 1308, 'سلامتی': 1309, 'صحیح': 1310, 'فوقالعاده': 1311, 'مابقی': 1312, 'محشر': 1313, 'میگیرین': 1314, 'وافل': 1315, 'ونقل': 1316, 'پائین': 1317, 'پفک': 1318, 'پیتزارو': 1319, 'چلوکباب': 1320, 'چنجه': 1321, 'کرفس': 1322, 'آبگوشت': 1323, 'ارزون': 1324, 'الفردو': 1325, 'ایستک': 1326, 'باهم': 1327, 'بعنوان': 1328, 'تشکیل': 1329, 'حلقه': 1330, 'خامی': 1331, 'خوشایند': 1332, 'خیال': 1333, 'دیواره': 1334, 'شربت': 1335, 'فویل': 1336, 'ماهک': 1337, 'مطمئنا': 1338, 'نخلک': 1339, 'نمیاد': 1340, 'ورق': 1341, 'وقته': 1342, 'پیکشون': 1343, 'کوفته': 1344, 'ابتدا': 1345, 'اتمام': 1346, 'اطمینان': 1347, 'برگرلند': 1348, 'تصمیم': 1349, 'سطل': 1350, 'شام': 1351, 'شامپو': 1352, 'شعور': 1353, 'ظاهری': 1354, 'عامل': 1355, 'مافین': 1356, 'محسوس': 1357, 'موندم': 1358, 'میزارن': 1359, 'نکات': 1360, 'هندوانه': 1361, 'وارد': 1362, 'وهم': 1363, 'پیشرفت': 1364, 'چپ': 1365, 'چیلی': 1366, 'کوی': 1367, 'افراد': 1368, 'ایه': 1369, 'ایکاش': 1370, 'بلد': 1371, 'تن': 1372, 'تیرامیسو': 1373, 'خداقوت': 1374, 'خییییلی': 1375, 'رویال': 1376, 'سابقه': 1377, 'قالب': 1378, 'قطر': 1379, 'مقصد': 1380, 'موفقیت': 1381, 'نمیتونم': 1382, 'همینطوری': 1383, 'چهارم': 1384, 'چیزا': 1385, 'کراکف': 1386, 'کرایه': 1387, 'گیلاس': 1388, 'ید': 1389, 'ابرو': 1390, 'اجازه': 1391, 'اشانتیون': 1392, 'تکون': 1393, 'دفه': 1394, 'دوساعت': 1395, 'سردی': 1396, 'سعادت': 1397, 'سپاسگذارم': 1398, 'شرمنده': 1399, 'متلاشی': 1400, 'مرتبه': 1401, 'میشن': 1402, 'نوستالژی': 1403, 'نگرفته': 1404, 'پرچرب': 1405, 'کارتن': 1406, 'کتل': 1407, 'گوش': 1408, 'انواع': 1409, 'اوردند': 1410, 'بقدری': 1411, 'بهداشت': 1412, 'جابجا': 1413, 'درضمن': 1414, 'دریافتی': 1415, 'درید': 1416, 'سیستم': 1417, 'شاهو': 1418, 'شیراز': 1419, 'عجیبه': 1420, 'قراره': 1421, 'مادر': 1422, 'محاسبه': 1423, 'ندین': 1424, 'ور': 1425, 'پذیرفت': 1426, 'پشیمان': 1427, 'پنجره': 1428, 'چاکلت': 1429, 'چپه': 1430, 'گوساله': 1431, 'آرزو': 1432, 'آویشن': 1433, 'انگیخت': 1434, 'باب': 1435, 'تومنه': 1436, 'حساسیت': 1437, 'دنبه': 1438, 'رفع': 1439, 'ساز': 1440, 'شکیل': 1441, 'شیرنی': 1442, 'صبر': 1443, 'غنچه': 1444, 'لبنیات': 1445, 'ماسک': 1446, 'مایه': 1447, 'معطلی': 1448, 'میذارن': 1449, 'نوش': 1450, 'پاسخگو': 1451, 'پایدار': 1452, 'گردن': 1453, 'ازینجا': 1454, 'اونجا': 1455, 'بکشه': 1456, 'توضیحاتی': 1457, 'جمله': 1458, 'حرکت': 1459, 'دندون': 1460, 'دونفره': 1461, 'راحتی': 1462, 'قیافه': 1463, 'لطیف': 1464, 'مسئولیت': 1465, 'مغایر': 1466, 'میخواد': 1467, 'میدی': 1468, 'نانی': 1469, 'نمیومد': 1470, 'وان': 1471, 'ول': 1472, 'ون': 1473, 'پنه': 1474, 'پیگیر': 1475, 'چکید': 1476, 'چیزایی': 1477, 'کالایی': 1478, 'گودا': 1479, 'آلو': 1480, 'استخون': 1481, 'اقتصادی': 1482, 'انشالله': 1483, 'بازی': 1484, 'جزئ': 1485, 'خوشمزست': 1486, 'ذائقه': 1487, 'رنجید': 1488, 'شاتوت': 1489, 'شیرمال': 1490, 'طرفدار': 1491, 'عالمه': 1492, 'عذا': 1493, 'قطعه': 1494, 'لند': 1495, 'محلی': 1496, 'مرجوع': 1497, 'مرحله': 1498, 'مواجه': 1499, 'نزده': 1500, 'نیمرو': 1501, 'هشت': 1502, 'ورقه': 1503, 'کد': 1504, 'گیاهی': 1505, 'اومدن': 1506, 'اکبرجوجه': 1507, 'بخواد': 1508, 'ترتیب': 1509, 'دومی': 1510, 'دیدن': 1511, 'شعب': 1512, 'شم': 1513, 'عرق': 1514, 'لابی': 1515, 'میرزا': 1516, 'میهن': 1517, 'نکنین': 1518, 'همسایه': 1519, 'وب': 1520, 'پیتزاتون': 1521, 'کارکنان': 1522, 'گرونتر': 1523, 'آسیب': 1524, 'انگاری': 1525, 'اوایل': 1526, 'ایس': 1527, 'اینجانب': 1528, 'ببر': 1529, 'بدطعم': 1530, 'برداشت': 1531, 'بلند': 1532, 'خبر': 1533, 'خوراکی': 1534, 'خوشگل': 1535, 'خیابان': 1536, 'خیلیییییی': 1537, 'رها': 1538, 'شهد': 1539, 'ضخم': 1540, 'قاسمی': 1541, 'قیف': 1542, 'لادن': 1543, 'معذرت': 1544, 'منظور': 1545, 'ناچیز': 1546, 'نمایید': 1547, 'نیومده': 1548, 'هاست': 1549, 'ولرم': 1550, 'پا': 1551, 'پرتغال': 1552, 'کلاسیک': 1553, 'ین': 1554, 'یود': 1555, 'ازا': 1556, 'بقیش': 1557, 'ترکیده': 1558, 'جوی': 1559, 'حجمشم': 1560, 'خانه': 1561, 'دون': 1562, 'دیزاین': 1563, 'سبد': 1564, 'سینی': 1565, 'شوری': 1566, 'طوریکه': 1567, 'قضا': 1568, 'مراجعه': 1569, 'مرطوب': 1570, 'معمولیه': 1571, 'مقوایی': 1572, 'نذاشتن': 1573, 'نظارت': 1574, 'هزارتومان': 1575, 'وبه': 1576, 'وخیلی': 1577, 'چاشنی': 1578, 'چهارتا': 1579, 'ژله': 1580, 'کاراملی': 1581, 'کاملن': 1582, 'یادداشت': 1583, 'ابمیوه': 1584, 'ارایه': 1585, 'استپ': 1586, 'بازار': 1587, 'بالاس': 1588, 'برطرف': 1589, 'بشود': 1590, 'بهبود': 1591, 'تونستم': 1592, 'جذب': 1593, 'خودشو': 1594, 'دبل': 1595, 'دودی': 1596, 'دچار': 1597, 'ذغال': 1598, 'راد': 1599, 'سیم': 1600, 'شخصه': 1601, 'شخصی': 1602, 'شخصیت': 1603, 'شیره': 1604, 'عالییییی': 1605, 'غلیظ': 1606, 'فرد': 1607, 'فودپارتی': 1608, 'فیش': 1609, 'مشتریتون': 1610, 'معرفی': 1611, 'میزارید': 1612, 'ناخوشایند': 1613, 'نباشین': 1614, 'نقطه': 1615, 'نودل': 1616, 'هالوپ': 1617, 'همونطور': 1618, 'کسر': 1619, 'گلاب': 1620, 'گم': 1621, 'گوسفندی': 1622, 'استوا': 1623, 'اعتراض': 1624, 'اینجور': 1625, 'بابا': 1626, 'باماهاس': 1627, 'بزرگی': 1628, 'بعلت': 1629, 'بگیرین': 1630, 'جفت': 1631, 'دما': 1632, 'دن': 1633, 'دومه': 1634, 'شروع': 1635, 'غذاهاشون': 1636, 'متری': 1637, 'مهمونم': 1638, 'موس': 1639, 'میلی': 1640, 'نارنگی': 1641, 'ناپلونی': 1642, 'نزدیکه': 1643, 'نمود': 1644, 'نمیخوره': 1645, 'هسته': 1646, 'واس': 1647, 'وظیفه': 1648, 'چندمه': 1649, 'چوب': 1650, 'چینش': 1651, 'چیکار': 1652, 'کترینگ': 1653, 'کیفیته': 1654, 'آبپز': 1655, 'ابدا': 1656, 'البالو': 1657, 'بااینکه': 1658, 'بایست': 1659, 'بعداز': 1660, 'بک': 1661, 'تبلیغ': 1662, 'جم': 1663, 'حلالتون': 1664, 'درصورتی': 1665, 'دوره': 1666, 'روزی': 1667, 'زشته': 1668, 'سود': 1669, 'سومین': 1670, 'فرصت': 1671, 'فوری': 1672, 'قیمتشم': 1673, 'محض': 1674, 'مسئله': 1675, 'معروف': 1676, 'مچاله': 1677, 'میتونید': 1678, 'میکردین': 1679, 'نمونه': 1680, 'همبرگرش': 1681, 'همشو': 1682, 'کسایی': 1683, 'آینده': 1684, 'ار': 1685, 'ارد': 1686, 'اوردین': 1687, 'اونو': 1688, 'اینکار': 1689, 'بخشید': 1690, 'بدبو': 1691, 'بووود': 1692, 'بیان': 1693, 'تزئین': 1694, 'تقاضا': 1695, 'جمعه': 1696, 'حاوی': 1697, 'حدودی': 1698, 'خشکه': 1699, 'خییلی': 1700, 'درحالی': 1701, 'دهان': 1702, 'راجع': 1703, 'رسه': 1704, 'سفارشمو': 1705, 'شکری': 1706, 'طرح': 1707, 'عالیییییی': 1708, 'عذر': 1709, 'غرق': 1710, 'مالیده': 1711, 'محیط': 1712, 'مزمز': 1713, 'مشاهده': 1714, 'مطابقت': 1715, 'میدونستم': 1716, 'میریزن': 1717, 'نقدی': 1718, 'نمیتونه': 1719, 'نیستید': 1720, 'همینه': 1721, 'وسریع': 1722, 'وعالی': 1723, 'وکیفیت': 1724, 'پرورده': 1725, 'پوشید': 1726, 'کافیه': 1727, 'کوکاکولا': 1728, 'اخیرا': 1729, 'اسفنج': 1730, 'اسلامی': 1731, 'اشاره': 1732, 'اف': 1733, 'اپ': 1734, 'بادوم': 1735, 'بحال': 1736, 'بروکلی': 1737, 'تعطیل': 1738, 'جدیدی': 1739, 'جوجش': 1740, 'خاک': 1741, 'دسته': 1742, 'دلخواه': 1743, 'روزه': 1744, 'سزارش': 1745, 'سمبوسه': 1746, 'شانس': 1747, 'شرینی': 1748, 'ضخامت': 1749, 'فرم': 1750, 'فلافل': 1751, 'قیمتا': 1752, 'لا': 1753, 'مبین': 1754, 'متفاوته': 1755, 'مرغشم': 1756, 'مشتریه': 1757, 'مون': 1758, 'میبره': 1759, 'میفرسته': 1760, 'نامرتب': 1761, 'نامطلوب': 1762, 'ندم': 1763, 'نذارید': 1764, 'نفری': 1765, 'نمکی': 1766, 'هردفعه': 1767, 'هزینش': 1768, 'کال': 1769, 'کمبود': 1770, 'کنده': 1771, 'آپ': 1772, 'ابعاد': 1773, 'احتمال': 1774, 'اعلامی': 1775, 'اونا': 1776, 'باریک': 1777, 'بردار': 1778, 'بریزه': 1779, 'بغل': 1780, 'تشخیص': 1781, 'جوش': 1782, 'خانم': 1783, 'خو': 1784, 'درک': 1785, 'رمضان': 1786, 'روکش': 1787, 'زیره': 1788, 'سرکه': 1789, 'سفارس': 1790, 'شمس': 1791, 'شنیده': 1792, 'عودت': 1793, 'فایده': 1794, 'قاعدتا': 1795, 'ماکارانی': 1796, 'ماکروفر': 1797, 'مساله': 1798, 'مقرر': 1799, 'میمونه': 1800, 'نصفشو': 1801, 'هدر': 1802, 'هرچیزی': 1803, 'وبا': 1804, 'ویفر': 1805, 'پاشیده': 1806, 'پوشش': 1807, 'پیامک': 1808, 'کشیدن': 1809, 'کناره': 1810, 'کنتاکی': 1811, 'کهنگی': 1812, 'کوتاهی': 1813, 'آروستو': 1814, 'آشنا': 1815, 'اسفنجی': 1816, 'اونها': 1817, 'ایشالا': 1818, 'بریزن': 1819, 'بسیااااار': 1820, 'بسیاااار': 1821, 'بعدشم': 1822, 'تقدیر': 1823, 'تونس': 1824, 'تونم': 1825, 'تونه': 1826, 'تیاکو': 1827, 'خالص': 1828, 'خرم': 1829, 'خشکی': 1830, 'خوبن': 1831, 'داشتین': 1832, 'زنجبیل': 1833, 'سوخت': 1834, 'شلوغی': 1835, 'صابون': 1836, 'ضربه': 1837, 'ضرر': 1838, 'عاالی': 1839, 'فدای': 1840, 'فسنجان': 1841, 'فسنجون': 1842, 'قلمکار': 1843, 'لاته': 1844, 'لبه': 1845, 'مابه': 1846, 'محسوب': 1847, 'مخلفاتی': 1848, 'نابود': 1849, 'ناگت': 1850, 'نعنا': 1851, 'نمیدن': 1852, 'نونوایی': 1853, 'نگین': 1854, 'نیازی': 1855, 'هیچکدوم': 1856, 'وضعشه': 1857, 'پاپ': 1858, 'پذیرایی': 1859, 'پله': 1860, 'پپسی': 1861, 'چینی': 1862, 'کارت': 1863, 'کاپوچینو': 1864, 'کران': 1865, 'کله': 1866, 'اساس': 1867, 'اسانسور': 1868, 'امریکایی': 1869, 'انگور': 1870, 'اینسری': 1871, 'بخار': 1872, 'بزنین': 1873, 'بهار': 1874, 'بوووود': 1875, 'بپزه': 1876, 'بگن': 1877, 'تابحال': 1878, 'حسن': 1879, 'حین': 1880, 'خرده': 1881, 'خوندم': 1882, 'خیییییلی': 1883, 'دنی': 1884, 'دورچینی': 1885, 'رنگی': 1886, 'زحماتتون': 1887, 'سرما': 1888, 'سفر': 1889, 'سنگگ': 1890, 'شلوغ': 1891, 'شکم': 1892, 'قدیما': 1893, 'ماکارون': 1894, 'مثال': 1895, 'مر': 1896, 'مشتریشون': 1897, 'مهمونام': 1898, 'موجب': 1899, 'میذارید': 1900, 'نریخته': 1901, 'نمیتونید': 1902, 'نکنن': 1903, 'هیجان': 1904, 'وضعیه': 1905, 'پیترا': 1906, 'پیتزاهاتون': 1907, 'پیچیده': 1908, 'کادر': 1909, 'گندم': 1910, 'آدمو': 1911, 'آلومینیوم': 1912, 'اسمشو': 1913, 'اسپ': 1914, 'اصرار': 1915, 'انلاین': 1916, 'بخور': 1917, 'بدستمان': 1918, 'بطوریکه': 1919, 'بفرسته': 1920, 'بورانی': 1921, 'بینی': 1922, 'ترکیبی': 1923, 'تکان': 1924, 'جوسی': 1925, 'حضور': 1926, 'حوصله': 1927, 'خرج': 1928, 'خردل': 1929, 'دلشون': 1930, 'دیدار': 1931, 'دیقه': 1932, 'رساندن': 1933, 'رود': 1934, 'ریال': 1935, 'زباله': 1936, 'زیادیه': 1937, 'سورپرایز': 1938, 'طعمشو': 1939, 'عالین': 1940, 'فیلیپر': 1941, 'قرص': 1942, 'لانجین': 1943, 'مراتب': 1944, 'منه': 1945, 'منوتون': 1946, 'مهمانی': 1947, 'میرزاقاسمی': 1948, 'میز': 1949, 'میکردن': 1950, 'ننوشته': 1951, 'نپ': 1952, 'همکاری': 1953, 'هیولا': 1954, 'وزیری': 1955, 'پارک': 1956, 'ژامبونش': 1957, 'کرمدار': 1958, 'کلن': 1959, 'کوبیدش': 1960, 'کوفت': 1961, 'یادتون': 1962, 'التفاوت': 1963, 'انتقال': 1964, 'اکلر': 1965, 'بدک': 1966, 'برات': 1967, 'برگرده': 1968, 'بسیااار': 1969, 'بشقاب': 1970, 'بطوری': 1971, 'بهمون': 1972, 'بکنه': 1973, 'بیخود': 1974, 'بیشتره': 1975, 'تلاش': 1976, 'خاست': 1977, 'خاطره': 1978, 'خنده': 1979, 'داشتنی': 1980, 'دمشون': 1981, 'دندان': 1982, 'دورچینش': 1983, 'زعفرون': 1984, 'ساعتی': 1985, 'سروقت': 1986, 'شخص': 1987, 'شرکتی': 1988, 'شکایت': 1989, 'ضد': 1990, 'طلب': 1991, 'قبوله': 1992, 'لک': 1993, 'ماهیچه': 1994, 'محصولاتتون': 1995, 'میزاره': 1996, 'نظری': 1997, 'نمو': 1998, 'نیفتاده': 1999, 'همسر': 2000, 'واصلا': 2001, 'پرتقالی': 2002, 'پنجاه': 2003, 'پیتزاشون': 2004, 'چنتا': 2005, 'چنگ': 2006, 'چیزه': 2007, 'کاسه': 2008, 'کمبو': 2009, 'ابکی': 2010, 'اجناسی': 2011, 'اسموکی': 2012, 'اسنپفود': 2013, 'اطلاعات': 2014, 'اعصاب': 2015, 'العادس': 2016, 'انجیر': 2017, 'اوردید': 2018, 'اوقات': 2019, 'ایتالیا': 2020, 'بتونه': 2021, 'بحث': 2022, 'برج': 2023, 'برداشته': 2024, 'بینظیره': 2025, 'حالمون': 2026, 'خانگی': 2027, 'خواهشمند': 2028, 'خوبشون': 2029, 'زنجیره': 2030, 'سفیده': 2031, 'سو': 2032, 'سولدوش': 2033, 'سون': 2034, 'شفارش': 2035, 'شوکه': 2036, 'عصر': 2037, 'غذاست': 2038, 'فندق': 2039, 'قطع': 2040, 'قول': 2041, 'لازمه': 2042, 'ماری': 2043, 'متعجب': 2044, 'مشکلات': 2045, 'ناچار': 2046, 'نصب': 2047, 'نقد': 2048, 'نهار': 2049, 'نوار': 2050, 'نوشتین': 2051, 'همخوانی': 2052, 'همینجور': 2053, 'هوس': 2054, 'واقعیت': 2055, 'وخسته': 2056, 'پرت': 2057, 'چدار': 2058, 'کوچکی': 2059, 'کوکو': 2060, 'گلو': 2061, 'آبی': 2062, 'ارزونتر': 2063, 'اسنب': 2064, 'اصطلاح': 2065, 'اصلااا': 2066, 'ایندفه': 2067, 'بارون': 2068, 'باریه': 2069, 'بختیاری': 2070, 'برتولی': 2071, 'بهروش': 2072, 'بودولی': 2073, 'بوکا': 2074, 'بیارین': 2075, 'بیمارستان': 2076, 'تواضع': 2077, 'جایزه': 2078, 'دونفر': 2079, 'راهی': 2080, 'روال': 2081, 'زمانبندی': 2082, 'ساق': 2083, 'سوپرمارکتی': 2084, 'شیرکاکائو': 2085, 'صدا': 2086, 'صف': 2087, 'عااااااالی': 2088, 'عادت': 2089, 'عصبانی': 2090, 'فراهم': 2091, 'مامور': 2092, 'ماهشام': 2093, 'مثلث': 2094, 'مسخره': 2095, 'مشهود': 2096, 'مچکرم': 2097, 'مک': 2098, 'میشید': 2099, 'میفرستادن': 2100, 'نریزه': 2101, 'نشدن': 2102, 'نفرستادین': 2103, 'پرحجم': 2104, 'پولمو': 2105, 'کرونا': 2106, 'کمک': 2107, 'کورن': 2108, 'کینوا': 2109, 'گرونی': 2110, 'آلمانی': 2111, 'آوردین': 2112, 'اجیل': 2113, 'اخرم': 2114, 'اقدام': 2115, 'امان': 2116, 'بتونی': 2117, 'بخورن': 2118, 'برید': 2119, 'بیسکوئیت': 2120, 'تاخییر': 2121, 'ترک': 2122, 'تماسی': 2123, 'توو': 2124, 'تکمیل': 2125, 'ثانیه': 2126, 'جویده': 2127, 'حبوبات': 2128, 'دردنکنه': 2129, 'رستورانا': 2130, 'روبرو': 2131, 'روژان': 2132, 'زغال': 2133, 'ساعتو': 2134, 'سبزیجاتش': 2135, 'ستارخان': 2136, 'سفارشام': 2137, 'سفیر': 2138, 'شامی': 2139, 'شاهد': 2140, 'شایست': 2141, 'فانتزی': 2142, 'فرض': 2143, 'فعال': 2144, 'لذید': 2145, 'مبارک': 2146, 'معطر': 2147, 'مه': 2148, 'مهدی': 2149, 'موبایل': 2150, 'میتونستم': 2151, 'میخواین': 2152, 'میشیم': 2153, 'میهمان': 2154, 'نحوی': 2155, 'نرفته': 2156, 'نقاط': 2157, 'نیشکر': 2158, 'هرروز': 2159, 'همونی': 2160, 'چقد': 2161, 'چکیده': 2162, 'کارخونه': 2163, 'کاسته': 2164, 'کالزون': 2165, 'کاپ': 2166, 'کیفیتشم': 2167, 'کیفیتو': 2168, 'گشنه': 2169, 'گلابی': 2170, 'گله': 2171, 'یخی': 2172, 'یکسان': 2173, 'آغشته': 2174, 'آفرین': 2175, 'آوره': 2176, 'ابلیمو': 2177, 'اسراف': 2178, 'اغراق': 2179, 'الکل': 2180, 'اینکارو': 2181, 'بااین': 2182, 'بخدا': 2183, 'برنجشم': 2184, 'برگه': 2185, 'بریز': 2186, 'بزارم': 2187, 'بزاره': 2188, 'بزرگه': 2189, 'بلک': 2190, 'بمب': 2191, 'ترافیک': 2192, 'تریاک': 2193, 'تقسیم': 2194, 'تهوع': 2195, 'توز': 2196, 'جایگزینی': 2197, 'خشخاش': 2198, 'خط': 2199, 'دوتاش': 2200, 'دوستانی': 2201, 'راند': 2202, 'رقم': 2203, 'زبون': 2204, 'زیست': 2205, 'سخاری': 2206, 'سیسیل': 2207, 'شنیسل': 2208, 'شیرینیا': 2209, 'قابلیت': 2210, 'قشنگی': 2211, 'قطره': 2212, 'قیمتشون': 2213, 'محصولاتی': 2214, 'مریزاد': 2215, 'مشما': 2216, 'مهمونی': 2217, 'میتونن': 2218, 'میذاشتن': 2219, 'میگفتن': 2220, 'نایب': 2221, 'نمیارزه': 2222, 'نونا': 2223, 'نیاوردند': 2224, 'هایپ': 2225, 'هایپر': 2226, 'هل': 2227, 'وبسیار': 2228, 'وحشتناکی': 2229, 'وسیله': 2230, 'پارسی': 2231, 'پایان': 2232, 'پایه': 2233, 'پرکنجد': 2234, 'پلاس': 2235, 'پیشه': 2236, 'پیچید': 2237, 'کشه': 2238, 'کنافه': 2239, 'کیفیتشو': 2240, 'گرفتین': 2241, 'یذره': 2242, 'یلدا': 2243, 'آزار': 2244, 'آسمون': 2245, 'آفتابگردان': 2246, 'ابدار': 2247, 'احتیاج': 2248, 'احسن': 2249, 'ادمو': 2250, 'ارزشی': 2251, 'ارسالتون': 2252, 'اشتها': 2253, 'اه': 2254, 'بانش': 2255, 'ببره': 2256, 'بدنبود': 2257, 'بدونه': 2258, 'برخوردشون': 2259, 'بردارید': 2260, 'بلا': 2261, 'بهرحال': 2262, 'بگه': 2263, 'تاپ': 2264, 'تخفیفا': 2265, 'تندوری': 2266, 'تونید': 2267, 'جابجایی': 2268, 'جویدن': 2269, 'خالیه': 2270, 'خداوکیلی': 2271, 'خوام': 2272, 'خیلییییییی': 2273, 'داغه': 2274, 'دختر': 2275, 'درهم': 2276, 'دستور': 2277, 'دلپذیر': 2278, 'دورو': 2279, 'رخ': 2280, 'رستورانتون': 2281, 'رژیم': 2282, 'زحم': 2283, 'سن': 2284, 'عالیتون': 2285, 'فریز': 2286, 'فندقی': 2287, 'لاریسا': 2288, 'ماشینی': 2289, 'مقصر': 2290, 'ملت': 2291, 'مهلت': 2292, 'موجوده': 2293, 'نزارید': 2294, 'نفرستین': 2295, 'نمیرسه': 2296, 'نگران': 2297, 'نگهداری': 2298, 'نیود': 2299, 'هروقت': 2300, 'ولو': 2301, 'ومزه': 2302, 'پارسه': 2303, 'پاسداران': 2304, 'پره': 2305, 'پپرونیش': 2306, 'پیازچه': 2307, 'پیشنهادی': 2308, 'چایی': 2309, 'چربه': 2310, 'کارخانه': 2311, 'کارو': 2312, 'کرمی': 2313, 'گاردینو': 2314, 'گرسنگی': 2315, 'گرمه': 2316, 'گزارد': 2317, 'اجزا': 2318, 'اخری': 2319, 'ادعا': 2320, 'ازشما': 2321, 'ازون': 2322, 'اسانس': 2323, 'اسباب': 2324, 'اسرع': 2325, 'اسپری': 2326, 'اشترودل': 2327, 'اقلامی': 2328, 'انداختن': 2329, 'ایستاد': 2330, 'بالاتره': 2331, 'براون': 2332, 'برگردونید': 2333, 'بسیارعالی': 2334, 'بهانه': 2335, 'تبلیغات': 2336, 'تفت': 2337, 'تنده': 2338, 'توانایی': 2339, 'خدماتتون': 2340, 'دستی': 2341, 'رویی': 2342, 'زیبایی': 2343, 'ساندیچ': 2344, 'شارژ': 2345, 'شایسته': 2346, 'شلوغه': 2347, 'صبحونه': 2348, 'صدر': 2349, 'عاااااااالی': 2350, 'فیل': 2351, 'قدردانی': 2352, 'قدم': 2353, 'قلب': 2354, 'قندی': 2355, 'لاستیکی': 2356, 'لباسشویی': 2357, 'لغو': 2358, 'ماله': 2359, 'متنفر': 2360, 'مداریتون': 2361, 'مرغه': 2362, 'منحصر': 2363, 'منکه': 2364, 'میخواید': 2365, 'میذاشتید': 2366, 'میزاشتن': 2367, 'میفته': 2368, 'نحو': 2369, 'نعناع': 2370, 'نیستی': 2371, 'همبر': 2372, 'واقا': 2373, 'وقتا': 2374, 'وگرم': 2375, 'پاپا': 2376, 'پذیرش': 2377, 'پف': 2378, 'چوپ': 2379, 'کراسان': 2380, 'گردیده': 2381, 'یهو': 2382, 'یونانی': 2383, 'یی': 2384, 'آشپزخانه': 2385, 'آلود': 2386, 'ادبی': 2387, 'ازینکه': 2388, 'اسکوپ': 2389, 'افتصاح': 2390, 'افزار': 2391, 'الپارو': 2392, 'انداختمش': 2393, 'انسان': 2394, 'اژدها': 2395, 'اگ': 2396, 'باتری': 2397, 'بارن': 2398, 'باع': 2399, 'باوجود': 2400, 'بتونم': 2401, 'بتونید': 2402, 'بذاره': 2403, 'برچسب': 2404, 'بلو': 2405, 'بلوط': 2406, 'بنویسن': 2407, 'تطابق': 2408, 'تمشک': 2409, 'جانب': 2410, 'جردن': 2411, 'حلال': 2412, 'خوده': 2413, 'دومینو': 2414, 'رازی': 2415, 'روند': 2416, 'ریزه': 2417, 'سانویچ': 2418, 'سفارشا': 2419, 'شست': 2420, 'شمارو': 2421, 'شن': 2422, 'شوره': 2423, 'طعمشم': 2424, 'طعمشون': 2425, 'طعمه': 2426, 'ظرفشویی': 2427, 'عالیس': 2428, 'غدای': 2429, 'غذامون': 2430, 'غیره': 2431, 'ففط': 2432, 'فودم': 2433, 'قاچ': 2434, 'قیمتاتون': 2435, 'لاکتوز': 2436, 'لوازم': 2437, 'لیموناد': 2438, 'محدود': 2439, 'مرغتون': 2440, 'مریض': 2441, 'مناسفانه': 2442, 'منجمد': 2443, 'منع': 2444, 'مهمونا': 2445, 'مکان': 2446, 'میدونه': 2447, 'نستله': 2448, 'نونشم': 2449, 'همخونی': 2450, 'همینجا': 2451, 'واریز': 2452, 'واینکه': 2453, 'وخوش': 2454, 'ودر': 2455, 'پارمزان': 2456, 'پارچه': 2457, 'پچ': 2458, 'پیزا': 2459, 'چرخکرده': 2460, 'چیزفود': 2461, 'کرن': 2462, 'کچاب': 2463, 'گره': 2464, 'گیشا': 2465, 'یخورده': 2466, 'یوسف': 2467, 'یکنفره': 2468, 'آبرومون': 2469, 'آرتین': 2470, 'آشپزی': 2471, 'ابگوشت': 2472, 'اخذ': 2473, 'اسیب': 2474, 'اشپز': 2475, 'اصلاااا': 2476, 'العادست': 2477, 'انتقادی': 2478, 'اونایی': 2479, 'اونچه': 2480, 'اپراتور': 2481, 'باحال': 2482, 'بارونی': 2483, 'برسونید': 2484, 'بلوبری': 2485, 'بمونین': 2486, 'بنا': 2487, 'بنویسین': 2488, 'بهترینه': 2489, 'بهمراه': 2490, 'بکنن': 2491, 'تبریز': 2492, 'تهچین': 2493, 'توپ': 2494, 'تکلیف': 2495, 'جابه': 2496, 'حساس': 2497, 'حقیقت': 2498, 'خواند': 2499, 'خوشمره': 2500, 'خوشمزتون': 2501, 'داگی': 2502, 'درصدی': 2503, 'دستشویی': 2504, 'دیوار': 2505, 'ذهن': 2506, 'رتبه': 2507, 'روبه': 2508, 'روشون': 2509, 'روهم': 2510, 'رگا': 2511, 'زایید': 2512, 'زرده': 2513, 'ساختمون': 2514, 'سرآشپز': 2515, 'سراغ': 2516, 'سره': 2517, 'سفالی': 2518, 'سنجید': 2519, 'سنگینی': 2520, 'شاکی': 2521, 'شنبه': 2522, 'شهرک': 2523, 'شوینده': 2524, 'شگفت': 2525, 'شیرموز': 2526, 'شیوه': 2527, 'صاحب': 2528, 'صفحه': 2529, 'طبیعیه': 2530, 'عرضه': 2531, 'عید': 2532, 'فوت': 2533, 'قزل': 2534, 'مامان': 2535, 'مبنی': 2536, 'متن': 2537, 'مرغا': 2538, 'مزگی': 2539, 'مغزپخت': 2540, 'میخوان': 2541, 'میرداماد': 2542, 'میرسونه': 2543, 'میگذره': 2544, 'میگرفتن': 2545, 'نرسه': 2546, 'نزنه': 2547, 'نظارتی': 2548, 'نمیدیم': 2549, 'هاشم': 2550, 'هاشو': 2551, 'همبرگری': 2552, 'وجدان': 2553, 'وداغ': 2554, 'ولیکن': 2555, 'وینستون': 2556, 'ویژگی': 2557, 'پاستیل': 2558, 'پنکیک': 2559, 'پنیرشم': 2560, 'پولتون': 2561, 'کاربر': 2562, 'کت': 2563, 'کیفتش': 2564, 'کیلومتر': 2565, 'گی': 2566, 'آفتاب': 2567, 'اباد': 2568, 'احتیاط': 2569, 'ادامس': 2570, 'ارتباط': 2571, 'استانبول': 2572, 'ایچ': 2573, 'بخورمش': 2574, 'برادر': 2575, 'برسونن': 2576, 'برقرار': 2577, 'بسار': 2578, 'بهمن': 2579, 'بوددد': 2580, 'تشریف': 2581, 'تمیزی': 2582, 'تومنم': 2583, 'تیکش': 2584, 'جلسه': 2585, 'جناب': 2586, 'جوانه': 2587, 'حالمو': 2588, 'حروم': 2589, 'حلوا': 2590, 'خریدار': 2591, 'خمیره': 2592, 'خییییییلی': 2593, 'دایی': 2594, 'دستگاه': 2595, 'دوبرابر': 2596, 'رسپی': 2597, 'زاپاتا': 2598, 'زحمتکش': 2599, 'زن': 2600, 'سفره': 2601, 'سقف': 2602, 'سوس': 2603, 'سوهان': 2604, 'شمال': 2605, 'طراحی': 2606, 'طلبکار': 2607, 'طولانیه': 2608, 'عالییییییی': 2609, 'غول': 2610, 'فعلی': 2611, 'فوود': 2612, 'قجری': 2613, 'لعاب': 2614, 'لی': 2615, 'مبدا': 2616, 'مجزا': 2617, 'محبوب': 2618, 'محله': 2619, 'مضر': 2620, 'مطرح': 2621, 'مطلب': 2622, 'ممتاز': 2623, 'موندن': 2624, 'موکا': 2625, 'میتونین': 2626, 'میذاره': 2627, 'میذاشتین': 2628, 'میریزه': 2629, 'میشین': 2630, 'میفروشن': 2631, 'نارنجی': 2632, 'نایلونی': 2633, 'نتونست': 2634, 'ندن': 2635, 'نذارین': 2636, 'نزنن': 2637, 'نظرمو': 2638, 'نمایش': 2639, 'نمیتونن': 2640, 'نمیخوام': 2641, 'نمیره': 2642, 'نوبت': 2643, 'نود': 2644, 'نکردین': 2645, 'هرحال': 2646, 'هرکدوم': 2647, 'همبرگرها': 2648, 'همونجوری': 2649, 'واژگون': 2650, 'وتشکر': 2651, 'وخوب': 2652, 'وطعم': 2653, 'وغذا': 2654, 'وقعا': 2655, 'وهمچنین': 2656, 'پاچه': 2657, 'پاگشا': 2658, 'پلمپ': 2659, 'پولو': 2660, 'پیروز': 2661, 'پیچ': 2662, 'ژل': 2663, 'گوسفند': 2664, 'گیاه': 2665, 'آموزش': 2666, 'آژانس': 2667, 'ابتدایی': 2668, 'احتساب': 2669, 'اق': 2670, 'انعام': 2671, 'اوج': 2672, 'اومدم': 2673, 'اونجایی': 2674, 'اونوقت': 2675, 'ایتم': 2676, 'بادمجونش': 2677, 'بادنجان': 2678, 'بانک': 2679, 'برداشتن': 2680, 'برسونه': 2681, 'برنجتون': 2682, 'بوش': 2683, 'بیبی': 2684, 'بیماری': 2685, 'بیگ': 2686, 'تخته': 2687, 'تخمین': 2688, 'ترازو': 2689, 'تردی': 2690, 'ترکیبات': 2691, 'تصویری': 2692, 'تمایل': 2693, 'ثابتتون': 2694, 'جلد': 2695, 'جورایی': 2696, 'خلاق': 2697, 'خواب': 2698, 'خووب': 2699, 'خیییییییلی': 2700, 'درصورتیکه': 2701, 'دسترسی': 2702, 'دفرمه': 2703, 'دلتون': 2704, 'دوبل': 2705, 'دومینوز': 2706, 'دیس': 2707, 'راهه': 2708, 'رستورانه': 2709, 'روشن': 2710, 'ریسک': 2711, 'سالامی': 2712, 'سبوسدار': 2713, 'سرشون': 2714, 'سفارشتون': 2715, 'سفتی': 2716, 'شسته': 2717, 'شناور': 2718, 'شوخی': 2719, 'شکست': 2720, 'شیشلیک': 2721, 'شیلای': 2722, 'صنعتی': 2723, 'علامت': 2724, 'غذاشو': 2725, 'غر': 2726, 'فردی': 2727, 'فین': 2728, 'قضاوت': 2729, 'قیطریه': 2730, 'لباس': 2731, 'لحن': 2732, 'لهیده': 2733, 'لواشک': 2734, 'لوکیشن': 2735, 'لکه': 2736, 'مالیاتی': 2737, 'مایل': 2738, 'متاسفام': 2739, 'مسائل': 2740, 'مقادیر': 2741, 'ملایم': 2742, 'منقضی': 2743, 'میذارین': 2744, 'میزنین': 2745, 'نرمی': 2746, 'نقشه': 2747, 'نمیاره': 2748, 'نمیدونستم': 2749, 'نویسم': 2750, 'نگهبان': 2751, 'هدف': 2752, 'هضم': 2753, 'همرو': 2754, 'همونو': 2755, 'هندونه': 2756, 'وسرد': 2757, 'وقتتون': 2758, 'وچنگال': 2759, 'پاپیون': 2760, 'پت': 2761, 'پرسیدن': 2762, 'پشتیبان': 2763, 'پگاه': 2764, 'پیتزاشم': 2765, 'پیتزاهاشون': 2766, 'پیغام': 2767, 'ژاپنی': 2768, 'کشور': 2769, 'کلیز': 2770, 'کوردن': 2771, 'کولا': 2772, 'گاو': 2773, 'گشنگی': 2774, 'یکجا': 2775, 'آبروریزی': 2776, 'اخته': 2777, 'ارتباطی': 2778, 'اساسی': 2779, 'اصلااااا': 2780, 'اظهار': 2781, 'الخصوص': 2782, 'الله': 2783, 'انتظارشو': 2784, 'انتهای': 2785, 'انرژی': 2786, 'انقضائ': 2787, 'اولترا': 2788, 'اویشن': 2789, 'اژدر': 2790, 'اینجوریه': 2791, 'بازه': 2792, 'بذارم': 2793, 'بذاریم': 2794, 'بقیشو': 2795, 'بمن': 2796, 'بندیتون': 2797, 'بودکه': 2798, 'بیس': 2799, 'تاره': 2800, 'تبریزی': 2801, 'تعارف': 2802, 'تعهد': 2803, 'توالت': 2804, 'جعبش': 2805, 'حتا': 2806, 'خبره': 2807, 'خدارو': 2808, 'خریدن': 2809, 'خواد': 2810, 'خورشتش': 2811, 'خیارشورش': 2812, 'دسترس': 2813, 'دلایل': 2814, 'دلو': 2815, 'دنر': 2816, 'دهیتون': 2817, 'رسمی': 2818, 'رنده': 2819, 'رولتی': 2820, 'زمانیکه': 2821, 'زمینیا': 2822, 'ساطور': 2823, 'سالن': 2824, 'ساندویچو': 2825, 'سبب': 2826, 'سرمون': 2827, 'سهل': 2828, 'سوما': 2829, 'شاطر': 2830, 'شعله': 2831, 'شهر': 2832, 'شهریور': 2833, 'ضدعفونی': 2834, 'ضعیفه': 2835, 'عصبانیت': 2836, 'عهده': 2837, 'عیب': 2838, 'غذاهم': 2839, 'غرب': 2840, 'غریب': 2841, 'فاحش': 2842, 'فودهای': 2843, 'قد': 2844, 'قیاس': 2845, 'لطفتون': 2846, 'لف': 2847, 'لوپتو': 2848, 'مارکتی': 2849, 'ماهان': 2850, 'مربوطه': 2851, 'معتبر': 2852, 'مقرون': 2853, 'میارید': 2854, 'میاوردن': 2855, 'میخوایم': 2856, 'میزاشتین': 2857, 'میوفته': 2858, 'ناراحتی': 2859, 'نایلکس': 2860, 'نبات': 2861, 'نرخ': 2862, 'نما': 2863, 'نونشون': 2864, 'هاتداگ': 2865, 'هزینشو': 2866, 'همکارام': 2867, 'همیشگیتون': 2868, 'همینقدر': 2869, 'همینو': 2870, 'هویچ': 2871, 'هپی': 2872, 'واااقعا': 2873, 'واقعااا': 2874, 'وجودی': 2875, 'ود': 2876, 'وضعی': 2877, 'وضوح': 2878, 'ولیعصر': 2879, 'وکیل': 2880, 'وکیوم': 2881, 'پبتزا': 2882, 'پل': 2883, 'پن': 2884, 'پیانو': 2885, 'پیتزاست': 2886, 'چشید': 2887, 'چهارفصل': 2888, 'چورک': 2889, 'چیزاش': 2890, 'چیزیه': 2891, 'کنترل': 2892, 'کوچیکی': 2893, 'کیه': 2894, 'گنده': 2895, 'گورمه': 2896, 'گوله': 2897, 'یازده': 2898, 'یکدست': 2899, 'آپارتمان': 2900, 'آیفون': 2901, 'ابتکار': 2902, 'ابپز': 2903, 'اخلاقی': 2904, 'اداره': 2905, 'استرس': 2906, 'استرپس': 2907, 'اسمارتیز': 2908, 'اشتباهه': 2909, 'اصیل': 2910, 'الآن': 2911, 'الباقی': 2912, 'الشموس': 2913, 'انتقادات': 2914, 'اندک': 2915, 'اوضاع': 2916, 'ایول': 2917, 'باحالی': 2918, 'باسپاس': 2919, 'ببینه': 2920, 'بدند': 2921, 'بریده': 2922, 'بسیا': 2923, 'بعضیا': 2924, 'بهترینید': 2925, 'بودددد': 2926, 'بور': 2927, 'تاسفه': 2928, 'ترم': 2929, 'تلف': 2930, 'تنهایی': 2931, 'تهرانه': 2932, 'توجهتون': 2933, 'تیست': 2934, 'ثابتشون': 2935, 'جامعه': 2936, 'جست': 2937, 'جنگلی': 2938, 'جوره': 2939, 'جون': 2940, 'حبه': 2941, 'خفن': 2942, 'خلاقیت': 2943, 'خور': 2944, 'خورشتی': 2945, 'خوششون': 2946, 'خوشمون': 2947, 'خوووب': 2948, 'درمورد': 2949, 'دروغ': 2950, 'دفتر': 2951, 'دود': 2952, 'دوستام': 2953, 'دوسر': 2954, 'دوسش': 2955, 'دوعدد': 2956, 'راسته': 2957, 'رایحه': 2958, 'ربعه': 2959, 'زاگ': 2960, 'زعفرونی': 2961, 'زیگ': 2962, 'ساک': 2963, 'سرخود': 2964, 'سردبود': 2965, 'سوئ': 2966, 'شاه': 2967, 'شاهکار': 2968, 'شورینی': 2969, 'شیرپسته': 2970, 'صاف': 2971, 'صلاح': 2972, 'طبع': 2973, 'عروسکی': 2974, 'عمان': 2975, 'عمرا': 2976, 'غذاتونو': 2977, 'غذاهارو': 2978, 'غلظت': 2979, 'فرمون': 2980, 'فرهنگ': 2981, 'فضا': 2982, 'فوده': 2983, 'فکرکنم': 2984, 'قبض': 2985, 'قرابیه': 2986, 'قصد': 2987, 'قوی': 2988, 'لابلا': 2989, 'متشخص': 2990, 'متوالی': 2991, 'مجتمع': 2992, 'محصولاتشون': 2993, 'مد': 2994, 'مربع': 2995, 'مز': 2996, 'مزیت': 2997, 'مساوی': 2998, 'موندیم': 2999, 'مکانی': 3000, 'میامد': 3001, 'میتونستن': 3002, 'میشدن': 3003, 'مینو': 3004, 'میکادو': 3005, 'میکشن': 3006, 'نادرست': 3007, 'نباشن': 3008, 'نداشتین': 3009, 'نشن': 3010, 'نصفشم': 3011, 'نطر': 3012, 'نمیدین': 3013, 'نمیگم': 3014, 'نهایی': 3015, 'نونه': 3016, 'نگرفتن': 3017, 'نگیره': 3018, 'نیافتاده': 3019, 'هرچقدر': 3020, 'وافعا': 3021, 'وباکیفیت': 3022, 'وبدون': 3023, 'ورودی': 3024, 'وزنی': 3025, 'ولنجک': 3026, 'وپنیر': 3027, 'وپیک': 3028, 'پارمیدا': 3029, 'پختن': 3030, 'پرفکت': 3031, 'پنبه': 3032, 'پنیره': 3033, 'پوک': 3034, 'پیمون': 3035, 'چن': 3036, 'چوبه': 3037, 'چکه': 3038, 'ژانبون': 3039, 'کاریه': 3040, 'کاست': 3041, 'کبابشم': 3042, 'کلاب': 3043, 'کلافه': 3044, 'کوزه': 3045, 'کول': 3046, 'کیوی': 3047, 'گرامی': 3048, 'گلستان': 3049, 'گوشتشم': 3050, 'گوشی': 3051, 'گیرنده': 3052, 'یو': 3053, 'آتی': 3054, 'آخرشم': 3055, 'آلودگی': 3056, 'آپدیت': 3057, 'ابرومون': 3058, 'ابعادش': 3059, 'اتون': 3060, 'اجبار': 3061, 'ارتقا': 3062, 'اشک': 3063, 'افزون': 3064, 'امر': 3065, 'اناناس': 3066, 'اندرکاران': 3067, 'اندفعه': 3068, 'انکار': 3069, 'اهل': 3070, 'اواخر': 3071, 'اور': 3072, 'اونهم': 3073, 'باشخصیت': 3074, 'بالاترین': 3075, 'بالزامیک': 3076, 'باهاشون': 3077, 'بخونید': 3078, 'برن': 3079, 'برگردوندن': 3080, 'بسیاااااار': 3081, 'بعضیاش': 3082, 'بندیشون': 3083, 'بودد': 3084, 'بووووود': 3085, 'تحسین': 3086, 'تشویق': 3087, 'تلاونگ': 3088, 'تمدید': 3089, 'تنظیم': 3090, 'توجیح': 3091, 'تورو': 3092, 'توروخدا': 3093, 'تیغ': 3094, 'جام': 3095, 'جانبی': 3096, 'جوابگو': 3097, 'جی': 3098, 'جیب': 3099, 'حاصل': 3100, 'حجمشون': 3101, 'حدس': 3102, 'خدای': 3103, 'خلوت': 3104, 'خواهشن': 3105, 'خوبید': 3106, 'خودداری': 3107, 'خودی': 3108, 'خوشبو': 3109, 'داخلی': 3110, 'دان': 3111, 'دایره': 3112, 'درس': 3113, 'دمید': 3114, 'دوازده': 3115, 'دوروز': 3116, 'دوید': 3117, 'دیروقت': 3118, 'راجب': 3119, 'رستورانو': 3120, 'ره': 3121, 'روزا': 3122, 'روگن': 3123, 'زودی': 3124, 'سازگار': 3125, 'سالادتون': 3126, 'سبزیجاتی': 3127, 'ستون': 3128, 'سرایدار': 3129, 'سلاد': 3130, 'سیاهی': 3131, 'سید': 3132, 'سیری': 3133, 'شفاف': 3134, 'شمار': 3135, 'شنزار': 3136, 'صفت': 3137, 'عضو': 3138, 'غذامو': 3139, 'غوره': 3140, 'فرانسه': 3141, 'فرش': 3142, 'فرنی': 3143, 'فروخته': 3144, 'فکنم': 3145, 'قبلن': 3146, 'قرارداد': 3147, 'قیم': 3148, 'قیمتو': 3149, 'لارج': 3150, 'لوله': 3151, 'لیسید': 3152, 'مایکروفر': 3153, 'متفرقه': 3154, 'مجلسی': 3155, 'محشره': 3156, 'مخصوصتون': 3157, 'مدتیه': 3158, 'مرزدار': 3159, 'مرسییی': 3160, 'مره': 3161, 'مشتریاتون': 3162, 'مشتی': 3163, 'مشغول': 3164, 'مغزی': 3165, 'مفهوم': 3166, 'منت': 3167, 'منتقل': 3168, 'میت': 3169, 'میخواستن': 3170, 'میدونید': 3171, 'میرسونن': 3172, 'میموند': 3173, 'میچسبه': 3174, 'نازل': 3175, 'نامنظم': 3176, 'ناپلیونی': 3177, 'نثار': 3178, 'نزاشتن': 3179, 'نزول': 3180, 'نشانه': 3181, 'نشانی': 3182, 'نمیارن': 3183, 'نمیزارن': 3184, 'نمیگیره': 3185, 'نوتلایی': 3186, 'هرسری': 3187, 'هرکی': 3188, 'همونه': 3189, 'هیج': 3190, 'واضح': 3191, 'واقعاااا': 3192, 'وبسته': 3193, 'وحجم': 3194, 'وسالم': 3195, 'وسس': 3196, 'وسیب': 3197, 'وغیر': 3198, 'وممنون': 3199, 'وهمه': 3200, 'وون': 3201, 'وکاملا': 3202, '٪': 3203, 'پتزا': 3204, 'پدر': 3205, 'پرو': 3206, 'پرک': 3207, 'پیتزاشو': 3208, 'پیگیریتون': 3209, 'چاودار': 3210, 'چوبی': 3211, 'چید': 3212, 'چیک': 3213, 'کا': 3214, 'کارا': 3215, 'کلاس': 3216, 'کوئین': 3217, 'کیلومتری': 3218, 'کیلوگرم': 3219, 'گروه': 3220, 'گزارش': 3221, 'گود': 3222, 'گوشته': 3223, 'گوشفیل': 3224, 'گیرن': 3225, 'یبار': 3226, 'یکیشون': 3227, 'آرژانتینی': 3228, 'آقایی': 3229, 'آوران': 3230, 'ابن': 3231, 'اداری': 3232, 'ازاسنپ': 3233, 'استریپسش': 3234, 'اسپرینگ': 3235, 'اصراف': 3236, 'افتتاح': 3237, 'افتضااااح': 3238, 'افته': 3239, 'ال': 3240, 'الهیه': 3241, 'امکانات': 3242, 'اوردم': 3243, 'اوره': 3244, 'اکباتان': 3245, 'ایستاده': 3246, 'اینارو': 3247, 'باتاخیر': 3248, 'بازگشت': 3249, 'باورنکردنی': 3250, 'بت': 3251, 'بحدی': 3252, 'برو': 3253, 'برگردانده': 3254, 'برگردونن': 3255, 'بریون': 3256, 'بزور': 3257, 'بستنیا': 3258, 'بسه': 3259, 'بسیاز': 3260, 'بمون': 3261, 'بمونیم': 3262, 'بناب': 3263, 'بنفش': 3264, 'بهشتی': 3265, 'بهیچ': 3266, 'بوف': 3267, 'بوووووود': 3268, 'بکنین': 3269, 'بیسته': 3270, 'تاریخشون': 3271, 'تایمر': 3272, 'تردیلا': 3273, 'تز': 3274, 'تصحیح': 3275, 'تقریبن': 3276, 'تقریبی': 3277, 'تهی': 3278, 'توصیف': 3279, 'تونستن': 3280, 'تونن': 3281, 'تیک': 3282, 'جرم': 3283, 'جزییات': 3284, 'جنوب': 3285, 'جوید': 3286, 'حتمن': 3287, 'خواهر': 3288, 'خوره': 3289, 'خونمون': 3290, 'خیرتون': 3291, 'دخترانه': 3292, 'دراومده': 3293, 'دستام': 3294, 'دفع': 3295, 'دلنشین': 3296, 'دویست': 3297, 'دیرکرد': 3298, 'ذارن': 3299, 'راصی': 3300, 'راهنمایی': 3301, 'رز': 3302, 'رسم': 3303, 'رقیب': 3304, 'روبروی': 3305, 'رگ': 3306, 'زشتی': 3307, 'زمخت': 3308, 'سالادشم': 3309, 'سامانه': 3310, 'سفارشاتی': 3311, 'سلفون': 3312, 'سوزونده': 3313, 'سوپرایز': 3314, 'سیامک': 3315, 'سیراب': 3316, 'شاد': 3317, 'صحنه': 3318, 'صمیمانه': 3319, 'صیفی': 3320, 'ضحم': 3321, 'طلا': 3322, 'عاااالیه': 3323, 'عصاره': 3324, 'عفونی': 3325, 'عکسشو': 3326, 'غذاخیلی': 3327, 'فایر': 3328, 'فرستن': 3329, 'فرستین': 3330, 'فرنچ': 3331, 'فرو': 3332, 'فله': 3333, 'فکرشو': 3334, 'قادر': 3335, 'قبلنا': 3336, 'قبله': 3337, 'قرارداده': 3338, 'قیمتاش': 3339, 'لاور': 3340, 'لطفن': 3341, 'لوبیاپلو': 3342, 'لود': 3343, 'مائالشعیر': 3344, 'مارلبرو': 3345, 'مالی': 3346, 'مزشم': 3347, 'مشمع': 3348, 'مطالعه': 3349, 'مفت': 3350, 'مند': 3351, 'مندرج': 3352, 'منصف': 3353, 'موادشم': 3354, 'موقعیت': 3355, 'میارزه': 3356, 'میخوای': 3357, 'میذارم': 3358, 'میریزین': 3359, 'میزدن': 3360, 'میشی': 3361, 'نادیده': 3362, 'نامیا': 3363, 'نخواسته': 3364, 'نخوردن': 3365, 'ندرت': 3366, 'نریزن': 3367, 'نزار': 3368, 'نسب': 3369, 'نمایند': 3370, 'نمیدونن': 3371, 'نمیشید': 3372, 'نمیپ': 3373, 'نمیگن': 3374, 'نمیگیرن': 3375, 'نوستالژیک': 3376, 'نگیرین': 3377, 'هاتونو': 3378, 'هروی': 3379, 'هرکسی': 3380, 'همرا': 3381, 'همونجور': 3382, 'همونطوری': 3383, 'همونم': 3384, 'هوفنبرگ': 3385, 'هیس': 3386, 'وااااقعا': 3387, 'واسمون': 3388, 'واسنپ': 3389, 'واقن': 3390, 'وجی': 3391, 'ونک': 3392, 'پاکستانی': 3393, 'پراز': 3394, 'پلا': 3395, 'پنجم': 3396, 'پولتونو': 3397, 'پژمرده': 3398, 'پیشین': 3399, 'پیچه': 3400, 'پیکه': 3401, 'چقدره': 3402, 'چلوجوجه': 3403, 'چلوکبابی': 3404, 'چیزیو': 3405, 'چیو': 3406, 'کادو': 3407, 'کاربردی': 3408, 'کاره': 3409, 'کارها': 3410, 'کاملآ': 3411, 'کبابتون': 3412, 'کلنل': 3413, 'کمپوت': 3414, 'کور': 3415, 'کوکلوچه': 3416, 'کیفبت': 3417, 'کیکو': 3418, 'گازدار': 3419, 'گزاشته': 3420, 'گلاسه': 3421, 'گلتون': 3422, 'گول': 3423, 'یکبارمصرف': 3424, 'یکسر': 3425, 'یکطرف': 3426, 'یکیشو': 3427, 'آبش': 3428, 'آرسام': 3429, 'آفریکانا': 3430, 'آلرژی': 3431, 'احیانا': 3432, 'اختیار': 3433, 'اخرشم': 3434, 'ارزنده': 3435, 'ارسالشون': 3436, 'ارگانیک': 3437, 'ازلحاظ': 3438, 'ازمدیریت': 3439, 'ازنظر': 3440, 'اسنپی': 3441, 'اصلاا': 3442, 'اعتبارتون': 3443, 'اعتمادی': 3444, 'افتضااااااح': 3445, 'افزودنی': 3446, 'افطار': 3447, 'الو': 3448, 'انبار': 3449, 'انتطار': 3450, 'انصافیه': 3451, 'انقدری': 3452, 'اونور': 3453, 'اکانت': 3454, 'اکی': 3455, 'اینترنت': 3456, 'اینحال': 3457, 'اینصورت': 3458, 'بادقت': 3459, 'بایودنت': 3460, 'ببشتر': 3461, 'بتونن': 3462, 'بحای': 3463, 'بخوای': 3464, 'بدبود': 3465, 'بدددد': 3466, 'بدنه': 3467, 'بدونن': 3468, 'بذاری': 3469, 'برازنده': 3470, 'بران': 3471, 'برف': 3472, 'برمیگرده': 3473, 'بروچن': 3474, 'برگرهاتون': 3475, 'بریزمش': 3476, 'بریونی': 3477, 'بزرگتری': 3478, 'بسبار': 3479, 'بلوار': 3480, 'بندازه': 3481, 'بندیه': 3482, 'بوذ': 3483, 'بولکی': 3484, 'بچگی': 3485, 'بیخودی': 3486, 'بیفش': 3487, 'بیچاره': 3488, 'بیژن': 3489, 'تامین': 3490, 'تهرانپارس': 3491, 'تونستیم': 3492, 'تکی': 3493, 'تی': 3494, 'تیتابی': 3495, 'تیر': 3496, 'جزئی': 3497, 'جفتشون': 3498, 'جهان': 3499, 'جگر': 3500, 'حواسشون': 3501, 'حیوانی': 3502, 'خداوند': 3503, 'خدمتتون': 3504, 'خرابی': 3505, 'خشمزه': 3506, 'خشکبار': 3507, 'خوردمش': 3508, 'خوردنی': 3509, 'خیلیییییییی': 3510, 'دراین': 3511, 'دردسر': 3512, 'درنا': 3513, 'درنتیجه': 3514, 'درنظر': 3515, 'درو': 3516, 'دمه': 3517, 'دندونم': 3518, 'دوتیکه': 3519, 'دونوع': 3520, 'رسبد': 3521, 'رطوبت': 3522, 'رغبت': 3523, 'رنگارنگ': 3524, 'روزیتون': 3525, 'ری': 3526, 'زردآلو': 3527, 'زین': 3528, 'سابید': 3529, 'ساعات': 3530, 'سالا': 3531, 'سان': 3532, 'سانتیمتر': 3533, 'ساندویچا': 3534, 'ساندویچه': 3535, 'سده': 3536, 'سرشیر': 3537, 'سرطان': 3538, 'سرعتشون': 3539, 'سمنو': 3540, 'سمی': 3541, 'سنت': 3542, 'سنگینه': 3543, 'سوئیسی': 3544, 'سوخاریتون': 3545, 'سوپربرگر': 3546, 'شبانه': 3547, 'شر': 3548, 'شرح': 3549, 'شرمندگی': 3550, 'شعبات': 3551, 'شنید': 3552, 'شکلاتیه': 3553, 'شید': 3554, 'شیرازبرگر': 3555, 'شیرینیتون': 3556, 'صادقانه': 3557, 'صدف': 3558, 'ضایع': 3559, 'ضروری': 3560, 'طعمدار': 3561, 'طهر': 3562, 'عشق': 3563, 'علاف': 3564, 'عما': 3565, 'عملشون': 3566, 'غذائی': 3567, 'غله': 3568, 'غوطه': 3569, 'غیرحضوری': 3570, 'فذا': 3571, 'فرمول': 3572, 'فلزی': 3573, 'قابلمه': 3574, 'قانون': 3575, 'قرمزی': 3576, 'قصر': 3577, 'قطاب': 3578, 'لایک': 3579, 'لبنی': 3580, 'لذیذه': 3581, 'لوتکا': 3582, 'لیز': 3583, 'ماهه': 3584, 'مایکروویو': 3585, 'متاستفانه': 3586, 'متعادل': 3587, 'متعلقات': 3588, 'مجهز': 3589, 'محبت': 3590, 'محترمتون': 3591, 'محدودیت': 3592, 'مداریشون': 3593, 'مراسم': 3594, 'مرسیییی': 3595, 'مرکز': 3596, 'مزشو': 3597, 'مسن': 3598, 'مشتریاش': 3599, 'معادل': 3600, 'معین': 3601, 'مناطق': 3602, 'موثر': 3603, 'موقعه': 3604, 'میزاشتید': 3605, 'میفرستادین': 3606, 'میلک': 3607, 'میمون': 3608, 'میندازه': 3609, 'ناپخته': 3610, 'ندیم': 3611, 'نذاشتین': 3612, 'نزدن': 3613, 'نشت': 3614, 'نشست': 3615, 'نصفشون': 3616, 'نظره': 3617, 'نفرستن': 3618, 'نمودن': 3619, 'نمیخواد': 3620, 'نمیزاره': 3621, 'نمیزارید': 3622, 'نمیشن': 3623, 'نیاوردید': 3624, 'نیفته': 3625, 'نیوردن': 3626, 'هالو': 3627, 'هردوبار': 3628, 'هس': 3629, 'همتون': 3630, 'همیشگیه': 3631, 'واسش': 3632, 'وایساده': 3633, 'وبیات': 3634, 'وجب': 3635, 'وحتی': 3636, 'وقارچ': 3637, 'وکم': 3638, 'وگوشت': 3639, 'ویروس': 3640, 'پاشید': 3641, 'پاژن': 3642, 'پد': 3643, 'پراکنده': 3644, 'پرتغالی': 3645, 'پرسیل': 3646, 'پرطرفدار': 3647, 'پلمبیر': 3648, 'پنیرپیتزا': 3649, 'پودری': 3650, 'پوسیده': 3651, 'پولشم': 3652, 'پیتزاهم': 3653, 'پیروزی': 3654, 'چاره': 3655, 'چرخید': 3656, 'چهارراه': 3657, 'چیتوز': 3658, 'چیدن': 3659, 'چیزبرگرش': 3660, 'کارشناس': 3661, 'کارمند': 3662, 'کاسبی': 3663, 'کاستی': 3664, 'کاور': 3665, 'کراست': 3666, 'کوله': 3667, 'کیکوک': 3668, 'گرند': 3669, 'گروید': 3670, 'گزاشتن': 3671, 'گلایه': 3672, 'گلپر': 3673, 'گمان': 3674, 'گیره': 3675, 'یادمه': 3676, 'یجوری': 3677, 'یخزده': 3678, 'آرامش': 3679, 'آزاد': 3680, 'آشپزتون': 3681, 'آلوده': 3682, 'آمولای': 3683, 'آمیخت': 3684, 'اتریش': 3685, 'اجرا': 3686, 'ارزششو': 3687, 'ارزشمند': 3688, 'ازاینکه': 3689, 'استریپسی': 3690, 'اسلایسی': 3691, 'اسپرسو': 3692, 'اشو': 3693, 'اطرافیان': 3694, 'افتابگردان': 3695, 'افتضاااااح': 3696, 'افرین': 3697, 'انگلیسی': 3698, 'اونهمه': 3699, 'اکتیو': 3700, 'بارانی': 3701, 'باربکیو': 3702, 'باسلیقه': 3703, 'بالاتون': 3704, 'باک': 3705, 'ببرن': 3706, 'بخواین': 3707, 'بخونین': 3708, 'برشت': 3709, 'برگرتون': 3710, 'برگردوندند': 3711, 'برگردونده': 3712, 'بزارند': 3713, 'بسیاااااااار': 3714, 'بسیاربسیار': 3715, 'بسیاررر': 3716, 'بصرفه': 3717, 'بل': 3718, 'بلاخره': 3719, 'بمونن': 3720, 'بناگوش': 3721, 'بندازم': 3722, 'بهشت': 3723, 'بهونه': 3724, 'بواسطه': 3725, 'بوداصلا': 3726, 'بورک': 3727, 'بگذارن': 3728, 'بیسکوییتی': 3729, 'بیمار': 3730, 'تابلو': 3731, 'تانک': 3732, 'تخت': 3733, 'تداوم': 3734, 'ترجیحا': 3735, 'ترغیب': 3736, 'تزیینات': 3737, 'تعطیلات': 3738, 'تغیر': 3739, 'تفکیک': 3740, 'تلخه': 3741, 'تومانه': 3742, 'تویه': 3743, 'تکنفره': 3744, 'تیز': 3745, 'ثبات': 3746, 'جامد': 3747, 'جداگونه': 3748, 'جوریه': 3749, 'جوریکه': 3750, 'حای': 3751, 'حقوق': 3752, 'حواس': 3753, 'حیاط': 3754, 'خبلی': 3755, 'خدشه': 3756, 'خدماتی': 3757, 'خریدا': 3758, 'خوان': 3759, 'خودشونو': 3760, 'خونی': 3761, 'خیلیه': 3762, 'خیلییییییییی': 3763, 'دابل': 3764, 'دارک': 3765, 'داش': 3766, 'دانشگاه': 3767, 'دراز': 3768, 'درحدی': 3769, 'درگیر': 3770, 'دستچین': 3771, 'دشت': 3772, 'دعوا': 3773, 'دمبه': 3774, 'دهه': 3775, 'دوتکه': 3776, 'دوران': 3777, 'دوربین': 3778, 'دولت': 3779, 'دکور': 3780, 'دین': 3781, 'دیگست': 3782, 'راس': 3783, 'رانندگی': 3784, 'رسیدو': 3785, 'رمضون': 3786, 'روزافزون': 3787, 'روس': 3788, 'رونق': 3789, 'ریختمش': 3790, 'زمینیه': 3791, 'زوکت': 3792, 'زیاااد': 3793, 'سادگی': 3794, 'ساید': 3795, 'ستاک': 3796, 'سختیه': 3797, 'سربلند': 3798, 'سرتون': 3799, 'سرددد': 3800, 'سردشده': 3801, 'سرموقع': 3802, 'سفته': 3803, 'سفیدی': 3804, 'سقارش': 3805, 'سلطانی': 3806, 'شرط': 3807, 'شرم': 3808, 'شلیل': 3809, 'شمالی': 3810, 'شمرد': 3811, 'شناختی': 3812, 'شوکو': 3813, 'شیش': 3814, 'طبقات': 3815, 'طریقت': 3816, 'طریقه': 3817, 'ظرفیت': 3818, 'عااااااااالی': 3819, 'عالیست': 3820, 'عالییییییییی': 3821, 'عالیییییییییی': 3822, 'عبارت': 3823, 'عروسک': 3824, 'عصرونه': 3825, 'علارغم': 3826, 'عمودی': 3827, 'عکسشم': 3828, 'غذاشم': 3829, 'غذاعالی': 3830, 'غلط': 3831, 'فارس': 3832, 'فاصلمون': 3833, 'فردوس': 3834, 'فرمی': 3835, 'فعالیت': 3836, 'فودها': 3837, 'فوم': 3838, 'قانع': 3839, 'قایل': 3840, 'قر': 3841, 'قورت': 3842, 'قیافش': 3843, 'قیمتتون': 3844, 'قیمتشو': 3845, 'لاتکس': 3846, 'لازانیاش': 3847, 'لاغر': 3848, 'لبخند': 3849, 'لبو': 3850, 'لته': 3851, 'لندو': 3852, 'مارمالاد': 3853, 'ماندن': 3854, 'ماهیتابه': 3855, 'مایکرو': 3856, 'متعارف': 3857, 'متغیر': 3858, 'مجبورشدم': 3859, 'محترمشون': 3860, 'مراقب': 3861, 'مرتبط': 3862, 'مرغشون': 3863, 'مروارید': 3864, 'مسوول': 3865, 'مشام': 3866, 'مشترک': 3867, 'مشتریانی': 3868, 'مضخرف': 3869, 'مطلقا': 3870, 'معد': 3871, 'مفصل': 3872, 'ممنووونم': 3873, 'منطبق': 3874, 'منطقیه': 3875, 'موزارلا': 3876, 'موظف': 3877, 'موندس': 3878, 'مچ': 3879, 'مچکر': 3880, 'میارین': 3881, 'میام': 3882, 'میخورن': 3883, 'میدادین': 3884, 'میگید': 3885, 'نارس': 3886, 'نامبر': 3887, 'نبوود': 3888, 'نت': 3889, 'نخوردمش': 3890, 'نذارن': 3891, 'نشونه': 3892, 'نشونی': 3893, 'نشیم': 3894, 'نشین': 3895, 'نظرمن': 3896, 'نعمت': 3897, 'نعنایی': 3898, 'نفوذ': 3899, 'نمیتونستم': 3900, 'نمیتونین': 3901, 'نمیدونست': 3902, 'نمیذاره': 3903, 'نمیذارین': 3904, 'نمیزنه': 3905, 'نمیصرفه': 3906, 'نمیفرستن': 3907, 'نمیکردن': 3908, 'نونشو': 3909, 'نکتار': 3910, 'نگیرن': 3911, 'نیامد': 3912, 'نیامده': 3913, 'نیرو': 3914, 'هاتونم': 3915, 'هامون': 3916, 'هایدای': 3917, 'هرجا': 3918, 'همبرگرهای': 3919, 'همدیگه': 3920, 'همونجا': 3921, 'واز': 3922, 'واسطه': 3923, 'وبموقع': 3924, 'وجودیکه': 3925, 'وخمیر': 3926, 'وشیرینی': 3927, 'وفقط': 3928, 'ونه': 3929, 'وکهنه': 3930, 'پارمسان': 3931, 'پایی': 3932, 'پربرکت': 3933, 'پردیس': 3934, 'پرش': 3935, 'پروبیوتیک': 3936, 'پروسس': 3937, 'پروپاقرص': 3938, 'پست': 3939, 'پنجشنبه': 3940, 'پوزش': 3941, 'پولمون': 3942, 'پیده': 3943, 'چاق': 3944, 'چاپ': 3945, 'چیتی': 3946, 'کاربری': 3947, 'کاملاااا': 3948, 'کرپ': 3949, 'کلان': 3950, 'کمل': 3951, 'کوبید': 3952, 'کوشت': 3953, 'کیترینگ': 3954, 'کیقیت': 3955, 'کیکا': 3956, 'گرونتره': 3957, 'گشنم': 3958, 'گوشتشون': 3959, 'گوشتو': 3960, 'یمقدار': 3961, 'یکماه': 3962, 'آتشین': 3963, 'آخره': 3964, 'آف': 3965, 'آل': 3966, 'آلفردوش': 3967, 'آمریکانو': 3968, 'آوردش': 3969, 'آپلود': 3970, 'ابنکه': 3971, 'اتاق': 3972, 'اتحادیه': 3973, 'اجناستون': 3974, 'اخرش': 3975, 'ارزوی': 3976, 'ازهم': 3977, 'ازهمه': 3978, 'ازپیک': 3979, 'استار': 3980, 'استثنا': 3981, 'استریپ': 3982, 'اسمشون': 3983, 'اسموتی': 3984, 'اسپشیال': 3985, 'اسکاچ': 3986, 'اسکرمبلد': 3987, 'اشتراک': 3988, 'اشون': 3989, 'اصالت': 3990, 'اصصصلا': 3991, 'اعتراضی': 3992, 'افتضاااااااح': 3993, 'افتضااح': 3994, 'المانی': 3995, 'امیدواری': 3996, 'امیدورام': 3997, 'اندوخت': 3998, 'اندونزی': 3999, 'انچنانی': 4000, 'انچه': 4001, 'انگیزه': 4002, 'اوردنش': 4003, 'اوردی': 4004, 'اولشون': 4005, 'اولویه': 4006, 'اپدیت': 4007, 'اژانس': 4008, 'ایرانیه': 4009, 'باروز': 4010, 'بازو': 4011, 'باسه': 4012, 'باعرض': 4013, 'بالاجبار': 4014, 'باهاماس': 4015, 'باگتش': 4016, 'ببینن': 4017, 'ببینین': 4018, 'بخاطره': 4019, 'بدر': 4020, 'بدهکار': 4021, 'برانگیز': 4022, 'برست': 4023, 'برسن': 4024, 'برسونین': 4025, 'برنجشون': 4026, 'برنگردوندن': 4027, 'برگردوند': 4028, 'برگردونم': 4029, 'برگرشون': 4030, 'بزار': 4031, 'بزرگوار': 4032, 'بسیاار': 4033, 'بسیارممنونم': 4034, 'بسیارکم': 4035, 'بصورتی': 4036, 'بع': 4037, 'بفهمه': 4038, 'بندازمش': 4039, 'بهر': 4040, 'بهره': 4041, 'بوجود': 4042, 'بودا': 4043, 'بودبه': 4044, 'بودممنون': 4045, 'بگی': 4046, 'بیرونی': 4047, 'بیفی': 4048, 'بیک': 4049, 'تابستون': 4050, 'تازست': 4051, 'تاکیید': 4052, 'تایلندی': 4053, 'تحویلشم': 4054, 'تدبیر': 4055, 'تریدنت': 4056, 'تزئینات': 4057, 'تزیینی': 4058, 'تصادف': 4059, 'تعجبه': 4060, 'تغییراتی': 4061, 'تنزل': 4062, 'توضیحاتو': 4063, 'توفیق': 4064, 'تونسته': 4065, 'توپی': 4066, 'تکدانه': 4067, 'جذابیت': 4068, 'جوان': 4069, 'جوجو': 4070, 'جویا': 4071, 'حاشیه': 4072, 'حجمشو': 4073, 'حضورا': 4074, 'حمص': 4075, 'حکم': 4076, 'خال': 4077, 'خداکنه': 4078, 'خدم': 4079, 'خروج': 4080, 'خساست': 4081, 'خطا': 4082, 'خم': 4083, 'خنثی': 4084, 'خوار': 4085, 'خوانده': 4086, 'خواید': 4087, 'خوبو': 4088, 'خودکار': 4089, 'خورشید': 4090, 'خیارشورهای': 4091, 'خیلیا': 4092, 'خیلییییییییییی': 4093, 'داخلشم': 4094, 'دانشجو': 4095, 'دایجستیو': 4096, 'دایمی': 4097, 'درآورده': 4098, 'دراژه': 4099, 'درحد': 4100, 'درسفارش': 4101, 'درصورت': 4102, 'درپوش': 4103, 'درکه': 4104, 'دلار': 4105, 'دلخوری': 4106, 'دلمون': 4107, 'دمنوش': 4108, 'دنده': 4109, 'دوتای': 4110, 'دوری': 4111, 'دیره': 4112, 'دیکه': 4113, 'ذوب': 4114, 'رابطه': 4115, 'راحته': 4116, 'رحمت': 4117, 'رسوندند': 4118, 'رشد': 4119, 'رضا': 4120, 'رفتارشون': 4121, 'رقابتی': 4122, 'رقبا': 4123, 'رم': 4124, 'رنج': 4125, 'رنگشون': 4126, 'روح': 4127, 'روحی': 4128, 'روده': 4129, 'روسی': 4130, 'رکورد': 4131, 'زامبون': 4132, 'زبونم': 4133, 'زره': 4134, 'زشتیه': 4135, 'زغالی': 4136, 'زمستون': 4137, 'زیرین': 4138, 'ساتدویچ': 4139, 'ساعتها': 4140, 'سافتلن': 4141, 'سالمه': 4142, 'ساندوبچ': 4143, 'ساندوچ': 4144, 'ساندویچتون': 4145, 'سررررد': 4146, 'سرم': 4147, 'سزاری': 4148, 'سقوط': 4149, 'سلیقگی': 4150, 'سهم': 4151, 'سوخاریشون': 4152, 'سوسک': 4153, 'سومه': 4154, 'سوگود': 4155, 'سپاسگزاری': 4156, 'سیبزمینیش': 4157, 'سیرو': 4158, 'سیسلی': 4159, 'سیگاری': 4160, 'شبه': 4161, 'شصت': 4162, 'شمارش': 4163, 'شورید': 4164, 'شکارچی': 4165, 'شیرینیه': 4166, 'صداقت': 4167, 'طبیعت': 4168, 'طرفه': 4169, 'عاااااااااااالی': 4170, 'عااالیه': 4171, 'عالللی': 4172, 'عای': 4173, 'علیک': 4174, 'عملتون': 4175, 'غداتون': 4176, 'غذابا': 4177, 'غذاتو': 4178, 'غذاخوب': 4179, 'غذاسرد': 4180, 'غذاهاتونو': 4181, 'غیرعادی': 4182, 'فامیلی': 4183, 'فرا': 4184, 'فرسته': 4185, 'فور': 4186, 'فکتوری': 4187, 'قاتق': 4188, 'قبمت': 4189, 'قیمتارو': 4190, 'قیمتاشون': 4191, 'لزوم': 4192, 'لطمه': 4193, 'لینا': 4194, 'مارس': 4195, 'مارسید': 4196, 'ماکرو': 4197, 'ماکیاتو': 4198, 'متاسفنه': 4199, 'متضرر': 4200, 'متوسطه': 4201, 'محتویاتی': 4202, 'محلول': 4203, 'مختص': 4204, 'مخدوش': 4205, 'مدرسه': 4206, 'مدنظر': 4207, 'مرسییییی': 4208, 'مرغو': 4209, 'مرور': 4210, 'مزایا': 4211, 'مسخرس': 4212, 'مشتریاتونو': 4213, 'مشمای': 4214, 'مشورت': 4215, 'مصنوعی': 4216, 'مطمئنن': 4217, 'معتاد': 4218, 'معقوله': 4219, 'معیار': 4220, 'مقدور': 4221, 'ملس': 4222, 'مناسفم': 4223, 'منجر': 4224, 'منصرف': 4225, 'منگنه': 4226, 'مهر': 4227, 'مهرام': 4228, 'مهربان': 4229, 'مهمونامون': 4230, 'مونه': 4231, 'مگنوم': 4232, 'میتونی': 4233, 'میخاد': 4234, 'میخره': 4235, 'میدان': 4236, 'میرن': 4237, 'میسوزه': 4238, 'مینویسن': 4239, 'مینویسه': 4240, 'میون': 4241, 'میپ': 4242, 'ناب': 4243, 'ناتالی': 4244, 'ناز': 4245, 'نازکه': 4246, 'ناکافی': 4247, 'نخوره': 4248, 'نخونده': 4249, 'ندا': 4250, 'نذاشتید': 4251, 'نذری': 4252, 'نظرتون': 4253, 'نظیرید': 4254, 'نفرو': 4255, 'نقش': 4256, 'نمیتونی': 4257, 'نمیخره': 4258, 'نمیدادن': 4259, 'نمیدونه': 4260, 'نمیدونید': 4261, 'نمیرزید': 4262, 'نمیزارین': 4263, 'نمیشی': 4264, 'نوروزی': 4265, 'نونتون': 4266, 'نگهدارنده': 4267, 'نیاوران': 4268, 'هال': 4269, 'هاهم': 4270, 'هراز': 4271, 'هرسه': 4272, 'هزارتومنی': 4273, 'همراش': 4274, 'همونایی': 4275, 'همچیش': 4276, 'همیرگر': 4277, 'هنر': 4278, 'وااااای': 4279, 'وارم': 4280, 'وارونه': 4281, 'واضحا': 4282, 'واقعااااا': 4283, 'واقعاااااا': 4284, 'وانیلا': 4285, 'وایتکس': 4286, 'وجهه': 4287, 'ورا': 4288, 'ورود': 4289, 'وسرعت': 4290, 'وسطا': 4291, 'وصف': 4292, 'ومن': 4293, 'ونپخته': 4294, 'ویک': 4295, 'پال': 4296, 'پذیرا': 4297, 'پروسه': 4298, 'پروک': 4299, 'پرگوشت': 4300, 'پریده': 4301, 'پنیرشون': 4302, 'پوتین': 4303, 'پوسته': 4304, 'پوشک': 4305, 'پیتا': 4306, 'پیتزاس': 4307, 'پیر': 4308, 'پیکاتون': 4309, 'پیکشم': 4310, 'چاکلز': 4311, 'چسبونده': 4312, 'چشمگیر': 4313, 'چندباری': 4314, 'چندروز': 4315, 'چونکه': 4316, 'چیزو': 4317, 'چیکنش': 4318, 'ژامبونی': 4319, 'کارشونو': 4320, 'کالری': 4321, 'کاپریچیوزا': 4322, 'کاکایویی': 4323, 'کبابا': 4324, 'کبفیت': 4325, 'کسبتون': 4326, 'کشدار': 4327, 'کشیدین': 4328, 'کنارشم': 4329, 'کنندس': 4330, 'کینگ': 4331, 'کیکتون': 4332, 'گاناش': 4333, 'گداشته': 4334, 'گذاشتمش': 4335, 'گرجی': 4336, 'گرفتگی': 4337, 'گوشتشو': 4338, 'گیسو': 4339, 'یادآوری': 4340, 'یجورایی': 4341, 'یکعدد': 4342, 'یکیه': 4343, '؛': 4344, 'آبلیموی': 4345, 'آجودانیه': 4346, 'آشپزخونه': 4347, 'آلوچه': 4348, 'آلی': 4349, 'آنچنانی': 4350, 'آپاچینو': 4351, 'ابر': 4352, 'ابی': 4353, 'اجبارا': 4354, 'احمدی': 4355, 'اختصاص': 4356, 'ارتفاع': 4357, 'ارزن': 4358, 'ارزونی': 4359, 'ارزیابی': 4360, 'ازدست': 4361, 'ازرستوران': 4362, 'ازسال': 4363, 'استاف': 4364, 'استخدام': 4365, 'اسفند': 4366, 'اسلایسش': 4367, 'اسمون': 4368, 'اسنایپر': 4369, 'اشپزتون': 4370, 'اصافه': 4371, 'اصلاااااا': 4372, 'اصلااااااا': 4373, 'اصولی': 4374, 'اعتباری': 4375, 'اغشته': 4376, 'افتادن': 4377, 'افتضا': 4378, 'افتضاااح': 4379, 'افتضاححح': 4380, 'افتضاع': 4381, 'افتضاه': 4382, 'افس': 4383, 'الترا': 4384, 'المینیومی': 4385, 'الکلی': 4386, 'امریکن': 4387, 'اموزش': 4388, 'امیر': 4389, 'انا': 4390, 'انجا': 4391, 'انجامید': 4392, 'انداختیمش': 4393, 'انداره': 4394, 'اندازشم': 4395, 'انشائالله': 4396, 'انقلاب': 4397, 'انه': 4398, 'اوصاف': 4399, 'اولو': 4400, 'اوند': 4401, 'اونطوری': 4402, 'اونقد': 4403, 'اونکه': 4404, 'اویلا': 4405, 'اپرا': 4406, 'اپلیکشن': 4407, 'اکالیپتوس': 4408, 'ایام': 4409, 'ایرادات': 4410, 'ایست': 4411, 'ایشالله': 4412, 'ایقدر': 4413, 'اینجارو': 4414, 'ایکس': 4415, 'باادب': 4416, 'باران': 4417, 'بارز': 4418, 'بارندگی': 4419, 'باروژم': 4420, 'بازیافت': 4421, 'باقلا': 4422, 'باقیمت': 4423, 'بالغ': 4424, 'باکسی': 4425, 'بخارپز': 4426, 'بخواید': 4427, 'بدمزگی': 4428, 'بدو': 4429, 'بدونید': 4430, 'برابری': 4431, 'برخود': 4432, 'برداره': 4433, 'برس': 4434, 'برنگشته': 4435, 'برگراش': 4436, 'برگردونه': 4437, 'برگره': 4438, 'بزاریم': 4439, 'بستن': 4440, 'بسیارررر': 4441, 'بغیر': 4442, 'بفرمائید': 4443, 'بقلش': 4444, 'بلونز': 4445, 'بندازن': 4446, 'بهای': 4447, 'بهتربود': 4448, 'بهمین': 4449, 'بودبا': 4450, 'بوددددددد': 4451, 'بپرسن': 4452, 'بیر': 4453, 'بیشترشو': 4454, 'تااازه': 4455, 'تازس': 4456, 'تازگیا': 4457, 'تاشو': 4458, 'تاشون': 4459, 'تافی': 4460, 'تحریم': 4461, 'تحویلمون': 4462, 'تخصصی': 4463, 'تربیت': 4464, 'تردید': 4465, 'ترکیه': 4466, 'تسریع': 4467, 'تشکراز': 4468, 'تشکرمیکنم': 4469, 'تصادفی': 4470, 'تعطیلی': 4471, 'تعلق': 4472, 'تغییرات': 4473, 'تقویت': 4474, 'تمرکز': 4475, 'تهدیگ': 4476, 'توشه': 4477, 'تونی': 4478, 'تکراری': 4479, 'تیتاپ': 4480, 'ثالثا': 4481, 'جالی': 4482, 'جلوه': 4483, 'جنسا': 4484, 'جنساشون': 4485, 'جنوبی': 4486, 'جوجشم': 4487, 'جیز': 4488, 'حاظر': 4489, 'حالیه': 4490, 'حسی': 4491, 'حلزونی': 4492, 'حوب': 4493, 'حوصلگی': 4494, 'حوله': 4495, 'حیلی': 4496, 'خاصیت': 4497, 'خان': 4498, 'خانوم': 4499, 'خدابرکت': 4500, 'خدماتشون': 4501, 'خدمتشون': 4502, 'خراسانی': 4503, 'خریدتون': 4504, 'خسارت': 4505, 'خسیس': 4506, 'خشکیده': 4507, 'خطر': 4508, 'خفت': 4509, 'خفه': 4510, 'خلاص': 4511, 'خلی': 4512, 'خوابونده': 4513, 'خوابگاه': 4514, 'خواستار': 4515, 'خواندن': 4516, 'خودشونم': 4517, 'خوردنه': 4518, 'خوشرو': 4519, 'خوشطعم': 4520, 'خوشمزش': 4521, 'خیل': 4522, 'خیییلییی': 4523, 'دااااغ': 4524, 'داااغ': 4525, 'داخلشون': 4526, 'داستان': 4527, 'دبه': 4528, 'دخترونه': 4529, 'دراورده': 4530, 'دربیاد': 4531, 'درشو': 4532, 'درمیون': 4533, 'دره': 4534, 'درومده': 4535, 'دستکاری': 4536, 'دفاع': 4537, 'دقتتون': 4538, 'دقه': 4539, 'دلدرد': 4540, 'دلسرد': 4541, 'دلمو': 4542, 'دوستدار': 4543, 'دوستی': 4544, 'دوش': 4545, 'دومیه': 4546, 'دونستم': 4547, 'دونفری': 4548, 'دوهفته': 4549, 'دوپر': 4550, 'ذایقه': 4551, 'ذهنیت': 4552, 'راز': 4553, 'رای': 4554, 'ربخته': 4555, 'رجوع': 4556, 'رحم': 4557, 'رسوندید': 4558, 'رسونه': 4559, 'رسیدممنون': 4560, 'رشت': 4561, 'رمان': 4562, 'رمینی': 4563, 'روتون': 4564, 'روستا': 4565, 'روشو': 4566, 'روگنان': 4567, 'زار': 4568, 'زخیم': 4569, 'زمانه': 4570, 'زمینیاش': 4571, 'زنن': 4572, 'زیارت': 4573, 'زیگزاگ': 4574, 'سالادشون': 4575, 'سایزشون': 4576, 'سب': 4577, 'سرجمع': 4578, 'سرشار': 4579, 'سرکوچه': 4580, 'سزارتون': 4581, 'سسس': 4582, 'سسشم': 4583, 'سفارشه': 4584, 'سفاش': 4585, 'سلب': 4586, 'سماغ': 4587, 'سنجابک': 4588, 'سنگدون': 4589, 'سهو': 4590, 'سواله': 4591, 'سوخاریه': 4592, 'سوختن': 4593, 'سوزانده': 4594, 'سومر': 4595, 'سومی': 4596, 'سیدخندان': 4597, 'سیره': 4598, 'سیروپ': 4599, 'سیرکننده': 4600, 'شاالله': 4601, 'شاهکاره': 4602, 'شریف': 4603, 'شمایل': 4604, 'شمایید': 4605, 'شوربود': 4606, 'شوک': 4607, 'شکستن': 4608, 'شیرقهوه': 4609, 'شیلانه': 4610, 'صبورانه': 4611, 'صحت': 4612, 'صفره': 4613, 'صندوق': 4614, 'طباخی': 4615, 'طلقی': 4616, 'عااااالیه': 4617, 'عادیه': 4618, 'عاشقتم': 4619, 'عذاب': 4620, 'عربی': 4621, 'عزیزی': 4622, 'عصبی': 4623, 'علاالدین': 4624, 'علاقم': 4625, 'عمد': 4626, 'عکسه': 4627, 'عینا': 4628, 'غذاخوری': 4629, 'غذاهاشو': 4630, 'غذل': 4631, 'غیرحرفه': 4632, 'غیرفعال': 4633, 'غیرمنطقی': 4634, 'فاسد': 4635, 'فانتای': 4636, 'فتوچینی': 4637, 'فرزند': 4638, 'فروردین': 4639, 'فریاد': 4640, 'فهرست': 4641, 'فودهایی': 4642, 'فول': 4643, 'فکرمیکنم': 4644, 'فیمت': 4645, 'فیک': 4646, 'فیکس': 4647, 'قاتوق': 4648, 'قارج': 4649, 'قبلیا': 4650, 'قبیل': 4651, 'قدرت': 4652, 'قراردادن': 4653, 'قطور': 4654, 'لازانیای': 4655, 'لامپ': 4656, 'لاپلو': 4657, 'لاک': 4658, 'لایق': 4659, 'لطفی': 4660, 'لورده': 4661, 'لیستتون': 4662, 'ماس': 4663, 'ماشالا': 4664, 'مانع': 4665, 'ماهیت': 4666, 'متذکر': 4667, 'متعهد': 4668, 'متمایز': 4669, 'متنی': 4670, 'مجاورت': 4671, 'محافظ': 4672, 'محاله': 4673, 'محفظه': 4674, 'مخالف': 4675, 'مختصر': 4676, 'مذخرف': 4677, 'مذکور': 4678, 'مراعات': 4679, 'مراقبت': 4680, 'مررررسی': 4681, 'مرز': 4682, 'مرع': 4683, 'مزاج': 4684, 'مزس': 4685, 'مسخرست': 4686, 'مسما': 4687, 'مسوولیت': 4688, 'مشتریانتون': 4689, 'مشتریشونم': 4690, 'مشتریهاتون': 4691, 'مشهوده': 4692, 'مشکلو': 4693, 'مطبخ': 4694, 'مطلع': 4695, 'معترض': 4696, 'معتقد': 4697, 'معروفه': 4698, 'مغزدار': 4699, 'مقایرت': 4700, 'مقدارشم': 4701, 'ملاحظه': 4702, 'مملکت': 4703, 'ممنوع': 4704, 'ممنووون': 4705, 'مناسبت': 4706, 'منظورشون': 4707, 'منهدم': 4708, 'منوشون': 4709, 'منون': 4710, 'موادو': 4711, 'مواظب': 4712, 'موندنی': 4713, 'مپ': 4714, 'میارم': 4715, 'میاورد': 4716, 'میبرین': 4717, 'میتونس': 4718, 'میتونیم': 4719, 'میدونیم': 4720, 'میذاشت': 4721, 'میراندا': 4722, 'میرسونید': 4723, 'میریختین': 4724, 'میزون': 4725, 'میماسید': 4726, 'مینیاتوری': 4727, 'میپزه': 4728, 'میگذارن': 4729, 'ناخالصی': 4730, 'ناشناخته': 4731, 'نامحسوس': 4732, 'نانوا': 4733, 'ناچاری': 4734, 'نبو': 4735, 'نبودو': 4736, 'نتونه': 4737, 'نخواد': 4738, 'ندادین': 4739, 'نذاشت': 4740, 'نرفتن': 4741, 'نریختن': 4742, 'نریزین': 4743, 'نزاشتین': 4744, 'نشاسته': 4745, 'نشسته': 4746, 'نشونش': 4747, 'نظراتی': 4748, 'نفت': 4749, 'نقره': 4750, 'نمرتون': 4751, 'نمیتونیم': 4752, 'نمیخونید': 4753, 'نمیذارن': 4754, 'نمیفرستین': 4755, 'نمیمونه': 4756, 'نوبره': 4757, 'نودالیت': 4758, 'نوشیدن': 4759, 'نپوخته': 4760, 'نچسبه': 4761, 'نچشیده': 4762, 'نک': 4763, 'نکاتی': 4764, 'نگفته': 4765, 'نیاوردین': 4766, 'نیوفتاده': 4767, 'نیوفته': 4768, 'هاداگ': 4769, 'هاس': 4770, 'هایدایی': 4771, 'هاییه': 4772, 'هدایت': 4773, 'هرکدام': 4774, 'هزارجزیره': 4775, 'هشتاد': 4776, 'همکارا': 4777, 'هیییییچ': 4778, 'وآخرین': 4779, 'واااااقعا': 4780, 'وااای': 4781, 'واحترام': 4782, 'والبته': 4783, 'وبرای': 4784, 'وبوی': 4785, 'وجوجه': 4786, 'وخشک': 4787, 'وزنه': 4788, 'وسطشون': 4789, 'وسوسه': 4790, 'وسپاس': 4791, 'وفادار': 4792, 'وقتیه': 4793, 'ولذیذ': 4794, 'ومرغ': 4795, 'ومودب': 4796, 'ونون': 4797, 'وکلا': 4798, 'ویتامین': 4799, 'پارادایس': 4800, 'پارمیسان': 4801, 'پارکینگ': 4802, 'پایانی': 4803, 'پایید': 4804, 'پبک': 4805, 'پرروغن': 4806, 'پرسیده': 4807, 'پرید': 4808, 'پسرفت': 4809, 'پنجمین': 4810, 'پوتیتو': 4811, 'پوشانده': 4812, 'پوشیده': 4813, 'پیروک': 4814, 'چارتا': 4815, 'چاپاتا': 4816, 'چجور': 4817, 'چرااا': 4818, 'چراااا': 4819, 'چلوگوشت': 4820, 'چیبس': 4821, 'چیکوچی': 4822, 'کاااملا': 4823, 'کارتخوان': 4824, 'کاملااااا': 4825, 'کانلا': 4826, 'کبابشون': 4827, 'کبود': 4828, 'کتاب': 4829, 'کراکر': 4830, 'کردو': 4831, 'کرونایی': 4832, 'کریپسی': 4833, 'کشتی': 4834, 'کفایت': 4835, 'کمرنگ': 4836, 'کناری': 4837, 'کنسلی': 4838, 'کنندست': 4839, 'کوچیکش': 4840, 'کپن': 4841, 'کیفیفت': 4842, 'گانه': 4843, 'گذار': 4844, 'گذشتن': 4845, 'گرانی': 4846, 'گرین': 4847, 'گلخانه': 4848, 'گلد': 4849, 'گلوله': 4850, 'گلی': 4851, 'گمونم': 4852, 'گنجشک': 4853, 'گند': 4854, 'گیفت': 4855, 'گیفیت': 4856, 'یار': 4857, 'یخه': 4858, 'یده': 4859, 'یفارش': 4860, 'یقین': 4861, 'یچی': 4862, 'یکنواخت': 4863, 'آبان': 4864, 'آبنبات': 4865, 'آبه': 4866, 'آبگیری': 4867, 'آخرمه': 4868, 'آخریه': 4869, 'آدما': 4870, 'آرستو': 4871, 'آروم': 4872, 'آسمان': 4873, 'آسیاب': 4874, 'آشامیدنی': 4875, 'آشنایی': 4876, 'آقایون': 4877, 'آلمینیومی': 4878, 'آمریکن': 4879, 'آورنده': 4880, 'آون': 4881, 'آووکادو': 4882, 'آیدا': 4883, 'ابروریزی': 4884, 'اتخاذ': 4885, 'اتفاقیه': 4886, 'اتک': 4887, 'اجباری': 4888, 'اجناسشون': 4889, 'احترامتون': 4890, 'احمد': 4891, 'اد': 4892, 'ادغام': 4893, 'ارادت': 4894, 'ارادتمند': 4895, 'ارزشه': 4896, 'ارزونه': 4897, 'ارساله': 4898, 'ارمغان': 4899, 'اروستو': 4900, 'ازماهک': 4901, 'ازینا': 4902, 'استثنائ': 4903, 'استشمام': 4904, 'استیکتون': 4905, 'اسمارتیس': 4906, 'اسنپم': 4907, 'اسنیکرز': 4908, 'اسپایسیش': 4909, 'اسکناس': 4910, 'اشتهای': 4911, 'اشنا': 4912, 'اعلا': 4913, 'اعم': 4914, 'اغماض': 4915, 'افتخار': 4916, 'افتضااااااااح': 4917, 'افتضاخ': 4918, 'اقایی': 4919, 'الحق': 4920, 'الدین': 4921, 'العده': 4922, 'الوئه': 4923, 'الومینیومی': 4924, 'امتناع': 4925, 'امتیازه': 4926, 'امثال': 4927, 'امون': 4928, 'انتخابام': 4929, 'انتظارات': 4930, 'انتهایی': 4931, 'اندر': 4932, 'انسپ': 4933, 'انقضاشون': 4934, 'اورند': 4935, 'اولویت': 4936, 'اومدش': 4937, 'اونطور': 4938, 'اونه': 4939, 'اونچیزی': 4940, 'اونیکه': 4941, 'اونیکی': 4942, 'اووردن': 4943, 'اوکیه': 4944, 'اپارتمان': 4945, 'اپاچینو': 4946, 'اپلود': 4947, 'اکسترا': 4948, 'اینطوره': 4949, 'اینور': 4950, 'بادمجونا': 4951, 'باربیکن': 4952, 'باربیکو': 4953, 'باروژه': 4954, 'باریکلا': 4955, 'باریکه': 4956, 'بازنگری': 4957, 'بازیافتی': 4958, 'باطعم': 4959, 'باغ': 4960, 'بالش': 4961, 'بامزه': 4962, 'بامن': 4963, 'باکیفیته': 4964, 'بتدی': 4965, 'بتونین': 4966, 'بحرانی': 4967, 'بخره': 4968, 'بخصوصی': 4969, 'بخوایم': 4970, 'بخوریمش': 4971, 'بخونه': 4972, 'بدتربن': 4973, 'بدجوری': 4974, 'بدیه': 4975, 'بذارند': 4976, 'براثر': 4977, 'برترین': 4978, 'برخورده': 4979, 'برزیلی': 4980, 'برمیداشتی': 4981, 'برنجو': 4982, 'بروزرسانی': 4983, 'برون': 4984, 'برگراتون': 4985, 'برگرداندن': 4986, 'برگردانید': 4987, 'بریدن': 4988, 'برین': 4989, 'بزرگسال': 4990, 'بزرگواری': 4991, 'بزرگیه': 4992, 'بسکت': 4993, 'بسیااااااار': 4994, 'بسیارخوب': 4995, 'بعده': 4996, 'بفروشن': 4997, 'بقال': 4998, 'بلده': 4999, 'بلغور': 5000, 'بندازید': 5001, 'بهترازاین': 5002, 'بهترمیشه': 5003, 'بهترن': 5004, 'بهنوش': 5005, 'بودفقط': 5006, 'بودنشه': 5007, 'بودنشون': 5008, 'بودهم': 5009, 'بوریتو': 5010, 'بوشار': 5011, 'بوفه': 5012, 'بوووووووود': 5013, 'بپ': 5014, 'بپرسه': 5015, 'بچسبه': 5016, 'بید': 5017, 'بیشتراز': 5018, 'بیشترشون': 5019, 'بیضی': 5020, 'بینش': 5021, 'بینشون': 5022, 'تابستان': 5023, 'تاریخی': 5024, 'تاز': 5025, 'تافت': 5026, 'تاچ': 5027, 'تاکو': 5028, 'تجربم': 5029, 'تجربیات': 5030, 'تحریک': 5031, 'تحمله': 5032, 'تحوبل': 5033, 'تحویله': 5034, 'تخصص': 5035, 'تخویل': 5036, 'تراز': 5037, 'تردتر': 5038, 'ترسید': 5039, 'ترشیده': 5040, 'ترنج': 5041, 'ترو': 5042, 'تسویه': 5043, 'تشکیلات': 5044, 'تطبیق': 5045, 'تظر': 5046, 'تعدیل': 5047, 'تعریق': 5048, 'تعزیرات': 5049, 'تغریبا': 5050, 'تفاله': 5051, 'تم': 5052, 'تمایز': 5053, 'تناقض': 5054, 'تنباکو': 5055, 'تنقلات': 5056, 'تنگ': 5057, 'توافق': 5058, 'توده': 5059, 'تورینو': 5060, 'توزیع': 5061, 'توشم': 5062, 'توشون': 5063, 'توصیحات': 5064, 'توهینه': 5065, 'توکیو': 5066, 'تپل': 5067, 'جارو': 5068, 'جاری': 5069, 'جامانده': 5070, 'جامونده': 5071, 'جاییه': 5072, 'جدیدتون': 5073, 'جرا': 5074, 'جزیی': 5075, 'جستجو': 5076, 'جشن': 5077, 'جنسشون': 5078, 'جنسو': 5079, 'جنگ': 5080, 'حائز': 5081, 'حاجی': 5082, 'حالمونو': 5083, 'حجمه': 5084, 'حدا': 5085, 'حرص': 5086, 'حشره': 5087, 'حضوریشون': 5088, 'حواستون': 5089, 'خاطرات': 5090, 'خاکشیر': 5091, 'خاکی': 5092, 'خدانگهدار': 5093, 'خرت': 5094, 'خریدمو': 5095, 'خریدمیکنم': 5096, 'خستگی': 5097, 'خلق': 5098, 'خمیرو': 5099, 'خندان': 5100, 'خندید': 5101, 'خوابید': 5102, 'خواین': 5103, 'خودمونم': 5104, 'خودمونو': 5105, 'خوردیمش': 5106, 'خورشتها': 5107, 'خوشرنگ': 5108, 'خوشگوار': 5109, 'خوشی': 5110, 'خووووب': 5111, 'خوووووب': 5112, 'خیای': 5113, 'خیسه': 5114, 'خیسی': 5115, 'خیلس': 5116, 'خییلییی': 5117, 'خییییییییلی': 5118, 'دائمتون': 5119, 'دائمشون': 5120, 'داخلشه': 5121, 'داداش': 5122, 'دارو': 5123, 'داس': 5124, 'دانشجویی': 5125, 'دانشکده': 5126, 'داون': 5127, 'داگای': 5128, 'دتول': 5129, 'دربار': 5130, 'دربسته': 5131, 'درحال': 5132, 'درخشید': 5133, 'درخصوص': 5134, 'درعوض': 5135, 'دروس': 5136, 'درکار': 5137, 'دریا': 5138, 'دستپخت': 5139, 'دعوت': 5140, 'دقتشون': 5141, 'دقیقس': 5142, 'دقیقن': 5143, 'دلجویی': 5144, 'دلخور': 5145, 'دلیلشو': 5146, 'دلیور': 5147, 'دمر': 5148, 'دوباری': 5149, 'دوتایی': 5150, 'دوغزال': 5151, 'دوقلو': 5152, 'دولایه': 5153, 'دونالد': 5154, 'دونست': 5155, 'دونن': 5156, 'دونید': 5157, 'دوکیلو': 5158, 'دکمه': 5159, 'دیررسید': 5160, 'دیروزه': 5161, 'دیزاینش': 5162, 'دیزیش': 5163, 'دیپلمات': 5164, 'دیگتون': 5165, 'دیگس': 5166, 'ذاتا': 5167, 'ذوقمون': 5168, 'رامسی': 5169, 'راهرو': 5170, 'راویولی': 5171, 'رده': 5172, 'رزبری': 5173, 'رسا': 5174, 'رستوان': 5175, 'رستورات': 5176, 'رستورانایی': 5177, 'رسونده': 5178, 'رضایتمندی': 5179, 'رفتاره': 5180, 'رقابت': 5181, 'روزتون': 5182, 'روکولا': 5183, 'روگا': 5184, 'رویا': 5185, 'رگه': 5186, 'ریختنه': 5187, 'ریزش': 5188, 'ریزن': 5189, 'ریشه': 5190, 'زاره': 5191, 'زانت': 5192, 'زحماتشون': 5193, 'زحمتتون': 5194, 'زخمی': 5195, 'زر': 5196, 'زغم': 5197, 'زمینیتون': 5198, 'زند': 5199, 'زنه': 5200, 'زوخم': 5201, 'زودهم': 5202, 'زیااااد': 5203, 'زیااد': 5204, 'زیادبود': 5205, 'سابقا': 5206, 'ساعدی': 5207, 'سالاده': 5208, 'سالادو': 5209, 'سالد': 5210, 'سانته': 5211, 'ساندویجش': 5212, 'ساندویچشون': 5213, 'سایزشم': 5214, 'سایزی': 5215, 'سحری': 5216, 'سد': 5217, 'سربازی': 5218, 'سردرد': 5219, 'سردو': 5220, 'سرررررد': 5221, 'سرسری': 5222, 'سرکار': 5223, 'سزارم': 5224, 'سزاره': 5225, 'سفارشارو': 5226, 'سفلرش': 5227, 'سنگی': 5228, 'سهروردی': 5229, 'سوار': 5230, 'سوز': 5231, 'سوسی': 5232, 'سوپتون': 5233, 'سوپرمارکتم': 5234, 'سوپرمارکتهای': 5235, 'سوپشون': 5236, 'سیاست': 5237, 'سیصد': 5238, 'سیف': 5239, 'سیلور': 5240, 'شائالله': 5241, 'شادی': 5242, 'شرق': 5243, 'شرقی': 5244, 'شستشو': 5245, 'شغل': 5246, 'شلغم': 5247, 'شمارد': 5248, 'شناخته': 5249, 'شووووور': 5250, 'شکستگی': 5251, 'شکلشم': 5252, 'شیردون': 5253, 'شیرو': 5254, 'شیریتی': 5255, 'شیزینی': 5256, 'شیلتون': 5257, 'شیوع': 5258, 'صادر': 5259, 'صدبار': 5260, 'صرفید': 5261, 'صریح': 5262, 'صلاحدید': 5263, 'صمن': 5264, 'صمیمی': 5265, 'ضرورت': 5266, 'طاهر': 5267, 'طعمو': 5268, 'طلائی': 5269, 'طوریه': 5270, 'ظاهرشون': 5271, 'ظفر': 5272, 'عاااااااااالی': 5273, 'عااالیییی': 5274, 'عال': 5275, 'عاللللللی': 5276, 'عالییییییه': 5277, 'عالیییییییی': 5278, 'عالیییییییییییی': 5279, 'عبرت': 5280, 'عدده': 5281, 'عروسی': 5282, 'علا': 5283, 'علم': 5284, 'عمدی': 5285, 'عمرمو': 5286, 'عملکردشون': 5287, 'غافلگیر': 5288, 'غایت': 5289, 'غذاا': 5290, 'غذاشونو': 5291, 'غذایه': 5292, 'غذاییه': 5293, 'غلات': 5294, 'غم': 5295, 'غیربهداشتی': 5296, 'فارغ': 5297, 'فال': 5298, 'فبل': 5299, 'فجیع': 5300, 'فرآیند': 5301, 'فراری': 5302, 'فرشته': 5303, 'فرمت': 5304, 'فرنگیا': 5305, 'فروشتون': 5306, 'فسنجونی': 5307, 'فقد': 5308, 'فقظ': 5309, 'فندک': 5310, 'فنری': 5311, 'فهم': 5312, 'فو': 5313, 'فودای': 5314, 'فورا': 5315, 'فویلی': 5316, 'فکرشم': 5317, 'فیسالیس': 5318, 'فینگرفود': 5319, 'قابله': 5320, 'قارچا': 5321, 'قارچشو': 5322, 'قبال': 5323, 'قبلو': 5324, 'قدمت': 5325, 'قرمزه': 5326, 'قرنطینه': 5327, 'قرچ': 5328, 'قسمتاش': 5329, 'قلو': 5330, 'قناد': 5331, 'قوام': 5332, 'قیمته': 5333, 'لابار': 5334, 'لابد': 5335, 'لبنه': 5336, 'لو': 5337, 'لول': 5338, 'لیبل': 5339, 'لین': 5340, 'لیچ': 5341, 'ماالشعیر': 5342, 'مارکتها': 5343, 'مارگریتا': 5344, 'ماسالا': 5345, 'ماسوله': 5346, 'ماسکارپ': 5347, 'ماش': 5348, 'مام': 5349, 'مانکی': 5350, 'ماکروویو': 5351, 'ماکه': 5352, 'مبلغشو': 5353, 'محبور': 5354, 'محصولتون': 5355, 'محصولو': 5356, 'مخصوصشم': 5357, 'مخصوصشون': 5358, 'مخصوصن': 5359, 'مدله': 5360, 'مدیریتشون': 5361, 'مدیوم': 5362, 'مرخ': 5363, 'مرررسی': 5364, 'مررسی': 5365, 'مرسوم': 5366, 'مرغاش': 5367, 'مرگ': 5368, 'مرگز': 5369, 'مزاحمت': 5370, 'مزرعه': 5371, 'مستطیلی': 5372, 'مسج': 5373, 'مشتاق': 5374, 'مشکلاتی': 5375, 'معجونی': 5376, 'معرض': 5377, 'معنایی': 5378, 'مغازتون': 5379, 'مفتضح': 5380, 'مفید': 5381, 'مقل': 5382, 'ملاته': 5383, 'ملون': 5384, 'مملو': 5385, 'ممنوون': 5386, 'ممونم': 5387, 'منتشر': 5388, 'منتظری': 5389, 'مندرجات': 5390, 'منطق': 5391, 'منفیه': 5392, 'مهمونها': 5393, 'موجه': 5394, 'موضوعی': 5395, 'موقه': 5396, 'موندرو': 5397, 'موگو': 5398, 'موید': 5399, 'مکالمه': 5400, 'میارند': 5401, 'میاریم': 5402, 'میانگین': 5403, 'میبینن': 5404, 'میتونستید': 5405, 'میخام': 5406, 'میخوردن': 5407, 'میخورین': 5408, 'میخوندم': 5409, 'میخونن': 5410, 'میدون': 5411, 'میدونن': 5412, 'میزبان': 5413, 'میلغ': 5414, 'مینوشتین': 5415, 'میوفتاد': 5416, 'میومدیم': 5417, 'میپرسیدن': 5418, 'میکروب': 5419, 'میگفتین': 5420, 'ناخالص': 5421, 'نادر': 5422, 'ناراصی': 5423, 'نازه': 5424, 'ناعادلانه': 5425, 'ناقابل': 5426, 'ناپ': 5427, 'ناچارا': 5428, 'ناگفته': 5429, 'نبرده': 5430, 'نبرین': 5431, 'نبسته': 5432, 'نحویل': 5433, 'نخریده': 5434, 'نخوندن': 5435, 'نداست': 5436, 'نرمه': 5437, 'نزارن': 5438, 'نزنین': 5439, 'نسوزه': 5440, 'نشید': 5441, 'نظرمون': 5442, 'نظیرتون': 5443, 'نظیرن': 5444, 'نفع': 5445, 'نقل': 5446, 'نمیامد': 5447, 'نمیتونست': 5448, 'نمیدونیم': 5449, 'نمیذارید': 5450, 'نمیریزن': 5451, 'نمیزدن': 5452, 'نمیزنن': 5453, 'نمیفرسته': 5454, 'نمیفهمه': 5455, 'ننوشتین': 5456, 'نهاد': 5457, 'نوآور': 5458, 'نوناتون': 5459, 'نیا': 5460, 'نیارن': 5461, 'نیاره': 5462, 'نیمساعت': 5463, 'نیورد': 5464, 'نیومدن': 5465, 'نیویورکی': 5466, 'نیک': 5467, 'هاد': 5468, 'هارا': 5469, 'هاشونم': 5470, 'هتل': 5471, 'هربارم': 5472, 'هرگونه': 5473, 'هشتم': 5474, 'هفتاد': 5475, 'هفده': 5476, 'همبرگرتون': 5477, 'همبشه': 5478, 'همشه': 5479, 'همونقدر': 5480, 'همیشگیشون': 5481, 'همینکه': 5482, 'هندیه': 5483, 'هنیشه': 5484, 'هوشمندانه': 5485, 'هیلی': 5486, 'هیچوجه': 5487, 'هیییچ': 5488, 'وارسال': 5489, 'واژه': 5490, 'وبرخورد': 5491, 'وبرشته': 5492, 'وبقیه': 5493, 'وتمام': 5494, 'وحید': 5495, 'وداخل': 5496, 'ودیگه': 5497, 'وزمان': 5498, 'وسایلو': 5499, 'وسرویس': 5500, 'وسفت': 5501, 'وصل': 5502, 'وقیمت': 5503, 'ومنظم': 5504, 'ونرم': 5505, 'وه': 5506, 'وهمیشه': 5507, 'وهیچ': 5508, 'وواقعا': 5509, 'وپرسنل': 5510, 'وچرب': 5511, 'وگوجه': 5512, 'ویرایش': 5513, 'وین': 5514, 'ویچ': 5515, 'ویکی': 5516, 'پارس': 5517, 'پاریس': 5518, 'پامپی': 5519, 'پاچین': 5520, 'پدیده': 5521, 'پرمحتوا': 5522, 'پرکنجدی': 5523, 'پلاچنتا': 5524, 'پلاچنتای': 5525, 'پلاکچه': 5526, 'پناه': 5527, 'پنیرتون': 5528, 'پنیرشو': 5529, 'پنیرو': 5530, 'پنینی': 5531, 'پود': 5532, 'پور': 5533, 'پوله': 5534, 'پکیجینگ': 5535, 'پیازداغ': 5536, 'پیاپی': 5537, 'پیتذا': 5538, 'پیتزاهاتونو': 5539, 'پیتزاهاست': 5540, 'پیشکش': 5541, 'پیوست': 5542, 'پیکو': 5543, 'چار': 5544, 'چاقاله': 5545, 'چاپی': 5546, 'چجوریه': 5547, 'چسبانده': 5548, 'چلوی': 5549, 'چندتاش': 5550, 'چندسال': 5551, 'چندماه': 5552, 'چهره': 5553, 'ژیلت': 5554, 'ژیگو': 5555, 'کااااملا': 5556, 'کاربرد': 5557, 'کاردو': 5558, 'کالباساش': 5559, 'کالزونه': 5560, 'کام': 5561, 'کاملاااااا': 5562, 'کامله': 5563, 'کانولا': 5564, 'کاه': 5565, 'کباباش': 5566, 'کبریت': 5567, 'کدر': 5568, 'کربن': 5569, 'کردنو': 5570, 'کفش': 5571, 'کلبه': 5572, 'کلمتون': 5573, 'کلیک': 5574, 'کمتراز': 5575, 'کنستانتره': 5576, 'کنسروی': 5577, 'کوتاهه': 5578, 'کوروش': 5579, 'کوچمون': 5580, 'کوچیکترین': 5581, 'کپک': 5582, 'کیفتتون': 5583, 'کیفتی': 5584, 'کیفیتیه': 5585, 'کیلیویی': 5586, 'کیندر': 5587, 'گداشتن': 5588, 'گردی': 5589, 'گررررم': 5590, 'گرونترین': 5591, 'گریپ': 5592, 'گسترده': 5593, 'گشنمون': 5594, 'گف': 5595, 'گناه': 5596, 'گوجش': 5597, 'گوشزد': 5598, 'گومز': 5599, 'یاعلی': 5600, 'یجا': 5601, 'یهویی': 5602, 'یواش': 5603, 'یودن': 5604, 'یکدفعه': 5605, 'یکربع': 5606, 'یکساعته': 5607, 'یکمقدار': 5608, 'آبجو': 5609, 'آبدارتر': 5610, 'آبرمون': 5611, 'آبرومو': 5612, 'آبعلی': 5613, 'آذر': 5614, 'آردی': 5615, 'آرزومند': 5616, 'آزاردهنده': 5617, 'آشفته': 5618, 'آلفردوی': 5619, 'آلفردویی': 5620, 'آلمینیوم': 5621, 'آمادس': 5622, 'آمادست': 5623, 'آمادگی': 5624, 'آمل': 5625, 'آمیزه': 5626, 'آناتا': 5627, 'آنتیک': 5628, 'آها': 5629, 'آهن': 5630, 'آگاهی': 5631, 'آیدین': 5632, 'آیلی': 5633, 'ابراز': 5634, 'ابنجا': 5635, 'ابگیری': 5636, 'اتلاف': 5637, 'اتکا': 5638, 'اتی': 5639, 'اثلا': 5640, 'اجتناب': 5641, 'اجحاف': 5642, 'اجناسش': 5643, 'احتمالی': 5644, 'اختیاری': 5645, 'اختیاریه': 5646, 'ادویش': 5647, 'ارباب': 5648, 'ارت': 5649, 'ارده': 5650, 'ارز': 5651, 'ارزشمنده': 5652, 'ارزونتره': 5653, 'ارس': 5654, 'ارفاق': 5655, 'اروم': 5656, 'ازاینجا': 5657, 'ازبین': 5658, 'اززمان': 5659, 'ازقبل': 5660, 'ازمون': 5661, 'ازگیل': 5662, 'استثنایی': 5663, 'استراگانوف': 5664, 'استرداد': 5665, 'استک': 5666, 'استیکشم': 5667, 'استیکه': 5668, 'اسفناجش': 5669, 'اسمارت': 5670, 'اسمس': 5671, 'اسمشم': 5672, 'اسمشونو': 5673, 'اسنپه': 5674, 'اسپره': 5675, 'اسپیسی': 5676, 'اسکوپی': 5677, 'اشتباهشون': 5678, 'اشتیاق': 5679, 'اشرفی': 5680, 'اشه': 5681, 'اشکالات': 5682, 'اشکر': 5683, 'اصصصصلا': 5684, 'اصلآ': 5685, 'اصلاخوب': 5686, 'اصلامزه': 5687, 'اصلاکیفیت': 5688, 'اطلا': 5689, 'اطلاعاتی': 5690, 'اعاده': 5691, 'اعظم': 5692, 'افتاب': 5693, 'افتابگردون': 5694, 'افتزاح': 5695, 'افتضاحححححححح': 5696, 'افروخت': 5697, 'الشعاع': 5698, 'العمل': 5699, 'الفردوش': 5700, 'القا': 5701, 'المقدور': 5702, 'المللی': 5703, 'الودگی': 5704, 'الوچه': 5705, 'الکیه': 5706, 'امتیازتون': 5707, 'املتش': 5708, 'امولای': 5709, 'امکانپذیر': 5710, 'امیدارم': 5711, 'انارتون': 5712, 'اناناسی': 5713, 'انتظاره': 5714, 'اندیشید': 5715, 'انسجام': 5716, 'انصراف': 5717, 'انقضاشه': 5718, 'اهمیته': 5719, 'اورئو': 5720, 'اوران': 5721, 'اوله': 5722, 'اومدی': 5723, 'اونارو': 5724, 'اونجاست': 5725, 'اونقدرا': 5726, 'اونقدری': 5727, 'اونموقع': 5728, 'اوه': 5729, 'اوورد': 5730, 'اووکادو': 5731, 'اپسیلون': 5732, 'اکر': 5733, 'اکسپرسه': 5734, 'اکشن': 5735, 'اکه': 5736, 'ایتالیاییشون': 5737, 'ایتالین': 5738, 'ایراداتی': 5739, 'ایرانه': 5740, 'ایستادن': 5741, 'ایمنی': 5742, 'اینایی': 5743, 'اینبارم': 5744, 'اینطوریه': 5745, 'اینچنینی': 5746, 'بااستخوان': 5747, 'بااسنپ': 5748, 'باتشکرواحترام': 5749, 'باحاله': 5750, 'بادشون': 5751, 'باراست': 5752, 'باردار': 5753, 'بارسفارش': 5754, 'بارش': 5755, 'بارمه': 5756, 'باروس': 5757, 'بارژ': 5758, 'بازگو': 5759, 'باقیمانده': 5760, 'بالابود': 5761, 'باوجودی': 5762, 'باورکنید': 5763, 'باکسش': 5764, 'باکمی': 5765, 'باگتها': 5766, 'ببخشین': 5767, 'ببش': 5768, 'بخ': 5769, 'بخت': 5770, 'بخونن': 5771, 'بداخلاق': 5772, 'بدبختی': 5773, 'بدرستی': 5774, 'بدرنگ': 5775, 'بدشون': 5776, 'بدشکل': 5777, 'بدطعمی': 5778, 'بدنام': 5779, 'بدیع': 5780, 'بدیهی': 5781, 'بذار': 5782, 'برآورد': 5783, 'برارزش': 5784, 'برانگیزه': 5785, 'براورده': 5786, 'براینکه': 5787, 'برتری': 5788, 'برخوردپیک': 5789, 'برداشتید': 5790, 'برساند': 5791, 'برفی': 5792, 'برلی': 5793, 'برمیگردوندم': 5794, 'برنده': 5795, 'برنگشت': 5796, 'برهم': 5797, 'بروبچه': 5798, 'بروله': 5799, 'برونسی': 5800, 'برگرا': 5801, 'برگردان': 5802, 'برگردانند': 5803, 'برگردم': 5804, 'برگردن': 5805, 'برگردونیم': 5806, 'برگردونین': 5807, 'برگردید': 5808, 'برگز': 5809, 'بریزیمش': 5810, 'بز': 5811, 'بزرگتره': 5812, 'بستنیه': 5813, 'بسسسیار': 5814, 'بسیاااااااااار': 5815, 'بسیارتازه': 5816, 'بسیاررررر': 5817, 'بسیارهم': 5818, 'بسیارپایین': 5819, 'بسییییار': 5820, 'بسیییییار': 5821, 'بشکلی': 5822, 'بعبارتی': 5823, 'بعدهم': 5824, 'بفروشین': 5825, 'بقایا': 5826, 'بقل': 5827, 'بقی': 5828, 'بقیشم': 5829, 'بقیمت': 5830, 'بلااستفاده': 5831, 'بلال': 5832, 'بلغاری': 5833, 'بلوچیز': 5834, 'بما': 5835, 'بنابر': 5836, 'بندازیم': 5837, 'بندر': 5838, 'بنسبت': 5839, 'بهترینهاست': 5840, 'بهداشتیه': 5841, 'بهروز': 5842, 'بوداده': 5843, 'بودار': 5844, 'بودخیلی': 5845, 'بوددددد': 5846, 'بودددددد': 5847, 'بودمثل': 5848, 'بودمو': 5849, 'بودندو': 5850, 'بودنه': 5851, 'بودوبه': 5852, 'بوگیر': 5853, 'بوگیری': 5854, 'بویه': 5855, 'بچگیا': 5856, 'بکم': 5857, 'بگذاره': 5858, 'بگذره': 5859, 'بیتی': 5860, 'بیداد': 5861, 'بیسکوپیچ': 5862, 'بیشتربود': 5863, 'بیشترشم': 5864, 'بینظیرتون': 5865, 'بینید': 5866, 'بیهوده': 5867, 'بیکران': 5868, 'تائید': 5869, 'تادونه': 5870, 'تارتلت': 5871, 'تازتون': 5872, 'تاکسی': 5873, 'تاینی': 5874, 'تایپی': 5875, 'تبخ': 5876, 'تبلیغاتی': 5877, 'تجدیدنظر': 5878, 'تجربش': 5879, 'تجویل': 5880, 'تحربه': 5881, 'تحول': 5882, 'تحویلشون': 5883, 'تداعی': 5884, 'تردد': 5885, 'ترس': 5886, 'ترشتون': 5887, 'ترشه': 5888, 'ترشیدگی': 5889, 'ترمینال': 5890, 'تروتمیز': 5891, 'تروخدا': 5892, 'ترکونده': 5893, 'تستر': 5894, 'تشابه': 5895, 'تشکره': 5896, 'تصفیه': 5897, 'تضمین': 5898, 'تعاریف': 5899, 'تعریفتونو': 5900, 'تعصب': 5901, 'تقدیره': 5902, 'تقدیم': 5903, 'تقلب': 5904, 'تقویم': 5905, 'تلاشتون': 5906, 'تلمبار': 5907, 'تلگرام': 5908, 'تمامشون': 5909, 'تمومش': 5910, 'تمومه': 5911, 'تنباکوی': 5912, 'تنو': 5913, 'تهدید': 5914, 'تهرانسر': 5915, 'تهرانی': 5916, 'تهه': 5917, 'توب': 5918, 'توتفرنگی': 5919, 'توسرخ': 5920, 'توضبحات': 5921, 'توضیحاتشون': 5922, 'تومنو': 5923, 'تومنیه': 5924, 'توهم': 5925, 'توک': 5926, 'تپلی': 5927, 'تکریم': 5928, 'تگری': 5929, 'تین': 5930, 'ثابتتونم': 5931, 'جاده': 5932, 'جالبیه': 5933, 'جامبو': 5934, 'جانانه': 5935, 'جانیفتاده': 5936, 'جایز': 5937, 'جایه': 5938, 'جت': 5939, 'جد': 5940, 'جداشده': 5941, 'جداشون': 5942, 'جدیدشون': 5943, 'جدیده': 5944, 'جذابه': 5945, 'جرعت': 5946, 'جزع': 5947, 'جزقاله': 5948, 'جزوه': 5949, 'جعیه': 5950, 'جلال': 5951, 'جلفا': 5952, 'جنبه': 5953, 'جنسایی': 5954, 'جهانی': 5955, 'جونتون': 5956, 'حاله': 5957, 'حده': 5958, 'حراست': 5959, 'حسابتون': 5960, 'حسب': 5961, 'حسنی': 5962, 'حلی': 5963, 'حمایت': 5964, 'حوردن': 5965, 'خاصه': 5966, 'خالا': 5967, 'خاموش': 5968, 'خد': 5969, 'خداحافظی': 5970, 'خذف': 5971, 'خرابه': 5972, 'خربزه': 5973, 'خرداد': 5974, 'خریدام': 5975, 'خریدامو': 5976, 'خریدمون': 5977, 'خشکید': 5978, 'خصوصی': 5979, 'خطرناک': 5980, 'خعلی': 5981, 'خمیرشده': 5982, 'خمیرشم': 5983, 'خمیرپیتزا': 5984, 'خواباند': 5985, 'خواستمو': 5986, 'خواهان': 5987, 'خوایم': 5988, 'خودتونه': 5989, 'خودتونو': 5990, 'خودن': 5991, 'خوراکه': 5992, 'خورشتتون': 5993, 'خورن': 5994, 'خوشحالی': 5995, 'خوشمززززه': 5996, 'خوشک': 5997, 'خوشگله': 5998, 'خوندن': 5999, 'خونگیه': 6000, 'خویی': 6001, 'خیارشوری': 6002, 'خیالمون': 6003, 'خیرشون': 6004, 'خیز': 6005, 'خیللللی': 6006, 'خیلیییییییییی': 6007, 'خیلیییییییییییی': 6008, 'خیلییییییییییییی': 6009, 'خیییلیی': 6010, 'دائما': 6011, 'دادمو': 6012, 'دارنو': 6013, 'داشتنیه': 6014, 'داع': 6015, 'داغو': 6016, 'دافع': 6017, 'دامستوس': 6018, 'دانمارکیه': 6019, 'داه': 6020, 'داگشم': 6021, 'داگم': 6022, 'دایمتون': 6023, 'درآمد': 6024, 'درآمده': 6025, 'درآن': 6026, 'درآوردی': 6027, 'دراوردی': 6028, 'دراگون': 6029, 'دربیاره': 6030, 'درتحویل': 6031, 'درجا': 6032, 'درجعبه': 6033, 'درخور': 6034, 'دردمون': 6035, 'درز': 6036, 'درمیاد': 6037, 'دروید': 6038, 'دریاچه': 6039, 'دریک': 6040, 'دستمریزاد': 6041, 'دستگیره': 6042, 'دسید': 6043, 'دشوار': 6044, 'دعا': 6045, 'دفعاتی': 6046, 'دفعست': 6047, 'دق': 6048, 'دقیقتون': 6049, 'دلسترها': 6050, 'دلستری': 6051, 'دلوسه': 6052, 'دلپیچه': 6053, 'دلچسبه': 6054, 'دندونام': 6055, 'دندونت': 6056, 'دهنشون': 6057, 'دوام': 6058, 'دوبارش': 6059, 'دورتادور': 6060, 'دورچبن': 6061, 'دورچینشم': 6062, 'دوساعته': 6063, 'دوستانه': 6064, 'دوستون': 6065, 'دوسه': 6066, 'دوسیخ': 6067, 'دوقلم': 6068, 'دولا': 6069, 'دوماه': 6070, 'دومدل': 6071, 'دومینوی': 6072, 'دونش': 6073, 'دونیم': 6074, 'دوکیلویی': 6075, 'دکه': 6076, 'دیجیتال': 6077, 'دیدگاه': 6078, 'دیزان': 6079, 'دینر': 6080, 'دیوونه': 6081, 'دیگرو': 6082, 'ذاشتن': 6083, 'ذخیره': 6084, 'ذکره': 6085, 'رادر': 6086, 'راظی': 6087, 'راهکار': 6088, 'رایج': 6089, 'رزق': 6090, 'رستبیف': 6091, 'رستوارن': 6092, 'رستورا': 6093, 'رستورانیه': 6094, 'رسوندین': 6095, 'رف': 6096, 'رفیق': 6097, 'رند': 6098, 'رنگه': 6099, 'روا': 6100, 'روان': 6101, 'روسفید': 6102, 'روشه': 6103, 'روعن': 6104, 'روغنشو': 6105, 'روغنشون': 6106, 'رولته': 6107, 'روو': 6108, 'روچر': 6109, 'روژین': 6110, 'رویایی': 6111, 'ریحونش': 6112, 'رینگ': 6113, 'زاد': 6114, 'زارن': 6115, 'زاید': 6116, 'زبونش': 6117, 'زحمتاتون': 6118, 'زرنگ': 6119, 'زسید': 6120, 'زعفرانیه': 6121, 'زل': 6122, 'زمستانی': 6123, 'زمینیشون': 6124, 'زمینیو': 6125, 'زندگیمو': 6126, 'زنگو': 6127, 'زهرمار': 6128, 'زو': 6129, 'زوج': 6130, 'زودرسید': 6131, 'زورشون': 6132, 'زوره': 6133, 'زووود': 6134, 'زیباست': 6135, 'زیپ': 6136, 'زیپو': 6137, 'ساعی': 6138, 'سالاداتون': 6139, 'سالاداش': 6140, 'سالادسزار': 6141, 'سالار': 6142, 'سالسا': 6143, 'سالگی': 6144, 'ساندویجها': 6145, 'ساندویجهای': 6146, 'ساندویچاتون': 6147, 'ساندویچشم': 6148, 'سانودیچ': 6149, 'ساکن': 6150, 'سخاوت': 6151, 'سرازیر': 6152, 'سرت': 6153, 'سردرگم': 6154, 'سردشون': 6155, 'سررررررد': 6156, 'سرررررررد': 6157, 'سرریز': 6158, 'سرماخورده': 6159, 'سرماخوردگی': 6160, 'سرمایه': 6161, 'سروته': 6162, 'سرویستون': 6163, 'سرویسدهی': 6164, 'سرویسشون': 6165, 'سریعتون': 6166, 'سریعه': 6167, 'سزارهای': 6168, 'سسو': 6169, 'سعید': 6170, 'سفار': 6171, 'سفارشتونو': 6172, 'سفازش': 6173, 'سلا': 6174, 'سلامتیتون': 6175, 'سلایق': 6176, 'سلف': 6177, 'سلفن': 6178, 'سوا': 6179, 'سواد': 6180, 'سوخاریا': 6181, 'سوخاریشم': 6182, 'سوختری': 6183, 'سورپرایزم': 6184, 'سوری': 6185, 'سونیک': 6186, 'سوپرماکت': 6187, 'سویسی': 6188, 'سپارش': 6189, 'سکته': 6190, 'سکوت': 6191, 'سیاهدانه': 6192, 'سیبزمین': 6193, 'سیرتون': 6194, 'سیستمتون': 6195, 'سیستمشون': 6196, 'سیستمی': 6197, 'سیمپل': 6198, 'سینگل': 6199, 'شاپ': 6200, 'شبرینی': 6201, 'شبیهه': 6202, 'شته': 6203, 'شخصیتی': 6204, 'شدددت': 6205, 'شدددددت': 6206, 'شدس': 6207, 'شدنی': 6208, 'شدو': 6209, 'شدیدن': 6210, 'شستن': 6211, 'شعار': 6212, 'شعاع': 6213, 'شماااا': 6214, 'شماهم': 6215, 'شمزه': 6216, 'شنا': 6217, 'شنبلیله': 6218, 'شنیتسل': 6219, 'شوئینگر': 6220, 'شوده': 6221, 'شونه': 6222, 'شونیز': 6223, 'شوه': 6224, 'شووور': 6225, 'شوووور': 6226, 'شکاری': 6227, 'شکلاتا': 6228, 'شکلاته': 6229, 'شکننده': 6230, 'شکیبایی': 6231, 'شیلاست': 6232, 'شیمودا': 6233, 'شیمیایی': 6234, 'شین': 6235, 'صادق': 6236, 'صدقه': 6237, 'صنفی': 6238, 'ضایعات': 6239, 'ضرف': 6240, 'ضعفه': 6241, 'ضلع': 6242, 'ضمنن': 6243, 'طارم': 6244, 'ظرفه': 6245, 'عااااااااااااااالی': 6246, 'عااااااااااااالی': 6247, 'عاشقشم': 6248, 'عاقل': 6249, 'عالللللللی': 6250, 'عالم': 6251, 'عالیشون': 6252, 'عالییییییییییی': 6253, 'عباس': 6254, 'عجیبیه': 6255, 'عدساش': 6256, 'عده': 6257, 'عروس': 6258, 'علارقم': 6259, 'عمرتون': 6260, 'عملکردتون': 6261, 'عمومی': 6262, 'عناب': 6263, 'عنایت': 6264, 'عکستون': 6265, 'عیار': 6266, 'عیدی': 6267, 'عینه': 6268, 'غذ': 6269, 'غذارا': 6270, 'غذامونو': 6271, 'غذاهاتونم': 6272, 'غذاو': 6273, 'غذاگرفتم': 6274, 'غذت': 6275, 'غرا': 6276, 'غریبی': 6277, 'غورابیج': 6278, 'غیرمنصفانه': 6279, 'فاز': 6280, 'فام': 6281, 'فامیل': 6282, 'فایل': 6283, 'فراموشی': 6284, 'فرانکفورتر': 6285, 'فرداست': 6286, 'فرمائید': 6287, 'فروشیا': 6288, 'فریب': 6289, 'فسنجونش': 6290, 'فنا': 6291, 'فنجان': 6292, 'فهمیدن': 6293, 'فوتبال': 6294, 'فودا': 6295, 'فودو': 6296, 'فومی': 6297, 'فووق': 6298, 'فوووق': 6299, 'فووووق': 6300, 'فوووووق': 6301, 'فکرنمیکنم': 6302, 'فیلاتو': 6303, 'فیلتر': 6304, 'فیلم': 6305, 'فیلینگ': 6306, 'قارچتون': 6307, 'قاسق': 6308, 'قاطعیت': 6309, 'قاطیه': 6310, 'قایم': 6311, 'قبلشم': 6312, 'قبلیه': 6313, 'قدیمیه': 6314, 'قراردهید': 6315, 'قربونش': 6316, 'قره': 6317, 'قریب': 6318, 'قزوین': 6319, 'قطعاتی': 6320, 'قیمتشه': 6321, 'لابه': 6322, 'لاقل': 6323, 'لاورز': 6324, 'لاکچری': 6325, 'لاین': 6326, 'لبنانی': 6327, 'لثه': 6328, 'لحظات': 6329, 'لز': 6330, 'لزج': 6331, 'لطافت': 6332, 'لطفااااا': 6333, 'لعنتی': 6334, 'لگو': 6335, 'لیته': 6336, 'لیموشیرین': 6337, 'مادلن': 6338, 'مادلین': 6339, 'مار': 6340, 'مارچوبه': 6341, 'مارکتهای': 6342, 'مارگاریتایی': 6343, 'مالیاتو': 6344, 'ماندگار': 6345, 'مانستر': 6346, 'مانیزان': 6347, 'ماژیک': 6348, 'ماکسیمم': 6349, 'مایوس': 6350, 'مایونزی': 6351, 'مایکرویو': 6352, 'مبلغشم': 6353, 'مبنا': 6354, 'مبود': 6355, 'مت': 6356, 'متآسفانه': 6357, 'متاثر': 6358, 'متاسفاته': 6359, 'متخصص': 6360, 'متداول': 6361, 'مترو': 6362, 'متریالش': 6363, 'متسفانه': 6364, 'متشکل': 6365, 'متعدد': 6366, 'متعلق': 6367, 'متغیره': 6368, 'متقاضی': 6369, 'متقبل': 6370, 'متمرکز': 6371, 'متوقف': 6372, 'متین': 6373, 'مجازی': 6374, 'مجبورا': 6375, 'مجبورید': 6376, 'مجرب': 6377, 'مجموعتون': 6378, 'مجیدیه': 6379, 'محال': 6380, 'محتوایات': 6381, 'محتوایی': 6382, 'محشرن': 6383, 'محصولشون': 6384, 'محمدی': 6385, 'مخبری': 6386, 'مخفی': 6387, 'مخلفاتشم': 6388, 'مداد': 6389, 'مداوم': 6390, 'مدته': 6391, 'مدعی': 6392, 'مدلشه': 6393, 'مدلیه': 6394, 'مدیترانه': 6395, 'مدیریتی': 6396, 'مذه': 6397, 'مرتفع': 6398, 'مرتکب': 6399, 'مردمو': 6400, 'مرررررسی': 6401, 'مرغشو': 6402, 'مریم': 6403, 'مزخرفه': 6404, 'مزخزف': 6405, 'مزهٔ': 6406, 'مسافر': 6407, 'مسبت': 6408, 'مسولیت': 6409, 'مسولین': 6410, 'مسیولیت': 6411, 'مشتریتونم': 6412, 'مشد': 6413, 'مشگل': 6414, 'مصاف': 6415, 'مصداق': 6416, 'مطمعنا': 6417, 'مطمین': 6418, 'معانی': 6419, 'معرکست': 6420, 'معنوی': 6421, 'معکوس': 6422, 'مغر': 6423, 'ملاصدرا': 6424, 'ملاط': 6425, 'ملاقه': 6426, 'ممنوووون': 6427, 'ممنوووونم': 6428, 'مناسبتری': 6429, 'مناسبتون': 6430, 'مندم': 6431, 'منزلمون': 6432, 'منظره': 6433, 'منفجر': 6434, 'منهای': 6435, 'منوها': 6436, 'مهربون': 6437, 'مهمانمون': 6438, 'مهمونش': 6439, 'مهندسی': 6440, 'مهیا': 6441, 'موادب': 6442, 'موادتون': 6443, 'موادشون': 6444, 'موافق': 6445, 'مود': 6446, 'مودبتون': 6447, 'موعود': 6448, 'مولپد': 6449, 'موندست': 6450, 'مویز': 6451, 'مکزیکن': 6452, 'مکعبی': 6453, 'مکنم': 6454, 'مگرنه': 6455, 'میانی': 6456, 'میاوردم': 6457, 'میایم': 6458, 'میبرن': 6459, 'میبینه': 6460, 'میتزا': 6461, 'میتونستند': 6462, 'میخاین': 6463, 'میخواستین': 6464, 'میخوایید': 6465, 'میدادو': 6466, 'میداذ': 6467, 'میدارن': 6468, 'میداره': 6469, 'میدونین': 6470, 'میرسن': 6471, 'میرسونند': 6472, 'میرندا': 6473, 'میریختن': 6474, 'میزاشتیم': 6475, 'میشده': 6476, 'میشینیم': 6477, 'میفتاد': 6478, 'میفروشین': 6479, 'میفیت': 6480, 'مینویسین': 6481, 'میپرسه': 6482, 'میپرسیدین': 6483, 'میک': 6484, 'میکروسکوپ': 6485, 'میگذاشتن': 6486, 'میگردوندم': 6487, 'ناراضین': 6488, 'نارضی': 6489, 'نارلضی': 6490, 'نارک': 6491, 'ناسالم': 6492, 'ناشایست': 6493, 'ناشناس': 6494, 'نامربوط': 6495, 'نامناسبه': 6496, 'نامید': 6497, 'نانو': 6498, 'نبره': 6499, 'نبوددد': 6500, 'نبودولی': 6501, 'نبور': 6502, 'نبوووود': 6503, 'نتوستم': 6504, 'نتونن': 6505, 'نتیجتا': 6506, 'نجات': 6507, 'نخ': 6508, 'نخوایم': 6509, 'نخوردین': 6510, 'نخی': 6511, 'ندارع': 6512, 'ندیدن': 6513, 'نزاشتید': 6514, 'نزاکت': 6515, 'نزدیکمون': 6516, 'نزه': 6517, 'نسترن': 6518, 'نسله': 6519, 'نسوخته': 6520, 'نسیت': 6521, 'نشم': 6522, 'نصیب': 6523, 'نطرم': 6524, 'نظارتتون': 6525, 'نظاره': 6526, 'نظراتشون': 6527, 'نظراتو': 6528, 'نفرس': 6529, 'نفس': 6530, 'نماند': 6531, 'نمایان': 6532, 'نمکدون': 6533, 'نمکه': 6534, 'نمیام': 6535, 'نمیبره': 6536, 'نمیخاد': 6537, 'نمیخونن': 6538, 'نمیذاشتین': 6539, 'نمیرزه': 6540, 'نمیصرفید': 6541, 'نمیکشه': 6542, 'نمیکنین': 6543, 'ننویسین': 6544, 'نواخت': 6545, 'نوبه': 6546, 'نور': 6547, 'نوروز': 6548, 'نوستالوژی': 6549, 'نوشابش': 6550, 'نوشین': 6551, 'نولند': 6552, 'نوین': 6553, 'نکشه': 6554, 'نکه': 6555, 'نگرانی': 6556, 'نیازمند': 6557, 'نیوا': 6558, 'نیورده': 6559, 'نیویورک': 6560, 'هاتداگش': 6561, 'هادداگ': 6562, 'هاشونو': 6563, 'هایه': 6564, 'هایپرمارکت': 6565, 'هرجوری': 6566, 'هرشب': 6567, 'هروز': 6568, 'هرکاری': 6569, 'هزارتومنم': 6570, 'هزارم': 6571, 'هزینشم': 6572, 'هزینشه': 6573, 'هفتم': 6574, 'همبرگرا': 6575, 'همبرگرای': 6576, 'همبرگرهاش': 6577, 'همبرگرو': 6578, 'همراهشم': 6579, 'همراهی': 6580, 'همزده': 6581, 'همزن': 6582, 'همشم': 6583, 'همشهری': 6584, 'هممون': 6585, 'همیشع': 6586, 'هنه': 6587, 'هنوزهم': 6588, 'هویچش': 6589, 'هک': 6590, 'هیچکی': 6591, 'هییییچ': 6592, 'واااای': 6593, 'وااقعا': 6594, 'وار': 6595, 'وارده': 6596, 'واقعاا': 6597, 'واقعااااااا': 6598, 'واقعاکه': 6599, 'واقعیه': 6600, 'وال': 6601, 'واو': 6602, 'واکس': 6603, 'واگذار': 6604, 'واگرنه': 6605, 'وبد': 6606, 'وبدمزه': 6607, 'وبعد': 6608, 'وبیشتر': 6609, 'وتمیز': 6610, 'وتنوع': 6611, 'وتو': 6612, 'وج': 6613, 'وحود': 6614, 'وخوبی': 6615, 'وخیارشور': 6616, 'ودرست': 6617, 'ودقیق': 6618, 'وراضی': 6619, 'ورژن': 6620, 'وزود': 6621, 'وسالاد': 6622, 'وسواس': 6623, 'وسیع': 6624, 'وطبق': 6625, 'وطعمش': 6626, 'وعطر': 6627, 'وغذای': 6628, 'وفتی': 6629, 'وفلفل': 6630, 'وقتایی': 6631, 'ومثل': 6632, 'ومخلفات': 6633, 'ومشتری': 6634, 'ومواد': 6635, 'ومونده': 6636, 'وهات': 6637, 'وهزینه': 6638, 'وپس': 6639, 'وپیاز': 6640, 'وچون': 6641, 'وکارکنان': 6642, 'وکوچک': 6643, 'وکیک': 6644, 'ویترین': 6645, 'ویل': 6646, '٥تا': 6647, '٥دقیقه': 6648, 'پابین': 6649, 'پاتی': 6650, 'پارمژان': 6651, 'پارمیزان': 6652, 'پارگی': 6653, 'پاس': 6654, 'پاستارو': 6655, 'پاستیلی': 6656, 'پاش': 6657, 'پاشیدن': 6658, 'پاطی': 6659, 'پالرمو': 6660, 'پاور': 6661, 'پاپایا': 6662, 'پاپیونی': 6663, 'پاکیزه': 6664, 'پایبند': 6665, 'پایینتره': 6666, 'پذیرفتنی': 6667, 'پرانتز': 6668, 'پرخور': 6669, 'پررر': 6670, 'پررویی': 6671, 'پرسش': 6672, 'پرشده': 6673, 'پرفروش': 6674, 'پروانه': 6675, 'پروتئین': 6676, 'پروتئینی': 6677, 'پروپا': 6678, 'پرپروکم': 6679, 'پرژک': 6680, 'پریما': 6681, 'پرینگلز': 6682, 'پستوی': 6683, 'پسرخوب': 6684, 'پشتی': 6685, 'پلوتون': 6686, 'پنبر': 6687, 'پنجه': 6688, 'پنهان': 6689, 'پنیراش': 6690, 'پنیز': 6691, 'پوز': 6692, 'پوستی': 6693, 'پوشیه': 6694, 'پولشون': 6695, 'پولمونو': 6696, 'پوچ': 6697, 'پپرونیه': 6698, 'پیازه': 6699, 'پیازو': 6700, 'پیتزاخیلی': 6701, 'پیتزاسیب': 6702, 'پیتزاشه': 6703, 'پیتزافروشی': 6704, 'پیتزامون': 6705, 'پیتزاهارو': 6706, 'پیتزاهاشم': 6707, 'پیتزاهاشو': 6708, 'پیتزاییه': 6709, 'پیراشکیها': 6710, 'پیرونی': 6711, 'پیزای': 6712, 'پیشنهادات': 6713, 'پیل': 6714, 'پیلوت': 6715, 'پیمان': 6716, 'پیکر': 6717, 'پیگری': 6718, 'چابی': 6719, 'چارک': 6720, 'چخبره': 6721, 'چراکه': 6722, 'چرت': 6723, 'چرررب': 6724, 'چرم': 6725, 'چروک': 6726, 'چشمام': 6727, 'چشمک': 6728, 'چطوره': 6729, 'چلومرغ': 6730, 'چمن': 6731, 'چندساعت': 6732, 'چهارشنبه': 6733, 'چهارمه': 6734, 'چهارنفر': 6735, 'چهلو': 6736, 'چوریتسو': 6737, 'چگوارا': 6738, 'چیزبرگری': 6739, 'چیزکیکش': 6740, 'چیزکیکی': 6741, 'چیس': 6742, 'چیپلت': 6743, 'ژوزک': 6744, 'کات': 6745, 'کارایی': 6746, 'کاردرست': 6747, 'کاررفته': 6748, 'کارزانا': 6749, 'کارشو': 6750, 'کارنه': 6751, 'کاسب': 6752, 'کاشت': 6753, 'کافیست': 6754, 'کامرانیه': 6755, 'کامنتا': 6756, 'کامیون': 6757, 'کانادایی': 6758, 'کاهوشم': 6759, 'کاکادو': 6760, 'کبک': 6761, 'کدومه': 6762, 'کرانبری': 6763, 'کردنشون': 6764, 'کردنه': 6765, 'کرفتم': 6766, 'کرفتن': 6767, 'کرمانشاهی': 6768, 'کروسانی': 6769, 'کشف': 6770, 'کعب': 6771, 'کلشو': 6772, 'کمر': 6773, 'کمنر': 6774, 'کمید': 6775, 'کندو': 6776, 'کوبیدتون': 6777, 'کوجیک': 6778, 'کودوم': 6779, 'کوه': 6780, 'کوچلو': 6781, 'کوچمونه': 6782, 'کوچکه': 6783, 'کوچیکا': 6784, 'کوچیکن': 6785, 'کوکوسبزی': 6786, 'کوکیز': 6787, 'کیست': 6788, 'کیغیت': 6789, 'کیفیتا': 6790, 'کیفیتون': 6791, 'کیفیتیو': 6792, 'کیل': 6793, 'گارلیک': 6794, 'گان': 6795, 'گاندی': 6796, 'گاها': 6797, 'گذر': 6798, 'گذره': 6799, 'گر': 6800, 'گربه': 6801, 'گردان': 6802, 'گرده': 6803, 'گرمایی': 6804, 'گرمتون': 6805, 'گرو': 6806, 'گریست': 6807, 'گزاف': 6808, 'گزافی': 6809, 'گشتی': 6810, 'گلکسی': 6811, 'گنجانده': 6812, 'گنجدی': 6813, 'گندیده': 6814, 'گوشتتون': 6815, 'گوشتکوب': 6816, 'گوشکوب': 6817, 'گوچه': 6818, 'گوچیک': 6819, 'گیاهخوار': 6820, 'گیلان': 6821, 'یاداوری': 6822, 'یاده': 6823, 'یاقوت': 6824, 'یاندویچ': 6825, 'یتزا': 6826, 'یخچالشون': 6827, 'یدفعه': 6828, 'یزره': 6829, 'یسری': 6830, 'یسیار': 6831, 'یع': 6832, 'یلداتون': 6833, 'یهتر': 6834, 'یوخ': 6835, 'یچیز': 6836, 'یکدونه': 6837, 'یکروز': 6838, 'یکساله': 6839, 'یکنفر': 6840, 'یکه': 6841})\n"
          ]
        }
      ]
    },
    {
      "cell_type": "markdown",
      "metadata": {
        "id": "1PTihyyObro5"
      },
      "source": [
        "Now, we will prepare batches for training the model. We use BucketIterator for this work.\n",
        "\n",
        "In this problem, we use BucketIterator, because we want to use LSTM (a kind of recurrent neural network), and it accepts inputs with fixed size (because our texts are in different sizes, we should use padding for this work). So using BucketIterator helps us to have little processing for padding."
      ]
    },
    {
      "cell_type": "code",
      "metadata": {
        "id": "34rL5YSXc1on"
      },
      "source": [
        "train_batch_size = 10\n",
        "valid_batch_size = 20\n",
        "test_batch_size = 20"
      ],
      "execution_count": 13,
      "outputs": []
    },
    {
      "cell_type": "code",
      "metadata": {
        "id": "VXr5-yzjb5h_"
      },
      "source": [
        "# create dataloader\n",
        "train_loader = data.BucketIterator(train_data, train_batch_size, sort_key= lambda x: len(x.preprocessing_text),\n",
        "                                  train=True, shuffle=True, sort_within_batch=True)\n",
        "\n",
        "valid_loader = data.BucketIterator(valid_data, valid_batch_size, sort_key= lambda x: len(x.preprocessing_text),\n",
        "                                  train=False, shuffle=False, sort_within_batch=True)\n",
        "\n",
        "test_loader = data.BucketIterator(test_data, test_batch_size, sort_key= lambda x: len(x.preprocessing_text),\n",
        "                                  train=False, shuffle=False, sort_within_batch=True)\n"
      ],
      "execution_count": 14,
      "outputs": []
    },
    {
      "cell_type": "code",
      "metadata": {
        "colab": {
          "base_uri": "https://localhost:8080/"
        },
        "id": "30l0HIWXeIfe",
        "outputId": "eb5ba62b-4ace-4fcc-df20-1712baf77440"
      },
      "source": [
        "print(f'length of train_dataset is : {len(train_data)} and length of train_loader is : {len(train_loader)}')\n",
        "print(f'length of valid_dataset is : {len(valid_data)} and length of valid_loader is : {len(valid_loader)}')\n",
        "print(f'length of test_dataset is : {len(test_data)} and length of test_loader is : {len(test_loader)}')"
      ],
      "execution_count": 15,
      "outputs": [
        {
          "output_type": "stream",
          "name": "stdout",
          "text": [
            "length of train_dataset is : 56495 and length of train_loader is : 5650\n",
            "length of valid_dataset is : 6286 and length of valid_loader is : 315\n",
            "length of test_dataset is : 6979 and length of test_loader is : 349\n"
          ]
        }
      ]
    },
    {
      "cell_type": "markdown",
      "metadata": {
        "id": "3cAZTv3ZhZDi"
      },
      "source": [
        "Let's look at frist batch of train_loader. As we see, BucketIterator takes texts with similar length in one batch."
      ]
    },
    {
      "cell_type": "markdown",
      "metadata": {
        "id": "xkQPOnP9m9HX"
      },
      "source": [
        "**It's important to call create_batches() before each epoch**"
      ]
    },
    {
      "cell_type": "code",
      "metadata": {
        "colab": {
          "base_uri": "https://localhost:8080/"
        },
        "id": "jGBvvHaigIjq",
        "outputId": "e6366d0c-9c5f-422d-f742-4a62c3904eca"
      },
      "source": [
        "train_loader.create_batches()\n",
        "for batch in train_loader.batches:\n",
        "  print(f'batch size : {len(batch)}')\n",
        "  print(batch)\n",
        "\n",
        "  for example in batch:\n",
        "    print(f'example label : {example.label} | example length : {len(example.preprocessing_text)}')\n",
        "  break  "
      ],
      "execution_count": 39,
      "outputs": [
        {
          "output_type": "stream",
          "name": "stdout",
          "text": [
            "batch size : 10\n",
            "[<torchtext.legacy.data.example.Example object at 0x7fe544004410>, <torchtext.legacy.data.example.Example object at 0x7fe563f37e90>, <torchtext.legacy.data.example.Example object at 0x7fe54f5cedd0>, <torchtext.legacy.data.example.Example object at 0x7fe54db41f10>, <torchtext.legacy.data.example.Example object at 0x7fe564003090>, <torchtext.legacy.data.example.Example object at 0x7fe55cc3ce90>, <torchtext.legacy.data.example.Example object at 0x7fe559a810d0>, <torchtext.legacy.data.example.Example object at 0x7fe55eb1ce90>, <torchtext.legacy.data.example.Example object at 0x7fe5609cfe10>, <torchtext.legacy.data.example.Example object at 0x7fe545415210>]\n",
            "example label : 0 | example length : 492\n",
            "example label : 0 | example length : 492\n",
            "example label : 0 | example length : 492\n",
            "example label : 1 | example length : 492\n",
            "example label : 0 | example length : 492\n",
            "example label : 0 | example length : 492\n",
            "example label : 1 | example length : 492\n",
            "example label : 1 | example length : 492\n",
            "example label : 0 | example length : 492\n",
            "example label : 0 | example length : 492\n"
          ]
        }
      ]
    },
    {
      "cell_type": "code",
      "metadata": {
        "colab": {
          "base_uri": "https://localhost:8080/"
        },
        "id": "ckXL8AXigxER",
        "outputId": "0f3a0256-de76-40ed-8e25-bf598c34406f"
      },
      "source": [
        "example.preprocessing_text"
      ],
      "execution_count": 40,
      "outputs": [
        {
          "output_type": "execute_result",
          "data": {
            "text/plain": [
              "['مرد',\n",
              " 'گشنگی',\n",
              " 'پیتزا',\n",
              " 'سرد',\n",
              " 'پپرونی',\n",
              " 'عالی',\n",
              " 'کوچیک',\n",
              " 'گشنمونه',\n",
              " 'خخخخخخ',\n",
              " '<',\n",
              " 'pad',\n",
              " '>',\n",
              " '<',\n",
              " 'pad',\n",
              " '>',\n",
              " '<',\n",
              " 'pad',\n",
              " '>',\n",
              " '<',\n",
              " 'pad',\n",
              " '>',\n",
              " '<',\n",
              " 'pad',\n",
              " '>',\n",
              " '<',\n",
              " 'pad',\n",
              " '>',\n",
              " '<',\n",
              " 'pad',\n",
              " '>',\n",
              " '<',\n",
              " 'pad',\n",
              " '>',\n",
              " '<',\n",
              " 'pad',\n",
              " '>',\n",
              " '<',\n",
              " 'pad',\n",
              " '>',\n",
              " '<',\n",
              " 'pad',\n",
              " '>',\n",
              " '<',\n",
              " 'pad',\n",
              " '>',\n",
              " '<',\n",
              " 'pad',\n",
              " '>',\n",
              " '<',\n",
              " 'pad',\n",
              " '>',\n",
              " '<',\n",
              " 'pad',\n",
              " '>',\n",
              " '<',\n",
              " 'pad',\n",
              " '>',\n",
              " '<',\n",
              " 'pad',\n",
              " '>',\n",
              " '<',\n",
              " 'pad',\n",
              " '>',\n",
              " '<',\n",
              " 'pad',\n",
              " '>',\n",
              " '<',\n",
              " 'pad',\n",
              " '>',\n",
              " '<',\n",
              " 'pad',\n",
              " '>',\n",
              " '<',\n",
              " 'pad',\n",
              " '>',\n",
              " '<',\n",
              " 'pad',\n",
              " '>',\n",
              " '<',\n",
              " 'pad',\n",
              " '>',\n",
              " '<',\n",
              " 'pad',\n",
              " '>',\n",
              " '<',\n",
              " 'pad',\n",
              " '>',\n",
              " '<',\n",
              " 'pad',\n",
              " '>',\n",
              " '<',\n",
              " 'pad',\n",
              " '>',\n",
              " '<',\n",
              " 'pad',\n",
              " '>',\n",
              " '<',\n",
              " 'pad',\n",
              " '>',\n",
              " '<',\n",
              " 'pad',\n",
              " '>',\n",
              " '<',\n",
              " 'pad',\n",
              " '>',\n",
              " '<',\n",
              " 'pad',\n",
              " '>',\n",
              " '<',\n",
              " 'pad',\n",
              " '>',\n",
              " '<',\n",
              " 'pad',\n",
              " '>',\n",
              " '<',\n",
              " 'pad',\n",
              " '>',\n",
              " '<',\n",
              " 'pad',\n",
              " '>',\n",
              " '<',\n",
              " 'pad',\n",
              " '>',\n",
              " '<',\n",
              " 'pad',\n",
              " '>',\n",
              " '<',\n",
              " 'pad',\n",
              " '>',\n",
              " '<',\n",
              " 'pad',\n",
              " '>',\n",
              " '<',\n",
              " 'pad',\n",
              " '>',\n",
              " '<',\n",
              " 'pad',\n",
              " '>',\n",
              " '<',\n",
              " 'pad',\n",
              " '>',\n",
              " '<',\n",
              " 'pad',\n",
              " '>',\n",
              " '<',\n",
              " 'pad',\n",
              " '>',\n",
              " '<',\n",
              " 'pad',\n",
              " '>',\n",
              " '<',\n",
              " 'pad',\n",
              " '>',\n",
              " '<',\n",
              " 'pad',\n",
              " '>',\n",
              " '<',\n",
              " 'pad',\n",
              " '>',\n",
              " '<',\n",
              " 'pad',\n",
              " '>',\n",
              " '<',\n",
              " 'pad',\n",
              " '>',\n",
              " '<',\n",
              " 'pad',\n",
              " '>',\n",
              " '<',\n",
              " 'pad',\n",
              " '>',\n",
              " '<',\n",
              " 'pad',\n",
              " '>',\n",
              " '<',\n",
              " 'pad',\n",
              " '>',\n",
              " '<',\n",
              " 'pad',\n",
              " '>',\n",
              " '<',\n",
              " 'pad',\n",
              " '>',\n",
              " '<',\n",
              " 'pad',\n",
              " '>',\n",
              " '<',\n",
              " 'pad',\n",
              " '>',\n",
              " '<',\n",
              " 'pad',\n",
              " '>',\n",
              " '<',\n",
              " 'pad',\n",
              " '>',\n",
              " '<',\n",
              " 'pad',\n",
              " '>',\n",
              " '<',\n",
              " 'pad',\n",
              " '>',\n",
              " '<',\n",
              " 'pad',\n",
              " '>',\n",
              " '<',\n",
              " 'pad',\n",
              " '>',\n",
              " '<',\n",
              " 'pad',\n",
              " '>',\n",
              " '<',\n",
              " 'pad',\n",
              " '>',\n",
              " '<',\n",
              " 'pad',\n",
              " '>',\n",
              " '<',\n",
              " 'pad',\n",
              " '>',\n",
              " '<',\n",
              " 'pad',\n",
              " '>',\n",
              " '<',\n",
              " 'pad',\n",
              " '>',\n",
              " '<',\n",
              " 'pad',\n",
              " '>',\n",
              " '<',\n",
              " 'pad',\n",
              " '>',\n",
              " '<',\n",
              " 'pad',\n",
              " '>',\n",
              " '<',\n",
              " 'pad',\n",
              " '>',\n",
              " '<',\n",
              " 'pad',\n",
              " '>',\n",
              " '<',\n",
              " 'pad',\n",
              " '>',\n",
              " '<',\n",
              " 'pad',\n",
              " '>',\n",
              " '<',\n",
              " 'pad',\n",
              " '>',\n",
              " '<',\n",
              " 'pad',\n",
              " '>',\n",
              " '<',\n",
              " 'pad',\n",
              " '>',\n",
              " '<',\n",
              " 'pad',\n",
              " '>',\n",
              " '<',\n",
              " 'pad',\n",
              " '>',\n",
              " '<',\n",
              " 'pad',\n",
              " '>',\n",
              " '<',\n",
              " 'pad',\n",
              " '>',\n",
              " '<',\n",
              " 'pad',\n",
              " '>',\n",
              " '<',\n",
              " 'pad',\n",
              " '>',\n",
              " '<',\n",
              " 'pad',\n",
              " '>',\n",
              " '<',\n",
              " 'pad',\n",
              " '>',\n",
              " '<',\n",
              " 'pad',\n",
              " '>',\n",
              " '<',\n",
              " 'pad',\n",
              " '>',\n",
              " '<',\n",
              " 'pad',\n",
              " '>',\n",
              " '<',\n",
              " 'pad',\n",
              " '>',\n",
              " '<',\n",
              " 'pad',\n",
              " '>',\n",
              " '<',\n",
              " 'pad',\n",
              " '>',\n",
              " '<',\n",
              " 'pad',\n",
              " '>',\n",
              " '<',\n",
              " 'pad',\n",
              " '>',\n",
              " '<',\n",
              " 'pad',\n",
              " '>',\n",
              " '<',\n",
              " 'pad',\n",
              " '>',\n",
              " '<',\n",
              " 'pad',\n",
              " '>',\n",
              " '<',\n",
              " 'pad',\n",
              " '>',\n",
              " '<',\n",
              " 'pad',\n",
              " '>',\n",
              " '<',\n",
              " 'pad',\n",
              " '>',\n",
              " '<',\n",
              " 'pad',\n",
              " '>',\n",
              " '<',\n",
              " 'pad',\n",
              " '>',\n",
              " '<',\n",
              " 'pad',\n",
              " '>',\n",
              " '<',\n",
              " 'pad',\n",
              " '>',\n",
              " '<',\n",
              " 'pad',\n",
              " '>',\n",
              " '<',\n",
              " 'pad',\n",
              " '>',\n",
              " '<',\n",
              " 'pad',\n",
              " '>',\n",
              " '<',\n",
              " 'pad',\n",
              " '>',\n",
              " '<',\n",
              " 'pad',\n",
              " '>',\n",
              " '<',\n",
              " 'pad',\n",
              " '>',\n",
              " '<',\n",
              " 'pad',\n",
              " '>',\n",
              " '<',\n",
              " 'pad',\n",
              " '>',\n",
              " '<',\n",
              " 'pad',\n",
              " '>',\n",
              " '<',\n",
              " 'pad',\n",
              " '>',\n",
              " '<',\n",
              " 'pad',\n",
              " '>',\n",
              " '<',\n",
              " 'pad',\n",
              " '>',\n",
              " '<',\n",
              " 'pad',\n",
              " '>',\n",
              " '<',\n",
              " 'pad',\n",
              " '>',\n",
              " '<',\n",
              " 'pad',\n",
              " '>',\n",
              " '<',\n",
              " 'pad',\n",
              " '>',\n",
              " '<',\n",
              " 'pad',\n",
              " '>',\n",
              " '<',\n",
              " 'pad',\n",
              " '>',\n",
              " '<',\n",
              " 'pad',\n",
              " '>',\n",
              " '<',\n",
              " 'pad',\n",
              " '>',\n",
              " '<',\n",
              " 'pad',\n",
              " '>',\n",
              " '<',\n",
              " 'pad',\n",
              " '>',\n",
              " '<',\n",
              " 'pad',\n",
              " '>',\n",
              " '<',\n",
              " 'pad',\n",
              " '>',\n",
              " '<',\n",
              " 'pad',\n",
              " '>',\n",
              " '<',\n",
              " 'pad',\n",
              " '>',\n",
              " '<',\n",
              " 'pad',\n",
              " '>',\n",
              " '<',\n",
              " 'pad',\n",
              " '>',\n",
              " '<',\n",
              " 'pad',\n",
              " '>',\n",
              " '<',\n",
              " 'pad',\n",
              " '>',\n",
              " '<',\n",
              " 'pad',\n",
              " '>',\n",
              " '<',\n",
              " 'pad',\n",
              " '>',\n",
              " '<',\n",
              " 'pad',\n",
              " '>',\n",
              " '<',\n",
              " 'pad',\n",
              " '>',\n",
              " '<',\n",
              " 'pad',\n",
              " '>',\n",
              " '<',\n",
              " 'pad',\n",
              " '>',\n",
              " '<',\n",
              " 'pad',\n",
              " '>',\n",
              " '<',\n",
              " 'pad',\n",
              " '>',\n",
              " '<',\n",
              " 'pad',\n",
              " '>',\n",
              " '<',\n",
              " 'pad',\n",
              " '>',\n",
              " '<',\n",
              " 'pad',\n",
              " '>',\n",
              " '<',\n",
              " 'pad',\n",
              " '>',\n",
              " '<',\n",
              " 'pad',\n",
              " '>',\n",
              " '<',\n",
              " 'pad',\n",
              " '>',\n",
              " '<',\n",
              " 'pad',\n",
              " '>',\n",
              " '<',\n",
              " 'pad',\n",
              " '>',\n",
              " '<',\n",
              " 'pad',\n",
              " '>',\n",
              " '<',\n",
              " 'pad',\n",
              " '>',\n",
              " '<',\n",
              " 'pad',\n",
              " '>',\n",
              " '<',\n",
              " 'pad',\n",
              " '>',\n",
              " '<',\n",
              " 'pad',\n",
              " '>',\n",
              " '<',\n",
              " 'pad',\n",
              " '>',\n",
              " '<',\n",
              " 'pad',\n",
              " '>']"
            ]
          },
          "metadata": {},
          "execution_count": 40
        }
      ]
    },
    {
      "cell_type": "markdown",
      "metadata": {
        "id": "UD02j4gGVi4x"
      },
      "source": [
        "Let's take a look at one batch of train_loader."
      ]
    },
    {
      "cell_type": "markdown",
      "metadata": {
        "id": "AO-Pa3v_zj3H"
      },
      "source": [
        "As we see in the following cell, when print text_, we expect to have tensor shape like (batch_size * text_length), but this text have shape like (text_length * batch_size ), So we should inverse shape of text before feed it to our model.(my explain it's true when we don't use batch_first=True in TEXT, if use batch_first we don't need to inverse x.transpose() because it makes it in a wrong shape)"
      ]
    },
    {
      "cell_type": "code",
      "metadata": {
        "colab": {
          "base_uri": "https://localhost:8080/"
        },
        "id": "CobR10fkHXMi",
        "outputId": "cc4b76a8-b14f-41a5-af3c-c39c06480d08"
      },
      "source": [
        "example = iter(train_loader)\n",
        "text_, label_= next(example)\n",
        "print(f'label :{label_}')\n",
        "print(f'text : {text_[0]}')\n",
        "print(f'text_length : {text_[1]}')"
      ],
      "execution_count": 41,
      "outputs": [
        {
          "output_type": "stream",
          "name": "stdout",
          "text": [
            "label :tensor([1., 0., 0., 0., 1., 1., 1., 0., 0., 1.])\n",
            "text : tensor([[  68,   14,  199,  ...,    2,    4,    3],\n",
            "        [  18,   25,    9,  ...,    2,    4,    3],\n",
            "        [  46,  382,   22,  ...,    2,    4,    3],\n",
            "        ...,\n",
            "        [   0,  127, 4066,  ...,    2,    4,    3],\n",
            "        [ 702,   30, 3777,  ...,    2,    4,    3],\n",
            "        [  21,    5,    6,  ...,    2,    4,    3]])\n",
            "text_length : tensor([500, 500, 500, 500, 500, 500, 500, 500, 500, 500])\n"
          ]
        }
      ]
    },
    {
      "cell_type": "code",
      "metadata": {
        "colab": {
          "base_uri": "https://localhost:8080/"
        },
        "id": "V0i9ss9brIkD",
        "outputId": "4c47bbc0-944f-4d2b-cc9c-915f823293ac"
      },
      "source": [
        "for batchess in train_loader:\n",
        "  x, y = batchess.preprocessing_text\n",
        "  x = torch.transpose(x, 0, 1)\n",
        "  print(f'len batch :{len(batchess)}')\n",
        "  print(f'text:{x}')\n",
        "  print(f'text shape : {x.shape}')\n",
        "  print(f'len text : {len(x)}')\n",
        "  print(f'text_length : {y}')\n",
        "  break\n"
      ],
      "execution_count": 42,
      "outputs": [
        {
          "output_type": "stream",
          "name": "stdout",
          "text": [
            "len batch :10\n",
            "text:tensor([[  12,   40,   46,  ...,   53,  104,  150],\n",
            "        [ 159, 1195,   25,  ...,   43,    0,   19],\n",
            "        [  26,  262,  200,  ...,   93,   29,   27],\n",
            "        ...,\n",
            "        [   2,    2,    2,  ...,    2,    3,    3],\n",
            "        [   4,    4,    4,  ...,    4,    1,    1],\n",
            "        [   3,    3,    3,  ...,    3,    1,    1]])\n",
            "text shape : torch.Size([472, 10])\n",
            "len text : 472\n",
            "text_length : tensor([472, 472, 472, 472, 472, 472, 472, 472, 470, 470])\n"
          ]
        }
      ]
    },
    {
      "cell_type": "code",
      "metadata": {
        "colab": {
          "base_uri": "https://localhost:8080/"
        },
        "id": "4LIds8xF9c09",
        "outputId": "dfe3d244-e8e0-400c-8cdb-8f3bc7bb7dbe"
      },
      "source": [
        "int(batchess.label[0].item())"
      ],
      "execution_count": 43,
      "outputs": [
        {
          "output_type": "execute_result",
          "data": {
            "text/plain": [
              "1"
            ]
          },
          "metadata": {},
          "execution_count": 43
        }
      ]
    },
    {
      "cell_type": "code",
      "metadata": {
        "id": "OMafXOKvhV-K"
      },
      "source": [
        "torch.save(model1, '/content/drive/MyDrive/AI-Internship/model5LSTM_snappfood') # model1 with 10 epochs"
      ],
      "execution_count": null,
      "outputs": []
    },
    {
      "cell_type": "markdown",
      "metadata": {
        "id": "wXiXEyoV1pa7"
      },
      "source": [
        "### Building model"
      ]
    },
    {
      "cell_type": "markdown",
      "metadata": {
        "id": "EaHSlDLC1xfn"
      },
      "source": [
        "In this section, we want to build CNN model and use it for sentiment analysis on SnappFood dataset. we should define a class for our modle. we don't need anything, because we define dataloader and anything we need(i.e. vocabulary) before."
      ]
    },
    {
      "cell_type": "code",
      "metadata": {
        "id": "jobsHfWoq65s"
      },
      "source": [
        "class CNN(nn.Module):\n",
        "  def __init__(self, vocab_size, embedding_dim, n_filters, filter_sizes, output_dim\n",
        "               , dropout, pad_idx):\n",
        "    super(CNN, self).__init__()\n",
        "    \n",
        "    # we consider embedding layer as a lookup table that assigns each word a vector\n",
        "    self.embedding = nn.Embedding(vocab_size, embedding_dim, padding_idx=pad_idx)\n",
        "    \n",
        "    # we define convolutional layers in ModuleList\n",
        "    self.convs = nn.ModuleList([nn.Conv2d(in_channels=1, out_channels=n_filters, kernel_size=(fs, embedding_dim)) \n",
        "                                         for fs in filter_sizes])\n",
        "\n",
        "    self.fc = nn.Linear(len(filter_sizes)*n_filters, output_dim)\n",
        "\n",
        "    self.dropout = nn.Dropout(dropout)\n",
        "    self.sigmoid = nn.Sigmoid()\n",
        "\n",
        "  def forward(self, text):\n",
        "    \n",
        "    # text = [batch_size, sent length]\n",
        "    embedded = self.embedding(text)\n",
        "\n",
        "    # because min len text ==1, we should add 4 to it dimention, because our max kernel size is 5\n",
        "    embedded = F.pad(embedded, (0,0,2,2), \"constant\", 0)\n",
        "\n",
        "    # embedded = [batch_size, sent length, emb dim]\n",
        "    embedded = embedded.unsqueeze(1)\n",
        "\n",
        "    # embedded = [batch_size, 1, sent length, emb dim]\n",
        "    conved = [F.relu(conv(embedded)).squeeze(3) for conv in self.convs]\n",
        "\n",
        "    # conved_n = [batch_size, n_filters, sent length-filter_sizes[n] + 1]\n",
        "    pooled = [F.max_pool1d(conv, conv.shape[2]).squeeze(2) for conv in conved]\n",
        "\n",
        "    # pooled_n = [batch_size, n_filters]\n",
        "    cat = self.dropout(torch.cat(pooled, dim=1))\n",
        "\n",
        "    # cat = [batch_size, n_filters * len(filter_sizes)]\n",
        "    dense_output = self.fc(cat)\n",
        "\n",
        "    # final activation funciton \n",
        "    output = self.sigmoid(dense_output)\n",
        "\n",
        "    return output\n"
      ],
      "execution_count": 16,
      "outputs": []
    },
    {
      "cell_type": "code",
      "metadata": {
        "id": "8rYjOC7_aiyS"
      },
      "source": [
        "for batch in train_loader:\n",
        "  text, text_length = batch.preprocessing_text\n",
        "  break"
      ],
      "execution_count": 18,
      "outputs": []
    },
    {
      "cell_type": "code",
      "metadata": {
        "colab": {
          "base_uri": "https://localhost:8080/"
        },
        "id": "2kxwcuKAa7U_",
        "outputId": "060285b8-fb3f-4dae-ddb5-1e594738b8dc"
      },
      "source": [
        "text.shape"
      ],
      "execution_count": 19,
      "outputs": [
        {
          "output_type": "execute_result",
          "data": {
            "text/plain": [
              "torch.Size([10, 476])"
            ]
          },
          "metadata": {},
          "execution_count": 19
        }
      ]
    },
    {
      "cell_type": "code",
      "metadata": {
        "colab": {
          "base_uri": "https://localhost:8080/"
        },
        "id": "CWeUz-aSa_Sl",
        "outputId": "fdf71951-5feb-474d-c96b-4b6febc08986"
      },
      "source": [
        "text"
      ],
      "execution_count": 20,
      "outputs": [
        {
          "output_type": "execute_result",
          "data": {
            "text/plain": [
              "tensor([[1194,  302,   28,  ...,    2,    4,    3],\n",
              "        [ 429,    8,    7,  ...,    2,    4,    3],\n",
              "        [   5,   12,   23,  ...,    2,    4,    3],\n",
              "        ...,\n",
              "        [  57,   26,  265,  ...,    3,    1,    1],\n",
              "        [4069, 1640,   55,  ...,    3,    1,    1],\n",
              "        [ 324, 1415,  108,  ...,    3,    1,    1]])"
            ]
          },
          "metadata": {},
          "execution_count": 20
        }
      ]
    },
    {
      "cell_type": "code",
      "metadata": {
        "id": "deXY9SIfbAj_"
      },
      "source": [
        "embedding = nn.Embedding(vocab_size, embedding_dim, padding_idx=pad_idx)"
      ],
      "execution_count": 21,
      "outputs": []
    },
    {
      "cell_type": "code",
      "metadata": {
        "id": "CKVdrjlEbrKY"
      },
      "source": [
        "embedded = embedding(text)"
      ],
      "execution_count": 22,
      "outputs": []
    },
    {
      "cell_type": "code",
      "metadata": {
        "colab": {
          "base_uri": "https://localhost:8080/"
        },
        "id": "_WvW9XFRbuL_",
        "outputId": "c8d5cfb1-842e-4e12-fa03-32d697c34af3"
      },
      "source": [
        "embedded.shape"
      ],
      "execution_count": 23,
      "outputs": [
        {
          "output_type": "execute_result",
          "data": {
            "text/plain": [
              "torch.Size([10, 476, 100])"
            ]
          },
          "metadata": {},
          "execution_count": 23
        }
      ]
    },
    {
      "cell_type": "code",
      "metadata": {
        "id": "cemUeC38b263"
      },
      "source": [
        "out = F.pad(embedded, (0,0,2,2), \"constant\", 0)"
      ],
      "execution_count": 24,
      "outputs": []
    },
    {
      "cell_type": "code",
      "metadata": {
        "colab": {
          "base_uri": "https://localhost:8080/"
        },
        "id": "SyY_5xSIcXzl",
        "outputId": "1646f580-6040-4ae3-831b-b306dcbbcf92"
      },
      "source": [
        "out.shape"
      ],
      "execution_count": 25,
      "outputs": [
        {
          "output_type": "execute_result",
          "data": {
            "text/plain": [
              "torch.Size([10, 480, 100])"
            ]
          },
          "metadata": {},
          "execution_count": 25
        }
      ]
    },
    {
      "cell_type": "code",
      "metadata": {
        "colab": {
          "base_uri": "https://localhost:8080/"
        },
        "id": "3_WMkfNhb7RH",
        "outputId": "7322f15c-5d12-4d6c-ecd4-53a0814ca5a2"
      },
      "source": [
        "embedded = out.unsqueeze(1)\n",
        "embedded.shape"
      ],
      "execution_count": 26,
      "outputs": [
        {
          "output_type": "execute_result",
          "data": {
            "text/plain": [
              "torch.Size([10, 1, 480, 100])"
            ]
          },
          "metadata": {},
          "execution_count": 26
        }
      ]
    },
    {
      "cell_type": "code",
      "metadata": {
        "colab": {
          "base_uri": "https://localhost:8080/"
        },
        "id": "34nzIh7ifRF_",
        "outputId": "a06d60a5-87ac-4952-e172-e43c7bc150be"
      },
      "source": [
        "embedded[0][0][-3:][0]"
      ],
      "execution_count": 31,
      "outputs": [
        {
          "output_type": "execute_result",
          "data": {
            "text/plain": [
              "tensor([-0.8035,  0.9224,  0.3187,  0.1141, -0.3684, -1.3434,  0.5269,  0.1866,\n",
              "         0.3047, -1.5874,  0.1115,  1.1658,  0.3981, -1.1839,  0.9408,  0.4919,\n",
              "        -0.7764,  0.6662,  0.6869,  0.7489,  0.9462, -1.4226, -1.8126, -2.3022,\n",
              "        -1.5086, -1.1481,  0.0220, -1.2972, -0.2826, -0.8636, -1.1989, -0.7403,\n",
              "         0.9568, -0.2190,  0.2335,  0.4358, -1.0468,  0.8529, -1.1157, -1.4148,\n",
              "         0.9485, -1.0050, -1.1735, -0.5698, -0.6529, -0.8987,  0.1779, -0.1588,\n",
              "         0.3376, -1.7993,  1.1463, -1.6913, -0.3464, -1.3373, -1.1339, -0.6006,\n",
              "        -0.2201, -0.1900, -0.3313, -0.7658,  0.2298, -1.0794,  0.9070,  1.7084,\n",
              "        -0.0515,  0.0189,  0.4168,  0.9537,  0.2123,  0.7601,  0.4040, -0.4620,\n",
              "        -0.7970,  0.5359,  1.6355,  2.0947,  0.9717, -0.1729, -1.8417,  0.9707,\n",
              "        -0.4172,  0.1500, -0.5752, -1.3503,  0.1039, -0.0515,  1.2774, -0.0413,\n",
              "         0.4561,  0.0623, -1.7824,  0.6211, -0.3650, -1.2565,  0.9356,  0.3098,\n",
              "        -0.7070, -1.1650,  0.3549, -1.0955], grad_fn=<SelectBackward>)"
            ]
          },
          "metadata": {},
          "execution_count": 31
        }
      ]
    },
    {
      "cell_type": "code",
      "metadata": {
        "colab": {
          "base_uri": "https://localhost:8080/"
        },
        "id": "y0BlsrTcNCvI",
        "outputId": "f9487dab-0d3f-4b87-d43d-2f1c5ea0433a"
      },
      "source": [
        "embedded"
      ],
      "execution_count": 27,
      "outputs": [
        {
          "output_type": "execute_result",
          "data": {
            "text/plain": [
              "tensor([[[[ 0.0000,  0.0000,  0.0000,  ...,  0.0000,  0.0000,  0.0000],\n",
              "          [ 0.0000,  0.0000,  0.0000,  ...,  0.0000,  0.0000,  0.0000],\n",
              "          [ 0.3416, -0.4090,  0.8443,  ...,  0.4383,  1.0599, -1.9151],\n",
              "          ...,\n",
              "          [-0.8035,  0.9224,  0.3187,  ..., -1.1650,  0.3549, -1.0955],\n",
              "          [ 0.0000,  0.0000,  0.0000,  ...,  0.0000,  0.0000,  0.0000],\n",
              "          [ 0.0000,  0.0000,  0.0000,  ...,  0.0000,  0.0000,  0.0000]]],\n",
              "\n",
              "\n",
              "        [[[ 0.0000,  0.0000,  0.0000,  ...,  0.0000,  0.0000,  0.0000],\n",
              "          [ 0.0000,  0.0000,  0.0000,  ...,  0.0000,  0.0000,  0.0000],\n",
              "          [ 0.9592, -0.3490, -0.9618,  ..., -1.0171,  0.3760, -1.0465],\n",
              "          ...,\n",
              "          [-0.8035,  0.9224,  0.3187,  ..., -1.1650,  0.3549, -1.0955],\n",
              "          [ 0.0000,  0.0000,  0.0000,  ...,  0.0000,  0.0000,  0.0000],\n",
              "          [ 0.0000,  0.0000,  0.0000,  ...,  0.0000,  0.0000,  0.0000]]],\n",
              "\n",
              "\n",
              "        [[[ 0.0000,  0.0000,  0.0000,  ...,  0.0000,  0.0000,  0.0000],\n",
              "          [ 0.0000,  0.0000,  0.0000,  ...,  0.0000,  0.0000,  0.0000],\n",
              "          [ 0.2043, -0.8483,  1.0603,  ...,  0.1128,  2.0695,  0.3881],\n",
              "          ...,\n",
              "          [-0.8035,  0.9224,  0.3187,  ..., -1.1650,  0.3549, -1.0955],\n",
              "          [ 0.0000,  0.0000,  0.0000,  ...,  0.0000,  0.0000,  0.0000],\n",
              "          [ 0.0000,  0.0000,  0.0000,  ...,  0.0000,  0.0000,  0.0000]]],\n",
              "\n",
              "\n",
              "        ...,\n",
              "\n",
              "\n",
              "        [[[ 0.0000,  0.0000,  0.0000,  ...,  0.0000,  0.0000,  0.0000],\n",
              "          [ 0.0000,  0.0000,  0.0000,  ...,  0.0000,  0.0000,  0.0000],\n",
              "          [ 1.2585, -0.2355,  0.1233,  ...,  0.3141,  0.6654,  0.5320],\n",
              "          ...,\n",
              "          [ 0.0000,  0.0000,  0.0000,  ...,  0.0000,  0.0000,  0.0000],\n",
              "          [ 0.0000,  0.0000,  0.0000,  ...,  0.0000,  0.0000,  0.0000],\n",
              "          [ 0.0000,  0.0000,  0.0000,  ...,  0.0000,  0.0000,  0.0000]]],\n",
              "\n",
              "\n",
              "        [[[ 0.0000,  0.0000,  0.0000,  ...,  0.0000,  0.0000,  0.0000],\n",
              "          [ 0.0000,  0.0000,  0.0000,  ...,  0.0000,  0.0000,  0.0000],\n",
              "          [-1.2058, -0.2791,  0.7485,  ..., -0.9198, -0.4649,  0.9665],\n",
              "          ...,\n",
              "          [ 0.0000,  0.0000,  0.0000,  ...,  0.0000,  0.0000,  0.0000],\n",
              "          [ 0.0000,  0.0000,  0.0000,  ...,  0.0000,  0.0000,  0.0000],\n",
              "          [ 0.0000,  0.0000,  0.0000,  ...,  0.0000,  0.0000,  0.0000]]],\n",
              "\n",
              "\n",
              "        [[[ 0.0000,  0.0000,  0.0000,  ...,  0.0000,  0.0000,  0.0000],\n",
              "          [ 0.0000,  0.0000,  0.0000,  ...,  0.0000,  0.0000,  0.0000],\n",
              "          [-0.2471,  1.1133, -0.9823,  ...,  0.3220, -0.4989, -0.7063],\n",
              "          ...,\n",
              "          [ 0.0000,  0.0000,  0.0000,  ...,  0.0000,  0.0000,  0.0000],\n",
              "          [ 0.0000,  0.0000,  0.0000,  ...,  0.0000,  0.0000,  0.0000],\n",
              "          [ 0.0000,  0.0000,  0.0000,  ...,  0.0000,  0.0000,  0.0000]]]],\n",
              "       grad_fn=<UnsqueezeBackward0>)"
            ]
          },
          "metadata": {},
          "execution_count": 27
        }
      ]
    },
    {
      "cell_type": "code",
      "metadata": {
        "id": "U9a0iroUb2jN"
      },
      "source": [
        "convs = nn.ModuleList([nn.Conv2d(in_channels=1, out_channels=n_filters, kernel_size=(fs, embedding_dim) \n",
        "                                      ) for fs in filter_sizes[1:2]])"
      ],
      "execution_count": 28,
      "outputs": []
    },
    {
      "cell_type": "code",
      "metadata": {
        "id": "X9SChLpQb4dC"
      },
      "source": [
        "conved = [F.relu(conv(embedded)).squeeze(3) for conv in convs]"
      ],
      "execution_count": 29,
      "outputs": []
    },
    {
      "cell_type": "code",
      "metadata": {
        "colab": {
          "base_uri": "https://localhost:8080/"
        },
        "id": "yJ9eu5wAd5Wj",
        "outputId": "89dab326-57f6-4fbd-f84f-61ba3db517f6"
      },
      "source": [
        "len(conved)"
      ],
      "execution_count": 30,
      "outputs": [
        {
          "output_type": "execute_result",
          "data": {
            "text/plain": [
              "1"
            ]
          },
          "metadata": {},
          "execution_count": 30
        }
      ]
    },
    {
      "cell_type": "code",
      "metadata": {
        "colab": {
          "base_uri": "https://localhost:8080/"
        },
        "id": "tslq7P2OcUfO",
        "outputId": "4954e60b-b51c-4fb3-9ad2-ca2d1a352749"
      },
      "source": [
        "conved[0].shape"
      ],
      "execution_count": 31,
      "outputs": [
        {
          "output_type": "execute_result",
          "data": {
            "text/plain": [
              "torch.Size([10, 100, 489])"
            ]
          },
          "metadata": {},
          "execution_count": 31
        }
      ]
    },
    {
      "cell_type": "code",
      "metadata": {
        "colab": {
          "base_uri": "https://localhost:8080/"
        },
        "id": "b6GEEbGgfj1i",
        "outputId": "907374a2-51cc-41c8-d049-77f22523f858"
      },
      "source": [
        "filter_sizes[1:2]"
      ],
      "execution_count": 32,
      "outputs": [
        {
          "output_type": "execute_result",
          "data": {
            "text/plain": [
              "[4]"
            ]
          },
          "metadata": {},
          "execution_count": 32
        }
      ]
    },
    {
      "cell_type": "code",
      "metadata": {
        "id": "owWp4M6xHfgu"
      },
      "source": [
        "pooled = [F.max_pool1d(conv, conv.shape[2]).squeeze(2) for conv in conved]"
      ],
      "execution_count": 33,
      "outputs": []
    },
    {
      "cell_type": "code",
      "metadata": {
        "colab": {
          "base_uri": "https://localhost:8080/"
        },
        "id": "Q2r3F3l3HnXP",
        "outputId": "f558697b-487e-4470-ed9c-89b48f42cb87"
      },
      "source": [
        "pooled[0].shape"
      ],
      "execution_count": 34,
      "outputs": [
        {
          "output_type": "execute_result",
          "data": {
            "text/plain": [
              "torch.Size([10, 100])"
            ]
          },
          "metadata": {},
          "execution_count": 34
        }
      ]
    },
    {
      "cell_type": "code",
      "metadata": {
        "id": "r61-t6D9IL97"
      },
      "source": [
        "dropout = nn.Dropout(dropout)"
      ],
      "execution_count": 35,
      "outputs": []
    },
    {
      "cell_type": "code",
      "metadata": {
        "id": "4TP8lPgxIFni"
      },
      "source": [
        "cat = dropout(torch.cat(pooled, dim=1))"
      ],
      "execution_count": 36,
      "outputs": []
    },
    {
      "cell_type": "code",
      "metadata": {
        "colab": {
          "base_uri": "https://localhost:8080/"
        },
        "id": "h2CU7OC7IOl-",
        "outputId": "d4b7eee0-ad44-455b-f166-801e9ceb5367"
      },
      "source": [
        "cat.shape"
      ],
      "execution_count": 37,
      "outputs": [
        {
          "output_type": "execute_result",
          "data": {
            "text/plain": [
              "torch.Size([10, 100])"
            ]
          },
          "metadata": {},
          "execution_count": 37
        }
      ]
    },
    {
      "cell_type": "code",
      "metadata": {
        "id": "5Gbw4P4uI3c_"
      },
      "source": [
        "fc = nn.Linear(1*100, output_dim)"
      ],
      "execution_count": null,
      "outputs": []
    },
    {
      "cell_type": "code",
      "metadata": {
        "id": "iubPeeFSI_fV"
      },
      "source": [
        "dense_output = fc(cat)"
      ],
      "execution_count": null,
      "outputs": []
    },
    {
      "cell_type": "code",
      "metadata": {
        "colab": {
          "base_uri": "https://localhost:8080/"
        },
        "id": "nYrkKg1zJBOf",
        "outputId": "f2713154-1bf6-47ef-cc47-137748a50124"
      },
      "source": [
        "dense_output.shape"
      ],
      "execution_count": null,
      "outputs": [
        {
          "output_type": "execute_result",
          "data": {
            "text/plain": [
              "torch.Size([10, 1])"
            ]
          },
          "metadata": {},
          "execution_count": 65
        }
      ]
    },
    {
      "cell_type": "code",
      "metadata": {
        "id": "cnIoc8xXIljQ"
      },
      "source": [
        "sigmoid = nn.Sigmoid()"
      ],
      "execution_count": null,
      "outputs": []
    },
    {
      "cell_type": "code",
      "metadata": {
        "id": "Ljdo-EtZIqPP"
      },
      "source": [
        "output = sigmoid(dense_output)"
      ],
      "execution_count": null,
      "outputs": []
    },
    {
      "cell_type": "code",
      "metadata": {
        "colab": {
          "base_uri": "https://localhost:8080/"
        },
        "id": "v2gj0xF5JGUt",
        "outputId": "e2ab4e7a-abd1-4b77-aa8a-134f4c287ad0"
      },
      "source": [
        "output"
      ],
      "execution_count": null,
      "outputs": [
        {
          "output_type": "execute_result",
          "data": {
            "text/plain": [
              "tensor([[0.6340],\n",
              "        [0.6904],\n",
              "        [0.6227],\n",
              "        [0.7686],\n",
              "        [0.5785],\n",
              "        [0.3541],\n",
              "        [0.7757],\n",
              "        [0.6811],\n",
              "        [0.5043],\n",
              "        [0.7276]], grad_fn=<SigmoidBackward>)"
            ]
          },
          "metadata": {},
          "execution_count": 67
        }
      ]
    },
    {
      "cell_type": "code",
      "metadata": {
        "colab": {
          "base_uri": "https://localhost:8080/"
        },
        "id": "9F2Ol5nVJH3o",
        "outputId": "a6142a0b-f00b-4f5c-9a19-0cfa8656c533"
      },
      "source": [
        "output.shape"
      ],
      "execution_count": null,
      "outputs": [
        {
          "output_type": "execute_result",
          "data": {
            "text/plain": [
              "torch.Size([10, 1])"
            ]
          },
          "metadata": {},
          "execution_count": 68
        }
      ]
    },
    {
      "cell_type": "markdown",
      "metadata": {
        "id": "dlOvi5Zy_Aob"
      },
      "source": [
        "Let's define hyperparameters."
      ]
    },
    {
      "cell_type": "code",
      "metadata": {
        "id": "nlttn2_s-9GE"
      },
      "source": [
        "vocab_size = len(TEXT.vocab)\n",
        "embedding_dim = 100\n",
        "n_filters = 100\n",
        "filter_sizes = [3, 4, 5]\n",
        "output_dim = 1\n",
        "dropout = 0.5\n",
        "pad_idx = TEXT.vocab.stoi[TEXT.pad_token]\n",
        "\n",
        "model_cnn = CNN(vocab_size, embedding_dim, n_filters, filter_sizes, \n",
        "                output_dim, dropout, pad_idx)\n"
      ],
      "execution_count": 17,
      "outputs": []
    },
    {
      "cell_type": "code",
      "metadata": {
        "colab": {
          "base_uri": "https://localhost:8080/"
        },
        "id": "k5q7ri_GDtj1",
        "outputId": "57c232e8-ec7a-472c-a23a-3fd8eba9e45d"
      },
      "source": [
        "print(model_cnn)"
      ],
      "execution_count": 50,
      "outputs": [
        {
          "output_type": "stream",
          "name": "stdout",
          "text": [
            "CNN(\n",
            "  (embedding): Embedding(6842, 100, padding_idx=1)\n",
            "  (convs): ModuleList(\n",
            "    (0): Conv2d(1, 100, kernel_size=(3, 100), stride=(1, 1))\n",
            "    (1): Conv2d(1, 100, kernel_size=(4, 100), stride=(1, 1))\n",
            "    (2): Conv2d(1, 100, kernel_size=(5, 100), stride=(1, 1))\n",
            "  )\n",
            "  (fc): Linear(in_features=300, out_features=1, bias=True)\n",
            "  (dropout): Dropout(p=0.5, inplace=False)\n",
            "  (sigmoid): Sigmoid()\n",
            ")\n"
          ]
        }
      ]
    },
    {
      "cell_type": "markdown",
      "metadata": {
        "id": "aEQWi8gT_R4O"
      },
      "source": [
        "Because we set out filter_sizes to 3, 4 and 5, we check bigrams, 3-grams and 5-grams in our model."
      ]
    },
    {
      "cell_type": "markdown",
      "metadata": {
        "id": "iJuOMIlLAFep"
      },
      "source": [
        "Let's define a function for checking the number of parameters in our model."
      ]
    },
    {
      "cell_type": "code",
      "metadata": {
        "colab": {
          "base_uri": "https://localhost:8080/"
        },
        "id": "2rZzvlSn-_it",
        "outputId": "edfd5c30-3f01-4299-8e09-e5b23b14e2c1"
      },
      "source": [
        "def count_parameters(model):\n",
        "  return sum(p.numel() for p in model.parameters() if p.requires_grad)\n",
        "\n",
        "print(f'The CNN model has {count_parameters(model_cnn):,} trainable parameters')\n"
      ],
      "execution_count": 51,
      "outputs": [
        {
          "output_type": "stream",
          "name": "stdout",
          "text": [
            "The CNN model has 804,801 trainable parameters\n"
          ]
        }
      ]
    },
    {
      "cell_type": "markdown",
      "metadata": {
        "id": "kGMupDzcB0E_"
      },
      "source": [
        "### Train and Evaluate the model"
      ]
    },
    {
      "cell_type": "markdown",
      "metadata": {
        "id": "aSVGznDsCKZd"
      },
      "source": [
        "Let's initialize optimizer, loss function and learning rate schedular."
      ]
    },
    {
      "cell_type": "code",
      "metadata": {
        "id": "XHZ2A2uWCJ87"
      },
      "source": [
        "num_epoch = 10\n",
        "learning_rate= 0.01\n",
        "\n",
        "criterion = nn.BCELoss()\n",
        "optimizer = torch.optim.Adam(model_cnn.parameters(), lr = learning_rate)\n",
        "scheduler = lr_scheduler.StepLR(optimizer, 1, gamma=0.9)\n",
        "\n",
        "\n",
        "n_total_step = len(train_loader)\n"
      ],
      "execution_count": 52,
      "outputs": []
    },
    {
      "cell_type": "code",
      "metadata": {
        "id": "RrRKlx2IVSn6"
      },
      "source": [
        "# Define a funciton to calculate accuracy for binary class classification model\n",
        "def binary_accuracy(y_pred, y_act):\n",
        "    #round predictions to the closest integer\n",
        "    rounded_preds = torch.round(y_pred)\n",
        "    \n",
        "    correct = (rounded_preds == y_act).float() # Show which elements are the same with 1\n",
        "    acc = correct.sum() / len(correct)\n",
        "    acc = torch.round(acc * 100)\n",
        "    return acc"
      ],
      "execution_count": 53,
      "outputs": []
    },
    {
      "cell_type": "markdown",
      "metadata": {
        "id": "LYAATbLzB_Hr"
      },
      "source": [
        "Let's define train and evaluate function. (train and evaluate function in this section is different a little with before, because our model in forward takes only text.)"
      ]
    },
    {
      "cell_type": "code",
      "metadata": {
        "id": "chUtvgfndTfd"
      },
      "source": [
        "# define a function for training a model\n",
        "def train(model1, train_loader):\n",
        "  \n",
        "  train_epoch_loss = 0\n",
        "  train_epoch_acc = 0\n",
        "  \n",
        "  # train the model\n",
        "  model1.train()\n",
        "\n",
        "  loop = tqdm(enumerate(train_loader), total = n_total_step, leave = False)\n",
        "\n",
        "  for i, batch in loop:\n",
        "    \n",
        "    optimizer.zero_grad()\n",
        "\n",
        "    # retrieve text and number of words\n",
        "    text, text_lengths = batch.preprocessing_text\n",
        "\n",
        "    # convert to 1D tensor\n",
        "    y_pred = model1(text).squeeze()\n",
        "\n",
        "    loss_train = criterion(y_pred, batch.label)\n",
        "\n",
        "    acc_train = binary_accuracy(y_pred, batch.label)\n",
        "\n",
        "    loss_train.backward()\n",
        "\n",
        "    optimizer.step()\n",
        "\n",
        "    train_epoch_loss += loss_train.item()\n",
        "    train_epoch_acc += acc_train.item()\n",
        "\n",
        "    loop.set_description(f'Epoch : [{epoch}/{num_epoch}]')\n",
        "    loop.set_postfix(loss = loss_train.item(), accuracy = acc_train.item()) \n",
        "  \n",
        "  train_loss.append(train_epoch_loss/len(train_loader))\n",
        "  train_acc.append(train_epoch_acc/len(train_loader))  \n",
        "      \n",
        "  # if you want to monitor your model in tensorboard   \n",
        "  writer.add_scalar('training loss',train_epoch_loss/len(train_loader) , epoch)\n",
        "  writer.add_scalar('training accuracy',train_epoch_acc/len(train_loader) , epoch)\n",
        "\n",
        "  return train_loss, train_acc\n",
        "\n",
        "\n",
        "# define a function for evaluating model\n",
        "def evaluate(model1, valid_loader):\n",
        "\n",
        "  # validation\n",
        "  with torch.no_grad():\n",
        "    model1.eval()\n",
        "\n",
        "    val_epoch_loss = 0\n",
        "    val_epoch_acc = 0\n",
        "\n",
        "    for batch in valid_loader:\n",
        "\n",
        "      text, text_length = batch.preprocessing_text\n",
        "\n",
        "      y_pred_val = model1(text).squeeze()\n",
        "      loss_valid = criterion(y_pred_val, batch.label)\n",
        "      acc_valid = binary_accuracy(y_pred_val, batch.label) \n",
        "\n",
        "      val_epoch_loss += loss_valid.item()\n",
        "      val_epoch_acc += acc_valid.item()\n",
        "\n",
        "    valid_loss.append(val_epoch_loss/len(valid_loader))\n",
        "    valid_acc.append(val_epoch_acc/len(valid_loader))  \n",
        "\n",
        "  return valid_loss, valid_acc\n"
      ],
      "execution_count": 54,
      "outputs": []
    },
    {
      "cell_type": "code",
      "metadata": {
        "id": "ORmRL7MsEeww"
      },
      "source": [
        "from torch.utils.tensorboard import SummaryWriter\n",
        "writer = SummaryWriter('model1_SnappFood')"
      ],
      "execution_count": 55,
      "outputs": []
    },
    {
      "cell_type": "code",
      "metadata": {
        "id": "rE9yRSsZCu3V"
      },
      "source": [
        "# %reload_ext tensorboard\n",
        "# %tensorboard --logdir 'model1_SnappFood'"
      ],
      "execution_count": 1,
      "outputs": []
    },
    {
      "cell_type": "code",
      "metadata": {
        "id": "C9Wda-LJEm7U",
        "colab": {
          "base_uri": "https://localhost:8080/"
        },
        "outputId": "f46ac5ff-eb7d-442f-c1b9-eba5d8472741"
      },
      "source": [
        "!nvidia-smi"
      ],
      "execution_count": 57,
      "outputs": [
        {
          "output_type": "stream",
          "name": "stdout",
          "text": [
            "NVIDIA-SMI has failed because it couldn't communicate with the NVIDIA driver. Make sure that the latest NVIDIA driver is installed and running.\n",
            "\n"
          ]
        }
      ]
    },
    {
      "cell_type": "code",
      "metadata": {
        "id": "VsRQ_MmEBzmk",
        "colab": {
          "base_uri": "https://localhost:8080/",
          "height": 428
        },
        "outputId": "fffe8754-0691-43c5-ff5f-01b9e28dc536"
      },
      "source": [
        "from tqdm import tqdm\n",
        "\n",
        "train_loss, valid_loss = [], []\n",
        "train_acc, valid_acc = [], []\n",
        "\n",
        "best_valid_loss = float('inf')\n",
        "\n",
        "for epoch in range(num_epoch):\n",
        "\n",
        "  train_loss, train_acc = train(model_cnn, train_loader)\n",
        "  writer.flush() \n",
        "  valid_loss, valid_acc = evaluate(model_cnn, valid_loader)  \n",
        "\n",
        "  if valid_loss[-1] < best_valid_loss:\n",
        "    best_valid_loss = valid_loss[-1]\n",
        "    torch.save(model_cnn.state_dict(), '/content/drive/MyDrive/AI-Internship/BestModelCNN_snappfood')\n",
        "\n",
        "  scheduler.step()"
      ],
      "execution_count": 58,
      "outputs": [
        {
          "output_type": "stream",
          "name": "stderr",
          "text": [
            ""
          ]
        },
        {
          "output_type": "error",
          "ename": "KeyboardInterrupt",
          "evalue": "ignored",
          "traceback": [
            "\u001b[0;31m---------------------------------------------------------------------------\u001b[0m",
            "\u001b[0;31mKeyboardInterrupt\u001b[0m                         Traceback (most recent call last)",
            "\u001b[0;32m<ipython-input-58-db156442789c>\u001b[0m in \u001b[0;36m<module>\u001b[0;34m()\u001b[0m\n\u001b[1;32m      8\u001b[0m \u001b[0;32mfor\u001b[0m \u001b[0mepoch\u001b[0m \u001b[0;32min\u001b[0m \u001b[0mrange\u001b[0m\u001b[0;34m(\u001b[0m\u001b[0mnum_epoch\u001b[0m\u001b[0;34m)\u001b[0m\u001b[0;34m:\u001b[0m\u001b[0;34m\u001b[0m\u001b[0;34m\u001b[0m\u001b[0m\n\u001b[1;32m      9\u001b[0m \u001b[0;34m\u001b[0m\u001b[0m\n\u001b[0;32m---> 10\u001b[0;31m   \u001b[0mtrain_loss\u001b[0m\u001b[0;34m,\u001b[0m \u001b[0mtrain_acc\u001b[0m \u001b[0;34m=\u001b[0m \u001b[0mtrain\u001b[0m\u001b[0;34m(\u001b[0m\u001b[0mmodel_cnn\u001b[0m\u001b[0;34m,\u001b[0m \u001b[0mtrain_loader\u001b[0m\u001b[0;34m)\u001b[0m\u001b[0;34m\u001b[0m\u001b[0;34m\u001b[0m\u001b[0m\n\u001b[0m\u001b[1;32m     11\u001b[0m   \u001b[0mwriter\u001b[0m\u001b[0;34m.\u001b[0m\u001b[0mflush\u001b[0m\u001b[0;34m(\u001b[0m\u001b[0;34m)\u001b[0m\u001b[0;34m\u001b[0m\u001b[0;34m\u001b[0m\u001b[0m\n\u001b[1;32m     12\u001b[0m   \u001b[0mvalid_loss\u001b[0m\u001b[0;34m,\u001b[0m \u001b[0mvalid_acc\u001b[0m \u001b[0;34m=\u001b[0m \u001b[0mevaluate\u001b[0m\u001b[0;34m(\u001b[0m\u001b[0mmodel_cnn\u001b[0m\u001b[0;34m,\u001b[0m \u001b[0mvalid_loader\u001b[0m\u001b[0;34m)\u001b[0m\u001b[0;34m\u001b[0m\u001b[0;34m\u001b[0m\u001b[0m\n",
            "\u001b[0;32m<ipython-input-54-b15c749df2e9>\u001b[0m in \u001b[0;36mtrain\u001b[0;34m(model1, train_loader)\u001b[0m\n\u001b[1;32m     24\u001b[0m     \u001b[0macc_train\u001b[0m \u001b[0;34m=\u001b[0m \u001b[0mbinary_accuracy\u001b[0m\u001b[0;34m(\u001b[0m\u001b[0my_pred\u001b[0m\u001b[0;34m,\u001b[0m \u001b[0mbatch\u001b[0m\u001b[0;34m.\u001b[0m\u001b[0mlabel\u001b[0m\u001b[0;34m)\u001b[0m\u001b[0;34m\u001b[0m\u001b[0;34m\u001b[0m\u001b[0m\n\u001b[1;32m     25\u001b[0m \u001b[0;34m\u001b[0m\u001b[0m\n\u001b[0;32m---> 26\u001b[0;31m     \u001b[0mloss_train\u001b[0m\u001b[0;34m.\u001b[0m\u001b[0mbackward\u001b[0m\u001b[0;34m(\u001b[0m\u001b[0;34m)\u001b[0m\u001b[0;34m\u001b[0m\u001b[0;34m\u001b[0m\u001b[0m\n\u001b[0m\u001b[1;32m     27\u001b[0m \u001b[0;34m\u001b[0m\u001b[0m\n\u001b[1;32m     28\u001b[0m     \u001b[0moptimizer\u001b[0m\u001b[0;34m.\u001b[0m\u001b[0mstep\u001b[0m\u001b[0;34m(\u001b[0m\u001b[0;34m)\u001b[0m\u001b[0;34m\u001b[0m\u001b[0;34m\u001b[0m\u001b[0m\n",
            "\u001b[0;32m/usr/local/lib/python3.7/dist-packages/torch/_tensor.py\u001b[0m in \u001b[0;36mbackward\u001b[0;34m(self, gradient, retain_graph, create_graph, inputs)\u001b[0m\n\u001b[1;32m    253\u001b[0m                 \u001b[0mcreate_graph\u001b[0m\u001b[0;34m=\u001b[0m\u001b[0mcreate_graph\u001b[0m\u001b[0;34m,\u001b[0m\u001b[0;34m\u001b[0m\u001b[0;34m\u001b[0m\u001b[0m\n\u001b[1;32m    254\u001b[0m                 inputs=inputs)\n\u001b[0;32m--> 255\u001b[0;31m         \u001b[0mtorch\u001b[0m\u001b[0;34m.\u001b[0m\u001b[0mautograd\u001b[0m\u001b[0;34m.\u001b[0m\u001b[0mbackward\u001b[0m\u001b[0;34m(\u001b[0m\u001b[0mself\u001b[0m\u001b[0;34m,\u001b[0m \u001b[0mgradient\u001b[0m\u001b[0;34m,\u001b[0m \u001b[0mretain_graph\u001b[0m\u001b[0;34m,\u001b[0m \u001b[0mcreate_graph\u001b[0m\u001b[0;34m,\u001b[0m \u001b[0minputs\u001b[0m\u001b[0;34m=\u001b[0m\u001b[0minputs\u001b[0m\u001b[0;34m)\u001b[0m\u001b[0;34m\u001b[0m\u001b[0;34m\u001b[0m\u001b[0m\n\u001b[0m\u001b[1;32m    256\u001b[0m \u001b[0;34m\u001b[0m\u001b[0m\n\u001b[1;32m    257\u001b[0m     \u001b[0;32mdef\u001b[0m \u001b[0mregister_hook\u001b[0m\u001b[0;34m(\u001b[0m\u001b[0mself\u001b[0m\u001b[0;34m,\u001b[0m \u001b[0mhook\u001b[0m\u001b[0;34m)\u001b[0m\u001b[0;34m:\u001b[0m\u001b[0;34m\u001b[0m\u001b[0;34m\u001b[0m\u001b[0m\n",
            "\u001b[0;32m/usr/local/lib/python3.7/dist-packages/torch/autograd/__init__.py\u001b[0m in \u001b[0;36mbackward\u001b[0;34m(tensors, grad_tensors, retain_graph, create_graph, grad_variables, inputs)\u001b[0m\n\u001b[1;32m    147\u001b[0m     Variable._execution_engine.run_backward(\n\u001b[1;32m    148\u001b[0m         \u001b[0mtensors\u001b[0m\u001b[0;34m,\u001b[0m \u001b[0mgrad_tensors_\u001b[0m\u001b[0;34m,\u001b[0m \u001b[0mretain_graph\u001b[0m\u001b[0;34m,\u001b[0m \u001b[0mcreate_graph\u001b[0m\u001b[0;34m,\u001b[0m \u001b[0minputs\u001b[0m\u001b[0;34m,\u001b[0m\u001b[0;34m\u001b[0m\u001b[0;34m\u001b[0m\u001b[0m\n\u001b[0;32m--> 149\u001b[0;31m         allow_unreachable=True, accumulate_grad=True)  # allow_unreachable flag\n\u001b[0m\u001b[1;32m    150\u001b[0m \u001b[0;34m\u001b[0m\u001b[0m\n\u001b[1;32m    151\u001b[0m \u001b[0;34m\u001b[0m\u001b[0m\n",
            "\u001b[0;31mKeyboardInterrupt\u001b[0m: "
          ]
        }
      ]
    },
    {
      "cell_type": "code",
      "metadata": {
        "id": "WA4VxNYYC_iD"
      },
      "source": [
        "torch.save(model_cnn, '/content/drive/MyDrive/AI-Internship/model1CNN_snappfood') # model1 with 10 epochs"
      ],
      "execution_count": null,
      "outputs": []
    },
    {
      "cell_type": "code",
      "metadata": {
        "id": "HMbpO_gEDZ3r"
      },
      "source": [
        "#Training and validation loss\n",
        "plt.plot(train_loss, label='Training loss')\n",
        "plt.plot(valid_loss, label='Validation loss')\n",
        "plt.legend(frameon=False)\n",
        "plt.xlabel('epoch')\n",
        "plt.ylabel('loss value')\n",
        "plt.title(\"Loss function for each epoch\") \n",
        "plt.show()"
      ],
      "execution_count": null,
      "outputs": []
    },
    {
      "cell_type": "code",
      "metadata": {
        "id": "Jyj0EpdYDZ1e"
      },
      "source": [
        "#Training and validation accuracy\n",
        "plt.plot(train_acc, label='Training accuracy')\n",
        "plt.plot(valid_acc, label='Validation accuracy')\n",
        "plt.legend(frameon=False)\n",
        "plt.xlabel('epoch')\n",
        "plt.ylabel('accuracy value')\n",
        "plt.title(\"Accuracy for each epoch\")\n",
        "plt.show()"
      ],
      "execution_count": null,
      "outputs": []
    },
    {
      "cell_type": "code",
      "metadata": {
        "id": "3M9cthRuDZtT"
      },
      "source": [
        "scheduler.state_dict()"
      ],
      "execution_count": null,
      "outputs": []
    },
    {
      "cell_type": "code",
      "metadata": {
        "id": "72UGIEflDmTW"
      },
      "source": [
        "model_cnn.state_dict"
      ],
      "execution_count": null,
      "outputs": []
    },
    {
      "cell_type": "code",
      "metadata": {
        "id": "3kquafZGDmQM"
      },
      "source": [
        "print(f'training loss on last epoch : {train_loss[-1]}')\n",
        "print(f'validation loss on last epoch : {valid_loss[-1]}')\n",
        "print('-'*20)\n",
        "print(f'training accuracy on last epoch : {train_acc[-1]}')\n",
        "print(f'validation accuracy on last epoch : {valid_acc[-1]}')"
      ],
      "execution_count": null,
      "outputs": []
    },
    {
      "cell_type": "markdown",
      "metadata": {
        "id": "3k8vQc94EAb0"
      },
      "source": [
        "### Test the model"
      ]
    },
    {
      "cell_type": "code",
      "metadata": {
        "id": "v1s7yhedDmOE"
      },
      "source": [
        "y_pred_test, y_actual_test = test(model_cnn, test_loader)"
      ],
      "execution_count": null,
      "outputs": []
    },
    {
      "cell_type": "markdown",
      "metadata": {
        "id": "QYPI8R1NEMMd"
      },
      "source": [
        "### Confusion Matrix"
      ]
    },
    {
      "cell_type": "code",
      "metadata": {
        "id": "r4mGMPLAEOSQ"
      },
      "source": [
        "confusion_matrix(y_actual_test, y_pred_test)"
      ],
      "execution_count": null,
      "outputs": []
    },
    {
      "cell_type": "code",
      "metadata": {
        "id": "WBEEzz_WEVKX"
      },
      "source": [
        "from sklearn.metrics import classification_report\n",
        "print(classification_report(y_actual_test, y_pred_test))"
      ],
      "execution_count": null,
      "outputs": []
    }
  ]
}