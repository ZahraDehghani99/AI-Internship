{
  "nbformat": 4,
  "nbformat_minor": 0,
  "metadata": {
    "colab": {
      "name": "Sentiment Analysis_CNN.ipynb",
      "provenance": [],
      "collapsed_sections": [],
      "toc_visible": true
    },
    "kernelspec": {
      "name": "python3",
      "display_name": "Python 3"
    },
    "language_info": {
      "name": "python"
    },
    "accelerator": "GPU"
  },
  "cells": [
    {
      "cell_type": "markdown",
      "metadata": {
        "id": "OM1_G40Rj421"
      },
      "source": [
        "# Section 2: Sentiment Analysis on SnappFood dataset"
      ]
    },
    {
      "cell_type": "markdown",
      "metadata": {
        "id": "HMk2DJ1rK4JO"
      },
      "source": [
        "## Sentiment Analysis using CNN"
      ]
    },
    {
      "cell_type": "markdown",
      "metadata": {
        "id": "4WRcVq-ELAja"
      },
      "source": [
        "In this section, we want to use CNN for sentiment analysis. Our dataset is the SnappFood dataset that is preprocessed in the previous notebook for sentiment analysis using LSTM. Now we use SnappFood preprocessed dataset"
      ]
    },
    {
      "cell_type": "code",
      "metadata": {
        "id": "rfeZyySLK_up"
      },
      "source": [
        "# plot\n",
        "import matplotlib.pyplot as plt\n",
        "\n",
        "import pandas as pd\n",
        "import string\n",
        "import re\n",
        "import numpy as np\n",
        "np.random.seed(0)\n",
        "\n",
        "import warnings\n",
        "warnings.filterwarnings('ignore')"
      ],
      "execution_count": 1,
      "outputs": []
    },
    {
      "cell_type": "code",
      "metadata": {
        "colab": {
          "base_uri": "https://localhost:8080/"
        },
        "id": "gQMDzvDqMpvj",
        "outputId": "f01cbf3f-7f74-4162-fb87-57263428c6f8"
      },
      "source": [
        "from google.colab import drive\n",
        "drive.mount('/content/drive')"
      ],
      "execution_count": 2,
      "outputs": [
        {
          "output_type": "stream",
          "name": "stdout",
          "text": [
            "Mounted at /content/drive\n"
          ]
        }
      ]
    },
    {
      "cell_type": "markdown",
      "metadata": {
        "id": "_d7tbodW1h7Q"
      },
      "source": [
        "### Prepare Dataset for Neural Network"
      ]
    },
    {
      "cell_type": "code",
      "metadata": {
        "id": "5msyJd2iPhSr"
      },
      "source": [
        "#load the preprocessing dataframe\n",
        "snapp_train = pd.read_pickle(r'/content/drive/MyDrive/AI-Internship/SnappFood_FinalEdit/snapp_train')\n",
        "snapp_valid = pd.read_pickle(r'/content/drive/MyDrive/AI-Internship/SnappFood_FinalEdit/snapp_valid')\n",
        "snapp_test = pd.read_pickle(r'/content/drive/MyDrive/AI-Internship/SnappFood_FinalEdit/snapp_test')\n"
      ],
      "execution_count": null,
      "outputs": []
    },
    {
      "cell_type": "code",
      "metadata": {
        "colab": {
          "base_uri": "https://localhost:8080/"
        },
        "id": "sTRPIma58PPH",
        "outputId": "544e5b19-d4b1-4a71-ff5c-7bfe67f30c38"
      },
      "source": [
        "print(f'snapp train shape : {snapp_train.shape}')\n",
        "print(f'snapp valid shape : {snapp_valid.shape}')\n",
        "print(f'snapp test shape : {snapp_test.shape}')"
      ],
      "execution_count": null,
      "outputs": [
        {
          "output_type": "stream",
          "name": "stdout",
          "text": [
            "snapp train shape : (56495, 2)\n",
            "snapp valid shape : (6286, 2)\n",
            "snapp test shape : (6979, 2)\n"
          ]
        }
      ]
    },
    {
      "cell_type": "markdown",
      "metadata": {
        "id": "WR8bmV0nW7T8"
      },
      "source": [
        "Let's take a look at length of texts in dataset."
      ]
    },
    {
      "cell_type": "code",
      "metadata": {
        "colab": {
          "base_uri": "https://localhost:8080/",
          "height": 466
        },
        "id": "OksPqi_BIa_2",
        "outputId": "94b3507c-9cd6-4279-deeb-b76ab99ed856"
      },
      "source": [
        "text_len = [len(i.split()) for i in snapp_train.preprocessing_text.values]\n",
        "pd.Series(text_len).hist()\n",
        "plt.title('Text lenght')\n",
        "plt.xlabel('text length')\n",
        "plt.ylabel('No. of sentences')\n",
        "plt.show()\n",
        "pd.Series(text_len).describe()"
      ],
      "execution_count": null,
      "outputs": [
        {
          "output_type": "display_data",
          "data": {
            "image/png": "[encoded data removed]",
            "text/plain": [
              "<Figure size 432x288 with 1 Axes>"
            ]
          },
          "metadata": {
            "needs_background": "light"
          }
        },
        {
          "output_type": "execute_result",
          "data": {
            "text/plain": [
              "count    56495.000000\n",
              "mean         8.778494\n",
              "std          7.490531\n",
              "min          1.000000\n",
              "25%          4.000000\n",
              "50%          7.000000\n",
              "75%         11.000000\n",
              "max        170.000000\n",
              "dtype: float64"
            ]
          },
          "metadata": {},
          "execution_count": 4
        }
      ]
    },
    {
      "cell_type": "markdown",
      "metadata": {
        "id": "NrD_82LkEX16"
      },
      "source": [
        "Let's print one sentences with its words."
      ]
    },
    {
      "cell_type": "code",
      "metadata": {
        "colab": {
          "base_uri": "https://localhost:8080/"
        },
        "id": "S9xcJf9sCTji",
        "outputId": "85dcd4c6-001b-4371-a225-9751ac1b02ac"
      },
      "source": [
        "[(i.split()) for i in snapp_train.preprocessing_text.values[:1]]"
      ],
      "execution_count": null,
      "outputs": [
        {
          "output_type": "execute_result",
          "data": {
            "text/plain": [
              "[['حیف', 'وقت', 'نوشت', 'سرویس', 'دهیتون', 'افتضاح']]"
            ]
          },
          "metadata": {},
          "execution_count": 6
        }
      ]
    },
    {
      "cell_type": "markdown",
      "metadata": {
        "id": "TQB3y3gdEt7g"
      },
      "source": [
        "As we see in the above histogram, we have sentences with length one. Because we want to use CNN for our work, and we have different convolution layers with different kernel sizes, we should be upsampling the texts with length, lower than maximum lenght. In the following cell, we want to see how many sentences we have with lengths equals to one."
      ]
    },
    {
      "cell_type": "code",
      "metadata": {
        "colab": {
          "base_uri": "https://localhost:8080/"
        },
        "id": "d3BZuykSC43S",
        "outputId": "3d297376-bb5f-4457-88b6-11ae9dfe312f"
      },
      "source": [
        "len_one = []\n",
        "for i in snapp_train.preprocessing_text.values:\n",
        "  if len(i.split())==1: \n",
        "    len_one.append(i)\n",
        "\n",
        "print(len_one)\n",
        "print(f'we have {len(len_one)} texts with lenghts = 1')"
      ],
      "execution_count": null,
      "outputs": [
        {
          "output_type": "stream",
          "name": "stdout",
          "text": [
            "['خوشمزه', 'غذا', 'عالی', 'عالی', 'غذا', 'اسنپ', 'یبار', 'سرد', 'عالی', 'عالی', 'مرسییییی', 'کیفیت', 'اندازه', 'متشکر', 'نظیره', 'کیفیت', 'لوبیپلو', 'سفارش', 'غذا', 'ارسال', 'خوشمزه', 'کیفیت', 'متشکر', 'ممنون', 'فاکتور', 'شور', 'شکلات', 'غذا', 'عالی', 'سپاسگزار', 'ومتنوع', 'بدتر', 'همهچیش', 'ترد', 'عالی', 'ممنون', 'تواضع', 'تاخیر', 'عالی', 'عالی', 'عالیییی', 'عالی', 'نون', 'تند', 'موقع', 'عالی', 'نهایت', 'کیلو', 'راضی', 'تشکر', 'ضعیف', 'عالی', 'راضی', 'عالی', 'شل', 'موقع', 'عالی', 'موقع', 'غذا', 'شیرینی', 'چیزکیک', 'طعم', 'طعم', 'عالی', 'تست', 'موقع', 'دست', 'نون', 'عالی', 'ممنون', 'داغ', 'پول', 'داغ', 'عالی', 'کیفیت', 'سرد', 'منظم', 'توصیه', 'بادقت', 'وبموقع', 'خوشمزه', 'غذا', 'کیفیت', 'قیمت', 'قیمت', 'اومد', 'قربان', 'قناد', 'قارچ', 'راضی', 'مرغ', 'عالی', 'متشکر', 'دلپذیر', 'سرد', 'دوظرف', 'ممنون', 'شیرینی', 'عالی', 'لذیذ', 'تایم', 'حجمشو', 'تحویل', 'کیفیت', 'غذا', 'فرستاده', 'خوشمزه', 'عاااالیه', 'قیمت', 'تاخیر', 'تحویل', 'دیگس', 'تشکر', 'موقع', 'درد', 'مگه', 'خوشمزه', 'طعم', 'عاااالی', 'متاسف', 'خوشمزه', 'عالی', 'غذا', 'داغ', 'غذا', 'کیک', 'اوکی', 'عالی', 'خوشمزه', 'عالی', 'غذا', 'پنیر', 'سفارش', 'عالی', 'رستوران', 'خوشمزه', 'کیفیت', 'مجموع', 'عالی', 'شدت', 'عالی', 'عالی', 'نون', 'ممنون', 'کیفیت', 'دست', 'غذا', 'ممنون', 'گرم', 'عالی', 'قیمت', 'تنوع', 'نسبت', 'له', 'سلام', 'متاسف', 'موقع', 'دست', 'سس', 'موقع', 'حوب', 'نپخته', 'خوشمزه', 'عالی', 'مو', 'کنجد', 'سرد', 'تشکر', 'عالی', 'سس', 'ممنون', 'بیات', 'عالی', 'سالاد', 'طولانی', 'کوچیک', 'شور', 'کیفیت', 'کیفیت', 'ماده', 'اصلاااا', 'حجم', 'قبول', 'کیفیت', 'شور', 'خوردن', 'مزه', 'مزه', 'یخ', 'راضی', 'دست', 'عالی', 'عالی', 'برنج', 'کیفیت', 'نظر', 'کیفیت', 'گرون', 'سرد', 'حد', 'خوبی', 'ماده', 'سفارش', 'سرد', 'متوسط', 'پیتزامثل', 'مجموع', 'کوچیک', 'کوزه', 'بموقع', 'عالی', 'کیفیت', 'شیرینی', 'کیفیت', 'سرد', 'قیمت', 'شیرینی', 'سفارش', 'پنیر', 'عالی', 'ممنون', 'سالاد', 'عالی', 'کیک', 'طعم', 'راضی', 'بدستم', 'شکر', 'عاااااالی', 'لپه', 'ممنون', 'فرق', 'العاده', 'عالی', 'گرم', 'ممنون', 'عالییییی', 'نمک', 'کیفیت', 'کالا', 'نمیدونم', 'طعم', 'تشکر', 'بیخود', 'اماخیلی', 'ترش', 'نظر', 'نان', 'مثه', 'مو', 'عالی', 'ممنون', 'قنادی', 'متفاوت', 'عالی', 'سفارش', 'عالییییی', 'کیفیت', 'کهنه', 'نون', 'کیک', 'عالی', 'کیفیت', 'تاریخ', 'سرد', 'دست', 'دستمون', 'حجم', 'سرعت', 'کیفیت', 'اینسری', 'سفارش', 'خییلیی', 'چرب', 'بدست', 'عالی', 'خوبه', 'افتضااح', 'شیرینی', 'عالی', 'ممنون', 'موقع', 'غذاهاشون', 'راضی', 'سرد', 'درجه', 'فرستادن', 'کشکش', 'عالی', 'طعم', 'خوشمزه', 'محصولات', 'گرم', 'ممنون', 'عالی', 'اوردن', 'غذا', 'عالللللللی', 'سرد', 'کیفیت', 'دوست', 'کیفیت', 'سس', 'گومز', 'خوردن', 'عالی', 'ارسال', 'برنج', 'ترد', 'کنجد', 'عالی', 'مزه', 'گریل', 'افتضاح', 'اسپایسی', 'سپاس', 'دست', 'غذا', 'عالی', 'تشکر', 'سفارش', 'کیفیت', 'عالی', 'چرب', 'یخ', 'ابمیوه', 'پخته', 'سفارش', 'راضی', 'شیرینی', 'زحماتتون', 'تحویل', 'خوبی', 'ترش', 'وعالی', 'کیفیت', 'سرد', 'مزه', 'دست', 'ارسال', 'برگراش', 'خوشمزه', 'ارسال', 'طعم', 'ممنون', 'ممنون', 'سوخته', 'طعم', 'دست', 'کهنه', 'کاپوچینو', 'چرب', 'عالی', 'بوود', 'عالی', 'سیر', 'مو', 'تاخیر', 'غذا', 'بودممنون', 'غذا', 'شیرینی', 'گرم', 'پیک', 'موقع', 'کیفیت', 'عالی', 'موقع', 'اب', 'سلام', 'تمیز', 'پایین', 'عالی', 'نقص', 'قبلی', 'کیک', 'چرب', 'خاصی', 'تحویل', 'توضیحات', 'حجم', 'متوسط', 'عالی', 'ساندویچ', 'مو', 'شیر', 'خوشمزه', 'نمک', 'طعم', 'ممنون', 'کیفیت', 'سس', 'سرور', 'سس', 'کیک', 'مزه', 'قبول', 'مزه', 'سرد', 'اوردن', 'سرد', 'عالی', 'حجم', 'رولت', 'خشک', 'عالی', 'دست', 'کیفیت', 'کیلو', 'ممنون', 'موز', 'کیفیت', 'کیفیت', 'سرد', 'تشکر', 'عالی', 'عالی', 'تازگی', 'دقیق', 'دست', 'عالی', 'شیرینی', 'بدتر', 'سرد', 'دوتا', 'خسته', 'اومد', 'ارسال', 'سرد', 'خوشمزه', 'مناسب', 'نمک', 'شیرینی', 'غذا', 'منون', 'ممنووونم', 'راضی', 'ممنون', 'سفارش', 'اومد', 'نرم', 'راضی', 'عالی', 'تنوع', 'عالی', 'آماده', 'لدلببل', 'گوشت', 'پیشنهاد', 'ممنون', 'العاده', 'مث', 'عالی', 'دوست', 'عالی', 'برنج', 'آیتم', 'ممنون', 'عالی', 'سرد', 'عالی', 'کیک', 'مرغ', 'پیتزا', 'عالی', 'محصولات', 'عاااالی', 'دانمارکی', 'موقع', 'عالی', 'دست', 'واس', 'خوشمزه', 'خوردن', 'هه', 'العااااده', 'پیک', 'کباب', 'عالی', 'عالی', 'تحویل', 'طعم', 'ودقیق', 'خوشمزه', 'تایید', 'غذا', 'سوپتون', 'خوشمزه', 'عالی', 'بشه', 'عالی', 'عالی', 'کیفیت', 'ضایع', 'برگره', 'منظم', 'متشکر', 'طعم', 'سرد', 'لذیذ', 'تشکر', 'منطقه', 'نیاورده', 'خوشمزه', 'عالی', 'راضی', 'راضی', 'گران', 'کیفیت', 'شیرینی', 'عالی', 'سرد', 'دست', 'تحمله', 'کیفیت', 'کیفیت', 'عااااالیییی', 'برنج', 'کیفیت', 'بدتر', 'دوست', 'نون', 'وقت', 'نون', 'راضی', 'سرد', 'عالی', 'طعم', 'کیک', 'خشک', 'عالی', 'متشکر', 'مشکل', 'برگرلند', 'نان', 'اوقات', 'عالی', 'بهدصرفه', 'بستنی', 'خوشمزه', 'سالاد', 'خوشمزه', 'غذا', 'پنیر', 'ممنون', 'شل', 'انتظار', 'مزه', 'قارچ', 'سرد', 'راضی', 'تایم', 'راضی', 'انتظارشو', 'نان', 'خوشمزه', 'راضی', 'دست', 'عالی', 'بستنی', 'فکرشو', 'سرد', 'تاریخ', 'عااااالی', 'کیفیت', 'عالی', 'موهیتو', 'نظر', 'نمیشه', 'کیفیت', 'غذا', 'عالی', 'سرد', 'سس', 'خوشمزه', 'بدمزه', 'بدتر', 'ربع', 'همبرگرش', 'سس', 'غذا', 'عالی', 'روغن', 'سالاد', 'ممنون', 'ارسال', 'شیرینی', 'سرد', 'پنیر', 'مانده', 'شور', 'کیفیت', 'جفت', 'سالاد', 'تحویل', 'فرستادن', 'سرد', 'کیفیت', 'کیفیت', 'پخته', 'ارسال', 'مزه', 'درجه', 'فرق', 'عالی', 'غذا', 'کیفیت', 'قیمت', 'خوشمزه', 'نوشتش', 'غذا', 'العاده', 'ممنون', 'تشکر', 'تحویل', 'شیرینی', 'عالی', 'تاخیر', 'داغ', 'سیر', 'پیگیری', 'نقص', 'تاخیر', 'تخفیف', 'تایم', 'عالی', 'مزه', 'مرسییی', 'عالی', 'ساعت', 'دست', 'حجم', 'معانی', 'خوشمزه', 'ریخته', 'مزه', 'جالب', 'پیتزا', 'خوشمزه', 'جالب', 'کوچیک', 'غذا', 'کوچیک', 'گرون', 'پرملات', 'راضی', '؟؟', 'سس', 'عالی', 'طعم', 'عالی', 'خوشمزه', 'کیفیت', 'نمک', 'سفارش', 'چرب', 'ممنون', 'کیفیت', 'سفارش', 'متشکر', 'پرپروک', 'اینبار', 'کوبیدش', 'ریخته', 'تشکر', 'قبول', 'خرید', 'راضی', 'پایین', 'گرم', 'چرب', 'خوشمزه', 'عالیییی', 'حجم', 'دوغ', 'عالی', 'کیفیت', 'سیر', 'عالی', 'راضی', 'سرد', 'سرد', 'ممنون', 'عالی', 'ممنون', 'گرم', 'طعم', 'عاااالی', 'عالی', 'کیفیت', 'خوردن', 'چسبیده', 'راضی', 'ممنون', 'عالی', 'کیفیت', 'خوشمزه', 'نوشته', 'اسپایسی', 'طمع', 'گرم', 'عاااااااالی', 'خوشمزه', 'گرون', 'عالی', 'دوست', 'ممنون', 'دقیق', 'دست', 'ارسال', 'ممنون', 'کیفیت', 'دست', 'عالی', 'فرا', 'مزه', 'روغن', 'سرد', 'خوشمزه', 'مچکرم', 'موقع', 'بدمزه', 'دایی', 'سس', 'اومد', 'مرغ', 'تحویل', 'خمیر', 'عالی', 'غذا', 'منع', 'عالی', 'سرد', 'وطعمش', 'دورچین', 'سرد', 'کنجد', 'کیک', 'کیفیت', 'گوجه', 'کیف', 'خوشمزه', 'مزه', 'چرب', 'چیکن', 'مزه', 'عالییییییییی', 'چاشنی', 'قیمت', 'مزش', 'عالی', 'خوشمزه', 'ممنون', 'عالی', 'خوشمزه', 'قیمت', 'رسوندن', 'جالب', 'خوشمزه', 'دیییر', 'داغ', 'ضعیف', 'اشپز', 'ممنون', 'سیر', 'موقع', 'خوشمزه', 'اکبرجوجه', 'عالی', 'خوشمزه', 'راضی', 'عالی', 'دست', 'ممنون', 'شور', 'مشتری', 'سوختگی', 'دوست', 'غذا', 'انتظار', 'خوبه', 'مناسب', 'سرد', 'خوشمزه', 'عالی', 'زیادی', 'غذا', 'گوشت', 'ممنون', 'مناسب', 'خامه', 'خوشمزه', 'ممنون', 'حد', 'راضی', 'کول', 'سپاس', 'کیفیت', 'خشک', 'منظم', 'عالی', 'طعم', 'نان', 'تند', 'راضی', 'پائین', 'موقع', 'تحویل', 'خوشمزه', 'کیفیت', 'سفارش', 'برخورد', 'موقع', 'عاشقه', 'سرد', 'شیرینی', 'غذا', 'لوبیا', 'بدستم', 'عااالی', 'کیفیت', 'موقع', 'خوشمزه', 'برد', 'مدل', 'عالی', 'وقت', 'مال', 'عالی', 'بدستم', 'کیفیت', 'عالییییییی', 'غذا', 'دقیق', 'عالی', 'غذاشون', 'یکم', 'باتشکر', 'سل', 'سپاس', 'اینبار', 'العاده', 'کیفیت', 'پایدار', 'کوکتل', 'خوشمزه', 'پنیر', 'عالی', 'عالی', 'کیفیت', 'راضی', 'راضی', 'گرم', 'ممنون', 'مزه', 'آب', 'له', 'العاده', 'درجه', 'شور', 'قیمت', 'چرب', 'اندازه', 'خوشمزه', 'ملات', 'ممنون', 'ارسال', 'ممنون', 'عالی', 'راضی', 'عالی', 'دست', 'عالی', 'تحویل', 'ممنون', 'عالی', 'نظر', 'سفارش', 'عالی', 'حد', 'چیزبرگرش', 'سپاسگزار', 'سرد', 'نیود', 'عالی', 'گرم', 'غذا', 'سوخته', 'خمیر', 'عالی', 'ممنون', 'ممنون', 'درجه', 'خوشمزه', 'عالی', 'داگ', 'سبزیجات', 'ممنون', 'عالی', 'دوست', 'متاسف', 'گردو', 'شیرینی', 'عالی', 'عالی', 'سفارش', 'سرد', 'مالیات', 'حدودی', 'حجم', 'پیتزا', 'گرم', 'راضی', 'وان', 'ریخته', 'غذا', 'سرد', 'عالی', 'تاریخ', 'حد', 'سالاد', 'گرم', 'نان', 'مزه', 'بهار', 'نیومد', 'باتشکر', 'خوشمزه', 'کیفیت', 'کنجد', 'عالی', 'خوشمزگی', 'غذا', 'عالی', 'عالیییییی', 'دقیقه', 'نرم', 'عالی', 'دقیق', 'ممنون', 'رولت', 'معلوم', 'برنج', 'کیفیت', 'حجم', 'دونفر', 'نان', 'عالی', 'سالاد', 'کیفیت', 'عالی', 'پیک', 'مزه', 'کنجد', 'عاااااااااااااااااااااااااااالی', 'غذا', 'کیفیت', 'عالی', 'بدمزه', 'شیرینی', 'دست', 'مارک', 'عالی', 'ممنون', 'ممنون', 'خوبید', 'خوشمزه', 'ممنون', 'تاخیر', 'سپاسگذارم', 'ممنون', 'طعم', 'غذا', 'پیک', 'سفارش', 'حلیم', 'حجم', 'غذا', 'گوشت', 'عاللللی', 'مزه', 'مچکرم', 'عالی', 'راظی', 'بودددد', 'خوشمزه', 'عالی', 'ارسال', 'سرد', 'سفارش', 'شکلات', 'عکس', 'ممنون', 'سرد', 'تجربه', 'عالی', 'عالی', 'دست', 'زرشک', 'عالی', 'بدستمون', 'زعفرونش', 'شیرینی', 'مجموع', 'عالی', 'عالی', 'غذا', 'ممنون', 'پیشنهاد', 'عالی', 'سلیقه', 'کیفیت', 'عالی', 'خرید', 'دقیق', 'قیمه', 'عالی', 'چیدمان', 'ساندویچ', 'خوشمزه', 'ممنون', 'عالی', 'کیفیت', 'مال', 'عاللللللی', 'وسایل', 'سرد', 'یخ', 'متشکر', 'عالی', 'دقیق', 'کیفیت', 'کیفیت', 'خوشمزه', 'ماده', 'کیفیت', 'خوشمزه', 'ممنون', 'جوجه', 'عالیییی', 'تحویل', 'امل', 'شیرینی', 'کیفیت', 'عطر', 'کالباس', 'کیفیت', 'عالی', 'سرد', 'ممنون', 'عالی', 'قبلی', 'عالی', 'راضی', 'مو', 'خوشمزه', 'دوست', 'خوشمزه', 'خشک', 'خوشمزه', 'مزه', 'سرد', 'گرم', 'سرد', 'معنا', 'ماده', 'چرب', 'موقع', 'طعم', 'عالی', 'خوشمزه', 'عالی', 'متشکر', 'عالی', 'برشته', 'درجه', 'گوشت', 'کنجد', 'عاااااالی', 'شیرینی', 'نون', 'عالی', 'خوشمزه', 'نون', 'سلام', 'گوجه', 'غذا', 'طعم', 'عالی', 'موقع', 'پیشنهاد', 'میموند', 'عالی', 'عالی', 'عالی', 'میامد', 'خوشمزه', 'عالی', 'ارسال', 'کیفیت', 'عالی', 'برخورد', 'دنبه', 'وقت', 'شور', 'مزه', 'عالی', 'ب', 'سس', 'بگر', 'راضی', 'عالی', 'برخورد', 'سس', 'غدا', 'خوشمزززززه', 'پیک', 'العاده', 'عالی', 'عالی', 'عالی', 'اکی', 'بنظرم', 'عالی', 'چرب', 'مزه', 'عالی', 'عالی', 'عالی', 'عالی', 'کرپ', 'خسته', 'تحویل', 'مزه', 'راضی', 'کیفیت', 'کیفیت', 'کهنه', 'نظر', 'سبزی', 'چرب', 'دسر', 'موقع', 'کیفیت', 'ارسال', 'سیر', 'خوشمزه', 'غذا', 'کوچک', 'بربری', 'مرغ', 'حجم', 'طعم', 'عاااااالی', 'کیک', 'کیفیت', 'سرد', 'خامه', 'کیفیت', 'عالی', 'خوشمزه', 'امتحان', 'عالی', 'خراب', 'عالی', 'عالیییی', 'ممنون', 'عدد', 'عالی', 'عالی', 'پیشنهاد', 'ممنون', 'راضی', 'قدیم', 'غذا', 'عالی', 'موسیر', 'العاده', 'مزه', 'متوسط', 'خوشمزه', 'سرعت', 'غذا', 'نقص', 'تحویل', 'عالی', 'همینطور', 'ممنون', 'مخصوصا', 'عالی', 'عالی', 'خوووب', 'عالی', 'راضی', 'باشه', 'افتصاح', 'دست', 'ارسال', 'عالی', 'ممنون', 'ممنون', 'عالی', 'عالی', 'خوبه', 'سرویس', 'عالی', 'ممنون', 'العاده', 'خوشمزه', 'خوشمزه', 'بدی', 'سید', 'برگر', 'دوست', 'تکه', 'خوشمزه', 'ممنون', 'خوشمزه', 'سرد', 'اسفناج', 'ممنون', 'ممنون', 'گرون', 'پیتزا', 'عالی', 'کیفیت', 'سرد', 'سپاس', 'سرد', 'تندی', 'استریپس', 'عالی', 'العاده', 'زیتون', 'عالی', 'عالی', 'کیفیت', 'عالی', 'پیتزا', 'نایلون', 'نون', 'نپخته', 'ممنون', 'برشته', 'مزه', 'تنوع', 'خوشمزه', 'ممنون', 'قیمت', 'سرد', 'کیفیت', 'مانده', 'العاده', 'شور', 'عالی', 'اجناس', 'وا', 'عالی', 'عالی', 'عالی', 'غذاتون', 'طعم', 'ارسال', 'کیفیت', 'ممنون', 'عالی', 'شیرکوزش', 'غذاتون', 'سس', 'راضی', 'پیک', 'عالی', 'طعم', 'عالی', 'گوشفیل', 'سالم', 'عالی', 'میاد', 'عالی', 'عالی', 'ممنون', 'موقع', 'کوچیک', 'دقیق', 'عالی', 'تشکر', 'زد', 'جوجه', 'عالی', 'پنیر', 'پایین', 'خوبو', 'وقت', 'ساندویچ', 'تنوع', 'موقع', 'دونه', 'سرعت', 'نمک', 'عالی', 'راضی', 'تاخیر', 'عالی', 'نسبت', 'شددت', 'کیفیت', 'خوشمزه', 'عالی', 'کیفیت', 'نیومد', 'پیک', 'خوشمزه', 'سپاس', 'راضی', 'کوبیده', 'عالی', 'مزه', 'پیتزا', 'اوکی', 'شیر', 'سرد', 'سرد', 'پیک', 'برخلاف', 'عالی', 'ممنون', 'کیفیت', 'کیفیت', 'تحویل', 'آفرین', 'حجم', 'خوشمزه', 'ریخته', 'خوشمزه', 'کیفیت', 'ممنون', 'عالی', 'عالی', 'سس', 'میاره', 'بو', 'عالی', 'خوشمزه', 'عالی', 'موقع', 'عالی', 'سرد', 'ارسالتون', 'عالی', 'سالادتون', 'داغ', 'راضی', 'تند', 'داغ', 'برنج', 'موقع', 'جعبه', 'ممنون', 'بدستم', 'ستاره', 'منظم', 'راضی', 'غذاییه', 'طولانی', 'ارسال', 'موقع', 'خمیر', 'خوشمزه', 'عالی', 'تاخیر', 'عالی', 'قارچ', 'عال', 'ممنون', 'راضی', 'کیفیت', 'عالی', 'عالی', 'شور', 'لذیذ', 'سرد', 'سوسیس', 'دستمون', 'عکس', 'سرد', 'نسبت', 'خوشمزه', 'سرد']\n",
            "we have 1388 texts with lenghts = 1\n"
          ]
        }
      ]
    },
    {
      "cell_type": "markdown",
      "metadata": {
        "id": "V3iBrgLdNzoU"
      },
      "source": [
        "#### Load the custom dataset using PyTorchText TabularDataset"
      ]
    },
    {
      "cell_type": "code",
      "metadata": {
        "colab": {
          "base_uri": "https://localhost:8080/"
        },
        "id": "IpjLzrswaFXW",
        "outputId": "35532b8f-3af6-421b-e30b-8913080f750a"
      },
      "source": [
        "import torch\n",
        "import torchtext\n",
        "from torchtext.legacy import data\n",
        "from torch.utils.data import DataLoader\n",
        "\n",
        "import torch.nn as nn\n",
        "import torch.optim as optim\n",
        "import torch.nn.functional as F\n",
        "\n",
        "from torch.optim import lr_scheduler\n",
        "from torch.utils.data.dataset import random_split\n",
        "\n",
        "from sklearn.model_selection import train_test_split\n",
        "from torchtext.vocab import Vectors\n",
        "from sklearn import metrics\n",
        "import matplotlib.pyplot as plt\n",
        "import seaborn as sns\n",
        "\n",
        "#Reproducing same results\n",
        "SEED = 2019\n",
        "torch.manual_seed(SEED)"
      ],
      "execution_count": 3,
      "outputs": [
        {
          "output_type": "execute_result",
          "data": {
            "text/plain": [
              "<torch._C.Generator at 0x7fb93bb32db0>"
            ]
          },
          "metadata": {},
          "execution_count": 3
        }
      ]
    },
    {
      "cell_type": "code",
      "metadata": {
        "id": "1YlvDV4SOUQf"
      },
      "source": [
        "# define pipline for text and label columns\n",
        "TEXT = data.Field(tokenize='spacy',\n",
        "                  include_lengths=True, batch_first=True)\n",
        "LABEL = data.LabelField(dtype = torch.float,batch_first=True)"
      ],
      "execution_count": 4,
      "outputs": []
    },
    {
      "cell_type": "markdown",
      "metadata": {
        "id": "b0po89CMPJVu"
      },
      "source": [
        "Let's define our column name and preprocessing pipline for that column, with tupless in fileds."
      ]
    },
    {
      "cell_type": "code",
      "metadata": {
        "id": "C4DlCKyGOXdp"
      },
      "source": [
        "fields = [('label', LABEL), ('preprocessing_text',TEXT)]"
      ],
      "execution_count": 5,
      "outputs": []
    },
    {
      "cell_type": "code",
      "metadata": {
        "id": "BCbAotuUPOpR"
      },
      "source": [
        "train_data = data.TabularDataset(path='/content/drive/MyDrive/AI-Internship/SnappFood_FinalEdit/train.csv'\n",
        "                                , format='csv', fields=fields, skip_header=True)\n",
        "\n",
        "valid_data = data.TabularDataset(path='/content/drive/MyDrive/AI-Internship/SnappFood_FinalEdit/valid.csv'\n",
        "                                , format='csv', fields=fields, skip_header=True)\n",
        "\n",
        "test_data = data.TabularDataset(path='/content/drive/MyDrive/AI-Internship/SnappFood_FinalEdit/test.csv'\n",
        "                                , format='csv', fields=fields, skip_header=True)\n"
      ],
      "execution_count": 6,
      "outputs": []
    },
    {
      "cell_type": "code",
      "metadata": {
        "colab": {
          "base_uri": "https://localhost:8080/"
        },
        "id": "cwue_4ESShip",
        "outputId": "ad4a5b8a-7770-4e40-a279-09faa68b0fc3"
      },
      "source": [
        "type(train_data)"
      ],
      "execution_count": 7,
      "outputs": [
        {
          "output_type": "execute_result",
          "data": {
            "text/plain": [
              "torchtext.legacy.data.dataset.TabularDataset"
            ]
          },
          "metadata": {},
          "execution_count": 7
        }
      ]
    },
    {
      "cell_type": "code",
      "metadata": {
        "colab": {
          "base_uri": "https://localhost:8080/"
        },
        "id": "stHqD0EwTnSt",
        "outputId": "aa501237-b721-4905-b42d-5a9f5f4797eb"
      },
      "source": [
        "len(train_data)"
      ],
      "execution_count": 8,
      "outputs": [
        {
          "output_type": "execute_result",
          "data": {
            "text/plain": [
              "56495"
            ]
          },
          "metadata": {},
          "execution_count": 8
        }
      ]
    },
    {
      "cell_type": "code",
      "metadata": {
        "colab": {
          "base_uri": "https://localhost:8080/"
        },
        "id": "7r-9yK7QVgtK",
        "outputId": "792fb9c5-9063-4f24-fa5e-883414f693cd"
      },
      "source": [
        "[(elem.label) for elem in train_data][:2]"
      ],
      "execution_count": 9,
      "outputs": [
        {
          "output_type": "execute_result",
          "data": {
            "text/plain": [
              "['1', '0']"
            ]
          },
          "metadata": {},
          "execution_count": 9
        }
      ]
    },
    {
      "cell_type": "markdown",
      "metadata": {
        "id": "t3-OfGRGT4bw"
      },
      "source": [
        "#### Construct Vocabulary"
      ]
    },
    {
      "cell_type": "markdown",
      "metadata": {
        "id": "hgBTej40UJWI"
      },
      "source": [
        "Now, we should construct vocabulary from our text and convert them into integer sequences. The vocabulary contains unique words and assigns an index for each word."
      ]
    },
    {
      "cell_type": "code",
      "metadata": {
        "id": "6yn52QmzTrKD"
      },
      "source": [
        "TEXT.build_vocab(train_data, valid_data,min_freq=3 )\n",
        "LABEL.build_vocab(train_data, valid_data)"
      ],
      "execution_count": 10,
      "outputs": []
    },
    {
      "cell_type": "code",
      "metadata": {
        "colab": {
          "base_uri": "https://localhost:8080/"
        },
        "id": "a7GDZ78uUc45",
        "outputId": "828338b7-1106-43e8-f50b-2e0a02ca0103"
      },
      "source": [
        "#No. of unique tokens in text\n",
        "print(\"Size of TEXT vocabulary:\",len(TEXT.vocab))\n",
        "print(\"Size of TEXT vocabulary:\",len(LABEL.vocab))\n",
        "print(\" \")\n",
        "print('-'*200)\n",
        "\n",
        "#Commonly used words\n",
        "print(f'10 commonly used words : {TEXT.vocab.freqs.most_common(10)}')  \n",
        "print(\" \")\n",
        "print('-'*200)\n",
        "\n",
        "#Word dictionary\n",
        "print(f'word dictionary : {TEXT.vocab.stoi}') "
      ],
      "execution_count": 11,
      "outputs": [
        {
          "output_type": "stream",
          "name": "stdout",
          "text": [
            "Size of TEXT vocabulary: 6839\n",
            "Size of TEXT vocabulary: 2\n",
            " \n",
            "--------------------------------------------------------------------------------------------------------------------------------------------------------------------------------------------------------\n",
            "10 commonly used words : [('غذا', 16683), ('کیفیت', 13919), ('عالی', 11461), ('سفارش', 11291), ('پیتزا', 8998), ('ممنون', 6085), ('سرد', 6085), ('خوشمزه', 5628), ('طعم', 5254), ('ارسال', 5158)]\n",
            " \n",
            "--------------------------------------------------------------------------------------------------------------------------------------------------------------------------------------------------------\n",
            "word dictionary : defaultdict(<bound method Vocab._default_unk_index of <torchtext.legacy.vocab.Vocab object at 0x7fb92b196950>>, {'<unk>': 0, '<pad>': 1, 'غذا': 2, 'کیفیت': 3, 'عالی': 4, 'سفارش': 5, 'پیتزا': 6, 'سرد': 7, 'ممنون': 8, 'خوشمزه': 9, 'طعم': 10, 'ارسال': 11, 'مرغ': 12, 'پیک': 13, 'قیمت': 14, 'مزه': 15, 'سیب': 16, 'سس': 17, 'تحویل': 18, 'نان': 19, 'بسته': 20, 'رستوران': 21, 'حجم': 22, 'گرم': 23, 'زمینی': 24, 'شیرینی': 25, 'دست': 26, 'ساندویچ': 27, 'نون': 28, 'بند': 29, 'اسنپ': 30, 'نسبت': 31, 'کیک': 32, 'پنیر': 33, 'راضی': 34, 'پایین': 35, 'ساعت': 36, 'سلام': 37, 'گوشت': 38, 'خورد': 39, 'کباب': 40, 'سالاد': 41, 'فود': 42, 'نظر': 43, 'موقع': 44, 'باشه': 45, 'مو': 46, 'مشتری': 47, 'اس': 48, 'برنج': 49, 'جوجه': 50, 'خشک': 51, 'خرید': 52, '؟': 53, 'دقیقه': 54, 'تاخیر': 55, 'خوبی': 56, 'میشه': 57, 'خمیر': 58, 'سوخاری': 59, 'داغ': 60, 'مناسب': 61, 'ماده': 62, 'العاده': 63, 'ریخته': 64, 'تشکر': 65, 'سوخته': 66, 'توجه': 67, 'قارچ': 68, 'افتضاح': 69, 'برگر': 70, 'بشه': 71, 'بوی': 72, 'جعبه': 73, 'سیر': 74, 'طول': 75, 'سه': 76, 'آب': 77, 'برخورد': 78, 'خام': 79, 'نم': 80, 'یکم': 81, 'خوردن': 82, 'کشید': 83, 'هزینه': 84, 'ظرف': 85, 'نوشابه': 86, 'چرب': 87, 'فرستادن': 88, 'دور': 89, 'سفت': 90, 'اندازه': 91, 'روغن': 92, 'همراه': 93, 'متاسف': 94, 'پر': 95, 'انتظار': 96, 'نیم': 97, 'پول': 98, 'خامه': 99, 'توضیحات': 100, 'بستنی': 101, 'دوست': 102, 'فرستاد': 103, 'شور': 104, 'عکس': 105, 'خوبه': 106, 'شدت': 107, 'زد': 108, 'تماس': 109, 'یخ': 110, 'گوجه': 111, 'امیدوار': 112, 'کهنه': 113, 'تکه': 114, 'اشتباه': 115, 'زده': 116, 'کوچک': 117, 'فیله': 118, 'نداره': 119, 'عدد': 120, 'بدی': 121, 'فرستاده': 122, 'نپخته': 123, 'شکلات': 124, 'تیکه': 125, 'ته': 126, 'کاهو': 127, 'تاریخ': 128, 'نصف': 129, 'پیگیری': 130, 'تومن': 131, 'برام': 132, 'پیشنهاد': 133, 'عالیه': 134, 'ریخت': 135, 'نوشته': 136, 'جالب': 137, 'اضافه': 138, 'خورده': 139, 'بیات': 140, 'حد': 141, 'منو': 142, 'میدم': 143, 'بابت': 144, 'بقیه': 145, 'سرخ': 146, 'مشکل': 147, 'سبزی': 148, 'کوچیک': 149, 'فاصله': 150, 'پخته': 151, 'دقت': 152, 'چنگال': 153, 'کار': 154, 'سوپر': 155, 'وقت': 156, 'له': 157, 'کوبیده': 158, 'تند': 159, 'بجا': 160, 'دید': 161, 'سوپ': 162, 'اومد': 163, 'قاشق': 164, 'انتخاب': 165, 'بو': 166, 'پلو': 167, 'زیادی': 168, 'شیر': 169, 'داگ': 170, 'نمیدونم': 171, 'خسته': 172, 'سرعت': 173, 'پیاز': 174, 'تومان': 175, 'سپاس': 176, 'مدیریت': 177, 'مخصوصا': 178, 'بهتره': 179, 'درد': 180, 'مانده': 181, 'پخت': 182, 'ارسالی': 183, 'استیک': 184, 'قرار': 185, 'مخصوص': 186, 'افت': 187, 'برسه': 188, 'سرویس': 189, 'نمک': 190, 'باروژ': 191, 'برد': 192, 'بدترین': 193, 'بنده': 194, 'زنگ': 195, 'ثبت': 196, 'خورش': 197, 'مجبور': 198, 'تخفیف': 199, 'همبرگر': 200, 'غذایی': 201, 'نمیشه': 202, 'فلفل': 203, 'پاستا': 204, 'میوه': 205, 'اومده': 206, 'دستمون': 207, 'ساده': 208, 'مخلفات': 209, 'حمل': 210, 'پرپروک': 211, 'باعث': 212, 'کیلو': 213, 'نامناسب': 214, 'موجود': 215, 'شبیه': 216, 'مارک': 217, 'دوتا': 218, 'گذاشت': 219, 'اوردن': 220, 'دونه': 221, 'کالباس': 222, 'ب': 223, 'درخواست': 224, 'چیکن': 225, 'بدمزه': 226, 'فاکتور': 227, 'نکنه': 228, 'کنه': 229, 'آماده': 230, 'سزار': 231, 'ژامبون': 232, 'سالم': 233, 'رفتار': 234, 'فست': 235, 'قسمت': 236, 'چین': 237, 'ارزش': 238, 'کیسه': 239, 'همون': 240, 'حیف': 241, 'اب': 242, 'قبول': 243, 'مشخص': 244, 'باگ': 245, 'تخم': 246, 'ترش': 247, 'دلیل': 248, 'رسیدن': 249, 'ناراضی': 250, 'خراب': 251, 'فرق': 252, 'اسم': 253, 'نرم': 254, 'پشتیبانی': 255, 'دورچین': 256, 'مصرف': 257, 'متوسط': 258, 'محترم': 259, 'امتحان': 260, 'سوسیس': 261, 'لذیذ': 262, 'پپرونی': 263, 'زرشک': 264, 'محصول': 265, 'قبلی': 266, 'متشکر': 267, 'مدل': 268, 'بدستم': 269, 'چیپس': 270, 'حساب': 271, 'اونم': 272, 'رنگ': 273, 'خالی': 274, 'برشته': 275, 'متفاوت': 276, 'خدا': 277, 'اینبار': 278, 'نمیدم': 279, 'ادویه': 280, 'قیمه': 281, 'ضعیف': 282, 'پرداخت': 283, 'کلم': 284, 'ماهی': 285, 'تغییر': 286, 'کنن': 287, 'خاطر': 288, 'نازک': 289, 'عوض': 290, 'مبلغ': 291, 'اجناس': 292, 'سبزیجات': 293, '،': 294, 'نفر': 295, 'شکل': 296, 'میکنه': 297, 'کنجد': 298, 'خاصی': 299, 'موزد': 300, 'دریافت': 301, 'تعداد': 302, 'خوراک': 303, 'جنس': 304, 'فروخت': 305, 'مودب': 306, 'ازتون': 307, 'تجربه': 308, 'ران': 309, 'سینه': 310, 'محصولات': 311, 'بخاطر': 312, 'شعبه': 313, 'میده': 314, 'ترد': 315, 'شیلا': 316, 'حرف': 317, 'رولت': 318, 'لذت': 319, 'موفق': 320, 'کالا': 321, 'سیاه': 322, 'برند': 323, 'لیمو': 324, 'پلاستیک': 325, 'گردو': 326, 'پک': 327, 'تاکید': 328, 'دستتون': 329, 'حس': 330, 'دفعات': 331, 'تلخ': 332, 'وسط': 333, 'تست': 334, 'مهم': 335, 'سنگک': 336, 'شکسته': 337, 'همینطور': 338, 'ظاهر': 339, 'طبق': 340, 'همیشگی': 341, 'برش': 342, 'سفید': 343, 'نوشت': 344, 'اکسپرس': 345, 'سایز': 346, 'صورتی': 347, 'مالیات': 348, 'لحاظ': 349, 'چسبیده': 350, 'کافی': 351, 'قرمز': 352, 'افتاده': 353, 'آخرین': 354, 'استریپس': 355, 'پای': 356, 'کره': 357, 'اولیه': 358, 'بال': 359, 'مغایرت': 360, 'طوری': 361, 'گذاشتن': 362, 'توصیه': 363, 'دقیق': 364, 'دیگ': 365, 'نهایت': 366, 'آش': 367, 'بدید': 368, 'طولانی': 369, 'چربی': 370, 'اطلاع': 371, 'تهیه': 372, 'توقع': 373, 'نکته': 374, 'مخلوط': 375, 'نوشیدنی': 376, 'دل': 377, 'شه': 378, 'میرسه': 379, 'رضایت': 380, 'پودر': 381, 'سوپرمارکت': 382, 'فروشگاه': 383, 'احترام': 384, 'سفارشات': 385, 'فراموش': 386, 'بودین': 387, 'لقمه': 388, 'گرمی': 389, 'میاد': 390, 'حالت': 391, 'مجموع': 392, 'پاکت': 393, 'آدم': 394, 'درب': 395, 'معلوم': 396, 'حدی': 397, 'رب': 398, 'رسیدگی': 399, 'برخلاف': 400, 'هویج': 401, 'بادمجان': 402, 'خیار': 403, 'سپاسگزار': 404, 'دمتون': 405, 'لوبیا': 406, 'امکان': 407, 'محتویات': 408, 'نا': 409, 'تمیز': 410, 'تنوع': 411, 'ذکر': 412, 'عزیز': 413, 'فرنگی': 414, 'حفظ': 415, 'مغز': 416, 'حضوری': 417, 'مجموعه': 418, 'موز': 419, 'میکنن': 420, 'کمه': 421, 'باکیفیت': 422, 'دوغ': 423, 'امتیاز': 424, 'دستمال': 425, 'غذارو': 426, 'منطقه': 427, 'مسیر': 428, 'جایگزین': 429, 'ایرانی': 430, 'خیس': 431, 'بیف': 432, 'حذف': 433, 'شب': 434, 'طمع': 435, 'نفره': 436, 'تنور': 437, 'جاش': 438, 'کیف': 439, 'زیتون': 440, 'سال': 441, 'عمر': 442, 'درجه': 443, 'انقضا': 444, 'بنظرم': 445, 'خیارشور': 446, 'مقداری': 447, 'نتونستم': 448, 'نخورده': 449, 'تعریف': 450, 'خلاف': 451, 'ادب': 452, 'ازشون': 453, 'ماسیده': 454, 'نایلون': 455, 'رست': 456, 'اینجوری': 457, 'ثابت': 458, 'درصد': 459, 'وزن': 460, 'گرون': 461, 'آدرس': 462, 'هفته': 463, 'بهداشتی': 464, 'شکر': 465, 'اینه': 466, 'قرمه': 467, 'مهمان': 468, 'نداشتن': 469, 'ربع': 470, 'جو': 471, 'دلستر': 472, 'قهوه': 473, 'عجیب': 474, 'باقلوا': 475, '٥': 476, 'قنادی': 477, 'میتونم': 478, 'تایم': 479, 'عرض': 480, 'خرد': 481, 'پرس': 482, 'لیست': 483, 'منزل': 484, 'بدن': 485, 'رعایت': 486, 'احساس': 487, 'ایراد': 488, 'بربری': 489, 'تموم': 490, 'دانمارکی': 491, 'دیزی': 492, 'زدن': 493, 'هستن': 494, 'پایینی': 495, 'لایه': 496, 'ماه': 497, 'تون': 498, 'دارن': 499, 'محترمانه': 500, 'بالاتر': 501, 'میدن': 502, 'ارزید': 503, 'تفاوت': 504, 'سرو': 505, 'سلیقه': 506, 'نشه': 507, 'وجه': 508, 'برگ': 509, 'فراوان': 510, 'خودتون': 511, 'غذاتون': 512, 'فرستادین': 513, 'تولید': 514, 'ذره': 515, 'ساندویج': 516, 'محل': 517, 'پوست': 518, 'نبودن': 519, 'انار': 520, 'قاطی': 521, 'مال': 522, 'میکس': 523, 'علت': 524, 'متوجه': 525, 'ایندفعه': 526, 'براتون': 527, 'مگه': 528, 'نوتلا': 529, 'گریل': 530, 'بدتر': 531, 'ریز': 532, 'شل': 533, 'صبحانه': 534, 'مسافت': 535, 'افزایش': 536, 'درکل': 537, 'نظرات': 538, 'سفارشی': 539, 'فرمود': 540, 'یکبار': 541, 'انداخت': 542, 'بمونه': 543, 'قلم': 544, 'تازگی': 545, 'خوبتون': 546, 'خودشون': 547, 'زحمت': 548, 'پشیمون': 549, 'کمیت': 550, 'بادام': 551, 'هماهنگی': 552, 'کف': 553, 'امل': 554, 'تاسف': 555, 'حلیم': 556, 'ترکی': 557, 'ارائه': 558, 'ساخت': 559, 'ناپلئون': 560, 'نباشه': 561, 'چلو': 562, 'کاری': 563, 'اقلا': 564, 'توت': 565, 'منتظر': 566, 'پلاستیکی': 567, 'اسپایسی': 568, 'قوطی': 569, 'نذاشته': 570, 'پسته': 571, 'دومین': 572, 'کشک': 573, 'اهمیت': 574, 'باری': 575, 'باقی': 576, 'بندری': 577, 'ضمنا': 578, 'هاتون': 579, 'اشتباهی': 580, 'بموقع': 581, 'اورد': 582, 'کدو': 583, 'باسلام': 584, 'خونه': 585, 'سیگار': 586, 'میدیم': 587, 'پاره': 588, 'اصلی': 589, 'فک': 590, 'مجدد': 591, 'مطلوب': 592, 'میگ': 593, 'کوچه': 594, 'تار': 595, 'تعجب': 596, 'توضیح': 597, 'غدا': 598, 'اورده': 599, 'برکت': 600, 'زرد': 601, 'مهمون': 602, 'پرسنل': 603, 'یکساعت': 604, 'انقد': 605, 'بیارن': 606, 'تصویر': 607, 'مقایسه': 608, 'وا': 609, 'پرتقال': 610, 'پولی': 611, 'گران': 612, 'باتشکر': 613, 'خانواده': 614, 'دونات': 615, 'ندارن': 616, 'کاغذ': 617, 'یخچال': 618, 'دوبار': 619, 'پلاسیده': 620, 'ملات': 621, 'بچه': 622, 'ذرت': 623, 'ستاره': 624, 'علاوه': 625, 'اماده': 626, 'سبک': 627, 'طبخ': 628, 'استخوان': 629, 'قدیمی': 630, 'معمول': 631, 'فهمید': 632, 'لازم': 633, 'سبز': 634, 'فاجعه': 635, 'نحوه': 636, 'کاغذی': 637, 'آبمیوه': 638, 'قشنگ': 639, 'باکس': 640, 'علی': 641, 'هوا': 642, 'اتفاق': 643, 'حرفه': 644, 'عطر': 645, 'میتونست': 646, 'گزینه': 647, 'ایتالیایی': 648, 'بیکن': 649, 'خبری': 650, 'ست': 651, 'ترکیب': 652, 'موضوع': 653, 'زور': 654, 'میشم': 655, 'اعتماد': 656, 'دلمه': 657, 'واقع': 658, 'خنک': 659, 'خواهش': 660, 'فرانسوی': 661, 'لیوان': 662, 'نانوایی': 663, 'نیومد': 664, 'تهران': 665, 'درج': 666, 'سایت': 667, 'نفرستادن': 668, 'بزارید': 669, 'بودش': 670, 'موندگی': 671, 'میتونه': 672, 'میره': 673, 'آلفردو': 674, 'رایگان': 675, 'لیتر': 676, 'مزش': 677, 'پوره': 678, 'کیلویی': 679, 'ترشی': 680, 'عاااالی': 681, 'قید': 682, 'نبوده': 683, 'ادم': 684, 'زمین': 685, 'مرغوب': 686, 'موجودی': 687, 'نیمه': 688, 'چندمین': 689, 'آبرو': 690, 'بادمجون': 691, 'بره': 692, 'بنظر': 693, 'باشن': 694, 'بعدی': 695, 'دونم': 696, 'لطف': 697, 'پز': 698, 'یاد': 699, 'روغنی': 700, 'نارگیل': 701, 'نفرستاده': 702, 'کشمش': 703, 'اثر': 704, 'تومنی': 705, 'جمع': 706, 'خاص': 707, 'ریختن': 708, 'سحر': 709, 'نیاز': 710, 'کاهش': 711, 'آبکی': 712, 'باور': 713, 'تک': 714, 'مدار': 715, 'تل': 716, 'جواب': 717, 'خیلیییی': 718, 'میل': 719, 'نکردن': 720, 'پاک': 721, 'گشت': 722, 'آلبالو': 723, 'شرایط': 724, 'پیراشکی': 725, 'تری': 726, 'داغون': 727, 'ذوق': 728, 'بالایی': 729, 'خدایی': 730, 'عین': 731, 'میگه': 732, 'هندی': 733, 'سطح': 734, 'شباهت': 735, 'معجون': 736, 'ناقص': 737, 'مطبوع': 738, 'مین': 739, 'هایدا': 740, 'ادامه': 741, 'امید': 742, 'دسر': 743, 'سی': 744, 'قوت': 745, 'اخرین': 746, 'اسفناج': 747, 'تخمه': 748, 'سوختگی': 749, 'عاشق': 750, 'غذاهاتون': 751, 'ندیده': 752, 'نیل': 753, 'چک': 754, 'کارتون': 755, 'کارد': 756, 'کوچولو': 757, 'اختلاف': 758, 'قورمه': 759, 'ماکارونی': 760, 'نداده': 761, 'نمره': 762, 'کوکا': 763, 'آیس': 764, 'ساعته': 765, 'سبوس': 766, 'طرز': 767, 'مایع': 768, 'هارو': 769, 'تلفنی': 770, 'درشت': 771, 'غذاشون': 772, 'ناراحت': 773, 'کیفیتتون': 774, 'الویه': 775, 'بذارید': 776, 'خواهشا': 777, 'دوس': 778, 'رژیمی': 779, 'طبقه': 780, 'لواش': 781, 'مغازه': 782, 'نی': 783, 'سوال': 784, 'صرفه': 785, 'مایونز': 786, 'لای': 787, 'نیاوردن': 788, 'چیزبرگر': 789, 'میفرستن': 790, 'اخه': 791, 'اصل': 792, 'اصلن': 793, 'محدوده': 794, 'چسبید': 795, 'اکبر': 796, 'برامون': 797, 'بصورت': 798, 'نصفه': 799, 'یدونه': 800, 'اره': 801, 'اصن': 802, 'بامیه': 803, 'بخیر': 804, 'بفرستن': 805, 'ترجیح': 806, 'تندی': 807, 'خارج': 808, 'واحد': 809, 'کثیف': 810, 'اصلاح': 811, 'انتقاد': 812, 'شیرازی': 813, 'مثبت': 814, 'مطابق': 815, 'میومد': 816, 'چرخ': 817, 'انداخته': 818, 'اینا': 819, 'خصوص': 820, 'شرکت': 821, 'فصل': 822, 'نگهبانی': 823, 'آرد': 824, 'رد': 825, 'زبان': 826, 'سکو': 827, 'شفته': 828, 'ضخیم': 829, 'لطیفه': 830, 'مدیر': 831, 'منوی': 832, 'اسلایس': 833, 'بزرگتر': 834, 'تلخی': 835, 'دلچسب': 836, 'سنگین': 837, 'معدنی': 838, 'نگه': 839, 'کروسان': 840, 'آسانسور': 841, 'بهشون': 842, 'جاها': 843, 'جزو': 844, 'رغم': 845, 'عااالی': 846, 'عادی': 847, 'نخود': 848, 'تعویض': 849, 'تناسب': 850, 'ظروف': 851, 'وضعیت': 852, 'کرم': 853, 'اینطوری': 854, 'ریحون': 855, 'سماق': 856, 'فروش': 857, 'ماند': 858, 'متناسب': 859, 'معنا': 860, 'همینجوری': 861, 'کوکی': 862, 'خجالت': 863, 'دهن': 864, 'عدس': 865, 'پرسید': 866, 'چندتا': 867, 'باشین': 868, 'باقالی': 869, 'تکرار': 870, 'دستشون': 871, 'رسوندن': 872, 'میگو': 873, 'هان': 874, 'پسر': 875, 'یادشون': 876, 'دارچین': 877, 'پخش': 878, 'کوتاه': 879, 'اونی': 880, 'سنتی': 881, 'موتور': 882, 'میارن': 883, 'میدین': 884, 'نو': 885, 'هردو': 886, 'ادرس': 887, 'بدست': 888, 'تیم': 889, 'لاستیک': 890, 'مودبانه': 891, 'میگیرن': 892, 'کج': 893, 'یزدی': 894, 'بمونید': 895, 'قیمتی': 896, 'منفی': 897, 'میزنه': 898, 'میگن': 899, 'نشون': 900, 'کتف': 901, 'گرونه': 902, 'اینهمه': 903, 'بریان': 904, 'دونر': 905, 'نقص': 906, 'هربار': 907, 'کسب': 908, 'ارزه': 909, 'بگیره': 910, 'زیبا': 911, 'غیرقابل': 912, 'قدیم': 913, 'مزخرف': 914, 'مشابه': 915, 'پلاک': 916, 'پیکتون': 917, 'کوک': 918, 'جالبه': 919, 'خوشحال': 920, 'زیرو': 921, 'لازانیا': 922, 'متر': 923, 'منتها': 924, 'میگیره': 925, 'نسکافه': 926, 'کشت': 927, 'کلمه': 928, 'اخلاق': 929, 'اینترنتی': 930, 'بذارن': 931, 'تابه': 932, 'توهین': 933, 'خلال': 934, 'درود': 935, 'زندگی': 936, 'محتوی': 937, 'همکار': 938, 'چشم': 939, 'چهل': 940, 'آناناس': 941, 'رساند': 942, 'نیس': 943, 'واقعن': 944, 'گذشت': 945, 'اضافی': 946, 'باتوجه': 947, 'بدستمون': 948, 'حل': 949, 'ردیف': 950, 'زشت': 951, 'شامل': 952, 'ندید': 953, 'چسب': 954, 'چیزکیک': 955, 'آلپارو': 956, 'بگید': 957, 'تاثیر': 958, 'تومانی': 959, 'تیره': 960, 'رسوند': 961, 'میدونم': 962, 'کمال': 963, 'گل': 964, 'اعتبار': 965, 'تولد': 966, 'حالیکه': 967, 'خریداری': 968, 'زردچوبه': 969, 'صفر': 970, 'عددی': 971, 'عذرخواهی': 972, 'متنوع': 973, 'گاز': 974, 'اونقدر': 975, 'ایران': 976, 'تاحالا': 977, 'تصور': 978, 'سانت': 979, 'میخوام': 980, 'بطری': 981, 'تره': 982, 'تعیین': 983, 'توجیه': 984, 'جعفری': 985, 'خرما': 986, 'دلیوری': 987, 'رفتاری': 988, 'زخم': 989, 'سرده': 990, 'غالب': 991, 'ندادن': 992, 'ندار': 993, 'کش': 994, 'کچاپ': 995, 'اخر': 996, 'بخوره': 997, 'بوقلمون': 998, 'خودمون': 999, 'منظم': 1000, 'کودک': 1001, 'گردید': 1002, 'اذیت': 1003, 'خوشمزگی': 1004, 'ربط': 1005, 'ردولوت': 1006, 'زحمات': 1007, 'زولبیا': 1008, 'سانتی': 1009, 'فکری': 1010, 'آجیل': 1011, 'ایجاد': 1012, 'بدلیل': 1013, 'جان': 1014, 'جنسی': 1015, 'محتوا': 1016, 'موهیتو': 1017, 'مکزیکی': 1018, 'نرسیده': 1019, 'چای': 1020, 'کشیده': 1021, 'تزیین': 1022, 'حسابی': 1023, 'رول': 1024, 'سیبزمینی': 1025, 'صبح': 1026, 'فریزر': 1027, 'ممکنه': 1028, 'الکی': 1029, 'اوکی': 1030, 'بخوام': 1031, 'بزارن': 1032, 'دائم': 1033, 'ساله': 1034, 'صورتیکه': 1035, 'طبیعی': 1036, 'ماشروم': 1037, 'معرکه': 1038, 'موسیر': 1039, 'هاشون': 1040, 'کته': 1041, 'گذاشتین': 1042, 'آشپز': 1043, 'اسپرایت': 1044, 'انگشت': 1045, 'برگشت': 1046, 'رفتن': 1047, 'رقیق': 1048, 'شک': 1049, 'شیری': 1050, 'نزدیکی': 1051, 'کوپن': 1052, 'کوچیکه': 1053, 'آنلاین': 1054, 'اندازش': 1055, 'براش': 1056, 'تافتون': 1057, 'تجدید': 1058, 'تلفن': 1059, 'خدمت': 1060, 'خون': 1061, 'دانه': 1062, 'سختی': 1063, 'سفارشو': 1064, 'فرایز': 1065, 'قبولی': 1066, 'پشیمونم': 1067, 'پیاده': 1068, 'گرما': 1069, 'اشکال': 1070, 'افتاد': 1071, 'ایده': 1072, 'خیییلی': 1073, 'دوما': 1074, 'زودفود': 1075, 'صرف': 1076, 'عااااالی': 1077, 'فالوده': 1078, 'مرد': 1079, 'مهمه': 1080, 'نارضایتی': 1081, 'نمیکنه': 1082, 'نگذاشته': 1083, 'کسری': 1084, 'افزوده': 1085, 'براشون': 1086, 'بودو': 1087, 'بیسکویت': 1088, 'تایی': 1089, 'تذکر': 1090, 'جبران': 1091, 'مثله': 1092, 'مسئول': 1093, 'میکشه': 1094, 'نمیکنن': 1095, 'چندبار': 1096, 'کنسل': 1097, 'کوچیکتر': 1098, 'گرسنه': 1099, 'آیتم': 1100, 'تایید': 1101, 'حیفه': 1102, 'دستکش': 1103, 'سویا': 1104, 'شیشه': 1105, 'طلایی': 1106, 'عالیییی': 1107, 'لپه': 1108, 'مشخصا': 1109, 'معطل': 1110, 'میدادن': 1111, 'نتونستیم': 1112, 'نرمال': 1113, 'ویتامینه': 1114, 'آدامس': 1115, 'خوشمزس': 1116, 'ریحان': 1117, 'شناخت': 1118, 'ضعف': 1119, 'طالبی': 1120, 'عسل': 1121, 'قائل': 1122, 'نارنج': 1123, 'نتیجه': 1124, 'نمیده': 1125, 'هماهنگ': 1126, 'پرملات': 1127, 'پستو': 1128, 'کافه': 1129, 'کریسپی': 1130, 'بعیده': 1131, 'لحظه': 1132, 'مصرفی': 1133, 'موتوری': 1134, 'نوشتن': 1135, 'هدیه': 1136, 'پارتی': 1137, 'پاسخ': 1138, 'پایینه': 1139, 'کارشون': 1140, 'کلام': 1141, 'آبدار': 1142, 'اسنک': 1143, 'انبه': 1144, 'بگیرن': 1145, 'جذاب': 1146, 'دنبال': 1147, 'زعفرانی': 1148, 'سنگ': 1149, 'عجله': 1150, 'مشکی': 1151, 'مطمئن': 1152, 'مقوا': 1153, 'منصفانه': 1154, 'موند': 1155, 'میکنین': 1156, 'والا': 1157, 'کیفی': 1158, 'آمریکایی': 1159, 'انتخابی': 1160, 'بررسی': 1161, 'بوود': 1162, 'سایزش': 1163, 'فشار': 1164, 'مخلفاتش': 1165, 'معنی': 1166, 'ناهار': 1167, 'باربیکیو': 1168, 'برنامه': 1169, 'برگراتور': 1170, 'تبریک': 1171, 'خریده': 1172, 'خیلییییی': 1173, 'دیپ': 1174, 'قند': 1175, 'میاره': 1176, 'پولشو': 1177, 'چاقو': 1178, 'کرنبری': 1179, 'ارزان': 1180, 'ایشون': 1181, 'بذارین': 1182, 'بش': 1183, 'خیابون': 1184, 'دنیا': 1185, 'راننده': 1186, 'ریش': 1187, 'زنده': 1188, 'سلامت': 1189, 'شماره': 1190, 'علاقه': 1191, 'فروشنده': 1192, 'متریال': 1193, 'مربا': 1194, 'مربوط': 1195, 'نظیره': 1196, 'نیستن': 1197, 'پکیج': 1198, 'چجوری': 1199, 'گوشه': 1200, 'انصاف': 1201, 'اپلیکیشن': 1202, 'بست': 1203, 'بشن': 1204, 'جلب': 1205, 'دارای': 1206, 'رویه': 1207, 'ساختمان': 1208, 'سوراخ': 1209, 'شله': 1210, 'غضروف': 1211, 'معده': 1212, 'مناسبه': 1213, 'نامی': 1214, 'نشاط': 1215, 'هزارتومن': 1216, 'هلو': 1217, 'وحشتناک': 1218, 'وخوشمزه': 1219, 'وسایل': 1220, 'پرداختی': 1221, 'چانو': 1222, 'گاردن': 1223, 'افتضاحه': 1224, 'اینقد': 1225, 'بری': 1226, 'بزنن': 1227, 'بفرستین': 1228, 'خارجی': 1229, 'دائمی': 1230, 'دکتر': 1231, 'رون': 1232, 'زهم': 1233, 'سمت': 1234, 'فانتا': 1235, 'مارگاریتا': 1236, 'مشخصه': 1237, 'معقول': 1238, 'میزنن': 1239, 'نزاشته': 1240, 'کاکائو': 1241, 'کاکائویی': 1242, 'کیفیتشون': 1243, 'اتفاقی': 1244, 'استاندارد': 1245, 'اقا': 1246, 'امد': 1247, 'بردن': 1248, 'برده': 1249, 'زعفران': 1250, 'شمع': 1251, 'فشرده': 1252, 'قضیه': 1253, 'مث': 1254, 'میخوره': 1255, 'نظم': 1256, 'وعده': 1257, 'پیام': 1258, 'چیدمان': 1259, 'چیده': 1260, 'کاله': 1261, 'کلفت': 1262, 'گاتا': 1263, 'بافت': 1264, 'برگشته': 1265, 'بزارین': 1266, 'تبدیل': 1267, 'خوبیه': 1268, 'دی': 1269, 'دیش': 1270, 'زننده': 1271, 'ساقه': 1272, 'ماشین': 1273, 'مثه': 1274, 'موعد': 1275, 'نیاورده': 1276, 'کارامل': 1277, 'کامنت': 1278, 'کنسرو': 1279, 'آبلیمو': 1280, 'بزنه': 1281, 'حجیم': 1282, 'حرارت': 1283, 'دامدار': 1284, 'داگش': 1285, 'درستی': 1286, 'صحبت': 1287, 'ظهر': 1288, 'عاااااالی': 1289, 'فودی': 1290, 'مستقیم': 1291, 'نکشیده': 1292, 'همشون': 1293, 'واسم': 1294, 'وتازه': 1295, 'کلوچه': 1296, 'کوکتل': 1297, 'گرد': 1298, 'گوشتی': 1299, 'امده': 1300, 'اولی': 1301, 'تحمل': 1302, 'تقصیر': 1303, 'جرات': 1304, 'سفارشمون': 1305, 'سلامتی': 1306, 'صحیح': 1307, 'فوقالعاده': 1308, 'مابقی': 1309, 'محشر': 1310, 'میگیرین': 1311, 'وافل': 1312, 'ونقل': 1313, 'پائین': 1314, 'پفک': 1315, 'پیتزارو': 1316, 'چلوکباب': 1317, 'چنجه': 1318, 'کرفس': 1319, 'آبگوشت': 1320, 'ارزون': 1321, 'الفردو': 1322, 'ایستک': 1323, 'باهم': 1324, 'بعنوان': 1325, 'تشکیل': 1326, 'حلقه': 1327, 'خامی': 1328, 'خوشایند': 1329, 'خیال': 1330, 'دیواره': 1331, 'شربت': 1332, 'فویل': 1333, 'ماهک': 1334, 'مطمئنا': 1335, 'نخلک': 1336, 'نمیاد': 1337, 'ورق': 1338, 'وقته': 1339, 'پیکشون': 1340, 'کوفته': 1341, 'ابتدا': 1342, 'اتمام': 1343, 'اطمینان': 1344, 'برگرلند': 1345, 'تصمیم': 1346, 'سطل': 1347, 'شام': 1348, 'شامپو': 1349, 'شعور': 1350, 'ظاهری': 1351, 'عامل': 1352, 'مافین': 1353, 'محسوس': 1354, 'موندم': 1355, 'میزارن': 1356, 'نکات': 1357, 'هندوانه': 1358, 'وارد': 1359, 'وهم': 1360, 'پیشرفت': 1361, 'چپ': 1362, 'چیلی': 1363, 'کوی': 1364, 'افراد': 1365, 'ایه': 1366, 'ایکاش': 1367, 'بلد': 1368, 'تن': 1369, 'تیرامیسو': 1370, 'خداقوت': 1371, 'خییییلی': 1372, 'رویال': 1373, 'سابقه': 1374, 'قالب': 1375, 'قطر': 1376, 'مقصد': 1377, 'موفقیت': 1378, 'نمیتونم': 1379, 'همینطوری': 1380, 'چهارم': 1381, 'چیزا': 1382, 'کراکف': 1383, 'کرایه': 1384, 'گیلاس': 1385, 'ید': 1386, 'ابرو': 1387, 'اجازه': 1388, 'اشانتیون': 1389, 'تکون': 1390, 'دفه': 1391, 'دوساعت': 1392, 'سردی': 1393, 'سعادت': 1394, 'سپاسگذارم': 1395, 'شرمنده': 1396, 'متلاشی': 1397, 'مرتبه': 1398, 'میشن': 1399, 'نوستالژی': 1400, 'نگرفته': 1401, 'پرچرب': 1402, 'کارتن': 1403, 'کتل': 1404, 'گوش': 1405, 'انواع': 1406, 'اوردند': 1407, 'بقدری': 1408, 'بهداشت': 1409, 'جابجا': 1410, 'درضمن': 1411, 'دریافتی': 1412, 'درید': 1413, 'سیستم': 1414, 'شاهو': 1415, 'شیراز': 1416, 'عجیبه': 1417, 'قراره': 1418, 'مادر': 1419, 'محاسبه': 1420, 'ندین': 1421, 'ور': 1422, 'پذیرفت': 1423, 'پشیمان': 1424, 'پنجره': 1425, 'چاکلت': 1426, 'چپه': 1427, 'گوساله': 1428, 'آرزو': 1429, 'آویشن': 1430, 'انگیخت': 1431, 'باب': 1432, 'تومنه': 1433, 'حساسیت': 1434, 'دنبه': 1435, 'رفع': 1436, 'ساز': 1437, 'شکیل': 1438, 'شیرنی': 1439, 'صبر': 1440, 'غنچه': 1441, 'لبنیات': 1442, 'ماسک': 1443, 'مایه': 1444, 'معطلی': 1445, 'میذارن': 1446, 'نوش': 1447, 'پاسخگو': 1448, 'پایدار': 1449, 'گردن': 1450, 'ازینجا': 1451, 'اونجا': 1452, 'بکشه': 1453, 'توضیحاتی': 1454, 'جمله': 1455, 'حرکت': 1456, 'دندون': 1457, 'دونفره': 1458, 'راحتی': 1459, 'قیافه': 1460, 'لطیف': 1461, 'مسئولیت': 1462, 'مغایر': 1463, 'میخواد': 1464, 'میدی': 1465, 'نانی': 1466, 'نمیومد': 1467, 'وان': 1468, 'ول': 1469, 'ون': 1470, 'پنه': 1471, 'پیگیر': 1472, 'چکید': 1473, 'چیزایی': 1474, 'کالایی': 1475, 'گودا': 1476, 'آلو': 1477, 'استخون': 1478, 'اقتصادی': 1479, 'انشالله': 1480, 'بازی': 1481, 'جزئ': 1482, 'خوشمزست': 1483, 'ذائقه': 1484, 'رنجید': 1485, 'شاتوت': 1486, 'شیرمال': 1487, 'طرفدار': 1488, 'عالمه': 1489, 'عذا': 1490, 'قطعه': 1491, 'لند': 1492, 'محلی': 1493, 'مرجوع': 1494, 'مرحله': 1495, 'مواجه': 1496, 'نزده': 1497, 'نیمرو': 1498, 'هشت': 1499, 'ورقه': 1500, 'کد': 1501, 'گیاهی': 1502, 'اومدن': 1503, 'اکبرجوجه': 1504, 'بخواد': 1505, 'ترتیب': 1506, 'دومی': 1507, 'دیدن': 1508, 'شعب': 1509, 'شم': 1510, 'عرق': 1511, 'لابی': 1512, 'میرزا': 1513, 'میهن': 1514, 'نکنین': 1515, 'همسایه': 1516, 'وب': 1517, 'پیتزاتون': 1518, 'کارکنان': 1519, 'گرونتر': 1520, 'آسیب': 1521, 'انگاری': 1522, 'اوایل': 1523, 'ایس': 1524, 'اینجانب': 1525, 'ببر': 1526, 'بدطعم': 1527, 'برداشت': 1528, 'بلند': 1529, 'خبر': 1530, 'خوراکی': 1531, 'خوشگل': 1532, 'خیابان': 1533, 'خیلیییییی': 1534, 'رها': 1535, 'شهد': 1536, 'ضخم': 1537, 'قاسمی': 1538, 'قیف': 1539, 'لادن': 1540, 'معذرت': 1541, 'منظور': 1542, 'ناچیز': 1543, 'نمایید': 1544, 'نیومده': 1545, 'هاست': 1546, 'ولرم': 1547, 'پا': 1548, 'پرتغال': 1549, 'کلاسیک': 1550, 'ین': 1551, 'یود': 1552, 'ازا': 1553, 'بقیش': 1554, 'ترکیده': 1555, 'جوی': 1556, 'حجمشم': 1557, 'خانه': 1558, 'دون': 1559, 'دیزاین': 1560, 'سبد': 1561, 'سینی': 1562, 'شوری': 1563, 'طوریکه': 1564, 'قضا': 1565, 'مراجعه': 1566, 'مرطوب': 1567, 'معمولیه': 1568, 'مقوایی': 1569, 'نذاشتن': 1570, 'نظارت': 1571, 'هزارتومان': 1572, 'وبه': 1573, 'وخیلی': 1574, 'چاشنی': 1575, 'چهارتا': 1576, 'ژله': 1577, 'کاراملی': 1578, 'کاملن': 1579, 'یادداشت': 1580, 'ابمیوه': 1581, 'ارایه': 1582, 'استپ': 1583, 'بازار': 1584, 'بالاس': 1585, 'برطرف': 1586, 'بشود': 1587, 'بهبود': 1588, 'تونستم': 1589, 'جذب': 1590, 'خودشو': 1591, 'دبل': 1592, 'دودی': 1593, 'دچار': 1594, 'ذغال': 1595, 'راد': 1596, 'سیم': 1597, 'شخصه': 1598, 'شخصی': 1599, 'شخصیت': 1600, 'شیره': 1601, 'عالییییی': 1602, 'غلیظ': 1603, 'فرد': 1604, 'فودپارتی': 1605, 'فیش': 1606, 'مشتریتون': 1607, 'معرفی': 1608, 'میزارید': 1609, 'ناخوشایند': 1610, 'نباشین': 1611, 'نقطه': 1612, 'نودل': 1613, 'هالوپ': 1614, 'همونطور': 1615, 'کسر': 1616, 'گلاب': 1617, 'گم': 1618, 'گوسفندی': 1619, 'استوا': 1620, 'اعتراض': 1621, 'اینجور': 1622, 'بابا': 1623, 'باماهاس': 1624, 'بزرگی': 1625, 'بعلت': 1626, 'بگیرین': 1627, 'جفت': 1628, 'دما': 1629, 'دن': 1630, 'دومه': 1631, 'شروع': 1632, 'غذاهاشون': 1633, 'متری': 1634, 'مهمونم': 1635, 'موس': 1636, 'میلی': 1637, 'نارنگی': 1638, 'ناپلونی': 1639, 'نزدیکه': 1640, 'نمود': 1641, 'نمیخوره': 1642, 'هسته': 1643, 'واس': 1644, 'وظیفه': 1645, 'چندمه': 1646, 'چوب': 1647, 'چینش': 1648, 'چیکار': 1649, 'کترینگ': 1650, 'کیفیته': 1651, 'آبپز': 1652, 'ابدا': 1653, 'البالو': 1654, 'بااینکه': 1655, 'بایست': 1656, 'بعداز': 1657, 'بک': 1658, 'تبلیغ': 1659, 'جم': 1660, 'حلالتون': 1661, 'درصورتی': 1662, 'دوره': 1663, 'روزی': 1664, 'زشته': 1665, 'سود': 1666, 'سومین': 1667, 'فرصت': 1668, 'فوری': 1669, 'قیمتشم': 1670, 'محض': 1671, 'مسئله': 1672, 'معروف': 1673, 'مچاله': 1674, 'میتونید': 1675, 'میکردین': 1676, 'نمونه': 1677, 'همبرگرش': 1678, 'همشو': 1679, 'کسایی': 1680, 'آینده': 1681, 'ار': 1682, 'ارد': 1683, 'اوردین': 1684, 'اونو': 1685, 'اینکار': 1686, 'بخشید': 1687, 'بدبو': 1688, 'بووود': 1689, 'بیان': 1690, 'تزئین': 1691, 'تقاضا': 1692, 'جمعه': 1693, 'حاوی': 1694, 'حدودی': 1695, 'خشکه': 1696, 'خییلی': 1697, 'درحالی': 1698, 'دهان': 1699, 'راجع': 1700, 'رسه': 1701, 'سفارشمو': 1702, 'شکری': 1703, 'طرح': 1704, 'عالیییییی': 1705, 'عذر': 1706, 'غرق': 1707, 'مالیده': 1708, 'محیط': 1709, 'مزمز': 1710, 'مشاهده': 1711, 'مطابقت': 1712, 'میدونستم': 1713, 'میریزن': 1714, 'نقدی': 1715, 'نمیتونه': 1716, 'نیستید': 1717, 'همینه': 1718, 'وسریع': 1719, 'وعالی': 1720, 'وکیفیت': 1721, 'پرورده': 1722, 'پوشید': 1723, 'کافیه': 1724, 'کوکاکولا': 1725, 'اخیرا': 1726, 'اسفنج': 1727, 'اسلامی': 1728, 'اشاره': 1729, 'اف': 1730, 'اپ': 1731, 'بادوم': 1732, 'بحال': 1733, 'بروکلی': 1734, 'تعطیل': 1735, 'جدیدی': 1736, 'جوجش': 1737, 'خاک': 1738, 'دسته': 1739, 'دلخواه': 1740, 'روزه': 1741, 'سزارش': 1742, 'سمبوسه': 1743, 'شانس': 1744, 'شرینی': 1745, 'ضخامت': 1746, 'فرم': 1747, 'فلافل': 1748, 'قیمتا': 1749, 'لا': 1750, 'مبین': 1751, 'متفاوته': 1752, 'مرغشم': 1753, 'مشتریه': 1754, 'مون': 1755, 'میبره': 1756, 'میفرسته': 1757, 'نامرتب': 1758, 'نامطلوب': 1759, 'ندم': 1760, 'نذارید': 1761, 'نفری': 1762, 'نمکی': 1763, 'هردفعه': 1764, 'هزینش': 1765, 'کال': 1766, 'کمبود': 1767, 'کنده': 1768, 'آپ': 1769, 'ابعاد': 1770, 'احتمال': 1771, 'اعلامی': 1772, 'اونا': 1773, 'باریک': 1774, 'بردار': 1775, 'بریزه': 1776, 'بغل': 1777, 'تشخیص': 1778, 'جوش': 1779, 'خانم': 1780, 'خو': 1781, 'درک': 1782, 'رمضان': 1783, 'روکش': 1784, 'زیره': 1785, 'سرکه': 1786, 'سفارس': 1787, 'شمس': 1788, 'شنیده': 1789, 'عودت': 1790, 'فایده': 1791, 'قاعدتا': 1792, 'ماکارانی': 1793, 'ماکروفر': 1794, 'مساله': 1795, 'مقرر': 1796, 'میمونه': 1797, 'نصفشو': 1798, 'هدر': 1799, 'هرچیزی': 1800, 'وبا': 1801, 'ویفر': 1802, 'پاشیده': 1803, 'پوشش': 1804, 'پیامک': 1805, 'کشیدن': 1806, 'کناره': 1807, 'کنتاکی': 1808, 'کهنگی': 1809, 'کوتاهی': 1810, 'آروستو': 1811, 'آشنا': 1812, 'اسفنجی': 1813, 'اونها': 1814, 'ایشالا': 1815, 'بریزن': 1816, 'بسیااااار': 1817, 'بسیاااار': 1818, 'بعدشم': 1819, 'تقدیر': 1820, 'تونس': 1821, 'تونم': 1822, 'تونه': 1823, 'تیاکو': 1824, 'خالص': 1825, 'خرم': 1826, 'خشکی': 1827, 'خوبن': 1828, 'داشتین': 1829, 'زنجبیل': 1830, 'سوخت': 1831, 'شلوغی': 1832, 'صابون': 1833, 'ضربه': 1834, 'ضرر': 1835, 'عاالی': 1836, 'فدای': 1837, 'فسنجان': 1838, 'فسنجون': 1839, 'قلمکار': 1840, 'لاته': 1841, 'لبه': 1842, 'مابه': 1843, 'محسوب': 1844, 'مخلفاتی': 1845, 'نابود': 1846, 'ناگت': 1847, 'نعنا': 1848, 'نمیدن': 1849, 'نونوایی': 1850, 'نگین': 1851, 'نیازی': 1852, 'هیچکدوم': 1853, 'وضعشه': 1854, 'پاپ': 1855, 'پذیرایی': 1856, 'پله': 1857, 'پپسی': 1858, 'چینی': 1859, 'کارت': 1860, 'کاپوچینو': 1861, 'کران': 1862, 'کله': 1863, 'اساس': 1864, 'اسانسور': 1865, 'امریکایی': 1866, 'انگور': 1867, 'اینسری': 1868, 'بخار': 1869, 'بزنین': 1870, 'بهار': 1871, 'بوووود': 1872, 'بپزه': 1873, 'بگن': 1874, 'تابحال': 1875, 'حسن': 1876, 'حین': 1877, 'خرده': 1878, 'خوندم': 1879, 'خیییییلی': 1880, 'دنی': 1881, 'دورچینی': 1882, 'رنگی': 1883, 'زحماتتون': 1884, 'سرما': 1885, 'سفر': 1886, 'سنگگ': 1887, 'شلوغ': 1888, 'شکم': 1889, 'قدیما': 1890, 'ماکارون': 1891, 'مثال': 1892, 'مر': 1893, 'مشتریشون': 1894, 'مهمونام': 1895, 'موجب': 1896, 'میذارید': 1897, 'نریخته': 1898, 'نمیتونید': 1899, 'نکنن': 1900, 'هیجان': 1901, 'وضعیه': 1902, 'پیترا': 1903, 'پیتزاهاتون': 1904, 'پیچیده': 1905, 'کادر': 1906, 'گندم': 1907, 'آدمو': 1908, 'آلومینیوم': 1909, 'اسمشو': 1910, 'اسپ': 1911, 'اصرار': 1912, 'انلاین': 1913, 'بخور': 1914, 'بدستمان': 1915, 'بطوریکه': 1916, 'بفرسته': 1917, 'بورانی': 1918, 'بینی': 1919, 'ترکیبی': 1920, 'تکان': 1921, 'جوسی': 1922, 'حضور': 1923, 'حوصله': 1924, 'خرج': 1925, 'خردل': 1926, 'دلشون': 1927, 'دیدار': 1928, 'دیقه': 1929, 'رساندن': 1930, 'رود': 1931, 'ریال': 1932, 'زباله': 1933, 'زیادیه': 1934, 'سورپرایز': 1935, 'طعمشو': 1936, 'عالین': 1937, 'فیلیپر': 1938, 'قرص': 1939, 'لانجین': 1940, 'مراتب': 1941, 'منه': 1942, 'منوتون': 1943, 'مهمانی': 1944, 'میرزاقاسمی': 1945, 'میز': 1946, 'میکردن': 1947, 'ننوشته': 1948, 'نپ': 1949, 'همکاری': 1950, 'هیولا': 1951, 'وزیری': 1952, 'پارک': 1953, 'ژامبونش': 1954, 'کرمدار': 1955, 'کلن': 1956, 'کوبیدش': 1957, 'کوفت': 1958, 'یادتون': 1959, 'التفاوت': 1960, 'انتقال': 1961, 'اکلر': 1962, 'بدک': 1963, 'برات': 1964, 'برگرده': 1965, 'بسیااار': 1966, 'بشقاب': 1967, 'بطوری': 1968, 'بهمون': 1969, 'بکنه': 1970, 'بیخود': 1971, 'بیشتره': 1972, 'تلاش': 1973, 'خاست': 1974, 'خاطره': 1975, 'خنده': 1976, 'داشتنی': 1977, 'دمشون': 1978, 'دندان': 1979, 'دورچینش': 1980, 'زعفرون': 1981, 'ساعتی': 1982, 'سروقت': 1983, 'شخص': 1984, 'شرکتی': 1985, 'شکایت': 1986, 'ضد': 1987, 'طلب': 1988, 'قبوله': 1989, 'لک': 1990, 'ماهیچه': 1991, 'محصولاتتون': 1992, 'میزاره': 1993, 'نظری': 1994, 'نمو': 1995, 'نیفتاده': 1996, 'همسر': 1997, 'واصلا': 1998, 'پرتقالی': 1999, 'پنجاه': 2000, 'پیتزاشون': 2001, 'چنتا': 2002, 'چنگ': 2003, 'چیزه': 2004, 'کاسه': 2005, 'کمبو': 2006, 'ابکی': 2007, 'اجناسی': 2008, 'اسموکی': 2009, 'اسنپفود': 2010, 'اطلاعات': 2011, 'اعصاب': 2012, 'العادس': 2013, 'انجیر': 2014, 'اوردید': 2015, 'اوقات': 2016, 'ایتالیا': 2017, 'بتونه': 2018, 'بحث': 2019, 'برج': 2020, 'برداشته': 2021, 'بینظیره': 2022, 'حالمون': 2023, 'خانگی': 2024, 'خواهشمند': 2025, 'خوبشون': 2026, 'زنجیره': 2027, 'سفیده': 2028, 'سو': 2029, 'سولدوش': 2030, 'سون': 2031, 'شفارش': 2032, 'شوکه': 2033, 'عصر': 2034, 'غذاست': 2035, 'فندق': 2036, 'قطع': 2037, 'قول': 2038, 'لازمه': 2039, 'ماری': 2040, 'متعجب': 2041, 'مشکلات': 2042, 'ناچار': 2043, 'نصب': 2044, 'نقد': 2045, 'نهار': 2046, 'نوار': 2047, 'نوشتین': 2048, 'همخوانی': 2049, 'همینجور': 2050, 'هوس': 2051, 'واقعیت': 2052, 'وخسته': 2053, 'پرت': 2054, 'چدار': 2055, 'کوچکی': 2056, 'کوکو': 2057, 'گلو': 2058, 'آبی': 2059, 'ارزونتر': 2060, 'اسنب': 2061, 'اصطلاح': 2062, 'اصلااا': 2063, 'ایندفه': 2064, 'بارون': 2065, 'باریه': 2066, 'بختیاری': 2067, 'برتولی': 2068, 'بهروش': 2069, 'بودولی': 2070, 'بوکا': 2071, 'بیارین': 2072, 'بیمارستان': 2073, 'تواضع': 2074, 'جایزه': 2075, 'دونفر': 2076, 'راهی': 2077, 'روال': 2078, 'زمانبندی': 2079, 'ساق': 2080, 'سوپرمارکتی': 2081, 'شیرکاکائو': 2082, 'صدا': 2083, 'صف': 2084, 'عااااااالی': 2085, 'عادت': 2086, 'عصبانی': 2087, 'فراهم': 2088, 'مامور': 2089, 'ماهشام': 2090, 'مثلث': 2091, 'مسخره': 2092, 'مشهود': 2093, 'مچکرم': 2094, 'مک': 2095, 'میشید': 2096, 'میفرستادن': 2097, 'نریزه': 2098, 'نشدن': 2099, 'نفرستادین': 2100, 'پرحجم': 2101, 'پولمو': 2102, 'کرونا': 2103, 'کمک': 2104, 'کورن': 2105, 'کینوا': 2106, 'گرونی': 2107, 'آلمانی': 2108, 'آوردین': 2109, 'اجیل': 2110, 'اخرم': 2111, 'اقدام': 2112, 'امان': 2113, 'بتونی': 2114, 'بخورن': 2115, 'برید': 2116, 'بیسکوئیت': 2117, 'تاخییر': 2118, 'ترک': 2119, 'تماسی': 2120, 'توو': 2121, 'تکمیل': 2122, 'ثانیه': 2123, 'جویده': 2124, 'حبوبات': 2125, 'دردنکنه': 2126, 'رستورانا': 2127, 'روبرو': 2128, 'روژان': 2129, 'زغال': 2130, 'ساعتو': 2131, 'سبزیجاتش': 2132, 'ستارخان': 2133, 'سفارشام': 2134, 'سفیر': 2135, 'شامی': 2136, 'شاهد': 2137, 'شایست': 2138, 'فانتزی': 2139, 'فرض': 2140, 'فعال': 2141, 'لذید': 2142, 'مبارک': 2143, 'معطر': 2144, 'مه': 2145, 'مهدی': 2146, 'موبایل': 2147, 'میتونستم': 2148, 'میخواین': 2149, 'میشیم': 2150, 'میهمان': 2151, 'نحوی': 2152, 'نرفته': 2153, 'نقاط': 2154, 'نیشکر': 2155, 'هرروز': 2156, 'همونی': 2157, 'چقد': 2158, 'چکیده': 2159, 'کارخونه': 2160, 'کاسته': 2161, 'کالزون': 2162, 'کاپ': 2163, 'کیفیتشم': 2164, 'کیفیتو': 2165, 'گشنه': 2166, 'گلابی': 2167, 'گله': 2168, 'یخی': 2169, 'یکسان': 2170, 'آغشته': 2171, 'آفرین': 2172, 'آوره': 2173, 'ابلیمو': 2174, 'اسراف': 2175, 'اغراق': 2176, 'الکل': 2177, 'اینکارو': 2178, 'بااین': 2179, 'بخدا': 2180, 'برنجشم': 2181, 'برگه': 2182, 'بریز': 2183, 'بزارم': 2184, 'بزاره': 2185, 'بزرگه': 2186, 'بلک': 2187, 'بمب': 2188, 'ترافیک': 2189, 'تریاک': 2190, 'تقسیم': 2191, 'تهوع': 2192, 'توز': 2193, 'جایگزینی': 2194, 'خشخاش': 2195, 'خط': 2196, 'دوتاش': 2197, 'دوستانی': 2198, 'راند': 2199, 'رقم': 2200, 'زبون': 2201, 'زیست': 2202, 'سخاری': 2203, 'سیسیل': 2204, 'شنیسل': 2205, 'شیرینیا': 2206, 'قابلیت': 2207, 'قشنگی': 2208, 'قطره': 2209, 'قیمتشون': 2210, 'محصولاتی': 2211, 'مریزاد': 2212, 'مشما': 2213, 'مهمونی': 2214, 'میتونن': 2215, 'میذاشتن': 2216, 'میگفتن': 2217, 'نایب': 2218, 'نمیارزه': 2219, 'نونا': 2220, 'نیاوردند': 2221, 'هایپ': 2222, 'هایپر': 2223, 'هل': 2224, 'وبسیار': 2225, 'وحشتناکی': 2226, 'وسیله': 2227, 'پارسی': 2228, 'پایان': 2229, 'پایه': 2230, 'پرکنجد': 2231, 'پلاس': 2232, 'پیشه': 2233, 'پیچید': 2234, 'کشه': 2235, 'کنافه': 2236, 'کیفیتشو': 2237, 'گرفتین': 2238, 'یذره': 2239, 'یلدا': 2240, 'آزار': 2241, 'آسمون': 2242, 'آفتابگردان': 2243, 'ابدار': 2244, 'احتیاج': 2245, 'احسن': 2246, 'ادمو': 2247, 'ارزشی': 2248, 'ارسالتون': 2249, 'اشتها': 2250, 'اه': 2251, 'بانش': 2252, 'ببره': 2253, 'بدنبود': 2254, 'بدونه': 2255, 'برخوردشون': 2256, 'بردارید': 2257, 'بلا': 2258, 'بهرحال': 2259, 'بگه': 2260, 'تاپ': 2261, 'تخفیفا': 2262, 'تندوری': 2263, 'تونید': 2264, 'جابجایی': 2265, 'جویدن': 2266, 'خالیه': 2267, 'خداوکیلی': 2268, 'خوام': 2269, 'خیلییییییی': 2270, 'داغه': 2271, 'دختر': 2272, 'درهم': 2273, 'دستور': 2274, 'دلپذیر': 2275, 'دورو': 2276, 'رخ': 2277, 'رستورانتون': 2278, 'رژیم': 2279, 'زحم': 2280, 'سن': 2281, 'عالیتون': 2282, 'فریز': 2283, 'فندقی': 2284, 'لاریسا': 2285, 'ماشینی': 2286, 'مقصر': 2287, 'ملت': 2288, 'مهلت': 2289, 'موجوده': 2290, 'نزارید': 2291, 'نفرستین': 2292, 'نمیرسه': 2293, 'نگران': 2294, 'نگهداری': 2295, 'نیود': 2296, 'هروقت': 2297, 'ولو': 2298, 'ومزه': 2299, 'پارسه': 2300, 'پاسداران': 2301, 'پره': 2302, 'پپرونیش': 2303, 'پیازچه': 2304, 'پیشنهادی': 2305, 'چایی': 2306, 'چربه': 2307, 'کارخانه': 2308, 'کارو': 2309, 'کرمی': 2310, 'گاردینو': 2311, 'گرسنگی': 2312, 'گرمه': 2313, 'گزارد': 2314, 'اجزا': 2315, 'اخری': 2316, 'ادعا': 2317, 'ازشما': 2318, 'ازون': 2319, 'اسانس': 2320, 'اسباب': 2321, 'اسرع': 2322, 'اسپری': 2323, 'اشترودل': 2324, 'اقلامی': 2325, 'انداختن': 2326, 'ایستاد': 2327, 'بالاتره': 2328, 'براون': 2329, 'برگردونید': 2330, 'بسیارعالی': 2331, 'بهانه': 2332, 'تبلیغات': 2333, 'تفت': 2334, 'تنده': 2335, 'توانایی': 2336, 'خدماتتون': 2337, 'دستی': 2338, 'رویی': 2339, 'زیبایی': 2340, 'ساندیچ': 2341, 'شارژ': 2342, 'شایسته': 2343, 'شلوغه': 2344, 'صبحونه': 2345, 'صدر': 2346, 'عاااااااالی': 2347, 'فیل': 2348, 'قدردانی': 2349, 'قدم': 2350, 'قلب': 2351, 'قندی': 2352, 'لاستیکی': 2353, 'لباسشویی': 2354, 'لغو': 2355, 'ماله': 2356, 'متنفر': 2357, 'مداریتون': 2358, 'مرغه': 2359, 'منحصر': 2360, 'منکه': 2361, 'میخواید': 2362, 'میذاشتید': 2363, 'میزاشتن': 2364, 'میفته': 2365, 'نحو': 2366, 'نعناع': 2367, 'نیستی': 2368, 'همبر': 2369, 'واقا': 2370, 'وقتا': 2371, 'وگرم': 2372, 'پاپا': 2373, 'پذیرش': 2374, 'پف': 2375, 'چوپ': 2376, 'کراسان': 2377, 'گردیده': 2378, 'یهو': 2379, 'یونانی': 2380, 'یی': 2381, 'آشپزخانه': 2382, 'آلود': 2383, 'ادبی': 2384, 'ازینکه': 2385, 'اسکوپ': 2386, 'افتصاح': 2387, 'افزار': 2388, 'الپارو': 2389, 'انداختمش': 2390, 'انسان': 2391, 'اژدها': 2392, 'اگ': 2393, 'باتری': 2394, 'بارن': 2395, 'باع': 2396, 'باوجود': 2397, 'بتونم': 2398, 'بتونید': 2399, 'بذاره': 2400, 'برچسب': 2401, 'بلو': 2402, 'بلوط': 2403, 'بنویسن': 2404, 'تطابق': 2405, 'تمشک': 2406, 'جانب': 2407, 'جردن': 2408, 'حلال': 2409, 'خوده': 2410, 'دومینو': 2411, 'رازی': 2412, 'روند': 2413, 'ریزه': 2414, 'سانویچ': 2415, 'سفارشا': 2416, 'شست': 2417, 'شمارو': 2418, 'شن': 2419, 'شوره': 2420, 'طعمشم': 2421, 'طعمشون': 2422, 'طعمه': 2423, 'ظرفشویی': 2424, 'عالیس': 2425, 'غدای': 2426, 'غذامون': 2427, 'غیره': 2428, 'ففط': 2429, 'فودم': 2430, 'قاچ': 2431, 'قیمتاتون': 2432, 'لاکتوز': 2433, 'لوازم': 2434, 'لیموناد': 2435, 'محدود': 2436, 'مرغتون': 2437, 'مریض': 2438, 'مناسفانه': 2439, 'منجمد': 2440, 'منع': 2441, 'مهمونا': 2442, 'مکان': 2443, 'میدونه': 2444, 'نستله': 2445, 'نونشم': 2446, 'همخونی': 2447, 'همینجا': 2448, 'واریز': 2449, 'واینکه': 2450, 'وخوش': 2451, 'ودر': 2452, 'پارمزان': 2453, 'پارچه': 2454, 'پچ': 2455, 'پیزا': 2456, 'چرخکرده': 2457, 'چیزفود': 2458, 'کرن': 2459, 'کچاب': 2460, 'گره': 2461, 'گیشا': 2462, 'یخورده': 2463, 'یوسف': 2464, 'یکنفره': 2465, 'آبرومون': 2466, 'آرتین': 2467, 'آشپزی': 2468, 'ابگوشت': 2469, 'اخذ': 2470, 'اسیب': 2471, 'اشپز': 2472, 'اصلاااا': 2473, 'العادست': 2474, 'انتقادی': 2475, 'اونایی': 2476, 'اونچه': 2477, 'اپراتور': 2478, 'باحال': 2479, 'بارونی': 2480, 'برسونید': 2481, 'بلوبری': 2482, 'بمونین': 2483, 'بنا': 2484, 'بنویسین': 2485, 'بهترینه': 2486, 'بهمراه': 2487, 'بکنن': 2488, 'تبریز': 2489, 'تهچین': 2490, 'توپ': 2491, 'تکلیف': 2492, 'جابه': 2493, 'حساس': 2494, 'حقیقت': 2495, 'خواند': 2496, 'خوشمره': 2497, 'خوشمزتون': 2498, 'داگی': 2499, 'درصدی': 2500, 'دستشویی': 2501, 'دیوار': 2502, 'ذهن': 2503, 'رتبه': 2504, 'روبه': 2505, 'روشون': 2506, 'روهم': 2507, 'رگا': 2508, 'زایید': 2509, 'زرده': 2510, 'ساختمون': 2511, 'سرآشپز': 2512, 'سراغ': 2513, 'سره': 2514, 'سفالی': 2515, 'سنجید': 2516, 'سنگینی': 2517, 'شاکی': 2518, 'شنبه': 2519, 'شهرک': 2520, 'شوینده': 2521, 'شگفت': 2522, 'شیرموز': 2523, 'شیوه': 2524, 'صاحب': 2525, 'صفحه': 2526, 'طبیعیه': 2527, 'عرضه': 2528, 'عید': 2529, 'فوت': 2530, 'قزل': 2531, 'مامان': 2532, 'مبنی': 2533, 'متن': 2534, 'مرغا': 2535, 'مزگی': 2536, 'مغزپخت': 2537, 'میخوان': 2538, 'میرداماد': 2539, 'میرسونه': 2540, 'میگذره': 2541, 'میگرفتن': 2542, 'نرسه': 2543, 'نزنه': 2544, 'نظارتی': 2545, 'نمیدیم': 2546, 'هاشم': 2547, 'هاشو': 2548, 'همبرگری': 2549, 'وجدان': 2550, 'وداغ': 2551, 'ولیکن': 2552, 'وینستون': 2553, 'ویژگی': 2554, 'پاستیل': 2555, 'پنکیک': 2556, 'پنیرشم': 2557, 'پولتون': 2558, 'کاربر': 2559, 'کت': 2560, 'کیفتش': 2561, 'کیلومتر': 2562, 'گی': 2563, 'آفتاب': 2564, 'اباد': 2565, 'احتیاط': 2566, 'ادامس': 2567, 'ارتباط': 2568, 'استانبول': 2569, 'ایچ': 2570, 'بخورمش': 2571, 'برادر': 2572, 'برسونن': 2573, 'برقرار': 2574, 'بسار': 2575, 'بهمن': 2576, 'بوددد': 2577, 'تشریف': 2578, 'تمیزی': 2579, 'تومنم': 2580, 'تیکش': 2581, 'جلسه': 2582, 'جناب': 2583, 'جوانه': 2584, 'حالمو': 2585, 'حروم': 2586, 'حلوا': 2587, 'خریدار': 2588, 'خمیره': 2589, 'خییییییلی': 2590, 'دایی': 2591, 'دستگاه': 2592, 'دوبرابر': 2593, 'رسپی': 2594, 'زاپاتا': 2595, 'زحمتکش': 2596, 'زن': 2597, 'سفره': 2598, 'سقف': 2599, 'سوس': 2600, 'سوهان': 2601, 'شمال': 2602, 'طراحی': 2603, 'طلبکار': 2604, 'طولانیه': 2605, 'عالییییییی': 2606, 'غول': 2607, 'فعلی': 2608, 'فوود': 2609, 'قجری': 2610, 'لعاب': 2611, 'لی': 2612, 'مبدا': 2613, 'مجزا': 2614, 'محبوب': 2615, 'محله': 2616, 'مضر': 2617, 'مطرح': 2618, 'مطلب': 2619, 'ممتاز': 2620, 'موندن': 2621, 'موکا': 2622, 'میتونین': 2623, 'میذاره': 2624, 'میذاشتین': 2625, 'میریزه': 2626, 'میشین': 2627, 'میفروشن': 2628, 'نارنجی': 2629, 'نایلونی': 2630, 'نتونست': 2631, 'ندن': 2632, 'نذارین': 2633, 'نزنن': 2634, 'نظرمو': 2635, 'نمایش': 2636, 'نمیتونن': 2637, 'نمیخوام': 2638, 'نمیره': 2639, 'نوبت': 2640, 'نود': 2641, 'نکردین': 2642, 'هرحال': 2643, 'هرکدوم': 2644, 'همبرگرها': 2645, 'همونجوری': 2646, 'واژگون': 2647, 'وتشکر': 2648, 'وخوب': 2649, 'وطعم': 2650, 'وغذا': 2651, 'وقعا': 2652, 'وهمچنین': 2653, 'پاچه': 2654, 'پاگشا': 2655, 'پلمپ': 2656, 'پولو': 2657, 'پیروز': 2658, 'پیچ': 2659, 'ژل': 2660, 'گوسفند': 2661, 'گیاه': 2662, 'آموزش': 2663, 'آژانس': 2664, 'ابتدایی': 2665, 'احتساب': 2666, 'اق': 2667, 'انعام': 2668, 'اوج': 2669, 'اومدم': 2670, 'اونجایی': 2671, 'اونوقت': 2672, 'ایتم': 2673, 'بادمجونش': 2674, 'بادنجان': 2675, 'بانک': 2676, 'برداشتن': 2677, 'برسونه': 2678, 'برنجتون': 2679, 'بوش': 2680, 'بیبی': 2681, 'بیماری': 2682, 'بیگ': 2683, 'تخته': 2684, 'تخمین': 2685, 'ترازو': 2686, 'تردی': 2687, 'ترکیبات': 2688, 'تصویری': 2689, 'تمایل': 2690, 'ثابتتون': 2691, 'جلد': 2692, 'جورایی': 2693, 'خلاق': 2694, 'خواب': 2695, 'خووب': 2696, 'خیییییییلی': 2697, 'درصورتیکه': 2698, 'دسترسی': 2699, 'دفرمه': 2700, 'دلتون': 2701, 'دوبل': 2702, 'دومینوز': 2703, 'دیس': 2704, 'راهه': 2705, 'رستورانه': 2706, 'روشن': 2707, 'ریسک': 2708, 'سالامی': 2709, 'سبوسدار': 2710, 'سرشون': 2711, 'سفارشتون': 2712, 'سفتی': 2713, 'شسته': 2714, 'شناور': 2715, 'شوخی': 2716, 'شکست': 2717, 'شیشلیک': 2718, 'شیلای': 2719, 'صنعتی': 2720, 'علامت': 2721, 'غذاشو': 2722, 'غر': 2723, 'فردی': 2724, 'فین': 2725, 'قضاوت': 2726, 'قیطریه': 2727, 'لباس': 2728, 'لحن': 2729, 'لهیده': 2730, 'لواشک': 2731, 'لوکیشن': 2732, 'لکه': 2733, 'مالیاتی': 2734, 'مایل': 2735, 'متاسفام': 2736, 'مسائل': 2737, 'مقادیر': 2738, 'ملایم': 2739, 'منقضی': 2740, 'میذارین': 2741, 'میزنین': 2742, 'نرمی': 2743, 'نقشه': 2744, 'نمیاره': 2745, 'نمیدونستم': 2746, 'نویسم': 2747, 'نگهبان': 2748, 'هدف': 2749, 'هضم': 2750, 'همرو': 2751, 'همونو': 2752, 'هندونه': 2753, 'وسرد': 2754, 'وقتتون': 2755, 'وچنگال': 2756, 'پاپیون': 2757, 'پت': 2758, 'پرسیدن': 2759, 'پشتیبان': 2760, 'پگاه': 2761, 'پیتزاشم': 2762, 'پیتزاهاشون': 2763, 'پیغام': 2764, 'ژاپنی': 2765, 'کشور': 2766, 'کلیز': 2767, 'کوردن': 2768, 'کولا': 2769, 'گاو': 2770, 'گشنگی': 2771, 'یکجا': 2772, 'آبروریزی': 2773, 'اخته': 2774, 'ارتباطی': 2775, 'اساسی': 2776, 'اصلااااا': 2777, 'اظهار': 2778, 'الخصوص': 2779, 'الله': 2780, 'انتظارشو': 2781, 'انتهای': 2782, 'انرژی': 2783, 'انقضائ': 2784, 'اولترا': 2785, 'اویشن': 2786, 'اژدر': 2787, 'اینجوریه': 2788, 'بازه': 2789, 'بذارم': 2790, 'بذاریم': 2791, 'بقیشو': 2792, 'بمن': 2793, 'بندیتون': 2794, 'بودکه': 2795, 'بیس': 2796, 'تاره': 2797, 'تبریزی': 2798, 'تعارف': 2799, 'تعهد': 2800, 'توالت': 2801, 'جعبش': 2802, 'حتا': 2803, 'خبره': 2804, 'خدارو': 2805, 'خریدن': 2806, 'خواد': 2807, 'خورشتش': 2808, 'خیارشورش': 2809, 'دسترس': 2810, 'دلایل': 2811, 'دلو': 2812, 'دنر': 2813, 'دهیتون': 2814, 'رسمی': 2815, 'رنده': 2816, 'رولتی': 2817, 'زمانیکه': 2818, 'زمینیا': 2819, 'ساطور': 2820, 'سالن': 2821, 'ساندویچو': 2822, 'سبب': 2823, 'سرمون': 2824, 'سهل': 2825, 'سوما': 2826, 'شاطر': 2827, 'شعله': 2828, 'شهر': 2829, 'شهریور': 2830, 'ضدعفونی': 2831, 'ضعیفه': 2832, 'عصبانیت': 2833, 'عهده': 2834, 'عیب': 2835, 'غذاهم': 2836, 'غرب': 2837, 'غریب': 2838, 'فاحش': 2839, 'فودهای': 2840, 'قد': 2841, 'قیاس': 2842, 'لطفتون': 2843, 'لف': 2844, 'لوپتو': 2845, 'مارکتی': 2846, 'ماهان': 2847, 'مربوطه': 2848, 'معتبر': 2849, 'مقرون': 2850, 'میارید': 2851, 'میاوردن': 2852, 'میخوایم': 2853, 'میزاشتین': 2854, 'میوفته': 2855, 'ناراحتی': 2856, 'نایلکس': 2857, 'نبات': 2858, 'نرخ': 2859, 'نما': 2860, 'نونشون': 2861, 'هاتداگ': 2862, 'هزینشو': 2863, 'همکارام': 2864, 'همیشگیتون': 2865, 'همینقدر': 2866, 'همینو': 2867, 'هویچ': 2868, 'هپی': 2869, 'واااقعا': 2870, 'واقعااا': 2871, 'وجودی': 2872, 'ود': 2873, 'وضعی': 2874, 'وضوح': 2875, 'ولیعصر': 2876, 'وکیل': 2877, 'وکیوم': 2878, 'پبتزا': 2879, 'پل': 2880, 'پن': 2881, 'پیانو': 2882, 'پیتزاست': 2883, 'چشید': 2884, 'چهارفصل': 2885, 'چورک': 2886, 'چیزاش': 2887, 'چیزیه': 2888, 'کنترل': 2889, 'کوچیکی': 2890, 'کیه': 2891, 'گنده': 2892, 'گورمه': 2893, 'گوله': 2894, 'یازده': 2895, 'یکدست': 2896, 'آپارتمان': 2897, 'آیفون': 2898, 'ابتکار': 2899, 'ابپز': 2900, 'اخلاقی': 2901, 'اداره': 2902, 'استرس': 2903, 'استرپس': 2904, 'اسمارتیز': 2905, 'اشتباهه': 2906, 'اصیل': 2907, 'الآن': 2908, 'الباقی': 2909, 'الشموس': 2910, 'انتقادات': 2911, 'اندک': 2912, 'اوضاع': 2913, 'ایول': 2914, 'باحالی': 2915, 'باسپاس': 2916, 'ببینه': 2917, 'بدند': 2918, 'بریده': 2919, 'بسیا': 2920, 'بعضیا': 2921, 'بهترینید': 2922, 'بودددد': 2923, 'بور': 2924, 'تاسفه': 2925, 'ترم': 2926, 'تلف': 2927, 'تنهایی': 2928, 'تهرانه': 2929, 'توجهتون': 2930, 'تیست': 2931, 'ثابتشون': 2932, 'جامعه': 2933, 'جست': 2934, 'جنگلی': 2935, 'جوره': 2936, 'جون': 2937, 'حبه': 2938, 'خفن': 2939, 'خلاقیت': 2940, 'خور': 2941, 'خورشتی': 2942, 'خوششون': 2943, 'خوشمون': 2944, 'خوووب': 2945, 'درمورد': 2946, 'دروغ': 2947, 'دفتر': 2948, 'دود': 2949, 'دوستام': 2950, 'دوسر': 2951, 'دوسش': 2952, 'دوعدد': 2953, 'راسته': 2954, 'رایحه': 2955, 'ربعه': 2956, 'زاگ': 2957, 'زعفرونی': 2958, 'زیگ': 2959, 'ساک': 2960, 'سرخود': 2961, 'سردبود': 2962, 'سوئ': 2963, 'شاه': 2964, 'شاهکار': 2965, 'شورینی': 2966, 'شیرپسته': 2967, 'صاف': 2968, 'صلاح': 2969, 'طبع': 2970, 'عروسکی': 2971, 'عمان': 2972, 'عمرا': 2973, 'غذاتونو': 2974, 'غذاهارو': 2975, 'غلظت': 2976, 'فرمون': 2977, 'فرهنگ': 2978, 'فضا': 2979, 'فوده': 2980, 'فکرکنم': 2981, 'قبض': 2982, 'قرابیه': 2983, 'قصد': 2984, 'قوی': 2985, 'لابلا': 2986, 'متشخص': 2987, 'متوالی': 2988, 'مجتمع': 2989, 'محصولاتشون': 2990, 'مد': 2991, 'مربع': 2992, 'مز': 2993, 'مزیت': 2994, 'مساوی': 2995, 'موندیم': 2996, 'مکانی': 2997, 'میامد': 2998, 'میتونستن': 2999, 'میشدن': 3000, 'مینو': 3001, 'میکادو': 3002, 'میکشن': 3003, 'نادرست': 3004, 'نباشن': 3005, 'نداشتین': 3006, 'نشن': 3007, 'نصفشم': 3008, 'نطر': 3009, 'نمیدین': 3010, 'نمیگم': 3011, 'نهایی': 3012, 'نونه': 3013, 'نگرفتن': 3014, 'نگیره': 3015, 'نیافتاده': 3016, 'هرچقدر': 3017, 'وافعا': 3018, 'وباکیفیت': 3019, 'وبدون': 3020, 'ورودی': 3021, 'وزنی': 3022, 'ولنجک': 3023, 'وپنیر': 3024, 'وپیک': 3025, 'پارمیدا': 3026, 'پختن': 3027, 'پرفکت': 3028, 'پنبه': 3029, 'پنیره': 3030, 'پوک': 3031, 'پیمون': 3032, 'چن': 3033, 'چوبه': 3034, 'چکه': 3035, 'ژانبون': 3036, 'کاریه': 3037, 'کاست': 3038, 'کبابشم': 3039, 'کلاب': 3040, 'کلافه': 3041, 'کوزه': 3042, 'کول': 3043, 'کیوی': 3044, 'گرامی': 3045, 'گلستان': 3046, 'گوشتشم': 3047, 'گوشی': 3048, 'گیرنده': 3049, 'یو': 3050, 'آتی': 3051, 'آخرشم': 3052, 'آلودگی': 3053, 'آپدیت': 3054, 'ابرومون': 3055, 'ابعادش': 3056, 'اتون': 3057, 'اجبار': 3058, 'ارتقا': 3059, 'اشک': 3060, 'افزون': 3061, 'امر': 3062, 'اناناس': 3063, 'اندرکاران': 3064, 'اندفعه': 3065, 'انکار': 3066, 'اهل': 3067, 'اواخر': 3068, 'اور': 3069, 'اونهم': 3070, 'باشخصیت': 3071, 'بالاترین': 3072, 'بالزامیک': 3073, 'باهاشون': 3074, 'بخونید': 3075, 'برن': 3076, 'برگردوندن': 3077, 'بسیاااااار': 3078, 'بعضیاش': 3079, 'بندیشون': 3080, 'بودد': 3081, 'بووووود': 3082, 'تحسین': 3083, 'تشویق': 3084, 'تلاونگ': 3085, 'تمدید': 3086, 'تنظیم': 3087, 'توجیح': 3088, 'تورو': 3089, 'توروخدا': 3090, 'تیغ': 3091, 'جام': 3092, 'جانبی': 3093, 'جوابگو': 3094, 'جی': 3095, 'جیب': 3096, 'حاصل': 3097, 'حجمشون': 3098, 'حدس': 3099, 'خدای': 3100, 'خلوت': 3101, 'خواهشن': 3102, 'خوبید': 3103, 'خودداری': 3104, 'خودی': 3105, 'خوشبو': 3106, 'داخلی': 3107, 'دان': 3108, 'دایره': 3109, 'درس': 3110, 'دمید': 3111, 'دوازده': 3112, 'دوروز': 3113, 'دوید': 3114, 'دیروقت': 3115, 'راجب': 3116, 'رستورانو': 3117, 'ره': 3118, 'روزا': 3119, 'روگن': 3120, 'زودی': 3121, 'سازگار': 3122, 'سالادتون': 3123, 'سبزیجاتی': 3124, 'ستون': 3125, 'سرایدار': 3126, 'سلاد': 3127, 'سیاهی': 3128, 'سید': 3129, 'سیری': 3130, 'شفاف': 3131, 'شمار': 3132, 'شنزار': 3133, 'صفت': 3134, 'عضو': 3135, 'غذامو': 3136, 'غوره': 3137, 'فرانسه': 3138, 'فرش': 3139, 'فرنی': 3140, 'فروخته': 3141, 'فکنم': 3142, 'قبلن': 3143, 'قرارداد': 3144, 'قیم': 3145, 'قیمتو': 3146, 'لارج': 3147, 'لوله': 3148, 'لیسید': 3149, 'مایکروفر': 3150, 'متفرقه': 3151, 'مجلسی': 3152, 'محشره': 3153, 'مخصوصتون': 3154, 'مدتیه': 3155, 'مرزدار': 3156, 'مرسییی': 3157, 'مره': 3158, 'مشتریاتون': 3159, 'مشتی': 3160, 'مشغول': 3161, 'مغزی': 3162, 'مفهوم': 3163, 'منت': 3164, 'منتقل': 3165, 'میت': 3166, 'میخواستن': 3167, 'میدونید': 3168, 'میرسونن': 3169, 'میموند': 3170, 'میچسبه': 3171, 'نازل': 3172, 'نامنظم': 3173, 'ناپلیونی': 3174, 'نثار': 3175, 'نزاشتن': 3176, 'نزول': 3177, 'نشانه': 3178, 'نشانی': 3179, 'نمیارن': 3180, 'نمیزارن': 3181, 'نمیگیره': 3182, 'نوتلایی': 3183, 'هرسری': 3184, 'هرکی': 3185, 'همونه': 3186, 'هیج': 3187, 'واضح': 3188, 'واقعاااا': 3189, 'وبسته': 3190, 'وحجم': 3191, 'وسالم': 3192, 'وسس': 3193, 'وسیب': 3194, 'وغیر': 3195, 'وممنون': 3196, 'وهمه': 3197, 'وون': 3198, 'وکاملا': 3199, '٪': 3200, 'پتزا': 3201, 'پدر': 3202, 'پرو': 3203, 'پرک': 3204, 'پیتزاشو': 3205, 'پیگیریتون': 3206, 'چاودار': 3207, 'چوبی': 3208, 'چید': 3209, 'چیک': 3210, 'کا': 3211, 'کارا': 3212, 'کلاس': 3213, 'کوئین': 3214, 'کیلومتری': 3215, 'کیلوگرم': 3216, 'گروه': 3217, 'گزارش': 3218, 'گود': 3219, 'گوشته': 3220, 'گوشفیل': 3221, 'گیرن': 3222, 'یبار': 3223, 'یکیشون': 3224, 'آرژانتینی': 3225, 'آقایی': 3226, 'آوران': 3227, 'ابن': 3228, 'اداری': 3229, 'ازاسنپ': 3230, 'استریپسش': 3231, 'اسپرینگ': 3232, 'اصراف': 3233, 'افتتاح': 3234, 'افتضااااح': 3235, 'افته': 3236, 'ال': 3237, 'الهیه': 3238, 'امکانات': 3239, 'اوردم': 3240, 'اوره': 3241, 'اکباتان': 3242, 'ایستاده': 3243, 'اینارو': 3244, 'باتاخیر': 3245, 'بازگشت': 3246, 'باورنکردنی': 3247, 'بت': 3248, 'بحدی': 3249, 'برو': 3250, 'برگردانده': 3251, 'برگردونن': 3252, 'بریون': 3253, 'بزور': 3254, 'بستنیا': 3255, 'بسه': 3256, 'بسیاز': 3257, 'بمون': 3258, 'بمونیم': 3259, 'بناب': 3260, 'بنفش': 3261, 'بهشتی': 3262, 'بهیچ': 3263, 'بوف': 3264, 'بوووووود': 3265, 'بکنین': 3266, 'بیسته': 3267, 'تاریخشون': 3268, 'تایمر': 3269, 'تردیلا': 3270, 'تز': 3271, 'تصحیح': 3272, 'تقریبن': 3273, 'تقریبی': 3274, 'تهی': 3275, 'توصیف': 3276, 'تونستن': 3277, 'تونن': 3278, 'تیک': 3279, 'جرم': 3280, 'جزییات': 3281, 'جنوب': 3282, 'جوید': 3283, 'حتمن': 3284, 'خواهر': 3285, 'خوره': 3286, 'خونمون': 3287, 'خیرتون': 3288, 'دخترانه': 3289, 'دراومده': 3290, 'دستام': 3291, 'دفع': 3292, 'دلنشین': 3293, 'دویست': 3294, 'دیرکرد': 3295, 'ذارن': 3296, 'راصی': 3297, 'راهنمایی': 3298, 'رز': 3299, 'رسم': 3300, 'رقیب': 3301, 'روبروی': 3302, 'رگ': 3303, 'زشتی': 3304, 'زمخت': 3305, 'سالادشم': 3306, 'سامانه': 3307, 'سفارشاتی': 3308, 'سلفون': 3309, 'سوزونده': 3310, 'سوپرایز': 3311, 'سیامک': 3312, 'سیراب': 3313, 'شاد': 3314, 'صحنه': 3315, 'صمیمانه': 3316, 'صیفی': 3317, 'ضحم': 3318, 'طلا': 3319, 'عاااالیه': 3320, 'عصاره': 3321, 'عفونی': 3322, 'عکسشو': 3323, 'غذاخیلی': 3324, 'فایر': 3325, 'فرستن': 3326, 'فرستین': 3327, 'فرنچ': 3328, 'فرو': 3329, 'فله': 3330, 'فکرشو': 3331, 'قادر': 3332, 'قبلنا': 3333, 'قبله': 3334, 'قرارداده': 3335, 'قیمتاش': 3336, 'لاور': 3337, 'لطفن': 3338, 'لوبیاپلو': 3339, 'لود': 3340, 'مائالشعیر': 3341, 'مارلبرو': 3342, 'مالی': 3343, 'مزشم': 3344, 'مشمع': 3345, 'مطالعه': 3346, 'مفت': 3347, 'مند': 3348, 'مندرج': 3349, 'منصف': 3350, 'موادشم': 3351, 'موقعیت': 3352, 'میارزه': 3353, 'میخوای': 3354, 'میذارم': 3355, 'میریزین': 3356, 'میزدن': 3357, 'میشی': 3358, 'نادیده': 3359, 'نامیا': 3360, 'نخواسته': 3361, 'نخوردن': 3362, 'ندرت': 3363, 'نریزن': 3364, 'نزار': 3365, 'نسب': 3366, 'نمایند': 3367, 'نمیدونن': 3368, 'نمیشید': 3369, 'نمیپ': 3370, 'نمیگن': 3371, 'نمیگیرن': 3372, 'نوستالژیک': 3373, 'نگیرین': 3374, 'هاتونو': 3375, 'هروی': 3376, 'هرکسی': 3377, 'همرا': 3378, 'همونجور': 3379, 'همونطوری': 3380, 'همونم': 3381, 'هوفنبرگ': 3382, 'هیس': 3383, 'وااااقعا': 3384, 'واسمون': 3385, 'واسنپ': 3386, 'واقن': 3387, 'وجی': 3388, 'ونک': 3389, 'پاکستانی': 3390, 'پراز': 3391, 'پلا': 3392, 'پنجم': 3393, 'پولتونو': 3394, 'پژمرده': 3395, 'پیشین': 3396, 'پیچه': 3397, 'پیکه': 3398, 'چقدره': 3399, 'چلوجوجه': 3400, 'چلوکبابی': 3401, 'چیزیو': 3402, 'چیو': 3403, 'کادو': 3404, 'کاربردی': 3405, 'کاره': 3406, 'کارها': 3407, 'کاملآ': 3408, 'کبابتون': 3409, 'کلنل': 3410, 'کمپوت': 3411, 'کور': 3412, 'کوکلوچه': 3413, 'کیفبت': 3414, 'کیکو': 3415, 'گازدار': 3416, 'گزاشته': 3417, 'گلاسه': 3418, 'گلتون': 3419, 'گول': 3420, 'یکبارمصرف': 3421, 'یکسر': 3422, 'یکطرف': 3423, 'یکیشو': 3424, 'آبش': 3425, 'آرسام': 3426, 'آفریکانا': 3427, 'آلرژی': 3428, 'احیانا': 3429, 'اختیار': 3430, 'اخرشم': 3431, 'ارزنده': 3432, 'ارسالشون': 3433, 'ارگانیک': 3434, 'ازلحاظ': 3435, 'ازمدیریت': 3436, 'ازنظر': 3437, 'اسنپی': 3438, 'اصلاا': 3439, 'اعتبارتون': 3440, 'اعتمادی': 3441, 'افتضااااااح': 3442, 'افزودنی': 3443, 'افطار': 3444, 'الو': 3445, 'انبار': 3446, 'انتطار': 3447, 'انصافیه': 3448, 'انقدری': 3449, 'اونور': 3450, 'اکانت': 3451, 'اکی': 3452, 'اینترنت': 3453, 'اینحال': 3454, 'اینصورت': 3455, 'بادقت': 3456, 'بایودنت': 3457, 'ببشتر': 3458, 'بتونن': 3459, 'بحای': 3460, 'بخوای': 3461, 'بدبود': 3462, 'بدددد': 3463, 'بدنه': 3464, 'بدونن': 3465, 'بذاری': 3466, 'برازنده': 3467, 'بران': 3468, 'برف': 3469, 'برمیگرده': 3470, 'بروچن': 3471, 'برگرهاتون': 3472, 'بریزمش': 3473, 'بریونی': 3474, 'بزرگتری': 3475, 'بسبار': 3476, 'بلوار': 3477, 'بندازه': 3478, 'بندیه': 3479, 'بوذ': 3480, 'بولکی': 3481, 'بچگی': 3482, 'بیخودی': 3483, 'بیفش': 3484, 'بیچاره': 3485, 'بیژن': 3486, 'تامین': 3487, 'تهرانپارس': 3488, 'تونستیم': 3489, 'تکی': 3490, 'تی': 3491, 'تیتابی': 3492, 'تیر': 3493, 'جزئی': 3494, 'جفتشون': 3495, 'جهان': 3496, 'جگر': 3497, 'حواسشون': 3498, 'حیوانی': 3499, 'خداوند': 3500, 'خدمتتون': 3501, 'خرابی': 3502, 'خشمزه': 3503, 'خشکبار': 3504, 'خوردمش': 3505, 'خوردنی': 3506, 'خیلیییییییی': 3507, 'دراین': 3508, 'دردسر': 3509, 'درنا': 3510, 'درنتیجه': 3511, 'درنظر': 3512, 'درو': 3513, 'دمه': 3514, 'دندونم': 3515, 'دوتیکه': 3516, 'دونوع': 3517, 'رسبد': 3518, 'رطوبت': 3519, 'رغبت': 3520, 'رنگارنگ': 3521, 'روزیتون': 3522, 'ری': 3523, 'زردآلو': 3524, 'زین': 3525, 'سابید': 3526, 'ساعات': 3527, 'سالا': 3528, 'سان': 3529, 'سانتیمتر': 3530, 'ساندویچا': 3531, 'ساندویچه': 3532, 'سده': 3533, 'سرشیر': 3534, 'سرطان': 3535, 'سرعتشون': 3536, 'سمنو': 3537, 'سمی': 3538, 'سنت': 3539, 'سنگینه': 3540, 'سوئیسی': 3541, 'سوخاریتون': 3542, 'سوپربرگر': 3543, 'شبانه': 3544, 'شر': 3545, 'شرح': 3546, 'شرمندگی': 3547, 'شعبات': 3548, 'شنید': 3549, 'شکلاتیه': 3550, 'شید': 3551, 'شیرازبرگر': 3552, 'شیرینیتون': 3553, 'صادقانه': 3554, 'صدف': 3555, 'ضایع': 3556, 'ضروری': 3557, 'طعمدار': 3558, 'طهر': 3559, 'عشق': 3560, 'علاف': 3561, 'عما': 3562, 'عملشون': 3563, 'غذائی': 3564, 'غله': 3565, 'غوطه': 3566, 'غیرحضوری': 3567, 'فذا': 3568, 'فرمول': 3569, 'فلزی': 3570, 'قابلمه': 3571, 'قانون': 3572, 'قرمزی': 3573, 'قصر': 3574, 'قطاب': 3575, 'لایک': 3576, 'لبنی': 3577, 'لذیذه': 3578, 'لوتکا': 3579, 'لیز': 3580, 'ماهه': 3581, 'مایکروویو': 3582, 'متاستفانه': 3583, 'متعادل': 3584, 'متعلقات': 3585, 'مجهز': 3586, 'محبت': 3587, 'محترمتون': 3588, 'محدودیت': 3589, 'مداریشون': 3590, 'مراسم': 3591, 'مرسیییی': 3592, 'مرکز': 3593, 'مزشو': 3594, 'مسن': 3595, 'مشتریاش': 3596, 'معادل': 3597, 'معین': 3598, 'مناطق': 3599, 'موثر': 3600, 'موقعه': 3601, 'میزاشتید': 3602, 'میفرستادین': 3603, 'میلک': 3604, 'میمون': 3605, 'میندازه': 3606, 'ناپخته': 3607, 'ندیم': 3608, 'نذاشتین': 3609, 'نزدن': 3610, 'نشت': 3611, 'نشست': 3612, 'نصفشون': 3613, 'نظره': 3614, 'نفرستن': 3615, 'نمودن': 3616, 'نمیخواد': 3617, 'نمیزاره': 3618, 'نمیزارید': 3619, 'نمیشن': 3620, 'نیاوردید': 3621, 'نیفته': 3622, 'نیوردن': 3623, 'هالو': 3624, 'هردوبار': 3625, 'هس': 3626, 'همتون': 3627, 'همیشگیه': 3628, 'واسش': 3629, 'وایساده': 3630, 'وبیات': 3631, 'وجب': 3632, 'وحتی': 3633, 'وقارچ': 3634, 'وکم': 3635, 'وگوشت': 3636, 'ویروس': 3637, 'پاشید': 3638, 'پاژن': 3639, 'پد': 3640, 'پراکنده': 3641, 'پرتغالی': 3642, 'پرسیل': 3643, 'پرطرفدار': 3644, 'پلمبیر': 3645, 'پنیرپیتزا': 3646, 'پودری': 3647, 'پوسیده': 3648, 'پولشم': 3649, 'پیتزاهم': 3650, 'پیروزی': 3651, 'چاره': 3652, 'چرخید': 3653, 'چهارراه': 3654, 'چیتوز': 3655, 'چیدن': 3656, 'چیزبرگرش': 3657, 'کارشناس': 3658, 'کارمند': 3659, 'کاسبی': 3660, 'کاستی': 3661, 'کاور': 3662, 'کراست': 3663, 'کوله': 3664, 'کیکوک': 3665, 'گرند': 3666, 'گروید': 3667, 'گزاشتن': 3668, 'گلایه': 3669, 'گلپر': 3670, 'گمان': 3671, 'گیره': 3672, 'یادمه': 3673, 'یجوری': 3674, 'یخزده': 3675, 'آرامش': 3676, 'آزاد': 3677, 'آشپزتون': 3678, 'آلوده': 3679, 'آمولای': 3680, 'آمیخت': 3681, 'اتریش': 3682, 'اجرا': 3683, 'ارزششو': 3684, 'ارزشمند': 3685, 'ازاینکه': 3686, 'استریپسی': 3687, 'اسلایسی': 3688, 'اسپرسو': 3689, 'اشو': 3690, 'اطرافیان': 3691, 'افتابگردان': 3692, 'افتضاااااح': 3693, 'افرین': 3694, 'انگلیسی': 3695, 'اونهمه': 3696, 'اکتیو': 3697, 'بارانی': 3698, 'باربکیو': 3699, 'باسلیقه': 3700, 'بالاتون': 3701, 'باک': 3702, 'ببرن': 3703, 'بخواین': 3704, 'بخونین': 3705, 'برشت': 3706, 'برگرتون': 3707, 'برگردوندند': 3708, 'برگردونده': 3709, 'بزارند': 3710, 'بسیاااااااار': 3711, 'بسیاربسیار': 3712, 'بسیاررر': 3713, 'بصرفه': 3714, 'بل': 3715, 'بلاخره': 3716, 'بمونن': 3717, 'بناگوش': 3718, 'بندازم': 3719, 'بهشت': 3720, 'بهونه': 3721, 'بواسطه': 3722, 'بوداصلا': 3723, 'بورک': 3724, 'بگذارن': 3725, 'بیسکوییتی': 3726, 'بیمار': 3727, 'تابلو': 3728, 'تانک': 3729, 'تخت': 3730, 'تداوم': 3731, 'ترجیحا': 3732, 'ترغیب': 3733, 'تزیینات': 3734, 'تعطیلات': 3735, 'تغیر': 3736, 'تفکیک': 3737, 'تلخه': 3738, 'تومانه': 3739, 'تویه': 3740, 'تکنفره': 3741, 'تیز': 3742, 'ثبات': 3743, 'جامد': 3744, 'جداگونه': 3745, 'جوریه': 3746, 'جوریکه': 3747, 'حای': 3748, 'حقوق': 3749, 'حواس': 3750, 'حیاط': 3751, 'خبلی': 3752, 'خدشه': 3753, 'خدماتی': 3754, 'خریدا': 3755, 'خوان': 3756, 'خودشونو': 3757, 'خونی': 3758, 'خیلیه': 3759, 'خیلییییییییی': 3760, 'دابل': 3761, 'دارک': 3762, 'داش': 3763, 'دانشگاه': 3764, 'دراز': 3765, 'درحدی': 3766, 'درگیر': 3767, 'دستچین': 3768, 'دشت': 3769, 'دعوا': 3770, 'دمبه': 3771, 'دهه': 3772, 'دوتکه': 3773, 'دوران': 3774, 'دوربین': 3775, 'دولت': 3776, 'دکور': 3777, 'دین': 3778, 'دیگست': 3779, 'راس': 3780, 'رانندگی': 3781, 'رسیدو': 3782, 'رمضون': 3783, 'روزافزون': 3784, 'روس': 3785, 'رونق': 3786, 'ریختمش': 3787, 'زمینیه': 3788, 'زوکت': 3789, 'زیاااد': 3790, 'سادگی': 3791, 'ساید': 3792, 'ستاک': 3793, 'سختیه': 3794, 'سربلند': 3795, 'سرتون': 3796, 'سرددد': 3797, 'سردشده': 3798, 'سرموقع': 3799, 'سفته': 3800, 'سفیدی': 3801, 'سقارش': 3802, 'سلطانی': 3803, 'شرط': 3804, 'شرم': 3805, 'شلیل': 3806, 'شمالی': 3807, 'شمرد': 3808, 'شناختی': 3809, 'شوکو': 3810, 'شیش': 3811, 'طبقات': 3812, 'طریقت': 3813, 'طریقه': 3814, 'ظرفیت': 3815, 'عااااااااالی': 3816, 'عالیست': 3817, 'عالییییییییی': 3818, 'عالیییییییییی': 3819, 'عبارت': 3820, 'عروسک': 3821, 'عصرونه': 3822, 'علارغم': 3823, 'عمودی': 3824, 'عکسشم': 3825, 'غذاشم': 3826, 'غذاعالی': 3827, 'غلط': 3828, 'فارس': 3829, 'فاصلمون': 3830, 'فردوس': 3831, 'فرمی': 3832, 'فعالیت': 3833, 'فودها': 3834, 'فوم': 3835, 'قانع': 3836, 'قایل': 3837, 'قر': 3838, 'قورت': 3839, 'قیافش': 3840, 'قیمتتون': 3841, 'قیمتشو': 3842, 'لاتکس': 3843, 'لازانیاش': 3844, 'لاغر': 3845, 'لبخند': 3846, 'لبو': 3847, 'لته': 3848, 'لندو': 3849, 'مارمالاد': 3850, 'ماندن': 3851, 'ماهیتابه': 3852, 'مایکرو': 3853, 'متعارف': 3854, 'متغیر': 3855, 'مجبورشدم': 3856, 'محترمشون': 3857, 'مراقب': 3858, 'مرتبط': 3859, 'مرغشون': 3860, 'مروارید': 3861, 'مسوول': 3862, 'مشام': 3863, 'مشترک': 3864, 'مشتریانی': 3865, 'مضخرف': 3866, 'مطلقا': 3867, 'معد': 3868, 'مفصل': 3869, 'ممنووونم': 3870, 'منطبق': 3871, 'منطقیه': 3872, 'موزارلا': 3873, 'موظف': 3874, 'موندس': 3875, 'مچ': 3876, 'مچکر': 3877, 'میارین': 3878, 'میام': 3879, 'میخورن': 3880, 'میدادین': 3881, 'میگید': 3882, 'نارس': 3883, 'نامبر': 3884, 'نبوود': 3885, 'نت': 3886, 'نخوردمش': 3887, 'نذارن': 3888, 'نشونه': 3889, 'نشونی': 3890, 'نشیم': 3891, 'نشین': 3892, 'نظرمن': 3893, 'نعمت': 3894, 'نعنایی': 3895, 'نفوذ': 3896, 'نمیتونستم': 3897, 'نمیتونین': 3898, 'نمیدونست': 3899, 'نمیذاره': 3900, 'نمیذارین': 3901, 'نمیزنه': 3902, 'نمیصرفه': 3903, 'نمیفرستن': 3904, 'نمیکردن': 3905, 'نونشو': 3906, 'نکتار': 3907, 'نگیرن': 3908, 'نیامد': 3909, 'نیامده': 3910, 'نیرو': 3911, 'هاتونم': 3912, 'هامون': 3913, 'هایدای': 3914, 'هرجا': 3915, 'همبرگرهای': 3916, 'همدیگه': 3917, 'همونجا': 3918, 'واز': 3919, 'واسطه': 3920, 'وبموقع': 3921, 'وجودیکه': 3922, 'وخمیر': 3923, 'وشیرینی': 3924, 'وفقط': 3925, 'ونه': 3926, 'وکهنه': 3927, 'پارمسان': 3928, 'پایی': 3929, 'پربرکت': 3930, 'پردیس': 3931, 'پرش': 3932, 'پروبیوتیک': 3933, 'پروسس': 3934, 'پروپاقرص': 3935, 'پست': 3936, 'پنجشنبه': 3937, 'پوزش': 3938, 'پولمون': 3939, 'پیده': 3940, 'چاق': 3941, 'چاپ': 3942, 'چیتی': 3943, 'کاربری': 3944, 'کاملاااا': 3945, 'کرپ': 3946, 'کلان': 3947, 'کمل': 3948, 'کوبید': 3949, 'کوشت': 3950, 'کیترینگ': 3951, 'کیقیت': 3952, 'کیکا': 3953, 'گرونتره': 3954, 'گشنم': 3955, 'گوشتشون': 3956, 'گوشتو': 3957, 'یمقدار': 3958, 'یکماه': 3959, 'آتشین': 3960, 'آخره': 3961, 'آف': 3962, 'آل': 3963, 'آلفردوش': 3964, 'آمریکانو': 3965, 'آوردش': 3966, 'آپلود': 3967, 'ابنکه': 3968, 'اتاق': 3969, 'اتحادیه': 3970, 'اجناستون': 3971, 'اخرش': 3972, 'ارزوی': 3973, 'ازهم': 3974, 'ازهمه': 3975, 'ازپیک': 3976, 'استار': 3977, 'استثنا': 3978, 'استریپ': 3979, 'اسمشون': 3980, 'اسموتی': 3981, 'اسپشیال': 3982, 'اسکاچ': 3983, 'اسکرمبلد': 3984, 'اشتراک': 3985, 'اشون': 3986, 'اصالت': 3987, 'اصصصلا': 3988, 'اعتراضی': 3989, 'افتضاااااااح': 3990, 'افتضااح': 3991, 'المانی': 3992, 'امیدواری': 3993, 'امیدورام': 3994, 'اندوخت': 3995, 'اندونزی': 3996, 'انچنانی': 3997, 'انچه': 3998, 'انگیزه': 3999, 'اوردنش': 4000, 'اوردی': 4001, 'اولشون': 4002, 'اولویه': 4003, 'اپدیت': 4004, 'اژانس': 4005, 'ایرانیه': 4006, 'باروز': 4007, 'بازو': 4008, 'باسه': 4009, 'باعرض': 4010, 'بالاجبار': 4011, 'باهاماس': 4012, 'باگتش': 4013, 'ببینن': 4014, 'ببینین': 4015, 'بخاطره': 4016, 'بدر': 4017, 'بدهکار': 4018, 'برانگیز': 4019, 'برست': 4020, 'برسن': 4021, 'برسونین': 4022, 'برنجشون': 4023, 'برنگردوندن': 4024, 'برگردوند': 4025, 'برگردونم': 4026, 'برگرشون': 4027, 'بزار': 4028, 'بزرگوار': 4029, 'بسیاار': 4030, 'بسیارممنونم': 4031, 'بسیارکم': 4032, 'بصورتی': 4033, 'بع': 4034, 'بفهمه': 4035, 'بندازمش': 4036, 'بهر': 4037, 'بهره': 4038, 'بوجود': 4039, 'بودا': 4040, 'بودبه': 4041, 'بودممنون': 4042, 'بگی': 4043, 'بیرونی': 4044, 'بیفی': 4045, 'بیک': 4046, 'تابستون': 4047, 'تازست': 4048, 'تاکیید': 4049, 'تایلندی': 4050, 'تحویلشم': 4051, 'تدبیر': 4052, 'تریدنت': 4053, 'تزئینات': 4054, 'تزیینی': 4055, 'تصادف': 4056, 'تعجبه': 4057, 'تغییراتی': 4058, 'تنزل': 4059, 'توضیحاتو': 4060, 'توفیق': 4061, 'تونسته': 4062, 'توپی': 4063, 'تکدانه': 4064, 'جذابیت': 4065, 'جوان': 4066, 'جوجو': 4067, 'جویا': 4068, 'حاشیه': 4069, 'حجمشو': 4070, 'حضورا': 4071, 'حمص': 4072, 'حکم': 4073, 'خال': 4074, 'خداکنه': 4075, 'خدم': 4076, 'خروج': 4077, 'خساست': 4078, 'خطا': 4079, 'خم': 4080, 'خنثی': 4081, 'خوار': 4082, 'خوانده': 4083, 'خواید': 4084, 'خوبو': 4085, 'خودکار': 4086, 'خورشید': 4087, 'خیارشورهای': 4088, 'خیلیا': 4089, 'خیلییییییییییی': 4090, 'داخلشم': 4091, 'دانشجو': 4092, 'دایجستیو': 4093, 'دایمی': 4094, 'درآورده': 4095, 'دراژه': 4096, 'درحد': 4097, 'درسفارش': 4098, 'درصورت': 4099, 'درپوش': 4100, 'درکه': 4101, 'دلار': 4102, 'دلخوری': 4103, 'دلمون': 4104, 'دمنوش': 4105, 'دنده': 4106, 'دوتای': 4107, 'دوری': 4108, 'دیره': 4109, 'دیکه': 4110, 'ذوب': 4111, 'رابطه': 4112, 'راحته': 4113, 'رحمت': 4114, 'رسوندند': 4115, 'رشد': 4116, 'رضا': 4117, 'رفتارشون': 4118, 'رقابتی': 4119, 'رقبا': 4120, 'رم': 4121, 'رنج': 4122, 'رنگشون': 4123, 'روح': 4124, 'روحی': 4125, 'روده': 4126, 'روسی': 4127, 'رکورد': 4128, 'زامبون': 4129, 'زبونم': 4130, 'زره': 4131, 'زشتیه': 4132, 'زغالی': 4133, 'زمستون': 4134, 'زیرین': 4135, 'ساتدویچ': 4136, 'ساعتها': 4137, 'سافتلن': 4138, 'سالمه': 4139, 'ساندوبچ': 4140, 'ساندوچ': 4141, 'ساندویچتون': 4142, 'سررررد': 4143, 'سرم': 4144, 'سزاری': 4145, 'سقوط': 4146, 'سلیقگی': 4147, 'سهم': 4148, 'سوخاریشون': 4149, 'سوسک': 4150, 'سومه': 4151, 'سوگود': 4152, 'سپاسگزاری': 4153, 'سیبزمینیش': 4154, 'سیرو': 4155, 'سیسلی': 4156, 'سیگاری': 4157, 'شبه': 4158, 'شصت': 4159, 'شمارش': 4160, 'شورید': 4161, 'شکارچی': 4162, 'شیرینیه': 4163, 'صداقت': 4164, 'طبیعت': 4165, 'طرفه': 4166, 'عاااااااااااالی': 4167, 'عااالیه': 4168, 'عالللی': 4169, 'عای': 4170, 'علیک': 4171, 'عملتون': 4172, 'غداتون': 4173, 'غذابا': 4174, 'غذاتو': 4175, 'غذاخوب': 4176, 'غذاسرد': 4177, 'غذاهاتونو': 4178, 'غیرعادی': 4179, 'فامیلی': 4180, 'فرا': 4181, 'فرسته': 4182, 'فور': 4183, 'فکتوری': 4184, 'قاتق': 4185, 'قبمت': 4186, 'قیمتارو': 4187, 'قیمتاشون': 4188, 'لزوم': 4189, 'لطمه': 4190, 'لینا': 4191, 'مارس': 4192, 'مارسید': 4193, 'ماکرو': 4194, 'ماکیاتو': 4195, 'متاسفنه': 4196, 'متضرر': 4197, 'متوسطه': 4198, 'محتویاتی': 4199, 'محلول': 4200, 'مختص': 4201, 'مخدوش': 4202, 'مدرسه': 4203, 'مدنظر': 4204, 'مرسییییی': 4205, 'مرغو': 4206, 'مرور': 4207, 'مزایا': 4208, 'مسخرس': 4209, 'مشتریاتونو': 4210, 'مشمای': 4211, 'مشورت': 4212, 'مصنوعی': 4213, 'مطمئنن': 4214, 'معتاد': 4215, 'معقوله': 4216, 'معیار': 4217, 'مقدور': 4218, 'ملس': 4219, 'مناسفم': 4220, 'منجر': 4221, 'منصرف': 4222, 'منگنه': 4223, 'مهر': 4224, 'مهرام': 4225, 'مهربان': 4226, 'مهمونامون': 4227, 'مونه': 4228, 'مگنوم': 4229, 'میتونی': 4230, 'میخاد': 4231, 'میخره': 4232, 'میدان': 4233, 'میرن': 4234, 'میسوزه': 4235, 'مینویسن': 4236, 'مینویسه': 4237, 'میون': 4238, 'میپ': 4239, 'ناب': 4240, 'ناتالی': 4241, 'ناز': 4242, 'نازکه': 4243, 'ناکافی': 4244, 'نخوره': 4245, 'نخونده': 4246, 'ندا': 4247, 'نذاشتید': 4248, 'نذری': 4249, 'نظرتون': 4250, 'نظیرید': 4251, 'نفرو': 4252, 'نقش': 4253, 'نمیتونی': 4254, 'نمیخره': 4255, 'نمیدادن': 4256, 'نمیدونه': 4257, 'نمیدونید': 4258, 'نمیرزید': 4259, 'نمیزارین': 4260, 'نمیشی': 4261, 'نوروزی': 4262, 'نونتون': 4263, 'نگهدارنده': 4264, 'نیاوران': 4265, 'هال': 4266, 'هاهم': 4267, 'هراز': 4268, 'هرسه': 4269, 'هزارتومنی': 4270, 'همراش': 4271, 'همونایی': 4272, 'همچیش': 4273, 'همیرگر': 4274, 'هنر': 4275, 'وااااای': 4276, 'وارم': 4277, 'وارونه': 4278, 'واضحا': 4279, 'واقعااااا': 4280, 'واقعاااااا': 4281, 'وانیلا': 4282, 'وایتکس': 4283, 'وجهه': 4284, 'ورا': 4285, 'ورود': 4286, 'وسرعت': 4287, 'وسطا': 4288, 'وصف': 4289, 'ومن': 4290, 'ونپخته': 4291, 'ویک': 4292, 'پال': 4293, 'پذیرا': 4294, 'پروسه': 4295, 'پروک': 4296, 'پرگوشت': 4297, 'پریده': 4298, 'پنیرشون': 4299, 'پوتین': 4300, 'پوسته': 4301, 'پوشک': 4302, 'پیتا': 4303, 'پیتزاس': 4304, 'پیر': 4305, 'پیکاتون': 4306, 'پیکشم': 4307, 'چاکلز': 4308, 'چسبونده': 4309, 'چشمگیر': 4310, 'چندباری': 4311, 'چندروز': 4312, 'چونکه': 4313, 'چیزو': 4314, 'چیکنش': 4315, 'ژامبونی': 4316, 'کارشونو': 4317, 'کالری': 4318, 'کاپریچیوزا': 4319, 'کاکایویی': 4320, 'کبابا': 4321, 'کبفیت': 4322, 'کسبتون': 4323, 'کشدار': 4324, 'کشیدین': 4325, 'کنارشم': 4326, 'کنندس': 4327, 'کینگ': 4328, 'کیکتون': 4329, 'گاناش': 4330, 'گداشته': 4331, 'گذاشتمش': 4332, 'گرجی': 4333, 'گرفتگی': 4334, 'گوشتشو': 4335, 'گیسو': 4336, 'یادآوری': 4337, 'یجورایی': 4338, 'یکعدد': 4339, 'یکیه': 4340, '؛': 4341, 'آبلیموی': 4342, 'آجودانیه': 4343, 'آشپزخونه': 4344, 'آلوچه': 4345, 'آلی': 4346, 'آنچنانی': 4347, 'آپاچینو': 4348, 'ابر': 4349, 'ابی': 4350, 'اجبارا': 4351, 'احمدی': 4352, 'اختصاص': 4353, 'ارتفاع': 4354, 'ارزن': 4355, 'ارزونی': 4356, 'ارزیابی': 4357, 'ازدست': 4358, 'ازرستوران': 4359, 'ازسال': 4360, 'استاف': 4361, 'استخدام': 4362, 'اسفند': 4363, 'اسلایسش': 4364, 'اسمون': 4365, 'اسنایپر': 4366, 'اشپزتون': 4367, 'اصافه': 4368, 'اصلاااااا': 4369, 'اصلااااااا': 4370, 'اصولی': 4371, 'اعتباری': 4372, 'اغشته': 4373, 'افتادن': 4374, 'افتضا': 4375, 'افتضاااح': 4376, 'افتضاححح': 4377, 'افتضاع': 4378, 'افتضاه': 4379, 'افس': 4380, 'الترا': 4381, 'المینیومی': 4382, 'الکلی': 4383, 'امریکن': 4384, 'اموزش': 4385, 'امیر': 4386, 'انا': 4387, 'انجا': 4388, 'انجامید': 4389, 'انداختیمش': 4390, 'انداره': 4391, 'اندازشم': 4392, 'انشائالله': 4393, 'انقلاب': 4394, 'انه': 4395, 'اوصاف': 4396, 'اولو': 4397, 'اوند': 4398, 'اونطوری': 4399, 'اونقد': 4400, 'اونکه': 4401, 'اویلا': 4402, 'اپرا': 4403, 'اپلیکشن': 4404, 'اکالیپتوس': 4405, 'ایام': 4406, 'ایرادات': 4407, 'ایست': 4408, 'ایشالله': 4409, 'ایقدر': 4410, 'اینجارو': 4411, 'ایکس': 4412, 'باادب': 4413, 'باران': 4414, 'بارز': 4415, 'بارندگی': 4416, 'باروژم': 4417, 'بازیافت': 4418, 'باقلا': 4419, 'باقیمت': 4420, 'بالغ': 4421, 'باکسی': 4422, 'بخارپز': 4423, 'بخواید': 4424, 'بدمزگی': 4425, 'بدو': 4426, 'بدونید': 4427, 'برابری': 4428, 'برخود': 4429, 'برداره': 4430, 'برس': 4431, 'برنگشته': 4432, 'برگراش': 4433, 'برگردونه': 4434, 'برگره': 4435, 'بزاریم': 4436, 'بستن': 4437, 'بسیارررر': 4438, 'بغیر': 4439, 'بفرمائید': 4440, 'بقلش': 4441, 'بلونز': 4442, 'بندازن': 4443, 'بهای': 4444, 'بهتربود': 4445, 'بهمین': 4446, 'بودبا': 4447, 'بوددددددد': 4448, 'بپرسن': 4449, 'بیر': 4450, 'بیشترشو': 4451, 'تااازه': 4452, 'تازس': 4453, 'تازگیا': 4454, 'تاشو': 4455, 'تاشون': 4456, 'تافی': 4457, 'تحریم': 4458, 'تحویلمون': 4459, 'تخصصی': 4460, 'تربیت': 4461, 'تردید': 4462, 'ترکیه': 4463, 'تسریع': 4464, 'تشکراز': 4465, 'تشکرمیکنم': 4466, 'تصادفی': 4467, 'تعطیلی': 4468, 'تعلق': 4469, 'تغییرات': 4470, 'تقویت': 4471, 'تمرکز': 4472, 'تهدیگ': 4473, 'توشه': 4474, 'تونی': 4475, 'تکراری': 4476, 'تیتاپ': 4477, 'ثالثا': 4478, 'جالی': 4479, 'جلوه': 4480, 'جنسا': 4481, 'جنساشون': 4482, 'جنوبی': 4483, 'جوجشم': 4484, 'جیز': 4485, 'حاظر': 4486, 'حالیه': 4487, 'حسی': 4488, 'حلزونی': 4489, 'حوب': 4490, 'حوصلگی': 4491, 'حوله': 4492, 'حیلی': 4493, 'خاصیت': 4494, 'خان': 4495, 'خانوم': 4496, 'خدابرکت': 4497, 'خدماتشون': 4498, 'خدمتشون': 4499, 'خراسانی': 4500, 'خریدتون': 4501, 'خسارت': 4502, 'خسیس': 4503, 'خشکیده': 4504, 'خطر': 4505, 'خفت': 4506, 'خفه': 4507, 'خلاص': 4508, 'خلی': 4509, 'خوابونده': 4510, 'خوابگاه': 4511, 'خواستار': 4512, 'خواندن': 4513, 'خودشونم': 4514, 'خوردنه': 4515, 'خوشرو': 4516, 'خوشطعم': 4517, 'خوشمزش': 4518, 'خیل': 4519, 'خیییلییی': 4520, 'دااااغ': 4521, 'داااغ': 4522, 'داخلشون': 4523, 'داستان': 4524, 'دبه': 4525, 'دخترونه': 4526, 'دراورده': 4527, 'دربیاد': 4528, 'درشو': 4529, 'درمیون': 4530, 'دره': 4531, 'درومده': 4532, 'دستکاری': 4533, 'دفاع': 4534, 'دقتتون': 4535, 'دقه': 4536, 'دلدرد': 4537, 'دلسرد': 4538, 'دلمو': 4539, 'دوستدار': 4540, 'دوستی': 4541, 'دوش': 4542, 'دومیه': 4543, 'دونستم': 4544, 'دونفری': 4545, 'دوهفته': 4546, 'دوپر': 4547, 'ذایقه': 4548, 'ذهنیت': 4549, 'راز': 4550, 'رای': 4551, 'ربخته': 4552, 'رجوع': 4553, 'رحم': 4554, 'رسوندید': 4555, 'رسونه': 4556, 'رسیدممنون': 4557, 'رشت': 4558, 'رمان': 4559, 'رمینی': 4560, 'روتون': 4561, 'روستا': 4562, 'روشو': 4563, 'روگنان': 4564, 'زار': 4565, 'زخیم': 4566, 'زمانه': 4567, 'زمینیاش': 4568, 'زنن': 4569, 'زیارت': 4570, 'زیگزاگ': 4571, 'سالادشون': 4572, 'سایزشون': 4573, 'سب': 4574, 'سرجمع': 4575, 'سرشار': 4576, 'سرکوچه': 4577, 'سزارتون': 4578, 'سسس': 4579, 'سسشم': 4580, 'سفارشه': 4581, 'سفاش': 4582, 'سلب': 4583, 'سماغ': 4584, 'سنجابک': 4585, 'سنگدون': 4586, 'سهو': 4587, 'سواله': 4588, 'سوخاریه': 4589, 'سوختن': 4590, 'سوزانده': 4591, 'سومر': 4592, 'سومی': 4593, 'سیدخندان': 4594, 'سیره': 4595, 'سیروپ': 4596, 'سیرکننده': 4597, 'شاالله': 4598, 'شاهکاره': 4599, 'شریف': 4600, 'شمایل': 4601, 'شمایید': 4602, 'شوربود': 4603, 'شوک': 4604, 'شکستن': 4605, 'شیرقهوه': 4606, 'شیلانه': 4607, 'صبورانه': 4608, 'صحت': 4609, 'صفره': 4610, 'صندوق': 4611, 'طباخی': 4612, 'طلقی': 4613, 'عااااالیه': 4614, 'عادیه': 4615, 'عاشقتم': 4616, 'عذاب': 4617, 'عربی': 4618, 'عزیزی': 4619, 'عصبی': 4620, 'علاالدین': 4621, 'علاقم': 4622, 'عمد': 4623, 'عکسه': 4624, 'عینا': 4625, 'غذاخوری': 4626, 'غذاهاشو': 4627, 'غذل': 4628, 'غیرحرفه': 4629, 'غیرفعال': 4630, 'غیرمنطقی': 4631, 'فاسد': 4632, 'فانتای': 4633, 'فتوچینی': 4634, 'فرزند': 4635, 'فروردین': 4636, 'فریاد': 4637, 'فهرست': 4638, 'فودهایی': 4639, 'فول': 4640, 'فکرمیکنم': 4641, 'فیمت': 4642, 'فیک': 4643, 'فیکس': 4644, 'قاتوق': 4645, 'قارج': 4646, 'قبلیا': 4647, 'قبیل': 4648, 'قدرت': 4649, 'قراردادن': 4650, 'قطور': 4651, 'لازانیای': 4652, 'لامپ': 4653, 'لاپلو': 4654, 'لاک': 4655, 'لایق': 4656, 'لطفی': 4657, 'لورده': 4658, 'لیستتون': 4659, 'ماس': 4660, 'ماشالا': 4661, 'مانع': 4662, 'ماهیت': 4663, 'متذکر': 4664, 'متعهد': 4665, 'متمایز': 4666, 'متنی': 4667, 'مجاورت': 4668, 'محافظ': 4669, 'محاله': 4670, 'محفظه': 4671, 'مخالف': 4672, 'مختصر': 4673, 'مذخرف': 4674, 'مذکور': 4675, 'مراعات': 4676, 'مراقبت': 4677, 'مررررسی': 4678, 'مرز': 4679, 'مرع': 4680, 'مزاج': 4681, 'مزس': 4682, 'مسخرست': 4683, 'مسما': 4684, 'مسوولیت': 4685, 'مشتریانتون': 4686, 'مشتریشونم': 4687, 'مشتریهاتون': 4688, 'مشهوده': 4689, 'مشکلو': 4690, 'مطبخ': 4691, 'مطلع': 4692, 'معترض': 4693, 'معتقد': 4694, 'معروفه': 4695, 'مغزدار': 4696, 'مقایرت': 4697, 'مقدارشم': 4698, 'ملاحظه': 4699, 'مملکت': 4700, 'ممنوع': 4701, 'ممنووون': 4702, 'مناسبت': 4703, 'منظورشون': 4704, 'منهدم': 4705, 'منوشون': 4706, 'منون': 4707, 'موادو': 4708, 'مواظب': 4709, 'موندنی': 4710, 'مپ': 4711, 'میارم': 4712, 'میاورد': 4713, 'میبرین': 4714, 'میتونس': 4715, 'میتونیم': 4716, 'میدونیم': 4717, 'میذاشت': 4718, 'میراندا': 4719, 'میرسونید': 4720, 'میریختین': 4721, 'میزون': 4722, 'میماسید': 4723, 'مینیاتوری': 4724, 'میپزه': 4725, 'میگذارن': 4726, 'ناخالصی': 4727, 'ناشناخته': 4728, 'نامحسوس': 4729, 'نانوا': 4730, 'ناچاری': 4731, 'نبو': 4732, 'نبودو': 4733, 'نتونه': 4734, 'نخواد': 4735, 'ندادین': 4736, 'نذاشت': 4737, 'نرفتن': 4738, 'نریختن': 4739, 'نریزین': 4740, 'نزاشتین': 4741, 'نشاسته': 4742, 'نشسته': 4743, 'نشونش': 4744, 'نظراتی': 4745, 'نفت': 4746, 'نقره': 4747, 'نمرتون': 4748, 'نمیتونیم': 4749, 'نمیخونید': 4750, 'نمیذارن': 4751, 'نمیفرستین': 4752, 'نمیمونه': 4753, 'نوبره': 4754, 'نودالیت': 4755, 'نوشیدن': 4756, 'نپوخته': 4757, 'نچسبه': 4758, 'نچشیده': 4759, 'نک': 4760, 'نکاتی': 4761, 'نگفته': 4762, 'نیاوردین': 4763, 'نیوفتاده': 4764, 'نیوفته': 4765, 'هاداگ': 4766, 'هاس': 4767, 'هایدایی': 4768, 'هاییه': 4769, 'هدایت': 4770, 'هرکدام': 4771, 'هزارجزیره': 4772, 'هشتاد': 4773, 'همکارا': 4774, 'هیییییچ': 4775, 'وآخرین': 4776, 'واااااقعا': 4777, 'وااای': 4778, 'واحترام': 4779, 'والبته': 4780, 'وبرای': 4781, 'وبوی': 4782, 'وجوجه': 4783, 'وخشک': 4784, 'وزنه': 4785, 'وسطشون': 4786, 'وسوسه': 4787, 'وسپاس': 4788, 'وفادار': 4789, 'وقتیه': 4790, 'ولذیذ': 4791, 'ومرغ': 4792, 'ومودب': 4793, 'ونون': 4794, 'وکلا': 4795, 'ویتامین': 4796, 'پارادایس': 4797, 'پارمیسان': 4798, 'پارکینگ': 4799, 'پایانی': 4800, 'پایید': 4801, 'پبک': 4802, 'پرروغن': 4803, 'پرسیده': 4804, 'پرید': 4805, 'پسرفت': 4806, 'پنجمین': 4807, 'پوتیتو': 4808, 'پوشانده': 4809, 'پوشیده': 4810, 'پیروک': 4811, 'چارتا': 4812, 'چاپاتا': 4813, 'چجور': 4814, 'چرااا': 4815, 'چراااا': 4816, 'چلوگوشت': 4817, 'چیبس': 4818, 'چیکوچی': 4819, 'کاااملا': 4820, 'کارتخوان': 4821, 'کاملااااا': 4822, 'کانلا': 4823, 'کبابشون': 4824, 'کبود': 4825, 'کتاب': 4826, 'کراکر': 4827, 'کردو': 4828, 'کرونایی': 4829, 'کریپسی': 4830, 'کشتی': 4831, 'کفایت': 4832, 'کمرنگ': 4833, 'کناری': 4834, 'کنسلی': 4835, 'کنندست': 4836, 'کوچیکش': 4837, 'کپن': 4838, 'کیفیفت': 4839, 'گانه': 4840, 'گذار': 4841, 'گذشتن': 4842, 'گرانی': 4843, 'گرین': 4844, 'گلخانه': 4845, 'گلد': 4846, 'گلوله': 4847, 'گلی': 4848, 'گمونم': 4849, 'گنجشک': 4850, 'گند': 4851, 'گیفت': 4852, 'گیفیت': 4853, 'یار': 4854, 'یخه': 4855, 'یده': 4856, 'یفارش': 4857, 'یقین': 4858, 'یچی': 4859, 'یکنواخت': 4860, 'آبان': 4861, 'آبنبات': 4862, 'آبه': 4863, 'آبگیری': 4864, 'آخرمه': 4865, 'آخریه': 4866, 'آدما': 4867, 'آرستو': 4868, 'آروم': 4869, 'آسمان': 4870, 'آسیاب': 4871, 'آشامیدنی': 4872, 'آشنایی': 4873, 'آقایون': 4874, 'آلمینیومی': 4875, 'آمریکن': 4876, 'آورنده': 4877, 'آون': 4878, 'آووکادو': 4879, 'آیدا': 4880, 'ابروریزی': 4881, 'اتخاذ': 4882, 'اتفاقیه': 4883, 'اتک': 4884, 'اجباری': 4885, 'اجناسشون': 4886, 'احترامتون': 4887, 'احمد': 4888, 'اد': 4889, 'ادغام': 4890, 'ارادت': 4891, 'ارادتمند': 4892, 'ارزشه': 4893, 'ارزونه': 4894, 'ارساله': 4895, 'ارمغان': 4896, 'اروستو': 4897, 'ازماهک': 4898, 'ازینا': 4899, 'استثنائ': 4900, 'استشمام': 4901, 'استیکتون': 4902, 'اسمارتیس': 4903, 'اسنپم': 4904, 'اسنیکرز': 4905, 'اسپایسیش': 4906, 'اسکناس': 4907, 'اشتهای': 4908, 'اشنا': 4909, 'اعلا': 4910, 'اعم': 4911, 'اغماض': 4912, 'افتخار': 4913, 'افتضااااااااح': 4914, 'افتضاخ': 4915, 'اقایی': 4916, 'الحق': 4917, 'الدین': 4918, 'العده': 4919, 'الوئه': 4920, 'الومینیومی': 4921, 'امتناع': 4922, 'امتیازه': 4923, 'امثال': 4924, 'امون': 4925, 'انتخابام': 4926, 'انتظارات': 4927, 'انتهایی': 4928, 'اندر': 4929, 'انسپ': 4930, 'انقضاشون': 4931, 'اورند': 4932, 'اولویت': 4933, 'اومدش': 4934, 'اونطور': 4935, 'اونه': 4936, 'اونچیزی': 4937, 'اونیکه': 4938, 'اونیکی': 4939, 'اووردن': 4940, 'اوکیه': 4941, 'اپارتمان': 4942, 'اپاچینو': 4943, 'اپلود': 4944, 'اکسترا': 4945, 'اینطوره': 4946, 'اینور': 4947, 'بادمجونا': 4948, 'باربیکن': 4949, 'باربیکو': 4950, 'باروژه': 4951, 'باریکلا': 4952, 'باریکه': 4953, 'بازنگری': 4954, 'بازیافتی': 4955, 'باطعم': 4956, 'باغ': 4957, 'بالش': 4958, 'بامزه': 4959, 'بامن': 4960, 'باکیفیته': 4961, 'بتدی': 4962, 'بتونین': 4963, 'بحرانی': 4964, 'بخره': 4965, 'بخصوصی': 4966, 'بخوایم': 4967, 'بخوریمش': 4968, 'بخونه': 4969, 'بدتربن': 4970, 'بدجوری': 4971, 'بدیه': 4972, 'بذارند': 4973, 'براثر': 4974, 'برترین': 4975, 'برخورده': 4976, 'برزیلی': 4977, 'برمیداشتی': 4978, 'برنجو': 4979, 'بروزرسانی': 4980, 'برون': 4981, 'برگراتون': 4982, 'برگرداندن': 4983, 'برگردانید': 4984, 'بریدن': 4985, 'برین': 4986, 'بزرگسال': 4987, 'بزرگواری': 4988, 'بزرگیه': 4989, 'بسکت': 4990, 'بسیااااااار': 4991, 'بسیارخوب': 4992, 'بعده': 4993, 'بفروشن': 4994, 'بقال': 4995, 'بلده': 4996, 'بلغور': 4997, 'بندازید': 4998, 'بهترازاین': 4999, 'بهترمیشه': 5000, 'بهترن': 5001, 'بهنوش': 5002, 'بودفقط': 5003, 'بودنشه': 5004, 'بودنشون': 5005, 'بودهم': 5006, 'بوریتو': 5007, 'بوشار': 5008, 'بوفه': 5009, 'بوووووووود': 5010, 'بپ': 5011, 'بپرسه': 5012, 'بچسبه': 5013, 'بید': 5014, 'بیشتراز': 5015, 'بیشترشون': 5016, 'بیضی': 5017, 'بینش': 5018, 'بینشون': 5019, 'تابستان': 5020, 'تاریخی': 5021, 'تاز': 5022, 'تافت': 5023, 'تاچ': 5024, 'تاکو': 5025, 'تجربم': 5026, 'تجربیات': 5027, 'تحریک': 5028, 'تحمله': 5029, 'تحوبل': 5030, 'تحویله': 5031, 'تخصص': 5032, 'تخویل': 5033, 'تراز': 5034, 'تردتر': 5035, 'ترسید': 5036, 'ترشیده': 5037, 'ترنج': 5038, 'ترو': 5039, 'تسویه': 5040, 'تشکیلات': 5041, 'تطبیق': 5042, 'تظر': 5043, 'تعدیل': 5044, 'تعریق': 5045, 'تعزیرات': 5046, 'تغریبا': 5047, 'تفاله': 5048, 'تم': 5049, 'تمایز': 5050, 'تناقض': 5051, 'تنباکو': 5052, 'تنقلات': 5053, 'تنگ': 5054, 'توافق': 5055, 'توده': 5056, 'تورینو': 5057, 'توزیع': 5058, 'توشم': 5059, 'توشون': 5060, 'توصیحات': 5061, 'توهینه': 5062, 'توکیو': 5063, 'تپل': 5064, 'جارو': 5065, 'جاری': 5066, 'جامانده': 5067, 'جامونده': 5068, 'جاییه': 5069, 'جدیدتون': 5070, 'جرا': 5071, 'جزیی': 5072, 'جستجو': 5073, 'جشن': 5074, 'جنسشون': 5075, 'جنسو': 5076, 'جنگ': 5077, 'حائز': 5078, 'حاجی': 5079, 'حالمونو': 5080, 'حجمه': 5081, 'حدا': 5082, 'حرص': 5083, 'حشره': 5084, 'حضوریشون': 5085, 'حواستون': 5086, 'خاطرات': 5087, 'خاکشیر': 5088, 'خاکی': 5089, 'خدانگهدار': 5090, 'خرت': 5091, 'خریدمو': 5092, 'خریدمیکنم': 5093, 'خستگی': 5094, 'خلق': 5095, 'خمیرو': 5096, 'خندان': 5097, 'خندید': 5098, 'خوابید': 5099, 'خواین': 5100, 'خودمونم': 5101, 'خودمونو': 5102, 'خوردیمش': 5103, 'خورشتها': 5104, 'خوشرنگ': 5105, 'خوشگوار': 5106, 'خوشی': 5107, 'خووووب': 5108, 'خوووووب': 5109, 'خیای': 5110, 'خیسه': 5111, 'خیسی': 5112, 'خیلس': 5113, 'خییلییی': 5114, 'خییییییییلی': 5115, 'دائمتون': 5116, 'دائمشون': 5117, 'داخلشه': 5118, 'داداش': 5119, 'دارو': 5120, 'داس': 5121, 'دانشجویی': 5122, 'دانشکده': 5123, 'داون': 5124, 'داگای': 5125, 'دتول': 5126, 'دربار': 5127, 'دربسته': 5128, 'درحال': 5129, 'درخشید': 5130, 'درخصوص': 5131, 'درعوض': 5132, 'دروس': 5133, 'درکار': 5134, 'دریا': 5135, 'دستپخت': 5136, 'دعوت': 5137, 'دقتشون': 5138, 'دقیقس': 5139, 'دقیقن': 5140, 'دلجویی': 5141, 'دلخور': 5142, 'دلیلشو': 5143, 'دلیور': 5144, 'دمر': 5145, 'دوباری': 5146, 'دوتایی': 5147, 'دوغزال': 5148, 'دوقلو': 5149, 'دولایه': 5150, 'دونالد': 5151, 'دونست': 5152, 'دونن': 5153, 'دونید': 5154, 'دوکیلو': 5155, 'دکمه': 5156, 'دیررسید': 5157, 'دیروزه': 5158, 'دیزاینش': 5159, 'دیزیش': 5160, 'دیپلمات': 5161, 'دیگتون': 5162, 'دیگس': 5163, 'ذاتا': 5164, 'ذوقمون': 5165, 'رامسی': 5166, 'راهرو': 5167, 'راویولی': 5168, 'رده': 5169, 'رزبری': 5170, 'رسا': 5171, 'رستوان': 5172, 'رستورات': 5173, 'رستورانایی': 5174, 'رسونده': 5175, 'رضایتمندی': 5176, 'رفتاره': 5177, 'رقابت': 5178, 'روزتون': 5179, 'روکولا': 5180, 'روگا': 5181, 'رویا': 5182, 'رگه': 5183, 'ریختنه': 5184, 'ریزش': 5185, 'ریزن': 5186, 'ریشه': 5187, 'زاره': 5188, 'زانت': 5189, 'زحماتشون': 5190, 'زحمتتون': 5191, 'زخمی': 5192, 'زر': 5193, 'زغم': 5194, 'زمینیتون': 5195, 'زند': 5196, 'زنه': 5197, 'زوخم': 5198, 'زودهم': 5199, 'زیااااد': 5200, 'زیااد': 5201, 'زیادبود': 5202, 'سابقا': 5203, 'ساعدی': 5204, 'سالاده': 5205, 'سالادو': 5206, 'سالد': 5207, 'سانته': 5208, 'ساندویجش': 5209, 'ساندویچشون': 5210, 'سایزشم': 5211, 'سایزی': 5212, 'سحری': 5213, 'سد': 5214, 'سربازی': 5215, 'سردرد': 5216, 'سردو': 5217, 'سرررررد': 5218, 'سرسری': 5219, 'سرکار': 5220, 'سزارم': 5221, 'سزاره': 5222, 'سفارشارو': 5223, 'سفلرش': 5224, 'سنگی': 5225, 'سهروردی': 5226, 'سوار': 5227, 'سوز': 5228, 'سوسی': 5229, 'سوپتون': 5230, 'سوپرمارکتم': 5231, 'سوپرمارکتهای': 5232, 'سوپشون': 5233, 'سیاست': 5234, 'سیصد': 5235, 'سیف': 5236, 'سیلور': 5237, 'شائالله': 5238, 'شادی': 5239, 'شرق': 5240, 'شرقی': 5241, 'شستشو': 5242, 'شغل': 5243, 'شلغم': 5244, 'شمارد': 5245, 'شناخته': 5246, 'شووووور': 5247, 'شکستگی': 5248, 'شکلشم': 5249, 'شیردون': 5250, 'شیرو': 5251, 'شیریتی': 5252, 'شیزینی': 5253, 'شیلتون': 5254, 'شیوع': 5255, 'صادر': 5256, 'صدبار': 5257, 'صرفید': 5258, 'صریح': 5259, 'صلاحدید': 5260, 'صمن': 5261, 'صمیمی': 5262, 'ضرورت': 5263, 'طاهر': 5264, 'طعمو': 5265, 'طلائی': 5266, 'طوریه': 5267, 'ظاهرشون': 5268, 'ظفر': 5269, 'عاااااااااالی': 5270, 'عااالیییی': 5271, 'عال': 5272, 'عاللللللی': 5273, 'عالییییییه': 5274, 'عالیییییییی': 5275, 'عالیییییییییییی': 5276, 'عبرت': 5277, 'عدده': 5278, 'عروسی': 5279, 'علا': 5280, 'علم': 5281, 'عمدی': 5282, 'عمرمو': 5283, 'عملکردشون': 5284, 'غافلگیر': 5285, 'غایت': 5286, 'غذاا': 5287, 'غذاشونو': 5288, 'غذایه': 5289, 'غذاییه': 5290, 'غلات': 5291, 'غم': 5292, 'غیربهداشتی': 5293, 'فارغ': 5294, 'فال': 5295, 'فبل': 5296, 'فجیع': 5297, 'فرآیند': 5298, 'فراری': 5299, 'فرشته': 5300, 'فرمت': 5301, 'فرنگیا': 5302, 'فروشتون': 5303, 'فسنجونی': 5304, 'فقد': 5305, 'فقظ': 5306, 'فندک': 5307, 'فنری': 5308, 'فهم': 5309, 'فو': 5310, 'فودای': 5311, 'فورا': 5312, 'فویلی': 5313, 'فکرشم': 5314, 'فیسالیس': 5315, 'فینگرفود': 5316, 'قابله': 5317, 'قارچا': 5318, 'قارچشو': 5319, 'قبال': 5320, 'قبلو': 5321, 'قدمت': 5322, 'قرمزه': 5323, 'قرنطینه': 5324, 'قرچ': 5325, 'قسمتاش': 5326, 'قلو': 5327, 'قناد': 5328, 'قوام': 5329, 'قیمته': 5330, 'لابار': 5331, 'لابد': 5332, 'لبنه': 5333, 'لو': 5334, 'لول': 5335, 'لیبل': 5336, 'لین': 5337, 'لیچ': 5338, 'ماالشعیر': 5339, 'مارکتها': 5340, 'مارگریتا': 5341, 'ماسالا': 5342, 'ماسوله': 5343, 'ماسکارپ': 5344, 'ماش': 5345, 'مام': 5346, 'مانکی': 5347, 'ماکروویو': 5348, 'ماکه': 5349, 'مبلغشو': 5350, 'محبور': 5351, 'محصولتون': 5352, 'محصولو': 5353, 'مخصوصشم': 5354, 'مخصوصشون': 5355, 'مخصوصن': 5356, 'مدله': 5357, 'مدیریتشون': 5358, 'مدیوم': 5359, 'مرخ': 5360, 'مرررسی': 5361, 'مررسی': 5362, 'مرسوم': 5363, 'مرغاش': 5364, 'مرگ': 5365, 'مرگز': 5366, 'مزاحمت': 5367, 'مزرعه': 5368, 'مستطیلی': 5369, 'مسج': 5370, 'مشتاق': 5371, 'مشکلاتی': 5372, 'معجونی': 5373, 'معرض': 5374, 'معنایی': 5375, 'مغازتون': 5376, 'مفتضح': 5377, 'مفید': 5378, 'مقل': 5379, 'ملاته': 5380, 'ملون': 5381, 'مملو': 5382, 'ممنوون': 5383, 'ممونم': 5384, 'منتشر': 5385, 'منتظری': 5386, 'مندرجات': 5387, 'منطق': 5388, 'منفیه': 5389, 'مهمونها': 5390, 'موجه': 5391, 'موضوعی': 5392, 'موقه': 5393, 'موندرو': 5394, 'موگو': 5395, 'موید': 5396, 'مکالمه': 5397, 'میارند': 5398, 'میاریم': 5399, 'میانگین': 5400, 'میبینن': 5401, 'میتونستید': 5402, 'میخام': 5403, 'میخوردن': 5404, 'میخورین': 5405, 'میخوندم': 5406, 'میخونن': 5407, 'میدون': 5408, 'میدونن': 5409, 'میزبان': 5410, 'میلغ': 5411, 'مینوشتین': 5412, 'میوفتاد': 5413, 'میومدیم': 5414, 'میپرسیدن': 5415, 'میکروب': 5416, 'میگفتین': 5417, 'ناخالص': 5418, 'نادر': 5419, 'ناراصی': 5420, 'نازه': 5421, 'ناعادلانه': 5422, 'ناقابل': 5423, 'ناپ': 5424, 'ناچارا': 5425, 'ناگفته': 5426, 'نبرده': 5427, 'نبرین': 5428, 'نبسته': 5429, 'نحویل': 5430, 'نخریده': 5431, 'نخوندن': 5432, 'نداست': 5433, 'نرمه': 5434, 'نزارن': 5435, 'نزنین': 5436, 'نسوزه': 5437, 'نشید': 5438, 'نظرمون': 5439, 'نظیرتون': 5440, 'نظیرن': 5441, 'نفع': 5442, 'نقل': 5443, 'نمیامد': 5444, 'نمیتونست': 5445, 'نمیدونیم': 5446, 'نمیذارید': 5447, 'نمیریزن': 5448, 'نمیزدن': 5449, 'نمیزنن': 5450, 'نمیفرسته': 5451, 'نمیفهمه': 5452, 'ننوشتین': 5453, 'نهاد': 5454, 'نوآور': 5455, 'نوناتون': 5456, 'نیا': 5457, 'نیارن': 5458, 'نیاره': 5459, 'نیمساعت': 5460, 'نیورد': 5461, 'نیومدن': 5462, 'نیویورکی': 5463, 'نیک': 5464, 'هاد': 5465, 'هارا': 5466, 'هاشونم': 5467, 'هتل': 5468, 'هربارم': 5469, 'هرگونه': 5470, 'هشتم': 5471, 'هفتاد': 5472, 'هفده': 5473, 'همبرگرتون': 5474, 'همبشه': 5475, 'همشه': 5476, 'همونقدر': 5477, 'همیشگیشون': 5478, 'همینکه': 5479, 'هندیه': 5480, 'هنیشه': 5481, 'هوشمندانه': 5482, 'هیلی': 5483, 'هیچوجه': 5484, 'هیییچ': 5485, 'وارسال': 5486, 'واژه': 5487, 'وبرخورد': 5488, 'وبرشته': 5489, 'وبقیه': 5490, 'وتمام': 5491, 'وحید': 5492, 'وداخل': 5493, 'ودیگه': 5494, 'وزمان': 5495, 'وسایلو': 5496, 'وسرویس': 5497, 'وسفت': 5498, 'وصل': 5499, 'وقیمت': 5500, 'ومنظم': 5501, 'ونرم': 5502, 'وه': 5503, 'وهمیشه': 5504, 'وهیچ': 5505, 'وواقعا': 5506, 'وپرسنل': 5507, 'وچرب': 5508, 'وگوجه': 5509, 'ویرایش': 5510, 'وین': 5511, 'ویچ': 5512, 'ویکی': 5513, 'پارس': 5514, 'پاریس': 5515, 'پامپی': 5516, 'پاچین': 5517, 'پدیده': 5518, 'پرمحتوا': 5519, 'پرکنجدی': 5520, 'پلاچنتا': 5521, 'پلاچنتای': 5522, 'پلاکچه': 5523, 'پناه': 5524, 'پنیرتون': 5525, 'پنیرشو': 5526, 'پنیرو': 5527, 'پنینی': 5528, 'پود': 5529, 'پور': 5530, 'پوله': 5531, 'پکیجینگ': 5532, 'پیازداغ': 5533, 'پیاپی': 5534, 'پیتذا': 5535, 'پیتزاهاتونو': 5536, 'پیتزاهاست': 5537, 'پیشکش': 5538, 'پیوست': 5539, 'پیکو': 5540, 'چار': 5541, 'چاقاله': 5542, 'چاپی': 5543, 'چجوریه': 5544, 'چسبانده': 5545, 'چلوی': 5546, 'چندتاش': 5547, 'چندسال': 5548, 'چندماه': 5549, 'چهره': 5550, 'ژیلت': 5551, 'ژیگو': 5552, 'کااااملا': 5553, 'کاربرد': 5554, 'کاردو': 5555, 'کالباساش': 5556, 'کالزونه': 5557, 'کام': 5558, 'کاملاااااا': 5559, 'کامله': 5560, 'کانولا': 5561, 'کاه': 5562, 'کباباش': 5563, 'کبریت': 5564, 'کدر': 5565, 'کربن': 5566, 'کردنو': 5567, 'کفش': 5568, 'کلبه': 5569, 'کلمتون': 5570, 'کلیک': 5571, 'کمتراز': 5572, 'کنستانتره': 5573, 'کنسروی': 5574, 'کوتاهه': 5575, 'کوروش': 5576, 'کوچمون': 5577, 'کوچیکترین': 5578, 'کپک': 5579, 'کیفتتون': 5580, 'کیفتی': 5581, 'کیفیتیه': 5582, 'کیلیویی': 5583, 'کیندر': 5584, 'گداشتن': 5585, 'گردی': 5586, 'گررررم': 5587, 'گرونترین': 5588, 'گریپ': 5589, 'گسترده': 5590, 'گشنمون': 5591, 'گف': 5592, 'گناه': 5593, 'گوجش': 5594, 'گوشزد': 5595, 'گومز': 5596, 'یاعلی': 5597, 'یجا': 5598, 'یهویی': 5599, 'یواش': 5600, 'یودن': 5601, 'یکدفعه': 5602, 'یکربع': 5603, 'یکساعته': 5604, 'یکمقدار': 5605, 'آبجو': 5606, 'آبدارتر': 5607, 'آبرمون': 5608, 'آبرومو': 5609, 'آبعلی': 5610, 'آذر': 5611, 'آردی': 5612, 'آرزومند': 5613, 'آزاردهنده': 5614, 'آشفته': 5615, 'آلفردوی': 5616, 'آلفردویی': 5617, 'آلمینیوم': 5618, 'آمادس': 5619, 'آمادست': 5620, 'آمادگی': 5621, 'آمل': 5622, 'آمیزه': 5623, 'آناتا': 5624, 'آنتیک': 5625, 'آها': 5626, 'آهن': 5627, 'آگاهی': 5628, 'آیدین': 5629, 'آیلی': 5630, 'ابراز': 5631, 'ابنجا': 5632, 'ابگیری': 5633, 'اتلاف': 5634, 'اتکا': 5635, 'اتی': 5636, 'اثلا': 5637, 'اجتناب': 5638, 'اجحاف': 5639, 'اجناسش': 5640, 'احتمالی': 5641, 'اختیاری': 5642, 'اختیاریه': 5643, 'ادویش': 5644, 'ارباب': 5645, 'ارت': 5646, 'ارده': 5647, 'ارز': 5648, 'ارزشمنده': 5649, 'ارزونتره': 5650, 'ارس': 5651, 'ارفاق': 5652, 'اروم': 5653, 'ازاینجا': 5654, 'ازبین': 5655, 'اززمان': 5656, 'ازقبل': 5657, 'ازمون': 5658, 'ازگیل': 5659, 'استثنایی': 5660, 'استراگانوف': 5661, 'استرداد': 5662, 'استک': 5663, 'استیکشم': 5664, 'استیکه': 5665, 'اسفناجش': 5666, 'اسمارت': 5667, 'اسمس': 5668, 'اسمشم': 5669, 'اسمشونو': 5670, 'اسنپه': 5671, 'اسپره': 5672, 'اسپیسی': 5673, 'اسکوپی': 5674, 'اشتباهشون': 5675, 'اشتیاق': 5676, 'اشرفی': 5677, 'اشه': 5678, 'اشکالات': 5679, 'اشکر': 5680, 'اصصصصلا': 5681, 'اصلآ': 5682, 'اصلاخوب': 5683, 'اصلامزه': 5684, 'اصلاکیفیت': 5685, 'اطلا': 5686, 'اطلاعاتی': 5687, 'اعاده': 5688, 'اعظم': 5689, 'افتاب': 5690, 'افتابگردون': 5691, 'افتزاح': 5692, 'افتضاحححححححح': 5693, 'افروخت': 5694, 'الشعاع': 5695, 'العمل': 5696, 'الفردوش': 5697, 'القا': 5698, 'المقدور': 5699, 'المللی': 5700, 'الودگی': 5701, 'الوچه': 5702, 'الکیه': 5703, 'امتیازتون': 5704, 'املتش': 5705, 'امولای': 5706, 'امکانپذیر': 5707, 'امیدارم': 5708, 'انارتون': 5709, 'اناناسی': 5710, 'انتظاره': 5711, 'اندیشید': 5712, 'انسجام': 5713, 'انصراف': 5714, 'انقضاشه': 5715, 'اهمیته': 5716, 'اورئو': 5717, 'اوران': 5718, 'اوله': 5719, 'اومدی': 5720, 'اونارو': 5721, 'اونجاست': 5722, 'اونقدرا': 5723, 'اونقدری': 5724, 'اونموقع': 5725, 'اوه': 5726, 'اوورد': 5727, 'اووکادو': 5728, 'اپسیلون': 5729, 'اکر': 5730, 'اکسپرسه': 5731, 'اکشن': 5732, 'اکه': 5733, 'ایتالیاییشون': 5734, 'ایتالین': 5735, 'ایراداتی': 5736, 'ایرانه': 5737, 'ایستادن': 5738, 'ایمنی': 5739, 'اینایی': 5740, 'اینبارم': 5741, 'اینطوریه': 5742, 'اینچنینی': 5743, 'بااستخوان': 5744, 'بااسنپ': 5745, 'باتشکرواحترام': 5746, 'باحاله': 5747, 'بادشون': 5748, 'باراست': 5749, 'باردار': 5750, 'بارسفارش': 5751, 'بارش': 5752, 'بارمه': 5753, 'باروس': 5754, 'بارژ': 5755, 'بازگو': 5756, 'باقیمانده': 5757, 'بالابود': 5758, 'باوجودی': 5759, 'باورکنید': 5760, 'باکسش': 5761, 'باکمی': 5762, 'باگتها': 5763, 'ببخشین': 5764, 'ببش': 5765, 'بخ': 5766, 'بخت': 5767, 'بخونن': 5768, 'بداخلاق': 5769, 'بدبختی': 5770, 'بدرستی': 5771, 'بدرنگ': 5772, 'بدشون': 5773, 'بدشکل': 5774, 'بدطعمی': 5775, 'بدنام': 5776, 'بدیع': 5777, 'بدیهی': 5778, 'بذار': 5779, 'برآورد': 5780, 'برارزش': 5781, 'برانگیزه': 5782, 'براورده': 5783, 'براینکه': 5784, 'برتری': 5785, 'برخوردپیک': 5786, 'برداشتید': 5787, 'برساند': 5788, 'برفی': 5789, 'برلی': 5790, 'برمیگردوندم': 5791, 'برنده': 5792, 'برنگشت': 5793, 'برهم': 5794, 'بروبچه': 5795, 'بروله': 5796, 'برونسی': 5797, 'برگرا': 5798, 'برگردان': 5799, 'برگردانند': 5800, 'برگردم': 5801, 'برگردن': 5802, 'برگردونیم': 5803, 'برگردونین': 5804, 'برگردید': 5805, 'برگز': 5806, 'بریزیمش': 5807, 'بز': 5808, 'بزرگتره': 5809, 'بستنیه': 5810, 'بسسسیار': 5811, 'بسیاااااااااار': 5812, 'بسیارتازه': 5813, 'بسیاررررر': 5814, 'بسیارهم': 5815, 'بسیارپایین': 5816, 'بسییییار': 5817, 'بسیییییار': 5818, 'بشکلی': 5819, 'بعبارتی': 5820, 'بعدهم': 5821, 'بفروشین': 5822, 'بقایا': 5823, 'بقل': 5824, 'بقی': 5825, 'بقیشم': 5826, 'بقیمت': 5827, 'بلااستفاده': 5828, 'بلال': 5829, 'بلغاری': 5830, 'بلوچیز': 5831, 'بما': 5832, 'بنابر': 5833, 'بندازیم': 5834, 'بندر': 5835, 'بنسبت': 5836, 'بهترینهاست': 5837, 'بهداشتیه': 5838, 'بهروز': 5839, 'بوداده': 5840, 'بودار': 5841, 'بودخیلی': 5842, 'بوددددد': 5843, 'بودددددد': 5844, 'بودمثل': 5845, 'بودمو': 5846, 'بودندو': 5847, 'بودنه': 5848, 'بودوبه': 5849, 'بوگیر': 5850, 'بوگیری': 5851, 'بویه': 5852, 'بچگیا': 5853, 'بکم': 5854, 'بگذاره': 5855, 'بگذره': 5856, 'بیتی': 5857, 'بیداد': 5858, 'بیسکوپیچ': 5859, 'بیشتربود': 5860, 'بیشترشم': 5861, 'بینظیرتون': 5862, 'بینید': 5863, 'بیهوده': 5864, 'بیکران': 5865, 'تائید': 5866, 'تادونه': 5867, 'تارتلت': 5868, 'تازتون': 5869, 'تاکسی': 5870, 'تاینی': 5871, 'تایپی': 5872, 'تبخ': 5873, 'تبلیغاتی': 5874, 'تجدیدنظر': 5875, 'تجربش': 5876, 'تجویل': 5877, 'تحربه': 5878, 'تحول': 5879, 'تحویلشون': 5880, 'تداعی': 5881, 'تردد': 5882, 'ترس': 5883, 'ترشتون': 5884, 'ترشه': 5885, 'ترشیدگی': 5886, 'ترمینال': 5887, 'تروتمیز': 5888, 'تروخدا': 5889, 'ترکونده': 5890, 'تستر': 5891, 'تشابه': 5892, 'تشکره': 5893, 'تصفیه': 5894, 'تضمین': 5895, 'تعاریف': 5896, 'تعریفتونو': 5897, 'تعصب': 5898, 'تقدیره': 5899, 'تقدیم': 5900, 'تقلب': 5901, 'تقویم': 5902, 'تلاشتون': 5903, 'تلمبار': 5904, 'تلگرام': 5905, 'تمامشون': 5906, 'تمومش': 5907, 'تمومه': 5908, 'تنباکوی': 5909, 'تنو': 5910, 'تهدید': 5911, 'تهرانسر': 5912, 'تهرانی': 5913, 'تهه': 5914, 'توب': 5915, 'توتفرنگی': 5916, 'توسرخ': 5917, 'توضبحات': 5918, 'توضیحاتشون': 5919, 'تومنو': 5920, 'تومنیه': 5921, 'توهم': 5922, 'توک': 5923, 'تپلی': 5924, 'تکریم': 5925, 'تگری': 5926, 'تین': 5927, 'ثابتتونم': 5928, 'جاده': 5929, 'جالبیه': 5930, 'جامبو': 5931, 'جانانه': 5932, 'جانیفتاده': 5933, 'جایز': 5934, 'جایه': 5935, 'جت': 5936, 'جد': 5937, 'جداشده': 5938, 'جداشون': 5939, 'جدیدشون': 5940, 'جدیده': 5941, 'جذابه': 5942, 'جرعت': 5943, 'جزع': 5944, 'جزقاله': 5945, 'جزوه': 5946, 'جعیه': 5947, 'جلال': 5948, 'جلفا': 5949, 'جنبه': 5950, 'جنسایی': 5951, 'جهانی': 5952, 'جونتون': 5953, 'حاله': 5954, 'حده': 5955, 'حراست': 5956, 'حسابتون': 5957, 'حسب': 5958, 'حسنی': 5959, 'حلی': 5960, 'حمایت': 5961, 'حوردن': 5962, 'خاصه': 5963, 'خالا': 5964, 'خاموش': 5965, 'خد': 5966, 'خداحافظی': 5967, 'خذف': 5968, 'خرابه': 5969, 'خربزه': 5970, 'خرداد': 5971, 'خریدام': 5972, 'خریدامو': 5973, 'خریدمون': 5974, 'خشکید': 5975, 'خصوصی': 5976, 'خطرناک': 5977, 'خعلی': 5978, 'خمیرشده': 5979, 'خمیرشم': 5980, 'خمیرپیتزا': 5981, 'خواباند': 5982, 'خواستمو': 5983, 'خواهان': 5984, 'خوایم': 5985, 'خودتونه': 5986, 'خودتونو': 5987, 'خودن': 5988, 'خوراکه': 5989, 'خورشتتون': 5990, 'خورن': 5991, 'خوشحالی': 5992, 'خوشمززززه': 5993, 'خوشک': 5994, 'خوشگله': 5995, 'خوندن': 5996, 'خونگیه': 5997, 'خویی': 5998, 'خیارشوری': 5999, 'خیالمون': 6000, 'خیرشون': 6001, 'خیز': 6002, 'خیللللی': 6003, 'خیلیییییییییی': 6004, 'خیلیییییییییییی': 6005, 'خیلییییییییییییی': 6006, 'خیییلیی': 6007, 'دائما': 6008, 'دادمو': 6009, 'دارنو': 6010, 'داشتنیه': 6011, 'داع': 6012, 'داغو': 6013, 'دافع': 6014, 'دامستوس': 6015, 'دانمارکیه': 6016, 'داه': 6017, 'داگشم': 6018, 'داگم': 6019, 'دایمتون': 6020, 'درآمد': 6021, 'درآمده': 6022, 'درآن': 6023, 'درآوردی': 6024, 'دراوردی': 6025, 'دراگون': 6026, 'دربیاره': 6027, 'درتحویل': 6028, 'درجا': 6029, 'درجعبه': 6030, 'درخور': 6031, 'دردمون': 6032, 'درز': 6033, 'درمیاد': 6034, 'دروید': 6035, 'دریاچه': 6036, 'دریک': 6037, 'دستمریزاد': 6038, 'دستگیره': 6039, 'دسید': 6040, 'دشوار': 6041, 'دعا': 6042, 'دفعاتی': 6043, 'دفعست': 6044, 'دق': 6045, 'دقیقتون': 6046, 'دلسترها': 6047, 'دلستری': 6048, 'دلوسه': 6049, 'دلپیچه': 6050, 'دلچسبه': 6051, 'دندونام': 6052, 'دندونت': 6053, 'دهنشون': 6054, 'دوام': 6055, 'دوبارش': 6056, 'دورتادور': 6057, 'دورچبن': 6058, 'دورچینشم': 6059, 'دوساعته': 6060, 'دوستانه': 6061, 'دوستون': 6062, 'دوسه': 6063, 'دوسیخ': 6064, 'دوقلم': 6065, 'دولا': 6066, 'دوماه': 6067, 'دومدل': 6068, 'دومینوی': 6069, 'دونش': 6070, 'دونیم': 6071, 'دوکیلویی': 6072, 'دکه': 6073, 'دیجیتال': 6074, 'دیدگاه': 6075, 'دیزان': 6076, 'دینر': 6077, 'دیوونه': 6078, 'دیگرو': 6079, 'ذاشتن': 6080, 'ذخیره': 6081, 'ذکره': 6082, 'رادر': 6083, 'راظی': 6084, 'راهکار': 6085, 'رایج': 6086, 'رزق': 6087, 'رستبیف': 6088, 'رستوارن': 6089, 'رستورا': 6090, 'رستورانیه': 6091, 'رسوندین': 6092, 'رف': 6093, 'رفیق': 6094, 'رند': 6095, 'رنگه': 6096, 'روا': 6097, 'روان': 6098, 'روسفید': 6099, 'روشه': 6100, 'روعن': 6101, 'روغنشو': 6102, 'روغنشون': 6103, 'رولته': 6104, 'روو': 6105, 'روچر': 6106, 'روژین': 6107, 'رویایی': 6108, 'ریحونش': 6109, 'رینگ': 6110, 'زاد': 6111, 'زارن': 6112, 'زاید': 6113, 'زبونش': 6114, 'زحمتاتون': 6115, 'زرنگ': 6116, 'زسید': 6117, 'زعفرانیه': 6118, 'زل': 6119, 'زمستانی': 6120, 'زمینیشون': 6121, 'زمینیو': 6122, 'زندگیمو': 6123, 'زنگو': 6124, 'زهرمار': 6125, 'زو': 6126, 'زوج': 6127, 'زودرسید': 6128, 'زورشون': 6129, 'زوره': 6130, 'زووود': 6131, 'زیباست': 6132, 'زیپ': 6133, 'زیپو': 6134, 'ساعی': 6135, 'سالاداتون': 6136, 'سالاداش': 6137, 'سالادسزار': 6138, 'سالار': 6139, 'سالسا': 6140, 'سالگی': 6141, 'ساندویجها': 6142, 'ساندویجهای': 6143, 'ساندویچاتون': 6144, 'ساندویچشم': 6145, 'سانودیچ': 6146, 'ساکن': 6147, 'سخاوت': 6148, 'سرازیر': 6149, 'سرت': 6150, 'سردرگم': 6151, 'سردشون': 6152, 'سررررررد': 6153, 'سرررررررد': 6154, 'سرریز': 6155, 'سرماخورده': 6156, 'سرماخوردگی': 6157, 'سرمایه': 6158, 'سروته': 6159, 'سرویستون': 6160, 'سرویسدهی': 6161, 'سرویسشون': 6162, 'سریعتون': 6163, 'سریعه': 6164, 'سزارهای': 6165, 'سسو': 6166, 'سعید': 6167, 'سفار': 6168, 'سفارشتونو': 6169, 'سفازش': 6170, 'سلا': 6171, 'سلامتیتون': 6172, 'سلایق': 6173, 'سلف': 6174, 'سلفن': 6175, 'سوا': 6176, 'سواد': 6177, 'سوخاریا': 6178, 'سوخاریشم': 6179, 'سوختری': 6180, 'سورپرایزم': 6181, 'سوری': 6182, 'سونیک': 6183, 'سوپرماکت': 6184, 'سویسی': 6185, 'سپارش': 6186, 'سکته': 6187, 'سکوت': 6188, 'سیاهدانه': 6189, 'سیبزمین': 6190, 'سیرتون': 6191, 'سیستمتون': 6192, 'سیستمشون': 6193, 'سیستمی': 6194, 'سیمپل': 6195, 'سینگل': 6196, 'شاپ': 6197, 'شبرینی': 6198, 'شبیهه': 6199, 'شته': 6200, 'شخصیتی': 6201, 'شدددت': 6202, 'شدددددت': 6203, 'شدس': 6204, 'شدنی': 6205, 'شدو': 6206, 'شدیدن': 6207, 'شستن': 6208, 'شعار': 6209, 'شعاع': 6210, 'شماااا': 6211, 'شماهم': 6212, 'شمزه': 6213, 'شنا': 6214, 'شنبلیله': 6215, 'شنیتسل': 6216, 'شوئینگر': 6217, 'شوده': 6218, 'شونه': 6219, 'شونیز': 6220, 'شوه': 6221, 'شووور': 6222, 'شوووور': 6223, 'شکاری': 6224, 'شکلاتا': 6225, 'شکلاته': 6226, 'شکننده': 6227, 'شکیبایی': 6228, 'شیلاست': 6229, 'شیمودا': 6230, 'شیمیایی': 6231, 'شین': 6232, 'صادق': 6233, 'صدقه': 6234, 'صنفی': 6235, 'ضایعات': 6236, 'ضرف': 6237, 'ضعفه': 6238, 'ضلع': 6239, 'ضمنن': 6240, 'طارم': 6241, 'ظرفه': 6242, 'عااااااااااااااالی': 6243, 'عااااااااااااالی': 6244, 'عاشقشم': 6245, 'عاقل': 6246, 'عالللللللی': 6247, 'عالم': 6248, 'عالیشون': 6249, 'عالییییییییییی': 6250, 'عباس': 6251, 'عجیبیه': 6252, 'عدساش': 6253, 'عده': 6254, 'عروس': 6255, 'علارقم': 6256, 'عمرتون': 6257, 'عملکردتون': 6258, 'عمومی': 6259, 'عناب': 6260, 'عنایت': 6261, 'عکستون': 6262, 'عیار': 6263, 'عیدی': 6264, 'عینه': 6265, 'غذ': 6266, 'غذارا': 6267, 'غذامونو': 6268, 'غذاهاتونم': 6269, 'غذاو': 6270, 'غذاگرفتم': 6271, 'غذت': 6272, 'غرا': 6273, 'غریبی': 6274, 'غورابیج': 6275, 'غیرمنصفانه': 6276, 'فاز': 6277, 'فام': 6278, 'فامیل': 6279, 'فایل': 6280, 'فراموشی': 6281, 'فرانکفورتر': 6282, 'فرداست': 6283, 'فرمائید': 6284, 'فروشیا': 6285, 'فریب': 6286, 'فسنجونش': 6287, 'فنا': 6288, 'فنجان': 6289, 'فهمیدن': 6290, 'فوتبال': 6291, 'فودا': 6292, 'فودو': 6293, 'فومی': 6294, 'فووق': 6295, 'فوووق': 6296, 'فووووق': 6297, 'فوووووق': 6298, 'فکرنمیکنم': 6299, 'فیلاتو': 6300, 'فیلتر': 6301, 'فیلم': 6302, 'فیلینگ': 6303, 'قارچتون': 6304, 'قاسق': 6305, 'قاطعیت': 6306, 'قاطیه': 6307, 'قایم': 6308, 'قبلشم': 6309, 'قبلیه': 6310, 'قدیمیه': 6311, 'قراردهید': 6312, 'قربونش': 6313, 'قره': 6314, 'قریب': 6315, 'قزوین': 6316, 'قطعاتی': 6317, 'قیمتشه': 6318, 'لابه': 6319, 'لاقل': 6320, 'لاورز': 6321, 'لاکچری': 6322, 'لاین': 6323, 'لبنانی': 6324, 'لثه': 6325, 'لحظات': 6326, 'لز': 6327, 'لزج': 6328, 'لطافت': 6329, 'لطفااااا': 6330, 'لعنتی': 6331, 'لگو': 6332, 'لیته': 6333, 'لیموشیرین': 6334, 'مادلن': 6335, 'مادلین': 6336, 'مار': 6337, 'مارچوبه': 6338, 'مارکتهای': 6339, 'مارگاریتایی': 6340, 'مالیاتو': 6341, 'ماندگار': 6342, 'مانستر': 6343, 'مانیزان': 6344, 'ماژیک': 6345, 'ماکسیمم': 6346, 'مایوس': 6347, 'مایونزی': 6348, 'مایکرویو': 6349, 'مبلغشم': 6350, 'مبنا': 6351, 'مبود': 6352, 'مت': 6353, 'متآسفانه': 6354, 'متاثر': 6355, 'متاسفاته': 6356, 'متخصص': 6357, 'متداول': 6358, 'مترو': 6359, 'متریالش': 6360, 'متسفانه': 6361, 'متشکل': 6362, 'متعدد': 6363, 'متعلق': 6364, 'متغیره': 6365, 'متقاضی': 6366, 'متقبل': 6367, 'متمرکز': 6368, 'متوقف': 6369, 'متین': 6370, 'مجازی': 6371, 'مجبورا': 6372, 'مجبورید': 6373, 'مجرب': 6374, 'مجموعتون': 6375, 'مجیدیه': 6376, 'محال': 6377, 'محتوایات': 6378, 'محتوایی': 6379, 'محشرن': 6380, 'محصولشون': 6381, 'محمدی': 6382, 'مخبری': 6383, 'مخفی': 6384, 'مخلفاتشم': 6385, 'مداد': 6386, 'مداوم': 6387, 'مدته': 6388, 'مدعی': 6389, 'مدلشه': 6390, 'مدلیه': 6391, 'مدیترانه': 6392, 'مدیریتی': 6393, 'مذه': 6394, 'مرتفع': 6395, 'مرتکب': 6396, 'مردمو': 6397, 'مرررررسی': 6398, 'مرغشو': 6399, 'مریم': 6400, 'مزخرفه': 6401, 'مزخزف': 6402, 'مزهٔ': 6403, 'مسافر': 6404, 'مسبت': 6405, 'مسولیت': 6406, 'مسولین': 6407, 'مسیولیت': 6408, 'مشتریتونم': 6409, 'مشد': 6410, 'مشگل': 6411, 'مصاف': 6412, 'مصداق': 6413, 'مطمعنا': 6414, 'مطمین': 6415, 'معانی': 6416, 'معرکست': 6417, 'معنوی': 6418, 'معکوس': 6419, 'مغر': 6420, 'ملاصدرا': 6421, 'ملاط': 6422, 'ملاقه': 6423, 'ممنوووون': 6424, 'ممنوووونم': 6425, 'مناسبتری': 6426, 'مناسبتون': 6427, 'مندم': 6428, 'منزلمون': 6429, 'منظره': 6430, 'منفجر': 6431, 'منهای': 6432, 'منوها': 6433, 'مهربون': 6434, 'مهمانمون': 6435, 'مهمونش': 6436, 'مهندسی': 6437, 'مهیا': 6438, 'موادب': 6439, 'موادتون': 6440, 'موادشون': 6441, 'موافق': 6442, 'مود': 6443, 'مودبتون': 6444, 'موعود': 6445, 'مولپد': 6446, 'موندست': 6447, 'مویز': 6448, 'مکزیکن': 6449, 'مکعبی': 6450, 'مکنم': 6451, 'مگرنه': 6452, 'میانی': 6453, 'میاوردم': 6454, 'میایم': 6455, 'میبرن': 6456, 'میبینه': 6457, 'میتزا': 6458, 'میتونستند': 6459, 'میخاین': 6460, 'میخواستین': 6461, 'میخوایید': 6462, 'میدادو': 6463, 'میداذ': 6464, 'میدارن': 6465, 'میداره': 6466, 'میدونین': 6467, 'میرسن': 6468, 'میرسونند': 6469, 'میرندا': 6470, 'میریختن': 6471, 'میزاشتیم': 6472, 'میشده': 6473, 'میشینیم': 6474, 'میفتاد': 6475, 'میفروشین': 6476, 'میفیت': 6477, 'مینویسین': 6478, 'میپرسه': 6479, 'میپرسیدین': 6480, 'میک': 6481, 'میکروسکوپ': 6482, 'میگذاشتن': 6483, 'میگردوندم': 6484, 'ناراضین': 6485, 'نارضی': 6486, 'نارلضی': 6487, 'نارک': 6488, 'ناسالم': 6489, 'ناشایست': 6490, 'ناشناس': 6491, 'نامربوط': 6492, 'نامناسبه': 6493, 'نامید': 6494, 'نانو': 6495, 'نبره': 6496, 'نبوددد': 6497, 'نبودولی': 6498, 'نبور': 6499, 'نبوووود': 6500, 'نتوستم': 6501, 'نتونن': 6502, 'نتیجتا': 6503, 'نجات': 6504, 'نخ': 6505, 'نخوایم': 6506, 'نخوردین': 6507, 'نخی': 6508, 'ندارع': 6509, 'ندیدن': 6510, 'نزاشتید': 6511, 'نزاکت': 6512, 'نزدیکمون': 6513, 'نزه': 6514, 'نسترن': 6515, 'نسله': 6516, 'نسوخته': 6517, 'نسیت': 6518, 'نشم': 6519, 'نصیب': 6520, 'نطرم': 6521, 'نظارتتون': 6522, 'نظاره': 6523, 'نظراتشون': 6524, 'نظراتو': 6525, 'نفرس': 6526, 'نفس': 6527, 'نماند': 6528, 'نمایان': 6529, 'نمکدون': 6530, 'نمکه': 6531, 'نمیام': 6532, 'نمیبره': 6533, 'نمیخاد': 6534, 'نمیخونن': 6535, 'نمیذاشتین': 6536, 'نمیرزه': 6537, 'نمیصرفید': 6538, 'نمیکشه': 6539, 'نمیکنین': 6540, 'ننویسین': 6541, 'نواخت': 6542, 'نوبه': 6543, 'نور': 6544, 'نوروز': 6545, 'نوستالوژی': 6546, 'نوشابش': 6547, 'نوشین': 6548, 'نولند': 6549, 'نوین': 6550, 'نکشه': 6551, 'نکه': 6552, 'نگرانی': 6553, 'نیازمند': 6554, 'نیوا': 6555, 'نیورده': 6556, 'نیویورک': 6557, 'هاتداگش': 6558, 'هادداگ': 6559, 'هاشونو': 6560, 'هایه': 6561, 'هایپرمارکت': 6562, 'هرجوری': 6563, 'هرشب': 6564, 'هروز': 6565, 'هرکاری': 6566, 'هزارتومنم': 6567, 'هزارم': 6568, 'هزینشم': 6569, 'هزینشه': 6570, 'هفتم': 6571, 'همبرگرا': 6572, 'همبرگرای': 6573, 'همبرگرهاش': 6574, 'همبرگرو': 6575, 'همراهشم': 6576, 'همراهی': 6577, 'همزده': 6578, 'همزن': 6579, 'همشم': 6580, 'همشهری': 6581, 'هممون': 6582, 'همیشع': 6583, 'هنه': 6584, 'هنوزهم': 6585, 'هویچش': 6586, 'هک': 6587, 'هیچکی': 6588, 'هییییچ': 6589, 'واااای': 6590, 'وااقعا': 6591, 'وار': 6592, 'وارده': 6593, 'واقعاا': 6594, 'واقعااااااا': 6595, 'واقعاکه': 6596, 'واقعیه': 6597, 'وال': 6598, 'واو': 6599, 'واکس': 6600, 'واگذار': 6601, 'واگرنه': 6602, 'وبد': 6603, 'وبدمزه': 6604, 'وبعد': 6605, 'وبیشتر': 6606, 'وتمیز': 6607, 'وتنوع': 6608, 'وتو': 6609, 'وج': 6610, 'وحود': 6611, 'وخوبی': 6612, 'وخیارشور': 6613, 'ودرست': 6614, 'ودقیق': 6615, 'وراضی': 6616, 'ورژن': 6617, 'وزود': 6618, 'وسالاد': 6619, 'وسواس': 6620, 'وسیع': 6621, 'وطبق': 6622, 'وطعمش': 6623, 'وعطر': 6624, 'وغذای': 6625, 'وفتی': 6626, 'وفلفل': 6627, 'وقتایی': 6628, 'ومثل': 6629, 'ومخلفات': 6630, 'ومشتری': 6631, 'ومواد': 6632, 'ومونده': 6633, 'وهات': 6634, 'وهزینه': 6635, 'وپس': 6636, 'وپیاز': 6637, 'وچون': 6638, 'وکارکنان': 6639, 'وکوچک': 6640, 'وکیک': 6641, 'ویترین': 6642, 'ویل': 6643, '٥تا': 6644, '٥دقیقه': 6645, 'پابین': 6646, 'پاتی': 6647, 'پارمژان': 6648, 'پارمیزان': 6649, 'پارگی': 6650, 'پاس': 6651, 'پاستارو': 6652, 'پاستیلی': 6653, 'پاش': 6654, 'پاشیدن': 6655, 'پاطی': 6656, 'پالرمو': 6657, 'پاور': 6658, 'پاپایا': 6659, 'پاپیونی': 6660, 'پاکیزه': 6661, 'پایبند': 6662, 'پایینتره': 6663, 'پذیرفتنی': 6664, 'پرانتز': 6665, 'پرخور': 6666, 'پررر': 6667, 'پررویی': 6668, 'پرسش': 6669, 'پرشده': 6670, 'پرفروش': 6671, 'پروانه': 6672, 'پروتئین': 6673, 'پروتئینی': 6674, 'پروپا': 6675, 'پرپروکم': 6676, 'پرژک': 6677, 'پریما': 6678, 'پرینگلز': 6679, 'پستوی': 6680, 'پسرخوب': 6681, 'پشتی': 6682, 'پلوتون': 6683, 'پنبر': 6684, 'پنجه': 6685, 'پنهان': 6686, 'پنیراش': 6687, 'پنیز': 6688, 'پوز': 6689, 'پوستی': 6690, 'پوشیه': 6691, 'پولشون': 6692, 'پولمونو': 6693, 'پوچ': 6694, 'پپرونیه': 6695, 'پیازه': 6696, 'پیازو': 6697, 'پیتزاخیلی': 6698, 'پیتزاسیب': 6699, 'پیتزاشه': 6700, 'پیتزافروشی': 6701, 'پیتزامون': 6702, 'پیتزاهارو': 6703, 'پیتزاهاشم': 6704, 'پیتزاهاشو': 6705, 'پیتزاییه': 6706, 'پیراشکیها': 6707, 'پیرونی': 6708, 'پیزای': 6709, 'پیشنهادات': 6710, 'پیل': 6711, 'پیلوت': 6712, 'پیمان': 6713, 'پیکر': 6714, 'پیگری': 6715, 'چابی': 6716, 'چارک': 6717, 'چخبره': 6718, 'چراکه': 6719, 'چرت': 6720, 'چرررب': 6721, 'چرم': 6722, 'چروک': 6723, 'چشمام': 6724, 'چشمک': 6725, 'چطوره': 6726, 'چلومرغ': 6727, 'چمن': 6728, 'چندساعت': 6729, 'چهارشنبه': 6730, 'چهارمه': 6731, 'چهارنفر': 6732, 'چهلو': 6733, 'چوریتسو': 6734, 'چگوارا': 6735, 'چیزبرگری': 6736, 'چیزکیکش': 6737, 'چیزکیکی': 6738, 'چیس': 6739, 'چیپلت': 6740, 'ژوزک': 6741, 'کات': 6742, 'کارایی': 6743, 'کاردرست': 6744, 'کاررفته': 6745, 'کارزانا': 6746, 'کارشو': 6747, 'کارنه': 6748, 'کاسب': 6749, 'کاشت': 6750, 'کافیست': 6751, 'کامرانیه': 6752, 'کامنتا': 6753, 'کامیون': 6754, 'کانادایی': 6755, 'کاهوشم': 6756, 'کاکادو': 6757, 'کبک': 6758, 'کدومه': 6759, 'کرانبری': 6760, 'کردنشون': 6761, 'کردنه': 6762, 'کرفتم': 6763, 'کرفتن': 6764, 'کرمانشاهی': 6765, 'کروسانی': 6766, 'کشف': 6767, 'کعب': 6768, 'کلشو': 6769, 'کمر': 6770, 'کمنر': 6771, 'کمید': 6772, 'کندو': 6773, 'کوبیدتون': 6774, 'کوجیک': 6775, 'کودوم': 6776, 'کوه': 6777, 'کوچلو': 6778, 'کوچمونه': 6779, 'کوچکه': 6780, 'کوچیکا': 6781, 'کوچیکن': 6782, 'کوکوسبزی': 6783, 'کوکیز': 6784, 'کیست': 6785, 'کیغیت': 6786, 'کیفیتا': 6787, 'کیفیتون': 6788, 'کیفیتیو': 6789, 'کیل': 6790, 'گارلیک': 6791, 'گان': 6792, 'گاندی': 6793, 'گاها': 6794, 'گذر': 6795, 'گذره': 6796, 'گر': 6797, 'گربه': 6798, 'گردان': 6799, 'گرده': 6800, 'گرمایی': 6801, 'گرمتون': 6802, 'گرو': 6803, 'گریست': 6804, 'گزاف': 6805, 'گزافی': 6806, 'گشتی': 6807, 'گلکسی': 6808, 'گنجانده': 6809, 'گنجدی': 6810, 'گندیده': 6811, 'گوشتتون': 6812, 'گوشتکوب': 6813, 'گوشکوب': 6814, 'گوچه': 6815, 'گوچیک': 6816, 'گیاهخوار': 6817, 'گیلان': 6818, 'یاداوری': 6819, 'یاده': 6820, 'یاقوت': 6821, 'یاندویچ': 6822, 'یتزا': 6823, 'یخچالشون': 6824, 'یدفعه': 6825, 'یزره': 6826, 'یسری': 6827, 'یسیار': 6828, 'یع': 6829, 'یلداتون': 6830, 'یهتر': 6831, 'یوخ': 6832, 'یچیز': 6833, 'یکدونه': 6834, 'یکروز': 6835, 'یکساله': 6836, 'یکنفر': 6837, 'یکه': 6838})\n"
          ]
        }
      ]
    },
    {
      "cell_type": "markdown",
      "metadata": {
        "id": "1PTihyyObro5"
      },
      "source": [
        "Now, we will prepare batches for training the model. We use BucketIterator for this work.\n",
        "\n",
        "In this problem, we use BucketIterator, because we want to use LSTM (a kind of recurrent neural network), and it accepts inputs with fixed size (because our texts are in different sizes, we should use padding for this work). So using BucketIterator helps us to have little processing for padding."
      ]
    },
    {
      "cell_type": "code",
      "metadata": {
        "id": "34rL5YSXc1on"
      },
      "source": [
        "train_batch_size = 64\n",
        "valid_batch_size = 128\n",
        "test_batch_size = 128"
      ],
      "execution_count": 12,
      "outputs": []
    },
    {
      "cell_type": "code",
      "metadata": {
        "id": "VXr5-yzjb5h_"
      },
      "source": [
        "# create dataloader\n",
        "train_loader = data.BucketIterator(train_data, train_batch_size, sort_key= lambda x: len(x.preprocessing_text),\n",
        "                                  train=True, shuffle=True, sort_within_batch=True)\n",
        "\n",
        "valid_loader = data.BucketIterator(valid_data, valid_batch_size, sort_key= lambda x: len(x.preprocessing_text),\n",
        "                                  train=False, shuffle=False, sort_within_batch=True)\n",
        "\n",
        "test_loader = data.BucketIterator(test_data, test_batch_size, sort_key= lambda x: len(x.preprocessing_text),\n",
        "                                  train=False, shuffle=False, sort_within_batch=True)\n"
      ],
      "execution_count": 13,
      "outputs": []
    },
    {
      "cell_type": "code",
      "metadata": {
        "colab": {
          "base_uri": "https://localhost:8080/"
        },
        "id": "30l0HIWXeIfe",
        "outputId": "f81767d6-7ac4-47e9-be14-03f580c60d86"
      },
      "source": [
        "print(f'length of train_dataset is : {len(train_data)} and length of train_loader is : {len(train_loader)}')\n",
        "print(f'length of valid_dataset is : {len(valid_data)} and length of valid_loader is : {len(valid_loader)}')\n",
        "print(f'length of test_dataset is : {len(test_data)} and length of test_loader is : {len(test_loader)}')"
      ],
      "execution_count": 14,
      "outputs": [
        {
          "output_type": "stream",
          "name": "stdout",
          "text": [
            "length of train_dataset is : 56495 and length of train_loader is : 883\n",
            "length of valid_dataset is : 6286 and length of valid_loader is : 50\n",
            "length of test_dataset is : 6979 and length of test_loader is : 55\n"
          ]
        }
      ]
    },
    {
      "cell_type": "markdown",
      "metadata": {
        "id": "3cAZTv3ZhZDi"
      },
      "source": [
        "Let's look at frist batch of train_loader. As we see, BucketIterator takes texts with similar length in one batch."
      ]
    },
    {
      "cell_type": "markdown",
      "metadata": {
        "id": "xkQPOnP9m9HX"
      },
      "source": [
        "**It's important to call create_batches() before each epoch**"
      ]
    },
    {
      "cell_type": "code",
      "metadata": {
        "colab": {
          "base_uri": "https://localhost:8080/"
        },
        "id": "jGBvvHaigIjq",
        "outputId": "1f9259aa-caed-4234-b561-92abd3601379"
      },
      "source": [
        "train_loader.create_batches()\n",
        "for batch in train_loader.batches:\n",
        "  print(f'batch size : {len(batch)}')\n",
        "  print(batch)\n",
        "\n",
        "  for example in batch:\n",
        "    print(f'example label : {example.label} | example length : {len(example.preprocessing_text)}')\n",
        "  break  "
      ],
      "execution_count": 15,
      "outputs": [
        {
          "output_type": "stream",
          "name": "stdout",
          "text": [
            "batch size : 64\n",
            "[<torchtext.legacy.data.example.Example object at 0x7fb8e3189ad0>, <torchtext.legacy.data.example.Example object at 0x7fb8e41ffb90>, <torchtext.legacy.data.example.Example object at 0x7fb8e2a584d0>, <torchtext.legacy.data.example.Example object at 0x7fb8e3902290>, <torchtext.legacy.data.example.Example object at 0x7fb8e4cfc4d0>, <torchtext.legacy.data.example.Example object at 0x7fb8e4cf38d0>, <torchtext.legacy.data.example.Example object at 0x7fb8e4e61450>, <torchtext.legacy.data.example.Example object at 0x7fb8e5693350>, <torchtext.legacy.data.example.Example object at 0x7fb8e54732d0>, <torchtext.legacy.data.example.Example object at 0x7fb8e51e3c10>, <torchtext.legacy.data.example.Example object at 0x7fb8e51cbf50>, <torchtext.legacy.data.example.Example object at 0x7fb8e3474d90>, <torchtext.legacy.data.example.Example object at 0x7fb8e4d82cd0>, <torchtext.legacy.data.example.Example object at 0x7fb8e6f66e90>, <torchtext.legacy.data.example.Example object at 0x7fb8e682e710>, <torchtext.legacy.data.example.Example object at 0x7fb8e2e6c810>, <torchtext.legacy.data.example.Example object at 0x7fb8e3ec4ad0>, <torchtext.legacy.data.example.Example object at 0x7fb8e2d56190>, <torchtext.legacy.data.example.Example object at 0x7fb8e6735a50>, <torchtext.legacy.data.example.Example object at 0x7fb8e43c14d0>, <torchtext.legacy.data.example.Example object at 0x7fb8e5473350>, <torchtext.legacy.data.example.Example object at 0x7fb8e29dfe90>, <torchtext.legacy.data.example.Example object at 0x7fb8e4688a90>, <torchtext.legacy.data.example.Example object at 0x7fb8e4fd9790>, <torchtext.legacy.data.example.Example object at 0x7fb8e353f390>, <torchtext.legacy.data.example.Example object at 0x7fb8e5f33ad0>, <torchtext.legacy.data.example.Example object at 0x7fb8e6ccc990>, <torchtext.legacy.data.example.Example object at 0x7fb8e4cc5e50>, <torchtext.legacy.data.example.Example object at 0x7fb8e3a02550>, <torchtext.legacy.data.example.Example object at 0x7fb8e294e910>, <torchtext.legacy.data.example.Example object at 0x7fb8e3258e90>, <torchtext.legacy.data.example.Example object at 0x7fb8e441fad0>, <torchtext.legacy.data.example.Example object at 0x7fb8e3aefe10>, <torchtext.legacy.data.example.Example object at 0x7fb8e44fe550>, <torchtext.legacy.data.example.Example object at 0x7fb8e5011090>, <torchtext.legacy.data.example.Example object at 0x7fb8e3729290>, <torchtext.legacy.data.example.Example object at 0x7fb8e4688c10>, <torchtext.legacy.data.example.Example object at 0x7fb8e6c6a290>, <torchtext.legacy.data.example.Example object at 0x7fb8e511c690>, <torchtext.legacy.data.example.Example object at 0x7fb8e68aba50>, <torchtext.legacy.data.example.Example object at 0x7fb8e3587b10>, <torchtext.legacy.data.example.Example object at 0x7fb8e366afd0>, <torchtext.legacy.data.example.Example object at 0x7fb8e6027c50>, <torchtext.legacy.data.example.Example object at 0x7fb8e5504a10>, <torchtext.legacy.data.example.Example object at 0x7fb8e329e750>, <torchtext.legacy.data.example.Example object at 0x7fb8e57e1150>, <torchtext.legacy.data.example.Example object at 0x7fb8e27e1850>, <torchtext.legacy.data.example.Example object at 0x7fb8e2d65450>, <torchtext.legacy.data.example.Example object at 0x7fb8e4bcbb50>, <torchtext.legacy.data.example.Example object at 0x7fb8e4889450>, <torchtext.legacy.data.example.Example object at 0x7fb8e3a387d0>, <torchtext.legacy.data.example.Example object at 0x7fb8e449c9d0>, <torchtext.legacy.data.example.Example object at 0x7fb8e6d62850>, <torchtext.legacy.data.example.Example object at 0x7fb8e3ec4390>, <torchtext.legacy.data.example.Example object at 0x7fb8e64396d0>, <torchtext.legacy.data.example.Example object at 0x7fb8e3189ed0>, <torchtext.legacy.data.example.Example object at 0x7fb8e6439b90>, <torchtext.legacy.data.example.Example object at 0x7fb8e6876550>, <torchtext.legacy.data.example.Example object at 0x7fb8e3dc7a90>, <torchtext.legacy.data.example.Example object at 0x7fb8e49bd710>, <torchtext.legacy.data.example.Example object at 0x7fb8e29683d0>, <torchtext.legacy.data.example.Example object at 0x7fb8e35d7e10>, <torchtext.legacy.data.example.Example object at 0x7fb8e3c2ee10>, <torchtext.legacy.data.example.Example object at 0x7fb8e4c7f410>]\n",
            "example label : 0 | example length : 10\n",
            "example label : 1 | example length : 10\n",
            "example label : 0 | example length : 10\n",
            "example label : 0 | example length : 10\n",
            "example label : 0 | example length : 10\n",
            "example label : 0 | example length : 10\n",
            "example label : 0 | example length : 10\n",
            "example label : 1 | example length : 10\n",
            "example label : 1 | example length : 10\n",
            "example label : 1 | example length : 10\n",
            "example label : 1 | example length : 10\n",
            "example label : 0 | example length : 10\n",
            "example label : 1 | example length : 10\n",
            "example label : 1 | example length : 10\n",
            "example label : 1 | example length : 10\n",
            "example label : 0 | example length : 10\n",
            "example label : 0 | example length : 10\n",
            "example label : 1 | example length : 10\n",
            "example label : 1 | example length : 10\n",
            "example label : 1 | example length : 10\n",
            "example label : 0 | example length : 10\n",
            "example label : 0 | example length : 10\n",
            "example label : 1 | example length : 10\n",
            "example label : 1 | example length : 10\n",
            "example label : 0 | example length : 10\n",
            "example label : 1 | example length : 10\n",
            "example label : 0 | example length : 10\n",
            "example label : 0 | example length : 10\n",
            "example label : 0 | example length : 10\n",
            "example label : 1 | example length : 10\n",
            "example label : 0 | example length : 10\n",
            "example label : 1 | example length : 10\n",
            "example label : 1 | example length : 10\n",
            "example label : 0 | example length : 10\n",
            "example label : 0 | example length : 10\n",
            "example label : 1 | example length : 10\n",
            "example label : 1 | example length : 10\n",
            "example label : 0 | example length : 10\n",
            "example label : 0 | example length : 10\n",
            "example label : 1 | example length : 10\n",
            "example label : 0 | example length : 10\n",
            "example label : 1 | example length : 10\n",
            "example label : 0 | example length : 10\n",
            "example label : 1 | example length : 10\n",
            "example label : 0 | example length : 10\n",
            "example label : 1 | example length : 10\n",
            "example label : 0 | example length : 10\n",
            "example label : 0 | example length : 10\n",
            "example label : 1 | example length : 10\n",
            "example label : 1 | example length : 10\n",
            "example label : 0 | example length : 10\n",
            "example label : 0 | example length : 10\n",
            "example label : 0 | example length : 10\n",
            "example label : 1 | example length : 10\n",
            "example label : 0 | example length : 11\n",
            "example label : 1 | example length : 11\n",
            "example label : 1 | example length : 11\n",
            "example label : 0 | example length : 11\n",
            "example label : 1 | example length : 11\n",
            "example label : 1 | example length : 11\n",
            "example label : 0 | example length : 11\n",
            "example label : 1 | example length : 11\n",
            "example label : 1 | example length : 11\n",
            "example label : 0 | example length : 11\n"
          ]
        }
      ]
    },
    {
      "cell_type": "code",
      "metadata": {
        "colab": {
          "base_uri": "https://localhost:8080/"
        },
        "id": "ckXL8AXigxER",
        "outputId": "318a4a5b-54ee-485b-d2c2-9180e6ac9326"
      },
      "source": [
        "example.preprocessing_text"
      ],
      "execution_count": 16,
      "outputs": [
        {
          "output_type": "execute_result",
          "data": {
            "text/plain": [
              "['غذا',\n",
              " 'عالی',\n",
              " 'ارسال',\n",
              " 'مشتری',\n",
              " 'مدار',\n",
              " 'پیک',\n",
              " 'مودب',\n",
              " 'خدا',\n",
              " 'کسب',\n",
              " 'کارتون',\n",
              " 'برکت']"
            ]
          },
          "metadata": {},
          "execution_count": 16
        }
      ]
    },
    {
      "cell_type": "markdown",
      "metadata": {
        "id": "UD02j4gGVi4x"
      },
      "source": [
        "Let's take a look at one batch of train_loader."
      ]
    },
    {
      "cell_type": "markdown",
      "metadata": {
        "id": "AO-Pa3v_zj3H"
      },
      "source": [
        "As we see in the following cell, when print text_, we expect to have tensor shape like (batch_size * text_length), but this text have shape like (text_length * batch_size ), So we should inverse shape of text before feed it to our model.(my explain it's true when we don't use batch_first=True in TEXT, if use batch_first we don't need to inverse x.transpose() because it makes it in a wrong shape) (batch_size = 10 in this cell\n",
        ")"
      ]
    },
    {
      "cell_type": "code",
      "metadata": {
        "colab": {
          "base_uri": "https://localhost:8080/"
        },
        "id": "CobR10fkHXMi",
        "outputId": "833cc5b7-0ecd-4de4-a9e8-978d9d5ece30"
      },
      "source": [
        "example = iter(train_loader)\n",
        "text_, label_= next(example)\n",
        "print(f'label :{label_}')\n",
        "print(f'text : {text_[0]}')\n",
        "print(f'text_length : {text_[1]}')"
      ],
      "execution_count": null,
      "outputs": [
        {
          "output_type": "stream",
          "name": "stdout",
          "text": [
            "label :tensor([0., 1., 1., 0., 1., 1., 0., 1., 0., 1.])\n",
            "text : tensor([[   6,  157],\n",
            "        [   0,    8],\n",
            "        [   4,    8],\n",
            "        [  32,  522],\n",
            "        [ 220,    8],\n",
            "        [   4, 1141],\n",
            "        [   3,   25],\n",
            "        [ 170,    0],\n",
            "        [ 190,   58],\n",
            "        [ 740,   96]])\n",
            "text_length : tensor([2, 2, 2, 2, 2, 2, 2, 2, 2, 2])\n"
          ]
        }
      ]
    },
    {
      "cell_type": "code",
      "metadata": {
        "colab": {
          "base_uri": "https://localhost:8080/"
        },
        "id": "V0i9ss9brIkD",
        "outputId": "aaad34d9-07fd-4c83-a2b6-7e26ce7b5999"
      },
      "source": [
        "for batchess in train_loader:\n",
        "  x, y = batchess.preprocessing_text\n",
        "  x = torch.transpose(x, 0, 1)\n",
        "  print(f'len batch :{len(batchess)}')\n",
        "  print(f'text:{x}')\n",
        "  print(f'text shape : {x.shape}')\n",
        "  print(f'len text : {len(x)}')\n",
        "  print(f'text_length : {y}')\n",
        "  break\n"
      ],
      "execution_count": null,
      "outputs": [
        {
          "output_type": "stream",
          "name": "stdout",
          "text": [
            "len batch :10\n",
            "text:tensor([[  32, 2375,  488,   15,   22,  204,    4,   33,   25,  134],\n",
            "        [ 181,    5,   19,  475,    6, 2314,  189,   10,  157,    4],\n",
            "        [ 113,  393,    7,   39, 3013,  267,  259,  182,    0,  143]])\n",
            "text shape : torch.Size([3, 10])\n",
            "len text : 3\n",
            "text_length : tensor([3, 3, 3, 3, 3, 3, 3, 3, 3, 3])\n"
          ]
        }
      ]
    },
    {
      "cell_type": "markdown",
      "metadata": {
        "id": "wXiXEyoV1pa7"
      },
      "source": [
        "### Building model"
      ]
    },
    {
      "cell_type": "markdown",
      "metadata": {
        "id": "H6MyJuwGQ0A1"
      },
      "source": [
        "helpful links:\n",
        "https://github.com/bentrevett/pytorch-sentiment-analysis/blob/master/4%20-%20Convolutional%20Sentiment%20Analysis.ipynb\n",
        "\n",
        "https://pytorch.org/docs/stable/generated/torch.nn.functional.pad.html\n",
        "\n",
        "https://galhever.medium.com/sentiment-analysis-with-pytorch-part-3-cnn-model-7bb30712abd7"
      ]
    },
    {
      "cell_type": "markdown",
      "metadata": {
        "id": "EaHSlDLC1xfn"
      },
      "source": [
        "In this section, we want to build CNN model and use it for sentiment analysis on SnappFood dataset. we should define a class for our modle. we don't need anything, because we define dataloader and anything we need(i.e. vocabulary) before."
      ]
    },
    {
      "cell_type": "code",
      "metadata": {
        "id": "jobsHfWoq65s"
      },
      "source": [
        "class CNN(nn.Module):\n",
        "  def __init__(self, vocab_size, embedding_dim, n_filters, filter_sizes, output_dim\n",
        "               , dropout, pad_idx):\n",
        "    super(CNN, self).__init__()\n",
        "    \n",
        "    # we consider embedding layer as a lookup table that assigns each word a vector\n",
        "    self.embedding = nn.Embedding(vocab_size, embedding_dim, padding_idx=pad_idx)\n",
        "    \n",
        "    # we define convolutional layers in ModuleList\n",
        "    self.convs = nn.ModuleList([nn.Conv2d(in_channels=1, out_channels=n_filters, kernel_size=(fs, embedding_dim)) \n",
        "                                         for fs in filter_sizes])\n",
        "\n",
        "    self.fc = nn.Linear(len(filter_sizes)*n_filters, output_dim)\n",
        "\n",
        "    self.dropout = nn.Dropout(dropout)\n",
        "    self.sigmoid = nn.Sigmoid()\n",
        "\n",
        "  def forward(self, text):\n",
        "    \n",
        "    # text = [batch_size, sent length]\n",
        "    embedded = self.embedding(text)\n",
        "\n",
        "    # because min len text ==1, we should add 4 to it dimention, because our max kernel size is 5\n",
        "    # padding\n",
        "    # embedded = [batch_size, sent length, emb dim]\n",
        "    embedded = F.pad(embedded, (0,0,2,2), \"constant\", 0)\n",
        "\n",
        "    # embedded = [batch_size, sent length + 4, emb dim]\n",
        "    embedded = embedded.unsqueeze(1)\n",
        "\n",
        "    # embedded = [batch_size, 1, sent length + 4, emb dim]\n",
        "    conved = [F.relu(conv(embedded)).squeeze(3) for conv in self.convs]\n",
        "\n",
        "    # conved_n = [batch_size, n_filters, sent length + 4 -filter_sizes[n] + 1]\n",
        "    pooled = [F.max_pool1d(conv, conv.shape[2]).squeeze(2) for conv in conved]\n",
        "\n",
        "    # pooled_n = [batch_size, n_filters]\n",
        "    cat = self.dropout(torch.cat(pooled, dim=1))\n",
        "\n",
        "    # cat = [batch_size, n_filters * len(filter_sizes)]\n",
        "    dense_output = self.fc(cat)\n",
        "\n",
        "    # final activation funciton \n",
        "    output = self.sigmoid(dense_output)\n",
        "\n",
        "    return output\n"
      ],
      "execution_count": 17,
      "outputs": []
    },
    {
      "cell_type": "markdown",
      "metadata": {
        "id": "dlOvi5Zy_Aob"
      },
      "source": [
        "Let's define hyperparameters."
      ]
    },
    {
      "cell_type": "code",
      "metadata": {
        "id": "nlttn2_s-9GE"
      },
      "source": [
        "vocab_size = len(TEXT.vocab)\n",
        "embedding_dim = 100\n",
        "n_filters = 100\n",
        "filter_sizes = [3, 4, 5]\n",
        "output_dim = 1\n",
        "dropout = 0.5\n",
        "pad_idx = TEXT.vocab.stoi[TEXT.pad_token]\n",
        "\n",
        "model_cnn = CNN(vocab_size, embedding_dim, n_filters, filter_sizes, \n",
        "                output_dim, dropout, pad_idx)\n"
      ],
      "execution_count": 18,
      "outputs": []
    },
    {
      "cell_type": "code",
      "metadata": {
        "colab": {
          "base_uri": "https://localhost:8080/"
        },
        "id": "k5q7ri_GDtj1",
        "outputId": "7cfddae1-aac7-40ef-a941-5f8bb48481f2"
      },
      "source": [
        "print(model_cnn)"
      ],
      "execution_count": 19,
      "outputs": [
        {
          "output_type": "stream",
          "name": "stdout",
          "text": [
            "CNN(\n",
            "  (embedding): Embedding(6839, 100, padding_idx=1)\n",
            "  (convs): ModuleList(\n",
            "    (0): Conv2d(1, 100, kernel_size=(3, 100), stride=(1, 1))\n",
            "    (1): Conv2d(1, 100, kernel_size=(4, 100), stride=(1, 1))\n",
            "    (2): Conv2d(1, 100, kernel_size=(5, 100), stride=(1, 1))\n",
            "  )\n",
            "  (fc): Linear(in_features=300, out_features=1, bias=True)\n",
            "  (dropout): Dropout(p=0.5, inplace=False)\n",
            "  (sigmoid): Sigmoid()\n",
            ")\n"
          ]
        }
      ]
    },
    {
      "cell_type": "markdown",
      "metadata": {
        "id": "aEQWi8gT_R4O"
      },
      "source": [
        "Because we set out filter_sizes to 3, 4 and 5, we check bigrams, 3-grams and 5-grams in our model."
      ]
    },
    {
      "cell_type": "markdown",
      "metadata": {
        "id": "iJuOMIlLAFep"
      },
      "source": [
        "Let's define a function for checking the number of parameters in our model."
      ]
    },
    {
      "cell_type": "code",
      "metadata": {
        "colab": {
          "base_uri": "https://localhost:8080/"
        },
        "id": "2rZzvlSn-_it",
        "outputId": "36044e6a-55f6-4607-a25d-eaaac28f46cb"
      },
      "source": [
        "def count_parameters(model):\n",
        "  return sum(p.numel() for p in model.parameters() if p.requires_grad)\n",
        "\n",
        "print(f'The CNN model has {count_parameters(model_cnn):,} trainable parameters')\n"
      ],
      "execution_count": 20,
      "outputs": [
        {
          "output_type": "stream",
          "name": "stdout",
          "text": [
            "The CNN model has 804,501 trainable parameters\n"
          ]
        }
      ]
    },
    {
      "cell_type": "markdown",
      "metadata": {
        "id": "kGMupDzcB0E_"
      },
      "source": [
        "### Train and Evaluate the model"
      ]
    },
    {
      "cell_type": "markdown",
      "metadata": {
        "id": "aSVGznDsCKZd"
      },
      "source": [
        "Let's initialize optimizer, loss function and learning rate schedular."
      ]
    },
    {
      "cell_type": "code",
      "metadata": {
        "id": "XHZ2A2uWCJ87"
      },
      "source": [
        "num_epoch = 10\n",
        "learning_rate= 0.01\n",
        "\n",
        "criterion = nn.BCELoss()\n",
        "optimizer = torch.optim.Adam(model_cnn.parameters(), lr = learning_rate)\n",
        "scheduler = lr_scheduler.StepLR(optimizer, 1, gamma=0.9)\n",
        "\n",
        "\n",
        "n_total_step = len(train_loader)\n"
      ],
      "execution_count": 21,
      "outputs": []
    },
    {
      "cell_type": "code",
      "metadata": {
        "id": "RrRKlx2IVSn6"
      },
      "source": [
        "# Define a funciton to calculate accuracy for binary class classification model\n",
        "def binary_accuracy(y_pred, y_act):\n",
        "    #round predictions to the closest integer\n",
        "    rounded_preds = torch.round(y_pred)\n",
        "    \n",
        "    correct = (rounded_preds == y_act).float() # Show which elements are the same with 1\n",
        "    acc = correct.sum() / len(correct)\n",
        "    acc = torch.round(acc * 100)\n",
        "    return acc"
      ],
      "execution_count": 22,
      "outputs": []
    },
    {
      "cell_type": "markdown",
      "metadata": {
        "id": "LYAATbLzB_Hr"
      },
      "source": [
        "Let's define train and evaluate function. (train and evaluate function in this section is different a little with before, because our model in forward takes only text.)"
      ]
    },
    {
      "cell_type": "code",
      "metadata": {
        "id": "chUtvgfndTfd"
      },
      "source": [
        "# define a function for training a model\n",
        "def train(model1, train_loader):\n",
        "  \n",
        "  train_epoch_loss = 0\n",
        "  train_epoch_acc = 0\n",
        "  \n",
        "  # train the model\n",
        "  model1.train()\n",
        "\n",
        "  loop = tqdm(enumerate(train_loader), total = n_total_step, leave = False)\n",
        "\n",
        "  for i, batch in loop:\n",
        "    \n",
        "    optimizer.zero_grad()\n",
        "\n",
        "    # retrieve text and number of words\n",
        "    text, text_lengths = batch.preprocessing_text\n",
        "\n",
        "    # convert to 1D tensor\n",
        "    y_pred = model1(text).squeeze()\n",
        "\n",
        "    loss_train = criterion(y_pred, batch.label)\n",
        "\n",
        "    acc_train = binary_accuracy(y_pred, batch.label)\n",
        "\n",
        "    loss_train.backward()\n",
        "\n",
        "    optimizer.step()\n",
        "\n",
        "    train_epoch_loss += loss_train.item()\n",
        "    train_epoch_acc += acc_train.item()\n",
        "\n",
        "    loop.set_description(f'Epoch : [{epoch}/{num_epoch}]')\n",
        "    loop.set_postfix(loss = loss_train.item(), accuracy = acc_train.item()) \n",
        "  \n",
        "  train_loss.append(train_epoch_loss/len(train_loader))\n",
        "  train_acc.append(train_epoch_acc/len(train_loader))  \n",
        "      \n",
        "  # if you want to monitor your model in tensorboard   \n",
        "  writer.add_scalar('training loss',train_epoch_loss/len(train_loader) , epoch)\n",
        "  writer.add_scalar('training accuracy',train_epoch_acc/len(train_loader) , epoch)\n",
        "\n",
        "  return train_loss, train_acc\n",
        "\n",
        "\n",
        "# define a function for evaluating model\n",
        "def evaluate(model1, valid_loader):\n",
        "\n",
        "  # validation\n",
        "  with torch.no_grad():\n",
        "    model1.eval()\n",
        "\n",
        "    val_epoch_loss = 0\n",
        "    val_epoch_acc = 0\n",
        "\n",
        "    for batch in valid_loader:\n",
        "\n",
        "      text, text_length = batch.preprocessing_text\n",
        "\n",
        "      y_pred_val = model1(text).squeeze()\n",
        "      loss_valid = criterion(y_pred_val, batch.label)\n",
        "      acc_valid = binary_accuracy(y_pred_val, batch.label) \n",
        "\n",
        "      val_epoch_loss += loss_valid.item()\n",
        "      val_epoch_acc += acc_valid.item()\n",
        "\n",
        "    valid_loss.append(val_epoch_loss/len(valid_loader))\n",
        "    valid_acc.append(val_epoch_acc/len(valid_loader))  \n",
        "\n",
        "  return valid_loss, valid_acc\n"
      ],
      "execution_count": 23,
      "outputs": []
    },
    {
      "cell_type": "code",
      "metadata": {
        "id": "ORmRL7MsEeww"
      },
      "source": [
        "from torch.utils.tensorboard import SummaryWriter\n",
        "writer = SummaryWriter('model_SnappFood')"
      ],
      "execution_count": 24,
      "outputs": []
    },
    {
      "cell_type": "code",
      "metadata": {
        "id": "rE9yRSsZCu3V"
      },
      "source": [
        "# %reload_ext tensorboard\n",
        "# %tensorboard --logdir 'model_SnappFood'"
      ],
      "execution_count": 40,
      "outputs": []
    },
    {
      "cell_type": "code",
      "metadata": {
        "id": "C9Wda-LJEm7U",
        "colab": {
          "base_uri": "https://localhost:8080/"
        },
        "outputId": "5eb2c98e-ac71-4095-a2d1-dbdb15f335a0"
      },
      "source": [
        "!nvidia-smi"
      ],
      "execution_count": 26,
      "outputs": [
        {
          "output_type": "stream",
          "name": "stdout",
          "text": [
            "Sat Sep  4 04:34:37 2021       \n",
            "+-----------------------------------------------------------------------------+\n",
            "| NVIDIA-SMI 470.63.01    Driver Version: 460.32.03    CUDA Version: 11.2     |\n",
            "|-------------------------------+----------------------+----------------------+\n",
            "| GPU  Name        Persistence-M| Bus-Id        Disp.A | Volatile Uncorr. ECC |\n",
            "| Fan  Temp  Perf  Pwr:Usage/Cap|         Memory-Usage | GPU-Util  Compute M. |\n",
            "|                               |                      |               MIG M. |\n",
            "|===============================+======================+======================|\n",
            "|   0  Tesla K80           Off  | 00000000:00:04.0 Off |                    0 |\n",
            "| N/A   65C    P8    32W / 149W |      3MiB / 11441MiB |      0%      Default |\n",
            "|                               |                      |                  N/A |\n",
            "+-------------------------------+----------------------+----------------------+\n",
            "                                                                               \n",
            "+-----------------------------------------------------------------------------+\n",
            "| Processes:                                                                  |\n",
            "|  GPU   GI   CI        PID   Type   Process name                  GPU Memory |\n",
            "|        ID   ID                                                   Usage      |\n",
            "|=============================================================================|\n",
            "|  No running processes found                                                 |\n",
            "+-----------------------------------------------------------------------------+\n"
          ]
        }
      ]
    },
    {
      "cell_type": "code",
      "metadata": {
        "id": "VsRQ_MmEBzmk",
        "colab": {
          "base_uri": "https://localhost:8080/"
        },
        "outputId": "956dd717-5325-465d-ee52-716519661a89"
      },
      "source": [
        "from tqdm import tqdm\n",
        "\n",
        "train_loss, valid_loss = [], []\n",
        "train_acc, valid_acc = [], []\n",
        "\n",
        "best_valid_loss = float('inf')\n",
        "\n",
        "for epoch in range(num_epoch):\n",
        "\n",
        "  train_loss, train_acc = train(model_cnn, train_loader)\n",
        "  writer.flush() \n",
        "  valid_loss, valid_acc = evaluate(model_cnn, valid_loader)  \n",
        "\n",
        "  if valid_loss[-1] < best_valid_loss:\n",
        "    best_valid_loss = valid_loss[-1]\n",
        "    torch.save(model_cnn.state_dict(), '/content/drive/MyDrive/AI-Internship/BestModelCNN_snappfood')\n",
        "\n",
        "  scheduler.step()"
      ],
      "execution_count": 27,
      "outputs": [
        {
          "output_type": "stream",
          "name": "stderr",
          "text": [
            ""
          ]
        }
      ]
    },
    {
      "cell_type": "code",
      "metadata": {
        "id": "WA4VxNYYC_iD"
      },
      "source": [
        "torch.save(model_cnn, '/content/drive/MyDrive/AI-Internship/model2CNN_snappfood') # model1 with 10 epochs"
      ],
      "execution_count": 28,
      "outputs": []
    },
    {
      "cell_type": "code",
      "metadata": {
        "id": "HMbpO_gEDZ3r",
        "colab": {
          "base_uri": "https://localhost:8080/",
          "height": 295
        },
        "outputId": "4e64c4e0-4205-4700-8964-d9c202323d05"
      },
      "source": [
        "#Training and validation loss\n",
        "plt.plot(train_loss, label='Training loss')\n",
        "plt.plot(valid_loss, label='Validation loss')\n",
        "plt.legend(frameon=False)\n",
        "plt.xlabel('epoch')\n",
        "plt.ylabel('loss value')\n",
        "plt.title(\"Loss function for each epoch\") \n",
        "plt.show()"
      ],
      "execution_count": 29,
      "outputs": [
        {
          "output_type": "display_data",
          "data": {
            "image/png": "[encoded data removed]",
            "text/plain": [
              "<Figure size 432x288 with 1 Axes>"
            ]
          },
          "metadata": {
            "needs_background": "light"
          }
        }
      ]
    },
    {
      "cell_type": "code",
      "metadata": {
        "id": "Jyj0EpdYDZ1e",
        "colab": {
          "base_uri": "https://localhost:8080/",
          "height": 295
        },
        "outputId": "d8d8b7e8-b716-4e3b-a353-90a98eaaf248"
      },
      "source": [
        "#Training and validation accuracy\n",
        "plt.plot(train_acc, label='Training accuracy')\n",
        "plt.plot(valid_acc, label='Validation accuracy')\n",
        "plt.legend(frameon=False)\n",
        "plt.xlabel('epoch')\n",
        "plt.ylabel('accuracy value')\n",
        "plt.title(\"Accuracy for each epoch\")\n",
        "plt.show()"
      ],
      "execution_count": 30,
      "outputs": [
        {
          "output_type": "display_data",
          "data": {
            "image/png": "[encoded data removed]",
            "text/plain": [
              "<Figure size 432x288 with 1 Axes>"
            ]
          },
          "metadata": {
            "needs_background": "light"
          }
        }
      ]
    },
    {
      "cell_type": "code",
      "metadata": {
        "id": "3M9cthRuDZtT",
        "colab": {
          "base_uri": "https://localhost:8080/"
        },
        "outputId": "5556d4f7-e0d3-439f-b033-e73b94af4969"
      },
      "source": [
        "scheduler.state_dict()"
      ],
      "execution_count": 31,
      "outputs": [
        {
          "output_type": "execute_result",
          "data": {
            "text/plain": [
              "{'_get_lr_called_within_step': False,\n",
              " '_last_lr': [0.003486784401000002],\n",
              " '_step_count': 11,\n",
              " 'base_lrs': [0.01],\n",
              " 'gamma': 0.9,\n",
              " 'last_epoch': 10,\n",
              " 'step_size': 1,\n",
              " 'verbose': False}"
            ]
          },
          "metadata": {},
          "execution_count": 31
        }
      ]
    },
    {
      "cell_type": "code",
      "metadata": {
        "id": "72UGIEflDmTW",
        "colab": {
          "base_uri": "https://localhost:8080/"
        },
        "outputId": "30fe2409-9ade-48e2-ad9b-ac8f5404ea91"
      },
      "source": [
        "model_cnn.state_dict"
      ],
      "execution_count": 32,
      "outputs": [
        {
          "output_type": "execute_result",
          "data": {
            "text/plain": [
              "<bound method Module.state_dict of CNN(\n",
              "  (embedding): Embedding(6839, 100, padding_idx=1)\n",
              "  (convs): ModuleList(\n",
              "    (0): Conv2d(1, 100, kernel_size=(3, 100), stride=(1, 1))\n",
              "    (1): Conv2d(1, 100, kernel_size=(4, 100), stride=(1, 1))\n",
              "    (2): Conv2d(1, 100, kernel_size=(5, 100), stride=(1, 1))\n",
              "  )\n",
              "  (fc): Linear(in_features=300, out_features=1, bias=True)\n",
              "  (dropout): Dropout(p=0.5, inplace=False)\n",
              "  (sigmoid): Sigmoid()\n",
              ")>"
            ]
          },
          "metadata": {},
          "execution_count": 32
        }
      ]
    },
    {
      "cell_type": "code",
      "metadata": {
        "id": "3kquafZGDmQM",
        "colab": {
          "base_uri": "https://localhost:8080/"
        },
        "outputId": "f25def0b-502e-4e68-a479-346072cc99a0"
      },
      "source": [
        "print(f'training loss on last epoch : {train_loss[-1]}')\n",
        "print(f'validation loss on last epoch : {valid_loss[-1]}')\n",
        "print('-'*20)\n",
        "print(f'training accuracy on last epoch : {train_acc[-1]}')\n",
        "print(f'validation accuracy on last epoch : {valid_acc[-1]}')"
      ],
      "execution_count": 33,
      "outputs": [
        {
          "output_type": "stream",
          "name": "stdout",
          "text": [
            "training loss on last epoch : 0.2574162635602065\n",
            "validation loss on last epoch : 1.3700186967849732\n",
            "--------------------\n",
            "training accuracy on last epoch : 88.83578708946773\n",
            "validation accuracy on last epoch : 78.6\n"
          ]
        }
      ]
    },
    {
      "cell_type": "markdown",
      "metadata": {
        "id": "3k8vQc94EAb0"
      },
      "source": [
        "### Test the model"
      ]
    },
    {
      "cell_type": "code",
      "metadata": {
        "id": "KjLWGvDB_4lz"
      },
      "source": [
        "num_class = 2\n",
        "classes = ['SAD', 'HAPPY']"
      ],
      "execution_count": 34,
      "outputs": []
    },
    {
      "cell_type": "code",
      "metadata": {
        "id": "5rwoFmjVANTV"
      },
      "source": [
        "def test(model1, test_loader):\n",
        "  y_pred_test = []\n",
        "  y_actual_test = []\n",
        "\n",
        "  model1.eval()\n",
        "  with torch.no_grad():\n",
        "    n_true = 0\n",
        "    n_total = 0\n",
        "    n_class_correct = [0 for i in range(num_class)]\n",
        "    n_class_sample = [0 for i in range(num_class)]\n",
        "  \n",
        "    for batch in test_loader:\n",
        "\n",
        "      text, text_length = batch.preprocessing_text\n",
        "\n",
        "      output = model1(text).squeeze()\n",
        "\n",
        "      y_predtest = torch.round(output)\n",
        "\n",
        "      n_true += (y_predtest == batch.label).sum()\n",
        "      n_total += batch.label.size(0)\n",
        "\n",
        "      for i in range(len(y_predtest)):\n",
        "        y_pred_test.append(y_predtest[i])\n",
        "        y_actual_test.append(batch.label[i].item())\n",
        "\n",
        "      for i in range(len(y_predtest)):\n",
        "        lb = int(batch.label[i].item())\n",
        "        pred = y_predtest[i]\n",
        "        if pred == lb:\n",
        "          n_class_correct[lb] += 1\n",
        "        n_class_sample[lb] += 1   \n",
        "\n",
        "    print(f'accuracy of network on the {len(test_loader)} texts is : {(n_true/n_total) *100}')\n",
        "  \n",
        "    for i in range(len(classes)):\n",
        "      acc = 100.0 * n_class_correct[i] / n_class_sample[i]\n",
        "      print(f'Accuracy of {classes[i]}: {acc} %')\n",
        "  \n",
        "  return y_pred_test, y_actual_test"
      ],
      "execution_count": 35,
      "outputs": []
    },
    {
      "cell_type": "code",
      "metadata": {
        "id": "v1s7yhedDmOE",
        "colab": {
          "base_uri": "https://localhost:8080/"
        },
        "outputId": "6a2985a6-4021-4b84-dddb-ca6624b0f983"
      },
      "source": [
        "y_pred_test, y_actual_test = test(model_cnn, test_loader)"
      ],
      "execution_count": 36,
      "outputs": [
        {
          "output_type": "stream",
          "name": "stdout",
          "text": [
            "accuracy of network on the 55 texts is : 78.60724639892578\n",
            "Accuracy of SAD: 82.03661327231121 %\n",
            "Accuracy of HAPPY: 75.16508756818834 %\n"
          ]
        }
      ]
    },
    {
      "cell_type": "markdown",
      "metadata": {
        "id": "QYPI8R1NEMMd"
      },
      "source": [
        "### Confusion Matrix"
      ]
    },
    {
      "cell_type": "code",
      "metadata": {
        "id": "nPmcjSFcAF55"
      },
      "source": [
        "from sklearn import metrics \n",
        "from sklearn.metrics import classification_report\n",
        "import seaborn as sns\n",
        "\n",
        "def confusion_matrix(y_actual_test, y_pred_test):\n",
        "  \n",
        "  plt.figure(figsize = (6,5))\n",
        "  ax= plt.subplot()\n",
        "  cnf_matrix = metrics.confusion_matrix(y_actual_test, y_pred_test)\n",
        "  sns.heatmap(pd.DataFrame(cnf_matrix), annot=True, fmt='g', ax=ax);  #annot=True to annotate cells, ftm='g' to disable scientific notation\n",
        "\n",
        "  # labels, title and ticks\n",
        "  ax.set_xlabel('Predicted labels');ax.set_ylabel('Actual labels'); \n",
        "  ax.set_title('Confusion Matrix of model'); \n",
        "  class_names= [-1, 1]\n",
        "  ax.xaxis.set_ticklabels(class_names); ax.yaxis.set_ticklabels(class_names);\n",
        "  plt.tight_layout()"
      ],
      "execution_count": 37,
      "outputs": []
    },
    {
      "cell_type": "code",
      "metadata": {
        "id": "r4mGMPLAEOSQ",
        "colab": {
          "base_uri": "https://localhost:8080/",
          "height": 369
        },
        "outputId": "c93ff3af-af67-4aa6-b60c-d2bfc9e9d83d"
      },
      "source": [
        "confusion_matrix(y_actual_test, y_pred_test)"
      ],
      "execution_count": 38,
      "outputs": [
        {
          "output_type": "display_data",
          "data": {
            "image/png": "[encoded data removed]",
            "text/plain": [
              "<Figure size 432x360 with 2 Axes>"
            ]
          },
          "metadata": {
            "needs_background": "light"
          }
        }
      ]
    },
    {
      "cell_type": "code",
      "metadata": {
        "id": "WBEEzz_WEVKX",
        "colab": {
          "base_uri": "https://localhost:8080/"
        },
        "outputId": "048cbcf8-3e07-4f34-a787-ca8ddb00beff"
      },
      "source": [
        "from sklearn.metrics import classification_report\n",
        "print(classification_report(y_actual_test, y_pred_test))"
      ],
      "execution_count": 39,
      "outputs": [
        {
          "output_type": "stream",
          "name": "stdout",
          "text": [
            "              precision    recall  f1-score   support\n",
            "\n",
            "         0.0       0.77      0.82      0.79      3496\n",
            "         1.0       0.81      0.75      0.78      3483\n",
            "\n",
            "    accuracy                           0.79      6979\n",
            "   macro avg       0.79      0.79      0.79      6979\n",
            "weighted avg       0.79      0.79      0.79      6979\n",
            "\n"
          ]
        }
      ]
    }
  ]
}