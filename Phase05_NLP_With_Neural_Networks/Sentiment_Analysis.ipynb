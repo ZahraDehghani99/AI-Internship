{
  "nbformat": 4,
  "nbformat_minor": 0,
  "metadata": {
    "colab": {
      "name": "Sentiment Analysis.ipynb",
      "provenance": [],
      "collapsed_sections": [],
      "toc_visible": true
    },
    "kernelspec": {
      "name": "python3",
      "display_name": "Python 3"
    },
    "language_info": {
      "name": "python"
    }
  },
  "cells": [
    {
      "cell_type": "markdown",
      "metadata": {
        "id": "OM1_G40Rj421"
      },
      "source": [
        "# Section 2: Sentiment Analysis on SnappFood dataset"
      ]
    },
    {
      "cell_type": "markdown",
      "metadata": {
        "id": "Us_0VzIPSI2e"
      },
      "source": [
        "## Sentiment Analysis without using Neural Networks"
      ]
    },
    {
      "cell_type": "code",
      "metadata": {
        "colab": {
          "base_uri": "https://localhost:8080/"
        },
        "id": "AFq9X4RSM0_f",
        "outputId": "a573513f-16dc-465f-d998-3a9e3a25198d"
      },
      "source": [
        "!pip install parsivar"
      ],
      "execution_count": null,
      "outputs": [
        {
          "output_type": "stream",
          "text": [
            "Collecting parsivar\n",
            "  Downloading parsivar-0.2.3.tar.gz (36.2 MB)\n",
            "\u001b[K     |████████████████████████████████| 36.2 MB 57 kB/s \n",
            "\u001b[?25hCollecting nltk==3.4.5\n",
            "  Downloading nltk-3.4.5.zip (1.5 MB)\n",
            "\u001b[K     |████████████████████████████████| 1.5 MB 51.8 MB/s \n",
            "\u001b[?25hRequirement already satisfied: six in /usr/local/lib/python3.7/dist-packages (from nltk==3.4.5->parsivar) (1.15.0)\n",
            "Building wheels for collected packages: parsivar, nltk\n",
            "  Building wheel for parsivar (setup.py) ... \u001b[?25l\u001b[?25hdone\n",
            "  Created wheel for parsivar: filename=parsivar-0.2.3-py3-none-any.whl size=36492971 sha256=9eadb5bc8faf1b41f70d03c61a5e3937d765d517d4d5f8391df9d2ba0da257e3\n",
            "  Stored in directory: /root/.cache/pip/wheels/ae/67/7a/49cbf08f64d3f76a26eceaf0e481a40e233f05d4356875cbed\n",
            "  Building wheel for nltk (setup.py) ... \u001b[?25l\u001b[?25hdone\n",
            "  Created wheel for nltk: filename=nltk-3.4.5-py3-none-any.whl size=1449923 sha256=3c731beac82fa1eac0b1efd0349ee5011450e082a58ff1fabb4b06c2914695e6\n",
            "  Stored in directory: /root/.cache/pip/wheels/48/8b/7f/473521e0c731c6566d631b281f323842bbda9bd819eb9a3ead\n",
            "Successfully built parsivar nltk\n",
            "Installing collected packages: nltk, parsivar\n",
            "  Attempting uninstall: nltk\n",
            "    Found existing installation: nltk 3.2.5\n",
            "    Uninstalling nltk-3.2.5:\n",
            "      Successfully uninstalled nltk-3.2.5\n",
            "Successfully installed nltk-3.4.5 parsivar-0.2.3\n"
          ],
          "name": "stdout"
        }
      ]
    },
    {
      "cell_type": "code",
      "metadata": {
        "colab": {
          "base_uri": "https://localhost:8080/"
        },
        "id": "DuGPpua7M38A",
        "outputId": "c43c6fa8-837e-4518-9cf5-ae89199454ae"
      },
      "source": [
        "# Loading NLTk\n",
        "import nltk\n",
        "nltk.download('punkt')"
      ],
      "execution_count": null,
      "outputs": [
        {
          "output_type": "stream",
          "text": [
            "[nltk_data] Downloading package punkt to /root/nltk_data...\n",
            "[nltk_data]   Unzipping tokenizers/punkt.zip.\n"
          ],
          "name": "stderr"
        },
        {
          "output_type": "execute_result",
          "data": {
            "text/plain": [
              "True"
            ]
          },
          "metadata": {},
          "execution_count": 2
        }
      ]
    },
    {
      "cell_type": "code",
      "metadata": {
        "id": "rfeZyySLK_up"
      },
      "source": [
        "# NLP libraries\n",
        "import parsivar\n",
        "from parsivar import Normalizer, Tokenizer, FindStems, POSTagger, FindChunks\n",
        "\n",
        "# plot\n",
        "import matplotlib.pyplot as plt\n",
        "\n",
        "import pandas as pd\n",
        "import string\n",
        "import re\n",
        "import numpy as np\n",
        "np.random.seed(0)\n",
        "\n",
        "import warnings\n",
        "warnings.filterwarnings('ignore')"
      ],
      "execution_count": null,
      "outputs": []
    },
    {
      "cell_type": "markdown",
      "metadata": {
        "id": "NAA2Y-dRR_bW"
      },
      "source": [
        "### Read dataset"
      ]
    },
    {
      "cell_type": "code",
      "metadata": {
        "colab": {
          "base_uri": "https://localhost:8080/"
        },
        "id": "gQMDzvDqMpvj",
        "outputId": "c4b8db63-0f57-4c71-f283-0bdc2ba1cf9e"
      },
      "source": [
        "from google.colab import drive\n",
        "drive.mount('/content/drive')"
      ],
      "execution_count": null,
      "outputs": [
        {
          "output_type": "stream",
          "text": [
            "Mounted at /content/drive\n"
          ],
          "name": "stdout"
        }
      ]
    },
    {
      "cell_type": "markdown",
      "metadata": {
        "id": "CViIl-LdOiTP"
      },
      "source": [
        "Let's read SnappFood dataset.\n",
        "If we open these files with notepad, we see that the columns seprated by tab, so, we should specify seprator in read_csv function."
      ]
    },
    {
      "cell_type": "code",
      "metadata": {
        "colab": {
          "base_uri": "https://localhost:8080/"
        },
        "id": "oAWzDzSjPo7k",
        "outputId": "c375893c-6eca-483d-d909-d608cb9aeab2"
      },
      "source": [
        "# read csv dataset\n",
        "train = pd.read_csv('/content/drive/MyDrive/AI-Internship/snappfood/snappfood/train.csv', sep='\\t')\n",
        "valid = pd.read_csv('/content/drive/MyDrive/AI-Internship/snappfood/snappfood/dev.csv', sep='\\t')\n",
        "test = pd.read_csv('/content/drive/MyDrive/AI-Internship/snappfood/snappfood/test.csv', sep='\\t')\n",
        "\n",
        "# pritn shape of each dataset\n",
        "print(f'train_data shape : {train.shape}')\n",
        "print(f'valid_data shape : {valid.shape}')\n",
        "print(f'test_data shape : {test.shape}')"
      ],
      "execution_count": null,
      "outputs": [
        {
          "output_type": "stream",
          "text": [
            "train_data shape : (56700, 4)\n",
            "valid_data shape : (6300, 4)\n",
            "test_data shape : (7000, 4)\n"
          ],
          "name": "stdout"
        }
      ]
    },
    {
      "cell_type": "code",
      "metadata": {
        "colab": {
          "base_uri": "https://localhost:8080/",
          "height": 206
        },
        "id": "R2UXQa-jPv-Z",
        "outputId": "36075c09-7d7e-468e-c919-da25744e7f25"
      },
      "source": [
        "train.head()"
      ],
      "execution_count": null,
      "outputs": [
        {
          "output_type": "execute_result",
          "data": {
            "text/html": [
              "<div>\n",
              "<style scoped>\n",
              "    .dataframe tbody tr th:only-of-type {\n",
              "        vertical-align: middle;\n",
              "    }\n",
              "\n",
              "    .dataframe tbody tr th {\n",
              "        vertical-align: top;\n",
              "    }\n",
              "\n",
              "    .dataframe thead th {\n",
              "        text-align: right;\n",
              "    }\n",
              "</style>\n",
              "<table border=\"1\" class=\"dataframe\">\n",
              "  <thead>\n",
              "    <tr style=\"text-align: right;\">\n",
              "      <th></th>\n",
              "      <th>Unnamed: 0</th>\n",
              "      <th>comment</th>\n",
              "      <th>label</th>\n",
              "      <th>label_id</th>\n",
              "    </tr>\n",
              "  </thead>\n",
              "  <tbody>\n",
              "    <tr>\n",
              "      <th>0</th>\n",
              "      <td>0</td>\n",
              "      <td>واقعا حیف وقت که بنویسم سرویس دهیتون شده افتضاح</td>\n",
              "      <td>SAD</td>\n",
              "      <td>1</td>\n",
              "    </tr>\n",
              "    <tr>\n",
              "      <th>1</th>\n",
              "      <td>1</td>\n",
              "      <td>قرار بود ۱ ساعته برسه ولی نیم ساعت زودتر از مو...</td>\n",
              "      <td>HAPPY</td>\n",
              "      <td>0</td>\n",
              "    </tr>\n",
              "    <tr>\n",
              "      <th>2</th>\n",
              "      <td>2</td>\n",
              "      <td>قیمت این مدل اصلا با کیفیتش سازگاری نداره، فقط...</td>\n",
              "      <td>SAD</td>\n",
              "      <td>1</td>\n",
              "    </tr>\n",
              "    <tr>\n",
              "      <th>3</th>\n",
              "      <td>3</td>\n",
              "      <td>عالللی بود همه چه درست و به اندازه و کیفیت خوب...</td>\n",
              "      <td>HAPPY</td>\n",
              "      <td>0</td>\n",
              "    </tr>\n",
              "    <tr>\n",
              "      <th>4</th>\n",
              "      <td>4</td>\n",
              "      <td>شیرینی وانیلی فقط یک مدل بود.</td>\n",
              "      <td>HAPPY</td>\n",
              "      <td>0</td>\n",
              "    </tr>\n",
              "  </tbody>\n",
              "</table>\n",
              "</div>"
            ],
            "text/plain": [
              "   Unnamed: 0  ... label_id\n",
              "0           0  ...        1\n",
              "1           1  ...        0\n",
              "2           2  ...        1\n",
              "3           3  ...        0\n",
              "4           4  ...        0\n",
              "\n",
              "[5 rows x 4 columns]"
            ]
          },
          "metadata": {},
          "execution_count": 6
        }
      ]
    },
    {
      "cell_type": "code",
      "metadata": {
        "colab": {
          "base_uri": "https://localhost:8080/",
          "height": 206
        },
        "id": "sAGZFjRV2UqN",
        "outputId": "99db8d50-6afc-4792-d8e0-3151d1f42052"
      },
      "source": [
        "valid.head()"
      ],
      "execution_count": null,
      "outputs": [
        {
          "output_type": "execute_result",
          "data": {
            "text/html": [
              "<div>\n",
              "<style scoped>\n",
              "    .dataframe tbody tr th:only-of-type {\n",
              "        vertical-align: middle;\n",
              "    }\n",
              "\n",
              "    .dataframe tbody tr th {\n",
              "        vertical-align: top;\n",
              "    }\n",
              "\n",
              "    .dataframe thead th {\n",
              "        text-align: right;\n",
              "    }\n",
              "</style>\n",
              "<table border=\"1\" class=\"dataframe\">\n",
              "  <thead>\n",
              "    <tr style=\"text-align: right;\">\n",
              "      <th></th>\n",
              "      <th>Unnamed: 0</th>\n",
              "      <th>comment</th>\n",
              "      <th>label</th>\n",
              "      <th>label_id</th>\n",
              "    </tr>\n",
              "  </thead>\n",
              "  <tbody>\n",
              "    <tr>\n",
              "      <th>0</th>\n",
              "      <td>0</td>\n",
              "      <td>همه ساندویچ‌ها سرد بود متاسفانه در صورتی که فا...</td>\n",
              "      <td>SAD</td>\n",
              "      <td>1</td>\n",
              "    </tr>\n",
              "    <tr>\n",
              "      <th>1</th>\n",
              "      <td>1</td>\n",
              "      <td>تشکر، عالی‌تر از همیشه</td>\n",
              "      <td>HAPPY</td>\n",
              "      <td>0</td>\n",
              "    </tr>\n",
              "    <tr>\n",
              "      <th>2</th>\n",
              "      <td>2</td>\n",
              "      <td>مرغ و کدو رو دوس نداشتم ولی کلا ساندویچهای خوش...</td>\n",
              "      <td>HAPPY</td>\n",
              "      <td>0</td>\n",
              "    </tr>\n",
              "    <tr>\n",
              "      <th>3</th>\n",
              "      <td>3</td>\n",
              "      <td>نمیدونم هزینه بسته بندی به چه دلیل گرفته شد؟؟؟</td>\n",
              "      <td>SAD</td>\n",
              "      <td>1</td>\n",
              "    </tr>\n",
              "    <tr>\n",
              "      <th>4</th>\n",
              "      <td>4</td>\n",
              "      <td>یک نوشابه کم ارسال شد و تاخیر فراوان و غذای نس...</td>\n",
              "      <td>SAD</td>\n",
              "      <td>1</td>\n",
              "    </tr>\n",
              "  </tbody>\n",
              "</table>\n",
              "</div>"
            ],
            "text/plain": [
              "   Unnamed: 0  ... label_id\n",
              "0           0  ...        1\n",
              "1           1  ...        0\n",
              "2           2  ...        0\n",
              "3           3  ...        1\n",
              "4           4  ...        1\n",
              "\n",
              "[5 rows x 4 columns]"
            ]
          },
          "metadata": {},
          "execution_count": 7
        }
      ]
    },
    {
      "cell_type": "code",
      "metadata": {
        "colab": {
          "base_uri": "https://localhost:8080/",
          "height": 206
        },
        "id": "KXaxJFcB2X2M",
        "outputId": "2fc393a1-84fa-4737-9393-e4848bb8d75b"
      },
      "source": [
        "test.head()"
      ],
      "execution_count": null,
      "outputs": [
        {
          "output_type": "execute_result",
          "data": {
            "text/html": [
              "<div>\n",
              "<style scoped>\n",
              "    .dataframe tbody tr th:only-of-type {\n",
              "        vertical-align: middle;\n",
              "    }\n",
              "\n",
              "    .dataframe tbody tr th {\n",
              "        vertical-align: top;\n",
              "    }\n",
              "\n",
              "    .dataframe thead th {\n",
              "        text-align: right;\n",
              "    }\n",
              "</style>\n",
              "<table border=\"1\" class=\"dataframe\">\n",
              "  <thead>\n",
              "    <tr style=\"text-align: right;\">\n",
              "      <th></th>\n",
              "      <th>Unnamed: 0</th>\n",
              "      <th>comment</th>\n",
              "      <th>label</th>\n",
              "      <th>label_id</th>\n",
              "    </tr>\n",
              "  </thead>\n",
              "  <tbody>\n",
              "    <tr>\n",
              "      <th>0</th>\n",
              "      <td>0</td>\n",
              "      <td>خواهشا خواهشا خواهشا واسه ارسال شیرینیها یه فک...</td>\n",
              "      <td>HAPPY</td>\n",
              "      <td>0</td>\n",
              "    </tr>\n",
              "    <tr>\n",
              "      <th>1</th>\n",
              "      <td>1</td>\n",
              "      <td>غذا گرم رسید کیفیت و پخت گوشت عالی بود</td>\n",
              "      <td>HAPPY</td>\n",
              "      <td>0</td>\n",
              "    </tr>\n",
              "    <tr>\n",
              "      <th>2</th>\n",
              "      <td>2</td>\n",
              "      <td>قیمت سس شکلات روی بسته بندی ۱۵۰۰۰ بود ولی قیمت...</td>\n",
              "      <td>SAD</td>\n",
              "      <td>1</td>\n",
              "    </tr>\n",
              "    <tr>\n",
              "      <th>3</th>\n",
              "      <td>3</td>\n",
              "      <td>عکس توی پیج یه شیرینی شکری روشن رنگ هست که همم...</td>\n",
              "      <td>SAD</td>\n",
              "      <td>1</td>\n",
              "    </tr>\n",
              "    <tr>\n",
              "      <th>4</th>\n",
              "      <td>4</td>\n",
              "      <td>باز هم میگم، پیتزا نباید اینقد چرب باشه</td>\n",
              "      <td>SAD</td>\n",
              "      <td>1</td>\n",
              "    </tr>\n",
              "  </tbody>\n",
              "</table>\n",
              "</div>"
            ],
            "text/plain": [
              "   Unnamed: 0  ... label_id\n",
              "0           0  ...        0\n",
              "1           1  ...        0\n",
              "2           2  ...        1\n",
              "3           3  ...        1\n",
              "4           4  ...        1\n",
              "\n",
              "[5 rows x 4 columns]"
            ]
          },
          "metadata": {},
          "execution_count": 8
        }
      ]
    },
    {
      "cell_type": "markdown",
      "metadata": {
        "id": "-pfmAqiY_FQH"
      },
      "source": [
        "### Data Cleaning"
      ]
    },
    {
      "cell_type": "markdown",
      "metadata": {
        "id": "SFucAgp52ji-"
      },
      "source": [
        "#### Remove irrelevant columns"
      ]
    },
    {
      "cell_type": "markdown",
      "metadata": {
        "id": "XlC2ju-p2t2z"
      },
      "source": [
        "Now we should remove irrelevant columns in each dataset."
      ]
    },
    {
      "cell_type": "code",
      "metadata": {
        "id": "9mX_QI032tEM"
      },
      "source": [
        "train_data = train.copy()\n",
        "valid_data = valid.copy()\n",
        "test_data = test.copy()\n",
        "\n",
        "train_data.drop(labels=['Unnamed: 0','label'], axis=1, inplace=True) # remove useless columns\n",
        "valid_data.drop(labels=['Unnamed: 0','label'], axis=1, inplace=True) # remove useless columns\n",
        "test_data.drop(labels=['Unnamed: 0','label'], axis=1, inplace=True) # remove useless columns"
      ],
      "execution_count": null,
      "outputs": []
    },
    {
      "cell_type": "code",
      "metadata": {
        "colab": {
          "base_uri": "https://localhost:8080/"
        },
        "id": "MWV3qKZF5DM1",
        "outputId": "71afec50-c963-457d-fae7-e87cb3f8080d"
      },
      "source": [
        "print(f'train_data shape : {train_data.shape}')\n",
        "print(f'valid_data shape : {valid_data.shape}')\n",
        "print(f'test_data shape : {test_data.shape}')"
      ],
      "execution_count": null,
      "outputs": [
        {
          "output_type": "stream",
          "text": [
            "train_data shape : (56700, 2)\n",
            "valid_data shape : (6300, 2)\n",
            "test_data shape : (7000, 2)\n"
          ],
          "name": "stdout"
        }
      ]
    },
    {
      "cell_type": "code",
      "metadata": {
        "colab": {
          "base_uri": "https://localhost:8080/",
          "height": 206
        },
        "id": "zJUPyrQr5Fdc",
        "outputId": "4a96a050-4295-4c74-8803-824a89fcd244"
      },
      "source": [
        "train_data.head()"
      ],
      "execution_count": null,
      "outputs": [
        {
          "output_type": "execute_result",
          "data": {
            "text/html": [
              "<div>\n",
              "<style scoped>\n",
              "    .dataframe tbody tr th:only-of-type {\n",
              "        vertical-align: middle;\n",
              "    }\n",
              "\n",
              "    .dataframe tbody tr th {\n",
              "        vertical-align: top;\n",
              "    }\n",
              "\n",
              "    .dataframe thead th {\n",
              "        text-align: right;\n",
              "    }\n",
              "</style>\n",
              "<table border=\"1\" class=\"dataframe\">\n",
              "  <thead>\n",
              "    <tr style=\"text-align: right;\">\n",
              "      <th></th>\n",
              "      <th>comment</th>\n",
              "      <th>label_id</th>\n",
              "    </tr>\n",
              "  </thead>\n",
              "  <tbody>\n",
              "    <tr>\n",
              "      <th>0</th>\n",
              "      <td>واقعا حیف وقت که بنویسم سرویس دهیتون شده افتضاح</td>\n",
              "      <td>1</td>\n",
              "    </tr>\n",
              "    <tr>\n",
              "      <th>1</th>\n",
              "      <td>قرار بود ۱ ساعته برسه ولی نیم ساعت زودتر از مو...</td>\n",
              "      <td>0</td>\n",
              "    </tr>\n",
              "    <tr>\n",
              "      <th>2</th>\n",
              "      <td>قیمت این مدل اصلا با کیفیتش سازگاری نداره، فقط...</td>\n",
              "      <td>1</td>\n",
              "    </tr>\n",
              "    <tr>\n",
              "      <th>3</th>\n",
              "      <td>عالللی بود همه چه درست و به اندازه و کیفیت خوب...</td>\n",
              "      <td>0</td>\n",
              "    </tr>\n",
              "    <tr>\n",
              "      <th>4</th>\n",
              "      <td>شیرینی وانیلی فقط یک مدل بود.</td>\n",
              "      <td>0</td>\n",
              "    </tr>\n",
              "  </tbody>\n",
              "</table>\n",
              "</div>"
            ],
            "text/plain": [
              "                                             comment  label_id\n",
              "0    واقعا حیف وقت که بنویسم سرویس دهیتون شده افتضاح         1\n",
              "1  قرار بود ۱ ساعته برسه ولی نیم ساعت زودتر از مو...         0\n",
              "2  قیمت این مدل اصلا با کیفیتش سازگاری نداره، فقط...         1\n",
              "3  عالللی بود همه چه درست و به اندازه و کیفیت خوب...         0\n",
              "4                      شیرینی وانیلی فقط یک مدل بود.         0"
            ]
          },
          "metadata": {},
          "execution_count": 11
        }
      ]
    },
    {
      "cell_type": "markdown",
      "metadata": {
        "id": "a-DDP3QZ-7rR"
      },
      "source": [
        "#### Change header name"
      ]
    },
    {
      "cell_type": "code",
      "metadata": {
        "id": "goHntLym80Ta"
      },
      "source": [
        "#change header name\n",
        "train_data.columns = ['comment','label']\n",
        "valid_data.columns = ['comment','label']\n",
        "test_data.columns = ['comment','label']"
      ],
      "execution_count": null,
      "outputs": []
    },
    {
      "cell_type": "code",
      "metadata": {
        "colab": {
          "base_uri": "https://localhost:8080/",
          "height": 206
        },
        "id": "ur4465Vd-MvX",
        "outputId": "6a70b169-630b-4c7f-af15-1d021caa3d11"
      },
      "source": [
        "train_data.head()"
      ],
      "execution_count": null,
      "outputs": [
        {
          "output_type": "execute_result",
          "data": {
            "text/html": [
              "<div>\n",
              "<style scoped>\n",
              "    .dataframe tbody tr th:only-of-type {\n",
              "        vertical-align: middle;\n",
              "    }\n",
              "\n",
              "    .dataframe tbody tr th {\n",
              "        vertical-align: top;\n",
              "    }\n",
              "\n",
              "    .dataframe thead th {\n",
              "        text-align: right;\n",
              "    }\n",
              "</style>\n",
              "<table border=\"1\" class=\"dataframe\">\n",
              "  <thead>\n",
              "    <tr style=\"text-align: right;\">\n",
              "      <th></th>\n",
              "      <th>comment</th>\n",
              "      <th>label</th>\n",
              "    </tr>\n",
              "  </thead>\n",
              "  <tbody>\n",
              "    <tr>\n",
              "      <th>0</th>\n",
              "      <td>واقعا حیف وقت که بنویسم سرویس دهیتون شده افتضاح</td>\n",
              "      <td>1</td>\n",
              "    </tr>\n",
              "    <tr>\n",
              "      <th>1</th>\n",
              "      <td>قرار بود ۱ ساعته برسه ولی نیم ساعت زودتر از مو...</td>\n",
              "      <td>0</td>\n",
              "    </tr>\n",
              "    <tr>\n",
              "      <th>2</th>\n",
              "      <td>قیمت این مدل اصلا با کیفیتش سازگاری نداره، فقط...</td>\n",
              "      <td>1</td>\n",
              "    </tr>\n",
              "    <tr>\n",
              "      <th>3</th>\n",
              "      <td>عالللی بود همه چه درست و به اندازه و کیفیت خوب...</td>\n",
              "      <td>0</td>\n",
              "    </tr>\n",
              "    <tr>\n",
              "      <th>4</th>\n",
              "      <td>شیرینی وانیلی فقط یک مدل بود.</td>\n",
              "      <td>0</td>\n",
              "    </tr>\n",
              "  </tbody>\n",
              "</table>\n",
              "</div>"
            ],
            "text/plain": [
              "                                             comment  label\n",
              "0    واقعا حیف وقت که بنویسم سرویس دهیتون شده افتضاح      1\n",
              "1  قرار بود ۱ ساعته برسه ولی نیم ساعت زودتر از مو...      0\n",
              "2  قیمت این مدل اصلا با کیفیتش سازگاری نداره، فقط...      1\n",
              "3  عالللی بود همه چه درست و به اندازه و کیفیت خوب...      0\n",
              "4                      شیرینی وانیلی فقط یک مدل بود.      0"
            ]
          },
          "metadata": {},
          "execution_count": 13
        }
      ]
    },
    {
      "cell_type": "markdown",
      "metadata": {
        "id": "N2V2v29kBTgl"
      },
      "source": [
        "Because we want to use the polarity of each word, we should change the label from 1 to -1 (for negative comments) and change the label from 0 to 1 (for positive comments)."
      ]
    },
    {
      "cell_type": "code",
      "metadata": {
        "id": "UrIHsPviAFjv"
      },
      "source": [
        "# 0 means HAPPY and 1 means SAD\n",
        "train_data.label[train_data.label == 1] = -1\n",
        "train_data.label[train_data.label == 0] = 1\n",
        "\n",
        "valid_data.label[valid_data.label == 1] = -1\n",
        "valid_data.label[valid_data.label == 0] = 1\n",
        "\n",
        "test_data.label[test_data.label == 1] = -1\n",
        "test_data.label[test_data.label == 0] = 1"
      ],
      "execution_count": null,
      "outputs": []
    },
    {
      "cell_type": "code",
      "metadata": {
        "colab": {
          "base_uri": "https://localhost:8080/",
          "height": 206
        },
        "id": "EqzlMiIICUtP",
        "outputId": "e2f5d9b2-805e-4d5f-c0bd-7ac905ed6c16"
      },
      "source": [
        "train_data.head()"
      ],
      "execution_count": null,
      "outputs": [
        {
          "output_type": "execute_result",
          "data": {
            "text/html": [
              "<div>\n",
              "<style scoped>\n",
              "    .dataframe tbody tr th:only-of-type {\n",
              "        vertical-align: middle;\n",
              "    }\n",
              "\n",
              "    .dataframe tbody tr th {\n",
              "        vertical-align: top;\n",
              "    }\n",
              "\n",
              "    .dataframe thead th {\n",
              "        text-align: right;\n",
              "    }\n",
              "</style>\n",
              "<table border=\"1\" class=\"dataframe\">\n",
              "  <thead>\n",
              "    <tr style=\"text-align: right;\">\n",
              "      <th></th>\n",
              "      <th>comment</th>\n",
              "      <th>label</th>\n",
              "    </tr>\n",
              "  </thead>\n",
              "  <tbody>\n",
              "    <tr>\n",
              "      <th>0</th>\n",
              "      <td>واقعا حیف وقت که بنویسم سرویس دهیتون شده افتضاح</td>\n",
              "      <td>-1</td>\n",
              "    </tr>\n",
              "    <tr>\n",
              "      <th>1</th>\n",
              "      <td>قرار بود ۱ ساعته برسه ولی نیم ساعت زودتر از مو...</td>\n",
              "      <td>1</td>\n",
              "    </tr>\n",
              "    <tr>\n",
              "      <th>2</th>\n",
              "      <td>قیمت این مدل اصلا با کیفیتش سازگاری نداره، فقط...</td>\n",
              "      <td>-1</td>\n",
              "    </tr>\n",
              "    <tr>\n",
              "      <th>3</th>\n",
              "      <td>عالللی بود همه چه درست و به اندازه و کیفیت خوب...</td>\n",
              "      <td>1</td>\n",
              "    </tr>\n",
              "    <tr>\n",
              "      <th>4</th>\n",
              "      <td>شیرینی وانیلی فقط یک مدل بود.</td>\n",
              "      <td>1</td>\n",
              "    </tr>\n",
              "  </tbody>\n",
              "</table>\n",
              "</div>"
            ],
            "text/plain": [
              "                                             comment  label\n",
              "0    واقعا حیف وقت که بنویسم سرویس دهیتون شده افتضاح     -1\n",
              "1  قرار بود ۱ ساعته برسه ولی نیم ساعت زودتر از مو...      1\n",
              "2  قیمت این مدل اصلا با کیفیتش سازگاری نداره، فقط...     -1\n",
              "3  عالللی بود همه چه درست و به اندازه و کیفیت خوب...      1\n",
              "4                      شیرینی وانیلی فقط یک مدل بود.      1"
            ]
          },
          "metadata": {},
          "execution_count": 15
        }
      ]
    },
    {
      "cell_type": "markdown",
      "metadata": {
        "id": "_0DtzAlv_pHu"
      },
      "source": [
        "###EDA"
      ]
    },
    {
      "cell_type": "markdown",
      "metadata": {
        "id": "n8QpENV6_0Yc"
      },
      "source": [
        "Description of each columns:\n",
        "\n",
        "\n",
        "*   comment : people's opinion about food and restaurant\n",
        "*   label : 1 means positive comment and -1 means negative comment\n",
        "\n",
        "\n",
        "\n"
      ]
    },
    {
      "cell_type": "markdown",
      "metadata": {
        "id": "nqa15zzGONOI"
      },
      "source": [
        "In the beginning, we should check the existence of null data to treat them."
      ]
    },
    {
      "cell_type": "code",
      "metadata": {
        "colab": {
          "base_uri": "https://localhost:8080/"
        },
        "id": "zy6YT_WY-23D",
        "outputId": "c5726549-fc54-420e-b6a1-3c1410a718b0"
      },
      "source": [
        "train_data.info()"
      ],
      "execution_count": null,
      "outputs": [
        {
          "output_type": "stream",
          "text": [
            "<class 'pandas.core.frame.DataFrame'>\n",
            "RangeIndex: 56700 entries, 0 to 56699\n",
            "Data columns (total 2 columns):\n",
            " #   Column   Non-Null Count  Dtype \n",
            "---  ------   --------------  ----- \n",
            " 0   comment  56700 non-null  object\n",
            " 1   label    56700 non-null  int64 \n",
            "dtypes: int64(1), object(1)\n",
            "memory usage: 886.1+ KB\n"
          ],
          "name": "stdout"
        }
      ]
    },
    {
      "cell_type": "code",
      "metadata": {
        "colab": {
          "base_uri": "https://localhost:8080/"
        },
        "id": "OSm7Yh8fMY0f",
        "outputId": "e9088beb-ab9c-4282-f054-99ba59a652f6"
      },
      "source": [
        "train_data.isnull().sum()"
      ],
      "execution_count": null,
      "outputs": [
        {
          "output_type": "execute_result",
          "data": {
            "text/plain": [
              "comment    0\n",
              "label      0\n",
              "dtype: int64"
            ]
          },
          "metadata": {},
          "execution_count": 17
        }
      ]
    },
    {
      "cell_type": "code",
      "metadata": {
        "colab": {
          "base_uri": "https://localhost:8080/"
        },
        "id": "Yk-rre5WMhbn",
        "outputId": "5bc20590-2ace-4654-90f0-f6886dcd2de8"
      },
      "source": [
        "valid_data.info()"
      ],
      "execution_count": null,
      "outputs": [
        {
          "output_type": "stream",
          "text": [
            "<class 'pandas.core.frame.DataFrame'>\n",
            "RangeIndex: 6300 entries, 0 to 6299\n",
            "Data columns (total 2 columns):\n",
            " #   Column   Non-Null Count  Dtype \n",
            "---  ------   --------------  ----- \n",
            " 0   comment  6300 non-null   object\n",
            " 1   label    6300 non-null   int64 \n",
            "dtypes: int64(1), object(1)\n",
            "memory usage: 98.6+ KB\n"
          ],
          "name": "stdout"
        }
      ]
    },
    {
      "cell_type": "code",
      "metadata": {
        "colab": {
          "base_uri": "https://localhost:8080/"
        },
        "id": "gqjZQM0EMkZJ",
        "outputId": "12601f33-762f-42d4-c97c-7037cd9a7df0"
      },
      "source": [
        "valid_data.isnull().sum()"
      ],
      "execution_count": null,
      "outputs": [
        {
          "output_type": "execute_result",
          "data": {
            "text/plain": [
              "comment    0\n",
              "label      0\n",
              "dtype: int64"
            ]
          },
          "metadata": {},
          "execution_count": 19
        }
      ]
    },
    {
      "cell_type": "code",
      "metadata": {
        "colab": {
          "base_uri": "https://localhost:8080/"
        },
        "id": "WGpfkQZlMojs",
        "outputId": "5c59e3f4-9814-4de9-e231-a954e192ab3a"
      },
      "source": [
        "test_data.info()"
      ],
      "execution_count": null,
      "outputs": [
        {
          "output_type": "stream",
          "text": [
            "<class 'pandas.core.frame.DataFrame'>\n",
            "RangeIndex: 7000 entries, 0 to 6999\n",
            "Data columns (total 2 columns):\n",
            " #   Column   Non-Null Count  Dtype \n",
            "---  ------   --------------  ----- \n",
            " 0   comment  7000 non-null   object\n",
            " 1   label    7000 non-null   int64 \n",
            "dtypes: int64(1), object(1)\n",
            "memory usage: 109.5+ KB\n"
          ],
          "name": "stdout"
        }
      ]
    },
    {
      "cell_type": "code",
      "metadata": {
        "colab": {
          "base_uri": "https://localhost:8080/"
        },
        "id": "66t7T-P0MsQu",
        "outputId": "abe8f012-7da9-4857-f9ab-c2462b9abb8b"
      },
      "source": [
        "test_data.isnull().sum()"
      ],
      "execution_count": null,
      "outputs": [
        {
          "output_type": "execute_result",
          "data": {
            "text/plain": [
              "comment    0\n",
              "label      0\n",
              "dtype: int64"
            ]
          },
          "metadata": {},
          "execution_count": 21
        }
      ]
    },
    {
      "cell_type": "markdown",
      "metadata": {
        "id": "C65m45dkOn9Z"
      },
      "source": [
        "As wee saw, we don't have null data in train, valid and test data."
      ]
    },
    {
      "cell_type": "markdown",
      "metadata": {
        "id": "eUL0IrhoOGJe"
      },
      "source": [
        "Let's see distribution of train, valid and test dataset."
      ]
    },
    {
      "cell_type": "code",
      "metadata": {
        "colab": {
          "base_uri": "https://localhost:8080/"
        },
        "id": "WKhVhurlPy8X",
        "outputId": "069bbef2-b2dc-4994-cd9d-f2135bebfdc1"
      },
      "source": [
        "train_data.label.value_counts()"
      ],
      "execution_count": null,
      "outputs": [
        {
          "output_type": "execute_result",
          "data": {
            "text/plain": [
              "-1    28350\n",
              " 1    28350\n",
              "Name: label, dtype: int64"
            ]
          },
          "metadata": {},
          "execution_count": 22
        }
      ]
    },
    {
      "cell_type": "code",
      "metadata": {
        "colab": {
          "base_uri": "https://localhost:8080/",
          "height": 295
        },
        "id": "hc6fguubQC54",
        "outputId": "24df980e-d69d-4a7c-ad38-2ba94c7950ff"
      },
      "source": [
        "# distribution of data in each class\n",
        "distribution = list(train_data.label.value_counts())\n",
        "\n",
        "import matplotlib.pyplot as plt\n",
        "plt.bar(['-1', '1'] ,distribution)\n",
        "plt.xlabel(\"Label\")\n",
        "plt.ylabel(\"Number of Comments\")\n",
        "plt.title(\"Distribution of train data in each class in SnappFood\")\n",
        "plt.show()"
      ],
      "execution_count": null,
      "outputs": [
        {
          "output_type": "display_data",
          "data": {
            "image/png": "[encoded data removed]",
            "text/plain": [
              "<Figure size 432x288 with 1 Axes>"
            ]
          },
          "metadata": {
            "needs_background": "light"
          }
        }
      ]
    },
    {
      "cell_type": "markdown",
      "metadata": {
        "id": "wbi4vm8tQRNo"
      },
      "source": [
        "Let's print one example of each class.\n"
      ]
    },
    {
      "cell_type": "code",
      "metadata": {
        "colab": {
          "base_uri": "https://localhost:8080/",
          "height": 36
        },
        "id": "YP7uykFvQQdl",
        "outputId": "9f26394c-008b-4876-ee07-200d171c75ed"
      },
      "source": [
        "# sample happy comment\n",
        "train_data[train_data['label']==1].sample(n=1)['comment'].iloc[0]"
      ],
      "execution_count": null,
      "outputs": [
        {
          "output_type": "execute_result",
          "data": {
            "application/vnd.google.colaboratory.intrinsic+json": {
              "type": "string"
            },
            "text/plain": [
              "'خوب بود ولی اگر شیرینی کمتری داشته باشد بهتر می\\u200cباشد.'"
            ]
          },
          "metadata": {},
          "execution_count": 24
        }
      ]
    },
    {
      "cell_type": "markdown",
      "metadata": {
        "id": "E3zGQ7RIaHwG"
      },
      "source": [
        "If in text preprocessing fuction, we replace half-space with ' ' we have better representation of sentence."
      ]
    },
    {
      "cell_type": "code",
      "metadata": {
        "colab": {
          "base_uri": "https://localhost:8080/",
          "height": 36
        },
        "id": "Tu_-i5SsYhdQ",
        "outputId": "101e60e5-0eae-41d1-8571-c93e222902fa"
      },
      "source": [
        "review = 'خوب بود ولی اگر شیرینی کمتری داشته باشد بهتر می‌باشد.'\n",
        "review =  re.sub('\\u200c', ' ',review)\n",
        "review"
      ],
      "execution_count": null,
      "outputs": [
        {
          "output_type": "execute_result",
          "data": {
            "application/vnd.google.colaboratory.intrinsic+json": {
              "type": "string"
            },
            "text/plain": [
              "'خوب بود ولی اگر شیرینی کمتری داشته باشد بهتر می باشد.'"
            ]
          },
          "metadata": {},
          "execution_count": 25
        }
      ]
    },
    {
      "cell_type": "markdown",
      "metadata": {
        "id": "No__UdZKQ63r"
      },
      "source": [
        "\\u200c represents half-space between 'می' and 'باشد'."
      ]
    },
    {
      "cell_type": "code",
      "metadata": {
        "colab": {
          "base_uri": "https://localhost:8080/",
          "height": 36
        },
        "id": "2JEiUzI_Qztm",
        "outputId": "147c9b3e-71c1-495d-cb81-89e1e8d2325b"
      },
      "source": [
        "# sample sad comment\n",
        "train_data[train_data['label']==-1].sample(n=1)['comment'].iloc[0]"
      ],
      "execution_count": null,
      "outputs": [
        {
          "output_type": "execute_result",
          "data": {
            "application/vnd.google.colaboratory.intrinsic+json": {
              "type": "string"
            },
            "text/plain": [
              "'پیتزا اصلا با کیفیت نبود.'"
            ]
          },
          "metadata": {},
          "execution_count": 26
        }
      ]
    },
    {
      "cell_type": "code",
      "metadata": {
        "colab": {
          "base_uri": "https://localhost:8080/"
        },
        "id": "-iRkaqvtNl3v",
        "outputId": "e2d654ce-07bf-47f9-c27f-ef08f9a60679"
      },
      "source": [
        "valid_data.label.value_counts()"
      ],
      "execution_count": null,
      "outputs": [
        {
          "output_type": "execute_result",
          "data": {
            "text/plain": [
              "-1    3150\n",
              " 1    3150\n",
              "Name: label, dtype: int64"
            ]
          },
          "metadata": {},
          "execution_count": 27
        }
      ]
    },
    {
      "cell_type": "code",
      "metadata": {
        "colab": {
          "base_uri": "https://localhost:8080/",
          "height": 295
        },
        "id": "xk8po32hNqCx",
        "outputId": "a61e5d85-6f44-493a-ac92-3d58ebc1015f"
      },
      "source": [
        "# distribution of data in each class\n",
        "distribution = list(valid_data.label.value_counts())\n",
        "\n",
        "import matplotlib.pyplot as plt\n",
        "plt.bar(['-1', '1'] ,distribution)\n",
        "plt.xlabel(\"Label\")\n",
        "plt.ylabel(\"Number of Comments\")\n",
        "plt.title(\"Distribution of valid data in each class in SnappFood\")\n",
        "plt.show()"
      ],
      "execution_count": null,
      "outputs": [
        {
          "output_type": "display_data",
          "data": {
            "image/png": "[encoded data removed]",
            "text/plain": [
              "<Figure size 432x288 with 1 Axes>"
            ]
          },
          "metadata": {
            "needs_background": "light"
          }
        }
      ]
    },
    {
      "cell_type": "code",
      "metadata": {
        "colab": {
          "base_uri": "https://localhost:8080/"
        },
        "id": "Gb3AHSc5PDCY",
        "outputId": "1af87e3f-eb66-469b-e20a-8e25c1c95883"
      },
      "source": [
        "test_data.label.value_counts()"
      ],
      "execution_count": null,
      "outputs": [
        {
          "output_type": "execute_result",
          "data": {
            "text/plain": [
              "-1    3500\n",
              " 1    3500\n",
              "Name: label, dtype: int64"
            ]
          },
          "metadata": {},
          "execution_count": 29
        }
      ]
    },
    {
      "cell_type": "code",
      "metadata": {
        "colab": {
          "base_uri": "https://localhost:8080/",
          "height": 295
        },
        "id": "UYr-1rUIPKOa",
        "outputId": "a14fe218-ecf0-48e6-b220-95e4756365d0"
      },
      "source": [
        "# distribution of data in each class\n",
        "distribution = list(test_data.label.value_counts())\n",
        "\n",
        "import matplotlib.pyplot as plt\n",
        "plt.bar(['-1', '1'] ,distribution)\n",
        "plt.xlabel(\"Label\")\n",
        "plt.ylabel(\"Number of Comments\")\n",
        "plt.title(\"Distribution of test data in each class in SnappFood\")\n",
        "plt.show()"
      ],
      "execution_count": null,
      "outputs": [
        {
          "output_type": "display_data",
          "data": {
            "image/png": "[encoded data removed]",
            "text/plain": [
              "<Figure size 432x288 with 1 Axes>"
            ]
          },
          "metadata": {
            "needs_background": "light"
          }
        }
      ]
    },
    {
      "cell_type": "markdown",
      "metadata": {
        "id": "nDsTmNZ3PTPH"
      },
      "source": [
        "As we saw, we have balaced data."
      ]
    },
    {
      "cell_type": "markdown",
      "metadata": {
        "id": "vyXxYZviVakA"
      },
      "source": [
        "Before we start doing sentiment analysis, we should read the PerSent.xlsx file that contains the word and polarity of each word."
      ]
    },
    {
      "cell_type": "code",
      "metadata": {
        "id": "eNNe9F_OQbcn"
      },
      "source": [
        "from pandas import read_excel\n",
        "\n",
        "my_sheet = 'Dataset' # change it to your sheet name, you can find your sheet name at the bottom left of your excel file\n",
        "file_name = r'/content/drive/MyDrive/AI-Internship/PerSent.xlsx' \n",
        "persent = read_excel(file_name, sheet_name = my_sheet)"
      ],
      "execution_count": null,
      "outputs": []
    },
    {
      "cell_type": "code",
      "metadata": {
        "colab": {
          "base_uri": "https://localhost:8080/",
          "height": 206
        },
        "id": "J6jpUB34WNUL",
        "outputId": "78ca7a3f-c295-42f1-d14a-79e1a1f3f232"
      },
      "source": [
        "persent.head()"
      ],
      "execution_count": null,
      "outputs": [
        {
          "output_type": "execute_result",
          "data": {
            "text/html": [
              "<div>\n",
              "<style scoped>\n",
              "    .dataframe tbody tr th:only-of-type {\n",
              "        vertical-align: middle;\n",
              "    }\n",
              "\n",
              "    .dataframe tbody tr th {\n",
              "        vertical-align: top;\n",
              "    }\n",
              "\n",
              "    .dataframe thead th {\n",
              "        text-align: right;\n",
              "    }\n",
              "</style>\n",
              "<table border=\"1\" class=\"dataframe\">\n",
              "  <thead>\n",
              "    <tr style=\"text-align: right;\">\n",
              "      <th></th>\n",
              "      <th>Words</th>\n",
              "      <th>POS</th>\n",
              "      <th>Polarity</th>\n",
              "    </tr>\n",
              "  </thead>\n",
              "  <tbody>\n",
              "    <tr>\n",
              "      <th>0</th>\n",
              "      <td>خوب</td>\n",
              "      <td>Adj</td>\n",
              "      <td>0.70</td>\n",
              "    </tr>\n",
              "    <tr>\n",
              "      <th>1</th>\n",
              "      <td>بد</td>\n",
              "      <td>Adj</td>\n",
              "      <td>-0.69</td>\n",
              "    </tr>\n",
              "    <tr>\n",
              "      <th>2</th>\n",
              "      <td>درست</td>\n",
              "      <td>Adj</td>\n",
              "      <td>0.00</td>\n",
              "    </tr>\n",
              "    <tr>\n",
              "      <th>3</th>\n",
              "      <td>غلط</td>\n",
              "      <td>Adj</td>\n",
              "      <td>-0.50</td>\n",
              "    </tr>\n",
              "    <tr>\n",
              "      <th>4</th>\n",
              "      <td>زیبا</td>\n",
              "      <td>Adj</td>\n",
              "      <td>0.00</td>\n",
              "    </tr>\n",
              "  </tbody>\n",
              "</table>\n",
              "</div>"
            ],
            "text/plain": [
              "  Words  POS  Polarity\n",
              "0   خوب  Adj      0.70\n",
              "1    بد  Adj     -0.69\n",
              "2  درست  Adj      0.00\n",
              "3   غلط  Adj     -0.50\n",
              "4  زیبا  Adj      0.00"
            ]
          },
          "metadata": {},
          "execution_count": 6
        }
      ]
    },
    {
      "cell_type": "code",
      "metadata": {
        "colab": {
          "base_uri": "https://localhost:8080/"
        },
        "id": "us4ZBK0CWlwA",
        "outputId": "d9b03102-ee48-41ed-ed1a-e9a581b240bd"
      },
      "source": [
        "persent.shape"
      ],
      "execution_count": null,
      "outputs": [
        {
          "output_type": "execute_result",
          "data": {
            "text/plain": [
              "(1490, 3)"
            ]
          },
          "metadata": {},
          "execution_count": 7
        }
      ]
    },
    {
      "cell_type": "code",
      "metadata": {
        "colab": {
          "base_uri": "https://localhost:8080/",
          "height": 36
        },
        "id": "fizgt5R1Wpnd",
        "outputId": "1fa12bf3-8ee0-4536-fbcb-63a92e394592"
      },
      "source": [
        "persent.Words[774]"
      ],
      "execution_count": null,
      "outputs": [
        {
          "output_type": "execute_result",
          "data": {
            "application/vnd.google.colaboratory.intrinsic+json": {
              "type": "string"
            },
            "text/plain": [
              "'ته دوزی'"
            ]
          },
          "metadata": {},
          "execution_count": 8
        }
      ]
    },
    {
      "cell_type": "markdown",
      "metadata": {
        "id": "oXmClodKcsvh"
      },
      "source": [
        "### Text preprocessing\n"
      ]
    },
    {
      "cell_type": "markdown",
      "metadata": {
        "id": "tntTTxV1cy1Q"
      },
      "source": [
        "#### Stop Words\n"
      ]
    },
    {
      "cell_type": "code",
      "metadata": {
        "id": "VYZZ9DAZaTZQ"
      },
      "source": [
        "# define a function to read file\n",
        "def readFile(filename):\n",
        "  fileObj = open(filename, 'r') # open the file in read mode\n",
        "  words = fileObj.read().splitlines() # puts the file into an array\n",
        "  fileObj.close()\n",
        "  return words"
      ],
      "execution_count": null,
      "outputs": []
    },
    {
      "cell_type": "code",
      "metadata": {
        "colab": {
          "base_uri": "https://localhost:8080/"
        },
        "id": "-tarox1kc3EK",
        "outputId": "7058cdf1-77ef-4a26-ed12-635f9e099353"
      },
      "source": [
        "stopwords = readFile('/content/drive/MyDrive/AI-Internship/persian_stopwords_kharazi.txt')\n",
        "print(f'length of stop words : {len(stopwords)}')"
      ],
      "execution_count": null,
      "outputs": [
        {
          "output_type": "stream",
          "text": [
            "length of stop words : 1370\n"
          ],
          "name": "stdout"
        }
      ]
    },
    {
      "cell_type": "code",
      "metadata": {
        "colab": {
          "base_uri": "https://localhost:8080/"
        },
        "id": "wTOpY2xBc5g6",
        "outputId": "e3f766ed-12a2-428b-8e29-489931799c17"
      },
      "source": [
        "print(f'some of stop words : {stopwords[:30]}')"
      ],
      "execution_count": null,
      "outputs": [
        {
          "output_type": "stream",
          "text": [
            "some of stop words : ['!', '\"', '#', '(', ')', '*', ',', '-', '.', '/', ':', '[', ']', '«', '»', '،', '؛', '؟', 'آباد', 'آخ', 'آخر', 'آخرها', 'آخه', 'آدمهاست', 'آرام', 'آرام آرام', 'آره', 'آری', 'آزادانه', 'آسان']\n"
          ],
          "name": "stdout"
        }
      ]
    },
    {
      "cell_type": "markdown",
      "metadata": {
        "id": "Q_aotv2rc_Sz"
      },
      "source": [
        "#### Preprocessing function"
      ]
    },
    {
      "cell_type": "markdown",
      "metadata": {
        "id": "3x_BHDUm4Dgx"
      },
      "source": [
        "Because, after stemming we have '&' in between of our verbs, we should delete them in function delete_and."
      ]
    },
    {
      "cell_type": "code",
      "metadata": {
        "id": "nyoz-rWI4Bgp"
      },
      "source": [
        "def delete_and(word):\n",
        "  idx = word.find(\"&\")\n",
        "  if idx!=-1:\n",
        "    word = word[:idx]\n",
        "  return word"
      ],
      "execution_count": null,
      "outputs": []
    },
    {
      "cell_type": "code",
      "metadata": {
        "id": "0YrbtHnwc86v"
      },
      "source": [
        "def data_preprocessing(review, stopwords):\n",
        "  try:\n",
        "    # replace half-space with ' '\n",
        "    review =  re.sub('\\u200c', ' ',review)\n",
        "\n",
        "    # Normalizing the text\n",
        "    # First we should normalize text in order to convert persian numbers into english numbers then\n",
        "    # with following function (filter) delete them\n",
        "    # Because, some comments are pinglish, we should set pinglish_conversion_needed = True\n",
        "    normalizer = Normalizer(pinglish_conversion_needed=True) \n",
        "    review = normalizer.normalize(review)\n",
        "\n",
        "    # because after normalization appear some '/u200c', we should replace them with space\n",
        "    review =  re.sub('\\u200c', ' ',review)\n",
        "\n",
        "    # delete english characters and numbers from sentences\n",
        "    review = filter(lambda x: x in string.whitespace or x not in string.printable, review)\n",
        "    review = ''.join(ch for ch in list(review))\n",
        "    \n",
        "    if review != ' ':\n",
        "      # word tokenization\n",
        "      tokenizer = Tokenizer()\n",
        "      words = tokenizer.tokenize_words(review)\n",
        "\n",
        "      # stemming \n",
        "      stemmer = FindStems()\n",
        "      review = [stemmer.convert_to_stem(word) for word in words]\n",
        "\n",
        "      # we should delete '&', because after stemming we have '&' in between of our verbs\n",
        "      review = [delete_and(word) for word in review]\n",
        "\n",
        "      # remove stop words\n",
        "      words_without_stopword = filter(lambda x: x not in stopwords, review)\n",
        "      words_without_stopwords = list(words_without_stopword)\n",
        "    \n",
        "      # join words in preprocessed review\n",
        "      review = ' '.join(words_without_stopwords)\n",
        "    \n",
        "    return review\n",
        "\n",
        "  except TypeError:\n",
        "    print(review)\n",
        "    raise"
      ],
      "execution_count": null,
      "outputs": []
    },
    {
      "cell_type": "markdown",
      "metadata": {
        "id": "t06tONl4Snri"
      },
      "source": [
        "Let's perform this process on a sentence for example."
      ]
    },
    {
      "cell_type": "code",
      "metadata": {
        "colab": {
          "base_uri": "https://localhost:8080/",
          "height": 36
        },
        "id": "RL8t0rXFcXul",
        "outputId": "1a518e8d-2882-44ad-e222-79380d0edc58"
      },
      "source": [
        "review = 'غذا به سرعت تحویل داده شد ولی حجم ساندویچ کم بود.'\n",
        "review =  re.sub('\\u200c', ' ',review)\n",
        "review"
      ],
      "execution_count": null,
      "outputs": [
        {
          "output_type": "execute_result",
          "data": {
            "application/vnd.google.colaboratory.intrinsic+json": {
              "type": "string"
            },
            "text/plain": [
              "'غذا به سرعت تحویل داده شد ولی حجم ساندویچ کم بود.'"
            ]
          },
          "metadata": {},
          "execution_count": 54
        }
      ]
    },
    {
      "cell_type": "code",
      "metadata": {
        "colab": {
          "base_uri": "https://localhost:8080/",
          "height": 36
        },
        "id": "szOAzYMPdScZ",
        "outputId": "ad198e37-6ec6-4c01-84bf-0f32c1e16071"
      },
      "source": [
        "normalizer = Normalizer(pinglish_conversion_needed=True) \n",
        "review = normalizer.normalize(review)\n",
        "review"
      ],
      "execution_count": null,
      "outputs": [
        {
          "output_type": "execute_result",
          "data": {
            "application/vnd.google.colaboratory.intrinsic+json": {
              "type": "string"
            },
            "text/plain": [
              "'غذا به سرعت تحویل داده شد ولی حجم ساندویچ کم\\u200cبود .'"
            ]
          },
          "metadata": {},
          "execution_count": 55
        }
      ]
    },
    {
      "cell_type": "code",
      "metadata": {
        "colab": {
          "base_uri": "https://localhost:8080/",
          "height": 36
        },
        "id": "il4cdaC3dZ-U",
        "outputId": "2c236f38-a3c1-42b4-cb89-cfbb6a0ba295"
      },
      "source": [
        "review =  re.sub('\\u200c', ' ',review)\n",
        "review"
      ],
      "execution_count": null,
      "outputs": [
        {
          "output_type": "execute_result",
          "data": {
            "application/vnd.google.colaboratory.intrinsic+json": {
              "type": "string"
            },
            "text/plain": [
              "'غذا به سرعت تحویل داده شد ولی حجم ساندویچ کم بود .'"
            ]
          },
          "metadata": {},
          "execution_count": 56
        }
      ]
    },
    {
      "cell_type": "code",
      "metadata": {
        "colab": {
          "base_uri": "https://localhost:8080/",
          "height": 36
        },
        "id": "ofynmc8IdhiA",
        "outputId": "a82f4b19-4a3d-41d5-d5ce-7af5768070ed"
      },
      "source": [
        "review = filter(lambda x: x in string.whitespace or x not in string.printable, review)\n",
        "review = ''.join(ch for ch in list(review))\n",
        "review"
      ],
      "execution_count": null,
      "outputs": [
        {
          "output_type": "execute_result",
          "data": {
            "application/vnd.google.colaboratory.intrinsic+json": {
              "type": "string"
            },
            "text/plain": [
              "'غذا به سرعت تحویل داده شد ولی حجم ساندویچ کم بود '"
            ]
          },
          "metadata": {},
          "execution_count": 57
        }
      ]
    },
    {
      "cell_type": "code",
      "metadata": {
        "colab": {
          "base_uri": "https://localhost:8080/"
        },
        "id": "0YY33iQLdpLT",
        "outputId": "258492ee-a8cc-4b25-b89c-0777601188a1"
      },
      "source": [
        "tokenizer = Tokenizer()\n",
        "words = tokenizer.tokenize_words(review)\n",
        "words"
      ],
      "execution_count": null,
      "outputs": [
        {
          "output_type": "execute_result",
          "data": {
            "text/plain": [
              "['غذا',\n",
              " 'به',\n",
              " 'سرعت',\n",
              " 'تحویل',\n",
              " 'داده',\n",
              " 'شد',\n",
              " 'ولی',\n",
              " 'حجم',\n",
              " 'ساندویچ',\n",
              " 'کم',\n",
              " 'بود']"
            ]
          },
          "metadata": {},
          "execution_count": 58
        }
      ]
    },
    {
      "cell_type": "code",
      "metadata": {
        "colab": {
          "base_uri": "https://localhost:8080/"
        },
        "id": "lmcvJjuTduT5",
        "outputId": "c14ffd4e-3dd3-48a4-f5e1-e9b5be3fb7ed"
      },
      "source": [
        "stemmer = FindStems()\n",
        "review = [stemmer.convert_to_stem(word) for word in words]\n",
        "review"
      ],
      "execution_count": null,
      "outputs": [
        {
          "output_type": "execute_result",
          "data": {
            "text/plain": [
              "['غذا',\n",
              " 'به',\n",
              " 'سرعت',\n",
              " 'تحویل',\n",
              " 'داده',\n",
              " 'شد',\n",
              " 'ولی',\n",
              " 'حجم',\n",
              " 'ساندویچ',\n",
              " 'کم',\n",
              " 'بود&باش']"
            ]
          },
          "metadata": {},
          "execution_count": 59
        }
      ]
    },
    {
      "cell_type": "code",
      "metadata": {
        "id": "OFGM9kisd3G4"
      },
      "source": [
        "review = [delete_and(word) for word in review]"
      ],
      "execution_count": null,
      "outputs": []
    },
    {
      "cell_type": "code",
      "metadata": {
        "colab": {
          "base_uri": "https://localhost:8080/"
        },
        "id": "FTNSDL5Fd7wX",
        "outputId": "9f879cae-22c6-4687-e8a8-f84538500121"
      },
      "source": [
        "review"
      ],
      "execution_count": null,
      "outputs": [
        {
          "output_type": "execute_result",
          "data": {
            "text/plain": [
              "['غذا',\n",
              " 'به',\n",
              " 'سرعت',\n",
              " 'تحویل',\n",
              " 'داده',\n",
              " 'شد',\n",
              " 'ولی',\n",
              " 'حجم',\n",
              " 'ساندویچ',\n",
              " 'کم',\n",
              " 'بود']"
            ]
          },
          "metadata": {},
          "execution_count": 61
        }
      ]
    },
    {
      "cell_type": "code",
      "metadata": {
        "colab": {
          "base_uri": "https://localhost:8080/"
        },
        "id": "rvyZVhNIjDTF",
        "outputId": "99dfafd3-47c1-4922-955d-3fd707271f5f"
      },
      "source": [
        "words_without_stopword = filter(lambda x: x not in stopwords, review)\n",
        "words_without_stopwords = list(words_without_stopword)\n",
        "words_without_stopwords"
      ],
      "execution_count": null,
      "outputs": [
        {
          "output_type": "execute_result",
          "data": {
            "text/plain": [
              "['غذا', 'سرعت', 'تحویل', 'حجم', 'ساندویچ']"
            ]
          },
          "metadata": {},
          "execution_count": 62
        }
      ]
    },
    {
      "cell_type": "code",
      "metadata": {
        "colab": {
          "base_uri": "https://localhost:8080/",
          "height": 36
        },
        "id": "E6g0aa9t5n1K",
        "outputId": "94f8545c-95f4-43f8-e787-ad6cbbae738e"
      },
      "source": [
        "review = ' '.join(words_without_stopwords)\n",
        "review"
      ],
      "execution_count": null,
      "outputs": [
        {
          "output_type": "execute_result",
          "data": {
            "application/vnd.google.colaboratory.intrinsic+json": {
              "type": "string"
            },
            "text/plain": [
              "'غذا سرعت تحویل حجم ساندویچ'"
            ]
          },
          "metadata": {},
          "execution_count": 63
        }
      ]
    },
    {
      "cell_type": "markdown",
      "metadata": {
        "id": "SapS3GLyTBik"
      },
      "source": [
        "Let's use pandarallel to speed up our process on a column of dataset."
      ]
    },
    {
      "cell_type": "code",
      "metadata": {
        "colab": {
          "base_uri": "https://localhost:8080/"
        },
        "id": "A3KIz8btU_ab",
        "outputId": "89610ff3-6551-473c-b696-699a894a6df9"
      },
      "source": [
        "! pip install pandarallel"
      ],
      "execution_count": null,
      "outputs": [
        {
          "output_type": "stream",
          "text": [
            "Requirement already satisfied: pandarallel in /usr/local/lib/python3.7/dist-packages (1.5.2)\n",
            "Requirement already satisfied: dill in /usr/local/lib/python3.7/dist-packages (from pandarallel) (0.3.4)\n"
          ],
          "name": "stdout"
        }
      ]
    },
    {
      "cell_type": "code",
      "metadata": {
        "id": "sQA6Z_jIWIiT"
      },
      "source": [
        "from pandarallel import pandarallel"
      ],
      "execution_count": null,
      "outputs": []
    },
    {
      "cell_type": "code",
      "metadata": {
        "colab": {
          "base_uri": "https://localhost:8080/"
        },
        "id": "7k0oxgYJWLvx",
        "outputId": "08bf1b11-9a70-46a2-ea5d-e5c3d066a109"
      },
      "source": [
        "# initialize pandarallel\n",
        "pandarallel.initialize()"
      ],
      "execution_count": null,
      "outputs": [
        {
          "output_type": "stream",
          "text": [
            "INFO: Pandarallel will run on 2 workers.\n",
            "INFO: Pandarallel will use Memory file system to transfer data between the main process and workers.\n"
          ],
          "name": "stdout"
        }
      ]
    },
    {
      "cell_type": "markdown",
      "metadata": {
        "id": "oB9GcGjHEuBx"
      },
      "source": [
        "Let's apply this function on our dataset. This work, took 39 minutes for me."
      ]
    },
    {
      "cell_type": "code",
      "metadata": {
        "id": "x9g4uBK4WMZy"
      },
      "source": [
        "train_data['preprocessing_text'] = train_data['comment'].parallel_apply(lambda text: data_preprocessing(text, stopwords))\n",
        "valid_data['preprocessing_text'] = valid_data['comment'].parallel_apply(lambda text: data_preprocessing(text, stopwords))\n",
        "test_data['preprocessing_text'] = test_data['comment'].parallel_apply(lambda text: data_preprocessing(text, stopwords))\n"
      ],
      "execution_count": null,
      "outputs": []
    },
    {
      "cell_type": "code",
      "metadata": {
        "id": "lUTDdoG3WQUE"
      },
      "source": [
        "# #Save dataframe\n",
        "# !mkdir -p /content/drive/MyDrive/AI-Internship/SnappFood_preprocessed\n",
        "# train_data.to_pickle('/content/drive/MyDrive/AI-Internship/SnappFood_preprocessed/train_data')\n",
        "# valid_data.to_pickle('/content/drive/MyDrive/AI-Internship/SnappFood_preprocessed/valid_data')\n",
        "# test_data.to_pickle('/content/drive/MyDrive/AI-Internship/SnappFood_preprocessed/test_data')"
      ],
      "execution_count": null,
      "outputs": []
    },
    {
      "cell_type": "code",
      "metadata": {
        "id": "XD5zT0D8WQ6x"
      },
      "source": [
        "#load the preprocessing dataframe\n",
        "train_data= pd.read_pickle(r'/content/drive/MyDrive/AI-Internship/SnappFood_preprocessed/train_data')\n",
        "valid_data= pd.read_pickle(r'/content/drive/MyDrive/AI-Internship/SnappFood_preprocessed/train_data')\n",
        "test_data= pd.read_pickle(r'/content/drive/MyDrive/AI-Internship/SnappFood_preprocessed/train_data')\n"
      ],
      "execution_count": null,
      "outputs": []
    },
    {
      "cell_type": "code",
      "metadata": {
        "colab": {
          "base_uri": "https://localhost:8080/",
          "height": 206
        },
        "id": "VAH3FKy-EdJU",
        "outputId": "d7db9554-49e0-45a3-f3ba-d72cd0f8831f"
      },
      "source": [
        "train_data.head()"
      ],
      "execution_count": null,
      "outputs": [
        {
          "output_type": "execute_result",
          "data": {
            "text/html": [
              "<div>\n",
              "<style scoped>\n",
              "    .dataframe tbody tr th:only-of-type {\n",
              "        vertical-align: middle;\n",
              "    }\n",
              "\n",
              "    .dataframe tbody tr th {\n",
              "        vertical-align: top;\n",
              "    }\n",
              "\n",
              "    .dataframe thead th {\n",
              "        text-align: right;\n",
              "    }\n",
              "</style>\n",
              "<table border=\"1\" class=\"dataframe\">\n",
              "  <thead>\n",
              "    <tr style=\"text-align: right;\">\n",
              "      <th></th>\n",
              "      <th>comment</th>\n",
              "      <th>label</th>\n",
              "      <th>preprocessing_text</th>\n",
              "    </tr>\n",
              "  </thead>\n",
              "  <tbody>\n",
              "    <tr>\n",
              "      <th>0</th>\n",
              "      <td>واقعا حیف وقت که بنویسم سرویس دهیتون شده افتضاح</td>\n",
              "      <td>-1</td>\n",
              "      <td>حیف وقت نوشت سرویس دهیتون افتضاح</td>\n",
              "    </tr>\n",
              "    <tr>\n",
              "      <th>1</th>\n",
              "      <td>قرار بود ۱ ساعته برسه ولی نیم ساعت زودتر از مو...</td>\n",
              "      <td>1</td>\n",
              "      <td>قرار ساعته برسه نیم ساعت موقع دید چقدررررررررر...</td>\n",
              "    </tr>\n",
              "    <tr>\n",
              "      <th>2</th>\n",
              "      <td>قیمت این مدل اصلا با کیفیتش سازگاری نداره، فقط...</td>\n",
              "      <td>-1</td>\n",
              "      <td>قیمت مدل کیفیت سازگاری نداره ظاهر فریبنده پرش ...</td>\n",
              "    </tr>\n",
              "    <tr>\n",
              "      <th>3</th>\n",
              "      <td>عالللی بود همه چه درست و به اندازه و کیفیت خوب...</td>\n",
              "      <td>1</td>\n",
              "      <td>عالللی اندازه کیفیت امیداورم کیفیتتون باشه مشت...</td>\n",
              "    </tr>\n",
              "    <tr>\n",
              "      <th>4</th>\n",
              "      <td>شیرینی وانیلی فقط یک مدل بود.</td>\n",
              "      <td>1</td>\n",
              "      <td>شیرینی نیل مدل</td>\n",
              "    </tr>\n",
              "  </tbody>\n",
              "</table>\n",
              "</div>"
            ],
            "text/plain": [
              "                                             comment  ...                                 preprocessing_text\n",
              "0    واقعا حیف وقت که بنویسم سرویس دهیتون شده افتضاح  ...                   حیف وقت نوشت سرویس دهیتون افتضاح\n",
              "1  قرار بود ۱ ساعته برسه ولی نیم ساعت زودتر از مو...  ...  قرار ساعته برسه نیم ساعت موقع دید چقدررررررررر...\n",
              "2  قیمت این مدل اصلا با کیفیتش سازگاری نداره، فقط...  ...  قیمت مدل کیفیت سازگاری نداره ظاهر فریبنده پرش ...\n",
              "3  عالللی بود همه چه درست و به اندازه و کیفیت خوب...  ...  عالللی اندازه کیفیت امیداورم کیفیتتون باشه مشت...\n",
              "4                      شیرینی وانیلی فقط یک مدل بود.  ...                                     شیرینی نیل مدل\n",
              "\n",
              "[5 rows x 3 columns]"
            ]
          },
          "metadata": {},
          "execution_count": 75
        }
      ]
    },
    {
      "cell_type": "code",
      "metadata": {
        "colab": {
          "base_uri": "https://localhost:8080/",
          "height": 206
        },
        "id": "QeXZuQJ2Ejc2",
        "outputId": "01e70193-15ee-4a12-c121-1962eb8f8c59"
      },
      "source": [
        "valid_data.head()"
      ],
      "execution_count": null,
      "outputs": [
        {
          "output_type": "execute_result",
          "data": {
            "text/html": [
              "<div>\n",
              "<style scoped>\n",
              "    .dataframe tbody tr th:only-of-type {\n",
              "        vertical-align: middle;\n",
              "    }\n",
              "\n",
              "    .dataframe tbody tr th {\n",
              "        vertical-align: top;\n",
              "    }\n",
              "\n",
              "    .dataframe thead th {\n",
              "        text-align: right;\n",
              "    }\n",
              "</style>\n",
              "<table border=\"1\" class=\"dataframe\">\n",
              "  <thead>\n",
              "    <tr style=\"text-align: right;\">\n",
              "      <th></th>\n",
              "      <th>comment</th>\n",
              "      <th>label</th>\n",
              "      <th>preprocessing_text</th>\n",
              "    </tr>\n",
              "  </thead>\n",
              "  <tbody>\n",
              "    <tr>\n",
              "      <th>0</th>\n",
              "      <td>همه ساندویچ‌ها سرد بود متاسفانه در صورتی که فا...</td>\n",
              "      <td>-1</td>\n",
              "      <td>ساندویچ سرد صورتی فاصله رستوران دقیقه اس</td>\n",
              "    </tr>\n",
              "    <tr>\n",
              "      <th>1</th>\n",
              "      <td>تشکر، عالی‌تر از همیشه</td>\n",
              "      <td>1</td>\n",
              "      <td>تشکر عالی</td>\n",
              "    </tr>\n",
              "    <tr>\n",
              "      <th>2</th>\n",
              "      <td>مرغ و کدو رو دوس نداشتم ولی کلا ساندویچهای خوش...</td>\n",
              "      <td>1</td>\n",
              "      <td>مرغ کدو دوس ساندویچ خوشمزه</td>\n",
              "    </tr>\n",
              "    <tr>\n",
              "      <th>3</th>\n",
              "      <td>نمیدونم هزینه بسته بندی به چه دلیل گرفته شد؟؟؟</td>\n",
              "      <td>-1</td>\n",
              "      <td>نمیدونم هزینه بسته بند دلیل ؟؟؟</td>\n",
              "    </tr>\n",
              "    <tr>\n",
              "      <th>4</th>\n",
              "      <td>یک نوشابه کم ارسال شد و تاخیر فراوان و غذای نس...</td>\n",
              "      <td>-1</td>\n",
              "      <td>نوشابه ارسال تاخیر فراوان غذا سرد</td>\n",
              "    </tr>\n",
              "  </tbody>\n",
              "</table>\n",
              "</div>"
            ],
            "text/plain": [
              "                                             comment  ...                        preprocessing_text\n",
              "0  همه ساندویچ‌ها سرد بود متاسفانه در صورتی که فا...  ...  ساندویچ سرد صورتی فاصله رستوران دقیقه اس\n",
              "1                             تشکر، عالی‌تر از همیشه  ...                                 تشکر عالی\n",
              "2  مرغ و کدو رو دوس نداشتم ولی کلا ساندویچهای خوش...  ...                مرغ کدو دوس ساندویچ خوشمزه\n",
              "3     نمیدونم هزینه بسته بندی به چه دلیل گرفته شد؟؟؟  ...           نمیدونم هزینه بسته بند دلیل ؟؟؟\n",
              "4  یک نوشابه کم ارسال شد و تاخیر فراوان و غذای نس...  ...         نوشابه ارسال تاخیر فراوان غذا سرد\n",
              "\n",
              "[5 rows x 3 columns]"
            ]
          },
          "metadata": {},
          "execution_count": 76
        }
      ]
    },
    {
      "cell_type": "code",
      "metadata": {
        "colab": {
          "base_uri": "https://localhost:8080/",
          "height": 206
        },
        "id": "WfkpZB5kEoPt",
        "outputId": "a80bbd2d-dc30-466c-ed9e-79f43d9871c5"
      },
      "source": [
        "test_data.head()"
      ],
      "execution_count": null,
      "outputs": [
        {
          "output_type": "execute_result",
          "data": {
            "text/html": [
              "<div>\n",
              "<style scoped>\n",
              "    .dataframe tbody tr th:only-of-type {\n",
              "        vertical-align: middle;\n",
              "    }\n",
              "\n",
              "    .dataframe tbody tr th {\n",
              "        vertical-align: top;\n",
              "    }\n",
              "\n",
              "    .dataframe thead th {\n",
              "        text-align: right;\n",
              "    }\n",
              "</style>\n",
              "<table border=\"1\" class=\"dataframe\">\n",
              "  <thead>\n",
              "    <tr style=\"text-align: right;\">\n",
              "      <th></th>\n",
              "      <th>comment</th>\n",
              "      <th>label</th>\n",
              "      <th>preprocessing_text</th>\n",
              "    </tr>\n",
              "  </thead>\n",
              "  <tbody>\n",
              "    <tr>\n",
              "      <th>0</th>\n",
              "      <td>خواهشا خواهشا خواهشا واسه ارسال شیرینیها یه فک...</td>\n",
              "      <td>1</td>\n",
              "      <td>خواهشا خواهشا خواهشا سه ارسال شیرینی فکری شانس...</td>\n",
              "    </tr>\n",
              "    <tr>\n",
              "      <th>1</th>\n",
              "      <td>غذا گرم رسید کیفیت و پخت گوشت عالی بود</td>\n",
              "      <td>1</td>\n",
              "      <td>غذا گرم کیفیت پخت گوشت عالی</td>\n",
              "    </tr>\n",
              "    <tr>\n",
              "      <th>2</th>\n",
              "      <td>قیمت سس شکلات روی بسته بندی ۱۵۰۰۰ بود ولی قیمت...</td>\n",
              "      <td>-1</td>\n",
              "      <td>قیمت سس شکلات بسته بند قیمت اعلامی اسنپ تومن ت...</td>\n",
              "    </tr>\n",
              "    <tr>\n",
              "      <th>3</th>\n",
              "      <td>عکس توی پیج یه شیرینی شکری روشن رنگ هست که همم...</td>\n",
              "      <td>-1</td>\n",
              "      <td>عکس پیج شیرینی شکری روشن رنگ هممون قاعدتا تست ...</td>\n",
              "    </tr>\n",
              "    <tr>\n",
              "      <th>4</th>\n",
              "      <td>باز هم میگم، پیتزا نباید اینقد چرب باشه</td>\n",
              "      <td>-1</td>\n",
              "      <td>میگ پیتزا اینقد چرب باشه</td>\n",
              "    </tr>\n",
              "  </tbody>\n",
              "</table>\n",
              "</div>"
            ],
            "text/plain": [
              "                                             comment  ...                                 preprocessing_text\n",
              "0  خواهشا خواهشا خواهشا واسه ارسال شیرینیها یه فک...  ...  خواهشا خواهشا خواهشا سه ارسال شیرینی فکری شانس...\n",
              "1             غذا گرم رسید کیفیت و پخت گوشت عالی بود  ...                        غذا گرم کیفیت پخت گوشت عالی\n",
              "2  قیمت سس شکلات روی بسته بندی ۱۵۰۰۰ بود ولی قیمت...  ...  قیمت سس شکلات بسته بند قیمت اعلامی اسنپ تومن ت...\n",
              "3  عکس توی پیج یه شیرینی شکری روشن رنگ هست که همم...  ...  عکس پیج شیرینی شکری روشن رنگ هممون قاعدتا تست ...\n",
              "4            باز هم میگم، پیتزا نباید اینقد چرب باشه  ...                           میگ پیتزا اینقد چرب باشه\n",
              "\n",
              "[5 rows x 3 columns]"
            ]
          },
          "metadata": {},
          "execution_count": 77
        }
      ]
    },
    {
      "cell_type": "markdown",
      "metadata": {
        "id": "X4Ln_bUnFN6Z"
      },
      "source": [
        "Let's print some of examples from train dataset."
      ]
    },
    {
      "cell_type": "code",
      "metadata": {
        "colab": {
          "base_uri": "https://localhost:8080/"
        },
        "id": "Uw5XQ-doEru_",
        "outputId": "a45282ec-748b-4dae-86c6-fe2a5102f3a7"
      },
      "source": [
        "# this example is in pinglish \n",
        "print(f'row 13 of train_data (before preprocessing) : {train_data.comment[13]}')\n",
        "print(f'row 13 of train_data (after preprocessing) : {train_data.preprocessing_text[13]}')"
      ],
      "execution_count": null,
      "outputs": [
        {
          "output_type": "stream",
          "text": [
            "row 13 of train_data (before preprocessing) : Kheili khub bud mersi vaghan\n",
            "row 13 of train_data (after preprocessing) : \n"
          ],
          "name": "stdout"
        }
      ]
    },
    {
      "cell_type": "code",
      "metadata": {
        "colab": {
          "base_uri": "https://localhost:8080/"
        },
        "id": "H6rCreB7F2Oj",
        "outputId": "fbe10570-dd78-4800-859e-39eb0b55bb1f"
      },
      "source": [
        "# this example is in eglish and persian\n",
        "print(f'row 68 of train_data (before preprocessing) : {train_data.comment[68]}')\n",
        "print(f'row 68 of train_data (after preprocessing) : {train_data.preprocessing_text[68]}')"
      ],
      "execution_count": null,
      "outputs": [
        {
          "output_type": "stream",
          "text": [
            "row 68 of train_data (before preprocessing) : The nutella and caramel rolls are AMAZING!!! GREAT service and very delicious desserts- عالى!!!!\n",
            "row 68 of train_data (after preprocessing) : اره ور عالی\n"
          ],
          "name": "stdout"
        }
      ]
    },
    {
      "cell_type": "code",
      "metadata": {
        "colab": {
          "base_uri": "https://localhost:8080/"
        },
        "id": "cYJ8_947GIIq",
        "outputId": "347e5d92-d127-4da7-fd72-7e1d692322cf"
      },
      "source": [
        "# this example is in pinglish \n",
        "print(f'row 1347 of train_data (before preprocessing) : {train_data.comment[1347]}')\n",
        "print(f'row 1347 of train_data (after preprocessing) : {train_data.preprocessing_text[1347]}')"
      ],
      "execution_count": null,
      "outputs": [
        {
          "output_type": "stream",
          "text": [
            "row 1347 of train_data (before preprocessing) : Eclair behtarin o khoshmaze tarin shirinihae tehrano dare kolan\n",
            "row 1347 of train_data (after preprocessing) : خوشمزه کلان\n"
          ],
          "name": "stdout"
        }
      ]
    },
    {
      "cell_type": "code",
      "metadata": {
        "colab": {
          "base_uri": "https://localhost:8080/"
        },
        "id": "UJIlPi9oGVOY",
        "outputId": "6c098afc-ffe0-4bee-eedc-1d0cb5700a4f"
      },
      "source": [
        "# this example is in pinglish \n",
        "print(f'row 2659 of train_data (before preprocessing) : {train_data.comment[2659]}')\n",
        "print(f'row 2659 of train_data (after preprocessing) : {train_data.preprocessing_text[2659]}')"
      ],
      "execution_count": null,
      "outputs": [
        {
          "output_type": "stream",
          "text": [
            "row 2659 of train_data (before preprocessing) : Margarita pizza is the simplest pizza and a great test for a pizza place- The Italians don’t bake the pizza with basil for a reason\n",
            "row 2659 of train_data (after preprocessing) : تست\n"
          ],
          "name": "stdout"
        }
      ]
    },
    {
      "cell_type": "code",
      "metadata": {
        "colab": {
          "base_uri": "https://localhost:8080/"
        },
        "id": "YKkiW_iUGeml",
        "outputId": "e428a92b-e42a-414e-e076-5f99696ea220"
      },
      "source": [
        "train_data.info()"
      ],
      "execution_count": null,
      "outputs": [
        {
          "output_type": "stream",
          "text": [
            "<class 'pandas.core.frame.DataFrame'>\n",
            "RangeIndex: 56700 entries, 0 to 56699\n",
            "Data columns (total 3 columns):\n",
            " #   Column              Non-Null Count  Dtype \n",
            "---  ------              --------------  ----- \n",
            " 0   comment             56700 non-null  object\n",
            " 1   label               56700 non-null  int64 \n",
            " 2   preprocessing_text  56700 non-null  object\n",
            "dtypes: int64(1), object(2)\n",
            "memory usage: 1.3+ MB\n"
          ],
          "name": "stdout"
        }
      ]
    },
    {
      "cell_type": "markdown",
      "metadata": {
        "id": "53ng0OncLtK4"
      },
      "source": [
        "As we see in train_data.info(), we don't have null data. But in above cells, we saw that some preprocessing_text are empty because of preprocessing function(i.e. they are english comments are they consist of just stop words). So, I think it's better to find these rows and remove them from dataset. Let's define a function for this work.\n"
      ]
    },
    {
      "cell_type": "code",
      "metadata": {
        "id": "5RX3TwUbGpD9"
      },
      "source": [
        "def find_empty_rows(df):\n",
        "  row_num = []\n",
        "  for i in range(df.shape[0]):\n",
        "    if df.preprocessing_text[i] == \"\" or df.preprocessing_text[i] == \" \":\n",
        "      row_num.append(i)\n",
        "  return row_num    \n"
      ],
      "execution_count": null,
      "outputs": []
    },
    {
      "cell_type": "code",
      "metadata": {
        "colab": {
          "base_uri": "https://localhost:8080/"
        },
        "id": "n5SIkHr6KPqs",
        "outputId": "1a91cc1e-7aa9-45da-a1d4-024059c18ff2"
      },
      "source": [
        "train_idx = find_empty_rows(train_data)\n",
        "valid_idx = find_empty_rows(valid_data)\n",
        "test_idx = find_empty_rows(test_data)\n",
        "\n",
        "print(f'there are {len(train_idx)} rows of train preprocessing_text empty.')\n",
        "print(f'there are {len(valid_idx)} rows of valid preprocessing_text empty.')\n",
        "print(f'there are {len(test_idx)} rows of test preprocessing_text empty.')"
      ],
      "execution_count": null,
      "outputs": [
        {
          "output_type": "stream",
          "text": [
            "there are 205 rows of train preprocessing_text empty.\n",
            "there are 14 rows of valid preprocessing_text empty.\n",
            "there are 21 rows of test preprocessing_text empty.\n"
          ],
          "name": "stdout"
        }
      ]
    },
    {
      "cell_type": "code",
      "metadata": {
        "colab": {
          "base_uri": "https://localhost:8080/"
        },
        "id": "KwgNojXZHLtX",
        "outputId": "5d9c1e6f-e02b-43fa-b422-881a9b7c074f"
      },
      "source": [
        "print(train_idx)"
      ],
      "execution_count": null,
      "outputs": [
        {
          "output_type": "stream",
          "text": [
            "[13, 153, 157, 491, 677, 797, 908, 1456, 1512, 1955, 2171, 2214, 2254, 2279, 2508, 2827, 2909, 2950, 4057, 4429, 4567, 4933, 4994, 5463, 5925, 6263, 6384, 6498, 6839, 7373, 7683, 8633, 8709, 8960, 9604, 9682, 9940, 10279, 10292, 10576, 10798, 11602, 11903, 12212, 12702, 12856, 13154, 13513, 13568, 13787, 13873, 13920, 14234, 14258, 14517, 14598, 14751, 14832, 15153, 15333, 15386, 16212, 16468, 17004, 17074, 17098, 17192, 17405, 17824, 18069, 18083, 18699, 18767, 19176, 19517, 19943, 20046, 20666, 21328, 21364, 21392, 21662, 21900, 21923, 22213, 22233, 22896, 22958, 23110, 24111, 24292, 24519, 25029, 25249, 25318, 25605, 25644, 25678, 25822, 26703, 26759, 26921, 27213, 27227, 27295, 27355, 27412, 28269, 28356, 28417, 28462, 29106, 29274, 29291, 29993, 30189, 30329, 30522, 30916, 31680, 31801, 32008, 32092, 32353, 32451, 32667, 32887, 32928, 32930, 32983, 33206, 33869, 33963, 34060, 35921, 36081, 36758, 37215, 38117, 38212, 38216, 38313, 38540, 38815, 39293, 39882, 39910, 40321, 40561, 41065, 41137, 42448, 42547, 42569, 42922, 43327, 43427, 43805, 43819, 43833, 43923, 44039, 44296, 44368, 44610, 44806, 44886, 45301, 45395, 45943, 46297, 46399, 46401, 47422, 47492, 47910, 48223, 48391, 48964, 49732, 49980, 50124, 50820, 51414, 51709, 51866, 52434, 52557, 52602, 52840, 53454, 53723, 53730, 54155, 54357, 54374, 54689, 54902, 55157, 55299, 55303, 55416, 55843, 56089, 56519]\n"
          ],
          "name": "stdout"
        }
      ]
    },
    {
      "cell_type": "markdown",
      "metadata": {
        "id": "p6pYQMEXOaBS"
      },
      "source": [
        "Let's take a look at one of these rows. This row consists of stop words. So, after applying preprocessing function, our preprocessed_text will be empty."
      ]
    },
    {
      "cell_type": "code",
      "metadata": {
        "colab": {
          "base_uri": "https://localhost:8080/"
        },
        "id": "pBxmnIMmKeLb",
        "outputId": "fd8ecb19-394f-4b0b-b9a1-454143308025"
      },
      "source": [
        "# this example is in pinglish \n",
        "print(f'row 56089 of train_data (before preprocessing) : {train_data.comment[56089]}')\n",
        "print(f'row 56089 of train_data (after preprocessing) : {train_data.preprocessing_text[56089]}')"
      ],
      "execution_count": null,
      "outputs": [
        {
          "output_type": "stream",
          "text": [
            "row 56089 of train_data (before preprocessing) : قبلا خیلی بهتر بود\n",
            "row 56089 of train_data (after preprocessing) : \n"
          ],
          "name": "stdout"
        }
      ]
    },
    {
      "cell_type": "markdown",
      "metadata": {
        "id": "RN94XmtPR_bx"
      },
      "source": [
        "Let's delete rows with empty preprocessing_text."
      ]
    },
    {
      "cell_type": "code",
      "metadata": {
        "id": "rKwGz-0CQDb-"
      },
      "source": [
        "train_data = train_data.drop(labels=train_idx, axis=0)\n",
        "valid_data = valid_data.drop(labels=valid_idx, axis=0)\n",
        "test_data = test_data.drop(labels=test_idx, axis=0)"
      ],
      "execution_count": null,
      "outputs": []
    },
    {
      "cell_type": "code",
      "metadata": {
        "colab": {
          "base_uri": "https://localhost:8080/",
          "height": 206
        },
        "id": "TrLcCZGHSyNG",
        "outputId": "e43726c0-10f3-4db1-ff55-e94ecadf2fa6"
      },
      "source": [
        "train_data.head()"
      ],
      "execution_count": null,
      "outputs": [
        {
          "output_type": "execute_result",
          "data": {
            "text/html": [
              "<div>\n",
              "<style scoped>\n",
              "    .dataframe tbody tr th:only-of-type {\n",
              "        vertical-align: middle;\n",
              "    }\n",
              "\n",
              "    .dataframe tbody tr th {\n",
              "        vertical-align: top;\n",
              "    }\n",
              "\n",
              "    .dataframe thead th {\n",
              "        text-align: right;\n",
              "    }\n",
              "</style>\n",
              "<table border=\"1\" class=\"dataframe\">\n",
              "  <thead>\n",
              "    <tr style=\"text-align: right;\">\n",
              "      <th></th>\n",
              "      <th>comment</th>\n",
              "      <th>label</th>\n",
              "      <th>preprocessing_text</th>\n",
              "    </tr>\n",
              "  </thead>\n",
              "  <tbody>\n",
              "    <tr>\n",
              "      <th>0</th>\n",
              "      <td>واقعا حیف وقت که بنویسم سرویس دهیتون شده افتضاح</td>\n",
              "      <td>-1</td>\n",
              "      <td>حیف وقت نوشت سرویس دهیتون افتضاح</td>\n",
              "    </tr>\n",
              "    <tr>\n",
              "      <th>1</th>\n",
              "      <td>قرار بود ۱ ساعته برسه ولی نیم ساعت زودتر از مو...</td>\n",
              "      <td>1</td>\n",
              "      <td>قرار ساعته برسه نیم ساعت موقع دید چقدررررررررر...</td>\n",
              "    </tr>\n",
              "    <tr>\n",
              "      <th>2</th>\n",
              "      <td>قیمت این مدل اصلا با کیفیتش سازگاری نداره، فقط...</td>\n",
              "      <td>-1</td>\n",
              "      <td>قیمت مدل کیفیت سازگاری نداره ظاهر فریبنده پرش ...</td>\n",
              "    </tr>\n",
              "    <tr>\n",
              "      <th>3</th>\n",
              "      <td>عالللی بود همه چه درست و به اندازه و کیفیت خوب...</td>\n",
              "      <td>1</td>\n",
              "      <td>عالللی اندازه کیفیت امیداورم کیفیتتون باشه مشت...</td>\n",
              "    </tr>\n",
              "    <tr>\n",
              "      <th>4</th>\n",
              "      <td>شیرینی وانیلی فقط یک مدل بود.</td>\n",
              "      <td>1</td>\n",
              "      <td>شیرینی نیل مدل</td>\n",
              "    </tr>\n",
              "  </tbody>\n",
              "</table>\n",
              "</div>"
            ],
            "text/plain": [
              "                                             comment  ...                                 preprocessing_text\n",
              "0    واقعا حیف وقت که بنویسم سرویس دهیتون شده افتضاح  ...                   حیف وقت نوشت سرویس دهیتون افتضاح\n",
              "1  قرار بود ۱ ساعته برسه ولی نیم ساعت زودتر از مو...  ...  قرار ساعته برسه نیم ساعت موقع دید چقدررررررررر...\n",
              "2  قیمت این مدل اصلا با کیفیتش سازگاری نداره، فقط...  ...  قیمت مدل کیفیت سازگاری نداره ظاهر فریبنده پرش ...\n",
              "3  عالللی بود همه چه درست و به اندازه و کیفیت خوب...  ...  عالللی اندازه کیفیت امیداورم کیفیتتون باشه مشت...\n",
              "4                      شیرینی وانیلی فقط یک مدل بود.  ...                                     شیرینی نیل مدل\n",
              "\n",
              "[5 rows x 3 columns]"
            ]
          },
          "metadata": {},
          "execution_count": 110
        }
      ]
    },
    {
      "cell_type": "code",
      "metadata": {
        "colab": {
          "base_uri": "https://localhost:8080/"
        },
        "id": "lbjTCb2YSprK",
        "outputId": "579b44c5-ed73-4bfd-80c0-fab7845413dd"
      },
      "source": [
        "train_data.shape"
      ],
      "execution_count": null,
      "outputs": [
        {
          "output_type": "execute_result",
          "data": {
            "text/plain": [
              "(56495, 3)"
            ]
          },
          "metadata": {},
          "execution_count": 112
        }
      ]
    },
    {
      "cell_type": "code",
      "metadata": {
        "id": "bOn_zaekSvH4"
      },
      "source": [
        "# Save dataset\n",
        "# !mkdir -p /content/drive/MyDrive/AI-Internship/SnappFood_preprocesed_remove_empty\n",
        "# train_data.to_pickle('/content/drive/MyDrive/AI-Internship/SnappFood_preprocesed_remove_empty/train_data')\n",
        "# valid_data.to_pickle('/content/drive/MyDrive/AI-Internship/SnappFood_preprocesed_remove_empty/valid_data')\n",
        "# test_data.to_pickle('/content/drive/MyDrive/AI-Internship/SnappFood_preprocesed_remove_empty/test_data')"
      ],
      "execution_count": null,
      "outputs": []
    },
    {
      "cell_type": "code",
      "metadata": {
        "id": "H-Ylrg2_T5jo"
      },
      "source": [
        "#load the preprocessing dataframe\n",
        "train_data= pd.read_pickle(r'/content/drive/MyDrive/AI-Internship/SnappFood_preprocesed_remove_empty/train_data')\n",
        "valid_data= pd.read_pickle(r'/content/drive/MyDrive/AI-Internship/SnappFood_preprocesed_remove_empty/valid_data')\n",
        "test_data= pd.read_pickle(r'/content/drive/MyDrive/AI-Internship/SnappFood_preprocesed_remove_empty/test_data')\n"
      ],
      "execution_count": null,
      "outputs": []
    },
    {
      "cell_type": "code",
      "metadata": {
        "colab": {
          "base_uri": "https://localhost:8080/"
        },
        "id": "Uc8T5wYxdOnM",
        "outputId": "270ec0c2-1d0a-4586-8c4c-903ab547f55d"
      },
      "source": [
        "train_data.shape"
      ],
      "execution_count": null,
      "outputs": [
        {
          "output_type": "execute_result",
          "data": {
            "text/plain": [
              "(56495, 3)"
            ]
          },
          "metadata": {},
          "execution_count": 10
        }
      ]
    },
    {
      "cell_type": "markdown",
      "metadata": {
        "id": "9gbf2UIWaN0q"
      },
      "source": [
        "### Word Cloud"
      ]
    },
    {
      "cell_type": "code",
      "metadata": {
        "id": "KgMtCz_yUw-q",
        "colab": {
          "base_uri": "https://localhost:8080/",
          "height": 1000
        },
        "outputId": "0058f453-9ff4-4a83-ea50-17bc86f4507d"
      },
      "source": [
        "!pip install wordcloud-fa"
      ],
      "execution_count": null,
      "outputs": [
        {
          "output_type": "stream",
          "text": [
            "Collecting wordcloud-fa\n",
            "  Downloading wordcloud_fa-0.1.8.tar.gz (76 kB)\n",
            "\u001b[?25l\r\u001b[K     |████▎                           | 10 kB 23.1 MB/s eta 0:00:01\r\u001b[K     |████████▋                       | 20 kB 28.1 MB/s eta 0:00:01\r\u001b[K     |█████████████                   | 30 kB 12.6 MB/s eta 0:00:01\r\u001b[K     |█████████████████▏              | 40 kB 9.3 MB/s eta 0:00:01\r\u001b[K     |█████████████████████▌          | 51 kB 5.1 MB/s eta 0:00:01\r\u001b[K     |█████████████████████████▉      | 61 kB 5.1 MB/s eta 0:00:01\r\u001b[K     |██████████████████████████████  | 71 kB 5.7 MB/s eta 0:00:01\r\u001b[K     |████████████████████████████████| 76 kB 2.8 MB/s \n",
            "\u001b[?25hRequirement already satisfied: numpy>=1.18.1 in /usr/local/lib/python3.7/dist-packages (from wordcloud-fa) (1.19.5)\n",
            "Requirement already satisfied: pillow>=7.0.0 in /usr/local/lib/python3.7/dist-packages (from wordcloud-fa) (7.1.2)\n",
            "Requirement already satisfied: matplotlib>=3.1.2 in /usr/local/lib/python3.7/dist-packages (from wordcloud-fa) (3.2.2)\n",
            "Collecting arabic_reshaper\n",
            "  Downloading arabic_reshaper-2.1.3-py3-none-any.whl (20 kB)\n",
            "Collecting python-bidi>=0.4.2\n",
            "  Downloading python_bidi-0.4.2-py2.py3-none-any.whl (30 kB)\n",
            "Collecting wordcloud==1.7.0\n",
            "  Downloading wordcloud-1.7.0-cp37-cp37m-manylinux1_x86_64.whl (364 kB)\n",
            "\u001b[K     |████████████████████████████████| 364 kB 10.9 MB/s \n",
            "\u001b[?25hCollecting hazm\n",
            "  Downloading hazm-0.7.0-py3-none-any.whl (316 kB)\n",
            "\u001b[K     |████████████████████████████████| 316 kB 46.9 MB/s \n",
            "\u001b[?25hRequirement already satisfied: kiwisolver>=1.0.1 in /usr/local/lib/python3.7/dist-packages (from matplotlib>=3.1.2->wordcloud-fa) (1.3.1)\n",
            "Requirement already satisfied: python-dateutil>=2.1 in /usr/local/lib/python3.7/dist-packages (from matplotlib>=3.1.2->wordcloud-fa) (2.8.2)\n",
            "Requirement already satisfied: cycler>=0.10 in /usr/local/lib/python3.7/dist-packages (from matplotlib>=3.1.2->wordcloud-fa) (0.10.0)\n",
            "Requirement already satisfied: pyparsing!=2.0.4,!=2.1.2,!=2.1.6,>=2.0.1 in /usr/local/lib/python3.7/dist-packages (from matplotlib>=3.1.2->wordcloud-fa) (2.4.7)\n",
            "Requirement already satisfied: six in /usr/local/lib/python3.7/dist-packages (from cycler>=0.10->matplotlib>=3.1.2->wordcloud-fa) (1.15.0)\n",
            "Requirement already satisfied: future in /usr/local/lib/python3.7/dist-packages (from arabic_reshaper->wordcloud-fa) (0.16.0)\n",
            "Requirement already satisfied: setuptools in /usr/local/lib/python3.7/dist-packages (from arabic_reshaper->wordcloud-fa) (57.4.0)\n",
            "Collecting nltk==3.3\n",
            "  Downloading nltk-3.3.0.zip (1.4 MB)\n",
            "\u001b[K     |████████████████████████████████| 1.4 MB 47.4 MB/s \n",
            "\u001b[?25hCollecting libwapiti>=0.2.1\n",
            "  Downloading libwapiti-0.2.1.tar.gz (233 kB)\n",
            "\u001b[K     |████████████████████████████████| 233 kB 61.2 MB/s \n",
            "\u001b[?25hBuilding wheels for collected packages: wordcloud-fa, nltk, libwapiti\n",
            "  Building wheel for wordcloud-fa (setup.py) ... \u001b[?25l\u001b[?25hdone\n",
            "  Created wheel for wordcloud-fa: filename=wordcloud_fa-0.1.8-py3-none-any.whl size=71015 sha256=2093231463b0d97827f3777003ee4cdc2f8b69eb04086ec3abd65cd2fe4c304d\n",
            "  Stored in directory: /root/.cache/pip/wheels/ae/a0/f3/81d930500493324929d26658e5a3ccff5ccc8644131ad1aadc\n",
            "  Building wheel for nltk (setup.py) ... \u001b[?25l\u001b[?25hdone\n",
            "  Created wheel for nltk: filename=nltk-3.3-py3-none-any.whl size=1394486 sha256=d657de3b9d38314bf9bc92f8ba0a5e31ec942a80264cfd3b9f0448ddaff98472\n",
            "  Stored in directory: /root/.cache/pip/wheels/9b/fd/0c/d92302c876e5de87ebd7fc0979d82edb93e2d8d768bf71fac4\n",
            "  Building wheel for libwapiti (setup.py) ... \u001b[?25l\u001b[?25hdone\n",
            "  Created wheel for libwapiti: filename=libwapiti-0.2.1-cp37-cp37m-linux_x86_64.whl size=154249 sha256=1b8b13865662cfbbaff73bfe9e56fc2865d1c54d749536b3eb4cd7fc91379f9d\n",
            "  Stored in directory: /root/.cache/pip/wheels/ab/b2/5b/0fe4b8f5c0e65341e8ea7bb3f4a6ebabfe8b1ac31322392dbf\n",
            "Successfully built wordcloud-fa nltk libwapiti\n",
            "Installing collected packages: nltk, libwapiti, wordcloud, python-bidi, hazm, arabic-reshaper, wordcloud-fa\n",
            "  Attempting uninstall: nltk\n",
            "    Found existing installation: nltk 3.4.5\n",
            "    Uninstalling nltk-3.4.5:\n",
            "      Successfully uninstalled nltk-3.4.5\n",
            "  Attempting uninstall: wordcloud\n",
            "    Found existing installation: wordcloud 1.5.0\n",
            "    Uninstalling wordcloud-1.5.0:\n",
            "      Successfully uninstalled wordcloud-1.5.0\n",
            "\u001b[31mERROR: pip's dependency resolver does not currently take into account all the packages that are installed. This behaviour is the source of the following dependency conflicts.\n",
            "parsivar 0.2.3 requires nltk==3.4.5, but you have nltk 3.3 which is incompatible.\u001b[0m\n",
            "Successfully installed arabic-reshaper-2.1.3 hazm-0.7.0 libwapiti-0.2.1 nltk-3.3 python-bidi-0.4.2 wordcloud-1.7.0 wordcloud-fa-0.1.8\n"
          ],
          "name": "stdout"
        },
        {
          "output_type": "display_data",
          "data": {
            "application/vnd.colab-display-data+json": {
              "pip_warning": {
                "packages": [
                  "nltk"
                ]
              }
            }
          },
          "metadata": {}
        }
      ]
    },
    {
      "cell_type": "code",
      "metadata": {
        "id": "7tUVBNg8aR5X"
      },
      "source": [
        "# for supporting persian language\n",
        "from wordcloud_fa import WordCloudFa "
      ],
      "execution_count": null,
      "outputs": []
    },
    {
      "cell_type": "markdown",
      "metadata": {
        "id": "XlHKOfKoaekS"
      },
      "source": [
        "#### SAD words frequency"
      ]
    },
    {
      "cell_type": "code",
      "metadata": {
        "id": "EaKuRCWXaW9M"
      },
      "source": [
        "df_sad = train_data.loc[train_data['label'] == -1]\n",
        "\n",
        "text_sad = \" \".join(text for text in df_sad['preprocessing_text'])"
      ],
      "execution_count": null,
      "outputs": []
    },
    {
      "cell_type": "code",
      "metadata": {
        "colab": {
          "base_uri": "https://localhost:8080/"
        },
        "id": "w72bfrEmak12",
        "outputId": "b6592940-7d83-4741-a3b3-47e5780da7a4"
      },
      "source": [
        "print (\"There are {} words in the combination of all SAD texts.\".format(len(text_sad)))"
      ],
      "execution_count": null,
      "outputs": [
        {
          "output_type": "stream",
          "text": [
            "There are 1517239 words in the combination of all SAD texts.\n"
          ],
          "name": "stdout"
        }
      ]
    },
    {
      "cell_type": "code",
      "metadata": {
        "colab": {
          "base_uri": "https://localhost:8080/",
          "height": 214
        },
        "id": "x33x1P-yalY2",
        "outputId": "b0f9182f-a699-47d1-c172-f7864e1655b0"
      },
      "source": [
        "# Generate a word cloud image for SAD\n",
        "wordcloud_sad = WordCloudFa(background_color=\"white\").generate(text_sad)\n",
        "\n",
        "# Display the generated image:\n",
        "# the matplotlib way:\n",
        "plt.imshow(wordcloud_sad, interpolation='bilinear')\n",
        "plt.axis(\"off\")\n",
        "plt.title('SAD word cloud')\n",
        "plt.show()"
      ],
      "execution_count": null,
      "outputs": [
        {
          "output_type": "display_data",
          "data": {
            "image/png": "[encoded data removed]",
            "text/plain": [
              "<Figure size 432x288 with 1 Axes>"
            ]
          },
          "metadata": {
            "needs_background": "light"
          }
        }
      ]
    },
    {
      "cell_type": "markdown",
      "metadata": {
        "id": "IaH-L8CJaorO"
      },
      "source": [
        "#### HAPPY words frequency"
      ]
    },
    {
      "cell_type": "code",
      "metadata": {
        "id": "0riW0F6Garfz"
      },
      "source": [
        "df_happy = train_data.loc[train_data['label'] == 1]\n",
        "\n",
        "text_happy = \" \".join(text for text in df_happy['preprocessing_text'])"
      ],
      "execution_count": null,
      "outputs": []
    },
    {
      "cell_type": "code",
      "metadata": {
        "colab": {
          "base_uri": "https://localhost:8080/"
        },
        "id": "WyykAzuHbMVk",
        "outputId": "c0f07794-bd0e-4179-b81c-3b9aa67008a0"
      },
      "source": [
        "print (\"There are {} words in the combination of all HAPPY texts.\".format(len(text_happy)))"
      ],
      "execution_count": null,
      "outputs": [
        {
          "output_type": "stream",
          "text": [
            "There are 1148067 words in the combination of all HAPPY texts.\n"
          ],
          "name": "stdout"
        }
      ]
    },
    {
      "cell_type": "code",
      "metadata": {
        "colab": {
          "base_uri": "https://localhost:8080/",
          "height": 214
        },
        "id": "Z6ni_D1tbT1v",
        "outputId": "b2799c7d-5f9c-46ae-aa18-4de01cbf566c"
      },
      "source": [
        "# Generate a word cloud image for SAD\n",
        "wordcloud_happy = WordCloudFa(background_color=\"white\").generate(text_happy)\n",
        "\n",
        "# Display the generated image:\n",
        "# the matplotlib way:\n",
        "plt.imshow(wordcloud_happy, interpolation='bilinear')\n",
        "plt.axis(\"off\")\n",
        "plt.title('HAPPY word cloud')\n",
        "plt.show()"
      ],
      "execution_count": null,
      "outputs": [
        {
          "output_type": "display_data",
          "data": {
            "image/png": "[encoded data removed]",
            "text/plain": [
              "<Figure size 432x288 with 1 Axes>"
            ]
          },
          "metadata": {
            "needs_background": "light"
          }
        }
      ]
    },
    {
      "cell_type": "code",
      "metadata": {
        "id": "YosQq8Q0d_w3"
      },
      "source": [
        ""
      ],
      "execution_count": null,
      "outputs": []
    }
  ]
}