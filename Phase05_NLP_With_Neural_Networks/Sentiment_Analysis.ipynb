{
  "nbformat": 4,
  "nbformat_minor": 0,
  "metadata": {
    "colab": {
      "name": "Sentiment Analysis.ipynb",
      "provenance": [],
      "collapsed_sections": []
    },
    "kernelspec": {
      "name": "python3",
      "display_name": "Python 3"
    },
    "language_info": {
      "name": "python"
    }
  },
  "cells": [
    {
      "cell_type": "markdown",
      "metadata": {
        "id": "OM1_G40Rj421"
      },
      "source": [
        "# Section 2: Sentiment Analysis on SnappFood dataset"
      ]
    },
    {
      "cell_type": "markdown",
      "metadata": {
        "id": "Us_0VzIPSI2e"
      },
      "source": [
        "## Sentiment Analysis without using Neural Networks"
      ]
    },
    {
      "cell_type": "code",
      "metadata": {
        "colab": {
          "base_uri": "https://localhost:8080/"
        },
        "id": "AFq9X4RSM0_f",
        "outputId": "596039db-cfe4-40eb-c559-b477135534f4"
      },
      "source": [
        "!pip install parsivar"
      ],
      "execution_count": 1,
      "outputs": [
        {
          "output_type": "stream",
          "text": [
            "Requirement already satisfied: parsivar in /usr/local/lib/python3.7/dist-packages (0.2.3)\n",
            "Requirement already satisfied: nltk==3.4.5 in /usr/local/lib/python3.7/dist-packages (from parsivar) (3.4.5)\n",
            "Requirement already satisfied: six in /usr/local/lib/python3.7/dist-packages (from nltk==3.4.5->parsivar) (1.15.0)\n"
          ],
          "name": "stdout"
        }
      ]
    },
    {
      "cell_type": "code",
      "metadata": {
        "colab": {
          "base_uri": "https://localhost:8080/"
        },
        "id": "DuGPpua7M38A",
        "outputId": "f9093cf6-d261-4ac6-9b52-c82fa0fe79a8"
      },
      "source": [
        "# Loading NLTk\n",
        "import nltk\n",
        "nltk.download('punkt')"
      ],
      "execution_count": 2,
      "outputs": [
        {
          "output_type": "stream",
          "text": [
            "[nltk_data] Downloading package punkt to /root/nltk_data...\n",
            "[nltk_data]   Package punkt is already up-to-date!\n"
          ],
          "name": "stderr"
        },
        {
          "output_type": "execute_result",
          "data": {
            "text/plain": [
              "True"
            ]
          },
          "metadata": {},
          "execution_count": 2
        }
      ]
    },
    {
      "cell_type": "code",
      "metadata": {
        "id": "rfeZyySLK_up"
      },
      "source": [
        "# NLP libraries\n",
        "import parsivar\n",
        "from parsivar import Normalizer, Tokenizer, FindStems, POSTagger, FindChunks\n",
        "\n",
        "# plot\n",
        "import matplotlib.pyplot as plt\n",
        "\n",
        "import pandas as pd\n",
        "import string\n",
        "import re\n",
        "import numpy as np\n",
        "np.random.seed(0)\n",
        "\n",
        "import warnings\n",
        "warnings.filterwarnings('ignore')"
      ],
      "execution_count": 3,
      "outputs": []
    },
    {
      "cell_type": "markdown",
      "metadata": {
        "id": "NAA2Y-dRR_bW"
      },
      "source": [
        "### Read dataset"
      ]
    },
    {
      "cell_type": "code",
      "metadata": {
        "colab": {
          "base_uri": "https://localhost:8080/"
        },
        "id": "gQMDzvDqMpvj",
        "outputId": "aa870b2c-7b9c-406e-da14-78f0869401b4"
      },
      "source": [
        "from google.colab import drive\n",
        "drive.mount('/content/drive')"
      ],
      "execution_count": 4,
      "outputs": [
        {
          "output_type": "stream",
          "text": [
            "Drive already mounted at /content/drive; to attempt to forcibly remount, call drive.mount(\"/content/drive\", force_remount=True).\n"
          ],
          "name": "stdout"
        }
      ]
    },
    {
      "cell_type": "markdown",
      "metadata": {
        "id": "CViIl-LdOiTP"
      },
      "source": [
        "Let's read SnappFood dataset.\n",
        "If we open these files with notepad, we see that the columns seprated by tab, so, we should specify seprator in read_csv function."
      ]
    },
    {
      "cell_type": "code",
      "metadata": {
        "colab": {
          "base_uri": "https://localhost:8080/"
        },
        "id": "oAWzDzSjPo7k",
        "outputId": "c375893c-6eca-483d-d909-d608cb9aeab2"
      },
      "source": [
        "# read csv dataset\n",
        "train = pd.read_csv('/content/drive/MyDrive/AI-Internship/snappfood/snappfood/train.csv', sep='\\t')\n",
        "valid = pd.read_csv('/content/drive/MyDrive/AI-Internship/snappfood/snappfood/dev.csv', sep='\\t')\n",
        "test = pd.read_csv('/content/drive/MyDrive/AI-Internship/snappfood/snappfood/test.csv', sep='\\t')\n",
        "\n",
        "# pritn shape of each dataset\n",
        "print(f'train_data shape : {train.shape}')\n",
        "print(f'valid_data shape : {valid.shape}')\n",
        "print(f'test_data shape : {test.shape}')"
      ],
      "execution_count": 5,
      "outputs": [
        {
          "output_type": "stream",
          "text": [
            "train_data shape : (56700, 4)\n",
            "valid_data shape : (6300, 4)\n",
            "test_data shape : (7000, 4)\n"
          ],
          "name": "stdout"
        }
      ]
    },
    {
      "cell_type": "code",
      "metadata": {
        "colab": {
          "base_uri": "https://localhost:8080/",
          "height": 206
        },
        "id": "R2UXQa-jPv-Z",
        "outputId": "36075c09-7d7e-468e-c919-da25744e7f25"
      },
      "source": [
        "train.head()"
      ],
      "execution_count": 6,
      "outputs": [
        {
          "output_type": "execute_result",
          "data": {
            "text/html": [
              "<div>\n",
              "<style scoped>\n",
              "    .dataframe tbody tr th:only-of-type {\n",
              "        vertical-align: middle;\n",
              "    }\n",
              "\n",
              "    .dataframe tbody tr th {\n",
              "        vertical-align: top;\n",
              "    }\n",
              "\n",
              "    .dataframe thead th {\n",
              "        text-align: right;\n",
              "    }\n",
              "</style>\n",
              "<table border=\"1\" class=\"dataframe\">\n",
              "  <thead>\n",
              "    <tr style=\"text-align: right;\">\n",
              "      <th></th>\n",
              "      <th>Unnamed: 0</th>\n",
              "      <th>comment</th>\n",
              "      <th>label</th>\n",
              "      <th>label_id</th>\n",
              "    </tr>\n",
              "  </thead>\n",
              "  <tbody>\n",
              "    <tr>\n",
              "      <th>0</th>\n",
              "      <td>0</td>\n",
              "      <td>واقعا حیف وقت که بنویسم سرویس دهیتون شده افتضاح</td>\n",
              "      <td>SAD</td>\n",
              "      <td>1</td>\n",
              "    </tr>\n",
              "    <tr>\n",
              "      <th>1</th>\n",
              "      <td>1</td>\n",
              "      <td>قرار بود ۱ ساعته برسه ولی نیم ساعت زودتر از مو...</td>\n",
              "      <td>HAPPY</td>\n",
              "      <td>0</td>\n",
              "    </tr>\n",
              "    <tr>\n",
              "      <th>2</th>\n",
              "      <td>2</td>\n",
              "      <td>قیمت این مدل اصلا با کیفیتش سازگاری نداره، فقط...</td>\n",
              "      <td>SAD</td>\n",
              "      <td>1</td>\n",
              "    </tr>\n",
              "    <tr>\n",
              "      <th>3</th>\n",
              "      <td>3</td>\n",
              "      <td>عالللی بود همه چه درست و به اندازه و کیفیت خوب...</td>\n",
              "      <td>HAPPY</td>\n",
              "      <td>0</td>\n",
              "    </tr>\n",
              "    <tr>\n",
              "      <th>4</th>\n",
              "      <td>4</td>\n",
              "      <td>شیرینی وانیلی فقط یک مدل بود.</td>\n",
              "      <td>HAPPY</td>\n",
              "      <td>0</td>\n",
              "    </tr>\n",
              "  </tbody>\n",
              "</table>\n",
              "</div>"
            ],
            "text/plain": [
              "   Unnamed: 0  ... label_id\n",
              "0           0  ...        1\n",
              "1           1  ...        0\n",
              "2           2  ...        1\n",
              "3           3  ...        0\n",
              "4           4  ...        0\n",
              "\n",
              "[5 rows x 4 columns]"
            ]
          },
          "metadata": {},
          "execution_count": 6
        }
      ]
    },
    {
      "cell_type": "code",
      "metadata": {
        "colab": {
          "base_uri": "https://localhost:8080/",
          "height": 206
        },
        "id": "sAGZFjRV2UqN",
        "outputId": "99db8d50-6afc-4792-d8e0-3151d1f42052"
      },
      "source": [
        "valid.head()"
      ],
      "execution_count": 7,
      "outputs": [
        {
          "output_type": "execute_result",
          "data": {
            "text/html": [
              "<div>\n",
              "<style scoped>\n",
              "    .dataframe tbody tr th:only-of-type {\n",
              "        vertical-align: middle;\n",
              "    }\n",
              "\n",
              "    .dataframe tbody tr th {\n",
              "        vertical-align: top;\n",
              "    }\n",
              "\n",
              "    .dataframe thead th {\n",
              "        text-align: right;\n",
              "    }\n",
              "</style>\n",
              "<table border=\"1\" class=\"dataframe\">\n",
              "  <thead>\n",
              "    <tr style=\"text-align: right;\">\n",
              "      <th></th>\n",
              "      <th>Unnamed: 0</th>\n",
              "      <th>comment</th>\n",
              "      <th>label</th>\n",
              "      <th>label_id</th>\n",
              "    </tr>\n",
              "  </thead>\n",
              "  <tbody>\n",
              "    <tr>\n",
              "      <th>0</th>\n",
              "      <td>0</td>\n",
              "      <td>همه ساندویچ‌ها سرد بود متاسفانه در صورتی که فا...</td>\n",
              "      <td>SAD</td>\n",
              "      <td>1</td>\n",
              "    </tr>\n",
              "    <tr>\n",
              "      <th>1</th>\n",
              "      <td>1</td>\n",
              "      <td>تشکر، عالی‌تر از همیشه</td>\n",
              "      <td>HAPPY</td>\n",
              "      <td>0</td>\n",
              "    </tr>\n",
              "    <tr>\n",
              "      <th>2</th>\n",
              "      <td>2</td>\n",
              "      <td>مرغ و کدو رو دوس نداشتم ولی کلا ساندویچهای خوش...</td>\n",
              "      <td>HAPPY</td>\n",
              "      <td>0</td>\n",
              "    </tr>\n",
              "    <tr>\n",
              "      <th>3</th>\n",
              "      <td>3</td>\n",
              "      <td>نمیدونم هزینه بسته بندی به چه دلیل گرفته شد؟؟؟</td>\n",
              "      <td>SAD</td>\n",
              "      <td>1</td>\n",
              "    </tr>\n",
              "    <tr>\n",
              "      <th>4</th>\n",
              "      <td>4</td>\n",
              "      <td>یک نوشابه کم ارسال شد و تاخیر فراوان و غذای نس...</td>\n",
              "      <td>SAD</td>\n",
              "      <td>1</td>\n",
              "    </tr>\n",
              "  </tbody>\n",
              "</table>\n",
              "</div>"
            ],
            "text/plain": [
              "   Unnamed: 0  ... label_id\n",
              "0           0  ...        1\n",
              "1           1  ...        0\n",
              "2           2  ...        0\n",
              "3           3  ...        1\n",
              "4           4  ...        1\n",
              "\n",
              "[5 rows x 4 columns]"
            ]
          },
          "metadata": {},
          "execution_count": 7
        }
      ]
    },
    {
      "cell_type": "code",
      "metadata": {
        "colab": {
          "base_uri": "https://localhost:8080/",
          "height": 206
        },
        "id": "KXaxJFcB2X2M",
        "outputId": "2fc393a1-84fa-4737-9393-e4848bb8d75b"
      },
      "source": [
        "test.head()"
      ],
      "execution_count": 8,
      "outputs": [
        {
          "output_type": "execute_result",
          "data": {
            "text/html": [
              "<div>\n",
              "<style scoped>\n",
              "    .dataframe tbody tr th:only-of-type {\n",
              "        vertical-align: middle;\n",
              "    }\n",
              "\n",
              "    .dataframe tbody tr th {\n",
              "        vertical-align: top;\n",
              "    }\n",
              "\n",
              "    .dataframe thead th {\n",
              "        text-align: right;\n",
              "    }\n",
              "</style>\n",
              "<table border=\"1\" class=\"dataframe\">\n",
              "  <thead>\n",
              "    <tr style=\"text-align: right;\">\n",
              "      <th></th>\n",
              "      <th>Unnamed: 0</th>\n",
              "      <th>comment</th>\n",
              "      <th>label</th>\n",
              "      <th>label_id</th>\n",
              "    </tr>\n",
              "  </thead>\n",
              "  <tbody>\n",
              "    <tr>\n",
              "      <th>0</th>\n",
              "      <td>0</td>\n",
              "      <td>خواهشا خواهشا خواهشا واسه ارسال شیرینیها یه فک...</td>\n",
              "      <td>HAPPY</td>\n",
              "      <td>0</td>\n",
              "    </tr>\n",
              "    <tr>\n",
              "      <th>1</th>\n",
              "      <td>1</td>\n",
              "      <td>غذا گرم رسید کیفیت و پخت گوشت عالی بود</td>\n",
              "      <td>HAPPY</td>\n",
              "      <td>0</td>\n",
              "    </tr>\n",
              "    <tr>\n",
              "      <th>2</th>\n",
              "      <td>2</td>\n",
              "      <td>قیمت سس شکلات روی بسته بندی ۱۵۰۰۰ بود ولی قیمت...</td>\n",
              "      <td>SAD</td>\n",
              "      <td>1</td>\n",
              "    </tr>\n",
              "    <tr>\n",
              "      <th>3</th>\n",
              "      <td>3</td>\n",
              "      <td>عکس توی پیج یه شیرینی شکری روشن رنگ هست که همم...</td>\n",
              "      <td>SAD</td>\n",
              "      <td>1</td>\n",
              "    </tr>\n",
              "    <tr>\n",
              "      <th>4</th>\n",
              "      <td>4</td>\n",
              "      <td>باز هم میگم، پیتزا نباید اینقد چرب باشه</td>\n",
              "      <td>SAD</td>\n",
              "      <td>1</td>\n",
              "    </tr>\n",
              "  </tbody>\n",
              "</table>\n",
              "</div>"
            ],
            "text/plain": [
              "   Unnamed: 0  ... label_id\n",
              "0           0  ...        0\n",
              "1           1  ...        0\n",
              "2           2  ...        1\n",
              "3           3  ...        1\n",
              "4           4  ...        1\n",
              "\n",
              "[5 rows x 4 columns]"
            ]
          },
          "metadata": {},
          "execution_count": 8
        }
      ]
    },
    {
      "cell_type": "markdown",
      "metadata": {
        "id": "-pfmAqiY_FQH"
      },
      "source": [
        "### Data Cleaning"
      ]
    },
    {
      "cell_type": "markdown",
      "metadata": {
        "id": "SFucAgp52ji-"
      },
      "source": [
        "#### Remove irrelevant columns"
      ]
    },
    {
      "cell_type": "markdown",
      "metadata": {
        "id": "XlC2ju-p2t2z"
      },
      "source": [
        "Now we should remove irrelevant columns in each dataset."
      ]
    },
    {
      "cell_type": "code",
      "metadata": {
        "id": "9mX_QI032tEM"
      },
      "source": [
        "train_data = train.copy()\n",
        "valid_data = valid.copy()\n",
        "test_data = test.copy()\n",
        "\n",
        "train_data.drop(labels=['Unnamed: 0','label'], axis=1, inplace=True) # remove useless columns\n",
        "valid_data.drop(labels=['Unnamed: 0','label'], axis=1, inplace=True) # remove useless columns\n",
        "test_data.drop(labels=['Unnamed: 0','label'], axis=1, inplace=True) # remove useless columns"
      ],
      "execution_count": 9,
      "outputs": []
    },
    {
      "cell_type": "code",
      "metadata": {
        "colab": {
          "base_uri": "https://localhost:8080/"
        },
        "id": "MWV3qKZF5DM1",
        "outputId": "71afec50-c963-457d-fae7-e87cb3f8080d"
      },
      "source": [
        "print(f'train_data shape : {train_data.shape}')\n",
        "print(f'valid_data shape : {valid_data.shape}')\n",
        "print(f'test_data shape : {test_data.shape}')"
      ],
      "execution_count": 10,
      "outputs": [
        {
          "output_type": "stream",
          "text": [
            "train_data shape : (56700, 2)\n",
            "valid_data shape : (6300, 2)\n",
            "test_data shape : (7000, 2)\n"
          ],
          "name": "stdout"
        }
      ]
    },
    {
      "cell_type": "code",
      "metadata": {
        "colab": {
          "base_uri": "https://localhost:8080/",
          "height": 206
        },
        "id": "zJUPyrQr5Fdc",
        "outputId": "4a96a050-4295-4c74-8803-824a89fcd244"
      },
      "source": [
        "train_data.head()"
      ],
      "execution_count": 11,
      "outputs": [
        {
          "output_type": "execute_result",
          "data": {
            "text/html": [
              "<div>\n",
              "<style scoped>\n",
              "    .dataframe tbody tr th:only-of-type {\n",
              "        vertical-align: middle;\n",
              "    }\n",
              "\n",
              "    .dataframe tbody tr th {\n",
              "        vertical-align: top;\n",
              "    }\n",
              "\n",
              "    .dataframe thead th {\n",
              "        text-align: right;\n",
              "    }\n",
              "</style>\n",
              "<table border=\"1\" class=\"dataframe\">\n",
              "  <thead>\n",
              "    <tr style=\"text-align: right;\">\n",
              "      <th></th>\n",
              "      <th>comment</th>\n",
              "      <th>label_id</th>\n",
              "    </tr>\n",
              "  </thead>\n",
              "  <tbody>\n",
              "    <tr>\n",
              "      <th>0</th>\n",
              "      <td>واقعا حیف وقت که بنویسم سرویس دهیتون شده افتضاح</td>\n",
              "      <td>1</td>\n",
              "    </tr>\n",
              "    <tr>\n",
              "      <th>1</th>\n",
              "      <td>قرار بود ۱ ساعته برسه ولی نیم ساعت زودتر از مو...</td>\n",
              "      <td>0</td>\n",
              "    </tr>\n",
              "    <tr>\n",
              "      <th>2</th>\n",
              "      <td>قیمت این مدل اصلا با کیفیتش سازگاری نداره، فقط...</td>\n",
              "      <td>1</td>\n",
              "    </tr>\n",
              "    <tr>\n",
              "      <th>3</th>\n",
              "      <td>عالللی بود همه چه درست و به اندازه و کیفیت خوب...</td>\n",
              "      <td>0</td>\n",
              "    </tr>\n",
              "    <tr>\n",
              "      <th>4</th>\n",
              "      <td>شیرینی وانیلی فقط یک مدل بود.</td>\n",
              "      <td>0</td>\n",
              "    </tr>\n",
              "  </tbody>\n",
              "</table>\n",
              "</div>"
            ],
            "text/plain": [
              "                                             comment  label_id\n",
              "0    واقعا حیف وقت که بنویسم سرویس دهیتون شده افتضاح         1\n",
              "1  قرار بود ۱ ساعته برسه ولی نیم ساعت زودتر از مو...         0\n",
              "2  قیمت این مدل اصلا با کیفیتش سازگاری نداره، فقط...         1\n",
              "3  عالللی بود همه چه درست و به اندازه و کیفیت خوب...         0\n",
              "4                      شیرینی وانیلی فقط یک مدل بود.         0"
            ]
          },
          "metadata": {},
          "execution_count": 11
        }
      ]
    },
    {
      "cell_type": "markdown",
      "metadata": {
        "id": "a-DDP3QZ-7rR"
      },
      "source": [
        "#### Change header name"
      ]
    },
    {
      "cell_type": "code",
      "metadata": {
        "id": "goHntLym80Ta"
      },
      "source": [
        "#change header name\n",
        "train_data.columns = ['comment','label']\n",
        "valid_data.columns = ['comment','label']\n",
        "test_data.columns = ['comment','label']"
      ],
      "execution_count": 12,
      "outputs": []
    },
    {
      "cell_type": "code",
      "metadata": {
        "colab": {
          "base_uri": "https://localhost:8080/",
          "height": 206
        },
        "id": "ur4465Vd-MvX",
        "outputId": "6a70b169-630b-4c7f-af15-1d021caa3d11"
      },
      "source": [
        "train_data.head()"
      ],
      "execution_count": 13,
      "outputs": [
        {
          "output_type": "execute_result",
          "data": {
            "text/html": [
              "<div>\n",
              "<style scoped>\n",
              "    .dataframe tbody tr th:only-of-type {\n",
              "        vertical-align: middle;\n",
              "    }\n",
              "\n",
              "    .dataframe tbody tr th {\n",
              "        vertical-align: top;\n",
              "    }\n",
              "\n",
              "    .dataframe thead th {\n",
              "        text-align: right;\n",
              "    }\n",
              "</style>\n",
              "<table border=\"1\" class=\"dataframe\">\n",
              "  <thead>\n",
              "    <tr style=\"text-align: right;\">\n",
              "      <th></th>\n",
              "      <th>comment</th>\n",
              "      <th>label</th>\n",
              "    </tr>\n",
              "  </thead>\n",
              "  <tbody>\n",
              "    <tr>\n",
              "      <th>0</th>\n",
              "      <td>واقعا حیف وقت که بنویسم سرویس دهیتون شده افتضاح</td>\n",
              "      <td>1</td>\n",
              "    </tr>\n",
              "    <tr>\n",
              "      <th>1</th>\n",
              "      <td>قرار بود ۱ ساعته برسه ولی نیم ساعت زودتر از مو...</td>\n",
              "      <td>0</td>\n",
              "    </tr>\n",
              "    <tr>\n",
              "      <th>2</th>\n",
              "      <td>قیمت این مدل اصلا با کیفیتش سازگاری نداره، فقط...</td>\n",
              "      <td>1</td>\n",
              "    </tr>\n",
              "    <tr>\n",
              "      <th>3</th>\n",
              "      <td>عالللی بود همه چه درست و به اندازه و کیفیت خوب...</td>\n",
              "      <td>0</td>\n",
              "    </tr>\n",
              "    <tr>\n",
              "      <th>4</th>\n",
              "      <td>شیرینی وانیلی فقط یک مدل بود.</td>\n",
              "      <td>0</td>\n",
              "    </tr>\n",
              "  </tbody>\n",
              "</table>\n",
              "</div>"
            ],
            "text/plain": [
              "                                             comment  label\n",
              "0    واقعا حیف وقت که بنویسم سرویس دهیتون شده افتضاح      1\n",
              "1  قرار بود ۱ ساعته برسه ولی نیم ساعت زودتر از مو...      0\n",
              "2  قیمت این مدل اصلا با کیفیتش سازگاری نداره، فقط...      1\n",
              "3  عالللی بود همه چه درست و به اندازه و کیفیت خوب...      0\n",
              "4                      شیرینی وانیلی فقط یک مدل بود.      0"
            ]
          },
          "metadata": {},
          "execution_count": 13
        }
      ]
    },
    {
      "cell_type": "markdown",
      "metadata": {
        "id": "N2V2v29kBTgl"
      },
      "source": [
        "Because we want to use the polarity of each word, we should change the label from 1 to -1 (for negative comments) and change the label from 0 to 1 (for positive comments)."
      ]
    },
    {
      "cell_type": "code",
      "metadata": {
        "id": "UrIHsPviAFjv"
      },
      "source": [
        "# 0 means HAPPY and 1 means SAD\n",
        "train_data.label[train_data.label == 1] = -1\n",
        "train_data.label[train_data.label == 0] = 1\n",
        "\n",
        "valid_data.label[valid_data.label == 1] = -1\n",
        "valid_data.label[valid_data.label == 0] = 1\n",
        "\n",
        "test_data.label[test_data.label == 1] = -1\n",
        "test_data.label[test_data.label == 0] = 1"
      ],
      "execution_count": 14,
      "outputs": []
    },
    {
      "cell_type": "code",
      "metadata": {
        "colab": {
          "base_uri": "https://localhost:8080/",
          "height": 206
        },
        "id": "EqzlMiIICUtP",
        "outputId": "e2f5d9b2-805e-4d5f-c0bd-7ac905ed6c16"
      },
      "source": [
        "train_data.head()"
      ],
      "execution_count": 15,
      "outputs": [
        {
          "output_type": "execute_result",
          "data": {
            "text/html": [
              "<div>\n",
              "<style scoped>\n",
              "    .dataframe tbody tr th:only-of-type {\n",
              "        vertical-align: middle;\n",
              "    }\n",
              "\n",
              "    .dataframe tbody tr th {\n",
              "        vertical-align: top;\n",
              "    }\n",
              "\n",
              "    .dataframe thead th {\n",
              "        text-align: right;\n",
              "    }\n",
              "</style>\n",
              "<table border=\"1\" class=\"dataframe\">\n",
              "  <thead>\n",
              "    <tr style=\"text-align: right;\">\n",
              "      <th></th>\n",
              "      <th>comment</th>\n",
              "      <th>label</th>\n",
              "    </tr>\n",
              "  </thead>\n",
              "  <tbody>\n",
              "    <tr>\n",
              "      <th>0</th>\n",
              "      <td>واقعا حیف وقت که بنویسم سرویس دهیتون شده افتضاح</td>\n",
              "      <td>-1</td>\n",
              "    </tr>\n",
              "    <tr>\n",
              "      <th>1</th>\n",
              "      <td>قرار بود ۱ ساعته برسه ولی نیم ساعت زودتر از مو...</td>\n",
              "      <td>1</td>\n",
              "    </tr>\n",
              "    <tr>\n",
              "      <th>2</th>\n",
              "      <td>قیمت این مدل اصلا با کیفیتش سازگاری نداره، فقط...</td>\n",
              "      <td>-1</td>\n",
              "    </tr>\n",
              "    <tr>\n",
              "      <th>3</th>\n",
              "      <td>عالللی بود همه چه درست و به اندازه و کیفیت خوب...</td>\n",
              "      <td>1</td>\n",
              "    </tr>\n",
              "    <tr>\n",
              "      <th>4</th>\n",
              "      <td>شیرینی وانیلی فقط یک مدل بود.</td>\n",
              "      <td>1</td>\n",
              "    </tr>\n",
              "  </tbody>\n",
              "</table>\n",
              "</div>"
            ],
            "text/plain": [
              "                                             comment  label\n",
              "0    واقعا حیف وقت که بنویسم سرویس دهیتون شده افتضاح     -1\n",
              "1  قرار بود ۱ ساعته برسه ولی نیم ساعت زودتر از مو...      1\n",
              "2  قیمت این مدل اصلا با کیفیتش سازگاری نداره، فقط...     -1\n",
              "3  عالللی بود همه چه درست و به اندازه و کیفیت خوب...      1\n",
              "4                      شیرینی وانیلی فقط یک مدل بود.      1"
            ]
          },
          "metadata": {},
          "execution_count": 15
        }
      ]
    },
    {
      "cell_type": "markdown",
      "metadata": {
        "id": "_0DtzAlv_pHu"
      },
      "source": [
        "###EDA"
      ]
    },
    {
      "cell_type": "markdown",
      "metadata": {
        "id": "n8QpENV6_0Yc"
      },
      "source": [
        "Description of each columns:\n",
        "\n",
        "\n",
        "*   comment : people's opinion about food and restaurant\n",
        "*   label : 1 means positive comment and 0 means negative comment\n",
        "\n",
        "\n",
        "\n"
      ]
    },
    {
      "cell_type": "markdown",
      "metadata": {
        "id": "nqa15zzGONOI"
      },
      "source": [
        "In the beginning, we should check the existence of null data to treat them."
      ]
    },
    {
      "cell_type": "code",
      "metadata": {
        "colab": {
          "base_uri": "https://localhost:8080/"
        },
        "id": "zy6YT_WY-23D",
        "outputId": "c5726549-fc54-420e-b6a1-3c1410a718b0"
      },
      "source": [
        "train_data.info()"
      ],
      "execution_count": 16,
      "outputs": [
        {
          "output_type": "stream",
          "text": [
            "<class 'pandas.core.frame.DataFrame'>\n",
            "RangeIndex: 56700 entries, 0 to 56699\n",
            "Data columns (total 2 columns):\n",
            " #   Column   Non-Null Count  Dtype \n",
            "---  ------   --------------  ----- \n",
            " 0   comment  56700 non-null  object\n",
            " 1   label    56700 non-null  int64 \n",
            "dtypes: int64(1), object(1)\n",
            "memory usage: 886.1+ KB\n"
          ],
          "name": "stdout"
        }
      ]
    },
    {
      "cell_type": "code",
      "metadata": {
        "colab": {
          "base_uri": "https://localhost:8080/"
        },
        "id": "OSm7Yh8fMY0f",
        "outputId": "e9088beb-ab9c-4282-f054-99ba59a652f6"
      },
      "source": [
        "train_data.isnull().sum()"
      ],
      "execution_count": 17,
      "outputs": [
        {
          "output_type": "execute_result",
          "data": {
            "text/plain": [
              "comment    0\n",
              "label      0\n",
              "dtype: int64"
            ]
          },
          "metadata": {},
          "execution_count": 17
        }
      ]
    },
    {
      "cell_type": "code",
      "metadata": {
        "colab": {
          "base_uri": "https://localhost:8080/"
        },
        "id": "Yk-rre5WMhbn",
        "outputId": "5bc20590-2ace-4654-90f0-f6886dcd2de8"
      },
      "source": [
        "valid_data.info()"
      ],
      "execution_count": 18,
      "outputs": [
        {
          "output_type": "stream",
          "text": [
            "<class 'pandas.core.frame.DataFrame'>\n",
            "RangeIndex: 6300 entries, 0 to 6299\n",
            "Data columns (total 2 columns):\n",
            " #   Column   Non-Null Count  Dtype \n",
            "---  ------   --------------  ----- \n",
            " 0   comment  6300 non-null   object\n",
            " 1   label    6300 non-null   int64 \n",
            "dtypes: int64(1), object(1)\n",
            "memory usage: 98.6+ KB\n"
          ],
          "name": "stdout"
        }
      ]
    },
    {
      "cell_type": "code",
      "metadata": {
        "colab": {
          "base_uri": "https://localhost:8080/"
        },
        "id": "gqjZQM0EMkZJ",
        "outputId": "12601f33-762f-42d4-c97c-7037cd9a7df0"
      },
      "source": [
        "valid_data.isnull().sum()"
      ],
      "execution_count": 19,
      "outputs": [
        {
          "output_type": "execute_result",
          "data": {
            "text/plain": [
              "comment    0\n",
              "label      0\n",
              "dtype: int64"
            ]
          },
          "metadata": {},
          "execution_count": 19
        }
      ]
    },
    {
      "cell_type": "code",
      "metadata": {
        "colab": {
          "base_uri": "https://localhost:8080/"
        },
        "id": "WGpfkQZlMojs",
        "outputId": "5c59e3f4-9814-4de9-e231-a954e192ab3a"
      },
      "source": [
        "test_data.info()"
      ],
      "execution_count": 20,
      "outputs": [
        {
          "output_type": "stream",
          "text": [
            "<class 'pandas.core.frame.DataFrame'>\n",
            "RangeIndex: 7000 entries, 0 to 6999\n",
            "Data columns (total 2 columns):\n",
            " #   Column   Non-Null Count  Dtype \n",
            "---  ------   --------------  ----- \n",
            " 0   comment  7000 non-null   object\n",
            " 1   label    7000 non-null   int64 \n",
            "dtypes: int64(1), object(1)\n",
            "memory usage: 109.5+ KB\n"
          ],
          "name": "stdout"
        }
      ]
    },
    {
      "cell_type": "code",
      "metadata": {
        "colab": {
          "base_uri": "https://localhost:8080/"
        },
        "id": "66t7T-P0MsQu",
        "outputId": "abe8f012-7da9-4857-f9ab-c2462b9abb8b"
      },
      "source": [
        "test_data.isnull().sum()"
      ],
      "execution_count": 21,
      "outputs": [
        {
          "output_type": "execute_result",
          "data": {
            "text/plain": [
              "comment    0\n",
              "label      0\n",
              "dtype: int64"
            ]
          },
          "metadata": {},
          "execution_count": 21
        }
      ]
    },
    {
      "cell_type": "markdown",
      "metadata": {
        "id": "C65m45dkOn9Z"
      },
      "source": [
        "As wee saw, we don't have null data in train, valid and test data."
      ]
    },
    {
      "cell_type": "markdown",
      "metadata": {
        "id": "eUL0IrhoOGJe"
      },
      "source": [
        "Let's see distribution of train, valid and test dataset."
      ]
    },
    {
      "cell_type": "code",
      "metadata": {
        "colab": {
          "base_uri": "https://localhost:8080/"
        },
        "id": "WKhVhurlPy8X",
        "outputId": "069bbef2-b2dc-4994-cd9d-f2135bebfdc1"
      },
      "source": [
        "train_data.label.value_counts()"
      ],
      "execution_count": 22,
      "outputs": [
        {
          "output_type": "execute_result",
          "data": {
            "text/plain": [
              "-1    28350\n",
              " 1    28350\n",
              "Name: label, dtype: int64"
            ]
          },
          "metadata": {},
          "execution_count": 22
        }
      ]
    },
    {
      "cell_type": "code",
      "metadata": {
        "colab": {
          "base_uri": "https://localhost:8080/",
          "height": 295
        },
        "id": "hc6fguubQC54",
        "outputId": "24df980e-d69d-4a7c-ad38-2ba94c7950ff"
      },
      "source": [
        "# distribution of data in each class\n",
        "distribution = list(train_data.label.value_counts())\n",
        "\n",
        "import matplotlib.pyplot as plt\n",
        "plt.bar(['-1', '1'] ,distribution)\n",
        "plt.xlabel(\"Label\")\n",
        "plt.ylabel(\"Number of Comments\")\n",
        "plt.title(\"Distribution of train data in each class in SnappFood\")\n",
        "plt.show()"
      ],
      "execution_count": 23,
      "outputs": [
        {
          "output_type": "display_data",
          "data": {
            "image/png": "[encoded data removed]",
            "text/plain": [
              "<Figure size 432x288 with 1 Axes>"
            ]
          },
          "metadata": {
            "needs_background": "light"
          }
        }
      ]
    },
    {
      "cell_type": "markdown",
      "metadata": {
        "id": "wbi4vm8tQRNo"
      },
      "source": [
        "Let's print one example of each class.\n"
      ]
    },
    {
      "cell_type": "code",
      "metadata": {
        "colab": {
          "base_uri": "https://localhost:8080/",
          "height": 36
        },
        "id": "YP7uykFvQQdl",
        "outputId": "9f26394c-008b-4876-ee07-200d171c75ed"
      },
      "source": [
        "# sample happy comment\n",
        "train_data[train_data['label']==1].sample(n=1)['comment'].iloc[0]"
      ],
      "execution_count": 24,
      "outputs": [
        {
          "output_type": "execute_result",
          "data": {
            "application/vnd.google.colaboratory.intrinsic+json": {
              "type": "string"
            },
            "text/plain": [
              "'خوب بود ولی اگر شیرینی کمتری داشته باشد بهتر می\\u200cباشد.'"
            ]
          },
          "metadata": {},
          "execution_count": 24
        }
      ]
    },
    {
      "cell_type": "markdown",
      "metadata": {
        "id": "E3zGQ7RIaHwG"
      },
      "source": [
        "If in text preprocessing fuction, we replace half-space with ' ' we have better representation of sentence."
      ]
    },
    {
      "cell_type": "code",
      "metadata": {
        "colab": {
          "base_uri": "https://localhost:8080/",
          "height": 36
        },
        "id": "Tu_-i5SsYhdQ",
        "outputId": "101e60e5-0eae-41d1-8571-c93e222902fa"
      },
      "source": [
        "review = 'خوب بود ولی اگر شیرینی کمتری داشته باشد بهتر می‌باشد.'\n",
        "review =  re.sub('\\u200c', ' ',review)\n",
        "review"
      ],
      "execution_count": 25,
      "outputs": [
        {
          "output_type": "execute_result",
          "data": {
            "application/vnd.google.colaboratory.intrinsic+json": {
              "type": "string"
            },
            "text/plain": [
              "'خوب بود ولی اگر شیرینی کمتری داشته باشد بهتر می باشد.'"
            ]
          },
          "metadata": {},
          "execution_count": 25
        }
      ]
    },
    {
      "cell_type": "markdown",
      "metadata": {
        "id": "No__UdZKQ63r"
      },
      "source": [
        "\\u200c represents half-space between 'می' and 'باشد'."
      ]
    },
    {
      "cell_type": "code",
      "metadata": {
        "colab": {
          "base_uri": "https://localhost:8080/",
          "height": 36
        },
        "id": "2JEiUzI_Qztm",
        "outputId": "147c9b3e-71c1-495d-cb81-89e1e8d2325b"
      },
      "source": [
        "# sample sad comment\n",
        "train_data[train_data['label']==-1].sample(n=1)['comment'].iloc[0]"
      ],
      "execution_count": 26,
      "outputs": [
        {
          "output_type": "execute_result",
          "data": {
            "application/vnd.google.colaboratory.intrinsic+json": {
              "type": "string"
            },
            "text/plain": [
              "'پیتزا اصلا با کیفیت نبود.'"
            ]
          },
          "metadata": {},
          "execution_count": 26
        }
      ]
    },
    {
      "cell_type": "code",
      "metadata": {
        "colab": {
          "base_uri": "https://localhost:8080/"
        },
        "id": "-iRkaqvtNl3v",
        "outputId": "e2d654ce-07bf-47f9-c27f-ef08f9a60679"
      },
      "source": [
        "valid_data.label.value_counts()"
      ],
      "execution_count": 27,
      "outputs": [
        {
          "output_type": "execute_result",
          "data": {
            "text/plain": [
              "-1    3150\n",
              " 1    3150\n",
              "Name: label, dtype: int64"
            ]
          },
          "metadata": {},
          "execution_count": 27
        }
      ]
    },
    {
      "cell_type": "code",
      "metadata": {
        "colab": {
          "base_uri": "https://localhost:8080/",
          "height": 295
        },
        "id": "xk8po32hNqCx",
        "outputId": "a61e5d85-6f44-493a-ac92-3d58ebc1015f"
      },
      "source": [
        "# distribution of data in each class\n",
        "distribution = list(valid_data.label.value_counts())\n",
        "\n",
        "import matplotlib.pyplot as plt\n",
        "plt.bar(['-1', '1'] ,distribution)\n",
        "plt.xlabel(\"Label\")\n",
        "plt.ylabel(\"Number of Comments\")\n",
        "plt.title(\"Distribution of valid data in each class in SnappFood\")\n",
        "plt.show()"
      ],
      "execution_count": 28,
      "outputs": [
        {
          "output_type": "display_data",
          "data": {
            "image/png": "[encoded data removed]",
            "text/plain": [
              "<Figure size 432x288 with 1 Axes>"
            ]
          },
          "metadata": {
            "needs_background": "light"
          }
        }
      ]
    },
    {
      "cell_type": "code",
      "metadata": {
        "colab": {
          "base_uri": "https://localhost:8080/"
        },
        "id": "Gb3AHSc5PDCY",
        "outputId": "1af87e3f-eb66-469b-e20a-8e25c1c95883"
      },
      "source": [
        "test_data.label.value_counts()"
      ],
      "execution_count": 29,
      "outputs": [
        {
          "output_type": "execute_result",
          "data": {
            "text/plain": [
              "-1    3500\n",
              " 1    3500\n",
              "Name: label, dtype: int64"
            ]
          },
          "metadata": {},
          "execution_count": 29
        }
      ]
    },
    {
      "cell_type": "code",
      "metadata": {
        "colab": {
          "base_uri": "https://localhost:8080/",
          "height": 295
        },
        "id": "UYr-1rUIPKOa",
        "outputId": "a14fe218-ecf0-48e6-b220-95e4756365d0"
      },
      "source": [
        "# distribution of data in each class\n",
        "distribution = list(test_data.label.value_counts())\n",
        "\n",
        "import matplotlib.pyplot as plt\n",
        "plt.bar(['-1', '1'] ,distribution)\n",
        "plt.xlabel(\"Label\")\n",
        "plt.ylabel(\"Number of Comments\")\n",
        "plt.title(\"Distribution of test data in each class in SnappFood\")\n",
        "plt.show()"
      ],
      "execution_count": 30,
      "outputs": [
        {
          "output_type": "display_data",
          "data": {
            "image/png": "[encoded data removed]",
            "text/plain": [
              "<Figure size 432x288 with 1 Axes>"
            ]
          },
          "metadata": {
            "needs_background": "light"
          }
        }
      ]
    },
    {
      "cell_type": "markdown",
      "metadata": {
        "id": "nDsTmNZ3PTPH"
      },
      "source": [
        "As we saw, we have balaced data."
      ]
    },
    {
      "cell_type": "markdown",
      "metadata": {
        "id": "vyXxYZviVakA"
      },
      "source": [
        "Before we start doing sentiment analysis, we should read the PerSent.xlsx file that contains the word and polarity of each word."
      ]
    },
    {
      "cell_type": "code",
      "metadata": {
        "id": "eNNe9F_OQbcn"
      },
      "source": [
        "from pandas import read_excel\n",
        "\n",
        "my_sheet = 'Dataset' # change it to your sheet name, you can find your sheet name at the bottom left of your excel file\n",
        "file_name = r'/content/drive/MyDrive/AI-Internship/PerSent.xlsx' \n",
        "persent = read_excel(file_name, sheet_name = my_sheet)"
      ],
      "execution_count": 31,
      "outputs": []
    },
    {
      "cell_type": "code",
      "metadata": {
        "colab": {
          "base_uri": "https://localhost:8080/",
          "height": 206
        },
        "id": "J6jpUB34WNUL",
        "outputId": "0a227754-bff2-4800-aec0-d565aef22df3"
      },
      "source": [
        "persent.head()"
      ],
      "execution_count": 32,
      "outputs": [
        {
          "output_type": "execute_result",
          "data": {
            "text/html": [
              "<div>\n",
              "<style scoped>\n",
              "    .dataframe tbody tr th:only-of-type {\n",
              "        vertical-align: middle;\n",
              "    }\n",
              "\n",
              "    .dataframe tbody tr th {\n",
              "        vertical-align: top;\n",
              "    }\n",
              "\n",
              "    .dataframe thead th {\n",
              "        text-align: right;\n",
              "    }\n",
              "</style>\n",
              "<table border=\"1\" class=\"dataframe\">\n",
              "  <thead>\n",
              "    <tr style=\"text-align: right;\">\n",
              "      <th></th>\n",
              "      <th>Words</th>\n",
              "      <th>POS</th>\n",
              "      <th>Polarity</th>\n",
              "    </tr>\n",
              "  </thead>\n",
              "  <tbody>\n",
              "    <tr>\n",
              "      <th>0</th>\n",
              "      <td>خوب</td>\n",
              "      <td>Adj</td>\n",
              "      <td>0.70</td>\n",
              "    </tr>\n",
              "    <tr>\n",
              "      <th>1</th>\n",
              "      <td>بد</td>\n",
              "      <td>Adj</td>\n",
              "      <td>-0.69</td>\n",
              "    </tr>\n",
              "    <tr>\n",
              "      <th>2</th>\n",
              "      <td>درست</td>\n",
              "      <td>Adj</td>\n",
              "      <td>0.00</td>\n",
              "    </tr>\n",
              "    <tr>\n",
              "      <th>3</th>\n",
              "      <td>غلط</td>\n",
              "      <td>Adj</td>\n",
              "      <td>-0.50</td>\n",
              "    </tr>\n",
              "    <tr>\n",
              "      <th>4</th>\n",
              "      <td>زیبا</td>\n",
              "      <td>Adj</td>\n",
              "      <td>0.00</td>\n",
              "    </tr>\n",
              "  </tbody>\n",
              "</table>\n",
              "</div>"
            ],
            "text/plain": [
              "  Words  POS  Polarity\n",
              "0   خوب  Adj      0.70\n",
              "1    بد  Adj     -0.69\n",
              "2  درست  Adj      0.00\n",
              "3   غلط  Adj     -0.50\n",
              "4  زیبا  Adj      0.00"
            ]
          },
          "metadata": {},
          "execution_count": 32
        }
      ]
    },
    {
      "cell_type": "code",
      "metadata": {
        "colab": {
          "base_uri": "https://localhost:8080/"
        },
        "id": "us4ZBK0CWlwA",
        "outputId": "bd476188-9188-46c3-d237-736b21ca41c5"
      },
      "source": [
        "persent.shape"
      ],
      "execution_count": 33,
      "outputs": [
        {
          "output_type": "execute_result",
          "data": {
            "text/plain": [
              "(1490, 3)"
            ]
          },
          "metadata": {},
          "execution_count": 33
        }
      ]
    },
    {
      "cell_type": "code",
      "metadata": {
        "colab": {
          "base_uri": "https://localhost:8080/",
          "height": 36
        },
        "id": "fizgt5R1Wpnd",
        "outputId": "f84c6eeb-53aa-46bf-cad8-3e45f666179f"
      },
      "source": [
        "persent.Words[774]"
      ],
      "execution_count": 34,
      "outputs": [
        {
          "output_type": "execute_result",
          "data": {
            "application/vnd.google.colaboratory.intrinsic+json": {
              "type": "string"
            },
            "text/plain": [
              "'ته دوزی'"
            ]
          },
          "metadata": {},
          "execution_count": 34
        }
      ]
    },
    {
      "cell_type": "markdown",
      "metadata": {
        "id": "oXmClodKcsvh"
      },
      "source": [
        "### Text preprocessing\n"
      ]
    },
    {
      "cell_type": "markdown",
      "metadata": {
        "id": "tntTTxV1cy1Q"
      },
      "source": [
        "#### Stop Words\n"
      ]
    },
    {
      "cell_type": "code",
      "metadata": {
        "id": "VYZZ9DAZaTZQ"
      },
      "source": [
        "# define a function to read file\n",
        "def readFile(filename):\n",
        "  fileObj = open(filename, 'r') # open the file in read mode\n",
        "  words = fileObj.read().splitlines() # puts the file into an array\n",
        "  fileObj.close()\n",
        "  return words"
      ],
      "execution_count": 35,
      "outputs": []
    },
    {
      "cell_type": "code",
      "metadata": {
        "colab": {
          "base_uri": "https://localhost:8080/"
        },
        "id": "-tarox1kc3EK",
        "outputId": "7058cdf1-77ef-4a26-ed12-635f9e099353"
      },
      "source": [
        "stopwords = readFile('/content/drive/MyDrive/AI-Internship/persian_stopwords_kharazi.txt')\n",
        "print(f'length of stop words : {len(stopwords)}')"
      ],
      "execution_count": 36,
      "outputs": [
        {
          "output_type": "stream",
          "text": [
            "length of stop words : 1370\n"
          ],
          "name": "stdout"
        }
      ]
    },
    {
      "cell_type": "code",
      "metadata": {
        "colab": {
          "base_uri": "https://localhost:8080/"
        },
        "id": "wTOpY2xBc5g6",
        "outputId": "e3f766ed-12a2-428b-8e29-489931799c17"
      },
      "source": [
        "print(f'some of stop words : {stopwords[:30]}')"
      ],
      "execution_count": 37,
      "outputs": [
        {
          "output_type": "stream",
          "text": [
            "some of stop words : ['!', '\"', '#', '(', ')', '*', ',', '-', '.', '/', ':', '[', ']', '«', '»', '،', '؛', '؟', 'آباد', 'آخ', 'آخر', 'آخرها', 'آخه', 'آدمهاست', 'آرام', 'آرام آرام', 'آره', 'آری', 'آزادانه', 'آسان']\n"
          ],
          "name": "stdout"
        }
      ]
    },
    {
      "cell_type": "markdown",
      "metadata": {
        "id": "Q_aotv2rc_Sz"
      },
      "source": [
        "#### Preprocessing function"
      ]
    },
    {
      "cell_type": "markdown",
      "metadata": {
        "id": "3x_BHDUm4Dgx"
      },
      "source": [
        "Because, after stemming we have '&' in between of our verbs, we should delete them in function delete_and."
      ]
    },
    {
      "cell_type": "code",
      "metadata": {
        "id": "nyoz-rWI4Bgp"
      },
      "source": [
        "def delete_and(word):\n",
        "  idx = word.find(\"&\")\n",
        "  if idx!=-1:\n",
        "    word = word[:idx]\n",
        "  return word"
      ],
      "execution_count": 64,
      "outputs": []
    },
    {
      "cell_type": "code",
      "metadata": {
        "id": "0YrbtHnwc86v"
      },
      "source": [
        "def data_preprocessing(review, stopwords):\n",
        "  try:\n",
        "    # replace half-space with ' '\n",
        "    review =  re.sub('\\u200c', ' ',review)\n",
        "\n",
        "    # Normalizing the text\n",
        "    # First we should normalize text in order to convert persian numbers into english numbers then\n",
        "    # with following function (filter) delete them\n",
        "    # Because, some comments are pinglish, we should set pinglish_conversion_needed = True\n",
        "    normalizer = Normalizer(pinglish_conversion_needed=True) \n",
        "    review = normalizer.normalize(review)\n",
        "\n",
        "    # because after normalization appear some '/u200c', we should replace them with space\n",
        "    review =  re.sub('\\u200c', ' ',review)\n",
        "\n",
        "    # delete english characters and numbers from sentences\n",
        "    review = filter(lambda x: x in string.whitespace or x not in string.printable, review)\n",
        "    review = ''.join(ch for ch in list(review))\n",
        "    \n",
        "    if review != ' ':\n",
        "      # word tokenization\n",
        "      tokenizer = Tokenizer()\n",
        "      words = tokenizer.tokenize_words(review)\n",
        "\n",
        "      # stemming \n",
        "      stemmer = FindStems()\n",
        "      review = [stemmer.convert_to_stem(word) for word in words]\n",
        "\n",
        "      # we should delete '&', because after stemming we have '&' in between of our verbs\n",
        "      review = [delete_and(word) for word in review]\n",
        "\n",
        "      # remove stop words\n",
        "      words_without_stopword = filter(lambda x: x not in stopwords, review)\n",
        "      words_without_stopwords = list(words_without_stopword)\n",
        "    \n",
        "      # join words in preprocessed review\n",
        "      review = ' '.join(words_without_stopwords)\n",
        "    \n",
        "    return review\n",
        "\n",
        "  except TypeError:\n",
        "    print(review)\n",
        "    raise"
      ],
      "execution_count": 69,
      "outputs": []
    },
    {
      "cell_type": "code",
      "metadata": {
        "colab": {
          "base_uri": "https://localhost:8080/",
          "height": 36
        },
        "id": "RL8t0rXFcXul",
        "outputId": "1a518e8d-2882-44ad-e222-79380d0edc58"
      },
      "source": [
        "review = 'غذا به سرعت تحویل داده شد ولی حجم ساندویچ کم بود.'\n",
        "review =  re.sub('\\u200c', ' ',review)\n",
        "review"
      ],
      "execution_count": 54,
      "outputs": [
        {
          "output_type": "execute_result",
          "data": {
            "application/vnd.google.colaboratory.intrinsic+json": {
              "type": "string"
            },
            "text/plain": [
              "'غذا به سرعت تحویل داده شد ولی حجم ساندویچ کم بود.'"
            ]
          },
          "metadata": {},
          "execution_count": 54
        }
      ]
    },
    {
      "cell_type": "code",
      "metadata": {
        "colab": {
          "base_uri": "https://localhost:8080/",
          "height": 36
        },
        "id": "szOAzYMPdScZ",
        "outputId": "ad198e37-6ec6-4c01-84bf-0f32c1e16071"
      },
      "source": [
        "normalizer = Normalizer(pinglish_conversion_needed=True) \n",
        "review = normalizer.normalize(review)\n",
        "review"
      ],
      "execution_count": 55,
      "outputs": [
        {
          "output_type": "execute_result",
          "data": {
            "application/vnd.google.colaboratory.intrinsic+json": {
              "type": "string"
            },
            "text/plain": [
              "'غذا به سرعت تحویل داده شد ولی حجم ساندویچ کم\\u200cبود .'"
            ]
          },
          "metadata": {},
          "execution_count": 55
        }
      ]
    },
    {
      "cell_type": "code",
      "metadata": {
        "colab": {
          "base_uri": "https://localhost:8080/",
          "height": 36
        },
        "id": "il4cdaC3dZ-U",
        "outputId": "2c236f38-a3c1-42b4-cb89-cfbb6a0ba295"
      },
      "source": [
        "review =  re.sub('\\u200c', ' ',review)\n",
        "review"
      ],
      "execution_count": 56,
      "outputs": [
        {
          "output_type": "execute_result",
          "data": {
            "application/vnd.google.colaboratory.intrinsic+json": {
              "type": "string"
            },
            "text/plain": [
              "'غذا به سرعت تحویل داده شد ولی حجم ساندویچ کم بود .'"
            ]
          },
          "metadata": {},
          "execution_count": 56
        }
      ]
    },
    {
      "cell_type": "code",
      "metadata": {
        "colab": {
          "base_uri": "https://localhost:8080/",
          "height": 36
        },
        "id": "ofynmc8IdhiA",
        "outputId": "a82f4b19-4a3d-41d5-d5ce-7af5768070ed"
      },
      "source": [
        "review = filter(lambda x: x in string.whitespace or x not in string.printable, review)\n",
        "review = ''.join(ch for ch in list(review))\n",
        "review"
      ],
      "execution_count": 57,
      "outputs": [
        {
          "output_type": "execute_result",
          "data": {
            "application/vnd.google.colaboratory.intrinsic+json": {
              "type": "string"
            },
            "text/plain": [
              "'غذا به سرعت تحویل داده شد ولی حجم ساندویچ کم بود '"
            ]
          },
          "metadata": {},
          "execution_count": 57
        }
      ]
    },
    {
      "cell_type": "code",
      "metadata": {
        "colab": {
          "base_uri": "https://localhost:8080/"
        },
        "id": "0YY33iQLdpLT",
        "outputId": "258492ee-a8cc-4b25-b89c-0777601188a1"
      },
      "source": [
        "tokenizer = Tokenizer()\n",
        "words = tokenizer.tokenize_words(review)\n",
        "words"
      ],
      "execution_count": 58,
      "outputs": [
        {
          "output_type": "execute_result",
          "data": {
            "text/plain": [
              "['غذا',\n",
              " 'به',\n",
              " 'سرعت',\n",
              " 'تحویل',\n",
              " 'داده',\n",
              " 'شد',\n",
              " 'ولی',\n",
              " 'حجم',\n",
              " 'ساندویچ',\n",
              " 'کم',\n",
              " 'بود']"
            ]
          },
          "metadata": {},
          "execution_count": 58
        }
      ]
    },
    {
      "cell_type": "code",
      "metadata": {
        "colab": {
          "base_uri": "https://localhost:8080/"
        },
        "id": "lmcvJjuTduT5",
        "outputId": "c14ffd4e-3dd3-48a4-f5e1-e9b5be3fb7ed"
      },
      "source": [
        "stemmer = FindStems()\n",
        "review = [stemmer.convert_to_stem(word) for word in words]\n",
        "review"
      ],
      "execution_count": 59,
      "outputs": [
        {
          "output_type": "execute_result",
          "data": {
            "text/plain": [
              "['غذا',\n",
              " 'به',\n",
              " 'سرعت',\n",
              " 'تحویل',\n",
              " 'داده',\n",
              " 'شد',\n",
              " 'ولی',\n",
              " 'حجم',\n",
              " 'ساندویچ',\n",
              " 'کم',\n",
              " 'بود&باش']"
            ]
          },
          "metadata": {},
          "execution_count": 59
        }
      ]
    },
    {
      "cell_type": "code",
      "metadata": {
        "id": "-Mnw6-QL17IB"
      },
      "source": [
        "def delete_and(word):\n",
        "  idx = word.find(\"&\")\n",
        "  if idx!=-1:\n",
        "    word = word[:idx]\n",
        "  return word"
      ],
      "execution_count": 48,
      "outputs": []
    },
    {
      "cell_type": "code",
      "metadata": {
        "colab": {
          "base_uri": "https://localhost:8080/",
          "height": 36
        },
        "id": "HKPzkwa12eQh",
        "outputId": "469ed4fb-ce03-401f-cd9c-2eb9b44095d2"
      },
      "source": [
        "word = delete_and('کرد &کن')\n",
        "word"
      ],
      "execution_count": 51,
      "outputs": [
        {
          "output_type": "execute_result",
          "data": {
            "application/vnd.google.colaboratory.intrinsic+json": {
              "type": "string"
            },
            "text/plain": [
              "'کرد '"
            ]
          },
          "metadata": {},
          "execution_count": 51
        }
      ]
    },
    {
      "cell_type": "code",
      "metadata": {
        "id": "OFGM9kisd3G4"
      },
      "source": [
        "review = [delete_and(word) for word in review]"
      ],
      "execution_count": 60,
      "outputs": []
    },
    {
      "cell_type": "code",
      "metadata": {
        "colab": {
          "base_uri": "https://localhost:8080/"
        },
        "id": "FTNSDL5Fd7wX",
        "outputId": "9f879cae-22c6-4687-e8a8-f84538500121"
      },
      "source": [
        "review"
      ],
      "execution_count": 61,
      "outputs": [
        {
          "output_type": "execute_result",
          "data": {
            "text/plain": [
              "['غذا',\n",
              " 'به',\n",
              " 'سرعت',\n",
              " 'تحویل',\n",
              " 'داده',\n",
              " 'شد',\n",
              " 'ولی',\n",
              " 'حجم',\n",
              " 'ساندویچ',\n",
              " 'کم',\n",
              " 'بود']"
            ]
          },
          "metadata": {},
          "execution_count": 61
        }
      ]
    },
    {
      "cell_type": "code",
      "metadata": {
        "colab": {
          "base_uri": "https://localhost:8080/"
        },
        "id": "rvyZVhNIjDTF",
        "outputId": "99dfafd3-47c1-4922-955d-3fd707271f5f"
      },
      "source": [
        "words_without_stopword = filter(lambda x: x not in stopwords, review)\n",
        "words_without_stopwords = list(words_without_stopword)\n",
        "words_without_stopwords"
      ],
      "execution_count": 62,
      "outputs": [
        {
          "output_type": "execute_result",
          "data": {
            "text/plain": [
              "['غذا', 'سرعت', 'تحویل', 'حجم', 'ساندویچ']"
            ]
          },
          "metadata": {},
          "execution_count": 62
        }
      ]
    },
    {
      "cell_type": "code",
      "metadata": {
        "colab": {
          "base_uri": "https://localhost:8080/",
          "height": 36
        },
        "id": "E6g0aa9t5n1K",
        "outputId": "94f8545c-95f4-43f8-e787-ad6cbbae738e"
      },
      "source": [
        "review = ' '.join(words_without_stopwords)\n",
        "review"
      ],
      "execution_count": 63,
      "outputs": [
        {
          "output_type": "execute_result",
          "data": {
            "application/vnd.google.colaboratory.intrinsic+json": {
              "type": "string"
            },
            "text/plain": [
              "'غذا سرعت تحویل حجم ساندویچ'"
            ]
          },
          "metadata": {},
          "execution_count": 63
        }
      ]
    },
    {
      "cell_type": "code",
      "metadata": {
        "colab": {
          "base_uri": "https://localhost:8080/"
        },
        "id": "A3KIz8btU_ab",
        "outputId": "89610ff3-6551-473c-b696-699a894a6df9"
      },
      "source": [
        "! pip install pandarallel"
      ],
      "execution_count": 70,
      "outputs": [
        {
          "output_type": "stream",
          "text": [
            "Requirement already satisfied: pandarallel in /usr/local/lib/python3.7/dist-packages (1.5.2)\n",
            "Requirement already satisfied: dill in /usr/local/lib/python3.7/dist-packages (from pandarallel) (0.3.4)\n"
          ],
          "name": "stdout"
        }
      ]
    },
    {
      "cell_type": "code",
      "metadata": {
        "id": "sQA6Z_jIWIiT"
      },
      "source": [
        "from pandarallel import pandarallel"
      ],
      "execution_count": 71,
      "outputs": []
    },
    {
      "cell_type": "code",
      "metadata": {
        "colab": {
          "base_uri": "https://localhost:8080/"
        },
        "id": "7k0oxgYJWLvx",
        "outputId": "08bf1b11-9a70-46a2-ea5d-e5c3d066a109"
      },
      "source": [
        "# initialize pandarallel\n",
        "pandarallel.initialize()"
      ],
      "execution_count": 72,
      "outputs": [
        {
          "output_type": "stream",
          "text": [
            "INFO: Pandarallel will run on 2 workers.\n",
            "INFO: Pandarallel will use Memory file system to transfer data between the main process and workers.\n"
          ],
          "name": "stdout"
        }
      ]
    },
    {
      "cell_type": "markdown",
      "metadata": {
        "id": "oB9GcGjHEuBx"
      },
      "source": [
        "Let's apply this function on our dataset. This work, took 39 minutes for me."
      ]
    },
    {
      "cell_type": "code",
      "metadata": {
        "id": "x9g4uBK4WMZy"
      },
      "source": [
        "train_data['preprocessing_text'] = train_data['comment'].parallel_apply(lambda text: data_preprocessing(text, stopwords))\n",
        "valid_data['preprocessing_text'] = valid_data['comment'].parallel_apply(lambda text: data_preprocessing(text, stopwords))\n",
        "test_data['preprocessing_text'] = test_data['comment'].parallel_apply(lambda text: data_preprocessing(text, stopwords))\n"
      ],
      "execution_count": 73,
      "outputs": []
    },
    {
      "cell_type": "code",
      "metadata": {
        "id": "lUTDdoG3WQUE"
      },
      "source": [
        "# #Save dataframe\n",
        "# !mkdir -p /content/drive/MyDrive/AI-Internship/SnappFood_preprocessed\n",
        "# train_data.to_pickle('/content/drive/MyDrive/AI-Internship/SnappFood_preprocessed/train_data')\n",
        "# valid_data.to_pickle('/content/drive/MyDrive/AI-Internship/SnappFood_preprocessed/valid_data')\n",
        "# test_data.to_pickle('/content/drive/MyDrive/AI-Internship/SnappFood_preprocessed/test_data')"
      ],
      "execution_count": 74,
      "outputs": []
    },
    {
      "cell_type": "code",
      "metadata": {
        "id": "XD5zT0D8WQ6x"
      },
      "source": [
        "#load the preprocessing dataframe\n",
        "train_data= pd.read_pickle(r'/content/drive/MyDrive/AI-Internship/SnappFood_preprocessed/train_data')\n",
        "valid_data= pd.read_pickle(r'/content/drive/MyDrive/AI-Internship/SnappFood_preprocessed/train_data')\n",
        "test_data= pd.read_pickle(r'/content/drive/MyDrive/AI-Internship/SnappFood_preprocessed/train_data')\n"
      ],
      "execution_count": null,
      "outputs": []
    },
    {
      "cell_type": "code",
      "metadata": {
        "colab": {
          "base_uri": "https://localhost:8080/",
          "height": 206
        },
        "id": "VAH3FKy-EdJU",
        "outputId": "d7db9554-49e0-45a3-f3ba-d72cd0f8831f"
      },
      "source": [
        "train_data.head()"
      ],
      "execution_count": 75,
      "outputs": [
        {
          "output_type": "execute_result",
          "data": {
            "text/html": [
              "<div>\n",
              "<style scoped>\n",
              "    .dataframe tbody tr th:only-of-type {\n",
              "        vertical-align: middle;\n",
              "    }\n",
              "\n",
              "    .dataframe tbody tr th {\n",
              "        vertical-align: top;\n",
              "    }\n",
              "\n",
              "    .dataframe thead th {\n",
              "        text-align: right;\n",
              "    }\n",
              "</style>\n",
              "<table border=\"1\" class=\"dataframe\">\n",
              "  <thead>\n",
              "    <tr style=\"text-align: right;\">\n",
              "      <th></th>\n",
              "      <th>comment</th>\n",
              "      <th>label</th>\n",
              "      <th>preprocessing_text</th>\n",
              "    </tr>\n",
              "  </thead>\n",
              "  <tbody>\n",
              "    <tr>\n",
              "      <th>0</th>\n",
              "      <td>واقعا حیف وقت که بنویسم سرویس دهیتون شده افتضاح</td>\n",
              "      <td>-1</td>\n",
              "      <td>حیف وقت نوشت سرویس دهیتون افتضاح</td>\n",
              "    </tr>\n",
              "    <tr>\n",
              "      <th>1</th>\n",
              "      <td>قرار بود ۱ ساعته برسه ولی نیم ساعت زودتر از مو...</td>\n",
              "      <td>1</td>\n",
              "      <td>قرار ساعته برسه نیم ساعت موقع دید چقدررررررررر...</td>\n",
              "    </tr>\n",
              "    <tr>\n",
              "      <th>2</th>\n",
              "      <td>قیمت این مدل اصلا با کیفیتش سازگاری نداره، فقط...</td>\n",
              "      <td>-1</td>\n",
              "      <td>قیمت مدل کیفیت سازگاری نداره ظاهر فریبنده پرش ...</td>\n",
              "    </tr>\n",
              "    <tr>\n",
              "      <th>3</th>\n",
              "      <td>عالللی بود همه چه درست و به اندازه و کیفیت خوب...</td>\n",
              "      <td>1</td>\n",
              "      <td>عالللی اندازه کیفیت امیداورم کیفیتتون باشه مشت...</td>\n",
              "    </tr>\n",
              "    <tr>\n",
              "      <th>4</th>\n",
              "      <td>شیرینی وانیلی فقط یک مدل بود.</td>\n",
              "      <td>1</td>\n",
              "      <td>شیرینی نیل مدل</td>\n",
              "    </tr>\n",
              "  </tbody>\n",
              "</table>\n",
              "</div>"
            ],
            "text/plain": [
              "                                             comment  ...                                 preprocessing_text\n",
              "0    واقعا حیف وقت که بنویسم سرویس دهیتون شده افتضاح  ...                   حیف وقت نوشت سرویس دهیتون افتضاح\n",
              "1  قرار بود ۱ ساعته برسه ولی نیم ساعت زودتر از مو...  ...  قرار ساعته برسه نیم ساعت موقع دید چقدررررررررر...\n",
              "2  قیمت این مدل اصلا با کیفیتش سازگاری نداره، فقط...  ...  قیمت مدل کیفیت سازگاری نداره ظاهر فریبنده پرش ...\n",
              "3  عالللی بود همه چه درست و به اندازه و کیفیت خوب...  ...  عالللی اندازه کیفیت امیداورم کیفیتتون باشه مشت...\n",
              "4                      شیرینی وانیلی فقط یک مدل بود.  ...                                     شیرینی نیل مدل\n",
              "\n",
              "[5 rows x 3 columns]"
            ]
          },
          "metadata": {},
          "execution_count": 75
        }
      ]
    },
    {
      "cell_type": "code",
      "metadata": {
        "colab": {
          "base_uri": "https://localhost:8080/",
          "height": 206
        },
        "id": "QeXZuQJ2Ejc2",
        "outputId": "01e70193-15ee-4a12-c121-1962eb8f8c59"
      },
      "source": [
        "valid_data.head()"
      ],
      "execution_count": 76,
      "outputs": [
        {
          "output_type": "execute_result",
          "data": {
            "text/html": [
              "<div>\n",
              "<style scoped>\n",
              "    .dataframe tbody tr th:only-of-type {\n",
              "        vertical-align: middle;\n",
              "    }\n",
              "\n",
              "    .dataframe tbody tr th {\n",
              "        vertical-align: top;\n",
              "    }\n",
              "\n",
              "    .dataframe thead th {\n",
              "        text-align: right;\n",
              "    }\n",
              "</style>\n",
              "<table border=\"1\" class=\"dataframe\">\n",
              "  <thead>\n",
              "    <tr style=\"text-align: right;\">\n",
              "      <th></th>\n",
              "      <th>comment</th>\n",
              "      <th>label</th>\n",
              "      <th>preprocessing_text</th>\n",
              "    </tr>\n",
              "  </thead>\n",
              "  <tbody>\n",
              "    <tr>\n",
              "      <th>0</th>\n",
              "      <td>همه ساندویچ‌ها سرد بود متاسفانه در صورتی که فا...</td>\n",
              "      <td>-1</td>\n",
              "      <td>ساندویچ سرد صورتی فاصله رستوران دقیقه اس</td>\n",
              "    </tr>\n",
              "    <tr>\n",
              "      <th>1</th>\n",
              "      <td>تشکر، عالی‌تر از همیشه</td>\n",
              "      <td>1</td>\n",
              "      <td>تشکر عالی</td>\n",
              "    </tr>\n",
              "    <tr>\n",
              "      <th>2</th>\n",
              "      <td>مرغ و کدو رو دوس نداشتم ولی کلا ساندویچهای خوش...</td>\n",
              "      <td>1</td>\n",
              "      <td>مرغ کدو دوس ساندویچ خوشمزه</td>\n",
              "    </tr>\n",
              "    <tr>\n",
              "      <th>3</th>\n",
              "      <td>نمیدونم هزینه بسته بندی به چه دلیل گرفته شد؟؟؟</td>\n",
              "      <td>-1</td>\n",
              "      <td>نمیدونم هزینه بسته بند دلیل ؟؟؟</td>\n",
              "    </tr>\n",
              "    <tr>\n",
              "      <th>4</th>\n",
              "      <td>یک نوشابه کم ارسال شد و تاخیر فراوان و غذای نس...</td>\n",
              "      <td>-1</td>\n",
              "      <td>نوشابه ارسال تاخیر فراوان غذا سرد</td>\n",
              "    </tr>\n",
              "  </tbody>\n",
              "</table>\n",
              "</div>"
            ],
            "text/plain": [
              "                                             comment  ...                        preprocessing_text\n",
              "0  همه ساندویچ‌ها سرد بود متاسفانه در صورتی که فا...  ...  ساندویچ سرد صورتی فاصله رستوران دقیقه اس\n",
              "1                             تشکر، عالی‌تر از همیشه  ...                                 تشکر عالی\n",
              "2  مرغ و کدو رو دوس نداشتم ولی کلا ساندویچهای خوش...  ...                مرغ کدو دوس ساندویچ خوشمزه\n",
              "3     نمیدونم هزینه بسته بندی به چه دلیل گرفته شد؟؟؟  ...           نمیدونم هزینه بسته بند دلیل ؟؟؟\n",
              "4  یک نوشابه کم ارسال شد و تاخیر فراوان و غذای نس...  ...         نوشابه ارسال تاخیر فراوان غذا سرد\n",
              "\n",
              "[5 rows x 3 columns]"
            ]
          },
          "metadata": {},
          "execution_count": 76
        }
      ]
    },
    {
      "cell_type": "code",
      "metadata": {
        "colab": {
          "base_uri": "https://localhost:8080/",
          "height": 206
        },
        "id": "WfkpZB5kEoPt",
        "outputId": "a80bbd2d-dc30-466c-ed9e-79f43d9871c5"
      },
      "source": [
        "test_data.head()"
      ],
      "execution_count": 77,
      "outputs": [
        {
          "output_type": "execute_result",
          "data": {
            "text/html": [
              "<div>\n",
              "<style scoped>\n",
              "    .dataframe tbody tr th:only-of-type {\n",
              "        vertical-align: middle;\n",
              "    }\n",
              "\n",
              "    .dataframe tbody tr th {\n",
              "        vertical-align: top;\n",
              "    }\n",
              "\n",
              "    .dataframe thead th {\n",
              "        text-align: right;\n",
              "    }\n",
              "</style>\n",
              "<table border=\"1\" class=\"dataframe\">\n",
              "  <thead>\n",
              "    <tr style=\"text-align: right;\">\n",
              "      <th></th>\n",
              "      <th>comment</th>\n",
              "      <th>label</th>\n",
              "      <th>preprocessing_text</th>\n",
              "    </tr>\n",
              "  </thead>\n",
              "  <tbody>\n",
              "    <tr>\n",
              "      <th>0</th>\n",
              "      <td>خواهشا خواهشا خواهشا واسه ارسال شیرینیها یه فک...</td>\n",
              "      <td>1</td>\n",
              "      <td>خواهشا خواهشا خواهشا سه ارسال شیرینی فکری شانس...</td>\n",
              "    </tr>\n",
              "    <tr>\n",
              "      <th>1</th>\n",
              "      <td>غذا گرم رسید کیفیت و پخت گوشت عالی بود</td>\n",
              "      <td>1</td>\n",
              "      <td>غذا گرم کیفیت پخت گوشت عالی</td>\n",
              "    </tr>\n",
              "    <tr>\n",
              "      <th>2</th>\n",
              "      <td>قیمت سس شکلات روی بسته بندی ۱۵۰۰۰ بود ولی قیمت...</td>\n",
              "      <td>-1</td>\n",
              "      <td>قیمت سس شکلات بسته بند قیمت اعلامی اسنپ تومن ت...</td>\n",
              "    </tr>\n",
              "    <tr>\n",
              "      <th>3</th>\n",
              "      <td>عکس توی پیج یه شیرینی شکری روشن رنگ هست که همم...</td>\n",
              "      <td>-1</td>\n",
              "      <td>عکس پیج شیرینی شکری روشن رنگ هممون قاعدتا تست ...</td>\n",
              "    </tr>\n",
              "    <tr>\n",
              "      <th>4</th>\n",
              "      <td>باز هم میگم، پیتزا نباید اینقد چرب باشه</td>\n",
              "      <td>-1</td>\n",
              "      <td>میگ پیتزا اینقد چرب باشه</td>\n",
              "    </tr>\n",
              "  </tbody>\n",
              "</table>\n",
              "</div>"
            ],
            "text/plain": [
              "                                             comment  ...                                 preprocessing_text\n",
              "0  خواهشا خواهشا خواهشا واسه ارسال شیرینیها یه فک...  ...  خواهشا خواهشا خواهشا سه ارسال شیرینی فکری شانس...\n",
              "1             غذا گرم رسید کیفیت و پخت گوشت عالی بود  ...                        غذا گرم کیفیت پخت گوشت عالی\n",
              "2  قیمت سس شکلات روی بسته بندی ۱۵۰۰۰ بود ولی قیمت...  ...  قیمت سس شکلات بسته بند قیمت اعلامی اسنپ تومن ت...\n",
              "3  عکس توی پیج یه شیرینی شکری روشن رنگ هست که همم...  ...  عکس پیج شیرینی شکری روشن رنگ هممون قاعدتا تست ...\n",
              "4            باز هم میگم، پیتزا نباید اینقد چرب باشه  ...                           میگ پیتزا اینقد چرب باشه\n",
              "\n",
              "[5 rows x 3 columns]"
            ]
          },
          "metadata": {},
          "execution_count": 77
        }
      ]
    },
    {
      "cell_type": "markdown",
      "metadata": {
        "id": "X4Ln_bUnFN6Z"
      },
      "source": [
        "Let's print some of examples from train dataset."
      ]
    },
    {
      "cell_type": "code",
      "metadata": {
        "colab": {
          "base_uri": "https://localhost:8080/"
        },
        "id": "Uw5XQ-doEru_",
        "outputId": "a45282ec-748b-4dae-86c6-fe2a5102f3a7"
      },
      "source": [
        "# this example is in pinglish \n",
        "print(f'row 13 of train_data (before preprocessing) : {train_data.comment[13]}')\n",
        "print(f'row 13 of train_data (after preprocessing) : {train_data.preprocessing_text[13]}')"
      ],
      "execution_count": 79,
      "outputs": [
        {
          "output_type": "stream",
          "text": [
            "row 13 of train_data (before preprocessing) : Kheili khub bud mersi vaghan\n",
            "row 13 of train_data (after preprocessing) : \n"
          ],
          "name": "stdout"
        }
      ]
    },
    {
      "cell_type": "code",
      "metadata": {
        "colab": {
          "base_uri": "https://localhost:8080/"
        },
        "id": "H6rCreB7F2Oj",
        "outputId": "fbe10570-dd78-4800-859e-39eb0b55bb1f"
      },
      "source": [
        "# this example is in eglish and persian\n",
        "print(f'row 68 of train_data (before preprocessing) : {train_data.comment[68]}')\n",
        "print(f'row 68 of train_data (after preprocessing) : {train_data.preprocessing_text[68]}')"
      ],
      "execution_count": 80,
      "outputs": [
        {
          "output_type": "stream",
          "text": [
            "row 68 of train_data (before preprocessing) : The nutella and caramel rolls are AMAZING!!! GREAT service and very delicious desserts- عالى!!!!\n",
            "row 68 of train_data (after preprocessing) : اره ور عالی\n"
          ],
          "name": "stdout"
        }
      ]
    },
    {
      "cell_type": "code",
      "metadata": {
        "colab": {
          "base_uri": "https://localhost:8080/"
        },
        "id": "cYJ8_947GIIq",
        "outputId": "347e5d92-d127-4da7-fd72-7e1d692322cf"
      },
      "source": [
        "# this example is in pinglish \n",
        "print(f'row 1347 of train_data (before preprocessing) : {train_data.comment[1347]}')\n",
        "print(f'row 1347 of train_data (after preprocessing) : {train_data.preprocessing_text[1347]}')"
      ],
      "execution_count": 81,
      "outputs": [
        {
          "output_type": "stream",
          "text": [
            "row 1347 of train_data (before preprocessing) : Eclair behtarin o khoshmaze tarin shirinihae tehrano dare kolan\n",
            "row 1347 of train_data (after preprocessing) : خوشمزه کلان\n"
          ],
          "name": "stdout"
        }
      ]
    },
    {
      "cell_type": "code",
      "metadata": {
        "colab": {
          "base_uri": "https://localhost:8080/"
        },
        "id": "UJIlPi9oGVOY",
        "outputId": "6c098afc-ffe0-4bee-eedc-1d0cb5700a4f"
      },
      "source": [
        "# this example is in pinglish \n",
        "print(f'row 2659 of train_data (before preprocessing) : {train_data.comment[2659]}')\n",
        "print(f'row 2659 of train_data (after preprocessing) : {train_data.preprocessing_text[2659]}')"
      ],
      "execution_count": 82,
      "outputs": [
        {
          "output_type": "stream",
          "text": [
            "row 2659 of train_data (before preprocessing) : Margarita pizza is the simplest pizza and a great test for a pizza place- The Italians don’t bake the pizza with basil for a reason\n",
            "row 2659 of train_data (after preprocessing) : تست\n"
          ],
          "name": "stdout"
        }
      ]
    },
    {
      "cell_type": "code",
      "metadata": {
        "colab": {
          "base_uri": "https://localhost:8080/"
        },
        "id": "YKkiW_iUGeml",
        "outputId": "e428a92b-e42a-414e-e076-5f99696ea220"
      },
      "source": [
        "train_data.info()"
      ],
      "execution_count": 83,
      "outputs": [
        {
          "output_type": "stream",
          "text": [
            "<class 'pandas.core.frame.DataFrame'>\n",
            "RangeIndex: 56700 entries, 0 to 56699\n",
            "Data columns (total 3 columns):\n",
            " #   Column              Non-Null Count  Dtype \n",
            "---  ------              --------------  ----- \n",
            " 0   comment             56700 non-null  object\n",
            " 1   label               56700 non-null  int64 \n",
            " 2   preprocessing_text  56700 non-null  object\n",
            "dtypes: int64(1), object(2)\n",
            "memory usage: 1.3+ MB\n"
          ],
          "name": "stdout"
        }
      ]
    },
    {
      "cell_type": "code",
      "metadata": {
        "id": "5RX3TwUbGpD9"
      },
      "source": [
        "def find_empty_rows(df):\n",
        "  row_num = []\n",
        "  for i in range(df.shape(0)):\n",
        "    if df.preprocessing_text[i] == \"\" or df.preprocessing_text[i] == \" \":\n",
        "      row_num.append(i)\n",
        "  return row_num    \n"
      ],
      "execution_count": 86,
      "outputs": []
    },
    {
      "cell_type": "code",
      "metadata": {
        "id": "KwgNojXZHLtX"
      },
      "source": [
        "train_idx = find_emptu"
      ],
      "execution_count": null,
      "outputs": []
    }
  ]
}