{
  "nbformat": 4,
  "nbformat_minor": 0,
  "metadata": {
    "colab": {
      "name": "Sentiment Analysis.ipynb",
      "provenance": [],
      "collapsed_sections": [],
      "toc_visible": true
    },
    "kernelspec": {
      "name": "python3",
      "display_name": "Python 3"
    },
    "language_info": {
      "name": "python"
    }
  },
  "cells": [
    {
      "cell_type": "markdown",
      "metadata": {
        "id": "OM1_G40Rj421"
      },
      "source": [
        "# Section 2: Sentiment Analysis"
      ]
    },
    {
      "cell_type": "markdown",
      "metadata": {
        "id": "Us_0VzIPSI2e"
      },
      "source": [
        "## Sentiment Analysis without using Neural Networks"
      ]
    },
    {
      "cell_type": "code",
      "metadata": {
        "colab": {
          "base_uri": "https://localhost:8080/"
        },
        "id": "AFq9X4RSM0_f",
        "outputId": "caea11dd-22e9-491a-cd70-3ec804f0c1a2"
      },
      "source": [
        "!pip install parsivar"
      ],
      "execution_count": 1,
      "outputs": [
        {
          "output_type": "stream",
          "text": [
            "Requirement already satisfied: parsivar in /usr/local/lib/python3.7/dist-packages (0.2.3)\n",
            "Requirement already satisfied: nltk==3.4.5 in /usr/local/lib/python3.7/dist-packages (from parsivar) (3.4.5)\n",
            "Requirement already satisfied: six in /usr/local/lib/python3.7/dist-packages (from nltk==3.4.5->parsivar) (1.15.0)\n"
          ],
          "name": "stdout"
        }
      ]
    },
    {
      "cell_type": "code",
      "metadata": {
        "colab": {
          "base_uri": "https://localhost:8080/"
        },
        "id": "DuGPpua7M38A",
        "outputId": "438f688d-9ae6-4e3c-dc00-b4db75dcd4ce"
      },
      "source": [
        "# Loading NLTk\n",
        "import nltk\n",
        "nltk.download('punkt')"
      ],
      "execution_count": 2,
      "outputs": [
        {
          "output_type": "stream",
          "text": [
            "[nltk_data] Downloading package punkt to /root/nltk_data...\n",
            "[nltk_data]   Package punkt is already up-to-date!\n"
          ],
          "name": "stderr"
        },
        {
          "output_type": "execute_result",
          "data": {
            "text/plain": [
              "True"
            ]
          },
          "metadata": {},
          "execution_count": 2
        }
      ]
    },
    {
      "cell_type": "code",
      "metadata": {
        "id": "rfeZyySLK_up"
      },
      "source": [
        "# NLP libraries\n",
        "import parsivar\n",
        "from parsivar import Normalizer, Tokenizer, FindStems, POSTagger, FindChunks\n",
        "\n",
        "# plot\n",
        "import matplotlib.pyplot as plt\n",
        "\n",
        "import warnings\n",
        "warnings.filterwarnings('ignore')\n",
        "\n",
        "import numpy as np\n",
        "np.random.seed(0)"
      ],
      "execution_count": 3,
      "outputs": []
    },
    {
      "cell_type": "markdown",
      "metadata": {
        "id": "NAA2Y-dRR_bW"
      },
      "source": [
        "### Read dataset"
      ]
    },
    {
      "cell_type": "code",
      "metadata": {
        "colab": {
          "base_uri": "https://localhost:8080/"
        },
        "id": "gQMDzvDqMpvj",
        "outputId": "9c567fac-a8c5-48cd-bf1c-e3d422ce27ad"
      },
      "source": [
        "from google.colab import drive\n",
        "drive.mount('/content/drive')"
      ],
      "execution_count": 4,
      "outputs": [
        {
          "output_type": "stream",
          "text": [
            "Drive already mounted at /content/drive; to attempt to forcibly remount, call drive.mount(\"/content/drive\", force_remount=True).\n"
          ],
          "name": "stdout"
        }
      ]
    },
    {
      "cell_type": "markdown",
      "metadata": {
        "id": "CViIl-LdOiTP"
      },
      "source": [
        "Let's read sheet 1 of Labed-Sentemces.xlsx file."
      ]
    },
    {
      "cell_type": "code",
      "metadata": {
        "id": "bbpwkFrnMqDt"
      },
      "source": [
        "from pandas import read_excel\n",
        "my_sheet = 'Sheet1' # change it to your sheet name, you can find your sheet name at the bottom left of your excel file\n",
        "file_name = r'/content/drive/MyDrive/AI-Internship/Labeled-Sentences.xlsx' \n",
        "df_sheet1 = read_excel(file_name, sheet_name = my_sheet)"
      ],
      "execution_count": 5,
      "outputs": []
    },
    {
      "cell_type": "code",
      "metadata": {
        "colab": {
          "base_uri": "https://localhost:8080/",
          "height": 206
        },
        "id": "mZn5qZUGOwId",
        "outputId": "932f1c1f-3e89-4e33-9900-491a9f6f26c0"
      },
      "source": [
        "df_sheet1.head()"
      ],
      "execution_count": 6,
      "outputs": [
        {
          "output_type": "execute_result",
          "data": {
            "text/html": [
              "<div>\n",
              "<style scoped>\n",
              "    .dataframe tbody tr th:only-of-type {\n",
              "        vertical-align: middle;\n",
              "    }\n",
              "\n",
              "    .dataframe tbody tr th {\n",
              "        vertical-align: top;\n",
              "    }\n",
              "\n",
              "    .dataframe thead th {\n",
              "        text-align: right;\n",
              "    }\n",
              "</style>\n",
              "<table border=\"1\" class=\"dataframe\">\n",
              "  <thead>\n",
              "    <tr style=\"text-align: right;\">\n",
              "      <th></th>\n",
              "      <th>review</th>\n",
              "      <th>stars</th>\n",
              "      <th>label</th>\n",
              "      <th>food</th>\n",
              "      <th>cleanness</th>\n",
              "      <th>price</th>\n",
              "      <th>view</th>\n",
              "      <th>workers</th>\n",
              "      <th>space</th>\n",
              "    </tr>\n",
              "  </thead>\n",
              "  <tbody>\n",
              "    <tr>\n",
              "      <th>0</th>\n",
              "      <td>سلام من یک ماه پیش در هتل شمس قشم بودم واقعا ه...</td>\n",
              "      <td>5</td>\n",
              "      <td>2</td>\n",
              "      <td>NaN</td>\n",
              "      <td>NaN</td>\n",
              "      <td>NaN</td>\n",
              "      <td>NaN</td>\n",
              "      <td>NaN</td>\n",
              "      <td>NaN</td>\n",
              "    </tr>\n",
              "    <tr>\n",
              "      <th>1</th>\n",
              "      <td>سلام بنده با همراه خانوادم چهار روز در این هتل...</td>\n",
              "      <td>4</td>\n",
              "      <td>2</td>\n",
              "      <td>NaN</td>\n",
              "      <td>NaN</td>\n",
              "      <td>NaN</td>\n",
              "      <td>NaN</td>\n",
              "      <td>NaN</td>\n",
              "      <td>NaN</td>\n",
              "    </tr>\n",
              "    <tr>\n",
              "      <th>2</th>\n",
              "      <td>ما از تاریخ ۵اسفند ۹۶تا۸اسفند ۹۶ در این هتل اق...</td>\n",
              "      <td>5</td>\n",
              "      <td>2</td>\n",
              "      <td>NaN</td>\n",
              "      <td>NaN</td>\n",
              "      <td>NaN</td>\n",
              "      <td>NaN</td>\n",
              "      <td>NaN</td>\n",
              "      <td>NaN</td>\n",
              "    </tr>\n",
              "    <tr>\n",
              "      <th>3</th>\n",
              "      <td>من 2روز در اين هتل به همراه همسرم اقامت داشتم ...</td>\n",
              "      <td>5</td>\n",
              "      <td>2</td>\n",
              "      <td>NaN</td>\n",
              "      <td>NaN</td>\n",
              "      <td>NaN</td>\n",
              "      <td>NaN</td>\n",
              "      <td>NaN</td>\n",
              "      <td>NaN</td>\n",
              "    </tr>\n",
              "    <tr>\n",
              "      <th>4</th>\n",
              "      <td>سفر بسیار خوبی بود هتل بسیار زیبا و قشنگی بود ...</td>\n",
              "      <td>5</td>\n",
              "      <td>2</td>\n",
              "      <td>NaN</td>\n",
              "      <td>NaN</td>\n",
              "      <td>NaN</td>\n",
              "      <td>NaN</td>\n",
              "      <td>NaN</td>\n",
              "      <td>NaN</td>\n",
              "    </tr>\n",
              "  </tbody>\n",
              "</table>\n",
              "</div>"
            ],
            "text/plain": [
              "                                              review  stars  ...  workers  space\n",
              "0  سلام من یک ماه پیش در هتل شمس قشم بودم واقعا ه...      5  ...      NaN    NaN\n",
              "1  سلام بنده با همراه خانوادم چهار روز در این هتل...      4  ...      NaN    NaN\n",
              "2  ما از تاریخ ۵اسفند ۹۶تا۸اسفند ۹۶ در این هتل اق...      5  ...      NaN    NaN\n",
              "3  من 2روز در اين هتل به همراه همسرم اقامت داشتم ...      5  ...      NaN    NaN\n",
              "4  سفر بسیار خوبی بود هتل بسیار زیبا و قشنگی بود ...      5  ...      NaN    NaN\n",
              "\n",
              "[5 rows x 9 columns]"
            ]
          },
          "metadata": {},
          "execution_count": 6
        }
      ]
    },
    {
      "cell_type": "code",
      "metadata": {
        "colab": {
          "base_uri": "https://localhost:8080/"
        },
        "id": "eCVx-vHdP1I5",
        "outputId": "962e6e1e-ebf0-4410-e4c5-def02c5f3f4e"
      },
      "source": [
        "df_sheet1.shape"
      ],
      "execution_count": 7,
      "outputs": [
        {
          "output_type": "execute_result",
          "data": {
            "text/plain": [
              "(930, 9)"
            ]
          },
          "metadata": {},
          "execution_count": 7
        }
      ]
    },
    {
      "cell_type": "code",
      "metadata": {
        "colab": {
          "base_uri": "https://localhost:8080/"
        },
        "id": "ugTmFmpIPhiL",
        "outputId": "ad9eecbc-d93a-4a6d-fe77-6e0a2a2cc61e"
      },
      "source": [
        "df_sheet1.label.value_counts()"
      ],
      "execution_count": 8,
      "outputs": [
        {
          "output_type": "execute_result",
          "data": {
            "text/plain": [
              "2    638\n",
              "0    153\n",
              "1    139\n",
              "Name: label, dtype: int64"
            ]
          },
          "metadata": {},
          "execution_count": 8
        }
      ]
    },
    {
      "cell_type": "code",
      "metadata": {
        "colab": {
          "base_uri": "https://localhost:8080/",
          "height": 295
        },
        "id": "HhnsVry7QHRy",
        "outputId": "5836bbb0-ae7c-4961-9ad0-3cd1dc4d695e"
      },
      "source": [
        "# distribution of data in each class\n",
        "distribution = list(df_sheet1.label.value_counts())\n",
        "\n",
        "import matplotlib.pyplot as plt\n",
        "plt.bar(['2', '0', '1'] ,distribution)\n",
        "plt.xlabel(\"Label\")\n",
        "plt.ylabel(\"Number of Reviews\")\n",
        "plt.title(\"Distribution of data in each class in sheet1\")\n",
        "plt.show()"
      ],
      "execution_count": 9,
      "outputs": [
        {
          "output_type": "display_data",
          "data": {
            "image/png": "[encoded data removed]",
            "text/plain": [
              "<Figure size 432x288 with 1 Axes>"
            ]
          },
          "metadata": {
            "needs_background": "light"
          }
        }
      ]
    },
    {
      "cell_type": "markdown",
      "metadata": {
        "id": "FRwVSt_TS_3W"
      },
      "source": [
        "Let's read sheet 2 of Labeled-Sentence.xlsx."
      ]
    },
    {
      "cell_type": "code",
      "metadata": {
        "id": "oAWzDzSjPo7k"
      },
      "source": [
        "my_sheet = 'Sheet2' # change it to your sheet name, you can find your sheet name at the bottom left of your excel file\n",
        "file_name = r'/content/drive/MyDrive/AI-Internship/Labeled-Sentences.xlsx' \n",
        "df_sheet2 = read_excel(file_name, sheet_name = my_sheet)"
      ],
      "execution_count": 10,
      "outputs": []
    },
    {
      "cell_type": "code",
      "metadata": {
        "colab": {
          "base_uri": "https://localhost:8080/"
        },
        "id": "Da7KKTdvPuDH",
        "outputId": "a1226906-5c4d-49c8-a974-e34846ee909e"
      },
      "source": [
        "df_sheet2.shape"
      ],
      "execution_count": 11,
      "outputs": [
        {
          "output_type": "execute_result",
          "data": {
            "text/plain": [
              "(703, 6)"
            ]
          },
          "metadata": {},
          "execution_count": 11
        }
      ]
    },
    {
      "cell_type": "code",
      "metadata": {
        "colab": {
          "base_uri": "https://localhost:8080/",
          "height": 206
        },
        "id": "R2UXQa-jPv-Z",
        "outputId": "904ca681-86d5-4fb4-da41-7172a3530cb5"
      },
      "source": [
        "df_sheet2.head()"
      ],
      "execution_count": 13,
      "outputs": [
        {
          "output_type": "execute_result",
          "data": {
            "text/html": [
              "<div>\n",
              "<style scoped>\n",
              "    .dataframe tbody tr th:only-of-type {\n",
              "        vertical-align: middle;\n",
              "    }\n",
              "\n",
              "    .dataframe tbody tr th {\n",
              "        vertical-align: top;\n",
              "    }\n",
              "\n",
              "    .dataframe thead th {\n",
              "        text-align: right;\n",
              "    }\n",
              "</style>\n",
              "<table border=\"1\" class=\"dataframe\">\n",
              "  <thead>\n",
              "    <tr style=\"text-align: right;\">\n",
              "      <th></th>\n",
              "      <th>Unnamed: 0</th>\n",
              "      <th>star</th>\n",
              "      <th>label</th>\n",
              "      <th>good=1</th>\n",
              "      <th>fair=0</th>\n",
              "      <th>excellent=2</th>\n",
              "    </tr>\n",
              "  </thead>\n",
              "  <tbody>\n",
              "    <tr>\n",
              "      <th>0</th>\n",
              "      <td>واقعا هتل خوبی بود...از لحاظ نزدیکی به دریا وم...</td>\n",
              "      <td>5</td>\n",
              "      <td>2</td>\n",
              "      <td>NaN</td>\n",
              "      <td>NaN</td>\n",
              "      <td>NaN</td>\n",
              "    </tr>\n",
              "    <tr>\n",
              "      <th>1</th>\n",
              "      <td>از همه مهمتر پرسنل های خیلی خوبی داشت</td>\n",
              "      <td>5</td>\n",
              "      <td>2</td>\n",
              "      <td>NaN</td>\n",
              "      <td>NaN</td>\n",
              "      <td>NaN</td>\n",
              "    </tr>\n",
              "    <tr>\n",
              "      <th>2</th>\n",
              "      <td>من ب این هتل امتیاز کامل میدم</td>\n",
              "      <td>5</td>\n",
              "      <td>2</td>\n",
              "      <td>NaN</td>\n",
              "      <td>NaN</td>\n",
              "      <td>NaN</td>\n",
              "    </tr>\n",
              "    <tr>\n",
              "      <th>3</th>\n",
              "      <td>از نظر ترانسفر فرودگاهی بسیار عالی برخورد</td>\n",
              "      <td>4</td>\n",
              "      <td>2</td>\n",
              "      <td>NaN</td>\n",
              "      <td>NaN</td>\n",
              "      <td>NaN</td>\n",
              "    </tr>\n",
              "    <tr>\n",
              "      <th>4</th>\n",
              "      <td>پرسنل عالی برخورد رستوران حرف نداشت</td>\n",
              "      <td>4</td>\n",
              "      <td>2</td>\n",
              "      <td>NaN</td>\n",
              "      <td>NaN</td>\n",
              "      <td>NaN</td>\n",
              "    </tr>\n",
              "  </tbody>\n",
              "</table>\n",
              "</div>"
            ],
            "text/plain": [
              "                                          Unnamed: 0  star  ...  fair=0  excellent=2\n",
              "0  واقعا هتل خوبی بود...از لحاظ نزدیکی به دریا وم...     5  ...     NaN          NaN\n",
              "1              از همه مهمتر پرسنل های خیلی خوبی داشت     5  ...     NaN          NaN\n",
              "2                     من ب این هتل امتیاز کامل میدم      5  ...     NaN          NaN\n",
              "3          از نظر ترانسفر فرودگاهی بسیار عالی برخورد     4  ...     NaN          NaN\n",
              "4                پرسنل عالی برخورد رستوران حرف نداشت     4  ...     NaN          NaN\n",
              "\n",
              "[5 rows x 6 columns]"
            ]
          },
          "metadata": {},
          "execution_count": 13
        }
      ]
    },
    {
      "cell_type": "code",
      "metadata": {
        "colab": {
          "base_uri": "https://localhost:8080/"
        },
        "id": "WKhVhurlPy8X",
        "outputId": "6d3f30c0-0c75-4540-94fe-8be1e828a5fc"
      },
      "source": [
        "df_sheet2.label.value_counts()"
      ],
      "execution_count": 14,
      "outputs": [
        {
          "output_type": "execute_result",
          "data": {
            "text/plain": [
              "2    565\n",
              "0    111\n",
              "1     27\n",
              "Name: label, dtype: int64"
            ]
          },
          "metadata": {},
          "execution_count": 14
        }
      ]
    },
    {
      "cell_type": "code",
      "metadata": {
        "colab": {
          "base_uri": "https://localhost:8080/",
          "height": 295
        },
        "id": "hc6fguubQC54",
        "outputId": "b96ad602-2780-4bb7-cf61-fe02ed5462fa"
      },
      "source": [
        "# distribution of data in each class\n",
        "distribution = list(df_sheet2.label.value_counts())\n",
        "\n",
        "import matplotlib.pyplot as plt\n",
        "plt.bar(['2', '0', '1'] ,distribution)\n",
        "plt.xlabel(\"Label\")\n",
        "plt.ylabel(\"Number of Reviews\")\n",
        "plt.title(\"Distribution of data in each class in sheet2\")\n",
        "plt.show()"
      ],
      "execution_count": 15,
      "outputs": [
        {
          "output_type": "display_data",
          "data": {
            "image/png": "[encoded data removed]",
            "text/plain": [
              "<Figure size 432x288 with 1 Axes>"
            ]
          },
          "metadata": {
            "needs_background": "light"
          }
        }
      ]
    },
    {
      "cell_type": "markdown",
      "metadata": {
        "id": "Oo4a7PuvUL1l"
      },
      "source": [
        "Both sheets have an unbalanced dataset, but it seems that sheet 1 is better than sheet 2, Because it has more data and classes 0 and 1 have balanced distribution. So, we select shee1 and doing sentiment analysis on it."
      ]
    },
    {
      "cell_type": "markdown",
      "metadata": {
        "id": "vyXxYZviVakA"
      },
      "source": [
        "Before we start doing sentiment analysis, we should read the PerSent.xlsx file that contains the word and polarity of each word."
      ]
    },
    {
      "cell_type": "code",
      "metadata": {
        "id": "eNNe9F_OQbcn"
      },
      "source": [
        "my_sheet = 'Dataset' # change it to your sheet name, you can find your sheet name at the bottom left of your excel file\n",
        "file_name = r'/content/drive/MyDrive/AI-Internship/PerSent.xlsx' \n",
        "persent = read_excel(file_name, sheet_name = my_sheet)"
      ],
      "execution_count": 22,
      "outputs": []
    },
    {
      "cell_type": "code",
      "metadata": {
        "colab": {
          "base_uri": "https://localhost:8080/",
          "height": 206
        },
        "id": "J6jpUB34WNUL",
        "outputId": "9be02886-1a43-4ee1-df96-83c693f093a6"
      },
      "source": [
        "persent.head()"
      ],
      "execution_count": 23,
      "outputs": [
        {
          "output_type": "execute_result",
          "data": {
            "text/html": [
              "<div>\n",
              "<style scoped>\n",
              "    .dataframe tbody tr th:only-of-type {\n",
              "        vertical-align: middle;\n",
              "    }\n",
              "\n",
              "    .dataframe tbody tr th {\n",
              "        vertical-align: top;\n",
              "    }\n",
              "\n",
              "    .dataframe thead th {\n",
              "        text-align: right;\n",
              "    }\n",
              "</style>\n",
              "<table border=\"1\" class=\"dataframe\">\n",
              "  <thead>\n",
              "    <tr style=\"text-align: right;\">\n",
              "      <th></th>\n",
              "      <th>Words</th>\n",
              "      <th>POS</th>\n",
              "      <th>Polarity</th>\n",
              "    </tr>\n",
              "  </thead>\n",
              "  <tbody>\n",
              "    <tr>\n",
              "      <th>0</th>\n",
              "      <td>خوب</td>\n",
              "      <td>Adj</td>\n",
              "      <td>0.70</td>\n",
              "    </tr>\n",
              "    <tr>\n",
              "      <th>1</th>\n",
              "      <td>بد</td>\n",
              "      <td>Adj</td>\n",
              "      <td>-0.69</td>\n",
              "    </tr>\n",
              "    <tr>\n",
              "      <th>2</th>\n",
              "      <td>درست</td>\n",
              "      <td>Adj</td>\n",
              "      <td>0.00</td>\n",
              "    </tr>\n",
              "    <tr>\n",
              "      <th>3</th>\n",
              "      <td>غلط</td>\n",
              "      <td>Adj</td>\n",
              "      <td>-0.50</td>\n",
              "    </tr>\n",
              "    <tr>\n",
              "      <th>4</th>\n",
              "      <td>زیبا</td>\n",
              "      <td>Adj</td>\n",
              "      <td>0.00</td>\n",
              "    </tr>\n",
              "  </tbody>\n",
              "</table>\n",
              "</div>"
            ],
            "text/plain": [
              "  Words  POS  Polarity\n",
              "0   خوب  Adj      0.70\n",
              "1    بد  Adj     -0.69\n",
              "2  درست  Adj      0.00\n",
              "3   غلط  Adj     -0.50\n",
              "4  زیبا  Adj      0.00"
            ]
          },
          "metadata": {},
          "execution_count": 23
        }
      ]
    },
    {
      "cell_type": "code",
      "metadata": {
        "colab": {
          "base_uri": "https://localhost:8080/"
        },
        "id": "us4ZBK0CWlwA",
        "outputId": "7f816130-2e56-4580-fbdb-87c4fca028ab"
      },
      "source": [
        "persent.shape"
      ],
      "execution_count": 24,
      "outputs": [
        {
          "output_type": "execute_result",
          "data": {
            "text/plain": [
              "(1490, 3)"
            ]
          },
          "metadata": {},
          "execution_count": 24
        }
      ]
    },
    {
      "cell_type": "code",
      "metadata": {
        "colab": {
          "base_uri": "https://localhost:8080/",
          "height": 36
        },
        "id": "fizgt5R1Wpnd",
        "outputId": "26d0fbee-592b-430f-c768-787fa836ea1c"
      },
      "source": [
        "persent.Words[774]"
      ],
      "execution_count": 28,
      "outputs": [
        {
          "output_type": "execute_result",
          "data": {
            "application/vnd.google.colaboratory.intrinsic+json": {
              "type": "string"
            },
            "text/plain": [
              "'ته دوزی'"
            ]
          },
          "metadata": {},
          "execution_count": 28
        }
      ]
    },
    {
      "cell_type": "markdown",
      "metadata": {
        "id": "vGjOejxeaasO"
      },
      "source": [
        "### Remove irrelevant columns"
      ]
    },
    {
      "cell_type": "markdown",
      "metadata": {
        "id": "HJIHkovoZlFB"
      },
      "source": [
        "Let's come back to sheet1 and do some preprocessing on it."
      ]
    },
    {
      "cell_type": "code",
      "metadata": {
        "colab": {
          "base_uri": "https://localhost:8080/",
          "height": 206
        },
        "id": "7mBBzGuCZSJm",
        "outputId": "a9d0d25d-299e-48ec-de15-f7c6d5011142"
      },
      "source": [
        "data = df_sheet1.copy()\n",
        "data.drop(labels=['stars','food','cleanness','price','view','workers', 'space'], axis=1, inplace=True) # remove useless columns\n",
        "\n",
        "data.head()"
      ],
      "execution_count": 29,
      "outputs": [
        {
          "output_type": "execute_result",
          "data": {
            "text/html": [
              "<div>\n",
              "<style scoped>\n",
              "    .dataframe tbody tr th:only-of-type {\n",
              "        vertical-align: middle;\n",
              "    }\n",
              "\n",
              "    .dataframe tbody tr th {\n",
              "        vertical-align: top;\n",
              "    }\n",
              "\n",
              "    .dataframe thead th {\n",
              "        text-align: right;\n",
              "    }\n",
              "</style>\n",
              "<table border=\"1\" class=\"dataframe\">\n",
              "  <thead>\n",
              "    <tr style=\"text-align: right;\">\n",
              "      <th></th>\n",
              "      <th>review</th>\n",
              "      <th>label</th>\n",
              "    </tr>\n",
              "  </thead>\n",
              "  <tbody>\n",
              "    <tr>\n",
              "      <th>0</th>\n",
              "      <td>سلام من یک ماه پیش در هتل شمس قشم بودم واقعا ه...</td>\n",
              "      <td>2</td>\n",
              "    </tr>\n",
              "    <tr>\n",
              "      <th>1</th>\n",
              "      <td>سلام بنده با همراه خانوادم چهار روز در این هتل...</td>\n",
              "      <td>2</td>\n",
              "    </tr>\n",
              "    <tr>\n",
              "      <th>2</th>\n",
              "      <td>ما از تاریخ ۵اسفند ۹۶تا۸اسفند ۹۶ در این هتل اق...</td>\n",
              "      <td>2</td>\n",
              "    </tr>\n",
              "    <tr>\n",
              "      <th>3</th>\n",
              "      <td>من 2روز در اين هتل به همراه همسرم اقامت داشتم ...</td>\n",
              "      <td>2</td>\n",
              "    </tr>\n",
              "    <tr>\n",
              "      <th>4</th>\n",
              "      <td>سفر بسیار خوبی بود هتل بسیار زیبا و قشنگی بود ...</td>\n",
              "      <td>2</td>\n",
              "    </tr>\n",
              "  </tbody>\n",
              "</table>\n",
              "</div>"
            ],
            "text/plain": [
              "                                              review  label\n",
              "0  سلام من یک ماه پیش در هتل شمس قشم بودم واقعا ه...      2\n",
              "1  سلام بنده با همراه خانوادم چهار روز در این هتل...      2\n",
              "2  ما از تاریخ ۵اسفند ۹۶تا۸اسفند ۹۶ در این هتل اق...      2\n",
              "3  من 2روز در اين هتل به همراه همسرم اقامت داشتم ...      2\n",
              "4  سفر بسیار خوبی بود هتل بسیار زیبا و قشنگی بود ...      2"
            ]
          },
          "metadata": {},
          "execution_count": 29
        }
      ]
    },
    {
      "cell_type": "code",
      "metadata": {
        "colab": {
          "base_uri": "https://localhost:8080/"
        },
        "id": "CXlGOH_YaRe8",
        "outputId": "aeb44e15-7cdf-473a-824d-93d52099b2ff"
      },
      "source": [
        "data.shape"
      ],
      "execution_count": 30,
      "outputs": [
        {
          "output_type": "execute_result",
          "data": {
            "text/plain": [
              "(930, 2)"
            ]
          },
          "metadata": {},
          "execution_count": 30
        }
      ]
    },
    {
      "cell_type": "code",
      "metadata": {
        "id": "VYZZ9DAZaTZQ"
      },
      "source": [
        ""
      ],
      "execution_count": null,
      "outputs": []
    }
  ]
}