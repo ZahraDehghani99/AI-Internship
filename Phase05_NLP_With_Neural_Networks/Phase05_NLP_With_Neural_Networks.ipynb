{
  "nbformat": 4,
  "nbformat_minor": 0,
  "metadata": {
    "colab": {
      "name": "Phase05-NLP With Neural Networks.ipynb",
      "provenance": [],
      "collapsed_sections": [],
      "toc_visible": true
    },
    "kernelspec": {
      "name": "python3",
      "display_name": "Python 3"
    },
    "language_info": {
      "name": "python"
    }
  },
  "cells": [
    {
      "cell_type": "markdown",
      "metadata": {
        "id": "pzNeTzyVIZS9"
      },
      "source": [
        "# Section 1: Text Classification"
      ]
    },
    {
      "cell_type": "markdown",
      "metadata": {
        "id": "N0frQe0whC4M"
      },
      "source": [
        "## Text Classification With The Torchtext Library\n"
      ]
    },
    {
      "cell_type": "markdown",
      "metadata": {
        "id": "32Jl8QA0r1uc"
      },
      "source": [
        "### Access to the raw dataset iterators"
      ]
    },
    {
      "cell_type": "code",
      "metadata": {
        "id": "z12xhECGhIjS"
      },
      "source": [
        "import torch\n",
        "from torchtext.datasets import AG_NEWS"
      ],
      "execution_count": null,
      "outputs": []
    },
    {
      "cell_type": "code",
      "metadata": {
        "colab": {
          "base_uri": "https://localhost:8080/"
        },
        "id": "LHumobmChv6i",
        "outputId": "23a18213-5690-41a6-d20a-6d9ee8f333e6"
      },
      "source": [
        "AG_NEWS"
      ],
      "execution_count": null,
      "outputs": [
        {
          "output_type": "execute_result",
          "data": {
            "text/plain": [
              "<function torchtext.datasets.ag_news.AG_NEWS>"
            ]
          },
          "metadata": {
            "tags": []
          },
          "execution_count": 2
        }
      ]
    },
    {
      "cell_type": "markdown",
      "metadata": {
        "id": "tQToQx41ioTX"
      },
      "source": [
        "AG_NEWS consits of tupel of label and text."
      ]
    },
    {
      "cell_type": "code",
      "metadata": {
        "colab": {
          "base_uri": "https://localhost:8080/"
        },
        "id": "exrn1oQnhpxA",
        "outputId": "c7e6a29f-68bb-4b73-8568-3f40fc6e973f"
      },
      "source": [
        "train_iter = AG_NEWS(split='train')\n",
        "print(f'example of AG_NEWs : {next(train_iter)}')\n",
        "print(f'example of AG_NEWs : {next(train_iter)}')\n",
        "print(f'example of AG_NEWs : {next(train_iter)}')"
      ],
      "execution_count": null,
      "outputs": [
        {
          "output_type": "stream",
          "text": [
            "example of AG_NEWs : (3, \"Wall St. Bears Claw Back Into the Black (Reuters) Reuters - Short-sellers, Wall Street's dwindling\\\\band of ultra-cynics, are seeing green again.\")\n",
            "example of AG_NEWs : (3, 'Carlyle Looks Toward Commercial Aerospace (Reuters) Reuters - Private investment firm Carlyle Group,\\\\which has a reputation for making well-timed and occasionally\\\\controversial plays in the defense industry, has quietly placed\\\\its bets on another part of the market.')\n",
            "example of AG_NEWs : (3, \"Oil and Economy Cloud Stocks' Outlook (Reuters) Reuters - Soaring crude prices plus worries\\\\about the economy and the outlook for earnings are expected to\\\\hang over the stock market next week during the depth of the\\\\summer doldrums.\")\n"
          ],
          "name": "stdout"
        }
      ]
    },
    {
      "cell_type": "markdown",
      "metadata": {
        "id": "AtVYZA1DsCUR"
      },
      "source": [
        "### Prepare data processing pipeline"
      ]
    },
    {
      "cell_type": "code",
      "metadata": {
        "id": "LXjBxqKtiQTR"
      },
      "source": [
        "from torchtext.data.utils import get_tokenizer\n",
        "from torchtext.vocab import build_vocab_from_iterator\n",
        "\n",
        "tokenizer = get_tokenizer('basic_english')\n",
        "train_iter =  AG_NEWS(split='train')\n",
        "\n",
        "def yield_tokens(data_iter):\n",
        "  for _, text in data_iter:\n",
        "    yield tokenizer(text)\n",
        "\n",
        "vocab = build_vocab_from_iterator(yield_tokens(train_iter), specials=['<unk>'])\n",
        "vocab.set_default_index(vocab['<unk>'])"
      ],
      "execution_count": null,
      "outputs": []
    },
    {
      "cell_type": "code",
      "metadata": {
        "colab": {
          "base_uri": "https://localhost:8080/"
        },
        "id": "KUcnwdI_iDUA",
        "outputId": "23356f90-3131-402a-9ae8-fe639a517ca6"
      },
      "source": [
        "# convert a list of tokens into integers\n",
        "vocab(['here','is' ,'an', 'example'])"
      ],
      "execution_count": null,
      "outputs": [
        {
          "output_type": "execute_result",
          "data": {
            "text/plain": [
              "[475, 21, 30, 5297]"
            ]
          },
          "metadata": {
            "tags": []
          },
          "execution_count": 5
        }
      ]
    },
    {
      "cell_type": "markdown",
      "metadata": {
        "id": "Oieq05OoUGVl"
      },
      "source": [
        "Let's build fuctions for process text and label. \n",
        "\n",
        "The text pipeline converts a text string into a list of integers based on the lookup table defined in the vocabulary. The label pipeline converts the label into integers"
      ]
    },
    {
      "cell_type": "code",
      "metadata": {
        "id": "WeHgHQmsO9PY"
      },
      "source": [
        "text_pipeline = lambda x: vocab(tokenizer(x))\n",
        "label_pipeline = lambda x: int(x) -1"
      ],
      "execution_count": null,
      "outputs": []
    },
    {
      "cell_type": "code",
      "metadata": {
        "colab": {
          "base_uri": "https://localhost:8080/"
        },
        "id": "rsTidMbBO_0o",
        "outputId": "719fc601-fbe6-460e-d6c3-f81f08bc063d"
      },
      "source": [
        "text_pipeline('here is an example')"
      ],
      "execution_count": null,
      "outputs": [
        {
          "output_type": "execute_result",
          "data": {
            "text/plain": [
              "[475, 21, 30, 5297]"
            ]
          },
          "metadata": {
            "tags": []
          },
          "execution_count": 7
        }
      ]
    },
    {
      "cell_type": "code",
      "metadata": {
        "colab": {
          "base_uri": "https://localhost:8080/"
        },
        "id": "Iu7II3OOWS2e",
        "outputId": "4ec9d7f4-69fa-46d3-e4c2-cf0fcade96ff"
      },
      "source": [
        "label_pipeline('10')"
      ],
      "execution_count": null,
      "outputs": [
        {
          "output_type": "execute_result",
          "data": {
            "text/plain": [
              "9"
            ]
          },
          "metadata": {
            "tags": []
          },
          "execution_count": 8
        }
      ]
    },
    {
      "cell_type": "markdown",
      "metadata": {
        "id": "0hgnz7AbWlad"
      },
      "source": [
        "### Generate data batch and iterator"
      ]
    },
    {
      "cell_type": "code",
      "metadata": {
        "id": "SxRTMxvvYi3e"
      },
      "source": [
        "from torch.utils.data import DataLoader\n",
        "\n",
        "def collate_batch(batch):\n",
        "  label_list, text_list, offsets = [], [], [0]\n",
        "\n",
        "  for (_label, _text) in batch:\n",
        "    label_list.append(label_pipeline(_label))\n",
        "    processed_text = torch.tensor(text_pipeline(_text), dtype=torch.int64)\n",
        "    text_list.append(processed_text)\n",
        "    offsets.append(processed_text.size(0))\n",
        "  label_list = torch.tensor(label_list, dtype=torch.int64)  \n",
        "  offsets = torch.tensor(offsets[:-1]).cumsum(dim=0)\n",
        "  text_list = torch.cat(text_list)\n",
        "  return label_list, text_list, offsets"
      ],
      "execution_count": null,
      "outputs": []
    },
    {
      "cell_type": "code",
      "metadata": {
        "id": "dAbfzyCdl4uv"
      },
      "source": [
        "train_iter = AG_NEWS(split='train')\n",
        "dataloader = DataLoader(train_iter, batch_size=8, shuffle=False, collate_fn=collate_batch)"
      ],
      "execution_count": null,
      "outputs": []
    },
    {
      "cell_type": "code",
      "metadata": {
        "colab": {
          "base_uri": "https://localhost:8080/"
        },
        "id": "5CWiW_3_nXNg",
        "outputId": "155c67c7-3bb6-40f8-aea9-3150f6cbd2b0"
      },
      "source": [
        "print(f'length of train_iter is : {len(train_iter)} and length of dataloader is : {len(dataloader)}')"
      ],
      "execution_count": null,
      "outputs": [
        {
          "output_type": "stream",
          "text": [
            "length of train_iter is : 120000 and length of dataloader is : 15000\n"
          ],
          "name": "stdout"
        }
      ]
    },
    {
      "cell_type": "markdown",
      "metadata": {
        "id": "FuE7pvI0oNIy"
      },
      "source": [
        "Let's take a look at a batch of the dataloader."
      ]
    },
    {
      "cell_type": "code",
      "metadata": {
        "colab": {
          "base_uri": "https://localhost:8080/"
        },
        "id": "hlTbsHKAmQG9",
        "outputId": "3f2da2aa-671e-4876-b67e-008543f9f032"
      },
      "source": [
        "examples = iter(dataloader)\n",
        "#unpack examples\n",
        "label, text , offset = examples.next()\n",
        "print(f'label shape : {label.shape} ,text shape : {text.shape}, length of offset : {len(offset)}')\n",
        "print(f'offset -> {offset}')\n",
        "print(f'length of the first text in the batch : {offset[1]}')"
      ],
      "execution_count": null,
      "outputs": [
        {
          "output_type": "stream",
          "text": [
            "label shape : torch.Size([8]) ,text shape : torch.Size([338]), length of offset : 8\n",
            "offset -> tensor([  0,  29,  71, 111, 151, 194, 242, 289])\n",
            "length of the first text in the batch : 29\n"
          ],
          "name": "stdout"
        }
      ]
    },
    {
      "cell_type": "markdown",
      "metadata": {
        "id": "DuTuPaYUsiPI"
      },
      "source": [
        "Offset is a list with a length of 9(batch size + 1) that stores the length of each text in the batch."
      ]
    },
    {
      "cell_type": "markdown",
      "metadata": {
        "id": "D84DYkjuu_hu"
      },
      "source": [
        "### Define the model"
      ]
    },
    {
      "cell_type": "code",
      "metadata": {
        "id": "HIJLZ9is4fUO"
      },
      "source": [
        "from torch import nn\n",
        "\n",
        "class TextClassificationModel(nn.Module):\n",
        "  def __init__(self, vocab_size, embed_dim, num_class):\n",
        "    super(TextClassificationModel, self).__init__()\n",
        "    self.embedding = nn.EmbeddingBag(vocab_size, embed_dim, sparse=True)\n",
        "    self.fc = nn.Linear(embed_dim, num_class)\n",
        "    self.init_weights()\n",
        "\n",
        "  def init_weights(self):\n",
        "    initrange = 0.5\n",
        "    self.embedding.weight.data.uniform_(-initrange, initrange)\n",
        "    self.fc.weight.data.uniform_(-initrange, initrange)\n",
        "    self.fc.bias.data.zero_()\n",
        "\n",
        "  def forward(self, text, offsets):\n",
        "    embedded = self.embedding(text, offsets)\n",
        "    return self.fc(embedded)  \n"
      ],
      "execution_count": null,
      "outputs": []
    },
    {
      "cell_type": "markdown",
      "metadata": {
        "id": "ylVEtKTb7t8k"
      },
      "source": [
        "### Initiate an instance"
      ]
    },
    {
      "cell_type": "code",
      "metadata": {
        "id": "tMS5a61D7rlc"
      },
      "source": [
        "train_iter = AG_NEWS(split='train')\n",
        "labels = [label for (label, text) in train_iter]"
      ],
      "execution_count": null,
      "outputs": []
    },
    {
      "cell_type": "code",
      "metadata": {
        "colab": {
          "base_uri": "https://localhost:8080/"
        },
        "id": "gbZACqM48Kz-",
        "outputId": "b1321854-0bc4-49e6-8ced-d9cd1f2df0ed"
      },
      "source": [
        "classes = set(labels)\n",
        "\n",
        "distribution = {}\n",
        "for i in classes:\n",
        "  distribution[i] = labels.count(i)\n",
        "\n",
        "print(f'distribution in each class : {distribution}')"
      ],
      "execution_count": null,
      "outputs": [
        {
          "output_type": "stream",
          "text": [
            "distribution in each class : {1: 30000, 2: 30000, 3: 30000, 4: 30000}\n"
          ],
          "name": "stdout"
        }
      ]
    },
    {
      "cell_type": "code",
      "metadata": {
        "colab": {
          "base_uri": "https://localhost:8080/",
          "height": 295
        },
        "id": "0M0wAYfr8MLl",
        "outputId": "b6c36d4d-4a59-4f02-8620-719cb9e39f8f"
      },
      "source": [
        "import matplotlib.pyplot as plt\n",
        "\n",
        "num_in_class = [distribution[i] for i in range(1,5)]\n",
        "plt.bar([1,2,3,4], num_in_class)\n",
        "plt.xlabel('Classes')\n",
        "plt.ylabel('Numbers in each class')\n",
        "plt.title('Data distribution in each class')\n",
        "plt.show()"
      ],
      "execution_count": null,
      "outputs": [
        {
          "output_type": "display_data",
          "data": {
            "image/png": "[encoded data removed]",
            "text/plain": [
              "<Figure size 432x288 with 1 Axes>"
            ]
          },
          "metadata": {
            "tags": [],
            "needs_background": "light"
          }
        }
      ]
    },
    {
      "cell_type": "code",
      "metadata": {
        "id": "hkGV6nLy8TBO"
      },
      "source": [
        "num_class = len(classes)\n",
        "vocab_size = len(vocab)\n",
        "embed_dim = 64\n",
        "\n",
        "model = TextClassificationModel(vocab_size, embed_dim, num_class)"
      ],
      "execution_count": null,
      "outputs": []
    },
    {
      "cell_type": "markdown",
      "metadata": {
        "id": "wgSW_JktFiEw"
      },
      "source": [
        "### Define functions to train the model and evalute results"
      ]
    },
    {
      "cell_type": "code",
      "metadata": {
        "id": "38fXeUld_CsN"
      },
      "source": [
        "import time \n",
        "\n",
        "def train(dataloader):\n",
        "  model.train()\n",
        "  total_acc, total_count = 0, 0\n",
        "  log_interval = 500\n",
        "  start_time = time.time()\n",
        "\n",
        "  for idx, (label, text, offsets) in enumerate(dataloader):\n",
        "\n",
        "    predicted_label = model(text, offsets)\n",
        "    loss = criterion(predicted_label, label)\n",
        "    \n",
        "    optimizer.zero_grad()\n",
        "    loss.backward()\n",
        "    torch.nn.utils.clip_grad_norm_(model.parameters(), 0.1) ####\n",
        "    optimizer.step()\n",
        "\n",
        "    total_acc += (predicted_label.argmax(1) == label).sum().item()\n",
        "    total_count += label.size(0)\n",
        "\n",
        "   \n",
        "    if idx % log_interval == 0 and idx > 0:\n",
        "      elapsed = time.time() - start_time\n",
        "      print('| epoch {:3d} | {:5d}/{:5d} batches | accuracy {:8.3f}'.format(epoch, idx, len(dataloader), total_acc/total_count))\n",
        "\n",
        "      total_acc, total_count = 0, 0\n",
        "      start_time = time.time()  \n",
        "    \n",
        "\n",
        "def evaluate(dataloader):\n",
        "  model.eval()\n",
        "  total_acc , total_count = 0, 0\n",
        "  \n",
        "  with torch.no_grad():\n",
        "    for idx, (label, text, offsets) in enumerate(dataloader):\n",
        "      predicted_label = model(text, offsets)\n",
        "      loss = criterion(predicted_label, label)\n",
        "      total_acc += (predicted_label.argmax(1) == label).sum().item()\n",
        "      total_count += label.size(0)\n",
        "    return total_acc/total_count\n"
      ],
      "execution_count": null,
      "outputs": []
    },
    {
      "cell_type": "markdown",
      "metadata": {
        "id": "9vE5pbgyKNbN"
      },
      "source": [
        "### Split the dataset and run the model"
      ]
    },
    {
      "cell_type": "code",
      "metadata": {
        "id": "VX5VQmhMJ8Au"
      },
      "source": [
        "from torch.utils.data.dataset import random_split\n",
        "from torchtext.data.functional import to_map_style_dataset\n",
        "\n",
        "epochs = 10\n",
        "learning_rate = 5\n",
        "batch_size = 64\n",
        "\n",
        "criterion = torch.nn.CrossEntropyLoss()\n",
        "optimizer = torch.optim.SGD(model.parameters(), lr=learning_rate)\n",
        "scheduler = torch.optim.lr_scheduler.StepLR(optimizer, 1.0, gamma=0.1)\n",
        "total_accu = None"
      ],
      "execution_count": null,
      "outputs": []
    },
    {
      "cell_type": "code",
      "metadata": {
        "id": "VaZOxAZPSIDq"
      },
      "source": [
        "train_iter, test_iter= AG_NEWS()"
      ],
      "execution_count": null,
      "outputs": []
    },
    {
      "cell_type": "code",
      "metadata": {
        "colab": {
          "base_uri": "https://localhost:8080/"
        },
        "id": "r5BdpjYgSKkD",
        "outputId": "3cee0f88-11a4-4912-dd22-be38fdd24796"
      },
      "source": [
        "print(f'length of train iter : {len(train_iter)}')\n",
        "print(f'length of test iter : {len(test_iter)}')"
      ],
      "execution_count": null,
      "outputs": [
        {
          "output_type": "stream",
          "text": [
            "length of train iter : 120000\n",
            "length of test iter : 7600\n"
          ],
          "name": "stdout"
        }
      ]
    },
    {
      "cell_type": "code",
      "metadata": {
        "id": "kSMhmvSoSL84"
      },
      "source": [
        "train_dataset = to_map_style_dataset(train_iter)\n",
        "test_dataset = to_map_style_dataset(test_iter)"
      ],
      "execution_count": null,
      "outputs": []
    },
    {
      "cell_type": "code",
      "metadata": {
        "colab": {
          "base_uri": "https://localhost:8080/"
        },
        "id": "QH0BUSl7SwCW",
        "outputId": "2009eb01-8eeb-441b-e283-a2db3b0a5592"
      },
      "source": [
        "train_dataset[0]"
      ],
      "execution_count": null,
      "outputs": [
        {
          "output_type": "execute_result",
          "data": {
            "text/plain": [
              "(3,\n",
              " \"Wall St. Bears Claw Back Into the Black (Reuters) Reuters - Short-sellers, Wall Street's dwindling\\\\band of ultra-cynics, are seeing green again.\")"
            ]
          },
          "metadata": {
            "tags": []
          },
          "execution_count": 23
        }
      ]
    },
    {
      "cell_type": "code",
      "metadata": {
        "colab": {
          "base_uri": "https://localhost:8080/"
        },
        "id": "RLwdGTypSxk4",
        "outputId": "21094443-db3f-4f06-f348-cfcd359d323b"
      },
      "source": [
        "test_dataset[0]"
      ],
      "execution_count": null,
      "outputs": [
        {
          "output_type": "execute_result",
          "data": {
            "text/plain": [
              "(3,\n",
              " \"Fears for T N pension after talks Unions representing workers at Turner   Newall say they are 'disappointed' after talks with stricken parent firm Federal Mogul.\")"
            ]
          },
          "metadata": {
            "tags": []
          },
          "execution_count": 24
        }
      ]
    },
    {
      "cell_type": "code",
      "metadata": {
        "id": "jT0MKQsETq3f"
      },
      "source": [
        "# split train_data set into train(0.95) and valid(0.05)\n",
        "num_train = int(len(train_dataset)*0.95)\n",
        "\n",
        "split_train_, split_valid_ = random_split(train_dataset, [num_train, len(train_dataset) - num_train])"
      ],
      "execution_count": null,
      "outputs": []
    },
    {
      "cell_type": "code",
      "metadata": {
        "colab": {
          "base_uri": "https://localhost:8080/"
        },
        "id": "j-mTuwWuVBcS",
        "outputId": "651e4cac-7ac8-40e3-af0b-c476d8733166"
      },
      "source": [
        "print(f'length of split train : {len(split_train_)}')\n",
        "print(f'length of split valid : {len(split_valid_)}')"
      ],
      "execution_count": null,
      "outputs": [
        {
          "output_type": "stream",
          "text": [
            "length of split train : 114000\n",
            "length of split valid : 6000\n"
          ],
          "name": "stdout"
        }
      ]
    },
    {
      "cell_type": "code",
      "metadata": {
        "id": "FJQmcNpSVFuN"
      },
      "source": [
        "train_dataloader = DataLoader(split_train_, batch_size=batch_size, shuffle=True, collate_fn=collate_batch)\n",
        "\n",
        "valid_dataloader = DataLoader(split_valid_, batch_size=batch_size, shuffle=True, collate_fn=collate_batch)\n",
        "\n",
        "test_dataloader = DataLoader(test_dataset, batch_size=batch_size, shuffle=False, collate_fn=collate_batch)"
      ],
      "execution_count": null,
      "outputs": []
    },
    {
      "cell_type": "code",
      "metadata": {
        "colab": {
          "base_uri": "https://localhost:8080/"
        },
        "id": "Im_0FnzBVL72",
        "outputId": "01e92aa5-5291-4e75-93ef-131dbf56d174"
      },
      "source": [
        "print(f'length of train dataloader : {len(train_dataloader)}')\n",
        "print(f'length of valid dataloader : {len(valid_dataloader)}')\n",
        "print(f'length of test dataloader : {len(test_dataloader)}')"
      ],
      "execution_count": null,
      "outputs": [
        {
          "output_type": "stream",
          "text": [
            "length of train dataloader : 1782\n",
            "length of valid dataloader : 94\n",
            "length of test dataloader : 119\n"
          ],
          "name": "stdout"
        }
      ]
    },
    {
      "cell_type": "markdown",
      "metadata": {
        "id": "lITjN_Nad08E"
      },
      "source": [
        "#### Train the model"
      ]
    },
    {
      "cell_type": "code",
      "metadata": {
        "colab": {
          "base_uri": "https://localhost:8080/"
        },
        "id": "QNkmbKfmbX6m",
        "outputId": "60eaafff-e99f-4af5-887b-c44b24fab491"
      },
      "source": [
        "for epoch in range(1, epochs+1):\n",
        "  epoch_start_time = time.time()\n",
        "  train(train_dataloader)\n",
        "  accu_val = evaluate(valid_dataloader)\n",
        "  if total_accu is not None and total_accu > accu_val:\n",
        "    scheduler.step()\n",
        "  else:\n",
        "    total_accu = accu_val\n",
        "  print('-'*59)\n",
        "  print('| end of epoch {:3d} | time : {:5.2f}s | valid accuracy {:8.3f}'.format(epoch, time.time() - epoch_start_time, accu_val))  \n",
        "\n",
        "  print('-'*59)"
      ],
      "execution_count": null,
      "outputs": [
        {
          "output_type": "stream",
          "text": [
            "| epoch   1 |   500/ 1782 batches | accuracy    0.684\n",
            "| epoch   1 |  1000/ 1782 batches | accuracy    0.852\n",
            "| epoch   1 |  1500/ 1782 batches | accuracy    0.876\n",
            "-----------------------------------------------------------\n",
            "| end of epoch   1 | time : 15.44s | valid accuracy    0.884\n",
            "-----------------------------------------------------------\n",
            "| epoch   2 |   500/ 1782 batches | accuracy    0.895\n",
            "| epoch   2 |  1000/ 1782 batches | accuracy    0.898\n",
            "| epoch   2 |  1500/ 1782 batches | accuracy    0.903\n",
            "-----------------------------------------------------------\n",
            "| end of epoch   2 | time : 15.03s | valid accuracy    0.900\n",
            "-----------------------------------------------------------\n",
            "| epoch   3 |   500/ 1782 batches | accuracy    0.915\n",
            "| epoch   3 |  1000/ 1782 batches | accuracy    0.913\n",
            "| epoch   3 |  1500/ 1782 batches | accuracy    0.913\n",
            "-----------------------------------------------------------\n",
            "| end of epoch   3 | time : 15.28s | valid accuracy    0.907\n",
            "-----------------------------------------------------------\n",
            "| epoch   4 |   500/ 1782 batches | accuracy    0.926\n",
            "| epoch   4 |  1000/ 1782 batches | accuracy    0.920\n",
            "| epoch   4 |  1500/ 1782 batches | accuracy    0.923\n",
            "-----------------------------------------------------------\n",
            "| end of epoch   4 | time : 15.28s | valid accuracy    0.904\n",
            "-----------------------------------------------------------\n",
            "| epoch   5 |   500/ 1782 batches | accuracy    0.936\n",
            "| epoch   5 |  1000/ 1782 batches | accuracy    0.937\n",
            "| epoch   5 |  1500/ 1782 batches | accuracy    0.935\n",
            "-----------------------------------------------------------\n",
            "| end of epoch   5 | time : 15.40s | valid accuracy    0.912\n",
            "-----------------------------------------------------------\n",
            "| epoch   6 |   500/ 1782 batches | accuracy    0.937\n",
            "| epoch   6 |  1000/ 1782 batches | accuracy    0.939\n",
            "| epoch   6 |  1500/ 1782 batches | accuracy    0.938\n",
            "-----------------------------------------------------------\n",
            "| end of epoch   6 | time : 15.25s | valid accuracy    0.913\n",
            "-----------------------------------------------------------\n",
            "| epoch   7 |   500/ 1782 batches | accuracy    0.942\n",
            "| epoch   7 |  1000/ 1782 batches | accuracy    0.937\n",
            "| epoch   7 |  1500/ 1782 batches | accuracy    0.938\n",
            "-----------------------------------------------------------\n",
            "| end of epoch   7 | time : 15.13s | valid accuracy    0.913\n",
            "-----------------------------------------------------------\n",
            "| epoch   8 |   500/ 1782 batches | accuracy    0.939\n",
            "| epoch   8 |  1000/ 1782 batches | accuracy    0.940\n",
            "| epoch   8 |  1500/ 1782 batches | accuracy    0.940\n",
            "-----------------------------------------------------------\n",
            "| end of epoch   8 | time : 15.40s | valid accuracy    0.915\n",
            "-----------------------------------------------------------\n",
            "| epoch   9 |   500/ 1782 batches | accuracy    0.942\n",
            "| epoch   9 |  1000/ 1782 batches | accuracy    0.940\n",
            "| epoch   9 |  1500/ 1782 batches | accuracy    0.941\n",
            "-----------------------------------------------------------\n",
            "| end of epoch   9 | time : 15.10s | valid accuracy    0.915\n",
            "-----------------------------------------------------------\n",
            "| epoch  10 |   500/ 1782 batches | accuracy    0.941\n",
            "| epoch  10 |  1000/ 1782 batches | accuracy    0.940\n",
            "| epoch  10 |  1500/ 1782 batches | accuracy    0.942\n",
            "-----------------------------------------------------------\n",
            "| end of epoch  10 | time : 15.23s | valid accuracy    0.914\n",
            "-----------------------------------------------------------\n"
          ],
          "name": "stdout"
        }
      ]
    },
    {
      "cell_type": "markdown",
      "metadata": {
        "id": "hJW453cGk-21"
      },
      "source": [
        "### Evalute the model with test dataset"
      ]
    },
    {
      "cell_type": "code",
      "metadata": {
        "colab": {
          "base_uri": "https://localhost:8080/"
        },
        "id": "N6sUJlHrc2r5",
        "outputId": "68019043-cbf1-4e59-f572-0bb2410dadfc"
      },
      "source": [
        "print('Cheking the results of test dataset.')\n",
        "accu_test = evaluate(test_dataloader)\n",
        "print('test accuracy {:8.3f}'.format(accu_test))"
      ],
      "execution_count": null,
      "outputs": [
        {
          "output_type": "stream",
          "text": [
            "Cheking the results of test dataset.\n",
            "test accuracy    0.907\n"
          ],
          "name": "stdout"
        }
      ]
    },
    {
      "cell_type": "markdown",
      "metadata": {
        "id": "oztvRpHrlc8p"
      },
      "source": [
        "### Test on a random new"
      ]
    },
    {
      "cell_type": "code",
      "metadata": {
        "id": "P0ixe15IlYRB"
      },
      "source": [
        "ag_news_label = {1: \"World\",\n",
        "                 2: \"Sports\",\n",
        "                 3: \"Business\",\n",
        "                 4: \"Sci/Tec\"}\n",
        "\n",
        "def predict(text, text_pipeline):\n",
        "  with torch.no_grad():\n",
        "    text = torch.tensor(text_pipeline(text))\n",
        "    output = model(text, torch.tensor([0]))\n",
        "    return output.argmax(1).item() + 1\n"
      ],
      "execution_count": null,
      "outputs": []
    },
    {
      "cell_type": "code",
      "metadata": {
        "colab": {
          "base_uri": "https://localhost:8080/"
        },
        "id": "p-mBQ5knmbjh",
        "outputId": "2b9b7f3a-010c-426b-f00a-79bb8f509fbe"
      },
      "source": [
        "ex_text_str = \"MEMPHIS, Tenn. – Four days ago, Jon Rahm was \\\n",
        "    enduring the season’s worst weather conditions on Sunday at The \\\n",
        "    Open on his way to a closing 75 at Royal Portrush, which \\\n",
        "    considering the wind and the rain was a respectable showing. \\\n",
        "    Thursday’s first round at the WGC-FedEx St. Jude Invitational \\\n",
        "    was another story. With temperatures in the mid-80s and hardly any \\\n",
        "    wind, the Spaniard was 13 strokes better in a flawless round. \\\n",
        "    Thanks to his best putting performance on the PGA Tour, Rahm \\\n",
        "    finished with an 8-under 62 for a three-stroke lead, which \\\n",
        "    was even more impressive considering he’d never played the \\\n",
        "    front nine at TPC Southwind.\"\n",
        "\n",
        "print(f'This is {ag_news_label[predict(ex_text_str, text_pipeline)]} news')"
      ],
      "execution_count": null,
      "outputs": [
        {
          "output_type": "stream",
          "text": [
            "This is Sports news\n"
          ],
          "name": "stdout"
        }
      ]
    },
    {
      "cell_type": "markdown",
      "metadata": {
        "id": "FUcoS3pJis4E"
      },
      "source": [
        "## Hamshahri Newspaper Text Classification"
      ]
    },
    {
      "cell_type": "markdown",
      "metadata": {
        "id": "Gx6bifsW7ObM"
      },
      "source": [
        "In this section, we want to work on the Hamshahri corpus dataset. From the rar file, we use data in ham2->corpus. This directory consists of news files from 1996 to 2007. We want to work on one year's news. I select 2001 news.\n"
      ]
    },
    {
      "cell_type": "code",
      "metadata": {
        "colab": {
          "base_uri": "https://localhost:8080/"
        },
        "id": "NHDxjXgTKv12",
        "outputId": "bc1aece4-19a1-433b-c889-faaf12fdb4ad"
      },
      "source": [
        "!pip install parsivar"
      ],
      "execution_count": 1,
      "outputs": [
        {
          "output_type": "stream",
          "text": [
            "Requirement already satisfied: parsivar in /usr/local/lib/python3.7/dist-packages (0.2.3)\n",
            "Requirement already satisfied: nltk==3.4.5 in /usr/local/lib/python3.7/dist-packages (from parsivar) (3.4.5)\n",
            "Requirement already satisfied: six in /usr/local/lib/python3.7/dist-packages (from nltk==3.4.5->parsivar) (1.15.0)\n"
          ],
          "name": "stdout"
        }
      ]
    },
    {
      "cell_type": "code",
      "metadata": {
        "colab": {
          "base_uri": "https://localhost:8080/"
        },
        "id": "cnGlA1IZLN08",
        "outputId": "aeacba34-6df6-4b98-8139-232dc37e12a8"
      },
      "source": [
        "# Loading NLTk\n",
        "import nltk\n",
        "nltk.download('punkt')"
      ],
      "execution_count": 2,
      "outputs": [
        {
          "output_type": "stream",
          "text": [
            "[nltk_data] Downloading package punkt to /root/nltk_data...\n",
            "[nltk_data]   Package punkt is already up-to-date!\n"
          ],
          "name": "stderr"
        },
        {
          "output_type": "execute_result",
          "data": {
            "text/plain": [
              "True"
            ]
          },
          "metadata": {},
          "execution_count": 2
        }
      ]
    },
    {
      "cell_type": "code",
      "metadata": {
        "id": "fm18h25iK4Xx"
      },
      "source": [
        "# NLP libraries\n",
        "import parsivar\n",
        "from parsivar import Normalizer, Tokenizer, FindStems, FindChunks, DependencyParser\n",
        "# Libraries for parsing XML\n",
        "import xml.etree.ElementTree as ET\n",
        "import pandas as pd  \n",
        "import csv\n",
        "import bs4\n",
        "import re\n",
        "# plot\n",
        "import matplotlib.pyplot as plt\n",
        "\n",
        "import warnings\n",
        "warnings.filterwarnings('ignore')"
      ],
      "execution_count": 3,
      "outputs": []
    },
    {
      "cell_type": "code",
      "metadata": {
        "colab": {
          "base_uri": "https://localhost:8080/"
        },
        "id": "38ISojTOiraz",
        "outputId": "dc77a89e-fb17-4ea1-91f3-18ec5ee7ebd7"
      },
      "source": [
        "from google.colab import drive\n",
        "drive.mount('/content/drive')"
      ],
      "execution_count": 4,
      "outputs": [
        {
          "output_type": "stream",
          "text": [
            "Drive already mounted at /content/drive; to attempt to forcibly remount, call drive.mount(\"/content/drive\", force_remount=True).\n"
          ],
          "name": "stdout"
        }
      ]
    },
    {
      "cell_type": "code",
      "metadata": {
        "id": "APC2Ojls14Fi"
      },
      "source": [
        "# !unrar x \"/content/drive/MyDrive/AI-Internship/HAM2.rar\" \"/content/drive/MyDrive/AI-Internship/HAM2\""
      ],
      "execution_count": null,
      "outputs": []
    },
    {
      "cell_type": "code",
      "metadata": {
        "colab": {
          "base_uri": "https://localhost:8080/"
        },
        "id": "otk681iwmsep",
        "outputId": "29e0aa94-4dc2-4711-9272-5817ab236a89"
      },
      "source": [
        "# Let's take a look at folders inside the path\n",
        "import os\n",
        "os.listdir(\"/content/drive/MyDrive/AI-Internship/HAM2\")"
      ],
      "execution_count": 5,
      "outputs": [
        {
          "output_type": "execute_result",
          "data": {
            "text/plain": [
              "['1996',\n",
              " '1997',\n",
              " '1998',\n",
              " '1999',\n",
              " '2000',\n",
              " '2001',\n",
              " '2002',\n",
              " '2003',\n",
              " '2004',\n",
              " '2005',\n",
              " '2006',\n",
              " '2007']"
            ]
          },
          "metadata": {},
          "execution_count": 5
        }
      ]
    },
    {
      "cell_type": "code",
      "metadata": {
        "colab": {
          "base_uri": "https://localhost:8080/"
        },
        "id": "UuCFBory41Ln",
        "outputId": "fcf0edd7-3886-474d-aa5b-2501fe71722b"
      },
      "source": [
        "import os\n",
        "print(f'number of files in 2001 folder : {len(os.listdir(\"/content/drive/MyDrive/AI-Internship/HAM2/2001\"))}')"
      ],
      "execution_count": 6,
      "outputs": [
        {
          "output_type": "stream",
          "text": [
            "number of files in 2001 folder : 299\n"
          ],
          "name": "stdout"
        }
      ]
    },
    {
      "cell_type": "code",
      "metadata": {
        "colab": {
          "base_uri": "https://localhost:8080/"
        },
        "id": "wpCzCS-69Sq0",
        "outputId": "4ab595cf-5cd0-4bc4-c271-62856a784237"
      },
      "source": [
        "print(f'some files in 200l : {os.listdir(\"/content/drive/MyDrive/AI-Internship/HAM2/2001\")[:10]}')"
      ],
      "execution_count": 7,
      "outputs": [
        {
          "output_type": "stream",
          "text": [
            "some files in 200l : ['hamshahri.dtd', 'HAM2-010101.xml', 'HAM2-010116.xml', 'HAM2-010107.xml', 'HAM2-010110.xml', 'HAM2-010114.xml', 'HAM2-010113.xml', 'HAM2-010104.xml', 'HAM2-010111.xml', 'HAM2-010106.xml']\n"
          ],
          "name": "stdout"
        }
      ]
    },
    {
      "cell_type": "markdown",
      "metadata": {
        "id": "4KOoNy_R86Qm"
      },
      "source": [
        "As we see, we have XML files. So, we should convert XML files into CSV files"
      ]
    },
    {
      "cell_type": "code",
      "metadata": {
        "colab": {
          "base_uri": "https://localhost:8080/"
        },
        "id": "zJBf1_TS5EP2",
        "outputId": "c8a73a5f-2b15-4a89-d90d-05ea2686252d"
      },
      "source": [
        "#Store file names in the filename. We don't need a DTD file. So, we select elements from index 1 to the end.\n",
        "filename = os.listdir(\"/content/drive/MyDrive/AI-Internship/HAM2/2001\")[1:]\n",
        "print(f'number of XML files in 2001 : {len(filename)}')"
      ],
      "execution_count": 8,
      "outputs": [
        {
          "output_type": "stream",
          "text": [
            "number of XML files in 2001 : 298\n"
          ],
          "name": "stdout"
        }
      ]
    },
    {
      "cell_type": "code",
      "metadata": {
        "colab": {
          "base_uri": "https://localhost:8080/"
        },
        "id": "-pOcJD22mIjS",
        "outputId": "0440808f-f18a-4aa7-d180-370b2c09174e"
      },
      "source": [
        "# Reading the first file\n",
        "filepath = \"/content/drive/MyDrive/AI-Internship/HAM2/2001\"\n",
        "\n",
        "file_path_file1 = os.path.join(filepath, filename[0])\n",
        "tree = ET.parse(file_path_file1)\n",
        "root = tree.getroot()\n",
        "print(f'root.tag and root.atrib : {root.tag} {root.attrib}')"
      ],
      "execution_count": 10,
      "outputs": [
        {
          "output_type": "stream",
          "text": [
            "root.tag and root.atrib : HAMSHAHRI2 {}\n"
          ],
          "name": "stdout"
        }
      ]
    },
    {
      "cell_type": "markdown",
      "metadata": {
        "id": "jG81SwHCeApX"
      },
      "source": [
        "It's helpful to know all elements in the entire tree. "
      ]
    },
    {
      "cell_type": "code",
      "metadata": {
        "colab": {
          "base_uri": "https://localhost:8080/"
        },
        "id": "nw-4yqpAdC9S",
        "outputId": "b60a9f64-f2ee-483b-88dd-37e895096a82"
      },
      "source": [
        "elements = [elem.tag for elem in root.iter()]\n",
        "print(f'all elements in the tree : {set(elements)}')"
      ],
      "execution_count": 11,
      "outputs": [
        {
          "output_type": "stream",
          "text": [
            "all elements in the tree : {'TITLE', 'TEXT', 'DATE', 'DOCNO', 'HAMSHAHRI2', 'DOC', 'ISSUE', 'DOCID', 'ORIGINALFILE', 'COPYRIGHT', 'CAT', 'IMAGE'}\n"
          ],
          "name": "stdout"
        }
      ]
    },
    {
      "cell_type": "code",
      "metadata": {
        "colab": {
          "base_uri": "https://localhost:8080/"
        },
        "id": "mijXfNv1n73V",
        "outputId": "e187c25d-00ae-48f1-95c0-4064b644336e"
      },
      "source": [
        "child_list = []\n",
        "for child in root:    \n",
        "  child_list.append([child.tag, child.attrib]) \n",
        "# print children of root\n",
        "print(f'children of root : {child_list}')"
      ],
      "execution_count": 12,
      "outputs": [
        {
          "output_type": "stream",
          "text": [
            "children of root : [['COPYRIGHT', {}], ['DOC', {}], ['DOC', {}], ['DOC', {}], ['DOC', {}], ['DOC', {}], ['DOC', {}], ['DOC', {}], ['DOC', {}], ['DOC', {}], ['DOC', {}], ['DOC', {}], ['DOC', {}], ['DOC', {}], ['DOC', {}], ['DOC', {}], ['DOC', {}], ['DOC', {}], ['DOC', {}], ['DOC', {}], ['DOC', {}], ['DOC', {}], ['DOC', {}], ['DOC', {}], ['DOC', {}], ['DOC', {}], ['DOC', {}], ['DOC', {}], ['DOC', {}], ['DOC', {}], ['DOC', {}], ['DOC', {}], ['DOC', {}], ['DOC', {}], ['DOC', {}], ['DOC', {}], ['DOC', {}], ['DOC', {}], ['DOC', {}], ['DOC', {}], ['DOC', {}], ['DOC', {}], ['DOC', {}], ['DOC', {}], ['DOC', {}], ['DOC', {}], ['DOC', {}], ['DOC', {}], ['DOC', {}], ['DOC', {}], ['DOC', {}], ['DOC', {}], ['DOC', {}], ['DOC', {}], ['DOC', {}], ['DOC', {}]]\n"
          ],
          "name": "stdout"
        }
      ]
    },
    {
      "cell_type": "code",
      "metadata": {
        "colab": {
          "base_uri": "https://localhost:8080/"
        },
        "id": "lHecmiFeoNsj",
        "outputId": "fcfd813b-adfd-4d74-c8c8-e8e4c7c98a11"
      },
      "source": [
        "print(f'number of childrens in first file : {len(child_list)}')"
      ],
      "execution_count": 13,
      "outputs": [
        {
          "output_type": "stream",
          "text": [
            "number of childrens in first file : 56\n"
          ],
          "name": "stdout"
        }
      ]
    },
    {
      "cell_type": "markdown",
      "metadata": {
        "id": "jSJ_p6XHeOqX"
      },
      "source": [
        "Let's print whole document of a child.\n"
      ]
    },
    {
      "cell_type": "code",
      "metadata": {
        "colab": {
          "base_uri": "https://localhost:8080/"
        },
        "id": "gN2oFJvgEmmU",
        "outputId": "034b56fb-4b4b-47a7-bca3-208bf5a53bc0"
      },
      "source": [
        "print(ET.tostring(child, encoding='utf8').decode('utf8'))"
      ],
      "execution_count": 14,
      "outputs": [
        {
          "output_type": "stream",
          "text": [
            "<?xml version='1.0' encoding='utf8'?>\n",
            "<DOC>\n",
            "<DOCID>HAM2-791012-055</DOCID>\n",
            "<DOCNO>HAM2-791012-055</DOCNO>\n",
            "<ORIGINALFILE>/1379/791012/vrzsh.htm</ORIGINALFILE>\n",
            "<ISSUE>دوشنبه 12 1 jan 2001 دي 1379،، شماره 2305</ISSUE>\n",
            "<DATE calender=\"Western\">2001-01-01</DATE>\n",
            "<DATE calender=\"Persian\">1379/10/12</DATE>\n",
            "<CAT xml:lang=\"fa\">ورزش</CAT>\n",
            "<CAT xml:lang=\"en\">Sport</CAT>\n",
            "<TITLE>\n",
            "تيم فوتبال ايتاليا با\" بونين سنيا\" به \n",
            "تهران مي آيد\n",
            "</TITLE>\n",
            "<TEXT>\n",
            "گروه ورزشي: فدراسيون فوتبا ل ايتاليا اعلام كرد كه اين \n",
            "كشور با تيم زير 21 سال خود و با مربيگري روبرتو بونين \n",
            "سنيا در رقابتهاي چهارجانبه جام تمدنها در ايران شركت \n",
            "مي كند. \n",
            "مسابقات فوتبال جام تمدنهااز تاريخ 28 تا 30 دي ماه \n",
            "امسال با شركت تيمهاي ملي ايران، مصر، چين و تيم زير 21\n",
            "سال ايتاليا در ورزشگاه آزادي تهران برگزار مي شود. اين \n",
            "مسابقات در راستاي ابتكار جمهوري اسلامي براي نامگذاري \n",
            "سال 2001 به عنوان سال گفتگوي بين تمدنها برگزار مي شود. \n",
            "لوئيجي نري رئيس اداره مطبوعات فدراسيون فوتبال ايتاليا\n",
            "در پاسخ به اين پرسش كه چرا ايتاليا با تيم زير 21 سال \n",
            "خود در اين جام شركت مي كند از آن اظهار بي اطلاعي كرد و\n",
            "گفت من تصميم گيرنده در اين موضوع نيستم. وي همچنين افزود: \n",
            "هنوز نام بازيكنان تيم اعزامي ايتاليا به جام تمدنها\n",
            "مشخص نشده است. وي گفت بعد از تشكيل اين تيم توسط مربي \n",
            "تيم زير 21 سال، يك اردوي آمادگي يك هفته اي خواهند داشت \n",
            "و سپس عازم تهران مي شوند. بونين سنيا يكي از بازيكنان \n",
            "سرشناس دهه 70 ميلادي فوتبال ايتاليا محسوب مي شود كه با\n",
            "تيم اينترميلان زماني كه تحت مربيگري \"هلينو هره را\" در\n",
            "دو _ فصل 71 1970 _ و 72 1971 در اوج خود بود، به ميدان \n",
            "مي رفت.\n",
            "</TEXT>\n",
            "</DOC>\n",
            "\n"
          ],
          "name": "stdout"
        }
      ]
    },
    {
      "cell_type": "code",
      "metadata": {
        "colab": {
          "base_uri": "https://localhost:8080/"
        },
        "id": "WYsliB6wA9oF",
        "outputId": "7938f486-ab1e-4759-fc63-3d4cfa0c7ca7"
      },
      "source": [
        "for child in root.findall('./DOC/TEXT/'):\n",
        "  print(child.tag, child.attrib)"
      ],
      "execution_count": 15,
      "outputs": [
        {
          "output_type": "stream",
          "text": [
            "IMAGE {}\n",
            "IMAGE {}\n",
            "IMAGE {}\n",
            "IMAGE {}\n",
            "IMAGE {}\n",
            "IMAGE {}\n",
            "IMAGE {}\n",
            "IMAGE {}\n",
            "IMAGE {}\n",
            "IMAGE {}\n",
            "IMAGE {}\n",
            "IMAGE {}\n",
            "IMAGE {}\n",
            "IMAGE {}\n",
            "IMAGE {}\n"
          ],
          "name": "stdout"
        }
      ]
    },
    {
      "cell_type": "markdown",
      "metadata": {
        "id": "voUPEfkt2VwU"
      },
      "source": [
        "As we see, some DOCs has an IMAGE child. So, the parser read only image in this situation. Because of that we should use complex sintax for read CDATA after IMAGE child in DOC. "
      ]
    },
    {
      "cell_type": "markdown",
      "metadata": {
        "id": "_41HqkocFrNn"
      },
      "source": [
        "Now, we should convert XML files into CSV files."
      ]
    },
    {
      "cell_type": "markdown",
      "metadata": {
        "id": "_wxp8kdjwwfY"
      },
      "source": [
        "### Convert XML to CSV"
      ]
    },
    {
      "cell_type": "code",
      "metadata": {
        "id": "fpYz3TUfKMtl"
      },
      "source": [
        "from xml.etree.ElementTree import ParseError"
      ],
      "execution_count": 16,
      "outputs": []
    },
    {
      "cell_type": "code",
      "metadata": {
        "id": "MRd7ivx8FHDs"
      },
      "source": [
        "cols = ['id', 'title','text','label']\n",
        "csv_file = open('ham2-2001.csv', 'w', newline='')\n",
        "csvwriter = csv.writer(csv_file, lineterminator ='\\n')\n",
        "csvwriter.writerow(cols)\n",
        "\n",
        "def make_csv(folderpath, xmlfilename, csvwriter, csv_file):\n",
        "  \n",
        "  try:\n",
        "    tokenizer = Tokenizer()\n",
        "    # parse each xml file\n",
        "    for i in range(len(xmlfilename)):\n",
        "\n",
        "      #Parse XML file\n",
        "      tree = ET.parse(os.path.join(folderpath, xmlfilename[i]))\n",
        "      root = tree.getroot()\n",
        "   \n",
        "  \n",
        "      for elem in root.findall(\"DOC\") :\n",
        "        rows = []\n",
        "\n",
        "        # parse DOCID\n",
        "        id = elem.find(\"DOCID\")\n",
        "        if id != None:\n",
        "          id = id.text\n",
        "        rows.append(id)\n",
        "\n",
        "        # parse TITLE\n",
        "        title = elem.find(\"TITLE\")\n",
        "        if title != None:\n",
        "          title = re.sub('\\n', '', title.text)\n",
        "        rows.append(title)  \n",
        "\n",
        "        # parse TEXT (thanks to https://stackoverflow.com/questions/68847136/parsing-xml-cdata-section-and-convert-it-to-csv-using-elementtree-python\n",
        "        # I found out how to read CDATA after IMAGE child in some DOCs)\n",
        "        sent = elem.find(\"TEXT\")\n",
        "        if sent != None:\n",
        "          sentence = list(sent)[0].tail.strip() if list(sent) else sent.text.strip()\n",
        "          sentence = re.sub('\\n', '', sentence)\n",
        "          select_sentence = tokenizer.tokenize_sentences(sentence)[:2]\n",
        "          select_sentence = ''.join(select_sentence)\n",
        "        rows.append(select_sentence)\n",
        "\n",
        "        # parse CAT\n",
        "        label = elem.find('CAT')\n",
        "        if label != None:\n",
        "          label = label.text\n",
        "        rows.append(label)  \n",
        "\n",
        "        # write rows in csv file\n",
        "        csvwriter.writerow(rows)\n",
        "    csv_file.close()\n",
        "  \n",
        "  except ParseError:\n",
        "    print(xmlfilename[i])\n",
        "    raise  "
      ],
      "execution_count": 18,
      "outputs": []
    },
    {
      "cell_type": "code",
      "metadata": {
        "id": "Wc8-SetuRfsB"
      },
      "source": [
        "filepath = \"/content/drive/MyDrive/AI-Internship/HAM2/2001\"\n",
        "\n",
        "make_csv(filepath, filename, csvwriter, csv_file)"
      ],
      "execution_count": 19,
      "outputs": []
    },
    {
      "cell_type": "markdown",
      "metadata": {
        "id": "oDb5765tw6t7"
      },
      "source": [
        "### Read dataset from CSV"
      ]
    },
    {
      "cell_type": "code",
      "metadata": {
        "colab": {
          "base_uri": "https://localhost:8080/",
          "height": 206
        },
        "id": "zTzLlKG9ZmMV",
        "outputId": "eaa9c817-4d57-4399-ec1f-9b5b9aa7109c"
      },
      "source": [
        "data = pd.read_csv('/content/ham2-2001.csv')\n",
        "data.head()"
      ],
      "execution_count": 20,
      "outputs": [
        {
          "output_type": "execute_result",
          "data": {
            "text/html": [
              "<div>\n",
              "<style scoped>\n",
              "    .dataframe tbody tr th:only-of-type {\n",
              "        vertical-align: middle;\n",
              "    }\n",
              "\n",
              "    .dataframe tbody tr th {\n",
              "        vertical-align: top;\n",
              "    }\n",
              "\n",
              "    .dataframe thead th {\n",
              "        text-align: right;\n",
              "    }\n",
              "</style>\n",
              "<table border=\"1\" class=\"dataframe\">\n",
              "  <thead>\n",
              "    <tr style=\"text-align: right;\">\n",
              "      <th></th>\n",
              "      <th>id</th>\n",
              "      <th>title</th>\n",
              "      <th>text</th>\n",
              "      <th>label</th>\n",
              "    </tr>\n",
              "  </thead>\n",
              "  <tbody>\n",
              "    <tr>\n",
              "      <th>0</th>\n",
              "      <td>HAM2-791012-001</td>\n",
              "      <td>بي تاب براي بازي زندگي</td>\n",
              "      <td>نگاهي به آثار و زندگي آندره مالرومالرو هم همان...</td>\n",
              "      <td>ادب و هنر</td>\n",
              "    </tr>\n",
              "    <tr>\n",
              "      <th>1</th>\n",
              "      <td>HAM2-791012-002</td>\n",
              "      <td>نقش رسانه هاي جمعي در ايجاد احساس امنيت</td>\n",
              "      <td>نخست بايد بدانيم كه به همان ميزان كه \"امنيت \"د...</td>\n",
              "      <td>اجتماعی</td>\n",
              "    </tr>\n",
              "    <tr>\n",
              "      <th>2</th>\n",
              "      <td>HAM2-791012-003</td>\n",
              "      <td>مدير عامل ايرنا بازجويي شد</td>\n",
              "      <td>گروه اجتماعي: مديرعامل سازمان خبرگزاري جمهوري ...</td>\n",
              "      <td>اجتماعی</td>\n",
              "    </tr>\n",
              "    <tr>\n",
              "      <th>3</th>\n",
              "      <td>HAM2-791012-004</td>\n",
              "      <td>رزمايش دريايي غدير 79در درياي عمان آغاز شد</td>\n",
              "      <td>رزمايش دريايي منطقه اي \"غدير 79\" از ديروز در ف...</td>\n",
              "      <td>اجتماعی</td>\n",
              "    </tr>\n",
              "    <tr>\n",
              "      <th>4</th>\n",
              "      <td>HAM2-791012-005</td>\n",
              "      <td>چهارمين جلسه دادگاه غيرعلني قتل هاي زنجيره اي ...</td>\n",
              "      <td>گروه اجتماعي: به گزارش سازمان قضائي نيروهاي مس...</td>\n",
              "      <td>اجتماعی</td>\n",
              "    </tr>\n",
              "  </tbody>\n",
              "</table>\n",
              "</div>"
            ],
            "text/plain": [
              "                id  ...      label\n",
              "0  HAM2-791012-001  ...  ادب و هنر\n",
              "1  HAM2-791012-002  ...    اجتماعی\n",
              "2  HAM2-791012-003  ...    اجتماعی\n",
              "3  HAM2-791012-004  ...    اجتماعی\n",
              "4  HAM2-791012-005  ...    اجتماعی\n",
              "\n",
              "[5 rows x 4 columns]"
            ]
          },
          "metadata": {},
          "execution_count": 20
        }
      ]
    },
    {
      "cell_type": "code",
      "metadata": {
        "colab": {
          "base_uri": "https://localhost:8080/"
        },
        "id": "qJn52GqIg4DD",
        "outputId": "776e5153-078d-4db1-b1e6-8a846447c6e2"
      },
      "source": [
        "data.shape"
      ],
      "execution_count": 21,
      "outputs": [
        {
          "output_type": "execute_result",
          "data": {
            "text/plain": [
              "(22254, 4)"
            ]
          },
          "metadata": {},
          "execution_count": 21
        }
      ]
    },
    {
      "cell_type": "code",
      "metadata": {
        "colab": {
          "base_uri": "https://localhost:8080/",
          "height": 36
        },
        "id": "k398Xgpp4CXn",
        "outputId": "c859fea1-27b3-4801-ae0b-0cff47babaea"
      },
      "source": [
        "data['label'][0]"
      ],
      "execution_count": 22,
      "outputs": [
        {
          "output_type": "execute_result",
          "data": {
            "application/vnd.google.colaboratory.intrinsic+json": {
              "type": "string"
            },
            "text/plain": [
              "'ادب و هنر'"
            ]
          },
          "metadata": {},
          "execution_count": 22
        }
      ]
    },
    {
      "cell_type": "code",
      "metadata": {
        "colab": {
          "base_uri": "https://localhost:8080/",
          "height": 71
        },
        "id": "tl2gfX9TCWKA",
        "outputId": "440e04c7-64e0-4595-b883-7756dc7010e4"
      },
      "source": [
        "data['text'][0]"
      ],
      "execution_count": 25,
      "outputs": [
        {
          "output_type": "execute_result",
          "data": {
            "application/vnd.google.colaboratory.intrinsic+json": {
              "type": "string"
            },
            "text/plain": [
              "'نگاهي به آثار و زندگي آندره مالرومالرو هم همانند بسياري ديگر در ايران ناشناخته مانده است . اما به واقع شايد دليل عمده آن كه مالرو تا حدودي در كشور ما، يا حتي برخي كشورهاي ديگر ناشناخته مانده، واقع شدن و همزمان شدن نام و ياد او در ميان نام و يادنويسندگان و روشنفكران بزرگي چون آلبركامو يا ژان پل سارتر است .'"
            ]
          },
          "metadata": {},
          "execution_count": 25
        }
      ]
    },
    {
      "cell_type": "code",
      "metadata": {
        "colab": {
          "base_uri": "https://localhost:8080/"
        },
        "id": "yy0ShHfUMMRP",
        "outputId": "881ef6a5-8c4e-496a-e691-615a1f26cb7f"
      },
      "source": [
        "data.info()"
      ],
      "execution_count": 117,
      "outputs": [
        {
          "output_type": "stream",
          "text": [
            "<class 'pandas.core.frame.DataFrame'>\n",
            "RangeIndex: 22254 entries, 0 to 22253\n",
            "Data columns (total 4 columns):\n",
            " #   Column  Non-Null Count  Dtype \n",
            "---  ------  --------------  ----- \n",
            " 0   id      22254 non-null  object\n",
            " 1   title   22247 non-null  object\n",
            " 2   text    21460 non-null  object\n",
            " 3   label   22254 non-null  object\n",
            "dtypes: object(4)\n",
            "memory usage: 695.6+ KB\n"
          ],
          "name": "stdout"
        }
      ]
    },
    {
      "cell_type": "markdown",
      "metadata": {
        "id": "UKT0klmPgiKZ"
      },
      "source": [
        "Let's select rows that have specific value in label columns."
      ]
    },
    {
      "cell_type": "code",
      "metadata": {
        "id": "NygpIAyAZpiR"
      },
      "source": [
        "mask_column = ['ادب و هنر', 'اجتماعی', 'علمی فرهنگی', 'اقتصاد', 'سیاسی', 'ورزش']"
      ],
      "execution_count": 27,
      "outputs": []
    },
    {
      "cell_type": "code",
      "metadata": {
        "id": "0khUeoY7gFa2"
      },
      "source": [
        "dataset = data.copy()\n",
        "df = dataset.loc[dataset['label'].isin(mask_column)]"
      ],
      "execution_count": 35,
      "outputs": []
    },
    {
      "cell_type": "code",
      "metadata": {
        "colab": {
          "base_uri": "https://localhost:8080/",
          "height": 206
        },
        "id": "6HhVN2ghh1xg",
        "outputId": "9fbb35a5-c773-4299-a82c-4e89aff57fa0"
      },
      "source": [
        "df.head()"
      ],
      "execution_count": 37,
      "outputs": [
        {
          "output_type": "execute_result",
          "data": {
            "text/html": [
              "<div>\n",
              "<style scoped>\n",
              "    .dataframe tbody tr th:only-of-type {\n",
              "        vertical-align: middle;\n",
              "    }\n",
              "\n",
              "    .dataframe tbody tr th {\n",
              "        vertical-align: top;\n",
              "    }\n",
              "\n",
              "    .dataframe thead th {\n",
              "        text-align: right;\n",
              "    }\n",
              "</style>\n",
              "<table border=\"1\" class=\"dataframe\">\n",
              "  <thead>\n",
              "    <tr style=\"text-align: right;\">\n",
              "      <th></th>\n",
              "      <th>id</th>\n",
              "      <th>title</th>\n",
              "      <th>text</th>\n",
              "      <th>label</th>\n",
              "    </tr>\n",
              "  </thead>\n",
              "  <tbody>\n",
              "    <tr>\n",
              "      <th>0</th>\n",
              "      <td>HAM2-791012-001</td>\n",
              "      <td>بي تاب براي بازي زندگي</td>\n",
              "      <td>نگاهي به آثار و زندگي آندره مالرومالرو هم همان...</td>\n",
              "      <td>ادب و هنر</td>\n",
              "    </tr>\n",
              "    <tr>\n",
              "      <th>1</th>\n",
              "      <td>HAM2-791012-002</td>\n",
              "      <td>نقش رسانه هاي جمعي در ايجاد احساس امنيت</td>\n",
              "      <td>نخست بايد بدانيم كه به همان ميزان كه \"امنيت \"د...</td>\n",
              "      <td>اجتماعی</td>\n",
              "    </tr>\n",
              "    <tr>\n",
              "      <th>2</th>\n",
              "      <td>HAM2-791012-003</td>\n",
              "      <td>مدير عامل ايرنا بازجويي شد</td>\n",
              "      <td>گروه اجتماعي: مديرعامل سازمان خبرگزاري جمهوري ...</td>\n",
              "      <td>اجتماعی</td>\n",
              "    </tr>\n",
              "    <tr>\n",
              "      <th>3</th>\n",
              "      <td>HAM2-791012-004</td>\n",
              "      <td>رزمايش دريايي غدير 79در درياي عمان آغاز شد</td>\n",
              "      <td>رزمايش دريايي منطقه اي \"غدير 79\" از ديروز در ف...</td>\n",
              "      <td>اجتماعی</td>\n",
              "    </tr>\n",
              "    <tr>\n",
              "      <th>4</th>\n",
              "      <td>HAM2-791012-005</td>\n",
              "      <td>چهارمين جلسه دادگاه غيرعلني قتل هاي زنجيره اي ...</td>\n",
              "      <td>گروه اجتماعي: به گزارش سازمان قضائي نيروهاي مس...</td>\n",
              "      <td>اجتماعی</td>\n",
              "    </tr>\n",
              "  </tbody>\n",
              "</table>\n",
              "</div>"
            ],
            "text/plain": [
              "                id  ...      label\n",
              "0  HAM2-791012-001  ...  ادب و هنر\n",
              "1  HAM2-791012-002  ...    اجتماعی\n",
              "2  HAM2-791012-003  ...    اجتماعی\n",
              "3  HAM2-791012-004  ...    اجتماعی\n",
              "4  HAM2-791012-005  ...    اجتماعی\n",
              "\n",
              "[5 rows x 4 columns]"
            ]
          },
          "metadata": {},
          "execution_count": 37
        }
      ]
    },
    {
      "cell_type": "markdown",
      "metadata": {
        "id": "eq6H9FR3i5lf"
      },
      "source": [
        "Description of each columns:\n",
        "\n",
        "\n",
        "*   id : DOCID (persian date)\n",
        "*   title : title of new\n",
        "*   text : two first sentece of new\n",
        "*   label : category of new (we have 6 category in df)\n",
        "\n",
        "\n",
        "\n"
      ]
    },
    {
      "cell_type": "code",
      "metadata": {
        "colab": {
          "base_uri": "https://localhost:8080/"
        },
        "id": "MmXoYLUHimT_",
        "outputId": "ff5b2aa3-a98b-4b3a-bff7-9a60a1acc02f"
      },
      "source": [
        "print(f'df shape : {df.shape}')"
      ],
      "execution_count": 39,
      "outputs": [
        {
          "output_type": "stream",
          "text": [
            "df shape : (13646, 4)\n"
          ],
          "name": "stdout"
        }
      ]
    },
    {
      "cell_type": "code",
      "metadata": {
        "colab": {
          "base_uri": "https://localhost:8080/"
        },
        "id": "qz9-u8xairoY",
        "outputId": "0e76b059-e3c9-4cde-aa86-f06a1abf4fcf"
      },
      "source": [
        "df.info()"
      ],
      "execution_count": 40,
      "outputs": [
        {
          "output_type": "stream",
          "text": [
            "<class 'pandas.core.frame.DataFrame'>\n",
            "Int64Index: 13646 entries, 0 to 22253\n",
            "Data columns (total 4 columns):\n",
            " #   Column  Non-Null Count  Dtype \n",
            "---  ------  --------------  ----- \n",
            " 0   id      13646 non-null  object\n",
            " 1   title   13645 non-null  object\n",
            " 2   text    13261 non-null  object\n",
            " 3   label   13646 non-null  object\n",
            "dtypes: object(4)\n",
            "memory usage: 533.0+ KB\n"
          ],
          "name": "stdout"
        }
      ]
    },
    {
      "cell_type": "code",
      "metadata": {
        "colab": {
          "base_uri": "https://localhost:8080/"
        },
        "id": "69LSSWOLMePJ",
        "outputId": "cba95428-8a60-472c-e2d9-f0ea7c51f555"
      },
      "source": [
        "df.isnull().sum()"
      ],
      "execution_count": 121,
      "outputs": [
        {
          "output_type": "execute_result",
          "data": {
            "text/plain": [
              "id         0\n",
              "title      1\n",
              "text     385\n",
              "label      0\n",
              "dtype: int64"
            ]
          },
          "metadata": {},
          "execution_count": 121
        }
      ]
    },
    {
      "cell_type": "markdown",
      "metadata": {
        "id": "HuCZOy1UOMUN"
      },
      "source": [
        "As we see, we have missing values in our dataset. So, I drop rows with any non value in it."
      ]
    },
    {
      "cell_type": "code",
      "metadata": {
        "id": "JnpXvdznOLpT"
      },
      "source": [
        "# drop all rows with any NaN and NaT values\n",
        "df1 = df.dropna()"
      ],
      "execution_count": 122,
      "outputs": []
    },
    {
      "cell_type": "code",
      "metadata": {
        "colab": {
          "base_uri": "https://localhost:8080/"
        },
        "id": "LzbbnJqtOp07",
        "outputId": "26663786-cf3c-434f-b252-282d07f6a2a7"
      },
      "source": [
        "df1.shape"
      ],
      "execution_count": 123,
      "outputs": [
        {
          "output_type": "execute_result",
          "data": {
            "text/plain": [
              "(13260, 4)"
            ]
          },
          "metadata": {},
          "execution_count": 123
        }
      ]
    },
    {
      "cell_type": "code",
      "metadata": {
        "colab": {
          "base_uri": "https://localhost:8080/"
        },
        "id": "3abU2PE2Ow_A",
        "outputId": "953393b7-15ee-449a-e97b-9457cdaabfad"
      },
      "source": [
        "df1.isnull().sum()"
      ],
      "execution_count": 124,
      "outputs": [
        {
          "output_type": "execute_result",
          "data": {
            "text/plain": [
              "id       0\n",
              "title    0\n",
              "text     0\n",
              "label    0\n",
              "dtype: int64"
            ]
          },
          "metadata": {},
          "execution_count": 124
        }
      ]
    },
    {
      "cell_type": "markdown",
      "metadata": {
        "id": "6i6qfHsxO1sz"
      },
      "source": [
        "As we see, our dataset is treated and doesn't have any null value."
      ]
    },
    {
      "cell_type": "markdown",
      "metadata": {
        "id": "9u-m0pTmkc-C"
      },
      "source": [
        "Let's take a look at number of data in each category."
      ]
    },
    {
      "cell_type": "code",
      "metadata": {
        "colab": {
          "base_uri": "https://localhost:8080/"
        },
        "id": "IYsmUX5rkFJU",
        "outputId": "004b61c5-e86b-4ab7-ef48-7bc61d2855e7"
      },
      "source": [
        "df1.label.value_counts()"
      ],
      "execution_count": 125,
      "outputs": [
        {
          "output_type": "execute_result",
          "data": {
            "text/plain": [
              "سیاسی          3165\n",
              "اقتصاد         2996\n",
              "اجتماعی        2105\n",
              "ورزش           2015\n",
              "علمی فرهنگی    1899\n",
              "ادب و هنر      1080\n",
              "Name: label, dtype: int64"
            ]
          },
          "metadata": {},
          "execution_count": 125
        }
      ]
    },
    {
      "cell_type": "code",
      "metadata": {
        "colab": {
          "base_uri": "https://localhost:8080/",
          "height": 298
        },
        "id": "w3JnRNqakbYr",
        "outputId": "8986b253-5a3f-45dc-ed24-ba72527a4de9"
      },
      "source": [
        "# destribution of data in each class\n",
        "distribution  = list(df1.label.value_counts())\n",
        "\n",
        "plt.bar(['سیاسی','اقتصاد','اجتماعی','ورزش','علمی فرهنگی','ادب و هنر'] ,distribution)\n",
        "plt.xlabel(\"Label\")\n",
        "plt.ylabel(\"Number of news\")\n",
        "plt.title(\"Distribution of data in each class\")\n",
        "plt.show()"
      ],
      "execution_count": 127,
      "outputs": [
        {
          "output_type": "display_data",
          "data": {
            "image/png": "[encoded data removed]",
            "text/plain": [
              "<Figure size 432x288 with 1 Axes>"
            ]
          },
          "metadata": {
            "needs_background": "light"
          }
        }
      ]
    },
    {
      "cell_type": "code",
      "metadata": {
        "colab": {
          "base_uri": "https://localhost:8080/",
          "height": 54
        },
        "id": "pNK7WjT2lasN",
        "outputId": "3b0aaa3e-75d1-4817-b0f5-bfb40d344339"
      },
      "source": [
        "df1['text'][100]"
      ],
      "execution_count": 128,
      "outputs": [
        {
          "output_type": "execute_result",
          "data": {
            "application/vnd.google.colaboratory.intrinsic+json": {
              "type": "string"
            },
            "text/plain": [
              "'گروه سياسي: به مناسبت ششمين سال درگذشت مرحوم مهندس مهدي بازرگان پنجشنبه اين هفته مراسمي از ساعت 3014دقيقه در حسينيه ارشاد برگزار مي شود . اسامي سخنرانان و عنوانهاي سخنراني اين مراسم هنوز اعلام نشده است .'"
            ]
          },
          "metadata": {},
          "execution_count": 128
        }
      ]
    },
    {
      "cell_type": "markdown",
      "metadata": {
        "id": "u0SbqNJymTBv"
      },
      "source": [
        "As we see, we hava numbers in our text. They don't make sense for our model and predict the label, so, we should delete them to have better result."
      ]
    },
    {
      "cell_type": "markdown",
      "metadata": {
        "id": "Bzhikzi_wscX"
      },
      "source": [
        "### Text preprocessing"
      ]
    },
    {
      "cell_type": "markdown",
      "metadata": {
        "id": "NWm4ya8h6osB"
      },
      "source": [
        "#### Stop Words"
      ]
    },
    {
      "cell_type": "markdown",
      "metadata": {
        "id": "scS3V0HbxNmK"
      },
      "source": [
        "Now, we should process the text. First we read stopwords from file that is in hamshahri file."
      ]
    },
    {
      "cell_type": "code",
      "metadata": {
        "id": "ocfv4W9fxlN6"
      },
      "source": [
        "# define a function to read file\n",
        "def readFile(filename):\n",
        "  fileObj = open(filename, 'r') # open the file in read mode\n",
        "  words = fileObj.read().splitlines() # puts the file into an array\n",
        "  fileObj.close()\n",
        "  return words"
      ],
      "execution_count": 55,
      "outputs": []
    },
    {
      "cell_type": "code",
      "metadata": {
        "colab": {
          "base_uri": "https://localhost:8080/"
        },
        "id": "mM2d66ZQylft",
        "outputId": "835fe2fd-a052-409b-e898-4ad4cfd27a10"
      },
      "source": [
        "stopwords = readFile('/content/drive/MyDrive/AI-Internship/PersianStopWords.txt')\n",
        "print(f'length of stop words : {len(stopwords)}')"
      ],
      "execution_count": 56,
      "outputs": [
        {
          "output_type": "stream",
          "text": [
            "length of stop words : 796\n"
          ],
          "name": "stdout"
        }
      ]
    },
    {
      "cell_type": "code",
      "metadata": {
        "colab": {
          "base_uri": "https://localhost:8080/"
        },
        "id": "c2sxCyUEzS1Z",
        "outputId": "8f98dae5-5633-4a7b-b405-45d68827da63"
      },
      "source": [
        "print(f'some of stop words : {stopwords[:20]}')"
      ],
      "execution_count": 58,
      "outputs": [
        {
          "output_type": "stream",
          "text": [
            "some of stop words : ['\\ufeffـ', '-', '!', '\"', '#', '(', ')', '*', '.', '...', '....', '/', ':', '[', ']', '،', '؛', '؟', '«', '»']\n"
          ],
          "name": "stdout"
        }
      ]
    },
    {
      "cell_type": "markdown",
      "metadata": {
        "id": "DF_czDN_6sbi"
      },
      "source": [
        "#### Preprocessing function"
      ]
    },
    {
      "cell_type": "markdown",
      "metadata": {
        "id": "NmMs85f33Eiy"
      },
      "source": [
        "Let's define a function for preprocessing text."
      ]
    },
    {
      "cell_type": "code",
      "metadata": {
        "id": "BPj4Y_tenwW3"
      },
      "source": [
        "def data_preprocessing(review, stopwords):\n",
        "  try:\n",
        "\n",
        "    # delete category name from first of the news\n",
        "    review = re.sub('گروه سياسي:','',review)\n",
        "    review = re.sub('گروه اجتماعي:','', review)\n",
        "    review = re.sub('گروه ادب و هنر:','', review)\n",
        "    review = re.sub('گروه علمي فرهنگي:','', review)\n",
        "    review = re.sub('گروه ورزش:','', review)\n",
        "    review = re.sub('گروه اقتصاد:','', review)\n",
        "\n",
        "    # delete english characters and numbers from sentences\n",
        "    review = filter(lambda x: x in string.whitespace or x not in string.printable, review)\n",
        "    review = ''.join(ch for ch in list(review))\n",
        "    \n",
        "    # normalizing the text\n",
        "    normalizer = Normalizer()\n",
        "    review = normalizer.normalize(review)\n",
        "    \n",
        "    # word tokenization\n",
        "    tokenizer = Tokenizer()\n",
        "    words = tokenizer.tokenize_words(review)\n",
        "\n",
        "    # remove stop words\n",
        "    words_without_stopword = filter(lambda x: x not in stopwords, words)\n",
        "    words_without_stopwords = list(words_without_stopword)\n",
        "    \n",
        "    # stemming \n",
        "    stemmer = FindStems()\n",
        "    review = [stemmer.convert_to_stem(word) for word in words_without_stopwords]\n",
        "    \n",
        "    # join words in preprocessed review\n",
        "    review = ' '.join(review)\n",
        "    \n",
        "    return review\n",
        "\n",
        "  except TypeError:\n",
        "    print(review)\n",
        "    raise"
      ],
      "execution_count": 156,
      "outputs": []
    },
    {
      "cell_type": "markdown",
      "metadata": {
        "id": "z5nk5T2y8Vd4"
      },
      "source": [
        "Because we have many rows, for speeding up this function, we should use pandarallel."
      ]
    },
    {
      "cell_type": "code",
      "metadata": {
        "colab": {
          "base_uri": "https://localhost:8080/"
        },
        "id": "TeubnhjN767e",
        "outputId": "29dc469b-e406-44c0-92f4-7749765454af"
      },
      "source": [
        "! pip install pandarallel"
      ],
      "execution_count": 98,
      "outputs": [
        {
          "output_type": "stream",
          "text": [
            "Collecting pandarallel\n",
            "  Downloading pandarallel-1.5.2.tar.gz (16 kB)\n",
            "Requirement already satisfied: dill in /usr/local/lib/python3.7/dist-packages (from pandarallel) (0.3.4)\n",
            "Building wheels for collected packages: pandarallel\n",
            "  Building wheel for pandarallel (setup.py) ... \u001b[?25l\u001b[?25hdone\n",
            "  Created wheel for pandarallel: filename=pandarallel-1.5.2-py3-none-any.whl size=18398 sha256=d028e5d1e7b92958d0696d2747c25f0f134eefd6d868f39c576b2fcf9aaf33a3\n",
            "  Stored in directory: /root/.cache/pip/wheels/b5/6d/51/9ece2eaf007ea3f7fb0ce053c5773b2eb0d308887da3af12c1\n",
            "Successfully built pandarallel\n",
            "Installing collected packages: pandarallel\n",
            "Successfully installed pandarallel-1.5.2\n"
          ],
          "name": "stdout"
        }
      ]
    },
    {
      "cell_type": "code",
      "metadata": {
        "id": "xm6mqpv474Dr"
      },
      "source": [
        "from pandarallel import pandarallel\n",
        "import string"
      ],
      "execution_count": 109,
      "outputs": []
    },
    {
      "cell_type": "code",
      "metadata": {
        "colab": {
          "base_uri": "https://localhost:8080/"
        },
        "id": "IjCLVtWK8Qvw",
        "outputId": "53fdad9d-53a0-4326-9fa9-7c77c181c29c"
      },
      "source": [
        "# initialize pandarallel\n",
        "pandarallel.initialize()"
      ],
      "execution_count": 106,
      "outputs": [
        {
          "output_type": "stream",
          "text": [
            "INFO: Pandarallel will run on 2 workers.\n",
            "INFO: Pandarallel will use Memory file system to transfer data between the main process and workers.\n"
          ],
          "name": "stdout"
        }
      ]
    },
    {
      "cell_type": "code",
      "metadata": {
        "id": "-15HuPaisCMw"
      },
      "source": [
        "df1['preprocessing_text'] = df1['text'].parallel_apply(lambda text: data_preprocessing(text, stopwords))"
      ],
      "execution_count": 157,
      "outputs": []
    },
    {
      "cell_type": "code",
      "metadata": {
        "id": "-PRnsIFl852X"
      },
      "source": [
        "# #Save dataframe\n",
        "# df1.to_pickle('/content/drive/MyDrive/AI-Internship/hamshahri_preprocessed')"
      ],
      "execution_count": 158,
      "outputs": []
    },
    {
      "cell_type": "code",
      "metadata": {
        "id": "uJc3mz8TQF0x"
      },
      "source": [
        "# #load the preprocessing dataframe\n",
        "# df = pd.read_pickle(r'/content/drive/MyDrive/AI-Internship/hamshahri_preprocessed')"
      ],
      "execution_count": null,
      "outputs": []
    },
    {
      "cell_type": "code",
      "metadata": {
        "colab": {
          "base_uri": "https://localhost:8080/",
          "height": 276
        },
        "id": "iZo35YtaQJq-",
        "outputId": "c1bfb782-7fd2-4040-d11d-9bed8ee5bb12"
      },
      "source": [
        "df1.head()"
      ],
      "execution_count": 159,
      "outputs": [
        {
          "output_type": "execute_result",
          "data": {
            "text/html": [
              "<div>\n",
              "<style scoped>\n",
              "    .dataframe tbody tr th:only-of-type {\n",
              "        vertical-align: middle;\n",
              "    }\n",
              "\n",
              "    .dataframe tbody tr th {\n",
              "        vertical-align: top;\n",
              "    }\n",
              "\n",
              "    .dataframe thead th {\n",
              "        text-align: right;\n",
              "    }\n",
              "</style>\n",
              "<table border=\"1\" class=\"dataframe\">\n",
              "  <thead>\n",
              "    <tr style=\"text-align: right;\">\n",
              "      <th></th>\n",
              "      <th>id</th>\n",
              "      <th>title</th>\n",
              "      <th>text</th>\n",
              "      <th>label</th>\n",
              "      <th>preprocessing_text</th>\n",
              "    </tr>\n",
              "  </thead>\n",
              "  <tbody>\n",
              "    <tr>\n",
              "      <th>0</th>\n",
              "      <td>HAM2-791012-001</td>\n",
              "      <td>بي تاب براي بازي زندگي</td>\n",
              "      <td>نگاهي به آثار و زندگي آندره مالرومالرو هم همان...</td>\n",
              "      <td>ادب و هنر</td>\n",
              "      <td>نگاه اثر زندگی آندره مالرومالرو بسیاری دیگر ای...</td>\n",
              "    </tr>\n",
              "    <tr>\n",
              "      <th>1</th>\n",
              "      <td>HAM2-791012-002</td>\n",
              "      <td>نقش رسانه هاي جمعي در ايجاد احساس امنيت</td>\n",
              "      <td>نخست بايد بدانيم كه به همان ميزان كه \"امنيت \"د...</td>\n",
              "      <td>اجتماعی</td>\n",
              "      <td>باید دانست&amp;دان که میزان که امنیت هرجامعه حائز ...</td>\n",
              "    </tr>\n",
              "    <tr>\n",
              "      <th>2</th>\n",
              "      <td>HAM2-791012-003</td>\n",
              "      <td>مدير عامل ايرنا بازجويي شد</td>\n",
              "      <td>گروه اجتماعي: مديرعامل سازمان خبرگزاري جمهوري ...</td>\n",
              "      <td>اجتماعی</td>\n",
              "      <td>مدیرعامل سازمان خبرگزاری جمهوری اسلامی ایرناو ...</td>\n",
              "    </tr>\n",
              "    <tr>\n",
              "      <th>3</th>\n",
              "      <td>HAM2-791012-004</td>\n",
              "      <td>رزمايش دريايي غدير 79در درياي عمان آغاز شد</td>\n",
              "      <td>رزمايش دريايي منطقه اي \"غدير 79\" از ديروز در ف...</td>\n",
              "      <td>اجتماعی</td>\n",
              "      <td>رزمایش دریایی منطقه‌ای غدیر دیروز فاصله تنگه ه...</td>\n",
              "    </tr>\n",
              "    <tr>\n",
              "      <th>4</th>\n",
              "      <td>HAM2-791012-005</td>\n",
              "      <td>چهارمين جلسه دادگاه غيرعلني قتل هاي زنجيره اي ...</td>\n",
              "      <td>گروه اجتماعي: به گزارش سازمان قضائي نيروهاي مس...</td>\n",
              "      <td>اجتماعی</td>\n",
              "      <td>گزارش سازمان قضائی نیرو مسلح چهارمین جلسه دادگ...</td>\n",
              "    </tr>\n",
              "  </tbody>\n",
              "</table>\n",
              "</div>"
            ],
            "text/plain": [
              "                id  ...                                 preprocessing_text\n",
              "0  HAM2-791012-001  ...  نگاه اثر زندگی آندره مالرومالرو بسیاری دیگر ای...\n",
              "1  HAM2-791012-002  ...  باید دانست&دان که میزان که امنیت هرجامعه حائز ...\n",
              "2  HAM2-791012-003  ...  مدیرعامل سازمان خبرگزاری جمهوری اسلامی ایرناو ...\n",
              "3  HAM2-791012-004  ...  رزمایش دریایی منطقه‌ای غدیر دیروز فاصله تنگه ه...\n",
              "4  HAM2-791012-005  ...  گزارش سازمان قضائی نیرو مسلح چهارمین جلسه دادگ...\n",
              "\n",
              "[5 rows x 5 columns]"
            ]
          },
          "metadata": {},
          "execution_count": 159
        }
      ]
    },
    {
      "cell_type": "markdown",
      "metadata": {
        "id": "Q5bPTipmVhUY"
      },
      "source": [
        "Let's compare one example before and after preprocessing."
      ]
    },
    {
      "cell_type": "code",
      "metadata": {
        "colab": {
          "base_uri": "https://localhost:8080/"
        },
        "id": "C1kGj1hNQMoW",
        "outputId": "59a30660-4669-4c67-cd34-c6b20879bf38"
      },
      "source": [
        "print('df1.text[100] before preprocessing ->')\n",
        "print(df1['text'][100])\n",
        "print('df1.text[100] after preprocessing ->')\n",
        "print(df1['preprocessing_text'][100])"
      ],
      "execution_count": 160,
      "outputs": [
        {
          "output_type": "stream",
          "text": [
            "df1.text[100] before preprocessing ->\n",
            "گروه سياسي: به مناسبت ششمين سال درگذشت مرحوم مهندس مهدي بازرگان پنجشنبه اين هفته مراسمي از ساعت 3014دقيقه در حسينيه ارشاد برگزار مي شود . اسامي سخنرانان و عنوانهاي سخنراني اين مراسم هنوز اعلام نشده است .\n",
            "df1.text[100] after preprocessing ->\n",
            "مناسبت ششمین سال درگذشت مرحوم مهندس مهدی بازرگان پنجشنبه این هفته مراسم ساعت دقیقه حسینیه ارشاد برگزار شد&شو اسم سخنران عنوان سخنرانی این مراسم اعلام‌نشده‌است\n"
          ],
          "name": "stdout"
        }
      ]
    },
    {
      "cell_type": "markdown",
      "metadata": {
        "id": "pw-1zdpyXLwL"
      },
      "source": [
        "Let's separate x and y from dataset.\n",
        "From the dataset we use only preprocessing_text column as x because it contain better information that title column and use label as y."
      ]
    },
    {
      "cell_type": "code",
      "metadata": {
        "id": "IGa177V9TL9g"
      },
      "source": [
        "ham_data = df1.copy()\n",
        "y = ham_data['label'].values\n",
        "ham_data.drop(labels=['review', 'label'], axis=1, inplace=True) # remove useless columns\n",
        "\n",
        "ham_data.head()"
      ],
      "execution_count": null,
      "outputs": []
    },
    {
      "cell_type": "code",
      "metadata": {
        "colab": {
          "base_uri": "https://localhost:8080/"
        },
        "id": "IwgNGY2UfroC",
        "outputId": "f7dcb43e-9a84-4da5-d734-5504bef27ed6"
      },
      "source": [
        "print(df1.shape)"
      ],
      "execution_count": 161,
      "outputs": [
        {
          "output_type": "stream",
          "text": [
            "(13260, 5)\n"
          ],
          "name": "stdout"
        }
      ]
    },
    {
      "cell_type": "code",
      "metadata": {
        "id": "PxBEKIlQfuSL"
      },
      "source": [
        ""
      ],
      "execution_count": null,
      "outputs": []
    }
  ]
}