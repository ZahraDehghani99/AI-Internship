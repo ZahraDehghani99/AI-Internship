{
  "nbformat": 4,
  "nbformat_minor": 0,
  "metadata": {
    "colab": {
      "name": "Phase05-NLP With Neural Networks.ipynb",
      "provenance": [],
      "collapsed_sections": []
    },
    "kernelspec": {
      "name": "python3",
      "display_name": "Python 3"
    },
    "language_info": {
      "name": "python"
    }
  },
  "cells": [
    {
      "cell_type": "markdown",
      "metadata": {
        "id": "pzNeTzyVIZS9"
      },
      "source": [
        "# Section 1: Text Classification"
      ]
    },
    {
      "cell_type": "markdown",
      "metadata": {
        "id": "N0frQe0whC4M"
      },
      "source": [
        "## Text Classification With The Torchtext Library\n"
      ]
    },
    {
      "cell_type": "markdown",
      "metadata": {
        "id": "32Jl8QA0r1uc"
      },
      "source": [
        "### Access to the raw dataset iterators"
      ]
    },
    {
      "cell_type": "code",
      "metadata": {
        "id": "z12xhECGhIjS"
      },
      "source": [
        "import torch\n",
        "from torchtext.datasets import AG_NEWS"
      ],
      "execution_count": 1,
      "outputs": []
    },
    {
      "cell_type": "code",
      "metadata": {
        "colab": {
          "base_uri": "https://localhost:8080/"
        },
        "id": "LHumobmChv6i",
        "outputId": "4cb6caca-a91b-4abb-ff92-0730108e1ab8"
      },
      "source": [
        "AG_NEWS"
      ],
      "execution_count": 3,
      "outputs": [
        {
          "output_type": "execute_result",
          "data": {
            "text/plain": [
              "<function torchtext.datasets.ag_news.AG_NEWS>"
            ]
          },
          "metadata": {
            "tags": []
          },
          "execution_count": 3
        }
      ]
    },
    {
      "cell_type": "markdown",
      "metadata": {
        "id": "tQToQx41ioTX"
      },
      "source": [
        "AG_NEWS consits of tupel of label and text."
      ]
    },
    {
      "cell_type": "code",
      "metadata": {
        "colab": {
          "base_uri": "https://localhost:8080/"
        },
        "id": "exrn1oQnhpxA",
        "outputId": "9765209a-fada-453c-c33f-e820d4824beb"
      },
      "source": [
        "train_iter = AG_NEWS(split='train')\n",
        "print(f'example of AG_NEWs : {next(train_iter)}')\n",
        "print(f'example of AG_NEWs : {next(train_iter)}')\n",
        "print(f'example of AG_NEWs : {next(train_iter)}')"
      ],
      "execution_count": 6,
      "outputs": [
        {
          "output_type": "stream",
          "text": [
            "example of AG_NEWs : (3, \"Wall St. Bears Claw Back Into the Black (Reuters) Reuters - Short-sellers, Wall Street's dwindling\\\\band of ultra-cynics, are seeing green again.\")\n",
            "example of AG_NEWs : (3, 'Carlyle Looks Toward Commercial Aerospace (Reuters) Reuters - Private investment firm Carlyle Group,\\\\which has a reputation for making well-timed and occasionally\\\\controversial plays in the defense industry, has quietly placed\\\\its bets on another part of the market.')\n",
            "example of AG_NEWs : (3, \"Oil and Economy Cloud Stocks' Outlook (Reuters) Reuters - Soaring crude prices plus worries\\\\about the economy and the outlook for earnings are expected to\\\\hang over the stock market next week during the depth of the\\\\summer doldrums.\")\n"
          ],
          "name": "stdout"
        }
      ]
    },
    {
      "cell_type": "markdown",
      "metadata": {
        "id": "AtVYZA1DsCUR"
      },
      "source": [
        "### Prepare data processing pipeline"
      ]
    },
    {
      "cell_type": "code",
      "metadata": {
        "id": "LXjBxqKtiQTR"
      },
      "source": [
        "from torchtext.data.utils import get_tokenizer\n",
        "from torchtext.vocab import build_vocab_from_iterator\n",
        "\n",
        "tokenizer = get_tokenizer('basic_english')\n",
        "train_iter =  AG_NEWS(split='train')\n",
        "\n",
        "def yield_tokens(data_iter):\n",
        "  for _, text in data_iter:\n",
        "    yield tokenizer(text)\n",
        "\n",
        "vocab = build_vocab_from_iterator(yield_tokens(train_iter), specials=['<unk>'])\n",
        "vocab.set_default_index(vocab['<unk>'])"
      ],
      "execution_count": 12,
      "outputs": []
    },
    {
      "cell_type": "code",
      "metadata": {
        "colab": {
          "base_uri": "https://localhost:8080/"
        },
        "id": "KUcnwdI_iDUA",
        "outputId": "8d8afca9-b3b2-4242-b67b-93f37763339d"
      },
      "source": [
        "# convert a list of tokens into integers\n",
        "vocab(['here','is' ,'an', 'example'])"
      ],
      "execution_count": 17,
      "outputs": [
        {
          "output_type": "execute_result",
          "data": {
            "text/plain": [
              "[475, 21, 30, 5297]"
            ]
          },
          "metadata": {
            "tags": []
          },
          "execution_count": 17
        }
      ]
    },
    {
      "cell_type": "markdown",
      "metadata": {
        "id": "Oieq05OoUGVl"
      },
      "source": [
        "Let's build fuctions for process text and label. \n",
        "\n",
        "The text pipeline converts a text string into a list of integers based on the lookup table defined in the vocabulary. The label pipeline converts the label into integers"
      ]
    },
    {
      "cell_type": "code",
      "metadata": {
        "id": "WeHgHQmsO9PY"
      },
      "source": [
        "text_pipeline = lambda x: vocab(tokenizer(x))\n",
        "label_pipeline = lambda x: int(x) -1"
      ],
      "execution_count": 18,
      "outputs": []
    },
    {
      "cell_type": "code",
      "metadata": {
        "colab": {
          "base_uri": "https://localhost:8080/"
        },
        "id": "rsTidMbBO_0o",
        "outputId": "8b0e9176-6cd7-49ee-8c8f-4be70401a215"
      },
      "source": [
        "text_pipeline('here is an example')"
      ],
      "execution_count": 19,
      "outputs": [
        {
          "output_type": "execute_result",
          "data": {
            "text/plain": [
              "[475, 21, 30, 5297]"
            ]
          },
          "metadata": {
            "tags": []
          },
          "execution_count": 19
        }
      ]
    },
    {
      "cell_type": "code",
      "metadata": {
        "colab": {
          "base_uri": "https://localhost:8080/"
        },
        "id": "Iu7II3OOWS2e",
        "outputId": "801ea4c6-08ec-4b98-f7aa-afee6817889f"
      },
      "source": [
        "label_pipeline('10')"
      ],
      "execution_count": 20,
      "outputs": [
        {
          "output_type": "execute_result",
          "data": {
            "text/plain": [
              "9"
            ]
          },
          "metadata": {
            "tags": []
          },
          "execution_count": 20
        }
      ]
    },
    {
      "cell_type": "markdown",
      "metadata": {
        "id": "0hgnz7AbWlad"
      },
      "source": [
        "### Generate data batch and iterator"
      ]
    },
    {
      "cell_type": "code",
      "metadata": {
        "id": "SxRTMxvvYi3e"
      },
      "source": [
        "from torch.utils.data import DataLoader\n",
        "\n",
        "def collate_batch(batch):\n",
        "  label_list, text_list, offsets = [], [], [0]\n",
        "\n",
        "  for (_label, _text) in batch:\n",
        "    label_list.append(label_pipeline(_label))\n",
        "    processed_text = torch.tensor(text_pipeline(_text), dtype=torch.int64)\n",
        "    text_list.append(processed_text)\n",
        "    offsets.append(processed_text.size(0))\n",
        "  label_list = torch.tensor(offsets[:-1]).cumsum(dim=0)\n",
        "  text_list = torch.cat(text_list)\n",
        "  return label_list, text_list, offsets"
      ],
      "execution_count": 33,
      "outputs": []
    },
    {
      "cell_type": "code",
      "metadata": {
        "id": "dAbfzyCdl4uv"
      },
      "source": [
        "train_iter = AG_NEWS(split='train')\n",
        "dataloader = DataLoader(train_iter, batch_size=8, shuffle=False, collate_fn=collate_batch)"
      ],
      "execution_count": 34,
      "outputs": []
    },
    {
      "cell_type": "code",
      "metadata": {
        "colab": {
          "base_uri": "https://localhost:8080/"
        },
        "id": "5CWiW_3_nXNg",
        "outputId": "78e2afee-960a-41e6-b5b0-aeebff57afac"
      },
      "source": [
        "print(f'length of train_iter is : {len(train_iter)} and length of dataloader is : {len(dataloader)}')"
      ],
      "execution_count": 35,
      "outputs": [
        {
          "output_type": "stream",
          "text": [
            "length of train_iter is : 120000 and length of dataloader is : 15000\n"
          ],
          "name": "stdout"
        }
      ]
    },
    {
      "cell_type": "markdown",
      "metadata": {
        "id": "FuE7pvI0oNIy"
      },
      "source": [
        "Let's take a look at a batch of the dataloader."
      ]
    },
    {
      "cell_type": "code",
      "metadata": {
        "colab": {
          "base_uri": "https://localhost:8080/"
        },
        "id": "hlTbsHKAmQG9",
        "outputId": "6ab5ef1a-1e61-4e29-d468-8ba90e77bba2"
      },
      "source": [
        "examples = iter(dataloader)\n",
        "#unpack examples\n",
        "label, text , offset = examples.next()\n",
        "print(f'label shape : {label.shape} ,text shape : {text.shape}, length of offset : {len(offset)}')\n",
        "print(f'offset -> {offset}')\n",
        "print(f'the sum of the length of texts in the batch : {sum(offset)}')\n",
        "print(f'length of the first text in the batch : {offset[1]}')"
      ],
      "execution_count": 45,
      "outputs": [
        {
          "output_type": "stream",
          "text": [
            "label shape : torch.Size([8]) ,text shape : torch.Size([390]), length of offset : 9\n",
            "offset -> [0, 45, 47, 37, 47, 36, 51, 64, 63]\n",
            "the sum of the length of texts in the batch : 390\n",
            "length of the first text in the batch : 45\n"
          ],
          "name": "stdout"
        }
      ]
    },
    {
      "cell_type": "markdown",
      "metadata": {
        "id": "DuTuPaYUsiPI"
      },
      "source": [
        "Offset is a list with a length of 9(batch size + 1) that stores the length of each text in the batch."
      ]
    },
    {
      "cell_type": "markdown",
      "metadata": {
        "id": "D84DYkjuu_hu"
      },
      "source": [
        "### Define the model"
      ]
    },
    {
      "cell_type": "code",
      "metadata": {
        "id": "AqglWrubmT0J"
      },
      "source": [
        ""
      ],
      "execution_count": null,
      "outputs": []
    }
  ]
}