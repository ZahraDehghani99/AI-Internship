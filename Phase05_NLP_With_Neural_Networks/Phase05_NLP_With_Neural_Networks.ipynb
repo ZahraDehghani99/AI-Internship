{
  "nbformat": 4,
  "nbformat_minor": 0,
  "metadata": {
    "colab": {
      "name": "Phase05-NLP With Neural Networks.ipynb",
      "provenance": [],
      "collapsed_sections": []
    },
    "kernelspec": {
      "name": "python3",
      "display_name": "Python 3"
    },
    "language_info": {
      "name": "python"
    }
  },
  "cells": [
    {
      "cell_type": "markdown",
      "metadata": {
        "id": "pzNeTzyVIZS9"
      },
      "source": [
        "# Section 1: Text Classification"
      ]
    },
    {
      "cell_type": "markdown",
      "metadata": {
        "id": "N0frQe0whC4M"
      },
      "source": [
        "## Text Classification With The Torchtext Library\n"
      ]
    },
    {
      "cell_type": "markdown",
      "metadata": {
        "id": "32Jl8QA0r1uc"
      },
      "source": [
        "### Access to the raw dataset iterators"
      ]
    },
    {
      "cell_type": "code",
      "metadata": {
        "id": "z12xhECGhIjS"
      },
      "source": [
        "import torch\n",
        "from torchtext.datasets import AG_NEWS"
      ],
      "execution_count": 1,
      "outputs": []
    },
    {
      "cell_type": "code",
      "metadata": {
        "colab": {
          "base_uri": "https://localhost:8080/"
        },
        "id": "LHumobmChv6i",
        "outputId": "23a18213-5690-41a6-d20a-6d9ee8f333e6"
      },
      "source": [
        "AG_NEWS"
      ],
      "execution_count": 2,
      "outputs": [
        {
          "output_type": "execute_result",
          "data": {
            "text/plain": [
              "<function torchtext.datasets.ag_news.AG_NEWS>"
            ]
          },
          "metadata": {
            "tags": []
          },
          "execution_count": 2
        }
      ]
    },
    {
      "cell_type": "markdown",
      "metadata": {
        "id": "tQToQx41ioTX"
      },
      "source": [
        "AG_NEWS consits of tupel of label and text."
      ]
    },
    {
      "cell_type": "code",
      "metadata": {
        "colab": {
          "base_uri": "https://localhost:8080/"
        },
        "id": "exrn1oQnhpxA",
        "outputId": "c7e6a29f-68bb-4b73-8568-3f40fc6e973f"
      },
      "source": [
        "train_iter = AG_NEWS(split='train')\n",
        "print(f'example of AG_NEWs : {next(train_iter)}')\n",
        "print(f'example of AG_NEWs : {next(train_iter)}')\n",
        "print(f'example of AG_NEWs : {next(train_iter)}')"
      ],
      "execution_count": 3,
      "outputs": [
        {
          "output_type": "stream",
          "text": [
            "example of AG_NEWs : (3, \"Wall St. Bears Claw Back Into the Black (Reuters) Reuters - Short-sellers, Wall Street's dwindling\\\\band of ultra-cynics, are seeing green again.\")\n",
            "example of AG_NEWs : (3, 'Carlyle Looks Toward Commercial Aerospace (Reuters) Reuters - Private investment firm Carlyle Group,\\\\which has a reputation for making well-timed and occasionally\\\\controversial plays in the defense industry, has quietly placed\\\\its bets on another part of the market.')\n",
            "example of AG_NEWs : (3, \"Oil and Economy Cloud Stocks' Outlook (Reuters) Reuters - Soaring crude prices plus worries\\\\about the economy and the outlook for earnings are expected to\\\\hang over the stock market next week during the depth of the\\\\summer doldrums.\")\n"
          ],
          "name": "stdout"
        }
      ]
    },
    {
      "cell_type": "markdown",
      "metadata": {
        "id": "AtVYZA1DsCUR"
      },
      "source": [
        "### Prepare data processing pipeline"
      ]
    },
    {
      "cell_type": "code",
      "metadata": {
        "id": "LXjBxqKtiQTR"
      },
      "source": [
        "from torchtext.data.utils import get_tokenizer\n",
        "from torchtext.vocab import build_vocab_from_iterator\n",
        "\n",
        "tokenizer = get_tokenizer('basic_english')\n",
        "train_iter =  AG_NEWS(split='train')\n",
        "\n",
        "def yield_tokens(data_iter):\n",
        "  for _, text in data_iter:\n",
        "    yield tokenizer(text)\n",
        "\n",
        "vocab = build_vocab_from_iterator(yield_tokens(train_iter), specials=['<unk>'])\n",
        "vocab.set_default_index(vocab['<unk>'])"
      ],
      "execution_count": 4,
      "outputs": []
    },
    {
      "cell_type": "code",
      "metadata": {
        "colab": {
          "base_uri": "https://localhost:8080/"
        },
        "id": "KUcnwdI_iDUA",
        "outputId": "23356f90-3131-402a-9ae8-fe639a517ca6"
      },
      "source": [
        "# convert a list of tokens into integers\n",
        "vocab(['here','is' ,'an', 'example'])"
      ],
      "execution_count": 5,
      "outputs": [
        {
          "output_type": "execute_result",
          "data": {
            "text/plain": [
              "[475, 21, 30, 5297]"
            ]
          },
          "metadata": {
            "tags": []
          },
          "execution_count": 5
        }
      ]
    },
    {
      "cell_type": "markdown",
      "metadata": {
        "id": "Oieq05OoUGVl"
      },
      "source": [
        "Let's build fuctions for process text and label. \n",
        "\n",
        "The text pipeline converts a text string into a list of integers based on the lookup table defined in the vocabulary. The label pipeline converts the label into integers"
      ]
    },
    {
      "cell_type": "code",
      "metadata": {
        "id": "WeHgHQmsO9PY"
      },
      "source": [
        "text_pipeline = lambda x: vocab(tokenizer(x))\n",
        "label_pipeline = lambda x: int(x) -1"
      ],
      "execution_count": 6,
      "outputs": []
    },
    {
      "cell_type": "code",
      "metadata": {
        "colab": {
          "base_uri": "https://localhost:8080/"
        },
        "id": "rsTidMbBO_0o",
        "outputId": "719fc601-fbe6-460e-d6c3-f81f08bc063d"
      },
      "source": [
        "text_pipeline('here is an example')"
      ],
      "execution_count": 7,
      "outputs": [
        {
          "output_type": "execute_result",
          "data": {
            "text/plain": [
              "[475, 21, 30, 5297]"
            ]
          },
          "metadata": {
            "tags": []
          },
          "execution_count": 7
        }
      ]
    },
    {
      "cell_type": "code",
      "metadata": {
        "colab": {
          "base_uri": "https://localhost:8080/"
        },
        "id": "Iu7II3OOWS2e",
        "outputId": "4ec9d7f4-69fa-46d3-e4c2-cf0fcade96ff"
      },
      "source": [
        "label_pipeline('10')"
      ],
      "execution_count": 8,
      "outputs": [
        {
          "output_type": "execute_result",
          "data": {
            "text/plain": [
              "9"
            ]
          },
          "metadata": {
            "tags": []
          },
          "execution_count": 8
        }
      ]
    },
    {
      "cell_type": "markdown",
      "metadata": {
        "id": "0hgnz7AbWlad"
      },
      "source": [
        "### Generate data batch and iterator"
      ]
    },
    {
      "cell_type": "code",
      "metadata": {
        "id": "SxRTMxvvYi3e"
      },
      "source": [
        "from torch.utils.data import DataLoader\n",
        "\n",
        "def collate_batch(batch):\n",
        "  label_list, text_list, offsets = [], [], [0]\n",
        "\n",
        "  for (_label, _text) in batch:\n",
        "    label_list.append(label_pipeline(_label))\n",
        "    processed_text = torch.tensor(text_pipeline(_text), dtype=torch.int64)\n",
        "    text_list.append(processed_text)\n",
        "    offsets.append(processed_text.size(0))\n",
        "  label_list = torch.tensor(label_list, dtype=torch.int64)  \n",
        "  offsets = torch.tensor(offsets[:-1]).cumsum(dim=0)\n",
        "  text_list = torch.cat(text_list)\n",
        "  return label_list, text_list, offsets"
      ],
      "execution_count": 9,
      "outputs": []
    },
    {
      "cell_type": "code",
      "metadata": {
        "id": "dAbfzyCdl4uv"
      },
      "source": [
        "train_iter = AG_NEWS(split='train')\n",
        "dataloader = DataLoader(train_iter, batch_size=8, shuffle=False, collate_fn=collate_batch)"
      ],
      "execution_count": 10,
      "outputs": []
    },
    {
      "cell_type": "code",
      "metadata": {
        "colab": {
          "base_uri": "https://localhost:8080/"
        },
        "id": "5CWiW_3_nXNg",
        "outputId": "155c67c7-3bb6-40f8-aea9-3150f6cbd2b0"
      },
      "source": [
        "print(f'length of train_iter is : {len(train_iter)} and length of dataloader is : {len(dataloader)}')"
      ],
      "execution_count": 11,
      "outputs": [
        {
          "output_type": "stream",
          "text": [
            "length of train_iter is : 120000 and length of dataloader is : 15000\n"
          ],
          "name": "stdout"
        }
      ]
    },
    {
      "cell_type": "markdown",
      "metadata": {
        "id": "FuE7pvI0oNIy"
      },
      "source": [
        "Let's take a look at a batch of the dataloader."
      ]
    },
    {
      "cell_type": "code",
      "metadata": {
        "colab": {
          "base_uri": "https://localhost:8080/"
        },
        "id": "hlTbsHKAmQG9",
        "outputId": "3f2da2aa-671e-4876-b67e-008543f9f032"
      },
      "source": [
        "examples = iter(dataloader)\n",
        "#unpack examples\n",
        "label, text , offset = examples.next()\n",
        "print(f'label shape : {label.shape} ,text shape : {text.shape}, length of offset : {len(offset)}')\n",
        "print(f'offset -> {offset}')\n",
        "print(f'length of the first text in the batch : {offset[1]}')"
      ],
      "execution_count": 12,
      "outputs": [
        {
          "output_type": "stream",
          "text": [
            "label shape : torch.Size([8]) ,text shape : torch.Size([338]), length of offset : 8\n",
            "offset -> tensor([  0,  29,  71, 111, 151, 194, 242, 289])\n",
            "length of the first text in the batch : 29\n"
          ],
          "name": "stdout"
        }
      ]
    },
    {
      "cell_type": "markdown",
      "metadata": {
        "id": "DuTuPaYUsiPI"
      },
      "source": [
        "Offset is a list with a length of 9(batch size + 1) that stores the length of each text in the batch."
      ]
    },
    {
      "cell_type": "markdown",
      "metadata": {
        "id": "D84DYkjuu_hu"
      },
      "source": [
        "### Define the model"
      ]
    },
    {
      "cell_type": "code",
      "metadata": {
        "id": "HIJLZ9is4fUO"
      },
      "source": [
        "from torch import nn\n",
        "\n",
        "class TextClassificationModel(nn.Module):\n",
        "  def __init__(self, vocab_size, embed_dim, num_class):\n",
        "    super(TextClassificationModel, self).__init__()\n",
        "    self.embedding = nn.EmbeddingBag(vocab_size, embed_dim, sparse=True)\n",
        "    self.fc = nn.Linear(embed_dim, num_class)\n",
        "    self.init_weights()\n",
        "\n",
        "  def init_weights(self):\n",
        "    initrange = 0.5\n",
        "    self.embedding.weight.data.uniform_(-initrange, initrange)\n",
        "    self.fc.weight.data.uniform_(-initrange, initrange)\n",
        "    self.fc.bias.data.zero_()\n",
        "\n",
        "  def forward(self, text, offsets):\n",
        "    embedded = self.embedding(text, offsets)\n",
        "    return self.fc(embedded)  \n"
      ],
      "execution_count": 13,
      "outputs": []
    },
    {
      "cell_type": "markdown",
      "metadata": {
        "id": "ylVEtKTb7t8k"
      },
      "source": [
        "### Initiate an instance"
      ]
    },
    {
      "cell_type": "code",
      "metadata": {
        "id": "tMS5a61D7rlc"
      },
      "source": [
        "train_iter = AG_NEWS(split='train')\n",
        "labels = [label for (label, text) in train_iter]"
      ],
      "execution_count": 14,
      "outputs": []
    },
    {
      "cell_type": "code",
      "metadata": {
        "colab": {
          "base_uri": "https://localhost:8080/"
        },
        "id": "gbZACqM48Kz-",
        "outputId": "b1321854-0bc4-49e6-8ced-d9cd1f2df0ed"
      },
      "source": [
        "classes = set(labels)\n",
        "\n",
        "distribution = {}\n",
        "for i in classes:\n",
        "  distribution[i] = labels.count(i)\n",
        "\n",
        "print(f'distribution in each class : {distribution}')"
      ],
      "execution_count": 15,
      "outputs": [
        {
          "output_type": "stream",
          "text": [
            "distribution in each class : {1: 30000, 2: 30000, 3: 30000, 4: 30000}\n"
          ],
          "name": "stdout"
        }
      ]
    },
    {
      "cell_type": "code",
      "metadata": {
        "colab": {
          "base_uri": "https://localhost:8080/",
          "height": 295
        },
        "id": "0M0wAYfr8MLl",
        "outputId": "b6c36d4d-4a59-4f02-8620-719cb9e39f8f"
      },
      "source": [
        "import matplotlib.pyplot as plt\n",
        "\n",
        "num_in_class = [distribution[i] for i in range(1,5)]\n",
        "plt.bar([1,2,3,4], num_in_class)\n",
        "plt.xlabel('Classes')\n",
        "plt.ylabel('Numbers in each class')\n",
        "plt.title('Data distribution in each class')\n",
        "plt.show()"
      ],
      "execution_count": 16,
      "outputs": [
        {
          "output_type": "display_data",
          "data": {
            "image/png": "[encoded data removed]",
            "text/plain": [
              "<Figure size 432x288 with 1 Axes>"
            ]
          },
          "metadata": {
            "tags": [],
            "needs_background": "light"
          }
        }
      ]
    },
    {
      "cell_type": "code",
      "metadata": {
        "id": "hkGV6nLy8TBO"
      },
      "source": [
        "num_class = len(classes)\n",
        "vocab_size = len(vocab)\n",
        "embed_dim = 64\n",
        "\n",
        "model = TextClassificationModel(vocab_size, embed_dim, num_class)"
      ],
      "execution_count": 17,
      "outputs": []
    },
    {
      "cell_type": "markdown",
      "metadata": {
        "id": "wgSW_JktFiEw"
      },
      "source": [
        "### Define functions to train the model and evalute results"
      ]
    },
    {
      "cell_type": "code",
      "metadata": {
        "id": "38fXeUld_CsN"
      },
      "source": [
        "import time \n",
        "\n",
        "def train(dataloader):\n",
        "  model.train()\n",
        "  total_acc, total_count = 0, 0\n",
        "  log_interval = 500\n",
        "  start_time = time.time()\n",
        "\n",
        "  for idx, (label, text, offsets) in enumerate(dataloader):\n",
        "\n",
        "    predicted_label = model(text, offsets)\n",
        "    loss = criterion(predicted_label, label)\n",
        "    \n",
        "    optimizer.zero_grad()\n",
        "    loss.backward()\n",
        "    torch.nn.utils.clip_grad_norm_(model.parameters(), 0.1) ####\n",
        "    optimizer.step()\n",
        "\n",
        "    total_acc += (predicted_label.argmax(1) == label).sum().item()\n",
        "    total_count += label.size(0)\n",
        "\n",
        "   \n",
        "    if idx % log_interval == 0 and idx > 0:\n",
        "      elapsed = time.time() - start_time\n",
        "      print('| epoch {:3d} | {:5d}/{:5d} batches | accuracy {:8.3f}'.format(epoch, idx, len(dataloader), total_acc/total_count))\n",
        "\n",
        "      total_acc, total_count = 0, 0\n",
        "      start_time = time.time()  \n",
        "    \n",
        "\n",
        "def evaluate(dataloader):\n",
        "  model.eval()\n",
        "  total_acc , total_count = 0, 0\n",
        "  \n",
        "  with torch.no_grad():\n",
        "    for idx, (label, text, offsets) in enumerate(dataloader):\n",
        "      predicted_label = model(text, offsets)\n",
        "      loss = criterion(predicted_label, label)\n",
        "      total_acc += (predicted_label.argmax(1) == label).sum().item()\n",
        "      total_count += label.size(0)\n",
        "    return total_acc/total_count\n"
      ],
      "execution_count": 18,
      "outputs": []
    },
    {
      "cell_type": "markdown",
      "metadata": {
        "id": "9vE5pbgyKNbN"
      },
      "source": [
        "### Split the dataset and run the model"
      ]
    },
    {
      "cell_type": "code",
      "metadata": {
        "id": "VX5VQmhMJ8Au"
      },
      "source": [
        "from torch.utils.data.dataset import random_split\n",
        "from torchtext.data.functional import to_map_style_dataset\n",
        "\n",
        "epochs = 10\n",
        "learning_rate = 5\n",
        "batch_size = 64\n",
        "\n",
        "criterion = torch.nn.CrossEntropyLoss()\n",
        "optimizer = torch.optim.SGD(model.parameters(), lr=learning_rate)\n",
        "scheduler = torch.optim.lr_scheduler.StepLR(optimizer, 1.0, gamma=0.1)\n",
        "total_accu = None"
      ],
      "execution_count": 19,
      "outputs": []
    },
    {
      "cell_type": "code",
      "metadata": {
        "id": "VaZOxAZPSIDq"
      },
      "source": [
        "train_iter, test_iter= AG_NEWS()"
      ],
      "execution_count": 20,
      "outputs": []
    },
    {
      "cell_type": "code",
      "metadata": {
        "colab": {
          "base_uri": "https://localhost:8080/"
        },
        "id": "r5BdpjYgSKkD",
        "outputId": "3cee0f88-11a4-4912-dd22-be38fdd24796"
      },
      "source": [
        "print(f'length of train iter : {len(train_iter)}')\n",
        "print(f'length of test iter : {len(test_iter)}')"
      ],
      "execution_count": 21,
      "outputs": [
        {
          "output_type": "stream",
          "text": [
            "length of train iter : 120000\n",
            "length of test iter : 7600\n"
          ],
          "name": "stdout"
        }
      ]
    },
    {
      "cell_type": "code",
      "metadata": {
        "id": "kSMhmvSoSL84"
      },
      "source": [
        "train_dataset = to_map_style_dataset(train_iter)\n",
        "test_dataset = to_map_style_dataset(test_iter)"
      ],
      "execution_count": 22,
      "outputs": []
    },
    {
      "cell_type": "code",
      "metadata": {
        "colab": {
          "base_uri": "https://localhost:8080/"
        },
        "id": "QH0BUSl7SwCW",
        "outputId": "2009eb01-8eeb-441b-e283-a2db3b0a5592"
      },
      "source": [
        "train_dataset[0]"
      ],
      "execution_count": 23,
      "outputs": [
        {
          "output_type": "execute_result",
          "data": {
            "text/plain": [
              "(3,\n",
              " \"Wall St. Bears Claw Back Into the Black (Reuters) Reuters - Short-sellers, Wall Street's dwindling\\\\band of ultra-cynics, are seeing green again.\")"
            ]
          },
          "metadata": {
            "tags": []
          },
          "execution_count": 23
        }
      ]
    },
    {
      "cell_type": "code",
      "metadata": {
        "colab": {
          "base_uri": "https://localhost:8080/"
        },
        "id": "RLwdGTypSxk4",
        "outputId": "21094443-db3f-4f06-f348-cfcd359d323b"
      },
      "source": [
        "test_dataset[0]"
      ],
      "execution_count": 24,
      "outputs": [
        {
          "output_type": "execute_result",
          "data": {
            "text/plain": [
              "(3,\n",
              " \"Fears for T N pension after talks Unions representing workers at Turner   Newall say they are 'disappointed' after talks with stricken parent firm Federal Mogul.\")"
            ]
          },
          "metadata": {
            "tags": []
          },
          "execution_count": 24
        }
      ]
    },
    {
      "cell_type": "code",
      "metadata": {
        "id": "jT0MKQsETq3f"
      },
      "source": [
        "# split train_data set into train(0.95) and valid(0.05)\n",
        "num_train = int(len(train_dataset)*0.95)\n",
        "\n",
        "split_train_, split_valid_ = random_split(train_dataset, [num_train, len(train_dataset) - num_train])"
      ],
      "execution_count": 25,
      "outputs": []
    },
    {
      "cell_type": "code",
      "metadata": {
        "colab": {
          "base_uri": "https://localhost:8080/"
        },
        "id": "j-mTuwWuVBcS",
        "outputId": "651e4cac-7ac8-40e3-af0b-c476d8733166"
      },
      "source": [
        "print(f'length of split train : {len(split_train_)}')\n",
        "print(f'length of split valid : {len(split_valid_)}')"
      ],
      "execution_count": 26,
      "outputs": [
        {
          "output_type": "stream",
          "text": [
            "length of split train : 114000\n",
            "length of split valid : 6000\n"
          ],
          "name": "stdout"
        }
      ]
    },
    {
      "cell_type": "code",
      "metadata": {
        "id": "FJQmcNpSVFuN"
      },
      "source": [
        "train_dataloader = DataLoader(split_train_, batch_size=batch_size, shuffle=True, collate_fn=collate_batch)\n",
        "\n",
        "valid_dataloader = DataLoader(split_valid_, batch_size=batch_size, shuffle=True, collate_fn=collate_batch)\n",
        "\n",
        "test_dataloader = DataLoader(test_dataset, batch_size=batch_size, shuffle=False, collate_fn=collate_batch)"
      ],
      "execution_count": 27,
      "outputs": []
    },
    {
      "cell_type": "code",
      "metadata": {
        "colab": {
          "base_uri": "https://localhost:8080/"
        },
        "id": "Im_0FnzBVL72",
        "outputId": "01e92aa5-5291-4e75-93ef-131dbf56d174"
      },
      "source": [
        "print(f'length of train dataloader : {len(train_dataloader)}')\n",
        "print(f'length of valid dataloader : {len(valid_dataloader)}')\n",
        "print(f'length of test dataloader : {len(test_dataloader)}')"
      ],
      "execution_count": 28,
      "outputs": [
        {
          "output_type": "stream",
          "text": [
            "length of train dataloader : 1782\n",
            "length of valid dataloader : 94\n",
            "length of test dataloader : 119\n"
          ],
          "name": "stdout"
        }
      ]
    },
    {
      "cell_type": "markdown",
      "metadata": {
        "id": "lITjN_Nad08E"
      },
      "source": [
        "#### Train the model"
      ]
    },
    {
      "cell_type": "code",
      "metadata": {
        "colab": {
          "base_uri": "https://localhost:8080/"
        },
        "id": "QNkmbKfmbX6m",
        "outputId": "60eaafff-e99f-4af5-887b-c44b24fab491"
      },
      "source": [
        "for epoch in range(1, epochs+1):\n",
        "  epoch_start_time = time.time()\n",
        "  train(train_dataloader)\n",
        "  accu_val = evaluate(valid_dataloader)\n",
        "  if total_accu is not None and total_accu > accu_val:\n",
        "    scheduler.step()\n",
        "  else:\n",
        "    total_accu = accu_val\n",
        "  print('-'*59)\n",
        "  print('| end of epoch {:3d} | time : {:5.2f}s | valid accuracy {:8.3f}'.format(epoch, time.time() - epoch_start_time, accu_val))  \n",
        "\n",
        "  print('-'*59)"
      ],
      "execution_count": 29,
      "outputs": [
        {
          "output_type": "stream",
          "text": [
            "| epoch   1 |   500/ 1782 batches | accuracy    0.684\n",
            "| epoch   1 |  1000/ 1782 batches | accuracy    0.852\n",
            "| epoch   1 |  1500/ 1782 batches | accuracy    0.876\n",
            "-----------------------------------------------------------\n",
            "| end of epoch   1 | time : 15.44s | valid accuracy    0.884\n",
            "-----------------------------------------------------------\n",
            "| epoch   2 |   500/ 1782 batches | accuracy    0.895\n",
            "| epoch   2 |  1000/ 1782 batches | accuracy    0.898\n",
            "| epoch   2 |  1500/ 1782 batches | accuracy    0.903\n",
            "-----------------------------------------------------------\n",
            "| end of epoch   2 | time : 15.03s | valid accuracy    0.900\n",
            "-----------------------------------------------------------\n",
            "| epoch   3 |   500/ 1782 batches | accuracy    0.915\n",
            "| epoch   3 |  1000/ 1782 batches | accuracy    0.913\n",
            "| epoch   3 |  1500/ 1782 batches | accuracy    0.913\n",
            "-----------------------------------------------------------\n",
            "| end of epoch   3 | time : 15.28s | valid accuracy    0.907\n",
            "-----------------------------------------------------------\n",
            "| epoch   4 |   500/ 1782 batches | accuracy    0.926\n",
            "| epoch   4 |  1000/ 1782 batches | accuracy    0.920\n",
            "| epoch   4 |  1500/ 1782 batches | accuracy    0.923\n",
            "-----------------------------------------------------------\n",
            "| end of epoch   4 | time : 15.28s | valid accuracy    0.904\n",
            "-----------------------------------------------------------\n",
            "| epoch   5 |   500/ 1782 batches | accuracy    0.936\n",
            "| epoch   5 |  1000/ 1782 batches | accuracy    0.937\n",
            "| epoch   5 |  1500/ 1782 batches | accuracy    0.935\n",
            "-----------------------------------------------------------\n",
            "| end of epoch   5 | time : 15.40s | valid accuracy    0.912\n",
            "-----------------------------------------------------------\n",
            "| epoch   6 |   500/ 1782 batches | accuracy    0.937\n",
            "| epoch   6 |  1000/ 1782 batches | accuracy    0.939\n",
            "| epoch   6 |  1500/ 1782 batches | accuracy    0.938\n",
            "-----------------------------------------------------------\n",
            "| end of epoch   6 | time : 15.25s | valid accuracy    0.913\n",
            "-----------------------------------------------------------\n",
            "| epoch   7 |   500/ 1782 batches | accuracy    0.942\n",
            "| epoch   7 |  1000/ 1782 batches | accuracy    0.937\n",
            "| epoch   7 |  1500/ 1782 batches | accuracy    0.938\n",
            "-----------------------------------------------------------\n",
            "| end of epoch   7 | time : 15.13s | valid accuracy    0.913\n",
            "-----------------------------------------------------------\n",
            "| epoch   8 |   500/ 1782 batches | accuracy    0.939\n",
            "| epoch   8 |  1000/ 1782 batches | accuracy    0.940\n",
            "| epoch   8 |  1500/ 1782 batches | accuracy    0.940\n",
            "-----------------------------------------------------------\n",
            "| end of epoch   8 | time : 15.40s | valid accuracy    0.915\n",
            "-----------------------------------------------------------\n",
            "| epoch   9 |   500/ 1782 batches | accuracy    0.942\n",
            "| epoch   9 |  1000/ 1782 batches | accuracy    0.940\n",
            "| epoch   9 |  1500/ 1782 batches | accuracy    0.941\n",
            "-----------------------------------------------------------\n",
            "| end of epoch   9 | time : 15.10s | valid accuracy    0.915\n",
            "-----------------------------------------------------------\n",
            "| epoch  10 |   500/ 1782 batches | accuracy    0.941\n",
            "| epoch  10 |  1000/ 1782 batches | accuracy    0.940\n",
            "| epoch  10 |  1500/ 1782 batches | accuracy    0.942\n",
            "-----------------------------------------------------------\n",
            "| end of epoch  10 | time : 15.23s | valid accuracy    0.914\n",
            "-----------------------------------------------------------\n"
          ],
          "name": "stdout"
        }
      ]
    },
    {
      "cell_type": "markdown",
      "metadata": {
        "id": "hJW453cGk-21"
      },
      "source": [
        "### Evalute the model with test dataset"
      ]
    },
    {
      "cell_type": "code",
      "metadata": {
        "colab": {
          "base_uri": "https://localhost:8080/"
        },
        "id": "N6sUJlHrc2r5",
        "outputId": "68019043-cbf1-4e59-f572-0bb2410dadfc"
      },
      "source": [
        "print('Cheking the results of test dataset.')\n",
        "accu_test = evaluate(test_dataloader)\n",
        "print('test accuracy {:8.3f}'.format(accu_test))"
      ],
      "execution_count": 30,
      "outputs": [
        {
          "output_type": "stream",
          "text": [
            "Cheking the results of test dataset.\n",
            "test accuracy    0.907\n"
          ],
          "name": "stdout"
        }
      ]
    },
    {
      "cell_type": "markdown",
      "metadata": {
        "id": "oztvRpHrlc8p"
      },
      "source": [
        "### Test on a random new"
      ]
    },
    {
      "cell_type": "code",
      "metadata": {
        "id": "P0ixe15IlYRB"
      },
      "source": [
        "ag_news_label = {1: \"World\",\n",
        "                 2: \"Sports\",\n",
        "                 3: \"Business\",\n",
        "                 4: \"Sci/Tec\"}\n",
        "\n",
        "def predict(text, text_pipeline):\n",
        "  with torch.no_grad():\n",
        "    text = torch.tensor(text_pipeline(text))\n",
        "    output = model(text, torch.tensor([0]))\n",
        "    return output.argmax(1).item() + 1\n"
      ],
      "execution_count": 35,
      "outputs": []
    },
    {
      "cell_type": "code",
      "metadata": {
        "colab": {
          "base_uri": "https://localhost:8080/"
        },
        "id": "p-mBQ5knmbjh",
        "outputId": "2b9b7f3a-010c-426b-f00a-79bb8f509fbe"
      },
      "source": [
        "ex_text_str = \"MEMPHIS, Tenn. – Four days ago, Jon Rahm was \\\n",
        "    enduring the season’s worst weather conditions on Sunday at The \\\n",
        "    Open on his way to a closing 75 at Royal Portrush, which \\\n",
        "    considering the wind and the rain was a respectable showing. \\\n",
        "    Thursday’s first round at the WGC-FedEx St. Jude Invitational \\\n",
        "    was another story. With temperatures in the mid-80s and hardly any \\\n",
        "    wind, the Spaniard was 13 strokes better in a flawless round. \\\n",
        "    Thanks to his best putting performance on the PGA Tour, Rahm \\\n",
        "    finished with an 8-under 62 for a three-stroke lead, which \\\n",
        "    was even more impressive considering he’d never played the \\\n",
        "    front nine at TPC Southwind.\"\n",
        "\n",
        "print(f'This is {ag_news_label[predict(ex_text_str, text_pipeline)]} news')"
      ],
      "execution_count": 36,
      "outputs": [
        {
          "output_type": "stream",
          "text": [
            "This is Sports news\n"
          ],
          "name": "stdout"
        }
      ]
    }
  ]
}