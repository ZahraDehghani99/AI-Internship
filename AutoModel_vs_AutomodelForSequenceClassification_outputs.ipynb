{
  "cells": [
    {
      "cell_type": "markdown",
      "metadata": {
        "id": "view-in-github",
        "colab_type": "text"
      },
      "source": [
        "<a href=\"https://colab.research.google.com/github/ZahraDehghani99/AI-Internship/blob/master/AutoModel_vs_AutomodelForSequenceClassification_outputs.ipynb\" target=\"_parent\"><img src=\"https://colab.research.google.com/assets/colab-badge.svg\" alt=\"Open In Colab\"/></a>"
      ]
    },
    {
      "cell_type": "markdown",
      "metadata": {
        "id": "CkPz3JDDaHmR"
      },
      "source": [
        "# Ouput parameters of `AutoModel` and `AutoModelForSequenceClassification` Classes"
      ]
    },
    {
      "cell_type": "markdown",
      "metadata": {
        "id": "EyVzd6GnZXSs"
      },
      "source": [
        "## Prerequisits"
      ]
    },
    {
      "cell_type": "code",
      "execution_count": null,
      "metadata": {
        "colab": {
          "background_save": true,
          "base_uri": "https://localhost:8080/"
        },
        "id": "7H-EbnE_Gzv7",
        "outputId": "371697d2-c284-4bad-f064-f1c2fc312989"
      },
      "outputs": [
        {
          "name": "stdout",
          "output_type": "stream",
          "text": [
            "\u001b[2K     \u001b[90m━━━━━━━━━━━━━━━━━━━━━━━━━━━━━━━━━━━━━━━━\u001b[0m \u001b[32m507.1/507.1 kB\u001b[0m \u001b[31m7.1 MB/s\u001b[0m eta \u001b[36m0:00:00\u001b[0m\n",
            "\u001b[2K     \u001b[90m━━━━━━━━━━━━━━━━━━━━━━━━━━━━━━━━━━━━━━━━\u001b[0m \u001b[32m115.3/115.3 kB\u001b[0m \u001b[31m7.8 MB/s\u001b[0m eta \u001b[36m0:00:00\u001b[0m\n",
            "\u001b[2K     \u001b[90m━━━━━━━━━━━━━━━━━━━━━━━━━━━━━━━━━━━━━━━━\u001b[0m \u001b[32m134.8/134.8 kB\u001b[0m \u001b[31m9.1 MB/s\u001b[0m eta \u001b[36m0:00:00\u001b[0m\n",
            "\u001b[?25h"
          ]
        }
      ],
      "source": [
        "!pip install -q transformers datasets"
      ]
    },
    {
      "cell_type": "code",
      "execution_count": null,
      "metadata": {
        "colab": {
          "background_save": true,
          "base_uri": "https://localhost:8080/"
        },
        "id": "JWY0PGv807y6",
        "outputId": "70abfc17-298c-4f6e-cbdd-ac7a7391415e"
      },
      "outputs": [
        {
          "name": "stdout",
          "output_type": "stream",
          "text": [
            "Found existing installation: transformers 4.35.2\n",
            "Uninstalling transformers-4.35.2:\n",
            "  Successfully uninstalled transformers-4.35.2\n",
            "\u001b[33mWARNING: Skipping accelerate as it is not installed.\u001b[0m\u001b[33m\n",
            "\u001b[2K     \u001b[90m━━━━━━━━━━━━━━━━━━━━━━━━━━━━━━━━━━━━━━━━\u001b[0m \u001b[32m8.2/8.2 MB\u001b[0m \u001b[31m48.8 MB/s\u001b[0m eta \u001b[36m0:00:00\u001b[0m\n",
            "\u001b[2K     \u001b[90m━━━━━━━━━━━━━━━━━━━━━━━━━━━━━━━━━━━━━━━━\u001b[0m \u001b[32m265.7/265.7 kB\u001b[0m \u001b[31m25.2 MB/s\u001b[0m eta \u001b[36m0:00:00\u001b[0m\n",
            "\u001b[?25h"
          ]
        }
      ],
      "source": [
        "!pip uninstall -y transformers accelerate\n",
        "!pip install -q transformers accelerate"
      ]
    },
    {
      "cell_type": "code",
      "execution_count": null,
      "metadata": {
        "colab": {
          "background_save": true
        },
        "id": "xcW97gUfwFD_"
      },
      "outputs": [],
      "source": [
        "import pandas as pd\n",
        "import numpy as np\n",
        "import pickle\n",
        "\n",
        "import matplotlib.pyplot as plt\n",
        "import seaborn as sns\n",
        "\n",
        "from sklearn.metrics import classification_report\n",
        "from sklearn.metrics import accuracy_score\n",
        "from sklearn import metrics\n",
        "\n",
        "import warnings\n",
        "warnings.filterwarnings('ignore')"
      ]
    },
    {
      "cell_type": "code",
      "execution_count": null,
      "metadata": {
        "colab": {
          "background_save": true
        },
        "id": "r7AfLl5-u-WE"
      },
      "outputs": [],
      "source": [
        "import torch\n",
        "device = torch.device(\"cuda\" if torch.cuda.is_available() else \"cpu\")"
      ]
    },
    {
      "cell_type": "markdown",
      "metadata": {
        "id": "jhxEYJP6axYN"
      },
      "source": [
        "## BERT-base"
      ]
    },
    {
      "cell_type": "markdown",
      "metadata": {
        "id": "y1cJFCmEnCzt"
      },
      "source": [
        "BertModel => [source code](https://huggingface.co/docs/transformers/v4.35.2/en/model_doc/bert#transformers.**BertModel**)\n",
        "\n",
        "\n",
        "BertModelForSequenceClassification => [source code](https://huggingface.co/docs/transformers/v4.35.2/en/model_doc/bert#transformers.BertForSequenceClassification)"
      ]
    },
    {
      "cell_type": "markdown",
      "metadata": {
        "id": "WYRJx7dAuB44"
      },
      "source": [
        "### Tokenizer"
      ]
    },
    {
      "cell_type": "code",
      "execution_count": null,
      "metadata": {
        "colab": {
          "background_save": true,
          "base_uri": "https://localhost:8080/",
          "height": 145,
          "referenced_widgets": [
            "4de46e05d24b4cf9bebbabecb2fc2837",
            "f90acf6e6bd34947994d1e1cc778b2aa",
            "0e6ed2a8165e4d6fbf6cc0efdef4a937",
            "8d6c022ce7974994bc4bffaa4da00210"
          ]
        },
        "id": "A7N9UdYCYrPr",
        "outputId": "3ffd1881-34c7-4e05-8991-62d6d87f0314"
      },
      "outputs": [
        {
          "data": {
            "application/vnd.jupyter.widget-view+json": {
              "model_id": "4de46e05d24b4cf9bebbabecb2fc2837",
              "version_major": 2,
              "version_minor": 0
            },
            "text/plain": [
              "tokenizer_config.json:   0%|          | 0.00/28.0 [00:00<?, ?B/s]"
            ]
          },
          "metadata": {},
          "output_type": "display_data"
        },
        {
          "data": {
            "application/vnd.jupyter.widget-view+json": {
              "model_id": "f90acf6e6bd34947994d1e1cc778b2aa",
              "version_major": 2,
              "version_minor": 0
            },
            "text/plain": [
              "config.json:   0%|          | 0.00/570 [00:00<?, ?B/s]"
            ]
          },
          "metadata": {},
          "output_type": "display_data"
        },
        {
          "data": {
            "application/vnd.jupyter.widget-view+json": {
              "model_id": "0e6ed2a8165e4d6fbf6cc0efdef4a937",
              "version_major": 2,
              "version_minor": 0
            },
            "text/plain": [
              "vocab.txt:   0%|          | 0.00/232k [00:00<?, ?B/s]"
            ]
          },
          "metadata": {},
          "output_type": "display_data"
        },
        {
          "data": {
            "application/vnd.jupyter.widget-view+json": {
              "model_id": "8d6c022ce7974994bc4bffaa4da00210",
              "version_major": 2,
              "version_minor": 0
            },
            "text/plain": [
              "tokenizer.json:   0%|          | 0.00/466k [00:00<?, ?B/s]"
            ]
          },
          "metadata": {},
          "output_type": "display_data"
        }
      ],
      "source": [
        "from transformers import AutoTokenizer\n",
        "\n",
        "model_ckpt = \"bert-base-uncased\"\n",
        "tokenizer = AutoTokenizer.from_pretrained(model_ckpt)"
      ]
    },
    {
      "cell_type": "code",
      "execution_count": null,
      "metadata": {
        "colab": {
          "background_save": true,
          "base_uri": "https://localhost:8080/"
        },
        "id": "R4ymeg94YrPr",
        "outputId": "59394b40-f031-445b-f247-7d11676bf7f9"
      },
      "outputs": [
        {
          "data": {
            "text/plain": [
              "BertTokenizerFast(name_or_path='bert-base-uncased', vocab_size=30522, model_max_length=512, is_fast=True, padding_side='right', truncation_side='right', special_tokens={'unk_token': '[UNK]', 'sep_token': '[SEP]', 'pad_token': '[PAD]', 'cls_token': '[CLS]', 'mask_token': '[MASK]'}, clean_up_tokenization_spaces=True),  added_tokens_decoder={\n",
              "\t0: AddedToken(\"[PAD]\", rstrip=False, lstrip=False, single_word=False, normalized=False, special=True),\n",
              "\t100: AddedToken(\"[UNK]\", rstrip=False, lstrip=False, single_word=False, normalized=False, special=True),\n",
              "\t101: AddedToken(\"[CLS]\", rstrip=False, lstrip=False, single_word=False, normalized=False, special=True),\n",
              "\t102: AddedToken(\"[SEP]\", rstrip=False, lstrip=False, single_word=False, normalized=False, special=True),\n",
              "\t103: AddedToken(\"[MASK]\", rstrip=False, lstrip=False, single_word=False, normalized=False, special=True),\n",
              "}"
            ]
          },
          "execution_count": 6,
          "metadata": {},
          "output_type": "execute_result"
        }
      ],
      "source": [
        "tokenizer"
      ]
    },
    {
      "cell_type": "code",
      "execution_count": null,
      "metadata": {
        "colab": {
          "background_save": true,
          "base_uri": "https://localhost:8080/"
        },
        "id": "LHXpVt9-YrPt",
        "outputId": "a2a049b4-303b-464a-f1a6-c8a31d9a6c95"
      },
      "outputs": [
        {
          "data": {
            "text/plain": [
              "30522"
            ]
          },
          "execution_count": 7,
          "metadata": {},
          "output_type": "execute_result"
        }
      ],
      "source": [
        "tokenizer.vocab_size"
      ]
    },
    {
      "cell_type": "code",
      "execution_count": null,
      "metadata": {
        "colab": {
          "background_save": true,
          "base_uri": "https://localhost:8080/"
        },
        "id": "K07gctwwYrPt",
        "outputId": "4f306571-17ee-44c7-a6df-48786a61625e"
      },
      "outputs": [
        {
          "data": {
            "text/plain": [
              "512"
            ]
          },
          "execution_count": 8,
          "metadata": {},
          "output_type": "execute_result"
        }
      ],
      "source": [
        "tokenizer.model_max_length"
      ]
    },
    {
      "cell_type": "code",
      "execution_count": null,
      "metadata": {
        "colab": {
          "background_save": true,
          "base_uri": "https://localhost:8080/"
        },
        "id": "3xFVbj5-YrPt",
        "outputId": "7f020d68-9e48-4773-921c-9d51986b6e85"
      },
      "outputs": [
        {
          "data": {
            "text/plain": [
              "['input_ids', 'token_type_ids', 'attention_mask']"
            ]
          },
          "execution_count": 9,
          "metadata": {},
          "output_type": "execute_result"
        }
      ],
      "source": [
        "tokenizer.model_input_names"
      ]
    },
    {
      "cell_type": "code",
      "execution_count": null,
      "metadata": {
        "colab": {
          "background_save": true
        },
        "id": "YHHqw0P2uRhS"
      },
      "outputs": [],
      "source": [
        "text = \"this is a test\""
      ]
    },
    {
      "cell_type": "code",
      "execution_count": null,
      "metadata": {
        "colab": {
          "background_save": true
        },
        "id": "Huf9vS7aooUj"
      },
      "outputs": [],
      "source": [
        "inputs = tokenizer(text, return_tensors=\"pt\")"
      ]
    },
    {
      "cell_type": "code",
      "execution_count": null,
      "metadata": {
        "colab": {
          "background_save": true,
          "base_uri": "https://localhost:8080/"
        },
        "id": "JRkSmgRnpZ00",
        "outputId": "b7787f96-49c6-4fdc-d3ad-7143c8dd2f04"
      },
      "outputs": [
        {
          "data": {
            "text/plain": [
              "{'input_ids': tensor([[ 101, 2023, 2003, 1037, 3231,  102]]), 'token_type_ids': tensor([[0, 0, 0, 0, 0, 0]]), 'attention_mask': tensor([[1, 1, 1, 1, 1, 1]])}"
            ]
          },
          "execution_count": 12,
          "metadata": {},
          "output_type": "execute_result"
        }
      ],
      "source": [
        "inputs"
      ]
    },
    {
      "cell_type": "code",
      "execution_count": null,
      "metadata": {
        "colab": {
          "background_save": true,
          "base_uri": "https://localhost:8080/"
        },
        "id": "DkSBHA6zpbR3",
        "outputId": "6a28c0fd-7dd5-4a4f-acf3-9ba01a0779fa"
      },
      "outputs": [
        {
          "data": {
            "text/plain": [
              "transformers.tokenization_utils_base.BatchEncoding"
            ]
          },
          "execution_count": 13,
          "metadata": {},
          "output_type": "execute_result"
        }
      ],
      "source": [
        "type(inputs)"
      ]
    },
    {
      "cell_type": "markdown",
      "metadata": {
        "id": "Oii5NEmxu1Jy"
      },
      "source": [
        "### AutoModel class (output_hidden_states = False)"
      ]
    },
    {
      "cell_type": "code",
      "execution_count": null,
      "metadata": {
        "colab": {
          "base_uri": "https://localhost:8080/",
          "height": 49,
          "referenced_widgets": [
            "8a98b68004894365a8f0c94370c94705",
            "4a56c3f9777e4f3c995ff83cd47785a1",
            "db6f77be4fb747a4a2035ab14389157f",
            "d4ec70653174410c9b050be48957ddbe",
            "a3d0542ee620440085fd6fda18d4a1e7",
            "e200653a13ed49499b4cd41a9ee41f8f",
            "dded47eb307d4a17bfc106037c8b410e",
            "58896b4ef1514a1d8ba971a61f5449fa",
            "d40017237d214a49bf5b50d528559f1f",
            "8f714724632d48dabe1b733372cd8c90",
            "c8edf0af0c6a49ef8bd25577c6cbeefb"
          ]
        },
        "id": "Z8ZZIXaFu1Jy",
        "outputId": "43ddbc5d-910d-495d-9cec-114cfbf0a4bf"
      },
      "outputs": [
        {
          "data": {
            "application/vnd.jupyter.widget-view+json": {
              "model_id": "8a98b68004894365a8f0c94370c94705",
              "version_major": 2,
              "version_minor": 0
            },
            "text/plain": [
              "model.safetensors:   0%|          | 0.00/440M [00:00<?, ?B/s]"
            ]
          },
          "metadata": {},
          "output_type": "display_data"
        }
      ],
      "source": [
        "from transformers import AutoModel\n",
        "\n",
        "num_labels = 4\n",
        "model = (AutoModel.from_pretrained(model_ckpt, num_labels=num_labels).to(device))"
      ]
    },
    {
      "cell_type": "code",
      "execution_count": null,
      "metadata": {
        "colab": {
          "base_uri": "https://localhost:8080/"
        },
        "id": "FaUW8GqAu1Jy",
        "outputId": "28b9133d-90a2-4377-9036-506f89cc60c5"
      },
      "outputs": [
        {
          "data": {
            "text/plain": [
              "BertModel(\n",
              "  (embeddings): BertEmbeddings(\n",
              "    (word_embeddings): Embedding(30522, 768, padding_idx=0)\n",
              "    (position_embeddings): Embedding(512, 768)\n",
              "    (token_type_embeddings): Embedding(2, 768)\n",
              "    (LayerNorm): LayerNorm((768,), eps=1e-12, elementwise_affine=True)\n",
              "    (dropout): Dropout(p=0.1, inplace=False)\n",
              "  )\n",
              "  (encoder): BertEncoder(\n",
              "    (layer): ModuleList(\n",
              "      (0-11): 12 x BertLayer(\n",
              "        (attention): BertAttention(\n",
              "          (self): BertSelfAttention(\n",
              "            (query): Linear(in_features=768, out_features=768, bias=True)\n",
              "            (key): Linear(in_features=768, out_features=768, bias=True)\n",
              "            (value): Linear(in_features=768, out_features=768, bias=True)\n",
              "            (dropout): Dropout(p=0.1, inplace=False)\n",
              "          )\n",
              "          (output): BertSelfOutput(\n",
              "            (dense): Linear(in_features=768, out_features=768, bias=True)\n",
              "            (LayerNorm): LayerNorm((768,), eps=1e-12, elementwise_affine=True)\n",
              "            (dropout): Dropout(p=0.1, inplace=False)\n",
              "          )\n",
              "        )\n",
              "        (intermediate): BertIntermediate(\n",
              "          (dense): Linear(in_features=768, out_features=3072, bias=True)\n",
              "          (intermediate_act_fn): GELUActivation()\n",
              "        )\n",
              "        (output): BertOutput(\n",
              "          (dense): Linear(in_features=3072, out_features=768, bias=True)\n",
              "          (LayerNorm): LayerNorm((768,), eps=1e-12, elementwise_affine=True)\n",
              "          (dropout): Dropout(p=0.1, inplace=False)\n",
              "        )\n",
              "      )\n",
              "    )\n",
              "  )\n",
              "  (pooler): BertPooler(\n",
              "    (dense): Linear(in_features=768, out_features=768, bias=True)\n",
              "    (activation): Tanh()\n",
              "  )\n",
              ")"
            ]
          },
          "execution_count": 15,
          "metadata": {},
          "output_type": "execute_result"
        }
      ],
      "source": [
        "model"
      ]
    },
    {
      "cell_type": "code",
      "execution_count": null,
      "metadata": {
        "colab": {
          "base_uri": "https://localhost:8080/"
        },
        "id": "8cbQ0WVhPy0B",
        "outputId": "d35b23b4-c714-4ba2-ce78-3c3259d77613"
      },
      "outputs": [
        {
          "data": {
            "text/plain": [
              "BertLayer(\n",
              "  (attention): BertAttention(\n",
              "    (self): BertSelfAttention(\n",
              "      (query): Linear(in_features=768, out_features=768, bias=True)\n",
              "      (key): Linear(in_features=768, out_features=768, bias=True)\n",
              "      (value): Linear(in_features=768, out_features=768, bias=True)\n",
              "      (dropout): Dropout(p=0.1, inplace=False)\n",
              "    )\n",
              "    (output): BertSelfOutput(\n",
              "      (dense): Linear(in_features=768, out_features=768, bias=True)\n",
              "      (LayerNorm): LayerNorm((768,), eps=1e-12, elementwise_affine=True)\n",
              "      (dropout): Dropout(p=0.1, inplace=False)\n",
              "    )\n",
              "  )\n",
              "  (intermediate): BertIntermediate(\n",
              "    (dense): Linear(in_features=768, out_features=3072, bias=True)\n",
              "    (intermediate_act_fn): GELUActivation()\n",
              "  )\n",
              "  (output): BertOutput(\n",
              "    (dense): Linear(in_features=3072, out_features=768, bias=True)\n",
              "    (LayerNorm): LayerNorm((768,), eps=1e-12, elementwise_affine=True)\n",
              "    (dropout): Dropout(p=0.1, inplace=False)\n",
              "  )\n",
              ")"
            ]
          },
          "execution_count": 18,
          "metadata": {},
          "output_type": "execute_result"
        }
      ],
      "source": [
        "model.encoder.layer[-2]"
      ]
    },
    {
      "cell_type": "code",
      "execution_count": null,
      "metadata": {
        "id": "K-V1yt5lu1Jy"
      },
      "outputs": [],
      "source": [
        "# previous inputs object don't have device type, so we should place them on the same device as the model (if we don't run this code and our model is in GPU, there will be a problem becaue the place of tensors and model is different.)\n",
        "inputs = {k:v.to(device) for k,v in inputs.items()}"
      ]
    },
    {
      "cell_type": "code",
      "execution_count": null,
      "metadata": {
        "colab": {
          "base_uri": "https://localhost:8080/"
        },
        "id": "uJb4EVU3u1Jy",
        "outputId": "b2849733-69c1-46aa-ac1d-761b1d7aabdd"
      },
      "outputs": [
        {
          "data": {
            "text/plain": [
              "{'input_ids': tensor([[ 101, 2023, 2003, 1037, 3231,  102]]),\n",
              " 'token_type_ids': tensor([[0, 0, 0, 0, 0, 0]]),\n",
              " 'attention_mask': tensor([[1, 1, 1, 1, 1, 1]])}"
            ]
          },
          "execution_count": 21,
          "metadata": {},
          "output_type": "execute_result"
        }
      ],
      "source": [
        "inputs"
      ]
    },
    {
      "cell_type": "code",
      "execution_count": null,
      "metadata": {
        "colab": {
          "base_uri": "https://localhost:8080/"
        },
        "id": "SI6V8Rxnu1Jy",
        "outputId": "c35f836f-a983-4945-8d93-fe019578cb8c"
      },
      "outputs": [
        {
          "data": {
            "text/plain": [
              "dict"
            ]
          },
          "execution_count": 22,
          "metadata": {},
          "output_type": "execute_result"
        }
      ],
      "source": [
        "type(inputs)"
      ]
    },
    {
      "cell_type": "code",
      "execution_count": null,
      "metadata": {
        "id": "Yizy6Bwyu1Jy"
      },
      "outputs": [],
      "source": [
        "with torch.no_grad():\n",
        "  outputs = model(**inputs)"
      ]
    },
    {
      "cell_type": "code",
      "execution_count": null,
      "metadata": {
        "colab": {
          "base_uri": "https://localhost:8080/"
        },
        "id": "EFJ9jDmKu1Jy",
        "outputId": "a8b1d3b7-2a69-413d-846a-aa5585dc1eb5"
      },
      "outputs": [
        {
          "data": {
            "text/plain": [
              "BaseModelOutputWithPoolingAndCrossAttentions(last_hidden_state=tensor([[[-0.0260,  0.1920,  0.0344,  ..., -0.1346,  0.0773,  0.2477],\n",
              "         [-0.5674, -0.2561,  0.3124,  ..., -0.7818,  0.2190,  0.5927],\n",
              "         [-0.2362, -0.3177,  0.6953,  ..., -0.2110,  0.1040,  0.9891],\n",
              "         [-0.1820, -0.3069,  1.0218,  ..., -0.1590,  0.0841,  1.3962],\n",
              "         [ 0.0534, -0.4904, -0.0244,  ...,  0.1503,  0.1478, -0.2623],\n",
              "         [ 0.7536,  0.1498, -0.2997,  ...,  0.0948, -0.8660, -0.2169]]]), pooler_output=tensor([[-8.1014e-01, -1.6611e-01,  6.8871e-01,  5.6120e-01, -4.2450e-01,\n",
              "         -1.0617e-01,  8.4508e-01,  1.5211e-01,  4.0698e-01, -9.9904e-01,\n",
              "          3.3192e-01, -2.4647e-01,  9.5928e-01, -3.5368e-01,  8.7687e-01,\n",
              "         -4.3937e-01,  1.3539e-02, -4.6144e-01,  2.8962e-01, -7.3881e-01,\n",
              "          4.2921e-01,  2.6882e-01,  6.9294e-01,  1.8854e-01,  2.5857e-01,\n",
              "         -3.1407e-01, -3.8146e-01,  8.7916e-01,  9.1173e-01,  5.7387e-01,\n",
              "         -6.2304e-01,  1.1765e-01, -9.5845e-01, -1.3886e-01,  6.2574e-01,\n",
              "         -9.4867e-01,  5.1345e-02, -6.7462e-01,  1.4575e-02,  3.4477e-02,\n",
              "         -8.2107e-01,  1.9136e-01,  9.7657e-01, -4.6747e-01, -1.6186e-01,\n",
              "         -2.9812e-01, -9.9659e-01,  1.4625e-01, -7.9653e-01, -6.0099e-01,\n",
              "         -4.7811e-01, -7.4876e-01,  1.0094e-01,  2.5489e-01,  2.9220e-01,\n",
              "          4.2842e-01, -1.2625e-01,  1.3058e-01, -4.4772e-02, -4.1464e-01,\n",
              "         -5.1866e-01,  1.4801e-01,  4.3303e-01, -8.2359e-01, -6.0051e-01,\n",
              "         -6.6067e-01,  1.2570e-03, -1.2239e-01, -1.3264e-03, -4.5606e-02,\n",
              "          7.8948e-01,  1.6320e-01,  3.8474e-01, -6.6386e-01, -5.5557e-01,\n",
              "          6.9906e-02, -2.9340e-01,  9.9978e-01, -2.9074e-01, -9.4301e-01,\n",
              "         -6.2945e-01, -3.9875e-01,  2.1076e-01,  6.6782e-01, -5.9335e-01,\n",
              "         -9.9913e-01,  1.9650e-01, -6.0086e-02, -9.6973e-01,  8.4798e-02,\n",
              "          1.2848e-01, -1.4296e-01, -6.1470e-01,  2.1716e-01, -1.1278e-01,\n",
              "         -1.6062e-02, -1.8047e-01,  5.8491e-01, -3.7388e-02,  1.0014e-01,\n",
              "         -2.3879e-02, -1.7792e-01,  7.3633e-02, -2.1542e-01,  2.3724e-02,\n",
              "         -1.9220e-01, -3.9050e-01,  1.1195e-01, -2.5829e-01,  5.3267e-01,\n",
              "          1.9710e-01, -1.5358e-01,  1.6759e-01, -9.0448e-01,  4.9756e-01,\n",
              "         -1.3687e-01, -9.5181e-01, -2.6045e-01, -9.5953e-01,  5.2455e-01,\n",
              "          1.4475e-01, -5.8663e-02,  9.2970e-01,  6.2884e-01,  1.4700e-01,\n",
              "          3.7139e-02,  6.2656e-01, -9.9990e-01, -8.1392e-02, -2.1551e-02,\n",
              "          3.2815e-01, -2.9969e-04, -9.3799e-01, -8.7944e-01,  4.4797e-01,\n",
              "          9.1945e-01,  6.7201e-02,  9.6768e-01, -1.1873e-01,  8.4968e-01,\n",
              "          2.7831e-01,  1.0086e-01, -5.2672e-01, -2.5970e-01,  1.5959e-01,\n",
              "          3.7818e-01, -6.1081e-01,  1.4936e-01,  2.2859e-01, -2.4298e-01,\n",
              "          1.9717e-01, -1.8259e-01,  4.3774e-01, -8.7790e-01, -3.2733e-01,\n",
              "          8.7245e-01,  3.9658e-01,  6.3935e-01,  7.2243e-01, -1.4116e-01,\n",
              "         -2.7995e-01,  7.2586e-01,  2.2290e-01,  2.0089e-01,  6.1906e-02,\n",
              "          2.9042e-01, -1.8204e-01,  3.3185e-01, -7.8349e-01,  3.5094e-01,\n",
              "          2.9368e-01, -7.0230e-02,  6.0536e-01, -9.3526e-01, -1.6372e-01,\n",
              "          3.2373e-01,  9.6008e-01,  6.3719e-01,  1.1130e-01, -1.7440e-01,\n",
              "         -1.6764e-01, -2.7055e-03, -8.6289e-01,  9.3495e-01, -5.8145e-02,\n",
              "          1.4431e-01,  6.4862e-01, -2.3701e-01, -8.1176e-01, -4.6714e-01,\n",
              "          7.6728e-01,  1.9434e-01, -7.4963e-01,  1.0501e-01, -3.6819e-01,\n",
              "         -2.9939e-01,  5.1876e-01,  3.7450e-01, -2.2932e-01, -3.0661e-01,\n",
              "          6.2097e-02,  8.6084e-01,  9.3904e-01,  6.9059e-01, -6.4954e-01,\n",
              "          4.2808e-01, -8.1132e-01, -2.3710e-01,  4.6992e-02,  2.0154e-01,\n",
              "          1.2975e-02,  9.7959e-01,  2.0972e-01, -8.1997e-02, -8.7020e-01,\n",
              "         -9.5653e-01, -5.1115e-03, -8.1094e-01,  8.0974e-02, -5.3510e-01,\n",
              "          8.4649e-02,  7.1448e-01, -2.5498e-01,  2.9358e-01, -9.6405e-01,\n",
              "         -7.3234e-01,  2.2070e-01, -9.0099e-02,  2.7925e-01, -1.8913e-01,\n",
              "          6.3940e-02, -5.3628e-01, -4.3701e-01,  7.6866e-01,  7.9925e-01,\n",
              "          7.1712e-01, -5.4809e-01,  7.6632e-01, -1.9306e-01,  8.0714e-01,\n",
              "         -4.4083e-01,  9.1704e-01, -4.0982e-01,  2.6355e-01, -8.5143e-01,\n",
              "          5.4685e-01, -8.6730e-01,  3.8762e-01, -1.7283e-02, -7.0376e-01,\n",
              "         -4.7805e-01,  2.5609e-01,  1.3615e-01,  8.1049e-01, -3.1496e-01,\n",
              "          9.9015e-01, -3.1176e-03, -8.8430e-01,  6.4003e-01,  4.9027e-02,\n",
              "         -9.5700e-01, -4.0329e-01,  1.4249e-01, -7.1941e-01, -1.8932e-01,\n",
              "         -2.5175e-01, -8.8674e-01,  8.0924e-01,  9.6179e-02,  9.6767e-01,\n",
              "          1.5721e-01, -8.6234e-01, -1.4904e-01, -7.7120e-01, -2.1673e-01,\n",
              "         -5.4306e-03,  7.2208e-01, -1.8350e-01, -9.1231e-01,  3.4395e-01,\n",
              "          4.4824e-01,  2.3878e-01,  7.5155e-01,  9.8591e-01,  9.2647e-01,\n",
              "          9.4021e-01,  8.1001e-01,  8.3063e-01,  3.2292e-02,  2.7754e-01,\n",
              "          9.9948e-01,  1.5751e-01, -9.9637e-01, -9.0362e-01, -4.2698e-01,\n",
              "          2.7537e-01, -9.9986e-01, -4.9929e-02,  5.3152e-02, -8.2346e-01,\n",
              "         -5.1539e-01,  9.5147e-01,  9.7265e-01, -9.9952e-01,  7.8033e-01,\n",
              "          8.8436e-01, -3.3418e-01, -2.5016e-01, -6.6673e-02,  9.3727e-01,\n",
              "          2.2227e-01,  2.7983e-01, -1.0442e-01,  1.4937e-01,  4.4243e-01,\n",
              "         -7.4751e-01,  5.2131e-01,  6.1683e-01, -3.2769e-01,  5.2526e-02,\n",
              "         -5.9922e-01, -8.6110e-01, -4.0902e-01, -3.4705e-02, -3.1748e-01,\n",
              "         -9.0279e-01, -2.8453e-02, -5.0062e-01,  4.4687e-01,  3.7122e-02,\n",
              "          6.2662e-02, -6.9511e-01,  1.1580e-01, -6.9440e-01,  3.6308e-01,\n",
              "          3.7327e-01, -8.6332e-01, -5.2600e-01,  9.6755e-02, -5.1680e-01,\n",
              "          4.7846e-01, -8.8746e-01,  9.3668e-01, -1.6869e-01, -4.6131e-01,\n",
              "          9.9965e-01, -4.9597e-01, -7.7109e-01,  1.5017e-01,  6.6021e-02,\n",
              "         -1.7587e-03,  9.9949e-01,  8.4907e-02, -9.4391e-01, -2.4329e-01,\n",
              "          1.1654e-03, -2.2956e-01, -1.7586e-01,  9.8896e-01, -1.0476e-01,\n",
              "          5.1960e-01,  4.8725e-01,  8.9962e-01, -9.6646e-01, -5.0941e-01,\n",
              "         -8.4816e-01, -9.0902e-01,  9.1316e-01,  8.6604e-01,  6.9097e-02,\n",
              "         -4.7374e-01,  2.4400e-02,  2.2901e-01,  1.1900e-01, -9.3628e-01,\n",
              "          4.3007e-01,  3.6430e-01, -1.1133e-01,  8.4647e-01, -7.9057e-01,\n",
              "         -2.5083e-01,  3.4466e-01,  2.7093e-01,  4.6615e-01, -5.4862e-01,\n",
              "          3.0790e-01, -1.5740e-01,  2.4980e-02, -1.4321e-01,  2.5085e-01,\n",
              "         -9.3187e-01, -1.8801e-01,  9.9926e-01,  2.6486e-01, -6.9135e-01,\n",
              "         -6.8980e-02, -5.1954e-02, -3.7926e-01,  1.8187e-01,  2.7067e-01,\n",
              "         -1.6388e-01, -7.2318e-01, -4.4396e-01, -8.7934e-01, -9.4777e-01,\n",
              "          6.1199e-01,  1.0500e-01, -2.2164e-01,  9.8259e-01,  9.3567e-02,\n",
              "          1.6236e-02, -2.5199e-01, -4.0737e-01,  1.4732e-02,  4.8548e-01,\n",
              "         -6.8349e-01,  9.2892e-01, -1.6402e-01,  2.0980e-01,  7.6531e-01,\n",
              "          5.6083e-01, -2.0680e-01, -5.3923e-01, -2.7494e-02, -8.4411e-01,\n",
              "          5.2830e-02, -8.8688e-01,  9.0801e-01, -7.4967e-01,  1.7157e-01,\n",
              "          4.4103e-02, -3.1059e-01,  9.9952e-01,  5.6298e-01,  4.9188e-01,\n",
              "         -6.0436e-01,  8.1618e-01,  6.9184e-02, -6.4477e-01, -2.1770e-01,\n",
              "          4.1023e-02,  6.7474e-01, -1.2868e-01,  1.3075e-01, -9.2322e-01,\n",
              "         -5.5960e-01, -4.2912e-01, -9.5790e-01, -9.6913e-01,  6.6765e-01,\n",
              "          6.7463e-01,  9.8577e-04,  3.4389e-01, -4.8254e-01, -4.9487e-01,\n",
              "         -2.8873e-02, -7.5272e-02, -8.6728e-01,  6.5687e-01, -1.8353e-01,\n",
              "          2.9637e-01, -1.9001e-01,  2.6557e-01, -6.3740e-01,  7.6488e-01,\n",
              "          7.3902e-01,  2.5961e-01,  2.0581e-02, -6.7345e-01,  6.7745e-01,\n",
              "         -7.4420e-01,  5.8441e-01, -6.0455e-02,  9.9985e-01, -2.5985e-01,\n",
              "         -4.1957e-01,  6.2422e-01,  6.3481e-01,  3.1517e-02,  1.0284e-01,\n",
              "         -5.5178e-01,  1.9334e-02,  6.0685e-01,  6.6430e-01, -8.0056e-01,\n",
              "         -1.6140e-01,  3.9022e-01, -6.6428e-01, -5.7015e-01,  6.4309e-01,\n",
              "         -2.0783e-01, -4.8857e-02,  2.4656e-02,  5.6429e-02,  9.9559e-01,\n",
              "         -5.5688e-02, -1.8117e-02, -3.4175e-01,  7.6463e-02, -1.7274e-01,\n",
              "         -5.9856e-01,  9.9681e-01,  2.5150e-01, -3.2670e-01, -9.6387e-01,\n",
              "          5.1790e-01, -8.4959e-01,  8.4722e-01,  6.0875e-01, -7.7916e-01,\n",
              "          2.9298e-01,  7.0753e-02, -9.6499e-02,  6.9109e-01, -7.5745e-02,\n",
              "         -1.7583e-01,  2.6440e-02,  8.5952e-02,  9.0192e-01, -2.6143e-01,\n",
              "         -8.9764e-01, -4.3301e-01,  1.9760e-01, -9.1087e-01,  5.1347e-02,\n",
              "         -3.9226e-01, -6.3821e-02, -9.6620e-02,  4.5499e-01,  8.4757e-01,\n",
              "         -8.3653e-02, -9.3784e-01, -6.7000e-02, -1.1376e-01,  9.1566e-01,\n",
              "          1.0818e-01, -2.6901e-01, -8.6426e-01, -6.8781e-01, -3.4064e-01,\n",
              "          6.7674e-01, -8.5676e-01,  9.3066e-01, -9.5760e-01,  1.7653e-01,\n",
              "          9.9832e-01,  2.2115e-01, -7.4250e-01,  7.6070e-02, -3.4298e-01,\n",
              "          1.1094e-01,  4.2317e-01,  4.6860e-01, -9.0643e-01, -1.4344e-01,\n",
              "         -8.4931e-02,  1.1363e-01, -1.3019e-01,  5.6978e-01,  5.1346e-01,\n",
              "          1.0716e-01, -2.0165e-01, -3.3442e-01, -1.1409e-02,  2.7751e-01,\n",
              "          5.4247e-01, -1.7852e-01, -5.5484e-02,  3.8460e-02, -1.0104e-01,\n",
              "         -8.1416e-01, -1.1623e-01, -7.4685e-02, -5.2876e-01,  5.1719e-01,\n",
              "         -9.9974e-01, -5.4525e-01, -6.0631e-01, -1.5389e-01,  7.0590e-01,\n",
              "         -1.1926e-01, -2.2660e-01, -5.7208e-01,  6.0846e-01,  8.1818e-01,\n",
              "          5.7340e-01, -4.9903e-02,  3.5590e-01, -5.4659e-01,  1.3651e-02,\n",
              "         -4.6442e-02,  1.1406e-01,  3.1596e-01,  6.4894e-01, -6.1801e-02,\n",
              "          9.9988e-01,  3.3007e-04, -3.4036e-01, -9.3773e-01,  1.6707e-01,\n",
              "         -1.2611e-01,  9.6960e-01, -8.7040e-01, -8.7986e-01,  1.5899e-01,\n",
              "         -3.0401e-01, -7.0618e-01,  1.0710e-01, -1.9823e-02, -4.2272e-01,\n",
              "          4.4623e-01,  9.2783e-01,  8.2859e-01, -2.3911e-01,  2.0243e-01,\n",
              "         -1.8760e-01, -3.2287e-01, -4.2672e-02, -6.7096e-01,  9.5991e-01,\n",
              "          7.1243e-02,  8.4947e-01,  7.4722e-01,  2.0251e-01,  9.1680e-01,\n",
              "          1.0342e-01,  6.0291e-01, -9.2805e-03,  9.9823e-01,  1.6982e-01,\n",
              "         -8.7128e-01,  5.3222e-01, -9.7416e-01, -6.4534e-02, -9.1945e-01,\n",
              "          1.1309e-01, -2.8472e-02,  7.8029e-01, -1.6466e-01,  9.0593e-01,\n",
              "          6.5792e-01,  1.7201e-02,  3.6143e-01,  7.0553e-01,  2.1877e-01,\n",
              "         -8.3102e-01, -9.5996e-01, -9.6002e-01,  6.5820e-02, -3.3316e-01,\n",
              "         -4.0568e-02,  2.2680e-01,  1.2483e-01,  2.1638e-01,  2.2486e-01,\n",
              "         -9.9549e-01,  8.5246e-01,  2.5813e-01, -5.8581e-01,  9.0324e-01,\n",
              "         -5.7729e-02,  6.5848e-02,  1.0700e-01, -9.6288e-01, -9.2642e-01,\n",
              "         -2.2266e-01, -2.2434e-01,  6.5255e-01,  4.2166e-01,  7.6573e-01,\n",
              "          1.7960e-01, -4.1825e-01, -3.6287e-02,  5.2343e-01,  1.1889e-01,\n",
              "         -9.7330e-01,  2.7377e-01,  4.7110e-01, -9.3201e-01,  9.0592e-01,\n",
              "         -4.7861e-01, -1.4623e-01,  6.9056e-01,  4.8340e-01,  8.8651e-01,\n",
              "          6.2136e-01,  4.1561e-01,  7.9431e-02,  3.7686e-01,  7.8578e-01,\n",
              "          9.1874e-01,  9.6776e-01,  5.0637e-01,  7.0492e-01,  5.8290e-01,\n",
              "          2.4536e-01,  8.2670e-02, -8.6557e-01,  4.7132e-02, -1.6182e-01,\n",
              "          1.2523e-01,  1.1014e-01, -8.0892e-02, -9.2775e-01,  2.7580e-01,\n",
              "         -4.1624e-02,  2.4712e-01, -2.7430e-01,  1.9844e-01, -2.9948e-01,\n",
              "         -1.2126e-01, -6.1217e-01, -2.3204e-01,  3.5968e-01,  2.6346e-01,\n",
              "          8.5354e-01, -1.3583e-01,  2.3887e-02, -4.8816e-01, -1.1122e-02,\n",
              "          5.5415e-01, -8.3943e-01,  8.7378e-01,  5.3509e-02,  5.1533e-01,\n",
              "         -4.4813e-01, -1.0083e-01,  3.0493e-01, -4.4331e-01, -2.6303e-01,\n",
              "         -1.4627e-01, -6.5373e-01,  7.6143e-01,  2.7837e-02, -3.3078e-01,\n",
              "         -2.4260e-01,  4.8106e-01,  2.0433e-01,  3.1441e-01,  4.4136e-01,\n",
              "          5.0380e-01,  4.0833e-02, -5.9277e-02,  1.3313e-01, -7.9437e-02,\n",
              "         -9.9576e-01,  2.8045e-01,  4.7871e-01, -4.4232e-01,  3.7786e-01,\n",
              "         -6.4290e-01,  3.2359e-01, -9.4576e-01,  3.9177e-03, -2.9407e-01,\n",
              "         -4.8932e-01, -4.4471e-01, -9.3555e-02,  2.2494e-01,  6.5531e-01,\n",
              "         -4.2955e-01,  8.1863e-01,  2.8184e-01,  6.1618e-01,  2.9981e-01,\n",
              "          4.4352e-01, -5.0918e-01,  8.1965e-01]]), hidden_states=None, past_key_values=None, attentions=None, cross_attentions=None)"
            ]
          },
          "execution_count": 24,
          "metadata": {},
          "output_type": "execute_result"
        }
      ],
      "source": [
        "outputs"
      ]
    },
    {
      "cell_type": "code",
      "execution_count": null,
      "metadata": {
        "colab": {
          "base_uri": "https://localhost:8080/"
        },
        "id": "Dt6O5jeAu1Jy",
        "outputId": "d00c479c-dd28-4f6d-f392-13a7345229af"
      },
      "outputs": [
        {
          "name": "stdout",
          "output_type": "stream",
          "text": [
            "last_hidden_state\n",
            "pooler_output\n"
          ]
        }
      ],
      "source": [
        "for k, v in outputs.items():\n",
        "  print(k)"
      ]
    },
    {
      "cell_type": "markdown",
      "metadata": {
        "id": "WNe0vEjswl6u"
      },
      "source": [
        "As we can see, we set don't set `output_hidden_states = True`, so in the output, `hidden_states` parameter doesn't have value and we have value just for `last_hidden_state` and `pooler_output` parameters."
      ]
    },
    {
      "cell_type": "code",
      "execution_count": null,
      "metadata": {
        "id": "hmyxxY40u1Jz"
      },
      "outputs": [],
      "source": [
        "y = outputs[\"last_hidden_state\"]"
      ]
    },
    {
      "cell_type": "code",
      "execution_count": null,
      "metadata": {
        "colab": {
          "base_uri": "https://localhost:8080/"
        },
        "id": "kzFunru6xNSe",
        "outputId": "f0f91d28-5fd1-410f-b24d-31ab2ca89330"
      },
      "outputs": [
        {
          "data": {
            "text/plain": [
              "tensor([[[-0.0260,  0.1920,  0.0344,  ..., -0.1346,  0.0773,  0.2477],\n",
              "         [-0.5674, -0.2561,  0.3124,  ..., -0.7818,  0.2190,  0.5927],\n",
              "         [-0.2362, -0.3177,  0.6953,  ..., -0.2110,  0.1040,  0.9891],\n",
              "         [-0.1820, -0.3069,  1.0218,  ..., -0.1590,  0.0841,  1.3962],\n",
              "         [ 0.0534, -0.4904, -0.0244,  ...,  0.1503,  0.1478, -0.2623],\n",
              "         [ 0.7536,  0.1498, -0.2997,  ...,  0.0948, -0.8660, -0.2169]]])"
            ]
          },
          "execution_count": 30,
          "metadata": {},
          "output_type": "execute_result"
        }
      ],
      "source": [
        "y"
      ]
    },
    {
      "cell_type": "code",
      "execution_count": null,
      "metadata": {
        "colab": {
          "base_uri": "https://localhost:8080/"
        },
        "id": "nQPFOtynu1Jz",
        "outputId": "0c6ecdec-4f58-444b-8cf2-e3f857ec721e"
      },
      "outputs": [
        {
          "data": {
            "text/plain": [
              "torch.Size([1, 6, 768])"
            ]
          },
          "execution_count": 31,
          "metadata": {},
          "output_type": "execute_result"
        }
      ],
      "source": [
        "y.shape"
      ]
    },
    {
      "cell_type": "markdown",
      "metadata": {
        "id": "kOlTV1lKzI9U"
      },
      "source": [
        "It is obvious that `y` is the last hidden state in out model (hidden state that is corresponds to last layer(12th layer)). The shape of this object is like (batch_size, number of tokens, hidden size), out sentence has 5 tokens and as we know in transformers based models we always put `[CLS]` token at the begining of each **sequence** and `[SEP]` token at the end of each **sentence**. So, all in all we have 6 (4 tokens in sentenece + 2 special tokens) tokens. In this example we want to extract `[CLS]` token, so in this case we should select first token of this batch.\n",
        "\n",
        "For this aim these two lines of codes are the same and give us `[CLS]` token.\n",
        "\n",
        "```\n",
        "utputs.last_hidden_state[:,0]\n",
        "```\n",
        "and\n",
        "```\n",
        "outputs.last_hidden_state[:,0,:]\n",
        "```"
      ]
    },
    {
      "cell_type": "code",
      "execution_count": null,
      "metadata": {
        "id": "_9ZZfgxRxcYu"
      },
      "outputs": [],
      "source": [
        "zx = outputs.last_hidden_state[:,0,:]"
      ]
    },
    {
      "cell_type": "code",
      "execution_count": null,
      "metadata": {
        "colab": {
          "base_uri": "https://localhost:8080/"
        },
        "id": "V5hDJUoExmwY",
        "outputId": "321ebddf-f241-47d4-b7bc-cd3434ecb369"
      },
      "outputs": [
        {
          "data": {
            "text/plain": [
              "torch.Size([1, 768])"
            ]
          },
          "execution_count": 34,
          "metadata": {},
          "output_type": "execute_result"
        }
      ],
      "source": [
        "zx.size()"
      ]
    },
    {
      "cell_type": "code",
      "execution_count": null,
      "metadata": {
        "id": "BkqAXJC5xocr"
      },
      "outputs": [],
      "source": [
        "zy = outputs.last_hidden_state[:,0]"
      ]
    },
    {
      "cell_type": "code",
      "execution_count": null,
      "metadata": {
        "colab": {
          "base_uri": "https://localhost:8080/"
        },
        "id": "StCy-irFxrHw",
        "outputId": "5ea9fb52-014e-4ecd-b2d0-b64bd5c6d4dc"
      },
      "outputs": [
        {
          "data": {
            "text/plain": [
              "torch.Size([1, 768])"
            ]
          },
          "execution_count": 36,
          "metadata": {},
          "output_type": "execute_result"
        }
      ],
      "source": [
        "zy.size()"
      ]
    },
    {
      "cell_type": "markdown",
      "metadata": {
        "id": "hKBGvmVR06hp"
      },
      "source": [
        "In this line of code we proof the equality of those two lines of codes."
      ]
    },
    {
      "cell_type": "code",
      "execution_count": null,
      "metadata": {
        "colab": {
          "base_uri": "https://localhost:8080/"
        },
        "id": "ZTStDLidu1J0",
        "outputId": "ca486a97-ea68-4452-8346-5508fd51247b"
      },
      "outputs": [
        {
          "data": {
            "text/plain": [
              "tensor(True)"
            ]
          },
          "execution_count": 37,
          "metadata": {},
          "output_type": "execute_result"
        }
      ],
      "source": [
        "torch.all(zx == zy)"
      ]
    },
    {
      "cell_type": "markdown",
      "metadata": {
        "id": "XXvUDTWkulFg"
      },
      "source": [
        "### AutoModel class (output_hidden_states = True)"
      ]
    },
    {
      "cell_type": "markdown",
      "metadata": {
        "id": "Z2nkz5U51Jmy"
      },
      "source": [
        "This time we set `output_hidden_states=True`. So, in the output we will have output of each hidden states in addition to `last_hidden_state` parameter."
      ]
    },
    {
      "cell_type": "code",
      "execution_count": null,
      "metadata": {
        "id": "Xp1dBWWwp8bd"
      },
      "outputs": [],
      "source": [
        "from transformers import AutoModel\n",
        "\n",
        "num_labels = 4\n",
        "model = (AutoModel.from_pretrained(model_ckpt, num_labels=num_labels, output_hidden_states=True).to(device))"
      ]
    },
    {
      "cell_type": "code",
      "execution_count": null,
      "metadata": {
        "colab": {
          "base_uri": "https://localhost:8080/"
        },
        "id": "-IKvi5NiqGAm",
        "outputId": "98806eb4-ca9f-4cd9-aa8c-5778631d2e72"
      },
      "outputs": [
        {
          "data": {
            "text/plain": [
              "BertModel(\n",
              "  (embeddings): BertEmbeddings(\n",
              "    (word_embeddings): Embedding(30522, 768, padding_idx=0)\n",
              "    (position_embeddings): Embedding(512, 768)\n",
              "    (token_type_embeddings): Embedding(2, 768)\n",
              "    (LayerNorm): LayerNorm((768,), eps=1e-12, elementwise_affine=True)\n",
              "    (dropout): Dropout(p=0.1, inplace=False)\n",
              "  )\n",
              "  (encoder): BertEncoder(\n",
              "    (layer): ModuleList(\n",
              "      (0-11): 12 x BertLayer(\n",
              "        (attention): BertAttention(\n",
              "          (self): BertSelfAttention(\n",
              "            (query): Linear(in_features=768, out_features=768, bias=True)\n",
              "            (key): Linear(in_features=768, out_features=768, bias=True)\n",
              "            (value): Linear(in_features=768, out_features=768, bias=True)\n",
              "            (dropout): Dropout(p=0.1, inplace=False)\n",
              "          )\n",
              "          (output): BertSelfOutput(\n",
              "            (dense): Linear(in_features=768, out_features=768, bias=True)\n",
              "            (LayerNorm): LayerNorm((768,), eps=1e-12, elementwise_affine=True)\n",
              "            (dropout): Dropout(p=0.1, inplace=False)\n",
              "          )\n",
              "        )\n",
              "        (intermediate): BertIntermediate(\n",
              "          (dense): Linear(in_features=768, out_features=3072, bias=True)\n",
              "          (intermediate_act_fn): GELUActivation()\n",
              "        )\n",
              "        (output): BertOutput(\n",
              "          (dense): Linear(in_features=3072, out_features=768, bias=True)\n",
              "          (LayerNorm): LayerNorm((768,), eps=1e-12, elementwise_affine=True)\n",
              "          (dropout): Dropout(p=0.1, inplace=False)\n",
              "        )\n",
              "      )\n",
              "    )\n",
              "  )\n",
              "  (pooler): BertPooler(\n",
              "    (dense): Linear(in_features=768, out_features=768, bias=True)\n",
              "    (activation): Tanh()\n",
              "  )\n",
              ")"
            ]
          },
          "execution_count": 99,
          "metadata": {},
          "output_type": "execute_result"
        }
      ],
      "source": [
        "model"
      ]
    },
    {
      "cell_type": "code",
      "execution_count": null,
      "metadata": {
        "id": "5J00ArPmqF9o"
      },
      "outputs": [],
      "source": [
        "inputs = {k:v.to(device) for k,v in inputs.items()}"
      ]
    },
    {
      "cell_type": "code",
      "execution_count": null,
      "metadata": {
        "colab": {
          "base_uri": "https://localhost:8080/"
        },
        "id": "iHtINW_tqF5k",
        "outputId": "6f336275-3748-45ee-d593-cf15d6c40e0a"
      },
      "outputs": [
        {
          "data": {
            "text/plain": [
              "{'input_ids': tensor([[ 101, 2023, 2003, 1037, 3231,  102]]),\n",
              " 'token_type_ids': tensor([[0, 0, 0, 0, 0, 0]]),\n",
              " 'attention_mask': tensor([[1, 1, 1, 1, 1, 1]])}"
            ]
          },
          "execution_count": 101,
          "metadata": {},
          "output_type": "execute_result"
        }
      ],
      "source": [
        "inputs"
      ]
    },
    {
      "cell_type": "code",
      "execution_count": null,
      "metadata": {
        "colab": {
          "base_uri": "https://localhost:8080/"
        },
        "id": "cWa1KF-zrJq7",
        "outputId": "c8f01982-88d9-4084-cc73-5c12c7778a68"
      },
      "outputs": [
        {
          "data": {
            "text/plain": [
              "dict"
            ]
          },
          "execution_count": 102,
          "metadata": {},
          "output_type": "execute_result"
        }
      ],
      "source": [
        "type(inputs)"
      ]
    },
    {
      "cell_type": "code",
      "execution_count": null,
      "metadata": {
        "id": "YpQNmjygrJoQ"
      },
      "outputs": [],
      "source": [
        "with torch.no_grad():\n",
        "  outputs = model(**inputs)"
      ]
    },
    {
      "cell_type": "code",
      "execution_count": null,
      "metadata": {
        "colab": {
          "base_uri": "https://localhost:8080/"
        },
        "id": "Tsnnb6p8rJk0",
        "outputId": "8d408a46-1fed-49ec-b9e6-8e9d5193f23c"
      },
      "outputs": [
        {
          "data": {
            "text/plain": [
              "BaseModelOutputWithPoolingAndCrossAttentions(last_hidden_state=tensor([[[-0.0260,  0.1920,  0.0344,  ..., -0.1346,  0.0773,  0.2477],\n",
              "         [-0.5674, -0.2561,  0.3124,  ..., -0.7818,  0.2190,  0.5927],\n",
              "         [-0.2362, -0.3177,  0.6953,  ..., -0.2110,  0.1040,  0.9891],\n",
              "         [-0.1820, -0.3069,  1.0218,  ..., -0.1590,  0.0841,  1.3962],\n",
              "         [ 0.0534, -0.4904, -0.0244,  ...,  0.1503,  0.1478, -0.2623],\n",
              "         [ 0.7536,  0.1498, -0.2997,  ...,  0.0948, -0.8660, -0.2169]]]), pooler_output=tensor([[-8.1014e-01, -1.6611e-01,  6.8871e-01,  5.6120e-01, -4.2450e-01,\n",
              "         -1.0617e-01,  8.4508e-01,  1.5211e-01,  4.0698e-01, -9.9904e-01,\n",
              "          3.3192e-01, -2.4647e-01,  9.5928e-01, -3.5368e-01,  8.7687e-01,\n",
              "         -4.3937e-01,  1.3539e-02, -4.6144e-01,  2.8962e-01, -7.3881e-01,\n",
              "          4.2921e-01,  2.6882e-01,  6.9294e-01,  1.8854e-01,  2.5857e-01,\n",
              "         -3.1407e-01, -3.8146e-01,  8.7916e-01,  9.1173e-01,  5.7387e-01,\n",
              "         -6.2304e-01,  1.1765e-01, -9.5845e-01, -1.3886e-01,  6.2574e-01,\n",
              "         -9.4867e-01,  5.1345e-02, -6.7462e-01,  1.4575e-02,  3.4477e-02,\n",
              "         -8.2107e-01,  1.9136e-01,  9.7657e-01, -4.6747e-01, -1.6186e-01,\n",
              "         -2.9812e-01, -9.9659e-01,  1.4625e-01, -7.9653e-01, -6.0099e-01,\n",
              "         -4.7811e-01, -7.4876e-01,  1.0094e-01,  2.5489e-01,  2.9220e-01,\n",
              "          4.2842e-01, -1.2625e-01,  1.3058e-01, -4.4772e-02, -4.1464e-01,\n",
              "         -5.1866e-01,  1.4801e-01,  4.3303e-01, -8.2359e-01, -6.0051e-01,\n",
              "         -6.6067e-01,  1.2570e-03, -1.2239e-01, -1.3264e-03, -4.5606e-02,\n",
              "          7.8948e-01,  1.6320e-01,  3.8474e-01, -6.6386e-01, -5.5557e-01,\n",
              "          6.9906e-02, -2.9340e-01,  9.9978e-01, -2.9074e-01, -9.4301e-01,\n",
              "         -6.2945e-01, -3.9875e-01,  2.1076e-01,  6.6782e-01, -5.9335e-01,\n",
              "         -9.9913e-01,  1.9650e-01, -6.0086e-02, -9.6973e-01,  8.4798e-02,\n",
              "          1.2848e-01, -1.4296e-01, -6.1470e-01,  2.1716e-01, -1.1278e-01,\n",
              "         -1.6062e-02, -1.8047e-01,  5.8491e-01, -3.7388e-02,  1.0014e-01,\n",
              "         -2.3879e-02, -1.7792e-01,  7.3633e-02, -2.1542e-01,  2.3724e-02,\n",
              "         -1.9220e-01, -3.9050e-01,  1.1195e-01, -2.5829e-01,  5.3267e-01,\n",
              "          1.9710e-01, -1.5358e-01,  1.6759e-01, -9.0448e-01,  4.9756e-01,\n",
              "         -1.3687e-01, -9.5181e-01, -2.6045e-01, -9.5953e-01,  5.2455e-01,\n",
              "          1.4475e-01, -5.8663e-02,  9.2970e-01,  6.2884e-01,  1.4700e-01,\n",
              "          3.7139e-02,  6.2656e-01, -9.9990e-01, -8.1392e-02, -2.1551e-02,\n",
              "          3.2815e-01, -2.9969e-04, -9.3799e-01, -8.7944e-01,  4.4797e-01,\n",
              "          9.1945e-01,  6.7201e-02,  9.6768e-01, -1.1873e-01,  8.4968e-01,\n",
              "          2.7831e-01,  1.0086e-01, -5.2672e-01, -2.5970e-01,  1.5959e-01,\n",
              "          3.7818e-01, -6.1081e-01,  1.4936e-01,  2.2859e-01, -2.4298e-01,\n",
              "          1.9717e-01, -1.8259e-01,  4.3774e-01, -8.7790e-01, -3.2733e-01,\n",
              "          8.7245e-01,  3.9658e-01,  6.3935e-01,  7.2243e-01, -1.4116e-01,\n",
              "         -2.7995e-01,  7.2586e-01,  2.2290e-01,  2.0089e-01,  6.1906e-02,\n",
              "          2.9042e-01, -1.8204e-01,  3.3185e-01, -7.8349e-01,  3.5094e-01,\n",
              "          2.9368e-01, -7.0230e-02,  6.0536e-01, -9.3526e-01, -1.6372e-01,\n",
              "          3.2373e-01,  9.6008e-01,  6.3719e-01,  1.1130e-01, -1.7440e-01,\n",
              "         -1.6764e-01, -2.7055e-03, -8.6289e-01,  9.3495e-01, -5.8145e-02,\n",
              "          1.4431e-01,  6.4862e-01, -2.3701e-01, -8.1176e-01, -4.6714e-01,\n",
              "          7.6728e-01,  1.9434e-01, -7.4963e-01,  1.0501e-01, -3.6819e-01,\n",
              "         -2.9939e-01,  5.1876e-01,  3.7450e-01, -2.2932e-01, -3.0661e-01,\n",
              "          6.2097e-02,  8.6084e-01,  9.3904e-01,  6.9059e-01, -6.4954e-01,\n",
              "          4.2808e-01, -8.1132e-01, -2.3710e-01,  4.6992e-02,  2.0154e-01,\n",
              "          1.2975e-02,  9.7959e-01,  2.0972e-01, -8.1997e-02, -8.7020e-01,\n",
              "         -9.5653e-01, -5.1115e-03, -8.1094e-01,  8.0974e-02, -5.3510e-01,\n",
              "          8.4649e-02,  7.1448e-01, -2.5498e-01,  2.9358e-01, -9.6405e-01,\n",
              "         -7.3234e-01,  2.2070e-01, -9.0099e-02,  2.7925e-01, -1.8913e-01,\n",
              "          6.3940e-02, -5.3628e-01, -4.3701e-01,  7.6866e-01,  7.9925e-01,\n",
              "          7.1712e-01, -5.4809e-01,  7.6632e-01, -1.9306e-01,  8.0714e-01,\n",
              "         -4.4083e-01,  9.1704e-01, -4.0982e-01,  2.6355e-01, -8.5143e-01,\n",
              "          5.4685e-01, -8.6730e-01,  3.8762e-01, -1.7283e-02, -7.0376e-01,\n",
              "         -4.7805e-01,  2.5609e-01,  1.3615e-01,  8.1049e-01, -3.1496e-01,\n",
              "          9.9015e-01, -3.1176e-03, -8.8430e-01,  6.4003e-01,  4.9027e-02,\n",
              "         -9.5700e-01, -4.0329e-01,  1.4249e-01, -7.1941e-01, -1.8932e-01,\n",
              "         -2.5175e-01, -8.8674e-01,  8.0924e-01,  9.6179e-02,  9.6767e-01,\n",
              "          1.5721e-01, -8.6234e-01, -1.4904e-01, -7.7120e-01, -2.1673e-01,\n",
              "         -5.4306e-03,  7.2208e-01, -1.8350e-01, -9.1231e-01,  3.4395e-01,\n",
              "          4.4824e-01,  2.3878e-01,  7.5155e-01,  9.8591e-01,  9.2647e-01,\n",
              "          9.4021e-01,  8.1001e-01,  8.3063e-01,  3.2292e-02,  2.7754e-01,\n",
              "          9.9948e-01,  1.5751e-01, -9.9637e-01, -9.0362e-01, -4.2698e-01,\n",
              "          2.7537e-01, -9.9986e-01, -4.9929e-02,  5.3152e-02, -8.2346e-01,\n",
              "         -5.1539e-01,  9.5147e-01,  9.7265e-01, -9.9952e-01,  7.8033e-01,\n",
              "          8.8436e-01, -3.3418e-01, -2.5016e-01, -6.6673e-02,  9.3727e-01,\n",
              "          2.2227e-01,  2.7983e-01, -1.0442e-01,  1.4937e-01,  4.4243e-01,\n",
              "         -7.4751e-01,  5.2131e-01,  6.1683e-01, -3.2769e-01,  5.2526e-02,\n",
              "         -5.9922e-01, -8.6110e-01, -4.0902e-01, -3.4705e-02, -3.1748e-01,\n",
              "         -9.0279e-01, -2.8453e-02, -5.0062e-01,  4.4687e-01,  3.7122e-02,\n",
              "          6.2662e-02, -6.9511e-01,  1.1580e-01, -6.9440e-01,  3.6308e-01,\n",
              "          3.7327e-01, -8.6332e-01, -5.2600e-01,  9.6755e-02, -5.1680e-01,\n",
              "          4.7846e-01, -8.8746e-01,  9.3668e-01, -1.6869e-01, -4.6131e-01,\n",
              "          9.9965e-01, -4.9597e-01, -7.7109e-01,  1.5017e-01,  6.6021e-02,\n",
              "         -1.7587e-03,  9.9949e-01,  8.4907e-02, -9.4391e-01, -2.4329e-01,\n",
              "          1.1654e-03, -2.2956e-01, -1.7586e-01,  9.8896e-01, -1.0476e-01,\n",
              "          5.1960e-01,  4.8725e-01,  8.9962e-01, -9.6646e-01, -5.0941e-01,\n",
              "         -8.4816e-01, -9.0902e-01,  9.1316e-01,  8.6604e-01,  6.9097e-02,\n",
              "         -4.7374e-01,  2.4400e-02,  2.2901e-01,  1.1900e-01, -9.3628e-01,\n",
              "          4.3007e-01,  3.6430e-01, -1.1133e-01,  8.4647e-01, -7.9057e-01,\n",
              "         -2.5083e-01,  3.4466e-01,  2.7093e-01,  4.6615e-01, -5.4862e-01,\n",
              "          3.0790e-01, -1.5740e-01,  2.4980e-02, -1.4321e-01,  2.5085e-01,\n",
              "         -9.3187e-01, -1.8801e-01,  9.9926e-01,  2.6486e-01, -6.9135e-01,\n",
              "         -6.8980e-02, -5.1954e-02, -3.7926e-01,  1.8187e-01,  2.7067e-01,\n",
              "         -1.6388e-01, -7.2318e-01, -4.4396e-01, -8.7934e-01, -9.4777e-01,\n",
              "          6.1199e-01,  1.0500e-01, -2.2164e-01,  9.8259e-01,  9.3567e-02,\n",
              "          1.6236e-02, -2.5199e-01, -4.0737e-01,  1.4732e-02,  4.8548e-01,\n",
              "         -6.8349e-01,  9.2892e-01, -1.6402e-01,  2.0980e-01,  7.6531e-01,\n",
              "          5.6083e-01, -2.0680e-01, -5.3923e-01, -2.7494e-02, -8.4411e-01,\n",
              "          5.2830e-02, -8.8688e-01,  9.0801e-01, -7.4967e-01,  1.7157e-01,\n",
              "          4.4103e-02, -3.1059e-01,  9.9952e-01,  5.6298e-01,  4.9188e-01,\n",
              "         -6.0436e-01,  8.1618e-01,  6.9184e-02, -6.4477e-01, -2.1770e-01,\n",
              "          4.1023e-02,  6.7474e-01, -1.2868e-01,  1.3075e-01, -9.2322e-01,\n",
              "         -5.5960e-01, -4.2912e-01, -9.5790e-01, -9.6913e-01,  6.6765e-01,\n",
              "          6.7463e-01,  9.8577e-04,  3.4389e-01, -4.8254e-01, -4.9487e-01,\n",
              "         -2.8873e-02, -7.5272e-02, -8.6728e-01,  6.5687e-01, -1.8353e-01,\n",
              "          2.9637e-01, -1.9001e-01,  2.6557e-01, -6.3740e-01,  7.6488e-01,\n",
              "          7.3902e-01,  2.5961e-01,  2.0581e-02, -6.7345e-01,  6.7745e-01,\n",
              "         -7.4420e-01,  5.8441e-01, -6.0455e-02,  9.9985e-01, -2.5985e-01,\n",
              "         -4.1957e-01,  6.2422e-01,  6.3481e-01,  3.1517e-02,  1.0284e-01,\n",
              "         -5.5178e-01,  1.9334e-02,  6.0685e-01,  6.6430e-01, -8.0056e-01,\n",
              "         -1.6140e-01,  3.9022e-01, -6.6428e-01, -5.7015e-01,  6.4309e-01,\n",
              "         -2.0783e-01, -4.8857e-02,  2.4656e-02,  5.6429e-02,  9.9559e-01,\n",
              "         -5.5688e-02, -1.8117e-02, -3.4175e-01,  7.6463e-02, -1.7274e-01,\n",
              "         -5.9856e-01,  9.9681e-01,  2.5150e-01, -3.2670e-01, -9.6387e-01,\n",
              "          5.1790e-01, -8.4959e-01,  8.4722e-01,  6.0875e-01, -7.7916e-01,\n",
              "          2.9298e-01,  7.0753e-02, -9.6499e-02,  6.9109e-01, -7.5745e-02,\n",
              "         -1.7583e-01,  2.6440e-02,  8.5952e-02,  9.0192e-01, -2.6143e-01,\n",
              "         -8.9764e-01, -4.3301e-01,  1.9760e-01, -9.1087e-01,  5.1347e-02,\n",
              "         -3.9226e-01, -6.3821e-02, -9.6620e-02,  4.5499e-01,  8.4757e-01,\n",
              "         -8.3653e-02, -9.3784e-01, -6.7000e-02, -1.1376e-01,  9.1566e-01,\n",
              "          1.0818e-01, -2.6901e-01, -8.6426e-01, -6.8781e-01, -3.4064e-01,\n",
              "          6.7674e-01, -8.5676e-01,  9.3066e-01, -9.5760e-01,  1.7653e-01,\n",
              "          9.9832e-01,  2.2115e-01, -7.4250e-01,  7.6070e-02, -3.4298e-01,\n",
              "          1.1094e-01,  4.2317e-01,  4.6860e-01, -9.0643e-01, -1.4344e-01,\n",
              "         -8.4931e-02,  1.1363e-01, -1.3019e-01,  5.6978e-01,  5.1346e-01,\n",
              "          1.0716e-01, -2.0165e-01, -3.3442e-01, -1.1409e-02,  2.7751e-01,\n",
              "          5.4247e-01, -1.7852e-01, -5.5484e-02,  3.8460e-02, -1.0104e-01,\n",
              "         -8.1416e-01, -1.1623e-01, -7.4685e-02, -5.2876e-01,  5.1719e-01,\n",
              "         -9.9974e-01, -5.4525e-01, -6.0631e-01, -1.5389e-01,  7.0590e-01,\n",
              "         -1.1926e-01, -2.2660e-01, -5.7208e-01,  6.0846e-01,  8.1818e-01,\n",
              "          5.7340e-01, -4.9903e-02,  3.5590e-01, -5.4659e-01,  1.3651e-02,\n",
              "         -4.6442e-02,  1.1406e-01,  3.1596e-01,  6.4894e-01, -6.1801e-02,\n",
              "          9.9988e-01,  3.3007e-04, -3.4036e-01, -9.3773e-01,  1.6707e-01,\n",
              "         -1.2611e-01,  9.6960e-01, -8.7040e-01, -8.7986e-01,  1.5899e-01,\n",
              "         -3.0401e-01, -7.0618e-01,  1.0710e-01, -1.9823e-02, -4.2272e-01,\n",
              "          4.4623e-01,  9.2783e-01,  8.2859e-01, -2.3911e-01,  2.0243e-01,\n",
              "         -1.8760e-01, -3.2287e-01, -4.2672e-02, -6.7096e-01,  9.5991e-01,\n",
              "          7.1243e-02,  8.4947e-01,  7.4722e-01,  2.0251e-01,  9.1680e-01,\n",
              "          1.0342e-01,  6.0291e-01, -9.2805e-03,  9.9823e-01,  1.6982e-01,\n",
              "         -8.7128e-01,  5.3222e-01, -9.7416e-01, -6.4534e-02, -9.1945e-01,\n",
              "          1.1309e-01, -2.8472e-02,  7.8029e-01, -1.6466e-01,  9.0593e-01,\n",
              "          6.5792e-01,  1.7201e-02,  3.6143e-01,  7.0553e-01,  2.1877e-01,\n",
              "         -8.3102e-01, -9.5996e-01, -9.6002e-01,  6.5820e-02, -3.3316e-01,\n",
              "         -4.0568e-02,  2.2680e-01,  1.2483e-01,  2.1638e-01,  2.2486e-01,\n",
              "         -9.9549e-01,  8.5246e-01,  2.5813e-01, -5.8581e-01,  9.0324e-01,\n",
              "         -5.7729e-02,  6.5848e-02,  1.0700e-01, -9.6288e-01, -9.2642e-01,\n",
              "         -2.2266e-01, -2.2434e-01,  6.5255e-01,  4.2166e-01,  7.6573e-01,\n",
              "          1.7960e-01, -4.1825e-01, -3.6287e-02,  5.2343e-01,  1.1889e-01,\n",
              "         -9.7330e-01,  2.7377e-01,  4.7110e-01, -9.3201e-01,  9.0592e-01,\n",
              "         -4.7861e-01, -1.4623e-01,  6.9056e-01,  4.8340e-01,  8.8651e-01,\n",
              "          6.2136e-01,  4.1561e-01,  7.9431e-02,  3.7686e-01,  7.8578e-01,\n",
              "          9.1874e-01,  9.6776e-01,  5.0637e-01,  7.0492e-01,  5.8290e-01,\n",
              "          2.4536e-01,  8.2670e-02, -8.6557e-01,  4.7132e-02, -1.6182e-01,\n",
              "          1.2523e-01,  1.1014e-01, -8.0892e-02, -9.2775e-01,  2.7580e-01,\n",
              "         -4.1624e-02,  2.4712e-01, -2.7430e-01,  1.9844e-01, -2.9948e-01,\n",
              "         -1.2126e-01, -6.1217e-01, -2.3204e-01,  3.5968e-01,  2.6346e-01,\n",
              "          8.5354e-01, -1.3583e-01,  2.3887e-02, -4.8816e-01, -1.1122e-02,\n",
              "          5.5415e-01, -8.3943e-01,  8.7378e-01,  5.3509e-02,  5.1533e-01,\n",
              "         -4.4813e-01, -1.0083e-01,  3.0493e-01, -4.4331e-01, -2.6303e-01,\n",
              "         -1.4627e-01, -6.5373e-01,  7.6143e-01,  2.7837e-02, -3.3078e-01,\n",
              "         -2.4260e-01,  4.8106e-01,  2.0433e-01,  3.1441e-01,  4.4136e-01,\n",
              "          5.0380e-01,  4.0833e-02, -5.9277e-02,  1.3313e-01, -7.9437e-02,\n",
              "         -9.9576e-01,  2.8045e-01,  4.7871e-01, -4.4232e-01,  3.7786e-01,\n",
              "         -6.4290e-01,  3.2359e-01, -9.4576e-01,  3.9177e-03, -2.9407e-01,\n",
              "         -4.8932e-01, -4.4471e-01, -9.3555e-02,  2.2494e-01,  6.5531e-01,\n",
              "         -4.2955e-01,  8.1863e-01,  2.8184e-01,  6.1618e-01,  2.9981e-01,\n",
              "          4.4352e-01, -5.0918e-01,  8.1965e-01]]), hidden_states=(tensor([[[ 0.1686, -0.2858, -0.3261,  ..., -0.0276,  0.0383,  0.1640],\n",
              "         [-0.6485,  0.6739, -0.0932,  ...,  0.4475,  0.6696,  0.1820],\n",
              "         [-0.6270, -0.0633, -0.3143,  ...,  0.3427,  0.4636,  0.4594],\n",
              "         [ 0.3964,  0.3157,  0.0201,  ...,  0.3490,  0.1725,  0.4031],\n",
              "         [ 0.6010, -0.6970, -0.2001,  ...,  0.2960,  0.2060, -1.7181],\n",
              "         [-0.3251, -0.3188, -0.1163,  ..., -0.3960,  0.4112, -0.0776]]]), tensor([[[ 0.1594, -0.0126, -0.0831,  ...,  0.0845,  0.0346,  0.0609],\n",
              "         [-0.4994,  0.3792, -0.0207,  ...,  0.1002,  0.5073, -0.0968],\n",
              "         [-0.9795, -0.3698, -0.5920,  ...,  0.1966,  0.4721,  0.4123],\n",
              "         [ 0.6016,  0.2221,  0.1561,  ...,  0.4176,  0.0414,  0.5796],\n",
              "         [ 0.7979, -0.5858, -0.7035,  ...,  0.2299,  0.2113, -2.1547],\n",
              "         [-0.2022, -0.0519, -0.0880,  ..., -0.3461,  0.7971, -0.0570]]]), tensor([[[-2.2218e-02, -1.9562e-01, -1.5964e-01,  ...,  1.5629e-01,\n",
              "           1.4315e-01,  2.7155e-02],\n",
              "         [-8.6401e-01,  5.1112e-01,  3.1905e-01,  ...,  1.5549e-01,\n",
              "           3.4919e-01, -3.1944e-02],\n",
              "         [-1.1060e+00, -2.3153e-01,  9.1758e-02,  ...,  3.8778e-01,\n",
              "           2.6322e-01,  5.4417e-01],\n",
              "         [ 3.4819e-01, -1.1977e-03,  5.3347e-01,  ...,  3.6915e-01,\n",
              "           8.6147e-02,  5.0509e-01],\n",
              "         [ 8.9717e-01, -1.5234e-01, -3.0778e-01,  ...,  1.4625e-01,\n",
              "           4.4023e-01, -2.0977e+00],\n",
              "         [-2.3971e-01, -1.2733e-01,  9.6910e-02,  ..., -1.1506e-01,\n",
              "           6.5935e-01, -1.7708e-01]]]), tensor([[[ 0.0277, -0.3065,  0.0247,  ...,  0.2062,  0.2147,  0.2061],\n",
              "         [-0.4281,  0.0887,  0.3327,  ..., -0.1104,  0.0593,  0.1391],\n",
              "         [-0.9838, -0.2434,  0.5536,  ...,  0.1966, -0.1964,  0.4164],\n",
              "         [ 0.3018,  0.1203,  0.8881,  ...,  0.0646,  0.0419,  0.3314],\n",
              "         [ 1.0284, -0.0160, -0.1501,  ...,  0.0965, -0.0861, -2.1286],\n",
              "         [-0.0794, -0.1148,  0.1190,  ...,  0.0218,  0.1512, -0.0228]]]), tensor([[[ 0.1765, -0.5451, -0.2196,  ...,  0.4380,  0.1226,  0.7122],\n",
              "         [-0.4625,  0.0359, -0.0484,  ...,  0.3908, -0.0954, -0.1579],\n",
              "         [-1.1314, -0.5174,  0.7101,  ...,  0.3062, -0.2670,  0.8842],\n",
              "         [ 0.3510, -0.4567,  0.6392,  ...,  0.0633,  0.2305,  0.5916],\n",
              "         [ 0.8296, -0.2987, -0.5167,  ..., -0.5391, -0.4503, -1.8189],\n",
              "         [-0.0344, -0.0541,  0.0235,  ...,  0.0021,  0.0592, -0.0363]]]), tensor([[[-0.0400, -0.4129, -0.1708,  ..., -0.1006,  0.2922,  0.8662],\n",
              "         [-0.2541,  0.1439,  0.1876,  ..., -0.2464, -0.2618, -0.0789],\n",
              "         [-0.9936, -0.6981,  0.6386,  ...,  0.3987, -0.6715,  0.9046],\n",
              "         [ 0.2129, -0.1345,  0.7459,  ...,  0.1004, -0.6471,  0.9626],\n",
              "         [ 0.7957, -0.1814,  0.0295,  ..., -0.4684, -0.6446, -1.8377],\n",
              "         [-0.0262, -0.0364,  0.0271,  ...,  0.0241,  0.0067, -0.0378]]]), tensor([[[-0.1437, -0.4475, -0.2089,  ...,  0.0321,  0.1666,  0.8407],\n",
              "         [-0.4124,  0.1643,  0.0135,  ..., -0.5148, -0.1708, -0.0284],\n",
              "         [-0.6571, -0.3494,  0.4798,  ...,  0.1278, -0.5221,  0.7664],\n",
              "         [ 0.4199, -0.1931,  0.8144,  ..., -0.3456, -0.3689,  1.0546],\n",
              "         [ 0.6095, -0.1790,  0.0963,  ..., -0.6356, -0.8977, -2.1330],\n",
              "         [ 0.0099, -0.0386, -0.0076,  ...,  0.0115, -0.0169, -0.0419]]]), tensor([[[-0.3699, -0.6073, -0.4788,  ..., -0.0359,  0.2129,  1.1509],\n",
              "         [-0.4895,  0.1917, -0.4568,  ..., -0.3968, -0.1461, -0.0279],\n",
              "         [-0.9066, -0.3333,  0.5795,  ..., -0.2704, -0.1109,  0.9889],\n",
              "         [ 0.4749, -0.3266,  1.0218,  ..., -0.4470,  0.1817,  1.2266],\n",
              "         [ 0.4549, -0.6413, -0.4566,  ..., -0.8394, -0.6051, -1.7071],\n",
              "         [-0.0194, -0.0664, -0.0134,  ..., -0.0178,  0.0349, -0.0488]]]), tensor([[[-0.4271, -0.1336, -0.8871,  ..., -0.1549,  0.4776,  1.0841],\n",
              "         [-0.2795, -0.0053, -0.4295,  ..., -0.6551,  0.3591,  0.2623],\n",
              "         [-0.5647, -0.5419,  0.3968,  ...,  0.1698,  0.2673,  1.1169],\n",
              "         [ 0.8121, -0.4463,  1.3880,  ...,  0.2524,  0.6543,  1.7917],\n",
              "         [ 0.5103, -0.5272, -0.6251,  ..., -0.7574, -0.5237, -1.1941],\n",
              "         [-0.0113, -0.0608,  0.0234,  ..., -0.0415, -0.0170, -0.0610]]]), tensor([[[ 3.8226e-03,  3.4977e-01, -6.5135e-01,  ..., -5.0360e-01,\n",
              "           1.2206e-01,  9.2162e-01],\n",
              "         [-5.1947e-01,  1.1833e-01,  1.5133e-01,  ..., -6.7623e-01,\n",
              "           1.7811e-01,  4.5599e-01],\n",
              "         [-4.8258e-01, -8.5694e-02,  5.2928e-01,  ..., -4.2094e-01,\n",
              "           2.7857e-01,  1.1684e+00],\n",
              "         [ 3.5752e-01, -6.1814e-02,  1.2471e+00,  ..., -9.0445e-02,\n",
              "           3.2943e-01,  1.7771e+00],\n",
              "         [ 3.0485e-01, -6.6515e-01, -4.2157e-01,  ..., -2.4973e-01,\n",
              "          -2.9186e-01, -1.0445e+00],\n",
              "         [ 3.1944e-02, -3.7579e-02,  5.1326e-02,  ..., -4.1525e-02,\n",
              "          -7.3008e-02, -1.3911e-03]]]), tensor([[[-3.4848e-01,  2.3322e-01, -5.1411e-01,  ..., -3.2059e-01,\n",
              "          -6.3257e-01,  6.7889e-01],\n",
              "         [-4.7383e-01, -1.0742e-01,  1.1683e-01,  ..., -3.6033e-01,\n",
              "          -2.5536e-02,  3.2723e-01],\n",
              "         [-3.1177e-01, -6.2426e-02,  5.4836e-01,  ..., -3.5762e-01,\n",
              "          -1.3796e-01,  1.0486e+00],\n",
              "         [ 3.4612e-01, -2.2885e-01,  9.3946e-01,  ...,  3.4088e-01,\n",
              "          -1.0620e-01,  1.4793e+00],\n",
              "         [ 1.7544e-01, -9.5357e-01, -4.4590e-01,  ...,  2.0648e-02,\n",
              "          -2.5778e-01, -8.8538e-01],\n",
              "         [-6.0537e-02,  2.9842e-04,  1.0991e-03,  ...,  1.0851e-01,\n",
              "          -9.7805e-02, -1.0620e-03]]]), tensor([[[-0.2198,  0.1368, -0.2132,  ..., -0.2958, -0.3020,  0.7202],\n",
              "         [-0.4962, -0.4321,  0.3105,  ..., -0.6048,  0.1968,  0.8243],\n",
              "         [-0.4409, -0.4866,  0.7067,  ..., -0.2853,  0.1464,  1.5146],\n",
              "         [-0.0217, -0.4664,  1.2029,  ...,  0.1019,  0.0846,  2.0960],\n",
              "         [ 0.1807, -0.8415, -0.0238,  ...,  0.1927, -0.1088, -0.3506],\n",
              "         [ 0.0202,  0.0071, -0.0157,  ...,  0.0133, -0.0454,  0.0320]]]), tensor([[[-0.0260,  0.1920,  0.0344,  ..., -0.1346,  0.0773,  0.2477],\n",
              "         [-0.5674, -0.2561,  0.3124,  ..., -0.7818,  0.2190,  0.5927],\n",
              "         [-0.2362, -0.3177,  0.6953,  ..., -0.2110,  0.1040,  0.9891],\n",
              "         [-0.1820, -0.3069,  1.0218,  ..., -0.1590,  0.0841,  1.3962],\n",
              "         [ 0.0534, -0.4904, -0.0244,  ...,  0.1503,  0.1478, -0.2623],\n",
              "         [ 0.7536,  0.1498, -0.2997,  ...,  0.0948, -0.8660, -0.2169]]])), past_key_values=None, attentions=None, cross_attentions=None)"
            ]
          },
          "execution_count": 104,
          "metadata": {},
          "output_type": "execute_result"
        }
      ],
      "source": [
        "outputs"
      ]
    },
    {
      "cell_type": "code",
      "execution_count": null,
      "metadata": {
        "colab": {
          "base_uri": "https://localhost:8080/"
        },
        "id": "jb1eRXYxrfRK",
        "outputId": "066ded26-be9c-43f8-ce65-f1e1c9684aa6"
      },
      "outputs": [
        {
          "name": "stdout",
          "output_type": "stream",
          "text": [
            "last_hidden_state\n",
            "pooler_output\n",
            "hidden_states\n"
          ]
        }
      ],
      "source": [
        "for k, v in outputs.items():\n",
        "  print(k)"
      ]
    },
    {
      "cell_type": "markdown",
      "metadata": {
        "id": "qfOScreI1kdp"
      },
      "source": [
        "As we can see, this time `hidden_states` parameter has value."
      ]
    },
    {
      "cell_type": "code",
      "execution_count": null,
      "metadata": {
        "colab": {
          "base_uri": "https://localhost:8080/"
        },
        "id": "DXFyBwTnr0qK",
        "outputId": "7ca06b42-d653-413a-b7f9-4eaba800835d"
      },
      "outputs": [
        {
          "data": {
            "text/plain": [
              "13"
            ]
          },
          "execution_count": 106,
          "metadata": {},
          "output_type": "execute_result"
        }
      ],
      "source": [
        "len(outputs[\"hidden_states\"])"
      ]
    },
    {
      "cell_type": "markdown",
      "metadata": {
        "id": "gtIjM9y21wNx"
      },
      "source": [
        "The size of `hidden_state` parameter equals hidden states of the model at the output of each layer plus the optional initial embedding outputs. So, all in all the size equals (12 layers => 12 hidden states + 1 (initial embedding outputs)) = 13"
      ]
    },
    {
      "cell_type": "code",
      "execution_count": null,
      "metadata": {
        "colab": {
          "base_uri": "https://localhost:8080/"
        },
        "id": "Ykd6TFaEsG-z",
        "outputId": "f6e381e0-3adb-4e48-91de-226c0567d70a"
      },
      "outputs": [
        {
          "data": {
            "text/plain": [
              "torch.Size([1, 6, 768])"
            ]
          },
          "execution_count": 50,
          "metadata": {},
          "output_type": "execute_result"
        }
      ],
      "source": [
        "outputs[\"hidden_states\"][0].shape"
      ]
    },
    {
      "cell_type": "code",
      "execution_count": null,
      "metadata": {
        "colab": {
          "base_uri": "https://localhost:8080/"
        },
        "id": "6eYvcguQsOCP",
        "outputId": "3fe86212-3378-41fa-cc67-f16ea40ea9c5"
      },
      "outputs": [
        {
          "data": {
            "text/plain": [
              "torch.Size([1, 6, 768])"
            ]
          },
          "execution_count": 51,
          "metadata": {},
          "output_type": "execute_result"
        }
      ],
      "source": [
        "outputs[\"hidden_states\"][1].shape"
      ]
    },
    {
      "cell_type": "markdown",
      "metadata": {
        "id": "tahH_8492Tye"
      },
      "source": [
        "We can see that the size of tokens in each hidden state is the same and just embedding will be reacher in top layers (because of multi head attention)"
      ]
    },
    {
      "cell_type": "code",
      "execution_count": null,
      "metadata": {
        "id": "UCWXD4H5sRV8"
      },
      "outputs": [],
      "source": [
        "# extract last hidden state\n",
        "x = outputs[\"hidden_states\"][-1]"
      ]
    },
    {
      "cell_type": "code",
      "execution_count": null,
      "metadata": {
        "colab": {
          "base_uri": "https://localhost:8080/"
        },
        "id": "S0eJkDGH2oF5",
        "outputId": "7b5008ef-0240-4d14-ce2c-9f7c76f320e3"
      },
      "outputs": [
        {
          "data": {
            "text/plain": [
              "torch.Size([1, 6, 768])"
            ]
          },
          "execution_count": 56,
          "metadata": {},
          "output_type": "execute_result"
        }
      ],
      "source": [
        "x.shape"
      ]
    },
    {
      "cell_type": "code",
      "execution_count": null,
      "metadata": {
        "id": "LUAGdLwosVet"
      },
      "outputs": [],
      "source": [
        "y = outputs[\"last_hidden_state\"]"
      ]
    },
    {
      "cell_type": "code",
      "execution_count": null,
      "metadata": {
        "colab": {
          "base_uri": "https://localhost:8080/"
        },
        "id": "xIzOTZvNsZH9",
        "outputId": "c5f53dc4-e637-4f66-fd2a-5ce6fc0c0304"
      },
      "outputs": [
        {
          "data": {
            "text/plain": [
              "torch.Size([1, 6, 768])"
            ]
          },
          "execution_count": 57,
          "metadata": {},
          "output_type": "execute_result"
        }
      ],
      "source": [
        "y.shape"
      ]
    },
    {
      "cell_type": "markdown",
      "metadata": {
        "id": "eQyujRp12q1u"
      },
      "source": [
        "We want to see that x and y objects are the same and check their equality.\n",
        "\n",
        "x => last hidden state from `hidden_states` parameter in output\n",
        "\n",
        "y => `last_hidden_state` parameter in output"
      ]
    },
    {
      "cell_type": "code",
      "execution_count": null,
      "metadata": {
        "colab": {
          "base_uri": "https://localhost:8080/"
        },
        "id": "zI_mHPwSsqyq",
        "outputId": "6182c3ad-cea6-45d2-beab-05dd19a08b94"
      },
      "outputs": [
        {
          "data": {
            "text/plain": [
              "tensor(True)"
            ]
          },
          "execution_count": 58,
          "metadata": {},
          "output_type": "execute_result"
        }
      ],
      "source": [
        "torch.all(x == y)"
      ]
    },
    {
      "cell_type": "code",
      "execution_count": null,
      "metadata": {
        "id": "3s0TJt_j3BjO"
      },
      "outputs": [],
      "source": [
        "# output of pooler layer\n",
        "a = outputs[1]"
      ]
    },
    {
      "cell_type": "code",
      "execution_count": null,
      "metadata": {
        "colab": {
          "base_uri": "https://localhost:8080/"
        },
        "id": "VnWlLOAH4Jgy",
        "outputId": "8a0cbedd-cf5e-4131-e93c-ff860ae650df"
      },
      "outputs": [
        {
          "data": {
            "text/plain": [
              "tensor([[-8.1014e-01, -1.6611e-01,  6.8871e-01,  5.6120e-01, -4.2450e-01,\n",
              "         -1.0617e-01,  8.4508e-01,  1.5211e-01,  4.0698e-01, -9.9904e-01,\n",
              "          3.3192e-01, -2.4647e-01,  9.5928e-01, -3.5368e-01,  8.7687e-01,\n",
              "         -4.3937e-01,  1.3539e-02, -4.6144e-01,  2.8962e-01, -7.3881e-01,\n",
              "          4.2921e-01,  2.6882e-01,  6.9294e-01,  1.8854e-01,  2.5857e-01,\n",
              "         -3.1407e-01, -3.8146e-01,  8.7916e-01,  9.1173e-01,  5.7387e-01,\n",
              "         -6.2304e-01,  1.1765e-01, -9.5845e-01, -1.3886e-01,  6.2574e-01,\n",
              "         -9.4867e-01,  5.1345e-02, -6.7462e-01,  1.4575e-02,  3.4477e-02,\n",
              "         -8.2107e-01,  1.9136e-01,  9.7657e-01, -4.6747e-01, -1.6186e-01,\n",
              "         -2.9812e-01, -9.9659e-01,  1.4625e-01, -7.9653e-01, -6.0099e-01,\n",
              "         -4.7811e-01, -7.4876e-01,  1.0094e-01,  2.5489e-01,  2.9220e-01,\n",
              "          4.2842e-01, -1.2625e-01,  1.3058e-01, -4.4772e-02, -4.1464e-01,\n",
              "         -5.1866e-01,  1.4801e-01,  4.3303e-01, -8.2359e-01, -6.0051e-01,\n",
              "         -6.6067e-01,  1.2570e-03, -1.2239e-01, -1.3264e-03, -4.5606e-02,\n",
              "          7.8948e-01,  1.6320e-01,  3.8474e-01, -6.6386e-01, -5.5557e-01,\n",
              "          6.9906e-02, -2.9340e-01,  9.9978e-01, -2.9074e-01, -9.4301e-01,\n",
              "         -6.2945e-01, -3.9875e-01,  2.1076e-01,  6.6782e-01, -5.9335e-01,\n",
              "         -9.9913e-01,  1.9650e-01, -6.0086e-02, -9.6973e-01,  8.4798e-02,\n",
              "          1.2848e-01, -1.4296e-01, -6.1470e-01,  2.1716e-01, -1.1278e-01,\n",
              "         -1.6062e-02, -1.8047e-01,  5.8491e-01, -3.7388e-02,  1.0014e-01,\n",
              "         -2.3879e-02, -1.7792e-01,  7.3633e-02, -2.1542e-01,  2.3724e-02,\n",
              "         -1.9220e-01, -3.9050e-01,  1.1195e-01, -2.5829e-01,  5.3267e-01,\n",
              "          1.9710e-01, -1.5358e-01,  1.6759e-01, -9.0448e-01,  4.9756e-01,\n",
              "         -1.3687e-01, -9.5181e-01, -2.6045e-01, -9.5953e-01,  5.2455e-01,\n",
              "          1.4475e-01, -5.8663e-02,  9.2970e-01,  6.2884e-01,  1.4700e-01,\n",
              "          3.7139e-02,  6.2656e-01, -9.9990e-01, -8.1392e-02, -2.1551e-02,\n",
              "          3.2815e-01, -2.9969e-04, -9.3799e-01, -8.7944e-01,  4.4797e-01,\n",
              "          9.1945e-01,  6.7201e-02,  9.6768e-01, -1.1873e-01,  8.4968e-01,\n",
              "          2.7831e-01,  1.0086e-01, -5.2672e-01, -2.5970e-01,  1.5959e-01,\n",
              "          3.7818e-01, -6.1081e-01,  1.4936e-01,  2.2859e-01, -2.4298e-01,\n",
              "          1.9717e-01, -1.8259e-01,  4.3774e-01, -8.7790e-01, -3.2733e-01,\n",
              "          8.7245e-01,  3.9658e-01,  6.3935e-01,  7.2243e-01, -1.4116e-01,\n",
              "         -2.7995e-01,  7.2586e-01,  2.2290e-01,  2.0089e-01,  6.1906e-02,\n",
              "          2.9042e-01, -1.8204e-01,  3.3185e-01, -7.8349e-01,  3.5094e-01,\n",
              "          2.9368e-01, -7.0230e-02,  6.0536e-01, -9.3526e-01, -1.6372e-01,\n",
              "          3.2373e-01,  9.6008e-01,  6.3719e-01,  1.1130e-01, -1.7440e-01,\n",
              "         -1.6764e-01, -2.7055e-03, -8.6289e-01,  9.3495e-01, -5.8145e-02,\n",
              "          1.4431e-01,  6.4862e-01, -2.3701e-01, -8.1176e-01, -4.6714e-01,\n",
              "          7.6728e-01,  1.9434e-01, -7.4963e-01,  1.0501e-01, -3.6819e-01,\n",
              "         -2.9939e-01,  5.1876e-01,  3.7450e-01, -2.2932e-01, -3.0661e-01,\n",
              "          6.2097e-02,  8.6084e-01,  9.3904e-01,  6.9059e-01, -6.4954e-01,\n",
              "          4.2808e-01, -8.1132e-01, -2.3710e-01,  4.6992e-02,  2.0154e-01,\n",
              "          1.2975e-02,  9.7959e-01,  2.0972e-01, -8.1997e-02, -8.7020e-01,\n",
              "         -9.5653e-01, -5.1115e-03, -8.1094e-01,  8.0974e-02, -5.3510e-01,\n",
              "          8.4649e-02,  7.1448e-01, -2.5498e-01,  2.9358e-01, -9.6405e-01,\n",
              "         -7.3234e-01,  2.2070e-01, -9.0099e-02,  2.7925e-01, -1.8913e-01,\n",
              "          6.3940e-02, -5.3628e-01, -4.3701e-01,  7.6866e-01,  7.9925e-01,\n",
              "          7.1712e-01, -5.4809e-01,  7.6632e-01, -1.9306e-01,  8.0714e-01,\n",
              "         -4.4083e-01,  9.1704e-01, -4.0982e-01,  2.6355e-01, -8.5143e-01,\n",
              "          5.4685e-01, -8.6730e-01,  3.8762e-01, -1.7283e-02, -7.0376e-01,\n",
              "         -4.7805e-01,  2.5609e-01,  1.3615e-01,  8.1049e-01, -3.1496e-01,\n",
              "          9.9015e-01, -3.1176e-03, -8.8430e-01,  6.4003e-01,  4.9027e-02,\n",
              "         -9.5700e-01, -4.0329e-01,  1.4249e-01, -7.1941e-01, -1.8932e-01,\n",
              "         -2.5175e-01, -8.8674e-01,  8.0924e-01,  9.6179e-02,  9.6767e-01,\n",
              "          1.5721e-01, -8.6234e-01, -1.4904e-01, -7.7120e-01, -2.1673e-01,\n",
              "         -5.4306e-03,  7.2208e-01, -1.8350e-01, -9.1231e-01,  3.4395e-01,\n",
              "          4.4824e-01,  2.3878e-01,  7.5155e-01,  9.8591e-01,  9.2647e-01,\n",
              "          9.4021e-01,  8.1001e-01,  8.3063e-01,  3.2292e-02,  2.7754e-01,\n",
              "          9.9948e-01,  1.5751e-01, -9.9637e-01, -9.0362e-01, -4.2698e-01,\n",
              "          2.7537e-01, -9.9986e-01, -4.9929e-02,  5.3152e-02, -8.2346e-01,\n",
              "         -5.1539e-01,  9.5147e-01,  9.7265e-01, -9.9952e-01,  7.8033e-01,\n",
              "          8.8436e-01, -3.3418e-01, -2.5016e-01, -6.6673e-02,  9.3727e-01,\n",
              "          2.2227e-01,  2.7983e-01, -1.0442e-01,  1.4937e-01,  4.4243e-01,\n",
              "         -7.4751e-01,  5.2131e-01,  6.1683e-01, -3.2769e-01,  5.2526e-02,\n",
              "         -5.9922e-01, -8.6110e-01, -4.0902e-01, -3.4705e-02, -3.1748e-01,\n",
              "         -9.0279e-01, -2.8453e-02, -5.0062e-01,  4.4687e-01,  3.7122e-02,\n",
              "          6.2662e-02, -6.9511e-01,  1.1580e-01, -6.9440e-01,  3.6308e-01,\n",
              "          3.7327e-01, -8.6332e-01, -5.2600e-01,  9.6755e-02, -5.1680e-01,\n",
              "          4.7846e-01, -8.8746e-01,  9.3668e-01, -1.6869e-01, -4.6131e-01,\n",
              "          9.9965e-01, -4.9597e-01, -7.7109e-01,  1.5017e-01,  6.6021e-02,\n",
              "         -1.7587e-03,  9.9949e-01,  8.4907e-02, -9.4391e-01, -2.4329e-01,\n",
              "          1.1654e-03, -2.2956e-01, -1.7586e-01,  9.8896e-01, -1.0476e-01,\n",
              "          5.1960e-01,  4.8725e-01,  8.9962e-01, -9.6646e-01, -5.0941e-01,\n",
              "         -8.4816e-01, -9.0902e-01,  9.1316e-01,  8.6604e-01,  6.9097e-02,\n",
              "         -4.7374e-01,  2.4400e-02,  2.2901e-01,  1.1900e-01, -9.3628e-01,\n",
              "          4.3007e-01,  3.6430e-01, -1.1133e-01,  8.4647e-01, -7.9057e-01,\n",
              "         -2.5083e-01,  3.4466e-01,  2.7093e-01,  4.6615e-01, -5.4862e-01,\n",
              "          3.0790e-01, -1.5740e-01,  2.4980e-02, -1.4321e-01,  2.5085e-01,\n",
              "         -9.3187e-01, -1.8801e-01,  9.9926e-01,  2.6486e-01, -6.9135e-01,\n",
              "         -6.8980e-02, -5.1954e-02, -3.7926e-01,  1.8187e-01,  2.7067e-01,\n",
              "         -1.6388e-01, -7.2318e-01, -4.4396e-01, -8.7934e-01, -9.4777e-01,\n",
              "          6.1199e-01,  1.0500e-01, -2.2164e-01,  9.8259e-01,  9.3567e-02,\n",
              "          1.6236e-02, -2.5199e-01, -4.0737e-01,  1.4732e-02,  4.8548e-01,\n",
              "         -6.8349e-01,  9.2892e-01, -1.6402e-01,  2.0980e-01,  7.6531e-01,\n",
              "          5.6083e-01, -2.0680e-01, -5.3923e-01, -2.7494e-02, -8.4411e-01,\n",
              "          5.2830e-02, -8.8688e-01,  9.0801e-01, -7.4967e-01,  1.7157e-01,\n",
              "          4.4103e-02, -3.1059e-01,  9.9952e-01,  5.6298e-01,  4.9188e-01,\n",
              "         -6.0436e-01,  8.1618e-01,  6.9184e-02, -6.4477e-01, -2.1770e-01,\n",
              "          4.1023e-02,  6.7474e-01, -1.2868e-01,  1.3075e-01, -9.2322e-01,\n",
              "         -5.5960e-01, -4.2912e-01, -9.5790e-01, -9.6913e-01,  6.6765e-01,\n",
              "          6.7463e-01,  9.8577e-04,  3.4389e-01, -4.8254e-01, -4.9487e-01,\n",
              "         -2.8873e-02, -7.5272e-02, -8.6728e-01,  6.5687e-01, -1.8353e-01,\n",
              "          2.9637e-01, -1.9001e-01,  2.6557e-01, -6.3740e-01,  7.6488e-01,\n",
              "          7.3902e-01,  2.5961e-01,  2.0581e-02, -6.7345e-01,  6.7745e-01,\n",
              "         -7.4420e-01,  5.8441e-01, -6.0455e-02,  9.9985e-01, -2.5985e-01,\n",
              "         -4.1957e-01,  6.2422e-01,  6.3481e-01,  3.1517e-02,  1.0284e-01,\n",
              "         -5.5178e-01,  1.9334e-02,  6.0685e-01,  6.6430e-01, -8.0056e-01,\n",
              "         -1.6140e-01,  3.9022e-01, -6.6428e-01, -5.7015e-01,  6.4309e-01,\n",
              "         -2.0783e-01, -4.8857e-02,  2.4656e-02,  5.6429e-02,  9.9559e-01,\n",
              "         -5.5688e-02, -1.8117e-02, -3.4175e-01,  7.6463e-02, -1.7274e-01,\n",
              "         -5.9856e-01,  9.9681e-01,  2.5150e-01, -3.2670e-01, -9.6387e-01,\n",
              "          5.1790e-01, -8.4959e-01,  8.4722e-01,  6.0875e-01, -7.7916e-01,\n",
              "          2.9298e-01,  7.0753e-02, -9.6499e-02,  6.9109e-01, -7.5745e-02,\n",
              "         -1.7583e-01,  2.6440e-02,  8.5952e-02,  9.0192e-01, -2.6143e-01,\n",
              "         -8.9764e-01, -4.3301e-01,  1.9760e-01, -9.1087e-01,  5.1347e-02,\n",
              "         -3.9226e-01, -6.3821e-02, -9.6620e-02,  4.5499e-01,  8.4757e-01,\n",
              "         -8.3653e-02, -9.3784e-01, -6.7000e-02, -1.1376e-01,  9.1566e-01,\n",
              "          1.0818e-01, -2.6901e-01, -8.6426e-01, -6.8781e-01, -3.4064e-01,\n",
              "          6.7674e-01, -8.5676e-01,  9.3066e-01, -9.5760e-01,  1.7653e-01,\n",
              "          9.9832e-01,  2.2115e-01, -7.4250e-01,  7.6070e-02, -3.4298e-01,\n",
              "          1.1094e-01,  4.2317e-01,  4.6860e-01, -9.0643e-01, -1.4344e-01,\n",
              "         -8.4931e-02,  1.1363e-01, -1.3019e-01,  5.6978e-01,  5.1346e-01,\n",
              "          1.0716e-01, -2.0165e-01, -3.3442e-01, -1.1409e-02,  2.7751e-01,\n",
              "          5.4247e-01, -1.7852e-01, -5.5484e-02,  3.8460e-02, -1.0104e-01,\n",
              "         -8.1416e-01, -1.1623e-01, -7.4685e-02, -5.2876e-01,  5.1719e-01,\n",
              "         -9.9974e-01, -5.4525e-01, -6.0631e-01, -1.5389e-01,  7.0590e-01,\n",
              "         -1.1926e-01, -2.2660e-01, -5.7208e-01,  6.0846e-01,  8.1818e-01,\n",
              "          5.7340e-01, -4.9903e-02,  3.5590e-01, -5.4659e-01,  1.3651e-02,\n",
              "         -4.6442e-02,  1.1406e-01,  3.1596e-01,  6.4894e-01, -6.1801e-02,\n",
              "          9.9988e-01,  3.3007e-04, -3.4036e-01, -9.3773e-01,  1.6707e-01,\n",
              "         -1.2611e-01,  9.6960e-01, -8.7040e-01, -8.7986e-01,  1.5899e-01,\n",
              "         -3.0401e-01, -7.0618e-01,  1.0710e-01, -1.9823e-02, -4.2272e-01,\n",
              "          4.4623e-01,  9.2783e-01,  8.2859e-01, -2.3911e-01,  2.0243e-01,\n",
              "         -1.8760e-01, -3.2287e-01, -4.2672e-02, -6.7096e-01,  9.5991e-01,\n",
              "          7.1243e-02,  8.4947e-01,  7.4722e-01,  2.0251e-01,  9.1680e-01,\n",
              "          1.0342e-01,  6.0291e-01, -9.2805e-03,  9.9823e-01,  1.6982e-01,\n",
              "         -8.7128e-01,  5.3222e-01, -9.7416e-01, -6.4534e-02, -9.1945e-01,\n",
              "          1.1309e-01, -2.8472e-02,  7.8029e-01, -1.6466e-01,  9.0593e-01,\n",
              "          6.5792e-01,  1.7201e-02,  3.6143e-01,  7.0553e-01,  2.1877e-01,\n",
              "         -8.3102e-01, -9.5996e-01, -9.6002e-01,  6.5820e-02, -3.3316e-01,\n",
              "         -4.0568e-02,  2.2680e-01,  1.2483e-01,  2.1638e-01,  2.2486e-01,\n",
              "         -9.9549e-01,  8.5246e-01,  2.5813e-01, -5.8581e-01,  9.0324e-01,\n",
              "         -5.7729e-02,  6.5848e-02,  1.0700e-01, -9.6288e-01, -9.2642e-01,\n",
              "         -2.2266e-01, -2.2434e-01,  6.5255e-01,  4.2166e-01,  7.6573e-01,\n",
              "          1.7960e-01, -4.1825e-01, -3.6287e-02,  5.2343e-01,  1.1889e-01,\n",
              "         -9.7330e-01,  2.7377e-01,  4.7110e-01, -9.3201e-01,  9.0592e-01,\n",
              "         -4.7861e-01, -1.4623e-01,  6.9056e-01,  4.8340e-01,  8.8651e-01,\n",
              "          6.2136e-01,  4.1561e-01,  7.9431e-02,  3.7686e-01,  7.8578e-01,\n",
              "          9.1874e-01,  9.6776e-01,  5.0637e-01,  7.0492e-01,  5.8290e-01,\n",
              "          2.4536e-01,  8.2670e-02, -8.6557e-01,  4.7132e-02, -1.6182e-01,\n",
              "          1.2523e-01,  1.1014e-01, -8.0892e-02, -9.2775e-01,  2.7580e-01,\n",
              "         -4.1624e-02,  2.4712e-01, -2.7430e-01,  1.9844e-01, -2.9948e-01,\n",
              "         -1.2126e-01, -6.1217e-01, -2.3204e-01,  3.5968e-01,  2.6346e-01,\n",
              "          8.5354e-01, -1.3583e-01,  2.3887e-02, -4.8816e-01, -1.1122e-02,\n",
              "          5.5415e-01, -8.3943e-01,  8.7378e-01,  5.3509e-02,  5.1533e-01,\n",
              "         -4.4813e-01, -1.0083e-01,  3.0493e-01, -4.4331e-01, -2.6303e-01,\n",
              "         -1.4627e-01, -6.5373e-01,  7.6143e-01,  2.7837e-02, -3.3078e-01,\n",
              "         -2.4260e-01,  4.8106e-01,  2.0433e-01,  3.1441e-01,  4.4136e-01,\n",
              "          5.0380e-01,  4.0833e-02, -5.9277e-02,  1.3313e-01, -7.9437e-02,\n",
              "         -9.9576e-01,  2.8045e-01,  4.7871e-01, -4.4232e-01,  3.7786e-01,\n",
              "         -6.4290e-01,  3.2359e-01, -9.4576e-01,  3.9177e-03, -2.9407e-01,\n",
              "         -4.8932e-01, -4.4471e-01, -9.3555e-02,  2.2494e-01,  6.5531e-01,\n",
              "         -4.2955e-01,  8.1863e-01,  2.8184e-01,  6.1618e-01,  2.9981e-01,\n",
              "          4.4352e-01, -5.0918e-01,  8.1965e-01]])"
            ]
          },
          "execution_count": 61,
          "metadata": {},
          "output_type": "execute_result"
        }
      ],
      "source": [
        "a"
      ]
    },
    {
      "cell_type": "code",
      "execution_count": null,
      "metadata": {
        "colab": {
          "base_uri": "https://localhost:8080/"
        },
        "id": "wma8MkIE4UjE",
        "outputId": "a59d8a71-ddb1-4885-87c2-30c74edca6f6"
      },
      "outputs": [
        {
          "data": {
            "text/plain": [
              "torch.Size([1, 768])"
            ]
          },
          "execution_count": 62,
          "metadata": {},
          "output_type": "execute_result"
        }
      ],
      "source": [
        "a.size()"
      ]
    },
    {
      "cell_type": "code",
      "execution_count": null,
      "metadata": {
        "id": "r_j5r_Vv4VuN"
      },
      "outputs": [],
      "source": [
        "b = outputs.last_hidden_state"
      ]
    },
    {
      "cell_type": "code",
      "execution_count": null,
      "metadata": {
        "colab": {
          "base_uri": "https://localhost:8080/"
        },
        "id": "yssG22bx4ZKj",
        "outputId": "0006e474-bced-4d80-e3ba-8867c1c73140"
      },
      "outputs": [
        {
          "data": {
            "text/plain": [
              "tensor([[[-0.0260,  0.1920,  0.0344,  ..., -0.1346,  0.0773,  0.2477],\n",
              "         [-0.5674, -0.2561,  0.3124,  ..., -0.7818,  0.2190,  0.5927],\n",
              "         [-0.2362, -0.3177,  0.6953,  ..., -0.2110,  0.1040,  0.9891],\n",
              "         [-0.1820, -0.3069,  1.0218,  ..., -0.1590,  0.0841,  1.3962],\n",
              "         [ 0.0534, -0.4904, -0.0244,  ...,  0.1503,  0.1478, -0.2623],\n",
              "         [ 0.7536,  0.1498, -0.2997,  ...,  0.0948, -0.8660, -0.2169]]])"
            ]
          },
          "execution_count": 65,
          "metadata": {},
          "output_type": "execute_result"
        }
      ],
      "source": [
        "b"
      ]
    },
    {
      "cell_type": "code",
      "execution_count": null,
      "metadata": {
        "colab": {
          "base_uri": "https://localhost:8080/"
        },
        "id": "vYexGu_r4_3P",
        "outputId": "a6271f90-74b1-43e9-976f-0e0242770822"
      },
      "outputs": [
        {
          "data": {
            "text/plain": [
              "torch.Size([1, 6, 768])"
            ]
          },
          "execution_count": 66,
          "metadata": {},
          "output_type": "execute_result"
        }
      ],
      "source": [
        "b.size()"
      ]
    },
    {
      "cell_type": "code",
      "execution_count": null,
      "metadata": {
        "colab": {
          "base_uri": "https://localhost:8080/"
        },
        "id": "Y7WSIaqY5EE_",
        "outputId": "17369173-7f10-4b04-d836-d24963359bae"
      },
      "outputs": [
        {
          "data": {
            "text/plain": [
              "torch.Size([1, 768])"
            ]
          },
          "execution_count": 68,
          "metadata": {},
          "output_type": "execute_result"
        }
      ],
      "source": [
        "zx.size()"
      ]
    },
    {
      "cell_type": "code",
      "execution_count": null,
      "metadata": {
        "colab": {
          "base_uri": "https://localhost:8080/"
        },
        "id": "QmGzdF9X5TIy",
        "outputId": "94c856e5-a025-4bb4-c386-35aa0440870c"
      },
      "outputs": [
        {
          "data": {
            "text/plain": [
              "tensor(False)"
            ]
          },
          "execution_count": 70,
          "metadata": {},
          "output_type": "execute_result"
        }
      ],
      "source": [
        "torch.all(a == zx)"
      ]
    },
    {
      "cell_type": "markdown",
      "metadata": {
        "id": "KTHgmfRbqOgq"
      },
      "source": [
        "#### Concatenate 4 last hidden states"
      ]
    },
    {
      "cell_type": "code",
      "execution_count": null,
      "metadata": {
        "id": "BTXJ19JWpgFB"
      },
      "outputs": [],
      "source": [
        "hidden_states = outputs[\"hidden_states\"]\n",
        "pooled_output = torch.cat(tuple([hidden_states[i] for i in [-4, -3, -2, -1]]), dim=-1)\n"
      ]
    },
    {
      "cell_type": "code",
      "execution_count": null,
      "metadata": {
        "colab": {
          "base_uri": "https://localhost:8080/"
        },
        "id": "44sJFuCnpso-",
        "outputId": "4f991a22-27cb-4654-a413-ab7faaeed824"
      },
      "outputs": [
        {
          "data": {
            "text/plain": [
              "torch.Size([1, 6, 3072])"
            ]
          },
          "execution_count": 123,
          "metadata": {},
          "output_type": "execute_result"
        }
      ],
      "source": [
        "pooled_output.size()"
      ]
    },
    {
      "cell_type": "code",
      "execution_count": null,
      "metadata": {
        "id": "MyD9TuIZqBqR"
      },
      "outputs": [],
      "source": [
        "pooled_output = pooled_output[:, 0, :]"
      ]
    },
    {
      "cell_type": "code",
      "execution_count": null,
      "metadata": {
        "colab": {
          "base_uri": "https://localhost:8080/"
        },
        "id": "ZpuevFdtqK1s",
        "outputId": "faa91a17-c092-483e-bfd1-d1c42bcb1fb2"
      },
      "outputs": [
        {
          "data": {
            "text/plain": [
              "torch.Size([1, 3072])"
            ]
          },
          "execution_count": 126,
          "metadata": {},
          "output_type": "execute_result"
        }
      ],
      "source": [
        "pooled_output.size()"
      ]
    },
    {
      "cell_type": "markdown",
      "metadata": {
        "id": "lYIrKHzc6vtP"
      },
      "source": [
        "### Open question ?"
      ]
    },
    {
      "cell_type": "markdown",
      "metadata": {
        "id": "KyJTBu9w6uxd"
      },
      "source": [
        "What is pooler layer? is it after last hidden state?"
      ]
    },
    {
      "cell_type": "code",
      "execution_count": null,
      "metadata": {
        "id": "JBjrrrK26qVz"
      },
      "outputs": [],
      "source": []
    },
    {
      "cell_type": "markdown",
      "metadata": {
        "id": "0rY6OXIC6qgF"
      },
      "source": [
        "### AutoModelForSequenceClassification class (output_hidden_states = False)"
      ]
    },
    {
      "cell_type": "code",
      "execution_count": null,
      "metadata": {
        "colab": {
          "base_uri": "https://localhost:8080/"
        },
        "id": "BM8dlE166qgF",
        "outputId": "4ee5cce5-b236-459f-b711-5967be24854a"
      },
      "outputs": [
        {
          "name": "stderr",
          "output_type": "stream",
          "text": [
            "Some weights of BertForSequenceClassification were not initialized from the model checkpoint at bert-base-uncased and are newly initialized: ['classifier.weight', 'classifier.bias']\n",
            "You should probably TRAIN this model on a down-stream task to be able to use it for predictions and inference.\n"
          ]
        }
      ],
      "source": [
        "from transformers import AutoModelForSequenceClassification\n",
        "\n",
        "num_labels = 4\n",
        "model = (AutoModelForSequenceClassification.from_pretrained(model_ckpt, num_labels=num_labels).to(device))"
      ]
    },
    {
      "cell_type": "code",
      "execution_count": null,
      "metadata": {
        "colab": {
          "base_uri": "https://localhost:8080/"
        },
        "id": "D9ND-ior6qgG",
        "outputId": "94ac7ae2-a5e2-492e-cb4f-5326bcd32349"
      },
      "outputs": [
        {
          "data": {
            "text/plain": [
              "BertForSequenceClassification(\n",
              "  (bert): BertModel(\n",
              "    (embeddings): BertEmbeddings(\n",
              "      (word_embeddings): Embedding(30522, 768, padding_idx=0)\n",
              "      (position_embeddings): Embedding(512, 768)\n",
              "      (token_type_embeddings): Embedding(2, 768)\n",
              "      (LayerNorm): LayerNorm((768,), eps=1e-12, elementwise_affine=True)\n",
              "      (dropout): Dropout(p=0.1, inplace=False)\n",
              "    )\n",
              "    (encoder): BertEncoder(\n",
              "      (layer): ModuleList(\n",
              "        (0-11): 12 x BertLayer(\n",
              "          (attention): BertAttention(\n",
              "            (self): BertSelfAttention(\n",
              "              (query): Linear(in_features=768, out_features=768, bias=True)\n",
              "              (key): Linear(in_features=768, out_features=768, bias=True)\n",
              "              (value): Linear(in_features=768, out_features=768, bias=True)\n",
              "              (dropout): Dropout(p=0.1, inplace=False)\n",
              "            )\n",
              "            (output): BertSelfOutput(\n",
              "              (dense): Linear(in_features=768, out_features=768, bias=True)\n",
              "              (LayerNorm): LayerNorm((768,), eps=1e-12, elementwise_affine=True)\n",
              "              (dropout): Dropout(p=0.1, inplace=False)\n",
              "            )\n",
              "          )\n",
              "          (intermediate): BertIntermediate(\n",
              "            (dense): Linear(in_features=768, out_features=3072, bias=True)\n",
              "            (intermediate_act_fn): GELUActivation()\n",
              "          )\n",
              "          (output): BertOutput(\n",
              "            (dense): Linear(in_features=3072, out_features=768, bias=True)\n",
              "            (LayerNorm): LayerNorm((768,), eps=1e-12, elementwise_affine=True)\n",
              "            (dropout): Dropout(p=0.1, inplace=False)\n",
              "          )\n",
              "        )\n",
              "      )\n",
              "    )\n",
              "    (pooler): BertPooler(\n",
              "      (dense): Linear(in_features=768, out_features=768, bias=True)\n",
              "      (activation): Tanh()\n",
              "    )\n",
              "  )\n",
              "  (dropout): Dropout(p=0.1, inplace=False)\n",
              "  (classifier): Linear(in_features=768, out_features=4, bias=True)\n",
              ")"
            ]
          },
          "execution_count": 72,
          "metadata": {},
          "output_type": "execute_result"
        }
      ],
      "source": [
        "model"
      ]
    },
    {
      "cell_type": "code",
      "execution_count": null,
      "metadata": {
        "id": "Lxz1XTIe6qgG"
      },
      "outputs": [],
      "source": [
        "# previous inputs object don't have device type, so we should place them on the same device as the model (if we don't run this code and our model is in GPU, there will be a problem becaue the place of tensors and model is different.)\n",
        "inputs = {k:v.to(device) for k,v in inputs.items()}"
      ]
    },
    {
      "cell_type": "code",
      "execution_count": null,
      "metadata": {
        "colab": {
          "base_uri": "https://localhost:8080/"
        },
        "id": "4-1MrnDU6qgG",
        "outputId": "426c4a66-584a-45b0-9c58-7b2c122f9e51"
      },
      "outputs": [
        {
          "data": {
            "text/plain": [
              "{'input_ids': tensor([[ 101, 2023, 2003, 1037, 3231,  102]]),\n",
              " 'token_type_ids': tensor([[0, 0, 0, 0, 0, 0]]),\n",
              " 'attention_mask': tensor([[1, 1, 1, 1, 1, 1]])}"
            ]
          },
          "execution_count": 74,
          "metadata": {},
          "output_type": "execute_result"
        }
      ],
      "source": [
        "inputs"
      ]
    },
    {
      "cell_type": "code",
      "execution_count": null,
      "metadata": {
        "colab": {
          "base_uri": "https://localhost:8080/"
        },
        "id": "pLeJf8YT6qgG",
        "outputId": "e5e53f06-c676-443f-b486-7ece60749bf0"
      },
      "outputs": [
        {
          "data": {
            "text/plain": [
              "dict"
            ]
          },
          "execution_count": 75,
          "metadata": {},
          "output_type": "execute_result"
        }
      ],
      "source": [
        "type(inputs)"
      ]
    },
    {
      "cell_type": "code",
      "execution_count": null,
      "metadata": {
        "id": "rh-ckH3T6qgG"
      },
      "outputs": [],
      "source": [
        "with torch.no_grad():\n",
        "  outputs = model(**inputs)"
      ]
    },
    {
      "cell_type": "code",
      "execution_count": null,
      "metadata": {
        "colab": {
          "base_uri": "https://localhost:8080/"
        },
        "id": "h5a3ZiQU6qgG",
        "outputId": "425bc283-a326-4e60-ccb0-9a0eef3d3cc5"
      },
      "outputs": [
        {
          "data": {
            "text/plain": [
              "SequenceClassifierOutput(loss=None, logits=tensor([[ 0.2216,  0.1413, -0.0584, -0.2314]]), hidden_states=None, attentions=None)"
            ]
          },
          "execution_count": 77,
          "metadata": {},
          "output_type": "execute_result"
        }
      ],
      "source": [
        "outputs"
      ]
    },
    {
      "cell_type": "markdown",
      "metadata": {
        "id": "NzamQ_Gv7H92"
      },
      "source": [
        "As we can see, since we use `AutoModelForSequenceClassification` class, we have a classification head on top of pooler layer, so in the output we give logits which are scores for each class. (There is no pooler layer in the output)"
      ]
    },
    {
      "cell_type": "code",
      "execution_count": null,
      "metadata": {
        "colab": {
          "base_uri": "https://localhost:8080/"
        },
        "id": "s2xQAvtQ6qgH",
        "outputId": "5d081e5a-89a3-4955-b092-e14be0390928"
      },
      "outputs": [
        {
          "name": "stdout",
          "output_type": "stream",
          "text": [
            "logits\n"
          ]
        }
      ],
      "source": [
        "for k, v in outputs.items():\n",
        "  print(k)"
      ]
    },
    {
      "cell_type": "markdown",
      "metadata": {
        "id": "ArCOmFnn7xB-"
      },
      "source": [
        "### AutoModelForSequenceClassification  class (output_hidden_states = True)"
      ]
    },
    {
      "cell_type": "markdown",
      "metadata": {
        "id": "kc6z2NOd7xB-"
      },
      "source": [
        "This time we set `output_hidden_states=True`."
      ]
    },
    {
      "cell_type": "code",
      "execution_count": null,
      "metadata": {
        "colab": {
          "base_uri": "https://localhost:8080/",
          "height": 105,
          "referenced_widgets": [
            "545b766b943a4e1780fc44b53ba87f69",
            "7460ff24ac784c0ca1e32491ea5c4255",
            "ffd1ba81e9da44b0aaca05c8636d254b",
            "6f2c430d7ad14c389ffbefb91669e9e8",
            "1ac91b27073d4723bd1755adc9a8fca1",
            "8dbe0682306746cbad8c35d1ac03ecae",
            "5b54c6790d844ed1a9634202d15e018d",
            "122287b01e774d478eaceb7f6be52bb9",
            "f5bdede267f146b4802422fb865deaf0",
            "6d38a3c57fa54ff89fd2e8910aa2febe",
            "68d33e87c60a4d23a3d01fc4c89725de"
          ]
        },
        "id": "S5KpkEzK7xB-",
        "outputId": "c8885c36-0db3-488d-90cd-e59523617c1d"
      },
      "outputs": [
        {
          "data": {
            "application/vnd.jupyter.widget-view+json": {
              "model_id": "545b766b943a4e1780fc44b53ba87f69",
              "version_major": 2,
              "version_minor": 0
            },
            "text/plain": [
              "model.safetensors:   0%|          | 0.00/440M [00:00<?, ?B/s]"
            ]
          },
          "metadata": {},
          "output_type": "display_data"
        },
        {
          "name": "stderr",
          "output_type": "stream",
          "text": [
            "Some weights of BertForSequenceClassification were not initialized from the model checkpoint at bert-base-uncased and are newly initialized: ['classifier.bias', 'classifier.weight']\n",
            "You should probably TRAIN this model on a down-stream task to be able to use it for predictions and inference.\n"
          ]
        }
      ],
      "source": [
        "from transformers import AutoModelForSequenceClassification\n",
        "\n",
        "num_labels = 4\n",
        "model = (AutoModelForSequenceClassification.from_pretrained(model_ckpt, num_labels=num_labels, output_hidden_states=True).to(device))"
      ]
    },
    {
      "cell_type": "code",
      "execution_count": null,
      "metadata": {
        "colab": {
          "base_uri": "https://localhost:8080/"
        },
        "id": "YCeyNsak7xB-",
        "outputId": "b8d59825-eae9-425e-e1bc-2a34e45f8ece"
      },
      "outputs": [
        {
          "data": {
            "text/plain": [
              "BertForSequenceClassification(\n",
              "  (bert): BertModel(\n",
              "    (embeddings): BertEmbeddings(\n",
              "      (word_embeddings): Embedding(30522, 768, padding_idx=0)\n",
              "      (position_embeddings): Embedding(512, 768)\n",
              "      (token_type_embeddings): Embedding(2, 768)\n",
              "      (LayerNorm): LayerNorm((768,), eps=1e-12, elementwise_affine=True)\n",
              "      (dropout): Dropout(p=0.1, inplace=False)\n",
              "    )\n",
              "    (encoder): BertEncoder(\n",
              "      (layer): ModuleList(\n",
              "        (0-11): 12 x BertLayer(\n",
              "          (attention): BertAttention(\n",
              "            (self): BertSelfAttention(\n",
              "              (query): Linear(in_features=768, out_features=768, bias=True)\n",
              "              (key): Linear(in_features=768, out_features=768, bias=True)\n",
              "              (value): Linear(in_features=768, out_features=768, bias=True)\n",
              "              (dropout): Dropout(p=0.1, inplace=False)\n",
              "            )\n",
              "            (output): BertSelfOutput(\n",
              "              (dense): Linear(in_features=768, out_features=768, bias=True)\n",
              "              (LayerNorm): LayerNorm((768,), eps=1e-12, elementwise_affine=True)\n",
              "              (dropout): Dropout(p=0.1, inplace=False)\n",
              "            )\n",
              "          )\n",
              "          (intermediate): BertIntermediate(\n",
              "            (dense): Linear(in_features=768, out_features=3072, bias=True)\n",
              "            (intermediate_act_fn): GELUActivation()\n",
              "          )\n",
              "          (output): BertOutput(\n",
              "            (dense): Linear(in_features=3072, out_features=768, bias=True)\n",
              "            (LayerNorm): LayerNorm((768,), eps=1e-12, elementwise_affine=True)\n",
              "            (dropout): Dropout(p=0.1, inplace=False)\n",
              "          )\n",
              "        )\n",
              "      )\n",
              "    )\n",
              "    (pooler): BertPooler(\n",
              "      (dense): Linear(in_features=768, out_features=768, bias=True)\n",
              "      (activation): Tanh()\n",
              "    )\n",
              "  )\n",
              "  (dropout): Dropout(p=0.1, inplace=False)\n",
              "  (classifier): Linear(in_features=768, out_features=4, bias=True)\n",
              ")"
            ]
          },
          "execution_count": 15,
          "metadata": {},
          "output_type": "execute_result"
        }
      ],
      "source": [
        "model"
      ]
    },
    {
      "cell_type": "code",
      "execution_count": null,
      "metadata": {
        "id": "7meNHDd27xB_"
      },
      "outputs": [],
      "source": [
        "inputs = {k:v.to(device) for k,v in inputs.items()}"
      ]
    },
    {
      "cell_type": "code",
      "execution_count": null,
      "metadata": {
        "colab": {
          "base_uri": "https://localhost:8080/"
        },
        "id": "Ga6WvLRv7xB_",
        "outputId": "193867c5-ef3e-44f0-cecf-6222eecbb4c0"
      },
      "outputs": [
        {
          "data": {
            "text/plain": [
              "{'input_ids': tensor([[ 101, 2023, 2003, 1037, 3231,  102]]),\n",
              " 'token_type_ids': tensor([[0, 0, 0, 0, 0, 0]]),\n",
              " 'attention_mask': tensor([[1, 1, 1, 1, 1, 1]])}"
            ]
          },
          "execution_count": 17,
          "metadata": {},
          "output_type": "execute_result"
        }
      ],
      "source": [
        "inputs"
      ]
    },
    {
      "cell_type": "code",
      "execution_count": null,
      "metadata": {
        "colab": {
          "base_uri": "https://localhost:8080/"
        },
        "id": "TIK-tij07xB_",
        "outputId": "53ae37d7-f104-4657-ccde-f901bfe3fa7a"
      },
      "outputs": [
        {
          "data": {
            "text/plain": [
              "dict"
            ]
          },
          "execution_count": 18,
          "metadata": {},
          "output_type": "execute_result"
        }
      ],
      "source": [
        "type(inputs)"
      ]
    },
    {
      "cell_type": "code",
      "execution_count": null,
      "metadata": {
        "id": "Cu4cbBmo7xCA"
      },
      "outputs": [],
      "source": [
        "with torch.no_grad():\n",
        "  outputs = model(**inputs)"
      ]
    },
    {
      "cell_type": "code",
      "execution_count": null,
      "metadata": {
        "colab": {
          "base_uri": "https://localhost:8080/"
        },
        "id": "_WokO9Eu7xCA",
        "outputId": "fac2021a-d29d-4566-fa9f-e9485fc6e3ed"
      },
      "outputs": [
        {
          "data": {
            "text/plain": [
              "SequenceClassifierOutput(loss=None, logits=tensor([[0.2475, 0.4059, 0.2219, 0.2966]]), hidden_states=(tensor([[[ 0.1686, -0.2858, -0.3261,  ..., -0.0276,  0.0383,  0.1640],\n",
              "         [-0.6485,  0.6739, -0.0932,  ...,  0.4475,  0.6696,  0.1820],\n",
              "         [-0.6270, -0.0633, -0.3143,  ...,  0.3427,  0.4636,  0.4594],\n",
              "         [ 0.3964,  0.3157,  0.0201,  ...,  0.3490,  0.1725,  0.4031],\n",
              "         [ 0.6010, -0.6970, -0.2001,  ...,  0.2960,  0.2060, -1.7181],\n",
              "         [-0.3251, -0.3188, -0.1163,  ..., -0.3960,  0.4112, -0.0776]]]), tensor([[[ 0.1594, -0.0126, -0.0831,  ...,  0.0845,  0.0346,  0.0609],\n",
              "         [-0.4994,  0.3792, -0.0207,  ...,  0.1002,  0.5073, -0.0968],\n",
              "         [-0.9795, -0.3698, -0.5920,  ...,  0.1966,  0.4721,  0.4123],\n",
              "         [ 0.6016,  0.2221,  0.1561,  ...,  0.4176,  0.0414,  0.5796],\n",
              "         [ 0.7979, -0.5858, -0.7035,  ...,  0.2299,  0.2113, -2.1547],\n",
              "         [-0.2022, -0.0519, -0.0880,  ..., -0.3461,  0.7971, -0.0570]]]), tensor([[[-2.2218e-02, -1.9562e-01, -1.5964e-01,  ...,  1.5629e-01,\n",
              "           1.4315e-01,  2.7155e-02],\n",
              "         [-8.6401e-01,  5.1112e-01,  3.1905e-01,  ...,  1.5549e-01,\n",
              "           3.4919e-01, -3.1944e-02],\n",
              "         [-1.1060e+00, -2.3153e-01,  9.1758e-02,  ...,  3.8778e-01,\n",
              "           2.6322e-01,  5.4417e-01],\n",
              "         [ 3.4819e-01, -1.1977e-03,  5.3347e-01,  ...,  3.6915e-01,\n",
              "           8.6147e-02,  5.0509e-01],\n",
              "         [ 8.9717e-01, -1.5234e-01, -3.0778e-01,  ...,  1.4625e-01,\n",
              "           4.4023e-01, -2.0977e+00],\n",
              "         [-2.3971e-01, -1.2733e-01,  9.6910e-02,  ..., -1.1506e-01,\n",
              "           6.5935e-01, -1.7708e-01]]]), tensor([[[ 0.0277, -0.3065,  0.0247,  ...,  0.2062,  0.2147,  0.2061],\n",
              "         [-0.4281,  0.0887,  0.3327,  ..., -0.1104,  0.0593,  0.1391],\n",
              "         [-0.9838, -0.2434,  0.5536,  ...,  0.1966, -0.1964,  0.4164],\n",
              "         [ 0.3018,  0.1203,  0.8881,  ...,  0.0646,  0.0419,  0.3314],\n",
              "         [ 1.0284, -0.0160, -0.1501,  ...,  0.0965, -0.0861, -2.1286],\n",
              "         [-0.0794, -0.1148,  0.1190,  ...,  0.0218,  0.1512, -0.0228]]]), tensor([[[ 0.1765, -0.5451, -0.2196,  ...,  0.4380,  0.1226,  0.7122],\n",
              "         [-0.4625,  0.0359, -0.0484,  ...,  0.3908, -0.0954, -0.1579],\n",
              "         [-1.1314, -0.5174,  0.7101,  ...,  0.3062, -0.2670,  0.8842],\n",
              "         [ 0.3510, -0.4567,  0.6392,  ...,  0.0633,  0.2305,  0.5916],\n",
              "         [ 0.8296, -0.2987, -0.5167,  ..., -0.5391, -0.4503, -1.8189],\n",
              "         [-0.0344, -0.0541,  0.0235,  ...,  0.0021,  0.0592, -0.0363]]]), tensor([[[-0.0400, -0.4129, -0.1708,  ..., -0.1006,  0.2922,  0.8662],\n",
              "         [-0.2541,  0.1439,  0.1876,  ..., -0.2464, -0.2618, -0.0789],\n",
              "         [-0.9936, -0.6981,  0.6386,  ...,  0.3987, -0.6715,  0.9046],\n",
              "         [ 0.2129, -0.1345,  0.7459,  ...,  0.1004, -0.6471,  0.9626],\n",
              "         [ 0.7957, -0.1814,  0.0295,  ..., -0.4684, -0.6446, -1.8377],\n",
              "         [-0.0262, -0.0364,  0.0271,  ...,  0.0241,  0.0067, -0.0378]]]), tensor([[[-0.1437, -0.4475, -0.2089,  ...,  0.0321,  0.1666,  0.8407],\n",
              "         [-0.4124,  0.1643,  0.0135,  ..., -0.5148, -0.1708, -0.0284],\n",
              "         [-0.6571, -0.3494,  0.4798,  ...,  0.1278, -0.5221,  0.7664],\n",
              "         [ 0.4199, -0.1931,  0.8144,  ..., -0.3456, -0.3689,  1.0546],\n",
              "         [ 0.6095, -0.1790,  0.0963,  ..., -0.6356, -0.8977, -2.1330],\n",
              "         [ 0.0099, -0.0386, -0.0076,  ...,  0.0115, -0.0169, -0.0419]]]), tensor([[[-0.3699, -0.6073, -0.4788,  ..., -0.0359,  0.2129,  1.1509],\n",
              "         [-0.4895,  0.1917, -0.4568,  ..., -0.3968, -0.1461, -0.0279],\n",
              "         [-0.9066, -0.3333,  0.5795,  ..., -0.2704, -0.1109,  0.9889],\n",
              "         [ 0.4749, -0.3266,  1.0218,  ..., -0.4470,  0.1817,  1.2266],\n",
              "         [ 0.4549, -0.6413, -0.4566,  ..., -0.8394, -0.6051, -1.7071],\n",
              "         [-0.0194, -0.0664, -0.0134,  ..., -0.0178,  0.0349, -0.0488]]]), tensor([[[-0.4271, -0.1336, -0.8871,  ..., -0.1549,  0.4776,  1.0841],\n",
              "         [-0.2795, -0.0053, -0.4295,  ..., -0.6551,  0.3591,  0.2623],\n",
              "         [-0.5647, -0.5419,  0.3968,  ...,  0.1698,  0.2673,  1.1169],\n",
              "         [ 0.8121, -0.4463,  1.3880,  ...,  0.2524,  0.6543,  1.7917],\n",
              "         [ 0.5103, -0.5272, -0.6251,  ..., -0.7574, -0.5237, -1.1941],\n",
              "         [-0.0113, -0.0608,  0.0234,  ..., -0.0415, -0.0170, -0.0610]]]), tensor([[[ 3.8226e-03,  3.4977e-01, -6.5135e-01,  ..., -5.0360e-01,\n",
              "           1.2206e-01,  9.2162e-01],\n",
              "         [-5.1947e-01,  1.1833e-01,  1.5133e-01,  ..., -6.7623e-01,\n",
              "           1.7811e-01,  4.5599e-01],\n",
              "         [-4.8258e-01, -8.5694e-02,  5.2928e-01,  ..., -4.2094e-01,\n",
              "           2.7857e-01,  1.1684e+00],\n",
              "         [ 3.5752e-01, -6.1814e-02,  1.2471e+00,  ..., -9.0445e-02,\n",
              "           3.2943e-01,  1.7771e+00],\n",
              "         [ 3.0485e-01, -6.6515e-01, -4.2157e-01,  ..., -2.4973e-01,\n",
              "          -2.9186e-01, -1.0445e+00],\n",
              "         [ 3.1944e-02, -3.7579e-02,  5.1326e-02,  ..., -4.1525e-02,\n",
              "          -7.3008e-02, -1.3911e-03]]]), tensor([[[-3.4848e-01,  2.3322e-01, -5.1411e-01,  ..., -3.2059e-01,\n",
              "          -6.3257e-01,  6.7889e-01],\n",
              "         [-4.7383e-01, -1.0742e-01,  1.1683e-01,  ..., -3.6033e-01,\n",
              "          -2.5536e-02,  3.2723e-01],\n",
              "         [-3.1177e-01, -6.2426e-02,  5.4836e-01,  ..., -3.5762e-01,\n",
              "          -1.3796e-01,  1.0486e+00],\n",
              "         [ 3.4612e-01, -2.2885e-01,  9.3946e-01,  ...,  3.4088e-01,\n",
              "          -1.0620e-01,  1.4793e+00],\n",
              "         [ 1.7544e-01, -9.5357e-01, -4.4590e-01,  ...,  2.0648e-02,\n",
              "          -2.5778e-01, -8.8538e-01],\n",
              "         [-6.0537e-02,  2.9842e-04,  1.0991e-03,  ...,  1.0851e-01,\n",
              "          -9.7805e-02, -1.0620e-03]]]), tensor([[[-0.2198,  0.1368, -0.2132,  ..., -0.2958, -0.3020,  0.7202],\n",
              "         [-0.4962, -0.4321,  0.3105,  ..., -0.6048,  0.1968,  0.8243],\n",
              "         [-0.4409, -0.4866,  0.7067,  ..., -0.2853,  0.1464,  1.5146],\n",
              "         [-0.0217, -0.4664,  1.2029,  ...,  0.1019,  0.0846,  2.0960],\n",
              "         [ 0.1807, -0.8415, -0.0238,  ...,  0.1927, -0.1088, -0.3506],\n",
              "         [ 0.0202,  0.0071, -0.0157,  ...,  0.0133, -0.0454,  0.0320]]]), tensor([[[-0.0260,  0.1920,  0.0344,  ..., -0.1346,  0.0773,  0.2477],\n",
              "         [-0.5674, -0.2561,  0.3124,  ..., -0.7818,  0.2190,  0.5927],\n",
              "         [-0.2362, -0.3177,  0.6953,  ..., -0.2110,  0.1040,  0.9891],\n",
              "         [-0.1820, -0.3069,  1.0218,  ..., -0.1590,  0.0841,  1.3962],\n",
              "         [ 0.0534, -0.4904, -0.0244,  ...,  0.1503,  0.1478, -0.2623],\n",
              "         [ 0.7536,  0.1498, -0.2997,  ...,  0.0948, -0.8660, -0.2169]]])), attentions=None)"
            ]
          },
          "execution_count": 20,
          "metadata": {},
          "output_type": "execute_result"
        }
      ],
      "source": [
        "outputs"
      ]
    },
    {
      "cell_type": "code",
      "execution_count": null,
      "metadata": {
        "colab": {
          "base_uri": "https://localhost:8080/"
        },
        "id": "r0LwB2Jp7xCA",
        "outputId": "5ef6c2cf-5bbe-4360-c0b3-143ca906d918"
      },
      "outputs": [
        {
          "name": "stdout",
          "output_type": "stream",
          "text": [
            "logits\n",
            "hidden_states\n"
          ]
        }
      ],
      "source": [
        "for k, v in outputs.items():\n",
        "  print(k)"
      ]
    },
    {
      "cell_type": "markdown",
      "metadata": {
        "id": "LwWMTu2O7xCA"
      },
      "source": [
        "As we can see, this time we have `hidden_states` in addition to `logits` parameter.\n",
        "\n",
        "For more information about [`pooler_output`](https://huggingface.co/docs/transformers/main_classes/output#transformers.modeling_outputs.BaseModelOutputWithPooling.pooler_output)\n",
        "\n",
        "pooler_output (torch.FloatTensor of shape (batch_size, hidden_size)) — Last layer hidden-state of the first token of the sequence (classification token) after further processing through the layers used for the auxiliary pretraining task. E.g. for BERT-family of models, this returns the classification token after processing through a linear layer and a tanh activation function. The linear layer weights are trained from the next sentence prediction (classification) objective during pretraining."
      ]
    },
    {
      "cell_type": "code",
      "execution_count": null,
      "metadata": {
        "colab": {
          "base_uri": "https://localhost:8080/"
        },
        "id": "CPghC_XV7xCA",
        "outputId": "70f9efb5-395e-46d3-8352-9604704d36e0"
      },
      "outputs": [
        {
          "data": {
            "text/plain": [
              "13"
            ]
          },
          "execution_count": 22,
          "metadata": {},
          "output_type": "execute_result"
        }
      ],
      "source": [
        "len(outputs[\"hidden_states\"])"
      ]
    },
    {
      "cell_type": "markdown",
      "metadata": {
        "id": "_aPuguw77xCA"
      },
      "source": [
        "The size of `hidden_state` parameter equals hidden states of the model at the output of each layer plus the optional initial embedding outputs. So, all in all the size equals (12 layers => 12 hidden states + 1 (initial embedding outputs)) = 13"
      ]
    },
    {
      "cell_type": "code",
      "execution_count": null,
      "metadata": {
        "colab": {
          "base_uri": "https://localhost:8080/"
        },
        "id": "hHO7nuJy7xCA",
        "outputId": "ee779051-1451-44bb-f3e6-5411df32f223"
      },
      "outputs": [
        {
          "data": {
            "text/plain": [
              "torch.Size([1, 6, 768])"
            ]
          },
          "execution_count": 89,
          "metadata": {},
          "output_type": "execute_result"
        }
      ],
      "source": [
        "outputs[\"hidden_states\"][0].shape"
      ]
    },
    {
      "cell_type": "code",
      "execution_count": null,
      "metadata": {
        "colab": {
          "base_uri": "https://localhost:8080/"
        },
        "id": "QsJkgnlA7xCA",
        "outputId": "fb44bc4f-959b-434d-d531-c89db9996224"
      },
      "outputs": [
        {
          "data": {
            "text/plain": [
              "torch.Size([1, 6, 768])"
            ]
          },
          "execution_count": 90,
          "metadata": {},
          "output_type": "execute_result"
        }
      ],
      "source": [
        "outputs[\"hidden_states\"][1].shape"
      ]
    },
    {
      "cell_type": "markdown",
      "metadata": {
        "id": "WcAW-7ce7xCA"
      },
      "source": [
        "We can see that the size of tokens in each hidden state is the same and just embedding will be reacher in top layers (because of multi head attention)"
      ]
    },
    {
      "cell_type": "code",
      "execution_count": null,
      "metadata": {
        "id": "bfEB9mXh7xCA"
      },
      "outputs": [],
      "source": [
        "# extract last hidden state\n",
        "x = outputs[\"hidden_states\"][-1]"
      ]
    },
    {
      "cell_type": "code",
      "execution_count": null,
      "metadata": {
        "colab": {
          "base_uri": "https://localhost:8080/"
        },
        "id": "VMiKHZdb7xCA",
        "outputId": "7b5008ef-0240-4d14-ce2c-9f7c76f320e3"
      },
      "outputs": [
        {
          "data": {
            "text/plain": [
              "torch.Size([1, 6, 768])"
            ]
          },
          "execution_count": 56,
          "metadata": {},
          "output_type": "execute_result"
        }
      ],
      "source": [
        "x.shape"
      ]
    },
    {
      "cell_type": "markdown",
      "metadata": {
        "id": "RXYnlEcWa_xM"
      },
      "source": [
        "## RoBERTa-base"
      ]
    },
    {
      "cell_type": "markdown",
      "metadata": {
        "id": "cATqj5lLnty-"
      },
      "source": [
        "RobertaModel => [source code](https://huggingface.co/docs/transformers/model_doc/roberta#transformers.RobertaModel)\n",
        "\n",
        "RobertaModelForSequenceClassification => [source code](https://huggingface.co/docs/transformers/model_doc/roberta#transformers.RobertaForSequenceClassification)"
      ]
    },
    {
      "cell_type": "markdown",
      "metadata": {
        "id": "AdgruQzAa_xM"
      },
      "source": [
        "### Tokenizer"
      ]
    },
    {
      "cell_type": "code",
      "execution_count": null,
      "metadata": {
        "colab": {
          "base_uri": "https://localhost:8080/",
          "height": 145,
          "referenced_widgets": [
            "f7e41c8ab4d347928db93d874e96fdbc",
            "3f0f2377751c494f8707dc48d7591ef2",
            "497132128a4e4cf1a0edde1bf06b1887",
            "8d8573e0618545c1911ce40f3b5d020a",
            "940ade401f9c4afb880714a879919694",
            "5be2bf31f20c495d83d943004a9a9f8f",
            "86fff9820b4f46e4acd2026c04b16343",
            "3514efa5697e4b568b02e5f65f98e754",
            "6b3ea55c4b24476e8b8272d4d86473e8",
            "e00e146504e846cbb682bb05f160e60e",
            "1eaae49976aa4228b7da73da06b4d870",
            "56a412458f3d4dd68e749ae5b78d6d73",
            "88f9086a766145998ff6ad2d52271017",
            "9aff45cb81a041b499a5ec3a1ebb27cc",
            "253417fedc964316bf01465a21407ece",
            "23aaae463499416596c01eb8aec033d0",
            "a737f4077416490dbfd0a8ace6b2987f",
            "6ae8e4b52a8540deb3e99dc0d9830435",
            "ec5e6267d57b4857bafad47f0dd2c81b",
            "0087b44c28544af789c7e1f91b221f01",
            "742fe26273754eb4ba4d1acc475d5c36",
            "f5f0cd65cce8448a8dbf5f8d1b426ef3",
            "521f5d0993ff417cafb744b1d92a7b48",
            "9e00ca1224f541dca07ba818e4c82ce2",
            "f26819ded3c0408aa13f89a9ab7202ec",
            "94b8efe177c04c93ae106127517f6972",
            "0b323f947877456db0d5c4adb7aeebaf",
            "66215e670576456a9e1ab4ef937638de",
            "acc82820ec244ffabe648c99702199ed",
            "09f053678611438ba19f6d14f7fadcea",
            "a6c0d406e73a4e1ebececf746910456e",
            "f645f76c4eb04116bcc3686f01669e0c",
            "9c94022d5fe244d7bdc1ad04f09acd7b",
            "e3027201c6044855b8a76f915569f279",
            "788c58a44e5b4445afd53a5550841a4b",
            "d5e4464c6cd048f6a877829c564dafab",
            "0dcf45f8f2cf4612b0e42891a2b2b2b3",
            "471f107b814446eab224e8747d1eac76",
            "9a1dd769709847ffbf292e63fede7a76",
            "a7e56a89b70f4d86b4a128c1380dc894",
            "c833450f157d4beab0e9f9ab97b4bb46",
            "51596cf8cd2f4d9f886feb61d63f0612",
            "e441ca652e2942f892f3ca159c51934d",
            "7a4a171d0f1340d2ada59da5c5052db0"
          ]
        },
        "id": "g7HotfgQa_xN",
        "outputId": "f10c5092-10a2-4e18-d9cc-b1497cef43e5"
      },
      "outputs": [
        {
          "data": {
            "application/vnd.jupyter.widget-view+json": {
              "model_id": "f7e41c8ab4d347928db93d874e96fdbc",
              "version_major": 2,
              "version_minor": 0
            },
            "text/plain": [
              "config.json:   0%|          | 0.00/481 [00:00<?, ?B/s]"
            ]
          },
          "metadata": {},
          "output_type": "display_data"
        },
        {
          "data": {
            "application/vnd.jupyter.widget-view+json": {
              "model_id": "56a412458f3d4dd68e749ae5b78d6d73",
              "version_major": 2,
              "version_minor": 0
            },
            "text/plain": [
              "vocab.json:   0%|          | 0.00/899k [00:00<?, ?B/s]"
            ]
          },
          "metadata": {},
          "output_type": "display_data"
        },
        {
          "data": {
            "application/vnd.jupyter.widget-view+json": {
              "model_id": "521f5d0993ff417cafb744b1d92a7b48",
              "version_major": 2,
              "version_minor": 0
            },
            "text/plain": [
              "merges.txt:   0%|          | 0.00/456k [00:00<?, ?B/s]"
            ]
          },
          "metadata": {},
          "output_type": "display_data"
        },
        {
          "data": {
            "application/vnd.jupyter.widget-view+json": {
              "model_id": "e3027201c6044855b8a76f915569f279",
              "version_major": 2,
              "version_minor": 0
            },
            "text/plain": [
              "tokenizer.json:   0%|          | 0.00/1.36M [00:00<?, ?B/s]"
            ]
          },
          "metadata": {},
          "output_type": "display_data"
        }
      ],
      "source": [
        "from transformers import AutoTokenizer\n",
        "\n",
        "model_ckpt = \"roberta-base\"\n",
        "tokenizer = AutoTokenizer.from_pretrained(model_ckpt)"
      ]
    },
    {
      "cell_type": "code",
      "execution_count": null,
      "metadata": {
        "colab": {
          "base_uri": "https://localhost:8080/"
        },
        "id": "4xKs8PN1a_xN",
        "outputId": "e9c84614-5866-4b42-e95f-aef0b1377012"
      },
      "outputs": [
        {
          "data": {
            "text/plain": [
              "RobertaTokenizerFast(name_or_path='roberta-base', vocab_size=50265, model_max_length=512, is_fast=True, padding_side='right', truncation_side='right', special_tokens={'bos_token': '<s>', 'eos_token': '</s>', 'unk_token': '<unk>', 'sep_token': '</s>', 'pad_token': '<pad>', 'cls_token': '<s>', 'mask_token': '<mask>'}, clean_up_tokenization_spaces=True),  added_tokens_decoder={\n",
              "\t0: AddedToken(\"<s>\", rstrip=False, lstrip=False, single_word=False, normalized=True, special=True),\n",
              "\t1: AddedToken(\"<pad>\", rstrip=False, lstrip=False, single_word=False, normalized=True, special=True),\n",
              "\t2: AddedToken(\"</s>\", rstrip=False, lstrip=False, single_word=False, normalized=True, special=True),\n",
              "\t3: AddedToken(\"<unk>\", rstrip=False, lstrip=False, single_word=False, normalized=True, special=True),\n",
              "\t50264: AddedToken(\"<mask>\", rstrip=False, lstrip=True, single_word=False, normalized=False, special=True),\n",
              "}"
            ]
          },
          "execution_count": 24,
          "metadata": {},
          "output_type": "execute_result"
        }
      ],
      "source": [
        "tokenizer"
      ]
    },
    {
      "cell_type": "code",
      "execution_count": null,
      "metadata": {
        "colab": {
          "base_uri": "https://localhost:8080/"
        },
        "id": "mlpWd3yFa_xO",
        "outputId": "d2dc06a5-6c58-4f21-96b2-fd0996490e2f"
      },
      "outputs": [
        {
          "data": {
            "text/plain": [
              "50265"
            ]
          },
          "execution_count": 25,
          "metadata": {},
          "output_type": "execute_result"
        }
      ],
      "source": [
        "tokenizer.vocab_size"
      ]
    },
    {
      "cell_type": "code",
      "execution_count": null,
      "metadata": {
        "colab": {
          "base_uri": "https://localhost:8080/"
        },
        "id": "XZfarTiLa_xO",
        "outputId": "a1ddb7db-8f70-4759-8c57-04b90f118c93"
      },
      "outputs": [
        {
          "data": {
            "text/plain": [
              "512"
            ]
          },
          "execution_count": 26,
          "metadata": {},
          "output_type": "execute_result"
        }
      ],
      "source": [
        "tokenizer.model_max_length"
      ]
    },
    {
      "cell_type": "code",
      "execution_count": null,
      "metadata": {
        "colab": {
          "base_uri": "https://localhost:8080/"
        },
        "id": "hzAwL7B4a_xO",
        "outputId": "160b24c8-bd80-4579-f311-32a54865810a"
      },
      "outputs": [
        {
          "data": {
            "text/plain": [
              "['input_ids', 'attention_mask']"
            ]
          },
          "execution_count": 27,
          "metadata": {},
          "output_type": "execute_result"
        }
      ],
      "source": [
        "tokenizer.model_input_names"
      ]
    },
    {
      "cell_type": "code",
      "execution_count": null,
      "metadata": {
        "id": "l5WFR7KTa_xO"
      },
      "outputs": [],
      "source": [
        "text = \"this is a test\""
      ]
    },
    {
      "cell_type": "code",
      "execution_count": null,
      "metadata": {
        "id": "a1TkY33ba_xP"
      },
      "outputs": [],
      "source": [
        "inputs = tokenizer(text, return_tensors=\"pt\")"
      ]
    },
    {
      "cell_type": "code",
      "execution_count": null,
      "metadata": {
        "colab": {
          "base_uri": "https://localhost:8080/"
        },
        "id": "K2y0flE5a_xP",
        "outputId": "5002ee1f-7bc9-4625-bcf3-d1ed7bdc3f90"
      },
      "outputs": [
        {
          "data": {
            "text/plain": [
              "{'input_ids': tensor([[   0, 9226,   16,   10, 1296,    2]]), 'attention_mask': tensor([[1, 1, 1, 1, 1, 1]])}"
            ]
          },
          "execution_count": 30,
          "metadata": {},
          "output_type": "execute_result"
        }
      ],
      "source": [
        "inputs"
      ]
    },
    {
      "cell_type": "code",
      "execution_count": null,
      "metadata": {
        "colab": {
          "base_uri": "https://localhost:8080/"
        },
        "id": "oVTidULUa_xP",
        "outputId": "129f9bd7-6711-4f2f-8f84-4d53bee7abc0"
      },
      "outputs": [
        {
          "data": {
            "text/plain": [
              "transformers.tokenization_utils_base.BatchEncoding"
            ]
          },
          "execution_count": 31,
          "metadata": {},
          "output_type": "execute_result"
        }
      ],
      "source": [
        "type(inputs)"
      ]
    },
    {
      "cell_type": "markdown",
      "metadata": {
        "id": "N6TfVxtMa_xP"
      },
      "source": [
        "### AutoModel class (output_hidden_states = False)"
      ]
    },
    {
      "cell_type": "code",
      "execution_count": null,
      "metadata": {
        "colab": {
          "base_uri": "https://localhost:8080/",
          "height": 105,
          "referenced_widgets": [
            "822e7735d7e54f8eafdb75276ad26175",
            "c6be0df78fec4b908472a0980e4cdfe4",
            "4bb55543018a48129031da37a5b35f8a",
            "5efe8f4d356746f19bfc2f216c60acef",
            "e1c81e4646064b1aac81595afbbc35fa",
            "4b9b90c4bace49318a31f7427d01d383",
            "34d12f1156124a85b08e3e3b4123b4b6",
            "ea9e400098914fe9b6a43a042daabd21",
            "64ebce51ec9541f691bff591565c8265",
            "7999ebf5db244832a4293a227506975c",
            "8f711166366b416197ebbb1f698399b3"
          ]
        },
        "id": "IZ9ungE0a_xQ",
        "outputId": "d195da03-8e2a-42ce-f469-5a147cb6d4ce"
      },
      "outputs": [
        {
          "data": {
            "application/vnd.jupyter.widget-view+json": {
              "model_id": "822e7735d7e54f8eafdb75276ad26175",
              "version_major": 2,
              "version_minor": 0
            },
            "text/plain": [
              "model.safetensors:   0%|          | 0.00/499M [00:00<?, ?B/s]"
            ]
          },
          "metadata": {},
          "output_type": "display_data"
        },
        {
          "name": "stderr",
          "output_type": "stream",
          "text": [
            "Some weights of RobertaModel were not initialized from the model checkpoint at roberta-base and are newly initialized: ['roberta.pooler.dense.bias', 'roberta.pooler.dense.weight']\n",
            "You should probably TRAIN this model on a down-stream task to be able to use it for predictions and inference.\n"
          ]
        }
      ],
      "source": [
        "from transformers import AutoModel\n",
        "\n",
        "num_labels = 4\n",
        "model = (AutoModel.from_pretrained(model_ckpt, num_labels=num_labels).to(device))"
      ]
    },
    {
      "cell_type": "code",
      "execution_count": null,
      "metadata": {
        "colab": {
          "base_uri": "https://localhost:8080/"
        },
        "id": "O52fR8uya_xQ",
        "outputId": "3f1137d9-ab2a-4521-95af-d3cc1c4455b1"
      },
      "outputs": [
        {
          "data": {
            "text/plain": [
              "RobertaModel(\n",
              "  (embeddings): RobertaEmbeddings(\n",
              "    (word_embeddings): Embedding(50265, 768, padding_idx=1)\n",
              "    (position_embeddings): Embedding(514, 768, padding_idx=1)\n",
              "    (token_type_embeddings): Embedding(1, 768)\n",
              "    (LayerNorm): LayerNorm((768,), eps=1e-05, elementwise_affine=True)\n",
              "    (dropout): Dropout(p=0.1, inplace=False)\n",
              "  )\n",
              "  (encoder): RobertaEncoder(\n",
              "    (layer): ModuleList(\n",
              "      (0-11): 12 x RobertaLayer(\n",
              "        (attention): RobertaAttention(\n",
              "          (self): RobertaSelfAttention(\n",
              "            (query): Linear(in_features=768, out_features=768, bias=True)\n",
              "            (key): Linear(in_features=768, out_features=768, bias=True)\n",
              "            (value): Linear(in_features=768, out_features=768, bias=True)\n",
              "            (dropout): Dropout(p=0.1, inplace=False)\n",
              "          )\n",
              "          (output): RobertaSelfOutput(\n",
              "            (dense): Linear(in_features=768, out_features=768, bias=True)\n",
              "            (LayerNorm): LayerNorm((768,), eps=1e-05, elementwise_affine=True)\n",
              "            (dropout): Dropout(p=0.1, inplace=False)\n",
              "          )\n",
              "        )\n",
              "        (intermediate): RobertaIntermediate(\n",
              "          (dense): Linear(in_features=768, out_features=3072, bias=True)\n",
              "          (intermediate_act_fn): GELUActivation()\n",
              "        )\n",
              "        (output): RobertaOutput(\n",
              "          (dense): Linear(in_features=3072, out_features=768, bias=True)\n",
              "          (LayerNorm): LayerNorm((768,), eps=1e-05, elementwise_affine=True)\n",
              "          (dropout): Dropout(p=0.1, inplace=False)\n",
              "        )\n",
              "      )\n",
              "    )\n",
              "  )\n",
              "  (pooler): RobertaPooler(\n",
              "    (dense): Linear(in_features=768, out_features=768, bias=True)\n",
              "    (activation): Tanh()\n",
              "  )\n",
              ")"
            ]
          },
          "execution_count": 33,
          "metadata": {},
          "output_type": "execute_result"
        }
      ],
      "source": [
        "model"
      ]
    },
    {
      "cell_type": "code",
      "execution_count": null,
      "metadata": {
        "id": "e3n8rm-Ba_xQ"
      },
      "outputs": [],
      "source": [
        "# previous inputs object don't have device type, so we should place them on the same device as the model (if we don't run this code and our model is in GPU, there will be a problem becaue the place of tensors and model is different.)\n",
        "inputs = {k:v.to(device) for k,v in inputs.items()}"
      ]
    },
    {
      "cell_type": "code",
      "execution_count": null,
      "metadata": {
        "colab": {
          "base_uri": "https://localhost:8080/"
        },
        "id": "Ic9K51rMa_xQ",
        "outputId": "9af2df59-9afa-40e7-a7bd-9256224b482d"
      },
      "outputs": [
        {
          "data": {
            "text/plain": [
              "{'input_ids': tensor([[   0, 9226,   16,   10, 1296,    2]]),\n",
              " 'attention_mask': tensor([[1, 1, 1, 1, 1, 1]])}"
            ]
          },
          "execution_count": 35,
          "metadata": {},
          "output_type": "execute_result"
        }
      ],
      "source": [
        "inputs"
      ]
    },
    {
      "cell_type": "code",
      "execution_count": null,
      "metadata": {
        "colab": {
          "base_uri": "https://localhost:8080/"
        },
        "id": "WscJ0KL_a_xQ",
        "outputId": "a02d375d-2686-445b-81ec-d4ca7624d558"
      },
      "outputs": [
        {
          "data": {
            "text/plain": [
              "dict"
            ]
          },
          "execution_count": 36,
          "metadata": {},
          "output_type": "execute_result"
        }
      ],
      "source": [
        "type(inputs)"
      ]
    },
    {
      "cell_type": "code",
      "execution_count": null,
      "metadata": {
        "id": "SD0Vxrhja_xQ"
      },
      "outputs": [],
      "source": [
        "with torch.no_grad():\n",
        "  outputs = model(**inputs)"
      ]
    },
    {
      "cell_type": "code",
      "execution_count": null,
      "metadata": {
        "colab": {
          "base_uri": "https://localhost:8080/"
        },
        "id": "6MJmzA-0a_xR",
        "outputId": "f7b4bf2c-6948-41e2-cedb-ccfd59a37401"
      },
      "outputs": [
        {
          "data": {
            "text/plain": [
              "BaseModelOutputWithPoolingAndCrossAttentions(last_hidden_state=tensor([[[-0.0449,  0.0641, -0.0302,  ..., -0.0481, -0.0586, -0.0241],\n",
              "         [ 0.1651, -0.1411,  0.1097,  ..., -0.0006,  0.0644, -0.1205],\n",
              "         [ 0.2951,  0.1887,  0.2250,  ..., -0.1786,  0.1688,  0.0601],\n",
              "         [ 0.1389, -0.1818,  0.0681,  ...,  0.0767,  0.0948,  0.3480],\n",
              "         [ 0.2178, -0.2184,  0.1444,  ...,  0.2590,  0.0483,  0.1576],\n",
              "         [-0.0422,  0.0573, -0.0571,  ..., -0.0836, -0.0624, -0.0582]]]), pooler_output=tensor([[ 4.5743e-02, -8.1662e-02,  9.0485e-02,  3.9966e-01,  1.6364e-01,\n",
              "          1.7953e-01, -1.2574e-02, -8.4830e-02, -2.0164e-01,  3.7782e-01,\n",
              "         -1.9069e-01, -3.4390e-01, -1.1624e-01,  1.0695e-02, -8.3627e-02,\n",
              "          2.1695e-01,  2.8111e-01,  3.2979e-01, -1.8854e-01,  1.5988e-01,\n",
              "         -2.0353e-01,  2.4059e-01,  1.0932e-01, -1.8814e-01, -1.7266e-02,\n",
              "         -5.7698e-02,  8.0516e-03,  4.7877e-01,  1.5729e-01,  2.8460e-01,\n",
              "         -2.1817e-01, -4.3100e-02, -2.6352e-01,  1.7057e-02,  3.4246e-01,\n",
              "          7.5838e-02, -3.3364e-01, -4.4850e-01, -2.4345e-01, -7.7269e-02,\n",
              "         -9.2345e-02,  2.3766e-01,  2.7477e-01, -7.6992e-02, -1.9283e-01,\n",
              "         -1.4973e-01,  3.1480e-01, -2.1977e-01,  1.1797e-01, -1.3655e-01,\n",
              "          3.5141e-01, -3.3292e-01,  7.9087e-02, -1.7147e-01,  9.8742e-02,\n",
              "          3.2435e-02, -1.8067e-01, -1.3185e-01, -1.5147e-01,  8.6452e-02,\n",
              "          8.7961e-02, -3.5752e-01, -7.0356e-02, -7.5301e-02, -9.9356e-03,\n",
              "          2.2760e-01, -1.3252e-02, -4.8948e-03,  3.3154e-01, -4.5962e-02,\n",
              "         -4.0321e-02, -2.1222e-01, -1.0889e-01,  2.6792e-01, -3.1549e-01,\n",
              "          3.0295e-01,  3.1628e-01,  1.5446e-02,  3.0450e-02,  4.4154e-02,\n",
              "         -6.6176e-02, -1.5278e-01, -2.8136e-01,  2.5020e-01,  2.0914e-01,\n",
              "          3.7961e-02,  3.5714e-01, -3.4924e-01,  5.7886e-02, -1.3579e-01,\n",
              "         -2.9733e-01,  2.8949e-01, -4.1019e-02,  2.0486e-01, -1.0456e-02,\n",
              "         -1.9587e-01,  1.5690e-01,  2.1667e-02,  8.8668e-02,  4.4117e-02,\n",
              "         -1.2037e-01,  4.9557e-02, -1.9069e-01,  3.8759e-03, -2.6018e-01,\n",
              "          3.3402e-01, -3.4572e-01,  2.6123e-01, -6.5210e-02,  9.9249e-02,\n",
              "         -3.7699e-01,  5.5089e-02,  1.1249e-01, -1.0702e-01, -1.9976e-01,\n",
              "         -2.0639e-01,  1.0383e-01, -1.2929e-01,  1.8412e-01, -3.3946e-02,\n",
              "         -4.2585e-01, -9.9672e-02,  2.5723e-01,  1.2092e-01,  1.4310e-01,\n",
              "         -6.1463e-01,  1.6279e-01,  3.2707e-01,  1.2838e-02, -2.8781e-01,\n",
              "          1.1680e-01,  2.3869e-01,  2.5188e-01,  1.8642e-02,  2.2071e-01,\n",
              "         -6.1157e-02,  2.0804e-01,  2.7807e-01, -1.2389e-01,  1.3159e-01,\n",
              "          1.7036e-01,  1.6636e-01, -2.1504e-01, -1.9381e-01, -3.2588e-02,\n",
              "         -1.3628e-01,  3.2643e-01, -4.8809e-01, -2.5798e-01,  1.5299e-01,\n",
              "         -7.8765e-02,  3.7772e-01,  4.0487e-01, -1.0404e-01, -1.1258e-01,\n",
              "         -1.0286e-01, -1.7849e-01,  1.9950e-02,  1.4892e-02,  2.4341e-01,\n",
              "          1.3136e-01, -1.7703e-01,  2.4317e-01, -5.6723e-02, -6.3224e-02,\n",
              "         -1.2769e-01, -5.0650e-02,  2.0177e-01, -5.7268e-02, -1.1220e-02,\n",
              "         -1.6359e-01,  7.6011e-02, -1.7424e-01,  4.2380e-01,  1.8984e-01,\n",
              "         -1.2511e-01, -1.1539e-01,  5.0698e-01,  1.9761e-01, -2.5808e-01,\n",
              "         -2.3319e-02,  1.7788e-01, -1.4890e-01,  2.5774e-01,  6.1049e-02,\n",
              "         -1.3860e-01,  1.6538e-01,  3.6013e-02, -1.7873e-01,  3.8420e-01,\n",
              "          2.9854e-01, -7.6063e-02,  1.8461e-01, -6.4809e-02, -2.7147e-01,\n",
              "         -3.0336e-01, -1.6861e-01,  3.2015e-01, -1.6040e-01,  3.0999e-01,\n",
              "          1.0204e-01,  3.0523e-03,  2.0752e-01, -3.8400e-01,  1.5239e-01,\n",
              "         -1.7814e-01,  1.2995e-01, -1.9504e-01, -2.7285e-02,  1.1851e-01,\n",
              "          9.4414e-02,  1.3026e-01, -1.4028e-01, -7.5851e-02,  1.4211e-01,\n",
              "          7.5992e-02, -1.8523e-01,  6.7568e-02,  7.3378e-02,  4.3990e-01,\n",
              "          1.4437e-01,  7.2560e-02,  3.8598e-02, -2.7232e-01, -4.0191e-02,\n",
              "         -4.4895e-02,  2.1132e-02,  3.4266e-01, -3.5347e-02,  3.9598e-01,\n",
              "         -2.6096e-01, -2.9474e-01, -1.3315e-02, -4.3374e-02, -2.0049e-01,\n",
              "         -3.0523e-01, -3.1363e-01,  3.6655e-03, -3.9550e-02,  3.6791e-01,\n",
              "          4.4885e-01, -1.4200e-01, -8.2113e-02,  1.3557e-01, -1.4853e-01,\n",
              "         -2.2372e-02, -5.1314e-02,  1.1892e-01, -3.4269e-01, -1.4882e-01,\n",
              "          1.4480e-02, -1.4100e-01,  2.3897e-01, -2.5247e-01, -3.7740e-02,\n",
              "         -1.4821e-01,  2.2584e-01,  1.7575e-01, -1.9859e-01,  2.0780e-01,\n",
              "         -4.7664e-02, -3.2065e-01, -1.8701e-01, -8.2680e-02,  1.7347e-01,\n",
              "         -3.9580e-02, -2.0525e-01,  1.9570e-01,  1.3898e-02,  2.0062e-01,\n",
              "         -4.2268e-01,  1.5043e-01,  2.1966e-01,  8.7810e-03, -1.9753e-01,\n",
              "          2.8843e-01, -3.9665e-01,  3.0843e-01,  1.0976e-01, -1.1581e-01,\n",
              "          5.2244e-01, -4.3453e-01,  8.0090e-02, -1.4310e-01, -3.7969e-01,\n",
              "          3.5566e-02, -1.7635e-01, -2.3559e-01, -1.2966e-02,  4.9060e-01,\n",
              "         -1.0753e-01, -1.7045e-02, -2.0135e-01,  6.0229e-02, -1.0503e-01,\n",
              "          2.2620e-01,  3.2230e-01,  2.5538e-01, -5.5534e-01,  2.3760e-01,\n",
              "          3.7114e-01,  2.6491e-01, -1.7915e-01, -7.9792e-02, -2.3998e-01,\n",
              "         -9.2157e-04,  1.2466e-01,  8.5119e-02, -9.1395e-02,  2.4277e-01,\n",
              "         -2.3153e-01,  5.2353e-02, -7.1868e-02,  1.8164e-01,  2.3579e-01,\n",
              "         -3.3495e-02, -1.9658e-01, -3.4650e-01, -1.6811e-02,  4.8436e-04,\n",
              "          1.8184e-01,  2.5986e-01,  1.5028e-01,  1.1761e-01, -1.0805e-01,\n",
              "         -1.4446e-02,  1.8097e-01, -5.8944e-02, -4.9021e-02, -8.2912e-02,\n",
              "         -1.0165e-01, -4.4360e-02, -1.2467e-01,  2.2377e-01, -1.8667e-01,\n",
              "         -4.7462e-01, -3.3849e-02, -5.8566e-02, -6.8003e-02,  2.1592e-01,\n",
              "          8.0787e-02,  1.6631e-01, -2.7892e-01, -7.8851e-02, -3.2496e-02,\n",
              "          4.8239e-02, -1.2424e-01, -2.2407e-02,  1.4479e-01, -2.8935e-01,\n",
              "          2.2673e-01, -8.5008e-02, -3.9816e-01, -2.4612e-02,  6.2331e-02,\n",
              "          2.9586e-02,  1.2500e-01,  1.6647e-01, -1.6274e-01, -1.1895e-01,\n",
              "         -1.5476e-01,  1.9418e-01, -1.2087e-01, -6.3738e-02,  9.5392e-03,\n",
              "         -3.0499e-01, -4.8521e-02,  4.2245e-01,  5.7441e-02,  1.4357e-01,\n",
              "         -9.8390e-02, -3.5764e-01, -7.1455e-02,  8.3526e-02,  3.1075e-01,\n",
              "          2.8889e-01,  4.7350e-01, -3.2918e-01, -3.2570e-01,  3.7284e-01,\n",
              "          8.8883e-02, -1.0517e-01, -6.2947e-02,  3.6890e-01,  1.6278e-01,\n",
              "         -9.6907e-02, -2.5367e-01,  6.0846e-02, -3.3695e-01,  4.4605e-02,\n",
              "          1.1691e-01,  1.8694e-01, -9.6750e-02, -2.0211e-01, -9.5045e-02,\n",
              "          6.4669e-02, -1.4279e-01, -1.5189e-01, -3.1119e-01, -3.2106e-01,\n",
              "         -2.0834e-01,  8.7179e-02,  2.7197e-02,  1.5658e-01,  2.4854e-01,\n",
              "         -3.3350e-01, -3.1372e-01,  2.1003e-01, -1.6039e-02,  3.3474e-01,\n",
              "         -4.1019e-02,  3.8944e-01,  1.5555e-01, -6.0061e-02,  1.9115e-01,\n",
              "         -3.8180e-01,  1.2887e-01,  2.7230e-01,  1.1934e-02,  5.5328e-02,\n",
              "         -7.4632e-02, -1.2738e-01, -1.5169e-01, -5.3840e-03, -5.6182e-02,\n",
              "         -2.2605e-01, -1.2086e-01,  2.0101e-01, -8.7566e-02,  1.9766e-01,\n",
              "         -1.9904e-02, -1.6541e-01, -2.2553e-01, -4.7164e-02, -3.3327e-01,\n",
              "          1.8105e-01,  4.0347e-01,  1.0071e-01,  2.3398e-01,  9.4546e-02,\n",
              "          1.2543e-01,  1.4241e-01,  2.0712e-01, -3.1136e-02, -1.4537e-01,\n",
              "         -5.6061e-02, -6.4868e-02,  1.0882e-01, -1.5241e-01,  2.1704e-01,\n",
              "         -2.8083e-01, -9.0452e-03, -2.8725e-01,  1.9704e-01,  6.6383e-02,\n",
              "          1.9027e-01, -8.3461e-02,  2.5589e-01, -9.5482e-02,  1.6838e-01,\n",
              "         -1.8366e-01,  1.6857e-01, -1.9041e-01, -3.3764e-01,  2.6340e-02,\n",
              "         -3.3973e-01,  1.2226e-01, -1.8443e-01, -2.3867e-01,  1.8343e-01,\n",
              "          7.7876e-02,  8.0750e-02,  6.8414e-02,  5.9246e-02,  1.6571e-01,\n",
              "         -1.0453e-01, -5.2226e-02,  1.8956e-01, -1.3158e-01, -9.9896e-02,\n",
              "          7.9986e-02,  9.9466e-02, -1.5408e-01,  2.5720e-01,  1.1459e-01,\n",
              "         -1.1227e-02,  4.4819e-01,  2.4616e-01,  5.1250e-02, -1.0170e-01,\n",
              "         -5.2446e-01, -3.3459e-02,  2.5972e-01,  1.7736e-01, -3.1341e-02,\n",
              "          4.0912e-02, -8.2481e-04,  3.0600e-02, -2.4039e-01, -4.1117e-03,\n",
              "         -5.6922e-02,  2.9840e-01, -1.4098e-01, -1.5836e-01, -1.5278e-01,\n",
              "         -3.3225e-01, -7.8573e-02, -2.2486e-01, -1.5702e-01,  1.2375e-01,\n",
              "         -2.5857e-02, -6.9111e-01,  4.6925e-01,  5.7258e-03, -1.3076e-01,\n",
              "          1.4233e-01,  5.2222e-02, -1.9919e-01, -6.9357e-02,  2.4504e-01,\n",
              "         -4.2292e-01,  3.5462e-01,  2.5521e-01, -1.7069e-01, -8.5631e-02,\n",
              "         -1.6984e-01, -3.1047e-02, -5.4642e-02, -1.1927e-01, -4.6703e-02,\n",
              "         -1.4171e-01,  2.6987e-01, -2.4533e-01, -1.0482e-01,  2.2440e-01,\n",
              "         -3.4918e-01, -2.8400e-01, -3.9482e-01,  1.6843e-01, -5.4458e-02,\n",
              "          2.5558e-01, -1.8904e-01, -4.1972e-02, -1.5554e-01,  5.6336e-02,\n",
              "          1.7693e-01, -1.4716e-01, -7.4627e-02, -2.7009e-02, -2.1536e-01,\n",
              "         -1.0911e-01,  2.4385e-01,  1.1136e-01, -2.4343e-01, -2.2584e-01,\n",
              "         -2.3305e-01,  1.9317e-01, -3.5085e-01,  1.0237e-01,  1.0472e-02,\n",
              "         -6.7348e-02, -9.1348e-03,  1.1586e-01,  4.6261e-02,  7.6313e-02,\n",
              "         -3.2616e-01, -3.4636e-02, -1.0248e-01, -1.5864e-01, -7.6113e-02,\n",
              "         -2.7777e-01, -1.2251e-01,  3.1635e-02,  5.8296e-03, -3.6802e-02,\n",
              "          1.8084e-01, -2.1945e-01,  4.7719e-01, -2.3989e-01,  2.5515e-01,\n",
              "         -9.3439e-03,  2.7167e-01, -6.4916e-02, -2.0442e-01, -2.1191e-01,\n",
              "         -8.9776e-02,  4.1061e-03,  8.0832e-02,  1.0684e-01,  6.2723e-02,\n",
              "          2.0258e-02,  8.3028e-02, -1.9415e-01, -1.1272e-02,  1.5242e-01,\n",
              "         -1.9073e-01, -2.6245e-01, -2.8086e-01,  2.7224e-01, -8.9313e-02,\n",
              "         -5.9200e-02, -1.0006e-01, -2.7616e-02,  5.9101e-02, -2.2597e-01,\n",
              "          3.7805e-01,  2.7434e-01, -2.9410e-02,  1.8604e-01, -1.2018e-01,\n",
              "          4.7005e-02,  8.8794e-03, -8.8175e-02,  2.2404e-01,  1.1568e-01,\n",
              "         -8.5465e-02, -2.7877e-01, -7.3804e-03,  3.8253e-02, -8.6545e-02,\n",
              "         -1.0536e-01,  1.5760e-01,  2.4878e-01,  1.0400e-01, -2.5106e-01,\n",
              "         -7.5748e-02,  7.5847e-03,  1.3021e-01, -3.6998e-01,  1.1819e-01,\n",
              "         -1.2600e-01, -6.1777e-02, -3.2879e-03,  2.9296e-02,  1.8423e-01,\n",
              "          3.0357e-01, -5.1524e-02,  2.9469e-01, -2.0298e-02,  2.2656e-01,\n",
              "          1.3434e-01,  1.1946e-01,  2.3239e-01,  2.2207e-01, -3.5745e-01,\n",
              "         -1.5573e-01,  4.5377e-02,  7.0858e-01,  2.9737e-01, -6.2675e-02,\n",
              "         -3.3846e-01,  1.7373e-01,  1.2749e-01,  1.7258e-01,  4.4963e-01,\n",
              "         -9.9875e-02,  2.2865e-01,  1.9844e-02,  1.3263e-01, -3.1102e-02,\n",
              "          1.6954e-01, -1.3259e-01,  9.1497e-02, -1.7015e-02, -1.5852e-01,\n",
              "          1.1310e-01, -3.5703e-02, -4.0671e-01,  2.6316e-01, -4.2928e-01,\n",
              "          2.0972e-01, -4.4413e-01, -9.7157e-02, -1.6639e-01,  1.5205e-01,\n",
              "          1.6476e-01, -2.2058e-01, -1.3100e-02,  2.8315e-02, -5.3396e-02,\n",
              "          1.7942e-01,  2.2622e-02,  5.7523e-02,  3.5221e-01, -3.6298e-01,\n",
              "          7.2289e-02,  2.1029e-01, -1.8406e-01,  6.0325e-02, -9.6726e-02,\n",
              "         -6.0813e-02, -9.0287e-02, -2.5669e-01, -6.8992e-02,  2.5685e-02,\n",
              "         -2.9267e-01,  3.1898e-01,  1.7531e-01,  9.1282e-02, -5.1058e-01,\n",
              "         -2.7997e-01, -4.8564e-01, -1.9978e-01, -1.0206e-02,  2.2195e-01,\n",
              "         -5.9243e-03, -6.6846e-02, -1.1909e-01, -1.2391e-01,  1.4585e-01,\n",
              "         -3.3232e-01,  3.6656e-01, -4.3698e-01,  2.3594e-01,  2.7589e-01,\n",
              "         -1.0573e-01,  3.8787e-01,  5.1710e-02, -6.6512e-02, -2.5694e-01,\n",
              "         -1.8081e-01, -3.9488e-01,  1.6186e-01,  1.5702e-01, -1.9530e-01,\n",
              "          2.2215e-01,  1.6916e-01,  5.3855e-01,  3.6846e-01,  2.6243e-01,\n",
              "          3.1954e-01, -4.0854e-02,  2.9510e-01, -1.2616e-01, -7.2969e-02,\n",
              "          3.9179e-01,  6.6916e-02, -3.1635e-01,  2.9778e-01, -2.5053e-01,\n",
              "         -3.6595e-01,  1.7181e-02, -4.4100e-01, -1.1022e-01,  8.8820e-02,\n",
              "         -1.7746e-01, -6.3672e-02, -4.2662e-02,  8.3370e-02,  8.5337e-02,\n",
              "         -1.3823e-01,  4.4062e-01,  1.0008e-01, -5.8661e-02, -2.0814e-01,\n",
              "         -1.6944e-01, -2.6091e-01,  2.5483e-02, -1.1549e-01, -9.8965e-02,\n",
              "          2.0246e-01, -2.8995e-01,  1.5780e-02, -1.0943e-01,  1.1861e-02,\n",
              "         -1.4480e-01, -2.1792e-01, -1.7232e-01]]), hidden_states=None, past_key_values=None, attentions=None, cross_attentions=None)"
            ]
          },
          "execution_count": 38,
          "metadata": {},
          "output_type": "execute_result"
        }
      ],
      "source": [
        "outputs"
      ]
    },
    {
      "cell_type": "code",
      "execution_count": null,
      "metadata": {
        "colab": {
          "base_uri": "https://localhost:8080/"
        },
        "id": "EC8E3GHKa_xR",
        "outputId": "dd294caa-3426-44dd-828e-04c37a9516ba"
      },
      "outputs": [
        {
          "name": "stdout",
          "output_type": "stream",
          "text": [
            "last_hidden_state\n",
            "pooler_output\n"
          ]
        }
      ],
      "source": [
        "for k, v in outputs.items():\n",
        "  print(k)"
      ]
    },
    {
      "cell_type": "markdown",
      "metadata": {
        "id": "DucpkzA_a_xR"
      },
      "source": [
        "As we can see, we set don't set `output_hidden_states = True`, so in the output, `hidden_states` parameter doesn't have value and we have value just for `last_hidden_state` and `pooler_output` parameters."
      ]
    },
    {
      "cell_type": "code",
      "execution_count": null,
      "metadata": {
        "id": "_o0QCbM1a_xR"
      },
      "outputs": [],
      "source": [
        "y = outputs[\"last_hidden_state\"]"
      ]
    },
    {
      "cell_type": "code",
      "execution_count": null,
      "metadata": {
        "colab": {
          "base_uri": "https://localhost:8080/"
        },
        "id": "v0Ouxky3a_xR",
        "outputId": "69b2589c-8152-470d-dd22-33d42d25e9dc"
      },
      "outputs": [
        {
          "data": {
            "text/plain": [
              "tensor([[[-0.0449,  0.0641, -0.0302,  ..., -0.0481, -0.0586, -0.0241],\n",
              "         [ 0.1651, -0.1411,  0.1097,  ..., -0.0006,  0.0644, -0.1205],\n",
              "         [ 0.2951,  0.1887,  0.2250,  ..., -0.1786,  0.1688,  0.0601],\n",
              "         [ 0.1389, -0.1818,  0.0681,  ...,  0.0767,  0.0948,  0.3480],\n",
              "         [ 0.2178, -0.2184,  0.1444,  ...,  0.2590,  0.0483,  0.1576],\n",
              "         [-0.0422,  0.0573, -0.0571,  ..., -0.0836, -0.0624, -0.0582]]])"
            ]
          },
          "execution_count": 41,
          "metadata": {},
          "output_type": "execute_result"
        }
      ],
      "source": [
        "y"
      ]
    },
    {
      "cell_type": "code",
      "execution_count": null,
      "metadata": {
        "colab": {
          "base_uri": "https://localhost:8080/"
        },
        "id": "BylJTvOTa_xR",
        "outputId": "10274b80-7074-44db-ca21-1e9334236f89"
      },
      "outputs": [
        {
          "data": {
            "text/plain": [
              "torch.Size([1, 6, 768])"
            ]
          },
          "execution_count": 42,
          "metadata": {},
          "output_type": "execute_result"
        }
      ],
      "source": [
        "y.shape"
      ]
    },
    {
      "cell_type": "markdown",
      "metadata": {
        "id": "WX_t5T37a_xR"
      },
      "source": [
        "It is obvious that `y` is the last hidden state in out model (hidden state that is corresponds to last layer(12th layer)). The shape of this object is like (batch_size, number of tokens, hidden size), out sentence has 5 tokens and as we know in transformers based models we always put `[CLS]` token at the begining of each **sequence** and `[SEP]` token at the end of each **sentence**. So, all in all we have 6 (4 tokens in sentenece + 2 special tokens) tokens. In this example we want to extract `[CLS]` token, so in this case we should select first token of this batch.\n",
        "\n",
        "For this aim these two lines of codes are the same and give us `[CLS]` token.\n",
        "\n",
        "```\n",
        "utputs.last_hidden_state[:,0]\n",
        "```\n",
        "and\n",
        "```\n",
        "outputs.last_hidden_state[:,0,:]\n",
        "```"
      ]
    },
    {
      "cell_type": "code",
      "execution_count": null,
      "metadata": {
        "id": "N3M-SEiPa_xR"
      },
      "outputs": [],
      "source": [
        "zx = outputs.last_hidden_state[:,0,:]"
      ]
    },
    {
      "cell_type": "code",
      "execution_count": null,
      "metadata": {
        "colab": {
          "base_uri": "https://localhost:8080/"
        },
        "id": "500t3lY9a_xS",
        "outputId": "8d20327d-be06-4f8d-bb4f-c6f0f806ea8e"
      },
      "outputs": [
        {
          "data": {
            "text/plain": [
              "torch.Size([1, 768])"
            ]
          },
          "execution_count": 44,
          "metadata": {},
          "output_type": "execute_result"
        }
      ],
      "source": [
        "zx.size()"
      ]
    },
    {
      "cell_type": "code",
      "execution_count": null,
      "metadata": {
        "id": "D6sgTQmra_xS"
      },
      "outputs": [],
      "source": [
        "zy = outputs.last_hidden_state[:,0]"
      ]
    },
    {
      "cell_type": "code",
      "execution_count": null,
      "metadata": {
        "colab": {
          "base_uri": "https://localhost:8080/"
        },
        "id": "JQ6-EmSla_xS",
        "outputId": "1b675d89-d750-42ef-f088-00de7a7f307a"
      },
      "outputs": [
        {
          "data": {
            "text/plain": [
              "torch.Size([1, 768])"
            ]
          },
          "execution_count": 46,
          "metadata": {},
          "output_type": "execute_result"
        }
      ],
      "source": [
        "zy.size()"
      ]
    },
    {
      "cell_type": "markdown",
      "metadata": {
        "id": "n0VBW6e9a_xS"
      },
      "source": [
        "In this line of code we proof the equality of those two lines of codes."
      ]
    },
    {
      "cell_type": "code",
      "execution_count": null,
      "metadata": {
        "colab": {
          "base_uri": "https://localhost:8080/"
        },
        "id": "68emtgp2a_xS",
        "outputId": "318b673b-21de-4560-c501-6111c794cc05"
      },
      "outputs": [
        {
          "data": {
            "text/plain": [
              "tensor(True)"
            ]
          },
          "execution_count": 47,
          "metadata": {},
          "output_type": "execute_result"
        }
      ],
      "source": [
        "torch.all(zx == zy)"
      ]
    },
    {
      "cell_type": "markdown",
      "metadata": {
        "id": "ZSa0P5h1a_xT"
      },
      "source": [
        "### AutoModel class (output_hidden_states = True)"
      ]
    },
    {
      "cell_type": "markdown",
      "metadata": {
        "id": "FEVNyvV2a_xT"
      },
      "source": [
        "This time we set `output_hidden_states=True`. So, in the output we will have output of each hidden states in addition to `last_hidden_state` parameter."
      ]
    },
    {
      "cell_type": "code",
      "execution_count": null,
      "metadata": {
        "colab": {
          "base_uri": "https://localhost:8080/"
        },
        "id": "vd0iyAT_a_xT",
        "outputId": "5c8c2373-3c00-4ed2-b639-bfea52320aa4"
      },
      "outputs": [
        {
          "name": "stderr",
          "output_type": "stream",
          "text": [
            "Some weights of RobertaModel were not initialized from the model checkpoint at roberta-base and are newly initialized: ['roberta.pooler.dense.bias', 'roberta.pooler.dense.weight']\n",
            "You should probably TRAIN this model on a down-stream task to be able to use it for predictions and inference.\n"
          ]
        }
      ],
      "source": [
        "from transformers import AutoModel\n",
        "\n",
        "num_labels = 4\n",
        "model = (AutoModel.from_pretrained(model_ckpt, num_labels=num_labels, output_hidden_states=True).to(device))"
      ]
    },
    {
      "cell_type": "code",
      "execution_count": null,
      "metadata": {
        "colab": {
          "base_uri": "https://localhost:8080/"
        },
        "id": "kEFd5OkJa_xT",
        "outputId": "65799b85-c6d1-475f-9280-8462b15813c0"
      },
      "outputs": [
        {
          "data": {
            "text/plain": [
              "RobertaModel(\n",
              "  (embeddings): RobertaEmbeddings(\n",
              "    (word_embeddings): Embedding(50265, 768, padding_idx=1)\n",
              "    (position_embeddings): Embedding(514, 768, padding_idx=1)\n",
              "    (token_type_embeddings): Embedding(1, 768)\n",
              "    (LayerNorm): LayerNorm((768,), eps=1e-05, elementwise_affine=True)\n",
              "    (dropout): Dropout(p=0.1, inplace=False)\n",
              "  )\n",
              "  (encoder): RobertaEncoder(\n",
              "    (layer): ModuleList(\n",
              "      (0-11): 12 x RobertaLayer(\n",
              "        (attention): RobertaAttention(\n",
              "          (self): RobertaSelfAttention(\n",
              "            (query): Linear(in_features=768, out_features=768, bias=True)\n",
              "            (key): Linear(in_features=768, out_features=768, bias=True)\n",
              "            (value): Linear(in_features=768, out_features=768, bias=True)\n",
              "            (dropout): Dropout(p=0.1, inplace=False)\n",
              "          )\n",
              "          (output): RobertaSelfOutput(\n",
              "            (dense): Linear(in_features=768, out_features=768, bias=True)\n",
              "            (LayerNorm): LayerNorm((768,), eps=1e-05, elementwise_affine=True)\n",
              "            (dropout): Dropout(p=0.1, inplace=False)\n",
              "          )\n",
              "        )\n",
              "        (intermediate): RobertaIntermediate(\n",
              "          (dense): Linear(in_features=768, out_features=3072, bias=True)\n",
              "          (intermediate_act_fn): GELUActivation()\n",
              "        )\n",
              "        (output): RobertaOutput(\n",
              "          (dense): Linear(in_features=3072, out_features=768, bias=True)\n",
              "          (LayerNorm): LayerNorm((768,), eps=1e-05, elementwise_affine=True)\n",
              "          (dropout): Dropout(p=0.1, inplace=False)\n",
              "        )\n",
              "      )\n",
              "    )\n",
              "  )\n",
              "  (pooler): RobertaPooler(\n",
              "    (dense): Linear(in_features=768, out_features=768, bias=True)\n",
              "    (activation): Tanh()\n",
              "  )\n",
              ")"
            ]
          },
          "execution_count": 49,
          "metadata": {},
          "output_type": "execute_result"
        }
      ],
      "source": [
        "model"
      ]
    },
    {
      "cell_type": "code",
      "execution_count": null,
      "metadata": {
        "id": "wGqIX0rwa_xT"
      },
      "outputs": [],
      "source": [
        "inputs = {k:v.to(device) for k,v in inputs.items()}"
      ]
    },
    {
      "cell_type": "code",
      "execution_count": null,
      "metadata": {
        "colab": {
          "base_uri": "https://localhost:8080/"
        },
        "id": "NnyREs6Na_xT",
        "outputId": "3823605c-9cd2-4307-8bf7-c6d5b6d2d103"
      },
      "outputs": [
        {
          "data": {
            "text/plain": [
              "{'input_ids': tensor([[   0, 9226,   16,   10, 1296,    2]]),\n",
              " 'attention_mask': tensor([[1, 1, 1, 1, 1, 1]])}"
            ]
          },
          "execution_count": 51,
          "metadata": {},
          "output_type": "execute_result"
        }
      ],
      "source": [
        "inputs"
      ]
    },
    {
      "cell_type": "code",
      "execution_count": null,
      "metadata": {
        "colab": {
          "base_uri": "https://localhost:8080/"
        },
        "id": "afnVNT5Aa_xT",
        "outputId": "2ce886b3-3506-46fc-8f3d-f930cb41263a"
      },
      "outputs": [
        {
          "data": {
            "text/plain": [
              "dict"
            ]
          },
          "execution_count": 52,
          "metadata": {},
          "output_type": "execute_result"
        }
      ],
      "source": [
        "type(inputs)"
      ]
    },
    {
      "cell_type": "code",
      "execution_count": null,
      "metadata": {
        "id": "pn3ovbBSa_xT"
      },
      "outputs": [],
      "source": [
        "with torch.no_grad():\n",
        "  outputs = model(**inputs)"
      ]
    },
    {
      "cell_type": "code",
      "execution_count": null,
      "metadata": {
        "colab": {
          "base_uri": "https://localhost:8080/"
        },
        "id": "ZHD6ee-Oa_xU",
        "outputId": "c0e4cf89-540a-42ac-f41d-e2e9fa3a4bdc"
      },
      "outputs": [
        {
          "data": {
            "text/plain": [
              "BaseModelOutputWithPoolingAndCrossAttentions(last_hidden_state=tensor([[[-0.0449,  0.0641, -0.0302,  ..., -0.0481, -0.0586, -0.0241],\n",
              "         [ 0.1651, -0.1411,  0.1097,  ..., -0.0006,  0.0644, -0.1205],\n",
              "         [ 0.2951,  0.1887,  0.2250,  ..., -0.1786,  0.1688,  0.0601],\n",
              "         [ 0.1389, -0.1818,  0.0681,  ...,  0.0767,  0.0948,  0.3480],\n",
              "         [ 0.2178, -0.2184,  0.1444,  ...,  0.2590,  0.0483,  0.1576],\n",
              "         [-0.0422,  0.0573, -0.0571,  ..., -0.0836, -0.0624, -0.0582]]]), pooler_output=tensor([[-3.5062e-01, -2.2375e-01,  1.8808e-01, -3.7619e-02, -4.5012e-01,\n",
              "         -2.6006e-02, -7.5475e-02, -1.0866e-01, -2.3861e-01, -2.2611e-01,\n",
              "         -1.7075e-01,  5.3057e-01, -4.9478e-01,  1.6467e-01, -2.7540e-02,\n",
              "         -5.3349e-01,  1.7986e-01, -3.0532e-02,  1.5792e-01, -1.0123e-01,\n",
              "         -1.9165e-01, -1.1438e-01, -4.1457e-02,  1.1304e-01,  1.4005e-01,\n",
              "          6.0899e-02,  9.0977e-03,  2.6057e-01, -1.2366e-01,  1.0040e-01,\n",
              "         -4.5075e-01, -8.0302e-02, -3.8394e-02, -3.0837e-01,  2.9082e-01,\n",
              "         -3.4569e-01, -1.3763e-01, -7.3003e-02, -1.3624e-01, -2.5005e-01,\n",
              "          1.4576e-02,  8.2076e-02,  1.1689e-01,  1.1662e-01, -4.7378e-01,\n",
              "          1.4375e-01,  1.0634e-01, -3.8828e-02,  1.2910e-01, -3.0525e-01,\n",
              "          2.3851e-01, -2.0313e-01,  5.0830e-01, -8.2773e-02,  1.8299e-01,\n",
              "          5.8480e-02, -2.6626e-01, -1.4660e-01,  1.7068e-01, -1.1533e-02,\n",
              "         -1.0855e-01,  2.4883e-01, -5.6729e-03, -4.2411e-03, -1.7218e-01,\n",
              "         -2.1484e-03, -2.8509e-02, -1.7934e-01, -4.3712e-01, -2.1294e-01,\n",
              "          2.9006e-01,  1.8076e-01,  6.9944e-02, -1.1066e-01,  1.9605e-01,\n",
              "         -1.9657e-01,  3.2346e-01,  2.4521e-01,  1.7042e-02,  2.6200e-01,\n",
              "         -2.4211e-01,  2.6600e-03,  1.1219e-01,  1.8549e-01, -2.0997e-03,\n",
              "         -2.6209e-01, -1.6623e-01,  2.8039e-01, -4.0910e-02,  2.0010e-01,\n",
              "         -2.6450e-01, -1.0677e-01, -4.2349e-01, -1.0993e-01, -3.0417e-01,\n",
              "          2.8780e-02, -1.6233e-01, -1.5678e-01,  3.1600e-01,  2.9573e-01,\n",
              "         -2.3219e-01,  8.5066e-02, -1.3350e-01,  1.3119e-01,  1.2475e-01,\n",
              "         -7.1415e-03,  9.5716e-02,  6.3374e-02,  2.1026e-01,  2.3611e-01,\n",
              "         -2.1473e-01, -3.0153e-01, -9.7793e-02,  1.5735e-01,  1.6215e-01,\n",
              "         -1.8045e-01,  1.4967e-02, -3.2104e-01, -2.6667e-01, -4.1647e-01,\n",
              "          5.4143e-02, -1.5177e-01,  2.3280e-03, -3.4368e-01,  2.2372e-02,\n",
              "         -1.4808e-01,  9.0715e-02, -1.3827e-01,  5.1646e-02, -4.2682e-01,\n",
              "          3.2567e-01,  9.9907e-02,  3.1014e-01,  1.4093e-01,  2.1052e-01,\n",
              "          3.2624e-01, -3.3334e-01, -1.8419e-01, -3.1040e-02, -7.5920e-02,\n",
              "          1.6901e-02, -1.2472e-01,  5.0901e-02, -1.0415e-01, -1.0920e-01,\n",
              "          1.1534e-01,  2.5042e-01,  3.6059e-01,  1.3596e-01,  6.1324e-04,\n",
              "          2.2072e-01, -5.3280e-03,  7.4889e-02, -4.3220e-02,  2.0182e-02,\n",
              "         -2.0339e-01, -2.6167e-02,  4.6176e-02,  2.2887e-01, -5.0830e-01,\n",
              "          3.0310e-01,  3.1971e-01, -1.2223e-02,  2.1498e-02, -1.1148e-01,\n",
              "         -4.9263e-02, -2.6927e-01,  2.4482e-01, -1.3963e-01, -2.4751e-01,\n",
              "          4.2715e-01, -4.4737e-01, -5.0979e-02, -2.4845e-01,  3.0965e-01,\n",
              "         -1.0914e-01,  6.4268e-02, -1.8203e-01,  2.9035e-02,  2.1426e-01,\n",
              "          1.6411e-01, -3.7252e-01,  5.5700e-02,  7.4504e-02, -1.3096e-01,\n",
              "         -3.8506e-01, -3.0020e-01, -3.5171e-01,  4.9274e-01, -1.1120e-01,\n",
              "         -1.1467e-01,  3.2084e-01,  7.0874e-02, -8.0852e-02,  8.6647e-02,\n",
              "          2.7016e-01, -7.6375e-02, -3.1296e-01, -1.1943e-01, -3.4944e-01,\n",
              "         -1.6105e-02,  1.2928e-01, -2.8031e-02, -4.7533e-01,  3.0315e-01,\n",
              "         -3.2385e-02,  1.2035e-01,  1.2417e-01, -1.3372e-01,  6.2873e-02,\n",
              "          1.7521e-01,  2.4280e-02,  1.3680e-01, -2.6450e-01,  2.6942e-04,\n",
              "          8.7657e-02, -1.4414e-01,  3.5624e-01, -2.9339e-01, -2.6524e-01,\n",
              "          1.5515e-01, -2.7311e-01,  2.0635e-01,  1.1797e-01,  1.3504e-01,\n",
              "          1.2236e-01,  3.9237e-02,  2.7102e-02, -1.3164e-01, -1.5681e-01,\n",
              "          5.4308e-02, -7.4065e-02,  2.3081e-01,  9.3377e-02,  1.2070e-01,\n",
              "         -6.3898e-03,  1.8771e-01, -3.7886e-01,  7.2395e-02, -1.1477e-01,\n",
              "         -1.2584e-01,  3.0497e-02, -7.5844e-02, -4.0903e-01,  2.8264e-01,\n",
              "         -2.8380e-01, -1.0873e-01, -2.1846e-01,  3.0174e-01,  3.4710e-02,\n",
              "          4.5853e-02,  1.1326e-01,  8.4707e-02, -3.7312e-01,  5.7213e-01,\n",
              "          5.4087e-01,  1.3022e-01,  1.3401e-01,  2.9974e-01, -3.4929e-01,\n",
              "          1.6264e-02,  8.7491e-02,  2.0836e-01,  6.1114e-02,  1.4934e-01,\n",
              "         -4.9939e-01,  2.2624e-01,  3.3649e-02,  5.1852e-02,  8.4305e-02,\n",
              "          7.6246e-02,  8.2569e-02, -3.4078e-01,  7.1568e-02,  3.5169e-01,\n",
              "          8.3647e-02,  2.2429e-01,  1.6270e-01, -1.6790e-01,  2.1459e-02,\n",
              "         -2.0048e-01,  1.5936e-01,  2.5838e-02,  6.0185e-02,  6.6049e-02,\n",
              "         -4.3314e-01,  8.8411e-02,  9.4789e-02, -1.4454e-01, -9.9740e-02,\n",
              "         -3.9474e-02, -3.2380e-01,  9.5117e-02,  9.9705e-02, -2.8546e-01,\n",
              "          1.3371e-02, -1.2395e-01,  9.8191e-02,  2.2014e-01,  2.0887e-01,\n",
              "          4.5017e-01, -1.0244e-01,  2.5028e-01,  2.6350e-01,  4.6500e-02,\n",
              "          2.0674e-02, -2.3236e-01,  1.4492e-02,  1.7217e-01,  8.6209e-03,\n",
              "         -2.7579e-01,  6.4191e-02, -1.9512e-01, -2.3446e-01,  8.7007e-02,\n",
              "         -1.2864e-01, -2.3195e-01, -3.1140e-02,  1.6269e-01, -5.3405e-03,\n",
              "          1.5530e-02,  2.6252e-01,  6.7179e-02, -2.8274e-01, -3.5104e-01,\n",
              "          3.9377e-01,  1.6084e-01, -1.3358e-01,  1.7051e-02,  1.1933e-01,\n",
              "          3.5156e-01,  1.6373e-02, -3.0120e-01, -1.4552e-01,  1.6787e-01,\n",
              "          4.5763e-01,  8.1814e-02,  6.0366e-02,  1.2327e-01,  1.4751e-01,\n",
              "          3.7684e-01, -1.8152e-01,  3.1045e-01, -2.2948e-01,  5.0098e-02,\n",
              "          1.7744e-01, -2.1314e-01, -2.8400e-01, -5.9564e-03,  2.6545e-01,\n",
              "         -1.6702e-01,  2.3039e-02,  4.6491e-02, -5.8943e-02, -3.7088e-01,\n",
              "          2.0374e-01, -1.9100e-01,  2.1908e-01,  8.7365e-02, -1.5631e-02,\n",
              "          2.2514e-01, -1.4319e-01, -3.0151e-01,  4.7468e-01, -1.7325e-02,\n",
              "          8.5666e-02,  2.4728e-01,  3.6744e-02,  1.2855e-01,  3.9836e-02,\n",
              "          2.9945e-02, -1.2984e-01, -8.6413e-02,  2.5250e-01,  8.5314e-02,\n",
              "         -1.1732e-01,  1.4183e-01, -1.1572e-01,  2.4429e-01,  6.3676e-02,\n",
              "         -3.5908e-01,  4.9057e-02,  1.8996e-01, -1.3171e-01, -2.6336e-01,\n",
              "          2.7522e-01,  5.2809e-02, -5.0821e-02, -3.7758e-02,  1.7798e-01,\n",
              "          1.1469e-01,  4.0978e-01, -2.5511e-01, -2.3410e-01,  1.0339e-01,\n",
              "          3.8734e-01,  2.4937e-01,  4.5219e-01, -1.0423e-01,  4.1812e-01,\n",
              "         -1.6651e-02, -4.4309e-02,  8.8113e-02,  3.7337e-01,  1.8996e-02,\n",
              "          2.8863e-01, -2.0309e-01,  4.1623e-01, -7.7177e-02,  2.5712e-01,\n",
              "         -1.0319e-01, -4.6986e-02,  1.1432e-01, -3.5948e-04, -2.1548e-01,\n",
              "          4.2795e-01, -8.5993e-02, -9.2027e-02,  6.0390e-02,  4.7091e-02,\n",
              "          6.4326e-02, -2.8064e-01, -1.1919e-01,  2.3004e-03,  1.9642e-01,\n",
              "          2.3729e-01,  2.1709e-01, -5.1481e-02, -1.9210e-01, -1.4811e-01,\n",
              "         -1.1512e-02,  1.3348e-01, -1.2841e-01, -1.8818e-01, -1.3521e-01,\n",
              "          1.1006e-01,  4.8852e-02, -1.7128e-02,  7.9718e-02,  2.0120e-01,\n",
              "         -1.4555e-01,  2.2369e-01,  6.3203e-02, -3.6698e-01, -2.0462e-02,\n",
              "         -2.0833e-01, -1.5722e-01, -1.3345e-01,  1.0837e-01, -3.3612e-01,\n",
              "          1.3903e-01, -7.1186e-02,  2.1186e-01, -4.7028e-01,  1.0803e-01,\n",
              "          9.7233e-02,  5.6196e-01,  3.2373e-01,  5.8281e-02, -2.2511e-01,\n",
              "         -4.9029e-03, -3.7449e-02, -1.0239e-03, -8.4712e-02,  1.8818e-01,\n",
              "         -1.7994e-01, -1.6830e-01,  3.7343e-01, -1.7290e-01,  9.9395e-02,\n",
              "          2.7717e-01,  1.5277e-01, -3.0444e-01,  1.7814e-01,  4.1077e-01,\n",
              "          1.3459e-02,  1.0627e-01, -7.3937e-02,  2.2150e-01,  3.4062e-01,\n",
              "         -9.2901e-04,  7.2254e-02,  3.0805e-01, -4.9326e-02,  1.0646e-01,\n",
              "          3.4596e-02, -2.2281e-01,  5.2133e-02,  7.3203e-02,  2.8002e-01,\n",
              "          3.0452e-02,  5.5067e-01, -2.1347e-01, -3.0063e-01, -8.1637e-02,\n",
              "         -2.8572e-02,  2.4124e-01, -3.7442e-01,  8.4504e-02,  8.3582e-02,\n",
              "          1.9371e-01, -2.2001e-01, -1.0033e-01,  6.8682e-03,  3.4454e-02,\n",
              "          1.1051e-01, -4.5369e-01,  8.5708e-02, -1.5690e-01, -1.8458e-01,\n",
              "         -3.1331e-01,  4.9803e-01,  8.3584e-02, -1.4238e-01, -1.3386e-02,\n",
              "          1.2215e-01, -2.4892e-02,  1.5441e-01,  1.0203e-01, -2.1734e-02,\n",
              "          1.1891e-01, -4.6889e-02, -3.6099e-01, -4.7390e-02, -1.4263e-01,\n",
              "          1.1046e-01,  1.8632e-01,  1.3664e-02,  1.3817e-01, -2.2235e-02,\n",
              "          3.3801e-01, -3.7100e-01, -2.1503e-01, -6.5190e-02, -3.9452e-01,\n",
              "         -3.3561e-01,  4.4553e-02, -6.2818e-02, -1.1732e-01,  1.1568e-02,\n",
              "         -3.3491e-01, -1.6694e-01, -5.6700e-01, -9.2216e-02, -1.4006e-03,\n",
              "          3.0645e-01, -4.3204e-01, -2.4784e-01,  1.5699e-01, -9.2244e-02,\n",
              "         -2.0781e-01,  1.6692e-01,  1.1037e-01, -7.5332e-03, -1.4359e-01,\n",
              "          1.0497e-01,  1.3895e-01,  2.2174e-01,  3.1922e-01,  5.3422e-02,\n",
              "          1.7917e-01, -3.1836e-02,  1.0749e-01,  8.5292e-02, -2.0125e-01,\n",
              "          2.5372e-02, -3.6526e-02,  4.8244e-02, -2.5952e-01, -1.6831e-01,\n",
              "          4.2642e-02, -3.2972e-02,  8.9182e-02,  1.6315e-01, -1.7748e-01,\n",
              "          4.3875e-01,  2.5924e-01,  2.0056e-01, -1.7251e-01, -1.1490e-01,\n",
              "         -1.1337e-01,  6.3369e-02,  2.5700e-01,  3.3749e-01, -2.6488e-01,\n",
              "          1.1677e-01,  3.9931e-02,  2.6663e-01,  8.6840e-02, -1.0580e-01,\n",
              "         -1.9859e-02, -3.4175e-02,  3.6724e-01,  1.3015e-01,  3.8931e-01,\n",
              "          1.6142e-01,  2.6613e-01,  2.7564e-01,  1.0376e-02,  9.3369e-02,\n",
              "         -2.4721e-02,  3.3589e-01,  3.5768e-02,  2.4638e-02, -1.6305e-01,\n",
              "         -6.1949e-02, -7.6150e-02, -4.6452e-03, -9.0467e-02,  6.5602e-02,\n",
              "          1.3273e-01,  4.6426e-02,  1.2643e-01, -1.8206e-01,  1.4647e-01,\n",
              "         -5.0312e-03,  2.9954e-01, -2.0339e-01, -5.9986e-02, -3.8586e-01,\n",
              "         -4.1149e-02,  1.6923e-01,  1.1659e-01,  1.9922e-01, -5.3777e-02,\n",
              "          2.5258e-01,  3.8570e-03, -3.9508e-01, -3.0504e-01, -1.2051e-01,\n",
              "          6.4140e-02,  3.2086e-01,  3.3037e-01,  3.2688e-02, -1.8929e-02,\n",
              "         -1.7383e-01,  1.5864e-01, -1.1008e-01,  4.4017e-01, -6.9616e-02,\n",
              "          2.1481e-01,  3.4899e-01, -3.0244e-01,  2.6226e-01,  1.8022e-01,\n",
              "          6.4568e-02,  1.5613e-01,  9.7770e-03,  2.4772e-01,  7.4849e-02,\n",
              "          1.6849e-02,  1.0841e-02,  2.4772e-02,  5.1110e-02, -3.6052e-01,\n",
              "         -3.6260e-01, -1.0171e-01,  3.0492e-01,  5.4435e-02, -1.6668e-01,\n",
              "         -1.2162e-01,  1.6394e-01,  2.9978e-02, -2.7720e-01, -1.2976e-02,\n",
              "          4.7579e-01,  9.6910e-02, -1.3706e-01, -1.3765e-01,  9.1934e-02,\n",
              "          1.6672e-01,  1.4573e-01, -3.3237e-01,  1.0701e-01, -9.2645e-02,\n",
              "          2.4786e-02,  1.7741e-01,  2.6533e-01, -1.9609e-01, -2.9537e-01,\n",
              "         -4.8368e-02,  2.4704e-02, -1.3882e-01, -8.5249e-02,  5.4992e-02,\n",
              "         -1.2439e-01,  1.3166e-01,  3.1824e-01,  3.8700e-03,  2.6655e-01,\n",
              "          6.2981e-02, -2.1005e-02,  1.1145e-01, -2.1958e-01, -3.8233e-01,\n",
              "         -2.9295e-01,  2.6597e-01,  1.4523e-01,  1.5740e-01, -3.1280e-01,\n",
              "         -9.2612e-02,  1.5414e-01, -3.6765e-02,  8.2696e-02,  1.9902e-01,\n",
              "         -1.0112e-01, -3.6971e-01, -1.1903e-01, -2.7435e-01,  7.7410e-02,\n",
              "         -2.3715e-02,  2.0843e-01,  9.9221e-02,  7.8974e-02,  1.8839e-01,\n",
              "          1.2547e-01,  1.2321e-01,  2.6668e-01,  8.2190e-02, -1.6437e-01,\n",
              "          1.0777e-01,  2.2546e-01,  2.2646e-01, -4.6122e-01,  9.1656e-02,\n",
              "         -3.5832e-02, -1.7699e-02,  1.9945e-01, -2.2804e-01, -1.0025e-01,\n",
              "         -2.1839e-02, -5.3531e-01, -3.3431e-01, -4.3651e-02, -1.0104e-01,\n",
              "          1.5442e-01,  1.0276e-01,  2.4416e-01,  2.5246e-01, -1.9787e-01,\n",
              "         -5.5989e-02,  5.8715e-02, -2.9699e-01,  7.3505e-03,  8.0602e-03,\n",
              "         -4.1279e-01, -1.5138e-01,  3.0092e-01,  1.3663e-01,  1.5776e-03,\n",
              "         -1.7703e-01,  1.9512e-01,  1.8995e-01, -9.1939e-03, -9.8085e-02,\n",
              "          7.9332e-02, -1.4167e-01, -1.6998e-01, -2.3330e-01, -8.4257e-02,\n",
              "         -3.4718e-01, -2.3915e-01, -3.2874e-01,  2.0150e-01, -4.8849e-01,\n",
              "         -3.1185e-01, -7.2831e-03,  2.9619e-02]]), hidden_states=(tensor([[[ 0.1664, -0.0541, -0.0014,  ..., -0.0811,  0.0794,  0.0155],\n",
              "         [ 0.0615,  0.4178,  0.2521,  ..., -0.0394, -0.1210,  0.1449],\n",
              "         [ 0.0956,  0.2541,  0.0636,  ..., -0.0035, -0.1861, -0.1094],\n",
              "         [-0.1625, -0.2608, -0.0704,  ...,  0.2587, -0.1823,  0.5187],\n",
              "         [ 0.1381, -0.1489,  0.0545,  ...,  0.5065, -0.6059, -0.0133],\n",
              "         [ 0.2591, -0.2605, -0.0797,  ...,  0.4292,  0.0867,  0.2130]]]), tensor([[[-0.0526, -0.0266,  0.0974,  ...,  0.0314,  0.0046, -0.1211],\n",
              "         [ 0.0135,  0.0806,  0.7658,  ...,  0.1807, -0.2419,  0.3058],\n",
              "         [ 0.2338,  0.1245,  0.1815,  ...,  0.0284, -0.6805, -0.0709],\n",
              "         [-0.2702, -0.6758,  0.0561,  ...,  0.5978, -0.3892,  0.8312],\n",
              "         [ 0.0235, -0.6660,  0.3830,  ...,  1.2095, -0.8966,  0.1152],\n",
              "         [ 0.2046, -0.4344,  0.1746,  ...,  0.7963, -0.0742, -0.2797]]]), tensor([[[ 0.0496,  0.0144,  0.0052,  ...,  0.0441, -0.0046, -0.0685],\n",
              "         [ 0.1582,  0.2187,  0.2362,  ...,  0.1767,  0.0232,  0.7061],\n",
              "         [ 0.0292,  0.7040,  0.1785,  ..., -0.1141, -0.5987,  0.2817],\n",
              "         [-0.1427, -0.7726, -0.2315,  ...,  0.4946, -0.5601,  0.7791],\n",
              "         [ 0.0832, -0.4454, -0.1150,  ...,  1.7009, -0.6007,  0.3228],\n",
              "         [-0.2141, -0.3375, -0.0279,  ...,  1.0762,  0.0971, -0.4113]]]), tensor([[[ 0.0229,  0.0270, -0.0225,  ...,  0.0408,  0.0473,  0.0361],\n",
              "         [ 0.1227,  0.1340,  0.5584,  ...,  0.1302, -0.6657,  0.2652],\n",
              "         [-0.1458,  0.7125,  0.0342,  ...,  0.0279, -0.4660, -0.0807],\n",
              "         [-0.1101, -0.5775, -0.2148,  ...,  0.4306, -0.3060,  0.3102],\n",
              "         [ 0.3001, -0.5634,  0.0394,  ...,  1.4675, -0.2957,  0.1461],\n",
              "         [-0.1711, -0.1322,  0.0898,  ...,  0.9273,  0.0422, -0.2808]]]), tensor([[[-5.8444e-04,  6.4932e-02, -6.5508e-03,  ...,  3.8216e-02,\n",
              "          -3.1476e-02, -3.6898e-02],\n",
              "         [-2.1180e-01,  5.5104e-02,  6.4039e-01,  ...,  1.4131e-01,\n",
              "          -7.8693e-01,  2.1750e-01],\n",
              "         [-3.4018e-01,  5.8825e-01,  9.3971e-02,  ...,  1.9827e-01,\n",
              "          -7.4820e-01,  2.6932e-01],\n",
              "         [-4.2885e-01, -6.8643e-01, -4.5143e-01,  ...,  5.0769e-01,\n",
              "          -5.3609e-01,  2.0498e-01],\n",
              "         [-3.1902e-01, -3.3998e-01,  1.5117e-02,  ...,  1.2675e+00,\n",
              "          -4.7645e-01, -1.1497e-01],\n",
              "         [ 2.3376e-01, -7.4733e-02,  2.2360e-01,  ...,  2.2896e-01,\n",
              "           2.1030e-01, -1.5797e-01]]]), tensor([[[ 0.0117,  0.0791,  0.0063,  ...,  0.0237,  0.0241,  0.0414],\n",
              "         [-0.2982,  0.0330,  0.8230,  ...,  0.0362, -0.5569, -0.4938],\n",
              "         [-0.1663,  0.3277, -0.0940,  ...,  0.3882, -0.4148, -0.5694],\n",
              "         [-0.3282, -0.9284, -0.3940,  ...,  0.5183, -0.5018, -0.3940],\n",
              "         [-0.3003, -0.4583,  0.2618,  ...,  1.1895, -0.5605,  0.0042],\n",
              "         [ 0.0571, -0.0646,  0.0582,  ...,  0.1097, -0.0205,  0.0093]]]), tensor([[[ 0.0723,  0.0552,  0.1094,  ...,  0.0294, -0.0258, -0.0403],\n",
              "         [-0.0920, -0.3030,  0.4761,  ...,  0.0050, -0.4016, -0.7858],\n",
              "         [-0.0154,  0.3131, -0.3898,  ...,  0.1346, -0.2578, -0.7156],\n",
              "         [-0.3899, -0.7145, -0.5990,  ...,  0.2997, -0.2532, -0.3572],\n",
              "         [-0.1145, -0.2746,  0.2628,  ...,  0.9244, -0.1039, -0.0577],\n",
              "         [ 0.0320, -0.0011,  0.0858,  ..., -0.0017, -0.0538, -0.0240]]]), tensor([[[-0.0230,  0.0653,  0.0578,  ...,  0.1348, -0.0380,  0.0153],\n",
              "         [-0.2243, -0.4527,  0.3143,  ..., -0.0657,  0.3526, -0.6023],\n",
              "         [-0.1108,  0.4437, -0.4910,  ...,  0.1469,  0.0702, -0.3462],\n",
              "         [-0.3305, -0.5552, -0.5819,  ...,  0.2989,  0.1227, -0.1396],\n",
              "         [ 0.0291, -0.2220,  0.1490,  ...,  1.2462,  0.0803,  0.0155],\n",
              "         [ 0.0103,  0.0051,  0.0678,  ...,  0.0189,  0.0090,  0.0297]]]), tensor([[[-1.2393e-01,  1.2028e-01,  1.1509e-02,  ...,  1.2561e-01,\n",
              "           3.2580e-02, -2.9393e-02],\n",
              "         [ 8.2217e-02, -4.0492e-01,  2.7235e-01,  ..., -1.9925e-02,\n",
              "           1.2262e-01, -1.8819e-01],\n",
              "         [ 1.8302e-01,  5.1769e-01, -3.1520e-01,  ...,  1.4294e-01,\n",
              "           3.5338e-01, -4.5451e-01],\n",
              "         [-1.2997e-02, -8.5333e-01, -3.4878e-01,  ...,  2.0169e-01,\n",
              "           4.1086e-02, -2.5454e-01],\n",
              "         [ 3.5423e-01, -2.9331e-01,  3.2185e-01,  ...,  1.1527e+00,\n",
              "           7.0783e-02,  7.8466e-02],\n",
              "         [ 8.5364e-04,  3.7994e-02,  2.6898e-02,  ...,  7.2425e-03,\n",
              "          -7.1603e-04, -8.0948e-03]]]), tensor([[[-8.7838e-02,  2.8542e-02, -1.0640e-01,  ...,  1.2350e-01,\n",
              "           5.6336e-02, -2.0570e-02],\n",
              "         [-3.1554e-01, -3.2584e-01,  2.1184e-01,  ...,  4.1418e-04,\n",
              "          -7.0150e-03,  3.2028e-02],\n",
              "         [ 1.0568e-01,  6.5121e-01, -3.4645e-02,  ...,  2.4276e-02,\n",
              "           2.0138e-01,  4.2091e-02],\n",
              "         [ 1.6696e-02, -8.1392e-01, -1.0841e-01,  ...,  2.4141e-01,\n",
              "           1.0480e-01,  2.3806e-01],\n",
              "         [ 4.1953e-01, -2.8823e-01,  1.9417e-01,  ...,  1.0211e+00,\n",
              "           2.7533e-01,  4.3516e-01],\n",
              "         [ 5.7278e-02,  6.1965e-02,  9.6016e-02,  ..., -2.8451e-02,\n",
              "           1.6218e-01, -1.0408e-01]]]), tensor([[[-0.0011,  0.0314, -0.0866,  ...,  0.0763,  0.0794,  0.0054],\n",
              "         [ 0.6751, -0.1002,  0.1656,  ..., -0.0362, -0.0077,  0.1828],\n",
              "         [ 0.7157,  0.7390,  0.2796,  ..., -0.0032,  0.1439,  0.0779],\n",
              "         [ 0.2282, -0.7653, -0.2270,  ...,  0.2131,  0.0661,  0.3824],\n",
              "         [ 0.3283, -0.4087,  0.0887,  ...,  0.9041,  0.1335,  0.2058],\n",
              "         [-0.1085,  0.0228,  0.0178,  ...,  0.0206,  0.1050, -0.0069]]]), tensor([[[-1.5409e-03, -4.2504e-02, -2.5431e-02,  ...,  8.3646e-02,\n",
              "          -1.0082e-01,  7.0168e-02],\n",
              "         [ 9.4388e-01, -5.2509e-01,  3.0623e-01,  ...,  1.8011e-01,\n",
              "           1.1399e-01, -1.5622e-01],\n",
              "         [ 6.6685e-01,  4.2718e-01,  4.1619e-01,  ...,  1.3523e-01,\n",
              "           4.3018e-01,  7.8654e-02],\n",
              "         [ 1.6328e-01, -8.4582e-01,  1.1235e-01,  ...,  3.8683e-01,\n",
              "           5.4597e-04,  3.3749e-01],\n",
              "         [ 3.6753e-01, -6.8244e-01,  2.0420e-01,  ...,  8.2251e-01,\n",
              "           1.7175e-01,  1.3209e-01],\n",
              "         [-5.2160e-02, -3.0024e-02,  4.9194e-02,  ...,  1.9595e-02,\n",
              "          -2.6484e-02,  2.3356e-02]]]), tensor([[[-0.0449,  0.0641, -0.0302,  ..., -0.0481, -0.0586, -0.0241],\n",
              "         [ 0.1651, -0.1411,  0.1097,  ..., -0.0006,  0.0644, -0.1205],\n",
              "         [ 0.2951,  0.1887,  0.2250,  ..., -0.1786,  0.1688,  0.0601],\n",
              "         [ 0.1389, -0.1818,  0.0681,  ...,  0.0767,  0.0948,  0.3480],\n",
              "         [ 0.2178, -0.2184,  0.1444,  ...,  0.2590,  0.0483,  0.1576],\n",
              "         [-0.0422,  0.0573, -0.0571,  ..., -0.0836, -0.0624, -0.0582]]])), past_key_values=None, attentions=None, cross_attentions=None)"
            ]
          },
          "execution_count": 54,
          "metadata": {},
          "output_type": "execute_result"
        }
      ],
      "source": [
        "outputs"
      ]
    },
    {
      "cell_type": "code",
      "execution_count": null,
      "metadata": {
        "colab": {
          "base_uri": "https://localhost:8080/"
        },
        "id": "BRWW8pO0a_xU",
        "outputId": "ddddf82d-f796-4ec1-8701-7d53f1265218"
      },
      "outputs": [
        {
          "name": "stdout",
          "output_type": "stream",
          "text": [
            "last_hidden_state\n",
            "pooler_output\n",
            "hidden_states\n"
          ]
        }
      ],
      "source": [
        "for k, v in outputs.items():\n",
        "  print(k)"
      ]
    },
    {
      "cell_type": "markdown",
      "metadata": {
        "id": "lv7l6BCNa_xU"
      },
      "source": [
        "As we can see, this time `hidden_states` parameter has value."
      ]
    },
    {
      "cell_type": "code",
      "execution_count": null,
      "metadata": {
        "colab": {
          "base_uri": "https://localhost:8080/"
        },
        "id": "WjRBPCuta_xU",
        "outputId": "bdfc7f21-f305-45c9-c4aa-41738f2839e4"
      },
      "outputs": [
        {
          "data": {
            "text/plain": [
              "13"
            ]
          },
          "execution_count": 56,
          "metadata": {},
          "output_type": "execute_result"
        }
      ],
      "source": [
        "len(outputs[\"hidden_states\"])"
      ]
    },
    {
      "cell_type": "markdown",
      "metadata": {
        "id": "4pqizBu3a_xU"
      },
      "source": [
        "The size of `hidden_state` parameter equals hidden states of the model at the output of each layer plus the optional initial embedding outputs. So, all in all the size equals (12 layers => 12 hidden states + 1 (initial embedding outputs)) = 13"
      ]
    },
    {
      "cell_type": "code",
      "execution_count": null,
      "metadata": {
        "colab": {
          "base_uri": "https://localhost:8080/"
        },
        "id": "2ZAysN9ca_xU",
        "outputId": "cde2253b-10a8-43e2-889c-10daa82263fc"
      },
      "outputs": [
        {
          "data": {
            "text/plain": [
              "torch.Size([1, 6, 768])"
            ]
          },
          "execution_count": 57,
          "metadata": {},
          "output_type": "execute_result"
        }
      ],
      "source": [
        "outputs[\"hidden_states\"][0].shape"
      ]
    },
    {
      "cell_type": "code",
      "execution_count": null,
      "metadata": {
        "colab": {
          "base_uri": "https://localhost:8080/"
        },
        "id": "lg-tkp-fa_xU",
        "outputId": "211ac349-34c1-45d8-e10d-0c48ce1c6341"
      },
      "outputs": [
        {
          "data": {
            "text/plain": [
              "torch.Size([1, 6, 768])"
            ]
          },
          "execution_count": 58,
          "metadata": {},
          "output_type": "execute_result"
        }
      ],
      "source": [
        "outputs[\"hidden_states\"][1].shape"
      ]
    },
    {
      "cell_type": "markdown",
      "metadata": {
        "id": "EnDAKd9Ka_xU"
      },
      "source": [
        "We can see that the size of tokens in each hidden state is the same and just embedding will be reacher in top layers (because of multi head attention)"
      ]
    },
    {
      "cell_type": "code",
      "execution_count": null,
      "metadata": {
        "id": "Nat7dz3Na_xV"
      },
      "outputs": [],
      "source": [
        "# extract last hidden state\n",
        "x = outputs[\"hidden_states\"][-1]"
      ]
    },
    {
      "cell_type": "code",
      "execution_count": null,
      "metadata": {
        "colab": {
          "base_uri": "https://localhost:8080/"
        },
        "id": "WJoB2IcJa_xV",
        "outputId": "c792e42e-607a-48bc-b36b-f93c54552045"
      },
      "outputs": [
        {
          "data": {
            "text/plain": [
              "torch.Size([1, 6, 768])"
            ]
          },
          "execution_count": 60,
          "metadata": {},
          "output_type": "execute_result"
        }
      ],
      "source": [
        "x.shape"
      ]
    },
    {
      "cell_type": "code",
      "execution_count": null,
      "metadata": {
        "id": "ipF4H1hWa_xV"
      },
      "outputs": [],
      "source": [
        "y = outputs[\"last_hidden_state\"]"
      ]
    },
    {
      "cell_type": "code",
      "execution_count": null,
      "metadata": {
        "colab": {
          "base_uri": "https://localhost:8080/"
        },
        "id": "YabTQV6ua_xV",
        "outputId": "99655aac-ffa1-4da2-96ea-5178a30c8c96"
      },
      "outputs": [
        {
          "data": {
            "text/plain": [
              "torch.Size([1, 6, 768])"
            ]
          },
          "execution_count": 62,
          "metadata": {},
          "output_type": "execute_result"
        }
      ],
      "source": [
        "y.shape"
      ]
    },
    {
      "cell_type": "markdown",
      "metadata": {
        "id": "oizBxR1ka_xV"
      },
      "source": [
        "We want to see that x and y objects are the same and check their equality.\n",
        "\n",
        "x => last hidden state from `hidden_states` parameter in output\n",
        "\n",
        "y => `last_hidden_state` parameter in output"
      ]
    },
    {
      "cell_type": "code",
      "execution_count": null,
      "metadata": {
        "colab": {
          "base_uri": "https://localhost:8080/"
        },
        "id": "mUwX2uY3a_xV",
        "outputId": "f3d93c64-cf36-43b4-8983-ec1477085ff7"
      },
      "outputs": [
        {
          "data": {
            "text/plain": [
              "tensor(True)"
            ]
          },
          "execution_count": 63,
          "metadata": {},
          "output_type": "execute_result"
        }
      ],
      "source": [
        "torch.all(x == y)"
      ]
    },
    {
      "cell_type": "code",
      "execution_count": null,
      "metadata": {
        "id": "NhYzQC3Ja_xV"
      },
      "outputs": [],
      "source": [
        "# output of pooler layer\n",
        "a = outputs[1]"
      ]
    },
    {
      "cell_type": "code",
      "execution_count": null,
      "metadata": {
        "colab": {
          "base_uri": "https://localhost:8080/"
        },
        "id": "O0QD46P5a_xV",
        "outputId": "8a0cbedd-cf5e-4131-e93c-ff860ae650df"
      },
      "outputs": [
        {
          "data": {
            "text/plain": [
              "tensor([[-8.1014e-01, -1.6611e-01,  6.8871e-01,  5.6120e-01, -4.2450e-01,\n",
              "         -1.0617e-01,  8.4508e-01,  1.5211e-01,  4.0698e-01, -9.9904e-01,\n",
              "          3.3192e-01, -2.4647e-01,  9.5928e-01, -3.5368e-01,  8.7687e-01,\n",
              "         -4.3937e-01,  1.3539e-02, -4.6144e-01,  2.8962e-01, -7.3881e-01,\n",
              "          4.2921e-01,  2.6882e-01,  6.9294e-01,  1.8854e-01,  2.5857e-01,\n",
              "         -3.1407e-01, -3.8146e-01,  8.7916e-01,  9.1173e-01,  5.7387e-01,\n",
              "         -6.2304e-01,  1.1765e-01, -9.5845e-01, -1.3886e-01,  6.2574e-01,\n",
              "         -9.4867e-01,  5.1345e-02, -6.7462e-01,  1.4575e-02,  3.4477e-02,\n",
              "         -8.2107e-01,  1.9136e-01,  9.7657e-01, -4.6747e-01, -1.6186e-01,\n",
              "         -2.9812e-01, -9.9659e-01,  1.4625e-01, -7.9653e-01, -6.0099e-01,\n",
              "         -4.7811e-01, -7.4876e-01,  1.0094e-01,  2.5489e-01,  2.9220e-01,\n",
              "          4.2842e-01, -1.2625e-01,  1.3058e-01, -4.4772e-02, -4.1464e-01,\n",
              "         -5.1866e-01,  1.4801e-01,  4.3303e-01, -8.2359e-01, -6.0051e-01,\n",
              "         -6.6067e-01,  1.2570e-03, -1.2239e-01, -1.3264e-03, -4.5606e-02,\n",
              "          7.8948e-01,  1.6320e-01,  3.8474e-01, -6.6386e-01, -5.5557e-01,\n",
              "          6.9906e-02, -2.9340e-01,  9.9978e-01, -2.9074e-01, -9.4301e-01,\n",
              "         -6.2945e-01, -3.9875e-01,  2.1076e-01,  6.6782e-01, -5.9335e-01,\n",
              "         -9.9913e-01,  1.9650e-01, -6.0086e-02, -9.6973e-01,  8.4798e-02,\n",
              "          1.2848e-01, -1.4296e-01, -6.1470e-01,  2.1716e-01, -1.1278e-01,\n",
              "         -1.6062e-02, -1.8047e-01,  5.8491e-01, -3.7388e-02,  1.0014e-01,\n",
              "         -2.3879e-02, -1.7792e-01,  7.3633e-02, -2.1542e-01,  2.3724e-02,\n",
              "         -1.9220e-01, -3.9050e-01,  1.1195e-01, -2.5829e-01,  5.3267e-01,\n",
              "          1.9710e-01, -1.5358e-01,  1.6759e-01, -9.0448e-01,  4.9756e-01,\n",
              "         -1.3687e-01, -9.5181e-01, -2.6045e-01, -9.5953e-01,  5.2455e-01,\n",
              "          1.4475e-01, -5.8663e-02,  9.2970e-01,  6.2884e-01,  1.4700e-01,\n",
              "          3.7139e-02,  6.2656e-01, -9.9990e-01, -8.1392e-02, -2.1551e-02,\n",
              "          3.2815e-01, -2.9969e-04, -9.3799e-01, -8.7944e-01,  4.4797e-01,\n",
              "          9.1945e-01,  6.7201e-02,  9.6768e-01, -1.1873e-01,  8.4968e-01,\n",
              "          2.7831e-01,  1.0086e-01, -5.2672e-01, -2.5970e-01,  1.5959e-01,\n",
              "          3.7818e-01, -6.1081e-01,  1.4936e-01,  2.2859e-01, -2.4298e-01,\n",
              "          1.9717e-01, -1.8259e-01,  4.3774e-01, -8.7790e-01, -3.2733e-01,\n",
              "          8.7245e-01,  3.9658e-01,  6.3935e-01,  7.2243e-01, -1.4116e-01,\n",
              "         -2.7995e-01,  7.2586e-01,  2.2290e-01,  2.0089e-01,  6.1906e-02,\n",
              "          2.9042e-01, -1.8204e-01,  3.3185e-01, -7.8349e-01,  3.5094e-01,\n",
              "          2.9368e-01, -7.0230e-02,  6.0536e-01, -9.3526e-01, -1.6372e-01,\n",
              "          3.2373e-01,  9.6008e-01,  6.3719e-01,  1.1130e-01, -1.7440e-01,\n",
              "         -1.6764e-01, -2.7055e-03, -8.6289e-01,  9.3495e-01, -5.8145e-02,\n",
              "          1.4431e-01,  6.4862e-01, -2.3701e-01, -8.1176e-01, -4.6714e-01,\n",
              "          7.6728e-01,  1.9434e-01, -7.4963e-01,  1.0501e-01, -3.6819e-01,\n",
              "         -2.9939e-01,  5.1876e-01,  3.7450e-01, -2.2932e-01, -3.0661e-01,\n",
              "          6.2097e-02,  8.6084e-01,  9.3904e-01,  6.9059e-01, -6.4954e-01,\n",
              "          4.2808e-01, -8.1132e-01, -2.3710e-01,  4.6992e-02,  2.0154e-01,\n",
              "          1.2975e-02,  9.7959e-01,  2.0972e-01, -8.1997e-02, -8.7020e-01,\n",
              "         -9.5653e-01, -5.1115e-03, -8.1094e-01,  8.0974e-02, -5.3510e-01,\n",
              "          8.4649e-02,  7.1448e-01, -2.5498e-01,  2.9358e-01, -9.6405e-01,\n",
              "         -7.3234e-01,  2.2070e-01, -9.0099e-02,  2.7925e-01, -1.8913e-01,\n",
              "          6.3940e-02, -5.3628e-01, -4.3701e-01,  7.6866e-01,  7.9925e-01,\n",
              "          7.1712e-01, -5.4809e-01,  7.6632e-01, -1.9306e-01,  8.0714e-01,\n",
              "         -4.4083e-01,  9.1704e-01, -4.0982e-01,  2.6355e-01, -8.5143e-01,\n",
              "          5.4685e-01, -8.6730e-01,  3.8762e-01, -1.7283e-02, -7.0376e-01,\n",
              "         -4.7805e-01,  2.5609e-01,  1.3615e-01,  8.1049e-01, -3.1496e-01,\n",
              "          9.9015e-01, -3.1176e-03, -8.8430e-01,  6.4003e-01,  4.9027e-02,\n",
              "         -9.5700e-01, -4.0329e-01,  1.4249e-01, -7.1941e-01, -1.8932e-01,\n",
              "         -2.5175e-01, -8.8674e-01,  8.0924e-01,  9.6179e-02,  9.6767e-01,\n",
              "          1.5721e-01, -8.6234e-01, -1.4904e-01, -7.7120e-01, -2.1673e-01,\n",
              "         -5.4306e-03,  7.2208e-01, -1.8350e-01, -9.1231e-01,  3.4395e-01,\n",
              "          4.4824e-01,  2.3878e-01,  7.5155e-01,  9.8591e-01,  9.2647e-01,\n",
              "          9.4021e-01,  8.1001e-01,  8.3063e-01,  3.2292e-02,  2.7754e-01,\n",
              "          9.9948e-01,  1.5751e-01, -9.9637e-01, -9.0362e-01, -4.2698e-01,\n",
              "          2.7537e-01, -9.9986e-01, -4.9929e-02,  5.3152e-02, -8.2346e-01,\n",
              "         -5.1539e-01,  9.5147e-01,  9.7265e-01, -9.9952e-01,  7.8033e-01,\n",
              "          8.8436e-01, -3.3418e-01, -2.5016e-01, -6.6673e-02,  9.3727e-01,\n",
              "          2.2227e-01,  2.7983e-01, -1.0442e-01,  1.4937e-01,  4.4243e-01,\n",
              "         -7.4751e-01,  5.2131e-01,  6.1683e-01, -3.2769e-01,  5.2526e-02,\n",
              "         -5.9922e-01, -8.6110e-01, -4.0902e-01, -3.4705e-02, -3.1748e-01,\n",
              "         -9.0279e-01, -2.8453e-02, -5.0062e-01,  4.4687e-01,  3.7122e-02,\n",
              "          6.2662e-02, -6.9511e-01,  1.1580e-01, -6.9440e-01,  3.6308e-01,\n",
              "          3.7327e-01, -8.6332e-01, -5.2600e-01,  9.6755e-02, -5.1680e-01,\n",
              "          4.7846e-01, -8.8746e-01,  9.3668e-01, -1.6869e-01, -4.6131e-01,\n",
              "          9.9965e-01, -4.9597e-01, -7.7109e-01,  1.5017e-01,  6.6021e-02,\n",
              "         -1.7587e-03,  9.9949e-01,  8.4907e-02, -9.4391e-01, -2.4329e-01,\n",
              "          1.1654e-03, -2.2956e-01, -1.7586e-01,  9.8896e-01, -1.0476e-01,\n",
              "          5.1960e-01,  4.8725e-01,  8.9962e-01, -9.6646e-01, -5.0941e-01,\n",
              "         -8.4816e-01, -9.0902e-01,  9.1316e-01,  8.6604e-01,  6.9097e-02,\n",
              "         -4.7374e-01,  2.4400e-02,  2.2901e-01,  1.1900e-01, -9.3628e-01,\n",
              "          4.3007e-01,  3.6430e-01, -1.1133e-01,  8.4647e-01, -7.9057e-01,\n",
              "         -2.5083e-01,  3.4466e-01,  2.7093e-01,  4.6615e-01, -5.4862e-01,\n",
              "          3.0790e-01, -1.5740e-01,  2.4980e-02, -1.4321e-01,  2.5085e-01,\n",
              "         -9.3187e-01, -1.8801e-01,  9.9926e-01,  2.6486e-01, -6.9135e-01,\n",
              "         -6.8980e-02, -5.1954e-02, -3.7926e-01,  1.8187e-01,  2.7067e-01,\n",
              "         -1.6388e-01, -7.2318e-01, -4.4396e-01, -8.7934e-01, -9.4777e-01,\n",
              "          6.1199e-01,  1.0500e-01, -2.2164e-01,  9.8259e-01,  9.3567e-02,\n",
              "          1.6236e-02, -2.5199e-01, -4.0737e-01,  1.4732e-02,  4.8548e-01,\n",
              "         -6.8349e-01,  9.2892e-01, -1.6402e-01,  2.0980e-01,  7.6531e-01,\n",
              "          5.6083e-01, -2.0680e-01, -5.3923e-01, -2.7494e-02, -8.4411e-01,\n",
              "          5.2830e-02, -8.8688e-01,  9.0801e-01, -7.4967e-01,  1.7157e-01,\n",
              "          4.4103e-02, -3.1059e-01,  9.9952e-01,  5.6298e-01,  4.9188e-01,\n",
              "         -6.0436e-01,  8.1618e-01,  6.9184e-02, -6.4477e-01, -2.1770e-01,\n",
              "          4.1023e-02,  6.7474e-01, -1.2868e-01,  1.3075e-01, -9.2322e-01,\n",
              "         -5.5960e-01, -4.2912e-01, -9.5790e-01, -9.6913e-01,  6.6765e-01,\n",
              "          6.7463e-01,  9.8577e-04,  3.4389e-01, -4.8254e-01, -4.9487e-01,\n",
              "         -2.8873e-02, -7.5272e-02, -8.6728e-01,  6.5687e-01, -1.8353e-01,\n",
              "          2.9637e-01, -1.9001e-01,  2.6557e-01, -6.3740e-01,  7.6488e-01,\n",
              "          7.3902e-01,  2.5961e-01,  2.0581e-02, -6.7345e-01,  6.7745e-01,\n",
              "         -7.4420e-01,  5.8441e-01, -6.0455e-02,  9.9985e-01, -2.5985e-01,\n",
              "         -4.1957e-01,  6.2422e-01,  6.3481e-01,  3.1517e-02,  1.0284e-01,\n",
              "         -5.5178e-01,  1.9334e-02,  6.0685e-01,  6.6430e-01, -8.0056e-01,\n",
              "         -1.6140e-01,  3.9022e-01, -6.6428e-01, -5.7015e-01,  6.4309e-01,\n",
              "         -2.0783e-01, -4.8857e-02,  2.4656e-02,  5.6429e-02,  9.9559e-01,\n",
              "         -5.5688e-02, -1.8117e-02, -3.4175e-01,  7.6463e-02, -1.7274e-01,\n",
              "         -5.9856e-01,  9.9681e-01,  2.5150e-01, -3.2670e-01, -9.6387e-01,\n",
              "          5.1790e-01, -8.4959e-01,  8.4722e-01,  6.0875e-01, -7.7916e-01,\n",
              "          2.9298e-01,  7.0753e-02, -9.6499e-02,  6.9109e-01, -7.5745e-02,\n",
              "         -1.7583e-01,  2.6440e-02,  8.5952e-02,  9.0192e-01, -2.6143e-01,\n",
              "         -8.9764e-01, -4.3301e-01,  1.9760e-01, -9.1087e-01,  5.1347e-02,\n",
              "         -3.9226e-01, -6.3821e-02, -9.6620e-02,  4.5499e-01,  8.4757e-01,\n",
              "         -8.3653e-02, -9.3784e-01, -6.7000e-02, -1.1376e-01,  9.1566e-01,\n",
              "          1.0818e-01, -2.6901e-01, -8.6426e-01, -6.8781e-01, -3.4064e-01,\n",
              "          6.7674e-01, -8.5676e-01,  9.3066e-01, -9.5760e-01,  1.7653e-01,\n",
              "          9.9832e-01,  2.2115e-01, -7.4250e-01,  7.6070e-02, -3.4298e-01,\n",
              "          1.1094e-01,  4.2317e-01,  4.6860e-01, -9.0643e-01, -1.4344e-01,\n",
              "         -8.4931e-02,  1.1363e-01, -1.3019e-01,  5.6978e-01,  5.1346e-01,\n",
              "          1.0716e-01, -2.0165e-01, -3.3442e-01, -1.1409e-02,  2.7751e-01,\n",
              "          5.4247e-01, -1.7852e-01, -5.5484e-02,  3.8460e-02, -1.0104e-01,\n",
              "         -8.1416e-01, -1.1623e-01, -7.4685e-02, -5.2876e-01,  5.1719e-01,\n",
              "         -9.9974e-01, -5.4525e-01, -6.0631e-01, -1.5389e-01,  7.0590e-01,\n",
              "         -1.1926e-01, -2.2660e-01, -5.7208e-01,  6.0846e-01,  8.1818e-01,\n",
              "          5.7340e-01, -4.9903e-02,  3.5590e-01, -5.4659e-01,  1.3651e-02,\n",
              "         -4.6442e-02,  1.1406e-01,  3.1596e-01,  6.4894e-01, -6.1801e-02,\n",
              "          9.9988e-01,  3.3007e-04, -3.4036e-01, -9.3773e-01,  1.6707e-01,\n",
              "         -1.2611e-01,  9.6960e-01, -8.7040e-01, -8.7986e-01,  1.5899e-01,\n",
              "         -3.0401e-01, -7.0618e-01,  1.0710e-01, -1.9823e-02, -4.2272e-01,\n",
              "          4.4623e-01,  9.2783e-01,  8.2859e-01, -2.3911e-01,  2.0243e-01,\n",
              "         -1.8760e-01, -3.2287e-01, -4.2672e-02, -6.7096e-01,  9.5991e-01,\n",
              "          7.1243e-02,  8.4947e-01,  7.4722e-01,  2.0251e-01,  9.1680e-01,\n",
              "          1.0342e-01,  6.0291e-01, -9.2805e-03,  9.9823e-01,  1.6982e-01,\n",
              "         -8.7128e-01,  5.3222e-01, -9.7416e-01, -6.4534e-02, -9.1945e-01,\n",
              "          1.1309e-01, -2.8472e-02,  7.8029e-01, -1.6466e-01,  9.0593e-01,\n",
              "          6.5792e-01,  1.7201e-02,  3.6143e-01,  7.0553e-01,  2.1877e-01,\n",
              "         -8.3102e-01, -9.5996e-01, -9.6002e-01,  6.5820e-02, -3.3316e-01,\n",
              "         -4.0568e-02,  2.2680e-01,  1.2483e-01,  2.1638e-01,  2.2486e-01,\n",
              "         -9.9549e-01,  8.5246e-01,  2.5813e-01, -5.8581e-01,  9.0324e-01,\n",
              "         -5.7729e-02,  6.5848e-02,  1.0700e-01, -9.6288e-01, -9.2642e-01,\n",
              "         -2.2266e-01, -2.2434e-01,  6.5255e-01,  4.2166e-01,  7.6573e-01,\n",
              "          1.7960e-01, -4.1825e-01, -3.6287e-02,  5.2343e-01,  1.1889e-01,\n",
              "         -9.7330e-01,  2.7377e-01,  4.7110e-01, -9.3201e-01,  9.0592e-01,\n",
              "         -4.7861e-01, -1.4623e-01,  6.9056e-01,  4.8340e-01,  8.8651e-01,\n",
              "          6.2136e-01,  4.1561e-01,  7.9431e-02,  3.7686e-01,  7.8578e-01,\n",
              "          9.1874e-01,  9.6776e-01,  5.0637e-01,  7.0492e-01,  5.8290e-01,\n",
              "          2.4536e-01,  8.2670e-02, -8.6557e-01,  4.7132e-02, -1.6182e-01,\n",
              "          1.2523e-01,  1.1014e-01, -8.0892e-02, -9.2775e-01,  2.7580e-01,\n",
              "         -4.1624e-02,  2.4712e-01, -2.7430e-01,  1.9844e-01, -2.9948e-01,\n",
              "         -1.2126e-01, -6.1217e-01, -2.3204e-01,  3.5968e-01,  2.6346e-01,\n",
              "          8.5354e-01, -1.3583e-01,  2.3887e-02, -4.8816e-01, -1.1122e-02,\n",
              "          5.5415e-01, -8.3943e-01,  8.7378e-01,  5.3509e-02,  5.1533e-01,\n",
              "         -4.4813e-01, -1.0083e-01,  3.0493e-01, -4.4331e-01, -2.6303e-01,\n",
              "         -1.4627e-01, -6.5373e-01,  7.6143e-01,  2.7837e-02, -3.3078e-01,\n",
              "         -2.4260e-01,  4.8106e-01,  2.0433e-01,  3.1441e-01,  4.4136e-01,\n",
              "          5.0380e-01,  4.0833e-02, -5.9277e-02,  1.3313e-01, -7.9437e-02,\n",
              "         -9.9576e-01,  2.8045e-01,  4.7871e-01, -4.4232e-01,  3.7786e-01,\n",
              "         -6.4290e-01,  3.2359e-01, -9.4576e-01,  3.9177e-03, -2.9407e-01,\n",
              "         -4.8932e-01, -4.4471e-01, -9.3555e-02,  2.2494e-01,  6.5531e-01,\n",
              "         -4.2955e-01,  8.1863e-01,  2.8184e-01,  6.1618e-01,  2.9981e-01,\n",
              "          4.4352e-01, -5.0918e-01,  8.1965e-01]])"
            ]
          },
          "execution_count": 61,
          "metadata": {},
          "output_type": "execute_result"
        }
      ],
      "source": [
        "a"
      ]
    },
    {
      "cell_type": "code",
      "execution_count": null,
      "metadata": {
        "colab": {
          "base_uri": "https://localhost:8080/"
        },
        "id": "sEoRViMja_xV",
        "outputId": "a59d8a71-ddb1-4885-87c2-30c74edca6f6"
      },
      "outputs": [
        {
          "data": {
            "text/plain": [
              "torch.Size([1, 768])"
            ]
          },
          "execution_count": 62,
          "metadata": {},
          "output_type": "execute_result"
        }
      ],
      "source": [
        "a.size()"
      ]
    },
    {
      "cell_type": "code",
      "execution_count": null,
      "metadata": {
        "id": "1rBDJryBa_xW"
      },
      "outputs": [],
      "source": [
        "b = outputs.last_hidden_state"
      ]
    },
    {
      "cell_type": "code",
      "execution_count": null,
      "metadata": {
        "colab": {
          "base_uri": "https://localhost:8080/"
        },
        "id": "7_IrWE69a_xW",
        "outputId": "0006e474-bced-4d80-e3ba-8867c1c73140"
      },
      "outputs": [
        {
          "data": {
            "text/plain": [
              "tensor([[[-0.0260,  0.1920,  0.0344,  ..., -0.1346,  0.0773,  0.2477],\n",
              "         [-0.5674, -0.2561,  0.3124,  ..., -0.7818,  0.2190,  0.5927],\n",
              "         [-0.2362, -0.3177,  0.6953,  ..., -0.2110,  0.1040,  0.9891],\n",
              "         [-0.1820, -0.3069,  1.0218,  ..., -0.1590,  0.0841,  1.3962],\n",
              "         [ 0.0534, -0.4904, -0.0244,  ...,  0.1503,  0.1478, -0.2623],\n",
              "         [ 0.7536,  0.1498, -0.2997,  ...,  0.0948, -0.8660, -0.2169]]])"
            ]
          },
          "execution_count": 65,
          "metadata": {},
          "output_type": "execute_result"
        }
      ],
      "source": [
        "b"
      ]
    },
    {
      "cell_type": "markdown",
      "metadata": {
        "id": "NzFZyiJFa_xW"
      },
      "source": [
        "### AutoModelForSequenceClassification class (output_hidden_states = False)"
      ]
    },
    {
      "cell_type": "code",
      "execution_count": null,
      "metadata": {
        "colab": {
          "base_uri": "https://localhost:8080/"
        },
        "id": "HN-4WTJ_a_xW",
        "outputId": "defaa742-ffda-430f-c9bb-620047cadfda"
      },
      "outputs": [
        {
          "name": "stderr",
          "output_type": "stream",
          "text": [
            "Some weights of RobertaForSequenceClassification were not initialized from the model checkpoint at roberta-base and are newly initialized: ['classifier.out_proj.weight', 'classifier.dense.bias', 'classifier.dense.weight', 'classifier.out_proj.bias']\n",
            "You should probably TRAIN this model on a down-stream task to be able to use it for predictions and inference.\n"
          ]
        }
      ],
      "source": [
        "from transformers import AutoModelForSequenceClassification\n",
        "\n",
        "num_labels = 4\n",
        "model = (AutoModelForSequenceClassification.from_pretrained(model_ckpt, num_labels=num_labels).to(device))"
      ]
    },
    {
      "cell_type": "code",
      "execution_count": null,
      "metadata": {
        "colab": {
          "base_uri": "https://localhost:8080/"
        },
        "id": "NaPMZZGEa_xW",
        "outputId": "fdca1b54-0b56-43af-bbaf-8a930eac04b4"
      },
      "outputs": [
        {
          "data": {
            "text/plain": [
              "RobertaForSequenceClassification(\n",
              "  (roberta): RobertaModel(\n",
              "    (embeddings): RobertaEmbeddings(\n",
              "      (word_embeddings): Embedding(50265, 768, padding_idx=1)\n",
              "      (position_embeddings): Embedding(514, 768, padding_idx=1)\n",
              "      (token_type_embeddings): Embedding(1, 768)\n",
              "      (LayerNorm): LayerNorm((768,), eps=1e-05, elementwise_affine=True)\n",
              "      (dropout): Dropout(p=0.1, inplace=False)\n",
              "    )\n",
              "    (encoder): RobertaEncoder(\n",
              "      (layer): ModuleList(\n",
              "        (0-11): 12 x RobertaLayer(\n",
              "          (attention): RobertaAttention(\n",
              "            (self): RobertaSelfAttention(\n",
              "              (query): Linear(in_features=768, out_features=768, bias=True)\n",
              "              (key): Linear(in_features=768, out_features=768, bias=True)\n",
              "              (value): Linear(in_features=768, out_features=768, bias=True)\n",
              "              (dropout): Dropout(p=0.1, inplace=False)\n",
              "            )\n",
              "            (output): RobertaSelfOutput(\n",
              "              (dense): Linear(in_features=768, out_features=768, bias=True)\n",
              "              (LayerNorm): LayerNorm((768,), eps=1e-05, elementwise_affine=True)\n",
              "              (dropout): Dropout(p=0.1, inplace=False)\n",
              "            )\n",
              "          )\n",
              "          (intermediate): RobertaIntermediate(\n",
              "            (dense): Linear(in_features=768, out_features=3072, bias=True)\n",
              "            (intermediate_act_fn): GELUActivation()\n",
              "          )\n",
              "          (output): RobertaOutput(\n",
              "            (dense): Linear(in_features=3072, out_features=768, bias=True)\n",
              "            (LayerNorm): LayerNorm((768,), eps=1e-05, elementwise_affine=True)\n",
              "            (dropout): Dropout(p=0.1, inplace=False)\n",
              "          )\n",
              "        )\n",
              "      )\n",
              "    )\n",
              "  )\n",
              "  (classifier): RobertaClassificationHead(\n",
              "    (dense): Linear(in_features=768, out_features=768, bias=True)\n",
              "    (dropout): Dropout(p=0.1, inplace=False)\n",
              "    (out_proj): Linear(in_features=768, out_features=4, bias=True)\n",
              "  )\n",
              ")"
            ]
          },
          "execution_count": 66,
          "metadata": {},
          "output_type": "execute_result"
        }
      ],
      "source": [
        "model"
      ]
    },
    {
      "cell_type": "code",
      "execution_count": null,
      "metadata": {
        "id": "IBBGlUQka_xW"
      },
      "outputs": [],
      "source": [
        "# previous inputs object don't have device type, so we should place them on the same device as the model (if we don't run this code and our model is in GPU, there will be a problem becaue the place of tensors and model is different.)\n",
        "inputs = {k:v.to(device) for k,v in inputs.items()}"
      ]
    },
    {
      "cell_type": "code",
      "execution_count": null,
      "metadata": {
        "colab": {
          "base_uri": "https://localhost:8080/"
        },
        "id": "l_RlBcn7a_xW",
        "outputId": "25f19a4e-1468-4622-f6f8-99c1d591b9c8"
      },
      "outputs": [
        {
          "data": {
            "text/plain": [
              "{'input_ids': tensor([[   0, 9226,   16,   10, 1296,    2]]),\n",
              " 'attention_mask': tensor([[1, 1, 1, 1, 1, 1]])}"
            ]
          },
          "execution_count": 68,
          "metadata": {},
          "output_type": "execute_result"
        }
      ],
      "source": [
        "inputs"
      ]
    },
    {
      "cell_type": "code",
      "execution_count": null,
      "metadata": {
        "colab": {
          "base_uri": "https://localhost:8080/"
        },
        "id": "xwaneOf3a_xW",
        "outputId": "28fab54e-e4dd-49b7-ea66-fedcb7f23546"
      },
      "outputs": [
        {
          "data": {
            "text/plain": [
              "dict"
            ]
          },
          "execution_count": 69,
          "metadata": {},
          "output_type": "execute_result"
        }
      ],
      "source": [
        "type(inputs)"
      ]
    },
    {
      "cell_type": "code",
      "execution_count": null,
      "metadata": {
        "id": "5Z6PlGi9a_xX"
      },
      "outputs": [],
      "source": [
        "with torch.no_grad():\n",
        "  outputs = model(**inputs)"
      ]
    },
    {
      "cell_type": "code",
      "execution_count": null,
      "metadata": {
        "colab": {
          "base_uri": "https://localhost:8080/"
        },
        "id": "FWTdsBzqa_xX",
        "outputId": "64996ae2-8bab-48c5-eadd-d594bfaae9ed"
      },
      "outputs": [
        {
          "data": {
            "text/plain": [
              "SequenceClassifierOutput(loss=None, logits=tensor([[ 0.0832,  0.2356, -0.0045,  0.0424]]), hidden_states=None, attentions=None)"
            ]
          },
          "execution_count": 71,
          "metadata": {},
          "output_type": "execute_result"
        }
      ],
      "source": [
        "outputs"
      ]
    },
    {
      "cell_type": "markdown",
      "metadata": {
        "id": "tC6Jd8ERa_xX"
      },
      "source": [
        "As we can see, since we use `AutoModelForSequenceClassification` class, we have a classification head on top of pooler layer, so in the output we give logits which are scores for each class. (There is no pooler layer in the output)"
      ]
    },
    {
      "cell_type": "code",
      "execution_count": null,
      "metadata": {
        "colab": {
          "base_uri": "https://localhost:8080/"
        },
        "id": "2kJSB53ia_xX",
        "outputId": "f09104cf-b41a-4da0-9797-c055847e6be3"
      },
      "outputs": [
        {
          "name": "stdout",
          "output_type": "stream",
          "text": [
            "logits\n"
          ]
        }
      ],
      "source": [
        "for k, v in outputs.items():\n",
        "  print(k)"
      ]
    },
    {
      "cell_type": "markdown",
      "metadata": {
        "id": "cDjcDmfea_xX"
      },
      "source": [
        "### AutoModelForSequenceClassification  class (output_hidden_states = True)"
      ]
    },
    {
      "cell_type": "markdown",
      "metadata": {
        "id": "FSUszX6Sa_xX"
      },
      "source": [
        "This time we set `output_hidden_states=True`."
      ]
    },
    {
      "cell_type": "code",
      "execution_count": null,
      "metadata": {
        "colab": {
          "base_uri": "https://localhost:8080/"
        },
        "id": "LF0bd0z-a_xY",
        "outputId": "e8cd9373-7f78-4845-f784-72ddb619e485"
      },
      "outputs": [
        {
          "name": "stderr",
          "output_type": "stream",
          "text": [
            "Some weights of RobertaForSequenceClassification were not initialized from the model checkpoint at roberta-base and are newly initialized: ['classifier.out_proj.weight', 'classifier.dense.bias', 'classifier.dense.weight', 'classifier.out_proj.bias']\n",
            "You should probably TRAIN this model on a down-stream task to be able to use it for predictions and inference.\n"
          ]
        }
      ],
      "source": [
        "from transformers import AutoModelForSequenceClassification\n",
        "\n",
        "num_labels = 4\n",
        "model = (AutoModelForSequenceClassification.from_pretrained(model_ckpt, num_labels=num_labels, output_hidden_states=True).to(device))"
      ]
    },
    {
      "cell_type": "code",
      "execution_count": null,
      "metadata": {
        "colab": {
          "base_uri": "https://localhost:8080/"
        },
        "id": "_Tz6hFmSa_xY",
        "outputId": "134e940b-14c9-4b6f-c73b-885a62b484cd"
      },
      "outputs": [
        {
          "data": {
            "text/plain": [
              "RobertaForSequenceClassification(\n",
              "  (roberta): RobertaModel(\n",
              "    (embeddings): RobertaEmbeddings(\n",
              "      (word_embeddings): Embedding(50265, 768, padding_idx=1)\n",
              "      (position_embeddings): Embedding(514, 768, padding_idx=1)\n",
              "      (token_type_embeddings): Embedding(1, 768)\n",
              "      (LayerNorm): LayerNorm((768,), eps=1e-05, elementwise_affine=True)\n",
              "      (dropout): Dropout(p=0.1, inplace=False)\n",
              "    )\n",
              "    (encoder): RobertaEncoder(\n",
              "      (layer): ModuleList(\n",
              "        (0-11): 12 x RobertaLayer(\n",
              "          (attention): RobertaAttention(\n",
              "            (self): RobertaSelfAttention(\n",
              "              (query): Linear(in_features=768, out_features=768, bias=True)\n",
              "              (key): Linear(in_features=768, out_features=768, bias=True)\n",
              "              (value): Linear(in_features=768, out_features=768, bias=True)\n",
              "              (dropout): Dropout(p=0.1, inplace=False)\n",
              "            )\n",
              "            (output): RobertaSelfOutput(\n",
              "              (dense): Linear(in_features=768, out_features=768, bias=True)\n",
              "              (LayerNorm): LayerNorm((768,), eps=1e-05, elementwise_affine=True)\n",
              "              (dropout): Dropout(p=0.1, inplace=False)\n",
              "            )\n",
              "          )\n",
              "          (intermediate): RobertaIntermediate(\n",
              "            (dense): Linear(in_features=768, out_features=3072, bias=True)\n",
              "            (intermediate_act_fn): GELUActivation()\n",
              "          )\n",
              "          (output): RobertaOutput(\n",
              "            (dense): Linear(in_features=3072, out_features=768, bias=True)\n",
              "            (LayerNorm): LayerNorm((768,), eps=1e-05, elementwise_affine=True)\n",
              "            (dropout): Dropout(p=0.1, inplace=False)\n",
              "          )\n",
              "        )\n",
              "      )\n",
              "    )\n",
              "  )\n",
              "  (classifier): RobertaClassificationHead(\n",
              "    (dense): Linear(in_features=768, out_features=768, bias=True)\n",
              "    (dropout): Dropout(p=0.1, inplace=False)\n",
              "    (out_proj): Linear(in_features=768, out_features=4, bias=True)\n",
              "  )\n",
              ")"
            ]
          },
          "execution_count": 74,
          "metadata": {},
          "output_type": "execute_result"
        }
      ],
      "source": [
        "model"
      ]
    },
    {
      "cell_type": "code",
      "execution_count": null,
      "metadata": {
        "id": "yQ_9gPyPa_xY"
      },
      "outputs": [],
      "source": [
        "inputs = {k:v.to(device) for k,v in inputs.items()}"
      ]
    },
    {
      "cell_type": "code",
      "execution_count": null,
      "metadata": {
        "colab": {
          "base_uri": "https://localhost:8080/"
        },
        "id": "pEGNLxXRa_xY",
        "outputId": "b86a09db-7111-413a-9a60-52bf7505aeee"
      },
      "outputs": [
        {
          "data": {
            "text/plain": [
              "{'input_ids': tensor([[   0, 9226,   16,   10, 1296,    2]]),\n",
              " 'attention_mask': tensor([[1, 1, 1, 1, 1, 1]])}"
            ]
          },
          "execution_count": 76,
          "metadata": {},
          "output_type": "execute_result"
        }
      ],
      "source": [
        "inputs"
      ]
    },
    {
      "cell_type": "code",
      "execution_count": null,
      "metadata": {
        "colab": {
          "base_uri": "https://localhost:8080/"
        },
        "id": "uENI9EGMa_xY",
        "outputId": "cd65ab4c-d8d4-4053-bb09-0e16716e6e3b"
      },
      "outputs": [
        {
          "data": {
            "text/plain": [
              "dict"
            ]
          },
          "execution_count": 77,
          "metadata": {},
          "output_type": "execute_result"
        }
      ],
      "source": [
        "type(inputs)"
      ]
    },
    {
      "cell_type": "code",
      "execution_count": null,
      "metadata": {
        "id": "aaMncUZ-a_xY"
      },
      "outputs": [],
      "source": [
        "with torch.no_grad():\n",
        "  outputs = model(**inputs)"
      ]
    },
    {
      "cell_type": "code",
      "execution_count": null,
      "metadata": {
        "colab": {
          "base_uri": "https://localhost:8080/"
        },
        "id": "En4lu6_La_xY",
        "outputId": "ed601b44-3721-4210-dea6-e8cc1ad3f0cf"
      },
      "outputs": [
        {
          "data": {
            "text/plain": [
              "SequenceClassifierOutput(loss=None, logits=tensor([[ 0.0220,  0.0056, -0.0436, -0.0366]]), hidden_states=(tensor([[[ 0.1664, -0.0541, -0.0014,  ..., -0.0811,  0.0794,  0.0155],\n",
              "         [ 0.0615,  0.4178,  0.2521,  ..., -0.0394, -0.1210,  0.1449],\n",
              "         [ 0.0956,  0.2541,  0.0636,  ..., -0.0035, -0.1861, -0.1094],\n",
              "         [-0.1625, -0.2608, -0.0704,  ...,  0.2587, -0.1823,  0.5187],\n",
              "         [ 0.1381, -0.1489,  0.0545,  ...,  0.5065, -0.6059, -0.0133],\n",
              "         [ 0.2591, -0.2605, -0.0797,  ...,  0.4292,  0.0867,  0.2130]]]), tensor([[[-0.0526, -0.0266,  0.0974,  ...,  0.0314,  0.0046, -0.1211],\n",
              "         [ 0.0135,  0.0806,  0.7658,  ...,  0.1807, -0.2419,  0.3058],\n",
              "         [ 0.2338,  0.1245,  0.1815,  ...,  0.0284, -0.6805, -0.0709],\n",
              "         [-0.2702, -0.6758,  0.0561,  ...,  0.5978, -0.3892,  0.8312],\n",
              "         [ 0.0235, -0.6660,  0.3830,  ...,  1.2095, -0.8966,  0.1152],\n",
              "         [ 0.2046, -0.4344,  0.1746,  ...,  0.7963, -0.0742, -0.2797]]]), tensor([[[ 0.0496,  0.0144,  0.0052,  ...,  0.0441, -0.0046, -0.0685],\n",
              "         [ 0.1582,  0.2187,  0.2362,  ...,  0.1767,  0.0232,  0.7061],\n",
              "         [ 0.0292,  0.7040,  0.1785,  ..., -0.1141, -0.5987,  0.2817],\n",
              "         [-0.1427, -0.7726, -0.2315,  ...,  0.4946, -0.5601,  0.7791],\n",
              "         [ 0.0832, -0.4454, -0.1150,  ...,  1.7009, -0.6007,  0.3228],\n",
              "         [-0.2141, -0.3375, -0.0279,  ...,  1.0762,  0.0971, -0.4113]]]), tensor([[[ 0.0229,  0.0270, -0.0225,  ...,  0.0408,  0.0473,  0.0361],\n",
              "         [ 0.1227,  0.1340,  0.5584,  ...,  0.1302, -0.6657,  0.2652],\n",
              "         [-0.1458,  0.7125,  0.0342,  ...,  0.0279, -0.4660, -0.0807],\n",
              "         [-0.1101, -0.5775, -0.2148,  ...,  0.4306, -0.3060,  0.3102],\n",
              "         [ 0.3001, -0.5634,  0.0394,  ...,  1.4675, -0.2957,  0.1461],\n",
              "         [-0.1711, -0.1322,  0.0898,  ...,  0.9273,  0.0422, -0.2808]]]), tensor([[[-5.8444e-04,  6.4932e-02, -6.5508e-03,  ...,  3.8216e-02,\n",
              "          -3.1476e-02, -3.6898e-02],\n",
              "         [-2.1180e-01,  5.5104e-02,  6.4039e-01,  ...,  1.4131e-01,\n",
              "          -7.8693e-01,  2.1750e-01],\n",
              "         [-3.4018e-01,  5.8825e-01,  9.3971e-02,  ...,  1.9827e-01,\n",
              "          -7.4820e-01,  2.6932e-01],\n",
              "         [-4.2885e-01, -6.8643e-01, -4.5143e-01,  ...,  5.0769e-01,\n",
              "          -5.3609e-01,  2.0498e-01],\n",
              "         [-3.1902e-01, -3.3998e-01,  1.5117e-02,  ...,  1.2675e+00,\n",
              "          -4.7645e-01, -1.1497e-01],\n",
              "         [ 2.3376e-01, -7.4733e-02,  2.2360e-01,  ...,  2.2896e-01,\n",
              "           2.1030e-01, -1.5797e-01]]]), tensor([[[ 0.0117,  0.0791,  0.0063,  ...,  0.0237,  0.0241,  0.0414],\n",
              "         [-0.2982,  0.0330,  0.8230,  ...,  0.0362, -0.5569, -0.4938],\n",
              "         [-0.1663,  0.3277, -0.0940,  ...,  0.3882, -0.4148, -0.5694],\n",
              "         [-0.3282, -0.9284, -0.3940,  ...,  0.5183, -0.5018, -0.3940],\n",
              "         [-0.3003, -0.4583,  0.2618,  ...,  1.1895, -0.5605,  0.0042],\n",
              "         [ 0.0571, -0.0646,  0.0582,  ...,  0.1097, -0.0205,  0.0093]]]), tensor([[[ 0.0723,  0.0552,  0.1094,  ...,  0.0294, -0.0258, -0.0403],\n",
              "         [-0.0920, -0.3030,  0.4761,  ...,  0.0050, -0.4016, -0.7858],\n",
              "         [-0.0154,  0.3131, -0.3898,  ...,  0.1346, -0.2578, -0.7156],\n",
              "         [-0.3899, -0.7145, -0.5990,  ...,  0.2997, -0.2532, -0.3572],\n",
              "         [-0.1145, -0.2746,  0.2628,  ...,  0.9244, -0.1039, -0.0577],\n",
              "         [ 0.0320, -0.0011,  0.0858,  ..., -0.0017, -0.0538, -0.0240]]]), tensor([[[-0.0230,  0.0653,  0.0578,  ...,  0.1348, -0.0380,  0.0153],\n",
              "         [-0.2243, -0.4527,  0.3143,  ..., -0.0657,  0.3526, -0.6023],\n",
              "         [-0.1108,  0.4437, -0.4910,  ...,  0.1469,  0.0702, -0.3462],\n",
              "         [-0.3305, -0.5552, -0.5819,  ...,  0.2989,  0.1227, -0.1396],\n",
              "         [ 0.0291, -0.2220,  0.1490,  ...,  1.2462,  0.0803,  0.0155],\n",
              "         [ 0.0103,  0.0051,  0.0678,  ...,  0.0189,  0.0090,  0.0297]]]), tensor([[[-1.2393e-01,  1.2028e-01,  1.1509e-02,  ...,  1.2561e-01,\n",
              "           3.2580e-02, -2.9393e-02],\n",
              "         [ 8.2217e-02, -4.0492e-01,  2.7235e-01,  ..., -1.9925e-02,\n",
              "           1.2262e-01, -1.8819e-01],\n",
              "         [ 1.8302e-01,  5.1769e-01, -3.1520e-01,  ...,  1.4294e-01,\n",
              "           3.5338e-01, -4.5451e-01],\n",
              "         [-1.2997e-02, -8.5333e-01, -3.4878e-01,  ...,  2.0169e-01,\n",
              "           4.1086e-02, -2.5454e-01],\n",
              "         [ 3.5423e-01, -2.9331e-01,  3.2185e-01,  ...,  1.1527e+00,\n",
              "           7.0783e-02,  7.8466e-02],\n",
              "         [ 8.5364e-04,  3.7994e-02,  2.6898e-02,  ...,  7.2425e-03,\n",
              "          -7.1603e-04, -8.0948e-03]]]), tensor([[[-8.7838e-02,  2.8542e-02, -1.0640e-01,  ...,  1.2350e-01,\n",
              "           5.6336e-02, -2.0570e-02],\n",
              "         [-3.1554e-01, -3.2584e-01,  2.1184e-01,  ...,  4.1418e-04,\n",
              "          -7.0150e-03,  3.2028e-02],\n",
              "         [ 1.0568e-01,  6.5121e-01, -3.4645e-02,  ...,  2.4276e-02,\n",
              "           2.0138e-01,  4.2091e-02],\n",
              "         [ 1.6696e-02, -8.1392e-01, -1.0841e-01,  ...,  2.4141e-01,\n",
              "           1.0480e-01,  2.3806e-01],\n",
              "         [ 4.1953e-01, -2.8823e-01,  1.9417e-01,  ...,  1.0211e+00,\n",
              "           2.7533e-01,  4.3516e-01],\n",
              "         [ 5.7278e-02,  6.1965e-02,  9.6016e-02,  ..., -2.8451e-02,\n",
              "           1.6218e-01, -1.0408e-01]]]), tensor([[[-0.0011,  0.0314, -0.0866,  ...,  0.0763,  0.0794,  0.0054],\n",
              "         [ 0.6751, -0.1002,  0.1656,  ..., -0.0362, -0.0077,  0.1828],\n",
              "         [ 0.7157,  0.7390,  0.2796,  ..., -0.0032,  0.1439,  0.0779],\n",
              "         [ 0.2282, -0.7653, -0.2270,  ...,  0.2131,  0.0661,  0.3824],\n",
              "         [ 0.3283, -0.4087,  0.0887,  ...,  0.9041,  0.1335,  0.2058],\n",
              "         [-0.1085,  0.0228,  0.0178,  ...,  0.0206,  0.1050, -0.0069]]]), tensor([[[-1.5409e-03, -4.2504e-02, -2.5431e-02,  ...,  8.3646e-02,\n",
              "          -1.0082e-01,  7.0168e-02],\n",
              "         [ 9.4388e-01, -5.2509e-01,  3.0623e-01,  ...,  1.8011e-01,\n",
              "           1.1399e-01, -1.5622e-01],\n",
              "         [ 6.6685e-01,  4.2718e-01,  4.1619e-01,  ...,  1.3523e-01,\n",
              "           4.3018e-01,  7.8654e-02],\n",
              "         [ 1.6328e-01, -8.4582e-01,  1.1235e-01,  ...,  3.8683e-01,\n",
              "           5.4597e-04,  3.3749e-01],\n",
              "         [ 3.6753e-01, -6.8244e-01,  2.0420e-01,  ...,  8.2251e-01,\n",
              "           1.7175e-01,  1.3209e-01],\n",
              "         [-5.2160e-02, -3.0024e-02,  4.9194e-02,  ...,  1.9595e-02,\n",
              "          -2.6484e-02,  2.3356e-02]]]), tensor([[[-0.0449,  0.0641, -0.0302,  ..., -0.0481, -0.0586, -0.0241],\n",
              "         [ 0.1651, -0.1411,  0.1097,  ..., -0.0006,  0.0644, -0.1205],\n",
              "         [ 0.2951,  0.1887,  0.2250,  ..., -0.1786,  0.1688,  0.0601],\n",
              "         [ 0.1389, -0.1818,  0.0681,  ...,  0.0767,  0.0948,  0.3480],\n",
              "         [ 0.2178, -0.2184,  0.1444,  ...,  0.2590,  0.0483,  0.1576],\n",
              "         [-0.0422,  0.0573, -0.0571,  ..., -0.0836, -0.0624, -0.0582]]])), attentions=None)"
            ]
          },
          "execution_count": 79,
          "metadata": {},
          "output_type": "execute_result"
        }
      ],
      "source": [
        "outputs"
      ]
    },
    {
      "cell_type": "code",
      "execution_count": null,
      "metadata": {
        "colab": {
          "base_uri": "https://localhost:8080/"
        },
        "id": "35752cixa_xZ",
        "outputId": "d34eb135-244b-4096-bd91-96f0ff9a99de"
      },
      "outputs": [
        {
          "name": "stdout",
          "output_type": "stream",
          "text": [
            "logits\n",
            "hidden_states\n"
          ]
        }
      ],
      "source": [
        "for k, v in outputs.items():\n",
        "  print(k)"
      ]
    },
    {
      "cell_type": "markdown",
      "metadata": {
        "id": "4asJduima_xZ"
      },
      "source": [
        "As we can see, this time we have `hidden_states` in addition to `logits` parameter.\n",
        "\n",
        "For more information about [`pooler_output`](https://huggingface.co/docs/transformers/main_classes/output#transformers.modeling_outputs.BaseModelOutputWithPooling.pooler_output)\n",
        "\n",
        "pooler_output (torch.FloatTensor of shape (batch_size, hidden_size)) — Last layer hidden-state of the first token of the sequence (classification token) after further processing through the layers used for the auxiliary pretraining task. E.g. for BERT-family of models, this returns the classification token after processing through a linear layer and a tanh activation function. The linear layer weights are trained from the next sentence prediction (classification) objective during pretraining."
      ]
    },
    {
      "cell_type": "code",
      "execution_count": null,
      "metadata": {
        "colab": {
          "base_uri": "https://localhost:8080/"
        },
        "id": "gveByk9ta_xZ",
        "outputId": "d6d4c45f-c51b-414a-f8f3-d7d11fbdbfb8"
      },
      "outputs": [
        {
          "data": {
            "text/plain": [
              "13"
            ]
          },
          "execution_count": 81,
          "metadata": {},
          "output_type": "execute_result"
        }
      ],
      "source": [
        "len(outputs[\"hidden_states\"])"
      ]
    },
    {
      "cell_type": "markdown",
      "metadata": {
        "id": "MqekQtzha_xZ"
      },
      "source": [
        "The size of `hidden_state` parameter equals hidden states of the model at the output of each layer plus the optional initial embedding outputs. So, all in all the size equals (12 layers => 12 hidden states + 1 (initial embedding outputs)) = 13"
      ]
    },
    {
      "cell_type": "code",
      "execution_count": null,
      "metadata": {
        "colab": {
          "base_uri": "https://localhost:8080/"
        },
        "id": "NN8ME40wa_xZ",
        "outputId": "7d59c5e6-769e-4e0b-ffa3-fe6a24cf9b40"
      },
      "outputs": [
        {
          "data": {
            "text/plain": [
              "torch.Size([1, 6, 768])"
            ]
          },
          "execution_count": 82,
          "metadata": {},
          "output_type": "execute_result"
        }
      ],
      "source": [
        "outputs[\"hidden_states\"][0].shape"
      ]
    },
    {
      "cell_type": "code",
      "execution_count": null,
      "metadata": {
        "colab": {
          "base_uri": "https://localhost:8080/"
        },
        "id": "-ugkIpMQa_xa",
        "outputId": "dd2c14c3-8d7f-41a1-cb7d-f834f30d9ff0"
      },
      "outputs": [
        {
          "data": {
            "text/plain": [
              "torch.Size([1, 6, 768])"
            ]
          },
          "execution_count": 83,
          "metadata": {},
          "output_type": "execute_result"
        }
      ],
      "source": [
        "outputs[\"hidden_states\"][1].shape"
      ]
    },
    {
      "cell_type": "markdown",
      "metadata": {
        "id": "si7oPwWHa_xa"
      },
      "source": [
        "We can see that the size of tokens in each hidden state is the same and just embedding will be reacher in top layers (because of multi head attention)"
      ]
    },
    {
      "cell_type": "code",
      "execution_count": null,
      "metadata": {
        "id": "6CrLTFHga_xa"
      },
      "outputs": [],
      "source": [
        "# extract last hidden state\n",
        "x = outputs[\"hidden_states\"][-1]"
      ]
    },
    {
      "cell_type": "code",
      "execution_count": null,
      "metadata": {
        "colab": {
          "base_uri": "https://localhost:8080/"
        },
        "id": "Gq1oMb5aa_xa",
        "outputId": "ab13701d-5516-4b76-fed2-7412178a6048"
      },
      "outputs": [
        {
          "data": {
            "text/plain": [
              "torch.Size([1, 6, 768])"
            ]
          },
          "execution_count": 85,
          "metadata": {},
          "output_type": "execute_result"
        }
      ],
      "source": [
        "x.shape"
      ]
    },
    {
      "cell_type": "code",
      "execution_count": null,
      "metadata": {
        "colab": {
          "base_uri": "https://localhost:8080/"
        },
        "id": "dIvvDPoTa_xc",
        "outputId": "5ce8afbd-f0ac-4770-9132-c2a79d28fc2e"
      },
      "outputs": [
        {
          "data": {
            "text/plain": [
              "13"
            ]
          },
          "execution_count": 87,
          "metadata": {},
          "output_type": "execute_result"
        }
      ],
      "source": [
        "# -1 th element is just hidden_states\n",
        "len(outputs[-1])"
      ]
    }
  ],
  "metadata": {
    "colab": {
      "toc_visible": true,
      "provenance": [],
      "authorship_tag": "ABX9TyOiYsfLNatQyNUc3I0kLSuj",
      "include_colab_link": true
    },
    "kernelspec": {
      "display_name": "Python 3",
      "name": "python3"
    },
    "language_info": {
      "name": "python"
    },
    "widgets": {
      "application/vnd.jupyter.widget-state+json": {
        "0087b44c28544af789c7e1f91b221f01": {
          "model_module": "@jupyter-widgets/controls",
          "model_module_version": "1.5.0",
          "model_name": "ProgressStyleModel",
          "state": {
            "_model_module": "@jupyter-widgets/controls",
            "_model_module_version": "1.5.0",
            "_model_name": "ProgressStyleModel",
            "_view_count": null,
            "_view_module": "@jupyter-widgets/base",
            "_view_module_version": "1.2.0",
            "_view_name": "StyleView",
            "bar_color": null,
            "description_width": ""
          }
        },
        "09f053678611438ba19f6d14f7fadcea": {
          "model_module": "@jupyter-widgets/base",
          "model_module_version": "1.2.0",
          "model_name": "LayoutModel",
          "state": {
            "_model_module": "@jupyter-widgets/base",
            "_model_module_version": "1.2.0",
            "_model_name": "LayoutModel",
            "_view_count": null,
            "_view_module": "@jupyter-widgets/base",
            "_view_module_version": "1.2.0",
            "_view_name": "LayoutView",
            "align_content": null,
            "align_items": null,
            "align_self": null,
            "border": null,
            "bottom": null,
            "display": null,
            "flex": null,
            "flex_flow": null,
            "grid_area": null,
            "grid_auto_columns": null,
            "grid_auto_flow": null,
            "grid_auto_rows": null,
            "grid_column": null,
            "grid_gap": null,
            "grid_row": null,
            "grid_template_areas": null,
            "grid_template_columns": null,
            "grid_template_rows": null,
            "height": null,
            "justify_content": null,
            "justify_items": null,
            "left": null,
            "margin": null,
            "max_height": null,
            "max_width": null,
            "min_height": null,
            "min_width": null,
            "object_fit": null,
            "object_position": null,
            "order": null,
            "overflow": null,
            "overflow_x": null,
            "overflow_y": null,
            "padding": null,
            "right": null,
            "top": null,
            "visibility": null,
            "width": null
          }
        },
        "0b323f947877456db0d5c4adb7aeebaf": {
          "model_module": "@jupyter-widgets/base",
          "model_module_version": "1.2.0",
          "model_name": "LayoutModel",
          "state": {
            "_model_module": "@jupyter-widgets/base",
            "_model_module_version": "1.2.0",
            "_model_name": "LayoutModel",
            "_view_count": null,
            "_view_module": "@jupyter-widgets/base",
            "_view_module_version": "1.2.0",
            "_view_name": "LayoutView",
            "align_content": null,
            "align_items": null,
            "align_self": null,
            "border": null,
            "bottom": null,
            "display": null,
            "flex": null,
            "flex_flow": null,
            "grid_area": null,
            "grid_auto_columns": null,
            "grid_auto_flow": null,
            "grid_auto_rows": null,
            "grid_column": null,
            "grid_gap": null,
            "grid_row": null,
            "grid_template_areas": null,
            "grid_template_columns": null,
            "grid_template_rows": null,
            "height": null,
            "justify_content": null,
            "justify_items": null,
            "left": null,
            "margin": null,
            "max_height": null,
            "max_width": null,
            "min_height": null,
            "min_width": null,
            "object_fit": null,
            "object_position": null,
            "order": null,
            "overflow": null,
            "overflow_x": null,
            "overflow_y": null,
            "padding": null,
            "right": null,
            "top": null,
            "visibility": null,
            "width": null
          }
        },
        "0dcf45f8f2cf4612b0e42891a2b2b2b3": {
          "model_module": "@jupyter-widgets/controls",
          "model_module_version": "1.5.0",
          "model_name": "HTMLModel",
          "state": {
            "_dom_classes": [],
            "_model_module": "@jupyter-widgets/controls",
            "_model_module_version": "1.5.0",
            "_model_name": "HTMLModel",
            "_view_count": null,
            "_view_module": "@jupyter-widgets/controls",
            "_view_module_version": "1.5.0",
            "_view_name": "HTMLView",
            "description": "",
            "description_tooltip": null,
            "layout": "IPY_MODEL_e441ca652e2942f892f3ca159c51934d",
            "placeholder": "​",
            "style": "IPY_MODEL_7a4a171d0f1340d2ada59da5c5052db0",
            "value": " 1.36M/1.36M [00:00&lt;00:00, 25.0MB/s]"
          }
        },
        "122287b01e774d478eaceb7f6be52bb9": {
          "model_module": "@jupyter-widgets/base",
          "model_module_version": "1.2.0",
          "model_name": "LayoutModel",
          "state": {
            "_model_module": "@jupyter-widgets/base",
            "_model_module_version": "1.2.0",
            "_model_name": "LayoutModel",
            "_view_count": null,
            "_view_module": "@jupyter-widgets/base",
            "_view_module_version": "1.2.0",
            "_view_name": "LayoutView",
            "align_content": null,
            "align_items": null,
            "align_self": null,
            "border": null,
            "bottom": null,
            "display": null,
            "flex": null,
            "flex_flow": null,
            "grid_area": null,
            "grid_auto_columns": null,
            "grid_auto_flow": null,
            "grid_auto_rows": null,
            "grid_column": null,
            "grid_gap": null,
            "grid_row": null,
            "grid_template_areas": null,
            "grid_template_columns": null,
            "grid_template_rows": null,
            "height": null,
            "justify_content": null,
            "justify_items": null,
            "left": null,
            "margin": null,
            "max_height": null,
            "max_width": null,
            "min_height": null,
            "min_width": null,
            "object_fit": null,
            "object_position": null,
            "order": null,
            "overflow": null,
            "overflow_x": null,
            "overflow_y": null,
            "padding": null,
            "right": null,
            "top": null,
            "visibility": null,
            "width": null
          }
        },
        "1ac91b27073d4723bd1755adc9a8fca1": {
          "model_module": "@jupyter-widgets/base",
          "model_module_version": "1.2.0",
          "model_name": "LayoutModel",
          "state": {
            "_model_module": "@jupyter-widgets/base",
            "_model_module_version": "1.2.0",
            "_model_name": "LayoutModel",
            "_view_count": null,
            "_view_module": "@jupyter-widgets/base",
            "_view_module_version": "1.2.0",
            "_view_name": "LayoutView",
            "align_content": null,
            "align_items": null,
            "align_self": null,
            "border": null,
            "bottom": null,
            "display": null,
            "flex": null,
            "flex_flow": null,
            "grid_area": null,
            "grid_auto_columns": null,
            "grid_auto_flow": null,
            "grid_auto_rows": null,
            "grid_column": null,
            "grid_gap": null,
            "grid_row": null,
            "grid_template_areas": null,
            "grid_template_columns": null,
            "grid_template_rows": null,
            "height": null,
            "justify_content": null,
            "justify_items": null,
            "left": null,
            "margin": null,
            "max_height": null,
            "max_width": null,
            "min_height": null,
            "min_width": null,
            "object_fit": null,
            "object_position": null,
            "order": null,
            "overflow": null,
            "overflow_x": null,
            "overflow_y": null,
            "padding": null,
            "right": null,
            "top": null,
            "visibility": null,
            "width": null
          }
        },
        "1eaae49976aa4228b7da73da06b4d870": {
          "model_module": "@jupyter-widgets/controls",
          "model_module_version": "1.5.0",
          "model_name": "DescriptionStyleModel",
          "state": {
            "_model_module": "@jupyter-widgets/controls",
            "_model_module_version": "1.5.0",
            "_model_name": "DescriptionStyleModel",
            "_view_count": null,
            "_view_module": "@jupyter-widgets/base",
            "_view_module_version": "1.2.0",
            "_view_name": "StyleView",
            "description_width": ""
          }
        },
        "23aaae463499416596c01eb8aec033d0": {
          "model_module": "@jupyter-widgets/base",
          "model_module_version": "1.2.0",
          "model_name": "LayoutModel",
          "state": {
            "_model_module": "@jupyter-widgets/base",
            "_model_module_version": "1.2.0",
            "_model_name": "LayoutModel",
            "_view_count": null,
            "_view_module": "@jupyter-widgets/base",
            "_view_module_version": "1.2.0",
            "_view_name": "LayoutView",
            "align_content": null,
            "align_items": null,
            "align_self": null,
            "border": null,
            "bottom": null,
            "display": null,
            "flex": null,
            "flex_flow": null,
            "grid_area": null,
            "grid_auto_columns": null,
            "grid_auto_flow": null,
            "grid_auto_rows": null,
            "grid_column": null,
            "grid_gap": null,
            "grid_row": null,
            "grid_template_areas": null,
            "grid_template_columns": null,
            "grid_template_rows": null,
            "height": null,
            "justify_content": null,
            "justify_items": null,
            "left": null,
            "margin": null,
            "max_height": null,
            "max_width": null,
            "min_height": null,
            "min_width": null,
            "object_fit": null,
            "object_position": null,
            "order": null,
            "overflow": null,
            "overflow_x": null,
            "overflow_y": null,
            "padding": null,
            "right": null,
            "top": null,
            "visibility": null,
            "width": null
          }
        },
        "253417fedc964316bf01465a21407ece": {
          "model_module": "@jupyter-widgets/controls",
          "model_module_version": "1.5.0",
          "model_name": "HTMLModel",
          "state": {
            "_dom_classes": [],
            "_model_module": "@jupyter-widgets/controls",
            "_model_module_version": "1.5.0",
            "_model_name": "HTMLModel",
            "_view_count": null,
            "_view_module": "@jupyter-widgets/controls",
            "_view_module_version": "1.5.0",
            "_view_name": "HTMLView",
            "description": "",
            "description_tooltip": null,
            "layout": "IPY_MODEL_742fe26273754eb4ba4d1acc475d5c36",
            "placeholder": "​",
            "style": "IPY_MODEL_f5f0cd65cce8448a8dbf5f8d1b426ef3",
            "value": " 899k/899k [00:00&lt;00:00, 8.27MB/s]"
          }
        },
        "34d12f1156124a85b08e3e3b4123b4b6": {
          "model_module": "@jupyter-widgets/controls",
          "model_module_version": "1.5.0",
          "model_name": "DescriptionStyleModel",
          "state": {
            "_model_module": "@jupyter-widgets/controls",
            "_model_module_version": "1.5.0",
            "_model_name": "DescriptionStyleModel",
            "_view_count": null,
            "_view_module": "@jupyter-widgets/base",
            "_view_module_version": "1.2.0",
            "_view_name": "StyleView",
            "description_width": ""
          }
        },
        "3514efa5697e4b568b02e5f65f98e754": {
          "model_module": "@jupyter-widgets/base",
          "model_module_version": "1.2.0",
          "model_name": "LayoutModel",
          "state": {
            "_model_module": "@jupyter-widgets/base",
            "_model_module_version": "1.2.0",
            "_model_name": "LayoutModel",
            "_view_count": null,
            "_view_module": "@jupyter-widgets/base",
            "_view_module_version": "1.2.0",
            "_view_name": "LayoutView",
            "align_content": null,
            "align_items": null,
            "align_self": null,
            "border": null,
            "bottom": null,
            "display": null,
            "flex": null,
            "flex_flow": null,
            "grid_area": null,
            "grid_auto_columns": null,
            "grid_auto_flow": null,
            "grid_auto_rows": null,
            "grid_column": null,
            "grid_gap": null,
            "grid_row": null,
            "grid_template_areas": null,
            "grid_template_columns": null,
            "grid_template_rows": null,
            "height": null,
            "justify_content": null,
            "justify_items": null,
            "left": null,
            "margin": null,
            "max_height": null,
            "max_width": null,
            "min_height": null,
            "min_width": null,
            "object_fit": null,
            "object_position": null,
            "order": null,
            "overflow": null,
            "overflow_x": null,
            "overflow_y": null,
            "padding": null,
            "right": null,
            "top": null,
            "visibility": null,
            "width": null
          }
        },
        "3f0f2377751c494f8707dc48d7591ef2": {
          "model_module": "@jupyter-widgets/controls",
          "model_module_version": "1.5.0",
          "model_name": "HTMLModel",
          "state": {
            "_dom_classes": [],
            "_model_module": "@jupyter-widgets/controls",
            "_model_module_version": "1.5.0",
            "_model_name": "HTMLModel",
            "_view_count": null,
            "_view_module": "@jupyter-widgets/controls",
            "_view_module_version": "1.5.0",
            "_view_name": "HTMLView",
            "description": "",
            "description_tooltip": null,
            "layout": "IPY_MODEL_5be2bf31f20c495d83d943004a9a9f8f",
            "placeholder": "​",
            "style": "IPY_MODEL_86fff9820b4f46e4acd2026c04b16343",
            "value": "config.json: 100%"
          }
        },
        "471f107b814446eab224e8747d1eac76": {
          "model_module": "@jupyter-widgets/base",
          "model_module_version": "1.2.0",
          "model_name": "LayoutModel",
          "state": {
            "_model_module": "@jupyter-widgets/base",
            "_model_module_version": "1.2.0",
            "_model_name": "LayoutModel",
            "_view_count": null,
            "_view_module": "@jupyter-widgets/base",
            "_view_module_version": "1.2.0",
            "_view_name": "LayoutView",
            "align_content": null,
            "align_items": null,
            "align_self": null,
            "border": null,
            "bottom": null,
            "display": null,
            "flex": null,
            "flex_flow": null,
            "grid_area": null,
            "grid_auto_columns": null,
            "grid_auto_flow": null,
            "grid_auto_rows": null,
            "grid_column": null,
            "grid_gap": null,
            "grid_row": null,
            "grid_template_areas": null,
            "grid_template_columns": null,
            "grid_template_rows": null,
            "height": null,
            "justify_content": null,
            "justify_items": null,
            "left": null,
            "margin": null,
            "max_height": null,
            "max_width": null,
            "min_height": null,
            "min_width": null,
            "object_fit": null,
            "object_position": null,
            "order": null,
            "overflow": null,
            "overflow_x": null,
            "overflow_y": null,
            "padding": null,
            "right": null,
            "top": null,
            "visibility": null,
            "width": null
          }
        },
        "497132128a4e4cf1a0edde1bf06b1887": {
          "model_module": "@jupyter-widgets/controls",
          "model_module_version": "1.5.0",
          "model_name": "FloatProgressModel",
          "state": {
            "_dom_classes": [],
            "_model_module": "@jupyter-widgets/controls",
            "_model_module_version": "1.5.0",
            "_model_name": "FloatProgressModel",
            "_view_count": null,
            "_view_module": "@jupyter-widgets/controls",
            "_view_module_version": "1.5.0",
            "_view_name": "ProgressView",
            "bar_style": "success",
            "description": "",
            "description_tooltip": null,
            "layout": "IPY_MODEL_3514efa5697e4b568b02e5f65f98e754",
            "max": 481,
            "min": 0,
            "orientation": "horizontal",
            "style": "IPY_MODEL_6b3ea55c4b24476e8b8272d4d86473e8",
            "value": 481
          }
        },
        "4a56c3f9777e4f3c995ff83cd47785a1": {
          "model_module": "@jupyter-widgets/controls",
          "model_module_version": "1.5.0",
          "model_name": "HTMLModel",
          "state": {
            "_dom_classes": [],
            "_model_module": "@jupyter-widgets/controls",
            "_model_module_version": "1.5.0",
            "_model_name": "HTMLModel",
            "_view_count": null,
            "_view_module": "@jupyter-widgets/controls",
            "_view_module_version": "1.5.0",
            "_view_name": "HTMLView",
            "description": "",
            "description_tooltip": null,
            "layout": "IPY_MODEL_e200653a13ed49499b4cd41a9ee41f8f",
            "placeholder": "​",
            "style": "IPY_MODEL_dded47eb307d4a17bfc106037c8b410e",
            "value": "model.safetensors: 100%"
          }
        },
        "4b9b90c4bace49318a31f7427d01d383": {
          "model_module": "@jupyter-widgets/base",
          "model_module_version": "1.2.0",
          "model_name": "LayoutModel",
          "state": {
            "_model_module": "@jupyter-widgets/base",
            "_model_module_version": "1.2.0",
            "_model_name": "LayoutModel",
            "_view_count": null,
            "_view_module": "@jupyter-widgets/base",
            "_view_module_version": "1.2.0",
            "_view_name": "LayoutView",
            "align_content": null,
            "align_items": null,
            "align_self": null,
            "border": null,
            "bottom": null,
            "display": null,
            "flex": null,
            "flex_flow": null,
            "grid_area": null,
            "grid_auto_columns": null,
            "grid_auto_flow": null,
            "grid_auto_rows": null,
            "grid_column": null,
            "grid_gap": null,
            "grid_row": null,
            "grid_template_areas": null,
            "grid_template_columns": null,
            "grid_template_rows": null,
            "height": null,
            "justify_content": null,
            "justify_items": null,
            "left": null,
            "margin": null,
            "max_height": null,
            "max_width": null,
            "min_height": null,
            "min_width": null,
            "object_fit": null,
            "object_position": null,
            "order": null,
            "overflow": null,
            "overflow_x": null,
            "overflow_y": null,
            "padding": null,
            "right": null,
            "top": null,
            "visibility": null,
            "width": null
          }
        },
        "4bb55543018a48129031da37a5b35f8a": {
          "model_module": "@jupyter-widgets/controls",
          "model_module_version": "1.5.0",
          "model_name": "FloatProgressModel",
          "state": {
            "_dom_classes": [],
            "_model_module": "@jupyter-widgets/controls",
            "_model_module_version": "1.5.0",
            "_model_name": "FloatProgressModel",
            "_view_count": null,
            "_view_module": "@jupyter-widgets/controls",
            "_view_module_version": "1.5.0",
            "_view_name": "ProgressView",
            "bar_style": "success",
            "description": "",
            "description_tooltip": null,
            "layout": "IPY_MODEL_ea9e400098914fe9b6a43a042daabd21",
            "max": 498818054,
            "min": 0,
            "orientation": "horizontal",
            "style": "IPY_MODEL_64ebce51ec9541f691bff591565c8265",
            "value": 498818054
          }
        },
        "51596cf8cd2f4d9f886feb61d63f0612": {
          "model_module": "@jupyter-widgets/controls",
          "model_module_version": "1.5.0",
          "model_name": "ProgressStyleModel",
          "state": {
            "_model_module": "@jupyter-widgets/controls",
            "_model_module_version": "1.5.0",
            "_model_name": "ProgressStyleModel",
            "_view_count": null,
            "_view_module": "@jupyter-widgets/base",
            "_view_module_version": "1.2.0",
            "_view_name": "StyleView",
            "bar_color": null,
            "description_width": ""
          }
        },
        "521f5d0993ff417cafb744b1d92a7b48": {
          "model_module": "@jupyter-widgets/controls",
          "model_module_version": "1.5.0",
          "model_name": "HBoxModel",
          "state": {
            "_dom_classes": [],
            "_model_module": "@jupyter-widgets/controls",
            "_model_module_version": "1.5.0",
            "_model_name": "HBoxModel",
            "_view_count": null,
            "_view_module": "@jupyter-widgets/controls",
            "_view_module_version": "1.5.0",
            "_view_name": "HBoxView",
            "box_style": "",
            "children": [
              "IPY_MODEL_9e00ca1224f541dca07ba818e4c82ce2",
              "IPY_MODEL_f26819ded3c0408aa13f89a9ab7202ec",
              "IPY_MODEL_94b8efe177c04c93ae106127517f6972"
            ],
            "layout": "IPY_MODEL_0b323f947877456db0d5c4adb7aeebaf"
          }
        },
        "545b766b943a4e1780fc44b53ba87f69": {
          "model_module": "@jupyter-widgets/controls",
          "model_module_version": "1.5.0",
          "model_name": "HBoxModel",
          "state": {
            "_dom_classes": [],
            "_model_module": "@jupyter-widgets/controls",
            "_model_module_version": "1.5.0",
            "_model_name": "HBoxModel",
            "_view_count": null,
            "_view_module": "@jupyter-widgets/controls",
            "_view_module_version": "1.5.0",
            "_view_name": "HBoxView",
            "box_style": "",
            "children": [
              "IPY_MODEL_7460ff24ac784c0ca1e32491ea5c4255",
              "IPY_MODEL_ffd1ba81e9da44b0aaca05c8636d254b",
              "IPY_MODEL_6f2c430d7ad14c389ffbefb91669e9e8"
            ],
            "layout": "IPY_MODEL_1ac91b27073d4723bd1755adc9a8fca1"
          }
        },
        "56a412458f3d4dd68e749ae5b78d6d73": {
          "model_module": "@jupyter-widgets/controls",
          "model_module_version": "1.5.0",
          "model_name": "HBoxModel",
          "state": {
            "_dom_classes": [],
            "_model_module": "@jupyter-widgets/controls",
            "_model_module_version": "1.5.0",
            "_model_name": "HBoxModel",
            "_view_count": null,
            "_view_module": "@jupyter-widgets/controls",
            "_view_module_version": "1.5.0",
            "_view_name": "HBoxView",
            "box_style": "",
            "children": [
              "IPY_MODEL_88f9086a766145998ff6ad2d52271017",
              "IPY_MODEL_9aff45cb81a041b499a5ec3a1ebb27cc",
              "IPY_MODEL_253417fedc964316bf01465a21407ece"
            ],
            "layout": "IPY_MODEL_23aaae463499416596c01eb8aec033d0"
          }
        },
        "58896b4ef1514a1d8ba971a61f5449fa": {
          "model_module": "@jupyter-widgets/base",
          "model_module_version": "1.2.0",
          "model_name": "LayoutModel",
          "state": {
            "_model_module": "@jupyter-widgets/base",
            "_model_module_version": "1.2.0",
            "_model_name": "LayoutModel",
            "_view_count": null,
            "_view_module": "@jupyter-widgets/base",
            "_view_module_version": "1.2.0",
            "_view_name": "LayoutView",
            "align_content": null,
            "align_items": null,
            "align_self": null,
            "border": null,
            "bottom": null,
            "display": null,
            "flex": null,
            "flex_flow": null,
            "grid_area": null,
            "grid_auto_columns": null,
            "grid_auto_flow": null,
            "grid_auto_rows": null,
            "grid_column": null,
            "grid_gap": null,
            "grid_row": null,
            "grid_template_areas": null,
            "grid_template_columns": null,
            "grid_template_rows": null,
            "height": null,
            "justify_content": null,
            "justify_items": null,
            "left": null,
            "margin": null,
            "max_height": null,
            "max_width": null,
            "min_height": null,
            "min_width": null,
            "object_fit": null,
            "object_position": null,
            "order": null,
            "overflow": null,
            "overflow_x": null,
            "overflow_y": null,
            "padding": null,
            "right": null,
            "top": null,
            "visibility": null,
            "width": null
          }
        },
        "5b54c6790d844ed1a9634202d15e018d": {
          "model_module": "@jupyter-widgets/controls",
          "model_module_version": "1.5.0",
          "model_name": "DescriptionStyleModel",
          "state": {
            "_model_module": "@jupyter-widgets/controls",
            "_model_module_version": "1.5.0",
            "_model_name": "DescriptionStyleModel",
            "_view_count": null,
            "_view_module": "@jupyter-widgets/base",
            "_view_module_version": "1.2.0",
            "_view_name": "StyleView",
            "description_width": ""
          }
        },
        "5be2bf31f20c495d83d943004a9a9f8f": {
          "model_module": "@jupyter-widgets/base",
          "model_module_version": "1.2.0",
          "model_name": "LayoutModel",
          "state": {
            "_model_module": "@jupyter-widgets/base",
            "_model_module_version": "1.2.0",
            "_model_name": "LayoutModel",
            "_view_count": null,
            "_view_module": "@jupyter-widgets/base",
            "_view_module_version": "1.2.0",
            "_view_name": "LayoutView",
            "align_content": null,
            "align_items": null,
            "align_self": null,
            "border": null,
            "bottom": null,
            "display": null,
            "flex": null,
            "flex_flow": null,
            "grid_area": null,
            "grid_auto_columns": null,
            "grid_auto_flow": null,
            "grid_auto_rows": null,
            "grid_column": null,
            "grid_gap": null,
            "grid_row": null,
            "grid_template_areas": null,
            "grid_template_columns": null,
            "grid_template_rows": null,
            "height": null,
            "justify_content": null,
            "justify_items": null,
            "left": null,
            "margin": null,
            "max_height": null,
            "max_width": null,
            "min_height": null,
            "min_width": null,
            "object_fit": null,
            "object_position": null,
            "order": null,
            "overflow": null,
            "overflow_x": null,
            "overflow_y": null,
            "padding": null,
            "right": null,
            "top": null,
            "visibility": null,
            "width": null
          }
        },
        "5efe8f4d356746f19bfc2f216c60acef": {
          "model_module": "@jupyter-widgets/controls",
          "model_module_version": "1.5.0",
          "model_name": "HTMLModel",
          "state": {
            "_dom_classes": [],
            "_model_module": "@jupyter-widgets/controls",
            "_model_module_version": "1.5.0",
            "_model_name": "HTMLModel",
            "_view_count": null,
            "_view_module": "@jupyter-widgets/controls",
            "_view_module_version": "1.5.0",
            "_view_name": "HTMLView",
            "description": "",
            "description_tooltip": null,
            "layout": "IPY_MODEL_7999ebf5db244832a4293a227506975c",
            "placeholder": "​",
            "style": "IPY_MODEL_8f711166366b416197ebbb1f698399b3",
            "value": " 499M/499M [00:04&lt;00:00, 136MB/s]"
          }
        },
        "64ebce51ec9541f691bff591565c8265": {
          "model_module": "@jupyter-widgets/controls",
          "model_module_version": "1.5.0",
          "model_name": "ProgressStyleModel",
          "state": {
            "_model_module": "@jupyter-widgets/controls",
            "_model_module_version": "1.5.0",
            "_model_name": "ProgressStyleModel",
            "_view_count": null,
            "_view_module": "@jupyter-widgets/base",
            "_view_module_version": "1.2.0",
            "_view_name": "StyleView",
            "bar_color": null,
            "description_width": ""
          }
        },
        "66215e670576456a9e1ab4ef937638de": {
          "model_module": "@jupyter-widgets/base",
          "model_module_version": "1.2.0",
          "model_name": "LayoutModel",
          "state": {
            "_model_module": "@jupyter-widgets/base",
            "_model_module_version": "1.2.0",
            "_model_name": "LayoutModel",
            "_view_count": null,
            "_view_module": "@jupyter-widgets/base",
            "_view_module_version": "1.2.0",
            "_view_name": "LayoutView",
            "align_content": null,
            "align_items": null,
            "align_self": null,
            "border": null,
            "bottom": null,
            "display": null,
            "flex": null,
            "flex_flow": null,
            "grid_area": null,
            "grid_auto_columns": null,
            "grid_auto_flow": null,
            "grid_auto_rows": null,
            "grid_column": null,
            "grid_gap": null,
            "grid_row": null,
            "grid_template_areas": null,
            "grid_template_columns": null,
            "grid_template_rows": null,
            "height": null,
            "justify_content": null,
            "justify_items": null,
            "left": null,
            "margin": null,
            "max_height": null,
            "max_width": null,
            "min_height": null,
            "min_width": null,
            "object_fit": null,
            "object_position": null,
            "order": null,
            "overflow": null,
            "overflow_x": null,
            "overflow_y": null,
            "padding": null,
            "right": null,
            "top": null,
            "visibility": null,
            "width": null
          }
        },
        "68d33e87c60a4d23a3d01fc4c89725de": {
          "model_module": "@jupyter-widgets/controls",
          "model_module_version": "1.5.0",
          "model_name": "DescriptionStyleModel",
          "state": {
            "_model_module": "@jupyter-widgets/controls",
            "_model_module_version": "1.5.0",
            "_model_name": "DescriptionStyleModel",
            "_view_count": null,
            "_view_module": "@jupyter-widgets/base",
            "_view_module_version": "1.2.0",
            "_view_name": "StyleView",
            "description_width": ""
          }
        },
        "6ae8e4b52a8540deb3e99dc0d9830435": {
          "model_module": "@jupyter-widgets/controls",
          "model_module_version": "1.5.0",
          "model_name": "DescriptionStyleModel",
          "state": {
            "_model_module": "@jupyter-widgets/controls",
            "_model_module_version": "1.5.0",
            "_model_name": "DescriptionStyleModel",
            "_view_count": null,
            "_view_module": "@jupyter-widgets/base",
            "_view_module_version": "1.2.0",
            "_view_name": "StyleView",
            "description_width": ""
          }
        },
        "6b3ea55c4b24476e8b8272d4d86473e8": {
          "model_module": "@jupyter-widgets/controls",
          "model_module_version": "1.5.0",
          "model_name": "ProgressStyleModel",
          "state": {
            "_model_module": "@jupyter-widgets/controls",
            "_model_module_version": "1.5.0",
            "_model_name": "ProgressStyleModel",
            "_view_count": null,
            "_view_module": "@jupyter-widgets/base",
            "_view_module_version": "1.2.0",
            "_view_name": "StyleView",
            "bar_color": null,
            "description_width": ""
          }
        },
        "6d38a3c57fa54ff89fd2e8910aa2febe": {
          "model_module": "@jupyter-widgets/base",
          "model_module_version": "1.2.0",
          "model_name": "LayoutModel",
          "state": {
            "_model_module": "@jupyter-widgets/base",
            "_model_module_version": "1.2.0",
            "_model_name": "LayoutModel",
            "_view_count": null,
            "_view_module": "@jupyter-widgets/base",
            "_view_module_version": "1.2.0",
            "_view_name": "LayoutView",
            "align_content": null,
            "align_items": null,
            "align_self": null,
            "border": null,
            "bottom": null,
            "display": null,
            "flex": null,
            "flex_flow": null,
            "grid_area": null,
            "grid_auto_columns": null,
            "grid_auto_flow": null,
            "grid_auto_rows": null,
            "grid_column": null,
            "grid_gap": null,
            "grid_row": null,
            "grid_template_areas": null,
            "grid_template_columns": null,
            "grid_template_rows": null,
            "height": null,
            "justify_content": null,
            "justify_items": null,
            "left": null,
            "margin": null,
            "max_height": null,
            "max_width": null,
            "min_height": null,
            "min_width": null,
            "object_fit": null,
            "object_position": null,
            "order": null,
            "overflow": null,
            "overflow_x": null,
            "overflow_y": null,
            "padding": null,
            "right": null,
            "top": null,
            "visibility": null,
            "width": null
          }
        },
        "6f2c430d7ad14c389ffbefb91669e9e8": {
          "model_module": "@jupyter-widgets/controls",
          "model_module_version": "1.5.0",
          "model_name": "HTMLModel",
          "state": {
            "_dom_classes": [],
            "_model_module": "@jupyter-widgets/controls",
            "_model_module_version": "1.5.0",
            "_model_name": "HTMLModel",
            "_view_count": null,
            "_view_module": "@jupyter-widgets/controls",
            "_view_module_version": "1.5.0",
            "_view_name": "HTMLView",
            "description": "",
            "description_tooltip": null,
            "layout": "IPY_MODEL_6d38a3c57fa54ff89fd2e8910aa2febe",
            "placeholder": "​",
            "style": "IPY_MODEL_68d33e87c60a4d23a3d01fc4c89725de",
            "value": " 440M/440M [00:05&lt;00:00, 110MB/s]"
          }
        },
        "742fe26273754eb4ba4d1acc475d5c36": {
          "model_module": "@jupyter-widgets/base",
          "model_module_version": "1.2.0",
          "model_name": "LayoutModel",
          "state": {
            "_model_module": "@jupyter-widgets/base",
            "_model_module_version": "1.2.0",
            "_model_name": "LayoutModel",
            "_view_count": null,
            "_view_module": "@jupyter-widgets/base",
            "_view_module_version": "1.2.0",
            "_view_name": "LayoutView",
            "align_content": null,
            "align_items": null,
            "align_self": null,
            "border": null,
            "bottom": null,
            "display": null,
            "flex": null,
            "flex_flow": null,
            "grid_area": null,
            "grid_auto_columns": null,
            "grid_auto_flow": null,
            "grid_auto_rows": null,
            "grid_column": null,
            "grid_gap": null,
            "grid_row": null,
            "grid_template_areas": null,
            "grid_template_columns": null,
            "grid_template_rows": null,
            "height": null,
            "justify_content": null,
            "justify_items": null,
            "left": null,
            "margin": null,
            "max_height": null,
            "max_width": null,
            "min_height": null,
            "min_width": null,
            "object_fit": null,
            "object_position": null,
            "order": null,
            "overflow": null,
            "overflow_x": null,
            "overflow_y": null,
            "padding": null,
            "right": null,
            "top": null,
            "visibility": null,
            "width": null
          }
        },
        "7460ff24ac784c0ca1e32491ea5c4255": {
          "model_module": "@jupyter-widgets/controls",
          "model_module_version": "1.5.0",
          "model_name": "HTMLModel",
          "state": {
            "_dom_classes": [],
            "_model_module": "@jupyter-widgets/controls",
            "_model_module_version": "1.5.0",
            "_model_name": "HTMLModel",
            "_view_count": null,
            "_view_module": "@jupyter-widgets/controls",
            "_view_module_version": "1.5.0",
            "_view_name": "HTMLView",
            "description": "",
            "description_tooltip": null,
            "layout": "IPY_MODEL_8dbe0682306746cbad8c35d1ac03ecae",
            "placeholder": "​",
            "style": "IPY_MODEL_5b54c6790d844ed1a9634202d15e018d",
            "value": "model.safetensors: 100%"
          }
        },
        "788c58a44e5b4445afd53a5550841a4b": {
          "model_module": "@jupyter-widgets/controls",
          "model_module_version": "1.5.0",
          "model_name": "HTMLModel",
          "state": {
            "_dom_classes": [],
            "_model_module": "@jupyter-widgets/controls",
            "_model_module_version": "1.5.0",
            "_model_name": "HTMLModel",
            "_view_count": null,
            "_view_module": "@jupyter-widgets/controls",
            "_view_module_version": "1.5.0",
            "_view_name": "HTMLView",
            "description": "",
            "description_tooltip": null,
            "layout": "IPY_MODEL_9a1dd769709847ffbf292e63fede7a76",
            "placeholder": "​",
            "style": "IPY_MODEL_a7e56a89b70f4d86b4a128c1380dc894",
            "value": "tokenizer.json: 100%"
          }
        },
        "7999ebf5db244832a4293a227506975c": {
          "model_module": "@jupyter-widgets/base",
          "model_module_version": "1.2.0",
          "model_name": "LayoutModel",
          "state": {
            "_model_module": "@jupyter-widgets/base",
            "_model_module_version": "1.2.0",
            "_model_name": "LayoutModel",
            "_view_count": null,
            "_view_module": "@jupyter-widgets/base",
            "_view_module_version": "1.2.0",
            "_view_name": "LayoutView",
            "align_content": null,
            "align_items": null,
            "align_self": null,
            "border": null,
            "bottom": null,
            "display": null,
            "flex": null,
            "flex_flow": null,
            "grid_area": null,
            "grid_auto_columns": null,
            "grid_auto_flow": null,
            "grid_auto_rows": null,
            "grid_column": null,
            "grid_gap": null,
            "grid_row": null,
            "grid_template_areas": null,
            "grid_template_columns": null,
            "grid_template_rows": null,
            "height": null,
            "justify_content": null,
            "justify_items": null,
            "left": null,
            "margin": null,
            "max_height": null,
            "max_width": null,
            "min_height": null,
            "min_width": null,
            "object_fit": null,
            "object_position": null,
            "order": null,
            "overflow": null,
            "overflow_x": null,
            "overflow_y": null,
            "padding": null,
            "right": null,
            "top": null,
            "visibility": null,
            "width": null
          }
        },
        "7a4a171d0f1340d2ada59da5c5052db0": {
          "model_module": "@jupyter-widgets/controls",
          "model_module_version": "1.5.0",
          "model_name": "DescriptionStyleModel",
          "state": {
            "_model_module": "@jupyter-widgets/controls",
            "_model_module_version": "1.5.0",
            "_model_name": "DescriptionStyleModel",
            "_view_count": null,
            "_view_module": "@jupyter-widgets/base",
            "_view_module_version": "1.2.0",
            "_view_name": "StyleView",
            "description_width": ""
          }
        },
        "822e7735d7e54f8eafdb75276ad26175": {
          "model_module": "@jupyter-widgets/controls",
          "model_module_version": "1.5.0",
          "model_name": "HBoxModel",
          "state": {
            "_dom_classes": [],
            "_model_module": "@jupyter-widgets/controls",
            "_model_module_version": "1.5.0",
            "_model_name": "HBoxModel",
            "_view_count": null,
            "_view_module": "@jupyter-widgets/controls",
            "_view_module_version": "1.5.0",
            "_view_name": "HBoxView",
            "box_style": "",
            "children": [
              "IPY_MODEL_c6be0df78fec4b908472a0980e4cdfe4",
              "IPY_MODEL_4bb55543018a48129031da37a5b35f8a",
              "IPY_MODEL_5efe8f4d356746f19bfc2f216c60acef"
            ],
            "layout": "IPY_MODEL_e1c81e4646064b1aac81595afbbc35fa"
          }
        },
        "86fff9820b4f46e4acd2026c04b16343": {
          "model_module": "@jupyter-widgets/controls",
          "model_module_version": "1.5.0",
          "model_name": "DescriptionStyleModel",
          "state": {
            "_model_module": "@jupyter-widgets/controls",
            "_model_module_version": "1.5.0",
            "_model_name": "DescriptionStyleModel",
            "_view_count": null,
            "_view_module": "@jupyter-widgets/base",
            "_view_module_version": "1.2.0",
            "_view_name": "StyleView",
            "description_width": ""
          }
        },
        "88f9086a766145998ff6ad2d52271017": {
          "model_module": "@jupyter-widgets/controls",
          "model_module_version": "1.5.0",
          "model_name": "HTMLModel",
          "state": {
            "_dom_classes": [],
            "_model_module": "@jupyter-widgets/controls",
            "_model_module_version": "1.5.0",
            "_model_name": "HTMLModel",
            "_view_count": null,
            "_view_module": "@jupyter-widgets/controls",
            "_view_module_version": "1.5.0",
            "_view_name": "HTMLView",
            "description": "",
            "description_tooltip": null,
            "layout": "IPY_MODEL_a737f4077416490dbfd0a8ace6b2987f",
            "placeholder": "​",
            "style": "IPY_MODEL_6ae8e4b52a8540deb3e99dc0d9830435",
            "value": "vocab.json: 100%"
          }
        },
        "8a98b68004894365a8f0c94370c94705": {
          "model_module": "@jupyter-widgets/controls",
          "model_module_version": "1.5.0",
          "model_name": "HBoxModel",
          "state": {
            "_dom_classes": [],
            "_model_module": "@jupyter-widgets/controls",
            "_model_module_version": "1.5.0",
            "_model_name": "HBoxModel",
            "_view_count": null,
            "_view_module": "@jupyter-widgets/controls",
            "_view_module_version": "1.5.0",
            "_view_name": "HBoxView",
            "box_style": "",
            "children": [
              "IPY_MODEL_4a56c3f9777e4f3c995ff83cd47785a1",
              "IPY_MODEL_db6f77be4fb747a4a2035ab14389157f",
              "IPY_MODEL_d4ec70653174410c9b050be48957ddbe"
            ],
            "layout": "IPY_MODEL_a3d0542ee620440085fd6fda18d4a1e7"
          }
        },
        "8d8573e0618545c1911ce40f3b5d020a": {
          "model_module": "@jupyter-widgets/controls",
          "model_module_version": "1.5.0",
          "model_name": "HTMLModel",
          "state": {
            "_dom_classes": [],
            "_model_module": "@jupyter-widgets/controls",
            "_model_module_version": "1.5.0",
            "_model_name": "HTMLModel",
            "_view_count": null,
            "_view_module": "@jupyter-widgets/controls",
            "_view_module_version": "1.5.0",
            "_view_name": "HTMLView",
            "description": "",
            "description_tooltip": null,
            "layout": "IPY_MODEL_e00e146504e846cbb682bb05f160e60e",
            "placeholder": "​",
            "style": "IPY_MODEL_1eaae49976aa4228b7da73da06b4d870",
            "value": " 481/481 [00:00&lt;00:00, 12.0kB/s]"
          }
        },
        "8dbe0682306746cbad8c35d1ac03ecae": {
          "model_module": "@jupyter-widgets/base",
          "model_module_version": "1.2.0",
          "model_name": "LayoutModel",
          "state": {
            "_model_module": "@jupyter-widgets/base",
            "_model_module_version": "1.2.0",
            "_model_name": "LayoutModel",
            "_view_count": null,
            "_view_module": "@jupyter-widgets/base",
            "_view_module_version": "1.2.0",
            "_view_name": "LayoutView",
            "align_content": null,
            "align_items": null,
            "align_self": null,
            "border": null,
            "bottom": null,
            "display": null,
            "flex": null,
            "flex_flow": null,
            "grid_area": null,
            "grid_auto_columns": null,
            "grid_auto_flow": null,
            "grid_auto_rows": null,
            "grid_column": null,
            "grid_gap": null,
            "grid_row": null,
            "grid_template_areas": null,
            "grid_template_columns": null,
            "grid_template_rows": null,
            "height": null,
            "justify_content": null,
            "justify_items": null,
            "left": null,
            "margin": null,
            "max_height": null,
            "max_width": null,
            "min_height": null,
            "min_width": null,
            "object_fit": null,
            "object_position": null,
            "order": null,
            "overflow": null,
            "overflow_x": null,
            "overflow_y": null,
            "padding": null,
            "right": null,
            "top": null,
            "visibility": null,
            "width": null
          }
        },
        "8f711166366b416197ebbb1f698399b3": {
          "model_module": "@jupyter-widgets/controls",
          "model_module_version": "1.5.0",
          "model_name": "DescriptionStyleModel",
          "state": {
            "_model_module": "@jupyter-widgets/controls",
            "_model_module_version": "1.5.0",
            "_model_name": "DescriptionStyleModel",
            "_view_count": null,
            "_view_module": "@jupyter-widgets/base",
            "_view_module_version": "1.2.0",
            "_view_name": "StyleView",
            "description_width": ""
          }
        },
        "8f714724632d48dabe1b733372cd8c90": {
          "model_module": "@jupyter-widgets/base",
          "model_module_version": "1.2.0",
          "model_name": "LayoutModel",
          "state": {
            "_model_module": "@jupyter-widgets/base",
            "_model_module_version": "1.2.0",
            "_model_name": "LayoutModel",
            "_view_count": null,
            "_view_module": "@jupyter-widgets/base",
            "_view_module_version": "1.2.0",
            "_view_name": "LayoutView",
            "align_content": null,
            "align_items": null,
            "align_self": null,
            "border": null,
            "bottom": null,
            "display": null,
            "flex": null,
            "flex_flow": null,
            "grid_area": null,
            "grid_auto_columns": null,
            "grid_auto_flow": null,
            "grid_auto_rows": null,
            "grid_column": null,
            "grid_gap": null,
            "grid_row": null,
            "grid_template_areas": null,
            "grid_template_columns": null,
            "grid_template_rows": null,
            "height": null,
            "justify_content": null,
            "justify_items": null,
            "left": null,
            "margin": null,
            "max_height": null,
            "max_width": null,
            "min_height": null,
            "min_width": null,
            "object_fit": null,
            "object_position": null,
            "order": null,
            "overflow": null,
            "overflow_x": null,
            "overflow_y": null,
            "padding": null,
            "right": null,
            "top": null,
            "visibility": null,
            "width": null
          }
        },
        "940ade401f9c4afb880714a879919694": {
          "model_module": "@jupyter-widgets/base",
          "model_module_version": "1.2.0",
          "model_name": "LayoutModel",
          "state": {
            "_model_module": "@jupyter-widgets/base",
            "_model_module_version": "1.2.0",
            "_model_name": "LayoutModel",
            "_view_count": null,
            "_view_module": "@jupyter-widgets/base",
            "_view_module_version": "1.2.0",
            "_view_name": "LayoutView",
            "align_content": null,
            "align_items": null,
            "align_self": null,
            "border": null,
            "bottom": null,
            "display": null,
            "flex": null,
            "flex_flow": null,
            "grid_area": null,
            "grid_auto_columns": null,
            "grid_auto_flow": null,
            "grid_auto_rows": null,
            "grid_column": null,
            "grid_gap": null,
            "grid_row": null,
            "grid_template_areas": null,
            "grid_template_columns": null,
            "grid_template_rows": null,
            "height": null,
            "justify_content": null,
            "justify_items": null,
            "left": null,
            "margin": null,
            "max_height": null,
            "max_width": null,
            "min_height": null,
            "min_width": null,
            "object_fit": null,
            "object_position": null,
            "order": null,
            "overflow": null,
            "overflow_x": null,
            "overflow_y": null,
            "padding": null,
            "right": null,
            "top": null,
            "visibility": null,
            "width": null
          }
        },
        "94b8efe177c04c93ae106127517f6972": {
          "model_module": "@jupyter-widgets/controls",
          "model_module_version": "1.5.0",
          "model_name": "HTMLModel",
          "state": {
            "_dom_classes": [],
            "_model_module": "@jupyter-widgets/controls",
            "_model_module_version": "1.5.0",
            "_model_name": "HTMLModel",
            "_view_count": null,
            "_view_module": "@jupyter-widgets/controls",
            "_view_module_version": "1.5.0",
            "_view_name": "HTMLView",
            "description": "",
            "description_tooltip": null,
            "layout": "IPY_MODEL_f645f76c4eb04116bcc3686f01669e0c",
            "placeholder": "​",
            "style": "IPY_MODEL_9c94022d5fe244d7bdc1ad04f09acd7b",
            "value": " 456k/456k [00:00&lt;00:00, 13.3MB/s]"
          }
        },
        "9a1dd769709847ffbf292e63fede7a76": {
          "model_module": "@jupyter-widgets/base",
          "model_module_version": "1.2.0",
          "model_name": "LayoutModel",
          "state": {
            "_model_module": "@jupyter-widgets/base",
            "_model_module_version": "1.2.0",
            "_model_name": "LayoutModel",
            "_view_count": null,
            "_view_module": "@jupyter-widgets/base",
            "_view_module_version": "1.2.0",
            "_view_name": "LayoutView",
            "align_content": null,
            "align_items": null,
            "align_self": null,
            "border": null,
            "bottom": null,
            "display": null,
            "flex": null,
            "flex_flow": null,
            "grid_area": null,
            "grid_auto_columns": null,
            "grid_auto_flow": null,
            "grid_auto_rows": null,
            "grid_column": null,
            "grid_gap": null,
            "grid_row": null,
            "grid_template_areas": null,
            "grid_template_columns": null,
            "grid_template_rows": null,
            "height": null,
            "justify_content": null,
            "justify_items": null,
            "left": null,
            "margin": null,
            "max_height": null,
            "max_width": null,
            "min_height": null,
            "min_width": null,
            "object_fit": null,
            "object_position": null,
            "order": null,
            "overflow": null,
            "overflow_x": null,
            "overflow_y": null,
            "padding": null,
            "right": null,
            "top": null,
            "visibility": null,
            "width": null
          }
        },
        "9aff45cb81a041b499a5ec3a1ebb27cc": {
          "model_module": "@jupyter-widgets/controls",
          "model_module_version": "1.5.0",
          "model_name": "FloatProgressModel",
          "state": {
            "_dom_classes": [],
            "_model_module": "@jupyter-widgets/controls",
            "_model_module_version": "1.5.0",
            "_model_name": "FloatProgressModel",
            "_view_count": null,
            "_view_module": "@jupyter-widgets/controls",
            "_view_module_version": "1.5.0",
            "_view_name": "ProgressView",
            "bar_style": "success",
            "description": "",
            "description_tooltip": null,
            "layout": "IPY_MODEL_ec5e6267d57b4857bafad47f0dd2c81b",
            "max": 898823,
            "min": 0,
            "orientation": "horizontal",
            "style": "IPY_MODEL_0087b44c28544af789c7e1f91b221f01",
            "value": 898823
          }
        },
        "9c94022d5fe244d7bdc1ad04f09acd7b": {
          "model_module": "@jupyter-widgets/controls",
          "model_module_version": "1.5.0",
          "model_name": "DescriptionStyleModel",
          "state": {
            "_model_module": "@jupyter-widgets/controls",
            "_model_module_version": "1.5.0",
            "_model_name": "DescriptionStyleModel",
            "_view_count": null,
            "_view_module": "@jupyter-widgets/base",
            "_view_module_version": "1.2.0",
            "_view_name": "StyleView",
            "description_width": ""
          }
        },
        "9e00ca1224f541dca07ba818e4c82ce2": {
          "model_module": "@jupyter-widgets/controls",
          "model_module_version": "1.5.0",
          "model_name": "HTMLModel",
          "state": {
            "_dom_classes": [],
            "_model_module": "@jupyter-widgets/controls",
            "_model_module_version": "1.5.0",
            "_model_name": "HTMLModel",
            "_view_count": null,
            "_view_module": "@jupyter-widgets/controls",
            "_view_module_version": "1.5.0",
            "_view_name": "HTMLView",
            "description": "",
            "description_tooltip": null,
            "layout": "IPY_MODEL_66215e670576456a9e1ab4ef937638de",
            "placeholder": "​",
            "style": "IPY_MODEL_acc82820ec244ffabe648c99702199ed",
            "value": "merges.txt: 100%"
          }
        },
        "a3d0542ee620440085fd6fda18d4a1e7": {
          "model_module": "@jupyter-widgets/base",
          "model_module_version": "1.2.0",
          "model_name": "LayoutModel",
          "state": {
            "_model_module": "@jupyter-widgets/base",
            "_model_module_version": "1.2.0",
            "_model_name": "LayoutModel",
            "_view_count": null,
            "_view_module": "@jupyter-widgets/base",
            "_view_module_version": "1.2.0",
            "_view_name": "LayoutView",
            "align_content": null,
            "align_items": null,
            "align_self": null,
            "border": null,
            "bottom": null,
            "display": null,
            "flex": null,
            "flex_flow": null,
            "grid_area": null,
            "grid_auto_columns": null,
            "grid_auto_flow": null,
            "grid_auto_rows": null,
            "grid_column": null,
            "grid_gap": null,
            "grid_row": null,
            "grid_template_areas": null,
            "grid_template_columns": null,
            "grid_template_rows": null,
            "height": null,
            "justify_content": null,
            "justify_items": null,
            "left": null,
            "margin": null,
            "max_height": null,
            "max_width": null,
            "min_height": null,
            "min_width": null,
            "object_fit": null,
            "object_position": null,
            "order": null,
            "overflow": null,
            "overflow_x": null,
            "overflow_y": null,
            "padding": null,
            "right": null,
            "top": null,
            "visibility": null,
            "width": null
          }
        },
        "a6c0d406e73a4e1ebececf746910456e": {
          "model_module": "@jupyter-widgets/controls",
          "model_module_version": "1.5.0",
          "model_name": "ProgressStyleModel",
          "state": {
            "_model_module": "@jupyter-widgets/controls",
            "_model_module_version": "1.5.0",
            "_model_name": "ProgressStyleModel",
            "_view_count": null,
            "_view_module": "@jupyter-widgets/base",
            "_view_module_version": "1.2.0",
            "_view_name": "StyleView",
            "bar_color": null,
            "description_width": ""
          }
        },
        "a737f4077416490dbfd0a8ace6b2987f": {
          "model_module": "@jupyter-widgets/base",
          "model_module_version": "1.2.0",
          "model_name": "LayoutModel",
          "state": {
            "_model_module": "@jupyter-widgets/base",
            "_model_module_version": "1.2.0",
            "_model_name": "LayoutModel",
            "_view_count": null,
            "_view_module": "@jupyter-widgets/base",
            "_view_module_version": "1.2.0",
            "_view_name": "LayoutView",
            "align_content": null,
            "align_items": null,
            "align_self": null,
            "border": null,
            "bottom": null,
            "display": null,
            "flex": null,
            "flex_flow": null,
            "grid_area": null,
            "grid_auto_columns": null,
            "grid_auto_flow": null,
            "grid_auto_rows": null,
            "grid_column": null,
            "grid_gap": null,
            "grid_row": null,
            "grid_template_areas": null,
            "grid_template_columns": null,
            "grid_template_rows": null,
            "height": null,
            "justify_content": null,
            "justify_items": null,
            "left": null,
            "margin": null,
            "max_height": null,
            "max_width": null,
            "min_height": null,
            "min_width": null,
            "object_fit": null,
            "object_position": null,
            "order": null,
            "overflow": null,
            "overflow_x": null,
            "overflow_y": null,
            "padding": null,
            "right": null,
            "top": null,
            "visibility": null,
            "width": null
          }
        },
        "a7e56a89b70f4d86b4a128c1380dc894": {
          "model_module": "@jupyter-widgets/controls",
          "model_module_version": "1.5.0",
          "model_name": "DescriptionStyleModel",
          "state": {
            "_model_module": "@jupyter-widgets/controls",
            "_model_module_version": "1.5.0",
            "_model_name": "DescriptionStyleModel",
            "_view_count": null,
            "_view_module": "@jupyter-widgets/base",
            "_view_module_version": "1.2.0",
            "_view_name": "StyleView",
            "description_width": ""
          }
        },
        "acc82820ec244ffabe648c99702199ed": {
          "model_module": "@jupyter-widgets/controls",
          "model_module_version": "1.5.0",
          "model_name": "DescriptionStyleModel",
          "state": {
            "_model_module": "@jupyter-widgets/controls",
            "_model_module_version": "1.5.0",
            "_model_name": "DescriptionStyleModel",
            "_view_count": null,
            "_view_module": "@jupyter-widgets/base",
            "_view_module_version": "1.2.0",
            "_view_name": "StyleView",
            "description_width": ""
          }
        },
        "c6be0df78fec4b908472a0980e4cdfe4": {
          "model_module": "@jupyter-widgets/controls",
          "model_module_version": "1.5.0",
          "model_name": "HTMLModel",
          "state": {
            "_dom_classes": [],
            "_model_module": "@jupyter-widgets/controls",
            "_model_module_version": "1.5.0",
            "_model_name": "HTMLModel",
            "_view_count": null,
            "_view_module": "@jupyter-widgets/controls",
            "_view_module_version": "1.5.0",
            "_view_name": "HTMLView",
            "description": "",
            "description_tooltip": null,
            "layout": "IPY_MODEL_4b9b90c4bace49318a31f7427d01d383",
            "placeholder": "​",
            "style": "IPY_MODEL_34d12f1156124a85b08e3e3b4123b4b6",
            "value": "model.safetensors: 100%"
          }
        },
        "c833450f157d4beab0e9f9ab97b4bb46": {
          "model_module": "@jupyter-widgets/base",
          "model_module_version": "1.2.0",
          "model_name": "LayoutModel",
          "state": {
            "_model_module": "@jupyter-widgets/base",
            "_model_module_version": "1.2.0",
            "_model_name": "LayoutModel",
            "_view_count": null,
            "_view_module": "@jupyter-widgets/base",
            "_view_module_version": "1.2.0",
            "_view_name": "LayoutView",
            "align_content": null,
            "align_items": null,
            "align_self": null,
            "border": null,
            "bottom": null,
            "display": null,
            "flex": null,
            "flex_flow": null,
            "grid_area": null,
            "grid_auto_columns": null,
            "grid_auto_flow": null,
            "grid_auto_rows": null,
            "grid_column": null,
            "grid_gap": null,
            "grid_row": null,
            "grid_template_areas": null,
            "grid_template_columns": null,
            "grid_template_rows": null,
            "height": null,
            "justify_content": null,
            "justify_items": null,
            "left": null,
            "margin": null,
            "max_height": null,
            "max_width": null,
            "min_height": null,
            "min_width": null,
            "object_fit": null,
            "object_position": null,
            "order": null,
            "overflow": null,
            "overflow_x": null,
            "overflow_y": null,
            "padding": null,
            "right": null,
            "top": null,
            "visibility": null,
            "width": null
          }
        },
        "c8edf0af0c6a49ef8bd25577c6cbeefb": {
          "model_module": "@jupyter-widgets/controls",
          "model_module_version": "1.5.0",
          "model_name": "DescriptionStyleModel",
          "state": {
            "_model_module": "@jupyter-widgets/controls",
            "_model_module_version": "1.5.0",
            "_model_name": "DescriptionStyleModel",
            "_view_count": null,
            "_view_module": "@jupyter-widgets/base",
            "_view_module_version": "1.2.0",
            "_view_name": "StyleView",
            "description_width": ""
          }
        },
        "d40017237d214a49bf5b50d528559f1f": {
          "model_module": "@jupyter-widgets/controls",
          "model_module_version": "1.5.0",
          "model_name": "ProgressStyleModel",
          "state": {
            "_model_module": "@jupyter-widgets/controls",
            "_model_module_version": "1.5.0",
            "_model_name": "ProgressStyleModel",
            "_view_count": null,
            "_view_module": "@jupyter-widgets/base",
            "_view_module_version": "1.2.0",
            "_view_name": "StyleView",
            "bar_color": null,
            "description_width": ""
          }
        },
        "d4ec70653174410c9b050be48957ddbe": {
          "model_module": "@jupyter-widgets/controls",
          "model_module_version": "1.5.0",
          "model_name": "HTMLModel",
          "state": {
            "_dom_classes": [],
            "_model_module": "@jupyter-widgets/controls",
            "_model_module_version": "1.5.0",
            "_model_name": "HTMLModel",
            "_view_count": null,
            "_view_module": "@jupyter-widgets/controls",
            "_view_module_version": "1.5.0",
            "_view_name": "HTMLView",
            "description": "",
            "description_tooltip": null,
            "layout": "IPY_MODEL_8f714724632d48dabe1b733372cd8c90",
            "placeholder": "​",
            "style": "IPY_MODEL_c8edf0af0c6a49ef8bd25577c6cbeefb",
            "value": " 440M/440M [00:01&lt;00:00, 256MB/s]"
          }
        },
        "d5e4464c6cd048f6a877829c564dafab": {
          "model_module": "@jupyter-widgets/controls",
          "model_module_version": "1.5.0",
          "model_name": "FloatProgressModel",
          "state": {
            "_dom_classes": [],
            "_model_module": "@jupyter-widgets/controls",
            "_model_module_version": "1.5.0",
            "_model_name": "FloatProgressModel",
            "_view_count": null,
            "_view_module": "@jupyter-widgets/controls",
            "_view_module_version": "1.5.0",
            "_view_name": "ProgressView",
            "bar_style": "success",
            "description": "",
            "description_tooltip": null,
            "layout": "IPY_MODEL_c833450f157d4beab0e9f9ab97b4bb46",
            "max": 1355863,
            "min": 0,
            "orientation": "horizontal",
            "style": "IPY_MODEL_51596cf8cd2f4d9f886feb61d63f0612",
            "value": 1355863
          }
        },
        "db6f77be4fb747a4a2035ab14389157f": {
          "model_module": "@jupyter-widgets/controls",
          "model_module_version": "1.5.0",
          "model_name": "FloatProgressModel",
          "state": {
            "_dom_classes": [],
            "_model_module": "@jupyter-widgets/controls",
            "_model_module_version": "1.5.0",
            "_model_name": "FloatProgressModel",
            "_view_count": null,
            "_view_module": "@jupyter-widgets/controls",
            "_view_module_version": "1.5.0",
            "_view_name": "ProgressView",
            "bar_style": "success",
            "description": "",
            "description_tooltip": null,
            "layout": "IPY_MODEL_58896b4ef1514a1d8ba971a61f5449fa",
            "max": 440449768,
            "min": 0,
            "orientation": "horizontal",
            "style": "IPY_MODEL_d40017237d214a49bf5b50d528559f1f",
            "value": 440449768
          }
        },
        "dded47eb307d4a17bfc106037c8b410e": {
          "model_module": "@jupyter-widgets/controls",
          "model_module_version": "1.5.0",
          "model_name": "DescriptionStyleModel",
          "state": {
            "_model_module": "@jupyter-widgets/controls",
            "_model_module_version": "1.5.0",
            "_model_name": "DescriptionStyleModel",
            "_view_count": null,
            "_view_module": "@jupyter-widgets/base",
            "_view_module_version": "1.2.0",
            "_view_name": "StyleView",
            "description_width": ""
          }
        },
        "e00e146504e846cbb682bb05f160e60e": {
          "model_module": "@jupyter-widgets/base",
          "model_module_version": "1.2.0",
          "model_name": "LayoutModel",
          "state": {
            "_model_module": "@jupyter-widgets/base",
            "_model_module_version": "1.2.0",
            "_model_name": "LayoutModel",
            "_view_count": null,
            "_view_module": "@jupyter-widgets/base",
            "_view_module_version": "1.2.0",
            "_view_name": "LayoutView",
            "align_content": null,
            "align_items": null,
            "align_self": null,
            "border": null,
            "bottom": null,
            "display": null,
            "flex": null,
            "flex_flow": null,
            "grid_area": null,
            "grid_auto_columns": null,
            "grid_auto_flow": null,
            "grid_auto_rows": null,
            "grid_column": null,
            "grid_gap": null,
            "grid_row": null,
            "grid_template_areas": null,
            "grid_template_columns": null,
            "grid_template_rows": null,
            "height": null,
            "justify_content": null,
            "justify_items": null,
            "left": null,
            "margin": null,
            "max_height": null,
            "max_width": null,
            "min_height": null,
            "min_width": null,
            "object_fit": null,
            "object_position": null,
            "order": null,
            "overflow": null,
            "overflow_x": null,
            "overflow_y": null,
            "padding": null,
            "right": null,
            "top": null,
            "visibility": null,
            "width": null
          }
        },
        "e1c81e4646064b1aac81595afbbc35fa": {
          "model_module": "@jupyter-widgets/base",
          "model_module_version": "1.2.0",
          "model_name": "LayoutModel",
          "state": {
            "_model_module": "@jupyter-widgets/base",
            "_model_module_version": "1.2.0",
            "_model_name": "LayoutModel",
            "_view_count": null,
            "_view_module": "@jupyter-widgets/base",
            "_view_module_version": "1.2.0",
            "_view_name": "LayoutView",
            "align_content": null,
            "align_items": null,
            "align_self": null,
            "border": null,
            "bottom": null,
            "display": null,
            "flex": null,
            "flex_flow": null,
            "grid_area": null,
            "grid_auto_columns": null,
            "grid_auto_flow": null,
            "grid_auto_rows": null,
            "grid_column": null,
            "grid_gap": null,
            "grid_row": null,
            "grid_template_areas": null,
            "grid_template_columns": null,
            "grid_template_rows": null,
            "height": null,
            "justify_content": null,
            "justify_items": null,
            "left": null,
            "margin": null,
            "max_height": null,
            "max_width": null,
            "min_height": null,
            "min_width": null,
            "object_fit": null,
            "object_position": null,
            "order": null,
            "overflow": null,
            "overflow_x": null,
            "overflow_y": null,
            "padding": null,
            "right": null,
            "top": null,
            "visibility": null,
            "width": null
          }
        },
        "e200653a13ed49499b4cd41a9ee41f8f": {
          "model_module": "@jupyter-widgets/base",
          "model_module_version": "1.2.0",
          "model_name": "LayoutModel",
          "state": {
            "_model_module": "@jupyter-widgets/base",
            "_model_module_version": "1.2.0",
            "_model_name": "LayoutModel",
            "_view_count": null,
            "_view_module": "@jupyter-widgets/base",
            "_view_module_version": "1.2.0",
            "_view_name": "LayoutView",
            "align_content": null,
            "align_items": null,
            "align_self": null,
            "border": null,
            "bottom": null,
            "display": null,
            "flex": null,
            "flex_flow": null,
            "grid_area": null,
            "grid_auto_columns": null,
            "grid_auto_flow": null,
            "grid_auto_rows": null,
            "grid_column": null,
            "grid_gap": null,
            "grid_row": null,
            "grid_template_areas": null,
            "grid_template_columns": null,
            "grid_template_rows": null,
            "height": null,
            "justify_content": null,
            "justify_items": null,
            "left": null,
            "margin": null,
            "max_height": null,
            "max_width": null,
            "min_height": null,
            "min_width": null,
            "object_fit": null,
            "object_position": null,
            "order": null,
            "overflow": null,
            "overflow_x": null,
            "overflow_y": null,
            "padding": null,
            "right": null,
            "top": null,
            "visibility": null,
            "width": null
          }
        },
        "e3027201c6044855b8a76f915569f279": {
          "model_module": "@jupyter-widgets/controls",
          "model_module_version": "1.5.0",
          "model_name": "HBoxModel",
          "state": {
            "_dom_classes": [],
            "_model_module": "@jupyter-widgets/controls",
            "_model_module_version": "1.5.0",
            "_model_name": "HBoxModel",
            "_view_count": null,
            "_view_module": "@jupyter-widgets/controls",
            "_view_module_version": "1.5.0",
            "_view_name": "HBoxView",
            "box_style": "",
            "children": [
              "IPY_MODEL_788c58a44e5b4445afd53a5550841a4b",
              "IPY_MODEL_d5e4464c6cd048f6a877829c564dafab",
              "IPY_MODEL_0dcf45f8f2cf4612b0e42891a2b2b2b3"
            ],
            "layout": "IPY_MODEL_471f107b814446eab224e8747d1eac76"
          }
        },
        "e441ca652e2942f892f3ca159c51934d": {
          "model_module": "@jupyter-widgets/base",
          "model_module_version": "1.2.0",
          "model_name": "LayoutModel",
          "state": {
            "_model_module": "@jupyter-widgets/base",
            "_model_module_version": "1.2.0",
            "_model_name": "LayoutModel",
            "_view_count": null,
            "_view_module": "@jupyter-widgets/base",
            "_view_module_version": "1.2.0",
            "_view_name": "LayoutView",
            "align_content": null,
            "align_items": null,
            "align_self": null,
            "border": null,
            "bottom": null,
            "display": null,
            "flex": null,
            "flex_flow": null,
            "grid_area": null,
            "grid_auto_columns": null,
            "grid_auto_flow": null,
            "grid_auto_rows": null,
            "grid_column": null,
            "grid_gap": null,
            "grid_row": null,
            "grid_template_areas": null,
            "grid_template_columns": null,
            "grid_template_rows": null,
            "height": null,
            "justify_content": null,
            "justify_items": null,
            "left": null,
            "margin": null,
            "max_height": null,
            "max_width": null,
            "min_height": null,
            "min_width": null,
            "object_fit": null,
            "object_position": null,
            "order": null,
            "overflow": null,
            "overflow_x": null,
            "overflow_y": null,
            "padding": null,
            "right": null,
            "top": null,
            "visibility": null,
            "width": null
          }
        },
        "ea9e400098914fe9b6a43a042daabd21": {
          "model_module": "@jupyter-widgets/base",
          "model_module_version": "1.2.0",
          "model_name": "LayoutModel",
          "state": {
            "_model_module": "@jupyter-widgets/base",
            "_model_module_version": "1.2.0",
            "_model_name": "LayoutModel",
            "_view_count": null,
            "_view_module": "@jupyter-widgets/base",
            "_view_module_version": "1.2.0",
            "_view_name": "LayoutView",
            "align_content": null,
            "align_items": null,
            "align_self": null,
            "border": null,
            "bottom": null,
            "display": null,
            "flex": null,
            "flex_flow": null,
            "grid_area": null,
            "grid_auto_columns": null,
            "grid_auto_flow": null,
            "grid_auto_rows": null,
            "grid_column": null,
            "grid_gap": null,
            "grid_row": null,
            "grid_template_areas": null,
            "grid_template_columns": null,
            "grid_template_rows": null,
            "height": null,
            "justify_content": null,
            "justify_items": null,
            "left": null,
            "margin": null,
            "max_height": null,
            "max_width": null,
            "min_height": null,
            "min_width": null,
            "object_fit": null,
            "object_position": null,
            "order": null,
            "overflow": null,
            "overflow_x": null,
            "overflow_y": null,
            "padding": null,
            "right": null,
            "top": null,
            "visibility": null,
            "width": null
          }
        },
        "ec5e6267d57b4857bafad47f0dd2c81b": {
          "model_module": "@jupyter-widgets/base",
          "model_module_version": "1.2.0",
          "model_name": "LayoutModel",
          "state": {
            "_model_module": "@jupyter-widgets/base",
            "_model_module_version": "1.2.0",
            "_model_name": "LayoutModel",
            "_view_count": null,
            "_view_module": "@jupyter-widgets/base",
            "_view_module_version": "1.2.0",
            "_view_name": "LayoutView",
            "align_content": null,
            "align_items": null,
            "align_self": null,
            "border": null,
            "bottom": null,
            "display": null,
            "flex": null,
            "flex_flow": null,
            "grid_area": null,
            "grid_auto_columns": null,
            "grid_auto_flow": null,
            "grid_auto_rows": null,
            "grid_column": null,
            "grid_gap": null,
            "grid_row": null,
            "grid_template_areas": null,
            "grid_template_columns": null,
            "grid_template_rows": null,
            "height": null,
            "justify_content": null,
            "justify_items": null,
            "left": null,
            "margin": null,
            "max_height": null,
            "max_width": null,
            "min_height": null,
            "min_width": null,
            "object_fit": null,
            "object_position": null,
            "order": null,
            "overflow": null,
            "overflow_x": null,
            "overflow_y": null,
            "padding": null,
            "right": null,
            "top": null,
            "visibility": null,
            "width": null
          }
        },
        "f26819ded3c0408aa13f89a9ab7202ec": {
          "model_module": "@jupyter-widgets/controls",
          "model_module_version": "1.5.0",
          "model_name": "FloatProgressModel",
          "state": {
            "_dom_classes": [],
            "_model_module": "@jupyter-widgets/controls",
            "_model_module_version": "1.5.0",
            "_model_name": "FloatProgressModel",
            "_view_count": null,
            "_view_module": "@jupyter-widgets/controls",
            "_view_module_version": "1.5.0",
            "_view_name": "ProgressView",
            "bar_style": "success",
            "description": "",
            "description_tooltip": null,
            "layout": "IPY_MODEL_09f053678611438ba19f6d14f7fadcea",
            "max": 456318,
            "min": 0,
            "orientation": "horizontal",
            "style": "IPY_MODEL_a6c0d406e73a4e1ebececf746910456e",
            "value": 456318
          }
        },
        "f5bdede267f146b4802422fb865deaf0": {
          "model_module": "@jupyter-widgets/controls",
          "model_module_version": "1.5.0",
          "model_name": "ProgressStyleModel",
          "state": {
            "_model_module": "@jupyter-widgets/controls",
            "_model_module_version": "1.5.0",
            "_model_name": "ProgressStyleModel",
            "_view_count": null,
            "_view_module": "@jupyter-widgets/base",
            "_view_module_version": "1.2.0",
            "_view_name": "StyleView",
            "bar_color": null,
            "description_width": ""
          }
        },
        "f5f0cd65cce8448a8dbf5f8d1b426ef3": {
          "model_module": "@jupyter-widgets/controls",
          "model_module_version": "1.5.0",
          "model_name": "DescriptionStyleModel",
          "state": {
            "_model_module": "@jupyter-widgets/controls",
            "_model_module_version": "1.5.0",
            "_model_name": "DescriptionStyleModel",
            "_view_count": null,
            "_view_module": "@jupyter-widgets/base",
            "_view_module_version": "1.2.0",
            "_view_name": "StyleView",
            "description_width": ""
          }
        },
        "f645f76c4eb04116bcc3686f01669e0c": {
          "model_module": "@jupyter-widgets/base",
          "model_module_version": "1.2.0",
          "model_name": "LayoutModel",
          "state": {
            "_model_module": "@jupyter-widgets/base",
            "_model_module_version": "1.2.0",
            "_model_name": "LayoutModel",
            "_view_count": null,
            "_view_module": "@jupyter-widgets/base",
            "_view_module_version": "1.2.0",
            "_view_name": "LayoutView",
            "align_content": null,
            "align_items": null,
            "align_self": null,
            "border": null,
            "bottom": null,
            "display": null,
            "flex": null,
            "flex_flow": null,
            "grid_area": null,
            "grid_auto_columns": null,
            "grid_auto_flow": null,
            "grid_auto_rows": null,
            "grid_column": null,
            "grid_gap": null,
            "grid_row": null,
            "grid_template_areas": null,
            "grid_template_columns": null,
            "grid_template_rows": null,
            "height": null,
            "justify_content": null,
            "justify_items": null,
            "left": null,
            "margin": null,
            "max_height": null,
            "max_width": null,
            "min_height": null,
            "min_width": null,
            "object_fit": null,
            "object_position": null,
            "order": null,
            "overflow": null,
            "overflow_x": null,
            "overflow_y": null,
            "padding": null,
            "right": null,
            "top": null,
            "visibility": null,
            "width": null
          }
        },
        "f7e41c8ab4d347928db93d874e96fdbc": {
          "model_module": "@jupyter-widgets/controls",
          "model_module_version": "1.5.0",
          "model_name": "HBoxModel",
          "state": {
            "_dom_classes": [],
            "_model_module": "@jupyter-widgets/controls",
            "_model_module_version": "1.5.0",
            "_model_name": "HBoxModel",
            "_view_count": null,
            "_view_module": "@jupyter-widgets/controls",
            "_view_module_version": "1.5.0",
            "_view_name": "HBoxView",
            "box_style": "",
            "children": [
              "IPY_MODEL_3f0f2377751c494f8707dc48d7591ef2",
              "IPY_MODEL_497132128a4e4cf1a0edde1bf06b1887",
              "IPY_MODEL_8d8573e0618545c1911ce40f3b5d020a"
            ],
            "layout": "IPY_MODEL_940ade401f9c4afb880714a879919694"
          }
        },
        "ffd1ba81e9da44b0aaca05c8636d254b": {
          "model_module": "@jupyter-widgets/controls",
          "model_module_version": "1.5.0",
          "model_name": "FloatProgressModel",
          "state": {
            "_dom_classes": [],
            "_model_module": "@jupyter-widgets/controls",
            "_model_module_version": "1.5.0",
            "_model_name": "FloatProgressModel",
            "_view_count": null,
            "_view_module": "@jupyter-widgets/controls",
            "_view_module_version": "1.5.0",
            "_view_name": "ProgressView",
            "bar_style": "success",
            "description": "",
            "description_tooltip": null,
            "layout": "IPY_MODEL_122287b01e774d478eaceb7f6be52bb9",
            "max": 440449768,
            "min": 0,
            "orientation": "horizontal",
            "style": "IPY_MODEL_f5bdede267f146b4802422fb865deaf0",
            "value": 440449768
          }
        }
      }
    }
  },
  "nbformat": 4,
  "nbformat_minor": 0
}