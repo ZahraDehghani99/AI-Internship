{
  "nbformat": 4,
  "nbformat_minor": 0,
  "metadata": {
    "colab": {
      "name": "HW6_ZahraDehghani.ipynb",
      "provenance": [],
      "collapsed_sections": [],
      "authorship_tag": "ABX9TyO67MoGYrf44pehUOLgl8w5",
      "include_colab_link": true
    },
    "kernelspec": {
      "name": "python3",
      "display_name": "Python 3"
    },
    "language_info": {
      "name": "python"
    },
    "gpuClass": "standard",
    "widgets": {
      "application/vnd.jupyter.widget-state+json": {
        "91566a1a484d461c8e01936b232b5a47": {
          "model_module": "@jupyter-widgets/controls",
          "model_name": "HBoxModel",
          "model_module_version": "1.5.0",
          "state": {
            "_dom_classes": [],
            "_model_module": "@jupyter-widgets/controls",
            "_model_module_version": "1.5.0",
            "_model_name": "HBoxModel",
            "_view_count": null,
            "_view_module": "@jupyter-widgets/controls",
            "_view_module_version": "1.5.0",
            "_view_name": "HBoxView",
            "box_style": "",
            "children": [
              "IPY_MODEL_cd66104f3cb24f059a5f01f263c3f0e8",
              "IPY_MODEL_c7305d44a54940f2bcca85823a67572e",
              "IPY_MODEL_814b888172c54ee58a880642711329b2"
            ],
            "layout": "IPY_MODEL_1d91f075c2694478b7abb67dae49c6fa"
          }
        },
        "cd66104f3cb24f059a5f01f263c3f0e8": {
          "model_module": "@jupyter-widgets/controls",
          "model_name": "HTMLModel",
          "model_module_version": "1.5.0",
          "state": {
            "_dom_classes": [],
            "_model_module": "@jupyter-widgets/controls",
            "_model_module_version": "1.5.0",
            "_model_name": "HTMLModel",
            "_view_count": null,
            "_view_module": "@jupyter-widgets/controls",
            "_view_module_version": "1.5.0",
            "_view_name": "HTMLView",
            "description": "",
            "description_tooltip": null,
            "layout": "IPY_MODEL_e46a4fef40b94d2ba675527164562284",
            "placeholder": "​",
            "style": "IPY_MODEL_3e2c35d7a5d142989a973ff5814b8c06",
            "value": "Downloading config.json: 100%"
          }
        },
        "c7305d44a54940f2bcca85823a67572e": {
          "model_module": "@jupyter-widgets/controls",
          "model_name": "FloatProgressModel",
          "model_module_version": "1.5.0",
          "state": {
            "_dom_classes": [],
            "_model_module": "@jupyter-widgets/controls",
            "_model_module_version": "1.5.0",
            "_model_name": "FloatProgressModel",
            "_view_count": null,
            "_view_module": "@jupyter-widgets/controls",
            "_view_module_version": "1.5.0",
            "_view_name": "ProgressView",
            "bar_style": "success",
            "description": "",
            "description_tooltip": null,
            "layout": "IPY_MODEL_7f1b672bc2ab42abb3304b25b66c2e8d",
            "max": 434,
            "min": 0,
            "orientation": "horizontal",
            "style": "IPY_MODEL_8be8a5c95321438ca246a13b3245caed",
            "value": 434
          }
        },
        "814b888172c54ee58a880642711329b2": {
          "model_module": "@jupyter-widgets/controls",
          "model_name": "HTMLModel",
          "model_module_version": "1.5.0",
          "state": {
            "_dom_classes": [],
            "_model_module": "@jupyter-widgets/controls",
            "_model_module_version": "1.5.0",
            "_model_name": "HTMLModel",
            "_view_count": null,
            "_view_module": "@jupyter-widgets/controls",
            "_view_module_version": "1.5.0",
            "_view_name": "HTMLView",
            "description": "",
            "description_tooltip": null,
            "layout": "IPY_MODEL_383ddb62dddb47ebba6a174705c8bfc1",
            "placeholder": "​",
            "style": "IPY_MODEL_252e0793efee42f5b182ce5cf09fa7fe",
            "value": " 434/434 [00:00&lt;00:00, 12.8kB/s]"
          }
        },
        "1d91f075c2694478b7abb67dae49c6fa": {
          "model_module": "@jupyter-widgets/base",
          "model_name": "LayoutModel",
          "model_module_version": "1.2.0",
          "state": {
            "_model_module": "@jupyter-widgets/base",
            "_model_module_version": "1.2.0",
            "_model_name": "LayoutModel",
            "_view_count": null,
            "_view_module": "@jupyter-widgets/base",
            "_view_module_version": "1.2.0",
            "_view_name": "LayoutView",
            "align_content": null,
            "align_items": null,
            "align_self": null,
            "border": null,
            "bottom": null,
            "display": null,
            "flex": null,
            "flex_flow": null,
            "grid_area": null,
            "grid_auto_columns": null,
            "grid_auto_flow": null,
            "grid_auto_rows": null,
            "grid_column": null,
            "grid_gap": null,
            "grid_row": null,
            "grid_template_areas": null,
            "grid_template_columns": null,
            "grid_template_rows": null,
            "height": null,
            "justify_content": null,
            "justify_items": null,
            "left": null,
            "margin": null,
            "max_height": null,
            "max_width": null,
            "min_height": null,
            "min_width": null,
            "object_fit": null,
            "object_position": null,
            "order": null,
            "overflow": null,
            "overflow_x": null,
            "overflow_y": null,
            "padding": null,
            "right": null,
            "top": null,
            "visibility": null,
            "width": null
          }
        },
        "e46a4fef40b94d2ba675527164562284": {
          "model_module": "@jupyter-widgets/base",
          "model_name": "LayoutModel",
          "model_module_version": "1.2.0",
          "state": {
            "_model_module": "@jupyter-widgets/base",
            "_model_module_version": "1.2.0",
            "_model_name": "LayoutModel",
            "_view_count": null,
            "_view_module": "@jupyter-widgets/base",
            "_view_module_version": "1.2.0",
            "_view_name": "LayoutView",
            "align_content": null,
            "align_items": null,
            "align_self": null,
            "border": null,
            "bottom": null,
            "display": null,
            "flex": null,
            "flex_flow": null,
            "grid_area": null,
            "grid_auto_columns": null,
            "grid_auto_flow": null,
            "grid_auto_rows": null,
            "grid_column": null,
            "grid_gap": null,
            "grid_row": null,
            "grid_template_areas": null,
            "grid_template_columns": null,
            "grid_template_rows": null,
            "height": null,
            "justify_content": null,
            "justify_items": null,
            "left": null,
            "margin": null,
            "max_height": null,
            "max_width": null,
            "min_height": null,
            "min_width": null,
            "object_fit": null,
            "object_position": null,
            "order": null,
            "overflow": null,
            "overflow_x": null,
            "overflow_y": null,
            "padding": null,
            "right": null,
            "top": null,
            "visibility": null,
            "width": null
          }
        },
        "3e2c35d7a5d142989a973ff5814b8c06": {
          "model_module": "@jupyter-widgets/controls",
          "model_name": "DescriptionStyleModel",
          "model_module_version": "1.5.0",
          "state": {
            "_model_module": "@jupyter-widgets/controls",
            "_model_module_version": "1.5.0",
            "_model_name": "DescriptionStyleModel",
            "_view_count": null,
            "_view_module": "@jupyter-widgets/base",
            "_view_module_version": "1.2.0",
            "_view_name": "StyleView",
            "description_width": ""
          }
        },
        "7f1b672bc2ab42abb3304b25b66c2e8d": {
          "model_module": "@jupyter-widgets/base",
          "model_name": "LayoutModel",
          "model_module_version": "1.2.0",
          "state": {
            "_model_module": "@jupyter-widgets/base",
            "_model_module_version": "1.2.0",
            "_model_name": "LayoutModel",
            "_view_count": null,
            "_view_module": "@jupyter-widgets/base",
            "_view_module_version": "1.2.0",
            "_view_name": "LayoutView",
            "align_content": null,
            "align_items": null,
            "align_self": null,
            "border": null,
            "bottom": null,
            "display": null,
            "flex": null,
            "flex_flow": null,
            "grid_area": null,
            "grid_auto_columns": null,
            "grid_auto_flow": null,
            "grid_auto_rows": null,
            "grid_column": null,
            "grid_gap": null,
            "grid_row": null,
            "grid_template_areas": null,
            "grid_template_columns": null,
            "grid_template_rows": null,
            "height": null,
            "justify_content": null,
            "justify_items": null,
            "left": null,
            "margin": null,
            "max_height": null,
            "max_width": null,
            "min_height": null,
            "min_width": null,
            "object_fit": null,
            "object_position": null,
            "order": null,
            "overflow": null,
            "overflow_x": null,
            "overflow_y": null,
            "padding": null,
            "right": null,
            "top": null,
            "visibility": null,
            "width": null
          }
        },
        "8be8a5c95321438ca246a13b3245caed": {
          "model_module": "@jupyter-widgets/controls",
          "model_name": "ProgressStyleModel",
          "model_module_version": "1.5.0",
          "state": {
            "_model_module": "@jupyter-widgets/controls",
            "_model_module_version": "1.5.0",
            "_model_name": "ProgressStyleModel",
            "_view_count": null,
            "_view_module": "@jupyter-widgets/base",
            "_view_module_version": "1.2.0",
            "_view_name": "StyleView",
            "bar_color": null,
            "description_width": ""
          }
        },
        "383ddb62dddb47ebba6a174705c8bfc1": {
          "model_module": "@jupyter-widgets/base",
          "model_name": "LayoutModel",
          "model_module_version": "1.2.0",
          "state": {
            "_model_module": "@jupyter-widgets/base",
            "_model_module_version": "1.2.0",
            "_model_name": "LayoutModel",
            "_view_count": null,
            "_view_module": "@jupyter-widgets/base",
            "_view_module_version": "1.2.0",
            "_view_name": "LayoutView",
            "align_content": null,
            "align_items": null,
            "align_self": null,
            "border": null,
            "bottom": null,
            "display": null,
            "flex": null,
            "flex_flow": null,
            "grid_area": null,
            "grid_auto_columns": null,
            "grid_auto_flow": null,
            "grid_auto_rows": null,
            "grid_column": null,
            "grid_gap": null,
            "grid_row": null,
            "grid_template_areas": null,
            "grid_template_columns": null,
            "grid_template_rows": null,
            "height": null,
            "justify_content": null,
            "justify_items": null,
            "left": null,
            "margin": null,
            "max_height": null,
            "max_width": null,
            "min_height": null,
            "min_width": null,
            "object_fit": null,
            "object_position": null,
            "order": null,
            "overflow": null,
            "overflow_x": null,
            "overflow_y": null,
            "padding": null,
            "right": null,
            "top": null,
            "visibility": null,
            "width": null
          }
        },
        "252e0793efee42f5b182ce5cf09fa7fe": {
          "model_module": "@jupyter-widgets/controls",
          "model_name": "DescriptionStyleModel",
          "model_module_version": "1.5.0",
          "state": {
            "_model_module": "@jupyter-widgets/controls",
            "_model_module_version": "1.5.0",
            "_model_name": "DescriptionStyleModel",
            "_view_count": null,
            "_view_module": "@jupyter-widgets/base",
            "_view_module_version": "1.2.0",
            "_view_name": "StyleView",
            "description_width": ""
          }
        },
        "98f7e74ce6ba42459f23f72c68be452a": {
          "model_module": "@jupyter-widgets/controls",
          "model_name": "HBoxModel",
          "model_module_version": "1.5.0",
          "state": {
            "_dom_classes": [],
            "_model_module": "@jupyter-widgets/controls",
            "_model_module_version": "1.5.0",
            "_model_name": "HBoxModel",
            "_view_count": null,
            "_view_module": "@jupyter-widgets/controls",
            "_view_module_version": "1.5.0",
            "_view_name": "HBoxView",
            "box_style": "",
            "children": [
              "IPY_MODEL_401fba3d473e4eaa96bced9bb8938101",
              "IPY_MODEL_c3f645813fde4a67a09bf0d4e931aa93",
              "IPY_MODEL_6c009ea073094dd8b8295fc64402aa56"
            ],
            "layout": "IPY_MODEL_6e275eb38456472fa1dddb89d273e0a8"
          }
        },
        "401fba3d473e4eaa96bced9bb8938101": {
          "model_module": "@jupyter-widgets/controls",
          "model_name": "HTMLModel",
          "model_module_version": "1.5.0",
          "state": {
            "_dom_classes": [],
            "_model_module": "@jupyter-widgets/controls",
            "_model_module_version": "1.5.0",
            "_model_name": "HTMLModel",
            "_view_count": null,
            "_view_module": "@jupyter-widgets/controls",
            "_view_module_version": "1.5.0",
            "_view_name": "HTMLView",
            "description": "",
            "description_tooltip": null,
            "layout": "IPY_MODEL_c1d340a94dd447faa292d8e39eec420d",
            "placeholder": "​",
            "style": "IPY_MODEL_3f1d4098a2a44e5885ce97c2d398038b",
            "value": "Downloading vocab.txt: 100%"
          }
        },
        "c3f645813fde4a67a09bf0d4e931aa93": {
          "model_module": "@jupyter-widgets/controls",
          "model_name": "FloatProgressModel",
          "model_module_version": "1.5.0",
          "state": {
            "_dom_classes": [],
            "_model_module": "@jupyter-widgets/controls",
            "_model_module_version": "1.5.0",
            "_model_name": "FloatProgressModel",
            "_view_count": null,
            "_view_module": "@jupyter-widgets/controls",
            "_view_module_version": "1.5.0",
            "_view_name": "ProgressView",
            "bar_style": "success",
            "description": "",
            "description_tooltip": null,
            "layout": "IPY_MODEL_8b71baa6deeb4b569005a7d9082ea202",
            "max": 1215509,
            "min": 0,
            "orientation": "horizontal",
            "style": "IPY_MODEL_ca69b1061344416b89f499f28a60a6c7",
            "value": 1215509
          }
        },
        "6c009ea073094dd8b8295fc64402aa56": {
          "model_module": "@jupyter-widgets/controls",
          "model_name": "HTMLModel",
          "model_module_version": "1.5.0",
          "state": {
            "_dom_classes": [],
            "_model_module": "@jupyter-widgets/controls",
            "_model_module_version": "1.5.0",
            "_model_name": "HTMLModel",
            "_view_count": null,
            "_view_module": "@jupyter-widgets/controls",
            "_view_module_version": "1.5.0",
            "_view_name": "HTMLView",
            "description": "",
            "description_tooltip": null,
            "layout": "IPY_MODEL_9155edcbc5514c069dfb72370290544d",
            "placeholder": "​",
            "style": "IPY_MODEL_9c2b4bf1d82349d5a13b5284e0b86d49",
            "value": " 1.16M/1.16M [00:01&lt;00:00, 1.11MB/s]"
          }
        },
        "6e275eb38456472fa1dddb89d273e0a8": {
          "model_module": "@jupyter-widgets/base",
          "model_name": "LayoutModel",
          "model_module_version": "1.2.0",
          "state": {
            "_model_module": "@jupyter-widgets/base",
            "_model_module_version": "1.2.0",
            "_model_name": "LayoutModel",
            "_view_count": null,
            "_view_module": "@jupyter-widgets/base",
            "_view_module_version": "1.2.0",
            "_view_name": "LayoutView",
            "align_content": null,
            "align_items": null,
            "align_self": null,
            "border": null,
            "bottom": null,
            "display": null,
            "flex": null,
            "flex_flow": null,
            "grid_area": null,
            "grid_auto_columns": null,
            "grid_auto_flow": null,
            "grid_auto_rows": null,
            "grid_column": null,
            "grid_gap": null,
            "grid_row": null,
            "grid_template_areas": null,
            "grid_template_columns": null,
            "grid_template_rows": null,
            "height": null,
            "justify_content": null,
            "justify_items": null,
            "left": null,
            "margin": null,
            "max_height": null,
            "max_width": null,
            "min_height": null,
            "min_width": null,
            "object_fit": null,
            "object_position": null,
            "order": null,
            "overflow": null,
            "overflow_x": null,
            "overflow_y": null,
            "padding": null,
            "right": null,
            "top": null,
            "visibility": null,
            "width": null
          }
        },
        "c1d340a94dd447faa292d8e39eec420d": {
          "model_module": "@jupyter-widgets/base",
          "model_name": "LayoutModel",
          "model_module_version": "1.2.0",
          "state": {
            "_model_module": "@jupyter-widgets/base",
            "_model_module_version": "1.2.0",
            "_model_name": "LayoutModel",
            "_view_count": null,
            "_view_module": "@jupyter-widgets/base",
            "_view_module_version": "1.2.0",
            "_view_name": "LayoutView",
            "align_content": null,
            "align_items": null,
            "align_self": null,
            "border": null,
            "bottom": null,
            "display": null,
            "flex": null,
            "flex_flow": null,
            "grid_area": null,
            "grid_auto_columns": null,
            "grid_auto_flow": null,
            "grid_auto_rows": null,
            "grid_column": null,
            "grid_gap": null,
            "grid_row": null,
            "grid_template_areas": null,
            "grid_template_columns": null,
            "grid_template_rows": null,
            "height": null,
            "justify_content": null,
            "justify_items": null,
            "left": null,
            "margin": null,
            "max_height": null,
            "max_width": null,
            "min_height": null,
            "min_width": null,
            "object_fit": null,
            "object_position": null,
            "order": null,
            "overflow": null,
            "overflow_x": null,
            "overflow_y": null,
            "padding": null,
            "right": null,
            "top": null,
            "visibility": null,
            "width": null
          }
        },
        "3f1d4098a2a44e5885ce97c2d398038b": {
          "model_module": "@jupyter-widgets/controls",
          "model_name": "DescriptionStyleModel",
          "model_module_version": "1.5.0",
          "state": {
            "_model_module": "@jupyter-widgets/controls",
            "_model_module_version": "1.5.0",
            "_model_name": "DescriptionStyleModel",
            "_view_count": null,
            "_view_module": "@jupyter-widgets/base",
            "_view_module_version": "1.2.0",
            "_view_name": "StyleView",
            "description_width": ""
          }
        },
        "8b71baa6deeb4b569005a7d9082ea202": {
          "model_module": "@jupyter-widgets/base",
          "model_name": "LayoutModel",
          "model_module_version": "1.2.0",
          "state": {
            "_model_module": "@jupyter-widgets/base",
            "_model_module_version": "1.2.0",
            "_model_name": "LayoutModel",
            "_view_count": null,
            "_view_module": "@jupyter-widgets/base",
            "_view_module_version": "1.2.0",
            "_view_name": "LayoutView",
            "align_content": null,
            "align_items": null,
            "align_self": null,
            "border": null,
            "bottom": null,
            "display": null,
            "flex": null,
            "flex_flow": null,
            "grid_area": null,
            "grid_auto_columns": null,
            "grid_auto_flow": null,
            "grid_auto_rows": null,
            "grid_column": null,
            "grid_gap": null,
            "grid_row": null,
            "grid_template_areas": null,
            "grid_template_columns": null,
            "grid_template_rows": null,
            "height": null,
            "justify_content": null,
            "justify_items": null,
            "left": null,
            "margin": null,
            "max_height": null,
            "max_width": null,
            "min_height": null,
            "min_width": null,
            "object_fit": null,
            "object_position": null,
            "order": null,
            "overflow": null,
            "overflow_x": null,
            "overflow_y": null,
            "padding": null,
            "right": null,
            "top": null,
            "visibility": null,
            "width": null
          }
        },
        "ca69b1061344416b89f499f28a60a6c7": {
          "model_module": "@jupyter-widgets/controls",
          "model_name": "ProgressStyleModel",
          "model_module_version": "1.5.0",
          "state": {
            "_model_module": "@jupyter-widgets/controls",
            "_model_module_version": "1.5.0",
            "_model_name": "ProgressStyleModel",
            "_view_count": null,
            "_view_module": "@jupyter-widgets/base",
            "_view_module_version": "1.2.0",
            "_view_name": "StyleView",
            "bar_color": null,
            "description_width": ""
          }
        },
        "9155edcbc5514c069dfb72370290544d": {
          "model_module": "@jupyter-widgets/base",
          "model_name": "LayoutModel",
          "model_module_version": "1.2.0",
          "state": {
            "_model_module": "@jupyter-widgets/base",
            "_model_module_version": "1.2.0",
            "_model_name": "LayoutModel",
            "_view_count": null,
            "_view_module": "@jupyter-widgets/base",
            "_view_module_version": "1.2.0",
            "_view_name": "LayoutView",
            "align_content": null,
            "align_items": null,
            "align_self": null,
            "border": null,
            "bottom": null,
            "display": null,
            "flex": null,
            "flex_flow": null,
            "grid_area": null,
            "grid_auto_columns": null,
            "grid_auto_flow": null,
            "grid_auto_rows": null,
            "grid_column": null,
            "grid_gap": null,
            "grid_row": null,
            "grid_template_areas": null,
            "grid_template_columns": null,
            "grid_template_rows": null,
            "height": null,
            "justify_content": null,
            "justify_items": null,
            "left": null,
            "margin": null,
            "max_height": null,
            "max_width": null,
            "min_height": null,
            "min_width": null,
            "object_fit": null,
            "object_position": null,
            "order": null,
            "overflow": null,
            "overflow_x": null,
            "overflow_y": null,
            "padding": null,
            "right": null,
            "top": null,
            "visibility": null,
            "width": null
          }
        },
        "9c2b4bf1d82349d5a13b5284e0b86d49": {
          "model_module": "@jupyter-widgets/controls",
          "model_name": "DescriptionStyleModel",
          "model_module_version": "1.5.0",
          "state": {
            "_model_module": "@jupyter-widgets/controls",
            "_model_module_version": "1.5.0",
            "_model_name": "DescriptionStyleModel",
            "_view_count": null,
            "_view_module": "@jupyter-widgets/base",
            "_view_module_version": "1.2.0",
            "_view_name": "StyleView",
            "description_width": ""
          }
        },
        "4e12180b03094e48a32fa8eb6ca582e5": {
          "model_module": "@jupyter-widgets/controls",
          "model_name": "HBoxModel",
          "model_module_version": "1.5.0",
          "state": {
            "_dom_classes": [],
            "_model_module": "@jupyter-widgets/controls",
            "_model_module_version": "1.5.0",
            "_model_name": "HBoxModel",
            "_view_count": null,
            "_view_module": "@jupyter-widgets/controls",
            "_view_module_version": "1.5.0",
            "_view_name": "HBoxView",
            "box_style": "",
            "children": [
              "IPY_MODEL_054d9a5f0dad4c028400b14fb7181c0e",
              "IPY_MODEL_2c9bf2939db049d6867375985e73bd8e",
              "IPY_MODEL_339e9de1813f4c45b670869b211ef36e"
            ],
            "layout": "IPY_MODEL_9f63abcc68a0401888767a373b85a319"
          }
        },
        "054d9a5f0dad4c028400b14fb7181c0e": {
          "model_module": "@jupyter-widgets/controls",
          "model_name": "HTMLModel",
          "model_module_version": "1.5.0",
          "state": {
            "_dom_classes": [],
            "_model_module": "@jupyter-widgets/controls",
            "_model_module_version": "1.5.0",
            "_model_name": "HTMLModel",
            "_view_count": null,
            "_view_module": "@jupyter-widgets/controls",
            "_view_module_version": "1.5.0",
            "_view_name": "HTMLView",
            "description": "",
            "description_tooltip": null,
            "layout": "IPY_MODEL_7d04154b3f004866acaab6edc7eeb41e",
            "placeholder": "​",
            "style": "IPY_MODEL_b6cba7e908d14d5da104f38f5e181102",
            "value": "100%"
          }
        },
        "2c9bf2939db049d6867375985e73bd8e": {
          "model_module": "@jupyter-widgets/controls",
          "model_name": "FloatProgressModel",
          "model_module_version": "1.5.0",
          "state": {
            "_dom_classes": [],
            "_model_module": "@jupyter-widgets/controls",
            "_model_module_version": "1.5.0",
            "_model_name": "FloatProgressModel",
            "_view_count": null,
            "_view_module": "@jupyter-widgets/controls",
            "_view_module_version": "1.5.0",
            "_view_name": "ProgressView",
            "bar_style": "success",
            "description": "",
            "description_tooltip": null,
            "layout": "IPY_MODEL_8fe7543adaa840a6bbc4f1c502b54fb8",
            "max": 9,
            "min": 0,
            "orientation": "horizontal",
            "style": "IPY_MODEL_a7384a93d52e4a6c8dcb013a266022fc",
            "value": 9
          }
        },
        "339e9de1813f4c45b670869b211ef36e": {
          "model_module": "@jupyter-widgets/controls",
          "model_name": "HTMLModel",
          "model_module_version": "1.5.0",
          "state": {
            "_dom_classes": [],
            "_model_module": "@jupyter-widgets/controls",
            "_model_module_version": "1.5.0",
            "_model_name": "HTMLModel",
            "_view_count": null,
            "_view_module": "@jupyter-widgets/controls",
            "_view_module_version": "1.5.0",
            "_view_name": "HTMLView",
            "description": "",
            "description_tooltip": null,
            "layout": "IPY_MODEL_e54de631809047b5892e197bd3580d90",
            "placeholder": "​",
            "style": "IPY_MODEL_c3743666756a48149e148c9afc366cd9",
            "value": " 9/9 [00:03&lt;00:00,  2.38ba/s]"
          }
        },
        "9f63abcc68a0401888767a373b85a319": {
          "model_module": "@jupyter-widgets/base",
          "model_name": "LayoutModel",
          "model_module_version": "1.2.0",
          "state": {
            "_model_module": "@jupyter-widgets/base",
            "_model_module_version": "1.2.0",
            "_model_name": "LayoutModel",
            "_view_count": null,
            "_view_module": "@jupyter-widgets/base",
            "_view_module_version": "1.2.0",
            "_view_name": "LayoutView",
            "align_content": null,
            "align_items": null,
            "align_self": null,
            "border": null,
            "bottom": null,
            "display": null,
            "flex": null,
            "flex_flow": null,
            "grid_area": null,
            "grid_auto_columns": null,
            "grid_auto_flow": null,
            "grid_auto_rows": null,
            "grid_column": null,
            "grid_gap": null,
            "grid_row": null,
            "grid_template_areas": null,
            "grid_template_columns": null,
            "grid_template_rows": null,
            "height": null,
            "justify_content": null,
            "justify_items": null,
            "left": null,
            "margin": null,
            "max_height": null,
            "max_width": null,
            "min_height": null,
            "min_width": null,
            "object_fit": null,
            "object_position": null,
            "order": null,
            "overflow": null,
            "overflow_x": null,
            "overflow_y": null,
            "padding": null,
            "right": null,
            "top": null,
            "visibility": null,
            "width": null
          }
        },
        "7d04154b3f004866acaab6edc7eeb41e": {
          "model_module": "@jupyter-widgets/base",
          "model_name": "LayoutModel",
          "model_module_version": "1.2.0",
          "state": {
            "_model_module": "@jupyter-widgets/base",
            "_model_module_version": "1.2.0",
            "_model_name": "LayoutModel",
            "_view_count": null,
            "_view_module": "@jupyter-widgets/base",
            "_view_module_version": "1.2.0",
            "_view_name": "LayoutView",
            "align_content": null,
            "align_items": null,
            "align_self": null,
            "border": null,
            "bottom": null,
            "display": null,
            "flex": null,
            "flex_flow": null,
            "grid_area": null,
            "grid_auto_columns": null,
            "grid_auto_flow": null,
            "grid_auto_rows": null,
            "grid_column": null,
            "grid_gap": null,
            "grid_row": null,
            "grid_template_areas": null,
            "grid_template_columns": null,
            "grid_template_rows": null,
            "height": null,
            "justify_content": null,
            "justify_items": null,
            "left": null,
            "margin": null,
            "max_height": null,
            "max_width": null,
            "min_height": null,
            "min_width": null,
            "object_fit": null,
            "object_position": null,
            "order": null,
            "overflow": null,
            "overflow_x": null,
            "overflow_y": null,
            "padding": null,
            "right": null,
            "top": null,
            "visibility": null,
            "width": null
          }
        },
        "b6cba7e908d14d5da104f38f5e181102": {
          "model_module": "@jupyter-widgets/controls",
          "model_name": "DescriptionStyleModel",
          "model_module_version": "1.5.0",
          "state": {
            "_model_module": "@jupyter-widgets/controls",
            "_model_module_version": "1.5.0",
            "_model_name": "DescriptionStyleModel",
            "_view_count": null,
            "_view_module": "@jupyter-widgets/base",
            "_view_module_version": "1.2.0",
            "_view_name": "StyleView",
            "description_width": ""
          }
        },
        "8fe7543adaa840a6bbc4f1c502b54fb8": {
          "model_module": "@jupyter-widgets/base",
          "model_name": "LayoutModel",
          "model_module_version": "1.2.0",
          "state": {
            "_model_module": "@jupyter-widgets/base",
            "_model_module_version": "1.2.0",
            "_model_name": "LayoutModel",
            "_view_count": null,
            "_view_module": "@jupyter-widgets/base",
            "_view_module_version": "1.2.0",
            "_view_name": "LayoutView",
            "align_content": null,
            "align_items": null,
            "align_self": null,
            "border": null,
            "bottom": null,
            "display": null,
            "flex": null,
            "flex_flow": null,
            "grid_area": null,
            "grid_auto_columns": null,
            "grid_auto_flow": null,
            "grid_auto_rows": null,
            "grid_column": null,
            "grid_gap": null,
            "grid_row": null,
            "grid_template_areas": null,
            "grid_template_columns": null,
            "grid_template_rows": null,
            "height": null,
            "justify_content": null,
            "justify_items": null,
            "left": null,
            "margin": null,
            "max_height": null,
            "max_width": null,
            "min_height": null,
            "min_width": null,
            "object_fit": null,
            "object_position": null,
            "order": null,
            "overflow": null,
            "overflow_x": null,
            "overflow_y": null,
            "padding": null,
            "right": null,
            "top": null,
            "visibility": null,
            "width": null
          }
        },
        "a7384a93d52e4a6c8dcb013a266022fc": {
          "model_module": "@jupyter-widgets/controls",
          "model_name": "ProgressStyleModel",
          "model_module_version": "1.5.0",
          "state": {
            "_model_module": "@jupyter-widgets/controls",
            "_model_module_version": "1.5.0",
            "_model_name": "ProgressStyleModel",
            "_view_count": null,
            "_view_module": "@jupyter-widgets/base",
            "_view_module_version": "1.2.0",
            "_view_name": "StyleView",
            "bar_color": null,
            "description_width": ""
          }
        },
        "e54de631809047b5892e197bd3580d90": {
          "model_module": "@jupyter-widgets/base",
          "model_name": "LayoutModel",
          "model_module_version": "1.2.0",
          "state": {
            "_model_module": "@jupyter-widgets/base",
            "_model_module_version": "1.2.0",
            "_model_name": "LayoutModel",
            "_view_count": null,
            "_view_module": "@jupyter-widgets/base",
            "_view_module_version": "1.2.0",
            "_view_name": "LayoutView",
            "align_content": null,
            "align_items": null,
            "align_self": null,
            "border": null,
            "bottom": null,
            "display": null,
            "flex": null,
            "flex_flow": null,
            "grid_area": null,
            "grid_auto_columns": null,
            "grid_auto_flow": null,
            "grid_auto_rows": null,
            "grid_column": null,
            "grid_gap": null,
            "grid_row": null,
            "grid_template_areas": null,
            "grid_template_columns": null,
            "grid_template_rows": null,
            "height": null,
            "justify_content": null,
            "justify_items": null,
            "left": null,
            "margin": null,
            "max_height": null,
            "max_width": null,
            "min_height": null,
            "min_width": null,
            "object_fit": null,
            "object_position": null,
            "order": null,
            "overflow": null,
            "overflow_x": null,
            "overflow_y": null,
            "padding": null,
            "right": null,
            "top": null,
            "visibility": null,
            "width": null
          }
        },
        "c3743666756a48149e148c9afc366cd9": {
          "model_module": "@jupyter-widgets/controls",
          "model_name": "DescriptionStyleModel",
          "model_module_version": "1.5.0",
          "state": {
            "_model_module": "@jupyter-widgets/controls",
            "_model_module_version": "1.5.0",
            "_model_name": "DescriptionStyleModel",
            "_view_count": null,
            "_view_module": "@jupyter-widgets/base",
            "_view_module_version": "1.2.0",
            "_view_name": "StyleView",
            "description_width": ""
          }
        },
        "03848040a75f450fbdc9a7dc4795e428": {
          "model_module": "@jupyter-widgets/controls",
          "model_name": "HBoxModel",
          "model_module_version": "1.5.0",
          "state": {
            "_dom_classes": [],
            "_model_module": "@jupyter-widgets/controls",
            "_model_module_version": "1.5.0",
            "_model_name": "HBoxModel",
            "_view_count": null,
            "_view_module": "@jupyter-widgets/controls",
            "_view_module_version": "1.5.0",
            "_view_name": "HBoxView",
            "box_style": "",
            "children": [
              "IPY_MODEL_5d7f065062d44c49b9be84fb2c611980",
              "IPY_MODEL_16fcbfca5c75460e8825279ce8616437",
              "IPY_MODEL_d6761c740c9a4287b1fd53b340183cee"
            ],
            "layout": "IPY_MODEL_f4bf535104f74da8b06ef9e837c08961"
          }
        },
        "5d7f065062d44c49b9be84fb2c611980": {
          "model_module": "@jupyter-widgets/controls",
          "model_name": "HTMLModel",
          "model_module_version": "1.5.0",
          "state": {
            "_dom_classes": [],
            "_model_module": "@jupyter-widgets/controls",
            "_model_module_version": "1.5.0",
            "_model_name": "HTMLModel",
            "_view_count": null,
            "_view_module": "@jupyter-widgets/controls",
            "_view_module_version": "1.5.0",
            "_view_name": "HTMLView",
            "description": "",
            "description_tooltip": null,
            "layout": "IPY_MODEL_8560febd43f54c8c93136666035baaaf",
            "placeholder": "​",
            "style": "IPY_MODEL_f5e12d23833240539dd14a174ce5ae24",
            "value": "100%"
          }
        },
        "16fcbfca5c75460e8825279ce8616437": {
          "model_module": "@jupyter-widgets/controls",
          "model_name": "FloatProgressModel",
          "model_module_version": "1.5.0",
          "state": {
            "_dom_classes": [],
            "_model_module": "@jupyter-widgets/controls",
            "_model_module_version": "1.5.0",
            "_model_name": "FloatProgressModel",
            "_view_count": null,
            "_view_module": "@jupyter-widgets/controls",
            "_view_module_version": "1.5.0",
            "_view_name": "ProgressView",
            "bar_style": "success",
            "description": "",
            "description_tooltip": null,
            "layout": "IPY_MODEL_9d7c2fb0bae44061b7bc4218920749cd",
            "max": 10,
            "min": 0,
            "orientation": "horizontal",
            "style": "IPY_MODEL_caa469d1af3f428d9e4927755f7ffcf3",
            "value": 10
          }
        },
        "d6761c740c9a4287b1fd53b340183cee": {
          "model_module": "@jupyter-widgets/controls",
          "model_name": "HTMLModel",
          "model_module_version": "1.5.0",
          "state": {
            "_dom_classes": [],
            "_model_module": "@jupyter-widgets/controls",
            "_model_module_version": "1.5.0",
            "_model_name": "HTMLModel",
            "_view_count": null,
            "_view_module": "@jupyter-widgets/controls",
            "_view_module_version": "1.5.0",
            "_view_name": "HTMLView",
            "description": "",
            "description_tooltip": null,
            "layout": "IPY_MODEL_6e92f53a2e9c45baa8396ed3d129eb7c",
            "placeholder": "​",
            "style": "IPY_MODEL_9e1ac4b74e7c4b848020ac7a7b0dd03c",
            "value": " 10/10 [00:04&lt;00:00,  2.78ba/s]"
          }
        },
        "f4bf535104f74da8b06ef9e837c08961": {
          "model_module": "@jupyter-widgets/base",
          "model_name": "LayoutModel",
          "model_module_version": "1.2.0",
          "state": {
            "_model_module": "@jupyter-widgets/base",
            "_model_module_version": "1.2.0",
            "_model_name": "LayoutModel",
            "_view_count": null,
            "_view_module": "@jupyter-widgets/base",
            "_view_module_version": "1.2.0",
            "_view_name": "LayoutView",
            "align_content": null,
            "align_items": null,
            "align_self": null,
            "border": null,
            "bottom": null,
            "display": null,
            "flex": null,
            "flex_flow": null,
            "grid_area": null,
            "grid_auto_columns": null,
            "grid_auto_flow": null,
            "grid_auto_rows": null,
            "grid_column": null,
            "grid_gap": null,
            "grid_row": null,
            "grid_template_areas": null,
            "grid_template_columns": null,
            "grid_template_rows": null,
            "height": null,
            "justify_content": null,
            "justify_items": null,
            "left": null,
            "margin": null,
            "max_height": null,
            "max_width": null,
            "min_height": null,
            "min_width": null,
            "object_fit": null,
            "object_position": null,
            "order": null,
            "overflow": null,
            "overflow_x": null,
            "overflow_y": null,
            "padding": null,
            "right": null,
            "top": null,
            "visibility": null,
            "width": null
          }
        },
        "8560febd43f54c8c93136666035baaaf": {
          "model_module": "@jupyter-widgets/base",
          "model_name": "LayoutModel",
          "model_module_version": "1.2.0",
          "state": {
            "_model_module": "@jupyter-widgets/base",
            "_model_module_version": "1.2.0",
            "_model_name": "LayoutModel",
            "_view_count": null,
            "_view_module": "@jupyter-widgets/base",
            "_view_module_version": "1.2.0",
            "_view_name": "LayoutView",
            "align_content": null,
            "align_items": null,
            "align_self": null,
            "border": null,
            "bottom": null,
            "display": null,
            "flex": null,
            "flex_flow": null,
            "grid_area": null,
            "grid_auto_columns": null,
            "grid_auto_flow": null,
            "grid_auto_rows": null,
            "grid_column": null,
            "grid_gap": null,
            "grid_row": null,
            "grid_template_areas": null,
            "grid_template_columns": null,
            "grid_template_rows": null,
            "height": null,
            "justify_content": null,
            "justify_items": null,
            "left": null,
            "margin": null,
            "max_height": null,
            "max_width": null,
            "min_height": null,
            "min_width": null,
            "object_fit": null,
            "object_position": null,
            "order": null,
            "overflow": null,
            "overflow_x": null,
            "overflow_y": null,
            "padding": null,
            "right": null,
            "top": null,
            "visibility": null,
            "width": null
          }
        },
        "f5e12d23833240539dd14a174ce5ae24": {
          "model_module": "@jupyter-widgets/controls",
          "model_name": "DescriptionStyleModel",
          "model_module_version": "1.5.0",
          "state": {
            "_model_module": "@jupyter-widgets/controls",
            "_model_module_version": "1.5.0",
            "_model_name": "DescriptionStyleModel",
            "_view_count": null,
            "_view_module": "@jupyter-widgets/base",
            "_view_module_version": "1.2.0",
            "_view_name": "StyleView",
            "description_width": ""
          }
        },
        "9d7c2fb0bae44061b7bc4218920749cd": {
          "model_module": "@jupyter-widgets/base",
          "model_name": "LayoutModel",
          "model_module_version": "1.2.0",
          "state": {
            "_model_module": "@jupyter-widgets/base",
            "_model_module_version": "1.2.0",
            "_model_name": "LayoutModel",
            "_view_count": null,
            "_view_module": "@jupyter-widgets/base",
            "_view_module_version": "1.2.0",
            "_view_name": "LayoutView",
            "align_content": null,
            "align_items": null,
            "align_self": null,
            "border": null,
            "bottom": null,
            "display": null,
            "flex": null,
            "flex_flow": null,
            "grid_area": null,
            "grid_auto_columns": null,
            "grid_auto_flow": null,
            "grid_auto_rows": null,
            "grid_column": null,
            "grid_gap": null,
            "grid_row": null,
            "grid_template_areas": null,
            "grid_template_columns": null,
            "grid_template_rows": null,
            "height": null,
            "justify_content": null,
            "justify_items": null,
            "left": null,
            "margin": null,
            "max_height": null,
            "max_width": null,
            "min_height": null,
            "min_width": null,
            "object_fit": null,
            "object_position": null,
            "order": null,
            "overflow": null,
            "overflow_x": null,
            "overflow_y": null,
            "padding": null,
            "right": null,
            "top": null,
            "visibility": null,
            "width": null
          }
        },
        "caa469d1af3f428d9e4927755f7ffcf3": {
          "model_module": "@jupyter-widgets/controls",
          "model_name": "ProgressStyleModel",
          "model_module_version": "1.5.0",
          "state": {
            "_model_module": "@jupyter-widgets/controls",
            "_model_module_version": "1.5.0",
            "_model_name": "ProgressStyleModel",
            "_view_count": null,
            "_view_module": "@jupyter-widgets/base",
            "_view_module_version": "1.2.0",
            "_view_name": "StyleView",
            "bar_color": null,
            "description_width": ""
          }
        },
        "6e92f53a2e9c45baa8396ed3d129eb7c": {
          "model_module": "@jupyter-widgets/base",
          "model_name": "LayoutModel",
          "model_module_version": "1.2.0",
          "state": {
            "_model_module": "@jupyter-widgets/base",
            "_model_module_version": "1.2.0",
            "_model_name": "LayoutModel",
            "_view_count": null,
            "_view_module": "@jupyter-widgets/base",
            "_view_module_version": "1.2.0",
            "_view_name": "LayoutView",
            "align_content": null,
            "align_items": null,
            "align_self": null,
            "border": null,
            "bottom": null,
            "display": null,
            "flex": null,
            "flex_flow": null,
            "grid_area": null,
            "grid_auto_columns": null,
            "grid_auto_flow": null,
            "grid_auto_rows": null,
            "grid_column": null,
            "grid_gap": null,
            "grid_row": null,
            "grid_template_areas": null,
            "grid_template_columns": null,
            "grid_template_rows": null,
            "height": null,
            "justify_content": null,
            "justify_items": null,
            "left": null,
            "margin": null,
            "max_height": null,
            "max_width": null,
            "min_height": null,
            "min_width": null,
            "object_fit": null,
            "object_position": null,
            "order": null,
            "overflow": null,
            "overflow_x": null,
            "overflow_y": null,
            "padding": null,
            "right": null,
            "top": null,
            "visibility": null,
            "width": null
          }
        },
        "9e1ac4b74e7c4b848020ac7a7b0dd03c": {
          "model_module": "@jupyter-widgets/controls",
          "model_name": "DescriptionStyleModel",
          "model_module_version": "1.5.0",
          "state": {
            "_model_module": "@jupyter-widgets/controls",
            "_model_module_version": "1.5.0",
            "_model_name": "DescriptionStyleModel",
            "_view_count": null,
            "_view_module": "@jupyter-widgets/base",
            "_view_module_version": "1.2.0",
            "_view_name": "StyleView",
            "description_width": ""
          }
        },
        "150c16fd31be4edfb5aee1aeabb5cc26": {
          "model_module": "@jupyter-widgets/controls",
          "model_name": "HBoxModel",
          "model_module_version": "1.5.0",
          "state": {
            "_dom_classes": [],
            "_model_module": "@jupyter-widgets/controls",
            "_model_module_version": "1.5.0",
            "_model_name": "HBoxModel",
            "_view_count": null,
            "_view_module": "@jupyter-widgets/controls",
            "_view_module_version": "1.5.0",
            "_view_name": "HBoxView",
            "box_style": "",
            "children": [
              "IPY_MODEL_a0f5945aa63845f987433d2c50d5d52b",
              "IPY_MODEL_cd8f04fbbdca483388e7b315a5f9b71b",
              "IPY_MODEL_53f70483928943c490cfb40372ab0ebf"
            ],
            "layout": "IPY_MODEL_050f9275c24141de8fc952740935a359"
          }
        },
        "a0f5945aa63845f987433d2c50d5d52b": {
          "model_module": "@jupyter-widgets/controls",
          "model_name": "HTMLModel",
          "model_module_version": "1.5.0",
          "state": {
            "_dom_classes": [],
            "_model_module": "@jupyter-widgets/controls",
            "_model_module_version": "1.5.0",
            "_model_name": "HTMLModel",
            "_view_count": null,
            "_view_module": "@jupyter-widgets/controls",
            "_view_module_version": "1.5.0",
            "_view_name": "HTMLView",
            "description": "",
            "description_tooltip": null,
            "layout": "IPY_MODEL_f73c50233afe4d1ca3cabcd91756d896",
            "placeholder": "​",
            "style": "IPY_MODEL_bfee8881e72c4156ae891d6fe162800c",
            "value": "100%"
          }
        },
        "cd8f04fbbdca483388e7b315a5f9b71b": {
          "model_module": "@jupyter-widgets/controls",
          "model_name": "FloatProgressModel",
          "model_module_version": "1.5.0",
          "state": {
            "_dom_classes": [],
            "_model_module": "@jupyter-widgets/controls",
            "_model_module_version": "1.5.0",
            "_model_name": "FloatProgressModel",
            "_view_count": null,
            "_view_module": "@jupyter-widgets/controls",
            "_view_module_version": "1.5.0",
            "_view_name": "ProgressView",
            "bar_style": "success",
            "description": "",
            "description_tooltip": null,
            "layout": "IPY_MODEL_11c2154d6f0444a08458f20755e0c8ae",
            "max": 9,
            "min": 0,
            "orientation": "horizontal",
            "style": "IPY_MODEL_b6d7a6021e054fb4b05d5b506b183269",
            "value": 9
          }
        },
        "53f70483928943c490cfb40372ab0ebf": {
          "model_module": "@jupyter-widgets/controls",
          "model_name": "HTMLModel",
          "model_module_version": "1.5.0",
          "state": {
            "_dom_classes": [],
            "_model_module": "@jupyter-widgets/controls",
            "_model_module_version": "1.5.0",
            "_model_name": "HTMLModel",
            "_view_count": null,
            "_view_module": "@jupyter-widgets/controls",
            "_view_module_version": "1.5.0",
            "_view_name": "HTMLView",
            "description": "",
            "description_tooltip": null,
            "layout": "IPY_MODEL_bfcba3274b2c42f2b55309df477a0a1f",
            "placeholder": "​",
            "style": "IPY_MODEL_f2ca51cb19ec43ebad9f2640a524fc5f",
            "value": " 9/9 [00:02&lt;00:00,  3.79ba/s]"
          }
        },
        "050f9275c24141de8fc952740935a359": {
          "model_module": "@jupyter-widgets/base",
          "model_name": "LayoutModel",
          "model_module_version": "1.2.0",
          "state": {
            "_model_module": "@jupyter-widgets/base",
            "_model_module_version": "1.2.0",
            "_model_name": "LayoutModel",
            "_view_count": null,
            "_view_module": "@jupyter-widgets/base",
            "_view_module_version": "1.2.0",
            "_view_name": "LayoutView",
            "align_content": null,
            "align_items": null,
            "align_self": null,
            "border": null,
            "bottom": null,
            "display": null,
            "flex": null,
            "flex_flow": null,
            "grid_area": null,
            "grid_auto_columns": null,
            "grid_auto_flow": null,
            "grid_auto_rows": null,
            "grid_column": null,
            "grid_gap": null,
            "grid_row": null,
            "grid_template_areas": null,
            "grid_template_columns": null,
            "grid_template_rows": null,
            "height": null,
            "justify_content": null,
            "justify_items": null,
            "left": null,
            "margin": null,
            "max_height": null,
            "max_width": null,
            "min_height": null,
            "min_width": null,
            "object_fit": null,
            "object_position": null,
            "order": null,
            "overflow": null,
            "overflow_x": null,
            "overflow_y": null,
            "padding": null,
            "right": null,
            "top": null,
            "visibility": null,
            "width": null
          }
        },
        "f73c50233afe4d1ca3cabcd91756d896": {
          "model_module": "@jupyter-widgets/base",
          "model_name": "LayoutModel",
          "model_module_version": "1.2.0",
          "state": {
            "_model_module": "@jupyter-widgets/base",
            "_model_module_version": "1.2.0",
            "_model_name": "LayoutModel",
            "_view_count": null,
            "_view_module": "@jupyter-widgets/base",
            "_view_module_version": "1.2.0",
            "_view_name": "LayoutView",
            "align_content": null,
            "align_items": null,
            "align_self": null,
            "border": null,
            "bottom": null,
            "display": null,
            "flex": null,
            "flex_flow": null,
            "grid_area": null,
            "grid_auto_columns": null,
            "grid_auto_flow": null,
            "grid_auto_rows": null,
            "grid_column": null,
            "grid_gap": null,
            "grid_row": null,
            "grid_template_areas": null,
            "grid_template_columns": null,
            "grid_template_rows": null,
            "height": null,
            "justify_content": null,
            "justify_items": null,
            "left": null,
            "margin": null,
            "max_height": null,
            "max_width": null,
            "min_height": null,
            "min_width": null,
            "object_fit": null,
            "object_position": null,
            "order": null,
            "overflow": null,
            "overflow_x": null,
            "overflow_y": null,
            "padding": null,
            "right": null,
            "top": null,
            "visibility": null,
            "width": null
          }
        },
        "bfee8881e72c4156ae891d6fe162800c": {
          "model_module": "@jupyter-widgets/controls",
          "model_name": "DescriptionStyleModel",
          "model_module_version": "1.5.0",
          "state": {
            "_model_module": "@jupyter-widgets/controls",
            "_model_module_version": "1.5.0",
            "_model_name": "DescriptionStyleModel",
            "_view_count": null,
            "_view_module": "@jupyter-widgets/base",
            "_view_module_version": "1.2.0",
            "_view_name": "StyleView",
            "description_width": ""
          }
        },
        "11c2154d6f0444a08458f20755e0c8ae": {
          "model_module": "@jupyter-widgets/base",
          "model_name": "LayoutModel",
          "model_module_version": "1.2.0",
          "state": {
            "_model_module": "@jupyter-widgets/base",
            "_model_module_version": "1.2.0",
            "_model_name": "LayoutModel",
            "_view_count": null,
            "_view_module": "@jupyter-widgets/base",
            "_view_module_version": "1.2.0",
            "_view_name": "LayoutView",
            "align_content": null,
            "align_items": null,
            "align_self": null,
            "border": null,
            "bottom": null,
            "display": null,
            "flex": null,
            "flex_flow": null,
            "grid_area": null,
            "grid_auto_columns": null,
            "grid_auto_flow": null,
            "grid_auto_rows": null,
            "grid_column": null,
            "grid_gap": null,
            "grid_row": null,
            "grid_template_areas": null,
            "grid_template_columns": null,
            "grid_template_rows": null,
            "height": null,
            "justify_content": null,
            "justify_items": null,
            "left": null,
            "margin": null,
            "max_height": null,
            "max_width": null,
            "min_height": null,
            "min_width": null,
            "object_fit": null,
            "object_position": null,
            "order": null,
            "overflow": null,
            "overflow_x": null,
            "overflow_y": null,
            "padding": null,
            "right": null,
            "top": null,
            "visibility": null,
            "width": null
          }
        },
        "b6d7a6021e054fb4b05d5b506b183269": {
          "model_module": "@jupyter-widgets/controls",
          "model_name": "ProgressStyleModel",
          "model_module_version": "1.5.0",
          "state": {
            "_model_module": "@jupyter-widgets/controls",
            "_model_module_version": "1.5.0",
            "_model_name": "ProgressStyleModel",
            "_view_count": null,
            "_view_module": "@jupyter-widgets/base",
            "_view_module_version": "1.2.0",
            "_view_name": "StyleView",
            "bar_color": null,
            "description_width": ""
          }
        },
        "bfcba3274b2c42f2b55309df477a0a1f": {
          "model_module": "@jupyter-widgets/base",
          "model_name": "LayoutModel",
          "model_module_version": "1.2.0",
          "state": {
            "_model_module": "@jupyter-widgets/base",
            "_model_module_version": "1.2.0",
            "_model_name": "LayoutModel",
            "_view_count": null,
            "_view_module": "@jupyter-widgets/base",
            "_view_module_version": "1.2.0",
            "_view_name": "LayoutView",
            "align_content": null,
            "align_items": null,
            "align_self": null,
            "border": null,
            "bottom": null,
            "display": null,
            "flex": null,
            "flex_flow": null,
            "grid_area": null,
            "grid_auto_columns": null,
            "grid_auto_flow": null,
            "grid_auto_rows": null,
            "grid_column": null,
            "grid_gap": null,
            "grid_row": null,
            "grid_template_areas": null,
            "grid_template_columns": null,
            "grid_template_rows": null,
            "height": null,
            "justify_content": null,
            "justify_items": null,
            "left": null,
            "margin": null,
            "max_height": null,
            "max_width": null,
            "min_height": null,
            "min_width": null,
            "object_fit": null,
            "object_position": null,
            "order": null,
            "overflow": null,
            "overflow_x": null,
            "overflow_y": null,
            "padding": null,
            "right": null,
            "top": null,
            "visibility": null,
            "width": null
          }
        },
        "f2ca51cb19ec43ebad9f2640a524fc5f": {
          "model_module": "@jupyter-widgets/controls",
          "model_name": "DescriptionStyleModel",
          "model_module_version": "1.5.0",
          "state": {
            "_model_module": "@jupyter-widgets/controls",
            "_model_module_version": "1.5.0",
            "_model_name": "DescriptionStyleModel",
            "_view_count": null,
            "_view_module": "@jupyter-widgets/base",
            "_view_module_version": "1.2.0",
            "_view_name": "StyleView",
            "description_width": ""
          }
        },
        "82709159e361499a943037d7c52aeeff": {
          "model_module": "@jupyter-widgets/controls",
          "model_name": "HBoxModel",
          "model_module_version": "1.5.0",
          "state": {
            "_dom_classes": [],
            "_model_module": "@jupyter-widgets/controls",
            "_model_module_version": "1.5.0",
            "_model_name": "HBoxModel",
            "_view_count": null,
            "_view_module": "@jupyter-widgets/controls",
            "_view_module_version": "1.5.0",
            "_view_name": "HBoxView",
            "box_style": "",
            "children": [
              "IPY_MODEL_38e3e6e0b2cf41a5a2a2798f3321658a",
              "IPY_MODEL_f7408573b9154fb89a849527cec41d7a",
              "IPY_MODEL_9be23d4158734d1ca6baba89469a9fc4"
            ],
            "layout": "IPY_MODEL_551a978ef0a34a9585656956817f913f"
          }
        },
        "38e3e6e0b2cf41a5a2a2798f3321658a": {
          "model_module": "@jupyter-widgets/controls",
          "model_name": "HTMLModel",
          "model_module_version": "1.5.0",
          "state": {
            "_dom_classes": [],
            "_model_module": "@jupyter-widgets/controls",
            "_model_module_version": "1.5.0",
            "_model_name": "HTMLModel",
            "_view_count": null,
            "_view_module": "@jupyter-widgets/controls",
            "_view_module_version": "1.5.0",
            "_view_name": "HTMLView",
            "description": "",
            "description_tooltip": null,
            "layout": "IPY_MODEL_9cc1d9ce930a463e994c7dfc846cf3fd",
            "placeholder": "​",
            "style": "IPY_MODEL_16488974c14d407ba667fa4285085983",
            "value": "100%"
          }
        },
        "f7408573b9154fb89a849527cec41d7a": {
          "model_module": "@jupyter-widgets/controls",
          "model_name": "FloatProgressModel",
          "model_module_version": "1.5.0",
          "state": {
            "_dom_classes": [],
            "_model_module": "@jupyter-widgets/controls",
            "_model_module_version": "1.5.0",
            "_model_name": "FloatProgressModel",
            "_view_count": null,
            "_view_module": "@jupyter-widgets/controls",
            "_view_module_version": "1.5.0",
            "_view_name": "ProgressView",
            "bar_style": "success",
            "description": "",
            "description_tooltip": null,
            "layout": "IPY_MODEL_526c1e71264746f28cc13038716e74a3",
            "max": 10,
            "min": 0,
            "orientation": "horizontal",
            "style": "IPY_MODEL_2db1c132405b4639a7fd70a534845843",
            "value": 10
          }
        },
        "9be23d4158734d1ca6baba89469a9fc4": {
          "model_module": "@jupyter-widgets/controls",
          "model_name": "HTMLModel",
          "model_module_version": "1.5.0",
          "state": {
            "_dom_classes": [],
            "_model_module": "@jupyter-widgets/controls",
            "_model_module_version": "1.5.0",
            "_model_name": "HTMLModel",
            "_view_count": null,
            "_view_module": "@jupyter-widgets/controls",
            "_view_module_version": "1.5.0",
            "_view_name": "HTMLView",
            "description": "",
            "description_tooltip": null,
            "layout": "IPY_MODEL_02ecde9d319a414db85a6b7b489af7f2",
            "placeholder": "​",
            "style": "IPY_MODEL_1cf3b9a2e04940fbb3cedaccc8b2efa4",
            "value": " 10/10 [00:02&lt;00:00,  3.79ba/s]"
          }
        },
        "551a978ef0a34a9585656956817f913f": {
          "model_module": "@jupyter-widgets/base",
          "model_name": "LayoutModel",
          "model_module_version": "1.2.0",
          "state": {
            "_model_module": "@jupyter-widgets/base",
            "_model_module_version": "1.2.0",
            "_model_name": "LayoutModel",
            "_view_count": null,
            "_view_module": "@jupyter-widgets/base",
            "_view_module_version": "1.2.0",
            "_view_name": "LayoutView",
            "align_content": null,
            "align_items": null,
            "align_self": null,
            "border": null,
            "bottom": null,
            "display": null,
            "flex": null,
            "flex_flow": null,
            "grid_area": null,
            "grid_auto_columns": null,
            "grid_auto_flow": null,
            "grid_auto_rows": null,
            "grid_column": null,
            "grid_gap": null,
            "grid_row": null,
            "grid_template_areas": null,
            "grid_template_columns": null,
            "grid_template_rows": null,
            "height": null,
            "justify_content": null,
            "justify_items": null,
            "left": null,
            "margin": null,
            "max_height": null,
            "max_width": null,
            "min_height": null,
            "min_width": null,
            "object_fit": null,
            "object_position": null,
            "order": null,
            "overflow": null,
            "overflow_x": null,
            "overflow_y": null,
            "padding": null,
            "right": null,
            "top": null,
            "visibility": null,
            "width": null
          }
        },
        "9cc1d9ce930a463e994c7dfc846cf3fd": {
          "model_module": "@jupyter-widgets/base",
          "model_name": "LayoutModel",
          "model_module_version": "1.2.0",
          "state": {
            "_model_module": "@jupyter-widgets/base",
            "_model_module_version": "1.2.0",
            "_model_name": "LayoutModel",
            "_view_count": null,
            "_view_module": "@jupyter-widgets/base",
            "_view_module_version": "1.2.0",
            "_view_name": "LayoutView",
            "align_content": null,
            "align_items": null,
            "align_self": null,
            "border": null,
            "bottom": null,
            "display": null,
            "flex": null,
            "flex_flow": null,
            "grid_area": null,
            "grid_auto_columns": null,
            "grid_auto_flow": null,
            "grid_auto_rows": null,
            "grid_column": null,
            "grid_gap": null,
            "grid_row": null,
            "grid_template_areas": null,
            "grid_template_columns": null,
            "grid_template_rows": null,
            "height": null,
            "justify_content": null,
            "justify_items": null,
            "left": null,
            "margin": null,
            "max_height": null,
            "max_width": null,
            "min_height": null,
            "min_width": null,
            "object_fit": null,
            "object_position": null,
            "order": null,
            "overflow": null,
            "overflow_x": null,
            "overflow_y": null,
            "padding": null,
            "right": null,
            "top": null,
            "visibility": null,
            "width": null
          }
        },
        "16488974c14d407ba667fa4285085983": {
          "model_module": "@jupyter-widgets/controls",
          "model_name": "DescriptionStyleModel",
          "model_module_version": "1.5.0",
          "state": {
            "_model_module": "@jupyter-widgets/controls",
            "_model_module_version": "1.5.0",
            "_model_name": "DescriptionStyleModel",
            "_view_count": null,
            "_view_module": "@jupyter-widgets/base",
            "_view_module_version": "1.2.0",
            "_view_name": "StyleView",
            "description_width": ""
          }
        },
        "526c1e71264746f28cc13038716e74a3": {
          "model_module": "@jupyter-widgets/base",
          "model_name": "LayoutModel",
          "model_module_version": "1.2.0",
          "state": {
            "_model_module": "@jupyter-widgets/base",
            "_model_module_version": "1.2.0",
            "_model_name": "LayoutModel",
            "_view_count": null,
            "_view_module": "@jupyter-widgets/base",
            "_view_module_version": "1.2.0",
            "_view_name": "LayoutView",
            "align_content": null,
            "align_items": null,
            "align_self": null,
            "border": null,
            "bottom": null,
            "display": null,
            "flex": null,
            "flex_flow": null,
            "grid_area": null,
            "grid_auto_columns": null,
            "grid_auto_flow": null,
            "grid_auto_rows": null,
            "grid_column": null,
            "grid_gap": null,
            "grid_row": null,
            "grid_template_areas": null,
            "grid_template_columns": null,
            "grid_template_rows": null,
            "height": null,
            "justify_content": null,
            "justify_items": null,
            "left": null,
            "margin": null,
            "max_height": null,
            "max_width": null,
            "min_height": null,
            "min_width": null,
            "object_fit": null,
            "object_position": null,
            "order": null,
            "overflow": null,
            "overflow_x": null,
            "overflow_y": null,
            "padding": null,
            "right": null,
            "top": null,
            "visibility": null,
            "width": null
          }
        },
        "2db1c132405b4639a7fd70a534845843": {
          "model_module": "@jupyter-widgets/controls",
          "model_name": "ProgressStyleModel",
          "model_module_version": "1.5.0",
          "state": {
            "_model_module": "@jupyter-widgets/controls",
            "_model_module_version": "1.5.0",
            "_model_name": "ProgressStyleModel",
            "_view_count": null,
            "_view_module": "@jupyter-widgets/base",
            "_view_module_version": "1.2.0",
            "_view_name": "StyleView",
            "bar_color": null,
            "description_width": ""
          }
        },
        "02ecde9d319a414db85a6b7b489af7f2": {
          "model_module": "@jupyter-widgets/base",
          "model_name": "LayoutModel",
          "model_module_version": "1.2.0",
          "state": {
            "_model_module": "@jupyter-widgets/base",
            "_model_module_version": "1.2.0",
            "_model_name": "LayoutModel",
            "_view_count": null,
            "_view_module": "@jupyter-widgets/base",
            "_view_module_version": "1.2.0",
            "_view_name": "LayoutView",
            "align_content": null,
            "align_items": null,
            "align_self": null,
            "border": null,
            "bottom": null,
            "display": null,
            "flex": null,
            "flex_flow": null,
            "grid_area": null,
            "grid_auto_columns": null,
            "grid_auto_flow": null,
            "grid_auto_rows": null,
            "grid_column": null,
            "grid_gap": null,
            "grid_row": null,
            "grid_template_areas": null,
            "grid_template_columns": null,
            "grid_template_rows": null,
            "height": null,
            "justify_content": null,
            "justify_items": null,
            "left": null,
            "margin": null,
            "max_height": null,
            "max_width": null,
            "min_height": null,
            "min_width": null,
            "object_fit": null,
            "object_position": null,
            "order": null,
            "overflow": null,
            "overflow_x": null,
            "overflow_y": null,
            "padding": null,
            "right": null,
            "top": null,
            "visibility": null,
            "width": null
          }
        },
        "1cf3b9a2e04940fbb3cedaccc8b2efa4": {
          "model_module": "@jupyter-widgets/controls",
          "model_name": "DescriptionStyleModel",
          "model_module_version": "1.5.0",
          "state": {
            "_model_module": "@jupyter-widgets/controls",
            "_model_module_version": "1.5.0",
            "_model_name": "DescriptionStyleModel",
            "_view_count": null,
            "_view_module": "@jupyter-widgets/base",
            "_view_module_version": "1.2.0",
            "_view_name": "StyleView",
            "description_width": ""
          }
        },
        "211486b1fd664628b36faee4881ca710": {
          "model_module": "@jupyter-widgets/controls",
          "model_name": "HBoxModel",
          "model_module_version": "1.5.0",
          "state": {
            "_dom_classes": [],
            "_model_module": "@jupyter-widgets/controls",
            "_model_module_version": "1.5.0",
            "_model_name": "HBoxModel",
            "_view_count": null,
            "_view_module": "@jupyter-widgets/controls",
            "_view_module_version": "1.5.0",
            "_view_name": "HBoxView",
            "box_style": "",
            "children": [
              "IPY_MODEL_9022bb7e3b6044879815ad242d1fb43a",
              "IPY_MODEL_20710ddbabd74738aa05398ce402453b",
              "IPY_MODEL_f88d113943d942eaa669155105547a9b"
            ],
            "layout": "IPY_MODEL_4942355a0eed4e8092c76b70a0b51b14"
          }
        },
        "9022bb7e3b6044879815ad242d1fb43a": {
          "model_module": "@jupyter-widgets/controls",
          "model_name": "HTMLModel",
          "model_module_version": "1.5.0",
          "state": {
            "_dom_classes": [],
            "_model_module": "@jupyter-widgets/controls",
            "_model_module_version": "1.5.0",
            "_model_name": "HTMLModel",
            "_view_count": null,
            "_view_module": "@jupyter-widgets/controls",
            "_view_module_version": "1.5.0",
            "_view_name": "HTMLView",
            "description": "",
            "description_tooltip": null,
            "layout": "IPY_MODEL_89ffa17cbe8f4a439bc9decb559acf7d",
            "placeholder": "​",
            "style": "IPY_MODEL_b9b3775baa6844b9b6ce8835a70dd181",
            "value": "Downloading pytorch_model.bin: 100%"
          }
        },
        "20710ddbabd74738aa05398ce402453b": {
          "model_module": "@jupyter-widgets/controls",
          "model_name": "FloatProgressModel",
          "model_module_version": "1.5.0",
          "state": {
            "_dom_classes": [],
            "_model_module": "@jupyter-widgets/controls",
            "_model_module_version": "1.5.0",
            "_model_name": "FloatProgressModel",
            "_view_count": null,
            "_view_module": "@jupyter-widgets/controls",
            "_view_module_version": "1.5.0",
            "_view_name": "ProgressView",
            "bar_style": "success",
            "description": "",
            "description_tooltip": null,
            "layout": "IPY_MODEL_086a153e19f34d3983ce95bf91b587cf",
            "max": 654186735,
            "min": 0,
            "orientation": "horizontal",
            "style": "IPY_MODEL_32ee49bb0c8c4a9f90a041349c956911",
            "value": 654186735
          }
        },
        "f88d113943d942eaa669155105547a9b": {
          "model_module": "@jupyter-widgets/controls",
          "model_name": "HTMLModel",
          "model_module_version": "1.5.0",
          "state": {
            "_dom_classes": [],
            "_model_module": "@jupyter-widgets/controls",
            "_model_module_version": "1.5.0",
            "_model_name": "HTMLModel",
            "_view_count": null,
            "_view_module": "@jupyter-widgets/controls",
            "_view_module_version": "1.5.0",
            "_view_name": "HTMLView",
            "description": "",
            "description_tooltip": null,
            "layout": "IPY_MODEL_2d31f80f033b48ce8ef7893b8185b96e",
            "placeholder": "​",
            "style": "IPY_MODEL_7b243d269ebe4f778e696ddb65a021c2",
            "value": " 624M/624M [00:13&lt;00:00, 45.6MB/s]"
          }
        },
        "4942355a0eed4e8092c76b70a0b51b14": {
          "model_module": "@jupyter-widgets/base",
          "model_name": "LayoutModel",
          "model_module_version": "1.2.0",
          "state": {
            "_model_module": "@jupyter-widgets/base",
            "_model_module_version": "1.2.0",
            "_model_name": "LayoutModel",
            "_view_count": null,
            "_view_module": "@jupyter-widgets/base",
            "_view_module_version": "1.2.0",
            "_view_name": "LayoutView",
            "align_content": null,
            "align_items": null,
            "align_self": null,
            "border": null,
            "bottom": null,
            "display": null,
            "flex": null,
            "flex_flow": null,
            "grid_area": null,
            "grid_auto_columns": null,
            "grid_auto_flow": null,
            "grid_auto_rows": null,
            "grid_column": null,
            "grid_gap": null,
            "grid_row": null,
            "grid_template_areas": null,
            "grid_template_columns": null,
            "grid_template_rows": null,
            "height": null,
            "justify_content": null,
            "justify_items": null,
            "left": null,
            "margin": null,
            "max_height": null,
            "max_width": null,
            "min_height": null,
            "min_width": null,
            "object_fit": null,
            "object_position": null,
            "order": null,
            "overflow": null,
            "overflow_x": null,
            "overflow_y": null,
            "padding": null,
            "right": null,
            "top": null,
            "visibility": null,
            "width": null
          }
        },
        "89ffa17cbe8f4a439bc9decb559acf7d": {
          "model_module": "@jupyter-widgets/base",
          "model_name": "LayoutModel",
          "model_module_version": "1.2.0",
          "state": {
            "_model_module": "@jupyter-widgets/base",
            "_model_module_version": "1.2.0",
            "_model_name": "LayoutModel",
            "_view_count": null,
            "_view_module": "@jupyter-widgets/base",
            "_view_module_version": "1.2.0",
            "_view_name": "LayoutView",
            "align_content": null,
            "align_items": null,
            "align_self": null,
            "border": null,
            "bottom": null,
            "display": null,
            "flex": null,
            "flex_flow": null,
            "grid_area": null,
            "grid_auto_columns": null,
            "grid_auto_flow": null,
            "grid_auto_rows": null,
            "grid_column": null,
            "grid_gap": null,
            "grid_row": null,
            "grid_template_areas": null,
            "grid_template_columns": null,
            "grid_template_rows": null,
            "height": null,
            "justify_content": null,
            "justify_items": null,
            "left": null,
            "margin": null,
            "max_height": null,
            "max_width": null,
            "min_height": null,
            "min_width": null,
            "object_fit": null,
            "object_position": null,
            "order": null,
            "overflow": null,
            "overflow_x": null,
            "overflow_y": null,
            "padding": null,
            "right": null,
            "top": null,
            "visibility": null,
            "width": null
          }
        },
        "b9b3775baa6844b9b6ce8835a70dd181": {
          "model_module": "@jupyter-widgets/controls",
          "model_name": "DescriptionStyleModel",
          "model_module_version": "1.5.0",
          "state": {
            "_model_module": "@jupyter-widgets/controls",
            "_model_module_version": "1.5.0",
            "_model_name": "DescriptionStyleModel",
            "_view_count": null,
            "_view_module": "@jupyter-widgets/base",
            "_view_module_version": "1.2.0",
            "_view_name": "StyleView",
            "description_width": ""
          }
        },
        "086a153e19f34d3983ce95bf91b587cf": {
          "model_module": "@jupyter-widgets/base",
          "model_name": "LayoutModel",
          "model_module_version": "1.2.0",
          "state": {
            "_model_module": "@jupyter-widgets/base",
            "_model_module_version": "1.2.0",
            "_model_name": "LayoutModel",
            "_view_count": null,
            "_view_module": "@jupyter-widgets/base",
            "_view_module_version": "1.2.0",
            "_view_name": "LayoutView",
            "align_content": null,
            "align_items": null,
            "align_self": null,
            "border": null,
            "bottom": null,
            "display": null,
            "flex": null,
            "flex_flow": null,
            "grid_area": null,
            "grid_auto_columns": null,
            "grid_auto_flow": null,
            "grid_auto_rows": null,
            "grid_column": null,
            "grid_gap": null,
            "grid_row": null,
            "grid_template_areas": null,
            "grid_template_columns": null,
            "grid_template_rows": null,
            "height": null,
            "justify_content": null,
            "justify_items": null,
            "left": null,
            "margin": null,
            "max_height": null,
            "max_width": null,
            "min_height": null,
            "min_width": null,
            "object_fit": null,
            "object_position": null,
            "order": null,
            "overflow": null,
            "overflow_x": null,
            "overflow_y": null,
            "padding": null,
            "right": null,
            "top": null,
            "visibility": null,
            "width": null
          }
        },
        "32ee49bb0c8c4a9f90a041349c956911": {
          "model_module": "@jupyter-widgets/controls",
          "model_name": "ProgressStyleModel",
          "model_module_version": "1.5.0",
          "state": {
            "_model_module": "@jupyter-widgets/controls",
            "_model_module_version": "1.5.0",
            "_model_name": "ProgressStyleModel",
            "_view_count": null,
            "_view_module": "@jupyter-widgets/base",
            "_view_module_version": "1.2.0",
            "_view_name": "StyleView",
            "bar_color": null,
            "description_width": ""
          }
        },
        "2d31f80f033b48ce8ef7893b8185b96e": {
          "model_module": "@jupyter-widgets/base",
          "model_name": "LayoutModel",
          "model_module_version": "1.2.0",
          "state": {
            "_model_module": "@jupyter-widgets/base",
            "_model_module_version": "1.2.0",
            "_model_name": "LayoutModel",
            "_view_count": null,
            "_view_module": "@jupyter-widgets/base",
            "_view_module_version": "1.2.0",
            "_view_name": "LayoutView",
            "align_content": null,
            "align_items": null,
            "align_self": null,
            "border": null,
            "bottom": null,
            "display": null,
            "flex": null,
            "flex_flow": null,
            "grid_area": null,
            "grid_auto_columns": null,
            "grid_auto_flow": null,
            "grid_auto_rows": null,
            "grid_column": null,
            "grid_gap": null,
            "grid_row": null,
            "grid_template_areas": null,
            "grid_template_columns": null,
            "grid_template_rows": null,
            "height": null,
            "justify_content": null,
            "justify_items": null,
            "left": null,
            "margin": null,
            "max_height": null,
            "max_width": null,
            "min_height": null,
            "min_width": null,
            "object_fit": null,
            "object_position": null,
            "order": null,
            "overflow": null,
            "overflow_x": null,
            "overflow_y": null,
            "padding": null,
            "right": null,
            "top": null,
            "visibility": null,
            "width": null
          }
        },
        "7b243d269ebe4f778e696ddb65a021c2": {
          "model_module": "@jupyter-widgets/controls",
          "model_name": "DescriptionStyleModel",
          "model_module_version": "1.5.0",
          "state": {
            "_model_module": "@jupyter-widgets/controls",
            "_model_module_version": "1.5.0",
            "_model_name": "DescriptionStyleModel",
            "_view_count": null,
            "_view_module": "@jupyter-widgets/base",
            "_view_module_version": "1.2.0",
            "_view_name": "StyleView",
            "description_width": ""
          }
        },
        "3577c2b39be44621a01eef3fe476c5c8": {
          "model_module": "@jupyter-widgets/controls",
          "model_name": "HBoxModel",
          "model_module_version": "1.5.0",
          "state": {
            "_dom_classes": [],
            "_model_module": "@jupyter-widgets/controls",
            "_model_module_version": "1.5.0",
            "_model_name": "HBoxModel",
            "_view_count": null,
            "_view_module": "@jupyter-widgets/controls",
            "_view_module_version": "1.5.0",
            "_view_name": "HBoxView",
            "box_style": "",
            "children": [
              "IPY_MODEL_7c8de654adc040afacb1abcc0aaa3e44",
              "IPY_MODEL_4e7981de0f234bda8fd18b2a8042ad66",
              "IPY_MODEL_fe257164f64b4238bddec77d8ae7fbd6"
            ],
            "layout": "IPY_MODEL_241bdf452e75477c968418637a4ce885"
          }
        },
        "7c8de654adc040afacb1abcc0aaa3e44": {
          "model_module": "@jupyter-widgets/controls",
          "model_name": "HTMLModel",
          "model_module_version": "1.5.0",
          "state": {
            "_dom_classes": [],
            "_model_module": "@jupyter-widgets/controls",
            "_model_module_version": "1.5.0",
            "_model_name": "HTMLModel",
            "_view_count": null,
            "_view_module": "@jupyter-widgets/controls",
            "_view_module_version": "1.5.0",
            "_view_name": "HTMLView",
            "description": "",
            "description_tooltip": null,
            "layout": "IPY_MODEL_673d75381ad64a6fbc8e4cb07ac919e4",
            "placeholder": "​",
            "style": "IPY_MODEL_bb875dad783b47249205a505e6cc0cd0",
            "value": "Downloading builder script: "
          }
        },
        "4e7981de0f234bda8fd18b2a8042ad66": {
          "model_module": "@jupyter-widgets/controls",
          "model_name": "FloatProgressModel",
          "model_module_version": "1.5.0",
          "state": {
            "_dom_classes": [],
            "_model_module": "@jupyter-widgets/controls",
            "_model_module_version": "1.5.0",
            "_model_name": "FloatProgressModel",
            "_view_count": null,
            "_view_module": "@jupyter-widgets/controls",
            "_view_module_version": "1.5.0",
            "_view_name": "ProgressView",
            "bar_style": "success",
            "description": "",
            "description_tooltip": null,
            "layout": "IPY_MODEL_f676c800c3734b5da54e671378844b47",
            "max": 2472,
            "min": 0,
            "orientation": "horizontal",
            "style": "IPY_MODEL_4521ce50e1114444ab0e33e8cffe1f15",
            "value": 2472
          }
        },
        "fe257164f64b4238bddec77d8ae7fbd6": {
          "model_module": "@jupyter-widgets/controls",
          "model_name": "HTMLModel",
          "model_module_version": "1.5.0",
          "state": {
            "_dom_classes": [],
            "_model_module": "@jupyter-widgets/controls",
            "_model_module_version": "1.5.0",
            "_model_name": "HTMLModel",
            "_view_count": null,
            "_view_module": "@jupyter-widgets/controls",
            "_view_module_version": "1.5.0",
            "_view_name": "HTMLView",
            "description": "",
            "description_tooltip": null,
            "layout": "IPY_MODEL_a00732aafac6496a888c207829f00708",
            "placeholder": "​",
            "style": "IPY_MODEL_5890bdff7f9d4bd7b4217f1e2b23eafa",
            "value": " 6.33k/? [00:00&lt;00:00, 134kB/s]"
          }
        },
        "241bdf452e75477c968418637a4ce885": {
          "model_module": "@jupyter-widgets/base",
          "model_name": "LayoutModel",
          "model_module_version": "1.2.0",
          "state": {
            "_model_module": "@jupyter-widgets/base",
            "_model_module_version": "1.2.0",
            "_model_name": "LayoutModel",
            "_view_count": null,
            "_view_module": "@jupyter-widgets/base",
            "_view_module_version": "1.2.0",
            "_view_name": "LayoutView",
            "align_content": null,
            "align_items": null,
            "align_self": null,
            "border": null,
            "bottom": null,
            "display": null,
            "flex": null,
            "flex_flow": null,
            "grid_area": null,
            "grid_auto_columns": null,
            "grid_auto_flow": null,
            "grid_auto_rows": null,
            "grid_column": null,
            "grid_gap": null,
            "grid_row": null,
            "grid_template_areas": null,
            "grid_template_columns": null,
            "grid_template_rows": null,
            "height": null,
            "justify_content": null,
            "justify_items": null,
            "left": null,
            "margin": null,
            "max_height": null,
            "max_width": null,
            "min_height": null,
            "min_width": null,
            "object_fit": null,
            "object_position": null,
            "order": null,
            "overflow": null,
            "overflow_x": null,
            "overflow_y": null,
            "padding": null,
            "right": null,
            "top": null,
            "visibility": null,
            "width": null
          }
        },
        "673d75381ad64a6fbc8e4cb07ac919e4": {
          "model_module": "@jupyter-widgets/base",
          "model_name": "LayoutModel",
          "model_module_version": "1.2.0",
          "state": {
            "_model_module": "@jupyter-widgets/base",
            "_model_module_version": "1.2.0",
            "_model_name": "LayoutModel",
            "_view_count": null,
            "_view_module": "@jupyter-widgets/base",
            "_view_module_version": "1.2.0",
            "_view_name": "LayoutView",
            "align_content": null,
            "align_items": null,
            "align_self": null,
            "border": null,
            "bottom": null,
            "display": null,
            "flex": null,
            "flex_flow": null,
            "grid_area": null,
            "grid_auto_columns": null,
            "grid_auto_flow": null,
            "grid_auto_rows": null,
            "grid_column": null,
            "grid_gap": null,
            "grid_row": null,
            "grid_template_areas": null,
            "grid_template_columns": null,
            "grid_template_rows": null,
            "height": null,
            "justify_content": null,
            "justify_items": null,
            "left": null,
            "margin": null,
            "max_height": null,
            "max_width": null,
            "min_height": null,
            "min_width": null,
            "object_fit": null,
            "object_position": null,
            "order": null,
            "overflow": null,
            "overflow_x": null,
            "overflow_y": null,
            "padding": null,
            "right": null,
            "top": null,
            "visibility": null,
            "width": null
          }
        },
        "bb875dad783b47249205a505e6cc0cd0": {
          "model_module": "@jupyter-widgets/controls",
          "model_name": "DescriptionStyleModel",
          "model_module_version": "1.5.0",
          "state": {
            "_model_module": "@jupyter-widgets/controls",
            "_model_module_version": "1.5.0",
            "_model_name": "DescriptionStyleModel",
            "_view_count": null,
            "_view_module": "@jupyter-widgets/base",
            "_view_module_version": "1.2.0",
            "_view_name": "StyleView",
            "description_width": ""
          }
        },
        "f676c800c3734b5da54e671378844b47": {
          "model_module": "@jupyter-widgets/base",
          "model_name": "LayoutModel",
          "model_module_version": "1.2.0",
          "state": {
            "_model_module": "@jupyter-widgets/base",
            "_model_module_version": "1.2.0",
            "_model_name": "LayoutModel",
            "_view_count": null,
            "_view_module": "@jupyter-widgets/base",
            "_view_module_version": "1.2.0",
            "_view_name": "LayoutView",
            "align_content": null,
            "align_items": null,
            "align_self": null,
            "border": null,
            "bottom": null,
            "display": null,
            "flex": null,
            "flex_flow": null,
            "grid_area": null,
            "grid_auto_columns": null,
            "grid_auto_flow": null,
            "grid_auto_rows": null,
            "grid_column": null,
            "grid_gap": null,
            "grid_row": null,
            "grid_template_areas": null,
            "grid_template_columns": null,
            "grid_template_rows": null,
            "height": null,
            "justify_content": null,
            "justify_items": null,
            "left": null,
            "margin": null,
            "max_height": null,
            "max_width": null,
            "min_height": null,
            "min_width": null,
            "object_fit": null,
            "object_position": null,
            "order": null,
            "overflow": null,
            "overflow_x": null,
            "overflow_y": null,
            "padding": null,
            "right": null,
            "top": null,
            "visibility": null,
            "width": null
          }
        },
        "4521ce50e1114444ab0e33e8cffe1f15": {
          "model_module": "@jupyter-widgets/controls",
          "model_name": "ProgressStyleModel",
          "model_module_version": "1.5.0",
          "state": {
            "_model_module": "@jupyter-widgets/controls",
            "_model_module_version": "1.5.0",
            "_model_name": "ProgressStyleModel",
            "_view_count": null,
            "_view_module": "@jupyter-widgets/base",
            "_view_module_version": "1.2.0",
            "_view_name": "StyleView",
            "bar_color": null,
            "description_width": ""
          }
        },
        "a00732aafac6496a888c207829f00708": {
          "model_module": "@jupyter-widgets/base",
          "model_name": "LayoutModel",
          "model_module_version": "1.2.0",
          "state": {
            "_model_module": "@jupyter-widgets/base",
            "_model_module_version": "1.2.0",
            "_model_name": "LayoutModel",
            "_view_count": null,
            "_view_module": "@jupyter-widgets/base",
            "_view_module_version": "1.2.0",
            "_view_name": "LayoutView",
            "align_content": null,
            "align_items": null,
            "align_self": null,
            "border": null,
            "bottom": null,
            "display": null,
            "flex": null,
            "flex_flow": null,
            "grid_area": null,
            "grid_auto_columns": null,
            "grid_auto_flow": null,
            "grid_auto_rows": null,
            "grid_column": null,
            "grid_gap": null,
            "grid_row": null,
            "grid_template_areas": null,
            "grid_template_columns": null,
            "grid_template_rows": null,
            "height": null,
            "justify_content": null,
            "justify_items": null,
            "left": null,
            "margin": null,
            "max_height": null,
            "max_width": null,
            "min_height": null,
            "min_width": null,
            "object_fit": null,
            "object_position": null,
            "order": null,
            "overflow": null,
            "overflow_x": null,
            "overflow_y": null,
            "padding": null,
            "right": null,
            "top": null,
            "visibility": null,
            "width": null
          }
        },
        "5890bdff7f9d4bd7b4217f1e2b23eafa": {
          "model_module": "@jupyter-widgets/controls",
          "model_name": "DescriptionStyleModel",
          "model_module_version": "1.5.0",
          "state": {
            "_model_module": "@jupyter-widgets/controls",
            "_model_module_version": "1.5.0",
            "_model_name": "DescriptionStyleModel",
            "_view_count": null,
            "_view_module": "@jupyter-widgets/base",
            "_view_module_version": "1.2.0",
            "_view_name": "StyleView",
            "description_width": ""
          }
        }
      }
    },
    "accelerator": "GPU"
  },
  "cells": [
    {
      "cell_type": "markdown",
      "metadata": {
        "id": "view-in-github",
        "colab_type": "text"
      },
      "source": [
        "<a href=\"https://colab.research.google.com/github/ZahraDehghani99/AI-Internship/blob/master/HW6/NER_with_Transformers.ipynb\" target=\"_parent\"><img src=\"https://colab.research.google.com/assets/colab-badge.svg\" alt=\"Open In Colab\"/></a>"
      ]
    },
    {
      "cell_type": "markdown",
      "source": [
        "# Home Work6 - Named Entity Recognition using Transformers"
      ],
      "metadata": {
        "id": "6MSTE-m6awky"
      }
    },
    {
      "cell_type": "markdown",
      "source": [
        "Named Entity Recognition using ParsBERT and Multiligual modles\n"
      ],
      "metadata": {
        "id": "po5p8wrpa_F2"
      }
    },
    {
      "cell_type": "code",
      "source": [
        "!pip install datasets -q\n",
        "!pip install tokenizers -q\n",
        "!pip install transformers -q\n",
        "!pip install seqeval -q"
      ],
      "metadata": {
        "colab": {
          "base_uri": "https://localhost:8080/"
        },
        "id": "WXN7glAl-KVW",
        "outputId": "5be86618-3f6a-4bb5-8f41-19ded78eac12"
      },
      "execution_count": 1,
      "outputs": [
        {
          "output_type": "stream",
          "name": "stdout",
          "text": [
            "\u001b[K     |████████████████████████████████| 365 kB 35.3 MB/s \n",
            "\u001b[K     |████████████████████████████████| 141 kB 54.9 MB/s \n",
            "\u001b[K     |████████████████████████████████| 115 kB 40.8 MB/s \n",
            "\u001b[K     |████████████████████████████████| 212 kB 65.6 MB/s \n",
            "\u001b[K     |████████████████████████████████| 101 kB 10.5 MB/s \n",
            "\u001b[K     |████████████████████████████████| 596 kB 50.8 MB/s \n",
            "\u001b[K     |████████████████████████████████| 127 kB 28.3 MB/s \n",
            "\u001b[K     |████████████████████████████████| 6.6 MB 28.5 MB/s \n",
            "\u001b[K     |████████████████████████████████| 4.7 MB 17.7 MB/s \n",
            "\u001b[K     |████████████████████████████████| 43 kB 60 kB/s \n",
            "\u001b[?25h  Building wheel for seqeval (setup.py) ... \u001b[?25l\u001b[?25hdone\n"
          ]
        }
      ]
    },
    {
      "cell_type": "code",
      "source": [
        "import pandas as pd\n",
        "import numpy as np\n",
        "import pickle\n",
        "\n",
        "import matplotlib.pyplot as plt\n",
        "import seaborn as sns\n",
        "\n",
        "from sklearn.metrics import classification_report\n",
        "from sklearn.metrics import accuracy_score\n",
        "from sklearn import metrics\n",
        "\n",
        "import warnings\n",
        "warnings.filterwarnings('ignore')"
      ],
      "metadata": {
        "id": "e7hnl4hkNjWx"
      },
      "execution_count": 2,
      "outputs": []
    },
    {
      "cell_type": "code",
      "execution_count": 3,
      "metadata": {
        "colab": {
          "base_uri": "https://localhost:8080/"
        },
        "outputId": "a47b75fc-acb6-4e4b-ad8c-850e9e277a58",
        "id": "PMVijRvyaGK6"
      },
      "outputs": [
        {
          "output_type": "stream",
          "name": "stdout",
          "text": [
            "Mounted at /content/drive\n"
          ]
        }
      ],
      "source": [
        "from google.colab import drive\n",
        "drive.mount('/content/drive')"
      ]
    },
    {
      "cell_type": "code",
      "source": [
        "#check if gpu is present\n",
        "import torch\n",
        "device = torch.device('cuda') if torch.cuda.is_available() else torch.device('cpu')\n",
        "device"
      ],
      "metadata": {
        "colab": {
          "base_uri": "https://localhost:8080/"
        },
        "id": "g928uQNyWQFD",
        "outputId": "b757a4b0-d37b-45c1-d68e-b649a4fbd32d"
      },
      "execution_count": null,
      "outputs": [
        {
          "output_type": "execute_result",
          "data": {
            "text/plain": [
              "device(type='cuda')"
            ]
          },
          "metadata": {},
          "execution_count": 38
        }
      ]
    },
    {
      "cell_type": "code",
      "source": [
        "!nvidia-smi"
      ],
      "metadata": {
        "id": "Vpndc2Wsaa1f"
      },
      "execution_count": null,
      "outputs": []
    },
    {
      "cell_type": "code",
      "source": [
        "base_path = \"/content/drive/MyDrive/HW6/\""
      ],
      "metadata": {
        "id": "LY0CYuqIafLH"
      },
      "execution_count": 4,
      "outputs": []
    },
    {
      "cell_type": "markdown",
      "source": [
        "## Read data and Data preprocessing"
      ],
      "metadata": {
        "id": "OIqPIXzeRyUN"
      }
    },
    {
      "cell_type": "markdown",
      "source": [
        "### Define functions"
      ],
      "metadata": {
        "id": "HT4qKZlIbrCg"
      }
    },
    {
      "cell_type": "markdown",
      "source": [
        "Let's define some helper functions."
      ],
      "metadata": {
        "id": "jnPE023_blvF"
      }
    },
    {
      "cell_type": "markdown",
      "source": [
        "#### Define function to convert text file to dataframe"
      ],
      "metadata": {
        "id": "LQpwCCn7-mcS"
      }
    },
    {
      "cell_type": "markdown",
      "source": [
        "In this section we want to convert text file to the dataframe in order to do label encoder."
      ],
      "metadata": {
        "id": "5_y2oAeuTuPc"
      }
    },
    {
      "cell_type": "code",
      "source": [
        "def convert_file2df(file_name):\n",
        "\n",
        "  with open(base_path + file_name ,'r') as f:\n",
        "      lines = f.read().splitlines()\n",
        "\n",
        "  words, tags = [], []\n",
        "  for i in range(len(lines)):\n",
        "    try : \n",
        "      x, y = lines[i].split(\" \")\n",
        "      words.append(x)\n",
        "      tags.append(y)\n",
        "    except ValueError: # if we have empty line\n",
        "      pass\n",
        "\n",
        "  data = {'tokens': words, 'tags': tags}  \n",
        "  df = pd.DataFrame(data)\n",
        "  output_file_name = file_name.split(\".\")[0] \n",
        "  df.to_csv(base_path + output_file_name + \"_dataframe\", index=False)\n",
        "  return df  "
      ],
      "metadata": {
        "id": "9sW7rxQLrK_p"
      },
      "execution_count": null,
      "outputs": []
    },
    {
      "cell_type": "markdown",
      "source": [
        "#### Define function to convert text file to dictionary "
      ],
      "metadata": {
        "id": "cSjRkKQub1q7"
      }
    },
    {
      "cell_type": "code",
      "source": [
        "def convert_txt2dict(file_name):\n",
        "  \n",
        "  '''\n",
        "  This function read input file and then convert in to the dictionary.\n",
        "  Producted dictionary have two keys (tokens and tags) :\n",
        "  tokens contain tokens of each sentence and tags contain tags of each sentence.\n",
        "  '''\n",
        "  with open(base_path + file_name ,'r') as f:\n",
        "      lines = f.read().splitlines()\n",
        "\n",
        "  #because after each sentence we have blank line, we should append blank\n",
        "  #line at the end of the last sentence in the file    \n",
        "  lines.append(\"\") \n",
        "\n",
        "  words, tags = [], []\n",
        "  words_line, tags_lines = [], []\n",
        "  for i in range(len(lines)):\n",
        "    try : \n",
        "        x, y = lines[i].split(\" \")\n",
        "        words_line.append(x)\n",
        "        tags_lines.append(y)\n",
        "    except ValueError: # if we have empty line\n",
        "        words.append(words_line)\n",
        "        tags.append(tags_lines)\n",
        "        words_line, tags_lines= [], []\n",
        "\n",
        "  data = {'tokens': words, 'ner_tags': tags}   \n",
        "  output_file_name = file_name.split(\".\")[0]    \n",
        "  output_file = open(base_path + output_file_name + \".pkl\", 'wb')\n",
        "  pickle.dump(data, output_file)\n",
        "  output_file.close()  \n"
      ],
      "metadata": {
        "id": "p3qemqh7gIJk"
      },
      "execution_count": null,
      "outputs": []
    },
    {
      "cell_type": "markdown",
      "source": [
        "#### Define function to save and load pkl files"
      ],
      "metadata": {
        "id": "NZN-_5qYcByB"
      }
    },
    {
      "cell_type": "code",
      "source": [
        "def save_dict_in_pkl(dict_name, output_file_name):\n",
        "  output_file = open(base_path +  output_file_name, 'wb')\n",
        "  pickle.dump(dict_name, output_file)\n",
        "  output_file.close() \n",
        "\n",
        "def load_pkl(file_name):\n",
        "  with open(base_path + file_name,'rb') as f:\n",
        "      file = pickle.load(f)\n",
        "  return file    "
      ],
      "metadata": {
        "id": "xWtiZc2PeFEd"
      },
      "execution_count": null,
      "outputs": []
    },
    {
      "cell_type": "code",
      "source": [
        "train_data = convert_file2df(\"Train.txt\")\n",
        "test_data = convert_file2df(\"Test.txt\")"
      ],
      "metadata": {
        "id": "dE_o9PbsqALU"
      },
      "execution_count": null,
      "outputs": []
    },
    {
      "cell_type": "code",
      "source": [
        "train_data.head()"
      ],
      "metadata": {
        "colab": {
          "base_uri": "https://localhost:8080/",
          "height": 206
        },
        "id": "5f3kFr0ZOXVC",
        "outputId": "2671f515-8cf8-4860-c29c-017b64527e24"
      },
      "execution_count": null,
      "outputs": [
        {
          "output_type": "execute_result",
          "data": {
            "text/plain": [
              "   tokens  tags\n",
              "0  ميشوند     V\n",
              "1       .  DELM\n",
              "2  نتيجهي     N\n",
              "3     بحث     N\n",
              "4    بالا   ADJ"
            ],
            "text/html": [
              "\n",
              "  <div id=\"df-1c02e5cb-989e-48d0-a67f-4a0275575ce9\">\n",
              "    <div class=\"colab-df-container\">\n",
              "      <div>\n",
              "<style scoped>\n",
              "    .dataframe tbody tr th:only-of-type {\n",
              "        vertical-align: middle;\n",
              "    }\n",
              "\n",
              "    .dataframe tbody tr th {\n",
              "        vertical-align: top;\n",
              "    }\n",
              "\n",
              "    .dataframe thead th {\n",
              "        text-align: right;\n",
              "    }\n",
              "</style>\n",
              "<table border=\"1\" class=\"dataframe\">\n",
              "  <thead>\n",
              "    <tr style=\"text-align: right;\">\n",
              "      <th></th>\n",
              "      <th>tokens</th>\n",
              "      <th>tags</th>\n",
              "    </tr>\n",
              "  </thead>\n",
              "  <tbody>\n",
              "    <tr>\n",
              "      <th>0</th>\n",
              "      <td>ميشوند</td>\n",
              "      <td>V</td>\n",
              "    </tr>\n",
              "    <tr>\n",
              "      <th>1</th>\n",
              "      <td>.</td>\n",
              "      <td>DELM</td>\n",
              "    </tr>\n",
              "    <tr>\n",
              "      <th>2</th>\n",
              "      <td>نتيجهي</td>\n",
              "      <td>N</td>\n",
              "    </tr>\n",
              "    <tr>\n",
              "      <th>3</th>\n",
              "      <td>بحث</td>\n",
              "      <td>N</td>\n",
              "    </tr>\n",
              "    <tr>\n",
              "      <th>4</th>\n",
              "      <td>بالا</td>\n",
              "      <td>ADJ</td>\n",
              "    </tr>\n",
              "  </tbody>\n",
              "</table>\n",
              "</div>\n",
              "      <button class=\"colab-df-convert\" onclick=\"convertToInteractive('df-1c02e5cb-989e-48d0-a67f-4a0275575ce9')\"\n",
              "              title=\"Convert this dataframe to an interactive table.\"\n",
              "              style=\"display:none;\">\n",
              "        \n",
              "  <svg xmlns=\"http://www.w3.org/2000/svg\" height=\"24px\"viewBox=\"0 0 24 24\"\n",
              "       width=\"24px\">\n",
              "    <path d=\"M0 0h24v24H0V0z\" fill=\"none\"/>\n",
              "    <path d=\"M18.56 5.44l.94 2.06.94-2.06 2.06-.94-2.06-.94-.94-2.06-.94 2.06-2.06.94zm-11 1L8.5 8.5l.94-2.06 2.06-.94-2.06-.94L8.5 2.5l-.94 2.06-2.06.94zm10 10l.94 2.06.94-2.06 2.06-.94-2.06-.94-.94-2.06-.94 2.06-2.06.94z\"/><path d=\"M17.41 7.96l-1.37-1.37c-.4-.4-.92-.59-1.43-.59-.52 0-1.04.2-1.43.59L10.3 9.45l-7.72 7.72c-.78.78-.78 2.05 0 2.83L4 21.41c.39.39.9.59 1.41.59.51 0 1.02-.2 1.41-.59l7.78-7.78 2.81-2.81c.8-.78.8-2.07 0-2.86zM5.41 20L4 18.59l7.72-7.72 1.47 1.35L5.41 20z\"/>\n",
              "  </svg>\n",
              "      </button>\n",
              "      \n",
              "  <style>\n",
              "    .colab-df-container {\n",
              "      display:flex;\n",
              "      flex-wrap:wrap;\n",
              "      gap: 12px;\n",
              "    }\n",
              "\n",
              "    .colab-df-convert {\n",
              "      background-color: #E8F0FE;\n",
              "      border: none;\n",
              "      border-radius: 50%;\n",
              "      cursor: pointer;\n",
              "      display: none;\n",
              "      fill: #1967D2;\n",
              "      height: 32px;\n",
              "      padding: 0 0 0 0;\n",
              "      width: 32px;\n",
              "    }\n",
              "\n",
              "    .colab-df-convert:hover {\n",
              "      background-color: #E2EBFA;\n",
              "      box-shadow: 0px 1px 2px rgba(60, 64, 67, 0.3), 0px 1px 3px 1px rgba(60, 64, 67, 0.15);\n",
              "      fill: #174EA6;\n",
              "    }\n",
              "\n",
              "    [theme=dark] .colab-df-convert {\n",
              "      background-color: #3B4455;\n",
              "      fill: #D2E3FC;\n",
              "    }\n",
              "\n",
              "    [theme=dark] .colab-df-convert:hover {\n",
              "      background-color: #434B5C;\n",
              "      box-shadow: 0px 1px 3px 1px rgba(0, 0, 0, 0.15);\n",
              "      filter: drop-shadow(0px 1px 2px rgba(0, 0, 0, 0.3));\n",
              "      fill: #FFFFFF;\n",
              "    }\n",
              "  </style>\n",
              "\n",
              "      <script>\n",
              "        const buttonEl =\n",
              "          document.querySelector('#df-1c02e5cb-989e-48d0-a67f-4a0275575ce9 button.colab-df-convert');\n",
              "        buttonEl.style.display =\n",
              "          google.colab.kernel.accessAllowed ? 'block' : 'none';\n",
              "\n",
              "        async function convertToInteractive(key) {\n",
              "          const element = document.querySelector('#df-1c02e5cb-989e-48d0-a67f-4a0275575ce9');\n",
              "          const dataTable =\n",
              "            await google.colab.kernel.invokeFunction('convertToInteractive',\n",
              "                                                     [key], {});\n",
              "          if (!dataTable) return;\n",
              "\n",
              "          const docLinkHtml = 'Like what you see? Visit the ' +\n",
              "            '<a target=\"_blank\" href=https://colab.research.google.com/notebooks/data_table.ipynb>data table notebook</a>'\n",
              "            + ' to learn more about interactive tables.';\n",
              "          element.innerHTML = '';\n",
              "          dataTable['output_type'] = 'display_data';\n",
              "          await google.colab.output.renderOutput(dataTable, element);\n",
              "          const docLink = document.createElement('div');\n",
              "          docLink.innerHTML = docLinkHtml;\n",
              "          element.appendChild(docLink);\n",
              "        }\n",
              "      </script>\n",
              "    </div>\n",
              "  </div>\n",
              "  "
            ]
          },
          "metadata": {},
          "execution_count": 18
        }
      ]
    },
    {
      "cell_type": "code",
      "source": [
        "print(f'train_data shape : {train_data.shape}')"
      ],
      "metadata": {
        "colab": {
          "base_uri": "https://localhost:8080/"
        },
        "id": "E-G6AfF-z2X8",
        "outputId": "84df4747-4410-4b49-9293-5d1a9a09e113"
      },
      "execution_count": null,
      "outputs": [
        {
          "output_type": "stream",
          "name": "stdout",
          "text": [
            "train_data shape : (259794, 2)\n"
          ]
        }
      ]
    },
    {
      "cell_type": "code",
      "source": [
        "train_data.tags.value_counts()"
      ],
      "metadata": {
        "colab": {
          "base_uri": "https://localhost:8080/"
        },
        "id": "wouZv0q2O8IV",
        "outputId": "7af47dce-db48-461a-9019-8c469ad7678f"
      },
      "execution_count": null,
      "outputs": [
        {
          "output_type": "execute_result",
          "data": {
            "text/plain": [
              "N          109310\n",
              "P           32580\n",
              "ADJ         29832\n",
              "DELM        25844\n",
              "V           22327\n",
              "CON         22094\n",
              "PRO          5714\n",
              "DET          4130\n",
              "ADV          3646\n",
              "QUA          1820\n",
              "AR           1175\n",
              "IF            396\n",
              "SPEC          350\n",
              "MS            198\n",
              "MORP          132\n",
              "PP             85\n",
              "MQUA           81\n",
              "PS             31\n",
              "DEFAULT        20\n",
              "OH             12\n",
              "NP             10\n",
              "OHH             5\n",
              "INT             2\n",
              "Name: tags, dtype: int64"
            ]
          },
          "metadata": {},
          "execution_count": 20
        }
      ]
    },
    {
      "cell_type": "code",
      "source": [
        "train_tags = [tag for tag, count in train_data.tags.value_counts().items()]\n",
        "print(f'len train tags : {len(train_tags)}')"
      ],
      "metadata": {
        "colab": {
          "base_uri": "https://localhost:8080/"
        },
        "id": "15zyhJ5-PFid",
        "outputId": "46a1f162-cd8e-4e7f-a12f-98d1781e157c"
      },
      "execution_count": null,
      "outputs": [
        {
          "output_type": "stream",
          "name": "stdout",
          "text": [
            "len train tags : 23\n"
          ]
        }
      ]
    },
    {
      "cell_type": "code",
      "source": [
        "test_data.head()"
      ],
      "metadata": {
        "colab": {
          "base_uri": "https://localhost:8080/",
          "height": 206
        },
        "outputId": "b0588af2-7afd-495f-e1e1-f3a8c60b4247",
        "id": "4Ug9q7DfOrqj"
      },
      "execution_count": null,
      "outputs": [
        {
          "output_type": "execute_result",
          "data": {
            "text/plain": [
              "  tokens tags\n",
              "0   هجري  ADJ\n",
              "1   شمسي  ADJ\n",
              "2    فوت    N\n",
              "3    كرد    V\n",
              "4      و  CON"
            ],
            "text/html": [
              "\n",
              "  <div id=\"df-d90cbd6d-b223-4001-abae-14fa4639adb2\">\n",
              "    <div class=\"colab-df-container\">\n",
              "      <div>\n",
              "<style scoped>\n",
              "    .dataframe tbody tr th:only-of-type {\n",
              "        vertical-align: middle;\n",
              "    }\n",
              "\n",
              "    .dataframe tbody tr th {\n",
              "        vertical-align: top;\n",
              "    }\n",
              "\n",
              "    .dataframe thead th {\n",
              "        text-align: right;\n",
              "    }\n",
              "</style>\n",
              "<table border=\"1\" class=\"dataframe\">\n",
              "  <thead>\n",
              "    <tr style=\"text-align: right;\">\n",
              "      <th></th>\n",
              "      <th>tokens</th>\n",
              "      <th>tags</th>\n",
              "    </tr>\n",
              "  </thead>\n",
              "  <tbody>\n",
              "    <tr>\n",
              "      <th>0</th>\n",
              "      <td>هجري</td>\n",
              "      <td>ADJ</td>\n",
              "    </tr>\n",
              "    <tr>\n",
              "      <th>1</th>\n",
              "      <td>شمسي</td>\n",
              "      <td>ADJ</td>\n",
              "    </tr>\n",
              "    <tr>\n",
              "      <th>2</th>\n",
              "      <td>فوت</td>\n",
              "      <td>N</td>\n",
              "    </tr>\n",
              "    <tr>\n",
              "      <th>3</th>\n",
              "      <td>كرد</td>\n",
              "      <td>V</td>\n",
              "    </tr>\n",
              "    <tr>\n",
              "      <th>4</th>\n",
              "      <td>و</td>\n",
              "      <td>CON</td>\n",
              "    </tr>\n",
              "  </tbody>\n",
              "</table>\n",
              "</div>\n",
              "      <button class=\"colab-df-convert\" onclick=\"convertToInteractive('df-d90cbd6d-b223-4001-abae-14fa4639adb2')\"\n",
              "              title=\"Convert this dataframe to an interactive table.\"\n",
              "              style=\"display:none;\">\n",
              "        \n",
              "  <svg xmlns=\"http://www.w3.org/2000/svg\" height=\"24px\"viewBox=\"0 0 24 24\"\n",
              "       width=\"24px\">\n",
              "    <path d=\"M0 0h24v24H0V0z\" fill=\"none\"/>\n",
              "    <path d=\"M18.56 5.44l.94 2.06.94-2.06 2.06-.94-2.06-.94-.94-2.06-.94 2.06-2.06.94zm-11 1L8.5 8.5l.94-2.06 2.06-.94-2.06-.94L8.5 2.5l-.94 2.06-2.06.94zm10 10l.94 2.06.94-2.06 2.06-.94-2.06-.94-.94-2.06-.94 2.06-2.06.94z\"/><path d=\"M17.41 7.96l-1.37-1.37c-.4-.4-.92-.59-1.43-.59-.52 0-1.04.2-1.43.59L10.3 9.45l-7.72 7.72c-.78.78-.78 2.05 0 2.83L4 21.41c.39.39.9.59 1.41.59.51 0 1.02-.2 1.41-.59l7.78-7.78 2.81-2.81c.8-.78.8-2.07 0-2.86zM5.41 20L4 18.59l7.72-7.72 1.47 1.35L5.41 20z\"/>\n",
              "  </svg>\n",
              "      </button>\n",
              "      \n",
              "  <style>\n",
              "    .colab-df-container {\n",
              "      display:flex;\n",
              "      flex-wrap:wrap;\n",
              "      gap: 12px;\n",
              "    }\n",
              "\n",
              "    .colab-df-convert {\n",
              "      background-color: #E8F0FE;\n",
              "      border: none;\n",
              "      border-radius: 50%;\n",
              "      cursor: pointer;\n",
              "      display: none;\n",
              "      fill: #1967D2;\n",
              "      height: 32px;\n",
              "      padding: 0 0 0 0;\n",
              "      width: 32px;\n",
              "    }\n",
              "\n",
              "    .colab-df-convert:hover {\n",
              "      background-color: #E2EBFA;\n",
              "      box-shadow: 0px 1px 2px rgba(60, 64, 67, 0.3), 0px 1px 3px 1px rgba(60, 64, 67, 0.15);\n",
              "      fill: #174EA6;\n",
              "    }\n",
              "\n",
              "    [theme=dark] .colab-df-convert {\n",
              "      background-color: #3B4455;\n",
              "      fill: #D2E3FC;\n",
              "    }\n",
              "\n",
              "    [theme=dark] .colab-df-convert:hover {\n",
              "      background-color: #434B5C;\n",
              "      box-shadow: 0px 1px 3px 1px rgba(0, 0, 0, 0.15);\n",
              "      filter: drop-shadow(0px 1px 2px rgba(0, 0, 0, 0.3));\n",
              "      fill: #FFFFFF;\n",
              "    }\n",
              "  </style>\n",
              "\n",
              "      <script>\n",
              "        const buttonEl =\n",
              "          document.querySelector('#df-d90cbd6d-b223-4001-abae-14fa4639adb2 button.colab-df-convert');\n",
              "        buttonEl.style.display =\n",
              "          google.colab.kernel.accessAllowed ? 'block' : 'none';\n",
              "\n",
              "        async function convertToInteractive(key) {\n",
              "          const element = document.querySelector('#df-d90cbd6d-b223-4001-abae-14fa4639adb2');\n",
              "          const dataTable =\n",
              "            await google.colab.kernel.invokeFunction('convertToInteractive',\n",
              "                                                     [key], {});\n",
              "          if (!dataTable) return;\n",
              "\n",
              "          const docLinkHtml = 'Like what you see? Visit the ' +\n",
              "            '<a target=\"_blank\" href=https://colab.research.google.com/notebooks/data_table.ipynb>data table notebook</a>'\n",
              "            + ' to learn more about interactive tables.';\n",
              "          element.innerHTML = '';\n",
              "          dataTable['output_type'] = 'display_data';\n",
              "          await google.colab.output.renderOutput(dataTable, element);\n",
              "          const docLink = document.createElement('div');\n",
              "          docLink.innerHTML = docLinkHtml;\n",
              "          element.appendChild(docLink);\n",
              "        }\n",
              "      </script>\n",
              "    </div>\n",
              "  </div>\n",
              "  "
            ]
          },
          "metadata": {},
          "execution_count": 22
        }
      ]
    },
    {
      "cell_type": "code",
      "source": [
        "print(f'test_data shape : {test_data.shape}')"
      ],
      "metadata": {
        "colab": {
          "base_uri": "https://localhost:8080/"
        },
        "outputId": "e0d0365d-f975-4abd-8d91-044557ef690a",
        "id": "67OEDq9cOrqn"
      },
      "execution_count": null,
      "outputs": [
        {
          "output_type": "stream",
          "name": "stdout",
          "text": [
            "test_data shape : (259794, 2)\n"
          ]
        }
      ]
    },
    {
      "cell_type": "code",
      "source": [
        "test_data.tags.value_counts()"
      ],
      "metadata": {
        "colab": {
          "base_uri": "https://localhost:8080/"
        },
        "outputId": "0fbe280d-a111-4fe2-f6cd-2d50867283c7",
        "id": "8zLIF-Y6Pe72"
      },
      "execution_count": null,
      "outputs": [
        {
          "output_type": "execute_result",
          "data": {
            "text/plain": [
              "N          115385\n",
              "ADJ         32226\n",
              "P           30790\n",
              "DELM        27934\n",
              "CON         20781\n",
              "V           18826\n",
              "PRO          4493\n",
              "DET          3839\n",
              "ADV          3096\n",
              "QUA          1418\n",
              "SPEC          380\n",
              "IF            177\n",
              "MORP          176\n",
              "AR             75\n",
              "MS             62\n",
              "PP             56\n",
              "MQUA           37\n",
              "DEFAULT        21\n",
              "OH             10\n",
              "PS              7\n",
              "INT             5\n",
              "Name: tags, dtype: int64"
            ]
          },
          "metadata": {},
          "execution_count": 24
        }
      ]
    },
    {
      "cell_type": "code",
      "source": [
        "test_tags = [tag for tag, count in train_data.tags.value_counts().items()]\n",
        "print(f'len test tags : {len(test_tags)}')"
      ],
      "metadata": {
        "colab": {
          "base_uri": "https://localhost:8080/"
        },
        "id": "5zoHWswKPe74",
        "outputId": "923031b7-4ab2-49d8-99db-48d0c3284cdc"
      },
      "execution_count": null,
      "outputs": [
        {
          "output_type": "stream",
          "name": "stdout",
          "text": [
            "len test tags : 23\n"
          ]
        }
      ]
    },
    {
      "cell_type": "markdown",
      "source": [
        "#### Label Encoder"
      ],
      "metadata": {
        "id": "irMBY-BRUmpJ"
      }
    },
    {
      "cell_type": "code",
      "source": [
        "from sklearn.preprocessing import LabelEncoder\n",
        "\n",
        "le = LabelEncoder()\n",
        "y_train = le.fit_transform(train_data[\"tags\"])\n",
        "\n",
        "print(f'y_train : {y_train}')"
      ],
      "metadata": {
        "id": "9hikzRJPAnSf",
        "colab": {
          "base_uri": "https://localhost:8080/"
        },
        "outputId": "ddd7b3cb-5af5-4d1f-e586-c6872741ba70"
      },
      "execution_count": null,
      "outputs": [
        {
          "output_type": "stream",
          "name": "stdout",
          "text": [
            "y_train : [22  5 12 ... 12 22  5]\n"
          ]
        }
      ]
    },
    {
      "cell_type": "markdown",
      "source": [
        "let's create a dictionary to map tags to int."
      ],
      "metadata": {
        "id": "VA3FgCddUzqC"
      }
    },
    {
      "cell_type": "code",
      "source": [
        "tag2int = {}\n",
        "inv =  le.inverse_transform([i for i in range(len(train_tags))])\n",
        "for i in range(len(inv)):\n",
        "  tag2int[inv[i]] = i\n",
        "\n",
        "print(f'tag2int : {tag2int}')"
      ],
      "metadata": {
        "id": "tESafkxkAsjV",
        "colab": {
          "base_uri": "https://localhost:8080/"
        },
        "outputId": "c789efaa-b7c2-4835-f0a4-94acb50e637a"
      },
      "execution_count": null,
      "outputs": [
        {
          "output_type": "stream",
          "name": "stdout",
          "text": [
            "tag2int : {'ADJ': 0, 'ADV': 1, 'AR': 2, 'CON': 3, 'DEFAULT': 4, 'DELM': 5, 'DET': 6, 'IF': 7, 'INT': 8, 'MORP': 9, 'MQUA': 10, 'MS': 11, 'N': 12, 'NP': 13, 'OH': 14, 'OHH': 15, 'P': 16, 'PP': 17, 'PRO': 18, 'PS': 19, 'QUA': 20, 'SPEC': 21, 'V': 22}\n"
          ]
        }
      ]
    },
    {
      "cell_type": "code",
      "source": [
        "# save_dict_in_pkl(tag2int, \"tag2int.pkl\")\n",
        "tag2int = load_pkl(\"tag2int.pkl\")"
      ],
      "metadata": {
        "id": "2MEANjF_P-lE"
      },
      "execution_count": 7,
      "outputs": []
    },
    {
      "cell_type": "markdown",
      "source": [
        "### Convert text file to dictionary "
      ],
      "metadata": {
        "id": "MX0xxpo1OPFd"
      }
    },
    {
      "cell_type": "markdown",
      "source": [
        "برای استفاده از دیتاست باید آن را به فرمت قابل قبول در آوریم "
      ],
      "metadata": {
        "id": "iCSoIU5NRnRt"
      }
    },
    {
      "cell_type": "markdown",
      "source": [
        "تبدیل به فرمت قابل قبول برای transformers"
      ],
      "metadata": {
        "id": "Y53HTOvylOrc"
      }
    },
    {
      "cell_type": "markdown",
      "source": [
        "lets convert train.txt and test.txt to dictionary."
      ],
      "metadata": {
        "id": "8WWCU-2fSqRf"
      }
    },
    {
      "cell_type": "code",
      "source": [
        "convert_txt2dict(\"Train.txt\")\n",
        "convert_txt2dict(\"Test.txt\")"
      ],
      "metadata": {
        "id": "OLkk_CUmkosR"
      },
      "execution_count": null,
      "outputs": []
    },
    {
      "cell_type": "markdown",
      "source": [
        "Than we load these dictinaries."
      ],
      "metadata": {
        "id": "7EMh2EB1SvNg"
      }
    },
    {
      "cell_type": "code",
      "source": [
        "train = load_pkl(\"Train.pkl\")\n",
        "test = load_pkl(\"Test.pkl\")"
      ],
      "metadata": {
        "id": "jDYHfYOGjBl9"
      },
      "execution_count": null,
      "outputs": []
    },
    {
      "cell_type": "code",
      "source": [
        "print(f'len of train.pkl : {len(train)}')\n",
        "print(f'key of train.pkl : {train.keys()}')\n",
        "print(f'first elements of train[\"tokens\"] :\\n{train[\"tokens\"][0]}\\n')\n",
        "print(f'first elements of train[\"ner_tags\"] :\\n{train[\"ner_tags\"][0]}')"
      ],
      "metadata": {
        "colab": {
          "base_uri": "https://localhost:8080/"
        },
        "id": "9hGfK7ZNS3rB",
        "outputId": "5bc38dcd-42ef-432a-e98e-804887f924e1"
      },
      "execution_count": null,
      "outputs": [
        {
          "output_type": "stream",
          "name": "stdout",
          "text": [
            "len of train.pkl : 2\n",
            "key of train.pkl : dict_keys(['tokens', 'ner_tags'])\n",
            "first elements of train[\"tokens\"] :\n",
            "['ميشوند', '.']\n",
            "\n",
            "first elements of train[\"ner_tags\"] :\n",
            "['V', 'DELM']\n"
          ]
        }
      ]
    },
    {
      "cell_type": "code",
      "source": [
        "print(f'number of sentences in train : {len(train[\"tokens\"])}')\n",
        "\n",
        "tokens = 0\n",
        "for sent in train[\"tokens\"]:\n",
        "  tokens += len(sent)\n",
        "\n",
        "print(f'number of tokens in train :  {tokens}')"
      ],
      "metadata": {
        "colab": {
          "base_uri": "https://localhost:8080/"
        },
        "id": "J0dyMqxA_LmG",
        "outputId": "f86323c9-e712-4da7-b0f5-268be396d646"
      },
      "execution_count": null,
      "outputs": [
        {
          "output_type": "stream",
          "name": "stdout",
          "text": [
            "number of sentences in train : 8722\n",
            "number of tokens in train :  259794\n"
          ]
        }
      ]
    },
    {
      "cell_type": "code",
      "source": [
        "print(f'len of test.pkl : {len(test)}')\n",
        "print(f'key of test.pkl : {test.keys()}')\n",
        "print(f'first elements of test[\"tokens\"] :\\n{test[\"tokens\"][0]}\\n')\n",
        "print(f'first elements of test[\"ner_tags\"] :\\n{test[\"ner_tags\"][0]}')"
      ],
      "metadata": {
        "colab": {
          "base_uri": "https://localhost:8080/"
        },
        "id": "ssywW_1UTcAm",
        "outputId": "122ca0a6-72a6-4930-9986-805285d86d77"
      },
      "execution_count": null,
      "outputs": [
        {
          "output_type": "stream",
          "name": "stdout",
          "text": [
            "len of test.pkl : 2\n",
            "key of test.pkl : dict_keys(['tokens', 'ner_tags'])\n",
            "first elements of test[\"tokens\"] :\n",
            "['هجري', 'شمسي', 'فوت', 'كرد', 'و', 'در', 'قم', 'دفن', 'شد', '.']\n",
            "\n",
            "first elements of test[\"ner_tags\"] :\n",
            "['ADJ', 'ADJ', 'N', 'V', 'CON', 'P', 'N', 'N', 'V', 'DELM']\n"
          ]
        }
      ]
    },
    {
      "cell_type": "code",
      "source": [
        "print(f'number of sentences in test : {len(test[\"tokens\"])}')\n",
        "\n",
        "tokens = 0\n",
        "for sent in test[\"tokens\"]:\n",
        "  tokens += len(sent)\n",
        "\n",
        "print(f'number of tokens in test :  {tokens}')"
      ],
      "metadata": {
        "colab": {
          "base_uri": "https://localhost:8080/"
        },
        "outputId": "56911820-0b48-45e3-85d1-d109de99caf0",
        "id": "iBj5dTdYTcAo"
      },
      "execution_count": null,
      "outputs": [
        {
          "output_type": "stream",
          "name": "stdout",
          "text": [
            "number of sentences in test : 9280\n",
            "number of tokens in test :  259794\n"
          ]
        }
      ]
    },
    {
      "cell_type": "markdown",
      "source": [
        "Let's convert tags into int in train and test dictionaries"
      ],
      "metadata": {
        "id": "kEafGFsbYp1b"
      }
    },
    {
      "cell_type": "code",
      "source": [
        "tag2int[\"N\"]"
      ],
      "metadata": {
        "colab": {
          "base_uri": "https://localhost:8080/"
        },
        "id": "Op-uu0QUbOIg",
        "outputId": "0c659ff3-5800-4679-b7bc-6ec49b4871b4"
      },
      "execution_count": null,
      "outputs": [
        {
          "output_type": "execute_result",
          "data": {
            "text/plain": [
              "12"
            ]
          },
          "metadata": {},
          "execution_count": 35
        }
      ]
    },
    {
      "cell_type": "code",
      "source": [
        "ner_tags_train = []\n",
        "\n",
        "for sent in train[\"ner_tags\"]:\n",
        "  sent_tags_int = []\n",
        "  for token in sent:\n",
        "    sent_tags_int.append(tag2int[token])\n",
        "  ner_tags_train.append(sent_tags_int)"
      ],
      "metadata": {
        "id": "5UQuw5IZY8V-"
      },
      "execution_count": null,
      "outputs": []
    },
    {
      "cell_type": "code",
      "source": [
        "ner_tags_test = []\n",
        "\n",
        "for sent in test[\"ner_tags\"]:\n",
        "  sent_tags_int = []\n",
        "  for token in sent:\n",
        "    sent_tags_int.append(tag2int[token])\n",
        "  ner_tags_test.append(sent_tags_int)"
      ],
      "metadata": {
        "id": "7LTXGy9lcHTs"
      },
      "execution_count": null,
      "outputs": []
    },
    {
      "cell_type": "code",
      "source": [
        "print(f'len ner_tags_train : {len(ner_tags_train)}')\n",
        "print(f'len ner_tags_test : {len(ner_tags_test)}')"
      ],
      "metadata": {
        "colab": {
          "base_uri": "https://localhost:8080/"
        },
        "id": "o1JXVnZGbgJF",
        "outputId": "a4631ac7-2232-4d2e-fe18-3e24349793fa"
      },
      "execution_count": null,
      "outputs": [
        {
          "output_type": "stream",
          "name": "stdout",
          "text": [
            "len ner_tags_train : 8722\n",
            "len ner_tags_test : 9280\n"
          ]
        }
      ]
    },
    {
      "cell_type": "code",
      "source": [
        "train_data = {\"tokens\": train[\"tokens\"], \"ner_tags\": ner_tags_train}\n",
        "test_data = {\"tokens\": test[\"tokens\"], \"ner_tags\": ner_tags_test}"
      ],
      "metadata": {
        "id": "XajtAhqjbkY6"
      },
      "execution_count": null,
      "outputs": []
    },
    {
      "cell_type": "code",
      "source": [
        "# save_dict_in_pkl(train_data, \"Train_modified.pkl\")\n",
        "# save_dict_in_pkl(test_data, \"Test_modified.pkl\")"
      ],
      "metadata": {
        "id": "gQlqOQFCY5Jq"
      },
      "execution_count": null,
      "outputs": []
    },
    {
      "cell_type": "markdown",
      "source": [
        "## Create dataset in the DatasetDict format"
      ],
      "metadata": {
        "id": "gybdyeFX8BZv"
      }
    },
    {
      "cell_type": "code",
      "source": [
        "train_data = load_pkl(\"Train_modified.pkl\")\n",
        "test_data = load_pkl(\"Test_modified.pkl\") "
      ],
      "metadata": {
        "id": "N7aQqf92jOA0"
      },
      "execution_count": 8,
      "outputs": []
    },
    {
      "cell_type": "code",
      "source": [
        "df_train = pd.DataFrame(train_data)\n",
        "df_train.head()"
      ],
      "metadata": {
        "colab": {
          "base_uri": "https://localhost:8080/",
          "height": 206
        },
        "id": "lgXOTwC08IR0",
        "outputId": "20fd7c8c-a9f6-49c1-d5e0-51cc282a251c"
      },
      "execution_count": 9,
      "outputs": [
        {
          "output_type": "execute_result",
          "data": {
            "text/plain": [
              "                                              tokens  \\\n",
              "0                                        [ميشوند, .]   \n",
              "1  [نتيجهي, بحث, بالا, اين, است, كه, فعلها, از, ن...   \n",
              "2  [صورتهاي, گسترشيافته, و, نيز, الگوي, برجستگي, ...   \n",
              "3  [هر, كدام, از, فعلهاي, سهگانه, بالا, در, صورت,...   \n",
              "4  [در, زير, به, الگوي, برجستگي, گروههاي, فعلي, م...   \n",
              "\n",
              "                                            ner_tags  \n",
              "0                                            [22, 5]  \n",
              "1  [12, 12, 0, 18, 22, 3, 12, 16, 12, 12, 16, 12,...  \n",
              "2  [12, 0, 3, 3, 12, 12, 20, 12, 16, 12, 12, 16, ...  \n",
              "3  [20, 12, 16, 12, 0, 0, 16, 12, 12, 12, 0, 22, ...  \n",
              "4  [16, 12, 16, 12, 12, 12, 0, 22, 3, 12, 18, 0, ...  "
            ],
            "text/html": [
              "\n",
              "  <div id=\"df-8de01d30-167b-4bed-8758-7b6186926ae1\">\n",
              "    <div class=\"colab-df-container\">\n",
              "      <div>\n",
              "<style scoped>\n",
              "    .dataframe tbody tr th:only-of-type {\n",
              "        vertical-align: middle;\n",
              "    }\n",
              "\n",
              "    .dataframe tbody tr th {\n",
              "        vertical-align: top;\n",
              "    }\n",
              "\n",
              "    .dataframe thead th {\n",
              "        text-align: right;\n",
              "    }\n",
              "</style>\n",
              "<table border=\"1\" class=\"dataframe\">\n",
              "  <thead>\n",
              "    <tr style=\"text-align: right;\">\n",
              "      <th></th>\n",
              "      <th>tokens</th>\n",
              "      <th>ner_tags</th>\n",
              "    </tr>\n",
              "  </thead>\n",
              "  <tbody>\n",
              "    <tr>\n",
              "      <th>0</th>\n",
              "      <td>[ميشوند, .]</td>\n",
              "      <td>[22, 5]</td>\n",
              "    </tr>\n",
              "    <tr>\n",
              "      <th>1</th>\n",
              "      <td>[نتيجهي, بحث, بالا, اين, است, كه, فعلها, از, ن...</td>\n",
              "      <td>[12, 12, 0, 18, 22, 3, 12, 16, 12, 12, 16, 12,...</td>\n",
              "    </tr>\n",
              "    <tr>\n",
              "      <th>2</th>\n",
              "      <td>[صورتهاي, گسترشيافته, و, نيز, الگوي, برجستگي, ...</td>\n",
              "      <td>[12, 0, 3, 3, 12, 12, 20, 12, 16, 12, 12, 16, ...</td>\n",
              "    </tr>\n",
              "    <tr>\n",
              "      <th>3</th>\n",
              "      <td>[هر, كدام, از, فعلهاي, سهگانه, بالا, در, صورت,...</td>\n",
              "      <td>[20, 12, 16, 12, 0, 0, 16, 12, 12, 12, 0, 22, ...</td>\n",
              "    </tr>\n",
              "    <tr>\n",
              "      <th>4</th>\n",
              "      <td>[در, زير, به, الگوي, برجستگي, گروههاي, فعلي, م...</td>\n",
              "      <td>[16, 12, 16, 12, 12, 12, 0, 22, 3, 12, 18, 0, ...</td>\n",
              "    </tr>\n",
              "  </tbody>\n",
              "</table>\n",
              "</div>\n",
              "      <button class=\"colab-df-convert\" onclick=\"convertToInteractive('df-8de01d30-167b-4bed-8758-7b6186926ae1')\"\n",
              "              title=\"Convert this dataframe to an interactive table.\"\n",
              "              style=\"display:none;\">\n",
              "        \n",
              "  <svg xmlns=\"http://www.w3.org/2000/svg\" height=\"24px\"viewBox=\"0 0 24 24\"\n",
              "       width=\"24px\">\n",
              "    <path d=\"M0 0h24v24H0V0z\" fill=\"none\"/>\n",
              "    <path d=\"M18.56 5.44l.94 2.06.94-2.06 2.06-.94-2.06-.94-.94-2.06-.94 2.06-2.06.94zm-11 1L8.5 8.5l.94-2.06 2.06-.94-2.06-.94L8.5 2.5l-.94 2.06-2.06.94zm10 10l.94 2.06.94-2.06 2.06-.94-2.06-.94-.94-2.06-.94 2.06-2.06.94z\"/><path d=\"M17.41 7.96l-1.37-1.37c-.4-.4-.92-.59-1.43-.59-.52 0-1.04.2-1.43.59L10.3 9.45l-7.72 7.72c-.78.78-.78 2.05 0 2.83L4 21.41c.39.39.9.59 1.41.59.51 0 1.02-.2 1.41-.59l7.78-7.78 2.81-2.81c.8-.78.8-2.07 0-2.86zM5.41 20L4 18.59l7.72-7.72 1.47 1.35L5.41 20z\"/>\n",
              "  </svg>\n",
              "      </button>\n",
              "      \n",
              "  <style>\n",
              "    .colab-df-container {\n",
              "      display:flex;\n",
              "      flex-wrap:wrap;\n",
              "      gap: 12px;\n",
              "    }\n",
              "\n",
              "    .colab-df-convert {\n",
              "      background-color: #E8F0FE;\n",
              "      border: none;\n",
              "      border-radius: 50%;\n",
              "      cursor: pointer;\n",
              "      display: none;\n",
              "      fill: #1967D2;\n",
              "      height: 32px;\n",
              "      padding: 0 0 0 0;\n",
              "      width: 32px;\n",
              "    }\n",
              "\n",
              "    .colab-df-convert:hover {\n",
              "      background-color: #E2EBFA;\n",
              "      box-shadow: 0px 1px 2px rgba(60, 64, 67, 0.3), 0px 1px 3px 1px rgba(60, 64, 67, 0.15);\n",
              "      fill: #174EA6;\n",
              "    }\n",
              "\n",
              "    [theme=dark] .colab-df-convert {\n",
              "      background-color: #3B4455;\n",
              "      fill: #D2E3FC;\n",
              "    }\n",
              "\n",
              "    [theme=dark] .colab-df-convert:hover {\n",
              "      background-color: #434B5C;\n",
              "      box-shadow: 0px 1px 3px 1px rgba(0, 0, 0, 0.15);\n",
              "      filter: drop-shadow(0px 1px 2px rgba(0, 0, 0, 0.3));\n",
              "      fill: #FFFFFF;\n",
              "    }\n",
              "  </style>\n",
              "\n",
              "      <script>\n",
              "        const buttonEl =\n",
              "          document.querySelector('#df-8de01d30-167b-4bed-8758-7b6186926ae1 button.colab-df-convert');\n",
              "        buttonEl.style.display =\n",
              "          google.colab.kernel.accessAllowed ? 'block' : 'none';\n",
              "\n",
              "        async function convertToInteractive(key) {\n",
              "          const element = document.querySelector('#df-8de01d30-167b-4bed-8758-7b6186926ae1');\n",
              "          const dataTable =\n",
              "            await google.colab.kernel.invokeFunction('convertToInteractive',\n",
              "                                                     [key], {});\n",
              "          if (!dataTable) return;\n",
              "\n",
              "          const docLinkHtml = 'Like what you see? Visit the ' +\n",
              "            '<a target=\"_blank\" href=https://colab.research.google.com/notebooks/data_table.ipynb>data table notebook</a>'\n",
              "            + ' to learn more about interactive tables.';\n",
              "          element.innerHTML = '';\n",
              "          dataTable['output_type'] = 'display_data';\n",
              "          await google.colab.output.renderOutput(dataTable, element);\n",
              "          const docLink = document.createElement('div');\n",
              "          docLink.innerHTML = docLinkHtml;\n",
              "          element.appendChild(docLink);\n",
              "        }\n",
              "      </script>\n",
              "    </div>\n",
              "  </div>\n",
              "  "
            ]
          },
          "metadata": {},
          "execution_count": 9
        }
      ]
    },
    {
      "cell_type": "code",
      "source": [
        "df_test = pd.DataFrame(test_data)\n",
        "df_test.head()"
      ],
      "metadata": {
        "colab": {
          "base_uri": "https://localhost:8080/",
          "height": 206
        },
        "id": "FSG-db7A8Rvh",
        "outputId": "9a279f2b-abbf-4221-a397-84edbce6eac9"
      },
      "execution_count": 10,
      "outputs": [
        {
          "output_type": "execute_result",
          "data": {
            "text/plain": [
              "                                              tokens  \\\n",
              "0      [هجري, شمسي, فوت, كرد, و, در, قم, دفن, شد, .]   \n",
              "1  [پروين, اعتصامي, ،, از, داستان, \", ويلانالدوله...   \n",
              "2  [محض, خالي, نبودن, عريضه, با, چايي, مقدار, معت...   \n",
              "3  [بعد, معلوم, ميشود, وقتيكه, ويلانالدوله, خواب,...   \n",
              "4  [ويلانالدوله, خدا, را, شكر, ميكند, كه, آخرش, پ...   \n",
              "\n",
              "                                            ner_tags  \n",
              "0               [0, 0, 12, 22, 3, 16, 12, 12, 22, 5]  \n",
              "1  [12, 12, 5, 16, 12, 5, 12, 5, 12, 5, 18, 22, 1...  \n",
              "2  [16, 0, 12, 12, 16, 12, 12, 0, 12, 0, 0, 22, 5...  \n",
              "3  [3, 0, 22, 3, 12, 12, 22, 5, 12, 16, 12, 5, 12...  \n",
              "4  [12, 12, 16, 12, 22, 3, 12, 12, 16, 12, 12, 3,...  "
            ],
            "text/html": [
              "\n",
              "  <div id=\"df-f0fffb99-c040-45a4-a88c-f90e36e07cd6\">\n",
              "    <div class=\"colab-df-container\">\n",
              "      <div>\n",
              "<style scoped>\n",
              "    .dataframe tbody tr th:only-of-type {\n",
              "        vertical-align: middle;\n",
              "    }\n",
              "\n",
              "    .dataframe tbody tr th {\n",
              "        vertical-align: top;\n",
              "    }\n",
              "\n",
              "    .dataframe thead th {\n",
              "        text-align: right;\n",
              "    }\n",
              "</style>\n",
              "<table border=\"1\" class=\"dataframe\">\n",
              "  <thead>\n",
              "    <tr style=\"text-align: right;\">\n",
              "      <th></th>\n",
              "      <th>tokens</th>\n",
              "      <th>ner_tags</th>\n",
              "    </tr>\n",
              "  </thead>\n",
              "  <tbody>\n",
              "    <tr>\n",
              "      <th>0</th>\n",
              "      <td>[هجري, شمسي, فوت, كرد, و, در, قم, دفن, شد, .]</td>\n",
              "      <td>[0, 0, 12, 22, 3, 16, 12, 12, 22, 5]</td>\n",
              "    </tr>\n",
              "    <tr>\n",
              "      <th>1</th>\n",
              "      <td>[پروين, اعتصامي, ،, از, داستان, \", ويلانالدوله...</td>\n",
              "      <td>[12, 12, 5, 16, 12, 5, 12, 5, 12, 5, 18, 22, 1...</td>\n",
              "    </tr>\n",
              "    <tr>\n",
              "      <th>2</th>\n",
              "      <td>[محض, خالي, نبودن, عريضه, با, چايي, مقدار, معت...</td>\n",
              "      <td>[16, 0, 12, 12, 16, 12, 12, 0, 12, 0, 0, 22, 5...</td>\n",
              "    </tr>\n",
              "    <tr>\n",
              "      <th>3</th>\n",
              "      <td>[بعد, معلوم, ميشود, وقتيكه, ويلانالدوله, خواب,...</td>\n",
              "      <td>[3, 0, 22, 3, 12, 12, 22, 5, 12, 16, 12, 5, 12...</td>\n",
              "    </tr>\n",
              "    <tr>\n",
              "      <th>4</th>\n",
              "      <td>[ويلانالدوله, خدا, را, شكر, ميكند, كه, آخرش, پ...</td>\n",
              "      <td>[12, 12, 16, 12, 22, 3, 12, 12, 16, 12, 12, 3,...</td>\n",
              "    </tr>\n",
              "  </tbody>\n",
              "</table>\n",
              "</div>\n",
              "      <button class=\"colab-df-convert\" onclick=\"convertToInteractive('df-f0fffb99-c040-45a4-a88c-f90e36e07cd6')\"\n",
              "              title=\"Convert this dataframe to an interactive table.\"\n",
              "              style=\"display:none;\">\n",
              "        \n",
              "  <svg xmlns=\"http://www.w3.org/2000/svg\" height=\"24px\"viewBox=\"0 0 24 24\"\n",
              "       width=\"24px\">\n",
              "    <path d=\"M0 0h24v24H0V0z\" fill=\"none\"/>\n",
              "    <path d=\"M18.56 5.44l.94 2.06.94-2.06 2.06-.94-2.06-.94-.94-2.06-.94 2.06-2.06.94zm-11 1L8.5 8.5l.94-2.06 2.06-.94-2.06-.94L8.5 2.5l-.94 2.06-2.06.94zm10 10l.94 2.06.94-2.06 2.06-.94-2.06-.94-.94-2.06-.94 2.06-2.06.94z\"/><path d=\"M17.41 7.96l-1.37-1.37c-.4-.4-.92-.59-1.43-.59-.52 0-1.04.2-1.43.59L10.3 9.45l-7.72 7.72c-.78.78-.78 2.05 0 2.83L4 21.41c.39.39.9.59 1.41.59.51 0 1.02-.2 1.41-.59l7.78-7.78 2.81-2.81c.8-.78.8-2.07 0-2.86zM5.41 20L4 18.59l7.72-7.72 1.47 1.35L5.41 20z\"/>\n",
              "  </svg>\n",
              "      </button>\n",
              "      \n",
              "  <style>\n",
              "    .colab-df-container {\n",
              "      display:flex;\n",
              "      flex-wrap:wrap;\n",
              "      gap: 12px;\n",
              "    }\n",
              "\n",
              "    .colab-df-convert {\n",
              "      background-color: #E8F0FE;\n",
              "      border: none;\n",
              "      border-radius: 50%;\n",
              "      cursor: pointer;\n",
              "      display: none;\n",
              "      fill: #1967D2;\n",
              "      height: 32px;\n",
              "      padding: 0 0 0 0;\n",
              "      width: 32px;\n",
              "    }\n",
              "\n",
              "    .colab-df-convert:hover {\n",
              "      background-color: #E2EBFA;\n",
              "      box-shadow: 0px 1px 2px rgba(60, 64, 67, 0.3), 0px 1px 3px 1px rgba(60, 64, 67, 0.15);\n",
              "      fill: #174EA6;\n",
              "    }\n",
              "\n",
              "    [theme=dark] .colab-df-convert {\n",
              "      background-color: #3B4455;\n",
              "      fill: #D2E3FC;\n",
              "    }\n",
              "\n",
              "    [theme=dark] .colab-df-convert:hover {\n",
              "      background-color: #434B5C;\n",
              "      box-shadow: 0px 1px 3px 1px rgba(0, 0, 0, 0.15);\n",
              "      filter: drop-shadow(0px 1px 2px rgba(0, 0, 0, 0.3));\n",
              "      fill: #FFFFFF;\n",
              "    }\n",
              "  </style>\n",
              "\n",
              "      <script>\n",
              "        const buttonEl =\n",
              "          document.querySelector('#df-f0fffb99-c040-45a4-a88c-f90e36e07cd6 button.colab-df-convert');\n",
              "        buttonEl.style.display =\n",
              "          google.colab.kernel.accessAllowed ? 'block' : 'none';\n",
              "\n",
              "        async function convertToInteractive(key) {\n",
              "          const element = document.querySelector('#df-f0fffb99-c040-45a4-a88c-f90e36e07cd6');\n",
              "          const dataTable =\n",
              "            await google.colab.kernel.invokeFunction('convertToInteractive',\n",
              "                                                     [key], {});\n",
              "          if (!dataTable) return;\n",
              "\n",
              "          const docLinkHtml = 'Like what you see? Visit the ' +\n",
              "            '<a target=\"_blank\" href=https://colab.research.google.com/notebooks/data_table.ipynb>data table notebook</a>'\n",
              "            + ' to learn more about interactive tables.';\n",
              "          element.innerHTML = '';\n",
              "          dataTable['output_type'] = 'display_data';\n",
              "          await google.colab.output.renderOutput(dataTable, element);\n",
              "          const docLink = document.createElement('div');\n",
              "          docLink.innerHTML = docLinkHtml;\n",
              "          element.appendChild(docLink);\n",
              "        }\n",
              "      </script>\n",
              "    </div>\n",
              "  </div>\n",
              "  "
            ]
          },
          "metadata": {},
          "execution_count": 10
        }
      ]
    },
    {
      "cell_type": "code",
      "source": [
        "import datasets\n",
        "from datasets import DatasetDict\n",
        "\n",
        "dataset = DatasetDict()"
      ],
      "metadata": {
        "id": "GyxbdoD5o35t"
      },
      "execution_count": 11,
      "outputs": []
    },
    {
      "cell_type": "code",
      "source": [
        "dataset"
      ],
      "metadata": {
        "colab": {
          "base_uri": "https://localhost:8080/"
        },
        "id": "F4-W9k9zzEPX",
        "outputId": "be9ba3d0-7d73-4c46-e0e7-1cc49ef41516"
      },
      "execution_count": 12,
      "outputs": [
        {
          "output_type": "execute_result",
          "data": {
            "text/plain": [
              "DatasetDict({\n",
              "    \n",
              "})"
            ]
          },
          "metadata": {},
          "execution_count": 12
        }
      ]
    },
    {
      "cell_type": "markdown",
      "source": [
        "https://discuss.huggingface.co/t/convert-a-list-of-dictionaries-to-hugging-face-dataset-object/14670"
      ],
      "metadata": {
        "id": "AP8xa7dy8oQq"
      }
    },
    {
      "cell_type": "code",
      "source": [
        "train = datasets.Dataset.from_pandas(pd.DataFrame(df_train))\n",
        "test = datasets.Dataset.from_pandas(pd.DataFrame(df_test))\n",
        "\n",
        "dataset['train'] = train\n",
        "dataset['test'] = test"
      ],
      "metadata": {
        "id": "jXZ6_7_u4UAu"
      },
      "execution_count": 13,
      "outputs": []
    },
    {
      "cell_type": "code",
      "source": [
        "dataset"
      ],
      "metadata": {
        "colab": {
          "base_uri": "https://localhost:8080/"
        },
        "id": "CyRkrfWw82X4",
        "outputId": "9a0f6793-c0d5-41d9-d167-7033b6d59627"
      },
      "execution_count": 14,
      "outputs": [
        {
          "output_type": "execute_result",
          "data": {
            "text/plain": [
              "DatasetDict({\n",
              "    train: Dataset({\n",
              "        features: ['tokens', 'ner_tags'],\n",
              "        num_rows: 8722\n",
              "    })\n",
              "    test: Dataset({\n",
              "        features: ['tokens', 'ner_tags'],\n",
              "        num_rows: 9280\n",
              "    })\n",
              "})"
            ]
          },
          "metadata": {},
          "execution_count": 14
        }
      ]
    },
    {
      "cell_type": "code",
      "source": [
        "dataset['train'][0]"
      ],
      "metadata": {
        "colab": {
          "base_uri": "https://localhost:8080/"
        },
        "id": "mfi5sKS_4n_y",
        "outputId": "c8c29b92-b15a-492e-e722-c30d4e7715f6"
      },
      "execution_count": 15,
      "outputs": [
        {
          "output_type": "execute_result",
          "data": {
            "text/plain": [
              "{'ner_tags': [22, 5], 'tokens': ['ميشوند', '.']}"
            ]
          },
          "metadata": {},
          "execution_count": 15
        }
      ]
    },
    {
      "cell_type": "code",
      "source": [
        "dataset['train'].features"
      ],
      "metadata": {
        "colab": {
          "base_uri": "https://localhost:8080/"
        },
        "id": "PmwL3MhC5DS9",
        "outputId": "ad610a0f-f401-4558-f39d-0f88e05736d6"
      },
      "execution_count": 16,
      "outputs": [
        {
          "output_type": "execute_result",
          "data": {
            "text/plain": [
              "{'ner_tags': Sequence(feature=Value(dtype='int64', id=None), length=-1, id=None),\n",
              " 'tokens': Sequence(feature=Value(dtype='string', id=None), length=-1, id=None)}"
            ]
          },
          "metadata": {},
          "execution_count": 16
        }
      ]
    },
    {
      "cell_type": "code",
      "source": [
        "example = dataset[\"train\"][1]\n",
        "pd.DataFrame([example[\"tokens\"], example[\"ner_tags\"]],\n",
        "['Tokens', 'Tags'])"
      ],
      "metadata": {
        "colab": {
          "base_uri": "https://localhost:8080/",
          "height": 142
        },
        "id": "NVIvKVAL9qYb",
        "outputId": "291ea7ad-80d4-4063-d5a8-c4d28dec0649"
      },
      "execution_count": 17,
      "outputs": [
        {
          "output_type": "execute_result",
          "data": {
            "text/plain": [
              "            0    1     2    3    4   5      6   7    8        9   ...  11  \\\n",
              "Tokens  نتيجهي  بحث  بالا  اين  است  كه  فعلها  از  نظر  ساختمان  ...  سه   \n",
              "Tags        12   12     0   18   22   3     12  16   12       12  ...  12   \n",
              "\n",
              "          12    13 14       15 16     17     18      19 20  \n",
              "Tokens  گروه  ساده  ،  پيشوندي  و  گروهي  تقسيم  ميشوند  .  \n",
              "Tags      12     0  5        0  3      0     12      22  5  \n",
              "\n",
              "[2 rows x 21 columns]"
            ],
            "text/html": [
              "\n",
              "  <div id=\"df-f1ac19db-71f9-40ff-a0bd-4e0f294aa63c\">\n",
              "    <div class=\"colab-df-container\">\n",
              "      <div>\n",
              "<style scoped>\n",
              "    .dataframe tbody tr th:only-of-type {\n",
              "        vertical-align: middle;\n",
              "    }\n",
              "\n",
              "    .dataframe tbody tr th {\n",
              "        vertical-align: top;\n",
              "    }\n",
              "\n",
              "    .dataframe thead th {\n",
              "        text-align: right;\n",
              "    }\n",
              "</style>\n",
              "<table border=\"1\" class=\"dataframe\">\n",
              "  <thead>\n",
              "    <tr style=\"text-align: right;\">\n",
              "      <th></th>\n",
              "      <th>0</th>\n",
              "      <th>1</th>\n",
              "      <th>2</th>\n",
              "      <th>3</th>\n",
              "      <th>4</th>\n",
              "      <th>5</th>\n",
              "      <th>6</th>\n",
              "      <th>7</th>\n",
              "      <th>8</th>\n",
              "      <th>9</th>\n",
              "      <th>...</th>\n",
              "      <th>11</th>\n",
              "      <th>12</th>\n",
              "      <th>13</th>\n",
              "      <th>14</th>\n",
              "      <th>15</th>\n",
              "      <th>16</th>\n",
              "      <th>17</th>\n",
              "      <th>18</th>\n",
              "      <th>19</th>\n",
              "      <th>20</th>\n",
              "    </tr>\n",
              "  </thead>\n",
              "  <tbody>\n",
              "    <tr>\n",
              "      <th>Tokens</th>\n",
              "      <td>نتيجهي</td>\n",
              "      <td>بحث</td>\n",
              "      <td>بالا</td>\n",
              "      <td>اين</td>\n",
              "      <td>است</td>\n",
              "      <td>كه</td>\n",
              "      <td>فعلها</td>\n",
              "      <td>از</td>\n",
              "      <td>نظر</td>\n",
              "      <td>ساختمان</td>\n",
              "      <td>...</td>\n",
              "      <td>سه</td>\n",
              "      <td>گروه</td>\n",
              "      <td>ساده</td>\n",
              "      <td>،</td>\n",
              "      <td>پيشوندي</td>\n",
              "      <td>و</td>\n",
              "      <td>گروهي</td>\n",
              "      <td>تقسيم</td>\n",
              "      <td>ميشوند</td>\n",
              "      <td>.</td>\n",
              "    </tr>\n",
              "    <tr>\n",
              "      <th>Tags</th>\n",
              "      <td>12</td>\n",
              "      <td>12</td>\n",
              "      <td>0</td>\n",
              "      <td>18</td>\n",
              "      <td>22</td>\n",
              "      <td>3</td>\n",
              "      <td>12</td>\n",
              "      <td>16</td>\n",
              "      <td>12</td>\n",
              "      <td>12</td>\n",
              "      <td>...</td>\n",
              "      <td>12</td>\n",
              "      <td>12</td>\n",
              "      <td>0</td>\n",
              "      <td>5</td>\n",
              "      <td>0</td>\n",
              "      <td>3</td>\n",
              "      <td>0</td>\n",
              "      <td>12</td>\n",
              "      <td>22</td>\n",
              "      <td>5</td>\n",
              "    </tr>\n",
              "  </tbody>\n",
              "</table>\n",
              "<p>2 rows × 21 columns</p>\n",
              "</div>\n",
              "      <button class=\"colab-df-convert\" onclick=\"convertToInteractive('df-f1ac19db-71f9-40ff-a0bd-4e0f294aa63c')\"\n",
              "              title=\"Convert this dataframe to an interactive table.\"\n",
              "              style=\"display:none;\">\n",
              "        \n",
              "  <svg xmlns=\"http://www.w3.org/2000/svg\" height=\"24px\"viewBox=\"0 0 24 24\"\n",
              "       width=\"24px\">\n",
              "    <path d=\"M0 0h24v24H0V0z\" fill=\"none\"/>\n",
              "    <path d=\"M18.56 5.44l.94 2.06.94-2.06 2.06-.94-2.06-.94-.94-2.06-.94 2.06-2.06.94zm-11 1L8.5 8.5l.94-2.06 2.06-.94-2.06-.94L8.5 2.5l-.94 2.06-2.06.94zm10 10l.94 2.06.94-2.06 2.06-.94-2.06-.94-.94-2.06-.94 2.06-2.06.94z\"/><path d=\"M17.41 7.96l-1.37-1.37c-.4-.4-.92-.59-1.43-.59-.52 0-1.04.2-1.43.59L10.3 9.45l-7.72 7.72c-.78.78-.78 2.05 0 2.83L4 21.41c.39.39.9.59 1.41.59.51 0 1.02-.2 1.41-.59l7.78-7.78 2.81-2.81c.8-.78.8-2.07 0-2.86zM5.41 20L4 18.59l7.72-7.72 1.47 1.35L5.41 20z\"/>\n",
              "  </svg>\n",
              "      </button>\n",
              "      \n",
              "  <style>\n",
              "    .colab-df-container {\n",
              "      display:flex;\n",
              "      flex-wrap:wrap;\n",
              "      gap: 12px;\n",
              "    }\n",
              "\n",
              "    .colab-df-convert {\n",
              "      background-color: #E8F0FE;\n",
              "      border: none;\n",
              "      border-radius: 50%;\n",
              "      cursor: pointer;\n",
              "      display: none;\n",
              "      fill: #1967D2;\n",
              "      height: 32px;\n",
              "      padding: 0 0 0 0;\n",
              "      width: 32px;\n",
              "    }\n",
              "\n",
              "    .colab-df-convert:hover {\n",
              "      background-color: #E2EBFA;\n",
              "      box-shadow: 0px 1px 2px rgba(60, 64, 67, 0.3), 0px 1px 3px 1px rgba(60, 64, 67, 0.15);\n",
              "      fill: #174EA6;\n",
              "    }\n",
              "\n",
              "    [theme=dark] .colab-df-convert {\n",
              "      background-color: #3B4455;\n",
              "      fill: #D2E3FC;\n",
              "    }\n",
              "\n",
              "    [theme=dark] .colab-df-convert:hover {\n",
              "      background-color: #434B5C;\n",
              "      box-shadow: 0px 1px 3px 1px rgba(0, 0, 0, 0.15);\n",
              "      filter: drop-shadow(0px 1px 2px rgba(0, 0, 0, 0.3));\n",
              "      fill: #FFFFFF;\n",
              "    }\n",
              "  </style>\n",
              "\n",
              "      <script>\n",
              "        const buttonEl =\n",
              "          document.querySelector('#df-f1ac19db-71f9-40ff-a0bd-4e0f294aa63c button.colab-df-convert');\n",
              "        buttonEl.style.display =\n",
              "          google.colab.kernel.accessAllowed ? 'block' : 'none';\n",
              "\n",
              "        async function convertToInteractive(key) {\n",
              "          const element = document.querySelector('#df-f1ac19db-71f9-40ff-a0bd-4e0f294aa63c');\n",
              "          const dataTable =\n",
              "            await google.colab.kernel.invokeFunction('convertToInteractive',\n",
              "                                                     [key], {});\n",
              "          if (!dataTable) return;\n",
              "\n",
              "          const docLinkHtml = 'Like what you see? Visit the ' +\n",
              "            '<a target=\"_blank\" href=https://colab.research.google.com/notebooks/data_table.ipynb>data table notebook</a>'\n",
              "            + ' to learn more about interactive tables.';\n",
              "          element.innerHTML = '';\n",
              "          dataTable['output_type'] = 'display_data';\n",
              "          await google.colab.output.renderOutput(dataTable, element);\n",
              "          const docLink = document.createElement('div');\n",
              "          docLink.innerHTML = docLinkHtml;\n",
              "          element.appendChild(docLink);\n",
              "        }\n",
              "      </script>\n",
              "    </div>\n",
              "  </div>\n",
              "  "
            ]
          },
          "metadata": {},
          "execution_count": 17
        }
      ]
    },
    {
      "cell_type": "code",
      "source": [
        "from transformers import AutoTokenizer\n",
        "model_name = \"HooshvareLab/bert-base-parsbert-uncased\"\n",
        "tokenizer = AutoTokenizer.from_pretrained(model_name)"
      ],
      "metadata": {
        "colab": {
          "base_uri": "https://localhost:8080/",
          "height": 81,
          "referenced_widgets": [
            "91566a1a484d461c8e01936b232b5a47",
            "cd66104f3cb24f059a5f01f263c3f0e8",
            "c7305d44a54940f2bcca85823a67572e",
            "814b888172c54ee58a880642711329b2",
            "1d91f075c2694478b7abb67dae49c6fa",
            "e46a4fef40b94d2ba675527164562284",
            "3e2c35d7a5d142989a973ff5814b8c06",
            "7f1b672bc2ab42abb3304b25b66c2e8d",
            "8be8a5c95321438ca246a13b3245caed",
            "383ddb62dddb47ebba6a174705c8bfc1",
            "252e0793efee42f5b182ce5cf09fa7fe",
            "98f7e74ce6ba42459f23f72c68be452a",
            "401fba3d473e4eaa96bced9bb8938101",
            "c3f645813fde4a67a09bf0d4e931aa93",
            "6c009ea073094dd8b8295fc64402aa56",
            "6e275eb38456472fa1dddb89d273e0a8",
            "c1d340a94dd447faa292d8e39eec420d",
            "3f1d4098a2a44e5885ce97c2d398038b",
            "8b71baa6deeb4b569005a7d9082ea202",
            "ca69b1061344416b89f499f28a60a6c7",
            "9155edcbc5514c069dfb72370290544d",
            "9c2b4bf1d82349d5a13b5284e0b86d49"
          ]
        },
        "id": "EjGy93dqM-fF",
        "outputId": "5825b306-88a3-447b-c942-7f71d187fcd7"
      },
      "execution_count": 18,
      "outputs": [
        {
          "output_type": "display_data",
          "data": {
            "text/plain": [
              "Downloading config.json:   0%|          | 0.00/434 [00:00<?, ?B/s]"
            ],
            "application/vnd.jupyter.widget-view+json": {
              "version_major": 2,
              "version_minor": 0,
              "model_id": "91566a1a484d461c8e01936b232b5a47"
            }
          },
          "metadata": {}
        },
        {
          "output_type": "display_data",
          "data": {
            "text/plain": [
              "Downloading vocab.txt:   0%|          | 0.00/1.16M [00:00<?, ?B/s]"
            ],
            "application/vnd.jupyter.widget-view+json": {
              "version_major": 2,
              "version_minor": 0,
              "model_id": "98f7e74ce6ba42459f23f72c68be452a"
            }
          },
          "metadata": {}
        }
      ]
    },
    {
      "cell_type": "code",
      "source": [
        "tokenizer"
      ],
      "metadata": {
        "colab": {
          "base_uri": "https://localhost:8080/"
        },
        "id": "Vtpt3oq0N0jn",
        "outputId": "e6946417-117d-4011-b661-9fc1a0d2770b"
      },
      "execution_count": 19,
      "outputs": [
        {
          "output_type": "execute_result",
          "data": {
            "text/plain": [
              "PreTrainedTokenizerFast(name_or_path='HooshvareLab/bert-base-parsbert-uncased', vocab_size=100000, model_max_len=1000000000000000019884624838656, is_fast=True, padding_side='right', truncation_side='right', special_tokens={'unk_token': '[UNK]', 'sep_token': '[SEP]', 'pad_token': '[PAD]', 'cls_token': '[CLS]', 'mask_token': '[MASK]'})"
            ]
          },
          "metadata": {},
          "execution_count": 19
        }
      ]
    },
    {
      "cell_type": "code",
      "source": [
        "def tokenize_function(examples):\n",
        "    return tokenizer(examples[\"tokens\"], padding=\"max_length\", max_length=512, truncation=True, is_split_into_words=True)"
      ],
      "metadata": {
        "id": "b-UN9lNuN2N0"
      },
      "execution_count": 20,
      "outputs": []
    },
    {
      "cell_type": "code",
      "source": [
        "tokenized_datasets_ = dataset.map(tokenize_function, batched=True)"
      ],
      "metadata": {
        "colab": {
          "base_uri": "https://localhost:8080/",
          "height": 81,
          "referenced_widgets": [
            "4e12180b03094e48a32fa8eb6ca582e5",
            "054d9a5f0dad4c028400b14fb7181c0e",
            "2c9bf2939db049d6867375985e73bd8e",
            "339e9de1813f4c45b670869b211ef36e",
            "9f63abcc68a0401888767a373b85a319",
            "7d04154b3f004866acaab6edc7eeb41e",
            "b6cba7e908d14d5da104f38f5e181102",
            "8fe7543adaa840a6bbc4f1c502b54fb8",
            "a7384a93d52e4a6c8dcb013a266022fc",
            "e54de631809047b5892e197bd3580d90",
            "c3743666756a48149e148c9afc366cd9",
            "03848040a75f450fbdc9a7dc4795e428",
            "5d7f065062d44c49b9be84fb2c611980",
            "16fcbfca5c75460e8825279ce8616437",
            "d6761c740c9a4287b1fd53b340183cee",
            "f4bf535104f74da8b06ef9e837c08961",
            "8560febd43f54c8c93136666035baaaf",
            "f5e12d23833240539dd14a174ce5ae24",
            "9d7c2fb0bae44061b7bc4218920749cd",
            "caa469d1af3f428d9e4927755f7ffcf3",
            "6e92f53a2e9c45baa8396ed3d129eb7c",
            "9e1ac4b74e7c4b848020ac7a7b0dd03c"
          ]
        },
        "id": "iAmkCDABOCt8",
        "outputId": "90d67273-a46c-4d0a-e0c0-053c0a140744"
      },
      "execution_count": 21,
      "outputs": [
        {
          "output_type": "display_data",
          "data": {
            "text/plain": [
              "  0%|          | 0/9 [00:00<?, ?ba/s]"
            ],
            "application/vnd.jupyter.widget-view+json": {
              "version_major": 2,
              "version_minor": 0,
              "model_id": "4e12180b03094e48a32fa8eb6ca582e5"
            }
          },
          "metadata": {}
        },
        {
          "output_type": "display_data",
          "data": {
            "text/plain": [
              "  0%|          | 0/10 [00:00<?, ?ba/s]"
            ],
            "application/vnd.jupyter.widget-view+json": {
              "version_major": 2,
              "version_minor": 0,
              "model_id": "03848040a75f450fbdc9a7dc4795e428"
            }
          },
          "metadata": {}
        }
      ]
    },
    {
      "cell_type": "code",
      "source": [
        "tokenized_datasets_"
      ],
      "metadata": {
        "colab": {
          "base_uri": "https://localhost:8080/"
        },
        "id": "UrskWBQNZOC6",
        "outputId": "3ee1fb4c-1f00-427d-96b1-d3ca439a8271"
      },
      "execution_count": 24,
      "outputs": [
        {
          "output_type": "execute_result",
          "data": {
            "text/plain": [
              "DatasetDict({\n",
              "    train: Dataset({\n",
              "        features: ['tokens', 'ner_tags', 'input_ids', 'token_type_ids', 'attention_mask'],\n",
              "        num_rows: 8722\n",
              "    })\n",
              "    test: Dataset({\n",
              "        features: ['tokens', 'ner_tags', 'input_ids', 'token_type_ids', 'attention_mask'],\n",
              "        num_rows: 9280\n",
              "    })\n",
              "})"
            ]
          },
          "metadata": {},
          "execution_count": 24
        }
      ]
    },
    {
      "cell_type": "code",
      "source": [
        "tokenized_datasets_['train'][0]['input_ids'][:20]"
      ],
      "metadata": {
        "colab": {
          "base_uri": "https://localhost:8080/"
        },
        "id": "VAnHfzTJOLZR",
        "outputId": "f9b9750f-92b9-45c6-9d54-a0be28309937"
      },
      "execution_count": 22,
      "outputs": [
        {
          "output_type": "execute_result",
          "data": {
            "text/plain": [
              "[2, 328, 1216, 16628, 15, 4, 0, 0, 0, 0, 0, 0, 0, 0, 0, 0, 0, 0, 0, 0]"
            ]
          },
          "metadata": {},
          "execution_count": 22
        }
      ]
    },
    {
      "cell_type": "code",
      "source": [
        "tokenized_datasets_['train'][0]['ner_tags'][:20]"
      ],
      "metadata": {
        "colab": {
          "base_uri": "https://localhost:8080/"
        },
        "id": "RiLklxP8OaBj",
        "outputId": "94143ff5-65e4-4aef-be4b-726cd67db449"
      },
      "execution_count": 23,
      "outputs": [
        {
          "output_type": "execute_result",
          "data": {
            "text/plain": [
              "[22, 5]"
            ]
          },
          "metadata": {},
          "execution_count": 23
        }
      ]
    },
    {
      "cell_type": "code",
      "source": [
        "len(tokenized_datasets_['train'][0]['input_ids']) == len(tokenized_datasets_['train'][0]['ner_tags'])\n"
      ],
      "metadata": {
        "colab": {
          "base_uri": "https://localhost:8080/"
        },
        "id": "DtwiWNaOOcpC",
        "outputId": "28d8e326-b228-4610-81ee-e9640fb629a3"
      },
      "execution_count": 65,
      "outputs": [
        {
          "output_type": "execute_result",
          "data": {
            "text/plain": [
              "False"
            ]
          },
          "metadata": {},
          "execution_count": 65
        }
      ]
    },
    {
      "cell_type": "code",
      "source": [
        "label_names = [\" \"+key for key, value in tag2int.items()]"
      ],
      "metadata": {
        "id": "aMlaWAilUXjg"
      },
      "execution_count": 50,
      "outputs": []
    },
    {
      "cell_type": "code",
      "source": [
        "label_names"
      ],
      "metadata": {
        "colab": {
          "base_uri": "https://localhost:8080/"
        },
        "id": "MzsMaJiYVCoL",
        "outputId": "1b52f829-0bd2-4186-bef2-1e575d096d3f"
      },
      "execution_count": 26,
      "outputs": [
        {
          "output_type": "execute_result",
          "data": {
            "text/plain": [
              "['ADJ',\n",
              " 'ADV',\n",
              " 'AR',\n",
              " 'CON',\n",
              " 'DEFAULT',\n",
              " 'DELM',\n",
              " 'DET',\n",
              " 'IF',\n",
              " 'INT',\n",
              " 'MORP',\n",
              " 'MQUA',\n",
              " 'MS',\n",
              " 'N',\n",
              " 'NP',\n",
              " 'OH',\n",
              " 'OHH',\n",
              " 'P',\n",
              " 'PP',\n",
              " 'PRO',\n",
              " 'PS',\n",
              " 'QUA',\n",
              " 'SPEC',\n",
              " 'V']"
            ]
          },
          "metadata": {},
          "execution_count": 26
        }
      ]
    },
    {
      "cell_type": "code",
      "source": [
        "#Get the values for input_ids, attention_mask, adjusted labels\n",
        "def tokenize_adjust_labels(all_samples_per_split):\n",
        "  tokenized_samples = tokenizer.batch_encode_plus(all_samples_per_split[\"tokens\"], is_split_into_words=True, truncation=True)\n",
        "  \n",
        "  total_adjusted_labels = []\n",
        "  \n",
        "  for k in range(0, len(tokenized_samples[\"input_ids\"])):\n",
        "    prev_wid = -1\n",
        "    word_ids_list = tokenized_samples.word_ids(batch_index=k)\n",
        "    existing_label_ids = all_samples_per_split[\"ner_tags\"][k]\n",
        "    i = -1\n",
        "    adjusted_label_ids = []\n",
        "   \n",
        "    for word_idx in word_ids_list:\n",
        "      # Special tokens have a word id that is None. We set the label to -100 so they are automatically\n",
        "      # ignored in the loss function.\n",
        "      if(word_idx is None):\n",
        "        adjusted_label_ids.append(-100)\n",
        "      elif(word_idx!=prev_wid):\n",
        "        i = i + 1\n",
        "        adjusted_label_ids.append(existing_label_ids[i])\n",
        "        prev_wid = word_idx\n",
        "      else:\n",
        "        label_name = label_names[existing_label_ids[i]]\n",
        "        adjusted_label_ids.append(existing_label_ids[i])\n",
        "        \n",
        "    total_adjusted_labels.append(adjusted_label_ids)\n",
        "  \n",
        "  #add adjusted labels to the tokenized samples\n",
        "  tokenized_samples[\"labels\"] = total_adjusted_labels\n",
        "  return tokenized_samples\n",
        "\n",
        "tokenized_dataset = dataset.map(tokenize_adjust_labels, batched=True, remove_columns=['tokens', 'ner_tags'])\n"
      ],
      "metadata": {
        "colab": {
          "base_uri": "https://localhost:8080/",
          "height": 98,
          "referenced_widgets": [
            "150c16fd31be4edfb5aee1aeabb5cc26",
            "a0f5945aa63845f987433d2c50d5d52b",
            "cd8f04fbbdca483388e7b315a5f9b71b",
            "53f70483928943c490cfb40372ab0ebf",
            "050f9275c24141de8fc952740935a359",
            "f73c50233afe4d1ca3cabcd91756d896",
            "bfee8881e72c4156ae891d6fe162800c",
            "11c2154d6f0444a08458f20755e0c8ae",
            "b6d7a6021e054fb4b05d5b506b183269",
            "bfcba3274b2c42f2b55309df477a0a1f",
            "f2ca51cb19ec43ebad9f2640a524fc5f",
            "82709159e361499a943037d7c52aeeff",
            "38e3e6e0b2cf41a5a2a2798f3321658a",
            "f7408573b9154fb89a849527cec41d7a",
            "9be23d4158734d1ca6baba89469a9fc4",
            "551a978ef0a34a9585656956817f913f",
            "9cc1d9ce930a463e994c7dfc846cf3fd",
            "16488974c14d407ba667fa4285085983",
            "526c1e71264746f28cc13038716e74a3",
            "2db1c132405b4639a7fd70a534845843",
            "02ecde9d319a414db85a6b7b489af7f2",
            "1cf3b9a2e04940fbb3cedaccc8b2efa4"
          ]
        },
        "id": "tNYKMjwnOm7-",
        "outputId": "d821aa7f-ad3e-4b1d-bbbd-502f10af20b4"
      },
      "execution_count": 27,
      "outputs": [
        {
          "output_type": "display_data",
          "data": {
            "text/plain": [
              "  0%|          | 0/9 [00:00<?, ?ba/s]"
            ],
            "application/vnd.jupyter.widget-view+json": {
              "version_major": 2,
              "version_minor": 0,
              "model_id": "150c16fd31be4edfb5aee1aeabb5cc26"
            }
          },
          "metadata": {}
        },
        {
          "output_type": "stream",
          "name": "stderr",
          "text": [
            "Asking to truncate to max_length but no maximum length is provided and the model has no predefined maximum length. Default to no truncation.\n"
          ]
        },
        {
          "output_type": "display_data",
          "data": {
            "text/plain": [
              "  0%|          | 0/10 [00:00<?, ?ba/s]"
            ],
            "application/vnd.jupyter.widget-view+json": {
              "version_major": 2,
              "version_minor": 0,
              "model_id": "82709159e361499a943037d7c52aeeff"
            }
          },
          "metadata": {}
        }
      ]
    },
    {
      "cell_type": "code",
      "source": [
        "tokenized_dataset"
      ],
      "metadata": {
        "colab": {
          "base_uri": "https://localhost:8080/"
        },
        "id": "1vmvbTlyZbCV",
        "outputId": "34699e49-f9f0-4db8-cd5c-948312266bc1"
      },
      "execution_count": 28,
      "outputs": [
        {
          "output_type": "execute_result",
          "data": {
            "text/plain": [
              "DatasetDict({\n",
              "    train: Dataset({\n",
              "        features: ['input_ids', 'token_type_ids', 'attention_mask', 'labels'],\n",
              "        num_rows: 8722\n",
              "    })\n",
              "    test: Dataset({\n",
              "        features: ['input_ids', 'token_type_ids', 'attention_mask', 'labels'],\n",
              "        num_rows: 9280\n",
              "    })\n",
              "})"
            ]
          },
          "metadata": {},
          "execution_count": 28
        }
      ]
    },
    {
      "cell_type": "code",
      "source": [
        "out = tokenizer(\"سلام خوبی\")\n",
        "out"
      ],
      "metadata": {
        "colab": {
          "base_uri": "https://localhost:8080/"
        },
        "id": "0ro1DApZULrV",
        "outputId": "366b75c0-56f5-4268-df62-201c5223f65b"
      },
      "execution_count": 29,
      "outputs": [
        {
          "output_type": "execute_result",
          "data": {
            "text/plain": [
              "{'input_ids': [2, 3132, 3090, 4], 'token_type_ids': [0, 0, 0, 0], 'attention_mask': [1, 1, 1, 1]}"
            ]
          },
          "metadata": {},
          "execution_count": 29
        }
      ]
    },
    {
      "cell_type": "code",
      "source": [
        "out.word_ids(0)"
      ],
      "metadata": {
        "colab": {
          "base_uri": "https://localhost:8080/"
        },
        "id": "ekh8fsLxUyyw",
        "outputId": "bd329590-36ce-40e9-e1d0-1f33063919b4"
      },
      "execution_count": 30,
      "outputs": [
        {
          "output_type": "execute_result",
          "data": {
            "text/plain": [
              "[None, 0, 1, None]"
            ]
          },
          "metadata": {},
          "execution_count": 30
        }
      ]
    },
    {
      "cell_type": "code",
      "source": [
        "tokenized_dataset['train']['labels'][0]"
      ],
      "metadata": {
        "colab": {
          "base_uri": "https://localhost:8080/"
        },
        "id": "CWuKyUj5U5Bh",
        "outputId": "145ec423-ae41-4dcf-90c6-5629184c7867"
      },
      "execution_count": 31,
      "outputs": [
        {
          "output_type": "execute_result",
          "data": {
            "text/plain": [
              "[-100, 22, 22, 22, 5, -100]"
            ]
          },
          "metadata": {},
          "execution_count": 31
        }
      ]
    },
    {
      "cell_type": "code",
      "source": [
        "len(tokenized_dataset['train']['input_ids'][1])"
      ],
      "metadata": {
        "colab": {
          "base_uri": "https://localhost:8080/"
        },
        "id": "qKaAOta3Vttm",
        "outputId": "0d971cd7-22b3-490b-b0ac-e26b3ef340aa"
      },
      "execution_count": 32,
      "outputs": [
        {
          "output_type": "execute_result",
          "data": {
            "text/plain": [
              "36"
            ]
          },
          "metadata": {},
          "execution_count": 32
        }
      ]
    },
    {
      "cell_type": "code",
      "source": [
        "len(tokenized_dataset['train']['labels'][1])"
      ],
      "metadata": {
        "colab": {
          "base_uri": "https://localhost:8080/"
        },
        "id": "6uCvxSHYVy_a",
        "outputId": "3296fe66-1aec-4f98-8e6a-48cbaff50667"
      },
      "execution_count": 33,
      "outputs": [
        {
          "output_type": "execute_result",
          "data": {
            "text/plain": [
              "36"
            ]
          },
          "metadata": {},
          "execution_count": 33
        }
      ]
    },
    {
      "cell_type": "code",
      "source": [
        "tokenized_dataset['train'][:2]"
      ],
      "metadata": {
        "colab": {
          "base_uri": "https://localhost:8080/"
        },
        "id": "eesggfPIVQoO",
        "outputId": "bad520c4-2f9b-4042-f0b0-608d4b87389e"
      },
      "execution_count": 34,
      "outputs": [
        {
          "output_type": "execute_result",
          "data": {
            "text/plain": [
              "{'attention_mask': [[1, 1, 1, 1, 1, 1],\n",
              "  [1,\n",
              "   1,\n",
              "   1,\n",
              "   1,\n",
              "   1,\n",
              "   1,\n",
              "   1,\n",
              "   1,\n",
              "   1,\n",
              "   1,\n",
              "   1,\n",
              "   1,\n",
              "   1,\n",
              "   1,\n",
              "   1,\n",
              "   1,\n",
              "   1,\n",
              "   1,\n",
              "   1,\n",
              "   1,\n",
              "   1,\n",
              "   1,\n",
              "   1,\n",
              "   1,\n",
              "   1,\n",
              "   1,\n",
              "   1,\n",
              "   1,\n",
              "   1,\n",
              "   1,\n",
              "   1,\n",
              "   1,\n",
              "   1,\n",
              "   1,\n",
              "   1,\n",
              "   1]],\n",
              " 'input_ids': [[2, 328, 1216, 16628, 15, 4],\n",
              "  [2,\n",
              "   3767,\n",
              "   1216,\n",
              "   2149,\n",
              "   1216,\n",
              "   3201,\n",
              "   2980,\n",
              "   7764,\n",
              "   1159,\n",
              "   2045,\n",
              "   1,\n",
              "   85649,\n",
              "   1157,\n",
              "   2036,\n",
              "   2363,\n",
              "   3911,\n",
              "   2031,\n",
              "   2347,\n",
              "   2690,\n",
              "   4781,\n",
              "   300,\n",
              "   357,\n",
              "   1216,\n",
              "   16628,\n",
              "   1216,\n",
              "   331,\n",
              "   2690,\n",
              "   1216,\n",
              "   2553,\n",
              "   86762,\n",
              "   1155,\n",
              "   328,\n",
              "   1216,\n",
              "   16628,\n",
              "   15,\n",
              "   4]],\n",
              " 'labels': [[-100, 22, 22, 22, 5, -100],\n",
              "  [-100,\n",
              "   12,\n",
              "   12,\n",
              "   12,\n",
              "   12,\n",
              "   12,\n",
              "   0,\n",
              "   18,\n",
              "   18,\n",
              "   22,\n",
              "   3,\n",
              "   12,\n",
              "   12,\n",
              "   16,\n",
              "   12,\n",
              "   12,\n",
              "   16,\n",
              "   12,\n",
              "   12,\n",
              "   0,\n",
              "   5,\n",
              "   0,\n",
              "   0,\n",
              "   0,\n",
              "   0,\n",
              "   3,\n",
              "   0,\n",
              "   0,\n",
              "   12,\n",
              "   12,\n",
              "   12,\n",
              "   22,\n",
              "   22,\n",
              "   22,\n",
              "   5,\n",
              "   -100]],\n",
              " 'token_type_ids': [[0, 0, 0, 0, 0, 0],\n",
              "  [0,\n",
              "   0,\n",
              "   0,\n",
              "   0,\n",
              "   0,\n",
              "   0,\n",
              "   0,\n",
              "   0,\n",
              "   0,\n",
              "   0,\n",
              "   0,\n",
              "   0,\n",
              "   0,\n",
              "   0,\n",
              "   0,\n",
              "   0,\n",
              "   0,\n",
              "   0,\n",
              "   0,\n",
              "   0,\n",
              "   0,\n",
              "   0,\n",
              "   0,\n",
              "   0,\n",
              "   0,\n",
              "   0,\n",
              "   0,\n",
              "   0,\n",
              "   0,\n",
              "   0,\n",
              "   0,\n",
              "   0,\n",
              "   0,\n",
              "   0,\n",
              "   0,\n",
              "   0]]}"
            ]
          },
          "metadata": {},
          "execution_count": 34
        }
      ]
    },
    {
      "cell_type": "code",
      "source": [
        "from transformers import DataCollatorForTokenClassification\n",
        "data_collator = DataCollatorForTokenClassification(tokenizer)"
      ],
      "metadata": {
        "id": "IENjqHHfVlZY"
      },
      "execution_count": 35,
      "outputs": []
    },
    {
      "cell_type": "code",
      "source": [
        "data_collator"
      ],
      "metadata": {
        "colab": {
          "base_uri": "https://localhost:8080/"
        },
        "id": "VDCHtgXrWCmB",
        "outputId": "7dc7811b-e126-4103-ce97-baba5c67b93e"
      },
      "execution_count": 36,
      "outputs": [
        {
          "output_type": "execute_result",
          "data": {
            "text/plain": [
              "DataCollatorForTokenClassification(tokenizer=PreTrainedTokenizerFast(name_or_path='HooshvareLab/bert-base-parsbert-uncased', vocab_size=100000, model_max_len=1000000000000000019884624838656, is_fast=True, padding_side='right', truncation_side='right', special_tokens={'unk_token': '[UNK]', 'sep_token': '[SEP]', 'pad_token': '[PAD]', 'cls_token': '[CLS]', 'mask_token': '[MASK]'}), padding=True, max_length=None, pad_to_multiple_of=None, label_pad_token_id=-100, return_tensors='pt')"
            ]
          },
          "metadata": {},
          "execution_count": 36
        }
      ]
    },
    {
      "cell_type": "markdown",
      "source": [
        "### Fine tuning"
      ],
      "metadata": {
        "id": "UELINciWWOV7"
      }
    },
    {
      "cell_type": "code",
      "source": [
        "import torch\n",
        "from torch.utils.data import DataLoader\n",
        "from transformers import AutoModelForTokenClassification, AdamW"
      ],
      "metadata": {
        "id": "OfZ1iVcSWEvH"
      },
      "execution_count": 37,
      "outputs": []
    },
    {
      "cell_type": "code",
      "source": [
        "model = AutoModelForTokenClassification.from_pretrained(model_name, num_labels=len(label_names))\n",
        "model.to(device)"
      ],
      "metadata": {
        "colab": {
          "base_uri": "https://localhost:8080/",
          "height": 1000,
          "referenced_widgets": [
            "211486b1fd664628b36faee4881ca710",
            "9022bb7e3b6044879815ad242d1fb43a",
            "20710ddbabd74738aa05398ce402453b",
            "f88d113943d942eaa669155105547a9b",
            "4942355a0eed4e8092c76b70a0b51b14",
            "89ffa17cbe8f4a439bc9decb559acf7d",
            "b9b3775baa6844b9b6ce8835a70dd181",
            "086a153e19f34d3983ce95bf91b587cf",
            "32ee49bb0c8c4a9f90a041349c956911",
            "2d31f80f033b48ce8ef7893b8185b96e",
            "7b243d269ebe4f778e696ddb65a021c2"
          ]
        },
        "id": "_WrV3NcUWR4y",
        "outputId": "62864943-45ba-47f5-db61-62586eceeb45"
      },
      "execution_count": 39,
      "outputs": [
        {
          "output_type": "display_data",
          "data": {
            "text/plain": [
              "Downloading pytorch_model.bin:   0%|          | 0.00/624M [00:00<?, ?B/s]"
            ],
            "application/vnd.jupyter.widget-view+json": {
              "version_major": 2,
              "version_minor": 0,
              "model_id": "211486b1fd664628b36faee4881ca710"
            }
          },
          "metadata": {}
        },
        {
          "output_type": "stream",
          "name": "stderr",
          "text": [
            "Some weights of the model checkpoint at HooshvareLab/bert-base-parsbert-uncased were not used when initializing BertForTokenClassification: ['cls.seq_relationship.weight', 'cls.predictions.bias', 'cls.predictions.transform.LayerNorm.bias', 'cls.predictions.transform.dense.bias', 'cls.predictions.decoder.bias', 'cls.predictions.decoder.weight', 'cls.seq_relationship.bias', 'cls.predictions.transform.dense.weight', 'cls.predictions.transform.LayerNorm.weight']\n",
            "- This IS expected if you are initializing BertForTokenClassification from the checkpoint of a model trained on another task or with another architecture (e.g. initializing a BertForSequenceClassification model from a BertForPreTraining model).\n",
            "- This IS NOT expected if you are initializing BertForTokenClassification from the checkpoint of a model that you expect to be exactly identical (initializing a BertForSequenceClassification model from a BertForSequenceClassification model).\n",
            "Some weights of BertForTokenClassification were not initialized from the model checkpoint at HooshvareLab/bert-base-parsbert-uncased and are newly initialized: ['classifier.weight', 'classifier.bias']\n",
            "You should probably TRAIN this model on a down-stream task to be able to use it for predictions and inference.\n"
          ]
        },
        {
          "output_type": "execute_result",
          "data": {
            "text/plain": [
              "BertForTokenClassification(\n",
              "  (bert): BertModel(\n",
              "    (embeddings): BertEmbeddings(\n",
              "      (word_embeddings): Embedding(100000, 768, padding_idx=0)\n",
              "      (position_embeddings): Embedding(512, 768)\n",
              "      (token_type_embeddings): Embedding(2, 768)\n",
              "      (LayerNorm): LayerNorm((768,), eps=1e-12, elementwise_affine=True)\n",
              "      (dropout): Dropout(p=0.1, inplace=False)\n",
              "    )\n",
              "    (encoder): BertEncoder(\n",
              "      (layer): ModuleList(\n",
              "        (0): BertLayer(\n",
              "          (attention): BertAttention(\n",
              "            (self): BertSelfAttention(\n",
              "              (query): Linear(in_features=768, out_features=768, bias=True)\n",
              "              (key): Linear(in_features=768, out_features=768, bias=True)\n",
              "              (value): Linear(in_features=768, out_features=768, bias=True)\n",
              "              (dropout): Dropout(p=0.1, inplace=False)\n",
              "            )\n",
              "            (output): BertSelfOutput(\n",
              "              (dense): Linear(in_features=768, out_features=768, bias=True)\n",
              "              (LayerNorm): LayerNorm((768,), eps=1e-12, elementwise_affine=True)\n",
              "              (dropout): Dropout(p=0.1, inplace=False)\n",
              "            )\n",
              "          )\n",
              "          (intermediate): BertIntermediate(\n",
              "            (dense): Linear(in_features=768, out_features=3072, bias=True)\n",
              "            (intermediate_act_fn): GELUActivation()\n",
              "          )\n",
              "          (output): BertOutput(\n",
              "            (dense): Linear(in_features=3072, out_features=768, bias=True)\n",
              "            (LayerNorm): LayerNorm((768,), eps=1e-12, elementwise_affine=True)\n",
              "            (dropout): Dropout(p=0.1, inplace=False)\n",
              "          )\n",
              "        )\n",
              "        (1): BertLayer(\n",
              "          (attention): BertAttention(\n",
              "            (self): BertSelfAttention(\n",
              "              (query): Linear(in_features=768, out_features=768, bias=True)\n",
              "              (key): Linear(in_features=768, out_features=768, bias=True)\n",
              "              (value): Linear(in_features=768, out_features=768, bias=True)\n",
              "              (dropout): Dropout(p=0.1, inplace=False)\n",
              "            )\n",
              "            (output): BertSelfOutput(\n",
              "              (dense): Linear(in_features=768, out_features=768, bias=True)\n",
              "              (LayerNorm): LayerNorm((768,), eps=1e-12, elementwise_affine=True)\n",
              "              (dropout): Dropout(p=0.1, inplace=False)\n",
              "            )\n",
              "          )\n",
              "          (intermediate): BertIntermediate(\n",
              "            (dense): Linear(in_features=768, out_features=3072, bias=True)\n",
              "            (intermediate_act_fn): GELUActivation()\n",
              "          )\n",
              "          (output): BertOutput(\n",
              "            (dense): Linear(in_features=3072, out_features=768, bias=True)\n",
              "            (LayerNorm): LayerNorm((768,), eps=1e-12, elementwise_affine=True)\n",
              "            (dropout): Dropout(p=0.1, inplace=False)\n",
              "          )\n",
              "        )\n",
              "        (2): BertLayer(\n",
              "          (attention): BertAttention(\n",
              "            (self): BertSelfAttention(\n",
              "              (query): Linear(in_features=768, out_features=768, bias=True)\n",
              "              (key): Linear(in_features=768, out_features=768, bias=True)\n",
              "              (value): Linear(in_features=768, out_features=768, bias=True)\n",
              "              (dropout): Dropout(p=0.1, inplace=False)\n",
              "            )\n",
              "            (output): BertSelfOutput(\n",
              "              (dense): Linear(in_features=768, out_features=768, bias=True)\n",
              "              (LayerNorm): LayerNorm((768,), eps=1e-12, elementwise_affine=True)\n",
              "              (dropout): Dropout(p=0.1, inplace=False)\n",
              "            )\n",
              "          )\n",
              "          (intermediate): BertIntermediate(\n",
              "            (dense): Linear(in_features=768, out_features=3072, bias=True)\n",
              "            (intermediate_act_fn): GELUActivation()\n",
              "          )\n",
              "          (output): BertOutput(\n",
              "            (dense): Linear(in_features=3072, out_features=768, bias=True)\n",
              "            (LayerNorm): LayerNorm((768,), eps=1e-12, elementwise_affine=True)\n",
              "            (dropout): Dropout(p=0.1, inplace=False)\n",
              "          )\n",
              "        )\n",
              "        (3): BertLayer(\n",
              "          (attention): BertAttention(\n",
              "            (self): BertSelfAttention(\n",
              "              (query): Linear(in_features=768, out_features=768, bias=True)\n",
              "              (key): Linear(in_features=768, out_features=768, bias=True)\n",
              "              (value): Linear(in_features=768, out_features=768, bias=True)\n",
              "              (dropout): Dropout(p=0.1, inplace=False)\n",
              "            )\n",
              "            (output): BertSelfOutput(\n",
              "              (dense): Linear(in_features=768, out_features=768, bias=True)\n",
              "              (LayerNorm): LayerNorm((768,), eps=1e-12, elementwise_affine=True)\n",
              "              (dropout): Dropout(p=0.1, inplace=False)\n",
              "            )\n",
              "          )\n",
              "          (intermediate): BertIntermediate(\n",
              "            (dense): Linear(in_features=768, out_features=3072, bias=True)\n",
              "            (intermediate_act_fn): GELUActivation()\n",
              "          )\n",
              "          (output): BertOutput(\n",
              "            (dense): Linear(in_features=3072, out_features=768, bias=True)\n",
              "            (LayerNorm): LayerNorm((768,), eps=1e-12, elementwise_affine=True)\n",
              "            (dropout): Dropout(p=0.1, inplace=False)\n",
              "          )\n",
              "        )\n",
              "        (4): BertLayer(\n",
              "          (attention): BertAttention(\n",
              "            (self): BertSelfAttention(\n",
              "              (query): Linear(in_features=768, out_features=768, bias=True)\n",
              "              (key): Linear(in_features=768, out_features=768, bias=True)\n",
              "              (value): Linear(in_features=768, out_features=768, bias=True)\n",
              "              (dropout): Dropout(p=0.1, inplace=False)\n",
              "            )\n",
              "            (output): BertSelfOutput(\n",
              "              (dense): Linear(in_features=768, out_features=768, bias=True)\n",
              "              (LayerNorm): LayerNorm((768,), eps=1e-12, elementwise_affine=True)\n",
              "              (dropout): Dropout(p=0.1, inplace=False)\n",
              "            )\n",
              "          )\n",
              "          (intermediate): BertIntermediate(\n",
              "            (dense): Linear(in_features=768, out_features=3072, bias=True)\n",
              "            (intermediate_act_fn): GELUActivation()\n",
              "          )\n",
              "          (output): BertOutput(\n",
              "            (dense): Linear(in_features=3072, out_features=768, bias=True)\n",
              "            (LayerNorm): LayerNorm((768,), eps=1e-12, elementwise_affine=True)\n",
              "            (dropout): Dropout(p=0.1, inplace=False)\n",
              "          )\n",
              "        )\n",
              "        (5): BertLayer(\n",
              "          (attention): BertAttention(\n",
              "            (self): BertSelfAttention(\n",
              "              (query): Linear(in_features=768, out_features=768, bias=True)\n",
              "              (key): Linear(in_features=768, out_features=768, bias=True)\n",
              "              (value): Linear(in_features=768, out_features=768, bias=True)\n",
              "              (dropout): Dropout(p=0.1, inplace=False)\n",
              "            )\n",
              "            (output): BertSelfOutput(\n",
              "              (dense): Linear(in_features=768, out_features=768, bias=True)\n",
              "              (LayerNorm): LayerNorm((768,), eps=1e-12, elementwise_affine=True)\n",
              "              (dropout): Dropout(p=0.1, inplace=False)\n",
              "            )\n",
              "          )\n",
              "          (intermediate): BertIntermediate(\n",
              "            (dense): Linear(in_features=768, out_features=3072, bias=True)\n",
              "            (intermediate_act_fn): GELUActivation()\n",
              "          )\n",
              "          (output): BertOutput(\n",
              "            (dense): Linear(in_features=3072, out_features=768, bias=True)\n",
              "            (LayerNorm): LayerNorm((768,), eps=1e-12, elementwise_affine=True)\n",
              "            (dropout): Dropout(p=0.1, inplace=False)\n",
              "          )\n",
              "        )\n",
              "        (6): BertLayer(\n",
              "          (attention): BertAttention(\n",
              "            (self): BertSelfAttention(\n",
              "              (query): Linear(in_features=768, out_features=768, bias=True)\n",
              "              (key): Linear(in_features=768, out_features=768, bias=True)\n",
              "              (value): Linear(in_features=768, out_features=768, bias=True)\n",
              "              (dropout): Dropout(p=0.1, inplace=False)\n",
              "            )\n",
              "            (output): BertSelfOutput(\n",
              "              (dense): Linear(in_features=768, out_features=768, bias=True)\n",
              "              (LayerNorm): LayerNorm((768,), eps=1e-12, elementwise_affine=True)\n",
              "              (dropout): Dropout(p=0.1, inplace=False)\n",
              "            )\n",
              "          )\n",
              "          (intermediate): BertIntermediate(\n",
              "            (dense): Linear(in_features=768, out_features=3072, bias=True)\n",
              "            (intermediate_act_fn): GELUActivation()\n",
              "          )\n",
              "          (output): BertOutput(\n",
              "            (dense): Linear(in_features=3072, out_features=768, bias=True)\n",
              "            (LayerNorm): LayerNorm((768,), eps=1e-12, elementwise_affine=True)\n",
              "            (dropout): Dropout(p=0.1, inplace=False)\n",
              "          )\n",
              "        )\n",
              "        (7): BertLayer(\n",
              "          (attention): BertAttention(\n",
              "            (self): BertSelfAttention(\n",
              "              (query): Linear(in_features=768, out_features=768, bias=True)\n",
              "              (key): Linear(in_features=768, out_features=768, bias=True)\n",
              "              (value): Linear(in_features=768, out_features=768, bias=True)\n",
              "              (dropout): Dropout(p=0.1, inplace=False)\n",
              "            )\n",
              "            (output): BertSelfOutput(\n",
              "              (dense): Linear(in_features=768, out_features=768, bias=True)\n",
              "              (LayerNorm): LayerNorm((768,), eps=1e-12, elementwise_affine=True)\n",
              "              (dropout): Dropout(p=0.1, inplace=False)\n",
              "            )\n",
              "          )\n",
              "          (intermediate): BertIntermediate(\n",
              "            (dense): Linear(in_features=768, out_features=3072, bias=True)\n",
              "            (intermediate_act_fn): GELUActivation()\n",
              "          )\n",
              "          (output): BertOutput(\n",
              "            (dense): Linear(in_features=3072, out_features=768, bias=True)\n",
              "            (LayerNorm): LayerNorm((768,), eps=1e-12, elementwise_affine=True)\n",
              "            (dropout): Dropout(p=0.1, inplace=False)\n",
              "          )\n",
              "        )\n",
              "        (8): BertLayer(\n",
              "          (attention): BertAttention(\n",
              "            (self): BertSelfAttention(\n",
              "              (query): Linear(in_features=768, out_features=768, bias=True)\n",
              "              (key): Linear(in_features=768, out_features=768, bias=True)\n",
              "              (value): Linear(in_features=768, out_features=768, bias=True)\n",
              "              (dropout): Dropout(p=0.1, inplace=False)\n",
              "            )\n",
              "            (output): BertSelfOutput(\n",
              "              (dense): Linear(in_features=768, out_features=768, bias=True)\n",
              "              (LayerNorm): LayerNorm((768,), eps=1e-12, elementwise_affine=True)\n",
              "              (dropout): Dropout(p=0.1, inplace=False)\n",
              "            )\n",
              "          )\n",
              "          (intermediate): BertIntermediate(\n",
              "            (dense): Linear(in_features=768, out_features=3072, bias=True)\n",
              "            (intermediate_act_fn): GELUActivation()\n",
              "          )\n",
              "          (output): BertOutput(\n",
              "            (dense): Linear(in_features=3072, out_features=768, bias=True)\n",
              "            (LayerNorm): LayerNorm((768,), eps=1e-12, elementwise_affine=True)\n",
              "            (dropout): Dropout(p=0.1, inplace=False)\n",
              "          )\n",
              "        )\n",
              "        (9): BertLayer(\n",
              "          (attention): BertAttention(\n",
              "            (self): BertSelfAttention(\n",
              "              (query): Linear(in_features=768, out_features=768, bias=True)\n",
              "              (key): Linear(in_features=768, out_features=768, bias=True)\n",
              "              (value): Linear(in_features=768, out_features=768, bias=True)\n",
              "              (dropout): Dropout(p=0.1, inplace=False)\n",
              "            )\n",
              "            (output): BertSelfOutput(\n",
              "              (dense): Linear(in_features=768, out_features=768, bias=True)\n",
              "              (LayerNorm): LayerNorm((768,), eps=1e-12, elementwise_affine=True)\n",
              "              (dropout): Dropout(p=0.1, inplace=False)\n",
              "            )\n",
              "          )\n",
              "          (intermediate): BertIntermediate(\n",
              "            (dense): Linear(in_features=768, out_features=3072, bias=True)\n",
              "            (intermediate_act_fn): GELUActivation()\n",
              "          )\n",
              "          (output): BertOutput(\n",
              "            (dense): Linear(in_features=3072, out_features=768, bias=True)\n",
              "            (LayerNorm): LayerNorm((768,), eps=1e-12, elementwise_affine=True)\n",
              "            (dropout): Dropout(p=0.1, inplace=False)\n",
              "          )\n",
              "        )\n",
              "        (10): BertLayer(\n",
              "          (attention): BertAttention(\n",
              "            (self): BertSelfAttention(\n",
              "              (query): Linear(in_features=768, out_features=768, bias=True)\n",
              "              (key): Linear(in_features=768, out_features=768, bias=True)\n",
              "              (value): Linear(in_features=768, out_features=768, bias=True)\n",
              "              (dropout): Dropout(p=0.1, inplace=False)\n",
              "            )\n",
              "            (output): BertSelfOutput(\n",
              "              (dense): Linear(in_features=768, out_features=768, bias=True)\n",
              "              (LayerNorm): LayerNorm((768,), eps=1e-12, elementwise_affine=True)\n",
              "              (dropout): Dropout(p=0.1, inplace=False)\n",
              "            )\n",
              "          )\n",
              "          (intermediate): BertIntermediate(\n",
              "            (dense): Linear(in_features=768, out_features=3072, bias=True)\n",
              "            (intermediate_act_fn): GELUActivation()\n",
              "          )\n",
              "          (output): BertOutput(\n",
              "            (dense): Linear(in_features=3072, out_features=768, bias=True)\n",
              "            (LayerNorm): LayerNorm((768,), eps=1e-12, elementwise_affine=True)\n",
              "            (dropout): Dropout(p=0.1, inplace=False)\n",
              "          )\n",
              "        )\n",
              "        (11): BertLayer(\n",
              "          (attention): BertAttention(\n",
              "            (self): BertSelfAttention(\n",
              "              (query): Linear(in_features=768, out_features=768, bias=True)\n",
              "              (key): Linear(in_features=768, out_features=768, bias=True)\n",
              "              (value): Linear(in_features=768, out_features=768, bias=True)\n",
              "              (dropout): Dropout(p=0.1, inplace=False)\n",
              "            )\n",
              "            (output): BertSelfOutput(\n",
              "              (dense): Linear(in_features=768, out_features=768, bias=True)\n",
              "              (LayerNorm): LayerNorm((768,), eps=1e-12, elementwise_affine=True)\n",
              "              (dropout): Dropout(p=0.1, inplace=False)\n",
              "            )\n",
              "          )\n",
              "          (intermediate): BertIntermediate(\n",
              "            (dense): Linear(in_features=768, out_features=3072, bias=True)\n",
              "            (intermediate_act_fn): GELUActivation()\n",
              "          )\n",
              "          (output): BertOutput(\n",
              "            (dense): Linear(in_features=3072, out_features=768, bias=True)\n",
              "            (LayerNorm): LayerNorm((768,), eps=1e-12, elementwise_affine=True)\n",
              "            (dropout): Dropout(p=0.1, inplace=False)\n",
              "          )\n",
              "        )\n",
              "      )\n",
              "    )\n",
              "  )\n",
              "  (dropout): Dropout(p=0.1, inplace=False)\n",
              "  (classifier): Linear(in_features=768, out_features=23, bias=True)\n",
              ")"
            ]
          },
          "metadata": {},
          "execution_count": 39
        }
      ]
    },
    {
      "cell_type": "code",
      "source": [
        "from datasets import load_metric\n",
        "\n",
        "metric = load_metric(\"seqeval\")\n",
        "\n",
        "def compute_metrics(p):\n",
        "    predictions, labels = p\n",
        "\n",
        "    #select predicted index with maximum logit for each token\n",
        "    predictions = np.argmax(predictions, axis=2)\n",
        "\n",
        "    # Remove ignored index (special tokens)\n",
        "    true_predictions = [\n",
        "        [label_names[p] for (p, l) in zip(prediction, label) if l != -100]\n",
        "        for prediction, label in zip(predictions, labels)\n",
        "    ]\n",
        "    true_labels = [\n",
        "        [label_names[l] for (p, l) in zip(prediction, label) if l != -100]\n",
        "        for prediction, label in zip(predictions, labels)\n",
        "    ]\n",
        "\n",
        "    results = metric.compute(predictions=true_predictions, references=true_labels)\n",
        "    return {\n",
        "        \"precision\": results[\"overall_precision\"],\n",
        "        \"recall\": results[\"overall_recall\"],\n",
        "        \"f1\": results[\"overall_f1\"],\n",
        "        \"accuracy\": results[\"overall_accuracy\"],\n",
        "    }\n",
        "\n"
      ],
      "metadata": {
        "colab": {
          "base_uri": "https://localhost:8080/",
          "height": 49,
          "referenced_widgets": [
            "3577c2b39be44621a01eef3fe476c5c8",
            "7c8de654adc040afacb1abcc0aaa3e44",
            "4e7981de0f234bda8fd18b2a8042ad66",
            "fe257164f64b4238bddec77d8ae7fbd6",
            "241bdf452e75477c968418637a4ce885",
            "673d75381ad64a6fbc8e4cb07ac919e4",
            "bb875dad783b47249205a505e6cc0cd0",
            "f676c800c3734b5da54e671378844b47",
            "4521ce50e1114444ab0e33e8cffe1f15",
            "a00732aafac6496a888c207829f00708",
            "5890bdff7f9d4bd7b4217f1e2b23eafa"
          ]
        },
        "id": "4Pk0_Z2KWdqa",
        "outputId": "d6d28767-8d7f-4d0a-f8e8-41f0dc3f0f27"
      },
      "execution_count": 40,
      "outputs": [
        {
          "output_type": "display_data",
          "data": {
            "text/plain": [
              "Downloading builder script:   0%|          | 0.00/2.47k [00:00<?, ?B/s]"
            ],
            "application/vnd.jupyter.widget-view+json": {
              "version_major": 2,
              "version_minor": 0,
              "model_id": "3577c2b39be44621a01eef3fe476c5c8"
            }
          },
          "metadata": {}
        }
      ]
    },
    {
      "cell_type": "code",
      "source": [
        "example = dataset[\"train\"][1]\n",
        "labels = [label_names[i] for i in example[f\"ner_tags\"]]\n",
        "metric.compute(predictions=[labels], references=[labels])"
      ],
      "metadata": {
        "colab": {
          "base_uri": "https://localhost:8080/"
        },
        "id": "fG6d7kDFWjhv",
        "outputId": "42283835-4681-4e34-e9b2-934d3bb494ff"
      },
      "execution_count": 41,
      "outputs": [
        {
          "output_type": "execute_result",
          "data": {
            "text/plain": [
              "{'DJ': {'f1': 1.0, 'number': 4, 'precision': 1.0, 'recall': 1.0},\n",
              " 'ELM': {'f1': 1.0, 'number': 2, 'precision': 1.0, 'recall': 1.0},\n",
              " 'ON': {'f1': 1.0, 'number': 2, 'precision': 1.0, 'recall': 1.0},\n",
              " 'RO': {'f1': 1.0, 'number': 1, 'precision': 1.0, 'recall': 1.0},\n",
              " '_': {'f1': 1.0, 'number': 4, 'precision': 1.0, 'recall': 1.0},\n",
              " 'overall_accuracy': 1.0,\n",
              " 'overall_f1': 1.0,\n",
              " 'overall_precision': 1.0,\n",
              " 'overall_recall': 1.0}"
            ]
          },
          "metadata": {},
          "execution_count": 41
        }
      ]
    },
    {
      "cell_type": "code",
      "source": [
        "from transformers import TrainingArguments, Trainer\n",
        "\n",
        "batch_size = 16\n",
        "logging_steps = len(tokenized_dataset['train']) // batch_size\n",
        "epochs = 2\n",
        "\n",
        "training_args = TrainingArguments(\n",
        "    output_dir= base_path + model_name + \"-finetuned\",\n",
        "    num_train_epochs=epochs,\n",
        "    per_device_train_batch_size=batch_size,\n",
        "    per_device_eval_batch_size=batch_size,\n",
        "    evaluation_strategy=\"epoch\",\n",
        "    disable_tqdm=False,\n",
        "    logging_steps=logging_steps)"
      ],
      "metadata": {
        "id": "VqEpl3W1WwXT"
      },
      "execution_count": 42,
      "outputs": []
    },
    {
      "cell_type": "code",
      "source": [
        "trainer = Trainer(\n",
        "    model=model,\n",
        "    args=training_args,\n",
        "    train_dataset=tokenized_dataset[\"train\"],\n",
        "    eval_dataset=tokenized_dataset[\"test\"],\n",
        "    data_collator=data_collator,\n",
        "    tokenizer=tokenizer,\n",
        "    compute_metrics=compute_metrics\n",
        ")"
      ],
      "metadata": {
        "id": "QYF2lsdQXT9g"
      },
      "execution_count": 43,
      "outputs": []
    },
    {
      "cell_type": "code",
      "source": [
        "trainer.train_dataset[0]"
      ],
      "metadata": {
        "colab": {
          "base_uri": "https://localhost:8080/"
        },
        "id": "salm4wBuXXse",
        "outputId": "41db24cd-909f-45f1-c55b-16202b7660fe"
      },
      "execution_count": 44,
      "outputs": [
        {
          "output_type": "execute_result",
          "data": {
            "text/plain": [
              "{'attention_mask': [1, 1, 1, 1, 1, 1],\n",
              " 'input_ids': [2, 328, 1216, 16628, 15, 4],\n",
              " 'labels': [-100, 22, 22, 22, 5, -100],\n",
              " 'token_type_ids': [0, 0, 0, 0, 0, 0]}"
            ]
          },
          "metadata": {},
          "execution_count": 44
        }
      ]
    },
    {
      "cell_type": "code",
      "source": [
        "trainer.train()"
      ],
      "metadata": {
        "colab": {
          "base_uri": "https://localhost:8080/",
          "height": 659
        },
        "id": "FXxjRkTOXd4_",
        "outputId": "b187cf8c-eb39-4474-c90b-38ea83e65984"
      },
      "execution_count": 45,
      "outputs": [
        {
          "output_type": "stream",
          "name": "stderr",
          "text": [
            "***** Running training *****\n",
            "  Num examples = 8722\n",
            "  Num Epochs = 2\n",
            "  Instantaneous batch size per device = 16\n",
            "  Total train batch size (w. parallel, distributed & accumulation) = 16\n",
            "  Gradient Accumulation steps = 1\n",
            "  Total optimization steps = 1092\n"
          ]
        },
        {
          "output_type": "display_data",
          "data": {
            "text/plain": [
              "<IPython.core.display.HTML object>"
            ],
            "text/html": [
              "\n",
              "    <div>\n",
              "      \n",
              "      <progress value='1092' max='1092' style='width:300px; height:20px; vertical-align: middle;'></progress>\n",
              "      [1092/1092 09:19, Epoch 2/2]\n",
              "    </div>\n",
              "    <table border=\"1\" class=\"dataframe\">\n",
              "  <thead>\n",
              " <tr style=\"text-align: left;\">\n",
              "      <th>Epoch</th>\n",
              "      <th>Training Loss</th>\n",
              "      <th>Validation Loss</th>\n",
              "      <th>Precision</th>\n",
              "      <th>Recall</th>\n",
              "      <th>F1</th>\n",
              "      <th>Accuracy</th>\n",
              "    </tr>\n",
              "  </thead>\n",
              "  <tbody>\n",
              "    <tr>\n",
              "      <td>1</td>\n",
              "      <td>0.307400</td>\n",
              "      <td>0.178384</td>\n",
              "      <td>0.867753</td>\n",
              "      <td>0.864309</td>\n",
              "      <td>0.866027</td>\n",
              "      <td>0.942742</td>\n",
              "    </tr>\n",
              "    <tr>\n",
              "      <td>2</td>\n",
              "      <td>0.127100</td>\n",
              "      <td>0.173416</td>\n",
              "      <td>0.874740</td>\n",
              "      <td>0.882547</td>\n",
              "      <td>0.878626</td>\n",
              "      <td>0.947291</td>\n",
              "    </tr>\n",
              "  </tbody>\n",
              "</table><p>"
            ]
          },
          "metadata": {}
        },
        {
          "output_type": "stream",
          "name": "stderr",
          "text": [
            "Saving model checkpoint to /content/drive/MyDrive/HW6/HooshvareLab/bert-base-parsbert-uncased-finetuned/checkpoint-500\n",
            "Configuration saved in /content/drive/MyDrive/HW6/HooshvareLab/bert-base-parsbert-uncased-finetuned/checkpoint-500/config.json\n",
            "Model weights saved in /content/drive/MyDrive/HW6/HooshvareLab/bert-base-parsbert-uncased-finetuned/checkpoint-500/pytorch_model.bin\n",
            "tokenizer config file saved in /content/drive/MyDrive/HW6/HooshvareLab/bert-base-parsbert-uncased-finetuned/checkpoint-500/tokenizer_config.json\n",
            "Special tokens file saved in /content/drive/MyDrive/HW6/HooshvareLab/bert-base-parsbert-uncased-finetuned/checkpoint-500/special_tokens_map.json\n",
            "***** Running Evaluation *****\n",
            "  Num examples = 9280\n",
            "  Batch size = 16\n",
            "Saving model checkpoint to /content/drive/MyDrive/HW6/HooshvareLab/bert-base-parsbert-uncased-finetuned/checkpoint-1000\n",
            "Configuration saved in /content/drive/MyDrive/HW6/HooshvareLab/bert-base-parsbert-uncased-finetuned/checkpoint-1000/config.json\n",
            "Model weights saved in /content/drive/MyDrive/HW6/HooshvareLab/bert-base-parsbert-uncased-finetuned/checkpoint-1000/pytorch_model.bin\n",
            "tokenizer config file saved in /content/drive/MyDrive/HW6/HooshvareLab/bert-base-parsbert-uncased-finetuned/checkpoint-1000/tokenizer_config.json\n",
            "Special tokens file saved in /content/drive/MyDrive/HW6/HooshvareLab/bert-base-parsbert-uncased-finetuned/checkpoint-1000/special_tokens_map.json\n",
            "***** Running Evaluation *****\n",
            "  Num examples = 9280\n",
            "  Batch size = 16\n",
            "\n",
            "\n",
            "Training completed. Do not forget to share your model on huggingface.co/models =)\n",
            "\n",
            "\n"
          ]
        },
        {
          "output_type": "execute_result",
          "data": {
            "text/plain": [
              "TrainOutput(global_step=1092, training_loss=0.21697705769877293, metrics={'train_runtime': 562.8554, 'train_samples_per_second': 30.992, 'train_steps_per_second': 1.94, 'total_flos': 1017647020062276.0, 'train_loss': 0.21697705769877293, 'epoch': 2.0})"
            ]
          },
          "metadata": {},
          "execution_count": 45
        }
      ]
    },
    {
      "cell_type": "code",
      "source": [
        "trainer.evaluate()"
      ],
      "metadata": {
        "colab": {
          "base_uri": "https://localhost:8080/",
          "height": 246
        },
        "id": "88Q7m3IhXpZD",
        "outputId": "acf7b44e-803f-4a4b-ee14-5aee66f1e120"
      },
      "execution_count": 46,
      "outputs": [
        {
          "output_type": "stream",
          "name": "stderr",
          "text": [
            "***** Running Evaluation *****\n",
            "  Num examples = 9280\n",
            "  Batch size = 16\n"
          ]
        },
        {
          "output_type": "display_data",
          "data": {
            "text/plain": [
              "<IPython.core.display.HTML object>"
            ],
            "text/html": [
              "\n",
              "    <div>\n",
              "      \n",
              "      <progress value='580' max='580' style='width:300px; height:20px; vertical-align: middle;'></progress>\n",
              "      [580/580 00:56]\n",
              "    </div>\n",
              "    "
            ]
          },
          "metadata": {}
        },
        {
          "output_type": "execute_result",
          "data": {
            "text/plain": [
              "{'epoch': 2.0,\n",
              " 'eval_accuracy': 0.947291142274961,\n",
              " 'eval_f1': 0.8786259804488571,\n",
              " 'eval_loss': 0.17341630160808563,\n",
              " 'eval_precision': 0.87474011826953,\n",
              " 'eval_recall': 0.8825465210483016,\n",
              " 'eval_runtime': 74.3911,\n",
              " 'eval_samples_per_second': 124.746,\n",
              " 'eval_steps_per_second': 7.797}"
            ]
          },
          "metadata": {},
          "execution_count": 46
        }
      ]
    },
    {
      "cell_type": "code",
      "source": [
        "predictions, labels, _ = trainer.predict(tokenized_dataset[\"test\"])\n",
        "predictions = np.argmax(predictions, axis=2)\n",
        "# Remove ignored index (special tokens)\n",
        "true_predictions = [\n",
        "    [label_names[p] for (p, l) in zip(prediction, label) if l != -100]\n",
        "    for prediction, label in zip(predictions, labels)\n",
        "]\n",
        "true_labels = [\n",
        "    [label_names[l] for (p, l) in zip(prediction, label) if l != -100]\n",
        "    for prediction, label in zip(predictions, labels)\n",
        "]\n",
        "results = metric.compute(predictions=true_predictions, references=true_labels)\n",
        "results"
      ],
      "metadata": {
        "colab": {
          "base_uri": "https://localhost:8080/",
          "height": 1000
        },
        "id": "3Dka8fwIXru-",
        "outputId": "708d598f-00fd-42e6-d671-47a71dd434cf"
      },
      "execution_count": 53,
      "outputs": [
        {
          "output_type": "stream",
          "name": "stderr",
          "text": [
            "***** Running Prediction *****\n",
            "  Num examples = 9280\n",
            "  Batch size = 16\n"
          ]
        },
        {
          "output_type": "display_data",
          "data": {
            "text/plain": [
              "<IPython.core.display.HTML object>"
            ],
            "text/html": [
              ""
            ]
          },
          "metadata": {}
        },
        {
          "output_type": "execute_result",
          "data": {
            "text/plain": [
              "{'ADJ': {'f1': 0.8217663468735117,\n",
              "  'number': 28953,\n",
              "  'precision': 0.8096195743254567,\n",
              "  'recall': 0.8342831485511001},\n",
              " 'ADV': {'f1': 0.7529812606473595,\n",
              "  'number': 3047,\n",
              "  'precision': 0.7828551186680835,\n",
              "  'recall': 0.7253035772891369},\n",
              " 'AR': {'f1': 0.21739130434782608,\n",
              "  'number': 21,\n",
              "  'precision': 0.2,\n",
              "  'recall': 0.23809523809523808},\n",
              " 'CON': {'f1': 0.9617730179979177,\n",
              "  'number': 20142,\n",
              "  'precision': 0.9604872251931076,\n",
              "  'recall': 0.9630622579684242},\n",
              " 'DEFAULT': {'f1': 0.0, 'number': 21, 'precision': 0.0, 'recall': 0.0},\n",
              " 'DELM': {'f1': 0.9776538362749057,\n",
              "  'number': 27109,\n",
              "  'precision': 0.9725152388947695,\n",
              "  'recall': 0.9828470249732562},\n",
              " 'DET': {'f1': 0.9680933852140079,\n",
              "  'number': 3838,\n",
              "  'precision': 0.9638429752066116,\n",
              "  'recall': 0.9723814486711829},\n",
              " 'IF': {'f1': 0.94017094017094,\n",
              "  'number': 177,\n",
              "  'precision': 0.9482758620689655,\n",
              "  'recall': 0.9322033898305084},\n",
              " 'INT': {'f1': 0.0, 'number': 5, 'precision': 0.0, 'recall': 0.0},\n",
              " 'MORP': {'f1': 0.14173228346456693,\n",
              "  'number': 176,\n",
              "  'precision': 0.23076923076923078,\n",
              "  'recall': 0.10227272727272728},\n",
              " 'MQUA': {'f1': 0.08403361344537814,\n",
              "  'number': 37,\n",
              "  'precision': 0.06097560975609756,\n",
              "  'recall': 0.13513513513513514},\n",
              " 'MS': {'f1': 0.2191780821917808,\n",
              "  'number': 62,\n",
              "  'precision': 0.19047619047619047,\n",
              "  'recall': 0.25806451612903225},\n",
              " 'N': {'f1': 0.8640919361769965,\n",
              "  'number': 71671,\n",
              "  'precision': 0.8585457901188656,\n",
              "  'recall': 0.8697102035690866},\n",
              " 'OH': {'f1': 0.0, 'number': 10, 'precision': 0.0, 'recall': 0.0},\n",
              " 'P': {'f1': 0.9894598599137931,\n",
              "  'number': 29652,\n",
              "  'precision': 0.9879959650302623,\n",
              "  'recall': 0.9909280992850398},\n",
              " 'PP': {'f1': 0.8712871287128713,\n",
              "  'number': 56,\n",
              "  'precision': 0.9777777777777777,\n",
              "  'recall': 0.7857142857142857},\n",
              " 'PRO': {'f1': 0.9340857787810383,\n",
              "  'number': 4450,\n",
              "  'precision': 0.9383219954648526,\n",
              "  'recall': 0.9298876404494382},\n",
              " 'PS': {'f1': 0.0, 'number': 7, 'precision': 0.0, 'recall': 0.0},\n",
              " 'QUA': {'f1': 0.8361180234624956,\n",
              "  'number': 1418,\n",
              "  'precision': 0.843010752688172,\n",
              "  'recall': 0.8293370944992948},\n",
              " 'SPEC': {'f1': 0.6088235294117648,\n",
              "  'number': 378,\n",
              "  'precision': 0.6854304635761589,\n",
              "  'recall': 0.5476190476190477},\n",
              " 'V': {'f1': 0.9718007915567283,\n",
              "  'number': 18235,\n",
              "  'precision': 0.9741032563777619,\n",
              "  'recall': 0.9695091856320264},\n",
              " 'overall_accuracy': 0.947291142274961,\n",
              " 'overall_f1': 0.9095287335829323,\n",
              " 'overall_precision': 0.9057715070309171,\n",
              " 'overall_recall': 0.9133172606402025}"
            ]
          },
          "metadata": {},
          "execution_count": 53
        }
      ]
    },
    {
      "cell_type": "code",
      "source": [
        "tag2int"
      ],
      "metadata": {
        "colab": {
          "base_uri": "https://localhost:8080/"
        },
        "id": "OyvD7XnmdiXB",
        "outputId": "cdad8088-d827-40f7-81b7-31ed4acb81ed"
      },
      "execution_count": 49,
      "outputs": [
        {
          "output_type": "execute_result",
          "data": {
            "text/plain": [
              "{'ADJ': 0,\n",
              " 'ADV': 1,\n",
              " 'AR': 2,\n",
              " 'CON': 3,\n",
              " 'DEFAULT': 4,\n",
              " 'DELM': 5,\n",
              " 'DET': 6,\n",
              " 'IF': 7,\n",
              " 'INT': 8,\n",
              " 'MORP': 9,\n",
              " 'MQUA': 10,\n",
              " 'MS': 11,\n",
              " 'N': 12,\n",
              " 'NP': 13,\n",
              " 'OH': 14,\n",
              " 'OHH': 15,\n",
              " 'P': 16,\n",
              " 'PP': 17,\n",
              " 'PRO': 18,\n",
              " 'PS': 19,\n",
              " 'QUA': 20,\n",
              " 'SPEC': 21,\n",
              " 'V': 22}"
            ]
          },
          "metadata": {},
          "execution_count": 49
        }
      ]
    },
    {
      "cell_type": "code",
      "source": [
        "from torch.nn.functional import cross_entropy\n",
        "\n",
        "def forward_pass_with_label(batch):\n",
        "    # Convert dict of lists to list of dicts suitable for data collator\n",
        "    features = [dict(zip(batch, t)) for t in zip(*batch.values())]\n",
        "    # Pad inputs and labels and put all tensors on device\n",
        "    batch = data_collator(features)\n",
        "    input_ids = batch[\"input_ids\"].to(device)\n",
        "    attention_mask = batch[\"attention_mask\"].to(device)\n",
        "    labels = batch[\"labels\"].to(device)\n",
        "    with torch.no_grad():\n",
        "        # Pass data through model  \n",
        "        output = trainer.model(input_ids, attention_mask)\n",
        "        # Logit.size: [batch_size, sequence_length, classes]\n",
        "        # Predict class with largest logit value on classes axis\n",
        "        predicted_label = torch.argmax(output.logits, axis=-1).cpu().numpy()\n",
        "    # Calculate loss per token after flattening batch dimension with view\n",
        "    loss = cross_entropy(output.logits.view(-1, 7), \n",
        "                         labels.view(-1), reduction=\"none\")\n",
        "    # Unflatten batch dimension and convert to numpy array\n",
        "    loss = loss.view(len(input_ids), -1).cpu().numpy()\n",
        "\n",
        "    return {\"loss\":loss, \"predicted_label\": predicted_label}"
      ],
      "metadata": {
        "id": "qb0eYEA1crnL"
      },
      "execution_count": null,
      "outputs": []
    },
    {
      "cell_type": "code",
      "source": [
        "# hide_output\n",
        "valid_set = panx_de_encoded[\"validation\"]\n",
        "valid_set = valid_set.map(forward_pass_with_label, batched=True, batch_size=32)\n",
        "df = valid_set.to_pandas()"
      ],
      "metadata": {
        "id": "_BhAy1mNc3nZ"
      },
      "execution_count": null,
      "outputs": []
    },
    {
      "cell_type": "code",
      "source": [
        "# hide_output\n",
        "index2tag[-100] = \"IGN\"\n",
        "df[\"input_tokens\"] = df[\"input_ids\"].apply(\n",
        "    lambda x: xlmr_tokenizer.convert_ids_to_tokens(x))\n",
        "df[\"predicted_label\"] = df[\"predicted_label\"].apply(\n",
        "    lambda x: [index2tag[i] for i in x])\n",
        "df[\"labels\"] = df[\"labels\"].apply(\n",
        "    lambda x: [index2tag[i] for i in x])\n",
        "df['loss'] = df.apply(\n",
        "    lambda x: x['loss'][:len(x['input_ids'])], axis=1)\n",
        "df['predicted_label'] = df.apply(\n",
        "    lambda x: x['predicted_label'][:len(x['input_ids'])], axis=1)\n",
        "df.head(1)"
      ],
      "metadata": {
        "id": "Vd-Pgtt-c97s"
      },
      "execution_count": null,
      "outputs": []
    },
    {
      "cell_type": "code",
      "execution_count": null,
      "metadata": {
        "id": "O9ew7LIzOUQi",
        "outputId": "851fd939-f163-433d-8a6f-966d4e52c1de"
      },
      "outputs": [
        {
          "data": {
            "text/html": [
              "<div>\n",
              "<style scoped>\n",
              "    .dataframe tbody tr th:only-of-type {\n",
              "        vertical-align: middle;\n",
              "    }\n",
              "\n",
              "    .dataframe tbody tr th {\n",
              "        vertical-align: top;\n",
              "    }\n",
              "\n",
              "    .dataframe thead th {\n",
              "        text-align: right;\n",
              "    }\n",
              "</style>\n",
              "<table border=\"1\" class=\"dataframe\">\n",
              "  <thead>\n",
              "    <tr style=\"text-align: right;\">\n",
              "      <th></th>\n",
              "      <th>attention_mask</th>\n",
              "      <th>input_ids</th>\n",
              "      <th>labels</th>\n",
              "      <th>loss</th>\n",
              "      <th>predicted_label</th>\n",
              "      <th>input_tokens</th>\n",
              "    </tr>\n",
              "  </thead>\n",
              "  <tbody>\n",
              "    <tr>\n",
              "      <th>0</th>\n",
              "      <td>1</td>\n",
              "      <td>10699</td>\n",
              "      <td>B-ORG</td>\n",
              "      <td>0.01</td>\n",
              "      <td>B-ORG</td>\n",
              "      <td>▁Ham</td>\n",
              "    </tr>\n",
              "    <tr>\n",
              "      <th>0</th>\n",
              "      <td>1</td>\n",
              "      <td>15</td>\n",
              "      <td>I-ORG</td>\n",
              "      <td>0.01</td>\n",
              "      <td>I-ORG</td>\n",
              "      <td>▁(</td>\n",
              "    </tr>\n",
              "    <tr>\n",
              "      <th>0</th>\n",
              "      <td>1</td>\n",
              "      <td>16104</td>\n",
              "      <td>I-ORG</td>\n",
              "      <td>0.01</td>\n",
              "      <td>I-ORG</td>\n",
              "      <td>▁Unternehmen</td>\n",
              "    </tr>\n",
              "    <tr>\n",
              "      <th>0</th>\n",
              "      <td>1</td>\n",
              "      <td>1388</td>\n",
              "      <td>I-ORG</td>\n",
              "      <td>0.01</td>\n",
              "      <td>I-ORG</td>\n",
              "      <td>▁)</td>\n",
              "    </tr>\n",
              "    <tr>\n",
              "      <th>1</th>\n",
              "      <td>1</td>\n",
              "      <td>56530</td>\n",
              "      <td>O</td>\n",
              "      <td>0.00</td>\n",
              "      <td>O</td>\n",
              "      <td>▁WE</td>\n",
              "    </tr>\n",
              "    <tr>\n",
              "      <th>1</th>\n",
              "      <td>1</td>\n",
              "      <td>83982</td>\n",
              "      <td>B-ORG</td>\n",
              "      <td>0.34</td>\n",
              "      <td>B-ORG</td>\n",
              "      <td>▁Luz</td>\n",
              "    </tr>\n",
              "    <tr>\n",
              "      <th>1</th>\n",
              "      <td>1</td>\n",
              "      <td>10</td>\n",
              "      <td>I-ORG</td>\n",
              "      <td>0.45</td>\n",
              "      <td>I-ORG</td>\n",
              "      <td>▁a</td>\n",
              "    </tr>\n",
              "  </tbody>\n",
              "</table>\n",
              "</div>"
            ],
            "text/plain": [
              "  attention_mask input_ids labels  loss predicted_label  input_tokens\n",
              "0              1     10699  B-ORG  0.01           B-ORG          ▁Ham\n",
              "0              1        15  I-ORG  0.01           I-ORG            ▁(\n",
              "0              1     16104  I-ORG  0.01           I-ORG  ▁Unternehmen\n",
              "0              1      1388  I-ORG  0.01           I-ORG            ▁)\n",
              "1              1     56530      O  0.00               O           ▁WE\n",
              "1              1     83982  B-ORG  0.34           B-ORG          ▁Luz\n",
              "1              1        10  I-ORG  0.45           I-ORG            ▁a"
            ]
          },
          "execution_count": null,
          "metadata": {},
          "output_type": "execute_result"
        }
      ],
      "source": [
        "# hide_output\n",
        "df_tokens = df.apply(pd.Series.explode)\n",
        "df_tokens = df_tokens.query(\"labels != 'IGN'\")\n",
        "df_tokens[\"loss\"] = df_tokens[\"loss\"].astype(float).round(2)\n",
        "df_tokens.head(7)"
      ]
    },
    {
      "cell_type": "code",
      "source": [
        ""
      ],
      "metadata": {
        "id": "oxhpWhxAdH3E"
      },
      "execution_count": null,
      "outputs": []
    },
    {
      "cell_type": "code",
      "execution_count": null,
      "metadata": {
        "id": "I-xNFxfdOUQi",
        "outputId": "ac557258-0cf2-430c-d513-87666231a9cc"
      },
      "outputs": [
        {
          "data": {
            "text/html": [
              "<div>\n",
              "<style scoped>\n",
              "    .dataframe tbody tr th:only-of-type {\n",
              "        vertical-align: middle;\n",
              "    }\n",
              "\n",
              "    .dataframe tbody tr th {\n",
              "        vertical-align: top;\n",
              "    }\n",
              "\n",
              "    .dataframe thead th {\n",
              "        text-align: right;\n",
              "    }\n",
              "</style>\n",
              "<table border=\"1\" class=\"dataframe\">\n",
              "  <thead>\n",
              "    <tr style=\"text-align: right;\">\n",
              "      <th></th>\n",
              "      <th>0</th>\n",
              "      <th>1</th>\n",
              "      <th>2</th>\n",
              "      <th>3</th>\n",
              "      <th>4</th>\n",
              "      <th>5</th>\n",
              "      <th>6</th>\n",
              "      <th>7</th>\n",
              "      <th>8</th>\n",
              "      <th>9</th>\n",
              "    </tr>\n",
              "  </thead>\n",
              "  <tbody>\n",
              "    <tr>\n",
              "      <th>input_tokens</th>\n",
              "      <td>▁</td>\n",
              "      <td>▁der</td>\n",
              "      <td>▁in</td>\n",
              "      <td>▁von</td>\n",
              "      <td>▁/</td>\n",
              "      <td>▁und</td>\n",
              "      <td>▁(</td>\n",
              "      <td>▁)</td>\n",
              "      <td>▁''</td>\n",
              "      <td>▁A</td>\n",
              "    </tr>\n",
              "    <tr>\n",
              "      <th>count</th>\n",
              "      <td>6066</td>\n",
              "      <td>1388</td>\n",
              "      <td>989</td>\n",
              "      <td>808</td>\n",
              "      <td>163</td>\n",
              "      <td>1171</td>\n",
              "      <td>246</td>\n",
              "      <td>246</td>\n",
              "      <td>2898</td>\n",
              "      <td>125</td>\n",
              "    </tr>\n",
              "    <tr>\n",
              "      <th>mean</th>\n",
              "      <td>0.03</td>\n",
              "      <td>0.1</td>\n",
              "      <td>0.14</td>\n",
              "      <td>0.14</td>\n",
              "      <td>0.64</td>\n",
              "      <td>0.08</td>\n",
              "      <td>0.3</td>\n",
              "      <td>0.29</td>\n",
              "      <td>0.02</td>\n",
              "      <td>0.44</td>\n",
              "    </tr>\n",
              "    <tr>\n",
              "      <th>sum</th>\n",
              "      <td>200.71</td>\n",
              "      <td>138.05</td>\n",
              "      <td>137.33</td>\n",
              "      <td>114.92</td>\n",
              "      <td>104.28</td>\n",
              "      <td>99.15</td>\n",
              "      <td>74.49</td>\n",
              "      <td>72.35</td>\n",
              "      <td>59.31</td>\n",
              "      <td>54.48</td>\n",
              "    </tr>\n",
              "  </tbody>\n",
              "</table>\n",
              "</div>"
            ],
            "text/plain": [
              "                   0       1       2       3       4      5      6      7  \\\n",
              "input_tokens       ▁    ▁der     ▁in    ▁von      ▁/   ▁und     ▁(     ▁)   \n",
              "count           6066    1388     989     808     163   1171    246    246   \n",
              "mean            0.03     0.1    0.14    0.14    0.64   0.08    0.3   0.29   \n",
              "sum           200.71  138.05  137.33  114.92  104.28  99.15  74.49  72.35   \n",
              "\n",
              "                  8      9  \n",
              "input_tokens    ▁''     ▁A  \n",
              "count          2898    125  \n",
              "mean           0.02   0.44  \n",
              "sum           59.31  54.48  "
            ]
          },
          "execution_count": null,
          "metadata": {},
          "output_type": "execute_result"
        }
      ],
      "source": [
        "(\n",
        "    df_tokens.groupby(\"input_tokens\")[[\"loss\"]]\n",
        "    .agg([\"count\", \"mean\", \"sum\"])\n",
        "    .droplevel(level=0, axis=1)  # Get rid of multi-level columns\n",
        "    .sort_values(by=\"sum\", ascending=False)\n",
        "    .reset_index()\n",
        "    .round(2)\n",
        "    .head(10)\n",
        "    .T\n",
        ")"
      ]
    },
    {
      "cell_type": "code",
      "execution_count": null,
      "metadata": {
        "id": "yIADxhllOUQj",
        "outputId": "3f81710e-10c1-4e9f-9b8b-0f8871ec8daa"
      },
      "outputs": [
        {
          "data": {
            "text/html": [
              "<div>\n",
              "<style scoped>\n",
              "    .dataframe tbody tr th:only-of-type {\n",
              "        vertical-align: middle;\n",
              "    }\n",
              "\n",
              "    .dataframe tbody tr th {\n",
              "        vertical-align: top;\n",
              "    }\n",
              "\n",
              "    .dataframe thead th {\n",
              "        text-align: right;\n",
              "    }\n",
              "</style>\n",
              "<table border=\"1\" class=\"dataframe\">\n",
              "  <thead>\n",
              "    <tr style=\"text-align: right;\">\n",
              "      <th></th>\n",
              "      <th>0</th>\n",
              "      <th>1</th>\n",
              "      <th>2</th>\n",
              "      <th>3</th>\n",
              "      <th>4</th>\n",
              "      <th>5</th>\n",
              "      <th>6</th>\n",
              "    </tr>\n",
              "  </thead>\n",
              "  <tbody>\n",
              "    <tr>\n",
              "      <th>labels</th>\n",
              "      <td>B-ORG</td>\n",
              "      <td>I-LOC</td>\n",
              "      <td>I-ORG</td>\n",
              "      <td>B-LOC</td>\n",
              "      <td>B-PER</td>\n",
              "      <td>I-PER</td>\n",
              "      <td>O</td>\n",
              "    </tr>\n",
              "    <tr>\n",
              "      <th>count</th>\n",
              "      <td>2683</td>\n",
              "      <td>1462</td>\n",
              "      <td>3820</td>\n",
              "      <td>3172</td>\n",
              "      <td>2893</td>\n",
              "      <td>4139</td>\n",
              "      <td>43648</td>\n",
              "    </tr>\n",
              "    <tr>\n",
              "      <th>mean</th>\n",
              "      <td>0.66</td>\n",
              "      <td>0.64</td>\n",
              "      <td>0.48</td>\n",
              "      <td>0.35</td>\n",
              "      <td>0.26</td>\n",
              "      <td>0.18</td>\n",
              "      <td>0.03</td>\n",
              "    </tr>\n",
              "    <tr>\n",
              "      <th>sum</th>\n",
              "      <td>1769.47</td>\n",
              "      <td>930.94</td>\n",
              "      <td>1850.39</td>\n",
              "      <td>1111.03</td>\n",
              "      <td>760.56</td>\n",
              "      <td>750.91</td>\n",
              "      <td>1354.46</td>\n",
              "    </tr>\n",
              "  </tbody>\n",
              "</table>\n",
              "</div>"
            ],
            "text/plain": [
              "              0       1        2        3       4       5        6\n",
              "labels    B-ORG   I-LOC    I-ORG    B-LOC   B-PER   I-PER        O\n",
              "count      2683    1462     3820     3172    2893    4139    43648\n",
              "mean       0.66    0.64     0.48     0.35    0.26    0.18     0.03\n",
              "sum     1769.47  930.94  1850.39  1111.03  760.56  750.91  1354.46"
            ]
          },
          "execution_count": null,
          "metadata": {},
          "output_type": "execute_result"
        }
      ],
      "source": [
        "(\n",
        "    df_tokens.groupby(\"labels\")[[\"loss\"]] \n",
        "    .agg([\"count\", \"mean\", \"sum\"])\n",
        "    .droplevel(level=0, axis=1)\n",
        "    .sort_values(by=\"mean\", ascending=False)\n",
        "    .reset_index()\n",
        "    .round(2)\n",
        "    .T\n",
        ")"
      ]
    },
    {
      "cell_type": "code",
      "execution_count": null,
      "metadata": {
        "id": "3rdzEl3LOUQk"
      },
      "outputs": [],
      "source": [
        "from sklearn.metrics import ConfusionMatrixDisplay, confusion_matrix\n",
        "\n",
        "def plot_confusion_matrix(y_preds, y_true, labels):\n",
        "    cm = confusion_matrix(y_true, y_preds, normalize=\"true\")\n",
        "    fig, ax = plt.subplots(figsize=(6, 6))\n",
        "    disp = ConfusionMatrixDisplay(confusion_matrix=cm, display_labels=labels)\n",
        "    disp.plot(cmap=\"Blues\", values_format=\".2f\", ax=ax, colorbar=False)\n",
        "    plt.title(\"Normalized confusion matrix\")\n",
        "    plt.show()"
      ]
    },
    {
      "cell_type": "code",
      "execution_count": null,
      "metadata": {
        "id": "rmdoWa2VOUQl",
        "outputId": "cb8e506d-5221-4e22-f56d-8328cba85dce"
      },
      "outputs": [
        {
          "data": {
            "application/pdf": "[encoded data removed]",
            "image/svg+xml": "<?xml version=\"1.0\" encoding=\"utf-8\" standalone=\"no\"?>\n<!DOCTYPE svg PUBLIC \"-//W3C//DTD SVG 1.1//EN\"\n  \"http://www.w3.org/Graphics/SVG/1.1/DTD/svg11.dtd\">\n<svg height=\"390.3305pt\" version=\"1.1\" viewBox=\"0 0 390.86 390.3305\" width=\"390.86pt\" xmlns=\"http://www.w3.org/2000/svg\" xmlns:xlink=\"http://www.w3.org/1999/xlink\">\n <metadata>\n  <rdf:RDF xmlns:cc=\"http://creativecommons.org/ns#\" xmlns:dc=\"http://purl.org/dc/elements/1.1/\" xmlns:rdf=\"http://www.w3.org/1999/02/22-rdf-syntax-ns#\">\n   <cc:Work>\n    <dc:type rdf:resource=\"http://purl.org/dc/dcmitype/StillImage\"/>\n    <dc:date>2021-12-07T12:19:00.917718</dc:date>\n    <dc:format>image/svg+xml</dc:format>\n    <dc:creator>\n     <cc:Agent>\n      <dc:title>Matplotlib v3.4.3, https://matplotlib.org/</dc:title>\n     </cc:Agent>\n    </dc:creator>\n   </cc:Work>\n  </rdf:RDF>\n </metadata>\n <defs>\n  <style type=\"text/css\">*{stroke-linecap:butt;stroke-linejoin:round;}</style>\n </defs>\n <g id=\"figure_1\">\n  <g id=\"patch_1\">\n   <path d=\"M 0 390.3305 \nL 390.86 390.3305 \nL 390.86 0 \nL 0 0 \nz\n\" style=\"fill:none;\"/>\n  </g>\n  <g id=\"axes_1\">\n   <g id=\"patch_2\">\n    <path d=\"M 57.5 349.9305 \nL 383.66 349.9305 \nL 383.66 23.7705 \nL 57.5 23.7705 \nz\n\" style=\"fill:#ffffff;\"/>\n   </g>\n   <g clip-path=\"url(#pb35a488033)\">\n    <image height=\"327\" id=\"image5cb95b4217\" transform=\"scale(1 -1)translate(0 -327)\" width=\"327\" x=\"57.5\" xlink:href=\"data:image/png;base64,\niVBORw0KGgoAAAANSUhEUgAAAUcAAAFHCAYAAAAySY5rAAAFIElEQVR4nO3WPaqdVRiGYb+dTTCl1bE6s8gExM4qMxAsgpAZCIKgE9DMQCLOQQipnYG1TWy0CkfOz/6cwF2tgG82+7pG8LBY3Lzbzd2+f3Sm9jOdvm3b9AT4X3zy9MX0hGWH6QEAHyJxBAjiCBDEESCII0AQR4AgjgBBHAGCOAIEcQQI4ggQxBEgiCNAEEeAII4AQRwBgjgCBHEECOIIEMQRIIgjQBBHgCCOAEEcAYI4AgRxBAjiCBDEESCII0AQR4AgjgBBHAGCOAIEcQQI4ggQxBEgiCNAEEeAII4AQRwBgjgCBHEECOIIEMQRIIgjQBBHgHCcHvA+tm2bnnBx9n2fnrDs7uE8t1999s30hGV///7T9IRlLkeAII4AQRwBgjgCBHEECOIIEMQRIIgjQBBHgCCOAEEcAYI4AgRxBAjiCBDEESCII0AQR4AgjgBBHAGCOAIEcQQI4ggQxBEgiCNAEEeAII4AQRwBgjgCBHEECOIIEMQRIIgjQBBHgCCOAEEcAYI4AgRxBAjiCBDEESCII0AQR4AgjgBBHAGCOAIEcQQI4ggQjvu+T2+4ONu2TU9Ydnt/mp6w7NNnP05PWPLX6x+mJyy7ezjfvrgcAYI4AgRxBAjiCBDEESCII0AQR4AgjgBBHAGCOAIEcQQI4ggQxBEgiCNAEEeAII4AQRwBgjgCBHEECOIIEMQRIIgjQBBHgCCOAEEcAYI4AgRxBAjiCBDEESCII0AQR4AgjgBBHAGCOAIEcQQI4ggQxBEgiCNAEEeAII4AQRwBgjgCBHEECOIIEMQRIBxP+/SEdY8O2/SEi3P91S/TE5b98err6QlLfPMZLkeAII4AQRwBgjgCBHEECOIIEMQRIIgjQBBHgCCOAEEcAYI4AgRxBAjiCBDEESCII0AQR4AgjgBBHAGCOAIEcQQI4ggQxBEgiCNAEEeAII4AQRwBgjgCBHEECOIIEMQRIIgjQBBHgCCOAEEcAYI4AgRxBAjiCBDEESCII0AQR4AgjgBBHAGCOAIEcQQI4ggQjtv0gvdwe3+anrDk6vNvpycs++fN99MTLs6+79MTLpLLESCII0AQR4AgjgBBHAGCOAIEcQQI4ggQxBEgiCNAEEeAII4AQRwBgjgCBHEECOIIEMQRIIgjQBBHgCCOAEEcAYI4AgRxBAjiCBDEESCII0AQR4AgjgBBHAGCOAIEcQQI4ggQxBEgiCNAEEeAII4AQRwBgjgCBHEECOIIEMQRIIgjQBBHgCCOAEEcAYI4AoTjzd3D9IZl11/+PD1hydvfvpuecJFOp316wpLDYZuesOzdv/fTE5a5HAGCOAIEcQQI4ggQxBEgiCNAEEeAII4AQRwBgjgCBHEECOIIEMQRIIgjQBBHgCCOAEEcAYI4AgRxBAjiCBDEESCII0AQR4AgjgBBHAGCOAIEcQQI4ggQxBEgiCNAEEeAII4AQRwBgjgCBHEECOIIEMQRIIgjQBBHgCCOAEEcAYI4AgRxBAjiCBDEESBsH3/xcp8eserPX59PT1jy5PGj6QnLtukBF+hwON9Xv384TU9Y5nIECOIIEMQRIIgjQBBHgCCOAEEcAYI4AgRxBAjiCBDEESCII0AQR4AgjgBBHAGCOAIEcQQI4ggQxBEgiCNAEEeAII4AQRwBgjgCBHEECOIIEMQRIIgjQBBHgCCOAEEcAYI4AgRxBAjiCBDEESCII0AQR4AgjgBBHAGCOAIEcQQI4ggQxBEgiCNAEEeAII4A4T9Y7UB3SSLzLgAAAABJRU5ErkJggg==\" y=\"-22.9305\"/>\n   </g>\n   <g id=\"matplotlib.axis_1\">\n    <g id=\"xtick_1\">\n     <g id=\"line2d_1\">\n      <defs>\n       <path d=\"M 0 0 \nL 0 3.5 \n\" id=\"m2df1bab93a\" style=\"stroke:#000000;stroke-width:0.8;\"/>\n      </defs>\n      <g>\n       <use style=\"stroke:#000000;stroke-width:0.8;\" x=\"80.797143\" xlink:href=\"#m2df1bab93a\" y=\"349.9305\"/>\n      </g>\n     </g>\n     <g id=\"text_1\">\n      <!-- O -->\n      <g transform=\"translate(77.38933 365.73925)scale(0.12 -0.12)\">\n       <defs>\n        <path d=\"M 1818 -64 \nC 2886 -64 3398 736 3398 2054 \nL 3398 2374 \nC 3398 3814 2842 4499 1818 4499 \nC 768 4499 237 3725 237 2362 \nL 237 2067 \nC 237 576 819 -64 1818 -64 \nz\nM 1824 384 \nC 1056 384 806 1037 806 2074 \nL 806 2477 \nC 806 3398 1082 4051 1805 4051 \nC 2573 4051 2829 3418 2829 2374 \nL 2829 1965 \nC 2829 998 2534 384 1824 384 \nz\n\" id=\"GuardianSansCond-Regular-4f\" transform=\"scale(0.015625)\"/>\n       </defs>\n       <use xlink:href=\"#GuardianSansCond-Regular-4f\"/>\n      </g>\n     </g>\n    </g>\n    <g id=\"xtick_2\">\n     <g id=\"line2d_2\">\n      <g>\n       <use style=\"stroke:#000000;stroke-width:0.8;\" x=\"127.391429\" xlink:href=\"#m2df1bab93a\" y=\"349.9305\"/>\n      </g>\n     </g>\n     <g id=\"text_2\">\n      <!-- B-PER -->\n      <g transform=\"translate(114.382679 365.73925)scale(0.12 -0.12)\">\n       <defs>\n        <path d=\"M 416 0 \nL 1562 0 \nC 2528 0 2944 493 2944 1254 \nC 2944 1965 2618 2253 2112 2323 \nL 2112 2349 \nC 2605 2483 2790 2842 2790 3334 \nC 2790 4026 2464 4435 1517 4435 \nL 416 4435 \nL 416 0 \nz\nM 954 454 \nL 954 2074 \nL 1517 2074 \nC 2086 2074 2381 1875 2381 1293 \nC 2381 736 2157 454 1517 454 \nL 954 454 \nz\nM 954 2515 \nL 954 3974 \nL 1453 3974 \nC 1978 3974 2240 3814 2240 3264 \nC 2240 2707 1920 2515 1402 2515 \nL 954 2515 \nz\n\" id=\"GuardianSansCond-Regular-42\" transform=\"scale(0.015625)\"/>\n        <path d=\"M 333 1536 \nL 1408 1536 \nL 1408 1990 \nL 333 1990 \nL 333 1536 \nz\n\" id=\"GuardianSansCond-Regular-2d\" transform=\"scale(0.015625)\"/>\n        <path d=\"M 416 0 \nL 954 0 \nL 954 1766 \nL 1555 1766 \nC 2362 1766 2854 2246 2854 3117 \nC 2854 4026 2413 4435 1536 4435 \nL 416 4435 \nL 416 0 \nz\nM 954 2221 \nL 954 3974 \nL 1478 3974 \nC 2061 3974 2285 3750 2285 3098 \nC 2285 2496 2054 2221 1472 2221 \nL 954 2221 \nz\n\" id=\"GuardianSansCond-Regular-50\" transform=\"scale(0.015625)\"/>\n        <path d=\"M 416 0 \nL 2650 0 \nL 2650 461 \nL 954 461 \nL 954 2067 \nL 2266 2067 \nL 2266 2522 \nL 954 2522 \nL 954 3974 \nL 2630 3974 \nL 2630 4435 \nL 416 4435 \nL 416 0 \nz\n\" id=\"GuardianSansCond-Regular-45\" transform=\"scale(0.015625)\"/>\n        <path d=\"M 416 0 \nL 954 0 \nL 954 1888 \nL 1574 1888 \nL 2483 0 \nL 3066 0 \nL 2093 1990 \nL 2093 2022 \nC 2528 2182 2810 2502 2810 3168 \nC 2810 4058 2400 4435 1485 4435 \nL 416 4435 \nL 416 0 \nz\nM 954 2330 \nL 954 3974 \nL 1446 3974 \nC 2035 3974 2240 3744 2240 3149 \nC 2240 2586 2016 2330 1472 2330 \nL 954 2330 \nz\n\" id=\"GuardianSansCond-Regular-52\" transform=\"scale(0.015625)\"/>\n       </defs>\n       <use xlink:href=\"#GuardianSansCond-Regular-42\"/>\n       <use x=\"48.999985\" xlink:href=\"#GuardianSansCond-Regular-2d\"/>\n       <use x=\"76.199982\" xlink:href=\"#GuardianSansCond-Regular-50\"/>\n       <use x=\"123.199966\" xlink:href=\"#GuardianSansCond-Regular-45\"/>\n       <use x=\"168.09996\" xlink:href=\"#GuardianSansCond-Regular-52\"/>\n      </g>\n     </g>\n    </g>\n    <g id=\"xtick_3\">\n     <g id=\"line2d_3\">\n      <g>\n       <use style=\"stroke:#000000;stroke-width:0.8;\" x=\"173.985714\" xlink:href=\"#m2df1bab93a\" y=\"349.9305\"/>\n      </g>\n     </g>\n     <g id=\"text_3\">\n      <!-- I-PER -->\n      <g transform=\"translate(162.614777 365.73925)scale(0.12 -0.12)\">\n       <defs>\n        <path d=\"M 429 0 \nL 966 0 \nL 966 4435 \nL 429 4435 \nL 429 0 \nz\n\" id=\"GuardianSansCond-Regular-49\" transform=\"scale(0.015625)\"/>\n       </defs>\n       <use xlink:href=\"#GuardianSansCond-Regular-49\"/>\n       <use x=\"21.699997\" xlink:href=\"#GuardianSansCond-Regular-2d\"/>\n       <use x=\"48.899994\" xlink:href=\"#GuardianSansCond-Regular-50\"/>\n       <use x=\"95.899979\" xlink:href=\"#GuardianSansCond-Regular-45\"/>\n       <use x=\"140.799973\" xlink:href=\"#GuardianSansCond-Regular-52\"/>\n      </g>\n     </g>\n    </g>\n    <g id=\"xtick_4\">\n     <g id=\"line2d_4\">\n      <g>\n       <use style=\"stroke:#000000;stroke-width:0.8;\" x=\"220.58\" xlink:href=\"#m2df1bab93a\" y=\"349.9305\"/>\n      </g>\n     </g>\n     <g id=\"text_4\">\n      <!-- B-ORG -->\n      <g transform=\"translate(206.48 365.73925)scale(0.12 -0.12)\">\n       <defs>\n        <path d=\"M 1933 -64 \nC 2451 -64 2842 51 3098 166 \nL 3098 2234 \nL 1837 2234 \nL 1837 1779 \nL 2566 1779 \nL 2566 486 \nC 2432 435 2208 397 1978 397 \nC 1056 397 806 1011 806 2099 \nL 806 2406 \nC 806 3398 1088 4038 1990 4038 \nC 2438 4038 2714 3930 2944 3821 \nL 2944 4275 \nC 2758 4390 2477 4499 2022 4499 \nC 909 4499 237 3853 237 2342 \nL 237 2099 \nC 237 493 864 -64 1933 -64 \nz\n\" id=\"GuardianSansCond-Regular-47\" transform=\"scale(0.015625)\"/>\n       </defs>\n       <use xlink:href=\"#GuardianSansCond-Regular-42\"/>\n       <use x=\"48.999985\" xlink:href=\"#GuardianSansCond-Regular-2d\"/>\n       <use x=\"76.199982\" xlink:href=\"#GuardianSansCond-Regular-4f\"/>\n       <use x=\"132.999969\" xlink:href=\"#GuardianSansCond-Regular-52\"/>\n       <use x=\"181.699966\" xlink:href=\"#GuardianSansCond-Regular-47\"/>\n      </g>\n     </g>\n    </g>\n    <g id=\"xtick_5\">\n     <g id=\"line2d_5\">\n      <g>\n       <use style=\"stroke:#000000;stroke-width:0.8;\" x=\"267.174286\" xlink:href=\"#m2df1bab93a\" y=\"349.9305\"/>\n      </g>\n     </g>\n     <g id=\"text_5\">\n      <!-- I-ORG -->\n      <g transform=\"translate(254.712098 365.73925)scale(0.12 -0.12)\">\n       <use xlink:href=\"#GuardianSansCond-Regular-49\"/>\n       <use x=\"21.699997\" xlink:href=\"#GuardianSansCond-Regular-2d\"/>\n       <use x=\"48.899994\" xlink:href=\"#GuardianSansCond-Regular-4f\"/>\n       <use x=\"105.699982\" xlink:href=\"#GuardianSansCond-Regular-52\"/>\n       <use x=\"154.399979\" xlink:href=\"#GuardianSansCond-Regular-47\"/>\n      </g>\n     </g>\n    </g>\n    <g id=\"xtick_6\">\n     <g id=\"line2d_6\">\n      <g>\n       <use style=\"stroke:#000000;stroke-width:0.8;\" x=\"313.768571\" xlink:href=\"#m2df1bab93a\" y=\"349.9305\"/>\n      </g>\n     </g>\n     <g id=\"text_6\">\n      <!-- B-LOC -->\n      <g transform=\"translate(300.436384 365.73925)scale(0.12 -0.12)\">\n       <defs>\n        <path d=\"M 416 0 \nL 2541 0 \nL 2541 461 \nL 954 461 \nL 954 4435 \nL 416 4435 \nL 416 0 \nz\n\" id=\"GuardianSansCond-Regular-4c\" transform=\"scale(0.015625)\"/>\n        <path d=\"M 1882 -64 \nC 2304 -64 2637 38 2874 186 \nL 2874 640 \nC 2643 518 2342 397 1946 397 \nC 1114 397 806 986 806 2042 \nL 806 2445 \nC 806 3648 1267 4038 1920 4038 \nC 2278 4038 2541 3955 2822 3840 \nL 2822 4288 \nC 2618 4410 2336 4499 1952 4499 \nC 1005 4499 237 3994 237 2387 \nL 237 2042 \nC 237 563 851 -64 1882 -64 \nz\n\" id=\"GuardianSansCond-Regular-43\" transform=\"scale(0.015625)\"/>\n       </defs>\n       <use xlink:href=\"#GuardianSansCond-Regular-42\"/>\n       <use x=\"48.999985\" xlink:href=\"#GuardianSansCond-Regular-2d\"/>\n       <use x=\"76.199982\" xlink:href=\"#GuardianSansCond-Regular-4c\"/>\n       <use x=\"117.999969\" xlink:href=\"#GuardianSansCond-Regular-4f\"/>\n       <use x=\"174.799957\" xlink:href=\"#GuardianSansCond-Regular-43\"/>\n      </g>\n     </g>\n    </g>\n    <g id=\"xtick_7\">\n     <g id=\"line2d_7\">\n      <g>\n       <use style=\"stroke:#000000;stroke-width:0.8;\" x=\"360.362857\" xlink:href=\"#m2df1bab93a\" y=\"349.9305\"/>\n      </g>\n     </g>\n     <g id=\"text_7\">\n      <!-- I-LOC -->\n      <g transform=\"translate(348.668482 365.73925)scale(0.12 -0.12)\">\n       <use xlink:href=\"#GuardianSansCond-Regular-49\"/>\n       <use x=\"21.699997\" xlink:href=\"#GuardianSansCond-Regular-2d\"/>\n       <use x=\"48.899994\" xlink:href=\"#GuardianSansCond-Regular-4c\"/>\n       <use x=\"90.699982\" xlink:href=\"#GuardianSansCond-Regular-4f\"/>\n       <use x=\"147.499969\" xlink:href=\"#GuardianSansCond-Regular-43\"/>\n      </g>\n     </g>\n    </g>\n    <g id=\"text_8\">\n     <!-- Predicted label -->\n     <g transform=\"translate(189.075313 380.83925)scale(0.12 -0.12)\">\n      <defs>\n       <path d=\"M 346 0 \nL 870 0 \nL 870 2605 \nC 1062 2752 1306 2842 1587 2842 \nC 1638 2842 1728 2835 1786 2829 \nL 1786 3302 \nC 1747 3315 1677 3328 1606 3328 \nC 1306 3328 1030 3142 870 2938 \nL 845 2938 \nL 845 3283 \nL 346 3283 \nL 346 0 \nz\n\" id=\"GuardianSansCond-Regular-72\" transform=\"scale(0.015625)\"/>\n       <path d=\"M 1555 -51 \nC 1984 -51 2317 102 2470 243 \nL 2470 627 \nC 2240 499 1965 397 1613 397 \nC 1037 397 742 698 723 1466 \nL 2554 1466 \nL 2554 1798 \nC 2554 2893 2176 3334 1402 3334 \nC 659 3334 186 2810 186 1722 \nL 186 1549 \nC 186 499 634 -51 1555 -51 \nz\nM 1382 2906 \nC 1830 2906 2010 2611 2010 1894 \nL 723 1894 \nC 736 2630 992 2906 1382 2906 \nz\n\" id=\"GuardianSansCond-Regular-65\" transform=\"scale(0.015625)\"/>\n       <path d=\"M 1357 -51 \nC 1690 -51 1965 77 2125 243 \nL 2150 243 \nL 2195 0 \nL 2637 0 \nL 2637 4698 \nL 2118 4698 \nL 2118 3174 \nC 1978 3264 1734 3334 1466 3334 \nC 634 3334 198 2739 198 1670 \nL 198 1523 \nC 198 339 723 -51 1357 -51 \nz\nM 1504 378 \nC 992 378 742 749 742 1542 \nL 742 1728 \nC 742 2541 979 2893 1536 2893 \nC 1779 2893 2003 2835 2118 2758 \nL 2118 595 \nC 1984 493 1773 378 1504 378 \nz\n\" id=\"GuardianSansCond-Regular-64\" transform=\"scale(0.015625)\"/>\n       <path d=\"M 358 0 \nL 883 0 \nL 883 3283 \nL 358 3283 \nL 358 0 \nz\nM 352 3910 \nL 883 3910 \nL 883 4474 \nL 352 4474 \nL 352 3910 \nz\n\" id=\"GuardianSansCond-Regular-69\" transform=\"scale(0.015625)\"/>\n       <path d=\"M 1498 -51 \nC 1869 -51 2125 51 2298 173 \nL 2298 595 \nC 2163 518 1907 390 1555 390 \nC 1005 390 723 704 723 1542 \nL 723 1798 \nC 723 2464 941 2893 1510 2893 \nC 1856 2893 2054 2803 2259 2714 \nL 2259 3149 \nC 2093 3258 1875 3334 1542 3334 \nC 768 3334 186 2886 186 1741 \nL 186 1536 \nC 186 416 685 -51 1498 -51 \nz\n\" id=\"GuardianSansCond-Regular-63\" transform=\"scale(0.015625)\"/>\n       <path d=\"M 1222 -38 \nC 1466 -38 1619 26 1722 90 \nL 1722 442 \nC 1632 416 1517 390 1382 390 \nC 1107 390 1005 480 1005 781 \nL 1005 2848 \nL 1683 2848 \nL 1683 3283 \nL 1005 3283 \nL 1005 4051 \nL 486 4051 \nL 486 3283 \nL 96 3283 \nL 96 2848 \nL 486 2848 \nL 486 710 \nC 486 160 774 -38 1222 -38 \nz\n\" id=\"GuardianSansCond-Regular-74\" transform=\"scale(0.015625)\"/>\n       <path id=\"GuardianSansCond-Regular-20\" transform=\"scale(0.015625)\"/>\n       <path d=\"M 358 0 \nL 877 0 \nL 877 4698 \nL 358 4698 \nL 358 0 \nz\n\" id=\"GuardianSansCond-Regular-6c\" transform=\"scale(0.015625)\"/>\n       <path d=\"M 1082 -51 \nC 1395 -51 1638 77 1779 230 \nL 1811 230 \nL 1862 0 \nL 2291 0 \nL 2291 2413 \nC 2291 3027 1958 3334 1293 3334 \nC 915 3334 634 3258 410 3155 \nL 410 2771 \nC 576 2829 806 2886 1094 2886 \nC 1600 2886 1766 2739 1766 2278 \nL 1766 1958 \nL 1088 1856 \nC 480 1766 160 1466 160 883 \nC 160 250 525 -51 1082 -51 \nz\nM 1222 358 \nC 877 358 704 544 704 915 \nC 704 1274 877 1440 1242 1485 \nL 1766 1549 \nL 1766 525 \nC 1658 435 1459 358 1222 358 \nz\n\" id=\"GuardianSansCond-Regular-61\" transform=\"scale(0.015625)\"/>\n       <path d=\"M 1382 -64 \nC 2317 -64 2784 531 2784 1619 \nL 2784 1843 \nC 2784 2995 2285 3334 1702 3334 \nC 1338 3334 1075 3219 896 3104 \nL 870 3104 \nL 870 4698 \nL 346 4698 \nL 346 102 \nC 557 19 1005 -64 1382 -64 \nz\nM 1408 378 \nC 1165 378 979 416 870 454 \nL 870 2733 \nC 992 2790 1216 2893 1491 2893 \nC 2003 2893 2246 2650 2246 1818 \nL 2246 1549 \nC 2246 627 1875 378 1408 378 \nz\n\" id=\"GuardianSansCond-Regular-62\" transform=\"scale(0.015625)\"/>\n      </defs>\n      <use xlink:href=\"#GuardianSansCond-Regular-50\"/>\n      <use x=\"46.999985\" xlink:href=\"#GuardianSansCond-Regular-72\"/>\n      <use x=\"75.799973\" xlink:href=\"#GuardianSansCond-Regular-65\"/>\n      <use x=\"118.499969\" xlink:href=\"#GuardianSansCond-Regular-64\"/>\n      <use x=\"165.09996\" xlink:href=\"#GuardianSansCond-Regular-69\"/>\n      <use x=\"184.399948\" xlink:href=\"#GuardianSansCond-Regular-63\"/>\n      <use x=\"222.199936\" xlink:href=\"#GuardianSansCond-Regular-74\"/>\n      <use x=\"251.199921\" xlink:href=\"#GuardianSansCond-Regular-65\"/>\n      <use x=\"293.899918\" xlink:href=\"#GuardianSansCond-Regular-64\"/>\n      <use x=\"340.499908\" xlink:href=\"#GuardianSansCond-Regular-20\"/>\n      <use x=\"356.299896\" xlink:href=\"#GuardianSansCond-Regular-6c\"/>\n      <use x=\"375.599884\" xlink:href=\"#GuardianSansCond-Regular-61\"/>\n      <use x=\"416.499878\" xlink:href=\"#GuardianSansCond-Regular-62\"/>\n      <use x=\"463.099869\" xlink:href=\"#GuardianSansCond-Regular-65\"/>\n      <use x=\"505.799866\" xlink:href=\"#GuardianSansCond-Regular-6c\"/>\n     </g>\n    </g>\n   </g>\n   <g id=\"matplotlib.axis_2\">\n    <g id=\"ytick_1\">\n     <g id=\"line2d_8\">\n      <defs>\n       <path d=\"M 0 0 \nL -3.5 0 \n\" id=\"m588538198e\" style=\"stroke:#000000;stroke-width:0.8;\"/>\n      </defs>\n      <g>\n       <use style=\"stroke:#000000;stroke-width:0.8;\" x=\"57.5\" xlink:href=\"#m588538198e\" y=\"47.067643\"/>\n      </g>\n     </g>\n     <g id=\"text_9\">\n      <!-- O -->\n      <g transform=\"translate(43.684375 51.472018)scale(0.12 -0.12)\">\n       <use xlink:href=\"#GuardianSansCond-Regular-4f\"/>\n      </g>\n     </g>\n    </g>\n    <g id=\"ytick_2\">\n     <g id=\"line2d_9\">\n      <g>\n       <use style=\"stroke:#000000;stroke-width:0.8;\" x=\"57.5\" xlink:href=\"#m588538198e\" y=\"93.661929\"/>\n      </g>\n     </g>\n     <g id=\"text_10\">\n      <!-- B-PER -->\n      <g transform=\"translate(24.4825 98.066304)scale(0.12 -0.12)\">\n       <use xlink:href=\"#GuardianSansCond-Regular-42\"/>\n       <use x=\"48.999985\" xlink:href=\"#GuardianSansCond-Regular-2d\"/>\n       <use x=\"76.199982\" xlink:href=\"#GuardianSansCond-Regular-50\"/>\n       <use x=\"123.199966\" xlink:href=\"#GuardianSansCond-Regular-45\"/>\n       <use x=\"168.09996\" xlink:href=\"#GuardianSansCond-Regular-52\"/>\n      </g>\n     </g>\n    </g>\n    <g id=\"ytick_3\">\n     <g id=\"line2d_10\">\n      <g>\n       <use style=\"stroke:#000000;stroke-width:0.8;\" x=\"57.5\" xlink:href=\"#m588538198e\" y=\"140.256214\"/>\n      </g>\n     </g>\n     <g id=\"text_11\">\n      <!-- I-PER -->\n      <g transform=\"translate(27.758125 144.660589)scale(0.12 -0.12)\">\n       <use xlink:href=\"#GuardianSansCond-Regular-49\"/>\n       <use x=\"21.699997\" xlink:href=\"#GuardianSansCond-Regular-2d\"/>\n       <use x=\"48.899994\" xlink:href=\"#GuardianSansCond-Regular-50\"/>\n       <use x=\"95.899979\" xlink:href=\"#GuardianSansCond-Regular-45\"/>\n       <use x=\"140.799973\" xlink:href=\"#GuardianSansCond-Regular-52\"/>\n      </g>\n     </g>\n    </g>\n    <g id=\"ytick_4\">\n     <g id=\"line2d_11\">\n      <g>\n       <use style=\"stroke:#000000;stroke-width:0.8;\" x=\"57.5\" xlink:href=\"#m588538198e\" y=\"186.8505\"/>\n      </g>\n     </g>\n     <g id=\"text_12\">\n      <!-- B-ORG -->\n      <g transform=\"translate(22.3 191.254875)scale(0.12 -0.12)\">\n       <use xlink:href=\"#GuardianSansCond-Regular-42\"/>\n       <use x=\"48.999985\" xlink:href=\"#GuardianSansCond-Regular-2d\"/>\n       <use x=\"76.199982\" xlink:href=\"#GuardianSansCond-Regular-4f\"/>\n       <use x=\"132.999969\" xlink:href=\"#GuardianSansCond-Regular-52\"/>\n       <use x=\"181.699966\" xlink:href=\"#GuardianSansCond-Regular-47\"/>\n      </g>\n     </g>\n    </g>\n    <g id=\"ytick_5\">\n     <g id=\"line2d_12\">\n      <g>\n       <use style=\"stroke:#000000;stroke-width:0.8;\" x=\"57.5\" xlink:href=\"#m588538198e\" y=\"233.444786\"/>\n      </g>\n     </g>\n     <g id=\"text_13\">\n      <!-- I-ORG -->\n      <g transform=\"translate(25.575625 237.849161)scale(0.12 -0.12)\">\n       <use xlink:href=\"#GuardianSansCond-Regular-49\"/>\n       <use x=\"21.699997\" xlink:href=\"#GuardianSansCond-Regular-2d\"/>\n       <use x=\"48.899994\" xlink:href=\"#GuardianSansCond-Regular-4f\"/>\n       <use x=\"105.699982\" xlink:href=\"#GuardianSansCond-Regular-52\"/>\n       <use x=\"154.399979\" xlink:href=\"#GuardianSansCond-Regular-47\"/>\n      </g>\n     </g>\n    </g>\n    <g id=\"ytick_6\">\n     <g id=\"line2d_13\">\n      <g>\n       <use style=\"stroke:#000000;stroke-width:0.8;\" x=\"57.5\" xlink:href=\"#m588538198e\" y=\"280.039071\"/>\n      </g>\n     </g>\n     <g id=\"text_14\">\n      <!-- B-LOC -->\n      <g transform=\"translate(23.835625 284.443446)scale(0.12 -0.12)\">\n       <use xlink:href=\"#GuardianSansCond-Regular-42\"/>\n       <use x=\"48.999985\" xlink:href=\"#GuardianSansCond-Regular-2d\"/>\n       <use x=\"76.199982\" xlink:href=\"#GuardianSansCond-Regular-4c\"/>\n       <use x=\"117.999969\" xlink:href=\"#GuardianSansCond-Regular-4f\"/>\n       <use x=\"174.799957\" xlink:href=\"#GuardianSansCond-Regular-43\"/>\n      </g>\n     </g>\n    </g>\n    <g id=\"ytick_7\">\n     <g id=\"line2d_14\">\n      <g>\n       <use style=\"stroke:#000000;stroke-width:0.8;\" x=\"57.5\" xlink:href=\"#m588538198e\" y=\"326.633357\"/>\n      </g>\n     </g>\n     <g id=\"text_15\">\n      <!-- I-LOC -->\n      <g transform=\"translate(27.11125 331.037732)scale(0.12 -0.12)\">\n       <use xlink:href=\"#GuardianSansCond-Regular-49\"/>\n       <use x=\"21.699997\" xlink:href=\"#GuardianSansCond-Regular-2d\"/>\n       <use x=\"48.899994\" xlink:href=\"#GuardianSansCond-Regular-4c\"/>\n       <use x=\"90.699982\" xlink:href=\"#GuardianSansCond-Regular-4f\"/>\n       <use x=\"147.499969\" xlink:href=\"#GuardianSansCond-Regular-43\"/>\n      </g>\n     </g>\n    </g>\n    <g id=\"text_16\">\n     <!-- True label -->\n     <g transform=\"translate(16.00875 207.616125)rotate(-90)scale(0.12 -0.12)\">\n      <defs>\n       <path d=\"M 1152 0 \nL 1690 0 \nL 1690 3974 \nL 2746 3974 \nL 2746 4435 \nL 90 4435 \nL 90 3974 \nL 1152 3974 \nL 1152 0 \nz\n\" id=\"GuardianSansCond-Regular-54\" transform=\"scale(0.015625)\"/>\n       <path d=\"M 1158 -51 \nC 1523 -51 1824 109 2042 262 \nL 2067 262 \nL 2118 0 \nL 2566 0 \nL 2566 3283 \nL 2042 3283 \nL 2042 602 \nC 1888 512 1626 397 1350 397 \nC 947 397 858 557 858 838 \nL 858 3283 \nL 333 3283 \nL 333 826 \nC 333 301 576 -51 1158 -51 \nz\n\" id=\"GuardianSansCond-Regular-75\" transform=\"scale(0.015625)\"/>\n      </defs>\n      <use xlink:href=\"#GuardianSansCond-Regular-54\"/>\n      <use x=\"44.499985\" xlink:href=\"#GuardianSansCond-Regular-72\"/>\n      <use x=\"73.299973\" xlink:href=\"#GuardianSansCond-Regular-75\"/>\n      <use x=\"118.799957\" xlink:href=\"#GuardianSansCond-Regular-65\"/>\n      <use x=\"161.499954\" xlink:href=\"#GuardianSansCond-Regular-20\"/>\n      <use x=\"177.299942\" xlink:href=\"#GuardianSansCond-Regular-6c\"/>\n      <use x=\"196.59993\" xlink:href=\"#GuardianSansCond-Regular-61\"/>\n      <use x=\"237.499924\" xlink:href=\"#GuardianSansCond-Regular-62\"/>\n      <use x=\"284.099915\" xlink:href=\"#GuardianSansCond-Regular-65\"/>\n      <use x=\"326.799911\" xlink:href=\"#GuardianSansCond-Regular-6c\"/>\n     </g>\n    </g>\n   </g>\n   <g id=\"patch_3\">\n    <path d=\"M 57.5 349.9305 \nL 57.5 23.7705 \n\" style=\"fill:none;stroke:#000000;stroke-linecap:square;stroke-linejoin:miter;stroke-width:0.8;\"/>\n   </g>\n   <g id=\"patch_4\">\n    <path d=\"M 383.66 349.9305 \nL 383.66 23.7705 \n\" style=\"fill:none;stroke:#000000;stroke-linecap:square;stroke-linejoin:miter;stroke-width:0.8;\"/>\n   </g>\n   <g id=\"patch_5\">\n    <path d=\"M 57.5 349.9305 \nL 383.66 349.9305 \n\" style=\"fill:none;stroke:#000000;stroke-linecap:square;stroke-linejoin:miter;stroke-width:0.8;\"/>\n   </g>\n   <g id=\"patch_6\">\n    <path d=\"M 57.5 23.7705 \nL 383.66 23.7705 \n\" style=\"fill:none;stroke:#000000;stroke-linecap:square;stroke-linejoin:miter;stroke-width:0.8;\"/>\n   </g>\n   <g id=\"text_17\">\n    <!-- 0.88 -->\n    <g style=\"fill:#f7fbff;\" transform=\"translate(70.362768 50.326393)scale(0.12 -0.12)\">\n     <defs>\n      <path d=\"M 1722 -70 \nC 2656 -70 3155 646 3155 2061 \nL 3155 2406 \nC 3155 3891 2598 4499 1715 4499 \nC 819 4499 269 3834 269 2368 \nL 269 2042 \nC 269 499 845 -70 1722 -70 \nz\nM 1728 384 \nC 1069 384 845 979 845 2016 \nL 845 2490 \nC 845 3494 1088 4051 1709 4051 \nC 2336 4051 2592 3514 2592 2458 \nL 2592 1978 \nC 2592 934 2374 384 1728 384 \nz\n\" id=\"GuardianSansCond-Regular-30\" transform=\"scale(0.015625)\"/>\n      <path d=\"M 397 0 \nL 986 0 \nL 986 621 \nL 397 621 \nL 397 0 \nz\n\" id=\"GuardianSansCond-Regular-2e\" transform=\"scale(0.015625)\"/>\n      <path d=\"M 1581 -64 \nC 2445 -64 2931 467 2931 1139 \nC 2931 1760 2592 2074 2106 2330 \nC 2490 2541 2822 2899 2822 3424 \nC 2822 4077 2394 4499 1606 4499 \nC 819 4499 384 4013 384 3398 \nC 384 2848 678 2509 1069 2285 \nC 602 2054 230 1683 230 1082 \nC 230 384 710 -64 1581 -64 \nz\nM 1587 390 \nC 1082 390 768 678 768 1126 \nC 768 1581 1037 1894 1414 2080 \nC 2029 1792 2387 1574 2387 1082 \nC 2387 614 2054 390 1587 390 \nz\nM 1754 2522 \nC 1210 2778 928 3021 928 3430 \nC 928 3821 1171 4051 1606 4051 \nC 2067 4051 2285 3782 2285 3398 \nC 2285 3008 2099 2765 1754 2522 \nz\n\" id=\"GuardianSansCond-Regular-38\" transform=\"scale(0.015625)\"/>\n     </defs>\n     <use xlink:href=\"#GuardianSansCond-Regular-30\"/>\n     <use x=\"53.499985\" xlink:href=\"#GuardianSansCond-Regular-2e\"/>\n     <use x=\"75.099976\" xlink:href=\"#GuardianSansCond-Regular-38\"/>\n     <use x=\"124.499969\" xlink:href=\"#GuardianSansCond-Regular-38\"/>\n    </g>\n   </g>\n   <g id=\"text_18\">\n    <!-- 0.06 -->\n    <g style=\"fill:#08306b;\" transform=\"translate(116.741429 50.326393)scale(0.12 -0.12)\">\n     <defs>\n      <path d=\"M 1632 384 \nC 1082 384 845 915 845 1837 \nL 845 2054 \nC 992 2150 1254 2278 1594 2278 \nC 2086 2278 2323 1984 2323 1357 \nC 2323 742 2086 384 1632 384 \nz\nM 1632 -70 \nC 2438 -70 2886 544 2886 1408 \nC 2886 2234 2490 2746 1754 2746 \nC 1363 2746 1056 2611 845 2445 \nC 877 3853 1440 4038 2029 4038 \nC 2291 4038 2554 3974 2688 3930 \nL 2688 4352 \nC 2547 4442 2272 4499 1958 4499 \nC 1043 4499 275 3981 275 2208 \nL 275 1843 \nC 275 691 717 -70 1632 -70 \nz\n\" id=\"GuardianSansCond-Regular-36\" transform=\"scale(0.015625)\"/>\n     </defs>\n     <use xlink:href=\"#GuardianSansCond-Regular-30\"/>\n     <use x=\"53.499985\" xlink:href=\"#GuardianSansCond-Regular-2e\"/>\n     <use x=\"75.099976\" xlink:href=\"#GuardianSansCond-Regular-30\"/>\n     <use x=\"128.59996\" xlink:href=\"#GuardianSansCond-Regular-36\"/>\n    </g>\n   </g>\n   <g id=\"text_19\">\n    <!-- 0.02 -->\n    <g style=\"fill:#08306b;\" transform=\"translate(163.720089 50.326393)scale(0.12 -0.12)\">\n     <defs>\n      <path d=\"M 173 0 \nL 2470 0 \nL 2470 461 \nL 800 461 \nL 800 480 \nL 1574 1421 \nC 2067 2035 2419 2528 2419 3264 \nC 2419 4026 2029 4499 1222 4499 \nC 806 4499 499 4410 269 4282 \nL 269 3853 \nC 467 3949 730 4032 1056 4032 \nC 1619 4032 1850 3750 1850 3213 \nC 1850 2630 1542 2189 1152 1670 \nL 173 397 \nL 173 0 \nz\n\" id=\"GuardianSansCond-Regular-32\" transform=\"scale(0.015625)\"/>\n     </defs>\n     <use xlink:href=\"#GuardianSansCond-Regular-30\"/>\n     <use x=\"53.499985\" xlink:href=\"#GuardianSansCond-Regular-2e\"/>\n     <use x=\"75.099976\" xlink:href=\"#GuardianSansCond-Regular-30\"/>\n     <use x=\"128.59996\" xlink:href=\"#GuardianSansCond-Regular-32\"/>\n    </g>\n   </g>\n   <g id=\"text_20\">\n    <!-- 0.01 -->\n    <g style=\"fill:#08306b;\" transform=\"translate(211.136563 50.326393)scale(0.12 -0.12)\">\n     <defs>\n      <path d=\"M 832 0 \nL 1363 0 \nL 1363 4474 \nL 1171 4474 \nL 141 4083 \nL 141 3776 \nL 832 3846 \nL 832 0 \nz\n\" id=\"GuardianSansCond-Regular-31\" transform=\"scale(0.015625)\"/>\n     </defs>\n     <use xlink:href=\"#GuardianSansCond-Regular-30\"/>\n     <use x=\"53.499985\" xlink:href=\"#GuardianSansCond-Regular-2e\"/>\n     <use x=\"75.099976\" xlink:href=\"#GuardianSansCond-Regular-30\"/>\n     <use x=\"128.59996\" xlink:href=\"#GuardianSansCond-Regular-31\"/>\n    </g>\n   </g>\n   <g id=\"text_21\">\n    <!-- 0.01 -->\n    <g style=\"fill:#08306b;\" transform=\"translate(257.730848 50.326393)scale(0.12 -0.12)\">\n     <use xlink:href=\"#GuardianSansCond-Regular-30\"/>\n     <use x=\"53.499985\" xlink:href=\"#GuardianSansCond-Regular-2e\"/>\n     <use x=\"75.099976\" xlink:href=\"#GuardianSansCond-Regular-30\"/>\n     <use x=\"128.59996\" xlink:href=\"#GuardianSansCond-Regular-31\"/>\n    </g>\n   </g>\n   <g id=\"text_22\">\n    <!-- 0.00 -->\n    <g style=\"fill:#08306b;\" transform=\"translate(302.842946 50.326393)scale(0.12 -0.12)\">\n     <use xlink:href=\"#GuardianSansCond-Regular-30\"/>\n     <use x=\"53.499985\" xlink:href=\"#GuardianSansCond-Regular-2e\"/>\n     <use x=\"75.099976\" xlink:href=\"#GuardianSansCond-Regular-30\"/>\n     <use x=\"128.59996\" xlink:href=\"#GuardianSansCond-Regular-30\"/>\n    </g>\n   </g>\n   <g id=\"text_23\">\n    <!-- 0.02 -->\n    <g style=\"fill:#08306b;\" transform=\"translate(350.097232 50.326393)scale(0.12 -0.12)\">\n     <use xlink:href=\"#GuardianSansCond-Regular-30\"/>\n     <use x=\"53.499985\" xlink:href=\"#GuardianSansCond-Regular-2e\"/>\n     <use x=\"75.099976\" xlink:href=\"#GuardianSansCond-Regular-30\"/>\n     <use x=\"128.59996\" xlink:href=\"#GuardianSansCond-Regular-32\"/>\n    </g>\n   </g>\n   <g id=\"text_24\">\n    <!-- 0.05 -->\n    <g style=\"fill:#08306b;\" transform=\"translate(70.555893 96.920679)scale(0.12 -0.12)\">\n     <defs>\n      <path d=\"M 1094 -64 \nC 1971 -64 2445 512 2445 1363 \nC 2445 2298 1997 2707 1165 2707 \nC 1011 2707 890 2694 794 2675 \nL 877 3974 \nL 2342 3974 \nL 2342 4435 \nL 429 4435 \nL 294 2170 \nC 467 2208 710 2246 966 2246 \nC 1587 2246 1875 1990 1875 1363 \nC 1875 717 1587 397 954 397 \nC 627 397 365 474 154 582 \nL 154 147 \nC 352 26 672 -64 1094 -64 \nz\n\" id=\"GuardianSansCond-Regular-35\" transform=\"scale(0.015625)\"/>\n     </defs>\n     <use xlink:href=\"#GuardianSansCond-Regular-30\"/>\n     <use x=\"53.499985\" xlink:href=\"#GuardianSansCond-Regular-2e\"/>\n     <use x=\"75.099976\" xlink:href=\"#GuardianSansCond-Regular-30\"/>\n     <use x=\"128.59996\" xlink:href=\"#GuardianSansCond-Regular-35\"/>\n    </g>\n   </g>\n   <g id=\"text_25\">\n    <!-- 0.85 -->\n    <g style=\"fill:#f7fbff;\" transform=\"translate(117.395804 96.920679)scale(0.12 -0.12)\">\n     <use xlink:href=\"#GuardianSansCond-Regular-30\"/>\n     <use x=\"53.499985\" xlink:href=\"#GuardianSansCond-Regular-2e\"/>\n     <use x=\"75.099976\" xlink:href=\"#GuardianSansCond-Regular-38\"/>\n     <use x=\"124.499969\" xlink:href=\"#GuardianSansCond-Regular-35\"/>\n    </g>\n   </g>\n   <g id=\"text_26\">\n    <!-- 0.03 -->\n    <g style=\"fill:#08306b;\" transform=\"translate(163.737902 96.920679)scale(0.12 -0.12)\">\n     <defs>\n      <path d=\"M 1094 -64 \nC 1920 -64 2432 416 2432 1248 \nC 2432 1939 2112 2253 1606 2362 \nL 1606 2381 \nC 2042 2515 2310 2803 2310 3405 \nC 2310 4096 1882 4499 1158 4499 \nC 787 4499 486 4429 275 4320 \nL 275 3891 \nC 461 3968 678 4038 998 4038 \nC 1478 4038 1754 3866 1754 3302 \nC 1754 2797 1478 2547 1018 2547 \nL 717 2547 \nL 717 2086 \nL 1056 2086 \nC 1600 2086 1869 1837 1869 1267 \nC 1869 646 1517 403 947 403 \nC 646 403 358 493 147 608 \nL 147 166 \nC 358 32 640 -64 1094 -64 \nz\n\" id=\"GuardianSansCond-Regular-33\" transform=\"scale(0.015625)\"/>\n     </defs>\n     <use xlink:href=\"#GuardianSansCond-Regular-30\"/>\n     <use x=\"53.499985\" xlink:href=\"#GuardianSansCond-Regular-2e\"/>\n     <use x=\"75.099976\" xlink:href=\"#GuardianSansCond-Regular-30\"/>\n     <use x=\"128.59996\" xlink:href=\"#GuardianSansCond-Regular-33\"/>\n    </g>\n   </g>\n   <g id=\"text_27\">\n    <!-- 0.00 -->\n    <g style=\"fill:#08306b;\" transform=\"translate(209.654375 96.920679)scale(0.12 -0.12)\">\n     <use xlink:href=\"#GuardianSansCond-Regular-30\"/>\n     <use x=\"53.499985\" xlink:href=\"#GuardianSansCond-Regular-2e\"/>\n     <use x=\"75.099976\" xlink:href=\"#GuardianSansCond-Regular-30\"/>\n     <use x=\"128.59996\" xlink:href=\"#GuardianSansCond-Regular-30\"/>\n    </g>\n   </g>\n   <g id=\"text_28\">\n    <!-- 0.01 -->\n    <g style=\"fill:#08306b;\" transform=\"translate(257.730848 96.920679)scale(0.12 -0.12)\">\n     <use xlink:href=\"#GuardianSansCond-Regular-30\"/>\n     <use x=\"53.499985\" xlink:href=\"#GuardianSansCond-Regular-2e\"/>\n     <use x=\"75.099976\" xlink:href=\"#GuardianSansCond-Regular-30\"/>\n     <use x=\"128.59996\" xlink:href=\"#GuardianSansCond-Regular-31\"/>\n    </g>\n   </g>\n   <g id=\"text_29\">\n    <!-- 0.00 -->\n    <g style=\"fill:#08306b;\" transform=\"translate(302.842946 96.920679)scale(0.12 -0.12)\">\n     <use xlink:href=\"#GuardianSansCond-Regular-30\"/>\n     <use x=\"53.499985\" xlink:href=\"#GuardianSansCond-Regular-2e\"/>\n     <use x=\"75.099976\" xlink:href=\"#GuardianSansCond-Regular-30\"/>\n     <use x=\"128.59996\" xlink:href=\"#GuardianSansCond-Regular-30\"/>\n    </g>\n   </g>\n   <g id=\"text_30\">\n    <!-- 0.06 -->\n    <g style=\"fill:#08306b;\" transform=\"translate(349.712857 96.920679)scale(0.12 -0.12)\">\n     <use xlink:href=\"#GuardianSansCond-Regular-30\"/>\n     <use x=\"53.499985\" xlink:href=\"#GuardianSansCond-Regular-2e\"/>\n     <use x=\"75.099976\" xlink:href=\"#GuardianSansCond-Regular-30\"/>\n     <use x=\"128.59996\" xlink:href=\"#GuardianSansCond-Regular-36\"/>\n    </g>\n   </g>\n   <g id=\"text_31\">\n    <!-- 0.01 -->\n    <g style=\"fill:#08306b;\" transform=\"translate(71.353705 143.514964)scale(0.12 -0.12)\">\n     <use xlink:href=\"#GuardianSansCond-Regular-30\"/>\n     <use x=\"53.499985\" xlink:href=\"#GuardianSansCond-Regular-2e\"/>\n     <use x=\"75.099976\" xlink:href=\"#GuardianSansCond-Regular-30\"/>\n     <use x=\"128.59996\" xlink:href=\"#GuardianSansCond-Regular-31\"/>\n    </g>\n   </g>\n   <g id=\"text_32\">\n    <!-- 0.03 -->\n    <g style=\"fill:#08306b;\" transform=\"translate(117.143616 143.514964)scale(0.12 -0.12)\">\n     <use xlink:href=\"#GuardianSansCond-Regular-30\"/>\n     <use x=\"53.499985\" xlink:href=\"#GuardianSansCond-Regular-2e\"/>\n     <use x=\"75.099976\" xlink:href=\"#GuardianSansCond-Regular-30\"/>\n     <use x=\"128.59996\" xlink:href=\"#GuardianSansCond-Regular-33\"/>\n    </g>\n   </g>\n   <g id=\"text_33\">\n    <!-- 0.94 -->\n    <g style=\"fill:#f7fbff;\" transform=\"translate(163.701339 143.514964)scale(0.12 -0.12)\">\n     <defs>\n      <path d=\"M 1171 -70 \nC 2176 -70 2854 448 2854 2221 \nL 2854 2586 \nC 2854 3795 2432 4499 1523 4499 \nC 691 4499 243 3917 243 3021 \nC 243 2202 653 1683 1389 1683 \nC 1766 1683 2074 1818 2285 1984 \nC 2266 608 1798 397 1107 397 \nC 851 397 563 467 429 518 \nL 429 96 \nC 563 0 858 -70 1171 -70 \nz\nM 1542 2150 \nC 1056 2150 806 2445 806 3072 \nC 806 3712 1043 4045 1523 4045 \nC 2048 4045 2285 3558 2285 2592 \nL 2285 2374 \nC 2138 2272 1882 2150 1542 2150 \nz\n\" id=\"GuardianSansCond-Regular-39\" transform=\"scale(0.015625)\"/>\n      <path d=\"M 1805 0 \nL 2330 0 \nL 2330 1107 \nL 2957 1107 \nL 2957 1562 \nL 2330 1562 \nL 2330 4435 \nL 1869 4435 \nL 70 1504 \nL 70 1107 \nL 1805 1107 \nL 1805 0 \nz\nM 608 1562 \nL 608 1581 \nL 1779 3475 \nL 1805 3475 \nL 1805 1562 \nL 608 1562 \nz\n\" id=\"GuardianSansCond-Regular-34\" transform=\"scale(0.015625)\"/>\n     </defs>\n     <use xlink:href=\"#GuardianSansCond-Regular-30\"/>\n     <use x=\"53.499985\" xlink:href=\"#GuardianSansCond-Regular-2e\"/>\n     <use x=\"75.099976\" xlink:href=\"#GuardianSansCond-Regular-39\"/>\n     <use x=\"123.999969\" xlink:href=\"#GuardianSansCond-Regular-34\"/>\n    </g>\n   </g>\n   <g id=\"text_34\">\n    <!-- 0.00 -->\n    <g style=\"fill:#08306b;\" transform=\"translate(209.654375 143.514964)scale(0.12 -0.12)\">\n     <use xlink:href=\"#GuardianSansCond-Regular-30\"/>\n     <use x=\"53.499985\" xlink:href=\"#GuardianSansCond-Regular-2e\"/>\n     <use x=\"75.099976\" xlink:href=\"#GuardianSansCond-Regular-30\"/>\n     <use x=\"128.59996\" xlink:href=\"#GuardianSansCond-Regular-30\"/>\n    </g>\n   </g>\n   <g id=\"text_35\">\n    <!-- 0.00 -->\n    <g style=\"fill:#08306b;\" transform=\"translate(256.248661 143.514964)scale(0.12 -0.12)\">\n     <use xlink:href=\"#GuardianSansCond-Regular-30\"/>\n     <use x=\"53.499985\" xlink:href=\"#GuardianSansCond-Regular-2e\"/>\n     <use x=\"75.099976\" xlink:href=\"#GuardianSansCond-Regular-30\"/>\n     <use x=\"128.59996\" xlink:href=\"#GuardianSansCond-Regular-30\"/>\n    </g>\n   </g>\n   <g id=\"text_36\">\n    <!-- 0.01 -->\n    <g style=\"fill:#08306b;\" transform=\"translate(304.325134 143.514964)scale(0.12 -0.12)\">\n     <use xlink:href=\"#GuardianSansCond-Regular-30\"/>\n     <use x=\"53.499985\" xlink:href=\"#GuardianSansCond-Regular-2e\"/>\n     <use x=\"75.099976\" xlink:href=\"#GuardianSansCond-Regular-30\"/>\n     <use x=\"128.59996\" xlink:href=\"#GuardianSansCond-Regular-31\"/>\n    </g>\n   </g>\n   <g id=\"text_37\">\n    <!-- 0.01 -->\n    <g style=\"fill:#08306b;\" transform=\"translate(350.91942 143.514964)scale(0.12 -0.12)\">\n     <use xlink:href=\"#GuardianSansCond-Regular-30\"/>\n     <use x=\"53.499985\" xlink:href=\"#GuardianSansCond-Regular-2e\"/>\n     <use x=\"75.099976\" xlink:href=\"#GuardianSansCond-Regular-30\"/>\n     <use x=\"128.59996\" xlink:href=\"#GuardianSansCond-Regular-31\"/>\n    </g>\n   </g>\n   <g id=\"text_38\">\n    <!-- 0.01 -->\n    <g style=\"fill:#08306b;\" transform=\"translate(71.353705 190.10925)scale(0.12 -0.12)\">\n     <use xlink:href=\"#GuardianSansCond-Regular-30\"/>\n     <use x=\"53.499985\" xlink:href=\"#GuardianSansCond-Regular-2e\"/>\n     <use x=\"75.099976\" xlink:href=\"#GuardianSansCond-Regular-30\"/>\n     <use x=\"128.59996\" xlink:href=\"#GuardianSansCond-Regular-31\"/>\n    </g>\n   </g>\n   <g id=\"text_39\">\n    <!-- 0.00 -->\n    <g style=\"fill:#08306b;\" transform=\"translate(116.465804 190.10925)scale(0.12 -0.12)\">\n     <use xlink:href=\"#GuardianSansCond-Regular-30\"/>\n     <use x=\"53.499985\" xlink:href=\"#GuardianSansCond-Regular-2e\"/>\n     <use x=\"75.099976\" xlink:href=\"#GuardianSansCond-Regular-30\"/>\n     <use x=\"128.59996\" xlink:href=\"#GuardianSansCond-Regular-30\"/>\n    </g>\n   </g>\n   <g id=\"text_40\">\n    <!-- 0.00 -->\n    <g style=\"fill:#08306b;\" transform=\"translate(163.060089 190.10925)scale(0.12 -0.12)\">\n     <use xlink:href=\"#GuardianSansCond-Regular-30\"/>\n     <use x=\"53.499985\" xlink:href=\"#GuardianSansCond-Regular-2e\"/>\n     <use x=\"75.099976\" xlink:href=\"#GuardianSansCond-Regular-30\"/>\n     <use x=\"128.59996\" xlink:href=\"#GuardianSansCond-Regular-30\"/>\n    </g>\n   </g>\n   <g id=\"text_41\">\n    <!-- 0.83 -->\n    <g style=\"fill:#f7fbff;\" transform=\"translate(210.577813 190.10925)scale(0.12 -0.12)\">\n     <use xlink:href=\"#GuardianSansCond-Regular-30\"/>\n     <use x=\"53.499985\" xlink:href=\"#GuardianSansCond-Regular-2e\"/>\n     <use x=\"75.099976\" xlink:href=\"#GuardianSansCond-Regular-38\"/>\n     <use x=\"124.499969\" xlink:href=\"#GuardianSansCond-Regular-33\"/>\n    </g>\n   </g>\n   <g id=\"text_42\">\n    <!-- 0.11 -->\n    <g style=\"fill:#08306b;\" transform=\"translate(259.213036 190.10925)scale(0.12 -0.12)\">\n     <use xlink:href=\"#GuardianSansCond-Regular-30\"/>\n     <use x=\"53.499985\" xlink:href=\"#GuardianSansCond-Regular-2e\"/>\n     <use x=\"75.099976\" xlink:href=\"#GuardianSansCond-Regular-31\"/>\n     <use x=\"103.899963\" xlink:href=\"#GuardianSansCond-Regular-31\"/>\n    </g>\n   </g>\n   <g id=\"text_43\">\n    <!-- 0.02 -->\n    <g style=\"fill:#08306b;\" transform=\"translate(303.502946 190.10925)scale(0.12 -0.12)\">\n     <use xlink:href=\"#GuardianSansCond-Regular-30\"/>\n     <use x=\"53.499985\" xlink:href=\"#GuardianSansCond-Regular-2e\"/>\n     <use x=\"75.099976\" xlink:href=\"#GuardianSansCond-Regular-30\"/>\n     <use x=\"128.59996\" xlink:href=\"#GuardianSansCond-Regular-32\"/>\n    </g>\n   </g>\n   <g id=\"text_44\">\n    <!-- 0.02 -->\n    <g style=\"fill:#08306b;\" transform=\"translate(350.097232 190.10925)scale(0.12 -0.12)\">\n     <use xlink:href=\"#GuardianSansCond-Regular-30\"/>\n     <use x=\"53.499985\" xlink:href=\"#GuardianSansCond-Regular-2e\"/>\n     <use x=\"75.099976\" xlink:href=\"#GuardianSansCond-Regular-30\"/>\n     <use x=\"128.59996\" xlink:href=\"#GuardianSansCond-Regular-32\"/>\n    </g>\n   </g>\n   <g id=\"text_45\">\n    <!-- 0.01 -->\n    <g style=\"fill:#08306b;\" transform=\"translate(71.353705 236.703536)scale(0.12 -0.12)\">\n     <use xlink:href=\"#GuardianSansCond-Regular-30\"/>\n     <use x=\"53.499985\" xlink:href=\"#GuardianSansCond-Regular-2e\"/>\n     <use x=\"75.099976\" xlink:href=\"#GuardianSansCond-Regular-30\"/>\n     <use x=\"128.59996\" xlink:href=\"#GuardianSansCond-Regular-31\"/>\n    </g>\n   </g>\n   <g id=\"text_46\">\n    <!-- 0.01 -->\n    <g style=\"fill:#08306b;\" transform=\"translate(117.947991 236.703536)scale(0.12 -0.12)\">\n     <use xlink:href=\"#GuardianSansCond-Regular-30\"/>\n     <use x=\"53.499985\" xlink:href=\"#GuardianSansCond-Regular-2e\"/>\n     <use x=\"75.099976\" xlink:href=\"#GuardianSansCond-Regular-30\"/>\n     <use x=\"128.59996\" xlink:href=\"#GuardianSansCond-Regular-31\"/>\n    </g>\n   </g>\n   <g id=\"text_47\">\n    <!-- 0.00 -->\n    <g style=\"fill:#08306b;\" transform=\"translate(163.060089 236.703536)scale(0.12 -0.12)\">\n     <use xlink:href=\"#GuardianSansCond-Regular-30\"/>\n     <use x=\"53.499985\" xlink:href=\"#GuardianSansCond-Regular-2e\"/>\n     <use x=\"75.099976\" xlink:href=\"#GuardianSansCond-Regular-30\"/>\n     <use x=\"128.59996\" xlink:href=\"#GuardianSansCond-Regular-30\"/>\n    </g>\n   </g>\n   <g id=\"text_48\">\n    <!-- 0.03 -->\n    <g style=\"fill:#08306b;\" transform=\"translate(210.332188 236.703536)scale(0.12 -0.12)\">\n     <use xlink:href=\"#GuardianSansCond-Regular-30\"/>\n     <use x=\"53.499985\" xlink:href=\"#GuardianSansCond-Regular-2e\"/>\n     <use x=\"75.099976\" xlink:href=\"#GuardianSansCond-Regular-30\"/>\n     <use x=\"128.59996\" xlink:href=\"#GuardianSansCond-Regular-33\"/>\n    </g>\n   </g>\n   <g id=\"text_49\">\n    <!-- 0.90 -->\n    <g style=\"fill:#f7fbff;\" transform=\"translate(256.524286 236.703536)scale(0.12 -0.12)\">\n     <use xlink:href=\"#GuardianSansCond-Regular-30\"/>\n     <use x=\"53.499985\" xlink:href=\"#GuardianSansCond-Regular-2e\"/>\n     <use x=\"75.099976\" xlink:href=\"#GuardianSansCond-Regular-39\"/>\n     <use x=\"123.999969\" xlink:href=\"#GuardianSansCond-Regular-30\"/>\n    </g>\n   </g>\n   <g id=\"text_50\">\n    <!-- 0.03 -->\n    <g style=\"fill:#08306b;\" transform=\"translate(303.520759 236.703536)scale(0.12 -0.12)\">\n     <use xlink:href=\"#GuardianSansCond-Regular-30\"/>\n     <use x=\"53.499985\" xlink:href=\"#GuardianSansCond-Regular-2e\"/>\n     <use x=\"75.099976\" xlink:href=\"#GuardianSansCond-Regular-30\"/>\n     <use x=\"128.59996\" xlink:href=\"#GuardianSansCond-Regular-33\"/>\n    </g>\n   </g>\n   <g id=\"text_51\">\n    <!-- 0.03 -->\n    <g style=\"fill:#08306b;\" transform=\"translate(350.115045 236.703536)scale(0.12 -0.12)\">\n     <use xlink:href=\"#GuardianSansCond-Regular-30\"/>\n     <use x=\"53.499985\" xlink:href=\"#GuardianSansCond-Regular-2e\"/>\n     <use x=\"75.099976\" xlink:href=\"#GuardianSansCond-Regular-30\"/>\n     <use x=\"128.59996\" xlink:href=\"#GuardianSansCond-Regular-33\"/>\n    </g>\n   </g>\n   <g id=\"text_52\">\n    <!-- 0.00 -->\n    <g style=\"fill:#08306b;\" transform=\"translate(69.871518 283.297821)scale(0.12 -0.12)\">\n     <use xlink:href=\"#GuardianSansCond-Regular-30\"/>\n     <use x=\"53.499985\" xlink:href=\"#GuardianSansCond-Regular-2e\"/>\n     <use x=\"75.099976\" xlink:href=\"#GuardianSansCond-Regular-30\"/>\n     <use x=\"128.59996\" xlink:href=\"#GuardianSansCond-Regular-30\"/>\n    </g>\n   </g>\n   <g id=\"text_53\">\n    <!-- 0.00 -->\n    <g style=\"fill:#08306b;\" transform=\"translate(116.465804 283.297821)scale(0.12 -0.12)\">\n     <use xlink:href=\"#GuardianSansCond-Regular-30\"/>\n     <use x=\"53.499985\" xlink:href=\"#GuardianSansCond-Regular-2e\"/>\n     <use x=\"75.099976\" xlink:href=\"#GuardianSansCond-Regular-30\"/>\n     <use x=\"128.59996\" xlink:href=\"#GuardianSansCond-Regular-30\"/>\n    </g>\n   </g>\n   <g id=\"text_54\">\n    <!-- 0.00 -->\n    <g style=\"fill:#08306b;\" transform=\"translate(163.060089 283.297821)scale(0.12 -0.12)\">\n     <use xlink:href=\"#GuardianSansCond-Regular-30\"/>\n     <use x=\"53.499985\" xlink:href=\"#GuardianSansCond-Regular-2e\"/>\n     <use x=\"75.099976\" xlink:href=\"#GuardianSansCond-Regular-30\"/>\n     <use x=\"128.59996\" xlink:href=\"#GuardianSansCond-Regular-30\"/>\n    </g>\n   </g>\n   <g id=\"text_55\">\n    <!-- 0.01 -->\n    <g style=\"fill:#08306b;\" transform=\"translate(211.136563 283.297821)scale(0.12 -0.12)\">\n     <use xlink:href=\"#GuardianSansCond-Regular-30\"/>\n     <use x=\"53.499985\" xlink:href=\"#GuardianSansCond-Regular-2e\"/>\n     <use x=\"75.099976\" xlink:href=\"#GuardianSansCond-Regular-30\"/>\n     <use x=\"128.59996\" xlink:href=\"#GuardianSansCond-Regular-31\"/>\n    </g>\n   </g>\n   <g id=\"text_56\">\n    <!-- 0.03 -->\n    <g style=\"fill:#08306b;\" transform=\"translate(256.926473 283.297821)scale(0.12 -0.12)\">\n     <use xlink:href=\"#GuardianSansCond-Regular-30\"/>\n     <use x=\"53.499985\" xlink:href=\"#GuardianSansCond-Regular-2e\"/>\n     <use x=\"75.099976\" xlink:href=\"#GuardianSansCond-Regular-30\"/>\n     <use x=\"128.59996\" xlink:href=\"#GuardianSansCond-Regular-33\"/>\n    </g>\n   </g>\n   <g id=\"text_57\">\n    <!-- 0.95 -->\n    <g style=\"fill:#f7fbff;\" transform=\"translate(303.802946 283.297821)scale(0.12 -0.12)\">\n     <use xlink:href=\"#GuardianSansCond-Regular-30\"/>\n     <use x=\"53.499985\" xlink:href=\"#GuardianSansCond-Regular-2e\"/>\n     <use x=\"75.099976\" xlink:href=\"#GuardianSansCond-Regular-39\"/>\n     <use x=\"123.999969\" xlink:href=\"#GuardianSansCond-Regular-35\"/>\n    </g>\n   </g>\n   <g id=\"text_58\">\n    <!-- 0.01 -->\n    <g style=\"fill:#08306b;\" transform=\"translate(350.91942 283.297821)scale(0.12 -0.12)\">\n     <use xlink:href=\"#GuardianSansCond-Regular-30\"/>\n     <use x=\"53.499985\" xlink:href=\"#GuardianSansCond-Regular-2e\"/>\n     <use x=\"75.099976\" xlink:href=\"#GuardianSansCond-Regular-30\"/>\n     <use x=\"128.59996\" xlink:href=\"#GuardianSansCond-Regular-31\"/>\n    </g>\n   </g>\n   <g id=\"text_59\">\n    <!-- 0.00 -->\n    <g style=\"fill:#08306b;\" transform=\"translate(69.871518 329.892107)scale(0.12 -0.12)\">\n     <use xlink:href=\"#GuardianSansCond-Regular-30\"/>\n     <use x=\"53.499985\" xlink:href=\"#GuardianSansCond-Regular-2e\"/>\n     <use x=\"75.099976\" xlink:href=\"#GuardianSansCond-Regular-30\"/>\n     <use x=\"128.59996\" xlink:href=\"#GuardianSansCond-Regular-30\"/>\n    </g>\n   </g>\n   <g id=\"text_60\">\n    <!-- 0.00 -->\n    <g style=\"fill:#08306b;\" transform=\"translate(116.465804 329.892107)scale(0.12 -0.12)\">\n     <use xlink:href=\"#GuardianSansCond-Regular-30\"/>\n     <use x=\"53.499985\" xlink:href=\"#GuardianSansCond-Regular-2e\"/>\n     <use x=\"75.099976\" xlink:href=\"#GuardianSansCond-Regular-30\"/>\n     <use x=\"128.59996\" xlink:href=\"#GuardianSansCond-Regular-30\"/>\n    </g>\n   </g>\n   <g id=\"text_61\">\n    <!-- 0.00 -->\n    <g style=\"fill:#08306b;\" transform=\"translate(163.060089 329.892107)scale(0.12 -0.12)\">\n     <use xlink:href=\"#GuardianSansCond-Regular-30\"/>\n     <use x=\"53.499985\" xlink:href=\"#GuardianSansCond-Regular-2e\"/>\n     <use x=\"75.099976\" xlink:href=\"#GuardianSansCond-Regular-30\"/>\n     <use x=\"128.59996\" xlink:href=\"#GuardianSansCond-Regular-30\"/>\n    </g>\n   </g>\n   <g id=\"text_62\">\n    <!-- 0.00 -->\n    <g style=\"fill:#08306b;\" transform=\"translate(209.654375 329.892107)scale(0.12 -0.12)\">\n     <use xlink:href=\"#GuardianSansCond-Regular-30\"/>\n     <use x=\"53.499985\" xlink:href=\"#GuardianSansCond-Regular-2e\"/>\n     <use x=\"75.099976\" xlink:href=\"#GuardianSansCond-Regular-30\"/>\n     <use x=\"128.59996\" xlink:href=\"#GuardianSansCond-Regular-30\"/>\n    </g>\n   </g>\n   <g id=\"text_63\">\n    <!-- 0.00 -->\n    <g style=\"fill:#08306b;\" transform=\"translate(256.248661 329.892107)scale(0.12 -0.12)\">\n     <use xlink:href=\"#GuardianSansCond-Regular-30\"/>\n     <use x=\"53.499985\" xlink:href=\"#GuardianSansCond-Regular-2e\"/>\n     <use x=\"75.099976\" xlink:href=\"#GuardianSansCond-Regular-30\"/>\n     <use x=\"128.59996\" xlink:href=\"#GuardianSansCond-Regular-30\"/>\n    </g>\n   </g>\n   <g id=\"text_64\">\n    <!-- 0.00 -->\n    <g style=\"fill:#08306b;\" transform=\"translate(302.842946 329.892107)scale(0.12 -0.12)\">\n     <use xlink:href=\"#GuardianSansCond-Regular-30\"/>\n     <use x=\"53.499985\" xlink:href=\"#GuardianSansCond-Regular-2e\"/>\n     <use x=\"75.099976\" xlink:href=\"#GuardianSansCond-Regular-30\"/>\n     <use x=\"128.59996\" xlink:href=\"#GuardianSansCond-Regular-30\"/>\n    </g>\n   </g>\n   <g id=\"text_65\">\n    <!-- 0.99 -->\n    <g style=\"fill:#f7fbff;\" transform=\"translate(349.988482 329.892107)scale(0.12 -0.12)\">\n     <use xlink:href=\"#GuardianSansCond-Regular-30\"/>\n     <use x=\"53.499985\" xlink:href=\"#GuardianSansCond-Regular-2e\"/>\n     <use x=\"75.099976\" xlink:href=\"#GuardianSansCond-Regular-39\"/>\n     <use x=\"123.999969\" xlink:href=\"#GuardianSansCond-Regular-39\"/>\n    </g>\n   </g>\n   <g id=\"text_66\">\n    <!-- Normalized confusion matrix -->\n    <g transform=\"translate(147.604625 17.7705)scale(0.144 -0.144)\">\n     <defs>\n      <path d=\"M 416 0 \nL 909 0 \nL 909 2912 \nC 909 3424 877 3757 877 3757 \nL 896 3757 \nC 896 3757 1050 3322 1274 2822 \nL 2547 0 \nL 3155 0 \nL 3155 4435 \nL 2662 4435 \nL 2662 1568 \nC 2662 1114 2694 762 2694 762 \nL 2682 762 \nC 2682 762 2502 1254 2330 1626 \nL 1094 4435 \nL 416 4435 \nL 416 0 \nz\n\" id=\"GuardianSansCond-Regular-4e\" transform=\"scale(0.015625)\"/>\n      <path d=\"M 1459 -51 \nC 2272 -51 2733 570 2733 1542 \nL 2733 1747 \nC 2733 2771 2291 3334 1459 3334 \nC 659 3334 186 2714 186 1741 \nL 186 1530 \nC 186 531 614 -51 1459 -51 \nz\nM 1466 378 \nC 992 378 723 762 723 1472 \nL 723 1818 \nC 723 2451 947 2906 1453 2906 \nC 1920 2906 2195 2560 2195 1805 \nL 2195 1466 \nC 2195 826 1958 378 1466 378 \nz\n\" id=\"GuardianSansCond-Regular-6f\" transform=\"scale(0.015625)\"/>\n      <path d=\"M 346 0 \nL 870 0 \nL 870 2688 \nC 1050 2790 1267 2886 1523 2886 \nC 1856 2886 1971 2758 1971 2464 \nL 1971 0 \nL 2490 0 \nL 2490 2688 \nC 2682 2797 2912 2886 3136 2886 \nC 3488 2886 3590 2746 3590 2464 \nL 3590 0 \nL 4115 0 \nL 4115 2528 \nC 4115 3104 3821 3334 3347 3334 \nC 2995 3334 2688 3187 2419 2995 \nL 2394 2995 \nC 2266 3226 2061 3334 1722 3334 \nC 1395 3334 1088 3181 870 3021 \nL 845 3021 \nL 845 3283 \nL 346 3283 \nL 346 0 \nz\n\" id=\"GuardianSansCond-Regular-6d\" transform=\"scale(0.015625)\"/>\n      <path d=\"M 179 0 \nL 2246 0 \nL 2246 435 \nL 794 435 \nL 794 454 \nL 2259 2918 \nL 2259 3283 \nL 256 3283 \nL 256 2854 \nL 1626 2854 \nL 1626 2835 \nL 179 384 \nL 179 0 \nz\n\" id=\"GuardianSansCond-Regular-7a\" transform=\"scale(0.015625)\"/>\n      <path d=\"M 346 0 \nL 870 0 \nL 870 2688 \nC 1037 2778 1306 2886 1587 2886 \nC 1965 2886 2093 2765 2093 2458 \nL 2093 0 \nL 2611 0 \nL 2611 2528 \nC 2611 3085 2342 3334 1811 3334 \nC 1440 3334 1107 3194 870 3021 \nL 845 3021 \nL 845 3283 \nL 346 3283 \nL 346 0 \nz\n\" id=\"GuardianSansCond-Regular-6e\" transform=\"scale(0.015625)\"/>\n      <path d=\"M 493 0 \nL 1018 0 \nL 1018 2848 \nL 1626 2848 \nL 1626 3283 \nL 1018 3283 \nL 1018 3712 \nC 1018 4115 1146 4307 1478 4307 \nC 1632 4307 1754 4282 1837 4262 \nL 1837 4640 \nC 1747 4685 1587 4742 1363 4742 \nC 826 4742 493 4429 493 3757 \nL 493 3283 \nL 96 3283 \nL 96 2848 \nL 493 2848 \nL 493 0 \nz\n\" id=\"GuardianSansCond-Regular-66\" transform=\"scale(0.015625)\"/>\n      <path d=\"M 992 -51 \nC 1658 -51 2054 307 2054 947 \nC 2054 1485 1818 1709 1306 1888 \nL 1050 1978 \nC 768 2074 659 2195 659 2451 \nC 659 2771 864 2893 1222 2893 \nC 1517 2893 1760 2810 1914 2739 \nL 1914 3168 \nC 1773 3251 1568 3334 1197 3334 \nC 531 3334 160 2982 160 2406 \nC 160 1901 422 1658 826 1517 \nL 1082 1427 \nC 1408 1312 1536 1184 1536 896 \nC 1536 582 1370 390 934 390 \nC 582 390 358 480 154 563 \nL 154 141 \nC 358 19 640 -51 992 -51 \nz\n\" id=\"GuardianSansCond-Regular-73\" transform=\"scale(0.015625)\"/>\n      <path d=\"M 83 0 \nL 634 0 \nL 1056 813 \nC 1203 1069 1293 1248 1293 1248 \nL 1299 1248 \nC 1299 1248 1376 1114 1523 819 \nL 1939 0 \nL 2515 0 \nL 1613 1670 \nL 2451 3283 \nL 1920 3283 \nL 1549 2515 \nL 1350 2086 \nL 1338 2086 \nC 1338 2086 1274 2208 1120 2509 \nL 717 3283 \nL 128 3283 \nL 1011 1658 \nL 83 0 \nz\n\" id=\"GuardianSansCond-Regular-78\" transform=\"scale(0.015625)\"/>\n     </defs>\n     <use xlink:href=\"#GuardianSansCond-Regular-4e\"/>\n     <use x=\"55.799988\" xlink:href=\"#GuardianSansCond-Regular-6f\"/>\n     <use x=\"101.399979\" xlink:href=\"#GuardianSansCond-Regular-72\"/>\n     <use x=\"130.199966\" xlink:href=\"#GuardianSansCond-Regular-6d\"/>\n     <use x=\"199.699951\" xlink:href=\"#GuardianSansCond-Regular-61\"/>\n     <use x=\"240.599945\" xlink:href=\"#GuardianSansCond-Regular-6c\"/>\n     <use x=\"259.899933\" xlink:href=\"#GuardianSansCond-Regular-69\"/>\n     <use x=\"279.199921\" xlink:href=\"#GuardianSansCond-Regular-7a\"/>\n     <use x=\"317.399918\" xlink:href=\"#GuardianSansCond-Regular-65\"/>\n     <use x=\"360.099915\" xlink:href=\"#GuardianSansCond-Regular-64\"/>\n     <use x=\"406.699905\" xlink:href=\"#GuardianSansCond-Regular-20\"/>\n     <use x=\"422.499893\" xlink:href=\"#GuardianSansCond-Regular-63\"/>\n     <use x=\"460.299881\" xlink:href=\"#GuardianSansCond-Regular-6f\"/>\n     <use x=\"505.899872\" xlink:href=\"#GuardianSansCond-Regular-6e\"/>\n     <use x=\"551.999863\" xlink:href=\"#GuardianSansCond-Regular-66\"/>\n     <use x=\"578.69986\" xlink:href=\"#GuardianSansCond-Regular-75\"/>\n     <use x=\"624.199844\" xlink:href=\"#GuardianSansCond-Regular-73\"/>\n     <use x=\"658.699829\" xlink:href=\"#GuardianSansCond-Regular-69\"/>\n     <use x=\"677.999817\" xlink:href=\"#GuardianSansCond-Regular-6f\"/>\n     <use x=\"723.599808\" xlink:href=\"#GuardianSansCond-Regular-6e\"/>\n     <use x=\"769.699799\" xlink:href=\"#GuardianSansCond-Regular-20\"/>\n     <use x=\"785.499786\" xlink:href=\"#GuardianSansCond-Regular-6d\"/>\n     <use x=\"854.999771\" xlink:href=\"#GuardianSansCond-Regular-61\"/>\n     <use x=\"895.899765\" xlink:href=\"#GuardianSansCond-Regular-74\"/>\n     <use x=\"924.89975\" xlink:href=\"#GuardianSansCond-Regular-72\"/>\n     <use x=\"953.699738\" xlink:href=\"#GuardianSansCond-Regular-69\"/>\n     <use x=\"972.999725\" xlink:href=\"#GuardianSansCond-Regular-78\"/>\n    </g>\n   </g>\n  </g>\n </g>\n <defs>\n  <clipPath id=\"pb35a488033\">\n   <rect height=\"326.16\" width=\"326.16\" x=\"57.5\" y=\"23.7705\"/>\n  </clipPath>\n </defs>\n</svg>\n",
            "text/plain": [
              "<Figure size 432x432 with 1 Axes>"
            ]
          },
          "metadata": {
            "needs_background": "light"
          },
          "output_type": "display_data"
        }
      ],
      "source": [
        "plot_confusion_matrix(df_tokens[\"labels\"], df_tokens[\"predicted_label\"],\n",
        "                      tags.names)"
      ]
    }
  ]
}