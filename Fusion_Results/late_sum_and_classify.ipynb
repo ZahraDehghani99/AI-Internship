{
  "cells": [
    {
      "cell_type": "markdown",
      "metadata": {
        "id": "view-in-github",
        "colab_type": "text"
      },
      "source": [
        "<a href=\"https://colab.research.google.com/github/ZahraDehghani99/AI-Internship/blob/master/Fusion_Results/late_sum_and_classify.ipynb\" target=\"_parent\"><img src=\"https://colab.research.google.com/assets/colab-badge.svg\" alt=\"Open In Colab\"/></a>"
      ]
    },
    {
      "cell_type": "markdown",
      "source": [
        "# Prerequisites"
      ],
      "metadata": {
        "id": "BfAPoUuJS-WW"
      },
      "id": "BfAPoUuJS-WW"
    },
    {
      "cell_type": "code",
      "execution_count": 1,
      "metadata": {
        "id": "eaNtTMppl6Zv"
      },
      "outputs": [],
      "source": [
        "import torch\n",
        "import torch.nn as nn\n",
        "\n",
        "import pandas as pd\n",
        "import numpy as np\n",
        "import pickle\n",
        "\n",
        "import matplotlib.pyplot as plt\n",
        "import seaborn as sns\n",
        "\n",
        "from sklearn.metrics import balanced_accuracy_score\n",
        "from sklearn.metrics import classification_report\n",
        "from sklearn.metrics import accuracy_score\n",
        "from sklearn.metrics import log_loss\n",
        "from sklearn import metrics\n",
        "\n",
        "import warnings\n",
        "warnings.filterwarnings('ignore')"
      ],
      "id": "eaNtTMppl6Zv"
    },
    {
      "cell_type": "code",
      "source": [
        "from google.colab import drive\n",
        "\n",
        "drive.mount('/content/drive')"
      ],
      "metadata": {
        "id": "XV2ZB0XJ3Lp8",
        "colab": {
          "base_uri": "https://localhost:8080/"
        },
        "outputId": "ca1fb1a4-35cb-4074-a21a-81c9a44816c6"
      },
      "id": "XV2ZB0XJ3Lp8",
      "execution_count": 2,
      "outputs": [
        {
          "output_type": "stream",
          "name": "stdout",
          "text": [
            "Mounted at /content/drive\n"
          ]
        }
      ]
    },
    {
      "cell_type": "markdown",
      "source": [
        "# Load data"
      ],
      "metadata": {
        "id": "TfId1QaKVOWX"
      },
      "id": "TfId1QaKVOWX"
    },
    {
      "cell_type": "code",
      "execution_count": 3,
      "id": "a06ad505",
      "metadata": {
        "id": "a06ad505"
      },
      "outputs": [],
      "source": [
        "import torch"
      ]
    },
    {
      "cell_type": "code",
      "source": [
        "import torch\n",
        "\n",
        "def load_data(excluded_session):\n",
        "    train_speech = torch.load(f\"/content/drive/MyDrive/Late_Colab_Output/speech/output_{excluded_session}/train_speech_{excluded_session}.pt\", map_location=torch.device('cpu'))\n",
        "    train_video = torch.load(f\"/content/drive/MyDrive/Late_Colab_Output/video/output_{excluded_session}/train_video_{excluded_session}.pt\", map_location=torch.device('cpu'))\n",
        "\n",
        "    # Check dimensions and concatenate if they are different\n",
        "    if train_speech.shape != train_video.shape:\n",
        "        if train_speech.shape[1] != train_video.shape[1]:\n",
        "            min_dim = min(train_speech.shape[1], train_video.shape[1])\n",
        "            train_speech = train_speech[:, :min_dim]\n",
        "            train_video = train_video[:, :min_dim]\n",
        "        summed_data = torch.cat((train_speech, train_video), dim=1)\n",
        "    else:\n",
        "        summed_data = train_speech + train_video\n",
        "\n",
        "    train_labels = torch.load(f\"/content/drive/MyDrive/Late_Colab_Output/speech/output_{excluded_session}/train_speech_labels{excluded_session}.pt\", map_location=torch.device('cpu'))\n",
        "\n",
        "    test_speech = torch.load(f\"/content/drive/MyDrive/Late_Colab_Output/speech/output_{excluded_session}/test_speech_{excluded_session}.pt\", map_location=torch.device('cpu'))\n",
        "    test_video = torch.load(f\"/content/drive/MyDrive/Late_Colab_Output/video/output_{excluded_session}/test_video_{excluded_session}.pt\", map_location=torch.device('cpu'))\n",
        "\n",
        "    # Check dimensions and concatenate if they are different\n",
        "    if test_speech.shape != test_video.shape:\n",
        "        if test_speech.shape[1] != test_video.shape[1]:\n",
        "            min_dim = min(test_speech.shape[1], test_video.shape[1])\n",
        "            test_speech = test_speech[:, :min_dim]\n",
        "            test_video = test_video[:, :min_dim]\n",
        "        summed_test_data = torch.cat((test_speech, test_video), dim=1)\n",
        "    else:\n",
        "        summed_test_data = test_speech + test_video\n",
        "\n",
        "    test_labels = torch.load(f\"/content/drive/MyDrive/Late_Colab_Output/speech/output_{excluded_session}/test_speech_labels{excluded_session}.pt\", map_location=torch.device('cpu'))\n",
        "\n",
        "    return summed_data, train_labels, summed_test_data, test_labels\n"
      ],
      "metadata": {
        "id": "OrF5Kpo4CbsZ"
      },
      "id": "OrF5Kpo4CbsZ",
      "execution_count": 4,
      "outputs": []
    },
    {
      "cell_type": "markdown",
      "id": "56c0d3ce",
      "metadata": {
        "id": "56c0d3ce"
      },
      "source": [
        "# SVM"
      ]
    },
    {
      "cell_type": "code",
      "execution_count": null,
      "id": "c1f7c169",
      "metadata": {
        "id": "c1f7c169"
      },
      "outputs": [],
      "source": [
        "from sklearn import svm\n",
        "from sklearn.metrics import classification_report\n",
        "\n",
        "def SVM_results(excluded_session):\n",
        "\n",
        "    print(f\"Session{excluded_session} is used as test set.\")\n",
        "    x_train, y_train, x_test, y_test = load_data(excluded_session)\n",
        "\n",
        "    clf = svm.SVC()\n",
        "    clf.fit(x_train, y_train)\n",
        "\n",
        "    target_names = ['ang', 'hap', 'neu', 'sad']\n",
        "\n",
        "    train_predicted = clf.predict(x_train)\n",
        "    print('*** Train')\n",
        "    print(classification_report(y_train, train_predicted, target_names=target_names, digits=6))\n",
        "    print('*** Test')\n",
        "    test_predicted = clf.predict(x_test)\n",
        "    print(classification_report(y_test, test_predicted, target_names=target_names, digits=6))"
      ]
    },
    {
      "cell_type": "code",
      "execution_count": null,
      "id": "f15ef1f9",
      "metadata": {
        "id": "f15ef1f9",
        "outputId": "55fba036-080a-4831-8f4e-7e02201d47eb",
        "colab": {
          "base_uri": "https://localhost:8080/"
        }
      },
      "outputs": [
        {
          "output_type": "stream",
          "name": "stdout",
          "text": [
            "Session1 is used as test set.\n",
            "*** Train\n",
            "              precision    recall  f1-score   support\n",
            "\n",
            "         ang   0.970183  0.967963  0.969072       874\n",
            "         hap   0.966052  0.963918  0.964983      1358\n",
            "         neu   0.952309  0.950151  0.951229      1324\n",
            "         sad   0.953229  0.961798  0.957494       890\n",
            "\n",
            "    accuracy                       0.960189      4446\n",
            "   macro avg   0.960443  0.960957  0.960695      4446\n",
            "weighted avg   0.960205  0.960189  0.960192      4446\n",
            "\n",
            "*** Test\n",
            "              precision    recall  f1-score   support\n",
            "\n",
            "         ang   0.931034  0.825328  0.875000       229\n",
            "         hap   0.689655  0.863309  0.766773       278\n",
            "         neu   0.793233  0.549479  0.649231       384\n",
            "         sad   0.615672  0.850515  0.714286       194\n",
            "\n",
            "    accuracy                       0.741935      1085\n",
            "   macro avg   0.757399  0.772158  0.751322      1085\n",
            "weighted avg   0.764030  0.741935  0.738630      1085\n",
            "\n"
          ]
        }
      ],
      "source": [
        "SVM_results(1)"
      ]
    },
    {
      "cell_type": "code",
      "execution_count": null,
      "id": "4b74ff8f",
      "metadata": {
        "id": "4b74ff8f",
        "outputId": "4685c4ca-cc46-4fd7-de94-7d8751b24978",
        "colab": {
          "base_uri": "https://localhost:8080/"
        }
      },
      "outputs": [
        {
          "output_type": "stream",
          "name": "stdout",
          "text": [
            "Session2 is used as test set.\n",
            "*** Train\n",
            "              precision    recall  f1-score   support\n",
            "\n",
            "         ang   0.968238  0.978261  0.973223       966\n",
            "         hap   0.969160  0.960275  0.964697      1309\n",
            "         neu   0.941954  0.952452  0.947174      1346\n",
            "         sad   0.961098  0.947012  0.954003       887\n",
            "\n",
            "    accuracy                       0.959184      4508\n",
            "   macro avg   0.960113  0.959500  0.959774      4508\n",
            "weighted avg   0.959253  0.959184  0.959188      4508\n",
            "\n",
            "*** Test\n",
            "              precision    recall  f1-score   support\n",
            "\n",
            "         ang   0.833333  0.875912  0.854093       137\n",
            "         hap   0.727506  0.865443  0.790503       327\n",
            "         neu   0.809836  0.682320  0.740630       362\n",
            "         sad   0.821622  0.771574  0.795812       197\n",
            "\n",
            "    accuracy                       0.783969      1023\n",
            "   macro avg   0.798074  0.798812  0.795259      1023\n",
            "weighted avg   0.788936  0.783969  0.782393      1023\n",
            "\n"
          ]
        }
      ],
      "source": [
        "SVM_results(2)"
      ]
    },
    {
      "cell_type": "code",
      "execution_count": null,
      "id": "5c5b2f84",
      "metadata": {
        "id": "5c5b2f84",
        "outputId": "68a207a4-48a5-40cd-d9a5-608ba318819b",
        "colab": {
          "base_uri": "https://localhost:8080/"
        }
      },
      "outputs": [
        {
          "output_type": "stream",
          "name": "stdout",
          "text": [
            "Session3 is used as test set.\n",
            "*** Train\n",
            "              precision    recall  f1-score   support\n",
            "\n",
            "         ang   0.990338  0.950174  0.969840       863\n",
            "         hap   0.942529  0.971852  0.956966      1350\n",
            "         neu   0.947067  0.953890  0.950467      1388\n",
            "         sad   0.959318  0.938383  0.948735       779\n",
            "\n",
            "    accuracy                       0.955936      4380\n",
            "   macro avg   0.959813  0.953575  0.956502      4380\n",
            "weighted avg   0.956373  0.955936  0.955979      4380\n",
            "\n",
            "*** Test\n",
            "              precision    recall  f1-score   support\n",
            "\n",
            "         ang   0.853659  0.583333  0.693069       240\n",
            "         hap   0.701342  0.730769  0.715753       286\n",
            "         neu   0.638021  0.765625  0.696023       320\n",
            "         sad   0.750820  0.750820  0.750820       305\n",
            "\n",
            "    accuracy                       0.715030      1151\n",
            "   macro avg   0.735960  0.707637  0.713916      1151\n",
            "weighted avg   0.728609  0.715030  0.714830      1151\n",
            "\n"
          ]
        }
      ],
      "source": [
        "SVM_results(3)"
      ]
    },
    {
      "cell_type": "code",
      "execution_count": null,
      "id": "7f701065",
      "metadata": {
        "id": "7f701065",
        "outputId": "37b2e0f5-7d9c-49a4-a494-113f947067f3",
        "colab": {
          "base_uri": "https://localhost:8080/"
        }
      },
      "outputs": [
        {
          "output_type": "stream",
          "name": "stdout",
          "text": [
            "Session4 is used as test set.\n",
            "*** Train\n",
            "              precision    recall  f1-score   support\n",
            "\n",
            "         ang   0.963010  0.972938  0.967949       776\n",
            "         hap   0.969834  0.964741  0.967281      1333\n",
            "         neu   0.961272  0.958621  0.959945      1450\n",
            "         sad   0.954449  0.957492  0.955968       941\n",
            "\n",
            "    accuracy                       0.962667      4500\n",
            "   macro avg   0.962141  0.963448  0.962786      4500\n",
            "weighted avg   0.962681  0.962667  0.962667      4500\n",
            "\n",
            "*** Test\n",
            "              precision    recall  f1-score   support\n",
            "\n",
            "         ang   0.725118  0.935780  0.817089       327\n",
            "         hap   0.802419  0.656766  0.722323       303\n",
            "         neu   0.673307  0.655039  0.664047       258\n",
            "         sad   0.900000  0.692308  0.782609       143\n",
            "\n",
            "    accuracy                       0.749758      1031\n",
            "   macro avg   0.775211  0.734973  0.746517      1031\n",
            "weighted avg   0.759127  0.749758  0.746158      1031\n",
            "\n"
          ]
        }
      ],
      "source": [
        "SVM_results(4)"
      ]
    },
    {
      "cell_type": "code",
      "execution_count": null,
      "id": "f133480a",
      "metadata": {
        "id": "f133480a",
        "outputId": "55e34c0c-b6e8-4ed1-937c-d5a193eb35f8",
        "colab": {
          "base_uri": "https://localhost:8080/"
        }
      },
      "outputs": [
        {
          "output_type": "stream",
          "name": "stdout",
          "text": [
            "Session5 is used as test set.\n",
            "*** Train\n",
            "              precision    recall  f1-score   support\n",
            "\n",
            "         ang   0.971123  0.973205  0.972163       933\n",
            "         hap   0.967116  0.960637  0.963866      1194\n",
            "         neu   0.941834  0.953927  0.947842      1324\n",
            "         sad   0.966184  0.953516  0.959808       839\n",
            "\n",
            "    accuracy                       0.959907      4290\n",
            "   macro avg   0.961564  0.960321  0.960920      4290\n",
            "weighted avg   0.960003  0.959907  0.959931      4290\n",
            "\n",
            "*** Test\n",
            "              precision    recall  f1-score   support\n",
            "\n",
            "         ang   0.792899  0.788235  0.790560       170\n",
            "         hap   0.836461  0.705882  0.765644       442\n",
            "         neu   0.665323  0.859375  0.750000       384\n",
            "         sad   0.822660  0.681633  0.745536       245\n",
            "\n",
            "    accuracy                       0.759871      1241\n",
            "   macro avg   0.779336  0.758781  0.762935      1241\n",
            "weighted avg   0.774814  0.759871  0.760247      1241\n",
            "\n"
          ]
        }
      ],
      "source": [
        "SVM_results(5)"
      ]
    },
    {
      "cell_type": "markdown",
      "source": [
        "# MLP Classifier"
      ],
      "metadata": {
        "id": "PdeyWQhN2_eb"
      },
      "id": "PdeyWQhN2_eb"
    },
    {
      "cell_type": "code",
      "source": [
        "def NN_predict(model, d_loader):\n",
        "    predicted_set = []\n",
        "\n",
        "    # no need to calculate gradients during inference\n",
        "    with torch.no_grad():\n",
        "      for data in d_loader:\n",
        "        inputs, labels = data\n",
        "        # calculate output by running through the network\n",
        "        outputs = model(inputs)\n",
        "        # get the predictions\n",
        "        __, predicted = torch.max(outputs.data, 1)\n",
        "        predicted_set += predicted.tolist()\n",
        "\n",
        "    return predicted_set"
      ],
      "metadata": {
        "id": "4LlKY5xcz9I5"
      },
      "execution_count": null,
      "outputs": [],
      "id": "4LlKY5xcz9I5"
    },
    {
      "cell_type": "code",
      "source": [
        "def NN_train(model, t_loader):\n",
        "\n",
        "    criterion = nn.CrossEntropyLoss()\n",
        "    optimizer = torch.optim.SGD(model.parameters(), lr=0.1)\n",
        "\n",
        "    epochs = 50\n",
        "\n",
        "    total_loss = 0.0  # Initialize total loss variable\n",
        "    for epoch in range(epochs):\n",
        "        running_loss = 0.0\n",
        "        for i, data in enumerate(t_loader, 0):\n",
        "            inputs, labels = data\n",
        "            # set optimizer to zero grad to remove previous epoch gradients\n",
        "            optimizer.zero_grad()\n",
        "            # forward propagation\n",
        "            outputs = model(inputs)\n",
        "            loss = criterion(outputs, labels)\n",
        "            # backward propagation\n",
        "            loss.backward()\n",
        "            optimizer.step()\n",
        "            running_loss += loss.item()\n",
        "\n",
        "    return running_loss/len(t_loader)"
      ],
      "metadata": {
        "id": "cNarQaudz9I5"
      },
      "execution_count": null,
      "outputs": [],
      "id": "cNarQaudz9I5"
    },
    {
      "cell_type": "code",
      "source": [
        "import numpy as np\n",
        "import torch\n",
        "from torch.utils.data import Dataset, DataLoader\n",
        "\n",
        "class Data(Dataset):\n",
        "  def __init__(self, X_train, y_train):\n",
        "    # need to convert float64 to float32 else\n",
        "    # will get the following error\n",
        "    # RuntimeError: expected scalar type Double but found Float\n",
        "    #self.X = torch.from_numpy(X_train.cast(np.float64))\n",
        "    self.X = X_train\n",
        "    # need to convert float64 to Long else\n",
        "    # will get the following error\n",
        "    # RuntimeError: expected scalar type Long but found Float\n",
        "    self.y = torch.FloatTensor(y_train).type(torch.LongTensor)\n",
        "    self.len = self.X.shape[0]\n",
        "\n",
        "  def __getitem__(self, index):\n",
        "    return self.X[index], self.y[index]\n",
        "  def __len__(self):\n",
        "    return self.len"
      ],
      "metadata": {
        "id": "4P7QThtez9I6"
      },
      "execution_count": null,
      "outputs": [],
      "id": "4P7QThtez9I6"
    },
    {
      "cell_type": "code",
      "source": [
        "# number of features (len of X cols), we have two modalities so 2 * num_labels\n",
        "input_dim = 4\n",
        "hidden_layers = 8\n",
        "# hidden_layers2 = 256\n",
        "output_dim = 4\n",
        "\n",
        "\n",
        "class Network(nn.Module):\n",
        "  def __init__(self):\n",
        "    super(Network, self).__init__()\n",
        "    self.linear1 = nn.Linear(input_dim, hidden_layers)\n",
        "    self.linear2 = nn.Linear(hidden_layers, output_dim)\n",
        "  def forward(self, x):\n",
        "    x = torch.sigmoid(self.linear1(x))\n",
        "    x = self.linear2(x)\n",
        "    return x"
      ],
      "metadata": {
        "id": "0Rz1zKjqz9I6"
      },
      "execution_count": null,
      "outputs": [],
      "id": "0Rz1zKjqz9I6"
    },
    {
      "cell_type": "code",
      "source": [
        "from sklearn.metrics import classification_report\n",
        "\n",
        "def NN_results(out_session):\n",
        "\n",
        "    print(f\"Session{out_session} is used as test set.\")\n",
        "    x_train, y_train, x_test, y_test = load_data(out_session)\n",
        "\n",
        "    train_data = Data(x_train, y_train)\n",
        "    batch_size = 32\n",
        "    trainloader = DataLoader(train_data, batch_size=batch_size, shuffle=False)\n",
        "\n",
        "    clf = Network()\n",
        "    print(clf.parameters)\n",
        "\n",
        "    total_loss = NN_train(clf, trainloader)  # Get total loss from training\n",
        "\n",
        "    test_data = Data(x_test, y_test)\n",
        "    testloader = DataLoader(test_data, batch_size=batch_size, shuffle=False)\n",
        "\n",
        "    target_names = ['ang', 'hap', 'neu', 'sad']\n",
        "\n",
        "    train_predicted = NN_predict(clf, trainloader)\n",
        "    print('*** Train')\n",
        "    print(classification_report(y_train, train_predicted, target_names=target_names, digits=6))\n",
        "    print('\\n\\n*** Test')\n",
        "    test_predicted = NN_predict(clf, testloader)\n",
        "    print(classification_report(y_test, test_predicted, target_names=target_names, digits=6))\n",
        "\n",
        "    unweighted_acc = balanced_accuracy_score(y_test, test_predicted)\n",
        "    weighted_acc = accuracy_score(y_test, test_predicted)\n",
        "\n",
        "\n",
        "    print(f\"\\n\\nunweighted accuracy (UA) : {unweighted_acc*100:.2f}%\\nweighted accuracy (WA) : {weighted_acc*100:.2f}%\")\n"
      ],
      "metadata": {
        "id": "j71Fo5NZz9I6"
      },
      "execution_count": null,
      "outputs": [],
      "id": "j71Fo5NZz9I6"
    },
    {
      "cell_type": "markdown",
      "source": [
        "#### Leave One Session Out (left out session = 1)"
      ],
      "metadata": {
        "id": "Rdw_P6n7qIHU"
      },
      "id": "Rdw_P6n7qIHU"
    },
    {
      "cell_type": "code",
      "source": [
        "NN_results(1)"
      ],
      "metadata": {
        "id": "6M19DsFLyARF",
        "outputId": "0f06495d-630c-4e1d-d2cc-925fe96c3190",
        "colab": {
          "base_uri": "https://localhost:8080/"
        }
      },
      "execution_count": null,
      "outputs": [
        {
          "output_type": "stream",
          "name": "stdout",
          "text": [
            "Session1 is used as test set.\n",
            "<bound method Module.parameters of Network(\n",
            "  (linear1): Linear(in_features=4, out_features=8, bias=True)\n",
            "  (linear2): Linear(in_features=8, out_features=4, bias=True)\n",
            ")>\n",
            "*** Train\n",
            "              precision    recall  f1-score   support\n",
            "\n",
            "         ang   0.970149  0.966819  0.968481       874\n",
            "         hap   0.965339  0.963918  0.964628      1358\n",
            "         neu   0.952309  0.950151  0.951229      1324\n",
            "         sad   0.953229  0.961798  0.957494       890\n",
            "\n",
            "    accuracy                       0.959964      4446\n",
            "   macro avg   0.960257  0.960671  0.960458      4446\n",
            "weighted avg   0.959980  0.959964  0.959967      4446\n",
            "\n",
            "\n",
            "\n",
            "*** Test\n",
            "              precision    recall  f1-score   support\n",
            "\n",
            "         ang   0.930693  0.820961  0.872390       229\n",
            "         hap   0.685714  0.863309  0.764331       278\n",
            "         neu   0.793233  0.549479  0.649231       384\n",
            "         sad   0.614232  0.845361  0.711497       194\n",
            "\n",
            "    accuracy                       0.740092      1085\n",
            "   macro avg   0.755968  0.769778  0.749362      1085\n",
            "weighted avg   0.762691  0.740092  0.736955      1085\n",
            "\n",
            "\n",
            "\n",
            "unweighted accuracy (UA) : 76.98%\n",
            "weighted accuracy (WA) : 74.01%\n"
          ]
        }
      ],
      "id": "6M19DsFLyARF"
    },
    {
      "cell_type": "markdown",
      "source": [
        "#### Leave One Session Out (left out session = 2)"
      ],
      "metadata": {
        "id": "w-Fvps42qIs9"
      },
      "id": "w-Fvps42qIs9"
    },
    {
      "cell_type": "code",
      "source": [
        "NN_results(2)"
      ],
      "metadata": {
        "colab": {
          "base_uri": "https://localhost:8080/"
        },
        "id": "deJP7mzGzSvt",
        "outputId": "92d8173e-7818-4c64-fa95-d90dcdaa061c"
      },
      "execution_count": null,
      "outputs": [
        {
          "output_type": "stream",
          "name": "stdout",
          "text": [
            "Session2 is used as test set.\n",
            "<bound method Module.parameters of Network(\n",
            "  (linear1): Linear(in_features=4, out_features=8, bias=True)\n",
            "  (linear2): Linear(in_features=8, out_features=4, bias=True)\n",
            ")>\n",
            "*** Train\n",
            "              precision    recall  f1-score   support\n",
            "\n",
            "         ang   0.967247  0.978261  0.972723       966\n",
            "         hap   0.967717  0.961803  0.964751      1309\n",
            "         neu   0.943215  0.950223  0.946706      1346\n",
            "         sad   0.961098  0.947012  0.954003       887\n",
            "\n",
            "    accuracy                       0.958962      4508\n",
            "   macro avg   0.959819  0.959325  0.959546      4508\n",
            "weighted avg   0.958998  0.958962  0.958957      4508\n",
            "\n",
            "\n",
            "\n",
            "*** Test\n",
            "              precision    recall  f1-score   support\n",
            "\n",
            "         ang   0.821918  0.875912  0.848057       137\n",
            "         hap   0.724936  0.862385  0.787709       327\n",
            "         neu   0.814570  0.679558  0.740964       362\n",
            "         sad   0.817204  0.771574  0.793734       197\n",
            "\n",
            "    accuracy                       0.782014      1023\n",
            "   macro avg   0.794657  0.797357  0.792616      1023\n",
            "weighted avg   0.787410  0.782014  0.780410      1023\n",
            "\n",
            "\n",
            "\n",
            "unweighted accuracy (UA) : 79.74%\n",
            "weighted accuracy (WA) : 78.20%\n"
          ]
        }
      ],
      "id": "deJP7mzGzSvt"
    },
    {
      "cell_type": "markdown",
      "source": [
        "#### Leave One Session Out (left out session = 3)"
      ],
      "metadata": {
        "id": "IaSFTJGwqJ9c"
      },
      "id": "IaSFTJGwqJ9c"
    },
    {
      "cell_type": "code",
      "source": [
        "NN_results(3)"
      ],
      "metadata": {
        "colab": {
          "base_uri": "https://localhost:8080/"
        },
        "id": "xWhlYf_H0Ijr",
        "outputId": "4d293df3-150e-463f-978d-12f671a6cc81"
      },
      "execution_count": null,
      "outputs": [
        {
          "output_type": "stream",
          "name": "stdout",
          "text": [
            "Session3 is used as test set.\n",
            "<bound method Module.parameters of Network(\n",
            "  (linear1): Linear(in_features=4, out_features=8, bias=True)\n",
            "  (linear2): Linear(in_features=8, out_features=4, bias=True)\n",
            ")>\n",
            "*** Train\n",
            "              precision    recall  f1-score   support\n",
            "\n",
            "         ang   0.987952  0.950174  0.968695       863\n",
            "         hap   0.942570  0.972593  0.957346      1350\n",
            "         neu   0.942979  0.953170  0.948047      1388\n",
            "         sad   0.960212  0.929397  0.944553       779\n",
            "\n",
            "    accuracy                       0.954338      4380\n",
            "   macro avg   0.958428  0.951333  0.954660      4380\n",
            "weighted avg   0.954779  0.954338  0.954360      4380\n",
            "\n",
            "\n",
            "\n",
            "*** Test\n",
            "              precision    recall  f1-score   support\n",
            "\n",
            "         ang   0.860606  0.591667  0.701235       240\n",
            "         hap   0.703704  0.730769  0.716981       286\n",
            "         neu   0.638243  0.771875  0.698727       320\n",
            "         sad   0.754967  0.747541  0.751236       305\n",
            "\n",
            "    accuracy                       0.717637      1151\n",
            "   macro avg   0.739380  0.710463  0.717045      1151\n",
            "weighted avg   0.731805  0.717637  0.717700      1151\n",
            "\n",
            "\n",
            "\n",
            "unweighted accuracy (UA) : 71.05%\n",
            "weighted accuracy (WA) : 71.76%\n"
          ]
        }
      ],
      "id": "xWhlYf_H0Ijr"
    },
    {
      "cell_type": "markdown",
      "source": [
        "#### Leave One Session Out (left out session = 4)"
      ],
      "metadata": {
        "id": "iSZL0GRqqK0U"
      },
      "id": "iSZL0GRqqK0U"
    },
    {
      "cell_type": "code",
      "source": [
        "NN_results(4)"
      ],
      "metadata": {
        "colab": {
          "base_uri": "https://localhost:8080/"
        },
        "id": "k0pGM6l26irU",
        "outputId": "82cc6936-f76c-4b92-98c4-05f218099705"
      },
      "execution_count": null,
      "outputs": [
        {
          "output_type": "stream",
          "name": "stdout",
          "text": [
            "Session4 is used as test set.\n",
            "<bound method Module.parameters of Network(\n",
            "  (linear1): Linear(in_features=4, out_features=8, bias=True)\n",
            "  (linear2): Linear(in_features=8, out_features=4, bias=True)\n",
            ")>\n",
            "*** Train\n",
            "              precision    recall  f1-score   support\n",
            "\n",
            "         ang   0.961881  0.975515  0.968650       776\n",
            "         hap   0.971321  0.965491  0.968397      1333\n",
            "         neu   0.961938  0.958621  0.960276      1450\n",
            "         sad   0.955461  0.957492  0.956476       941\n",
            "\n",
            "    accuracy                       0.963333      4500\n",
            "   macro avg   0.962650  0.964280  0.963450      4500\n",
            "weighted avg   0.963353  0.963333  0.963331      4500\n",
            "\n",
            "\n",
            "\n",
            "*** Test\n",
            "              precision    recall  f1-score   support\n",
            "\n",
            "         ang   0.718970  0.938838  0.814324       327\n",
            "         hap   0.801619  0.653465  0.720000       303\n",
            "         neu   0.676113  0.647287  0.661386       258\n",
            "         sad   0.900000  0.692308  0.782609       143\n",
            "\n",
            "    accuracy                       0.747818      1031\n",
            "   macro avg   0.774176  0.732974  0.744580      1031\n",
            "weighted avg   0.757644  0.747818  0.743933      1031\n",
            "\n",
            "\n",
            "\n",
            "unweighted accuracy (UA) : 73.30%\n",
            "weighted accuracy (WA) : 74.78%\n"
          ]
        }
      ],
      "id": "k0pGM6l26irU"
    },
    {
      "cell_type": "markdown",
      "source": [
        "#### Leave One Session Out (left out session = 5)"
      ],
      "metadata": {
        "id": "vqza_nYBqL7J"
      },
      "id": "vqza_nYBqL7J"
    },
    {
      "cell_type": "code",
      "source": [
        "NN_results(5)"
      ],
      "metadata": {
        "colab": {
          "base_uri": "https://localhost:8080/"
        },
        "id": "iq1gI_DQ6jcS",
        "outputId": "1bcc6ef8-e2fc-4574-faa1-5a678c0f3ff5"
      },
      "execution_count": null,
      "outputs": [
        {
          "output_type": "stream",
          "name": "stdout",
          "text": [
            "Session5 is used as test set.\n",
            "<bound method Module.parameters of Network(\n",
            "  (linear1): Linear(in_features=4, out_features=8, bias=True)\n",
            "  (linear2): Linear(in_features=8, out_features=4, bias=True)\n",
            ")>\n",
            "*** Train\n",
            "              precision    recall  f1-score   support\n",
            "\n",
            "         ang   0.971154  0.974277  0.972713       933\n",
            "         hap   0.963149  0.963149  0.963149      1194\n",
            "         neu   0.945946  0.951662  0.948795      1324\n",
            "         sad   0.966184  0.953516  0.959808       839\n",
            "\n",
            "    accuracy                       0.960140      4290\n",
            "   macro avg   0.961608  0.960651  0.961116      4290\n",
            "weighted avg   0.960174  0.960140  0.960146      4290\n",
            "\n",
            "\n",
            "\n",
            "*** Test\n",
            "              precision    recall  f1-score   support\n",
            "\n",
            "         ang   0.782857  0.805882  0.794203       170\n",
            "         hap   0.831579  0.714932  0.768856       442\n",
            "         neu   0.677019  0.851562  0.754325       384\n",
            "         sad   0.827586  0.685714  0.750000       245\n",
            "\n",
            "    accuracy                       0.763900      1241\n",
            "   macro avg   0.779760  0.764523  0.766846      1241\n",
            "weighted avg   0.776291  0.763900  0.764110      1241\n",
            "\n",
            "\n",
            "\n",
            "unweighted accuracy (UA) : 76.45%\n",
            "weighted accuracy (WA) : 76.39%\n"
          ]
        }
      ],
      "id": "iq1gI_DQ6jcS"
    },
    {
      "cell_type": "markdown",
      "source": [
        "#### Result of Leave One Out Session (Mean Score)"
      ],
      "metadata": {
        "id": "X7dHVWfJnLfY"
      },
      "id": "X7dHVWfJnLfY"
    },
    {
      "cell_type": "code",
      "source": [
        "loso_1 = {\"UA\" : 76.98,\n",
        "          \"WA\" : 74.01}\n",
        "\n",
        "loso_2 = {\"UA\" : 79.74,\n",
        "          \"WA\" : 78.20}\n",
        "\n",
        "loso_3 = {\"UA\" : 71.05,\n",
        "          \"WA\" : 71.76}\n",
        "\n",
        "loso_4 = {\"UA\" : 73.30,\n",
        "          \"WA\" : 74.78}\n",
        "\n",
        "loso_5 = {\"UA\" : 76.45,\n",
        "          \"WA\" : 76.39}"
      ],
      "metadata": {
        "id": "Y4cZfHT1nLfZ"
      },
      "execution_count": null,
      "outputs": [],
      "id": "Y4cZfHT1nLfZ"
    },
    {
      "cell_type": "code",
      "source": [
        "meean_loso_score = {\"UA\" : (loso_1[\"UA\"] + loso_2[\"UA\"] + loso_3[\"UA\"] + loso_4[\"UA\"] + loso_5[\"UA\"])/5  ,\n",
        "              \"WA\" : (loso_1[\"WA\"] + loso_2[\"WA\"] + loso_3[\"WA\"] + loso_4[\"WA\"] + loso_5[\"WA\"])/5}"
      ],
      "metadata": {
        "id": "ZqCVlHKynLfZ"
      },
      "execution_count": null,
      "outputs": [],
      "id": "ZqCVlHKynLfZ"
    },
    {
      "cell_type": "code",
      "source": [
        "meean_loso_score"
      ],
      "metadata": {
        "outputId": "eeab9851-5d6c-46f7-df80-0f6d225baaad",
        "colab": {
          "base_uri": "https://localhost:8080/"
        },
        "id": "qq6ULdoGnLfZ"
      },
      "execution_count": null,
      "outputs": [
        {
          "output_type": "execute_result",
          "data": {
            "text/plain": [
              "{'UA': 75.50399999999999, 'WA': 75.02799999999999}"
            ]
          },
          "metadata": {},
          "execution_count": 13
        }
      ],
      "id": "qq6ULdoGnLfZ"
    },
    {
      "cell_type": "code",
      "source": [
        "print(f\"mean UA: {meean_loso_score['UA']:0.2f}\\nmean WA: {meean_loso_score['WA']:0.2f}\")"
      ],
      "metadata": {
        "outputId": "c4191209-c036-47a5-a44f-2d6762fd77ed",
        "colab": {
          "base_uri": "https://localhost:8080/"
        },
        "id": "XLMhQd65nLfZ"
      },
      "execution_count": null,
      "outputs": [
        {
          "output_type": "stream",
          "name": "stdout",
          "text": [
            "mean UA: 75.50\n",
            "mean WA: 75.03\n"
          ]
        }
      ],
      "id": "XLMhQd65nLfZ"
    },
    {
      "cell_type": "markdown",
      "source": [
        "# XGBoost"
      ],
      "metadata": {
        "id": "cdWL-GLkK_-I"
      },
      "id": "cdWL-GLkK_-I"
    },
    {
      "cell_type": "code",
      "source": [
        "from xgboost import XGBClassifier\n",
        "\n",
        "def XGBresults(out_session):\n",
        "\n",
        "    print(f\"Session{out_session} is used as test set.\")\n",
        "    x_train, y_train, x_test, y_test = load_data(out_session)\n",
        "\n",
        "    bst = XGBClassifier(n_estimators=2, max_depth=2, learning_rate=1, objective='binary:logistic')\n",
        "    bst.fit(x_train, y_train)\n",
        "\n",
        "\n",
        "    target_names = ['ang', 'hap', 'neu', 'sad']\n",
        "\n",
        "    train_predicted = bst.predict(x_train)\n",
        "    print('*** Train')\n",
        "    print(classification_report(y_train, train_predicted, target_names=target_names, digits=6))\n",
        "    print('\\n\\n*** Test')\n",
        "    test_predicted = bst.predict(x_test)\n",
        "    print(classification_report(y_test, test_predicted, target_names=target_names, digits=6))\n",
        "\n",
        "    unweighted_acc = balanced_accuracy_score(y_test, test_predicted)\n",
        "    weighted_acc = accuracy_score(y_test, test_predicted)\n",
        "\n",
        "    print(f\"\\n\\nunweighted accuracy (UA) : {unweighted_acc*100:.2f}%\\nweighted accuracy (WA) : {weighted_acc*100:.2f}%\")\n",
        "\n"
      ],
      "metadata": {
        "id": "0nqwZA449f8V"
      },
      "execution_count": 5,
      "outputs": [],
      "id": "0nqwZA449f8V"
    },
    {
      "cell_type": "markdown",
      "source": [
        "#### Leave One Session Out (left out session = 1)"
      ],
      "metadata": {
        "id": "XDJe9Dq5qUpQ"
      },
      "id": "XDJe9Dq5qUpQ"
    },
    {
      "cell_type": "code",
      "source": [
        "XGBresults(1)"
      ],
      "metadata": {
        "colab": {
          "base_uri": "https://localhost:8080/"
        },
        "id": "CA_GY1NOLXqP",
        "outputId": "07c1f326-46b5-454b-acb1-c151b09ba485"
      },
      "execution_count": null,
      "outputs": [
        {
          "output_type": "stream",
          "name": "stdout",
          "text": [
            "Session1 is used as test set.\n",
            "*** Train\n",
            "              precision    recall  f1-score   support\n",
            "\n",
            "         ang   0.976717  0.959954  0.968263       874\n",
            "         hap   0.970238  0.960236  0.965211      1358\n",
            "         neu   0.948949  0.954683  0.951807      1324\n",
            "         sad   0.947311  0.969663  0.958356       890\n",
            "\n",
            "    accuracy                       0.960414      4446\n",
            "   macro avg   0.960804  0.961134  0.960909      4446\n",
            "weighted avg   0.960582  0.960414  0.960447      4446\n",
            "\n",
            "\n",
            "\n",
            "*** Test\n",
            "              precision    recall  f1-score   support\n",
            "\n",
            "         ang   0.927461  0.781659  0.848341       229\n",
            "         hap   0.706949  0.841727  0.768473       278\n",
            "         neu   0.757353  0.536458  0.628049       384\n",
            "         sad   0.588235  0.876289  0.703934       194\n",
            "\n",
            "    accuracy                       0.727189      1085\n",
            "   macro avg   0.745000  0.759033  0.737199      1085\n",
            "weighted avg   0.750103  0.727189  0.724092      1085\n",
            "\n",
            "\n",
            "\n",
            "unweighted accuracy (UA) : 75.90%\n",
            "weighted accuracy (WA) : 72.72%\n"
          ]
        }
      ],
      "id": "CA_GY1NOLXqP"
    },
    {
      "cell_type": "markdown",
      "source": [
        "#### Leave One Session Out (left out session = 2)"
      ],
      "metadata": {
        "id": "D8KEdTKrqVKz"
      },
      "id": "D8KEdTKrqVKz"
    },
    {
      "cell_type": "code",
      "source": [
        "XGBresults(2)"
      ],
      "metadata": {
        "colab": {
          "base_uri": "https://localhost:8080/"
        },
        "id": "pYzc0n2ULdIq",
        "outputId": "21012964-3b4b-44d5-a95c-43c723076b4e"
      },
      "execution_count": null,
      "outputs": [
        {
          "output_type": "stream",
          "name": "stdout",
          "text": [
            "Session2 is used as test set.\n",
            "*** Train\n",
            "              precision    recall  f1-score   support\n",
            "\n",
            "         ang   0.971223  0.978261  0.974729       966\n",
            "         hap   0.969231  0.962567  0.965887      1309\n",
            "         neu   0.942647  0.952452  0.947524      1346\n",
            "         sad   0.962286  0.949267  0.955732       887\n",
            "\n",
            "    accuracy                       0.960293      4508\n",
            "   macro avg   0.961347  0.960637  0.960968      4508\n",
            "weighted avg   0.960354  0.960293  0.960301      4508\n",
            "\n",
            "\n",
            "\n",
            "*** Test\n",
            "              precision    recall  f1-score   support\n",
            "\n",
            "         ang   0.821918  0.875912  0.848057       137\n",
            "         hap   0.723514  0.856269  0.784314       327\n",
            "         neu   0.809836  0.682320  0.740630       362\n",
            "         sad   0.816216  0.766497  0.790576       197\n",
            "\n",
            "    accuracy                       0.780059      1023\n",
            "   macro avg   0.792871  0.795250  0.790894      1023\n",
            "weighted avg   0.785090  0.780059  0.778598      1023\n",
            "\n",
            "\n",
            "\n",
            "unweighted accuracy (UA) : 79.52%\n",
            "weighted accuracy (WA) : 78.01%\n"
          ]
        }
      ],
      "id": "pYzc0n2ULdIq"
    },
    {
      "cell_type": "markdown",
      "source": [
        "#### Leave One Session Out (left out session = 3)"
      ],
      "metadata": {
        "id": "3fqkyROlqV_4"
      },
      "id": "3fqkyROlqV_4"
    },
    {
      "cell_type": "code",
      "source": [
        "XGBresults(3)"
      ],
      "metadata": {
        "id": "qCjtZAW3Luyd",
        "colab": {
          "base_uri": "https://localhost:8080/"
        },
        "outputId": "82cbd1cc-e16e-40a4-ba91-dea9f95b797c"
      },
      "execution_count": 6,
      "outputs": [
        {
          "output_type": "stream",
          "name": "stdout",
          "text": [
            "Session3 is used as test set.\n",
            "*** Train\n",
            "              precision    recall  f1-score   support\n",
            "\n",
            "         ang   0.991505  0.946698  0.968583       863\n",
            "         hap   0.945926  0.971852  0.958714      1350\n",
            "         neu   0.947143  0.955331  0.951220      1388\n",
            "         sad   0.954486  0.942234  0.948320       779\n",
            "\n",
            "    accuracy                       0.956393      4380\n",
            "   macro avg   0.959765  0.954029  0.956709      4380\n",
            "weighted avg   0.956815  0.956393  0.956435      4380\n",
            "\n",
            "\n",
            "\n",
            "*** Test\n",
            "              precision    recall  f1-score   support\n",
            "\n",
            "         ang   0.870968  0.562500  0.683544       240\n",
            "         hap   0.706485  0.723776  0.715026       286\n",
            "         neu   0.643411  0.778125  0.704385       320\n",
            "         sad   0.746835  0.773770  0.760064       305\n",
            "\n",
            "    accuracy                       0.718506      1151\n",
            "   macro avg   0.741925  0.709543  0.715755      1151\n",
            "weighted avg   0.733938  0.718506  0.717438      1151\n",
            "\n",
            "\n",
            "\n",
            "unweighted accuracy (UA) : 70.95%\n",
            "weighted accuracy (WA) : 71.85%\n"
          ]
        }
      ],
      "id": "qCjtZAW3Luyd"
    },
    {
      "cell_type": "markdown",
      "source": [
        "#### Leave One Session Out (left out session = 4)"
      ],
      "metadata": {
        "id": "H6ORNAZOqWzY"
      },
      "id": "H6ORNAZOqWzY"
    },
    {
      "cell_type": "code",
      "source": [
        "XGBresults(4)"
      ],
      "metadata": {
        "id": "OMbRbXGaLvsi"
      },
      "execution_count": null,
      "outputs": [],
      "id": "OMbRbXGaLvsi"
    },
    {
      "cell_type": "markdown",
      "source": [
        "#### Leave One Session Out (left out session = 5)"
      ],
      "metadata": {
        "id": "5CUJgBJAqXsX"
      },
      "id": "5CUJgBJAqXsX"
    },
    {
      "cell_type": "code",
      "source": [
        "XGBresults(5)"
      ],
      "metadata": {
        "id": "PPrSgvZ0LwfN"
      },
      "execution_count": null,
      "outputs": [],
      "id": "PPrSgvZ0LwfN"
    },
    {
      "cell_type": "markdown",
      "source": [
        "#### Result of Leave One Out Session (Mean Score)"
      ],
      "metadata": {
        "id": "c4skeKpb5anN"
      },
      "id": "c4skeKpb5anN"
    },
    {
      "cell_type": "code",
      "source": [
        "loso_1 = {\"UA\" : 75.90,\n",
        "          \"WA\" : 72.72}\n",
        "\n",
        "loso_2 = {\"UA\" : 79.52,\n",
        "          \"WA\" : 78.01}\n",
        "\n",
        "loso_3 = {\"UA\" : 70.95,\n",
        "          \"WA\" : 71.85}\n",
        "\n",
        "loso_4 = {\"UA\" : 77.16,\n",
        "          \"WA\" : 77.50,\n",
        "          \"loss\" : 0.682506}\n",
        "\n",
        "loso_5 = {\"UA\" : 72.06,\n",
        "          \"WA\" : 71.47,\n",
        "          \"loss\" : 0.795068}"
      ],
      "metadata": {
        "id": "o3cG15X-5anN"
      },
      "execution_count": null,
      "outputs": [],
      "id": "o3cG15X-5anN"
    },
    {
      "cell_type": "code",
      "source": [
        "meean_loso_score = {\"UA\" : (loso_1[\"UA\"] + loso_2[\"UA\"] + loso_3[\"UA\"] + loso_4[\"UA\"] + loso_5[\"UA\"])/5  ,\n",
        "              \"WA\" : (loso_1[\"WA\"] + loso_2[\"WA\"] + loso_3[\"WA\"] + loso_4[\"WA\"] + loso_5[\"WA\"])/5,\n",
        "              \"loss\" : (loso_1[\"loss\"] + loso_2[\"loss\"] + loso_3[\"loss\"] + loso_4[\"loss\"] + loso_5[\"loss\"])/5}"
      ],
      "metadata": {
        "id": "ifu_293o5anN"
      },
      "execution_count": null,
      "outputs": [],
      "id": "ifu_293o5anN"
    },
    {
      "cell_type": "code",
      "source": [
        "meean_loso_score"
      ],
      "metadata": {
        "outputId": "4ee73c94-b937-492d-8b54-d36da92fbe9f",
        "colab": {
          "base_uri": "https://localhost:8080/"
        },
        "id": "GxKmfUTk5anN"
      },
      "execution_count": null,
      "outputs": [
        {
          "output_type": "execute_result",
          "data": {
            "text/plain": [
              "{'UA': 75.61, 'WA': 74.72999999999999, 'loss': 0.7324302}"
            ]
          },
          "metadata": {},
          "execution_count": 20
        }
      ],
      "id": "GxKmfUTk5anN"
    },
    {
      "cell_type": "code",
      "source": [
        "print(f\"mean UA: {meean_loso_score['UA']:0.2f}\\nmean WA: {meean_loso_score['WA']:0.2f}\\nmean loss: {meean_loso_score['loss']:0.2f}\")"
      ],
      "metadata": {
        "outputId": "b24f2607-9394-4e18-c173-77de2ed6086b",
        "colab": {
          "base_uri": "https://localhost:8080/"
        },
        "id": "LZMqC56z5anO"
      },
      "execution_count": null,
      "outputs": [
        {
          "output_type": "stream",
          "name": "stdout",
          "text": [
            "mean UA: 75.61\n",
            "mean WA: 74.73\n",
            "mean loss: 0.73\n"
          ]
        }
      ],
      "id": "LZMqC56z5anO"
    }
  ],
  "metadata": {
    "kernelspec": {
      "display_name": "Python 3",
      "language": "python",
      "name": "python3"
    },
    "language_info": {
      "codemirror_mode": {
        "name": "ipython",
        "version": 3
      },
      "file_extension": ".py",
      "mimetype": "text/x-python",
      "name": "python",
      "nbconvert_exporter": "python",
      "pygments_lexer": "ipython3",
      "version": "3.8.2"
    },
    "colab": {
      "provenance": [],
      "collapsed_sections": [
        "BfAPoUuJS-WW",
        "TfId1QaKVOWX",
        "56c0d3ce"
      ],
      "toc_visible": true,
      "include_colab_link": true
    }
  },
  "nbformat": 4,
  "nbformat_minor": 5
}