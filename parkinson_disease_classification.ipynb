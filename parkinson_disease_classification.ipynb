{
  "nbformat": 4,
  "nbformat_minor": 0,
  "metadata": {
    "colab": {
      "name": "parkinson-disease_classification.ipynb",
      "provenance": [],
      "collapsed_sections": [],
      "toc_visible": true,
      "authorship_tag": "ABX9TyM6MvTLUEVs8gxO2tUhp4uM",
      "include_colab_link": true
    },
    "kernelspec": {
      "name": "python3",
      "display_name": "Python 3"
    },
    "language_info": {
      "name": "python"
    }
  },
  "cells": [
    {
      "cell_type": "markdown",
      "metadata": {
        "id": "view-in-github",
        "colab_type": "text"
      },
      "source": [
        "<a href=\"https://colab.research.google.com/github/ZahraDehghani99/AI-Internship/blob/master/parkinson_disease_classification.ipynb\" target=\"_parent\"><img src=\"https://colab.research.google.com/assets/colab-badge.svg\" alt=\"Open In Colab\"/></a>"
      ]
    },
    {
      "cell_type": "markdown",
      "source": [
        "# Parkinson's Disease Classification\n"
      ],
      "metadata": {
        "id": "iobCMrjyORsf"
      }
    },
    {
      "cell_type": "markdown",
      "source": [
        "## Read data and EDA"
      ],
      "metadata": {
        "id": "gtUYLJ4Ph6rm"
      }
    },
    {
      "cell_type": "code",
      "execution_count": null,
      "metadata": {
        "id": "BbGVnXrtNhYC"
      },
      "outputs": [],
      "source": [
        "import pandas as pd\n",
        "import numpy as np\n",
        "\n",
        "import matplotlib.pyplot as plt\n",
        "import seaborn as sns\n",
        "\n",
        "from sklearn import metrics\n",
        "from sklearn.model_selection import StratifiedKFold\n",
        "from sklearn.model_selection import cross_val_score\n",
        "from sklearn.metrics import classification_report\n",
        "from sklearn.metrics import accuracy_score\n",
        "\n",
        "import warnings\n",
        "warnings.filterwarnings('ignore')\n",
        "\n",
        "np.random.seed(0)"
      ]
    },
    {
      "cell_type": "code",
      "source": [
        "from google.colab import drive\n",
        "drive.mount('/content/drive')"
      ],
      "metadata": {
        "colab": {
          "base_uri": "https://localhost:8080/"
        },
        "id": "aV1Jx3ViTEiY",
        "outputId": "507b4868-7156-46d0-8bc6-69778652760b"
      },
      "execution_count": null,
      "outputs": [
        {
          "output_type": "stream",
          "name": "stdout",
          "text": [
            "Drive already mounted at /content/drive; to attempt to forcibly remount, call drive.mount(\"/content/drive\", force_remount=True).\n"
          ]
        }
      ]
    },
    {
      "cell_type": "markdown",
      "source": [
        "Read data set"
      ],
      "metadata": {
        "id": "PHQjxrs-WBfm"
      }
    },
    {
      "cell_type": "code",
      "source": [
        "data  = pd.read_csv('/content/drive/MyDrive/ML_Dr.sajedi/pd_speech_features.csv')\n",
        "data.info()"
      ],
      "metadata": {
        "colab": {
          "base_uri": "https://localhost:8080/"
        },
        "id": "lxRLsRR9TMd2",
        "outputId": "c98846ef-d7d6-4328-b600-33e925808b28"
      },
      "execution_count": null,
      "outputs": [
        {
          "output_type": "stream",
          "name": "stdout",
          "text": [
            "<class 'pandas.core.frame.DataFrame'>\n",
            "RangeIndex: 756 entries, 0 to 755\n",
            "Columns: 755 entries, id to class\n",
            "dtypes: float64(749), int64(6)\n",
            "memory usage: 4.4 MB\n"
          ]
        }
      ]
    },
    {
      "cell_type": "markdown",
      "source": [
        "Each person has 3 records, so we have 252 patients."
      ],
      "metadata": {
        "id": "BEO7MY1ColiD"
      }
    },
    {
      "cell_type": "code",
      "source": [
        "data.head()"
      ],
      "metadata": {
        "colab": {
          "base_uri": "https://localhost:8080/",
          "height": 300
        },
        "id": "71I-3EHrViJC",
        "outputId": "30bb065f-0040-4519-9004-cd9b685c9067"
      },
      "execution_count": null,
      "outputs": [
        {
          "output_type": "execute_result",
          "data": {
            "text/html": [
              "\n",
              "  <div id=\"df-467b1567-b2a0-46f7-b6ab-fe9da5d46c96\">\n",
              "    <div class=\"colab-df-container\">\n",
              "      <div>\n",
              "<style scoped>\n",
              "    .dataframe tbody tr th:only-of-type {\n",
              "        vertical-align: middle;\n",
              "    }\n",
              "\n",
              "    .dataframe tbody tr th {\n",
              "        vertical-align: top;\n",
              "    }\n",
              "\n",
              "    .dataframe thead th {\n",
              "        text-align: right;\n",
              "    }\n",
              "</style>\n",
              "<table border=\"1\" class=\"dataframe\">\n",
              "  <thead>\n",
              "    <tr style=\"text-align: right;\">\n",
              "      <th></th>\n",
              "      <th>id</th>\n",
              "      <th>gender</th>\n",
              "      <th>PPE</th>\n",
              "      <th>DFA</th>\n",
              "      <th>RPDE</th>\n",
              "      <th>numPulses</th>\n",
              "      <th>numPeriodsPulses</th>\n",
              "      <th>meanPeriodPulses</th>\n",
              "      <th>stdDevPeriodPulses</th>\n",
              "      <th>locPctJitter</th>\n",
              "      <th>locAbsJitter</th>\n",
              "      <th>rapJitter</th>\n",
              "      <th>ppq5Jitter</th>\n",
              "      <th>ddpJitter</th>\n",
              "      <th>locShimmer</th>\n",
              "      <th>locDbShimmer</th>\n",
              "      <th>apq3Shimmer</th>\n",
              "      <th>apq5Shimmer</th>\n",
              "      <th>apq11Shimmer</th>\n",
              "      <th>ddaShimmer</th>\n",
              "      <th>meanAutoCorrHarmonicity</th>\n",
              "      <th>meanNoiseToHarmHarmonicity</th>\n",
              "      <th>meanHarmToNoiseHarmonicity</th>\n",
              "      <th>minIntensity</th>\n",
              "      <th>maxIntensity</th>\n",
              "      <th>meanIntensity</th>\n",
              "      <th>f1</th>\n",
              "      <th>f2</th>\n",
              "      <th>f3</th>\n",
              "      <th>f4</th>\n",
              "      <th>b1</th>\n",
              "      <th>b2</th>\n",
              "      <th>b3</th>\n",
              "      <th>b4</th>\n",
              "      <th>GQ_prc5_95</th>\n",
              "      <th>GQ_std_cycle_open</th>\n",
              "      <th>GQ_std_cycle_closed</th>\n",
              "      <th>GNE_mean</th>\n",
              "      <th>GNE_std</th>\n",
              "      <th>GNE_SNR_TKEO</th>\n",
              "      <th>...</th>\n",
              "      <th>tqwt_skewnessValue_dec_34</th>\n",
              "      <th>tqwt_skewnessValue_dec_35</th>\n",
              "      <th>tqwt_skewnessValue_dec_36</th>\n",
              "      <th>tqwt_kurtosisValue_dec_1</th>\n",
              "      <th>tqwt_kurtosisValue_dec_2</th>\n",
              "      <th>tqwt_kurtosisValue_dec_3</th>\n",
              "      <th>tqwt_kurtosisValue_dec_4</th>\n",
              "      <th>tqwt_kurtosisValue_dec_5</th>\n",
              "      <th>tqwt_kurtosisValue_dec_6</th>\n",
              "      <th>tqwt_kurtosisValue_dec_7</th>\n",
              "      <th>tqwt_kurtosisValue_dec_8</th>\n",
              "      <th>tqwt_kurtosisValue_dec_9</th>\n",
              "      <th>tqwt_kurtosisValue_dec_10</th>\n",
              "      <th>tqwt_kurtosisValue_dec_11</th>\n",
              "      <th>tqwt_kurtosisValue_dec_12</th>\n",
              "      <th>tqwt_kurtosisValue_dec_13</th>\n",
              "      <th>tqwt_kurtosisValue_dec_14</th>\n",
              "      <th>tqwt_kurtosisValue_dec_15</th>\n",
              "      <th>tqwt_kurtosisValue_dec_16</th>\n",
              "      <th>tqwt_kurtosisValue_dec_17</th>\n",
              "      <th>tqwt_kurtosisValue_dec_18</th>\n",
              "      <th>tqwt_kurtosisValue_dec_19</th>\n",
              "      <th>tqwt_kurtosisValue_dec_20</th>\n",
              "      <th>tqwt_kurtosisValue_dec_21</th>\n",
              "      <th>tqwt_kurtosisValue_dec_22</th>\n",
              "      <th>tqwt_kurtosisValue_dec_23</th>\n",
              "      <th>tqwt_kurtosisValue_dec_24</th>\n",
              "      <th>tqwt_kurtosisValue_dec_25</th>\n",
              "      <th>tqwt_kurtosisValue_dec_26</th>\n",
              "      <th>tqwt_kurtosisValue_dec_27</th>\n",
              "      <th>tqwt_kurtosisValue_dec_28</th>\n",
              "      <th>tqwt_kurtosisValue_dec_29</th>\n",
              "      <th>tqwt_kurtosisValue_dec_30</th>\n",
              "      <th>tqwt_kurtosisValue_dec_31</th>\n",
              "      <th>tqwt_kurtosisValue_dec_32</th>\n",
              "      <th>tqwt_kurtosisValue_dec_33</th>\n",
              "      <th>tqwt_kurtosisValue_dec_34</th>\n",
              "      <th>tqwt_kurtosisValue_dec_35</th>\n",
              "      <th>tqwt_kurtosisValue_dec_36</th>\n",
              "      <th>class</th>\n",
              "    </tr>\n",
              "  </thead>\n",
              "  <tbody>\n",
              "    <tr>\n",
              "      <th>0</th>\n",
              "      <td>0</td>\n",
              "      <td>1</td>\n",
              "      <td>0.85247</td>\n",
              "      <td>0.71826</td>\n",
              "      <td>0.57227</td>\n",
              "      <td>240</td>\n",
              "      <td>239</td>\n",
              "      <td>0.008064</td>\n",
              "      <td>0.000087</td>\n",
              "      <td>0.00218</td>\n",
              "      <td>0.000018</td>\n",
              "      <td>0.00067</td>\n",
              "      <td>0.00129</td>\n",
              "      <td>0.00200</td>\n",
              "      <td>0.05883</td>\n",
              "      <td>0.517</td>\n",
              "      <td>0.03011</td>\n",
              "      <td>0.03496</td>\n",
              "      <td>0.04828</td>\n",
              "      <td>0.09034</td>\n",
              "      <td>0.970805</td>\n",
              "      <td>0.036223</td>\n",
              "      <td>18.995</td>\n",
              "      <td>69.997496</td>\n",
              "      <td>76.088046</td>\n",
              "      <td>72.465512</td>\n",
              "      <td>539.342735</td>\n",
              "      <td>1031.849040</td>\n",
              "      <td>2447.162183</td>\n",
              "      <td>3655.054806</td>\n",
              "      <td>101.092218</td>\n",
              "      <td>83.147440</td>\n",
              "      <td>255.214830</td>\n",
              "      <td>396.643631</td>\n",
              "      <td>0.77778</td>\n",
              "      <td>11.7245</td>\n",
              "      <td>2.8277</td>\n",
              "      <td>1.17300</td>\n",
              "      <td>0.26512</td>\n",
              "      <td>0.083127</td>\n",
              "      <td>...</td>\n",
              "      <td>0.071728</td>\n",
              "      <td>0.010352</td>\n",
              "      <td>-2.73030</td>\n",
              "      <td>66.5007</td>\n",
              "      <td>36.9934</td>\n",
              "      <td>26.3508</td>\n",
              "      <td>51.9577</td>\n",
              "      <td>21.5451</td>\n",
              "      <td>8.2488</td>\n",
              "      <td>8.0024</td>\n",
              "      <td>6.9635</td>\n",
              "      <td>6.9189</td>\n",
              "      <td>5.0622</td>\n",
              "      <td>4.6068</td>\n",
              "      <td>7.7218</td>\n",
              "      <td>2.7224</td>\n",
              "      <td>2.4171</td>\n",
              "      <td>2.9383</td>\n",
              "      <td>4.2077</td>\n",
              "      <td>3.1541</td>\n",
              "      <td>2.8531</td>\n",
              "      <td>2.7496</td>\n",
              "      <td>2.1550</td>\n",
              "      <td>2.9457</td>\n",
              "      <td>2.1993</td>\n",
              "      <td>1.9830</td>\n",
              "      <td>1.8314</td>\n",
              "      <td>2.0062</td>\n",
              "      <td>1.6058</td>\n",
              "      <td>1.5466</td>\n",
              "      <td>1.5620</td>\n",
              "      <td>2.6445</td>\n",
              "      <td>3.8686</td>\n",
              "      <td>4.2105</td>\n",
              "      <td>5.1221</td>\n",
              "      <td>4.4625</td>\n",
              "      <td>2.6202</td>\n",
              "      <td>3.0004</td>\n",
              "      <td>18.9405</td>\n",
              "      <td>1</td>\n",
              "    </tr>\n",
              "    <tr>\n",
              "      <th>1</th>\n",
              "      <td>0</td>\n",
              "      <td>1</td>\n",
              "      <td>0.76686</td>\n",
              "      <td>0.69481</td>\n",
              "      <td>0.53966</td>\n",
              "      <td>234</td>\n",
              "      <td>233</td>\n",
              "      <td>0.008258</td>\n",
              "      <td>0.000073</td>\n",
              "      <td>0.00195</td>\n",
              "      <td>0.000016</td>\n",
              "      <td>0.00052</td>\n",
              "      <td>0.00112</td>\n",
              "      <td>0.00157</td>\n",
              "      <td>0.05516</td>\n",
              "      <td>0.502</td>\n",
              "      <td>0.02320</td>\n",
              "      <td>0.03675</td>\n",
              "      <td>0.06195</td>\n",
              "      <td>0.06961</td>\n",
              "      <td>0.984322</td>\n",
              "      <td>0.017974</td>\n",
              "      <td>21.497</td>\n",
              "      <td>67.415903</td>\n",
              "      <td>73.046374</td>\n",
              "      <td>71.528945</td>\n",
              "      <td>564.363614</td>\n",
              "      <td>1016.367294</td>\n",
              "      <td>2383.565201</td>\n",
              "      <td>3498.681572</td>\n",
              "      <td>58.465428</td>\n",
              "      <td>86.487292</td>\n",
              "      <td>248.357127</td>\n",
              "      <td>218.229722</td>\n",
              "      <td>0.81250</td>\n",
              "      <td>13.8284</td>\n",
              "      <td>2.8908</td>\n",
              "      <td>1.02210</td>\n",
              "      <td>0.22004</td>\n",
              "      <td>0.127410</td>\n",
              "      <td>...</td>\n",
              "      <td>0.729330</td>\n",
              "      <td>0.780410</td>\n",
              "      <td>5.22940</td>\n",
              "      <td>8643.9860</td>\n",
              "      <td>3962.0554</td>\n",
              "      <td>2976.2411</td>\n",
              "      <td>4329.0607</td>\n",
              "      <td>4005.1329</td>\n",
              "      <td>1127.6762</td>\n",
              "      <td>116.5331</td>\n",
              "      <td>20.2332</td>\n",
              "      <td>13.6395</td>\n",
              "      <td>12.5514</td>\n",
              "      <td>13.6965</td>\n",
              "      <td>60.8974</td>\n",
              "      <td>6.2958</td>\n",
              "      <td>3.0323</td>\n",
              "      <td>3.4039</td>\n",
              "      <td>4.3794</td>\n",
              "      <td>2.4329</td>\n",
              "      <td>2.0585</td>\n",
              "      <td>2.1839</td>\n",
              "      <td>2.2061</td>\n",
              "      <td>3.0999</td>\n",
              "      <td>1.9824</td>\n",
              "      <td>1.6227</td>\n",
              "      <td>1.5783</td>\n",
              "      <td>2.0470</td>\n",
              "      <td>1.5772</td>\n",
              "      <td>1.5530</td>\n",
              "      <td>1.5589</td>\n",
              "      <td>3.6107</td>\n",
              "      <td>23.5155</td>\n",
              "      <td>14.1962</td>\n",
              "      <td>11.0261</td>\n",
              "      <td>9.5082</td>\n",
              "      <td>6.5245</td>\n",
              "      <td>6.3431</td>\n",
              "      <td>45.1780</td>\n",
              "      <td>1</td>\n",
              "    </tr>\n",
              "    <tr>\n",
              "      <th>2</th>\n",
              "      <td>0</td>\n",
              "      <td>1</td>\n",
              "      <td>0.85083</td>\n",
              "      <td>0.67604</td>\n",
              "      <td>0.58982</td>\n",
              "      <td>232</td>\n",
              "      <td>231</td>\n",
              "      <td>0.008340</td>\n",
              "      <td>0.000060</td>\n",
              "      <td>0.00176</td>\n",
              "      <td>0.000015</td>\n",
              "      <td>0.00057</td>\n",
              "      <td>0.00111</td>\n",
              "      <td>0.00171</td>\n",
              "      <td>0.09902</td>\n",
              "      <td>0.897</td>\n",
              "      <td>0.05094</td>\n",
              "      <td>0.06497</td>\n",
              "      <td>0.07772</td>\n",
              "      <td>0.15282</td>\n",
              "      <td>0.974846</td>\n",
              "      <td>0.026313</td>\n",
              "      <td>17.651</td>\n",
              "      <td>62.661706</td>\n",
              "      <td>71.633549</td>\n",
              "      <td>68.086583</td>\n",
              "      <td>548.444604</td>\n",
              "      <td>1032.406341</td>\n",
              "      <td>2357.826954</td>\n",
              "      <td>3678.128717</td>\n",
              "      <td>160.387771</td>\n",
              "      <td>54.685168</td>\n",
              "      <td>151.694847</td>\n",
              "      <td>84.240339</td>\n",
              "      <td>0.81818</td>\n",
              "      <td>26.9273</td>\n",
              "      <td>2.6975</td>\n",
              "      <td>0.84951</td>\n",
              "      <td>0.15756</td>\n",
              "      <td>0.116890</td>\n",
              "      <td>...</td>\n",
              "      <td>0.269510</td>\n",
              "      <td>-0.005522</td>\n",
              "      <td>0.35054</td>\n",
              "      <td>29.2717</td>\n",
              "      <td>32.4971</td>\n",
              "      <td>38.9453</td>\n",
              "      <td>85.1480</td>\n",
              "      <td>62.5132</td>\n",
              "      <td>9.7308</td>\n",
              "      <td>6.8890</td>\n",
              "      <td>6.1357</td>\n",
              "      <td>5.4926</td>\n",
              "      <td>3.9078</td>\n",
              "      <td>4.0864</td>\n",
              "      <td>6.9828</td>\n",
              "      <td>3.4411</td>\n",
              "      <td>3.5173</td>\n",
              "      <td>3.7204</td>\n",
              "      <td>4.2212</td>\n",
              "      <td>3.4881</td>\n",
              "      <td>3.4851</td>\n",
              "      <td>3.3007</td>\n",
              "      <td>2.0427</td>\n",
              "      <td>3.1436</td>\n",
              "      <td>2.1203</td>\n",
              "      <td>1.6627</td>\n",
              "      <td>1.6731</td>\n",
              "      <td>3.2597</td>\n",
              "      <td>1.5921</td>\n",
              "      <td>1.5399</td>\n",
              "      <td>1.5643</td>\n",
              "      <td>2.3308</td>\n",
              "      <td>9.4959</td>\n",
              "      <td>10.7458</td>\n",
              "      <td>11.0177</td>\n",
              "      <td>4.8066</td>\n",
              "      <td>2.9199</td>\n",
              "      <td>3.1495</td>\n",
              "      <td>4.7666</td>\n",
              "      <td>1</td>\n",
              "    </tr>\n",
              "    <tr>\n",
              "      <th>3</th>\n",
              "      <td>1</td>\n",
              "      <td>0</td>\n",
              "      <td>0.41121</td>\n",
              "      <td>0.79672</td>\n",
              "      <td>0.59257</td>\n",
              "      <td>178</td>\n",
              "      <td>177</td>\n",
              "      <td>0.010858</td>\n",
              "      <td>0.000183</td>\n",
              "      <td>0.00419</td>\n",
              "      <td>0.000046</td>\n",
              "      <td>0.00149</td>\n",
              "      <td>0.00268</td>\n",
              "      <td>0.00446</td>\n",
              "      <td>0.05451</td>\n",
              "      <td>0.527</td>\n",
              "      <td>0.02395</td>\n",
              "      <td>0.02857</td>\n",
              "      <td>0.04462</td>\n",
              "      <td>0.07185</td>\n",
              "      <td>0.968343</td>\n",
              "      <td>0.042003</td>\n",
              "      <td>19.865</td>\n",
              "      <td>76.306989</td>\n",
              "      <td>81.000749</td>\n",
              "      <td>79.190593</td>\n",
              "      <td>819.529588</td>\n",
              "      <td>1201.813897</td>\n",
              "      <td>3154.035654</td>\n",
              "      <td>4122.163933</td>\n",
              "      <td>238.667052</td>\n",
              "      <td>191.984916</td>\n",
              "      <td>573.752909</td>\n",
              "      <td>526.147599</td>\n",
              "      <td>0.98548</td>\n",
              "      <td>139.5744</td>\n",
              "      <td>1.6961</td>\n",
              "      <td>0.83405</td>\n",
              "      <td>0.17295</td>\n",
              "      <td>0.147370</td>\n",
              "      <td>...</td>\n",
              "      <td>0.366920</td>\n",
              "      <td>-0.492650</td>\n",
              "      <td>0.19164</td>\n",
              "      <td>591.0116</td>\n",
              "      <td>65.3827</td>\n",
              "      <td>53.9852</td>\n",
              "      <td>45.4458</td>\n",
              "      <td>34.6650</td>\n",
              "      <td>88.3259</td>\n",
              "      <td>46.6869</td>\n",
              "      <td>23.2911</td>\n",
              "      <td>19.2022</td>\n",
              "      <td>42.3957</td>\n",
              "      <td>100.3649</td>\n",
              "      <td>7.1967</td>\n",
              "      <td>6.3892</td>\n",
              "      <td>6.5496</td>\n",
              "      <td>6.0264</td>\n",
              "      <td>4.7656</td>\n",
              "      <td>4.8909</td>\n",
              "      <td>4.2531</td>\n",
              "      <td>3.0295</td>\n",
              "      <td>2.0362</td>\n",
              "      <td>1.8478</td>\n",
              "      <td>2.5776</td>\n",
              "      <td>2.2064</td>\n",
              "      <td>1.9491</td>\n",
              "      <td>1.9120</td>\n",
              "      <td>1.8829</td>\n",
              "      <td>6.9761</td>\n",
              "      <td>3.7805</td>\n",
              "      <td>3.5664</td>\n",
              "      <td>5.2558</td>\n",
              "      <td>14.0403</td>\n",
              "      <td>4.2235</td>\n",
              "      <td>4.6857</td>\n",
              "      <td>4.8460</td>\n",
              "      <td>6.2650</td>\n",
              "      <td>4.0603</td>\n",
              "      <td>1</td>\n",
              "    </tr>\n",
              "    <tr>\n",
              "      <th>4</th>\n",
              "      <td>1</td>\n",
              "      <td>0</td>\n",
              "      <td>0.32790</td>\n",
              "      <td>0.79782</td>\n",
              "      <td>0.53028</td>\n",
              "      <td>236</td>\n",
              "      <td>235</td>\n",
              "      <td>0.008162</td>\n",
              "      <td>0.002669</td>\n",
              "      <td>0.00535</td>\n",
              "      <td>0.000044</td>\n",
              "      <td>0.00166</td>\n",
              "      <td>0.00227</td>\n",
              "      <td>0.00499</td>\n",
              "      <td>0.05610</td>\n",
              "      <td>0.497</td>\n",
              "      <td>0.02909</td>\n",
              "      <td>0.03327</td>\n",
              "      <td>0.05278</td>\n",
              "      <td>0.08728</td>\n",
              "      <td>0.975754</td>\n",
              "      <td>0.027139</td>\n",
              "      <td>19.557</td>\n",
              "      <td>76.645686</td>\n",
              "      <td>80.937258</td>\n",
              "      <td>79.183495</td>\n",
              "      <td>846.796144</td>\n",
              "      <td>1215.346469</td>\n",
              "      <td>3201.513132</td>\n",
              "      <td>4085.456839</td>\n",
              "      <td>402.216738</td>\n",
              "      <td>210.061394</td>\n",
              "      <td>203.637106</td>\n",
              "      <td>384.611697</td>\n",
              "      <td>0.97847</td>\n",
              "      <td>102.0549</td>\n",
              "      <td>15.4045</td>\n",
              "      <td>0.83556</td>\n",
              "      <td>0.16210</td>\n",
              "      <td>0.151990</td>\n",
              "      <td>...</td>\n",
              "      <td>-0.378360</td>\n",
              "      <td>-0.035805</td>\n",
              "      <td>0.26596</td>\n",
              "      <td>32.0393</td>\n",
              "      <td>7.2343</td>\n",
              "      <td>6.5540</td>\n",
              "      <td>6.4520</td>\n",
              "      <td>6.9274</td>\n",
              "      <td>10.2265</td>\n",
              "      <td>14.2579</td>\n",
              "      <td>10.6181</td>\n",
              "      <td>8.6143</td>\n",
              "      <td>9.5822</td>\n",
              "      <td>34.0835</td>\n",
              "      <td>4.1139</td>\n",
              "      <td>3.6718</td>\n",
              "      <td>4.4360</td>\n",
              "      <td>4.5793</td>\n",
              "      <td>3.9447</td>\n",
              "      <td>4.1253</td>\n",
              "      <td>3.4869</td>\n",
              "      <td>2.4627</td>\n",
              "      <td>2.1073</td>\n",
              "      <td>1.9056</td>\n",
              "      <td>2.2214</td>\n",
              "      <td>2.0588</td>\n",
              "      <td>1.8157</td>\n",
              "      <td>1.7577</td>\n",
              "      <td>1.8821</td>\n",
              "      <td>7.8832</td>\n",
              "      <td>6.1727</td>\n",
              "      <td>5.8416</td>\n",
              "      <td>6.0805</td>\n",
              "      <td>5.7621</td>\n",
              "      <td>7.7817</td>\n",
              "      <td>11.6891</td>\n",
              "      <td>8.2103</td>\n",
              "      <td>5.0559</td>\n",
              "      <td>6.1164</td>\n",
              "      <td>1</td>\n",
              "    </tr>\n",
              "  </tbody>\n",
              "</table>\n",
              "<p>5 rows × 755 columns</p>\n",
              "</div>\n",
              "      <button class=\"colab-df-convert\" onclick=\"convertToInteractive('df-467b1567-b2a0-46f7-b6ab-fe9da5d46c96')\"\n",
              "              title=\"Convert this dataframe to an interactive table.\"\n",
              "              style=\"display:none;\">\n",
              "        \n",
              "  <svg xmlns=\"http://www.w3.org/2000/svg\" height=\"24px\"viewBox=\"0 0 24 24\"\n",
              "       width=\"24px\">\n",
              "    <path d=\"M0 0h24v24H0V0z\" fill=\"none\"/>\n",
              "    <path d=\"M18.56 5.44l.94 2.06.94-2.06 2.06-.94-2.06-.94-.94-2.06-.94 2.06-2.06.94zm-11 1L8.5 8.5l.94-2.06 2.06-.94-2.06-.94L8.5 2.5l-.94 2.06-2.06.94zm10 10l.94 2.06.94-2.06 2.06-.94-2.06-.94-.94-2.06-.94 2.06-2.06.94z\"/><path d=\"M17.41 7.96l-1.37-1.37c-.4-.4-.92-.59-1.43-.59-.52 0-1.04.2-1.43.59L10.3 9.45l-7.72 7.72c-.78.78-.78 2.05 0 2.83L4 21.41c.39.39.9.59 1.41.59.51 0 1.02-.2 1.41-.59l7.78-7.78 2.81-2.81c.8-.78.8-2.07 0-2.86zM5.41 20L4 18.59l7.72-7.72 1.47 1.35L5.41 20z\"/>\n",
              "  </svg>\n",
              "      </button>\n",
              "      \n",
              "  <style>\n",
              "    .colab-df-container {\n",
              "      display:flex;\n",
              "      flex-wrap:wrap;\n",
              "      gap: 12px;\n",
              "    }\n",
              "\n",
              "    .colab-df-convert {\n",
              "      background-color: #E8F0FE;\n",
              "      border: none;\n",
              "      border-radius: 50%;\n",
              "      cursor: pointer;\n",
              "      display: none;\n",
              "      fill: #1967D2;\n",
              "      height: 32px;\n",
              "      padding: 0 0 0 0;\n",
              "      width: 32px;\n",
              "    }\n",
              "\n",
              "    .colab-df-convert:hover {\n",
              "      background-color: #E2EBFA;\n",
              "      box-shadow: 0px 1px 2px rgba(60, 64, 67, 0.3), 0px 1px 3px 1px rgba(60, 64, 67, 0.15);\n",
              "      fill: #174EA6;\n",
              "    }\n",
              "\n",
              "    [theme=dark] .colab-df-convert {\n",
              "      background-color: #3B4455;\n",
              "      fill: #D2E3FC;\n",
              "    }\n",
              "\n",
              "    [theme=dark] .colab-df-convert:hover {\n",
              "      background-color: #434B5C;\n",
              "      box-shadow: 0px 1px 3px 1px rgba(0, 0, 0, 0.15);\n",
              "      filter: drop-shadow(0px 1px 2px rgba(0, 0, 0, 0.3));\n",
              "      fill: #FFFFFF;\n",
              "    }\n",
              "  </style>\n",
              "\n",
              "      <script>\n",
              "        const buttonEl =\n",
              "          document.querySelector('#df-467b1567-b2a0-46f7-b6ab-fe9da5d46c96 button.colab-df-convert');\n",
              "        buttonEl.style.display =\n",
              "          google.colab.kernel.accessAllowed ? 'block' : 'none';\n",
              "\n",
              "        async function convertToInteractive(key) {\n",
              "          const element = document.querySelector('#df-467b1567-b2a0-46f7-b6ab-fe9da5d46c96');\n",
              "          const dataTable =\n",
              "            await google.colab.kernel.invokeFunction('convertToInteractive',\n",
              "                                                     [key], {});\n",
              "          if (!dataTable) return;\n",
              "\n",
              "          const docLinkHtml = 'Like what you see? Visit the ' +\n",
              "            '<a target=\"_blank\" href=https://colab.research.google.com/notebooks/data_table.ipynb>data table notebook</a>'\n",
              "            + ' to learn more about interactive tables.';\n",
              "          element.innerHTML = '';\n",
              "          dataTable['output_type'] = 'display_data';\n",
              "          await google.colab.output.renderOutput(dataTable, element);\n",
              "          const docLink = document.createElement('div');\n",
              "          docLink.innerHTML = docLinkHtml;\n",
              "          element.appendChild(docLink);\n",
              "        }\n",
              "      </script>\n",
              "    </div>\n",
              "  </div>\n",
              "  "
            ],
            "text/plain": [
              "   id  gender  ...  tqwt_kurtosisValue_dec_36  class\n",
              "0   0       1  ...                    18.9405      1\n",
              "1   0       1  ...                    45.1780      1\n",
              "2   0       1  ...                     4.7666      1\n",
              "3   1       0  ...                     4.0603      1\n",
              "4   1       0  ...                     6.1164      1\n",
              "\n",
              "[5 rows x 755 columns]"
            ]
          },
          "metadata": {},
          "execution_count": 6
        }
      ]
    },
    {
      "cell_type": "code",
      "source": [
        "print(f'data shape : {data.shape}')"
      ],
      "metadata": {
        "colab": {
          "base_uri": "https://localhost:8080/"
        },
        "id": "i9ebJ7hNW08d",
        "outputId": "9e7f4544-6be6-4ed5-da9b-f98981746326"
      },
      "execution_count": null,
      "outputs": [
        {
          "output_type": "stream",
          "name": "stdout",
          "text": [
            "data shape : (756, 755)\n"
          ]
        }
      ]
    },
    {
      "cell_type": "code",
      "source": [
        "print(f'data columns type : \\n{data.dtypes}')"
      ],
      "metadata": {
        "colab": {
          "base_uri": "https://localhost:8080/"
        },
        "id": "9bVnw4jtdist",
        "outputId": "08a46aa1-2c53-47a7-b3d7-18b4ddb32cff"
      },
      "execution_count": null,
      "outputs": [
        {
          "output_type": "stream",
          "name": "stdout",
          "text": [
            "data columns type : \n",
            "id                             int64\n",
            "gender                         int64\n",
            "PPE                          float64\n",
            "DFA                          float64\n",
            "RPDE                         float64\n",
            "                              ...   \n",
            "tqwt_kurtosisValue_dec_33    float64\n",
            "tqwt_kurtosisValue_dec_34    float64\n",
            "tqwt_kurtosisValue_dec_35    float64\n",
            "tqwt_kurtosisValue_dec_36    float64\n",
            "class                          int64\n",
            "Length: 755, dtype: object\n"
          ]
        }
      ]
    },
    {
      "cell_type": "code",
      "source": [
        "print(f'number of unique values in each column : \\n{data.nunique()}')"
      ],
      "metadata": {
        "colab": {
          "base_uri": "https://localhost:8080/"
        },
        "id": "zfKyJx4geL_g",
        "outputId": "a9f712da-bf72-4a43-9197-283b5bd1f28c"
      },
      "execution_count": null,
      "outputs": [
        {
          "output_type": "stream",
          "name": "stdout",
          "text": [
            "number of unique values in each column : \n",
            "id                           252\n",
            "gender                         2\n",
            "PPE                          740\n",
            "DFA                          745\n",
            "RPDE                         748\n",
            "                            ... \n",
            "tqwt_kurtosisValue_dec_33    752\n",
            "tqwt_kurtosisValue_dec_34    753\n",
            "tqwt_kurtosisValue_dec_35    753\n",
            "tqwt_kurtosisValue_dec_36    754\n",
            "class                          2\n",
            "Length: 755, dtype: int64\n"
          ]
        }
      ]
    },
    {
      "cell_type": "code",
      "source": [
        "data.isnull().sum()"
      ],
      "metadata": {
        "colab": {
          "base_uri": "https://localhost:8080/"
        },
        "id": "iHaucaEZWyLl",
        "outputId": "b78dcea2-b2c1-4b64-c66b-b77d979ef018"
      },
      "execution_count": null,
      "outputs": [
        {
          "output_type": "execute_result",
          "data": {
            "text/plain": [
              "id                           0\n",
              "gender                       0\n",
              "PPE                          0\n",
              "DFA                          0\n",
              "RPDE                         0\n",
              "                            ..\n",
              "tqwt_kurtosisValue_dec_33    0\n",
              "tqwt_kurtosisValue_dec_34    0\n",
              "tqwt_kurtosisValue_dec_35    0\n",
              "tqwt_kurtosisValue_dec_36    0\n",
              "class                        0\n",
              "Length: 755, dtype: int64"
            ]
          },
          "metadata": {},
          "execution_count": 9
        }
      ]
    },
    {
      "cell_type": "code",
      "source": [
        "print(f'number of null values in data : {data.isnull().sum().sum()}')"
      ],
      "metadata": {
        "colab": {
          "base_uri": "https://localhost:8080/"
        },
        "id": "q95u_Xf1W8Ip",
        "outputId": "0ce580ea-db24-492d-c191-b199f2c9b9dd"
      },
      "execution_count": null,
      "outputs": [
        {
          "output_type": "stream",
          "name": "stdout",
          "text": [
            "number of null values in data : 0\n"
          ]
        }
      ]
    },
    {
      "cell_type": "code",
      "source": [
        "data.describe()"
      ],
      "metadata": {
        "colab": {
          "base_uri": "https://localhost:8080/",
          "height": 394
        },
        "id": "_VyTMIk8Wjvy",
        "outputId": "da230fb3-4338-4295-9354-100cd10d0435"
      },
      "execution_count": null,
      "outputs": [
        {
          "output_type": "execute_result",
          "data": {
            "text/html": [
              "\n",
              "  <div id=\"df-412f68c9-867c-4c84-a150-0dcb928ac9bf\">\n",
              "    <div class=\"colab-df-container\">\n",
              "      <div>\n",
              "<style scoped>\n",
              "    .dataframe tbody tr th:only-of-type {\n",
              "        vertical-align: middle;\n",
              "    }\n",
              "\n",
              "    .dataframe tbody tr th {\n",
              "        vertical-align: top;\n",
              "    }\n",
              "\n",
              "    .dataframe thead th {\n",
              "        text-align: right;\n",
              "    }\n",
              "</style>\n",
              "<table border=\"1\" class=\"dataframe\">\n",
              "  <thead>\n",
              "    <tr style=\"text-align: right;\">\n",
              "      <th></th>\n",
              "      <th>id</th>\n",
              "      <th>gender</th>\n",
              "      <th>PPE</th>\n",
              "      <th>DFA</th>\n",
              "      <th>RPDE</th>\n",
              "      <th>numPulses</th>\n",
              "      <th>numPeriodsPulses</th>\n",
              "      <th>meanPeriodPulses</th>\n",
              "      <th>stdDevPeriodPulses</th>\n",
              "      <th>locPctJitter</th>\n",
              "      <th>locAbsJitter</th>\n",
              "      <th>rapJitter</th>\n",
              "      <th>ppq5Jitter</th>\n",
              "      <th>ddpJitter</th>\n",
              "      <th>locShimmer</th>\n",
              "      <th>locDbShimmer</th>\n",
              "      <th>apq3Shimmer</th>\n",
              "      <th>apq5Shimmer</th>\n",
              "      <th>apq11Shimmer</th>\n",
              "      <th>ddaShimmer</th>\n",
              "      <th>meanAutoCorrHarmonicity</th>\n",
              "      <th>meanNoiseToHarmHarmonicity</th>\n",
              "      <th>meanHarmToNoiseHarmonicity</th>\n",
              "      <th>minIntensity</th>\n",
              "      <th>maxIntensity</th>\n",
              "      <th>meanIntensity</th>\n",
              "      <th>f1</th>\n",
              "      <th>f2</th>\n",
              "      <th>f3</th>\n",
              "      <th>f4</th>\n",
              "      <th>b1</th>\n",
              "      <th>b2</th>\n",
              "      <th>b3</th>\n",
              "      <th>b4</th>\n",
              "      <th>GQ_prc5_95</th>\n",
              "      <th>GQ_std_cycle_open</th>\n",
              "      <th>GQ_std_cycle_closed</th>\n",
              "      <th>GNE_mean</th>\n",
              "      <th>GNE_std</th>\n",
              "      <th>GNE_SNR_TKEO</th>\n",
              "      <th>...</th>\n",
              "      <th>tqwt_skewnessValue_dec_34</th>\n",
              "      <th>tqwt_skewnessValue_dec_35</th>\n",
              "      <th>tqwt_skewnessValue_dec_36</th>\n",
              "      <th>tqwt_kurtosisValue_dec_1</th>\n",
              "      <th>tqwt_kurtosisValue_dec_2</th>\n",
              "      <th>tqwt_kurtosisValue_dec_3</th>\n",
              "      <th>tqwt_kurtosisValue_dec_4</th>\n",
              "      <th>tqwt_kurtosisValue_dec_5</th>\n",
              "      <th>tqwt_kurtosisValue_dec_6</th>\n",
              "      <th>tqwt_kurtosisValue_dec_7</th>\n",
              "      <th>tqwt_kurtosisValue_dec_8</th>\n",
              "      <th>tqwt_kurtosisValue_dec_9</th>\n",
              "      <th>tqwt_kurtosisValue_dec_10</th>\n",
              "      <th>tqwt_kurtosisValue_dec_11</th>\n",
              "      <th>tqwt_kurtosisValue_dec_12</th>\n",
              "      <th>tqwt_kurtosisValue_dec_13</th>\n",
              "      <th>tqwt_kurtosisValue_dec_14</th>\n",
              "      <th>tqwt_kurtosisValue_dec_15</th>\n",
              "      <th>tqwt_kurtosisValue_dec_16</th>\n",
              "      <th>tqwt_kurtosisValue_dec_17</th>\n",
              "      <th>tqwt_kurtosisValue_dec_18</th>\n",
              "      <th>tqwt_kurtosisValue_dec_19</th>\n",
              "      <th>tqwt_kurtosisValue_dec_20</th>\n",
              "      <th>tqwt_kurtosisValue_dec_21</th>\n",
              "      <th>tqwt_kurtosisValue_dec_22</th>\n",
              "      <th>tqwt_kurtosisValue_dec_23</th>\n",
              "      <th>tqwt_kurtosisValue_dec_24</th>\n",
              "      <th>tqwt_kurtosisValue_dec_25</th>\n",
              "      <th>tqwt_kurtosisValue_dec_26</th>\n",
              "      <th>tqwt_kurtosisValue_dec_27</th>\n",
              "      <th>tqwt_kurtosisValue_dec_28</th>\n",
              "      <th>tqwt_kurtosisValue_dec_29</th>\n",
              "      <th>tqwt_kurtosisValue_dec_30</th>\n",
              "      <th>tqwt_kurtosisValue_dec_31</th>\n",
              "      <th>tqwt_kurtosisValue_dec_32</th>\n",
              "      <th>tqwt_kurtosisValue_dec_33</th>\n",
              "      <th>tqwt_kurtosisValue_dec_34</th>\n",
              "      <th>tqwt_kurtosisValue_dec_35</th>\n",
              "      <th>tqwt_kurtosisValue_dec_36</th>\n",
              "      <th>class</th>\n",
              "    </tr>\n",
              "  </thead>\n",
              "  <tbody>\n",
              "    <tr>\n",
              "      <th>count</th>\n",
              "      <td>756.000000</td>\n",
              "      <td>756.000000</td>\n",
              "      <td>756.000000</td>\n",
              "      <td>756.000000</td>\n",
              "      <td>756.000000</td>\n",
              "      <td>756.000000</td>\n",
              "      <td>756.000000</td>\n",
              "      <td>756.000000</td>\n",
              "      <td>756.000000</td>\n",
              "      <td>756.000000</td>\n",
              "      <td>7.560000e+02</td>\n",
              "      <td>756.000000</td>\n",
              "      <td>756.000000</td>\n",
              "      <td>756.000000</td>\n",
              "      <td>756.000000</td>\n",
              "      <td>756.00000</td>\n",
              "      <td>756.000000</td>\n",
              "      <td>756.000000</td>\n",
              "      <td>756.000000</td>\n",
              "      <td>756.000000</td>\n",
              "      <td>756.000000</td>\n",
              "      <td>756.000000</td>\n",
              "      <td>756.000000</td>\n",
              "      <td>756.000000</td>\n",
              "      <td>756.000000</td>\n",
              "      <td>756.000000</td>\n",
              "      <td>756.000000</td>\n",
              "      <td>756.000000</td>\n",
              "      <td>756.000000</td>\n",
              "      <td>756.000000</td>\n",
              "      <td>756.000000</td>\n",
              "      <td>756.000000</td>\n",
              "      <td>756.000000</td>\n",
              "      <td>756.000000</td>\n",
              "      <td>756.000000</td>\n",
              "      <td>756.000000</td>\n",
              "      <td>756.000000</td>\n",
              "      <td>756.000000</td>\n",
              "      <td>756.000000</td>\n",
              "      <td>756.000000</td>\n",
              "      <td>...</td>\n",
              "      <td>756.000000</td>\n",
              "      <td>756.000000</td>\n",
              "      <td>756.000000</td>\n",
              "      <td>756.000000</td>\n",
              "      <td>756.000000</td>\n",
              "      <td>756.000000</td>\n",
              "      <td>756.000000</td>\n",
              "      <td>756.000000</td>\n",
              "      <td>756.000000</td>\n",
              "      <td>756.000000</td>\n",
              "      <td>756.000000</td>\n",
              "      <td>756.000000</td>\n",
              "      <td>756.000000</td>\n",
              "      <td>756.000000</td>\n",
              "      <td>756.000000</td>\n",
              "      <td>756.000000</td>\n",
              "      <td>756.000000</td>\n",
              "      <td>756.000000</td>\n",
              "      <td>756.000000</td>\n",
              "      <td>756.000000</td>\n",
              "      <td>756.000000</td>\n",
              "      <td>756.000000</td>\n",
              "      <td>756.000000</td>\n",
              "      <td>756.000000</td>\n",
              "      <td>756.000000</td>\n",
              "      <td>756.000000</td>\n",
              "      <td>756.000000</td>\n",
              "      <td>756.000000</td>\n",
              "      <td>756.000000</td>\n",
              "      <td>756.000000</td>\n",
              "      <td>756.000000</td>\n",
              "      <td>756.000000</td>\n",
              "      <td>756.000000</td>\n",
              "      <td>756.000000</td>\n",
              "      <td>756.000000</td>\n",
              "      <td>756.000000</td>\n",
              "      <td>756.000000</td>\n",
              "      <td>756.000000</td>\n",
              "      <td>756.000000</td>\n",
              "      <td>756.000000</td>\n",
              "    </tr>\n",
              "    <tr>\n",
              "      <th>mean</th>\n",
              "      <td>125.500000</td>\n",
              "      <td>0.515873</td>\n",
              "      <td>0.746284</td>\n",
              "      <td>0.700414</td>\n",
              "      <td>0.489058</td>\n",
              "      <td>323.972222</td>\n",
              "      <td>322.678571</td>\n",
              "      <td>0.006360</td>\n",
              "      <td>0.000383</td>\n",
              "      <td>0.002324</td>\n",
              "      <td>1.673391e-05</td>\n",
              "      <td>0.000605</td>\n",
              "      <td>0.001159</td>\n",
              "      <td>0.001815</td>\n",
              "      <td>0.067473</td>\n",
              "      <td>0.60642</td>\n",
              "      <td>0.034375</td>\n",
              "      <td>0.041175</td>\n",
              "      <td>0.055366</td>\n",
              "      <td>0.103125</td>\n",
              "      <td>0.961508</td>\n",
              "      <td>0.051131</td>\n",
              "      <td>18.859632</td>\n",
              "      <td>70.828609</td>\n",
              "      <td>76.135371</td>\n",
              "      <td>73.997008</td>\n",
              "      <td>647.174519</td>\n",
              "      <td>1233.852088</td>\n",
              "      <td>2562.425251</td>\n",
              "      <td>3547.259244</td>\n",
              "      <td>213.363237</td>\n",
              "      <td>297.174077</td>\n",
              "      <td>536.821070</td>\n",
              "      <td>506.604856</td>\n",
              "      <td>0.904423</td>\n",
              "      <td>32.295832</td>\n",
              "      <td>4.454840</td>\n",
              "      <td>1.092503</td>\n",
              "      <td>0.215038</td>\n",
              "      <td>0.144832</td>\n",
              "      <td>...</td>\n",
              "      <td>-0.041840</td>\n",
              "      <td>-0.015615</td>\n",
              "      <td>-0.005242</td>\n",
              "      <td>1059.146612</td>\n",
              "      <td>377.357439</td>\n",
              "      <td>328.927860</td>\n",
              "      <td>317.994439</td>\n",
              "      <td>305.036007</td>\n",
              "      <td>172.362746</td>\n",
              "      <td>40.408662</td>\n",
              "      <td>15.064513</td>\n",
              "      <td>12.107316</td>\n",
              "      <td>11.757945</td>\n",
              "      <td>11.871530</td>\n",
              "      <td>9.529080</td>\n",
              "      <td>3.741615</td>\n",
              "      <td>3.332313</td>\n",
              "      <td>3.270290</td>\n",
              "      <td>2.995472</td>\n",
              "      <td>2.710678</td>\n",
              "      <td>2.608229</td>\n",
              "      <td>2.553457</td>\n",
              "      <td>2.432001</td>\n",
              "      <td>2.300006</td>\n",
              "      <td>2.183111</td>\n",
              "      <td>2.176542</td>\n",
              "      <td>2.595250</td>\n",
              "      <td>6.782668</td>\n",
              "      <td>15.766942</td>\n",
              "      <td>21.026054</td>\n",
              "      <td>26.237251</td>\n",
              "      <td>22.840337</td>\n",
              "      <td>18.587888</td>\n",
              "      <td>13.872018</td>\n",
              "      <td>12.218953</td>\n",
              "      <td>12.375335</td>\n",
              "      <td>14.799230</td>\n",
              "      <td>14.751559</td>\n",
              "      <td>31.481110</td>\n",
              "      <td>0.746032</td>\n",
              "    </tr>\n",
              "    <tr>\n",
              "      <th>std</th>\n",
              "      <td>72.793721</td>\n",
              "      <td>0.500079</td>\n",
              "      <td>0.169294</td>\n",
              "      <td>0.069718</td>\n",
              "      <td>0.137442</td>\n",
              "      <td>99.219059</td>\n",
              "      <td>99.402499</td>\n",
              "      <td>0.001826</td>\n",
              "      <td>0.000728</td>\n",
              "      <td>0.002628</td>\n",
              "      <td>2.290134e-05</td>\n",
              "      <td>0.000981</td>\n",
              "      <td>0.001677</td>\n",
              "      <td>0.002942</td>\n",
              "      <td>0.042969</td>\n",
              "      <td>0.38257</td>\n",
              "      <td>0.022366</td>\n",
              "      <td>0.027165</td>\n",
              "      <td>0.033939</td>\n",
              "      <td>0.067097</td>\n",
              "      <td>0.064095</td>\n",
              "      <td>0.104579</td>\n",
              "      <td>5.576473</td>\n",
              "      <td>8.858268</td>\n",
              "      <td>6.446451</td>\n",
              "      <td>7.018006</td>\n",
              "      <td>134.957916</td>\n",
              "      <td>169.090402</td>\n",
              "      <td>393.315598</td>\n",
              "      <td>347.864299</td>\n",
              "      <td>306.976045</td>\n",
              "      <td>450.125488</td>\n",
              "      <td>754.341717</td>\n",
              "      <td>658.326606</td>\n",
              "      <td>0.147826</td>\n",
              "      <td>31.140746</td>\n",
              "      <td>7.313057</td>\n",
              "      <td>0.350789</td>\n",
              "      <td>0.132549</td>\n",
              "      <td>0.060065</td>\n",
              "      <td>...</td>\n",
              "      <td>1.431979</td>\n",
              "      <td>1.451535</td>\n",
              "      <td>4.448635</td>\n",
              "      <td>3522.528562</td>\n",
              "      <td>1514.808488</td>\n",
              "      <td>1338.602187</td>\n",
              "      <td>1275.228777</td>\n",
              "      <td>1211.296576</td>\n",
              "      <td>821.740615</td>\n",
              "      <td>239.548628</td>\n",
              "      <td>75.865176</td>\n",
              "      <td>77.370230</td>\n",
              "      <td>74.594974</td>\n",
              "      <td>39.125733</td>\n",
              "      <td>36.349168</td>\n",
              "      <td>4.821202</td>\n",
              "      <td>2.962967</td>\n",
              "      <td>2.049877</td>\n",
              "      <td>1.444227</td>\n",
              "      <td>1.310653</td>\n",
              "      <td>1.229086</td>\n",
              "      <td>1.061068</td>\n",
              "      <td>0.892523</td>\n",
              "      <td>0.868506</td>\n",
              "      <td>0.796446</td>\n",
              "      <td>1.709860</td>\n",
              "      <td>5.979131</td>\n",
              "      <td>31.707014</td>\n",
              "      <td>45.247304</td>\n",
              "      <td>43.716898</td>\n",
              "      <td>42.220693</td>\n",
              "      <td>32.626464</td>\n",
              "      <td>25.537464</td>\n",
              "      <td>20.046029</td>\n",
              "      <td>17.783642</td>\n",
              "      <td>16.341665</td>\n",
              "      <td>15.722502</td>\n",
              "      <td>14.432979</td>\n",
              "      <td>34.230991</td>\n",
              "      <td>0.435568</td>\n",
              "    </tr>\n",
              "    <tr>\n",
              "      <th>min</th>\n",
              "      <td>0.000000</td>\n",
              "      <td>0.000000</td>\n",
              "      <td>0.041551</td>\n",
              "      <td>0.543500</td>\n",
              "      <td>0.154300</td>\n",
              "      <td>2.000000</td>\n",
              "      <td>1.000000</td>\n",
              "      <td>0.002107</td>\n",
              "      <td>0.000011</td>\n",
              "      <td>0.000210</td>\n",
              "      <td>6.860000e-07</td>\n",
              "      <td>0.000020</td>\n",
              "      <td>0.000050</td>\n",
              "      <td>0.000050</td>\n",
              "      <td>0.006560</td>\n",
              "      <td>0.05700</td>\n",
              "      <td>0.003350</td>\n",
              "      <td>0.004150</td>\n",
              "      <td>0.000370</td>\n",
              "      <td>0.010040</td>\n",
              "      <td>0.589609</td>\n",
              "      <td>0.000618</td>\n",
              "      <td>1.655000</td>\n",
              "      <td>28.651529</td>\n",
              "      <td>44.133492</td>\n",
              "      <td>39.984109</td>\n",
              "      <td>237.149533</td>\n",
              "      <td>761.357661</td>\n",
              "      <td>1411.231297</td>\n",
              "      <td>2471.996546</td>\n",
              "      <td>13.525000</td>\n",
              "      <td>16.428803</td>\n",
              "      <td>21.164397</td>\n",
              "      <td>22.842528</td>\n",
              "      <td>0.210530</td>\n",
              "      <td>1.735500</td>\n",
              "      <td>0.000000</td>\n",
              "      <td>0.626550</td>\n",
              "      <td>0.023746</td>\n",
              "      <td>0.050828</td>\n",
              "      <td>...</td>\n",
              "      <td>-3.863900</td>\n",
              "      <td>-3.606400</td>\n",
              "      <td>-9.005700</td>\n",
              "      <td>2.507600</td>\n",
              "      <td>2.844200</td>\n",
              "      <td>2.959600</td>\n",
              "      <td>3.016100</td>\n",
              "      <td>3.152900</td>\n",
              "      <td>2.928800</td>\n",
              "      <td>2.616700</td>\n",
              "      <td>2.580100</td>\n",
              "      <td>2.236500</td>\n",
              "      <td>2.099900</td>\n",
              "      <td>2.132200</td>\n",
              "      <td>1.723900</td>\n",
              "      <td>1.667800</td>\n",
              "      <td>1.703400</td>\n",
              "      <td>1.759300</td>\n",
              "      <td>1.600600</td>\n",
              "      <td>1.572900</td>\n",
              "      <td>1.564400</td>\n",
              "      <td>1.532900</td>\n",
              "      <td>1.525600</td>\n",
              "      <td>1.522400</td>\n",
              "      <td>1.420700</td>\n",
              "      <td>1.522000</td>\n",
              "      <td>1.509800</td>\n",
              "      <td>1.499600</td>\n",
              "      <td>1.482400</td>\n",
              "      <td>1.342700</td>\n",
              "      <td>1.509800</td>\n",
              "      <td>1.531700</td>\n",
              "      <td>1.582900</td>\n",
              "      <td>1.747200</td>\n",
              "      <td>1.789500</td>\n",
              "      <td>1.628700</td>\n",
              "      <td>1.861700</td>\n",
              "      <td>1.955900</td>\n",
              "      <td>2.364000</td>\n",
              "      <td>0.000000</td>\n",
              "    </tr>\n",
              "    <tr>\n",
              "      <th>25%</th>\n",
              "      <td>62.750000</td>\n",
              "      <td>0.000000</td>\n",
              "      <td>0.762833</td>\n",
              "      <td>0.647053</td>\n",
              "      <td>0.386537</td>\n",
              "      <td>251.000000</td>\n",
              "      <td>250.000000</td>\n",
              "      <td>0.005003</td>\n",
              "      <td>0.000049</td>\n",
              "      <td>0.000970</td>\n",
              "      <td>5.260000e-06</td>\n",
              "      <td>0.000150</td>\n",
              "      <td>0.000370</td>\n",
              "      <td>0.000450</td>\n",
              "      <td>0.036098</td>\n",
              "      <td>0.31875</td>\n",
              "      <td>0.017843</td>\n",
              "      <td>0.021935</td>\n",
              "      <td>0.030962</td>\n",
              "      <td>0.053538</td>\n",
              "      <td>0.963341</td>\n",
              "      <td>0.007168</td>\n",
              "      <td>15.713250</td>\n",
              "      <td>67.248014</td>\n",
              "      <td>73.322769</td>\n",
              "      <td>70.920615</td>\n",
              "      <td>562.879119</td>\n",
              "      <td>1117.316190</td>\n",
              "      <td>2380.426103</td>\n",
              "      <td>3288.644496</td>\n",
              "      <td>90.939702</td>\n",
              "      <td>102.856320</td>\n",
              "      <td>152.783110</td>\n",
              "      <td>170.741827</td>\n",
              "      <td>0.822580</td>\n",
              "      <td>9.764675</td>\n",
              "      <td>0.000000</td>\n",
              "      <td>0.887350</td>\n",
              "      <td>0.132692</td>\n",
              "      <td>0.119680</td>\n",
              "      <td>...</td>\n",
              "      <td>-0.405770</td>\n",
              "      <td>-0.465315</td>\n",
              "      <td>-0.916837</td>\n",
              "      <td>8.993000</td>\n",
              "      <td>7.452975</td>\n",
              "      <td>6.785700</td>\n",
              "      <td>6.600200</td>\n",
              "      <td>6.286025</td>\n",
              "      <td>5.603525</td>\n",
              "      <td>4.544075</td>\n",
              "      <td>4.294775</td>\n",
              "      <td>4.004375</td>\n",
              "      <td>3.782575</td>\n",
              "      <td>3.894050</td>\n",
              "      <td>3.030725</td>\n",
              "      <td>2.545750</td>\n",
              "      <td>2.527550</td>\n",
              "      <td>2.503975</td>\n",
              "      <td>2.289600</td>\n",
              "      <td>2.103900</td>\n",
              "      <td>2.033900</td>\n",
              "      <td>2.081850</td>\n",
              "      <td>1.926025</td>\n",
              "      <td>1.805375</td>\n",
              "      <td>1.724150</td>\n",
              "      <td>1.726750</td>\n",
              "      <td>1.662750</td>\n",
              "      <td>1.649950</td>\n",
              "      <td>1.672925</td>\n",
              "      <td>1.814850</td>\n",
              "      <td>2.408675</td>\n",
              "      <td>3.452800</td>\n",
              "      <td>3.354825</td>\n",
              "      <td>3.077450</td>\n",
              "      <td>2.937025</td>\n",
              "      <td>3.114375</td>\n",
              "      <td>3.665925</td>\n",
              "      <td>3.741275</td>\n",
              "      <td>3.948750</td>\n",
              "      <td>0.000000</td>\n",
              "    </tr>\n",
              "    <tr>\n",
              "      <th>50%</th>\n",
              "      <td>125.500000</td>\n",
              "      <td>1.000000</td>\n",
              "      <td>0.809655</td>\n",
              "      <td>0.700525</td>\n",
              "      <td>0.484355</td>\n",
              "      <td>317.000000</td>\n",
              "      <td>316.000000</td>\n",
              "      <td>0.006048</td>\n",
              "      <td>0.000077</td>\n",
              "      <td>0.001495</td>\n",
              "      <td>9.530000e-06</td>\n",
              "      <td>0.000280</td>\n",
              "      <td>0.000650</td>\n",
              "      <td>0.000840</td>\n",
              "      <td>0.055730</td>\n",
              "      <td>0.50250</td>\n",
              "      <td>0.027980</td>\n",
              "      <td>0.033705</td>\n",
              "      <td>0.047545</td>\n",
              "      <td>0.083945</td>\n",
              "      <td>0.984339</td>\n",
              "      <td>0.016272</td>\n",
              "      <td>19.309500</td>\n",
              "      <td>74.121030</td>\n",
              "      <td>78.581351</td>\n",
              "      <td>76.855313</td>\n",
              "      <td>641.181498</td>\n",
              "      <td>1215.344125</td>\n",
              "      <td>2612.204198</td>\n",
              "      <td>3544.012403</td>\n",
              "      <td>141.610973</td>\n",
              "      <td>159.991186</td>\n",
              "      <td>265.964575</td>\n",
              "      <td>307.971279</td>\n",
              "      <td>1.000000</td>\n",
              "      <td>18.768600</td>\n",
              "      <td>0.354165</td>\n",
              "      <td>1.016200</td>\n",
              "      <td>0.184125</td>\n",
              "      <td>0.137810</td>\n",
              "      <td>...</td>\n",
              "      <td>-0.003125</td>\n",
              "      <td>-0.005517</td>\n",
              "      <td>0.048819</td>\n",
              "      <td>21.611450</td>\n",
              "      <td>11.398050</td>\n",
              "      <td>10.270550</td>\n",
              "      <td>9.530950</td>\n",
              "      <td>9.001950</td>\n",
              "      <td>7.674750</td>\n",
              "      <td>5.966600</td>\n",
              "      <td>5.368600</td>\n",
              "      <td>4.921650</td>\n",
              "      <td>4.592600</td>\n",
              "      <td>5.015800</td>\n",
              "      <td>3.828150</td>\n",
              "      <td>3.024100</td>\n",
              "      <td>2.953100</td>\n",
              "      <td>2.930500</td>\n",
              "      <td>2.668350</td>\n",
              "      <td>2.425250</td>\n",
              "      <td>2.369450</td>\n",
              "      <td>2.380050</td>\n",
              "      <td>2.290400</td>\n",
              "      <td>2.169700</td>\n",
              "      <td>2.002400</td>\n",
              "      <td>1.935850</td>\n",
              "      <td>1.834250</td>\n",
              "      <td>1.819900</td>\n",
              "      <td>1.907550</td>\n",
              "      <td>3.075050</td>\n",
              "      <td>5.586300</td>\n",
              "      <td>7.062750</td>\n",
              "      <td>6.077400</td>\n",
              "      <td>4.770850</td>\n",
              "      <td>4.300450</td>\n",
              "      <td>4.741450</td>\n",
              "      <td>6.725700</td>\n",
              "      <td>7.334250</td>\n",
              "      <td>10.637250</td>\n",
              "      <td>1.000000</td>\n",
              "    </tr>\n",
              "    <tr>\n",
              "      <th>75%</th>\n",
              "      <td>188.250000</td>\n",
              "      <td>1.000000</td>\n",
              "      <td>0.834315</td>\n",
              "      <td>0.754985</td>\n",
              "      <td>0.586515</td>\n",
              "      <td>384.250000</td>\n",
              "      <td>383.250000</td>\n",
              "      <td>0.007528</td>\n",
              "      <td>0.000171</td>\n",
              "      <td>0.002520</td>\n",
              "      <td>1.832500e-05</td>\n",
              "      <td>0.000650</td>\n",
              "      <td>0.001252</td>\n",
              "      <td>0.001952</td>\n",
              "      <td>0.085547</td>\n",
              "      <td>0.79650</td>\n",
              "      <td>0.044665</td>\n",
              "      <td>0.053023</td>\n",
              "      <td>0.071385</td>\n",
              "      <td>0.134000</td>\n",
              "      <td>0.992916</td>\n",
              "      <td>0.040061</td>\n",
              "      <td>22.877750</td>\n",
              "      <td>76.850515</td>\n",
              "      <td>80.402498</td>\n",
              "      <td>78.718785</td>\n",
              "      <td>737.222678</td>\n",
              "      <td>1339.826741</td>\n",
              "      <td>2831.959198</td>\n",
              "      <td>3807.332055</td>\n",
              "      <td>234.098376</td>\n",
              "      <td>299.912765</td>\n",
              "      <td>518.822036</td>\n",
              "      <td>557.628796</td>\n",
              "      <td>1.000000</td>\n",
              "      <td>45.821475</td>\n",
              "      <td>5.374000</td>\n",
              "      <td>1.201575</td>\n",
              "      <td>0.264715</td>\n",
              "      <td>0.157510</td>\n",
              "      <td>...</td>\n",
              "      <td>0.368445</td>\n",
              "      <td>0.421938</td>\n",
              "      <td>1.033050</td>\n",
              "      <td>251.897450</td>\n",
              "      <td>28.205700</td>\n",
              "      <td>18.817550</td>\n",
              "      <td>17.858350</td>\n",
              "      <td>17.691350</td>\n",
              "      <td>13.642275</td>\n",
              "      <td>9.275500</td>\n",
              "      <td>7.419100</td>\n",
              "      <td>6.546525</td>\n",
              "      <td>6.139300</td>\n",
              "      <td>7.230500</td>\n",
              "      <td>5.760800</td>\n",
              "      <td>3.685825</td>\n",
              "      <td>3.526800</td>\n",
              "      <td>3.536650</td>\n",
              "      <td>3.330025</td>\n",
              "      <td>2.953400</td>\n",
              "      <td>2.823100</td>\n",
              "      <td>2.759900</td>\n",
              "      <td>2.688075</td>\n",
              "      <td>2.524625</td>\n",
              "      <td>2.410075</td>\n",
              "      <td>2.350300</td>\n",
              "      <td>2.214575</td>\n",
              "      <td>2.221500</td>\n",
              "      <td>3.057025</td>\n",
              "      <td>12.129975</td>\n",
              "      <td>28.958075</td>\n",
              "      <td>29.830850</td>\n",
              "      <td>21.944050</td>\n",
              "      <td>13.188000</td>\n",
              "      <td>10.876150</td>\n",
              "      <td>12.201325</td>\n",
              "      <td>21.922050</td>\n",
              "      <td>22.495175</td>\n",
              "      <td>61.125325</td>\n",
              "      <td>1.000000</td>\n",
              "    </tr>\n",
              "    <tr>\n",
              "      <th>max</th>\n",
              "      <td>251.000000</td>\n",
              "      <td>1.000000</td>\n",
              "      <td>0.907660</td>\n",
              "      <td>0.852640</td>\n",
              "      <td>0.871230</td>\n",
              "      <td>907.000000</td>\n",
              "      <td>905.000000</td>\n",
              "      <td>0.012966</td>\n",
              "      <td>0.003483</td>\n",
              "      <td>0.027750</td>\n",
              "      <td>2.564800e-04</td>\n",
              "      <td>0.011050</td>\n",
              "      <td>0.018320</td>\n",
              "      <td>0.033150</td>\n",
              "      <td>0.251010</td>\n",
              "      <td>2.11400</td>\n",
              "      <td>0.130510</td>\n",
              "      <td>0.199510</td>\n",
              "      <td>0.277500</td>\n",
              "      <td>0.391540</td>\n",
              "      <td>0.999382</td>\n",
              "      <td>0.761696</td>\n",
              "      <td>33.197000</td>\n",
              "      <td>83.908349</td>\n",
              "      <td>86.316176</td>\n",
              "      <td>85.096353</td>\n",
              "      <td>1015.524047</td>\n",
              "      <td>1922.747225</td>\n",
              "      <td>3475.648017</td>\n",
              "      <td>4482.258531</td>\n",
              "      <td>4744.875736</td>\n",
              "      <td>4262.170070</td>\n",
              "      <td>6116.039922</td>\n",
              "      <td>5804.342078</td>\n",
              "      <td>1.000000</td>\n",
              "      <td>194.360800</td>\n",
              "      <td>37.560200</td>\n",
              "      <td>4.957600</td>\n",
              "      <td>1.654100</td>\n",
              "      <td>1.067200</td>\n",
              "      <td>...</td>\n",
              "      <td>4.048300</td>\n",
              "      <td>3.537200</td>\n",
              "      <td>10.973400</td>\n",
              "      <td>29579.921900</td>\n",
              "      <td>11610.638600</td>\n",
              "      <td>9998.036100</td>\n",
              "      <td>9385.513100</td>\n",
              "      <td>8866.289700</td>\n",
              "      <td>6810.290300</td>\n",
              "      <td>3297.514200</td>\n",
              "      <td>1611.375100</td>\n",
              "      <td>1705.947100</td>\n",
              "      <td>1614.359600</td>\n",
              "      <td>684.873000</td>\n",
              "      <td>511.721100</td>\n",
              "      <td>90.478100</td>\n",
              "      <td>74.435800</td>\n",
              "      <td>40.978400</td>\n",
              "      <td>26.918400</td>\n",
              "      <td>26.574100</td>\n",
              "      <td>25.415600</td>\n",
              "      <td>20.013100</td>\n",
              "      <td>17.105100</td>\n",
              "      <td>14.050700</td>\n",
              "      <td>12.225600</td>\n",
              "      <td>42.538200</td>\n",
              "      <td>118.329600</td>\n",
              "      <td>359.560600</td>\n",
              "      <td>395.347700</td>\n",
              "      <td>355.516100</td>\n",
              "      <td>239.788800</td>\n",
              "      <td>203.311300</td>\n",
              "      <td>121.542900</td>\n",
              "      <td>102.207000</td>\n",
              "      <td>85.571700</td>\n",
              "      <td>73.532200</td>\n",
              "      <td>62.007300</td>\n",
              "      <td>57.544300</td>\n",
              "      <td>156.423700</td>\n",
              "      <td>1.000000</td>\n",
              "    </tr>\n",
              "  </tbody>\n",
              "</table>\n",
              "<p>8 rows × 755 columns</p>\n",
              "</div>\n",
              "      <button class=\"colab-df-convert\" onclick=\"convertToInteractive('df-412f68c9-867c-4c84-a150-0dcb928ac9bf')\"\n",
              "              title=\"Convert this dataframe to an interactive table.\"\n",
              "              style=\"display:none;\">\n",
              "        \n",
              "  <svg xmlns=\"http://www.w3.org/2000/svg\" height=\"24px\"viewBox=\"0 0 24 24\"\n",
              "       width=\"24px\">\n",
              "    <path d=\"M0 0h24v24H0V0z\" fill=\"none\"/>\n",
              "    <path d=\"M18.56 5.44l.94 2.06.94-2.06 2.06-.94-2.06-.94-.94-2.06-.94 2.06-2.06.94zm-11 1L8.5 8.5l.94-2.06 2.06-.94-2.06-.94L8.5 2.5l-.94 2.06-2.06.94zm10 10l.94 2.06.94-2.06 2.06-.94-2.06-.94-.94-2.06-.94 2.06-2.06.94z\"/><path d=\"M17.41 7.96l-1.37-1.37c-.4-.4-.92-.59-1.43-.59-.52 0-1.04.2-1.43.59L10.3 9.45l-7.72 7.72c-.78.78-.78 2.05 0 2.83L4 21.41c.39.39.9.59 1.41.59.51 0 1.02-.2 1.41-.59l7.78-7.78 2.81-2.81c.8-.78.8-2.07 0-2.86zM5.41 20L4 18.59l7.72-7.72 1.47 1.35L5.41 20z\"/>\n",
              "  </svg>\n",
              "      </button>\n",
              "      \n",
              "  <style>\n",
              "    .colab-df-container {\n",
              "      display:flex;\n",
              "      flex-wrap:wrap;\n",
              "      gap: 12px;\n",
              "    }\n",
              "\n",
              "    .colab-df-convert {\n",
              "      background-color: #E8F0FE;\n",
              "      border: none;\n",
              "      border-radius: 50%;\n",
              "      cursor: pointer;\n",
              "      display: none;\n",
              "      fill: #1967D2;\n",
              "      height: 32px;\n",
              "      padding: 0 0 0 0;\n",
              "      width: 32px;\n",
              "    }\n",
              "\n",
              "    .colab-df-convert:hover {\n",
              "      background-color: #E2EBFA;\n",
              "      box-shadow: 0px 1px 2px rgba(60, 64, 67, 0.3), 0px 1px 3px 1px rgba(60, 64, 67, 0.15);\n",
              "      fill: #174EA6;\n",
              "    }\n",
              "\n",
              "    [theme=dark] .colab-df-convert {\n",
              "      background-color: #3B4455;\n",
              "      fill: #D2E3FC;\n",
              "    }\n",
              "\n",
              "    [theme=dark] .colab-df-convert:hover {\n",
              "      background-color: #434B5C;\n",
              "      box-shadow: 0px 1px 3px 1px rgba(0, 0, 0, 0.15);\n",
              "      filter: drop-shadow(0px 1px 2px rgba(0, 0, 0, 0.3));\n",
              "      fill: #FFFFFF;\n",
              "    }\n",
              "  </style>\n",
              "\n",
              "      <script>\n",
              "        const buttonEl =\n",
              "          document.querySelector('#df-412f68c9-867c-4c84-a150-0dcb928ac9bf button.colab-df-convert');\n",
              "        buttonEl.style.display =\n",
              "          google.colab.kernel.accessAllowed ? 'block' : 'none';\n",
              "\n",
              "        async function convertToInteractive(key) {\n",
              "          const element = document.querySelector('#df-412f68c9-867c-4c84-a150-0dcb928ac9bf');\n",
              "          const dataTable =\n",
              "            await google.colab.kernel.invokeFunction('convertToInteractive',\n",
              "                                                     [key], {});\n",
              "          if (!dataTable) return;\n",
              "\n",
              "          const docLinkHtml = 'Like what you see? Visit the ' +\n",
              "            '<a target=\"_blank\" href=https://colab.research.google.com/notebooks/data_table.ipynb>data table notebook</a>'\n",
              "            + ' to learn more about interactive tables.';\n",
              "          element.innerHTML = '';\n",
              "          dataTable['output_type'] = 'display_data';\n",
              "          await google.colab.output.renderOutput(dataTable, element);\n",
              "          const docLink = document.createElement('div');\n",
              "          docLink.innerHTML = docLinkHtml;\n",
              "          element.appendChild(docLink);\n",
              "        }\n",
              "      </script>\n",
              "    </div>\n",
              "  </div>\n",
              "  "
            ],
            "text/plain": [
              "               id      gender  ...  tqwt_kurtosisValue_dec_36       class\n",
              "count  756.000000  756.000000  ...                 756.000000  756.000000\n",
              "mean   125.500000    0.515873  ...                  31.481110    0.746032\n",
              "std     72.793721    0.500079  ...                  34.230991    0.435568\n",
              "min      0.000000    0.000000  ...                   2.364000    0.000000\n",
              "25%     62.750000    0.000000  ...                   3.948750    0.000000\n",
              "50%    125.500000    1.000000  ...                  10.637250    1.000000\n",
              "75%    188.250000    1.000000  ...                  61.125325    1.000000\n",
              "max    251.000000    1.000000  ...                 156.423700    1.000000\n",
              "\n",
              "[8 rows x 755 columns]"
            ]
          },
          "metadata": {},
          "execution_count": 11
        }
      ]
    },
    {
      "cell_type": "code",
      "source": [
        "# distribution of first 16 features\n",
        "fig, axs = plt.subplots(nrows=4, ncols=4, figsize=(30, 20))\n",
        "axs = axs.flatten()\n",
        "index = 0\n",
        "for k, v in data.items():\n",
        "  sns.distplot(v, ax=axs[index])\n",
        "  index += 1\n",
        "  if index == 16:\n",
        "    break \n",
        "plt.tight_layout()"
      ],
      "metadata": {
        "id": "JJbNVjcOibwG",
        "colab": {
          "base_uri": "https://localhost:8080/",
          "height": 705
        },
        "outputId": "b2d5d1c0-0936-47ee-dac8-523d67a8bcec"
      },
      "execution_count": null,
      "outputs": [
        {
          "output_type": "display_data",
          "data": {
            "image/png": "[encoded data removed]",
            "text/plain": [
              "<Figure size 2160x1440 with 16 Axes>"
            ]
          },
          "metadata": {
            "needs_background": "light"
          }
        }
      ]
    },
    {
      "cell_type": "markdown",
      "source": [
        "As we can see in the above output, most of the features have normal distribution, so we should use `StandarScalar` for normalization."
      ],
      "metadata": {
        "id": "dMhkDVBTdmmx"
      }
    },
    {
      "cell_type": "code",
      "source": [
        "data['class'].value_counts()"
      ],
      "metadata": {
        "id": "3dZHuXYDW_2h",
        "colab": {
          "base_uri": "https://localhost:8080/"
        },
        "outputId": "41d1b924-184d-432a-9d1e-c5b98e31e2dd"
      },
      "execution_count": null,
      "outputs": [
        {
          "output_type": "execute_result",
          "data": {
            "text/plain": [
              "1    564\n",
              "0    192\n",
              "Name: class, dtype: int64"
            ]
          },
          "metadata": {},
          "execution_count": 13
        }
      ]
    },
    {
      "cell_type": "markdown",
      "source": [
        "As we can see, we have imbalanced data. Most of the patients has parkinson. (1 means the person has parkinson disease and o means rhe person doesn't have parkinson disease.)"
      ],
      "metadata": {
        "id": "rP2KxJ39gVwe"
      }
    },
    {
      "cell_type": "code",
      "source": [
        "# distribution of data in each class\n",
        "distribution = list(data['class'].value_counts())\n",
        "plt.bar(['1', '0'] ,distribution)\n",
        "plt.xlabel(\"Class\")\n",
        "plt.ylabel(\"Number of person in each class\")\n",
        "plt.title(\"Distribution of data in each class\")\n",
        "plt.show()"
      ],
      "metadata": {
        "colab": {
          "base_uri": "https://localhost:8080/",
          "height": 295
        },
        "id": "pa3xM8gue9m-",
        "outputId": "209025b6-bada-4ad2-9cfb-0fb47ea07249"
      },
      "execution_count": null,
      "outputs": [
        {
          "output_type": "display_data",
          "data": {
            "image/png": "[encoded data removed]",
            "text/plain": [
              "<Figure size 432x288 with 1 Axes>"
            ]
          },
          "metadata": {
            "needs_background": "light"
          }
        }
      ]
    },
    {
      "cell_type": "markdown",
      "source": [
        "### Drop irrelevant features"
      ],
      "metadata": {
        "id": "_1az6MVazSN4"
      }
    },
    {
      "cell_type": "markdown",
      "source": [
        "Let's remove irrelevant features. In this data we have a column whose name is`id` and it's unique for each person. so we shuld remove it."
      ],
      "metadata": {
        "id": "X8fMMt6RfwB7"
      }
    },
    {
      "cell_type": "code",
      "source": [
        "data.drop('id', inplace=True, axis=1)\n",
        "print(f'data shape : {data.shape}')"
      ],
      "metadata": {
        "colab": {
          "base_uri": "https://localhost:8080/"
        },
        "id": "h0YJ-5qyfu4L",
        "outputId": "51a14dae-f54d-4a8c-e8ef-3558ffa1b55c"
      },
      "execution_count": null,
      "outputs": [
        {
          "output_type": "stream",
          "name": "stdout",
          "text": [
            "data shape : (756, 754)\n"
          ]
        }
      ]
    },
    {
      "cell_type": "markdown",
      "source": [
        "### Split X and y"
      ],
      "metadata": {
        "id": "GZMQ1eTRgi4P"
      }
    },
    {
      "cell_type": "code",
      "source": [
        "X = data.drop(columns='class')\n",
        "y = pd.DataFrame(data['class'])\n",
        "\n",
        "print(f'X shape : {X.shape}')\n",
        "print(f'y shape : {y.shape}')"
      ],
      "metadata": {
        "colab": {
          "base_uri": "https://localhost:8080/"
        },
        "id": "ZlxiJUqtggQy",
        "outputId": "71268985-e643-4080-e657-329bb58b50cf"
      },
      "execution_count": null,
      "outputs": [
        {
          "output_type": "stream",
          "name": "stdout",
          "text": [
            "X shape : (756, 753)\n",
            "y shape : (756, 1)\n"
          ]
        }
      ]
    },
    {
      "cell_type": "markdown",
      "source": [
        "### Split train and test data set"
      ],
      "metadata": {
        "id": "yIJb1SHRg8Mz"
      }
    },
    {
      "cell_type": "code",
      "source": [
        "from sklearn.model_selection import train_test_split\n",
        "\n",
        "X_train, X_test, y_train, y_test = train_test_split(X, y, test_size=0.2, stratify= y, random_state=42)\n",
        "print(f'X_train shape: {X_train.shape}')\n",
        "print(f'X_test shape: {X_test.shape}')\n",
        "print(f'y_train shape: {y_train.shape}')\n",
        "print(f'y_test shape: {y_test.shape}')"
      ],
      "metadata": {
        "colab": {
          "base_uri": "https://localhost:8080/"
        },
        "id": "mFKtdvG1hYzO",
        "outputId": "4704e1b2-d988-4722-b5f7-729cbf17e457"
      },
      "execution_count": null,
      "outputs": [
        {
          "output_type": "stream",
          "name": "stdout",
          "text": [
            "X_train shape: (604, 753)\n",
            "X_test shape: (152, 753)\n",
            "y_train shape: (604, 1)\n",
            "y_test shape: (152, 1)\n"
          ]
        }
      ]
    },
    {
      "cell_type": "markdown",
      "source": [
        "### Standadization\n"
      ],
      "metadata": {
        "id": "UD6tvY4Xh7Ri"
      }
    },
    {
      "cell_type": "code",
      "source": [
        "from sklearn.preprocessing import StandardScaler\n",
        "\n",
        "sc = StandardScaler()\n",
        "X_train = sc.fit_transform(X_train)\n",
        "X_test = sc.transform(X_test)"
      ],
      "metadata": {
        "id": "cE9yGuaOhsDJ"
      },
      "execution_count": null,
      "outputs": []
    },
    {
      "cell_type": "markdown",
      "source": [
        "## BaseLine model"
      ],
      "metadata": {
        "id": "YYWoMVATmeAY"
      }
    },
    {
      "cell_type": "markdown",
      "source": [
        "Let's construct baseline model. Since data with class =1 are more that data with class =0 in our dataset and we have imbalanced dataset, so we can construct baseline model that predicts all of the inputs as class = 1."
      ],
      "metadata": {
        "id": "Y1VKsLnUbFk3"
      }
    },
    {
      "cell_type": "code",
      "source": [
        "def baseline(X):\n",
        "  y_pred = []\n",
        "  for i in range(len(X)):\n",
        "    y_pred.append(1)\n",
        "  return y_pred  "
      ],
      "metadata": {
        "id": "Po5DZTPzbEsv"
      },
      "execution_count": null,
      "outputs": []
    },
    {
      "cell_type": "code",
      "source": [
        "def confusion_matrix(y_test, y_pred):\n",
        "    df_cm = pd.DataFrame(metrics.confusion_matrix(y_test, y_pred), index = [0, 1],\n",
        "                  columns = [0, 1])\n",
        "    sns.heatmap(df_cm, annot=True, cmap=\"YlGnBu\" ,fmt='g')\n",
        "    plt.title('Confusion matrix', y=1.1)\n",
        "    plt.ylabel('Actual label')\n",
        "    plt.xlabel('Predicted label')\n",
        "    plt.show()  "
      ],
      "metadata": {
        "id": "uXWlMdYjfpzs"
      },
      "execution_count": null,
      "outputs": []
    },
    {
      "cell_type": "code",
      "source": [
        "y_pred = baseline(X_test)\n",
        "print(classification_report(y_test, y_pred))"
      ],
      "metadata": {
        "id": "UrL85XNFlfhp",
        "colab": {
          "base_uri": "https://localhost:8080/"
        },
        "outputId": "784e4771-3629-4075-9d60-479d9d3e679c"
      },
      "execution_count": null,
      "outputs": [
        {
          "output_type": "stream",
          "name": "stdout",
          "text": [
            "              precision    recall  f1-score   support\n",
            "\n",
            "           0       0.00      0.00      0.00        39\n",
            "           1       0.74      1.00      0.85       113\n",
            "\n",
            "    accuracy                           0.74       152\n",
            "   macro avg       0.37      0.50      0.43       152\n",
            "weighted avg       0.55      0.74      0.63       152\n",
            "\n"
          ]
        }
      ]
    },
    {
      "cell_type": "code",
      "source": [
        "confusion_matrix(y_test, y_pred)"
      ],
      "metadata": {
        "colab": {
          "base_uri": "https://localhost:8080/",
          "height": 295
        },
        "id": "3Ovb1fwmkiDo",
        "outputId": "7a58d961-2d20-4a54-eb18-9eb168932ca8"
      },
      "execution_count": null,
      "outputs": [
        {
          "output_type": "display_data",
          "data": {
            "image/png": "[encoded data removed]",
            "text/plain": [
              "<Figure size 432x288 with 2 Axes>"
            ]
          },
          "metadata": {
            "needs_background": "light"
          }
        }
      ]
    },
    {
      "cell_type": "markdown",
      "source": [
        "## Decision Tree Classifier"
      ],
      "metadata": {
        "id": "7E6TLA0Er_SA"
      }
    },
    {
      "cell_type": "markdown",
      "source": [
        "Becasue we have so many values for our hyperparameters and gridsearch takes too long, we choose value of each hyperparameter each time using cross validation then for other ones we fix previous values and search for them.For example in the following process we first search for best value for `criterion` in decision tree as follows:"
      ],
      "metadata": {
        "id": "0TCIQV_BDCh5"
      }
    },
    {
      "cell_type": "code",
      "source": [
        "from sklearn.tree import DecisionTreeClassifier \n",
        "\n",
        "criterion = ['gini', 'entropy'] # default=”gini”\n",
        "\n",
        "for criteria in criterion:\n",
        "  dt = DecisionTreeClassifier(criterion=criteria, random_state=42)\n",
        "  scores = cross_val_score(dt, X_train, y_train, cv=5)\n",
        "  print(f'for {criteria} : accuracy {scores.mean()}')"
      ],
      "metadata": {
        "colab": {
          "base_uri": "https://localhost:8080/"
        },
        "id": "1GsbNzGZk4FE",
        "outputId": "22cd599e-a9f2-4c10-8584-798156945781"
      },
      "execution_count": null,
      "outputs": [
        {
          "output_type": "stream",
          "name": "stdout",
          "text": [
            "for gini : accuracy 0.8195041322314051\n",
            "for entropy : accuracy 0.8360468319559228\n"
          ]
        }
      ]
    },
    {
      "cell_type": "markdown",
      "source": [
        "The we fixed `criterion=entropy` and searched for best value for splitter:"
      ],
      "metadata": {
        "id": "h2kLjJZQDwCw"
      }
    },
    {
      "cell_type": "code",
      "source": [
        "splitter = ['best', 'random'] # default=”best”\n",
        "\n",
        "for split in splitter:\n",
        "  dt = DecisionTreeClassifier(criterion= 'entropy', splitter=split, random_state=42)\n",
        "  scores = cross_val_score(dt, X_train, y_train, cv=5)\n",
        "  print(f'for {split} : accuracy {scores.mean()}')"
      ],
      "metadata": {
        "colab": {
          "base_uri": "https://localhost:8080/"
        },
        "id": "A9FrASbHsPdw",
        "outputId": "a19b3393-bc7d-4caa-b9a9-8d43008963e8"
      },
      "execution_count": null,
      "outputs": [
        {
          "output_type": "stream",
          "name": "stdout",
          "text": [
            "for best : accuracy 0.8360468319559228\n",
            "for random : accuracy 0.7813911845730027\n"
          ]
        }
      ]
    },
    {
      "cell_type": "markdown",
      "source": [
        "Now, we fixed `criterion=entropy, splitter=best` and searched for best value of max_depth:"
      ],
      "metadata": {
        "id": "DkXCDZ-cD7og"
      }
    },
    {
      "cell_type": "code",
      "source": [
        "max_depth = [4, 5, 6, 7, 8, 9, 10, 20, 30, 40, 50, 60, 100, 150, 200, 300]\n",
        "\n",
        "for depth in max_depth:\n",
        "  dt = DecisionTreeClassifier(criterion= 'entropy', splitter= 'best', max_depth=depth, random_state=42)\n",
        "  scores = cross_val_score(dt, X_train, y_train, cv=5)\n",
        "  print(f'for depth {depth} : accuracy {scores.mean()}')"
      ],
      "metadata": {
        "colab": {
          "base_uri": "https://localhost:8080/"
        },
        "id": "ci-RHydHut6E",
        "outputId": "f97dc08f-72fc-4f70-9563-c60dc28336a4"
      },
      "execution_count": null,
      "outputs": [
        {
          "output_type": "stream",
          "name": "stdout",
          "text": [
            "for depth 4 : accuracy 0.8360192837465565\n",
            "for depth 5 : accuracy 0.8128650137741047\n",
            "for depth 6 : accuracy 0.8244490358126721\n",
            "for depth 7 : accuracy 0.8145316804407713\n",
            "for depth 8 : accuracy 0.8244765840220385\n",
            "for depth 9 : accuracy 0.8410055096418733\n",
            "for depth 10 : accuracy 0.8360468319559228\n",
            "for depth 20 : accuracy 0.8360468319559228\n",
            "for depth 30 : accuracy 0.8360468319559228\n",
            "for depth 40 : accuracy 0.8360468319559228\n",
            "for depth 50 : accuracy 0.8360468319559228\n",
            "for depth 60 : accuracy 0.8360468319559228\n",
            "for depth 100 : accuracy 0.8360468319559228\n",
            "for depth 150 : accuracy 0.8360468319559228\n",
            "for depth 200 : accuracy 0.8360468319559228\n",
            "for depth 300 : accuracy 0.8360468319559228\n"
          ]
        }
      ]
    },
    {
      "cell_type": "markdown",
      "source": [
        "Till now we have `criterion=entropy, splitter=best, max_depth=9`. Now, we should put best hyperparameters in the model and evaluate them on the test set."
      ],
      "metadata": {
        "id": "EVtp4ZcoEMs3"
      }
    },
    {
      "cell_type": "code",
      "source": [
        "dt = DecisionTreeClassifier(criterion = 'entropy', splitter='best', max_depth=9,random_state=42)\n",
        "dt = dt.fit(X_train,y_train)\n",
        "\n",
        "y_pred = dt.predict(X_test)\n",
        "print(f'10 first elements of y_pred : {y_pred[:10]}')"
      ],
      "metadata": {
        "colab": {
          "base_uri": "https://localhost:8080/"
        },
        "id": "HQXwr9KSxESi",
        "outputId": "0c880607-fe19-4cf8-a626-ea848f37bfc2"
      },
      "execution_count": null,
      "outputs": [
        {
          "output_type": "stream",
          "name": "stdout",
          "text": [
            "10 first elements of y_pred : [1 1 1 1 0 1 0 1 1 0]\n"
          ]
        }
      ]
    },
    {
      "cell_type": "code",
      "source": [
        "print(f'decision tree accuracy on train set: {dt.score(X_train, y_train)}')\n",
        "print(f'decision tree accuracy on test set : {dt.score(X_test, y_test)}')"
      ],
      "metadata": {
        "colab": {
          "base_uri": "https://localhost:8080/"
        },
        "id": "y6Xlv0w1x5RV",
        "outputId": "bd88b8ea-b080-47c4-d1ec-b4840344fb73"
      },
      "execution_count": null,
      "outputs": [
        {
          "output_type": "stream",
          "name": "stdout",
          "text": [
            "decision tree accuracy on train set: 1.0\n",
            "decision tree accuracy on test set : 0.7697368421052632\n"
          ]
        }
      ]
    },
    {
      "cell_type": "code",
      "source": [
        "print(classification_report(y_test, y_pred))"
      ],
      "metadata": {
        "colab": {
          "base_uri": "https://localhost:8080/"
        },
        "id": "PhgaEZplx8nQ",
        "outputId": "51f1a145-e23e-463f-e160-efe622cea2f3"
      },
      "execution_count": null,
      "outputs": [
        {
          "output_type": "stream",
          "name": "stdout",
          "text": [
            "              precision    recall  f1-score   support\n",
            "\n",
            "           0       0.55      0.54      0.55        39\n",
            "           1       0.84      0.85      0.85       113\n",
            "\n",
            "    accuracy                           0.77       152\n",
            "   macro avg       0.70      0.69      0.70       152\n",
            "weighted avg       0.77      0.77      0.77       152\n",
            "\n"
          ]
        }
      ]
    },
    {
      "cell_type": "code",
      "source": [
        "confusion_matrix(y_test, y_pred)"
      ],
      "metadata": {
        "colab": {
          "base_uri": "https://localhost:8080/",
          "height": 295
        },
        "id": "KmeMGh7NyMek",
        "outputId": "00b8bf7c-81d0-4dfa-8399-11cec581757c"
      },
      "execution_count": null,
      "outputs": [
        {
          "output_type": "display_data",
          "data": {
            "image/png": "[encoded data removed]",
            "text/plain": [
              "<Figure size 432x288 with 2 Axes>"
            ]
          },
          "metadata": {
            "needs_background": "light"
          }
        }
      ]
    },
    {
      "cell_type": "markdown",
      "source": [
        "## Random Forest Classifier"
      ],
      "metadata": {
        "id": "qx-_-9FjzFcX"
      }
    },
    {
      "cell_type": "code",
      "source": [
        "from sklearn.ensemble import RandomForestClassifier\n",
        "\n",
        "criterion = ['gini', 'entropy'] # default=”gini”\n",
        "\n",
        "for criteria in criterion:\n",
        "  rf = RandomForestClassifier(criterion=criteria, random_state=42)\n",
        "  scores = cross_val_score(rf, X_train, y_train, cv=5)\n",
        "  print(f'criteria :{criteria} : accuracy {scores.mean()}')"
      ],
      "metadata": {
        "colab": {
          "base_uri": "https://localhost:8080/"
        },
        "id": "vmsEaFkEyz3M",
        "outputId": "fbff6b2e-c925-4dce-f72a-04dbe9aee95c"
      },
      "execution_count": null,
      "outputs": [
        {
          "output_type": "stream",
          "name": "stdout",
          "text": [
            "criteria :gini : accuracy 0.8691184573002755\n",
            "criteria :entropy : accuracy 0.8608264462809917\n"
          ]
        }
      ]
    },
    {
      "cell_type": "code",
      "source": [
        "max_samples = [0.33, 0.5, 1.0]\n",
        "\n",
        "for sample in max_samples:\n",
        "  rf = RandomForestClassifier(criterion='gini', max_samples=sample, random_state=42)\n",
        "  scores = cross_val_score(rf, X_train, y_train, cv=5)\n",
        "  print(f'max_samples : {sample} : accuracy {scores.mean()}')"
      ],
      "metadata": {
        "colab": {
          "base_uri": "https://localhost:8080/"
        },
        "id": "CK3wF8EZ_rDm",
        "outputId": "c2235489-7bcf-462a-8a99-381d96cae700"
      },
      "execution_count": null,
      "outputs": [
        {
          "output_type": "stream",
          "name": "stdout",
          "text": [
            "max_samples : 0.33 : accuracy 0.8476308539944902\n",
            "max_samples : 0.5 : accuracy 0.8542011019283746\n",
            "max_samples : 1.0 : accuracy 0.8691184573002755\n"
          ]
        }
      ]
    },
    {
      "cell_type": "code",
      "source": [
        "n_estimators = [50, 100, 200, 400,600]\n",
        "\n",
        "for estimator in n_estimators:\n",
        "  rf = RandomForestClassifier(criterion='gini', max_samples= 1.0, n_estimators=estimator, random_state=42)\n",
        "  scores = cross_val_score(rf, X_train, y_train, cv=5)\n",
        "  print(f'n_estimators = {estimator} : accuracy {scores.mean()}')"
      ],
      "metadata": {
        "colab": {
          "base_uri": "https://localhost:8080/"
        },
        "id": "mkA2oi1HAixn",
        "outputId": "87bd1f2a-4005-4a01-c1d2-8a886e36750a"
      },
      "execution_count": null,
      "outputs": [
        {
          "output_type": "stream",
          "name": "stdout",
          "text": [
            "n_estimators = 50 : accuracy 0.8608402203856749\n",
            "n_estimators = 100 : accuracy 0.8691184573002755\n",
            "n_estimators = 200 : accuracy 0.8707575757575757\n",
            "n_estimators = 400 : accuracy 0.8657988980716252\n",
            "n_estimators = 600 : accuracy 0.8690909090909091\n"
          ]
        }
      ]
    },
    {
      "cell_type": "code",
      "source": [
        "max_depth = [5, 10, 50, 100, 200, 300]\n",
        "\n",
        "for depth in max_depth:\n",
        "  rf = RandomForestClassifier(criterion='gini', max_samples= 1.0, n_estimators= 200, max_depth= depth, random_state=42)\n",
        "  scores = cross_val_score(rf, X_train, y_train, cv=5)\n",
        "  print(f'max_depth = {depth} : accuracy {scores.mean()}')"
      ],
      "metadata": {
        "colab": {
          "base_uri": "https://localhost:8080/"
        },
        "id": "8cwXyF3WA3Le",
        "outputId": "58c867d7-4a2f-49ef-d09e-82055b8c7b54"
      },
      "execution_count": null,
      "outputs": [
        {
          "output_type": "stream",
          "name": "stdout",
          "text": [
            "max_depth = 5 : accuracy 0.862465564738292\n",
            "max_depth = 10 : accuracy 0.862465564738292\n",
            "max_depth = 50 : accuracy 0.8707575757575757\n",
            "max_depth = 100 : accuracy 0.8707575757575757\n",
            "max_depth = 200 : accuracy 0.8707575757575757\n",
            "max_depth = 300 : accuracy 0.8707575757575757\n"
          ]
        }
      ]
    },
    {
      "cell_type": "code",
      "source": [
        "rf = RandomForestClassifier(criterion = 'gini', n_estimators=200, max_depth=50, max_samples =1.0, random_state=42)\n",
        "rf = rf.fit(X_train,y_train)\n",
        "\n",
        "y_pred = rf.predict(X_test)"
      ],
      "metadata": {
        "id": "kQJc6tSN3uEj"
      },
      "execution_count": null,
      "outputs": []
    },
    {
      "cell_type": "code",
      "source": [
        "print(f'random forest accuracy on train set: {rf.score(X_train, y_train)}')\n",
        "print(f'random forest accuracy on test set : {rf.score(X_test, y_test)}')"
      ],
      "metadata": {
        "colab": {
          "base_uri": "https://localhost:8080/"
        },
        "id": "9BYlV_I7-D1u",
        "outputId": "1b0b3615-ab95-488b-c1b3-d357f9ccc98a"
      },
      "execution_count": null,
      "outputs": [
        {
          "output_type": "stream",
          "name": "stdout",
          "text": [
            "random forest accuracy on train set: 1.0\n",
            "random forest accuracy on test set : 0.8486842105263158\n"
          ]
        }
      ]
    },
    {
      "cell_type": "code",
      "source": [
        "print(classification_report(y_test, y_pred))"
      ],
      "metadata": {
        "colab": {
          "base_uri": "https://localhost:8080/"
        },
        "id": "2tCa8Y0K-IY0",
        "outputId": "8edeea4c-c79e-44c4-a8fd-8abc02151fac"
      },
      "execution_count": null,
      "outputs": [
        {
          "output_type": "stream",
          "name": "stdout",
          "text": [
            "              precision    recall  f1-score   support\n",
            "\n",
            "           0       0.83      0.51      0.63        39\n",
            "           1       0.85      0.96      0.90       113\n",
            "\n",
            "    accuracy                           0.85       152\n",
            "   macro avg       0.84      0.74      0.77       152\n",
            "weighted avg       0.85      0.85      0.84       152\n",
            "\n"
          ]
        }
      ]
    },
    {
      "cell_type": "code",
      "source": [
        "confusion_matrix(y_test, y_pred)"
      ],
      "metadata": {
        "colab": {
          "base_uri": "https://localhost:8080/",
          "height": 295
        },
        "id": "MMOzRTpp-MI9",
        "outputId": "85b8f997-2f03-485d-d052-1099fff7741e"
      },
      "execution_count": null,
      "outputs": [
        {
          "output_type": "display_data",
          "data": {
            "image/png": "[encoded data removed]",
            "text/plain": [
              "<Figure size 432x288 with 2 Axes>"
            ]
          },
          "metadata": {
            "needs_background": "light"
          }
        }
      ]
    },
    {
      "cell_type": "markdown",
      "source": [
        "## XGBoost Classfier"
      ],
      "metadata": {
        "id": "SkhlNPEKGvZM"
      }
    },
    {
      "cell_type": "code",
      "source": [
        "from xgboost import XGBClassifier\n",
        "\n",
        "max_depth = [5, 10, 50]\n",
        "\n",
        "for depth in max_depth:\n",
        "    xgb = XGBClassifier(max_depth=depth, random_state=42)\n",
        "    scores = cross_val_score(xgb, X_train, y_train, cv=5)\n",
        "    print(f'depth: {depth}  => accuracy {scores.mean()}')"
      ],
      "metadata": {
        "colab": {
          "base_uri": "https://localhost:8080/"
        },
        "id": "9jekN3cXCyad",
        "outputId": "908e98a3-72ad-4b28-c842-73591757703a"
      },
      "execution_count": null,
      "outputs": [
        {
          "output_type": "stream",
          "name": "stdout",
          "text": [
            "depth: 5  => accuracy 0.8839669421487603\n",
            "depth: 10  => accuracy 0.8873002754820936\n",
            "depth: 50  => accuracy 0.8856473829201101\n"
          ]
        }
      ]
    },
    {
      "cell_type": "code",
      "source": [
        "n_estimators = [300, 500]\n",
        "\n",
        "for estimator in n_estimators:\n",
        "      \n",
        "    xgb = XGBClassifier(max_depth=10, n_estimators=estimator, random_state=42)\n",
        "    scores = cross_val_score(xgb, X_train, y_train, cv=5)\n",
        "    print(f'N_estimators: {estimator} => accuracy {scores.mean()}')"
      ],
      "metadata": {
        "colab": {
          "base_uri": "https://localhost:8080/"
        },
        "id": "LIcd1P_QG_pt",
        "outputId": "9e968258-61cc-4d37-f095-d6503a20f57c"
      },
      "execution_count": null,
      "outputs": [
        {
          "output_type": "stream",
          "name": "stdout",
          "text": [
            "N_estimators: 300 => accuracy 0.8906198347107438\n",
            "N_estimators: 500 => accuracy 0.8906198347107438\n"
          ]
        }
      ]
    },
    {
      "cell_type": "code",
      "source": [
        "learning_rate = [0.1, 0.01, 0.001]\n",
        "\n",
        "for lr in learning_rate:\n",
        "        \n",
        "    xgb = XGBClassifier(max_depth=10, n_estimators=300, learning_rate=lr, random_state=42)\n",
        "    scores = cross_val_score(xgb, X_train, y_train, cv=5)\n",
        "    print(f'lr : {lr} => accuracy {scores.mean()}')"
      ],
      "metadata": {
        "colab": {
          "base_uri": "https://localhost:8080/"
        },
        "id": "qkrmV1nnHDFO",
        "outputId": "5b929d12-5d31-42e5-e827-4559a09422e4"
      },
      "execution_count": null,
      "outputs": [
        {
          "output_type": "stream",
          "name": "stdout",
          "text": [
            "lr : 0.1 => accuracy 0.8906198347107438\n",
            "lr : 0.01 => accuracy 0.8641184573002756\n",
            "lr : 0.001 => accuracy 0.8095179063360881\n"
          ]
        }
      ]
    },
    {
      "cell_type": "code",
      "source": [
        "xgb = XGBClassifier(max_depth=10, n_estimator=300, learning_rate=0.1, random_state=42)\n",
        "xgb = xgb.fit(X_train,y_train)\n",
        "\n",
        "y_pred = xgb.predict(X_test)"
      ],
      "metadata": {
        "id": "MSxEJ8jyHFJy"
      },
      "execution_count": null,
      "outputs": []
    },
    {
      "cell_type": "code",
      "source": [
        "print(f'xgb accuracy on train set: {xgb.score(X_train, y_train)}')\n",
        "print(f'xgb forest accuracy on test set : {xgb.score(X_test, y_test)}')"
      ],
      "metadata": {
        "colab": {
          "base_uri": "https://localhost:8080/"
        },
        "id": "nHheskBRHJFh",
        "outputId": "9a4ec92c-8070-494b-94c0-d72c4e417ee2"
      },
      "execution_count": null,
      "outputs": [
        {
          "output_type": "stream",
          "name": "stdout",
          "text": [
            "xgb accuracy on train set: 1.0\n",
            "xgb forest accuracy on test set : 0.875\n"
          ]
        }
      ]
    },
    {
      "cell_type": "code",
      "source": [
        "print(classification_report(y_test, y_pred))"
      ],
      "metadata": {
        "colab": {
          "base_uri": "https://localhost:8080/"
        },
        "id": "aMsZ_7JHHMiF",
        "outputId": "fd60fa47-65c7-4ea3-85a4-11b7c65eafd0"
      },
      "execution_count": null,
      "outputs": [
        {
          "output_type": "stream",
          "name": "stdout",
          "text": [
            "              precision    recall  f1-score   support\n",
            "\n",
            "           0       0.88      0.59      0.71        39\n",
            "           1       0.87      0.97      0.92       113\n",
            "\n",
            "    accuracy                           0.88       152\n",
            "   macro avg       0.88      0.78      0.81       152\n",
            "weighted avg       0.88      0.88      0.87       152\n",
            "\n"
          ]
        }
      ]
    },
    {
      "cell_type": "code",
      "source": [
        "confusion_matrix(y_test, y_pred)"
      ],
      "metadata": {
        "colab": {
          "base_uri": "https://localhost:8080/",
          "height": 295
        },
        "id": "DVndROWUHOyN",
        "outputId": "0b58ea3a-e117-465a-f427-2c8e34daf1e8"
      },
      "execution_count": null,
      "outputs": [
        {
          "output_type": "display_data",
          "data": {
            "image/png": "[encoded data removed]",
            "text/plain": [
              "<Figure size 432x288 with 2 Axes>"
            ]
          },
          "metadata": {
            "needs_background": "light"
          }
        }
      ]
    },
    {
      "cell_type": "markdown",
      "source": [
        "## SVM Classifier"
      ],
      "metadata": {
        "id": "Ej8LeiA7exdN"
      }
    },
    {
      "cell_type": "code",
      "source": [
        "from sklearn import svm\n",
        "\n",
        "kernel = ['linear', 'rbf', 'sigmoid', 'poly']\n",
        "\n",
        "for kernel in kernel:\n",
        "        \n",
        "    svc = svm.SVC(kernel=kernel, random_state=42)\n",
        "    scores = cross_val_score(svc, X_train, y_train, cv=5)\n",
        "    print(f'kernel : {kernel} => accuracy {scores.mean()}')"
      ],
      "metadata": {
        "colab": {
          "base_uri": "https://localhost:8080/"
        },
        "id": "zN1FMbRaetf2",
        "outputId": "d80ecfb4-7e2b-4ff1-8f0d-482c954b136d"
      },
      "execution_count": null,
      "outputs": [
        {
          "output_type": "stream",
          "name": "stdout",
          "text": [
            "kernel : linear => accuracy 0.8161983471074381\n",
            "kernel : rbf => accuracy 0.8592148760330577\n",
            "kernel : sigmoid => accuracy 0.8592424242424241\n",
            "kernel : poly => accuracy 0.7979889807162535\n"
          ]
        }
      ]
    },
    {
      "cell_type": "code",
      "source": [
        "svc = svm.SVC(kernel='sigmoid', random_state=42)\n",
        "svc = svc.fit(X_train,y_train)\n",
        "\n",
        "y_pred = svc.predict(X_test)"
      ],
      "metadata": {
        "id": "7tjP1B2rfBXw"
      },
      "execution_count": null,
      "outputs": []
    },
    {
      "cell_type": "code",
      "source": [
        "print(f'svc accuracy on train set: {svc.score(X_train, y_train)}')\n",
        "print(f'svc accuracy on test set : {svc.score(X_test, y_test)}')"
      ],
      "metadata": {
        "colab": {
          "base_uri": "https://localhost:8080/"
        },
        "id": "E8Rrxc-ffeB2",
        "outputId": "e8c45c68-490e-4159-9eb2-ccb829615e15"
      },
      "execution_count": null,
      "outputs": [
        {
          "output_type": "stream",
          "name": "stdout",
          "text": [
            "svc accuracy on train set: 0.8741721854304636\n",
            "svc accuracy on test set : 0.8289473684210527\n"
          ]
        }
      ]
    },
    {
      "cell_type": "code",
      "source": [
        "print(classification_report(y_test, y_pred))"
      ],
      "metadata": {
        "colab": {
          "base_uri": "https://localhost:8080/"
        },
        "id": "PL6l8CHCfg6I",
        "outputId": "36590eab-2da7-490d-a079-ec164cf5e3be"
      },
      "execution_count": null,
      "outputs": [
        {
          "output_type": "stream",
          "name": "stdout",
          "text": [
            "              precision    recall  f1-score   support\n",
            "\n",
            "           0       0.74      0.51      0.61        39\n",
            "           1       0.85      0.94      0.89       113\n",
            "\n",
            "    accuracy                           0.83       152\n",
            "   macro avg       0.79      0.73      0.75       152\n",
            "weighted avg       0.82      0.83      0.82       152\n",
            "\n"
          ]
        }
      ]
    },
    {
      "cell_type": "code",
      "source": [
        "confusion_matrix(y_test, y_pred)"
      ],
      "metadata": {
        "colab": {
          "base_uri": "https://localhost:8080/",
          "height": 295
        },
        "id": "oxYs5I2Ofgp0",
        "outputId": "142b0ea2-da5b-4722-b300-c034c38b33b8"
      },
      "execution_count": null,
      "outputs": [
        {
          "output_type": "display_data",
          "data": {
            "image/png": "[encoded data removed]",
            "text/plain": [
              "<Figure size 432x288 with 2 Axes>"
            ]
          },
          "metadata": {
            "needs_background": "light"
          }
        }
      ]
    },
    {
      "cell_type": "markdown",
      "source": [
        "## Extreme Learning Machine"
      ],
      "metadata": {
        "id": "GA6WjPGIkGcD"
      }
    },
    {
      "cell_type": "markdown",
      "source": [
        "https://github.com/chickenbestlover/ELM-pytorch/blob/master/mnist/main_ELM.py\n",
        "\n",
        "https://github.com/naderAsadi/ELM-Pytorch/blob/master/models.py"
      ],
      "metadata": {
        "id": "IRnSdeEdSb-u"
      }
    },
    {
      "cell_type": "markdown",
      "source": [
        "= a neural network without parameter tuning.\n",
        "\n",
        "The ELM algorithm is similar to other neural networks with 3 key differences:\n",
        "\n",
        "1.  The number of hidden units is usually larger than in \n",
        "other neural networks that are trained using backpropagation.\n",
        "2.  The weights from input to hidden layer are randomly generated, usually using values from a continuous uniform distribution.\n",
        "3.  The output neurons are linear rather than sigmoidal, this means we can use least square errors regression to solve the output weights.\n",
        "\n"
      ],
      "metadata": {
        "id": "twCNTSpu9GPk"
      }
    },
    {
      "cell_type": "markdown",
      "source": [
        "### First approach (using numpy)"
      ],
      "metadata": {
        "id": "0Buz1z3IBh2w"
      }
    },
    {
      "cell_type": "markdown",
      "source": [
        "with 20,000 nodes in hidden layer , notebook crashed."
      ],
      "metadata": {
        "id": "hNHEXp_DMCTH"
      }
    },
    {
      "cell_type": "code",
      "source": [
        "input_size = X_train.shape[1]\n",
        "hidden_neurons = 10000\n",
        "\n",
        "Win = np.random.normal(size=[input_size, hidden_neurons])\n",
        "biases = np.random.normal(size=[hidden_neurons])\n",
        "print(f'biases for hidden layer shape : {biases.shape}')\n",
        "print(f'weight from input to hidden shape : {Win.shape}')\n",
        "print(f'10 first element of the first row of Win : \\n {Win[0][:10]}')"
      ],
      "metadata": {
        "colab": {
          "base_uri": "https://localhost:8080/"
        },
        "id": "ymajb9_DBHqc",
        "outputId": "e741eef3-988e-42d4-ca57-f65336af0a05"
      },
      "execution_count": null,
      "outputs": [
        {
          "output_type": "stream",
          "name": "stdout",
          "text": [
            "biases for hidden layer shape : (10000,)\n",
            "weight from input to hidden shape : (753, 10000)\n",
            "10 first element of the first row of Win : \n",
            " [ 1.76405235  0.40015721  0.97873798  2.2408932   1.86755799 -0.97727788\n",
            "  0.95008842 -0.15135721 -0.10321885  0.4105985 ]\n"
          ]
        }
      ]
    },
    {
      "cell_type": "code",
      "source": [
        "def hidden_output(x, Win):\n",
        "  \"\"\"caculate output of hidden layer\"\"\"\n",
        "  a = np.dot(x, Win)\n",
        "  a = a + biases\n",
        "  a = np.maximum(a, 0, a) # ReLU\n",
        "  return a\n",
        "\n",
        "def W_hidden_output(x, y, Win):\n",
        "  \"\"\"calculate weight between hidden layer and output\"\"\"\n",
        "  H = hidden_output(x, Win)\n",
        "  Ht = np.transpose(H)\n",
        "  Wout = np.dot(np.linalg.inv(np.dot(Ht, H)), np.dot(Ht, y))\n",
        "  return Wout\n",
        "\n",
        "def sigmoid(x):\n",
        "  return 1 / (1 + np.exp(-x))\n",
        "\n",
        "def predict(x, Win, Wout):\n",
        "  H = hidden_output(x, Win)\n",
        "  y_pred = np.dot(H, Wout)\n",
        "  y_pred = sigmoid(y_pred)\n",
        "  y_pred = np.round(y_pred)\n",
        "  return y_pred\n"
      ],
      "metadata": {
        "id": "dlC7qor8FM-A"
      },
      "execution_count": null,
      "outputs": []
    },
    {
      "cell_type": "code",
      "source": [
        "cv_scores = {'Accuracy': []}\n",
        "fold = StratifiedKFold(5, shuffle=True, random_state=42)\n",
        "\n",
        "X, y = X_train, y_train\n",
        "\n",
        "for train_index, valid_index in fold.split(X, y):\n",
        "    x_train_, x_valid = X[train_index], X[valid_index]\n",
        "    y_train_, y_valid = y.iloc[train_index], y.iloc[valid_index]\n",
        "    \n",
        "    Wout = W_hidden_output(x_train_, y_train_, Win)\n",
        "    y_pred_valid = predict(x_valid, Win, Wout)\n",
        "    cv_scores['Accuracy'].append(accuracy_score(y_valid, y_pred_valid))\n",
        "\n",
        "mean_cv_scores = {k: np.mean(v) for k, v in cv_scores.items()}      \n",
        "print(f\"ELM accuracy : {mean_cv_scores['Accuracy']}\")"
      ],
      "metadata": {
        "id": "oo5ld53SR23E",
        "colab": {
          "base_uri": "https://localhost:8080/"
        },
        "outputId": "739355a3-e10e-43e1-c1b2-34a7825b3790"
      },
      "execution_count": null,
      "outputs": [
        {
          "output_type": "stream",
          "name": "stdout",
          "text": [
            "ELM accuracy : 0.5032644628099174\n"
          ]
        }
      ]
    },
    {
      "cell_type": "markdown",
      "source": [
        "1000 nodes => 47%\n",
        "10000 nodes => 50%"
      ],
      "metadata": {
        "id": "w0rkNzk74-WL"
      }
    },
    {
      "cell_type": "code",
      "source": [
        "Wout = W_hidden_output(X_train, y_train, Win)\n",
        "y_pred_train = predict(X_train, Win, Wout)\n",
        "y_pred_test = predict(X_test, Win, Wout)"
      ],
      "metadata": {
        "id": "L3UrKkj35VgW"
      },
      "execution_count": null,
      "outputs": []
    },
    {
      "cell_type": "code",
      "source": [
        "print(f'elm accuracy on train set: {accuracy_score(y_train, y_pred_train)}')\n",
        "print(f'elm accuracy on test set : {accuracy_score(y_test, y_pred_test)}')"
      ],
      "metadata": {
        "colab": {
          "base_uri": "https://localhost:8080/"
        },
        "id": "6lbSpM4WxeaN",
        "outputId": "b9bb3ab9-7ac5-4455-a1c5-26a8cb97cacd"
      },
      "execution_count": null,
      "outputs": [
        {
          "output_type": "stream",
          "name": "stdout",
          "text": [
            "elm accuracy on train set: 0.5099337748344371\n",
            "elm accuracy on test set : 0.48026315789473684\n"
          ]
        }
      ]
    },
    {
      "cell_type": "code",
      "source": [
        "print(classification_report(y_test, y_pred_test))"
      ],
      "metadata": {
        "colab": {
          "base_uri": "https://localhost:8080/"
        },
        "id": "7DLvDUTTyVK7",
        "outputId": "19f45fed-e17c-4a71-c82c-488facac2712"
      },
      "execution_count": null,
      "outputs": [
        {
          "output_type": "stream",
          "name": "stdout",
          "text": [
            "              precision    recall  f1-score   support\n",
            "\n",
            "           0       0.25      0.51      0.34        39\n",
            "           1       0.74      0.47      0.57       113\n",
            "\n",
            "    accuracy                           0.48       152\n",
            "   macro avg       0.49      0.49      0.45       152\n",
            "weighted avg       0.61      0.48      0.51       152\n",
            "\n"
          ]
        }
      ]
    },
    {
      "cell_type": "code",
      "source": [
        "confusion_matrix(y_test, y_pred_test)"
      ],
      "metadata": {
        "colab": {
          "base_uri": "https://localhost:8080/",
          "height": 295
        },
        "id": "MbbGEedNyVyQ",
        "outputId": "5976adc0-3cb4-463d-d492-7a173d3ba828"
      },
      "execution_count": null,
      "outputs": [
        {
          "output_type": "display_data",
          "data": {
            "image/png": "[encoded data removed]",
            "text/plain": [
              "<Figure size 432x288 with 2 Axes>"
            ]
          },
          "metadata": {
            "needs_background": "light"
          }
        }
      ]
    },
    {
      "cell_type": "markdown",
      "source": [
        "As we can see, this model has a bad result. because it's result is worse than baseline model. The reason is that our model is simpler than our data and can't understand and learn data. we need model with higher complexity or we should use `pca` for dimentionality reduction and the new data can learn using simple model."
      ],
      "metadata": {
        "id": "QMy_ljTzODjE"
      }
    },
    {
      "cell_type": "markdown",
      "source": [
        "### Second approach (using hplem library)"
      ],
      "metadata": {
        "id": "oaUfHHIXBsGk"
      }
    },
    {
      "cell_type": "code",
      "source": [
        "!pip -q install hpelm"
      ],
      "metadata": {
        "id": "hEACY5E91Y7S"
      },
      "execution_count": null,
      "outputs": []
    },
    {
      "cell_type": "code",
      "source": [
        "y = y_train.to_numpy()"
      ],
      "metadata": {
        "id": "kafsgAMt125f"
      },
      "execution_count": null,
      "outputs": []
    },
    {
      "cell_type": "code",
      "source": [
        "from hpelm import ELM\n",
        "\n",
        "elm = ELM(X_train.shape[1], y_train.shape[1])\n",
        "elm.add_neurons(20, \"sigm\")\n",
        "elm.add_neurons(10, \"rbf_l2\")\n",
        "elm.train(X_train, y, \"LOO\")\n",
        "Y = elm.predict(X_test)"
      ],
      "metadata": {
        "id": "46Jy8dFZywHq"
      },
      "execution_count": null,
      "outputs": []
    },
    {
      "cell_type": "code",
      "source": [
        "y__test = np.round(sigmoid(Y))"
      ],
      "metadata": {
        "id": "NRZDaE5JyyDj"
      },
      "execution_count": null,
      "outputs": []
    },
    {
      "cell_type": "code",
      "source": [
        "print(classification_report(y_test, y__test))"
      ],
      "metadata": {
        "colab": {
          "base_uri": "https://localhost:8080/"
        },
        "id": "pNYpBF6P6Kjj",
        "outputId": "61761d56-9dd8-44d9-c24b-bff8b2ea7afb"
      },
      "execution_count": null,
      "outputs": [
        {
          "output_type": "stream",
          "name": "stdout",
          "text": [
            "              precision    recall  f1-score   support\n",
            "\n",
            "           0       0.00      0.00      0.00        39\n",
            "           1       0.74      1.00      0.85       113\n",
            "\n",
            "    accuracy                           0.74       152\n",
            "   macro avg       0.37      0.50      0.43       152\n",
            "weighted avg       0.55      0.74      0.63       152\n",
            "\n"
          ]
        }
      ]
    },
    {
      "cell_type": "markdown",
      "source": [
        "## Multi Layer Perceptron"
      ],
      "metadata": {
        "id": "rhCTib59FSyy"
      }
    },
    {
      "cell_type": "markdown",
      "source": [
        "For MLP we used `Pytorch`. in pytorch we should create class for our dataset then create loader for train and test data and then train the model."
      ],
      "metadata": {
        "id": "0nKx9-tsR5UU"
      }
    },
    {
      "cell_type": "code",
      "source": [
        "import torch\n",
        "import torch.nn as nn\n",
        "import torch.nn.functional as F\n",
        "import torch.optim as optim\n",
        "from torch.optim import lr_scheduler\n",
        "from torch.utils.data import Dataset, DataLoader\n",
        "\n",
        "from tqdm import tqdm"
      ],
      "metadata": {
        "id": "1D4A7jRgcK2w"
      },
      "execution_count": null,
      "outputs": []
    },
    {
      "cell_type": "markdown",
      "source": [
        "Let's implement a custom Dataset class.\n"
      ],
      "metadata": {
        "id": "wsCylxtDcJ0h"
      }
    },
    {
      "cell_type": "code",
      "source": [
        "class ParkinsonData(Dataset):\n",
        "    def __init__(self, X, y):\n",
        "        self.n_samples = X.shape[0]\n",
        "        # convert DataFrame to numpy array\n",
        "        y = y.to_numpy()\n",
        "        # convert numpy to tensor\n",
        "        self.x_data = torch.from_numpy(X.astype(np.float32)) # size [n_samples, n_features]\n",
        "        self.y_data = torch.from_numpy(y.astype(np.float32)) # size [n_samples, 1]\n",
        "\n",
        "    # support indexing such that dataset[i] can be used to get i-th sample\n",
        "    def __getitem__(self, index):\n",
        "        return self.x_data[index], self.y_data[index]\n",
        "\n",
        "    # we can call len(dataset) to return the size\n",
        "    def __len__(self):\n",
        "        return self.n_samples"
      ],
      "metadata": {
        "id": "Y3UI1cw95r1A"
      },
      "execution_count": null,
      "outputs": []
    },
    {
      "cell_type": "markdown",
      "source": [
        "Let's pass standarization X_train, X_test, y_train and y_test from EDA part."
      ],
      "metadata": {
        "id": "Sstbnq85dPjv"
      }
    },
    {
      "cell_type": "code",
      "source": [
        "# Create data\n",
        "train_data = ParkinsonData(X_train, y_train)\n",
        "test_data = ParkinsonData(X_test, y_test)"
      ],
      "metadata": {
        "id": "9_2yDbU0c2ke"
      },
      "execution_count": null,
      "outputs": []
    },
    {
      "cell_type": "code",
      "source": [
        "# get first sample of train data\n",
        "x_sample, y_sample = train_data[0]\n",
        "print(f'10 first element of x_sample : \\n{x_sample[:10]} \\nand y_sample : \\n{y_sample}')\n",
        "print(f'x_sample shape : {x_sample.shape} and y_sample shape : {y_sample}')"
      ],
      "metadata": {
        "colab": {
          "base_uri": "https://localhost:8080/"
        },
        "id": "fDaJ23oJdrHN",
        "outputId": "3003fdb1-cb94-4632-8493-bd8280aa46ae"
      },
      "execution_count": null,
      "outputs": [
        {
          "output_type": "stream",
          "name": "stdout",
          "text": [
            "10 first element of x_sample : \n",
            "tensor([-1.0406,  0.6072, -2.0755, -0.7252,  1.8524,  1.8516, -1.3943, -0.4869,\n",
            "        -0.6329, -0.6138]) \n",
            "and y_sample : \n",
            "tensor([1.])\n",
            "x_sample shape : torch.Size([753]) and y_sample shape : tensor([1.])\n"
          ]
        }
      ]
    },
    {
      "cell_type": "markdown",
      "source": [
        "Let's create dataloders."
      ],
      "metadata": {
        "id": "CkiGtlDte3lK"
      }
    },
    {
      "cell_type": "code",
      "source": [
        "# set parameters\n",
        "BATCH_SIZE=10\n",
        "input_size = X.shape[1]\n",
        "hidden_size = 50\n",
        "output_size = 1\n",
        "num_epoch = 2\n",
        "learning_rate = 0.01"
      ],
      "metadata": {
        "id": "PhHJ2bk7h9f-"
      },
      "execution_count": null,
      "outputs": []
    },
    {
      "cell_type": "code",
      "source": [
        "# Create dataloaders\n",
        "train_loader = torch.utils.data.DataLoader(dataset = train_data, batch_size = BATCH_SIZE, shuffle = False) # \n",
        "test_loader = torch.utils.data.DataLoader(dataset = test_data, batch_size = BATCH_SIZE, shuffle = False)\n",
        "\n",
        "print(f'length of train data is : {len(train_data)} and length of train loader is : {len(train_loader)}')\n",
        "print(f'length of test data is : {len(test_data)} and length of test loader is : {len(test_loader)}')"
      ],
      "metadata": {
        "id": "tRPwoc0aejz_",
        "colab": {
          "base_uri": "https://localhost:8080/"
        },
        "outputId": "732273fe-fb79-4d8a-e3cf-6acf7cc2504d"
      },
      "execution_count": null,
      "outputs": [
        {
          "output_type": "stream",
          "name": "stdout",
          "text": [
            "length of train data is : 604 and length of train loader is : 61\n",
            "length of test data is : 152 and length of test loader is : 16\n"
          ]
        }
      ]
    },
    {
      "cell_type": "code",
      "source": [
        "# get an example of train loader\n",
        "example= iter(train_loader)\n",
        "\n",
        "# unpack example\n",
        "sample_x,sample_y = example.next()\n",
        "print(f'samples shape : {sample_x.shape} ,labels shape : {sample_y.shape}')"
      ],
      "metadata": {
        "colab": {
          "base_uri": "https://localhost:8080/"
        },
        "id": "vwuQ0m8miOZD",
        "outputId": "24072a3f-5411-4807-b6f8-fb7d7fedae88"
      },
      "execution_count": null,
      "outputs": [
        {
          "output_type": "stream",
          "name": "stdout",
          "text": [
            "samples shape : torch.Size([10, 753]) ,labels shape : torch.Size([10, 1])\n"
          ]
        }
      ]
    },
    {
      "cell_type": "markdown",
      "source": [
        "Let's create a class for our neural network."
      ],
      "metadata": {
        "id": "fTZvT7Lc2IUV"
      }
    },
    {
      "cell_type": "code",
      "source": [
        "# create neural network class\n",
        "class NeuralNet(nn.Module):\n",
        "  def __init__(self, input_size, hidden_size, num_classes):\n",
        "    super(NeuralNet, self).__init__()\n",
        "    self.l1 = nn.Linear(input_size, hidden_size)\n",
        "    self.relu = nn.ReLU()\n",
        "    self.l2 = nn.Linear(hidden_size,num_classes)\n",
        "    self.sigmoid = nn.Sigmoid()\n",
        "  \n",
        "  def forward(self,x):\n",
        "    out = self.l1(x)\n",
        "    out = self.relu(out)\n",
        "    out = self.l2(out)\n",
        "    out = self.sigmoid(out)\n",
        "    return out"
      ],
      "metadata": {
        "id": "_E1tMOPhia0H"
      },
      "execution_count": null,
      "outputs": []
    },
    {
      "cell_type": "code",
      "source": [
        "device = torch.device('cuda' if torch.cuda.is_available() else 'cpu')\n",
        "device"
      ],
      "metadata": {
        "colab": {
          "base_uri": "https://localhost:8080/"
        },
        "id": "JngjvfS4wiOq",
        "outputId": "56ddb3ba-24cb-4fae-d10b-d383d047d15f"
      },
      "execution_count": null,
      "outputs": [
        {
          "output_type": "execute_result",
          "data": {
            "text/plain": [
              "device(type='cpu')"
            ]
          },
          "metadata": {},
          "execution_count": 17
        }
      ]
    },
    {
      "cell_type": "code",
      "source": [
        "from torch.utils.tensorboard import SummaryWriter\n",
        "writer = SummaryWriter('parkinson')"
      ],
      "metadata": {
        "id": "CayVhRrW4K2-"
      },
      "execution_count": null,
      "outputs": []
    },
    {
      "cell_type": "code",
      "source": [
        "# %reload_ext tensorboard\n",
        "# %tensorboard --logdir 'parkinson'"
      ],
      "metadata": {
        "id": "Ydp2suA84OQj"
      },
      "execution_count": null,
      "outputs": []
    },
    {
      "cell_type": "code",
      "source": [
        "# define a function to calculate accuracy\n",
        "def accuracy(y_pred, y_act):\n",
        "  y_pred = torch.round(y_pred)\n",
        "  correct = (y_pred == y_act)\n",
        "  acc = correct.sum()/len(correct)\n",
        "  acc = torch.round(acc*100)\n",
        "  return acc\n",
        "\n",
        "# define a function for training a model\n",
        "def train_fun(model1, train_loader):\n",
        "  train_epoch_loss = 0\n",
        "  train_epoch_acc = 0\n",
        "  model1.train() # train the model\n",
        "  loop = tqdm(enumerate(train_loader), total = total_step, leave = False)\n",
        "\n",
        "  for i, batch in loop:\n",
        "    optimizer.zero_grad()\n",
        "    x, y = batch # retrieve x and y\n",
        "    x = x.to(device)\n",
        "    y = y.to(device)\n",
        "    y_pred = model1(x)\n",
        "    loss_train = criterion(y_pred, y)\n",
        "    acc_train = accuracy(y_pred, y)\n",
        "    loss_train.backward()\n",
        "    optimizer.step()\n",
        "\n",
        "    train_epoch_loss += loss_train.item()\n",
        "    train_epoch_acc += acc_train.item()\n",
        "    loop.set_description(f'Epoch : [{epoch}/{num_epoch}]')\n",
        "    loop.set_postfix(loss = loss_train.item(), accuracy = acc_train.item()) \n",
        "  \n",
        "  train_loss.append(train_epoch_loss/len(train_loader))\n",
        "  train_acc.append(train_epoch_acc/len(train_loader))  \n",
        "      \n",
        "  # if you want to monitor your model in tensorboard   \n",
        "  writer.add_scalar('training loss',train_epoch_loss/len(train_loader) , epoch)\n",
        "  writer.add_scalar('training accuracy',train_epoch_acc/len(train_loader) , epoch)\n",
        "  return train_loss, train_acc\n",
        "\n",
        "# define a function for evaluating model\n",
        "def evaluate(model1, valid_loader):\n",
        "  with torch.no_grad():\n",
        "    model1.eval()\n",
        "    val_epoch_loss = 0\n",
        "    val_epoch_acc = 0\n",
        "\n",
        "    for batch in valid_loader:\n",
        "      x, y = batch\n",
        "      x = x.to(device)\n",
        "      y = y.to(device)\n",
        "      y_pred_val = model1(x)\n",
        "      loss_valid = criterion(y_pred_val, y)\n",
        "      acc_valid = accuracy(y_pred_val, y) \n",
        "      val_epoch_loss += loss_valid.item()\n",
        "      val_epoch_acc += acc_valid.item()\n",
        "\n",
        "    valid_loss.append(val_epoch_loss/len(valid_loader))\n",
        "    valid_acc.append(val_epoch_acc/len(valid_loader))  \n",
        "\n",
        "    writer.add_scalar('validation loss',val_epoch_loss/len(valid_loader) , epoch)\n",
        "    writer.add_scalar('validation accuracy',val_epoch_acc/len(valid_loader) , epoch)\n",
        "  return valid_loss, valid_acc"
      ],
      "metadata": {
        "id": "kKjArgrtnOW7"
      },
      "execution_count": null,
      "outputs": []
    },
    {
      "cell_type": "code",
      "source": [
        "fold = StratifiedKFold(5) # shuffle false because we shuffled data in splitting train and test section\n",
        "cv_scores = {'Accuracy' : []}\n",
        "\n",
        "for fold, (train_ids, valid_ids) in enumerate(fold.split(X_train, y_train)):\n",
        "  # sample elements randomly from a give list of ids, no replacement\n",
        "  train_subsampler = torch.utils.data.SubsetRandomSampler(train_ids)\n",
        "  valid_subsampler = torch.utils.data.SubsetRandomSampler(valid_ids)\n",
        "\n",
        "  # create dataloader for train and valid data in this fold\n",
        "  trainloader = torch.utils.data.DataLoader(train_data, batch_size=BATCH_SIZE, sampler=train_subsampler)\n",
        "  validloader = torch.utils.data.DataLoader(train_data, batch_size=BATCH_SIZE, sampler=valid_subsampler)\n",
        "\n",
        "  model = NeuralNet(input_size, hidden_size, output_size)\n",
        "  optimizer = torch.optim.Adam(model.parameters(), lr= learning_rate)\n",
        "  criterion = nn.BCELoss()\n",
        "  scheduler = lr_scheduler.StepLR(optimizer, 2, gamma=0.7)\n",
        "\n",
        "  total_step = len(trainloader)\n",
        "  train_loss, valid_loss = [], []\n",
        "  train_acc, valid_acc = [], []\n",
        "\n",
        "  for epoch in range(num_epoch):\n",
        "    train_loss, train_acc = train_fun(model, trainloader)\n",
        "    writer.flush() \n",
        "    valid_loss, valid_acc = evaluate(model, validloader)   \n",
        "    print(f'fold {fold} => train acc : {train_acc[-1]:0.2f}| train loss : {train_loss[-1]:0.2f}| valid acc : {valid_acc[-1]:0.2f}| valid loss : {valid_loss[-1]:0.2f}')\n",
        "    scheduler.step()\n",
        "\n",
        "  cv_scores['Accuracy'].append(valid_acc[-1])\n"
      ],
      "metadata": {
        "colab": {
          "base_uri": "https://localhost:8080/"
        },
        "id": "zID0ihG7kO6X",
        "outputId": "e606136c-720a-4d1d-f90e-a235f6bfcfb0"
      },
      "execution_count": null,
      "outputs": [
        {
          "output_type": "stream",
          "name": "stderr",
          "text": [
            ""
          ]
        },
        {
          "output_type": "stream",
          "name": "stdout",
          "text": [
            "fold 0 => train acc : 78.92| train loss : 0.55| valid acc : 90.00| valid loss : 0.33\n"
          ]
        },
        {
          "output_type": "stream",
          "name": "stderr",
          "text": [
            ""
          ]
        },
        {
          "output_type": "stream",
          "name": "stdout",
          "text": [
            "fold 0 => train acc : 88.51| train loss : 0.25| valid acc : 82.31| valid loss : 0.35\n"
          ]
        },
        {
          "output_type": "stream",
          "name": "stderr",
          "text": [
            ""
          ]
        },
        {
          "output_type": "stream",
          "name": "stdout",
          "text": [
            "fold 1 => train acc : 82.24| train loss : 0.66| valid acc : 78.46| valid loss : 0.54\n"
          ]
        },
        {
          "output_type": "stream",
          "name": "stderr",
          "text": [
            ""
          ]
        },
        {
          "output_type": "stream",
          "name": "stdout",
          "text": [
            "fold 1 => train acc : 90.00| train loss : 0.23| valid acc : 74.62| valid loss : 0.55\n"
          ]
        },
        {
          "output_type": "stream",
          "name": "stderr",
          "text": [
            ""
          ]
        },
        {
          "output_type": "stream",
          "name": "stdout",
          "text": [
            "fold 2 => train acc : 78.57| train loss : 0.49| valid acc : 86.15| valid loss : 0.34\n"
          ]
        },
        {
          "output_type": "stream",
          "name": "stderr",
          "text": [
            ""
          ]
        },
        {
          "output_type": "stream",
          "name": "stdout",
          "text": [
            "fold 2 => train acc : 89.24| train loss : 0.24| valid acc : 82.31| valid loss : 0.39\n"
          ]
        },
        {
          "output_type": "stream",
          "name": "stderr",
          "text": [
            ""
          ]
        },
        {
          "output_type": "stream",
          "name": "stdout",
          "text": [
            "fold 3 => train acc : 83.67| train loss : 0.44| valid acc : 82.31| valid loss : 0.55\n"
          ]
        },
        {
          "output_type": "stream",
          "name": "stderr",
          "text": [
            ""
          ]
        },
        {
          "output_type": "stream",
          "name": "stdout",
          "text": [
            "fold 3 => train acc : 90.82| train loss : 0.44| valid acc : 76.15| valid loss : 0.72\n"
          ]
        },
        {
          "output_type": "stream",
          "name": "stderr",
          "text": [
            ""
          ]
        },
        {
          "output_type": "stream",
          "name": "stdout",
          "text": [
            "fold 4 => train acc : 79.49| train loss : 0.50| valid acc : 81.67| valid loss : 0.55\n"
          ]
        },
        {
          "output_type": "stream",
          "name": "stderr",
          "text": [
            ""
          ]
        },
        {
          "output_type": "stream",
          "name": "stdout",
          "text": [
            "fold 4 => train acc : 91.33| train loss : 0.20| valid acc : 83.33| valid loss : 0.71\n"
          ]
        }
      ]
    },
    {
      "cell_type": "code",
      "source": [
        "mean_cv_scores = {k: np.mean(v) for k, v in cv_scores.items()}  \n",
        "print(f\"mean accuracy using 5 foldCV : {mean_cv_scores['Accuracy']:0.2f}\")"
      ],
      "metadata": {
        "colab": {
          "base_uri": "https://localhost:8080/"
        },
        "id": "qHETMCeTvnu8",
        "outputId": "9d497154-6a4c-4108-e777-5069f363138b"
      },
      "execution_count": null,
      "outputs": [
        {
          "output_type": "stream",
          "name": "stdout",
          "text": [
            "mean accuracy using 5 foldCV : 79.74\n"
          ]
        }
      ]
    },
    {
      "cell_type": "markdown",
      "source": [
        "After tune parameters uning kfold cross validation we should train a model with these parameters and test it."
      ],
      "metadata": {
        "id": "Bvn8VvsdDXVc"
      }
    },
    {
      "cell_type": "code",
      "source": [
        "# create model\n",
        "model = NeuralNet(input_size,hidden_size, output_size)\n",
        "\n",
        "# create loss and optimizer\n",
        "criterion = nn.BCELoss()\n",
        "optimizer = torch.optim.Adam(model.parameters(), lr= learning_rate)\n",
        "scheduler = lr_scheduler.StepLR(optimizer, 2, gamma=0.7)\n",
        "total_step = len(train_loader)"
      ],
      "metadata": {
        "id": "gz0YO3HZD0I1"
      },
      "execution_count": null,
      "outputs": []
    },
    {
      "cell_type": "code",
      "source": [
        "model"
      ],
      "metadata": {
        "colab": {
          "base_uri": "https://localhost:8080/"
        },
        "id": "hLzZKyoeEJF5",
        "outputId": "997c2724-9736-4448-df31-516d8e04974d"
      },
      "execution_count": null,
      "outputs": [
        {
          "output_type": "execute_result",
          "data": {
            "text/plain": [
              "NeuralNet(\n",
              "  (l1): Linear(in_features=753, out_features=50, bias=True)\n",
              "  (relu): ReLU()\n",
              "  (l2): Linear(in_features=50, out_features=1, bias=True)\n",
              "  (sigmoid): Sigmoid()\n",
              ")"
            ]
          },
          "metadata": {},
          "execution_count": 25
        }
      ]
    },
    {
      "cell_type": "markdown",
      "source": [
        "Let's train our model."
      ],
      "metadata": {
        "id": "PoMQsrvT5PxZ"
      }
    },
    {
      "cell_type": "code",
      "source": [
        "train_loss, train_acc  = [], []\n",
        "\n",
        "for epoch in range(num_epoch):\n",
        "  train_loss, train_acc = train_fun(model, train_loader)\n",
        "  writer.flush()   \n",
        "  scheduler.step()"
      ],
      "metadata": {
        "id": "3Tj67A89-C8a",
        "colab": {
          "base_uri": "https://localhost:8080/"
        },
        "outputId": "ba47a30f-bc44-49a2-f36d-5a76cf90b5a1"
      },
      "execution_count": null,
      "outputs": [
        {
          "output_type": "stream",
          "name": "stderr",
          "text": [
            ""
          ]
        }
      ]
    },
    {
      "cell_type": "code",
      "source": [
        "torch.save(model, '/content/drive/MyDrive/ML_Dr.sajedi/mlp') # model1 with 10 epochs"
      ],
      "metadata": {
        "id": "OYqy6aOQESOc"
      },
      "execution_count": null,
      "outputs": []
    },
    {
      "cell_type": "code",
      "source": [
        "#Training and validation loss\n",
        "plt.plot(train_loss, label='Training loss')\n",
        "# plt.plot(valid_loss, label='Validation loss')\n",
        "plt.legend(frameon=False)\n",
        "plt.xlabel('epoch')\n",
        "plt.ylabel('loss value')\n",
        "plt.title(\"Loss function for each epoch\") \n",
        "plt.show()\n"
      ],
      "metadata": {
        "colab": {
          "base_uri": "https://localhost:8080/",
          "height": 295
        },
        "id": "DikwEQY6FCsA",
        "outputId": "6366c9dd-047f-411b-f173-519233bf36bc"
      },
      "execution_count": null,
      "outputs": [
        {
          "output_type": "display_data",
          "data": {
            "image/png": "[encoded data removed]",
            "text/plain": [
              "<Figure size 432x288 with 1 Axes>"
            ]
          },
          "metadata": {
            "needs_background": "light"
          }
        }
      ]
    },
    {
      "cell_type": "code",
      "source": [
        "#Training and validation accuracy\n",
        "plt.plot(train_acc, label='Training accuracy')\n",
        "# plt.plot(valid_acc, label='Validation accuracy')\n",
        "plt.legend(frameon=False)\n",
        "plt.xlabel('epoch')\n",
        "plt.ylabel('accuracy value')\n",
        "plt.title(\"Accuracy for each epoch\")\n",
        "plt.show()"
      ],
      "metadata": {
        "colab": {
          "base_uri": "https://localhost:8080/",
          "height": 295
        },
        "id": "DQkj-vN2FEpS",
        "outputId": "d72562ea-4eca-4209-ad02-e91fc5c38948"
      },
      "execution_count": null,
      "outputs": [
        {
          "output_type": "display_data",
          "data": {
            "image/png": "[encoded data removed]",
            "text/plain": [
              "<Figure size 432x288 with 1 Axes>"
            ]
          },
          "metadata": {
            "needs_background": "light"
          }
        }
      ]
    },
    {
      "cell_type": "code",
      "source": [
        "print(f'training loss on last epoch : {train_loss[-1]}')\n",
        "# print(f'validation loss on last epoch : {valid_loss[-1]}')\n",
        "print('-'*20)\n",
        "print(f'training accuracy on last epoch : {train_acc[-1]}')\n",
        "# print(f'validation accuracy on last epoch : {valid_acc[-1]}')"
      ],
      "metadata": {
        "colab": {
          "base_uri": "https://localhost:8080/"
        },
        "id": "ZSb16c2WFhdy",
        "outputId": "b47fa14f-2a2f-4672-87aa-a72259642f24"
      },
      "execution_count": null,
      "outputs": [
        {
          "output_type": "stream",
          "name": "stdout",
          "text": [
            "training loss on last epoch : 0.40956653456096764\n",
            "--------------------\n",
            "training accuracy on last epoch : 83.52459016393442\n"
          ]
        }
      ]
    },
    {
      "cell_type": "code",
      "source": [
        "num_class =2\n",
        "classes = ['0', '1']"
      ],
      "metadata": {
        "id": "3eRxPrwrGsnA"
      },
      "execution_count": null,
      "outputs": []
    },
    {
      "cell_type": "code",
      "source": [
        "def test(model1, test_loader):\n",
        "  y_pred_test = []\n",
        "  y_actual_test = []\n",
        "\n",
        "  model1.eval()\n",
        "  with torch.no_grad():\n",
        "    n_true = 0\n",
        "    n_total = 0\n",
        "    n_class_correct = [0 for i in range(num_class)]\n",
        "    n_class_sample = [0 for i in range(num_class)]\n",
        "  \n",
        "    for batch in test_loader:\n",
        "      x, y = batch\n",
        "      output = model1(x)\n",
        "      y_predtest = torch.round(output)\n",
        "      n_true += (y_predtest == y).sum()\n",
        "      n_total += y.size(0)\n",
        "\n",
        "      for i in range(len(y_predtest)):\n",
        "        y_pred_test.append(y_predtest[i])\n",
        "        y_actual_test.append(y[i].item())\n",
        "\n",
        "      for i in range(len(y_predtest)):\n",
        "        lb = int(y[i].item())\n",
        "        pred = y_predtest[i]\n",
        "        if pred == lb:\n",
        "          n_class_correct[lb] += 1\n",
        "        n_class_sample[lb] += 1   \n",
        "\n",
        "    print(f'accuracy of network on the {len(test_loader)} data is : {(n_true/n_total) *100}')\n",
        "  \n",
        "    for i in range(len(classes)):\n",
        "      acc = 100.0 * n_class_correct[i] / n_class_sample[i]\n",
        "      print(f'Accuracy of {classes[i]}: {acc} %')\n",
        "  \n",
        "  return y_pred_test, y_actual_test"
      ],
      "metadata": {
        "id": "BrZAukXHFlMX"
      },
      "execution_count": null,
      "outputs": []
    },
    {
      "cell_type": "code",
      "source": [
        "y_pred_test, y_actual_test = test(model, test_loader)"
      ],
      "metadata": {
        "colab": {
          "base_uri": "https://localhost:8080/"
        },
        "id": "2CiNYoHhHliQ",
        "outputId": "a8f3cdd4-d74f-4e11-ee1b-293313b8f0c5"
      },
      "execution_count": null,
      "outputs": [
        {
          "output_type": "stream",
          "name": "stdout",
          "text": [
            "accuracy of network on the 16 data is : 82.23684692382812\n",
            "Accuracy of 0: 71.7948717948718 %\n",
            "Accuracy of 1: 85.84070796460178 %\n"
          ]
        }
      ]
    },
    {
      "cell_type": "code",
      "source": [
        "confusion_matrix(y_actual_test, y_pred_test)"
      ],
      "metadata": {
        "colab": {
          "base_uri": "https://localhost:8080/",
          "height": 295
        },
        "id": "DDK3z92HHwGT",
        "outputId": "400d4f91-1a88-4491-ca5d-a7dea16a1f51"
      },
      "execution_count": null,
      "outputs": [
        {
          "output_type": "display_data",
          "data": {
            "image/png": "[encoded data removed]",
            "text/plain": [
              "<Figure size 432x288 with 2 Axes>"
            ]
          },
          "metadata": {
            "needs_background": "light"
          }
        }
      ]
    },
    {
      "cell_type": "code",
      "source": [
        "print(classification_report(y_actual_test, y_pred_test))"
      ],
      "metadata": {
        "colab": {
          "base_uri": "https://localhost:8080/"
        },
        "id": "-WS5EKozH54j",
        "outputId": "84625193-6d76-4e2c-8d08-bf7dbf353ce7"
      },
      "execution_count": null,
      "outputs": [
        {
          "output_type": "stream",
          "name": "stdout",
          "text": [
            "              precision    recall  f1-score   support\n",
            "\n",
            "         0.0       0.64      0.72      0.67        39\n",
            "         1.0       0.90      0.86      0.88       113\n",
            "\n",
            "    accuracy                           0.82       152\n",
            "   macro avg       0.77      0.79      0.78       152\n",
            "weighted avg       0.83      0.82      0.83       152\n",
            "\n"
          ]
        }
      ]
    },
    {
      "cell_type": "markdown",
      "source": [
        "## Autoencoder"
      ],
      "metadata": {
        "id": "-sdp126V_ODK"
      }
    },
    {
      "cell_type": "code",
      "source": [
        ""
      ],
      "metadata": {
        "id": "Wc2ISXVHH_pN"
      },
      "execution_count": null,
      "outputs": []
    }
  ]
}