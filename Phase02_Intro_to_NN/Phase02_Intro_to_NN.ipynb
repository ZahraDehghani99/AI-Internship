{
  "nbformat": 4,
  "nbformat_minor": 0,
  "metadata": {
    "colab": {
      "name": "Phase02-Intro to NN.ipynb",
      "provenance": [],
      "collapsed_sections": [],
      "toc_visible": true
    },
    "kernelspec": {
      "name": "python3",
      "display_name": "Python 3"
    },
    "language_info": {
      "name": "python"
    },
    "widgets": {
      "application/vnd.jupyter.widget-state+json": {
        "5ffd1cdc2ee04408be00083b91e69436": {
          "model_module": "@jupyter-widgets/controls",
          "model_name": "HBoxModel",
          "state": {
            "_view_name": "HBoxView",
            "_dom_classes": [],
            "_model_name": "HBoxModel",
            "_view_module": "@jupyter-widgets/controls",
            "_model_module_version": "1.5.0",
            "_view_count": null,
            "_view_module_version": "1.5.0",
            "box_style": "",
            "layout": "IPY_MODEL_54b5edaeb64b4fe79c7491e85de9cced",
            "_model_module": "@jupyter-widgets/controls",
            "children": [
              "IPY_MODEL_2909a409ec6e4729995c9bf73078c8ba",
              "IPY_MODEL_5ec9b045b01d4b639f1d9d18f5bebb85"
            ]
          }
        },
        "54b5edaeb64b4fe79c7491e85de9cced": {
          "model_module": "@jupyter-widgets/base",
          "model_name": "LayoutModel",
          "state": {
            "_view_name": "LayoutView",
            "grid_template_rows": null,
            "right": null,
            "justify_content": null,
            "_view_module": "@jupyter-widgets/base",
            "overflow": null,
            "_model_module_version": "1.2.0",
            "_view_count": null,
            "flex_flow": null,
            "width": null,
            "min_width": null,
            "border": null,
            "align_items": null,
            "bottom": null,
            "_model_module": "@jupyter-widgets/base",
            "top": null,
            "grid_column": null,
            "overflow_y": null,
            "overflow_x": null,
            "grid_auto_flow": null,
            "grid_area": null,
            "grid_template_columns": null,
            "flex": null,
            "_model_name": "LayoutModel",
            "justify_items": null,
            "grid_row": null,
            "max_height": null,
            "align_content": null,
            "visibility": null,
            "align_self": null,
            "height": null,
            "min_height": null,
            "padding": null,
            "grid_auto_rows": null,
            "grid_gap": null,
            "max_width": null,
            "order": null,
            "_view_module_version": "1.2.0",
            "grid_template_areas": null,
            "object_position": null,
            "object_fit": null,
            "grid_auto_columns": null,
            "margin": null,
            "display": null,
            "left": null
          }
        },
        "2909a409ec6e4729995c9bf73078c8ba": {
          "model_module": "@jupyter-widgets/controls",
          "model_name": "FloatProgressModel",
          "state": {
            "_view_name": "ProgressView",
            "style": "IPY_MODEL_33b3e96c9d63495c8959ebec61e60439",
            "_dom_classes": [],
            "description": "",
            "_model_name": "FloatProgressModel",
            "bar_style": "success",
            "max": 9912422,
            "_view_module": "@jupyter-widgets/controls",
            "_model_module_version": "1.5.0",
            "value": 9912422,
            "_view_count": null,
            "_view_module_version": "1.5.0",
            "orientation": "horizontal",
            "min": 0,
            "description_tooltip": null,
            "_model_module": "@jupyter-widgets/controls",
            "layout": "IPY_MODEL_e978aa888f884c7dbfdd75a911b2ceeb"
          }
        },
        "5ec9b045b01d4b639f1d9d18f5bebb85": {
          "model_module": "@jupyter-widgets/controls",
          "model_name": "HTMLModel",
          "state": {
            "_view_name": "HTMLView",
            "style": "IPY_MODEL_d77f5797b5404229930d8f2135bc7197",
            "_dom_classes": [],
            "description": "",
            "_model_name": "HTMLModel",
            "placeholder": "​",
            "_view_module": "@jupyter-widgets/controls",
            "_model_module_version": "1.5.0",
            "value": " 9913344/? [1:16:24&lt;00:00, 2162.43it/s]",
            "_view_count": null,
            "_view_module_version": "1.5.0",
            "description_tooltip": null,
            "_model_module": "@jupyter-widgets/controls",
            "layout": "IPY_MODEL_70f3e3920c8e4732b5480cce5130ea7e"
          }
        },
        "33b3e96c9d63495c8959ebec61e60439": {
          "model_module": "@jupyter-widgets/controls",
          "model_name": "ProgressStyleModel",
          "state": {
            "_view_name": "StyleView",
            "_model_name": "ProgressStyleModel",
            "description_width": "initial",
            "_view_module": "@jupyter-widgets/base",
            "_model_module_version": "1.5.0",
            "_view_count": null,
            "_view_module_version": "1.2.0",
            "bar_color": null,
            "_model_module": "@jupyter-widgets/controls"
          }
        },
        "e978aa888f884c7dbfdd75a911b2ceeb": {
          "model_module": "@jupyter-widgets/base",
          "model_name": "LayoutModel",
          "state": {
            "_view_name": "LayoutView",
            "grid_template_rows": null,
            "right": null,
            "justify_content": null,
            "_view_module": "@jupyter-widgets/base",
            "overflow": null,
            "_model_module_version": "1.2.0",
            "_view_count": null,
            "flex_flow": null,
            "width": null,
            "min_width": null,
            "border": null,
            "align_items": null,
            "bottom": null,
            "_model_module": "@jupyter-widgets/base",
            "top": null,
            "grid_column": null,
            "overflow_y": null,
            "overflow_x": null,
            "grid_auto_flow": null,
            "grid_area": null,
            "grid_template_columns": null,
            "flex": null,
            "_model_name": "LayoutModel",
            "justify_items": null,
            "grid_row": null,
            "max_height": null,
            "align_content": null,
            "visibility": null,
            "align_self": null,
            "height": null,
            "min_height": null,
            "padding": null,
            "grid_auto_rows": null,
            "grid_gap": null,
            "max_width": null,
            "order": null,
            "_view_module_version": "1.2.0",
            "grid_template_areas": null,
            "object_position": null,
            "object_fit": null,
            "grid_auto_columns": null,
            "margin": null,
            "display": null,
            "left": null
          }
        },
        "d77f5797b5404229930d8f2135bc7197": {
          "model_module": "@jupyter-widgets/controls",
          "model_name": "DescriptionStyleModel",
          "state": {
            "_view_name": "StyleView",
            "_model_name": "DescriptionStyleModel",
            "description_width": "",
            "_view_module": "@jupyter-widgets/base",
            "_model_module_version": "1.5.0",
            "_view_count": null,
            "_view_module_version": "1.2.0",
            "_model_module": "@jupyter-widgets/controls"
          }
        },
        "70f3e3920c8e4732b5480cce5130ea7e": {
          "model_module": "@jupyter-widgets/base",
          "model_name": "LayoutModel",
          "state": {
            "_view_name": "LayoutView",
            "grid_template_rows": null,
            "right": null,
            "justify_content": null,
            "_view_module": "@jupyter-widgets/base",
            "overflow": null,
            "_model_module_version": "1.2.0",
            "_view_count": null,
            "flex_flow": null,
            "width": null,
            "min_width": null,
            "border": null,
            "align_items": null,
            "bottom": null,
            "_model_module": "@jupyter-widgets/base",
            "top": null,
            "grid_column": null,
            "overflow_y": null,
            "overflow_x": null,
            "grid_auto_flow": null,
            "grid_area": null,
            "grid_template_columns": null,
            "flex": null,
            "_model_name": "LayoutModel",
            "justify_items": null,
            "grid_row": null,
            "max_height": null,
            "align_content": null,
            "visibility": null,
            "align_self": null,
            "height": null,
            "min_height": null,
            "padding": null,
            "grid_auto_rows": null,
            "grid_gap": null,
            "max_width": null,
            "order": null,
            "_view_module_version": "1.2.0",
            "grid_template_areas": null,
            "object_position": null,
            "object_fit": null,
            "grid_auto_columns": null,
            "margin": null,
            "display": null,
            "left": null
          }
        },
        "c9c81daa6ded4181bf0329a24a634aec": {
          "model_module": "@jupyter-widgets/controls",
          "model_name": "HBoxModel",
          "state": {
            "_view_name": "HBoxView",
            "_dom_classes": [],
            "_model_name": "HBoxModel",
            "_view_module": "@jupyter-widgets/controls",
            "_model_module_version": "1.5.0",
            "_view_count": null,
            "_view_module_version": "1.5.0",
            "box_style": "",
            "layout": "IPY_MODEL_fd097ce2268d42cd8cf44d6e06c515cd",
            "_model_module": "@jupyter-widgets/controls",
            "children": [
              "IPY_MODEL_763774d274cc4a638e7a7f225b980174",
              "IPY_MODEL_625124b687af4fbbadbb5c753ec8f264"
            ]
          }
        },
        "fd097ce2268d42cd8cf44d6e06c515cd": {
          "model_module": "@jupyter-widgets/base",
          "model_name": "LayoutModel",
          "state": {
            "_view_name": "LayoutView",
            "grid_template_rows": null,
            "right": null,
            "justify_content": null,
            "_view_module": "@jupyter-widgets/base",
            "overflow": null,
            "_model_module_version": "1.2.0",
            "_view_count": null,
            "flex_flow": null,
            "width": null,
            "min_width": null,
            "border": null,
            "align_items": null,
            "bottom": null,
            "_model_module": "@jupyter-widgets/base",
            "top": null,
            "grid_column": null,
            "overflow_y": null,
            "overflow_x": null,
            "grid_auto_flow": null,
            "grid_area": null,
            "grid_template_columns": null,
            "flex": null,
            "_model_name": "LayoutModel",
            "justify_items": null,
            "grid_row": null,
            "max_height": null,
            "align_content": null,
            "visibility": null,
            "align_self": null,
            "height": null,
            "min_height": null,
            "padding": null,
            "grid_auto_rows": null,
            "grid_gap": null,
            "max_width": null,
            "order": null,
            "_view_module_version": "1.2.0",
            "grid_template_areas": null,
            "object_position": null,
            "object_fit": null,
            "grid_auto_columns": null,
            "margin": null,
            "display": null,
            "left": null
          }
        },
        "763774d274cc4a638e7a7f225b980174": {
          "model_module": "@jupyter-widgets/controls",
          "model_name": "FloatProgressModel",
          "state": {
            "_view_name": "ProgressView",
            "style": "IPY_MODEL_a936132b1b9340fd9e8c048872bc3d78",
            "_dom_classes": [],
            "description": "",
            "_model_name": "FloatProgressModel",
            "bar_style": "success",
            "max": 28881,
            "_view_module": "@jupyter-widgets/controls",
            "_model_module_version": "1.5.0",
            "value": 28881,
            "_view_count": null,
            "_view_module_version": "1.5.0",
            "orientation": "horizontal",
            "min": 0,
            "description_tooltip": null,
            "_model_module": "@jupyter-widgets/controls",
            "layout": "IPY_MODEL_bf25a4d5301f4850b22751505a7b115e"
          }
        },
        "625124b687af4fbbadbb5c753ec8f264": {
          "model_module": "@jupyter-widgets/controls",
          "model_name": "HTMLModel",
          "state": {
            "_view_name": "HTMLView",
            "style": "IPY_MODEL_ed17a622cc7143ae8b0d0f5bb3d9e34f",
            "_dom_classes": [],
            "description": "",
            "_model_name": "HTMLModel",
            "placeholder": "​",
            "_view_module": "@jupyter-widgets/controls",
            "_model_module_version": "1.5.0",
            "value": " 29696/? [00:03&lt;00:00, 7832.72it/s]",
            "_view_count": null,
            "_view_module_version": "1.5.0",
            "description_tooltip": null,
            "_model_module": "@jupyter-widgets/controls",
            "layout": "IPY_MODEL_9d66eb991aa24541943f7a38cddbf5d0"
          }
        },
        "a936132b1b9340fd9e8c048872bc3d78": {
          "model_module": "@jupyter-widgets/controls",
          "model_name": "ProgressStyleModel",
          "state": {
            "_view_name": "StyleView",
            "_model_name": "ProgressStyleModel",
            "description_width": "initial",
            "_view_module": "@jupyter-widgets/base",
            "_model_module_version": "1.5.0",
            "_view_count": null,
            "_view_module_version": "1.2.0",
            "bar_color": null,
            "_model_module": "@jupyter-widgets/controls"
          }
        },
        "bf25a4d5301f4850b22751505a7b115e": {
          "model_module": "@jupyter-widgets/base",
          "model_name": "LayoutModel",
          "state": {
            "_view_name": "LayoutView",
            "grid_template_rows": null,
            "right": null,
            "justify_content": null,
            "_view_module": "@jupyter-widgets/base",
            "overflow": null,
            "_model_module_version": "1.2.0",
            "_view_count": null,
            "flex_flow": null,
            "width": null,
            "min_width": null,
            "border": null,
            "align_items": null,
            "bottom": null,
            "_model_module": "@jupyter-widgets/base",
            "top": null,
            "grid_column": null,
            "overflow_y": null,
            "overflow_x": null,
            "grid_auto_flow": null,
            "grid_area": null,
            "grid_template_columns": null,
            "flex": null,
            "_model_name": "LayoutModel",
            "justify_items": null,
            "grid_row": null,
            "max_height": null,
            "align_content": null,
            "visibility": null,
            "align_self": null,
            "height": null,
            "min_height": null,
            "padding": null,
            "grid_auto_rows": null,
            "grid_gap": null,
            "max_width": null,
            "order": null,
            "_view_module_version": "1.2.0",
            "grid_template_areas": null,
            "object_position": null,
            "object_fit": null,
            "grid_auto_columns": null,
            "margin": null,
            "display": null,
            "left": null
          }
        },
        "ed17a622cc7143ae8b0d0f5bb3d9e34f": {
          "model_module": "@jupyter-widgets/controls",
          "model_name": "DescriptionStyleModel",
          "state": {
            "_view_name": "StyleView",
            "_model_name": "DescriptionStyleModel",
            "description_width": "",
            "_view_module": "@jupyter-widgets/base",
            "_model_module_version": "1.5.0",
            "_view_count": null,
            "_view_module_version": "1.2.0",
            "_model_module": "@jupyter-widgets/controls"
          }
        },
        "9d66eb991aa24541943f7a38cddbf5d0": {
          "model_module": "@jupyter-widgets/base",
          "model_name": "LayoutModel",
          "state": {
            "_view_name": "LayoutView",
            "grid_template_rows": null,
            "right": null,
            "justify_content": null,
            "_view_module": "@jupyter-widgets/base",
            "overflow": null,
            "_model_module_version": "1.2.0",
            "_view_count": null,
            "flex_flow": null,
            "width": null,
            "min_width": null,
            "border": null,
            "align_items": null,
            "bottom": null,
            "_model_module": "@jupyter-widgets/base",
            "top": null,
            "grid_column": null,
            "overflow_y": null,
            "overflow_x": null,
            "grid_auto_flow": null,
            "grid_area": null,
            "grid_template_columns": null,
            "flex": null,
            "_model_name": "LayoutModel",
            "justify_items": null,
            "grid_row": null,
            "max_height": null,
            "align_content": null,
            "visibility": null,
            "align_self": null,
            "height": null,
            "min_height": null,
            "padding": null,
            "grid_auto_rows": null,
            "grid_gap": null,
            "max_width": null,
            "order": null,
            "_view_module_version": "1.2.0",
            "grid_template_areas": null,
            "object_position": null,
            "object_fit": null,
            "grid_auto_columns": null,
            "margin": null,
            "display": null,
            "left": null
          }
        },
        "9131cc53c97849aebc72a11a49858783": {
          "model_module": "@jupyter-widgets/controls",
          "model_name": "HBoxModel",
          "state": {
            "_view_name": "HBoxView",
            "_dom_classes": [],
            "_model_name": "HBoxModel",
            "_view_module": "@jupyter-widgets/controls",
            "_model_module_version": "1.5.0",
            "_view_count": null,
            "_view_module_version": "1.5.0",
            "box_style": "",
            "layout": "IPY_MODEL_be68ad324e724f35b366dd8a150b9c50",
            "_model_module": "@jupyter-widgets/controls",
            "children": [
              "IPY_MODEL_96ed5d3395ba4f758cf1c167c72603b8",
              "IPY_MODEL_557d7d7fe65b4a74a975c64e3f2b2d78"
            ]
          }
        },
        "be68ad324e724f35b366dd8a150b9c50": {
          "model_module": "@jupyter-widgets/base",
          "model_name": "LayoutModel",
          "state": {
            "_view_name": "LayoutView",
            "grid_template_rows": null,
            "right": null,
            "justify_content": null,
            "_view_module": "@jupyter-widgets/base",
            "overflow": null,
            "_model_module_version": "1.2.0",
            "_view_count": null,
            "flex_flow": null,
            "width": null,
            "min_width": null,
            "border": null,
            "align_items": null,
            "bottom": null,
            "_model_module": "@jupyter-widgets/base",
            "top": null,
            "grid_column": null,
            "overflow_y": null,
            "overflow_x": null,
            "grid_auto_flow": null,
            "grid_area": null,
            "grid_template_columns": null,
            "flex": null,
            "_model_name": "LayoutModel",
            "justify_items": null,
            "grid_row": null,
            "max_height": null,
            "align_content": null,
            "visibility": null,
            "align_self": null,
            "height": null,
            "min_height": null,
            "padding": null,
            "grid_auto_rows": null,
            "grid_gap": null,
            "max_width": null,
            "order": null,
            "_view_module_version": "1.2.0",
            "grid_template_areas": null,
            "object_position": null,
            "object_fit": null,
            "grid_auto_columns": null,
            "margin": null,
            "display": null,
            "left": null
          }
        },
        "96ed5d3395ba4f758cf1c167c72603b8": {
          "model_module": "@jupyter-widgets/controls",
          "model_name": "FloatProgressModel",
          "state": {
            "_view_name": "ProgressView",
            "style": "IPY_MODEL_53e508d47ccd4987b138a9a3301ed578",
            "_dom_classes": [],
            "description": "",
            "_model_name": "FloatProgressModel",
            "bar_style": "success",
            "max": 1648877,
            "_view_module": "@jupyter-widgets/controls",
            "_model_module_version": "1.5.0",
            "value": 1648877,
            "_view_count": null,
            "_view_module_version": "1.5.0",
            "orientation": "horizontal",
            "min": 0,
            "description_tooltip": null,
            "_model_module": "@jupyter-widgets/controls",
            "layout": "IPY_MODEL_f303ee7588cf4d9ca46077756a2dbb02"
          }
        },
        "557d7d7fe65b4a74a975c64e3f2b2d78": {
          "model_module": "@jupyter-widgets/controls",
          "model_name": "HTMLModel",
          "state": {
            "_view_name": "HTMLView",
            "style": "IPY_MODEL_90b518c60e4042228a6cd0438f41f621",
            "_dom_classes": [],
            "description": "",
            "_model_name": "HTMLModel",
            "placeholder": "​",
            "_view_module": "@jupyter-widgets/controls",
            "_model_module_version": "1.5.0",
            "value": " 1649664/? [00:03&lt;00:00, 466573.64it/s]",
            "_view_count": null,
            "_view_module_version": "1.5.0",
            "description_tooltip": null,
            "_model_module": "@jupyter-widgets/controls",
            "layout": "IPY_MODEL_1fc3eb26255548228a5821ede77fd5a5"
          }
        },
        "53e508d47ccd4987b138a9a3301ed578": {
          "model_module": "@jupyter-widgets/controls",
          "model_name": "ProgressStyleModel",
          "state": {
            "_view_name": "StyleView",
            "_model_name": "ProgressStyleModel",
            "description_width": "initial",
            "_view_module": "@jupyter-widgets/base",
            "_model_module_version": "1.5.0",
            "_view_count": null,
            "_view_module_version": "1.2.0",
            "bar_color": null,
            "_model_module": "@jupyter-widgets/controls"
          }
        },
        "f303ee7588cf4d9ca46077756a2dbb02": {
          "model_module": "@jupyter-widgets/base",
          "model_name": "LayoutModel",
          "state": {
            "_view_name": "LayoutView",
            "grid_template_rows": null,
            "right": null,
            "justify_content": null,
            "_view_module": "@jupyter-widgets/base",
            "overflow": null,
            "_model_module_version": "1.2.0",
            "_view_count": null,
            "flex_flow": null,
            "width": null,
            "min_width": null,
            "border": null,
            "align_items": null,
            "bottom": null,
            "_model_module": "@jupyter-widgets/base",
            "top": null,
            "grid_column": null,
            "overflow_y": null,
            "overflow_x": null,
            "grid_auto_flow": null,
            "grid_area": null,
            "grid_template_columns": null,
            "flex": null,
            "_model_name": "LayoutModel",
            "justify_items": null,
            "grid_row": null,
            "max_height": null,
            "align_content": null,
            "visibility": null,
            "align_self": null,
            "height": null,
            "min_height": null,
            "padding": null,
            "grid_auto_rows": null,
            "grid_gap": null,
            "max_width": null,
            "order": null,
            "_view_module_version": "1.2.0",
            "grid_template_areas": null,
            "object_position": null,
            "object_fit": null,
            "grid_auto_columns": null,
            "margin": null,
            "display": null,
            "left": null
          }
        },
        "90b518c60e4042228a6cd0438f41f621": {
          "model_module": "@jupyter-widgets/controls",
          "model_name": "DescriptionStyleModel",
          "state": {
            "_view_name": "StyleView",
            "_model_name": "DescriptionStyleModel",
            "description_width": "",
            "_view_module": "@jupyter-widgets/base",
            "_model_module_version": "1.5.0",
            "_view_count": null,
            "_view_module_version": "1.2.0",
            "_model_module": "@jupyter-widgets/controls"
          }
        },
        "1fc3eb26255548228a5821ede77fd5a5": {
          "model_module": "@jupyter-widgets/base",
          "model_name": "LayoutModel",
          "state": {
            "_view_name": "LayoutView",
            "grid_template_rows": null,
            "right": null,
            "justify_content": null,
            "_view_module": "@jupyter-widgets/base",
            "overflow": null,
            "_model_module_version": "1.2.0",
            "_view_count": null,
            "flex_flow": null,
            "width": null,
            "min_width": null,
            "border": null,
            "align_items": null,
            "bottom": null,
            "_model_module": "@jupyter-widgets/base",
            "top": null,
            "grid_column": null,
            "overflow_y": null,
            "overflow_x": null,
            "grid_auto_flow": null,
            "grid_area": null,
            "grid_template_columns": null,
            "flex": null,
            "_model_name": "LayoutModel",
            "justify_items": null,
            "grid_row": null,
            "max_height": null,
            "align_content": null,
            "visibility": null,
            "align_self": null,
            "height": null,
            "min_height": null,
            "padding": null,
            "grid_auto_rows": null,
            "grid_gap": null,
            "max_width": null,
            "order": null,
            "_view_module_version": "1.2.0",
            "grid_template_areas": null,
            "object_position": null,
            "object_fit": null,
            "grid_auto_columns": null,
            "margin": null,
            "display": null,
            "left": null
          }
        },
        "488fb2713afc438d9bf5769883bc041b": {
          "model_module": "@jupyter-widgets/controls",
          "model_name": "HBoxModel",
          "state": {
            "_view_name": "HBoxView",
            "_dom_classes": [],
            "_model_name": "HBoxModel",
            "_view_module": "@jupyter-widgets/controls",
            "_model_module_version": "1.5.0",
            "_view_count": null,
            "_view_module_version": "1.5.0",
            "box_style": "",
            "layout": "IPY_MODEL_eeef2583c1d84d9297a52462afcc8a09",
            "_model_module": "@jupyter-widgets/controls",
            "children": [
              "IPY_MODEL_efad795d42514371b59dc1883abf5766",
              "IPY_MODEL_c3061e6a6bed49dfbf24aa70fad0c4fa"
            ]
          }
        },
        "eeef2583c1d84d9297a52462afcc8a09": {
          "model_module": "@jupyter-widgets/base",
          "model_name": "LayoutModel",
          "state": {
            "_view_name": "LayoutView",
            "grid_template_rows": null,
            "right": null,
            "justify_content": null,
            "_view_module": "@jupyter-widgets/base",
            "overflow": null,
            "_model_module_version": "1.2.0",
            "_view_count": null,
            "flex_flow": null,
            "width": null,
            "min_width": null,
            "border": null,
            "align_items": null,
            "bottom": null,
            "_model_module": "@jupyter-widgets/base",
            "top": null,
            "grid_column": null,
            "overflow_y": null,
            "overflow_x": null,
            "grid_auto_flow": null,
            "grid_area": null,
            "grid_template_columns": null,
            "flex": null,
            "_model_name": "LayoutModel",
            "justify_items": null,
            "grid_row": null,
            "max_height": null,
            "align_content": null,
            "visibility": null,
            "align_self": null,
            "height": null,
            "min_height": null,
            "padding": null,
            "grid_auto_rows": null,
            "grid_gap": null,
            "max_width": null,
            "order": null,
            "_view_module_version": "1.2.0",
            "grid_template_areas": null,
            "object_position": null,
            "object_fit": null,
            "grid_auto_columns": null,
            "margin": null,
            "display": null,
            "left": null
          }
        },
        "efad795d42514371b59dc1883abf5766": {
          "model_module": "@jupyter-widgets/controls",
          "model_name": "FloatProgressModel",
          "state": {
            "_view_name": "ProgressView",
            "style": "IPY_MODEL_cd4c9b255f874af093b82deb61e52924",
            "_dom_classes": [],
            "description": "",
            "_model_name": "FloatProgressModel",
            "bar_style": "success",
            "max": 4542,
            "_view_module": "@jupyter-widgets/controls",
            "_model_module_version": "1.5.0",
            "value": 4542,
            "_view_count": null,
            "_view_module_version": "1.5.0",
            "orientation": "horizontal",
            "min": 0,
            "description_tooltip": null,
            "_model_module": "@jupyter-widgets/controls",
            "layout": "IPY_MODEL_570c23b4297040f09dfd1aab30a5cb07"
          }
        },
        "c3061e6a6bed49dfbf24aa70fad0c4fa": {
          "model_module": "@jupyter-widgets/controls",
          "model_name": "HTMLModel",
          "state": {
            "_view_name": "HTMLView",
            "style": "IPY_MODEL_23d45f75f3c94250a939fa9e4c6dfc0d",
            "_dom_classes": [],
            "description": "",
            "_model_name": "HTMLModel",
            "placeholder": "​",
            "_view_module": "@jupyter-widgets/controls",
            "_model_module_version": "1.5.0",
            "value": " 5120/? [1:15:48&lt;00:00,  1.13it/s]",
            "_view_count": null,
            "_view_module_version": "1.5.0",
            "description_tooltip": null,
            "_model_module": "@jupyter-widgets/controls",
            "layout": "IPY_MODEL_c4fb08fa1e554fe1a3b757d7a497a3d7"
          }
        },
        "cd4c9b255f874af093b82deb61e52924": {
          "model_module": "@jupyter-widgets/controls",
          "model_name": "ProgressStyleModel",
          "state": {
            "_view_name": "StyleView",
            "_model_name": "ProgressStyleModel",
            "description_width": "initial",
            "_view_module": "@jupyter-widgets/base",
            "_model_module_version": "1.5.0",
            "_view_count": null,
            "_view_module_version": "1.2.0",
            "bar_color": null,
            "_model_module": "@jupyter-widgets/controls"
          }
        },
        "570c23b4297040f09dfd1aab30a5cb07": {
          "model_module": "@jupyter-widgets/base",
          "model_name": "LayoutModel",
          "state": {
            "_view_name": "LayoutView",
            "grid_template_rows": null,
            "right": null,
            "justify_content": null,
            "_view_module": "@jupyter-widgets/base",
            "overflow": null,
            "_model_module_version": "1.2.0",
            "_view_count": null,
            "flex_flow": null,
            "width": null,
            "min_width": null,
            "border": null,
            "align_items": null,
            "bottom": null,
            "_model_module": "@jupyter-widgets/base",
            "top": null,
            "grid_column": null,
            "overflow_y": null,
            "overflow_x": null,
            "grid_auto_flow": null,
            "grid_area": null,
            "grid_template_columns": null,
            "flex": null,
            "_model_name": "LayoutModel",
            "justify_items": null,
            "grid_row": null,
            "max_height": null,
            "align_content": null,
            "visibility": null,
            "align_self": null,
            "height": null,
            "min_height": null,
            "padding": null,
            "grid_auto_rows": null,
            "grid_gap": null,
            "max_width": null,
            "order": null,
            "_view_module_version": "1.2.0",
            "grid_template_areas": null,
            "object_position": null,
            "object_fit": null,
            "grid_auto_columns": null,
            "margin": null,
            "display": null,
            "left": null
          }
        },
        "23d45f75f3c94250a939fa9e4c6dfc0d": {
          "model_module": "@jupyter-widgets/controls",
          "model_name": "DescriptionStyleModel",
          "state": {
            "_view_name": "StyleView",
            "_model_name": "DescriptionStyleModel",
            "description_width": "",
            "_view_module": "@jupyter-widgets/base",
            "_model_module_version": "1.5.0",
            "_view_count": null,
            "_view_module_version": "1.2.0",
            "_model_module": "@jupyter-widgets/controls"
          }
        },
        "c4fb08fa1e554fe1a3b757d7a497a3d7": {
          "model_module": "@jupyter-widgets/base",
          "model_name": "LayoutModel",
          "state": {
            "_view_name": "LayoutView",
            "grid_template_rows": null,
            "right": null,
            "justify_content": null,
            "_view_module": "@jupyter-widgets/base",
            "overflow": null,
            "_model_module_version": "1.2.0",
            "_view_count": null,
            "flex_flow": null,
            "width": null,
            "min_width": null,
            "border": null,
            "align_items": null,
            "bottom": null,
            "_model_module": "@jupyter-widgets/base",
            "top": null,
            "grid_column": null,
            "overflow_y": null,
            "overflow_x": null,
            "grid_auto_flow": null,
            "grid_area": null,
            "grid_template_columns": null,
            "flex": null,
            "_model_name": "LayoutModel",
            "justify_items": null,
            "grid_row": null,
            "max_height": null,
            "align_content": null,
            "visibility": null,
            "align_self": null,
            "height": null,
            "min_height": null,
            "padding": null,
            "grid_auto_rows": null,
            "grid_gap": null,
            "max_width": null,
            "order": null,
            "_view_module_version": "1.2.0",
            "grid_template_areas": null,
            "object_position": null,
            "object_fit": null,
            "grid_auto_columns": null,
            "margin": null,
            "display": null,
            "left": null
          }
        }
      }
    }
  },
  "cells": [
    {
      "cell_type": "markdown",
      "metadata": {
        "id": "MGC3fCVJ-jQ4"
      },
      "source": [
        "#Section 3: MNIST Digits classification with Feed Forward NN"
      ]
    },
    {
      "cell_type": "code",
      "metadata": {
        "id": "ZS6wUAD2-QSo"
      },
      "source": [
        "import torch\n",
        "import torch.nn as nn\n",
        "import torchvision # for datasets\n",
        "import torchvision.transforms as transforms\n",
        "import matplotlib.pyplot as plt\n",
        "from sklearn.model_selection import train_test_split\n",
        "import seaborn as sns\n",
        "import numpy as np"
      ],
      "execution_count": null,
      "outputs": []
    },
    {
      "cell_type": "code",
      "metadata": {
        "id": "ZfpNajDpBj6X"
      },
      "source": [
        "input_size = 784 # 28X28 images\n",
        "hidden_size = 100\n",
        "num_classes = 10 \n",
        "num_epochs = 2\n",
        "batch_size = 100\n",
        "learning_rate = 0.001"
      ],
      "execution_count": null,
      "outputs": []
    },
    {
      "cell_type": "code",
      "metadata": {
        "colab": {
          "base_uri": "https://localhost:8080/",
          "height": 497,
          "referenced_widgets": [
            "5ffd1cdc2ee04408be00083b91e69436",
            "54b5edaeb64b4fe79c7491e85de9cced",
            "2909a409ec6e4729995c9bf73078c8ba",
            "5ec9b045b01d4b639f1d9d18f5bebb85",
            "33b3e96c9d63495c8959ebec61e60439",
            "e978aa888f884c7dbfdd75a911b2ceeb",
            "d77f5797b5404229930d8f2135bc7197",
            "70f3e3920c8e4732b5480cce5130ea7e",
            "c9c81daa6ded4181bf0329a24a634aec",
            "fd097ce2268d42cd8cf44d6e06c515cd",
            "763774d274cc4a638e7a7f225b980174",
            "625124b687af4fbbadbb5c753ec8f264",
            "a936132b1b9340fd9e8c048872bc3d78",
            "bf25a4d5301f4850b22751505a7b115e",
            "ed17a622cc7143ae8b0d0f5bb3d9e34f",
            "9d66eb991aa24541943f7a38cddbf5d0",
            "9131cc53c97849aebc72a11a49858783",
            "be68ad324e724f35b366dd8a150b9c50",
            "96ed5d3395ba4f758cf1c167c72603b8",
            "557d7d7fe65b4a74a975c64e3f2b2d78",
            "53e508d47ccd4987b138a9a3301ed578",
            "f303ee7588cf4d9ca46077756a2dbb02",
            "90b518c60e4042228a6cd0438f41f621",
            "1fc3eb26255548228a5821ede77fd5a5",
            "488fb2713afc438d9bf5769883bc041b",
            "eeef2583c1d84d9297a52462afcc8a09",
            "efad795d42514371b59dc1883abf5766",
            "c3061e6a6bed49dfbf24aa70fad0c4fa",
            "cd4c9b255f874af093b82deb61e52924",
            "570c23b4297040f09dfd1aab30a5cb07",
            "23d45f75f3c94250a939fa9e4c6dfc0d",
            "c4fb08fa1e554fe1a3b757d7a497a3d7"
          ]
        },
        "id": "aGk-SPB1Cxa5",
        "outputId": "bbb740a9-c71a-4efb-8010-e6f8079dc7f0"
      },
      "source": [
        "import warnings\n",
        "warnings.filterwarnings('ignore')\n",
        "# MNIST dataset from pytorch\n",
        "train_dataset = torchvision.datasets.MNIST(root='/content/drive/MyDrive/AI-Internship/MNIST', train = True, transform = transforms.ToTensor(),download=True)\n",
        "test_dataset = torchvision.datasets.MNIST(root='/content/drive/MyDrive/AI-Internship/MNIST', train = False, transform = transforms.ToTensor(),download=True)\n"
      ],
      "execution_count": null,
      "outputs": [
        {
          "output_type": "stream",
          "text": [
            "Downloading http://yann.lecun.com/exdb/mnist/train-images-idx3-ubyte.gz\n",
            "Downloading http://yann.lecun.com/exdb/mnist/train-images-idx3-ubyte.gz to /content/drive/MyDrive/AI-Internship/MNIST/MNIST/raw/train-images-idx3-ubyte.gz\n"
          ],
          "name": "stdout"
        },
        {
          "output_type": "display_data",
          "data": {
            "application/vnd.jupyter.widget-view+json": {
              "model_id": "5ffd1cdc2ee04408be00083b91e69436",
              "version_minor": 0,
              "version_major": 2
            },
            "text/plain": [
              "HBox(children=(FloatProgress(value=0.0, max=9912422.0), HTML(value='')))"
            ]
          },
          "metadata": {
            "tags": []
          }
        },
        {
          "output_type": "stream",
          "text": [
            "\n",
            "Extracting /content/drive/MyDrive/AI-Internship/MNIST/MNIST/raw/train-images-idx3-ubyte.gz to /content/drive/MyDrive/AI-Internship/MNIST/MNIST/raw\n",
            "\n",
            "Downloading http://yann.lecun.com/exdb/mnist/train-labels-idx1-ubyte.gz\n",
            "Downloading http://yann.lecun.com/exdb/mnist/train-labels-idx1-ubyte.gz to /content/drive/MyDrive/AI-Internship/MNIST/MNIST/raw/train-labels-idx1-ubyte.gz\n"
          ],
          "name": "stdout"
        },
        {
          "output_type": "display_data",
          "data": {
            "application/vnd.jupyter.widget-view+json": {
              "model_id": "c9c81daa6ded4181bf0329a24a634aec",
              "version_minor": 0,
              "version_major": 2
            },
            "text/plain": [
              "HBox(children=(FloatProgress(value=0.0, max=28881.0), HTML(value='')))"
            ]
          },
          "metadata": {
            "tags": []
          }
        },
        {
          "output_type": "stream",
          "text": [
            "\n",
            "Extracting /content/drive/MyDrive/AI-Internship/MNIST/MNIST/raw/train-labels-idx1-ubyte.gz to /content/drive/MyDrive/AI-Internship/MNIST/MNIST/raw\n",
            "\n",
            "Downloading http://yann.lecun.com/exdb/mnist/t10k-images-idx3-ubyte.gz\n",
            "Downloading http://yann.lecun.com/exdb/mnist/t10k-images-idx3-ubyte.gz to /content/drive/MyDrive/AI-Internship/MNIST/MNIST/raw/t10k-images-idx3-ubyte.gz\n"
          ],
          "name": "stdout"
        },
        {
          "output_type": "display_data",
          "data": {
            "application/vnd.jupyter.widget-view+json": {
              "model_id": "9131cc53c97849aebc72a11a49858783",
              "version_minor": 0,
              "version_major": 2
            },
            "text/plain": [
              "HBox(children=(FloatProgress(value=0.0, max=1648877.0), HTML(value='')))"
            ]
          },
          "metadata": {
            "tags": []
          }
        },
        {
          "output_type": "stream",
          "text": [
            "\n",
            "Extracting /content/drive/MyDrive/AI-Internship/MNIST/MNIST/raw/t10k-images-idx3-ubyte.gz to /content/drive/MyDrive/AI-Internship/MNIST/MNIST/raw\n",
            "\n",
            "Downloading http://yann.lecun.com/exdb/mnist/t10k-labels-idx1-ubyte.gz\n",
            "Downloading http://yann.lecun.com/exdb/mnist/t10k-labels-idx1-ubyte.gz to /content/drive/MyDrive/AI-Internship/MNIST/MNIST/raw/t10k-labels-idx1-ubyte.gz\n"
          ],
          "name": "stdout"
        },
        {
          "output_type": "display_data",
          "data": {
            "application/vnd.jupyter.widget-view+json": {
              "model_id": "488fb2713afc438d9bf5769883bc041b",
              "version_minor": 0,
              "version_major": 2
            },
            "text/plain": [
              "HBox(children=(FloatProgress(value=0.0, max=4542.0), HTML(value='')))"
            ]
          },
          "metadata": {
            "tags": []
          }
        },
        {
          "output_type": "stream",
          "text": [
            "\n",
            "Extracting /content/drive/MyDrive/AI-Internship/MNIST/MNIST/raw/t10k-labels-idx1-ubyte.gz to /content/drive/MyDrive/AI-Internship/MNIST/MNIST/raw\n",
            "\n"
          ],
          "name": "stdout"
        }
      ]
    },
    {
      "cell_type": "code",
      "metadata": {
        "id": "Rgx9UQIrEMQc"
      },
      "source": [
        "train_loader = torch.utils.data.DataLoader(dataset = train_dataset, batch_size = batch_size, shuffle = True)\n",
        "test_loader = torch.utils.data.DataLoader(dataset = test_dataset, batch_size = batch_size, shuffle = False)"
      ],
      "execution_count": null,
      "outputs": []
    },
    {
      "cell_type": "code",
      "metadata": {
        "colab": {
          "base_uri": "https://localhost:8080/"
        },
        "id": "a_DV9DmFdQ4H",
        "outputId": "107af268-8e8b-4a42-aef3-fc0a383611d6"
      },
      "source": [
        "print(f'length of train_dataset is : {len(train_dataset)} and length of train_loader is : {len(train_loader)}')\n",
        "print(f'length of test_dataset is : {len(test_dataset)} and length of test_loader is : {len(test_loader)}')"
      ],
      "execution_count": null,
      "outputs": [
        {
          "output_type": "stream",
          "text": [
            "length of train_dataset is : 60000 and length of train_loader is : 600\n",
            "length of test_dataset is : 10000 and length of test_loader is : 100\n"
          ],
          "name": "stdout"
        }
      ]
    },
    {
      "cell_type": "markdown",
      "metadata": {
        "id": "MiJmcZR0JVcL"
      },
      "source": [
        "Let's take a look at one batch of this dataset."
      ]
    },
    {
      "cell_type": "code",
      "metadata": {
        "colab": {
          "base_uri": "https://localhost:8080/"
        },
        "id": "SenMcqrZGE9X",
        "outputId": "166c9af4-8bb3-41ae-eb37-7ec1e621e374"
      },
      "source": [
        "examples = iter(train_loader)\n",
        "#unpack examples\n",
        "samples , labels = examples.next()\n",
        "print(f'samples shape : {samples.shape} ,labels shape : {labels.shape}')"
      ],
      "execution_count": null,
      "outputs": [
        {
          "output_type": "stream",
          "text": [
            "samples shape : torch.Size([100, 1, 28, 28]) ,labels shape : torch.Size([100])\n"
          ],
          "name": "stdout"
        }
      ]
    },
    {
      "cell_type": "markdown",
      "metadata": {
        "id": "Cx-PDfN5K9KX"
      },
      "source": [
        "Let's plot 6 images of this batch."
      ]
    },
    {
      "cell_type": "code",
      "metadata": {
        "colab": {
          "base_uri": "https://localhost:8080/",
          "height": 267
        },
        "id": "3-ed8ZoDGEyd",
        "outputId": "90805aff-4d6a-4baf-a472-3bcab88a8bd3"
      },
      "source": [
        "for i in range(6):\n",
        "  plt.subplot(2,3, i+1)\n",
        "  plt.imshow(samples[i][0],cmap='gray')"
      ],
      "execution_count": null,
      "outputs": [
        {
          "output_type": "display_data",
          "data": {
            "image/png": "[encoded data removed]",
            "text/plain": [
              "<Figure size 432x288 with 6 Axes>"
            ]
          },
          "metadata": {
            "tags": [],
            "needs_background": "light"
          }
        }
      ]
    },
    {
      "cell_type": "code",
      "metadata": {
        "id": "ZiWfu2ylLqcb"
      },
      "source": [
        "class NeuralNet(nn.Module):\n",
        "\n",
        "  def __init__(self, input_size, hidden_size, num_classes):\n",
        "    super(NeuralNet, self).__init__()\n",
        "    self.l1 = nn.Linear(input_size, hidden_size)\n",
        "    self.relu = nn.ReLU()\n",
        "    self.l2 = nn.Linear(hidden_size,num_classes)\n",
        "  \n",
        "  def forward(self,x):\n",
        "    out = self.l1(x)\n",
        "    out = self.relu(out)\n",
        "    out = self.l2(out)\n",
        "    return out"
      ],
      "execution_count": null,
      "outputs": []
    },
    {
      "cell_type": "code",
      "metadata": {
        "id": "S2708v39W8WG"
      },
      "source": [
        "# create model\n",
        "model_mnist = NeuralNet(input_size,hidden_size,num_classes)\n",
        "\n",
        "# create loss and optimizer\n",
        "criterion = nn.CrossEntropyLoss()\n",
        "optimizer = torch.optim.Adam(model_mnist.parameters(), lr= learning_rate)\n",
        "\n",
        "total_input = len(train_loader)"
      ],
      "execution_count": null,
      "outputs": []
    },
    {
      "cell_type": "markdown",
      "metadata": {
        "id": "XTY2kp9xc5Va"
      },
      "source": [
        "###Train the model"
      ]
    },
    {
      "cell_type": "code",
      "metadata": {
        "colab": {
          "base_uri": "https://localhost:8080/"
        },
        "id": "9AsLgjmqazhQ",
        "outputId": "1621536f-4882-49fb-da67-986ebc345bc9"
      },
      "source": [
        "list = []\n",
        "\n",
        "for epoch in range(num_epochs):\n",
        "  for i, (image, label) in enumerate(train_loader):\n",
        "    # shape of image is 100,1,28,28 , we want to reshape it to 100, 784\n",
        "    image = image.reshape(-1, 784)\n",
        "\n",
        "    # forward pass\n",
        "    y_pred_mnist = model_mnist(image)\n",
        "    loss = criterion(y_pred_mnist, label)\n",
        "\n",
        "    # backward pass\n",
        "    optimizer.zero_grad()\n",
        "    loss.backward()\n",
        "    optimizer.step()\n",
        "\n",
        "    if (i+1) % 100 == 0:\n",
        "      print(f'epoch : {epoch+1}/{num_epochs} , step : {i+1}/{total_input}, loss : {loss.item():.4f} ')\n",
        "      list.append([epoch+1,i+1, loss.item()])"
      ],
      "execution_count": null,
      "outputs": [
        {
          "output_type": "stream",
          "text": [
            "epoch : 1/2 , step : 100/600, loss : 0.4466 \n",
            "epoch : 1/2 , step : 200/600, loss : 0.4063 \n",
            "epoch : 1/2 , step : 300/600, loss : 0.3583 \n",
            "epoch : 1/2 , step : 400/600, loss : 0.2705 \n",
            "epoch : 1/2 , step : 500/600, loss : 0.3247 \n",
            "epoch : 1/2 , step : 600/600, loss : 0.2468 \n",
            "epoch : 2/2 , step : 100/600, loss : 0.2096 \n",
            "epoch : 2/2 , step : 200/600, loss : 0.2642 \n",
            "epoch : 2/2 , step : 300/600, loss : 0.2267 \n",
            "epoch : 2/2 , step : 400/600, loss : 0.1761 \n",
            "epoch : 2/2 , step : 500/600, loss : 0.2349 \n",
            "epoch : 2/2 , step : 600/600, loss : 0.0953 \n"
          ],
          "name": "stdout"
        }
      ]
    },
    {
      "cell_type": "markdown",
      "metadata": {
        "id": "TAAeE9p_c9CX"
      },
      "source": [
        "###Test the model"
      ]
    },
    {
      "cell_type": "code",
      "metadata": {
        "id": "MqVqk-LVcj3Z",
        "colab": {
          "base_uri": "https://localhost:8080/"
        },
        "outputId": "fb464649-ee27-4faf-86ec-21dadb38ebb5"
      },
      "source": [
        "# we don't calculate gradient in this phase\n",
        "\n",
        "with torch.no_grad():\n",
        "  n_true = 0\n",
        "  n_total = 0\n",
        "\n",
        "  for image_test, label_test in test_loader:\n",
        "    \n",
        "    image_test = image_test.reshape(-1,784)\n",
        "    output = model_mnist(image_test)\n",
        "\n",
        "    _, y_pred_test = torch.max(output,1)\n",
        "    n_true += (y_pred_test == label_test).sum()\n",
        "    n_total += label.size(0)\n",
        "\n",
        "\n",
        "print(f'accuracy of model on the 10000 images is : {(n_true/n_total) *100}')\n"
      ],
      "execution_count": null,
      "outputs": [
        {
          "output_type": "stream",
          "text": [
            "accuracy of model on the 10000 images is : 95.4800033569336\n"
          ],
          "name": "stdout"
        }
      ]
    },
    {
      "cell_type": "code",
      "metadata": {
        "colab": {
          "base_uri": "https://localhost:8080/"
        },
        "id": "linXf512n9cp",
        "outputId": "d92101b2-78f6-4cec-eb75-25059fb15968"
      },
      "source": [
        "print(list)"
      ],
      "execution_count": null,
      "outputs": [
        {
          "output_type": "stream",
          "text": [
            "[[1, 100, 0.4466078281402588], [1, 200, 0.40632733702659607], [1, 300, 0.3583229184150696], [1, 400, 0.27051863074302673], [1, 500, 0.3246749937534332], [1, 600, 0.24675136804580688], [2, 100, 0.20962238311767578], [2, 200, 0.2642391324043274], [2, 300, 0.2267332673072815], [2, 400, 0.17606474459171295], [2, 500, 0.23492076992988586], [2, 600, 0.09532473236322403]]\n"
          ],
          "name": "stdout"
        }
      ]
    },
    {
      "cell_type": "code",
      "metadata": {
        "colab": {
          "base_uri": "https://localhost:8080/"
        },
        "id": "5EUpIJSspOv0",
        "outputId": "a511fc2c-7a02-43b8-a1d2-f0a2e94d685b"
      },
      "source": [
        "len(list)"
      ],
      "execution_count": null,
      "outputs": [
        {
          "output_type": "execute_result",
          "data": {
            "text/plain": [
              "12"
            ]
          },
          "metadata": {
            "tags": []
          },
          "execution_count": 18
        }
      ]
    },
    {
      "cell_type": "code",
      "metadata": {
        "colab": {
          "base_uri": "https://localhost:8080/",
          "height": 369
        },
        "id": "x1T9_JZEnbZ9",
        "outputId": "1a40bca5-798f-4c78-c1cb-f92f7776370f"
      },
      "source": [
        "import seaborn as sns\n",
        "fig, axs = plt.subplots(2,1,figsize =(10, 5))\n",
        "axs[0].set_title(\"Loss function on the first epoch\")\n",
        "sns.lineplot(x = [list[i][1] for i in range(6)] , y = [list[i][2] for i in range(6)], ax = axs[0])\n",
        "axs[1].set_title(\"Loss function on the second epoch\")\n",
        "sns.lineplot(x = [list[i][1] for i in range(6,len(list))] , y = [list[i][2] for i in range(6,len(list))], ax = axs[1])\n",
        "plt.tight_layout()"
      ],
      "execution_count": null,
      "outputs": [
        {
          "output_type": "display_data",
          "data": {
            "image/png": "[encoded data removed]",
            "text/plain": [
              "<Figure size 720x360 with 2 Axes>"
            ]
          },
          "metadata": {
            "tags": [],
            "needs_background": "light"
          }
        }
      ]
    },
    {
      "cell_type": "markdown",
      "metadata": {
        "id": "Gkok1NuM7LlS"
      },
      "source": [
        "#Heart Disease classification with Feed Forward NN"
      ]
    },
    {
      "cell_type": "markdown",
      "metadata": {
        "id": "Ikb2H4qw7Ri1"
      },
      "source": [
        "Download the data and then save it in drive."
      ]
    },
    {
      "cell_type": "code",
      "metadata": {
        "colab": {
          "base_uri": "https://localhost:8080/"
        },
        "id": "fKrLVwcU25O8",
        "outputId": "883fa588-b418-4baf-cf94-75bc6b307fd2"
      },
      "source": [
        "import requests\n",
        "\n",
        "url = 'https://web.stanford.edu/~hastie/ElemStatLearn/datasets/SAheart.data'\n",
        "r = requests.get(url, allow_redirects=True)\n",
        "\n",
        "open('SAheart.data', 'wb').write(r.content)"
      ],
      "execution_count": null,
      "outputs": [
        {
          "output_type": "execute_result",
          "data": {
            "text/plain": [
              "25106"
            ]
          },
          "metadata": {
            "tags": []
          },
          "execution_count": 1
        }
      ]
    },
    {
      "cell_type": "code",
      "metadata": {
        "colab": {
          "base_uri": "https://localhost:8080/"
        },
        "id": "OGM5FS7I7JXD",
        "outputId": "c55b26dc-ad29-4205-ff77-5cc92042e5ce"
      },
      "source": [
        "from google.colab import drive\n",
        "drive.mount('/content/drive')"
      ],
      "execution_count": null,
      "outputs": [
        {
          "output_type": "stream",
          "text": [
            "Drive already mounted at /content/drive; to attempt to forcibly remount, call drive.mount(\"/content/drive\", force_remount=True).\n"
          ],
          "name": "stdout"
        }
      ]
    },
    {
      "cell_type": "code",
      "metadata": {
        "id": "twyBt74D4qac"
      },
      "source": [
        "import pandas as pd\n",
        "\n",
        "data = pd.read_csv('/content/drive/MyDrive/AI-Internship/SAheart.data')"
      ],
      "execution_count": null,
      "outputs": []
    },
    {
      "cell_type": "code",
      "metadata": {
        "colab": {
          "base_uri": "https://localhost:8080/",
          "height": 202
        },
        "id": "ubjVUF3m6HjO",
        "outputId": "e9c7e40a-b1b5-4109-882c-1f987c76e4c4"
      },
      "source": [
        "data.head()"
      ],
      "execution_count": null,
      "outputs": [
        {
          "output_type": "execute_result",
          "data": {
            "text/html": [
              "<div>\n",
              "<style scoped>\n",
              "    .dataframe tbody tr th:only-of-type {\n",
              "        vertical-align: middle;\n",
              "    }\n",
              "\n",
              "    .dataframe tbody tr th {\n",
              "        vertical-align: top;\n",
              "    }\n",
              "\n",
              "    .dataframe thead th {\n",
              "        text-align: right;\n",
              "    }\n",
              "</style>\n",
              "<table border=\"1\" class=\"dataframe\">\n",
              "  <thead>\n",
              "    <tr style=\"text-align: right;\">\n",
              "      <th></th>\n",
              "      <th>row.names</th>\n",
              "      <th>sbp</th>\n",
              "      <th>tobacco</th>\n",
              "      <th>ldl</th>\n",
              "      <th>adiposity</th>\n",
              "      <th>famhist</th>\n",
              "      <th>typea</th>\n",
              "      <th>obesity</th>\n",
              "      <th>alcohol</th>\n",
              "      <th>age</th>\n",
              "      <th>chd</th>\n",
              "    </tr>\n",
              "  </thead>\n",
              "  <tbody>\n",
              "    <tr>\n",
              "      <th>0</th>\n",
              "      <td>1</td>\n",
              "      <td>160</td>\n",
              "      <td>12.00</td>\n",
              "      <td>5.73</td>\n",
              "      <td>23.11</td>\n",
              "      <td>Present</td>\n",
              "      <td>49</td>\n",
              "      <td>25.30</td>\n",
              "      <td>97.20</td>\n",
              "      <td>52</td>\n",
              "      <td>1</td>\n",
              "    </tr>\n",
              "    <tr>\n",
              "      <th>1</th>\n",
              "      <td>2</td>\n",
              "      <td>144</td>\n",
              "      <td>0.01</td>\n",
              "      <td>4.41</td>\n",
              "      <td>28.61</td>\n",
              "      <td>Absent</td>\n",
              "      <td>55</td>\n",
              "      <td>28.87</td>\n",
              "      <td>2.06</td>\n",
              "      <td>63</td>\n",
              "      <td>1</td>\n",
              "    </tr>\n",
              "    <tr>\n",
              "      <th>2</th>\n",
              "      <td>3</td>\n",
              "      <td>118</td>\n",
              "      <td>0.08</td>\n",
              "      <td>3.48</td>\n",
              "      <td>32.28</td>\n",
              "      <td>Present</td>\n",
              "      <td>52</td>\n",
              "      <td>29.14</td>\n",
              "      <td>3.81</td>\n",
              "      <td>46</td>\n",
              "      <td>0</td>\n",
              "    </tr>\n",
              "    <tr>\n",
              "      <th>3</th>\n",
              "      <td>4</td>\n",
              "      <td>170</td>\n",
              "      <td>7.50</td>\n",
              "      <td>6.41</td>\n",
              "      <td>38.03</td>\n",
              "      <td>Present</td>\n",
              "      <td>51</td>\n",
              "      <td>31.99</td>\n",
              "      <td>24.26</td>\n",
              "      <td>58</td>\n",
              "      <td>1</td>\n",
              "    </tr>\n",
              "    <tr>\n",
              "      <th>4</th>\n",
              "      <td>5</td>\n",
              "      <td>134</td>\n",
              "      <td>13.60</td>\n",
              "      <td>3.50</td>\n",
              "      <td>27.78</td>\n",
              "      <td>Present</td>\n",
              "      <td>60</td>\n",
              "      <td>25.99</td>\n",
              "      <td>57.34</td>\n",
              "      <td>49</td>\n",
              "      <td>1</td>\n",
              "    </tr>\n",
              "  </tbody>\n",
              "</table>\n",
              "</div>"
            ],
            "text/plain": [
              "   row.names  sbp  tobacco   ldl  adiposity  ... typea  obesity  alcohol  age  chd\n",
              "0          1  160    12.00  5.73      23.11  ...    49    25.30    97.20   52    1\n",
              "1          2  144     0.01  4.41      28.61  ...    55    28.87     2.06   63    1\n",
              "2          3  118     0.08  3.48      32.28  ...    52    29.14     3.81   46    0\n",
              "3          4  170     7.50  6.41      38.03  ...    51    31.99    24.26   58    1\n",
              "4          5  134    13.60  3.50      27.78  ...    60    25.99    57.34   49    1\n",
              "\n",
              "[5 rows x 11 columns]"
            ]
          },
          "metadata": {
            "tags": []
          },
          "execution_count": 4
        }
      ]
    },
    {
      "cell_type": "code",
      "metadata": {
        "colab": {
          "base_uri": "https://localhost:8080/"
        },
        "id": "W_IdOxtT6LG6",
        "outputId": "3a1f4f5e-83d9-4fa0-a68b-0b42d68bb52c"
      },
      "source": [
        "data.shape"
      ],
      "execution_count": null,
      "outputs": [
        {
          "output_type": "execute_result",
          "data": {
            "text/plain": [
              "(462, 11)"
            ]
          },
          "metadata": {
            "tags": []
          },
          "execution_count": 5
        }
      ]
    },
    {
      "cell_type": "code",
      "metadata": {
        "id": "YLJQVIIzl22X"
      },
      "source": [
        "data = data.drop(columns='row.names')"
      ],
      "execution_count": null,
      "outputs": []
    },
    {
      "cell_type": "code",
      "metadata": {
        "colab": {
          "base_uri": "https://localhost:8080/",
          "height": 202
        },
        "id": "w7j-VSA0mjiO",
        "outputId": "43773539-7468-4d42-e711-074b4371d39f"
      },
      "source": [
        "data.head()"
      ],
      "execution_count": null,
      "outputs": [
        {
          "output_type": "execute_result",
          "data": {
            "text/html": [
              "<div>\n",
              "<style scoped>\n",
              "    .dataframe tbody tr th:only-of-type {\n",
              "        vertical-align: middle;\n",
              "    }\n",
              "\n",
              "    .dataframe tbody tr th {\n",
              "        vertical-align: top;\n",
              "    }\n",
              "\n",
              "    .dataframe thead th {\n",
              "        text-align: right;\n",
              "    }\n",
              "</style>\n",
              "<table border=\"1\" class=\"dataframe\">\n",
              "  <thead>\n",
              "    <tr style=\"text-align: right;\">\n",
              "      <th></th>\n",
              "      <th>sbp</th>\n",
              "      <th>tobacco</th>\n",
              "      <th>ldl</th>\n",
              "      <th>adiposity</th>\n",
              "      <th>famhist</th>\n",
              "      <th>typea</th>\n",
              "      <th>obesity</th>\n",
              "      <th>alcohol</th>\n",
              "      <th>age</th>\n",
              "      <th>chd</th>\n",
              "    </tr>\n",
              "  </thead>\n",
              "  <tbody>\n",
              "    <tr>\n",
              "      <th>0</th>\n",
              "      <td>160</td>\n",
              "      <td>12.00</td>\n",
              "      <td>5.73</td>\n",
              "      <td>23.11</td>\n",
              "      <td>Present</td>\n",
              "      <td>49</td>\n",
              "      <td>25.30</td>\n",
              "      <td>97.20</td>\n",
              "      <td>52</td>\n",
              "      <td>1</td>\n",
              "    </tr>\n",
              "    <tr>\n",
              "      <th>1</th>\n",
              "      <td>144</td>\n",
              "      <td>0.01</td>\n",
              "      <td>4.41</td>\n",
              "      <td>28.61</td>\n",
              "      <td>Absent</td>\n",
              "      <td>55</td>\n",
              "      <td>28.87</td>\n",
              "      <td>2.06</td>\n",
              "      <td>63</td>\n",
              "      <td>1</td>\n",
              "    </tr>\n",
              "    <tr>\n",
              "      <th>2</th>\n",
              "      <td>118</td>\n",
              "      <td>0.08</td>\n",
              "      <td>3.48</td>\n",
              "      <td>32.28</td>\n",
              "      <td>Present</td>\n",
              "      <td>52</td>\n",
              "      <td>29.14</td>\n",
              "      <td>3.81</td>\n",
              "      <td>46</td>\n",
              "      <td>0</td>\n",
              "    </tr>\n",
              "    <tr>\n",
              "      <th>3</th>\n",
              "      <td>170</td>\n",
              "      <td>7.50</td>\n",
              "      <td>6.41</td>\n",
              "      <td>38.03</td>\n",
              "      <td>Present</td>\n",
              "      <td>51</td>\n",
              "      <td>31.99</td>\n",
              "      <td>24.26</td>\n",
              "      <td>58</td>\n",
              "      <td>1</td>\n",
              "    </tr>\n",
              "    <tr>\n",
              "      <th>4</th>\n",
              "      <td>134</td>\n",
              "      <td>13.60</td>\n",
              "      <td>3.50</td>\n",
              "      <td>27.78</td>\n",
              "      <td>Present</td>\n",
              "      <td>60</td>\n",
              "      <td>25.99</td>\n",
              "      <td>57.34</td>\n",
              "      <td>49</td>\n",
              "      <td>1</td>\n",
              "    </tr>\n",
              "  </tbody>\n",
              "</table>\n",
              "</div>"
            ],
            "text/plain": [
              "   sbp  tobacco   ldl  adiposity  famhist  typea  obesity  alcohol  age  chd\n",
              "0  160    12.00  5.73      23.11  Present     49    25.30    97.20   52    1\n",
              "1  144     0.01  4.41      28.61   Absent     55    28.87     2.06   63    1\n",
              "2  118     0.08  3.48      32.28  Present     52    29.14     3.81   46    0\n",
              "3  170     7.50  6.41      38.03  Present     51    31.99    24.26   58    1\n",
              "4  134    13.60  3.50      27.78  Present     60    25.99    57.34   49    1"
            ]
          },
          "metadata": {
            "tags": []
          },
          "execution_count": 10
        }
      ]
    },
    {
      "cell_type": "markdown",
      "metadata": {
        "id": "5MPFSzvpJvXE"
      },
      "source": [
        "We should use label encoder to converting labels into numeric form so that machine can read it."
      ]
    },
    {
      "cell_type": "code",
      "metadata": {
        "id": "Pbm7ZpXiMtyj"
      },
      "source": [
        "from sklearn.preprocessing import LabelEncoder\n",
        "\n",
        "# present: 1 and absent: 0\n",
        "le = LabelEncoder()\n",
        "data['famhist'] = le.fit_transform(data['famhist'])"
      ],
      "execution_count": null,
      "outputs": []
    },
    {
      "cell_type": "code",
      "metadata": {
        "colab": {
          "base_uri": "https://localhost:8080/",
          "height": 202
        },
        "id": "pA3pQX4fNpxP",
        "outputId": "9e336c13-4f7d-4efa-9b97-295dd3629c82"
      },
      "source": [
        "data.head()"
      ],
      "execution_count": null,
      "outputs": [
        {
          "output_type": "execute_result",
          "data": {
            "text/html": [
              "<div>\n",
              "<style scoped>\n",
              "    .dataframe tbody tr th:only-of-type {\n",
              "        vertical-align: middle;\n",
              "    }\n",
              "\n",
              "    .dataframe tbody tr th {\n",
              "        vertical-align: top;\n",
              "    }\n",
              "\n",
              "    .dataframe thead th {\n",
              "        text-align: right;\n",
              "    }\n",
              "</style>\n",
              "<table border=\"1\" class=\"dataframe\">\n",
              "  <thead>\n",
              "    <tr style=\"text-align: right;\">\n",
              "      <th></th>\n",
              "      <th>sbp</th>\n",
              "      <th>tobacco</th>\n",
              "      <th>ldl</th>\n",
              "      <th>adiposity</th>\n",
              "      <th>famhist</th>\n",
              "      <th>typea</th>\n",
              "      <th>obesity</th>\n",
              "      <th>alcohol</th>\n",
              "      <th>age</th>\n",
              "      <th>chd</th>\n",
              "    </tr>\n",
              "  </thead>\n",
              "  <tbody>\n",
              "    <tr>\n",
              "      <th>0</th>\n",
              "      <td>160</td>\n",
              "      <td>12.00</td>\n",
              "      <td>5.73</td>\n",
              "      <td>23.11</td>\n",
              "      <td>1</td>\n",
              "      <td>49</td>\n",
              "      <td>25.30</td>\n",
              "      <td>97.20</td>\n",
              "      <td>52</td>\n",
              "      <td>1</td>\n",
              "    </tr>\n",
              "    <tr>\n",
              "      <th>1</th>\n",
              "      <td>144</td>\n",
              "      <td>0.01</td>\n",
              "      <td>4.41</td>\n",
              "      <td>28.61</td>\n",
              "      <td>0</td>\n",
              "      <td>55</td>\n",
              "      <td>28.87</td>\n",
              "      <td>2.06</td>\n",
              "      <td>63</td>\n",
              "      <td>1</td>\n",
              "    </tr>\n",
              "    <tr>\n",
              "      <th>2</th>\n",
              "      <td>118</td>\n",
              "      <td>0.08</td>\n",
              "      <td>3.48</td>\n",
              "      <td>32.28</td>\n",
              "      <td>1</td>\n",
              "      <td>52</td>\n",
              "      <td>29.14</td>\n",
              "      <td>3.81</td>\n",
              "      <td>46</td>\n",
              "      <td>0</td>\n",
              "    </tr>\n",
              "    <tr>\n",
              "      <th>3</th>\n",
              "      <td>170</td>\n",
              "      <td>7.50</td>\n",
              "      <td>6.41</td>\n",
              "      <td>38.03</td>\n",
              "      <td>1</td>\n",
              "      <td>51</td>\n",
              "      <td>31.99</td>\n",
              "      <td>24.26</td>\n",
              "      <td>58</td>\n",
              "      <td>1</td>\n",
              "    </tr>\n",
              "    <tr>\n",
              "      <th>4</th>\n",
              "      <td>134</td>\n",
              "      <td>13.60</td>\n",
              "      <td>3.50</td>\n",
              "      <td>27.78</td>\n",
              "      <td>1</td>\n",
              "      <td>60</td>\n",
              "      <td>25.99</td>\n",
              "      <td>57.34</td>\n",
              "      <td>49</td>\n",
              "      <td>1</td>\n",
              "    </tr>\n",
              "  </tbody>\n",
              "</table>\n",
              "</div>"
            ],
            "text/plain": [
              "   sbp  tobacco   ldl  adiposity  famhist  typea  obesity  alcohol  age  chd\n",
              "0  160    12.00  5.73      23.11        1     49    25.30    97.20   52    1\n",
              "1  144     0.01  4.41      28.61        0     55    28.87     2.06   63    1\n",
              "2  118     0.08  3.48      32.28        1     52    29.14     3.81   46    0\n",
              "3  170     7.50  6.41      38.03        1     51    31.99    24.26   58    1\n",
              "4  134    13.60  3.50      27.78        1     60    25.99    57.34   49    1"
            ]
          },
          "metadata": {
            "tags": []
          },
          "execution_count": 13
        }
      ]
    },
    {
      "cell_type": "markdown",
      "metadata": {
        "id": "bGxvnbl8KN3Y"
      },
      "source": [
        "we should check for missing values."
      ]
    },
    {
      "cell_type": "code",
      "metadata": {
        "colab": {
          "base_uri": "https://localhost:8080/"
        },
        "id": "afM5N3V4mpAx",
        "outputId": "d8b4854e-0c98-4146-f85f-c4de5913ed4c"
      },
      "source": [
        "data.info()"
      ],
      "execution_count": null,
      "outputs": [
        {
          "output_type": "stream",
          "text": [
            "<class 'pandas.core.frame.DataFrame'>\n",
            "RangeIndex: 462 entries, 0 to 461\n",
            "Data columns (total 10 columns):\n",
            " #   Column     Non-Null Count  Dtype  \n",
            "---  ------     --------------  -----  \n",
            " 0   sbp        462 non-null    int64  \n",
            " 1   tobacco    462 non-null    float64\n",
            " 2   ldl        462 non-null    float64\n",
            " 3   adiposity  462 non-null    float64\n",
            " 4   famhist    462 non-null    int64  \n",
            " 5   typea      462 non-null    int64  \n",
            " 6   obesity    462 non-null    float64\n",
            " 7   alcohol    462 non-null    float64\n",
            " 8   age        462 non-null    int64  \n",
            " 9   chd        462 non-null    int64  \n",
            "dtypes: float64(5), int64(5)\n",
            "memory usage: 36.2 KB\n"
          ],
          "name": "stdout"
        }
      ]
    },
    {
      "cell_type": "code",
      "metadata": {
        "colab": {
          "base_uri": "https://localhost:8080/",
          "height": 438
        },
        "id": "IMncqdLMnoN1",
        "outputId": "dcb7db6e-2894-4094-82c4-2638478291f2"
      },
      "source": [
        "fig = plt.figure(figsize =(20, 7))\n",
        "# Creating plot\n",
        "ax = sns.boxplot(data=data, orient=\"v\", palette=\"Set2\")\n",
        "plt.title(\"Box Plot for each feature\")"
      ],
      "execution_count": null,
      "outputs": [
        {
          "output_type": "execute_result",
          "data": {
            "text/plain": [
              "Text(0.5, 1.0, 'Box Plot for each feature')"
            ]
          },
          "metadata": {
            "tags": []
          },
          "execution_count": 20
        },
        {
          "output_type": "display_data",
          "data": {
            "image/png": "[encoded data removed]",
            "text/plain": [
              "<Figure size 1440x504 with 1 Axes>"
            ]
          },
          "metadata": {
            "tags": [],
            "needs_background": "light"
          }
        }
      ]
    },
    {
      "cell_type": "markdown",
      "metadata": {
        "id": "3fnWyEUMnyqy"
      },
      "source": [
        "sbp,tobacco, ldl,typea, obesity and alcohol have outlier data. so we should treat outlier data."
      ]
    },
    {
      "cell_type": "code",
      "metadata": {
        "id": "bscILzFsn98f"
      },
      "source": [
        "Outlier_columns = ['sbp','tobacco','ldl','obesity','alcohol']\n",
        "for i in Outlier_columns:\n",
        "  median = data[i].quantile(0.50)\n",
        "  threshold = data[i].quantile(0.80)\n",
        "  data[i] = np.where(data[i] > threshold , median, data[i])"
      ],
      "execution_count": null,
      "outputs": []
    },
    {
      "cell_type": "code",
      "metadata": {
        "id": "J2o_Vl8Sv8D-"
      },
      "source": [
        "Outlier_columns = ['typea','obesity']\n",
        "for i in Outlier_columns:\n",
        "  median = data[i].quantile(0.50)\n",
        "  threshold = data[i].quantile(0.20)\n",
        "  data[i] = np.where(data[i] < threshold , median, data[i])"
      ],
      "execution_count": null,
      "outputs": []
    },
    {
      "cell_type": "code",
      "metadata": {
        "colab": {
          "base_uri": "https://localhost:8080/",
          "height": 438
        },
        "id": "llO-IGb1wOSW",
        "outputId": "7fbbed30-c800-486b-9d42-1d7f4735b73c"
      },
      "source": [
        "fig = plt.figure(figsize =(20, 7))\n",
        "# Creating plot\n",
        "ax = sns.boxplot(data=data, orient=\"v\", palette=\"Set2\")\n",
        "plt.title(\"Box Plot for each feature\")"
      ],
      "execution_count": null,
      "outputs": [
        {
          "output_type": "execute_result",
          "data": {
            "text/plain": [
              "Text(0.5, 1.0, 'Box Plot for each feature')"
            ]
          },
          "metadata": {
            "tags": []
          },
          "execution_count": 23
        },
        {
          "output_type": "display_data",
          "data": {
            "image/png": "[encoded data removed]",
            "text/plain": [
              "<Figure size 1440x504 with 1 Axes>"
            ]
          },
          "metadata": {
            "tags": [],
            "needs_background": "light"
          }
        }
      ]
    },
    {
      "cell_type": "code",
      "metadata": {
        "colab": {
          "base_uri": "https://localhost:8080/",
          "height": 294
        },
        "id": "HB20pJ3DwYU-",
        "outputId": "eebb75c8-b02b-4017-9412-d1404b1ff1e5"
      },
      "source": [
        "data.describe()"
      ],
      "execution_count": null,
      "outputs": [
        {
          "output_type": "execute_result",
          "data": {
            "text/html": [
              "<div>\n",
              "<style scoped>\n",
              "    .dataframe tbody tr th:only-of-type {\n",
              "        vertical-align: middle;\n",
              "    }\n",
              "\n",
              "    .dataframe tbody tr th {\n",
              "        vertical-align: top;\n",
              "    }\n",
              "\n",
              "    .dataframe thead th {\n",
              "        text-align: right;\n",
              "    }\n",
              "</style>\n",
              "<table border=\"1\" class=\"dataframe\">\n",
              "  <thead>\n",
              "    <tr style=\"text-align: right;\">\n",
              "      <th></th>\n",
              "      <th>sbp</th>\n",
              "      <th>tobacco</th>\n",
              "      <th>ldl</th>\n",
              "      <th>adiposity</th>\n",
              "      <th>famhist</th>\n",
              "      <th>typea</th>\n",
              "      <th>obesity</th>\n",
              "      <th>alcohol</th>\n",
              "      <th>age</th>\n",
              "      <th>chd</th>\n",
              "    </tr>\n",
              "  </thead>\n",
              "  <tbody>\n",
              "    <tr>\n",
              "      <th>count</th>\n",
              "      <td>462.000000</td>\n",
              "      <td>462.000000</td>\n",
              "      <td>462.000000</td>\n",
              "      <td>462.000000</td>\n",
              "      <td>462.000000</td>\n",
              "      <td>462.000000</td>\n",
              "      <td>462.000000</td>\n",
              "      <td>462.000000</td>\n",
              "      <td>462.000000</td>\n",
              "      <td>462.000000</td>\n",
              "    </tr>\n",
              "    <tr>\n",
              "      <th>mean</th>\n",
              "      <td>131.298701</td>\n",
              "      <td>1.829329</td>\n",
              "      <td>4.017056</td>\n",
              "      <td>25.406732</td>\n",
              "      <td>0.415584</td>\n",
              "      <td>55.870130</td>\n",
              "      <td>25.759778</td>\n",
              "      <td>7.042641</td>\n",
              "      <td>42.816017</td>\n",
              "      <td>0.346320</td>\n",
              "    </tr>\n",
              "    <tr>\n",
              "      <th>std</th>\n",
              "      <td>10.645009</td>\n",
              "      <td>1.732634</td>\n",
              "      <td>1.050609</td>\n",
              "      <td>7.780699</td>\n",
              "      <td>0.493357</td>\n",
              "      <td>6.491812</td>\n",
              "      <td>1.429216</td>\n",
              "      <td>7.192839</td>\n",
              "      <td>14.608956</td>\n",
              "      <td>0.476313</td>\n",
              "    </tr>\n",
              "    <tr>\n",
              "      <th>min</th>\n",
              "      <td>101.000000</td>\n",
              "      <td>0.000000</td>\n",
              "      <td>0.980000</td>\n",
              "      <td>6.740000</td>\n",
              "      <td>0.000000</td>\n",
              "      <td>46.000000</td>\n",
              "      <td>22.400000</td>\n",
              "      <td>0.000000</td>\n",
              "      <td>15.000000</td>\n",
              "      <td>0.000000</td>\n",
              "    </tr>\n",
              "    <tr>\n",
              "      <th>25%</th>\n",
              "      <td>124.000000</td>\n",
              "      <td>0.052500</td>\n",
              "      <td>3.282500</td>\n",
              "      <td>19.775000</td>\n",
              "      <td>0.000000</td>\n",
              "      <td>52.000000</td>\n",
              "      <td>25.277500</td>\n",
              "      <td>0.510000</td>\n",
              "      <td>31.000000</td>\n",
              "      <td>0.000000</td>\n",
              "    </tr>\n",
              "    <tr>\n",
              "      <th>50%</th>\n",
              "      <td>134.000000</td>\n",
              "      <td>2.000000</td>\n",
              "      <td>4.340000</td>\n",
              "      <td>26.115000</td>\n",
              "      <td>0.000000</td>\n",
              "      <td>53.000000</td>\n",
              "      <td>25.803750</td>\n",
              "      <td>7.460000</td>\n",
              "      <td>45.000000</td>\n",
              "      <td>0.000000</td>\n",
              "    </tr>\n",
              "    <tr>\n",
              "      <th>75%</th>\n",
              "      <td>136.000000</td>\n",
              "      <td>2.677500</td>\n",
              "      <td>4.625000</td>\n",
              "      <td>31.227500</td>\n",
              "      <td>1.000000</td>\n",
              "      <td>60.000000</td>\n",
              "      <td>26.157500</td>\n",
              "      <td>8.487500</td>\n",
              "      <td>55.000000</td>\n",
              "      <td>1.000000</td>\n",
              "    </tr>\n",
              "    <tr>\n",
              "      <th>max</th>\n",
              "      <td>154.000000</td>\n",
              "      <td>6.100000</td>\n",
              "      <td>6.130000</td>\n",
              "      <td>42.490000</td>\n",
              "      <td>1.000000</td>\n",
              "      <td>78.000000</td>\n",
              "      <td>29.010000</td>\n",
              "      <td>27.670000</td>\n",
              "      <td>64.000000</td>\n",
              "      <td>1.000000</td>\n",
              "    </tr>\n",
              "  </tbody>\n",
              "</table>\n",
              "</div>"
            ],
            "text/plain": [
              "              sbp     tobacco         ldl  ...     alcohol         age         chd\n",
              "count  462.000000  462.000000  462.000000  ...  462.000000  462.000000  462.000000\n",
              "mean   131.298701    1.829329    4.017056  ...    7.042641   42.816017    0.346320\n",
              "std     10.645009    1.732634    1.050609  ...    7.192839   14.608956    0.476313\n",
              "min    101.000000    0.000000    0.980000  ...    0.000000   15.000000    0.000000\n",
              "25%    124.000000    0.052500    3.282500  ...    0.510000   31.000000    0.000000\n",
              "50%    134.000000    2.000000    4.340000  ...    7.460000   45.000000    0.000000\n",
              "75%    136.000000    2.677500    4.625000  ...    8.487500   55.000000    1.000000\n",
              "max    154.000000    6.100000    6.130000  ...   27.670000   64.000000    1.000000\n",
              "\n",
              "[8 rows x 10 columns]"
            ]
          },
          "metadata": {
            "tags": []
          },
          "execution_count": 25
        }
      ]
    },
    {
      "cell_type": "markdown",
      "metadata": {
        "id": "171tSZ5oLBlO"
      },
      "source": [
        "###Correlation matrix"
      ]
    },
    {
      "cell_type": "code",
      "metadata": {
        "colab": {
          "base_uri": "https://localhost:8080/",
          "height": 590
        },
        "id": "E4vpDLi0wqXk",
        "outputId": "b9e1374b-b2ca-4450-fb37-2cb8017bb719"
      },
      "source": [
        "#chd correlation matrix\n",
        "correlation_matrix = data.corr()\n",
        "k = 10 #number of variables for heatmap\n",
        "cols = correlation_matrix.nlargest(k,'chd')['chd'].index\n",
        "cm = np.corrcoef(data[cols].values.T)\n",
        "sns.set(font_scale=1)\n",
        "fig, ax = plt.subplots(figsize=(10,10))         # Sample figsize in inches\n",
        "hm = sns.heatmap(cm, cbar=True, annot=True, square=True, fmt='.01f', annot_kws={'size': 10}, yticklabels=cols.values, xticklabels=cols.values,ax=ax)\n",
        "plt.title(\"Correlation Matrix\")\n",
        "plt.show()"
      ],
      "execution_count": null,
      "outputs": [
        {
          "output_type": "display_data",
          "data": {
            "image/png": "[encoded data removed]",
            "text/plain": [
              "<Figure size 720x720 with 2 Axes>"
            ]
          },
          "metadata": {
            "tags": []
          }
        }
      ]
    },
    {
      "cell_type": "code",
      "metadata": {
        "colab": {
          "base_uri": "https://localhost:8080/"
        },
        "id": "lfO1xCCfxSKc",
        "outputId": "b0364040-c957-4b73-cdfb-d047dd25401d"
      },
      "source": [
        "#Correlation with output variable\n",
        "cor_target = abs(correlation_matrix['chd'])\n",
        "\n",
        "#Selecting highly correlated features\n",
        "relevant_features = cor_target[cor_target>=0.2]\n",
        "relevant_features"
      ],
      "execution_count": null,
      "outputs": [
        {
          "output_type": "execute_result",
          "data": {
            "text/plain": [
              "ldl          0.210284\n",
              "adiposity    0.254121\n",
              "famhist      0.272373\n",
              "age          0.372973\n",
              "chd          1.000000\n",
              "Name: chd, dtype: float64"
            ]
          },
          "metadata": {
            "tags": []
          },
          "execution_count": 27
        }
      ]
    },
    {
      "cell_type": "code",
      "metadata": {
        "colab": {
          "base_uri": "https://localhost:8080/"
        },
        "id": "75lBC3yQyNCK",
        "outputId": "635a4baa-1024-483b-add9-db4c9fda0d1c"
      },
      "source": [
        "data.columns"
      ],
      "execution_count": null,
      "outputs": [
        {
          "output_type": "execute_result",
          "data": {
            "text/plain": [
              "Index(['sbp', 'tobacco', 'ldl', 'adiposity', 'famhist', 'typea', 'obesity',\n",
              "       'alcohol', 'age', 'chd'],\n",
              "      dtype='object')"
            ]
          },
          "metadata": {
            "tags": []
          },
          "execution_count": 30
        }
      ]
    },
    {
      "cell_type": "code",
      "metadata": {
        "colab": {
          "base_uri": "https://localhost:8080/",
          "height": 202
        },
        "id": "x0MAigKAyLMz",
        "outputId": "b949b17a-cbd0-4a0a-d99f-7983f9d71349"
      },
      "source": [
        "data.drop(labels=['sbp', 'tobacco','typea', 'obesity','alcohol'], axis=1, inplace=True) # remove irrelavent columns features\n",
        "data.head()"
      ],
      "execution_count": null,
      "outputs": [
        {
          "output_type": "execute_result",
          "data": {
            "text/html": [
              "<div>\n",
              "<style scoped>\n",
              "    .dataframe tbody tr th:only-of-type {\n",
              "        vertical-align: middle;\n",
              "    }\n",
              "\n",
              "    .dataframe tbody tr th {\n",
              "        vertical-align: top;\n",
              "    }\n",
              "\n",
              "    .dataframe thead th {\n",
              "        text-align: right;\n",
              "    }\n",
              "</style>\n",
              "<table border=\"1\" class=\"dataframe\">\n",
              "  <thead>\n",
              "    <tr style=\"text-align: right;\">\n",
              "      <th></th>\n",
              "      <th>ldl</th>\n",
              "      <th>adiposity</th>\n",
              "      <th>famhist</th>\n",
              "      <th>age</th>\n",
              "      <th>chd</th>\n",
              "    </tr>\n",
              "  </thead>\n",
              "  <tbody>\n",
              "    <tr>\n",
              "      <th>0</th>\n",
              "      <td>5.73</td>\n",
              "      <td>23.11</td>\n",
              "      <td>1</td>\n",
              "      <td>52</td>\n",
              "      <td>1</td>\n",
              "    </tr>\n",
              "    <tr>\n",
              "      <th>1</th>\n",
              "      <td>4.41</td>\n",
              "      <td>28.61</td>\n",
              "      <td>0</td>\n",
              "      <td>63</td>\n",
              "      <td>1</td>\n",
              "    </tr>\n",
              "    <tr>\n",
              "      <th>2</th>\n",
              "      <td>3.48</td>\n",
              "      <td>32.28</td>\n",
              "      <td>1</td>\n",
              "      <td>46</td>\n",
              "      <td>0</td>\n",
              "    </tr>\n",
              "    <tr>\n",
              "      <th>3</th>\n",
              "      <td>4.34</td>\n",
              "      <td>38.03</td>\n",
              "      <td>1</td>\n",
              "      <td>58</td>\n",
              "      <td>1</td>\n",
              "    </tr>\n",
              "    <tr>\n",
              "      <th>4</th>\n",
              "      <td>3.50</td>\n",
              "      <td>27.78</td>\n",
              "      <td>1</td>\n",
              "      <td>49</td>\n",
              "      <td>1</td>\n",
              "    </tr>\n",
              "  </tbody>\n",
              "</table>\n",
              "</div>"
            ],
            "text/plain": [
              "    ldl  adiposity  famhist  age  chd\n",
              "0  5.73      23.11        1   52    1\n",
              "1  4.41      28.61        0   63    1\n",
              "2  3.48      32.28        1   46    0\n",
              "3  4.34      38.03        1   58    1\n",
              "4  3.50      27.78        1   49    1"
            ]
          },
          "metadata": {
            "tags": []
          },
          "execution_count": 31
        }
      ]
    },
    {
      "cell_type": "markdown",
      "metadata": {
        "id": "mQY4HwuQLJWQ"
      },
      "source": [
        "We should separate features and target."
      ]
    },
    {
      "cell_type": "code",
      "metadata": {
        "id": "GAA2iq7WPgrI"
      },
      "source": [
        "features = data.drop(columns='chd')\n",
        "target = pd.DataFrame(data['chd'])"
      ],
      "execution_count": null,
      "outputs": []
    },
    {
      "cell_type": "code",
      "metadata": {
        "colab": {
          "base_uri": "https://localhost:8080/"
        },
        "id": "K_An5mpwQMF-",
        "outputId": "db632ce3-0a07-4ea7-af32-1042545b8594"
      },
      "source": [
        "print(f'feature shape : {features.shape}')\n",
        "print(f'target shape : {target.shape}')"
      ],
      "execution_count": null,
      "outputs": [
        {
          "output_type": "stream",
          "text": [
            "feature shape : (462, 4)\n",
            "target shape : (462, 1)\n"
          ],
          "name": "stdout"
        }
      ]
    },
    {
      "cell_type": "markdown",
      "metadata": {
        "id": "YMuFS5jQLiNw"
      },
      "source": [
        "Implement a custom Dataset class."
      ]
    },
    {
      "cell_type": "code",
      "metadata": {
        "id": "yQzT4JZLywuJ"
      },
      "source": [
        "from torch.utils.data import Dataset, DataLoader\n",
        "from sklearn.preprocessing import StandardScaler\n",
        "\n",
        "class SAheartdata(Dataset):\n",
        "\n",
        "    def __init__(self, X, y):\n",
        " \n",
        "        self.n_samples = X.shape[0]\n",
        "\n",
        "        # Standardization\n",
        "        sc = StandardScaler()\n",
        "        X = sc.fit_transform(X)\n",
        "\n",
        "        # convert DataFrame to numpy array\n",
        "        y = y.to_numpy()\n",
        "\n",
        "        # convert numpy to tensor\n",
        "        self.x_data = torch.from_numpy(X.astype(np.float32)) # size [n_samples, n_features]\n",
        "        self.y_data = torch.from_numpy(y.astype(np.float32)) # size [n_samples, 1]\n",
        "\n",
        "    # support indexing such that dataset[i] can be used to get i-th sample\n",
        "    def __getitem__(self, index):\n",
        "        return self.x_data[index], self.y_data[index]\n",
        "\n",
        "    # we can call len(dataset) to return the size\n",
        "    def __len__(self):\n",
        "        return self.n_samples"
      ],
      "execution_count": null,
      "outputs": []
    },
    {
      "cell_type": "markdown",
      "metadata": {
        "id": "dz9cjPU3N7Km"
      },
      "source": [
        "###Split data into train and test"
      ]
    },
    {
      "cell_type": "code",
      "metadata": {
        "id": "vrHIASTYPH6E"
      },
      "source": [
        "from sklearn.model_selection import train_test_split\n",
        "X_train, X_test, y_train, y_test = train_test_split(features, target, test_size=0.2, random_state=1234)"
      ],
      "execution_count": null,
      "outputs": []
    },
    {
      "cell_type": "code",
      "metadata": {
        "colab": {
          "base_uri": "https://localhost:8080/"
        },
        "id": "1hqhNLuWQiT0",
        "outputId": "d9d94769-65d2-47df-f2cc-f723d2efecb2"
      },
      "source": [
        "print(f'X_train shape : {X_train.shape}')\n",
        "print(f'X_test shape : {X_test.shape}')\n",
        "print(f'y_train shape : {y_train.shape}')\n",
        "print(f'y_test shape : {y_test.shape}')"
      ],
      "execution_count": null,
      "outputs": [
        {
          "output_type": "stream",
          "text": [
            "X_train shape : (369, 4)\n",
            "X_test shape : (93, 4)\n",
            "y_train shape : (369, 1)\n",
            "y_test shape : (93, 1)\n"
          ],
          "name": "stdout"
        }
      ]
    },
    {
      "cell_type": "code",
      "metadata": {
        "id": "uBaiFPIo53Ok"
      },
      "source": [
        "# create data\n",
        "train_data = SAheartdata(X_train,y_train)\n",
        "test_data = SAheartdata(X_test,y_test)"
      ],
      "execution_count": null,
      "outputs": []
    },
    {
      "cell_type": "code",
      "metadata": {
        "colab": {
          "base_uri": "https://localhost:8080/"
        },
        "id": "kuuudkJm71VI",
        "outputId": "7b3bf321-914d-44f4-d213-2b70b1e6376e"
      },
      "source": [
        "# get first sample of train data\n",
        "x_sample, y_sample = train_data[0]\n",
        "print(f'x_sample : {x_sample} and y_sample : {y_sample}')\n",
        "print(f'x_sample shape : {x_sample.shape} and y_sample shape : {y_sample.shape}')"
      ],
      "execution_count": null,
      "outputs": [
        {
          "output_type": "stream",
          "text": [
            "x_sample : tensor([ 0.7831, -0.2853, -0.8463, -0.0787]) and y_sample : tensor([0.])\n",
            "x_sample shape : torch.Size([4]) and y_sample shape : torch.Size([1])\n"
          ],
          "name": "stdout"
        }
      ]
    },
    {
      "cell_type": "code",
      "metadata": {
        "id": "UnrdpT2z8r8e"
      },
      "source": [
        "# create dataloaders\n",
        "train_loader = torch.utils.data.DataLoader(dataset = train_data, batch_size = batch_size, shuffle = True)\n",
        "test_loader = torch.utils.data.DataLoader(dataset = test_data, batch_size = batch_size, shuffle = False)"
      ],
      "execution_count": null,
      "outputs": []
    },
    {
      "cell_type": "code",
      "metadata": {
        "colab": {
          "base_uri": "https://localhost:8080/"
        },
        "id": "ZrHtgJdl9oJ4",
        "outputId": "3c267a20-5553-4c0f-93a2-891d8af4c664"
      },
      "source": [
        "print(f'length of train data is : {len(train_data)} and length of train loader is : {len(train_loader)}')\n",
        "print(f'length of test data is : {len(test_data)} and length of test loader is : {len(test_loader)}')"
      ],
      "execution_count": null,
      "outputs": [
        {
          "output_type": "stream",
          "text": [
            "length of train data is : 369 and length of train loader is : 37\n",
            "length of test data is : 93 and length of test loader is : 10\n"
          ],
          "name": "stdout"
        }
      ]
    },
    {
      "cell_type": "code",
      "metadata": {
        "colab": {
          "base_uri": "https://localhost:8080/"
        },
        "id": "3VSJHSSJZmK1",
        "outputId": "654a1c58-327f-4194-d440-c0537215331f"
      },
      "source": [
        "# get an example of train loader\n",
        "example= iter(train_loader)\n",
        "\n",
        "# unpack example\n",
        "sample_x,sample_y = example.next()\n",
        " \n",
        "print(f'samples shape : {sample_x.shape} ,labels shape : {sample_y.shape}')"
      ],
      "execution_count": null,
      "outputs": [
        {
          "output_type": "stream",
          "text": [
            "samples shape : torch.Size([10, 4]) ,labels shape : torch.Size([10, 1])\n"
          ],
          "name": "stdout"
        }
      ]
    },
    {
      "cell_type": "code",
      "metadata": {
        "id": "KUfUT-GA9Gx7"
      },
      "source": [
        "# set parameters\n",
        "input_size = 4\n",
        "hidden_size = 5\n",
        "num_classes = 1\n",
        "num_epochs = 2\n",
        "learning_rate = 0.01\n",
        "batch_size = 10"
      ],
      "execution_count": null,
      "outputs": []
    },
    {
      "cell_type": "code",
      "metadata": {
        "id": "MwMHF8d_eVLN"
      },
      "source": [
        "# create neural network class\n",
        "class NeuralNet(nn.Module):\n",
        "\n",
        "  def __init__(self, input_size, hidden_size, num_classes):\n",
        "    super(NeuralNet, self).__init__()\n",
        "    self.l1 = nn.Linear(input_size, hidden_size)\n",
        "    self.relu = nn.ReLU()\n",
        "    self.l2 = nn.Linear(hidden_size,num_classes)\n",
        "    self.sigmoid = nn.Sigmoid()\n",
        "  \n",
        "  def forward(self,x):\n",
        "    out = self.l1(x)\n",
        "    out = self.relu(out)\n",
        "    out = self.l2(out)\n",
        "    out = self.sigmoid(out)\n",
        "    return out"
      ],
      "execution_count": null,
      "outputs": []
    },
    {
      "cell_type": "code",
      "metadata": {
        "id": "kwQRup7haYJN"
      },
      "source": [
        "# create model\n",
        "model_hd = NeuralNet(input_size,hidden_size,num_classes)\n",
        "\n",
        "# create loss and optimizer\n",
        "criterion = nn.BCELoss()\n",
        "optimizer = torch.optim.Adam(model_hd.parameters(), lr= learning_rate)\n",
        "\n",
        "total_input = len(train_loader)"
      ],
      "execution_count": null,
      "outputs": []
    },
    {
      "cell_type": "markdown",
      "metadata": {
        "id": "REHBF_eWkXfi"
      },
      "source": [
        "###Train the model"
      ]
    },
    {
      "cell_type": "code",
      "metadata": {
        "colab": {
          "base_uri": "https://localhost:8080/"
        },
        "id": "lIQQDNE3bWmT",
        "outputId": "31d214f5-c8b7-4565-ed46-53e157922cbc"
      },
      "source": [
        "list_hd = []\n",
        "\n",
        "for epoch in range(num_epochs):\n",
        "  for i, (x, y) in enumerate(train_loader):\n",
        "\n",
        "    # forward pass\n",
        "    y_pred_hd = model_hd(x)\n",
        "    loss = criterion(y_pred_hd, y)\n",
        "\n",
        "    # backward pass\n",
        "    optimizer.zero_grad()\n",
        "    loss.backward()\n",
        "    optimizer.step()\n",
        "\n",
        "    if (i+1) % 6 == 0:\n",
        "      print(f'epoch : {epoch+1}/{num_epochs} , step : {i+1}/{total_input}, loss : {loss.item():.4f} ')\n",
        "      list_hd.append([epoch+1,i+1, loss.item()])"
      ],
      "execution_count": null,
      "outputs": [
        {
          "output_type": "stream",
          "text": [
            "epoch : 1/2 , step : 6/37, loss : 0.6416 \n",
            "epoch : 1/2 , step : 12/37, loss : 0.6174 \n",
            "epoch : 1/2 , step : 18/37, loss : 0.5874 \n",
            "epoch : 1/2 , step : 24/37, loss : 0.6535 \n",
            "epoch : 1/2 , step : 30/37, loss : 0.5149 \n",
            "epoch : 1/2 , step : 36/37, loss : 0.8882 \n",
            "epoch : 2/2 , step : 6/37, loss : 0.4603 \n",
            "epoch : 2/2 , step : 12/37, loss : 0.5489 \n",
            "epoch : 2/2 , step : 18/37, loss : 0.5176 \n",
            "epoch : 2/2 , step : 24/37, loss : 0.6512 \n",
            "epoch : 2/2 , step : 30/37, loss : 0.4596 \n",
            "epoch : 2/2 , step : 36/37, loss : 0.4341 \n"
          ],
          "name": "stdout"
        }
      ]
    },
    {
      "cell_type": "markdown",
      "metadata": {
        "id": "xjLqFEn-ka8O"
      },
      "source": [
        "###Test the model"
      ]
    },
    {
      "cell_type": "code",
      "metadata": {
        "colab": {
          "base_uri": "https://localhost:8080/"
        },
        "id": "JLzPKnz1gs_X",
        "outputId": "3ef7ab3e-8ccf-4f6c-8b94-c0dbaff0ea2f"
      },
      "source": [
        "# we don't calculate gradient in this phase\n",
        "\n",
        "with torch.no_grad():\n",
        "  n_true = 0\n",
        "  n_total = 0\n",
        "\n",
        "  for x_test, y_test in test_loader:\n",
        "    \n",
        "    output = model_hd(x_test)\n",
        "    y_pred = np.round(output) \n",
        "\n",
        "    n_true += (y_pred == y_test).sum()\n",
        "    n_total += y_test.size(0)\n",
        "\n",
        "\n",
        "print(f'accuracy of model on the 93 data is : {(n_true/n_total) *100}')\n"
      ],
      "execution_count": null,
      "outputs": [
        {
          "output_type": "stream",
          "text": [
            "accuracy of model on the 93 data is : 67.74193572998047\n"
          ],
          "name": "stdout"
        }
      ]
    },
    {
      "cell_type": "code",
      "metadata": {
        "colab": {
          "base_uri": "https://localhost:8080/",
          "height": 364
        },
        "id": "jSnGFuggMXzG",
        "outputId": "699d4130-b3a8-49be-b0a9-8c99a09ec6bc"
      },
      "source": [
        "import seaborn as sns\n",
        "fig, axs = plt.subplots(2,1,figsize =(10, 5))\n",
        "axs[0].set_title(\"Loss function on the first epoch\")\n",
        "sns.lineplot(x = [list_hd[i][1] for i in range(6)] , y = [list_hd[i][2] for i in range(6)], ax = axs[0])\n",
        "axs[1].set_title(\"Loss function on the second epoch\")\n",
        "sns.lineplot(x = [list_hd[i][1] for i in range(6,len(list_hd))] , y = [list_hd[i][2] for i in range(6,len(list_hd))], ax = axs[1])\n",
        "plt.tight_layout()"
      ],
      "execution_count": null,
      "outputs": [
        {
          "output_type": "display_data",
          "data": {
            "image/png": "[encoded data removed]",
            "text/plain": [
              "<Figure size 720x360 with 2 Axes>"
            ]
          },
          "metadata": {
            "tags": []
          }
        }
      ]
    },
    {
      "cell_type": "markdown",
      "metadata": {
        "id": "if6K17m_U77X"
      },
      "source": [
        "#Section 4:  CIFAR-10 classification with CNN"
      ]
    },
    {
      "cell_type": "code",
      "metadata": {
        "id": "AwpDDfy3VBSj"
      },
      "source": [
        "import torch\n",
        "import torch.nn as nn\n",
        "import torchvision\n",
        "from torchvision.transforms import transforms\n",
        "import matplotlib.pyplot as plt\n",
        "import numpy as np \n",
        "import torch.nn.functional as F"
      ],
      "execution_count": 1,
      "outputs": []
    },
    {
      "cell_type": "code",
      "metadata": {
        "id": "saBPg7adiGTS"
      },
      "source": [
        "# dataset has PILImage images of range[0,1], with normalize we convet them in range[-1,1]\n",
        "transform = transforms.Compose([transforms.ToTensor(), transforms.Normalize((0.5,0.5,0.5),(0.5,0.5,0.5))])"
      ],
      "execution_count": 2,
      "outputs": []
    },
    {
      "cell_type": "code",
      "metadata": {
        "colab": {
          "base_uri": "https://localhost:8080/"
        },
        "id": "VvtQ1uas6cLP",
        "outputId": "8e19533d-b22b-45c3-a943-171984702b69"
      },
      "source": [
        "# create dataset\n",
        "train_dataset = torchvision.datasets.CIFAR10(root='/content/drive/MyDrive/AI-Internship/CIFAR10', train= True, download= True, transform=transform)\n",
        "test_dataset = torchvision.datasets.CIFAR10(root='/content/drive/MyDrive/AI-Internship/CIFAR10', train= False, download= True, transform=transform)"
      ],
      "execution_count": 3,
      "outputs": [
        {
          "output_type": "stream",
          "text": [
            "Files already downloaded and verified\n",
            "Files already downloaded and verified\n"
          ],
          "name": "stdout"
        }
      ]
    },
    {
      "cell_type": "code",
      "metadata": {
        "id": "JJkwvEhd8IWa"
      },
      "source": [
        "num_epoch = 4\n",
        "batch_size = 10\n",
        "learning_rate= 0.01"
      ],
      "execution_count": 4,
      "outputs": []
    },
    {
      "cell_type": "code",
      "metadata": {
        "id": "U17Tyxzr7cQV"
      },
      "source": [
        "# create dataloader\n",
        "train_loader = torch.utils.data.DataLoader(train_dataset, batch_size = batch_size, shuffle = True)\n",
        "test_loader = torch.utils.data.DataLoader(test_dataset, batch_size = batch_size, shuffle = False)"
      ],
      "execution_count": 5,
      "outputs": []
    },
    {
      "cell_type": "code",
      "metadata": {
        "colab": {
          "base_uri": "https://localhost:8080/"
        },
        "id": "bWDUtT3B8AJu",
        "outputId": "eb4671bd-f82b-498a-ba57-760a19b470d2"
      },
      "source": [
        "print(f'length of train_dataset is : {len(train_dataset)} and length of train_loader is : {len(train_loader)}')\n",
        "print(f'length of test_dataset is : {len(test_dataset)} and length of test_loader is : {len(test_loader)}')"
      ],
      "execution_count": 6,
      "outputs": [
        {
          "output_type": "stream",
          "text": [
            "length of train_dataset is : 50000 and length of train_loader is : 5000\n",
            "length of test_dataset is : 10000 and length of test_loader is : 1000\n"
          ],
          "name": "stdout"
        }
      ]
    },
    {
      "cell_type": "markdown",
      "metadata": {
        "id": "-YMR2YsH9qlQ"
      },
      "source": [
        "Let's take a look at one batch of train_data"
      ]
    },
    {
      "cell_type": "code",
      "metadata": {
        "colab": {
          "base_uri": "https://localhost:8080/"
        },
        "id": "ovTJo8Mk8Bu1",
        "outputId": "f1079396-ffa3-4b06-d21c-54ae5e4050be"
      },
      "source": [
        "example = iter(train_loader)\n",
        "image, label = example.next()\n",
        "\n",
        "print(f'eamples shape : {image.shape} ,labels shape : {label.shape}')"
      ],
      "execution_count": 7,
      "outputs": [
        {
          "output_type": "stream",
          "text": [
            "eamples shape : torch.Size([10, 3, 32, 32]) ,labels shape : torch.Size([10])\n"
          ],
          "name": "stdout"
        }
      ]
    },
    {
      "cell_type": "markdown",
      "metadata": {
        "id": "9YQTaELn-UQq"
      },
      "source": [
        "As we see, we have images with 3 color channels and they are 32X32 pixel. we should reshape them and flatten them in a tensor."
      ]
    },
    {
      "cell_type": "code",
      "metadata": {
        "colab": {
          "base_uri": "https://localhost:8080/",
          "height": 354
        },
        "id": "UK7CMxrh-pef",
        "outputId": "9b7aeca2-209e-4d7d-ce48-c59f34546596"
      },
      "source": [
        "plt.figure(figsize = (10,7))\n",
        "for i in range(10):\n",
        "  plt.subplot(2,5, i+1)\n",
        "  plt.imshow(image[i][0],cmap='gray')"
      ],
      "execution_count": 8,
      "outputs": [
        {
          "output_type": "display_data",
          "data": {
            "image/png": "[encoded data removed]",
            "text/plain": [
              "<Figure size 720x504 with 10 Axes>"
            ]
          },
          "metadata": {
            "tags": [],
            "needs_background": "light"
          }
        }
      ]
    },
    {
      "cell_type": "code",
      "metadata": {
        "colab": {
          "base_uri": "https://localhost:8080/",
          "height": 193
        },
        "id": "JJWQ9FPEKUKW",
        "outputId": "b58d2345-fa86-4f8e-86a4-7c000056e853"
      },
      "source": [
        "plt.figure(figsize = (10,7))\n",
        "def imshow(img):\n",
        "    img = img / 2 + 0.5  # unnormalize\n",
        "    npimg = img.numpy()\n",
        "    plt.imshow(np.transpose(npimg, (1, 2, 0)))\n",
        "    plt.show()\n",
        "\n",
        "# show images\n",
        "imshow(torchvision.utils.make_grid(image))"
      ],
      "execution_count": 9,
      "outputs": [
        {
          "output_type": "display_data",
          "data": {
            "image/png": "[encoded data removed]",
            "text/plain": [
              "<Figure size 720x504 with 1 Axes>"
            ]
          },
          "metadata": {
            "tags": [],
            "needs_background": "light"
          }
        }
      ]
    },
    {
      "cell_type": "code",
      "metadata": {
        "id": "RxThUi3Z_9KZ"
      },
      "source": [
        "classes = ('plane', 'car', 'bird', 'cat', 'deer', 'dog', 'frog', 'horse', 'ship', 'truck')"
      ],
      "execution_count": 10,
      "outputs": []
    },
    {
      "cell_type": "code",
      "metadata": {
        "id": "SQQRqnqsAYzP"
      },
      "source": [
        "class ConvNet(nn.Module):\n",
        "  def __init__(self):\n",
        "    super(ConvNet,self).__init__() \n",
        "    self.conv1 = nn.Conv2d(3, 6, 5)\n",
        "    self.pool = nn.MaxPool2d(2, 2)\n",
        "    self.conv2 = nn.Conv2d(6, 16, 5)\n",
        "    self.fc1 = nn.Linear(16 * 5 * 5, 120)\n",
        "    self.fc2 = nn.Linear(120, 84)\n",
        "    self.fc3 = nn.Linear(84, 10)\n",
        "\n",
        "\n",
        "  def forward(self, x):\n",
        "    # -> n, 3, 32, 32\n",
        "    x = self.pool(F.relu(self.conv1(x)))  # -> n, 6, 14, 14\n",
        "    x = self.pool(F.relu(self.conv2(x)))  # -> n, 16, 5, 5\n",
        "    x = x.view(-1, 16 * 5 * 5)            # -> n, 400 , flatten x\n",
        "    x = F.relu(self.fc1(x))               # -> n, 120\n",
        "    x = F.relu(self.fc2(x))               # -> n, 84\n",
        "    x = self.fc3(x)                       # -> n, 10\n",
        "    return x"
      ],
      "execution_count": 17,
      "outputs": []
    },
    {
      "cell_type": "code",
      "metadata": {
        "id": "6VisB8cxApdx"
      },
      "source": [
        "model_cifar = ConvNet()\n",
        "\n",
        "criterion = nn.CrossEntropyLoss()\n",
        "optimizer = torch.optim.SGD(model_cifar.parameters(), lr = learning_rate)\n",
        "\n",
        "n_total_step = len(train_loader)"
      ],
      "execution_count": 18,
      "outputs": []
    },
    {
      "cell_type": "markdown",
      "metadata": {
        "id": "AkpG_uoyno3q"
      },
      "source": [
        "###Tain the model"
      ]
    },
    {
      "cell_type": "code",
      "metadata": {
        "id": "L9Nkii2xBPv6",
        "colab": {
          "base_uri": "https://localhost:8080/"
        },
        "outputId": "12733e20-6d61-437b-acdb-3f8a0ec9b10d"
      },
      "source": [
        "for epoch in range(num_epoch):\n",
        "  for i , (image, label) in enumerate(train_loader):\n",
        "\n",
        "    y_pred_cifar = model_cifar(image)\n",
        "    loss = criterion(y_pred_cifar, label)\n",
        "\n",
        "    optimizer.zero_grad()\n",
        "    loss.backward()\n",
        "    optimizer.step()\n",
        "\n",
        "    if (i + 1) %1000 == 0:\n",
        "       print (f'Epoch [{epoch+1}/{num_epoch}], Step [{i+1}/{n_total_step}], Loss: {loss.item():.4f}')\n"
      ],
      "execution_count": 23,
      "outputs": [
        {
          "output_type": "stream",
          "text": [
            "Epoch [1/4], Step [1000/5000], Loss: 1.6972\n",
            "Epoch [1/4], Step [2000/5000], Loss: 1.6215\n",
            "Epoch [1/4], Step [3000/5000], Loss: 1.3597\n",
            "Epoch [1/4], Step [4000/5000], Loss: 1.1404\n",
            "Epoch [1/4], Step [5000/5000], Loss: 1.4204\n",
            "Epoch [2/4], Step [1000/5000], Loss: 1.2382\n",
            "Epoch [2/4], Step [2000/5000], Loss: 1.4754\n",
            "Epoch [2/4], Step [3000/5000], Loss: 2.0015\n",
            "Epoch [2/4], Step [4000/5000], Loss: 1.5316\n",
            "Epoch [2/4], Step [5000/5000], Loss: 1.0503\n",
            "Epoch [3/4], Step [1000/5000], Loss: 1.0975\n",
            "Epoch [3/4], Step [2000/5000], Loss: 1.2862\n",
            "Epoch [3/4], Step [3000/5000], Loss: 0.7979\n",
            "Epoch [3/4], Step [4000/5000], Loss: 1.3562\n",
            "Epoch [3/4], Step [5000/5000], Loss: 1.3264\n",
            "Epoch [4/4], Step [1000/5000], Loss: 1.2497\n",
            "Epoch [4/4], Step [2000/5000], Loss: 1.3911\n",
            "Epoch [4/4], Step [3000/5000], Loss: 1.1932\n",
            "Epoch [4/4], Step [4000/5000], Loss: 1.0169\n",
            "Epoch [4/4], Step [5000/5000], Loss: 0.6332\n"
          ],
          "name": "stdout"
        }
      ]
    },
    {
      "cell_type": "markdown",
      "metadata": {
        "id": "jOQFBQ1MnsXG"
      },
      "source": [
        "###Test the model"
      ]
    },
    {
      "cell_type": "code",
      "metadata": {
        "id": "nt4SS31KC9Ld",
        "colab": {
          "base_uri": "https://localhost:8080/"
        },
        "outputId": "944c147c-4c65-42b4-a8f4-5ca2d1d48f1e"
      },
      "source": [
        "with torch.no_grad():\n",
        "  n_true = 0\n",
        "  n_total = 0\n",
        "  n_class_correct = [0 for i in range(10)]\n",
        "  n_class_sample = [0 for i in range(10)]\n",
        "  \n",
        "  for im, lbs in test_loader:\n",
        "\n",
        "    y_predtest = model_cifar(im)\n",
        "\n",
        "    _, y_predtest = torch.max(y_predtest,1)\n",
        "    n_true += (y_predtest == lbs).sum()\n",
        "    n_total += lbs.size(0)\n",
        "\n",
        "    for i in range(batch_size):\n",
        "      lb = lbs[i]\n",
        "      pred = y_predtest[i]\n",
        "      if pred == lb:\n",
        "        n_class_correct[lb] += 1\n",
        "      n_class_sample[lb] += 1   \n",
        "\n",
        "  print(f'accuracy of network on the 1000 images is : {(n_true/n_total) *100}')\n",
        "  \n",
        "  for i in range(10):\n",
        "    acc = 100.0 * n_class_correct[i] / n_class_sample[i]\n",
        "    print(f'Accuracy of {classes[i]}: {acc} %')"
      ],
      "execution_count": 28,
      "outputs": [
        {
          "output_type": "stream",
          "text": [
            "accuracy of network on the 1000 images is : 59.82999801635742\n",
            "Accuracy of plane: 66.3 %\n",
            "Accuracy of car: 79.1 %\n",
            "Accuracy of bird: 44.3 %\n",
            "Accuracy of cat: 32.8 %\n",
            "Accuracy of deer: 48.6 %\n",
            "Accuracy of dog: 56.0 %\n",
            "Accuracy of frog: 75.4 %\n",
            "Accuracy of horse: 71.0 %\n",
            "Accuracy of ship: 65.5 %\n",
            "Accuracy of truck: 59.3 %\n"
          ],
          "name": "stdout"
        }
      ]
    }
  ]
}