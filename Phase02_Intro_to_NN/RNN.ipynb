{
  "nbformat": 4,
  "nbformat_minor": 0,
  "metadata": {
    "colab": {
      "name": "RNN.ipynb",
      "provenance": [],
      "collapsed_sections": [],
      "toc_visible": true
    },
    "kernelspec": {
      "name": "python3",
      "display_name": "Python 3"
    },
    "language_info": {
      "name": "python"
    }
  },
  "cells": [
    {
      "cell_type": "markdown",
      "metadata": {
        "id": "DfXyCER1gCrS"
      },
      "source": [
        "#Section 6: Recurrent NN"
      ]
    },
    {
      "cell_type": "markdown",
      "metadata": {
        "id": "-u6DKb07gIFT"
      },
      "source": [
        "##Name Classification using RNN"
      ]
    },
    {
      "cell_type": "code",
      "metadata": {
        "id": "q3DX2NIonawh"
      },
      "source": [
        "import numpy as np\n",
        "import pandas as pd\n",
        "import os\n",
        "import matplotlib.pyplot as plt\n",
        "from sklearn.metrics import classification_report, confusion_matrix\n",
        "import random\n",
        "\n",
        "#Neural Network packages\n",
        "\n",
        "import torch\n",
        "import torch.nn as nn\n",
        "import torch.optim as optim\n",
        "import torchvision\n",
        "import torchvision.transforms as transforms\n",
        "from torch.utils.data import Dataset\n",
        "from torchvision import models\n",
        "from torch.optim.lr_scheduler import StepLR\n",
        "from torch.utils.data.sampler import SubsetRandomSampler\n",
        "from tqdm import tqdm\n",
        "import torch.nn.functional as F\n",
        "\n",
        "# Text packages\n",
        "import unicodedata\n",
        "import string\n",
        "\n",
        "seed = torch.manual_seed(0)\n",
        "\n",
        "import warnings\n",
        "warnings.filterwarnings('ignore')"
      ],
      "execution_count": null,
      "outputs": []
    },
    {
      "cell_type": "code",
      "metadata": {
        "colab": {
          "base_uri": "https://localhost:8080/"
        },
        "id": "pOHhBGnknaqS",
        "outputId": "9163dad4-41b7-428b-b4b6-5f7afee1e0d4"
      },
      "source": [
        "from google.colab import drive\n",
        "drive.mount('/content/drive')"
      ],
      "execution_count": null,
      "outputs": [
        {
          "output_type": "stream",
          "text": [
            "Drive already mounted at /content/drive; to attempt to forcibly remount, call drive.mount(\"/content/drive\", force_remount=True).\n"
          ],
          "name": "stdout"
        }
      ]
    },
    {
      "cell_type": "code",
      "metadata": {
        "id": "2-kZIPqkEo4Q"
      },
      "source": [
        "# import zipfile\n",
        "# # unzip image file\n",
        "# local_zip = '/content/drive/MyDrive/AI-Internship/NameClassification.zip'\n",
        "# zip_ref = zipfile.ZipFile(local_zip, 'r')\n",
        "# zip_ref.extractall('/content/drive/MyDrive/AI-Internship/NameClassificationn')\n",
        "# zip_ref.close()"
      ],
      "execution_count": null,
      "outputs": []
    },
    {
      "cell_type": "markdown",
      "metadata": {
        "id": "dLIa8GHN-POe"
      },
      "source": [
        "###Data preprocessing"
      ]
    },
    {
      "cell_type": "markdown",
      "metadata": {
        "id": "DeXPm9e79xna"
      },
      "source": [
        "In order to load all files with special address pattern, we use glob library."
      ]
    },
    {
      "cell_type": "code",
      "metadata": {
        "colab": {
          "base_uri": "https://localhost:8080/"
        },
        "id": "TzlFj0aa7NWv",
        "outputId": "0f42dad2-6dab-4815-843d-348fb241e4b0"
      },
      "source": [
        "import glob\n",
        "all_text_files = glob.glob('/content/drive/MyDrive/AI-Internship/NameClassificationn/data/names/*.txt')\n",
        "print(f'First element of all text files is : {all_text_files[0]}')\n",
        "print(f'length of all text files is: {len(all_text_files)}')"
      ],
      "execution_count": null,
      "outputs": [
        {
          "output_type": "stream",
          "text": [
            "First element of all text files is : /content/drive/MyDrive/AI-Internship/NameClassificationn/data/names/Arabic.txt\n",
            "length of all text files is: 18\n"
          ],
          "name": "stdout"
        }
      ]
    },
    {
      "cell_type": "code",
      "metadata": {
        "colab": {
          "base_uri": "https://localhost:8080/"
        },
        "id": "2pW7Lwt9-F-m",
        "outputId": "a1626a94-4e70-484a-896d-6e44adfb999e"
      },
      "source": [
        "all_letters = string.ascii_letters + \" .,;'\"\n",
        "n_letters = len(all_letters)\n",
        "print(f'all letters : {all_letters}')\n",
        "print(f'length of all letters: {len(all_letters)}')"
      ],
      "execution_count": null,
      "outputs": [
        {
          "output_type": "stream",
          "text": [
            "all letters : abcdefghijklmnopqrstuvwxyzABCDEFGHIJKLMNOPQRSTUVWXYZ .,;'\n",
            "length of all letters: 57\n"
          ],
          "name": "stdout"
        }
      ]
    },
    {
      "cell_type": "markdown",
      "metadata": {
        "id": "yowl_8UWAKry"
      },
      "source": [
        "Because in some languages like French, names are in unicode form, we should convert them to ascii."
      ]
    },
    {
      "cell_type": "code",
      "metadata": {
        "colab": {
          "base_uri": "https://localhost:8080/"
        },
        "id": "IdLMfgtg_hR6",
        "outputId": "df8c4d92-f73d-4604-e51d-bec65d9b9d56"
      },
      "source": [
        "# Fuction for convert names in unicode form to ascii\n",
        "def unicode_to_ascii(s):\n",
        "    return ''.join(\n",
        "        c for c in unicodedata.normalize('NFD', s)\n",
        "        if unicodedata.category(c) != 'Mn'\n",
        "        and c in all_letters\n",
        "    )\n",
        "\n",
        "print(unicode_to_ascii('Béringer'))"
      ],
      "execution_count": null,
      "outputs": [
        {
          "output_type": "stream",
          "text": [
            "Beringer\n"
          ],
          "name": "stdout"
        }
      ]
    },
    {
      "cell_type": "markdown",
      "metadata": {
        "id": "bZjoe6Ke_8cQ"
      },
      "source": [
        "We should create a dictionary that keys are languages and values of dictionary are names."
      ]
    },
    {
      "cell_type": "code",
      "metadata": {
        "colab": {
          "base_uri": "https://localhost:8080/"
        },
        "id": "SoXAxuUh_v4h",
        "outputId": "4a6fa632-73bf-4b3d-c12d-1a0bf14f2ae0"
      },
      "source": [
        "category_lines = {}\n",
        "all_categories = []\n",
        "\n",
        "# Read a file and split into lines\n",
        "def readlines(filename):\n",
        "  lines = open(filename).read().strip().split('\\n')\n",
        "  return [unicode_to_ascii(line) for line in lines]\n",
        "\n",
        "for filename in all_text_files:\n",
        "  category = os.path.splitext(os.path.basename(filename))[0]\n",
        "  all_categories.append(category)\n",
        "  category_lines[category] = readlines(filename)\n",
        "\n",
        "print(f'There are {len(all_categories)} languages.')\n",
        "print(f'first 10 examples of {all_categories[0]} names : {category_lines[all_categories[0]][:10]}')"
      ],
      "execution_count": null,
      "outputs": [
        {
          "output_type": "stream",
          "text": [
            "There are 18 languages.\n",
            "first 10 examples of Arabic names : ['Khoury', 'Nahas', 'Daher', 'Gerges', 'Nazari', 'Maalouf', 'Gerges', 'Naifeh', 'Guirguis', 'Baba']\n"
          ],
          "name": "stdout"
        }
      ]
    },
    {
      "cell_type": "code",
      "metadata": {
        "colab": {
          "base_uri": "https://localhost:8080/"
        },
        "id": "xPZeARaWFLJK",
        "outputId": "1839db8d-e2ad-42bb-c9a1-65de9633e41b"
      },
      "source": [
        "num_names = 0\n",
        "for i in all_categories:\n",
        "  num_names += len(category_lines[i])\n",
        "\n",
        "print(f'Number of all names : {num_names}')"
      ],
      "execution_count": null,
      "outputs": [
        {
          "output_type": "stream",
          "text": [
            "Number of all names : 20074\n"
          ],
          "name": "stdout"
        }
      ]
    },
    {
      "cell_type": "markdown",
      "metadata": {
        "id": "1zYdQ0tPEwpE"
      },
      "source": [
        "#####Convert names to pytorch tensors"
      ]
    },
    {
      "cell_type": "code",
      "metadata": {
        "colab": {
          "base_uri": "https://localhost:8080/"
        },
        "id": "rZIrtwKQE1nQ",
        "outputId": "5cd96988-88c5-4d95-f9ed-e5e8cb58b151"
      },
      "source": [
        "# one hot encoding for a letter\n",
        "# Find letter index from all_letters\n",
        "def letter_to_index(letter):\n",
        "  return all_letters.find(letter)\n",
        "  \n",
        "# Turn a line into a <line_length x 1 x n_letters>\n",
        "def line_to_tensor(line):\n",
        "  tensor = torch.zeros(len(line), 1, n_letters)\n",
        "  for i, letter in enumerate(line):\n",
        "    tensor[i][0][letter_to_index(letter)] = 1\n",
        "  return tensor\n",
        "    \n",
        "print(line_to_tensor('a'))\n",
        "print(line_to_tensor('a').size())"
      ],
      "execution_count": null,
      "outputs": [
        {
          "output_type": "stream",
          "text": [
            "tensor([[[1., 0., 0., 0., 0., 0., 0., 0., 0., 0., 0., 0., 0., 0., 0., 0., 0.,\n",
            "          0., 0., 0., 0., 0., 0., 0., 0., 0., 0., 0., 0., 0., 0., 0., 0., 0.,\n",
            "          0., 0., 0., 0., 0., 0., 0., 0., 0., 0., 0., 0., 0., 0., 0., 0., 0.,\n",
            "          0., 0., 0., 0., 0., 0.]]])\n",
            "torch.Size([1, 1, 57])\n"
          ],
          "name": "stdout"
        }
      ]
    },
    {
      "cell_type": "markdown",
      "metadata": {
        "id": "zbkLpbp6-wsG"
      },
      "source": [
        "###Buliding RNN"
      ]
    },
    {
      "cell_type": "code",
      "metadata": {
        "id": "52T0AwNsHnRs"
      },
      "source": [
        "class RNN(nn.Module):\n",
        "  def __init__(self, input_size, hidden_size, output_size):\n",
        "    super(RNN, self).__init__()\n",
        "\n",
        "    self.hidden_size = hidden_size\n",
        "    self.i2h = nn.Linear(input_size + hidden_size , hidden_size)\n",
        "    self.i2o = nn.Linear(input_size + hidden_size, output_size)\n",
        "    self.softmax = nn.LogSoftmax(dim=1)\n",
        "\n",
        "  def forward(self, input_tensor, hidden_tensor):\n",
        "    combined = torch.cat((input_tensor, hidden_tensor), 1)\n",
        "\n",
        "    hidden = self.i2h(combined)\n",
        "    output = self.i2o(combined)\n",
        "    output = self.softmax(output)\n",
        "    return output, hidden\n",
        "\n",
        "  def init_hidden(self):\n",
        "    return torch.zeros(1, self.hidden_size)  \n"
      ],
      "execution_count": null,
      "outputs": []
    },
    {
      "cell_type": "markdown",
      "metadata": {
        "id": "ear7MOnyeQu3"
      },
      "source": [
        "####Testing model"
      ]
    },
    {
      "cell_type": "code",
      "metadata": {
        "colab": {
          "base_uri": "https://localhost:8080/"
        },
        "id": "2GvWJVuGErtu",
        "outputId": "260f7cfc-9e10-480e-8d0d-52e1bec08ca3"
      },
      "source": [
        "n_hidden = 128\n",
        "rnn = RNN(n_letters, n_hidden, len(all_categories))\n",
        "\n",
        "#one step\n",
        "input_tensor = line_to_tensor('Albert')\n",
        "hidden_tensor = rnn.init_hidden()\n",
        "\n",
        "output, next_hidden = rnn(input_tensor[0], hidden_tensor)\n",
        "\n",
        "print(f'input tensor size: {input_tensor.size()}')\n",
        "print(f'hidden tensor size : {hidden_tensor.size()}')\n",
        "\n",
        "print(f'output size : {output.size()}')\n",
        "print(f'next hidden size : {next_hidden.size()}')"
      ],
      "execution_count": null,
      "outputs": [
        {
          "output_type": "stream",
          "text": [
            "input tensor size: torch.Size([6, 1, 57])\n",
            "hidden tensor size : torch.Size([1, 128])\n",
            "output size : torch.Size([1, 18])\n",
            "next hidden size : torch.Size([1, 128])\n"
          ],
          "name": "stdout"
        }
      ]
    },
    {
      "cell_type": "markdown",
      "metadata": {
        "id": "cqlIxdWplEfQ"
      },
      "source": [
        "###Preparing for training"
      ]
    },
    {
      "cell_type": "markdown",
      "metadata": {
        "id": "etxkZloZiAa-"
      },
      "source": [
        "In order to get index of maximum value in output we use the following funciton."
      ]
    },
    {
      "cell_type": "code",
      "metadata": {
        "colab": {
          "base_uri": "https://localhost:8080/"
        },
        "id": "WrImc-EDh-lO",
        "outputId": "919e7458-9005-441b-ff01-5cffcbffd7ae"
      },
      "source": [
        "def category_form_output(output):\n",
        "  index = torch.argmax(output).item()\n",
        "  return all_categories[index]\n",
        "\n",
        "print(category_form_output(output))"
      ],
      "execution_count": null,
      "outputs": [
        {
          "output_type": "stream",
          "text": [
            "Czech\n"
          ],
          "name": "stdout"
        }
      ]
    },
    {
      "cell_type": "code",
      "metadata": {
        "colab": {
          "base_uri": "https://localhost:8080/"
        },
        "id": "6WhzPD5_k_44",
        "outputId": "00db882d-90bd-4a6a-d898-b4109c3f3de1"
      },
      "source": [
        "def randomChoice(list):\n",
        "  return list[random.randint(0, len(list)-1)]\n",
        "\n",
        "def randomTrainingExample():\n",
        "    category = randomChoice(all_categories)\n",
        "    line = randomChoice(category_lines[category])\n",
        "    category_tensor = torch.tensor([all_categories.index(category)], dtype=torch.long)\n",
        "    line_tensor = line_to_tensor(line)\n",
        "    return category, line, category_tensor, line_tensor\n",
        "\n",
        "for i in range(5):\n",
        "  category, line, category_tensor, line_tensor = randomTrainingExample()\n",
        "  print(f'cateogry = {category} | line : {line} |category_tensor size : {category_tensor.size()} | line tensor size : {line_tensor.size()}' )\n",
        "  "
      ],
      "execution_count": null,
      "outputs": [
        {
          "output_type": "stream",
          "text": [
            "cateogry = English | line : Furnell |category_tensor size : torch.Size([1]) | line tensor size : torch.Size([7, 1, 57])\n",
            "cateogry = Dutch | line : Haanraats |category_tensor size : torch.Size([1]) | line tensor size : torch.Size([9, 1, 57])\n",
            "cateogry = Greek | line : Kouretas |category_tensor size : torch.Size([1]) | line tensor size : torch.Size([8, 1, 57])\n",
            "cateogry = Greek | line : Spyridis |category_tensor size : torch.Size([1]) | line tensor size : torch.Size([8, 1, 57])\n",
            "cateogry = German | line : Simons |category_tensor size : torch.Size([1]) | line tensor size : torch.Size([6, 1, 57])\n"
          ],
          "name": "stdout"
        }
      ]
    },
    {
      "cell_type": "markdown",
      "metadata": {
        "id": "yuJ7t9r1p_fp"
      },
      "source": [
        "###Training the model"
      ]
    },
    {
      "cell_type": "code",
      "metadata": {
        "id": "PlgeJYjQp9iK"
      },
      "source": [
        "criterion = nn.NLLLoss()\n",
        "learning_rate = 0.005\n",
        "optimizer = torch.optim.Adam(rnn.parameters(), lr = learning_rate)\n",
        "scheduler = StepLR(optimizer, step_size = 30, gamma = 0.1)"
      ],
      "execution_count": null,
      "outputs": []
    },
    {
      "cell_type": "code",
      "metadata": {
        "id": "PSF9fye7rNuT"
      },
      "source": [
        "def train(line_tensor, category_tensor):\n",
        "  hidden = rnn.init_hidden()\n",
        "\n",
        "  for i in range(line_tensor.size()[0]):\n",
        "    output, hidden = rnn(line_tensor[i], hidden)\n",
        "\n",
        "  loss = criterion(output, category_tensor)\n",
        "  optimizer.zero_grad()\n",
        "  loss.backward()   \n",
        "  optimizer.step()\n",
        "\n",
        "  return output, loss.item()"
      ],
      "execution_count": null,
      "outputs": []
    },
    {
      "cell_type": "code",
      "metadata": {
        "id": "Rvt8xJtgzxGe",
        "colab": {
          "base_uri": "https://localhost:8080/"
        },
        "outputId": "0eaa0ded-3ead-4813-9648-7526b6904a71"
      },
      "source": [
        "from tqdm import tqdm \n",
        "current_loss = 0\n",
        "all_losses = []\n",
        "plot_steps, print_steps = 1000, 5000\n",
        "n_iters = 100000\n",
        "\n",
        "for i in tqdm(range(n_iters)):\n",
        "  cateory, line, category_tensor, line_tensor = randomTrainingExample()\n",
        "\n",
        "  output, loss = train(line_tensor, category_tensor)\n",
        "  current_loss += loss\n",
        "\n",
        "  scheduler.step() ##\n",
        "\n",
        "  if (i+1) % plot_steps ==0:\n",
        "    all_losses.append(current_loss/plot_steps)\n",
        "    current_loss = 0\n",
        "\n",
        "  if (i+1) % print_steps ==0:\n",
        "    guess = category_form_output(output)\n",
        "    correct = \"CORRECT\" if guess == category else f\"WRONG ({category})\"\n",
        "    print(f'{i+1} |percentage : {(i+1)/n_iters*100} |loss: {loss:.4f} |line: {line} / guess : {guess} {correct}')  \n",
        "\n"
      ],
      "execution_count": null,
      "outputs": [
        {
          "output_type": "stream",
          "text": [
            "  5%|▌         | 5104/100000 [00:07<02:13, 712.34it/s]"
          ],
          "name": "stderr"
        },
        {
          "output_type": "stream",
          "text": [
            "5000 |percentage : 5.0 |loss: 2.7760 |line: Duncan / guess : Arabic WRONG (German)\n"
          ],
          "name": "stdout"
        },
        {
          "output_type": "stream",
          "text": [
            " 10%|█         | 10108/100000 [00:14<02:07, 704.25it/s]"
          ],
          "name": "stderr"
        },
        {
          "output_type": "stream",
          "text": [
            "10000 |percentage : 10.0 |loss: 2.7697 |line: D'cruze / guess : Arabic WRONG (German)\n"
          ],
          "name": "stdout"
        },
        {
          "output_type": "stream",
          "text": [
            " 15%|█▌        | 15116/100000 [00:22<02:00, 703.22it/s]"
          ],
          "name": "stderr"
        },
        {
          "output_type": "stream",
          "text": [
            "15000 |percentage : 15.0 |loss: 3.1388 |line: Mendez / guess : Arabic WRONG (German)\n"
          ],
          "name": "stdout"
        },
        {
          "output_type": "stream",
          "text": [
            " 20%|██        | 20136/100000 [00:29<01:56, 687.64it/s]"
          ],
          "name": "stderr"
        },
        {
          "output_type": "stream",
          "text": [
            "20000 |percentage : 20.0 |loss: 2.6877 |line: Ferro / guess : Arabic WRONG (German)\n"
          ],
          "name": "stdout"
        },
        {
          "output_type": "stream",
          "text": [
            " 25%|██▌       | 25133/100000 [00:37<01:50, 677.41it/s]"
          ],
          "name": "stderr"
        },
        {
          "output_type": "stream",
          "text": [
            "25000 |percentage : 25.0 |loss: 3.0764 |line: Bermudez / guess : Arabic WRONG (German)\n"
          ],
          "name": "stdout"
        },
        {
          "output_type": "stream",
          "text": [
            " 30%|███       | 30099/100000 [00:44<01:41, 686.29it/s]"
          ],
          "name": "stderr"
        },
        {
          "output_type": "stream",
          "text": [
            "30000 |percentage : 30.0 |loss: 3.0479 |line: Rompuy / guess : Portuguese WRONG (German)\n"
          ],
          "name": "stdout"
        },
        {
          "output_type": "stream",
          "text": [
            " 35%|███▌      | 35104/100000 [00:51<01:33, 694.69it/s]"
          ],
          "name": "stderr"
        },
        {
          "output_type": "stream",
          "text": [
            "35000 |percentage : 35.0 |loss: 2.9643 |line: Wen / guess : Vietnamese WRONG (German)\n"
          ],
          "name": "stdout"
        },
        {
          "output_type": "stream",
          "text": [
            " 40%|████      | 40073/100000 [00:59<01:27, 683.20it/s]"
          ],
          "name": "stderr"
        },
        {
          "output_type": "stream",
          "text": [
            "40000 |percentage : 40.0 |loss: 2.4761 |line: Hanania / guess : Arabic WRONG (German)\n"
          ],
          "name": "stdout"
        },
        {
          "output_type": "stream",
          "text": [
            " 45%|████▌     | 45131/100000 [01:06<01:20, 684.56it/s]"
          ],
          "name": "stderr"
        },
        {
          "output_type": "stream",
          "text": [
            "45000 |percentage : 45.0 |loss: 3.3143 |line: Tanaka / guess : Arabic WRONG (German)\n"
          ],
          "name": "stdout"
        },
        {
          "output_type": "stream",
          "text": [
            " 50%|█████     | 50107/100000 [01:14<01:13, 676.24it/s]"
          ],
          "name": "stderr"
        },
        {
          "output_type": "stream",
          "text": [
            "50000 |percentage : 50.0 |loss: 2.8593 |line: Kolovos / guess : Czech WRONG (German)\n"
          ],
          "name": "stdout"
        },
        {
          "output_type": "stream",
          "text": [
            " 55%|█████▌    | 55076/100000 [01:21<01:05, 681.06it/s]"
          ],
          "name": "stderr"
        },
        {
          "output_type": "stream",
          "text": [
            "55000 |percentage : 55.00000000000001 |loss: 3.0529 |line: Hiu / guess : Korean WRONG (German)\n"
          ],
          "name": "stdout"
        },
        {
          "output_type": "stream",
          "text": [
            " 60%|██████    | 60099/100000 [01:28<00:57, 696.98it/s]"
          ],
          "name": "stderr"
        },
        {
          "output_type": "stream",
          "text": [
            "60000 |percentage : 60.0 |loss: 2.8226 |line: Serafin / guess : Chinese WRONG (German)\n"
          ],
          "name": "stdout"
        },
        {
          "output_type": "stream",
          "text": [
            " 65%|██████▌   | 65070/100000 [01:36<00:52, 668.34it/s]"
          ],
          "name": "stderr"
        },
        {
          "output_type": "stream",
          "text": [
            "65000 |percentage : 65.0 |loss: 3.1836 |line: Lockyer / guess : Arabic WRONG (German)\n"
          ],
          "name": "stdout"
        },
        {
          "output_type": "stream",
          "text": [
            " 70%|███████   | 70114/100000 [01:43<00:46, 637.67it/s]"
          ],
          "name": "stderr"
        },
        {
          "output_type": "stream",
          "text": [
            "70000 |percentage : 70.0 |loss: 3.0051 |line: O'Leary / guess : Portuguese WRONG (German)\n"
          ],
          "name": "stdout"
        },
        {
          "output_type": "stream",
          "text": [
            " 75%|███████▌  | 75130/100000 [01:51<00:35, 702.32it/s]"
          ],
          "name": "stderr"
        },
        {
          "output_type": "stream",
          "text": [
            "75000 |percentage : 75.0 |loss: 2.6397 |line: Rumsey / guess : French WRONG (German)\n"
          ],
          "name": "stdout"
        },
        {
          "output_type": "stream",
          "text": [
            " 80%|████████  | 80113/100000 [01:58<00:29, 680.43it/s]"
          ],
          "name": "stderr"
        },
        {
          "output_type": "stream",
          "text": [
            "80000 |percentage : 80.0 |loss: 2.8440 |line: Silveira / guess : Arabic WRONG (German)\n"
          ],
          "name": "stdout"
        },
        {
          "output_type": "stream",
          "text": [
            " 85%|████████▌ | 85074/100000 [02:06<00:25, 575.66it/s]"
          ],
          "name": "stderr"
        },
        {
          "output_type": "stream",
          "text": [
            "85000 |percentage : 85.0 |loss: 3.1283 |line: Yau / guess : Vietnamese WRONG (German)\n"
          ],
          "name": "stdout"
        },
        {
          "output_type": "stream",
          "text": [
            " 90%|█████████ | 90109/100000 [02:13<00:14, 674.56it/s]"
          ],
          "name": "stderr"
        },
        {
          "output_type": "stream",
          "text": [
            "90000 |percentage : 90.0 |loss: 2.9142 |line: Garrett / guess : Czech WRONG (German)\n"
          ],
          "name": "stdout"
        },
        {
          "output_type": "stream",
          "text": [
            " 95%|█████████▌| 95086/100000 [02:21<00:07, 683.95it/s]"
          ],
          "name": "stderr"
        },
        {
          "output_type": "stream",
          "text": [
            "95000 |percentage : 95.0 |loss: 2.9218 |line: Sokolsky / guess : Arabic WRONG (German)\n"
          ],
          "name": "stdout"
        },
        {
          "output_type": "stream",
          "text": [
            "100%|██████████| 100000/100000 [02:28<00:00, 673.76it/s]"
          ],
          "name": "stderr"
        },
        {
          "output_type": "stream",
          "text": [
            "100000 |percentage : 100.0 |loss: 2.5766 |line: Lim  / guess : Korean WRONG (German)\n"
          ],
          "name": "stdout"
        },
        {
          "output_type": "stream",
          "text": [
            "\n"
          ],
          "name": "stderr"
        }
      ]
    },
    {
      "cell_type": "markdown",
      "metadata": {
        "id": "4Z3UeBw0_43u"
      },
      "source": [
        "????every time we have examples of just one language."
      ]
    },
    {
      "cell_type": "code",
      "metadata": {
        "colab": {
          "base_uri": "https://localhost:8080/",
          "height": 281
        },
        "id": "WGhTtpxMPis_",
        "outputId": "8571df51-00c4-488c-813d-1dac5f603561"
      },
      "source": [
        "plt.figure()\n",
        "plt.plot(all_losses)\n",
        "plt.title('Loss function plot')\n",
        "plt.show()"
      ],
      "execution_count": null,
      "outputs": [
        {
          "output_type": "display_data",
          "data": {
            "image/png": "[encoded data removed]",
            "text/plain": [
              "<Figure size 432x288 with 1 Axes>"
            ]
          },
          "metadata": {
            "tags": [],
            "needs_background": "light"
          }
        }
      ]
    },
    {
      "cell_type": "code",
      "metadata": {
        "colab": {
          "base_uri": "https://localhost:8080/"
        },
        "id": "9YN_cfMQWTnz",
        "outputId": "8fb5b809-551e-4b45-e3d1-a4fbc1798a4c"
      },
      "source": [
        "scheduler.state_dict()"
      ],
      "execution_count": null,
      "outputs": [
        {
          "output_type": "execute_result",
          "data": {
            "text/plain": [
              "{'_get_lr_called_within_step': False,\n",
              " '_last_lr': [0.0],\n",
              " '_step_count': 100001,\n",
              " 'base_lrs': [0.005],\n",
              " 'gamma': 0.1,\n",
              " 'last_epoch': 100000,\n",
              " 'step_size': 30,\n",
              " 'verbose': False}"
            ]
          },
          "metadata": {
            "tags": []
          },
          "execution_count": 17
        }
      ]
    },
    {
      "cell_type": "code",
      "metadata": {
        "colab": {
          "base_uri": "https://localhost:8080/"
        },
        "id": "N5ecNqrGP0cC",
        "outputId": "f857beb2-001a-463d-f1db-886f0acc2148"
      },
      "source": [
        "y_actual = []\n",
        "y_pred = []\n",
        "n_total = 10000\n",
        "\n",
        "with torch.no_grad():\n",
        "  n_true = 0\n",
        "  n_class_correct = [0 for i in range(18)]\n",
        "  n_class_sample = [0 for i in range(18)]\n",
        "\n",
        "  for i in tqdm(range(n_total)):\n",
        "    cateory, line, category_tensor, line_tensor = randomTrainingExample()\n",
        "\n",
        "    hidden = rnn.init_hidden()\n",
        "\n",
        "    for i in range(line_tensor.size()[0]):\n",
        "      output, hidden = rnn(line_tensor[i], hidden)\n",
        "\n",
        "      guess = category_form_output(output)\n",
        "      y_pred.append(all_categories.index(guess))\n",
        "      y_actual.append(all_categories.index(category))\n",
        "\n",
        "      n_true += (guess == category)\n",
        "      if guess == category :\n",
        "        n_class_correct[all_categories.index(category)] += 1\n",
        "      n_class_sample[all_categories.index(category)] += 1\n",
        "      \n",
        "  print(f'accuracy of network on the 1000 names is : {(n_true/n_total) *100}')\n",
        "  \n",
        "  for i in range(18):\n",
        "    if n_class_sample[i] != 0:\n",
        "      acc = 100.0 * n_class_correct[i] / n_class_sample[i]\n",
        "      print(f'Accuracy of {all_categories[i]}: {acc} %')\n",
        "  "
      ],
      "execution_count": null,
      "outputs": [
        {
          "output_type": "stream",
          "text": [
            "100%|██████████| 10000/10000 [00:05<00:00, 1972.53it/s]"
          ],
          "name": "stderr"
        },
        {
          "output_type": "stream",
          "text": [
            "accuracy of network on the 1000 names is : 0.12\n",
            "Accuracy of German: 0.018977732793522266 %\n"
          ],
          "name": "stdout"
        },
        {
          "output_type": "stream",
          "text": [
            "\n"
          ],
          "name": "stderr"
        }
      ]
    },
    {
      "cell_type": "code",
      "metadata": {
        "colab": {
          "base_uri": "https://localhost:8080/"
        },
        "id": "YGvBs_Nl3Snm",
        "outputId": "ebde159f-753e-4a67-ef5c-83cd0bc5c506"
      },
      "source": [
        "all_categories"
      ],
      "execution_count": null,
      "outputs": [
        {
          "output_type": "execute_result",
          "data": {
            "text/plain": [
              "['Arabic',\n",
              " 'Chinese',\n",
              " 'Czech',\n",
              " 'Dutch',\n",
              " 'English',\n",
              " 'French',\n",
              " 'German',\n",
              " 'Greek',\n",
              " 'Irish',\n",
              " 'Italian',\n",
              " 'Japanese',\n",
              " 'Korean',\n",
              " 'Polish',\n",
              " 'Portuguese',\n",
              " 'Russian',\n",
              " 'Scottish',\n",
              " 'Spanish',\n",
              " 'Vietnamese']"
            ]
          },
          "metadata": {
            "tags": []
          },
          "execution_count": 19
        }
      ]
    },
    {
      "cell_type": "markdown",
      "metadata": {
        "id": "7Be98raB_sCA"
      },
      "source": [
        "###Confusion matrix"
      ]
    },
    {
      "cell_type": "code",
      "metadata": {
        "colab": {
          "base_uri": "https://localhost:8080/",
          "height": 947
        },
        "id": "SUQwBn-T_KHZ",
        "outputId": "e9a0e6f2-e498-4973-dc86-9a50da73d4e4"
      },
      "source": [
        "from sklearn import metrics\n",
        "import seaborn as sns\n",
        "\n",
        "plt.figure(figsize = (16,16))\n",
        "ax= plt.subplot()\n",
        "cnf_matrix = metrics.confusion_matrix(y_actual, y_pred)\n",
        "sns.heatmap(pd.DataFrame(cnf_matrix), annot=True, fmt='g', ax=ax);  #annot=True to annotate cells, ftm='g' to disable scientific notation\n",
        "\n",
        "# labels, title and ticks\n",
        "ax.set_xlabel('Predicted labels');ax.set_ylabel('Actual labels'); \n",
        "ax.set_title('Confusion Matrix of model 1'); \n",
        "class_names=['Arabic','Chinese','Czech','Dutch','English','French','German','Greek','Irish','Italian','Japanese','Korean','Polish','Portuguese','Russian','Scottish','Spanish','Vietnamese']\n",
        "ax.xaxis.set_ticklabels(class_names); ax.yaxis.set_ticklabels(class_names);"
      ],
      "execution_count": null,
      "outputs": [
        {
          "output_type": "display_data",
          "data": {
            "image/png": "[encoded data removed]",
            "text/plain": [
              "<Figure size 1152x1152 with 2 Axes>"
            ]
          },
          "metadata": {
            "tags": [],
            "needs_background": "light"
          }
        }
      ]
    },
    {
      "cell_type": "markdown",
      "metadata": {
        "id": "2KTzZGzu_p3D"
      },
      "source": [
        "###Classification report"
      ]
    },
    {
      "cell_type": "code",
      "metadata": {
        "colab": {
          "base_uri": "https://localhost:8080/"
        },
        "id": "V_A-hxNx_mgv",
        "outputId": "d1bdf2aa-9b41-4820-b3dc-58349ac30135"
      },
      "source": [
        "print(classification_report(y_actual, y_pred))"
      ],
      "execution_count": null,
      "outputs": [
        {
          "output_type": "stream",
          "text": [
            "              precision    recall  f1-score   support\n",
            "\n",
            "           0       0.00      0.00      0.00         0\n",
            "           1       0.00      0.00      0.00         0\n",
            "           2       0.00      0.00      0.00         0\n",
            "           3       0.00      0.00      0.00         0\n",
            "           4       0.00      0.00      0.00         0\n",
            "           5       0.00      0.00      0.00         0\n",
            "           6       1.00      0.00      0.00     63232\n",
            "           7       0.00      0.00      0.00         0\n",
            "           8       0.00      0.00      0.00         0\n",
            "           9       0.00      0.00      0.00         0\n",
            "          10       0.00      0.00      0.00         0\n",
            "          11       0.00      0.00      0.00         0\n",
            "          12       0.00      0.00      0.00         0\n",
            "          13       0.00      0.00      0.00         0\n",
            "          14       0.00      0.00      0.00         0\n",
            "          15       0.00      0.00      0.00         0\n",
            "          16       0.00      0.00      0.00         0\n",
            "          17       0.00      0.00      0.00         0\n",
            "\n",
            "    accuracy                           0.00     63232\n",
            "   macro avg       0.06      0.00      0.00     63232\n",
            "weighted avg       1.00      0.00      0.00     63232\n",
            "\n"
          ],
          "name": "stdout"
        }
      ]
    },
    {
      "cell_type": "markdown",
      "metadata": {
        "id": "7RFnq0ENpTx1"
      },
      "source": [
        "accuracy_confusion matrix"
      ]
    },
    {
      "cell_type": "code",
      "metadata": {
        "id": "vtfsHCnc1K3h"
      },
      "source": [
        "def predict(input_line):\n",
        "    print(f\"\\n> {input_line}\")\n",
        "    with torch.no_grad():\n",
        "        line_tensor = line_to_tensor(input_line)\n",
        "        \n",
        "        hidden = rnn.init_hidden()\n",
        "    \n",
        "        for i in range(line_tensor.size()[0]):\n",
        "            output, hidden = rnn(line_tensor[i], hidden)\n",
        "        \n",
        "        guess = category_form_output(output)\n",
        "        print(guess)"
      ],
      "execution_count": null,
      "outputs": []
    },
    {
      "cell_type": "code",
      "metadata": {
        "colab": {
          "base_uri": "https://localhost:8080/"
        },
        "id": "3LVHZJi4ovXx",
        "outputId": "2543e29a-de2b-4d96-d2a7-67392b011d05"
      },
      "source": [
        "predict('Austin')"
      ],
      "execution_count": null,
      "outputs": [
        {
          "output_type": "stream",
          "text": [
            "\n",
            "> Austin\n",
            "Chinese\n"
          ],
          "name": "stdout"
        }
      ]
    }
  ]
}