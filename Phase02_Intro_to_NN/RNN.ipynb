{
  "nbformat": 4,
  "nbformat_minor": 0,
  "metadata": {
    "colab": {
      "name": "RNN.ipynb",
      "provenance": [],
      "collapsed_sections": [],
      "toc_visible": true
    },
    "kernelspec": {
      "name": "python3",
      "display_name": "Python 3"
    },
    "language_info": {
      "name": "python"
    }
  },
  "cells": [
    {
      "cell_type": "markdown",
      "metadata": {
        "id": "DfXyCER1gCrS"
      },
      "source": [
        "#Section 6: Recurrent NN"
      ]
    },
    {
      "cell_type": "markdown",
      "metadata": {
        "id": "-u6DKb07gIFT"
      },
      "source": [
        "##Name Classification using RNN"
      ]
    },
    {
      "cell_type": "code",
      "metadata": {
        "id": "q3DX2NIonawh"
      },
      "source": [
        "import numpy as np\n",
        "import pandas as pd\n",
        "import os\n",
        "import matplotlib.pyplot as plt\n",
        "from sklearn.metrics import classification_report, confusion_matrix\n",
        "import random\n",
        "import io\n",
        "\n",
        "#Neural Network packages\n",
        "\n",
        "import torch\n",
        "import torch.nn as nn\n",
        "import torch.optim as optim\n",
        "import torchvision\n",
        "import torchvision.transforms as transforms\n",
        "from torch.utils.data import Dataset\n",
        "from torchvision import models\n",
        "from torch.optim.lr_scheduler import StepLR\n",
        "from torch.utils.data.sampler import SubsetRandomSampler\n",
        "from tqdm import tqdm\n",
        "import torch.nn.functional as F\n",
        "\n",
        "# Text packages\n",
        "import unicodedata\n",
        "import string\n",
        "\n",
        "seed = torch.manual_seed(0)\n",
        "\n",
        "import warnings\n",
        "warnings.filterwarnings('ignore')"
      ],
      "execution_count": 1,
      "outputs": []
    },
    {
      "cell_type": "code",
      "metadata": {
        "colab": {
          "base_uri": "https://localhost:8080/"
        },
        "id": "pOHhBGnknaqS",
        "outputId": "f3edb413-ae7c-41b9-ddaf-1768b21bec61"
      },
      "source": [
        "from google.colab import drive\n",
        "drive.mount('/content/drive')"
      ],
      "execution_count": 2,
      "outputs": [
        {
          "output_type": "stream",
          "text": [
            "Drive already mounted at /content/drive; to attempt to forcibly remount, call drive.mount(\"/content/drive\", force_remount=True).\n"
          ],
          "name": "stdout"
        }
      ]
    },
    {
      "cell_type": "code",
      "metadata": {
        "id": "2-kZIPqkEo4Q"
      },
      "source": [
        "# import zipfile\n",
        "# # unzip image file\n",
        "# local_zip = '/content/drive/MyDrive/AI-Internship/NameClassification.zip'\n",
        "# zip_ref = zipfile.ZipFile(local_zip, 'r')\n",
        "# zip_ref.extractall('/content/drive/MyDrive/AI-Internship/NameClassificationn')\n",
        "# zip_ref.close()"
      ],
      "execution_count": null,
      "outputs": []
    },
    {
      "cell_type": "markdown",
      "metadata": {
        "id": "dLIa8GHN-POe"
      },
      "source": [
        "###Data preprocessing"
      ]
    },
    {
      "cell_type": "markdown",
      "metadata": {
        "id": "DeXPm9e79xna"
      },
      "source": [
        "In order to load all files with special address pattern, we use glob library."
      ]
    },
    {
      "cell_type": "code",
      "metadata": {
        "colab": {
          "base_uri": "https://localhost:8080/"
        },
        "id": "TzlFj0aa7NWv",
        "outputId": "59db7a5e-9199-4283-a7dd-84dc43281ee0"
      },
      "source": [
        "import glob\n",
        "all_text_files = glob.glob('/content/drive/MyDrive/AI-Internship/NameClassificationn/data/names/*.txt')\n",
        "print(f'First element of all text files is : {all_text_files[0]}')\n",
        "print(f'length of all text files is: {len(all_text_files)}')"
      ],
      "execution_count": 3,
      "outputs": [
        {
          "output_type": "stream",
          "text": [
            "First element of all text files is : /content/drive/MyDrive/AI-Internship/NameClassificationn/data/names/Arabic.txt\n",
            "length of all text files is: 18\n"
          ],
          "name": "stdout"
        }
      ]
    },
    {
      "cell_type": "code",
      "metadata": {
        "colab": {
          "base_uri": "https://localhost:8080/"
        },
        "id": "2pW7Lwt9-F-m",
        "outputId": "7eb315ed-3767-4773-808f-b52e79841fcd"
      },
      "source": [
        "all_letters = string.ascii_letters\n",
        "n_letters = len(all_letters)\n",
        "print(f'all letters : {all_letters}')\n",
        "print(f'length of all letters: {len(all_letters)}')"
      ],
      "execution_count": 4,
      "outputs": [
        {
          "output_type": "stream",
          "text": [
            "all letters : abcdefghijklmnopqrstuvwxyzABCDEFGHIJKLMNOPQRSTUVWXYZ\n",
            "length of all letters: 52\n"
          ],
          "name": "stdout"
        }
      ]
    },
    {
      "cell_type": "markdown",
      "metadata": {
        "id": "yowl_8UWAKry"
      },
      "source": [
        "Because in some languages like French, names are in unicode form, we should convert them to ascii."
      ]
    },
    {
      "cell_type": "code",
      "metadata": {
        "colab": {
          "base_uri": "https://localhost:8080/"
        },
        "id": "IdLMfgtg_hR6",
        "outputId": "d26bb157-dcda-4f45-9cd0-13ec38d0b7de"
      },
      "source": [
        "# Fuction for convert names in unicode form to ascii\n",
        "def unicode_to_ascii(s):\n",
        "    return ''.join(\n",
        "        c for c in unicodedata.normalize('NFD', s)\n",
        "        if unicodedata.category(c) != 'Mn'\n",
        "        and c in all_letters\n",
        "    )\n",
        "\n",
        "print(unicode_to_ascii('Béringer'))"
      ],
      "execution_count": 5,
      "outputs": [
        {
          "output_type": "stream",
          "text": [
            "Beringer\n"
          ],
          "name": "stdout"
        }
      ]
    },
    {
      "cell_type": "markdown",
      "metadata": {
        "id": "bZjoe6Ke_8cQ"
      },
      "source": [
        "We should create a dictionary that keys are languages and values of dictionary are names."
      ]
    },
    {
      "cell_type": "code",
      "metadata": {
        "colab": {
          "base_uri": "https://localhost:8080/"
        },
        "id": "SoXAxuUh_v4h",
        "outputId": "c2e47457-d1ce-4918-e610-1a0520953da4"
      },
      "source": [
        "category_lines = {}\n",
        "all_categories = []\n",
        "\n",
        "# Read a file and split into lines\n",
        "# then convert names into ascii and lowercase\n",
        "def readlines(filename):\n",
        "  lines = io.open(filename, encoding='utf-8').read().strip().split('\\n')\n",
        "  return [unicode_to_ascii(line).lower() for line in lines] \n",
        "\n",
        "for filename in all_text_files:\n",
        "  category = os.path.splitext(os.path.basename(filename))[0]\n",
        "  all_categories.append(category)\n",
        "  category_lines[category] = readlines(filename)\n",
        "\n",
        "print(f'There are {len(all_categories)} languages.')\n",
        "print(f'first 10 examples of {all_categories[0]} names : {category_lines[all_categories[0]][:10]}')"
      ],
      "execution_count": 6,
      "outputs": [
        {
          "output_type": "stream",
          "text": [
            "There are 18 languages.\n",
            "first 10 examples of Arabic names : ['khoury', 'nahas', 'daher', 'gerges', 'nazari', 'maalouf', 'gerges', 'naifeh', 'guirguis', 'baba']\n"
          ],
          "name": "stdout"
        }
      ]
    },
    {
      "cell_type": "code",
      "metadata": {
        "colab": {
          "base_uri": "https://localhost:8080/"
        },
        "id": "xPZeARaWFLJK",
        "outputId": "e14c89e5-ed1e-4bdf-d363-50ee3ba61a79"
      },
      "source": [
        "num_names = 0\n",
        "for i in all_categories:\n",
        "  num_names += len(category_lines[i])\n",
        "\n",
        "print(f'Number of all names : {num_names}')"
      ],
      "execution_count": 7,
      "outputs": [
        {
          "output_type": "stream",
          "text": [
            "Number of all names : 20074\n"
          ],
          "name": "stdout"
        }
      ]
    },
    {
      "cell_type": "markdown",
      "metadata": {
        "id": "1zYdQ0tPEwpE"
      },
      "source": [
        "#####Convert names to pytorch tensors"
      ]
    },
    {
      "cell_type": "code",
      "metadata": {
        "colab": {
          "base_uri": "https://localhost:8080/"
        },
        "id": "rZIrtwKQE1nQ",
        "outputId": "4e794eb4-924a-4a6a-fb47-a8acda007ff4"
      },
      "source": [
        "# one hot encoding for a letter\n",
        "# Find letter index from all_letters\n",
        "def letter_to_index(letter):\n",
        "  return all_letters.find(letter)\n",
        "  \n",
        "# Turn a line into a <line_length x 1 x n_letters>\n",
        "def line_to_tensor(line):\n",
        "  tensor = torch.zeros(len(line), 1, int(n_letters/2)) # because we have lowercase names\n",
        "  for i, letter in enumerate(line):\n",
        "    tensor[i][0][letter_to_index(letter)] = 1\n",
        "  return tensor\n",
        "    \n",
        "print(line_to_tensor('a'))\n",
        "print(line_to_tensor('a').size())"
      ],
      "execution_count": 8,
      "outputs": [
        {
          "output_type": "stream",
          "text": [
            "tensor([[[1., 0., 0., 0., 0., 0., 0., 0., 0., 0., 0., 0., 0., 0., 0., 0., 0.,\n",
            "          0., 0., 0., 0., 0., 0., 0., 0., 0.]]])\n",
            "torch.Size([1, 1, 26])\n"
          ],
          "name": "stdout"
        }
      ]
    },
    {
      "cell_type": "markdown",
      "metadata": {
        "id": "zbkLpbp6-wsG"
      },
      "source": [
        "###Buliding RNN"
      ]
    },
    {
      "cell_type": "code",
      "metadata": {
        "id": "52T0AwNsHnRs"
      },
      "source": [
        "class RNN(nn.Module):\n",
        "  def __init__(self, input_size, hidden_size, output_size):\n",
        "    super(RNN, self).__init__()\n",
        "\n",
        "    self.hidden_size = hidden_size\n",
        "    self.i2h = nn.Linear(input_size + hidden_size , hidden_size)\n",
        "    self.i2o = nn.Linear(input_size + hidden_size, output_size)\n",
        "    self.softmax = nn.LogSoftmax(dim=1)\n",
        "\n",
        "  def forward(self, input_tensor, hidden_tensor):\n",
        "    combined = torch.cat((input_tensor, hidden_tensor), 1)\n",
        "\n",
        "    hidden = self.i2h(combined)\n",
        "    output = self.i2o(combined)\n",
        "    output = self.softmax(output)\n",
        "    return output, hidden\n",
        "\n",
        "  def init_hidden(self):#####\n",
        "    return torch.rand(1, self.hidden_size)  \n"
      ],
      "execution_count": 15,
      "outputs": []
    },
    {
      "cell_type": "markdown",
      "metadata": {
        "id": "ear7MOnyeQu3"
      },
      "source": [
        "####Testing model"
      ]
    },
    {
      "cell_type": "code",
      "metadata": {
        "colab": {
          "base_uri": "https://localhost:8080/"
        },
        "id": "2GvWJVuGErtu",
        "outputId": "628a063f-1b00-4218-820f-a26984aad115"
      },
      "source": [
        "n_hidden = 128\n",
        "rnn = RNN(int(n_letters/2), n_hidden, len(all_categories))\n",
        "\n",
        "#one step\n",
        "input_tensor = line_to_tensor('albert')\n",
        "hidden_tensor = rnn.init_hidden() \n",
        "\n",
        "output, next_hidden = rnn(input_tensor[0], hidden_tensor)\n",
        "\n",
        "print(f'input tensor size: {input_tensor.size()}')\n",
        "print(f'hidden tensor size : {hidden_tensor.size()}')\n",
        "\n",
        "print(f'output size : {output.size()}')\n",
        "print(f'next hidden size : {next_hidden.size()}')"
      ],
      "execution_count": 16,
      "outputs": [
        {
          "output_type": "stream",
          "text": [
            "input tensor size: torch.Size([6, 1, 26])\n",
            "hidden tensor size : torch.Size([1, 128])\n",
            "output size : torch.Size([1, 18])\n",
            "next hidden size : torch.Size([1, 128])\n"
          ],
          "name": "stdout"
        }
      ]
    },
    {
      "cell_type": "code",
      "metadata": {
        "colab": {
          "base_uri": "https://localhost:8080/"
        },
        "id": "bXyvEkflh5cA",
        "outputId": "fddf572b-a8b6-4dfe-ad9f-1bc625a9483d"
      },
      "source": [
        "output"
      ],
      "execution_count": 17,
      "outputs": [
        {
          "output_type": "execute_result",
          "data": {
            "text/plain": [
              "tensor([[-2.9525, -2.5677, -2.8309, -2.7509, -3.0638, -2.7127, -3.0615, -2.6954,\n",
              "         -2.7440, -2.7990, -2.9442, -3.5382, -2.9408, -3.2513, -3.0061, -2.8617,\n",
              "         -3.0727, -2.6669]], grad_fn=<LogSoftmaxBackward>)"
            ]
          },
          "metadata": {
            "tags": []
          },
          "execution_count": 17
        }
      ]
    },
    {
      "cell_type": "code",
      "metadata": {
        "colab": {
          "base_uri": "https://localhost:8080/"
        },
        "id": "IAjGmaGrh_uO",
        "outputId": "237cf5a5-0f98-4ae8-a62a-0a211b32f40e"
      },
      "source": [
        "torch.argmax(output).item()"
      ],
      "execution_count": 18,
      "outputs": [
        {
          "output_type": "execute_result",
          "data": {
            "text/plain": [
              "1"
            ]
          },
          "metadata": {
            "tags": []
          },
          "execution_count": 18
        }
      ]
    },
    {
      "cell_type": "markdown",
      "metadata": {
        "id": "cqlIxdWplEfQ"
      },
      "source": [
        "###Preparing for training"
      ]
    },
    {
      "cell_type": "markdown",
      "metadata": {
        "id": "etxkZloZiAa-"
      },
      "source": [
        "In order to get index of maximum value in output we use the following funciton."
      ]
    },
    {
      "cell_type": "code",
      "metadata": {
        "colab": {
          "base_uri": "https://localhost:8080/"
        },
        "id": "WrImc-EDh-lO",
        "outputId": "78da8cab-0b68-4d03-fbef-dca1e20a7784"
      },
      "source": [
        "def category_form_output(output):\n",
        "  index = torch.argmax(output).item()\n",
        "  return all_categories[index]\n",
        "\n",
        "print(category_form_output(output))"
      ],
      "execution_count": 19,
      "outputs": [
        {
          "output_type": "stream",
          "text": [
            "Chinese\n"
          ],
          "name": "stdout"
        }
      ]
    },
    {
      "cell_type": "code",
      "metadata": {
        "colab": {
          "base_uri": "https://localhost:8080/"
        },
        "id": "6WhzPD5_k_44",
        "outputId": "9de27492-2a22-4016-e623-a9b171ca4a6a"
      },
      "source": [
        "def randomChoice(lst):\n",
        "  return lst[random.randint(0, len(lst)-1)]\n",
        "\n",
        "def randomTrainingExample(): #####\n",
        "    category = randomChoice(all_categories)\n",
        "    line = randomChoice(category_lines[category])\n",
        "    category_tensor = torch.tensor([all_categories.index(category)], dtype=torch.long)\n",
        "    line_tensor = line_to_tensor(line)\n",
        "    return category, line, category_tensor, line_tensor\n",
        "\n",
        "for i in range(5):\n",
        "  category, line, category_tensor, line_tensor = randomTrainingExample()\n",
        "  print(f'cateogry = {category} | line : {line} |category_tensor size : {category_tensor.size()} | line tensor size : {line_tensor.size()}' )\n",
        "  "
      ],
      "execution_count": 20,
      "outputs": [
        {
          "output_type": "stream",
          "text": [
            "cateogry = Portuguese | line : pinheiro |category_tensor size : torch.Size([1]) | line tensor size : torch.Size([8, 1, 26])\n",
            "cateogry = Korean | line : cha |category_tensor size : torch.Size([1]) | line tensor size : torch.Size([3, 1, 26])\n",
            "cateogry = Vietnamese | line : huynh |category_tensor size : torch.Size([1]) | line tensor size : torch.Size([5, 1, 26])\n",
            "cateogry = English | line : angus |category_tensor size : torch.Size([1]) | line tensor size : torch.Size([5, 1, 26])\n",
            "cateogry = Korean | line : lee |category_tensor size : torch.Size([1]) | line tensor size : torch.Size([3, 1, 26])\n"
          ],
          "name": "stdout"
        }
      ]
    },
    {
      "cell_type": "markdown",
      "metadata": {
        "id": "HrZRhVJ7fuJ2"
      },
      "source": [
        "Define a function for finding category of a name."
      ]
    },
    {
      "cell_type": "code",
      "metadata": {
        "id": "ShyNwjmge9Wc"
      },
      "source": [
        "def find_name(name):\n",
        "  for i in all_categories:\n",
        "    if name in category_lines[i]:\n",
        "      print(i)"
      ],
      "execution_count": 22,
      "outputs": []
    },
    {
      "cell_type": "code",
      "metadata": {
        "colab": {
          "base_uri": "https://localhost:8080/"
        },
        "id": "9AfaZvo0fDIn",
        "outputId": "ee3494c9-4db9-4de1-c8aa-2378083c0da4"
      },
      "source": [
        "find_name('huynh')"
      ],
      "execution_count": 25,
      "outputs": [
        {
          "output_type": "stream",
          "text": [
            "Vietnamese\n"
          ],
          "name": "stdout"
        }
      ]
    },
    {
      "cell_type": "markdown",
      "metadata": {
        "id": "yuJ7t9r1p_fp"
      },
      "source": [
        "###Training the model"
      ]
    },
    {
      "cell_type": "markdown",
      "metadata": {
        "id": "AMebhTAAZMDO"
      },
      "source": [
        "problem start from here."
      ]
    },
    {
      "cell_type": "code",
      "metadata": {
        "id": "PlgeJYjQp9iK"
      },
      "source": [
        "criterion = nn.NLLLoss()\n",
        "learning_rate = 0.005\n",
        "optimizer = torch.optim.Adam(rnn.parameters(), lr = learning_rate)\n",
        "scheduler = StepLR(optimizer, step_size = 50, gamma = 0.1)"
      ],
      "execution_count": 26,
      "outputs": []
    },
    {
      "cell_type": "code",
      "metadata": {
        "id": "PSF9fye7rNuT"
      },
      "source": [
        "def train(line_tensor, category_tensor):\n",
        "  hidden = rnn.init_hidden()\n",
        "\n",
        "  for i in range(line_tensor.size()[0]):\n",
        "    output, hidden = rnn(line_tensor[i], hidden)\n",
        "\n",
        "  loss = criterion(output, category_tensor)\n",
        "  optimizer.zero_grad()\n",
        "  loss.backward()   \n",
        "  optimizer.step()\n",
        "\n",
        "  return output, loss.item()"
      ],
      "execution_count": 27,
      "outputs": []
    },
    {
      "cell_type": "code",
      "metadata": {
        "id": "Rvt8xJtgzxGe",
        "colab": {
          "base_uri": "https://localhost:8080/"
        },
        "outputId": "7d9678fa-e005-4b40-dc23-4fd99f34faf3"
      },
      "source": [
        "from tqdm import tqdm \n",
        "\n",
        "current_loss = 0\n",
        "all_losses = []\n",
        "plot_steps, print_steps = 1000, 5000\n",
        "n_epoch = 100000\n",
        "\n",
        "for i in tqdm(range(n_epoch)):\n",
        "  category, line, category_tensor, line_tensor = randomTrainingExample()\n",
        "\n",
        "  output, loss = train(line_tensor, category_tensor)\n",
        "  current_loss += loss\n",
        "\n",
        "  scheduler.step() ##\n",
        "\n",
        "  if (i+1) % plot_steps ==0:\n",
        "    all_losses.append(current_loss/plot_steps)\n",
        "    current_loss = 0\n",
        "\n",
        "  if (i+1) % print_steps ==0:\n",
        "    guess = category_form_output(output)\n",
        "    correct = \"CORRECT\" if guess == category else f\"WRONG ({category})\"\n",
        "    print(f'Epoch : {i+1} |percentage : {(i+1)/n_epoch*100} |loss: {loss:.4f} |line: {line} / guess : {guess} {correct}')  \n",
        "\n"
      ],
      "execution_count": 28,
      "outputs": [
        {
          "output_type": "stream",
          "text": [
            "  5%|▌         | 5075/100000 [00:07<02:19, 682.62it/s]"
          ],
          "name": "stderr"
        },
        {
          "output_type": "stream",
          "text": [
            "Epoch : 5000 |percentage : 5.0 |loss: 3.0246 |line: kringos / guess : Portuguese WRONG (Greek)\n"
          ],
          "name": "stdout"
        },
        {
          "output_type": "stream",
          "text": [
            " 10%|█         | 10097/100000 [00:14<02:09, 692.30it/s]"
          ],
          "name": "stderr"
        },
        {
          "output_type": "stream",
          "text": [
            "Epoch : 10000 |percentage : 10.0 |loss: 2.9355 |line: amello / guess : English WRONG (Italian)\n"
          ],
          "name": "stdout"
        },
        {
          "output_type": "stream",
          "text": [
            " 15%|█▌        | 15119/100000 [00:22<02:03, 689.39it/s]"
          ],
          "name": "stderr"
        },
        {
          "output_type": "stream",
          "text": [
            "Epoch : 15000 |percentage : 15.0 |loss: 2.1196 |line: grzeskiewicz / guess : Polish CORRECT\n"
          ],
          "name": "stdout"
        },
        {
          "output_type": "stream",
          "text": [
            " 20%|██        | 20133/100000 [00:29<01:55, 693.55it/s]"
          ],
          "name": "stderr"
        },
        {
          "output_type": "stream",
          "text": [
            "Epoch : 20000 |percentage : 20.0 |loss: 2.9400 |line: ramsay / guess : English WRONG (Scottish)\n"
          ],
          "name": "stdout"
        },
        {
          "output_type": "stream",
          "text": [
            " 25%|██▌       | 25128/100000 [00:36<01:47, 695.15it/s]"
          ],
          "name": "stderr"
        },
        {
          "output_type": "stream",
          "text": [
            "Epoch : 25000 |percentage : 25.0 |loss: 2.7791 |line: morrison / guess : Polish WRONG (Scottish)\n"
          ],
          "name": "stdout"
        },
        {
          "output_type": "stream",
          "text": [
            " 30%|███       | 30112/100000 [00:43<01:38, 708.81it/s]"
          ],
          "name": "stderr"
        },
        {
          "output_type": "stream",
          "text": [
            "Epoch : 30000 |percentage : 30.0 |loss: 2.5194 |line: paszek / guess : English WRONG (Polish)\n"
          ],
          "name": "stdout"
        },
        {
          "output_type": "stream",
          "text": [
            " 35%|███▌      | 35080/100000 [00:51<01:33, 697.69it/s]"
          ],
          "name": "stderr"
        },
        {
          "output_type": "stream",
          "text": [
            "Epoch : 35000 |percentage : 35.0 |loss: 2.9714 |line: smets / guess : Chinese WRONG (Dutch)\n"
          ],
          "name": "stdout"
        },
        {
          "output_type": "stream",
          "text": [
            " 40%|████      | 40109/100000 [00:58<01:27, 680.68it/s]"
          ],
          "name": "stderr"
        },
        {
          "output_type": "stream",
          "text": [
            "Epoch : 40000 |percentage : 40.0 |loss: 3.6436 |line: maria / guess : Chinese WRONG (Italian)\n"
          ],
          "name": "stdout"
        },
        {
          "output_type": "stream",
          "text": [
            " 45%|████▌     | 45120/100000 [01:05<01:20, 683.13it/s]"
          ],
          "name": "stderr"
        },
        {
          "output_type": "stream",
          "text": [
            "Epoch : 45000 |percentage : 45.0 |loss: 3.2532 |line: zhenin / guess : English WRONG (Russian)\n"
          ],
          "name": "stdout"
        },
        {
          "output_type": "stream",
          "text": [
            " 50%|█████     | 50130/100000 [01:13<01:11, 699.24it/s]"
          ],
          "name": "stderr"
        },
        {
          "output_type": "stream",
          "text": [
            "Epoch : 50000 |percentage : 50.0 |loss: 2.7496 |line: hanania / guess : Portuguese WRONG (Arabic)\n"
          ],
          "name": "stdout"
        },
        {
          "output_type": "stream",
          "text": [
            " 55%|█████▌    | 55135/100000 [01:20<01:07, 666.68it/s]"
          ],
          "name": "stderr"
        },
        {
          "output_type": "stream",
          "text": [
            "Epoch : 55000 |percentage : 55.00000000000001 |loss: 2.5030 |line: tyman / guess : Korean WRONG (English)\n"
          ],
          "name": "stdout"
        },
        {
          "output_type": "stream",
          "text": [
            " 60%|██████    | 60107/100000 [01:27<00:56, 700.29it/s]"
          ],
          "name": "stderr"
        },
        {
          "output_type": "stream",
          "text": [
            "Epoch : 60000 |percentage : 60.0 |loss: 3.4666 |line: riha / guess : Korean WRONG (Czech)\n"
          ],
          "name": "stdout"
        },
        {
          "output_type": "stream",
          "text": [
            " 65%|██████▌   | 65111/100000 [01:34<00:51, 675.08it/s]"
          ],
          "name": "stderr"
        },
        {
          "output_type": "stream",
          "text": [
            "Epoch : 65000 |percentage : 65.0 |loss: 3.1267 |line: colman / guess : English WRONG (Irish)\n"
          ],
          "name": "stdout"
        },
        {
          "output_type": "stream",
          "text": [
            " 70%|███████   | 70119/100000 [01:42<00:45, 660.09it/s]"
          ],
          "name": "stderr"
        },
        {
          "output_type": "stream",
          "text": [
            "Epoch : 70000 |percentage : 70.0 |loss: 1.6806 |line: le / guess : Vietnamese CORRECT\n"
          ],
          "name": "stdout"
        },
        {
          "output_type": "stream",
          "text": [
            " 75%|███████▌  | 75084/100000 [01:49<00:38, 645.51it/s]"
          ],
          "name": "stderr"
        },
        {
          "output_type": "stream",
          "text": [
            "Epoch : 75000 |percentage : 75.0 |loss: 2.9612 |line: mitchell / guess : Italian WRONG (Scottish)\n"
          ],
          "name": "stdout"
        },
        {
          "output_type": "stream",
          "text": [
            " 80%|████████  | 80074/100000 [01:56<00:28, 699.73it/s]"
          ],
          "name": "stderr"
        },
        {
          "output_type": "stream",
          "text": [
            "Epoch : 80000 |percentage : 80.0 |loss: 2.5857 |line: salib / guess : Chinese WRONG (Arabic)\n"
          ],
          "name": "stdout"
        },
        {
          "output_type": "stream",
          "text": [
            " 85%|████████▌ | 85103/100000 [02:03<00:21, 688.19it/s]"
          ],
          "name": "stderr"
        },
        {
          "output_type": "stream",
          "text": [
            "Epoch : 85000 |percentage : 85.0 |loss: 2.9322 |line: ondrisek / guess : Polish WRONG (Czech)\n"
          ],
          "name": "stdout"
        },
        {
          "output_type": "stream",
          "text": [
            " 90%|█████████ | 90139/100000 [02:10<00:14, 702.36it/s]"
          ],
          "name": "stderr"
        },
        {
          "output_type": "stream",
          "text": [
            "Epoch : 90000 |percentage : 90.0 |loss: 3.1043 |line: colman / guess : English WRONG (Irish)\n"
          ],
          "name": "stdout"
        },
        {
          "output_type": "stream",
          "text": [
            " 95%|█████████▌| 95085/100000 [02:18<00:07, 699.29it/s]"
          ],
          "name": "stderr"
        },
        {
          "output_type": "stream",
          "text": [
            "Epoch : 95000 |percentage : 95.0 |loss: 4.5309 |line: jaso / guess : Vietnamese WRONG (Spanish)\n"
          ],
          "name": "stdout"
        },
        {
          "output_type": "stream",
          "text": [
            "100%|██████████| 100000/100000 [02:25<00:00, 687.87it/s]"
          ],
          "name": "stderr"
        },
        {
          "output_type": "stream",
          "text": [
            "Epoch : 100000 |percentage : 100.0 |loss: 2.8507 |line: jaskulski / guess : Portuguese WRONG (Polish)\n"
          ],
          "name": "stdout"
        },
        {
          "output_type": "stream",
          "text": [
            "\n"
          ],
          "name": "stderr"
        }
      ]
    },
    {
      "cell_type": "code",
      "metadata": {
        "colab": {
          "base_uri": "https://localhost:8080/",
          "height": 281
        },
        "id": "WGhTtpxMPis_",
        "outputId": "02947d67-89f6-4843-add2-86ce4e2cf43e"
      },
      "source": [
        "plt.figure()\n",
        "plt.plot(all_losses)\n",
        "plt.title('Loss function plot')\n",
        "plt.show()"
      ],
      "execution_count": 29,
      "outputs": [
        {
          "output_type": "display_data",
          "data": {
            "image/png": "[encoded data removed]",
            "text/plain": [
              "<Figure size 432x288 with 1 Axes>"
            ]
          },
          "metadata": {
            "tags": [],
            "needs_background": "light"
          }
        }
      ]
    },
    {
      "cell_type": "code",
      "metadata": {
        "colab": {
          "base_uri": "https://localhost:8080/"
        },
        "id": "9YN_cfMQWTnz",
        "outputId": "a8f5db4d-6346-4928-c29c-a6f83fb3e032"
      },
      "source": [
        "scheduler.state_dict()"
      ],
      "execution_count": 30,
      "outputs": [
        {
          "output_type": "execute_result",
          "data": {
            "text/plain": [
              "{'_get_lr_called_within_step': False,\n",
              " '_last_lr': [0.0],\n",
              " '_step_count': 100001,\n",
              " 'base_lrs': [0.005],\n",
              " 'gamma': 0.1,\n",
              " 'last_epoch': 100000,\n",
              " 'step_size': 50,\n",
              " 'verbose': False}"
            ]
          },
          "metadata": {
            "tags": []
          },
          "execution_count": 30
        }
      ]
    },
    {
      "cell_type": "code",
      "metadata": {
        "colab": {
          "base_uri": "https://localhost:8080/"
        },
        "id": "N5ecNqrGP0cC",
        "outputId": "b776af36-ea69-4338-d2d5-2eb559373350"
      },
      "source": [
        "y_actual = []\n",
        "y_pred = []\n",
        "n_total = 10000\n",
        "\n",
        "with torch.no_grad():\n",
        "  n_true = 0\n",
        "  n_class_correct = [0 for i in range(18)]\n",
        "  n_class_sample = [0 for i in range(18)]\n",
        "\n",
        "  for i in tqdm(range(n_total)):\n",
        "    category, line, category_tensor, line_tensor = randomTrainingExample()\n",
        "\n",
        "    hidden = rnn.init_hidden()\n",
        "\n",
        "    for i in range(line_tensor.size()[0]):\n",
        "      output, hidden = rnn(line_tensor[i], hidden)\n",
        "\n",
        "      guess = category_form_output(output)\n",
        "      y_pred.append(all_categories.index(guess))\n",
        "      y_actual.append(all_categories.index(category))\n",
        "\n",
        "      n_true += (guess == category)\n",
        "      if guess == category :\n",
        "        n_class_correct[all_categories.index(category)] += 1\n",
        "      n_class_sample[all_categories.index(category)] += 1\n",
        "      \n",
        "  print(f'accuracy of network on the 1000 names is : {(n_true/n_total) *100}')\n",
        "  \n",
        "  for i in range(18):\n",
        "    if n_class_sample[i] != 0:\n",
        "      acc = 100.0 * n_class_correct[i] / n_class_sample[i]\n",
        "      print(f'Accuracy of {all_categories[i]}: {acc} %')\n",
        "  "
      ],
      "execution_count": 31,
      "outputs": [
        {
          "output_type": "stream",
          "text": [
            "100%|██████████| 10000/10000 [00:04<00:00, 2000.03it/s]"
          ],
          "name": "stderr"
        },
        {
          "output_type": "stream",
          "text": [
            "accuracy of network on the 1000 names is : 30.39\n",
            "Accuracy of Arabic: 0.16989466530750935 %\n",
            "Accuracy of Chinese: 1.9854721549636805 %\n",
            "Accuracy of Czech: 1.132991637442676 %\n",
            "Accuracy of Dutch: 0.0 %\n",
            "Accuracy of English: 10.225921521997622 %\n",
            "Accuracy of French: 0.22290331568682084 %\n",
            "Accuracy of German: 0.5651237890204521 %\n",
            "Accuracy of Greek: 1.107375914573858 %\n",
            "Accuracy of Irish: 6.737967914438503 %\n",
            "Accuracy of Italian: 4.485749690210657 %\n",
            "Accuracy of Japanese: 1.6881028938906752 %\n",
            "Accuracy of Korean: 35.17045454545455 %\n",
            "Accuracy of Polish: 7.837837837837838 %\n",
            "Accuracy of Portuguese: 3.124151045911437 %\n",
            "Accuracy of Russian: 0.13452914798206278 %\n",
            "Accuracy of Scottish: 3.84932636788562 %\n",
            "Accuracy of Spanish: 5.0892619237942975 %\n",
            "Accuracy of Vietnamese: 33.45070422535211 %\n"
          ],
          "name": "stdout"
        },
        {
          "output_type": "stream",
          "text": [
            "\n"
          ],
          "name": "stderr"
        }
      ]
    },
    {
      "cell_type": "markdown",
      "metadata": {
        "id": "7Be98raB_sCA"
      },
      "source": [
        "###Confusion matrix"
      ]
    },
    {
      "cell_type": "code",
      "metadata": {
        "colab": {
          "base_uri": "https://localhost:8080/",
          "height": 1000
        },
        "id": "SUQwBn-T_KHZ",
        "outputId": "addeb392-510e-420a-8af5-5980008f5bbd"
      },
      "source": [
        "from sklearn import metrics\n",
        "import seaborn as sns\n",
        "\n",
        "plt.figure(figsize = (16, 20))\n",
        "ax= plt.subplot()\n",
        "cnf_matrix = metrics.confusion_matrix(y_actual, y_pred)\n",
        "sns.heatmap(pd.DataFrame(cnf_matrix), annot=True, fmt='g', ax=ax);  #annot=True to annotate cells, ftm='g' to disable scientific notation\n",
        "\n",
        "# labels, title and ticks\n",
        "ax.set_xlabel('Predicted labels');ax.set_ylabel('Actual labels'); \n",
        "ax.set_title('Confusion Matrix of model 1'); \n",
        "class_names=['Arabic','Chinese','Czech','Dutch','English','French','German','Greek','Irish','Italian','Japanese','Korean','Polish','Portuguese','Russian','Scottish','Spanish','Vietnamese']\n",
        "ax.xaxis.set_ticklabels(class_names); ax.yaxis.set_ticklabels(class_names);"
      ],
      "execution_count": 32,
      "outputs": [
        {
          "output_type": "display_data",
          "data": {
            "image/png": "[encoded data removed]",
            "text/plain": [
              "<Figure size 1152x1440 with 2 Axes>"
            ]
          },
          "metadata": {
            "tags": [],
            "needs_background": "light"
          }
        }
      ]
    },
    {
      "cell_type": "markdown",
      "metadata": {
        "id": "2KTzZGzu_p3D"
      },
      "source": [
        "###Classification report"
      ]
    },
    {
      "cell_type": "code",
      "metadata": {
        "colab": {
          "base_uri": "https://localhost:8080/"
        },
        "id": "V_A-hxNx_mgv",
        "outputId": "63a42b90-849a-4b51-b99e-7bdb7b63faa6"
      },
      "source": [
        "print(classification_report(y_actual, y_pred))"
      ],
      "execution_count": 33,
      "outputs": [
        {
          "output_type": "stream",
          "text": [
            "              precision    recall  f1-score   support\n",
            "\n",
            "           0       0.05      0.00      0.00      2943\n",
            "           1       0.01      0.02      0.01      2065\n",
            "           2       0.06      0.01      0.02      3707\n",
            "           3       0.00      0.00      0.00      4126\n",
            "           4       0.06      0.10      0.08      3364\n",
            "           5       0.05      0.00      0.00      3589\n",
            "           6       0.06      0.01      0.01      3716\n",
            "           7       0.06      0.01      0.02      5057\n",
            "           8       0.05      0.07      0.06      3740\n",
            "           9       0.08      0.04      0.06      4035\n",
            "          10       0.13      0.02      0.03      3732\n",
            "          11       0.04      0.35      0.07      1760\n",
            "          12       0.08      0.08      0.08      3700\n",
            "          13       0.06      0.03      0.04      3681\n",
            "          14       0.11      0.00      0.00      4460\n",
            "          15       0.06      0.04      0.05      3637\n",
            "          16       0.06      0.05      0.06      3753\n",
            "          17       0.05      0.33      0.08      1988\n",
            "\n",
            "    accuracy                           0.05     63053\n",
            "   macro avg       0.06      0.06      0.04     63053\n",
            "weighted avg       0.06      0.05      0.03     63053\n",
            "\n"
          ],
          "name": "stdout"
        }
      ]
    },
    {
      "cell_type": "code",
      "metadata": {
        "id": "vtfsHCnc1K3h"
      },
      "source": [
        "def predict(input_line):\n",
        "    print(f\"\\n> {input_line}\")\n",
        "    with torch.no_grad():\n",
        "        line_tensor = line_to_tensor(input_line)\n",
        "        \n",
        "        hidden = rnn.init_hidden()\n",
        "    \n",
        "        for i in range(line_tensor.size()[0]):\n",
        "            output, hidden = rnn(line_tensor[i], hidden)\n",
        "        \n",
        "        guess = category_form_output(output)\n",
        "        print(guess)"
      ],
      "execution_count": 34,
      "outputs": []
    },
    {
      "cell_type": "code",
      "metadata": {
        "colab": {
          "base_uri": "https://localhost:8080/"
        },
        "id": "3LVHZJi4ovXx",
        "outputId": "1d97425a-f826-484c-afdf-d78acf8899ee"
      },
      "source": [
        "predict('aalst')"
      ],
      "execution_count": 39,
      "outputs": [
        {
          "output_type": "stream",
          "text": [
            "\n",
            "> aalst\n",
            "Korean\n"
          ],
          "name": "stdout"
        }
      ]
    },
    {
      "cell_type": "markdown",
      "metadata": {
        "id": "l5o1xtzqIUEa"
      },
      "source": [
        "##MNIST Digits classification using RNN, GRU and LSTM"
      ]
    },
    {
      "cell_type": "code",
      "metadata": {
        "id": "EOTlpAzYIfN_"
      },
      "source": [
        "# MNIST dataset from pytorch\n",
        "\n",
        "train_dataset = torchvision.datasets.MNIST(root='/content/drive/MyDrive/AI-Internship/MNIST', train = True, transform = transforms.ToTensor(),download=True)\n",
        "test_dataset = torchvision.datasets.MNIST(root='/content/drive/MyDrive/AI-Internship/MNIST', train = False, transform = transforms.ToTensor(),download=True)\n"
      ],
      "execution_count": 22,
      "outputs": []
    },
    {
      "cell_type": "code",
      "metadata": {
        "id": "m4h01iP0Izog"
      },
      "source": [
        "input_size = 28 # 28X28 images, we treat it as a sequence\n",
        "sequence_length = 28\n",
        "num_layers = 2\n",
        "\n",
        "hidden_size = 128\n",
        "num_classes = 10 \n",
        "num_epochs = 2\n",
        "batch_size = 100\n",
        "learning_rate = 0.001"
      ],
      "execution_count": 23,
      "outputs": []
    },
    {
      "cell_type": "code",
      "metadata": {
        "id": "d2Yu7_bmJSRc"
      },
      "source": [
        "train_loader = torch.utils.data.DataLoader(dataset = train_dataset, batch_size = batch_size, shuffle = True)\n",
        "test_loader = torch.utils.data.DataLoader(dataset = test_dataset, batch_size = batch_size, shuffle = False)"
      ],
      "execution_count": 24,
      "outputs": []
    },
    {
      "cell_type": "code",
      "metadata": {
        "colab": {
          "base_uri": "https://localhost:8080/"
        },
        "id": "3kCCxVHJJWtr",
        "outputId": "a9747a00-b0ec-49d5-a6f8-e6aa44cb5479"
      },
      "source": [
        "print(f'length of train_dataset is : {len(train_dataset)} and length of train_loader is : {len(train_loader)}')\n",
        "print(f'length of test_dataset is : {len(test_dataset)} and length of test_loader is : {len(test_loader)}')"
      ],
      "execution_count": 25,
      "outputs": [
        {
          "output_type": "stream",
          "text": [
            "length of train_dataset is : 60000 and length of train_loader is : 600\n",
            "length of test_dataset is : 10000 and length of test_loader is : 100\n"
          ],
          "name": "stdout"
        }
      ]
    }
  ]
}