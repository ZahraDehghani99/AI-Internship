{
  "nbformat": 4,
  "nbformat_minor": 0,
  "metadata": {
    "colab": {
      "name": "RNN.ipynb",
      "provenance": [],
      "collapsed_sections": [],
      "toc_visible": true
    },
    "kernelspec": {
      "display_name": "Python 3",
      "name": "python3"
    },
    "language_info": {
      "name": "python"
    }
  },
  "cells": [
    {
      "cell_type": "markdown",
      "metadata": {
        "id": "DfXyCER1gCrS"
      },
      "source": [
        "#Section 6: Recurrent NN"
      ]
    },
    {
      "cell_type": "markdown",
      "metadata": {
        "id": "-u6DKb07gIFT"
      },
      "source": [
        "##Name Classification using RNN"
      ]
    },
    {
      "cell_type": "code",
      "metadata": {
        "id": "q3DX2NIonawh"
      },
      "source": [
        "import numpy as np\n",
        "import pandas as pd\n",
        "import os\n",
        "import matplotlib.pyplot as plt\n",
        "from sklearn.metrics import classification_report, confusion_matrix\n",
        "import random\n",
        "import io\n",
        "\n",
        "#Neural Network packages\n",
        "\n",
        "import torch\n",
        "import torch.nn as nn\n",
        "import torch.optim as optim\n",
        "import torchvision\n",
        "import torchvision.transforms as transforms\n",
        "from torch.utils.data import Dataset\n",
        "from torchvision import models\n",
        "from torch.optim.lr_scheduler import StepLR\n",
        "from torch.utils.data.sampler import SubsetRandomSampler\n",
        "from tqdm import tqdm\n",
        "import torch.nn.functional as F\n",
        "\n",
        "# Text packages\n",
        "import unicodedata\n",
        "import string\n",
        "\n",
        "seed = torch.manual_seed(0)\n",
        "\n",
        "import warnings\n",
        "warnings.filterwarnings('ignore')"
      ],
      "execution_count": 1,
      "outputs": []
    },
    {
      "cell_type": "code",
      "metadata": {
        "colab": {
          "base_uri": "https://localhost:8080/"
        },
        "id": "pOHhBGnknaqS",
        "outputId": "d12a3661-88d2-41e0-d5ac-a0e335ab3add"
      },
      "source": [
        "from google.colab import drive\n",
        "drive.mount('/content/drive')"
      ],
      "execution_count": 2,
      "outputs": [
        {
          "output_type": "stream",
          "text": [
            "Drive already mounted at /content/drive; to attempt to forcibly remount, call drive.mount(\"/content/drive\", force_remount=True).\n"
          ],
          "name": "stdout"
        }
      ]
    },
    {
      "cell_type": "code",
      "metadata": {
        "id": "2-kZIPqkEo4Q"
      },
      "source": [
        "# import zipfile\n",
        "# # unzip image file\n",
        "# local_zip = '/content/drive/MyDrive/AI-Internship/NameClassification.zip'\n",
        "# zip_ref = zipfile.ZipFile(local_zip, 'r')\n",
        "# zip_ref.extractall('/content/drive/MyDrive/AI-Internship/NameClassificationn')\n",
        "# zip_ref.close()"
      ],
      "execution_count": null,
      "outputs": []
    },
    {
      "cell_type": "markdown",
      "metadata": {
        "id": "dLIa8GHN-POe"
      },
      "source": [
        "###Data preprocessing"
      ]
    },
    {
      "cell_type": "markdown",
      "metadata": {
        "id": "DeXPm9e79xna"
      },
      "source": [
        "In order to load all files with special address pattern, we use glob library."
      ]
    },
    {
      "cell_type": "code",
      "metadata": {
        "colab": {
          "base_uri": "https://localhost:8080/"
        },
        "id": "TzlFj0aa7NWv",
        "outputId": "59db7a5e-9199-4283-a7dd-84dc43281ee0"
      },
      "source": [
        "import glob\n",
        "all_text_files = glob.glob('/content/drive/MyDrive/AI-Internship/NameClassificationn/data/names/*.txt')\n",
        "print(f'First element of all text files is : {all_text_files[0]}')\n",
        "print(f'length of all text files is: {len(all_text_files)}')"
      ],
      "execution_count": null,
      "outputs": [
        {
          "output_type": "stream",
          "text": [
            "First element of all text files is : /content/drive/MyDrive/AI-Internship/NameClassificationn/data/names/Arabic.txt\n",
            "length of all text files is: 18\n"
          ],
          "name": "stdout"
        }
      ]
    },
    {
      "cell_type": "code",
      "metadata": {
        "colab": {
          "base_uri": "https://localhost:8080/"
        },
        "id": "2pW7Lwt9-F-m",
        "outputId": "7eb315ed-3767-4773-808f-b52e79841fcd"
      },
      "source": [
        "all_letters = string.ascii_letters\n",
        "n_letters = len(all_letters)\n",
        "print(f'all letters : {all_letters}')\n",
        "print(f'length of all letters: {len(all_letters)}')"
      ],
      "execution_count": null,
      "outputs": [
        {
          "output_type": "stream",
          "text": [
            "all letters : abcdefghijklmnopqrstuvwxyzABCDEFGHIJKLMNOPQRSTUVWXYZ\n",
            "length of all letters: 52\n"
          ],
          "name": "stdout"
        }
      ]
    },
    {
      "cell_type": "markdown",
      "metadata": {
        "id": "yowl_8UWAKry"
      },
      "source": [
        "Because in some languages like French, names are in unicode form, we should convert them to ascii."
      ]
    },
    {
      "cell_type": "code",
      "metadata": {
        "colab": {
          "base_uri": "https://localhost:8080/"
        },
        "id": "IdLMfgtg_hR6",
        "outputId": "d26bb157-dcda-4f45-9cd0-13ec38d0b7de"
      },
      "source": [
        "# Fuction for convert names in unicode form to ascii\n",
        "def unicode_to_ascii(s):\n",
        "    return ''.join(\n",
        "        c for c in unicodedata.normalize('NFD', s)\n",
        "        if unicodedata.category(c) != 'Mn'\n",
        "        and c in all_letters\n",
        "    )\n",
        "\n",
        "print(unicode_to_ascii('Béringer'))"
      ],
      "execution_count": null,
      "outputs": [
        {
          "output_type": "stream",
          "text": [
            "Beringer\n"
          ],
          "name": "stdout"
        }
      ]
    },
    {
      "cell_type": "markdown",
      "metadata": {
        "id": "bZjoe6Ke_8cQ"
      },
      "source": [
        "We should create a dictionary that keys are languages and values of dictionary are names."
      ]
    },
    {
      "cell_type": "code",
      "metadata": {
        "colab": {
          "base_uri": "https://localhost:8080/"
        },
        "id": "SoXAxuUh_v4h",
        "outputId": "c2e47457-d1ce-4918-e610-1a0520953da4"
      },
      "source": [
        "category_lines = {}\n",
        "all_categories = []\n",
        "\n",
        "# Read a file and split into lines\n",
        "# then convert names into ascii and lowercase\n",
        "def readlines(filename):\n",
        "  lines = io.open(filename, encoding='utf-8').read().strip().split('\\n')\n",
        "  return [unicode_to_ascii(line).lower() for line in lines] \n",
        "\n",
        "for filename in all_text_files:\n",
        "  category = os.path.splitext(os.path.basename(filename))[0]\n",
        "  all_categories.append(category)\n",
        "  category_lines[category] = readlines(filename)\n",
        "\n",
        "print(f'There are {len(all_categories)} languages.')\n",
        "print(f'first 10 examples of {all_categories[0]} names : {category_lines[all_categories[0]][:10]}')"
      ],
      "execution_count": null,
      "outputs": [
        {
          "output_type": "stream",
          "text": [
            "There are 18 languages.\n",
            "first 10 examples of Arabic names : ['khoury', 'nahas', 'daher', 'gerges', 'nazari', 'maalouf', 'gerges', 'naifeh', 'guirguis', 'baba']\n"
          ],
          "name": "stdout"
        }
      ]
    },
    {
      "cell_type": "code",
      "metadata": {
        "colab": {
          "base_uri": "https://localhost:8080/"
        },
        "id": "xPZeARaWFLJK",
        "outputId": "e14c89e5-ed1e-4bdf-d363-50ee3ba61a79"
      },
      "source": [
        "num_names = 0\n",
        "for i in all_categories:\n",
        "  num_names += len(category_lines[i])\n",
        "\n",
        "print(f'Number of all names : {num_names}')"
      ],
      "execution_count": null,
      "outputs": [
        {
          "output_type": "stream",
          "text": [
            "Number of all names : 20074\n"
          ],
          "name": "stdout"
        }
      ]
    },
    {
      "cell_type": "markdown",
      "metadata": {
        "id": "9jRR4Lhe_k5G"
      },
      "source": [
        "Define a function to show the distribution of names in each class."
      ]
    },
    {
      "cell_type": "code",
      "metadata": {
        "id": "wq5D54yj9MAP"
      },
      "source": [
        "def distribution_of_classes(dataset):\n",
        "\n",
        "  list_count = []\n",
        "  for i in all_categories:\n",
        "    list_count.append(len(category_lines[i]))\n",
        "  return list_count    "
      ],
      "execution_count": null,
      "outputs": []
    },
    {
      "cell_type": "code",
      "metadata": {
        "colab": {
          "base_uri": "https://localhost:8080/",
          "height": 552
        },
        "id": "7TDDc_an94-2",
        "outputId": "7156fe89-129d-4e58-a906-adbf411133ee"
      },
      "source": [
        "# Distribution of data in each class\n",
        "fig = plt.figure(figsize=(20,10))\n",
        "ax = fig.add_axes([0,0,1,1])\n",
        "number_of_data = distribution_of_classes(category_lines)\n",
        "ax.bar(all_categories,number_of_data)\n",
        "plt.title(\"Distribution of data in each class\")\n",
        "print(distribution_of_classes(category_lines))\n",
        "plt.show()"
      ],
      "execution_count": null,
      "outputs": [
        {
          "output_type": "stream",
          "text": [
            "[2000, 268, 519, 297, 3668, 277, 724, 203, 232, 709, 991, 94, 139, 74, 9408, 100, 298, 73]\n"
          ],
          "name": "stdout"
        },
        {
          "output_type": "display_data",
          "data": {
            "image/png": "[encoded data removed]",
            "text/plain": [
              "<Figure size 1440x720 with 1 Axes>"
            ]
          },
          "metadata": {
            "tags": []
          }
        }
      ]
    },
    {
      "cell_type": "markdown",
      "metadata": {
        "id": "1zYdQ0tPEwpE"
      },
      "source": [
        "#####Convert names to pytorch tensors"
      ]
    },
    {
      "cell_type": "code",
      "metadata": {
        "colab": {
          "base_uri": "https://localhost:8080/"
        },
        "id": "rZIrtwKQE1nQ",
        "outputId": "4e794eb4-924a-4a6a-fb47-a8acda007ff4"
      },
      "source": [
        "# one hot encoding for a letter\n",
        "# Find letter index from all_letters\n",
        "def letter_to_index(letter):\n",
        "  return all_letters.find(letter)\n",
        "  \n",
        "# Turn a line into a <line_length x 1 x n_letters>\n",
        "def line_to_tensor(line):\n",
        "  tensor = torch.zeros(len(line), 1, int(n_letters/2)) # because we have lowercase names\n",
        "  for i, letter in enumerate(line):\n",
        "    tensor[i][0][letter_to_index(letter)] = 1\n",
        "  return tensor\n",
        "    \n",
        "print(line_to_tensor('a'))\n",
        "print(line_to_tensor('a').size())"
      ],
      "execution_count": null,
      "outputs": [
        {
          "output_type": "stream",
          "text": [
            "tensor([[[1., 0., 0., 0., 0., 0., 0., 0., 0., 0., 0., 0., 0., 0., 0., 0., 0.,\n",
            "          0., 0., 0., 0., 0., 0., 0., 0., 0.]]])\n",
            "torch.Size([1, 1, 26])\n"
          ],
          "name": "stdout"
        }
      ]
    },
    {
      "cell_type": "markdown",
      "metadata": {
        "id": "nrd-vtNg_2Hs"
      },
      "source": [
        "Show the representation of a name in pytorch tensor."
      ]
    },
    {
      "cell_type": "code",
      "metadata": {
        "colab": {
          "base_uri": "https://localhost:8080/"
        },
        "id": "sTqhATRi-sXv",
        "outputId": "790bf272-9f03-4663-92f6-13fdd68d9974"
      },
      "source": [
        "print(line_to_tensor('baba'))"
      ],
      "execution_count": null,
      "outputs": [
        {
          "output_type": "stream",
          "text": [
            "tensor([[[0., 1., 0., 0., 0., 0., 0., 0., 0., 0., 0., 0., 0., 0., 0., 0., 0.,\n",
            "          0., 0., 0., 0., 0., 0., 0., 0., 0.]],\n",
            "\n",
            "        [[1., 0., 0., 0., 0., 0., 0., 0., 0., 0., 0., 0., 0., 0., 0., 0., 0.,\n",
            "          0., 0., 0., 0., 0., 0., 0., 0., 0.]],\n",
            "\n",
            "        [[0., 1., 0., 0., 0., 0., 0., 0., 0., 0., 0., 0., 0., 0., 0., 0., 0.,\n",
            "          0., 0., 0., 0., 0., 0., 0., 0., 0.]],\n",
            "\n",
            "        [[1., 0., 0., 0., 0., 0., 0., 0., 0., 0., 0., 0., 0., 0., 0., 0., 0.,\n",
            "          0., 0., 0., 0., 0., 0., 0., 0., 0.]]])\n"
          ],
          "name": "stdout"
        }
      ]
    },
    {
      "cell_type": "markdown",
      "metadata": {
        "id": "zbkLpbp6-wsG"
      },
      "source": [
        "###Buliding RNN"
      ]
    },
    {
      "cell_type": "code",
      "metadata": {
        "id": "52T0AwNsHnRs"
      },
      "source": [
        "class RNN(nn.Module):\n",
        "  def __init__(self, input_size, hidden_size, output_size):\n",
        "    super(RNN, self).__init__()\n",
        "\n",
        "    self.hidden_size = hidden_size\n",
        "    self.i2h = nn.Linear(input_size + hidden_size , hidden_size)\n",
        "    self.i2o = nn.Linear(input_size + hidden_size, output_size)\n",
        "    self.softmax = nn.LogSoftmax(dim=1)\n",
        "\n",
        "  def forward(self, input_tensor, hidden_tensor):\n",
        "    combined = torch.cat((input_tensor, hidden_tensor), 1)\n",
        "\n",
        "    hidden = self.i2h(combined)\n",
        "    output = self.i2o(combined)\n",
        "    output = self.softmax(output)\n",
        "    return output, hidden\n",
        "\n",
        "  def init_hidden(self):#####\n",
        "    return torch.rand(1, self.hidden_size)  \n"
      ],
      "execution_count": null,
      "outputs": []
    },
    {
      "cell_type": "markdown",
      "metadata": {
        "id": "ear7MOnyeQu3"
      },
      "source": [
        "####Testing model"
      ]
    },
    {
      "cell_type": "code",
      "metadata": {
        "colab": {
          "base_uri": "https://localhost:8080/"
        },
        "id": "2GvWJVuGErtu",
        "outputId": "628a063f-1b00-4218-820f-a26984aad115"
      },
      "source": [
        "n_hidden = 128\n",
        "rnn = RNN(int(n_letters/2), n_hidden, len(all_categories))\n",
        "\n",
        "#one step\n",
        "input_tensor = line_to_tensor('albert')\n",
        "hidden_tensor = rnn.init_hidden() \n",
        "\n",
        "output, next_hidden = rnn(input_tensor[0], hidden_tensor)\n",
        "\n",
        "print(f'input tensor size: {input_tensor.size()}')\n",
        "print(f'hidden tensor size : {hidden_tensor.size()}')\n",
        "\n",
        "print(f'output size : {output.size()}')\n",
        "print(f'next hidden size : {next_hidden.size()}')"
      ],
      "execution_count": null,
      "outputs": [
        {
          "output_type": "stream",
          "text": [
            "input tensor size: torch.Size([6, 1, 26])\n",
            "hidden tensor size : torch.Size([1, 128])\n",
            "output size : torch.Size([1, 18])\n",
            "next hidden size : torch.Size([1, 128])\n"
          ],
          "name": "stdout"
        }
      ]
    },
    {
      "cell_type": "code",
      "metadata": {
        "colab": {
          "base_uri": "https://localhost:8080/"
        },
        "id": "bXyvEkflh5cA",
        "outputId": "fddf572b-a8b6-4dfe-ad9f-1bc625a9483d"
      },
      "source": [
        "output"
      ],
      "execution_count": null,
      "outputs": [
        {
          "output_type": "execute_result",
          "data": {
            "text/plain": [
              "tensor([[-2.9525, -2.5677, -2.8309, -2.7509, -3.0638, -2.7127, -3.0615, -2.6954,\n",
              "         -2.7440, -2.7990, -2.9442, -3.5382, -2.9408, -3.2513, -3.0061, -2.8617,\n",
              "         -3.0727, -2.6669]], grad_fn=<LogSoftmaxBackward>)"
            ]
          },
          "metadata": {
            "tags": []
          },
          "execution_count": 17
        }
      ]
    },
    {
      "cell_type": "code",
      "metadata": {
        "colab": {
          "base_uri": "https://localhost:8080/"
        },
        "id": "IAjGmaGrh_uO",
        "outputId": "237cf5a5-0f98-4ae8-a62a-0a211b32f40e"
      },
      "source": [
        "torch.argmax(output).item()"
      ],
      "execution_count": null,
      "outputs": [
        {
          "output_type": "execute_result",
          "data": {
            "text/plain": [
              "1"
            ]
          },
          "metadata": {
            "tags": []
          },
          "execution_count": 18
        }
      ]
    },
    {
      "cell_type": "markdown",
      "metadata": {
        "id": "cqlIxdWplEfQ"
      },
      "source": [
        "###Preparing for training"
      ]
    },
    {
      "cell_type": "markdown",
      "metadata": {
        "id": "etxkZloZiAa-"
      },
      "source": [
        "In order to get index of maximum value in output we use the following funciton."
      ]
    },
    {
      "cell_type": "code",
      "metadata": {
        "colab": {
          "base_uri": "https://localhost:8080/"
        },
        "id": "WrImc-EDh-lO",
        "outputId": "78da8cab-0b68-4d03-fbef-dca1e20a7784"
      },
      "source": [
        "def category_form_output(output):\n",
        "  index = torch.argmax(output).item()\n",
        "  return all_categories[index]\n",
        "\n",
        "print(category_form_output(output))"
      ],
      "execution_count": null,
      "outputs": [
        {
          "output_type": "stream",
          "text": [
            "Chinese\n"
          ],
          "name": "stdout"
        }
      ]
    },
    {
      "cell_type": "code",
      "metadata": {
        "colab": {
          "base_uri": "https://localhost:8080/"
        },
        "id": "6WhzPD5_k_44",
        "outputId": "9de27492-2a22-4016-e623-a9b171ca4a6a"
      },
      "source": [
        "def randomChoice(lst):\n",
        "  return lst[random.randint(0, len(lst)-1)]\n",
        "\n",
        "def randomTrainingExample(): #####\n",
        "    category = randomChoice(all_categories)\n",
        "    line = randomChoice(category_lines[category])\n",
        "    category_tensor = torch.tensor([all_categories.index(category)], dtype=torch.long)\n",
        "    line_tensor = line_to_tensor(line)\n",
        "    return category, line, category_tensor, line_tensor\n",
        "\n",
        "for i in range(5):\n",
        "  category, line, category_tensor, line_tensor = randomTrainingExample()\n",
        "  print(f'cateogry = {category} | line : {line} |category_tensor size : {category_tensor.size()} | line tensor size : {line_tensor.size()}' )\n",
        "  "
      ],
      "execution_count": null,
      "outputs": [
        {
          "output_type": "stream",
          "text": [
            "cateogry = Portuguese | line : pinheiro |category_tensor size : torch.Size([1]) | line tensor size : torch.Size([8, 1, 26])\n",
            "cateogry = Korean | line : cha |category_tensor size : torch.Size([1]) | line tensor size : torch.Size([3, 1, 26])\n",
            "cateogry = Vietnamese | line : huynh |category_tensor size : torch.Size([1]) | line tensor size : torch.Size([5, 1, 26])\n",
            "cateogry = English | line : angus |category_tensor size : torch.Size([1]) | line tensor size : torch.Size([5, 1, 26])\n",
            "cateogry = Korean | line : lee |category_tensor size : torch.Size([1]) | line tensor size : torch.Size([3, 1, 26])\n"
          ],
          "name": "stdout"
        }
      ]
    },
    {
      "cell_type": "markdown",
      "metadata": {
        "id": "HrZRhVJ7fuJ2"
      },
      "source": [
        "Define a function for finding category of a name."
      ]
    },
    {
      "cell_type": "code",
      "metadata": {
        "id": "ShyNwjmge9Wc"
      },
      "source": [
        "def find_name(name):\n",
        "  for i in all_categories:\n",
        "    if name in category_lines[i]:\n",
        "      print(i)"
      ],
      "execution_count": null,
      "outputs": []
    },
    {
      "cell_type": "code",
      "metadata": {
        "colab": {
          "base_uri": "https://localhost:8080/"
        },
        "id": "9AfaZvo0fDIn",
        "outputId": "ee3494c9-4db9-4de1-c8aa-2378083c0da4"
      },
      "source": [
        "find_name('huynh')"
      ],
      "execution_count": null,
      "outputs": [
        {
          "output_type": "stream",
          "text": [
            "Vietnamese\n"
          ],
          "name": "stdout"
        }
      ]
    },
    {
      "cell_type": "markdown",
      "metadata": {
        "id": "yuJ7t9r1p_fp"
      },
      "source": [
        "###Training the model"
      ]
    },
    {
      "cell_type": "markdown",
      "metadata": {
        "id": "AMebhTAAZMDO"
      },
      "source": [
        "problem start from here."
      ]
    },
    {
      "cell_type": "code",
      "metadata": {
        "id": "PlgeJYjQp9iK"
      },
      "source": [
        "criterion = nn.NLLLoss()\n",
        "learning_rate = 0.005\n",
        "optimizer = torch.optim.Adam(rnn.parameters(), lr = learning_rate)\n",
        "scheduler = StepLR(optimizer, step_size = 50, gamma = 0.1)"
      ],
      "execution_count": null,
      "outputs": []
    },
    {
      "cell_type": "code",
      "metadata": {
        "id": "PSF9fye7rNuT"
      },
      "source": [
        "def train(line_tensor, category_tensor):\n",
        "  hidden = rnn.init_hidden()\n",
        "\n",
        "  for i in range(line_tensor.size()[0]):\n",
        "    output, hidden = rnn(line_tensor[i], hidden)\n",
        "\n",
        "  loss = criterion(output, category_tensor)\n",
        "  optimizer.zero_grad()\n",
        "  loss.backward()   \n",
        "  optimizer.step()\n",
        "\n",
        "  return output, loss.item()"
      ],
      "execution_count": null,
      "outputs": []
    },
    {
      "cell_type": "code",
      "metadata": {
        "colab": {
          "base_uri": "https://localhost:8080/"
        },
        "id": "Rvt8xJtgzxGe",
        "outputId": "7d9678fa-e005-4b40-dc23-4fd99f34faf3"
      },
      "source": [
        "from tqdm import tqdm \n",
        "\n",
        "current_loss = 0\n",
        "all_losses = []\n",
        "plot_steps, print_steps = 1000, 5000\n",
        "n_epoch = 100000\n",
        "\n",
        "for i in tqdm(range(n_epoch)):\n",
        "  category, line, category_tensor, line_tensor = randomTrainingExample()\n",
        "\n",
        "  output, loss = train(line_tensor, category_tensor)\n",
        "  current_loss += loss\n",
        "\n",
        "  scheduler.step() ##\n",
        "\n",
        "  if (i+1) % plot_steps ==0:\n",
        "    all_losses.append(current_loss/plot_steps)\n",
        "    current_loss = 0\n",
        "\n",
        "  if (i+1) % print_steps ==0:\n",
        "    guess = category_form_output(output)\n",
        "    correct = \"CORRECT\" if guess == category else f\"WRONG ({category})\"\n",
        "    print(f'Epoch : {i+1} |percentage : {(i+1)/n_epoch*100} |loss: {loss:.4f} |line: {line} / guess : {guess} {correct}')  \n",
        "\n"
      ],
      "execution_count": null,
      "outputs": [
        {
          "output_type": "stream",
          "text": [
            "  5%|▌         | 5075/100000 [00:07<02:19, 682.62it/s]"
          ],
          "name": "stderr"
        },
        {
          "output_type": "stream",
          "text": [
            "Epoch : 5000 |percentage : 5.0 |loss: 3.0246 |line: kringos / guess : Portuguese WRONG (Greek)\n"
          ],
          "name": "stdout"
        },
        {
          "output_type": "stream",
          "text": [
            " 10%|█         | 10097/100000 [00:14<02:09, 692.30it/s]"
          ],
          "name": "stderr"
        },
        {
          "output_type": "stream",
          "text": [
            "Epoch : 10000 |percentage : 10.0 |loss: 2.9355 |line: amello / guess : English WRONG (Italian)\n"
          ],
          "name": "stdout"
        },
        {
          "output_type": "stream",
          "text": [
            " 15%|█▌        | 15119/100000 [00:22<02:03, 689.39it/s]"
          ],
          "name": "stderr"
        },
        {
          "output_type": "stream",
          "text": [
            "Epoch : 15000 |percentage : 15.0 |loss: 2.1196 |line: grzeskiewicz / guess : Polish CORRECT\n"
          ],
          "name": "stdout"
        },
        {
          "output_type": "stream",
          "text": [
            " 20%|██        | 20133/100000 [00:29<01:55, 693.55it/s]"
          ],
          "name": "stderr"
        },
        {
          "output_type": "stream",
          "text": [
            "Epoch : 20000 |percentage : 20.0 |loss: 2.9400 |line: ramsay / guess : English WRONG (Scottish)\n"
          ],
          "name": "stdout"
        },
        {
          "output_type": "stream",
          "text": [
            " 25%|██▌       | 25128/100000 [00:36<01:47, 695.15it/s]"
          ],
          "name": "stderr"
        },
        {
          "output_type": "stream",
          "text": [
            "Epoch : 25000 |percentage : 25.0 |loss: 2.7791 |line: morrison / guess : Polish WRONG (Scottish)\n"
          ],
          "name": "stdout"
        },
        {
          "output_type": "stream",
          "text": [
            " 30%|███       | 30112/100000 [00:43<01:38, 708.81it/s]"
          ],
          "name": "stderr"
        },
        {
          "output_type": "stream",
          "text": [
            "Epoch : 30000 |percentage : 30.0 |loss: 2.5194 |line: paszek / guess : English WRONG (Polish)\n"
          ],
          "name": "stdout"
        },
        {
          "output_type": "stream",
          "text": [
            " 35%|███▌      | 35080/100000 [00:51<01:33, 697.69it/s]"
          ],
          "name": "stderr"
        },
        {
          "output_type": "stream",
          "text": [
            "Epoch : 35000 |percentage : 35.0 |loss: 2.9714 |line: smets / guess : Chinese WRONG (Dutch)\n"
          ],
          "name": "stdout"
        },
        {
          "output_type": "stream",
          "text": [
            " 40%|████      | 40109/100000 [00:58<01:27, 680.68it/s]"
          ],
          "name": "stderr"
        },
        {
          "output_type": "stream",
          "text": [
            "Epoch : 40000 |percentage : 40.0 |loss: 3.6436 |line: maria / guess : Chinese WRONG (Italian)\n"
          ],
          "name": "stdout"
        },
        {
          "output_type": "stream",
          "text": [
            " 45%|████▌     | 45120/100000 [01:05<01:20, 683.13it/s]"
          ],
          "name": "stderr"
        },
        {
          "output_type": "stream",
          "text": [
            "Epoch : 45000 |percentage : 45.0 |loss: 3.2532 |line: zhenin / guess : English WRONG (Russian)\n"
          ],
          "name": "stdout"
        },
        {
          "output_type": "stream",
          "text": [
            " 50%|█████     | 50130/100000 [01:13<01:11, 699.24it/s]"
          ],
          "name": "stderr"
        },
        {
          "output_type": "stream",
          "text": [
            "Epoch : 50000 |percentage : 50.0 |loss: 2.7496 |line: hanania / guess : Portuguese WRONG (Arabic)\n"
          ],
          "name": "stdout"
        },
        {
          "output_type": "stream",
          "text": [
            " 55%|█████▌    | 55135/100000 [01:20<01:07, 666.68it/s]"
          ],
          "name": "stderr"
        },
        {
          "output_type": "stream",
          "text": [
            "Epoch : 55000 |percentage : 55.00000000000001 |loss: 2.5030 |line: tyman / guess : Korean WRONG (English)\n"
          ],
          "name": "stdout"
        },
        {
          "output_type": "stream",
          "text": [
            " 60%|██████    | 60107/100000 [01:27<00:56, 700.29it/s]"
          ],
          "name": "stderr"
        },
        {
          "output_type": "stream",
          "text": [
            "Epoch : 60000 |percentage : 60.0 |loss: 3.4666 |line: riha / guess : Korean WRONG (Czech)\n"
          ],
          "name": "stdout"
        },
        {
          "output_type": "stream",
          "text": [
            " 65%|██████▌   | 65111/100000 [01:34<00:51, 675.08it/s]"
          ],
          "name": "stderr"
        },
        {
          "output_type": "stream",
          "text": [
            "Epoch : 65000 |percentage : 65.0 |loss: 3.1267 |line: colman / guess : English WRONG (Irish)\n"
          ],
          "name": "stdout"
        },
        {
          "output_type": "stream",
          "text": [
            " 70%|███████   | 70119/100000 [01:42<00:45, 660.09it/s]"
          ],
          "name": "stderr"
        },
        {
          "output_type": "stream",
          "text": [
            "Epoch : 70000 |percentage : 70.0 |loss: 1.6806 |line: le / guess : Vietnamese CORRECT\n"
          ],
          "name": "stdout"
        },
        {
          "output_type": "stream",
          "text": [
            " 75%|███████▌  | 75084/100000 [01:49<00:38, 645.51it/s]"
          ],
          "name": "stderr"
        },
        {
          "output_type": "stream",
          "text": [
            "Epoch : 75000 |percentage : 75.0 |loss: 2.9612 |line: mitchell / guess : Italian WRONG (Scottish)\n"
          ],
          "name": "stdout"
        },
        {
          "output_type": "stream",
          "text": [
            " 80%|████████  | 80074/100000 [01:56<00:28, 699.73it/s]"
          ],
          "name": "stderr"
        },
        {
          "output_type": "stream",
          "text": [
            "Epoch : 80000 |percentage : 80.0 |loss: 2.5857 |line: salib / guess : Chinese WRONG (Arabic)\n"
          ],
          "name": "stdout"
        },
        {
          "output_type": "stream",
          "text": [
            " 85%|████████▌ | 85103/100000 [02:03<00:21, 688.19it/s]"
          ],
          "name": "stderr"
        },
        {
          "output_type": "stream",
          "text": [
            "Epoch : 85000 |percentage : 85.0 |loss: 2.9322 |line: ondrisek / guess : Polish WRONG (Czech)\n"
          ],
          "name": "stdout"
        },
        {
          "output_type": "stream",
          "text": [
            " 90%|█████████ | 90139/100000 [02:10<00:14, 702.36it/s]"
          ],
          "name": "stderr"
        },
        {
          "output_type": "stream",
          "text": [
            "Epoch : 90000 |percentage : 90.0 |loss: 3.1043 |line: colman / guess : English WRONG (Irish)\n"
          ],
          "name": "stdout"
        },
        {
          "output_type": "stream",
          "text": [
            " 95%|█████████▌| 95085/100000 [02:18<00:07, 699.29it/s]"
          ],
          "name": "stderr"
        },
        {
          "output_type": "stream",
          "text": [
            "Epoch : 95000 |percentage : 95.0 |loss: 4.5309 |line: jaso / guess : Vietnamese WRONG (Spanish)\n"
          ],
          "name": "stdout"
        },
        {
          "output_type": "stream",
          "text": [
            "100%|██████████| 100000/100000 [02:25<00:00, 687.87it/s]"
          ],
          "name": "stderr"
        },
        {
          "output_type": "stream",
          "text": [
            "Epoch : 100000 |percentage : 100.0 |loss: 2.8507 |line: jaskulski / guess : Portuguese WRONG (Polish)\n"
          ],
          "name": "stdout"
        },
        {
          "output_type": "stream",
          "text": [
            "\n"
          ],
          "name": "stderr"
        }
      ]
    },
    {
      "cell_type": "code",
      "metadata": {
        "colab": {
          "base_uri": "https://localhost:8080/",
          "height": 281
        },
        "id": "WGhTtpxMPis_",
        "outputId": "02947d67-89f6-4843-add2-86ce4e2cf43e"
      },
      "source": [
        "plt.figure()\n",
        "plt.plot(all_losses)\n",
        "plt.title('Loss function plot')\n",
        "plt.show()"
      ],
      "execution_count": null,
      "outputs": [
        {
          "output_type": "display_data",
          "data": {
            "image/png": "[encoded data removed]",
            "text/plain": [
              "<Figure size 432x288 with 1 Axes>"
            ]
          },
          "metadata": {
            "tags": []
          }
        }
      ]
    },
    {
      "cell_type": "code",
      "metadata": {
        "colab": {
          "base_uri": "https://localhost:8080/"
        },
        "id": "9YN_cfMQWTnz",
        "outputId": "a8f5db4d-6346-4928-c29c-a6f83fb3e032"
      },
      "source": [
        "scheduler.state_dict()"
      ],
      "execution_count": null,
      "outputs": [
        {
          "output_type": "execute_result",
          "data": {
            "text/plain": [
              "{'_get_lr_called_within_step': False,\n",
              " '_last_lr': [0.0],\n",
              " '_step_count': 100001,\n",
              " 'base_lrs': [0.005],\n",
              " 'gamma': 0.1,\n",
              " 'last_epoch': 100000,\n",
              " 'step_size': 50,\n",
              " 'verbose': False}"
            ]
          },
          "metadata": {
            "tags": []
          },
          "execution_count": 30
        }
      ]
    },
    {
      "cell_type": "code",
      "metadata": {
        "colab": {
          "base_uri": "https://localhost:8080/"
        },
        "id": "N5ecNqrGP0cC",
        "outputId": "b776af36-ea69-4338-d2d5-2eb559373350"
      },
      "source": [
        "y_actual = []\n",
        "y_pred = []\n",
        "n_total = 10000\n",
        "\n",
        "with torch.no_grad():\n",
        "  n_true = 0\n",
        "  n_class_correct = [0 for i in range(18)]\n",
        "  n_class_sample = [0 for i in range(18)]\n",
        "\n",
        "  for i in tqdm(range(n_total)):\n",
        "    category, line, category_tensor, line_tensor = randomTrainingExample()\n",
        "\n",
        "    hidden = rnn.init_hidden()\n",
        "\n",
        "    for i in range(line_tensor.size()[0]):\n",
        "      output, hidden = rnn(line_tensor[i], hidden)\n",
        "\n",
        "      guess = category_form_output(output)\n",
        "      y_pred.append(all_categories.index(guess))\n",
        "      y_actual.append(all_categories.index(category))\n",
        "\n",
        "      n_true += (guess == category)\n",
        "      if guess == category :\n",
        "        n_class_correct[all_categories.index(category)] += 1\n",
        "      n_class_sample[all_categories.index(category)] += 1\n",
        "      \n",
        "  print(f'accuracy of network on the 1000 names is : {(n_true/n_total) *100}')\n",
        "  \n",
        "  for i in range(18):\n",
        "    if n_class_sample[i] != 0:\n",
        "      acc = 100.0 * n_class_correct[i] / n_class_sample[i]\n",
        "      print(f'Accuracy of {all_categories[i]}: {acc} %')\n",
        "  "
      ],
      "execution_count": null,
      "outputs": [
        {
          "output_type": "stream",
          "text": [
            "100%|██████████| 10000/10000 [00:04<00:00, 2000.03it/s]"
          ],
          "name": "stderr"
        },
        {
          "output_type": "stream",
          "text": [
            "accuracy of network on the 1000 names is : 30.39\n",
            "Accuracy of Arabic: 0.16989466530750935 %\n",
            "Accuracy of Chinese: 1.9854721549636805 %\n",
            "Accuracy of Czech: 1.132991637442676 %\n",
            "Accuracy of Dutch: 0.0 %\n",
            "Accuracy of English: 10.225921521997622 %\n",
            "Accuracy of French: 0.22290331568682084 %\n",
            "Accuracy of German: 0.5651237890204521 %\n",
            "Accuracy of Greek: 1.107375914573858 %\n",
            "Accuracy of Irish: 6.737967914438503 %\n",
            "Accuracy of Italian: 4.485749690210657 %\n",
            "Accuracy of Japanese: 1.6881028938906752 %\n",
            "Accuracy of Korean: 35.17045454545455 %\n",
            "Accuracy of Polish: 7.837837837837838 %\n",
            "Accuracy of Portuguese: 3.124151045911437 %\n",
            "Accuracy of Russian: 0.13452914798206278 %\n",
            "Accuracy of Scottish: 3.84932636788562 %\n",
            "Accuracy of Spanish: 5.0892619237942975 %\n",
            "Accuracy of Vietnamese: 33.45070422535211 %\n"
          ],
          "name": "stdout"
        },
        {
          "output_type": "stream",
          "text": [
            "\n"
          ],
          "name": "stderr"
        }
      ]
    },
    {
      "cell_type": "markdown",
      "metadata": {
        "id": "7Be98raB_sCA"
      },
      "source": [
        "###Confusion matrix"
      ]
    },
    {
      "cell_type": "code",
      "metadata": {
        "colab": {
          "base_uri": "https://localhost:8080/",
          "height": 1000
        },
        "id": "SUQwBn-T_KHZ",
        "outputId": "addeb392-510e-420a-8af5-5980008f5bbd"
      },
      "source": [
        "from sklearn import metrics\n",
        "import seaborn as sns\n",
        "\n",
        "plt.figure(figsize = (16, 20))\n",
        "ax= plt.subplot()\n",
        "cnf_matrix = metrics.confusion_matrix(y_actual, y_pred)\n",
        "sns.heatmap(pd.DataFrame(cnf_matrix), annot=True, fmt='g', ax=ax);  #annot=True to annotate cells, ftm='g' to disable scientific notation\n",
        "\n",
        "# labels, title and ticks\n",
        "ax.set_xlabel('Predicted labels');ax.set_ylabel('Actual labels'); \n",
        "ax.set_title('Confusion Matrix of model 1'); \n",
        "class_names=['Arabic','Chinese','Czech','Dutch','English','French','German','Greek','Irish','Italian','Japanese','Korean','Polish','Portuguese','Russian','Scottish','Spanish','Vietnamese']\n",
        "ax.xaxis.set_ticklabels(class_names); ax.yaxis.set_ticklabels(class_names);"
      ],
      "execution_count": null,
      "outputs": [
        {
          "output_type": "display_data",
          "data": {
            "image/png": "[encoded data removed]",
            "text/plain": [
              "<Figure size 1152x1440 with 2 Axes>"
            ]
          },
          "metadata": {
            "tags": []
          }
        }
      ]
    },
    {
      "cell_type": "markdown",
      "metadata": {
        "id": "2KTzZGzu_p3D"
      },
      "source": [
        "###Classification report"
      ]
    },
    {
      "cell_type": "code",
      "metadata": {
        "colab": {
          "base_uri": "https://localhost:8080/"
        },
        "id": "V_A-hxNx_mgv",
        "outputId": "63a42b90-849a-4b51-b99e-7bdb7b63faa6"
      },
      "source": [
        "print(classification_report(y_actual, y_pred))"
      ],
      "execution_count": null,
      "outputs": [
        {
          "output_type": "stream",
          "text": [
            "              precision    recall  f1-score   support\n",
            "\n",
            "           0       0.05      0.00      0.00      2943\n",
            "           1       0.01      0.02      0.01      2065\n",
            "           2       0.06      0.01      0.02      3707\n",
            "           3       0.00      0.00      0.00      4126\n",
            "           4       0.06      0.10      0.08      3364\n",
            "           5       0.05      0.00      0.00      3589\n",
            "           6       0.06      0.01      0.01      3716\n",
            "           7       0.06      0.01      0.02      5057\n",
            "           8       0.05      0.07      0.06      3740\n",
            "           9       0.08      0.04      0.06      4035\n",
            "          10       0.13      0.02      0.03      3732\n",
            "          11       0.04      0.35      0.07      1760\n",
            "          12       0.08      0.08      0.08      3700\n",
            "          13       0.06      0.03      0.04      3681\n",
            "          14       0.11      0.00      0.00      4460\n",
            "          15       0.06      0.04      0.05      3637\n",
            "          16       0.06      0.05      0.06      3753\n",
            "          17       0.05      0.33      0.08      1988\n",
            "\n",
            "    accuracy                           0.05     63053\n",
            "   macro avg       0.06      0.06      0.04     63053\n",
            "weighted avg       0.06      0.05      0.03     63053\n",
            "\n"
          ],
          "name": "stdout"
        }
      ]
    },
    {
      "cell_type": "code",
      "metadata": {
        "id": "vtfsHCnc1K3h"
      },
      "source": [
        "def predict(input_line):\n",
        "    print(f\"\\n> {input_line}\")\n",
        "    with torch.no_grad():\n",
        "        line_tensor = line_to_tensor(input_line)\n",
        "        \n",
        "        hidden = rnn.init_hidden()\n",
        "    \n",
        "        for i in range(line_tensor.size()[0]):\n",
        "            output, hidden = rnn(line_tensor[i], hidden)\n",
        "        \n",
        "        guess = category_form_output(output)\n",
        "        print(guess)"
      ],
      "execution_count": null,
      "outputs": []
    },
    {
      "cell_type": "code",
      "metadata": {
        "colab": {
          "base_uri": "https://localhost:8080/"
        },
        "id": "3LVHZJi4ovXx",
        "outputId": "1d97425a-f826-484c-afdf-d78acf8899ee"
      },
      "source": [
        "predict('aalst')"
      ],
      "execution_count": null,
      "outputs": [
        {
          "output_type": "stream",
          "text": [
            "\n",
            "> aalst\n",
            "Korean\n"
          ],
          "name": "stdout"
        }
      ]
    },
    {
      "cell_type": "markdown",
      "metadata": {
        "id": "l5o1xtzqIUEa"
      },
      "source": [
        "##MNIST Digits classification using RNN, GRU and LSTM"
      ]
    },
    {
      "cell_type": "code",
      "metadata": {
        "id": "EOTlpAzYIfN_"
      },
      "source": [
        "# MNIST dataset from pytorch\n",
        "\n",
        "train_dataset = torchvision.datasets.MNIST(root='/content/drive/MyDrive/AI-Internship/MNIST', train = True, transform = transforms.ToTensor(),download=True)\n",
        "test_dataset = torchvision.datasets.MNIST(root='/content/drive/MyDrive/AI-Internship/MNIST', train = False, transform = transforms.ToTensor(),download=True)\n"
      ],
      "execution_count": 3,
      "outputs": []
    },
    {
      "cell_type": "code",
      "metadata": {
        "colab": {
          "base_uri": "https://localhost:8080/"
        },
        "id": "x8-lCcwlr71C",
        "outputId": "c2437b9d-09d0-4c77-e4e4-690df2ecd4f8"
      },
      "source": [
        "train_dataset"
      ],
      "execution_count": 7,
      "outputs": [
        {
          "output_type": "execute_result",
          "data": {
            "text/plain": [
              "Dataset MNIST\n",
              "    Number of datapoints: 60000\n",
              "    Root location: /content/drive/MyDrive/AI-Internship/MNIST\n",
              "    Split: Train\n",
              "    StandardTransform\n",
              "Transform: ToTensor()"
            ]
          },
          "metadata": {
            "tags": []
          },
          "execution_count": 7
        }
      ]
    },
    {
      "cell_type": "markdown",
      "metadata": {
        "id": "z0f5xBknv7NP"
      },
      "source": [
        "Let's show distribution of each class."
      ]
    },
    {
      "cell_type": "code",
      "metadata": {
        "id": "Df1pmb29vMdu"
      },
      "source": [
        "train_classes = [label for _, label in train_dataset]\n",
        "test_classes = [label for _, label in test_dataset]"
      ],
      "execution_count": 20,
      "outputs": []
    },
    {
      "cell_type": "code",
      "metadata": {
        "id": "ZzHxY_nkoli7"
      },
      "source": [
        "def distribution_of_classes(dataset):\n",
        "  list_count = []\n",
        "  for i in range(10):\n",
        "    list_count.append(dataset.count(i))\n",
        "  return list_count    "
      ],
      "execution_count": 22,
      "outputs": []
    },
    {
      "cell_type": "code",
      "metadata": {
        "colab": {
          "base_uri": "https://localhost:8080/",
          "height": 368
        },
        "id": "4dJn33oTom7i",
        "outputId": "ae602578-1a1b-4276-ecdb-5b6e6855fdeb"
      },
      "source": [
        "# Distribution of train data in each class\n",
        "fig = plt.figure()\n",
        "ax = fig.add_axes([0,0,1,1])\n",
        "number_of_data = distribution_of_classes(train_classes)\n",
        "ax.bar(train_dataset.classes,number_of_data)\n",
        "plt.title(\"Distribution of train data in each class\")\n",
        "print(distribution_of_classes(train_classes))\n",
        "plt.show()"
      ],
      "execution_count": 24,
      "outputs": [
        {
          "output_type": "stream",
          "text": [
            "[5923, 6742, 5958, 6131, 5842, 5421, 5918, 6265, 5851, 5949]\n"
          ],
          "name": "stdout"
        },
        {
          "output_type": "display_data",
          "data": {
            "image/png": "[encoded data removed]",
            "text/plain": [
              "<Figure size 432x288 with 1 Axes>"
            ]
          },
          "metadata": {
            "tags": [],
            "needs_background": "light"
          }
        }
      ]
    },
    {
      "cell_type": "code",
      "metadata": {
        "colab": {
          "base_uri": "https://localhost:8080/",
          "height": 368
        },
        "id": "HlCePAU2pO6D",
        "outputId": "f6d79326-9b27-4fcc-f49a-4fbecaacbeac"
      },
      "source": [
        "# Distribution of test data in each class\n",
        "fig = plt.figure()\n",
        "ax = fig.add_axes([0,0,1,1])\n",
        "number_of_data = distribution_of_classes(test_classes)\n",
        "ax.bar(train_dataset.classes,number_of_data)\n",
        "plt.title(\"Distribution of test data in each class\")\n",
        "print(distribution_of_classes(test_classes))\n",
        "plt.show()"
      ],
      "execution_count": 25,
      "outputs": [
        {
          "output_type": "stream",
          "text": [
            "[980, 1135, 1032, 1010, 982, 892, 958, 1028, 974, 1009]\n"
          ],
          "name": "stdout"
        },
        {
          "output_type": "display_data",
          "data": {
            "image/png": "[encoded data removed]",
            "text/plain": [
              "<Figure size 432x288 with 1 Axes>"
            ]
          },
          "metadata": {
            "tags": [],
            "needs_background": "light"
          }
        }
      ]
    },
    {
      "cell_type": "code",
      "metadata": {
        "id": "m4h01iP0Izog"
      },
      "source": [
        "input_size = 28 # 28X28 images, we treat it as a sequence\n",
        "sequence_length = 28\n",
        "num_layers = 2\n",
        "\n",
        "hidden_size = 128\n",
        "num_classes = 10 \n",
        "num_epochs = 4\n",
        "batch_size = 100\n",
        "learning_rate = 0.001"
      ],
      "execution_count": 26,
      "outputs": []
    },
    {
      "cell_type": "code",
      "metadata": {
        "id": "d2Yu7_bmJSRc"
      },
      "source": [
        "train_loader = torch.utils.data.DataLoader(dataset = train_dataset, batch_size = batch_size, shuffle = True)\n",
        "test_loader = torch.utils.data.DataLoader(dataset = test_dataset, batch_size = batch_size, shuffle = False)"
      ],
      "execution_count": 27,
      "outputs": []
    },
    {
      "cell_type": "code",
      "metadata": {
        "colab": {
          "base_uri": "https://localhost:8080/"
        },
        "id": "3kCCxVHJJWtr",
        "outputId": "14edeac6-045e-4ca0-fad3-373c02ff3b63"
      },
      "source": [
        "print(f'length of train_dataset is : {len(train_dataset)} and length of train_loader is : {len(train_loader)}')\n",
        "print(f'length of test_dataset is : {len(test_dataset)} and length of test_loader is : {len(test_loader)}')"
      ],
      "execution_count": 28,
      "outputs": [
        {
          "output_type": "stream",
          "text": [
            "length of train_dataset is : 60000 and length of train_loader is : 600\n",
            "length of test_dataset is : 10000 and length of test_loader is : 100\n"
          ],
          "name": "stdout"
        }
      ]
    },
    {
      "cell_type": "markdown",
      "metadata": {
        "id": "KtWAnFt8CLj0"
      },
      "source": [
        "Let's take a look at one batch of train loader."
      ]
    },
    {
      "cell_type": "code",
      "metadata": {
        "colab": {
          "base_uri": "https://localhost:8080/"
        },
        "id": "B7YoxX2cARNM",
        "outputId": "e3819df4-5ae0-4d9a-bea5-b2d782fab2f2"
      },
      "source": [
        "example = iter(train_loader)\n",
        "image, label = example.next()\n",
        "print(f'image shape : {image.shape} | label shape : {label.shape}')"
      ],
      "execution_count": 7,
      "outputs": [
        {
          "output_type": "stream",
          "text": [
            "image shape : torch.Size([100, 1, 28, 28]) | label shape : torch.Size([100])\n"
          ],
          "name": "stdout"
        }
      ]
    },
    {
      "cell_type": "code",
      "metadata": {
        "colab": {
          "base_uri": "https://localhost:8080/",
          "height": 266
        },
        "id": "iXIgG2DuBTTb",
        "outputId": "9230a91b-0804-45a8-fb69-391119d1a23a"
      },
      "source": [
        "for i in range(6):\n",
        "  plt.subplot(2,3, i + 1)\n",
        "  plt.imshow(image[i][0],cmap='gray')"
      ],
      "execution_count": 8,
      "outputs": [
        {
          "output_type": "display_data",
          "data": {
            "image/png": "[encoded data removed]",
            "text/plain": [
              "<Figure size 432x288 with 6 Axes>"
            ]
          },
          "metadata": {
            "tags": [],
            "needs_background": "light"
          }
        }
      ]
    },
    {
      "cell_type": "markdown",
      "metadata": {
        "id": "geL0qdgJNxPs"
      },
      "source": [
        "###Building RNN model"
      ]
    },
    {
      "cell_type": "code",
      "metadata": {
        "id": "f_jXHvVbCHEq"
      },
      "source": [
        "class RNN(nn.Module):\n",
        "  def __init__(self, input_size, hidden_size, num_layers, num_classes):\n",
        "    super(RNN, self).__init__()\n",
        "    self.num_layers = num_layers\n",
        "    self.hidden_size = hidden_size\n",
        "    self.rnn = nn.RNN(input_size, hidden_size, num_layers, batch_first = True)\n",
        "    # -> x shape : (batch_size, sequence_length, input_size)\n",
        "\n",
        "    # fully connected layer for classification\n",
        "    self.fc = nn.Linear(hidden_size, num_classes)\n",
        "\n",
        "  def forward(self, x):\n",
        "    # x.size(0) -> batch_size\n",
        "    h0 = torch.zeros(self.num_layers, x.size(0), self.hidden_size)\n",
        "\n",
        "    # x : (n, 28, 28), h0 : (2, n, 128)\n",
        "\n",
        "\n",
        "    # forward propage rnn\n",
        "    out, _ = self.rnn(x, h0)\n",
        "\n",
        "    # out : (n, seq, hidden_size) = (n, 28, 128)\n",
        "    # Decode the hidden state of the last time step\n",
        "    out = out[:, -1, :]\n",
        "    # out : (n, 128)\n",
        "    \n",
        "    out = self.fc(out)\n",
        "    # out : (n,10)\n",
        "    return out\n"
      ],
      "execution_count": 9,
      "outputs": []
    },
    {
      "cell_type": "markdown",
      "metadata": {
        "id": "-4sE8Tigl6Xs"
      },
      "source": [
        "###Train the model"
      ]
    },
    {
      "cell_type": "code",
      "metadata": {
        "id": "TXkM1SD6M0Fg"
      },
      "source": [
        "model_rnn = RNN(input_size, hidden_size, num_layers, num_classes)"
      ],
      "execution_count": 10,
      "outputs": []
    },
    {
      "cell_type": "code",
      "metadata": {
        "colab": {
          "base_uri": "https://localhost:8080/"
        },
        "id": "PBi1pm9RVk_m",
        "outputId": "b5b7f887-6eb3-48b3-aa80-a5eeda418951"
      },
      "source": [
        "print(model_rnn)"
      ],
      "execution_count": 11,
      "outputs": [
        {
          "output_type": "stream",
          "text": [
            "RNN(\n",
            "  (rnn): RNN(28, 128, num_layers=2, batch_first=True)\n",
            "  (fc): Linear(in_features=128, out_features=10, bias=True)\n",
            ")\n"
          ],
          "name": "stdout"
        }
      ]
    },
    {
      "cell_type": "code",
      "metadata": {
        "id": "dhGl_VYONEOW"
      },
      "source": [
        "criterion = nn.CrossEntropyLoss()\n",
        "optimizer = torch.optim.Adam(model_rnn.parameters(), lr = learning_rate)\n",
        "scheduler = StepLR(optimizer, step_size = 50, gamma = 0.1)\n",
        "\n",
        "n_total_step = len(train_loader)"
      ],
      "execution_count": 12,
      "outputs": []
    },
    {
      "cell_type": "code",
      "metadata": {
        "id": "XSU_J64CT1rC"
      },
      "source": [
        "# Define a funciton to calculate accuracy for multi class classification model\n",
        "def multi_class_acc(y_pred, y_act):\n",
        "\n",
        "  y_pred_softmax = torch.softmax(y_pred, 1)\n",
        "  _, y_pred_tag = torch.max(y_pred_softmax,1)\n",
        "\n",
        "  correct = (y_pred_tag == y_act).float()  # Show which elements are the same with 1\n",
        "  acc = correct.sum()/len(correct)\n",
        "  acc = torch.round(acc * 100)\n",
        "\n",
        "  return acc"
      ],
      "execution_count": 34,
      "outputs": []
    },
    {
      "cell_type": "markdown",
      "metadata": {
        "id": "C5SToJpvP1Rw"
      },
      "source": [
        "Monitoring with tensorboard."
      ]
    },
    {
      "cell_type": "code",
      "metadata": {
        "id": "xcTrikA0PvV6"
      },
      "source": [
        "from torch.utils.tensorboard import SummaryWriter\n",
        "writer = SummaryWriter('/content/drive/MyDrive/AI-Internship/model_rnn_mnist')"
      ],
      "execution_count": 14,
      "outputs": []
    },
    {
      "cell_type": "code",
      "metadata": {
        "id": "MWSLcQkpQD28"
      },
      "source": [
        "# %reload_ext tensorboard\n",
        "# %tensorboard --logdir '/content/drive/MyDrive/AI-Internship/model_rnn_mnist'/"
      ],
      "execution_count": 89,
      "outputs": []
    },
    {
      "cell_type": "code",
      "metadata": {
        "colab": {
          "base_uri": "https://localhost:8080/"
        },
        "id": "cFs5kJAtNrLW",
        "outputId": "f0f40e97-2d88-48fb-afb3-c1d300bbdf76"
      },
      "source": [
        "train_loss = []\n",
        "train_acc = []\n",
        "\n",
        "for epoch in range(num_epochs):\n",
        "\n",
        "  train_epoch_loss = 0\n",
        "  train_epoch_acc = 0\n",
        "\n",
        "  loop = tqdm(enumerate(train_loader), total = n_total_step, leave = False)\n",
        "\n",
        "  for i , (img, label) in loop:\n",
        "    # origin shape : [N, 1, 28, 28]\n",
        "    # resized : [N, 28, 28]\n",
        "    img = img.reshape(-1, sequence_length, input_size)\n",
        "  \n",
        "    y_pred = model_rnn(img)\n",
        "\n",
        "    loss_train = criterion(y_pred, label)\n",
        "    acc_train = multi_class_acc(y_pred, label)\n",
        "\n",
        "    optimizer.zero_grad()\n",
        "    loss_train.backward()\n",
        "    optimizer.step()\n",
        "\n",
        "    train_epoch_loss += loss_train.item()\n",
        "    train_epoch_acc += acc_train.item() \n",
        "  \n",
        "  scheduler.step()    \n",
        "\n",
        "  train_loss.append(train_epoch_loss/len(train_loader))\n",
        "  train_acc.append(train_epoch_acc/len(train_loader))\n",
        "     \n",
        "  writer.add_scalar('training loss',train_epoch_loss/len(train_loader) , epoch * n_total_step + i)\n",
        "  writer.add_scalar('training accuracy',train_epoch_acc/len(train_loader) , epoch * n_total_step + i)\n",
        "  writer.flush()\n",
        "\n",
        "  # Upgrade progress bar\n",
        "  loop.set_description(f'Epoch : [{epoch}/{num_epochs}]')\n",
        "  loop.set_postfix(loss = loss_train.item(), accuracy = acc_train.item())\n",
        "  "
      ],
      "execution_count": 16,
      "outputs": [
        {
          "output_type": "stream",
          "text": [
            ""
          ],
          "name": "stderr"
        }
      ]
    },
    {
      "cell_type": "code",
      "metadata": {
        "id": "_EAV3zZvkRmD"
      },
      "source": [
        "torch.save(model_rnn, '/content/drive/MyDrive/AI-Internship/model_mnist_rnn')"
      ],
      "execution_count": 20,
      "outputs": []
    },
    {
      "cell_type": "code",
      "metadata": {
        "colab": {
          "base_uri": "https://localhost:8080/",
          "height": 281
        },
        "id": "OLHhT497kStv",
        "outputId": "3b176195-112e-4617-eb89-c61210d9de4f"
      },
      "source": [
        "#Training loss\n",
        "plt.plot(train_loss, label='Training loss')\n",
        "plt.legend(frameon=False)\n",
        "plt.title(\"Loss function for each epoch\") \n",
        "plt.show()"
      ],
      "execution_count": 21,
      "outputs": [
        {
          "output_type": "display_data",
          "data": {
            "image/png": "[encoded data removed]",
            "text/plain": [
              "<Figure size 432x288 with 1 Axes>"
            ]
          },
          "metadata": {
            "tags": [],
            "needs_background": "light"
          }
        }
      ]
    },
    {
      "cell_type": "code",
      "metadata": {
        "colab": {
          "base_uri": "https://localhost:8080/",
          "height": 281
        },
        "id": "4NDYsvSslJ7J",
        "outputId": "50bf0c01-9a68-4efa-d4dd-e419ae1a9a04"
      },
      "source": [
        "#Training accuracy\n",
        "plt.plot(train_acc, label='Training loss')\n",
        "plt.legend(frameon=False)\n",
        "plt.title(\"Accuracy for each epoch\") \n",
        "plt.show()"
      ],
      "execution_count": 24,
      "outputs": [
        {
          "output_type": "display_data",
          "data": {
            "image/png": "[encoded data removed]",
            "text/plain": [
              "<Figure size 432x288 with 1 Axes>"
            ]
          },
          "metadata": {
            "tags": [],
            "needs_background": "light"
          }
        }
      ]
    },
    {
      "cell_type": "code",
      "metadata": {
        "colab": {
          "base_uri": "https://localhost:8080/"
        },
        "id": "_UkdIHPNk518",
        "outputId": "720b043e-ae8a-4691-c6ef-7f7546794f1c"
      },
      "source": [
        "scheduler.state_dict()"
      ],
      "execution_count": 23,
      "outputs": [
        {
          "output_type": "execute_result",
          "data": {
            "text/plain": [
              "{'_get_lr_called_within_step': False,\n",
              " '_last_lr': [0.001],\n",
              " '_step_count': 5,\n",
              " 'base_lrs': [0.001],\n",
              " 'gamma': 0.1,\n",
              " 'last_epoch': 4,\n",
              " 'step_size': 50,\n",
              " 'verbose': False}"
            ]
          },
          "metadata": {
            "tags": []
          },
          "execution_count": 23
        }
      ]
    },
    {
      "cell_type": "markdown",
      "metadata": {
        "id": "rjbdDsD5lyWQ"
      },
      "source": [
        "###Testing the model"
      ]
    },
    {
      "cell_type": "code",
      "metadata": {
        "id": "QuI2uqHZnV38"
      },
      "source": [
        "classes = train_dataset.classes"
      ],
      "execution_count": 26,
      "outputs": []
    },
    {
      "cell_type": "code",
      "metadata": {
        "colab": {
          "base_uri": "https://localhost:8080/"
        },
        "id": "7EetHW4clxtG",
        "outputId": "0c6ad7e1-e257-4429-a3f9-5f6d537119c6"
      },
      "source": [
        "y_pred_test = []\n",
        "y_actual_test = []\n",
        "\n",
        "model_rnn.eval()\n",
        "with torch.no_grad():\n",
        "  n_true = 0\n",
        "  n_total = 0\n",
        "  n_class_correct = [0 for i in range(10)]\n",
        "  n_class_sample = [0 for i in range(10)]\n",
        "  \n",
        "  for im, lbs in test_loader:\n",
        "    im = im.reshape(-1, sequence_length, input_size)\n",
        "    output = model_rnn(im)\n",
        "\n",
        "    _, y_predtest = torch.max(output,1)\n",
        "\n",
        "    n_true += (y_predtest == lbs).sum()\n",
        "    n_total += lbs.size(0)\n",
        "\n",
        "    for i in range(len(y_predtest)):\n",
        "      y_pred_test.append(y_predtest[i])\n",
        "      y_actual_test.append(lbs[i])\n",
        "\n",
        "    for i in range(len(y_predtest)):\n",
        "      lb = lbs[i]\n",
        "      pred = y_predtest[i]\n",
        "      if pred == lb:\n",
        "        n_class_correct[lb] += 1\n",
        "      n_class_sample[lb] += 1   \n",
        "\n",
        "  print(f'accuracy of network on the 1000 images is : {(n_true/n_total) *100}')\n",
        "  \n",
        "  for i in range(len(classes)):\n",
        "    acc = 100.0 * n_class_correct[i] / n_class_sample[i]\n",
        "    print(f'Accuracy of {classes[i]}: {acc} %')"
      ],
      "execution_count": 27,
      "outputs": [
        {
          "output_type": "stream",
          "text": [
            "accuracy of network on the 1000 images is : 95.47000122070312\n",
            "Accuracy of 0 - zero: 97.95918367346938 %\n",
            "Accuracy of 1 - one: 99.47136563876651 %\n",
            "Accuracy of 2 - two: 95.63953488372093 %\n",
            "Accuracy of 3 - three: 95.14851485148515 %\n",
            "Accuracy of 4 - four: 95.21384928716904 %\n",
            "Accuracy of 5 - five: 87.5560538116592 %\n",
            "Accuracy of 6 - six: 97.28601252609603 %\n",
            "Accuracy of 7 - seven: 95.52529182879377 %\n",
            "Accuracy of 8 - eight: 94.76386036960986 %\n",
            "Accuracy of 9 - nine: 94.84638255698711 %\n"
          ],
          "name": "stdout"
        }
      ]
    },
    {
      "cell_type": "markdown",
      "metadata": {
        "id": "vPtKGS08llDa"
      },
      "source": [
        "####Confusion matrix"
      ]
    },
    {
      "cell_type": "code",
      "metadata": {
        "colab": {
          "base_uri": "https://localhost:8080/",
          "height": 566
        },
        "id": "POoGua3TlGv3",
        "outputId": "88601ea8-e837-4107-82ba-0e1b6a392ce4"
      },
      "source": [
        "from sklearn import metrics\n",
        "import seaborn as sns\n",
        "\n",
        "plt.figure(figsize = (16, 9))\n",
        "ax= plt.subplot()\n",
        "cnf_matrix = metrics.confusion_matrix(y_actual_test, y_pred_test)\n",
        "sns.heatmap(pd.DataFrame(cnf_matrix), annot=True, fmt='g', ax=ax);  #annot=True to annotate cells, ftm='g' to disable scientific notation\n",
        "\n",
        "# labels, title and ticks\n",
        "ax.set_xlabel('Predicted labels');ax.set_ylabel('Actual labels'); \n",
        "ax.set_title('Confusion Matrix of model RNN on MNIST'); \n",
        "ax.xaxis.set_ticklabels(classes); ax.yaxis.set_ticklabels(classes);"
      ],
      "execution_count": 31,
      "outputs": [
        {
          "output_type": "display_data",
          "data": {
            "image/png": "[encoded data removed]",
            "text/plain": [
              "<Figure size 1152x648 with 2 Axes>"
            ]
          },
          "metadata": {
            "tags": [],
            "needs_background": "light"
          }
        }
      ]
    },
    {
      "cell_type": "markdown",
      "metadata": {
        "id": "hb7UX6SnlnVB"
      },
      "source": [
        "####Classification report"
      ]
    },
    {
      "cell_type": "code",
      "metadata": {
        "colab": {
          "base_uri": "https://localhost:8080/"
        },
        "id": "HhvWGF5JprAJ",
        "outputId": "9f9b0bb4-20e8-4e4f-d27a-00703366e8fa"
      },
      "source": [
        "print(classification_report(y_actual_test, y_pred_test))"
      ],
      "execution_count": 38,
      "outputs": [
        {
          "output_type": "stream",
          "text": [
            "              precision    recall  f1-score   support\n",
            "\n",
            "           0       0.99      0.98      0.98       980\n",
            "           1       0.97      0.99      0.98      1135\n",
            "           2       0.95      0.96      0.95      1032\n",
            "           3       0.94      0.95      0.94      1010\n",
            "           4       0.96      0.95      0.96       982\n",
            "           5       0.98      0.88      0.92       892\n",
            "           6       0.96      0.97      0.97       958\n",
            "           7       0.96      0.96      0.96      1028\n",
            "           8       0.93      0.95      0.94       974\n",
            "           9       0.92      0.95      0.93      1009\n",
            "\n",
            "    accuracy                           0.95     10000\n",
            "   macro avg       0.96      0.95      0.95     10000\n",
            "weighted avg       0.96      0.95      0.95     10000\n",
            "\n"
          ],
          "name": "stdout"
        }
      ]
    },
    {
      "cell_type": "markdown",
      "metadata": {
        "id": "t34T3uzZrMPE"
      },
      "source": [
        "###Buidling GRU model"
      ]
    },
    {
      "cell_type": "code",
      "metadata": {
        "id": "ylVJPc-krLnS"
      },
      "source": [
        "class GRU(nn.Module):\n",
        "  def __init__(self, input_size, hidden_size, num_layers, num_classes):\n",
        "    super(GRU, self).__init__()\n",
        "    self.num_layers = num_layers\n",
        "    self.hidden_size = hidden_size\n",
        "    self.gru = nn.GRU(input_size, hidden_size, num_layers, batch_first=True)\n",
        "    # -> x shape : (batch_size, sequence_length, input_size)\n",
        "\n",
        "    # fully connected layer for classification\n",
        "    self.fc = nn.Linear(hidden_size, num_classes)\n",
        "\n",
        "  def forward(self, x):\n",
        "    # x.size(0) -> batch_size\n",
        "    h0 = torch.zeros(self.num_layers, x.size(0), self.hidden_size)\n",
        "\n",
        "    # x : (n, 28, 28), h0 : (2, n, 128)\n",
        "\n",
        "    # forward propage rnn\n",
        "    out, _ = self.gru(x, h0)\n",
        "\n",
        "    # out : (n, seq, hidden_size) = (n, 28, 128)\n",
        "    # Decode the hidden state of the last time step\n",
        "    out = out[:, -1, :]\n",
        "    # out : (n, 128)\n",
        "    \n",
        "    out = self.fc(out)\n",
        "    # out : (n,10)\n",
        "    return out\n"
      ],
      "execution_count": 29,
      "outputs": []
    },
    {
      "cell_type": "markdown",
      "metadata": {
        "id": "HiC8mrwPx-SN"
      },
      "source": [
        "###Training the model"
      ]
    },
    {
      "cell_type": "code",
      "metadata": {
        "id": "PV_JO-Q4xNFc"
      },
      "source": [
        "model_gru = GRU(input_size, hidden_size, num_layers, num_classes)"
      ],
      "execution_count": 30,
      "outputs": []
    },
    {
      "cell_type": "code",
      "metadata": {
        "colab": {
          "base_uri": "https://localhost:8080/"
        },
        "id": "VDOmJsKCxR5e",
        "outputId": "77d38159-e0ca-4a88-fbc1-19c6041172d4"
      },
      "source": [
        "model_gru"
      ],
      "execution_count": 31,
      "outputs": [
        {
          "output_type": "execute_result",
          "data": {
            "text/plain": [
              "GRU(\n",
              "  (gru): GRU(28, 128, num_layers=2, batch_first=True)\n",
              "  (fc): Linear(in_features=128, out_features=10, bias=True)\n",
              ")"
            ]
          },
          "metadata": {
            "tags": []
          },
          "execution_count": 31
        }
      ]
    },
    {
      "cell_type": "code",
      "metadata": {
        "id": "n7FTOnWZxT3Q"
      },
      "source": [
        "criterion = nn.CrossEntropyLoss()\n",
        "optimizer = torch.optim.Adam(model_gru.parameters(), lr = learning_rate)\n",
        "scheduler = StepLR(optimizer, step_size = 50, gamma = 0.1)\n",
        "\n",
        "n_total_step = len(train_loader)"
      ],
      "execution_count": 33,
      "outputs": []
    },
    {
      "cell_type": "markdown",
      "metadata": {
        "id": "Sfj-EvD1xh-0"
      },
      "source": [
        "Monitoring with tensorboard."
      ]
    },
    {
      "cell_type": "code",
      "metadata": {
        "id": "tBLjB6HDxcUe"
      },
      "source": [
        "from torch.utils.tensorboard import SummaryWriter\n",
        "writer = SummaryWriter('/content/drive/MyDrive/AI-Internship/model_gru_mnist')"
      ],
      "execution_count": 35,
      "outputs": []
    },
    {
      "cell_type": "code",
      "metadata": {
        "id": "6CWteLKlxnlM"
      },
      "source": [
        "# %reload_ext tensorboard\n",
        "# %tensorboard --logdir '/content/drive/MyDrive/AI-Internship/model_gru_mnist'/"
      ],
      "execution_count": 88,
      "outputs": []
    },
    {
      "cell_type": "code",
      "metadata": {
        "colab": {
          "base_uri": "https://localhost:8080/"
        },
        "id": "2pkZYHQkx7BM",
        "outputId": "bdf65f8c-ea0c-4981-d064-931f1f3ca485"
      },
      "source": [
        "train_loss = []\n",
        "train_acc = []\n",
        "\n",
        "for epoch in range(num_epochs):\n",
        "\n",
        "  train_epoch_loss = 0\n",
        "  train_epoch_acc = 0\n",
        "\n",
        "  loop = tqdm(enumerate(train_loader), total = n_total_step, leave = False)\n",
        "\n",
        "  for i , (img, label) in loop:\n",
        "    # origin shape : [N, 1, 28, 28]\n",
        "    # resized : [N, 28, 28]\n",
        "    img = img.reshape(-1, sequence_length, input_size)\n",
        "  \n",
        "    y_pred = model_gru(img)\n",
        "\n",
        "    loss_train = criterion(y_pred, label)\n",
        "    acc_train = multi_class_acc(y_pred, label)\n",
        "\n",
        "    optimizer.zero_grad()\n",
        "    loss_train.backward()\n",
        "    optimizer.step()\n",
        "\n",
        "    train_epoch_loss += loss_train.item()\n",
        "    train_epoch_acc += acc_train.item() \n",
        "  \n",
        "  scheduler.step()    \n",
        "\n",
        "  train_loss.append(train_epoch_loss/len(train_loader))\n",
        "  train_acc.append(train_epoch_acc/len(train_loader))\n",
        "     \n",
        "  writer.add_scalar('training loss',train_epoch_loss/len(train_loader) , epoch * n_total_step + i)\n",
        "  writer.add_scalar('training accuracy',train_epoch_acc/len(train_loader) , epoch * n_total_step + i)\n",
        "  writer.flush()\n",
        "\n",
        "  # Upgrade progress bar\n",
        "  loop.set_description(f'Epoch : [{epoch}/{num_epochs}]')\n",
        "  loop.set_postfix(loss = loss_train.item(), accuracy = acc_train.item())\n",
        "  "
      ],
      "execution_count": 37,
      "outputs": [
        {
          "output_type": "stream",
          "text": [
            ""
          ],
          "name": "stderr"
        }
      ]
    },
    {
      "cell_type": "code",
      "metadata": {
        "id": "X6DhLbnDz9Av"
      },
      "source": [
        "torch.save(model_gru, '/content/drive/MyDrive/AI-Internship/model_mnist_gru')"
      ],
      "execution_count": 39,
      "outputs": []
    },
    {
      "cell_type": "code",
      "metadata": {
        "colab": {
          "base_uri": "https://localhost:8080/",
          "height": 294
        },
        "id": "FUjZbb1e0Beh",
        "outputId": "41a86088-8572-419e-d2a7-fef031f72fc7"
      },
      "source": [
        "#Training loss\n",
        "plt.plot(train_loss, label='Training loss')\n",
        "plt.legend(frameon=False)\n",
        "plt.title(\"Loss function for each epoch\") \n",
        "plt.xlabel('epoch')\n",
        "plt.ylabel('loss')\n",
        "plt.show()"
      ],
      "execution_count": 41,
      "outputs": [
        {
          "output_type": "display_data",
          "data": {
            "image/png": "[encoded data removed]",
            "text/plain": [
              "<Figure size 432x288 with 1 Axes>"
            ]
          },
          "metadata": {
            "tags": [],
            "needs_background": "light"
          }
        }
      ]
    },
    {
      "cell_type": "code",
      "metadata": {
        "colab": {
          "base_uri": "https://localhost:8080/",
          "height": 294
        },
        "id": "6fKL6ugU0Kat",
        "outputId": "8e9bccd9-7afa-46ad-af13-48bd4bbb6377"
      },
      "source": [
        "#Training accuracy\n",
        "plt.plot(train_acc, label='Training accuracy')\n",
        "plt.legend(frameon=False)\n",
        "plt.title(\"Accuracy for each epoch\") \n",
        "plt.xlabel('epoch')\n",
        "plt.ylabel('accuracy')\n",
        "plt.show()"
      ],
      "execution_count": 42,
      "outputs": [
        {
          "output_type": "display_data",
          "data": {
            "image/png": "[encoded data removed]",
            "text/plain": [
              "<Figure size 432x288 with 1 Axes>"
            ]
          },
          "metadata": {
            "tags": [],
            "needs_background": "light"
          }
        }
      ]
    },
    {
      "cell_type": "code",
      "metadata": {
        "colab": {
          "base_uri": "https://localhost:8080/"
        },
        "id": "jqVxtHRp1RNk",
        "outputId": "e5464c73-4ed2-4e66-9927-cc8d80fba257"
      },
      "source": [
        "scheduler.state_dict()"
      ],
      "execution_count": 44,
      "outputs": [
        {
          "output_type": "execute_result",
          "data": {
            "text/plain": [
              "{'_get_lr_called_within_step': False,\n",
              " '_last_lr': [0.001],\n",
              " '_step_count': 5,\n",
              " 'base_lrs': [0.001],\n",
              " 'gamma': 0.1,\n",
              " 'last_epoch': 4,\n",
              " 'step_size': 50,\n",
              " 'verbose': False}"
            ]
          },
          "metadata": {
            "tags": []
          },
          "execution_count": 44
        }
      ]
    },
    {
      "cell_type": "markdown",
      "metadata": {
        "id": "vzyVEgZB1dor"
      },
      "source": [
        "###Testing the model"
      ]
    },
    {
      "cell_type": "code",
      "metadata": {
        "colab": {
          "base_uri": "https://localhost:8080/"
        },
        "id": "nwc1zsnK1cxd",
        "outputId": "ad54901c-67a2-4f31-fe35-90f3198917dc"
      },
      "source": [
        "classes = train_dataset.classes\n",
        "classes"
      ],
      "execution_count": 46,
      "outputs": [
        {
          "output_type": "execute_result",
          "data": {
            "text/plain": [
              "['0 - zero',\n",
              " '1 - one',\n",
              " '2 - two',\n",
              " '3 - three',\n",
              " '4 - four',\n",
              " '5 - five',\n",
              " '6 - six',\n",
              " '7 - seven',\n",
              " '8 - eight',\n",
              " '9 - nine']"
            ]
          },
          "metadata": {
            "tags": []
          },
          "execution_count": 46
        }
      ]
    },
    {
      "cell_type": "code",
      "metadata": {
        "colab": {
          "base_uri": "https://localhost:8080/"
        },
        "id": "hpljgih41kt5",
        "outputId": "3c32cb99-7db8-410e-ed1d-be39da2b8e3c"
      },
      "source": [
        "y_pred_test = []\n",
        "y_actual_test = []\n",
        "\n",
        "model_gru.eval()\n",
        "with torch.no_grad():\n",
        "  n_true = 0\n",
        "  n_total = 0\n",
        "  n_class_correct = [0 for i in range(10)]\n",
        "  n_class_sample = [0 for i in range(10)]\n",
        "  \n",
        "  for im, lbs in test_loader:\n",
        "    im = im.reshape(-1, sequence_length, input_size)\n",
        "    output = model_gru(im)\n",
        "\n",
        "    _, y_predtest = torch.max(output,1)\n",
        "\n",
        "    n_true += (y_predtest == lbs).sum()\n",
        "    n_total += lbs.size(0)\n",
        "\n",
        "    for i in range(len(y_predtest)):\n",
        "      y_pred_test.append(y_predtest[i])\n",
        "      y_actual_test.append(lbs[i])\n",
        "\n",
        "    for i in range(len(y_predtest)):\n",
        "      lb = lbs[i]\n",
        "      pred = y_predtest[i]\n",
        "      if pred == lb:\n",
        "        n_class_correct[lb] += 1\n",
        "      n_class_sample[lb] += 1   \n",
        "\n",
        "  print(f'accuracy of GRU on the 1000 images is : {(n_true/n_total) *100}')\n",
        "  \n",
        "  for i in range(len(classes)):\n",
        "    acc = 100.0 * n_class_correct[i] / n_class_sample[i]\n",
        "    print(f'Accuracy of {classes[i]}: {acc} %')"
      ],
      "execution_count": 47,
      "outputs": [
        {
          "output_type": "stream",
          "text": [
            "accuracy of GRU on the 1000 images is : 98.18999481201172\n",
            "Accuracy of 0 - zero: 99.6938775510204 %\n",
            "Accuracy of 1 - one: 99.03083700440529 %\n",
            "Accuracy of 2 - two: 98.64341085271317 %\n",
            "Accuracy of 3 - three: 98.91089108910892 %\n",
            "Accuracy of 4 - four: 97.25050916496944 %\n",
            "Accuracy of 5 - five: 98.4304932735426 %\n",
            "Accuracy of 6 - six: 96.76409185803757 %\n",
            "Accuracy of 7 - seven: 97.37354085603113 %\n",
            "Accuracy of 8 - eight: 98.35728952772074 %\n",
            "Accuracy of 9 - nine: 97.32408325074331 %\n"
          ],
          "name": "stdout"
        }
      ]
    },
    {
      "cell_type": "code",
      "metadata": {
        "colab": {
          "base_uri": "https://localhost:8080/"
        },
        "id": "09J4ZIb02EXL",
        "outputId": "2b647152-269c-448f-ce97-7847b9096d24"
      },
      "source": [
        "print(f'length of y_actual_test : {len(y_actual_test)}')"
      ],
      "execution_count": 49,
      "outputs": [
        {
          "output_type": "stream",
          "text": [
            "length of y_actual_test : 10000\n"
          ],
          "name": "stdout"
        }
      ]
    },
    {
      "cell_type": "code",
      "metadata": {
        "colab": {
          "base_uri": "https://localhost:8080/"
        },
        "id": "Cf5zqFwZ2Wy_",
        "outputId": "b86be511-0e8b-401a-b32c-1cce608f8555"
      },
      "source": [
        "n_class_sample"
      ],
      "execution_count": 50,
      "outputs": [
        {
          "output_type": "execute_result",
          "data": {
            "text/plain": [
              "[980, 1135, 1032, 1010, 982, 892, 958, 1028, 974, 1009]"
            ]
          },
          "metadata": {
            "tags": []
          },
          "execution_count": 50
        }
      ]
    },
    {
      "cell_type": "markdown",
      "metadata": {
        "id": "J15zGB7j2pva"
      },
      "source": [
        "####Confusion matrix"
      ]
    },
    {
      "cell_type": "code",
      "metadata": {
        "colab": {
          "base_uri": "https://localhost:8080/",
          "height": 566
        },
        "id": "VkmQGGcd2k1m",
        "outputId": "e971a770-08b1-4455-bdf9-137f2102cf19"
      },
      "source": [
        "from sklearn import metrics\n",
        "import seaborn as sns\n",
        "\n",
        "plt.figure(figsize = (16, 9))\n",
        "ax= plt.subplot()\n",
        "cnf_matrix = metrics.confusion_matrix(y_actual_test, y_pred_test)\n",
        "sns.heatmap(pd.DataFrame(cnf_matrix), annot=True, fmt='g', ax=ax);  #annot=True to annotate cells, ftm='g' to disable scientific notation\n",
        "\n",
        "# labels, title and ticks\n",
        "ax.set_xlabel('Predicted labels');ax.set_ylabel('Actual labels'); \n",
        "ax.set_title('Confusion Matrix of model GRU on MNIST'); \n",
        "ax.xaxis.set_ticklabels(classes); ax.yaxis.set_ticklabels(classes);"
      ],
      "execution_count": 52,
      "outputs": [
        {
          "output_type": "display_data",
          "data": {
            "image/png": "[encoded data removed]",
            "text/plain": [
              "<Figure size 1152x648 with 2 Axes>"
            ]
          },
          "metadata": {
            "tags": [],
            "needs_background": "light"
          }
        }
      ]
    },
    {
      "cell_type": "markdown",
      "metadata": {
        "id": "x0Au8NNT2ttd"
      },
      "source": [
        "####Classification report"
      ]
    },
    {
      "cell_type": "code",
      "metadata": {
        "colab": {
          "base_uri": "https://localhost:8080/"
        },
        "id": "h2EWvbu6209r",
        "outputId": "db2fef09-4633-4f8e-9499-b1de799340fa"
      },
      "source": [
        "print(classification_report(y_actual_test, y_pred_test))"
      ],
      "execution_count": 53,
      "outputs": [
        {
          "output_type": "stream",
          "text": [
            "              precision    recall  f1-score   support\n",
            "\n",
            "           0       0.98      1.00      0.99       980\n",
            "           1       0.99      0.99      0.99      1135\n",
            "           2       0.97      0.99      0.98      1032\n",
            "           3       0.98      0.99      0.98      1010\n",
            "           4       0.99      0.97      0.98       982\n",
            "           5       0.97      0.98      0.98       892\n",
            "           6       0.99      0.97      0.98       958\n",
            "           7       0.98      0.97      0.98      1028\n",
            "           8       0.98      0.98      0.98       974\n",
            "           9       0.98      0.97      0.98      1009\n",
            "\n",
            "    accuracy                           0.98     10000\n",
            "   macro avg       0.98      0.98      0.98     10000\n",
            "weighted avg       0.98      0.98      0.98     10000\n",
            "\n"
          ],
          "name": "stdout"
        }
      ]
    },
    {
      "cell_type": "markdown",
      "metadata": {
        "id": "WknE3Rd_5dRz"
      },
      "source": [
        "Let's take one image from one test batch and run the model on it and see its prediction."
      ]
    },
    {
      "cell_type": "code",
      "metadata": {
        "colab": {
          "base_uri": "https://localhost:8080/",
          "height": 281
        },
        "id": "gfKcmB-E3TWf",
        "outputId": "660129c9-05d9-40da-d72b-0bcc63b8f582"
      },
      "source": [
        "example = iter(test_loader)\n",
        "img, label = next(example)\n",
        "plt.imshow(img[1][0],cmap='gray') # img contains 100 samples , we take second element of that and show it."
      ],
      "execution_count": 58,
      "outputs": [
        {
          "output_type": "execute_result",
          "data": {
            "text/plain": [
              "<matplotlib.image.AxesImage at 0x7ff9ef5afb90>"
            ]
          },
          "metadata": {
            "tags": []
          },
          "execution_count": 58
        },
        {
          "output_type": "display_data",
          "data": {
            "image/png": "[encoded data removed]",
            "text/plain": [
              "<Figure size 432x288 with 1 Axes>"
            ]
          },
          "metadata": {
            "tags": [],
            "needs_background": "light"
          }
        }
      ]
    },
    {
      "cell_type": "code",
      "metadata": {
        "colab": {
          "base_uri": "https://localhost:8080/"
        },
        "id": "bs_QDvBi3xfo",
        "outputId": "973cf5f6-34fd-4235-cc15-5e1f3bc3e709"
      },
      "source": [
        "img = img.reshape(-1, sequence_length, input_size)\n",
        "y_pred = model_gru(img)\n",
        "_,y_pred = torch.max(y_pred,1)\n",
        "print(y_pred[1].item()) # return prediction of the model on second element of the batch (y_pred[1])"
      ],
      "execution_count": 68,
      "outputs": [
        {
          "output_type": "stream",
          "text": [
            "2\n"
          ],
          "name": "stdout"
        }
      ]
    },
    {
      "cell_type": "markdown",
      "metadata": {
        "id": "evfFTJ2vM0_X"
      },
      "source": [
        "###Building LSTM model "
      ]
    },
    {
      "cell_type": "code",
      "metadata": {
        "id": "S1LDDzOBMzML"
      },
      "source": [
        "class LSTM(nn.Module):\n",
        "  def __init__(self, input_size, hidden_size, num_layers, num_classes):\n",
        "    super(LSTM, self).__init__()\n",
        "    self.num_layers = num_layers\n",
        "    self.hidden_size = hidden_size\n",
        "    self.lstm = nn.LSTM(input_size, hidden_size, num_layers, batch_first=True)\n",
        "    # -> x shape : (batch_size, sequence_length, input_size)\n",
        "\n",
        "    # fully connected layer for classification\n",
        "    self.fc = nn.Linear(hidden_size, num_classes)\n",
        "\n",
        "  def forward(self, x):\n",
        "    # x.size(0) -> batch_size\n",
        "    h0 = torch.zeros(self.num_layers, x.size(0), self.hidden_size) # hidden state\n",
        "    c0 = torch.zeros(self.num_layers, x.size(0), self.hidden_size) # cell state\n",
        "\n",
        "    # x : (n, 28, 28), h0 : (2, n, 128)\n",
        "\n",
        "    # forward propage rnn\n",
        "    out, _ = self.lstm(x, (h0,c0))\n",
        "\n",
        "    # out : (n, seq, hidden_size) = (n, 28, 128)\n",
        "    # Decode the hidden state of the last time step\n",
        "    out = out[:, -1, :]\n",
        "    # out : (n, 128)\n",
        "    \n",
        "    out = self.fc(out)\n",
        "    # out : (n,10)\n",
        "    return out\n"
      ],
      "execution_count": 69,
      "outputs": []
    },
    {
      "cell_type": "markdown",
      "metadata": {
        "id": "TY_4ADuhM7BZ"
      },
      "source": [
        "###Training the model"
      ]
    },
    {
      "cell_type": "code",
      "metadata": {
        "id": "rGnfAFjdNlsT"
      },
      "source": [
        "model_lstm = LSTM(input_size, hidden_size, num_layers, num_classes)"
      ],
      "execution_count": 70,
      "outputs": []
    },
    {
      "cell_type": "code",
      "metadata": {
        "colab": {
          "base_uri": "https://localhost:8080/"
        },
        "id": "VuCjKXB7Nlmy",
        "outputId": "031178b5-a72e-4dcf-a73d-016f47580685"
      },
      "source": [
        "model_lstm"
      ],
      "execution_count": 71,
      "outputs": [
        {
          "output_type": "execute_result",
          "data": {
            "text/plain": [
              "LSTM(\n",
              "  (lstm): LSTM(28, 128, num_layers=2, batch_first=True)\n",
              "  (fc): Linear(in_features=128, out_features=10, bias=True)\n",
              ")"
            ]
          },
          "metadata": {
            "tags": []
          },
          "execution_count": 71
        }
      ]
    },
    {
      "cell_type": "code",
      "metadata": {
        "id": "KVnzKAo1PIVG"
      },
      "source": [
        "criterion = nn.CrossEntropyLoss()\n",
        "optimizer = torch.optim.Adam(model_lstm.parameters(), lr = learning_rate)\n",
        "scheduler = StepLR(optimizer, step_size = 3, gamma = 0.1)\n",
        "\n",
        "n_total_step = len(train_loader)"
      ],
      "execution_count": 74,
      "outputs": []
    },
    {
      "cell_type": "code",
      "metadata": {
        "colab": {
          "base_uri": "https://localhost:8080/"
        },
        "id": "PPJIg3MZM_rK",
        "outputId": "b75a450d-ca2f-43ba-d735-0985cfd7aaa8"
      },
      "source": [
        "train_loss = []\n",
        "train_acc = []\n",
        "\n",
        "for epoch in range(num_epochs):\n",
        "\n",
        "  train_epoch_loss = 0\n",
        "  train_epoch_acc = 0\n",
        "\n",
        "  loop = tqdm(enumerate(train_loader), total = n_total_step, leave = False)\n",
        "\n",
        "  for i , (img, label) in loop:\n",
        "    # origin shape : [N, 1, 28, 28]\n",
        "    # resized : [N, 28, 28]\n",
        "    img = img.reshape(-1, sequence_length, input_size)\n",
        "  \n",
        "    y_pred = model_lstm(img)\n",
        "\n",
        "    loss_train = criterion(y_pred, label)\n",
        "    acc_train = multi_class_acc(y_pred, label)\n",
        "\n",
        "    optimizer.zero_grad()\n",
        "    loss_train.backward()\n",
        "    optimizer.step()\n",
        "\n",
        "    train_epoch_loss += loss_train.item()\n",
        "    train_epoch_acc += acc_train.item() \n",
        "  \n",
        "  scheduler.step()    \n",
        "\n",
        "  train_loss.append(train_epoch_loss/len(train_loader))\n",
        "  train_acc.append(train_epoch_acc/len(train_loader))\n",
        "\n",
        "  # Upgrade progress bar\n",
        "  loop.set_description(f'Epoch : [{epoch}/{num_epochs}]')\n",
        "  loop.set_postfix(loss = loss_train.item(), accuracy = acc_train.item())\n",
        "  "
      ],
      "execution_count": 75,
      "outputs": [
        {
          "output_type": "stream",
          "text": [
            ""
          ],
          "name": "stderr"
        }
      ]
    },
    {
      "cell_type": "code",
      "metadata": {
        "id": "QukV9PSKP3vn"
      },
      "source": [
        "torch.save(model_lstm, '/content/drive/MyDrive/AI-Internship/model_mnist_lstm')"
      ],
      "execution_count": 76,
      "outputs": []
    },
    {
      "cell_type": "code",
      "metadata": {
        "colab": {
          "base_uri": "https://localhost:8080/"
        },
        "id": "9315OPOSTAkH",
        "outputId": "386fc3a9-15d9-4171-f2d2-173c0803a09b"
      },
      "source": [
        "scheduler.state_dict()"
      ],
      "execution_count": 77,
      "outputs": [
        {
          "output_type": "execute_result",
          "data": {
            "text/plain": [
              "{'_get_lr_called_within_step': False,\n",
              " '_last_lr': [0.0001],\n",
              " '_step_count': 5,\n",
              " 'base_lrs': [0.001],\n",
              " 'gamma': 0.1,\n",
              " 'last_epoch': 4,\n",
              " 'step_size': 3,\n",
              " 'verbose': False}"
            ]
          },
          "metadata": {
            "tags": []
          },
          "execution_count": 77
        }
      ]
    },
    {
      "cell_type": "code",
      "metadata": {
        "colab": {
          "base_uri": "https://localhost:8080/"
        },
        "id": "l-yq7KhjTUi_",
        "outputId": "ec13dbeb-218c-4ad0-e12b-bdb4e49cb9d1"
      },
      "source": [
        "print(f'last loss function is : {train_loss[-1]}')"
      ],
      "execution_count": 81,
      "outputs": [
        {
          "output_type": "stream",
          "text": [
            "last loss function is : 0.03935510296335754\n"
          ],
          "name": "stdout"
        }
      ]
    },
    {
      "cell_type": "code",
      "metadata": {
        "colab": {
          "base_uri": "https://localhost:8080/",
          "height": 294
        },
        "id": "Wc2RAYU2QNE9",
        "outputId": "8b97d515-d94b-4435-b89d-34df179e194f"
      },
      "source": [
        "#Training loss\n",
        "plt.plot(train_loss, label='Training loss')\n",
        "plt.legend(frameon=False)\n",
        "plt.title(\"Loss function for each epoch\") \n",
        "plt.xlabel('epoch')\n",
        "plt.ylabel('loss')\n",
        "plt.show()"
      ],
      "execution_count": 78,
      "outputs": [
        {
          "output_type": "display_data",
          "data": {
            "image/png": "[encoded data removed]",
            "text/plain": [
              "<Figure size 432x288 with 1 Axes>"
            ]
          },
          "metadata": {
            "tags": [],
            "needs_background": "light"
          }
        }
      ]
    },
    {
      "cell_type": "code",
      "metadata": {
        "colab": {
          "base_uri": "https://localhost:8080/",
          "height": 294
        },
        "id": "66W7oSnwQRsq",
        "outputId": "d8534d8f-a7b9-43d0-9a98-5788eda8b1fc"
      },
      "source": [
        "#Training accuracy\n",
        "plt.plot(train_acc, label= 'Training accuracy')\n",
        "plt.legend(frameon=False)\n",
        "plt.title('Accuracy for each epoch')\n",
        "plt.xlabel('epoch')\n",
        "plt.ylabel('accuracy')\n",
        "plt.show()"
      ],
      "execution_count": 79,
      "outputs": [
        {
          "output_type": "display_data",
          "data": {
            "image/png": "[encoded data removed]",
            "text/plain": [
              "<Figure size 432x288 with 1 Axes>"
            ]
          },
          "metadata": {
            "tags": [],
            "needs_background": "light"
          }
        }
      ]
    },
    {
      "cell_type": "markdown",
      "metadata": {
        "id": "Ptg6XGaONAeM"
      },
      "source": [
        "###Testing the model"
      ]
    },
    {
      "cell_type": "code",
      "metadata": {
        "colab": {
          "base_uri": "https://localhost:8080/"
        },
        "id": "0cCUdqpfNMBi",
        "outputId": "fc089590-c1c2-46fa-bed3-83140e91be89"
      },
      "source": [
        "y_actual_test = []\n",
        "y_pred_test = []\n",
        "\n",
        "model_lstm.eval()\n",
        "with torch.no_grad():\n",
        "  n_true = 0\n",
        "  n_total = 0\n",
        "  n_class_correct = [0 for i in range(10)]\n",
        "  n_class_sample = [0 for i in range(10)]\n",
        "\n",
        "  for img, label in test_loader:\n",
        "    img = img.reshape(-1, sequence_length, input_size)\n",
        "    output = model_lstm(img)\n",
        "\n",
        "    _, y_predtest = torch.max(output,1)\n",
        "\n",
        "    n_true += (y_predtest == label).sum()\n",
        "    n_total += label.size(0)\n",
        "\n",
        "    for i in range(len(y_predtest)):\n",
        "      y_pred_test.append(y_predtest[i])\n",
        "      y_actual_test.append(label[i])\n",
        "\n",
        "    for i in range(len(y_predtest)):\n",
        "      lb = label[i]\n",
        "      pred = y_predtest[i]\n",
        "      if pred == lb:\n",
        "        n_class_correct[lb] += 1\n",
        "      n_class_sample[lb] += 1\n",
        "\n",
        "  print(f'accuracy of LSTM on the 1000 images is : {(n_true/n_total)*100}')\n",
        "\n",
        "  for i in range(len(classes)):\n",
        "    acc = 100.0 * n_class_correct[i]/n_class_sample[i]\n",
        "    print(f'Accuracy of {classes[i]} : {acc} %')\n"
      ],
      "execution_count": 85,
      "outputs": [
        {
          "output_type": "stream",
          "text": [
            "accuracy of LSTM on the 1000 images is : 98.50999450683594\n",
            "Accuracy of 0 - zero : 99.38775510204081 %\n",
            "Accuracy of 1 - one : 99.29515418502203 %\n",
            "Accuracy of 2 - two : 98.83720930232558 %\n",
            "Accuracy of 3 - three : 98.7128712871287 %\n",
            "Accuracy of 4 - four : 97.55600814663951 %\n",
            "Accuracy of 5 - five : 98.31838565022422 %\n",
            "Accuracy of 6 - six : 98.74739039665971 %\n",
            "Accuracy of 7 - seven : 98.05447470817121 %\n",
            "Accuracy of 8 - eight : 98.25462012320328 %\n",
            "Accuracy of 9 - nine : 97.81962338949455 %\n"
          ],
          "name": "stdout"
        }
      ]
    },
    {
      "cell_type": "markdown",
      "metadata": {
        "id": "i37mq9SHNMiY"
      },
      "source": [
        "####Confusion matrix"
      ]
    },
    {
      "cell_type": "code",
      "metadata": {
        "colab": {
          "base_uri": "https://localhost:8080/",
          "height": 566
        },
        "id": "uQN7Yb8hNUHf",
        "outputId": "0fe086f1-c3a2-440b-d600-1f3108728c83"
      },
      "source": [
        "from sklearn import metrics\n",
        "import seaborn as sns\n",
        "\n",
        "plt.figure(figsize = (16, 9))\n",
        "ax= plt.subplot()\n",
        "cnf_matrix = metrics.confusion_matrix(y_actual_test, y_pred_test)\n",
        "sns.heatmap(pd.DataFrame(cnf_matrix), annot=True, fmt='g', ax=ax);  #annot=True to annotate cells, ftm='g' to disable scientific notation\n",
        "\n",
        "# labels, title and ticks\n",
        "ax.set_xlabel('Predicted labels');ax.set_ylabel('Actual labels'); \n",
        "ax.set_title('Confusion Matrix of model LSTM on MNIST'); \n",
        "ax.xaxis.set_ticklabels(classes); ax.yaxis.set_ticklabels(classes);"
      ],
      "execution_count": 86,
      "outputs": [
        {
          "output_type": "display_data",
          "data": {
            "image/png": "[encoded data removed]",
            "text/plain": [
              "<Figure size 1152x648 with 2 Axes>"
            ]
          },
          "metadata": {
            "tags": [],
            "needs_background": "light"
          }
        }
      ]
    },
    {
      "cell_type": "markdown",
      "metadata": {
        "id": "xNTDLIh6NUj3"
      },
      "source": [
        "####Classification report"
      ]
    },
    {
      "cell_type": "code",
      "metadata": {
        "colab": {
          "base_uri": "https://localhost:8080/"
        },
        "id": "r9GWtzaXNXsv",
        "outputId": "91e07db5-0b76-426c-bb1d-1318235a1b26"
      },
      "source": [
        "print(classification_report(y_actual_test, y_pred_test))"
      ],
      "execution_count": 87,
      "outputs": [
        {
          "output_type": "stream",
          "text": [
            "              precision    recall  f1-score   support\n",
            "\n",
            "           0       0.99      0.99      0.99       980\n",
            "           1       0.99      0.99      0.99      1135\n",
            "           2       0.98      0.99      0.98      1032\n",
            "           3       0.99      0.99      0.99      1010\n",
            "           4       0.99      0.98      0.98       982\n",
            "           5       0.98      0.98      0.98       892\n",
            "           6       0.99      0.99      0.99       958\n",
            "           7       0.99      0.98      0.98      1028\n",
            "           8       0.98      0.98      0.98       974\n",
            "           9       0.97      0.98      0.98      1009\n",
            "\n",
            "    accuracy                           0.99     10000\n",
            "   macro avg       0.99      0.98      0.98     10000\n",
            "weighted avg       0.99      0.99      0.99     10000\n",
            "\n"
          ],
          "name": "stdout"
        }
      ]
    },
    {
      "cell_type": "markdown",
      "metadata": {
        "id": "q8jYtSi3XH5s"
      },
      "source": [
        "As we see in the results, accuracy of LSTM > GRU> RNN"
      ]
    }
  ]
}