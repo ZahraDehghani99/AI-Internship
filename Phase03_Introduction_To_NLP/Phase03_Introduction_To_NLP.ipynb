{
  "nbformat": 4,
  "nbformat_minor": 0,
  "metadata": {
    "colab": {
      "name": "Phase03-Introduction To NLP.ipynb",
      "provenance": [],
      "collapsed_sections": []
    },
    "kernelspec": {
      "name": "python3",
      "display_name": "Python 3"
    },
    "language_info": {
      "name": "python"
    }
  },
  "cells": [
    {
      "cell_type": "markdown",
      "metadata": {
        "id": "d7wdXaIHaS30"
      },
      "source": [
        "#Section 1: NLTK Tutorial"
      ]
    },
    {
      "cell_type": "markdown",
      "metadata": {
        "id": "95WJJSnLu31W"
      },
      "source": [
        "##Text Analytics for Beginners using NLTK-datacamp"
      ]
    },
    {
      "cell_type": "code",
      "metadata": {
        "id": "PxfbEmGMaRiJ",
        "colab": {
          "base_uri": "https://localhost:8080/"
        },
        "outputId": "c5215885-f7b8-4804-acba-cd2671f6d790"
      },
      "source": [
        "# Loading NLTk\n",
        "import nltk\n",
        "nltk.download('punkt')"
      ],
      "execution_count": 2,
      "outputs": [
        {
          "output_type": "stream",
          "text": [
            "[nltk_data] Downloading package punkt to /root/nltk_data...\n",
            "[nltk_data]   Package punkt is already up-to-date!\n"
          ],
          "name": "stdout"
        },
        {
          "output_type": "execute_result",
          "data": {
            "text/plain": [
              "True"
            ]
          },
          "metadata": {
            "tags": []
          },
          "execution_count": 2
        }
      ]
    },
    {
      "cell_type": "markdown",
      "metadata": {
        "id": "IwI9GJJQ3YXW"
      },
      "source": [
        "###Tokenization"
      ]
    },
    {
      "cell_type": "markdown",
      "metadata": {
        "id": "K1HsQeR-3Rdy"
      },
      "source": [
        "####Sentence tokenization"
      ]
    },
    {
      "cell_type": "code",
      "metadata": {
        "colab": {
          "base_uri": "https://localhost:8080/"
        },
        "id": "cn_mYDF30f91",
        "outputId": "319b8326-ebeb-4e82-eecd-96eca75c1dc2"
      },
      "source": [
        "from nltk.tokenize import sent_tokenize\n",
        "\n",
        "text=\"\"\"Hello Mr. Smith, how are you doing today? The weather is great, and city is awesome.\n",
        "The sky is pinkish-blue. You shouldn't eat cardboard\"\"\"\n",
        "\n",
        "tokenized_text = sent_tokenize(text)\n",
        "print(f'Tokenized text -> {tokenized_text}')"
      ],
      "execution_count": 3,
      "outputs": [
        {
          "output_type": "stream",
          "text": [
            "Tokenized text -> ['Hello Mr. Smith, how are you doing today?', 'The weather is great, and city is awesome.', 'The sky is pinkish-blue.', \"You shouldn't eat cardboard\"]\n"
          ],
          "name": "stdout"
        }
      ]
    },
    {
      "cell_type": "markdown",
      "metadata": {
        "id": "NqJy5SaR3cB1"
      },
      "source": [
        "####Word tokenization"
      ]
    },
    {
      "cell_type": "code",
      "metadata": {
        "colab": {
          "base_uri": "https://localhost:8080/"
        },
        "id": "SVFLGLTz2A43",
        "outputId": "5cb17f22-75ac-4d74-cce7-019dd69ca1dd"
      },
      "source": [
        "from nltk.tokenize import word_tokenize\n",
        "\n",
        "tokenized_word = word_tokenize(text)\n",
        "print(f'Tokenized word -> {tokenized_word}')"
      ],
      "execution_count": 4,
      "outputs": [
        {
          "output_type": "stream",
          "text": [
            "Tokenized word -> ['Hello', 'Mr.', 'Smith', ',', 'how', 'are', 'you', 'doing', 'today', '?', 'The', 'weather', 'is', 'great', ',', 'and', 'city', 'is', 'awesome', '.', 'The', 'sky', 'is', 'pinkish-blue', '.', 'You', 'should', \"n't\", 'eat', 'cardboard']\n"
          ],
          "name": "stdout"
        }
      ]
    },
    {
      "cell_type": "code",
      "metadata": {
        "colab": {
          "base_uri": "https://localhost:8080/"
        },
        "id": "Rpc3u0Yg4N1F",
        "outputId": "fe2092de-d15a-4367-f0ad-d8a46dc0ea33"
      },
      "source": [
        "print(f'length of tokenized word : {len(tokenized_word)}')"
      ],
      "execution_count": 5,
      "outputs": [
        {
          "output_type": "stream",
          "text": [
            "length of tokenized word : 30\n"
          ],
          "name": "stdout"
        }
      ]
    },
    {
      "cell_type": "markdown",
      "metadata": {
        "id": "QdPdeKf-3fSR"
      },
      "source": [
        "####Frequency Distribution"
      ]
    },
    {
      "cell_type": "code",
      "metadata": {
        "colab": {
          "base_uri": "https://localhost:8080/"
        },
        "id": "B_Vu6fhA3p9g",
        "outputId": "fc78a7ae-638d-4d23-c0a8-2f6227378f7e"
      },
      "source": [
        "from nltk.probability import FreqDist\n",
        "\n",
        "fdist = FreqDist(tokenized_word)\n",
        "print(fdist)"
      ],
      "execution_count": 6,
      "outputs": [
        {
          "output_type": "stream",
          "text": [
            "<FreqDist with 25 samples and 30 outcomes>\n"
          ],
          "name": "stdout"
        }
      ]
    },
    {
      "cell_type": "code",
      "metadata": {
        "colab": {
          "base_uri": "https://localhost:8080/"
        },
        "id": "cZqhdIyO4XyK",
        "outputId": "2f489eb1-09ad-4e32-913a-f2efaf443075"
      },
      "source": [
        "# print 2 most common words in the text\n",
        "fdist.most_common(3)"
      ],
      "execution_count": 7,
      "outputs": [
        {
          "output_type": "execute_result",
          "data": {
            "text/plain": [
              "[('is', 3), (',', 2), ('The', 2)]"
            ]
          },
          "metadata": {
            "tags": []
          },
          "execution_count": 7
        }
      ]
    },
    {
      "cell_type": "code",
      "metadata": {
        "colab": {
          "base_uri": "https://localhost:8080/",
          "height": 345
        },
        "id": "WZEoCuuw5HVb",
        "outputId": "e880ff49-0f96-4e2c-9d83-5bd3ca65bc73"
      },
      "source": [
        "#Frequenty distribution plot\n",
        "import matplotlib.pyplot as plt\n",
        "\n",
        "plt.title('Fequenty distribution plot')\n",
        "fdist.plot(30, cumulative=False)\n",
        "plt.show()"
      ],
      "execution_count": 8,
      "outputs": [
        {
          "output_type": "display_data",
          "data": {
            "image/png": "[encoded data removed]",
            "text/plain": [
              "<Figure size 432x288 with 1 Axes>"
            ]
          },
          "metadata": {
            "tags": [],
            "needs_background": "light"
          }
        }
      ]
    },
    {
      "cell_type": "markdown",
      "metadata": {
        "id": "bbQ5YZvy55Jv"
      },
      "source": [
        "###Stopwords"
      ]
    },
    {
      "cell_type": "code",
      "metadata": {
        "colab": {
          "base_uri": "https://localhost:8080/"
        },
        "id": "M9KIt-SS52zq",
        "outputId": "63c5ba71-3a78-4d86-badf-9088dc78ba31"
      },
      "source": [
        "nltk.download('stopwords')"
      ],
      "execution_count": 9,
      "outputs": [
        {
          "output_type": "stream",
          "text": [
            "[nltk_data] Downloading package stopwords to /root/nltk_data...\n",
            "[nltk_data]   Package stopwords is already up-to-date!\n"
          ],
          "name": "stdout"
        },
        {
          "output_type": "execute_result",
          "data": {
            "text/plain": [
              "True"
            ]
          },
          "metadata": {
            "tags": []
          },
          "execution_count": 9
        }
      ]
    },
    {
      "cell_type": "code",
      "metadata": {
        "colab": {
          "base_uri": "https://localhost:8080/"
        },
        "id": "XJzXOAcr6c5Y",
        "outputId": "e9be5e29-38da-463b-ed78-98afb98b676a"
      },
      "source": [
        "from nltk.corpus import stopwords\n",
        "\n",
        "stop_words = set(stopwords.words('english'))\n",
        "print(stop_words)\n",
        "print(f'length of stopwords in english : {len(stop_words)}')"
      ],
      "execution_count": 10,
      "outputs": [
        {
          "output_type": "stream",
          "text": [
            "{'mightn', 'been', 'does', 'out', 'there', 'some', 'she', 'so', 'shan', 'nor', 'too', 'now', 'needn', 'couldn', 'in', 'then', 'being', 'himself', 'as', 'below', 'he', 'who', 'ma', 'same', 'had', 'is', 'than', 'ain', 'i', 'yours', 'doesn', 'it', 'shouldn', 'just', 'to', \"weren't\", \"doesn't\", 'yourself', 'wouldn', 'which', 'that', 'those', 'itself', 'once', 're', \"aren't\", 'ourselves', 'over', 'for', 't', \"won't\", 'or', 'again', 'during', \"needn't\", 'hers', 'have', 'mustn', 'down', 'at', 'this', \"you'd\", 'here', 'when', 'no', 'yourselves', 'be', 'about', \"should've\", 'but', \"wouldn't\", 'having', \"isn't\", 'on', 'between', 'am', 'up', \"you'll\", 's', 'y', 'a', 'can', 'very', 'didn', \"haven't\", 'isn', \"you're\", 'weren', 'm', 'where', 'whom', \"mightn't\", 'under', 'haven', 'only', 'wasn', 'our', 'before', 'has', 'was', 'o', \"don't\", 'we', 'how', 'with', \"shouldn't\", 'they', 'her', 'me', 'won', 'your', 'further', \"it's\", 'because', 'few', 'what', 'were', 'against', \"shan't\", 'both', 'most', 'don', 'of', 'herself', 'into', 'until', 'own', 'my', 'myself', 'and', 'hasn', 'aren', \"mustn't\", 'ours', 'such', 'him', 'through', 'all', 'any', 'more', 've', 'are', 'will', 'do', \"couldn't\", 'other', \"that'll\", 'll', 'not', \"she's\", 'their', 'hadn', \"wasn't\", 'themselves', 'theirs', 'an', 'while', 'why', 'should', 'above', 'd', 'these', 'by', 'off', 'each', \"you've\", 'his', 'them', 'if', \"hadn't\", 'its', 'did', 'the', 'after', \"didn't\", \"hasn't\", 'from', 'you', 'doing'}\n",
            "length of stopwords in english : 179\n"
          ],
          "name": "stdout"
        }
      ]
    },
    {
      "cell_type": "code",
      "metadata": {
        "colab": {
          "base_uri": "https://localhost:8080/"
        },
        "id": "Nk7CbR7eC6G-",
        "outputId": "339f940e-4522-4ce1-a730-832024816810"
      },
      "source": [
        "if 'the' in stop_words:\n",
        "  print('yes')"
      ],
      "execution_count": 11,
      "outputs": [
        {
          "output_type": "stream",
          "text": [
            "yes\n"
          ],
          "name": "stdout"
        }
      ]
    },
    {
      "cell_type": "markdown",
      "metadata": {
        "id": "oZWYeIz0_bLH"
      },
      "source": [
        "####Removing stopwords"
      ]
    },
    {
      "cell_type": "code",
      "metadata": {
        "colab": {
          "base_uri": "https://localhost:8080/"
        },
        "id": "mUrQHrZA7eo8",
        "outputId": "fa720869-71cb-46dd-c7ea-5336065c9272"
      },
      "source": [
        "filtered_sent = []\n",
        "\n",
        "for w in tokenized_word:\n",
        "  if w not in stop_words:\n",
        "    filtered_sent.append(w)\n",
        "\n",
        "print(f'Tokenized sentence : {tokenized_word}')\n",
        "print(f'length of tokenized sentence : {len(tokenized_word)}')\n",
        "print(f'Filtered sentence : {filtered_sent}') \n",
        "print(f'length of filtered sentence : {len(filtered_sent)}')   "
      ],
      "execution_count": 12,
      "outputs": [
        {
          "output_type": "stream",
          "text": [
            "Tokenized sentence : ['Hello', 'Mr.', 'Smith', ',', 'how', 'are', 'you', 'doing', 'today', '?', 'The', 'weather', 'is', 'great', ',', 'and', 'city', 'is', 'awesome', '.', 'The', 'sky', 'is', 'pinkish-blue', '.', 'You', 'should', \"n't\", 'eat', 'cardboard']\n",
            "length of tokenized sentence : 30\n",
            "Filtered sentence : ['Hello', 'Mr.', 'Smith', ',', 'today', '?', 'The', 'weather', 'great', ',', 'city', 'awesome', '.', 'The', 'sky', 'pinkish-blue', '.', 'You', \"n't\", 'eat', 'cardboard']\n",
            "length of filtered sentence : 21\n"
          ],
          "name": "stdout"
        }
      ]
    },
    {
      "cell_type": "markdown",
      "metadata": {
        "id": "VwbqbD3QDItX"
      },
      "source": [
        "**Why doesn't remove 'the' from tokenized words?**"
      ]
    },
    {
      "cell_type": "markdown",
      "metadata": {
        "id": "cX4A9sZeAUcm"
      },
      "source": [
        "###Lexicon Normailzation"
      ]
    },
    {
      "cell_type": "markdown",
      "metadata": {
        "id": "0NAJh-C-A8uV"
      },
      "source": [
        "####Stemming"
      ]
    },
    {
      "cell_type": "code",
      "metadata": {
        "colab": {
          "base_uri": "https://localhost:8080/"
        },
        "id": "ZG8qUnJp_gMR",
        "outputId": "d19208f8-7ff8-43da-e91f-19e8f7623663"
      },
      "source": [
        "from nltk.stem import PorterStemmer\n",
        "from nltk.tokenize import word_tokenize, sent_tokenize\n",
        "\n",
        "ps = PorterStemmer()\n",
        "\n",
        "stemmed_words = []\n",
        "for w in filtered_sent:\n",
        "  stemmed_words.append(ps.stem(w))\n",
        "\n",
        "print(f'Filtered sentence : {filtered_sent}')\n",
        "print(f'length of filtered sent : {len(filtered_sent)}')\n",
        "print(f'Stemmed sentence : {stemmed_words}')\n",
        "print(f'length of stemmed words : {len(stemmed_words)}')"
      ],
      "execution_count": 13,
      "outputs": [
        {
          "output_type": "stream",
          "text": [
            "Filtered sentence : ['Hello', 'Mr.', 'Smith', ',', 'today', '?', 'The', 'weather', 'great', ',', 'city', 'awesome', '.', 'The', 'sky', 'pinkish-blue', '.', 'You', \"n't\", 'eat', 'cardboard']\n",
            "length of filtered sent : 21\n",
            "Stemmed sentence : ['hello', 'mr.', 'smith', ',', 'today', '?', 'the', 'weather', 'great', ',', 'citi', 'awesom', '.', 'the', 'sky', 'pinkish-blu', '.', 'you', \"n't\", 'eat', 'cardboard']\n",
            "length of stemmed words : 21\n"
          ],
          "name": "stdout"
        }
      ]
    },
    {
      "cell_type": "markdown",
      "metadata": {
        "id": "AKm4WykTDVh3"
      },
      "source": [
        "####Lemmatization"
      ]
    },
    {
      "cell_type": "code",
      "metadata": {
        "colab": {
          "base_uri": "https://localhost:8080/"
        },
        "id": "p1WhkZ_EDTT6",
        "outputId": "e48b3253-10d0-409a-b16e-79a6e19ce50c"
      },
      "source": [
        "nltk.download('wordnet')"
      ],
      "execution_count": 14,
      "outputs": [
        {
          "output_type": "stream",
          "text": [
            "[nltk_data] Downloading package wordnet to /root/nltk_data...\n",
            "[nltk_data]   Package wordnet is already up-to-date!\n"
          ],
          "name": "stdout"
        },
        {
          "output_type": "execute_result",
          "data": {
            "text/plain": [
              "True"
            ]
          },
          "metadata": {
            "tags": []
          },
          "execution_count": 14
        }
      ]
    },
    {
      "cell_type": "code",
      "metadata": {
        "colab": {
          "base_uri": "https://localhost:8080/"
        },
        "id": "KaMlCIvjErk6",
        "outputId": "caee69af-4e2f-487a-cadb-0af51d3e10d2"
      },
      "source": [
        "# lexicon normailization\n",
        "# performing stemming and lemmatization \n",
        "\n",
        "from nltk.stem.wordnet import WordNetLemmatizer\n",
        "lem = WordNetLemmatizer()\n",
        "\n",
        "from nltk.stem.porter import PorterStemmer\n",
        "stem = PorterStemmer()\n",
        "\n",
        "word = \"flying\"\n",
        "print(f'Lemmatized Word : {lem.lemmatize(word, \"v\")}')\n",
        "print(f'Stemmed Word : {stem.stem(word)}')"
      ],
      "execution_count": 15,
      "outputs": [
        {
          "output_type": "stream",
          "text": [
            "Lemmatized Word : fly\n",
            "Stemmed Word : fli\n"
          ],
          "name": "stdout"
        }
      ]
    },
    {
      "cell_type": "markdown",
      "metadata": {
        "id": "E5wRY3e1L3sU"
      },
      "source": [
        "###POS Tagging"
      ]
    },
    {
      "cell_type": "code",
      "metadata": {
        "id": "bL5Hjsw8L1ro"
      },
      "source": [
        "sent = \"Albert Einstein was born in Ulm, Germany in 1879.\""
      ],
      "execution_count": 16,
      "outputs": []
    },
    {
      "cell_type": "code",
      "metadata": {
        "colab": {
          "base_uri": "https://localhost:8080/"
        },
        "id": "RcFzonxYN3cP",
        "outputId": "630e504a-9c6e-49b2-b4f7-a04a68a6f89d"
      },
      "source": [
        "tokens = word_tokenize(sent)\n",
        "print(f'Tokenized word : {tokens}')"
      ],
      "execution_count": 17,
      "outputs": [
        {
          "output_type": "stream",
          "text": [
            "Tokenized word : ['Albert', 'Einstein', 'was', 'born', 'in', 'Ulm', ',', 'Germany', 'in', '1879', '.']\n"
          ],
          "name": "stdout"
        }
      ]
    },
    {
      "cell_type": "code",
      "metadata": {
        "colab": {
          "base_uri": "https://localhost:8080/"
        },
        "id": "e2ibKE9OOH35",
        "outputId": "2b897ce1-631d-464e-b493-d03dcb3052e1"
      },
      "source": [
        "nltk.download('averaged_perceptron_tagger')"
      ],
      "execution_count": 18,
      "outputs": [
        {
          "output_type": "stream",
          "text": [
            "[nltk_data] Downloading package averaged_perceptron_tagger to\n",
            "[nltk_data]     /root/nltk_data...\n",
            "[nltk_data]   Package averaged_perceptron_tagger is already up-to-\n",
            "[nltk_data]       date!\n"
          ],
          "name": "stdout"
        },
        {
          "output_type": "execute_result",
          "data": {
            "text/plain": [
              "True"
            ]
          },
          "metadata": {
            "tags": []
          },
          "execution_count": 18
        }
      ]
    },
    {
      "cell_type": "code",
      "metadata": {
        "colab": {
          "base_uri": "https://localhost:8080/"
        },
        "id": "ibG3LishOOrP",
        "outputId": "37350170-702c-4f59-9f0f-4a7b97d470e2"
      },
      "source": [
        "nltk.pos_tag(tokens)"
      ],
      "execution_count": 19,
      "outputs": [
        {
          "output_type": "execute_result",
          "data": {
            "text/plain": [
              "[('Albert', 'NNP'),\n",
              " ('Einstein', 'NNP'),\n",
              " ('was', 'VBD'),\n",
              " ('born', 'VBN'),\n",
              " ('in', 'IN'),\n",
              " ('Ulm', 'NNP'),\n",
              " (',', ','),\n",
              " ('Germany', 'NNP'),\n",
              " ('in', 'IN'),\n",
              " ('1879', 'CD'),\n",
              " ('.', '.')]"
            ]
          },
          "metadata": {
            "tags": []
          },
          "execution_count": 19
        }
      ]
    },
    {
      "cell_type": "markdown",
      "metadata": {
        "id": "QZ4A8t8xO1DS"
      },
      "source": [
        "##Performing Sentiment Analysis using Text Classification\n",
        "##Sentiment Analysis on Movie Reviews"
      ]
    },
    {
      "cell_type": "code",
      "metadata": {
        "id": "0Gh4vFmEOvsg"
      },
      "source": [
        "# import pandas\n",
        "import pandas as pd"
      ],
      "execution_count": 20,
      "outputs": []
    },
    {
      "cell_type": "code",
      "metadata": {
        "colab": {
          "base_uri": "https://localhost:8080/"
        },
        "id": "mzxzZQfibRBs",
        "outputId": "e94752fd-e318-4d3c-dbc8-8629ee2fe7a4"
      },
      "source": [
        "from google.colab import drive\n",
        "drive.mount('/content/drive')"
      ],
      "execution_count": 21,
      "outputs": [
        {
          "output_type": "stream",
          "text": [
            "Drive already mounted at /content/drive; to attempt to forcibly remount, call drive.mount(\"/content/drive\", force_remount=True).\n"
          ],
          "name": "stdout"
        }
      ]
    },
    {
      "cell_type": "code",
      "metadata": {
        "id": "0aR7BNcJcUOz"
      },
      "source": [
        "data = pd.read_csv('/content/drive/MyDrive/AI-Internship/Sentiment-analysis-movie-reviews/train.tsv/train.tsv', sep='\\t',engine='python')"
      ],
      "execution_count": 22,
      "outputs": []
    },
    {
      "cell_type": "code",
      "metadata": {
        "colab": {
          "base_uri": "https://localhost:8080/",
          "height": 355
        },
        "id": "4HphmtADm8lO",
        "outputId": "7fb3e33b-5b16-470e-c854-0bda80f8ef88"
      },
      "source": [
        "data.head(10)"
      ],
      "execution_count": 23,
      "outputs": [
        {
          "output_type": "execute_result",
          "data": {
            "text/html": [
              "<div>\n",
              "<style scoped>\n",
              "    .dataframe tbody tr th:only-of-type {\n",
              "        vertical-align: middle;\n",
              "    }\n",
              "\n",
              "    .dataframe tbody tr th {\n",
              "        vertical-align: top;\n",
              "    }\n",
              "\n",
              "    .dataframe thead th {\n",
              "        text-align: right;\n",
              "    }\n",
              "</style>\n",
              "<table border=\"1\" class=\"dataframe\">\n",
              "  <thead>\n",
              "    <tr style=\"text-align: right;\">\n",
              "      <th></th>\n",
              "      <th>PhraseId</th>\n",
              "      <th>SentenceId</th>\n",
              "      <th>Phrase</th>\n",
              "      <th>Sentiment</th>\n",
              "    </tr>\n",
              "  </thead>\n",
              "  <tbody>\n",
              "    <tr>\n",
              "      <th>0</th>\n",
              "      <td>1</td>\n",
              "      <td>1</td>\n",
              "      <td>A series of escapades demonstrating the adage ...</td>\n",
              "      <td>1</td>\n",
              "    </tr>\n",
              "    <tr>\n",
              "      <th>1</th>\n",
              "      <td>2</td>\n",
              "      <td>1</td>\n",
              "      <td>A series of escapades demonstrating the adage ...</td>\n",
              "      <td>2</td>\n",
              "    </tr>\n",
              "    <tr>\n",
              "      <th>2</th>\n",
              "      <td>3</td>\n",
              "      <td>1</td>\n",
              "      <td>A series</td>\n",
              "      <td>2</td>\n",
              "    </tr>\n",
              "    <tr>\n",
              "      <th>3</th>\n",
              "      <td>4</td>\n",
              "      <td>1</td>\n",
              "      <td>A</td>\n",
              "      <td>2</td>\n",
              "    </tr>\n",
              "    <tr>\n",
              "      <th>4</th>\n",
              "      <td>5</td>\n",
              "      <td>1</td>\n",
              "      <td>series</td>\n",
              "      <td>2</td>\n",
              "    </tr>\n",
              "    <tr>\n",
              "      <th>5</th>\n",
              "      <td>6</td>\n",
              "      <td>1</td>\n",
              "      <td>of escapades demonstrating the adage that what...</td>\n",
              "      <td>2</td>\n",
              "    </tr>\n",
              "    <tr>\n",
              "      <th>6</th>\n",
              "      <td>7</td>\n",
              "      <td>1</td>\n",
              "      <td>of</td>\n",
              "      <td>2</td>\n",
              "    </tr>\n",
              "    <tr>\n",
              "      <th>7</th>\n",
              "      <td>8</td>\n",
              "      <td>1</td>\n",
              "      <td>escapades demonstrating the adage that what is...</td>\n",
              "      <td>2</td>\n",
              "    </tr>\n",
              "    <tr>\n",
              "      <th>8</th>\n",
              "      <td>9</td>\n",
              "      <td>1</td>\n",
              "      <td>escapades</td>\n",
              "      <td>2</td>\n",
              "    </tr>\n",
              "    <tr>\n",
              "      <th>9</th>\n",
              "      <td>10</td>\n",
              "      <td>1</td>\n",
              "      <td>demonstrating the adage that what is good for ...</td>\n",
              "      <td>2</td>\n",
              "    </tr>\n",
              "  </tbody>\n",
              "</table>\n",
              "</div>"
            ],
            "text/plain": [
              "   PhraseId  ...  Sentiment\n",
              "0         1  ...          1\n",
              "1         2  ...          2\n",
              "2         3  ...          2\n",
              "3         4  ...          2\n",
              "4         5  ...          2\n",
              "5         6  ...          2\n",
              "6         7  ...          2\n",
              "7         8  ...          2\n",
              "8         9  ...          2\n",
              "9        10  ...          2\n",
              "\n",
              "[10 rows x 4 columns]"
            ]
          },
          "metadata": {
            "tags": []
          },
          "execution_count": 23
        }
      ]
    },
    {
      "cell_type": "code",
      "metadata": {
        "colab": {
          "base_uri": "https://localhost:8080/"
        },
        "id": "wgl8OXyqpUJ2",
        "outputId": "5ae924ed-3e24-4e4f-c4e9-fd9195a7b398"
      },
      "source": [
        "data.shape"
      ],
      "execution_count": 24,
      "outputs": [
        {
          "output_type": "execute_result",
          "data": {
            "text/plain": [
              "(156060, 4)"
            ]
          },
          "metadata": {
            "tags": []
          },
          "execution_count": 24
        }
      ]
    },
    {
      "cell_type": "code",
      "metadata": {
        "colab": {
          "base_uri": "https://localhost:8080/"
        },
        "id": "RHDXziEonuox",
        "outputId": "ba28eead-5f30-49df-9ef6-9b3fad44ea57"
      },
      "source": [
        "data.info()"
      ],
      "execution_count": 25,
      "outputs": [
        {
          "output_type": "stream",
          "text": [
            "<class 'pandas.core.frame.DataFrame'>\n",
            "RangeIndex: 156060 entries, 0 to 156059\n",
            "Data columns (total 4 columns):\n",
            " #   Column      Non-Null Count   Dtype \n",
            "---  ------      --------------   ----- \n",
            " 0   PhraseId    156060 non-null  int64 \n",
            " 1   SentenceId  156060 non-null  int64 \n",
            " 2   Phrase      156060 non-null  object\n",
            " 3   Sentiment   156060 non-null  int64 \n",
            "dtypes: int64(3), object(1)\n",
            "memory usage: 4.8+ MB\n"
          ],
          "name": "stdout"
        }
      ]
    },
    {
      "cell_type": "code",
      "metadata": {
        "colab": {
          "base_uri": "https://localhost:8080/"
        },
        "id": "t4SegtGXpYtY",
        "outputId": "21a59010-82e3-4183-f789-42c1460044ba"
      },
      "source": [
        "data.Sentiment.value_counts()"
      ],
      "execution_count": 26,
      "outputs": [
        {
          "output_type": "execute_result",
          "data": {
            "text/plain": [
              "2    79582\n",
              "3    32927\n",
              "1    27273\n",
              "4     9206\n",
              "0     7072\n",
              "Name: Sentiment, dtype: int64"
            ]
          },
          "metadata": {
            "tags": []
          },
          "execution_count": 26
        }
      ]
    },
    {
      "cell_type": "code",
      "metadata": {
        "colab": {
          "base_uri": "https://localhost:8080/"
        },
        "id": "pdz6cMgWpgWK",
        "outputId": "6d4668ae-8d22-4ddb-dc27-2765997217f4"
      },
      "source": [
        "distribution = list(data.Sentiment.value_counts())\n",
        "distribution"
      ],
      "execution_count": 27,
      "outputs": [
        {
          "output_type": "execute_result",
          "data": {
            "text/plain": [
              "[79582, 32927, 27273, 9206, 7072]"
            ]
          },
          "metadata": {
            "tags": []
          },
          "execution_count": 27
        }
      ]
    },
    {
      "cell_type": "code",
      "metadata": {
        "colab": {
          "base_uri": "https://localhost:8080/",
          "height": 294
        },
        "id": "yX9Cd2HTqEtL",
        "outputId": "df2019a7-3cd7-4693-dcf7-6bfee498e97a"
      },
      "source": [
        "number_of_data = distribution\n",
        "plt.bar([2,3,1,4,0],number_of_data)\n",
        "plt.xlabel('Review Sentiments')\n",
        "plt.ylabel('Number of Review')\n",
        "plt.title(\"Distribution of data in each sentiment\")\n",
        "plt.show()"
      ],
      "execution_count": 29,
      "outputs": [
        {
          "output_type": "display_data",
          "data": {
            "image/png": "[encoded data removed]",
            "text/plain": [
              "<Figure size 432x288 with 1 Axes>"
            ]
          },
          "metadata": {
            "tags": [],
            "needs_background": "light"
          }
        }
      ]
    },
    {
      "cell_type": "markdown",
      "metadata": {
        "id": "YrgCotT6rROS"
      },
      "source": [
        "####Feature Generation using Bag of Words"
      ]
    },
    {
      "cell_type": "code",
      "metadata": {
        "id": "lPMbEnNgqoRN"
      },
      "source": [
        "from sklearn.feature_extraction.text import CountVectorizer\n",
        "from nltk.tokenize import RegexpTokenizer\n",
        "\n",
        "#tokenizer to remove unwanted elements from out data like symbols and numbers\n",
        "token = RegexpTokenizer(r'[a-zA-Z0-9]+')\n",
        "cv = CountVectorizer(lowercase=True, stop_words='english', ngram_range=(1,1), tokenizer= token.tokenize)\n",
        "text_counts = cv.fit_transform(data['Phrase'])\n"
      ],
      "execution_count": 30,
      "outputs": []
    },
    {
      "cell_type": "markdown",
      "metadata": {
        "id": "aBXE54IT3ypD"
      },
      "source": [
        "Generate features from data['Phrase'] using BoW, Because from dataset we need just phrase and sentiment columns.In order to use phrase we should convert it to numbers."
      ]
    },
    {
      "cell_type": "code",
      "metadata": {
        "colab": {
          "base_uri": "https://localhost:8080/"
        },
        "id": "nXY0nP_6xOb8",
        "outputId": "dd05b013-2109-4d2b-e332-ef3312186cb2"
      },
      "source": [
        "text_counts.shape"
      ],
      "execution_count": 31,
      "outputs": [
        {
          "output_type": "execute_result",
          "data": {
            "text/plain": [
              "(156060, 14988)"
            ]
          },
          "metadata": {
            "tags": []
          },
          "execution_count": 31
        }
      ]
    },
    {
      "cell_type": "code",
      "metadata": {
        "colab": {
          "base_uri": "https://localhost:8080/"
        },
        "id": "52px4R9h1dxx",
        "outputId": "44245aa0-5a39-4b96-a9d5-2cd3ca0f2846"
      },
      "source": [
        "cv.get_feature_names()[:10]"
      ],
      "execution_count": 32,
      "outputs": [
        {
          "output_type": "execute_result",
          "data": {
            "text/plain": [
              "['000', '1', '10', '100', '101', '102', '103', '104', '105', '10th']"
            ]
          },
          "metadata": {
            "tags": []
          },
          "execution_count": 32
        }
      ]
    },
    {
      "cell_type": "markdown",
      "metadata": {
        "id": "eepuTNZa3YKH"
      },
      "source": [
        "####Split train and test set"
      ]
    },
    {
      "cell_type": "code",
      "metadata": {
        "id": "U56C9hGI3bIz"
      },
      "source": [
        "from sklearn.model_selection import train_test_split\n",
        "\n",
        "X_train, X_test, y_train, y_test = train_test_split(text_counts, data['Sentiment'], test_size=0.3, random_state=1)\n"
      ],
      "execution_count": 33,
      "outputs": []
    },
    {
      "cell_type": "code",
      "metadata": {
        "colab": {
          "base_uri": "https://localhost:8080/"
        },
        "id": "V4NMvOyT5f4y",
        "outputId": "603e3a37-9f0e-4eb0-aea4-7c8ee906acf2"
      },
      "source": [
        "print(f'X_train : {X_train.shape}')\n",
        "print(f'X_test : {X_test.shape}')\n",
        "print(f'y_train : {y_train.shape}')\n",
        "print(f'y_test : {y_test.shape}')\n"
      ],
      "execution_count": 34,
      "outputs": [
        {
          "output_type": "stream",
          "text": [
            "X_train : (109242, 14988)\n",
            "X_test : (46818, 14988)\n",
            "y_train : (109242,)\n",
            "y_test : (46818,)\n"
          ],
          "name": "stdout"
        }
      ]
    },
    {
      "cell_type": "markdown",
      "metadata": {
        "id": "pb8YNUs153rR"
      },
      "source": [
        "####Model Building and Evaluation(BoW)"
      ]
    },
    {
      "cell_type": "markdown",
      "metadata": {
        "id": "AAilRGUj7U9L"
      },
      "source": [
        "Let's build the text classification model using BoW."
      ]
    },
    {
      "cell_type": "code",
      "metadata": {
        "colab": {
          "base_uri": "https://localhost:8080/"
        },
        "id": "Ysw5um3I7fro",
        "outputId": "3a3e3cc1-7ad8-47bf-8dbe-536f066c88b3"
      },
      "source": [
        "from sklearn.naive_bayes import MultinomialNB\n",
        "from sklearn import metrics \n",
        "\n",
        "# model generation using multinomial naive bayes\n",
        "clf = MultinomialNB().fit(X_train, y_train)\n",
        "predicted = clf.predict(X_test)\n",
        "print(f'MultinomialNB Accuracy : {metrics.accuracy_score(y_test, predicted)}')"
      ],
      "execution_count": 35,
      "outputs": [
        {
          "output_type": "stream",
          "text": [
            "MultinomialNB Accuracy : 0.6049169122986885\n"
          ],
          "name": "stdout"
        }
      ]
    },
    {
      "cell_type": "markdown",
      "metadata": {
        "id": "lrDKn-Uh8ows"
      },
      "source": [
        "As we see, our accuracy is 60.49% and it's not good, so we should improve it and use another feature generation method like tf-idf."
      ]
    },
    {
      "cell_type": "code",
      "metadata": {
        "colab": {
          "base_uri": "https://localhost:8080/"
        },
        "id": "6YmTJHM7VzGV",
        "outputId": "63589844-06bd-4264-eda0-3a7f35bfa308"
      },
      "source": [
        "from sklearn.metrics import classification_report\n",
        "print(classification_report(y_test, predicted))"
      ],
      "execution_count": 37,
      "outputs": [
        {
          "output_type": "stream",
          "text": [
            "              precision    recall  f1-score   support\n",
            "\n",
            "           0       0.43      0.27      0.33      2119\n",
            "           1       0.49      0.41      0.45      8277\n",
            "           2       0.68      0.78      0.73     23816\n",
            "           3       0.52      0.50      0.51      9936\n",
            "           4       0.46      0.29      0.36      2670\n",
            "\n",
            "    accuracy                           0.60     46818\n",
            "   macro avg       0.52      0.45      0.47     46818\n",
            "weighted avg       0.59      0.60      0.59     46818\n",
            "\n"
          ],
          "name": "stdout"
        }
      ]
    },
    {
      "cell_type": "markdown",
      "metadata": {
        "id": "qxpaUqLj84Lz"
      },
      "source": [
        "####Feature Generation using TF-IDF"
      ]
    },
    {
      "cell_type": "code",
      "metadata": {
        "id": "gex-JyaO-HVa"
      },
      "source": [
        "from sklearn.feature_extraction.text import TfidfVectorizer\n",
        "\n",
        "tf = TfidfVectorizer()\n",
        "text_tf = tf.fit_transform(data['Phrase'])"
      ],
      "execution_count": 38,
      "outputs": []
    },
    {
      "cell_type": "code",
      "metadata": {
        "colab": {
          "base_uri": "https://localhost:8080/"
        },
        "id": "SjdwlODUXpxp",
        "outputId": "7fe4c44d-eed9-438d-808b-8e30a377b1cc"
      },
      "source": [
        "text_tf.shape"
      ],
      "execution_count": 39,
      "outputs": [
        {
          "output_type": "execute_result",
          "data": {
            "text/plain": [
              "(156060, 15240)"
            ]
          },
          "metadata": {
            "tags": []
          },
          "execution_count": 39
        }
      ]
    },
    {
      "cell_type": "code",
      "metadata": {
        "colab": {
          "base_uri": "https://localhost:8080/"
        },
        "id": "ntBBu3gQXsQ5",
        "outputId": "904b30a4-4193-4b16-c9da-198a42749f20"
      },
      "source": [
        "tf.get_feature_names()[:10]"
      ],
      "execution_count": 40,
      "outputs": [
        {
          "output_type": "execute_result",
          "data": {
            "text/plain": [
              "['000', '10', '100', '101', '102', '103', '104', '105', '10th', '11']"
            ]
          },
          "metadata": {
            "tags": []
          },
          "execution_count": 40
        }
      ]
    },
    {
      "cell_type": "markdown",
      "metadata": {
        "id": "yjAHWKp8X4kC"
      },
      "source": [
        "####Split train and test set (TF-IDF)"
      ]
    },
    {
      "cell_type": "markdown",
      "metadata": {
        "id": "_ePqmcsKYOes"
      },
      "source": [
        "Let's build the text classification model using tf-idf(term frequency-inverse document frequency)."
      ]
    },
    {
      "cell_type": "code",
      "metadata": {
        "id": "0PNQhDBsXzw7"
      },
      "source": [
        "from sklearn.model_selection import train_test_split\n",
        "\n",
        "X_train, X_test, y_train, y_test = train_test_split(text_tf, data['Sentiment'], test_size=0.3, random_state=123)"
      ],
      "execution_count": 42,
      "outputs": []
    },
    {
      "cell_type": "code",
      "metadata": {
        "colab": {
          "base_uri": "https://localhost:8080/"
        },
        "id": "WIdW98opZFZ5",
        "outputId": "5669e478-f9fe-46ff-c44f-a48b2174fee8"
      },
      "source": [
        "print(f'X_train : {X_train.shape}')\n",
        "print(f'X_test : {X_test.shape}')\n",
        "print(f'y_train : {y_train.shape}')\n",
        "print(f'y_test : {y_test.shape}')"
      ],
      "execution_count": 43,
      "outputs": [
        {
          "output_type": "stream",
          "text": [
            "X_train : (109242, 15240)\n",
            "X_test : (46818, 15240)\n",
            "y_train : (109242,)\n",
            "y_test : (46818,)\n"
          ],
          "name": "stdout"
        }
      ]
    },
    {
      "cell_type": "markdown",
      "metadata": {
        "id": "TiazHrpAZBoW"
      },
      "source": [
        "####Model Building and Evaluation (TF-IDF)"
      ]
    },
    {
      "cell_type": "code",
      "metadata": {
        "colab": {
          "base_uri": "https://localhost:8080/"
        },
        "id": "wDzwkvwPY5aY",
        "outputId": "4ea186d5-0fdb-436a-c593-5402469a287e"
      },
      "source": [
        "from sklearn.naive_bayes import MultinomialNB\n",
        "from sklearn import metrics\n",
        "\n",
        "# model generation using multinomial naive bayes\n",
        "clf = MultinomialNB().fit(X_train,y_train)\n",
        "predicted = clf.predict(X_test)\n",
        "print(f'MultinomialNB Accuracy : {metrics.accuracy_score(y_test, predicted)}')"
      ],
      "execution_count": 44,
      "outputs": [
        {
          "output_type": "stream",
          "text": [
            "MultinomialNB Accuracy : 0.5865265496176684\n"
          ],
          "name": "stdout"
        }
      ]
    },
    {
      "cell_type": "code",
      "metadata": {
        "colab": {
          "base_uri": "https://localhost:8080/"
        },
        "id": "kTimoZXBZ2kg",
        "outputId": "114df02d-5c8b-4d7a-b8e3-e5100529d36b"
      },
      "source": [
        "print(classification_report(y_test, predicted))"
      ],
      "execution_count": 45,
      "outputs": [
        {
          "output_type": "stream",
          "text": [
            "              precision    recall  f1-score   support\n",
            "\n",
            "           0       0.60      0.03      0.06      2110\n",
            "           1       0.51      0.25      0.33      8081\n",
            "           2       0.60      0.90      0.72     23920\n",
            "           3       0.53      0.38      0.45      9929\n",
            "           4       0.60      0.05      0.09      2778\n",
            "\n",
            "    accuracy                           0.59     46818\n",
            "   macro avg       0.57      0.32      0.33     46818\n",
            "weighted avg       0.57      0.59      0.53     46818\n",
            "\n"
          ],
          "name": "stdout"
        }
      ]
    }
  ]
}