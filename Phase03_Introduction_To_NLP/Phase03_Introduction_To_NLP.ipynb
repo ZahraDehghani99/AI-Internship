{
  "nbformat": 4,
  "nbformat_minor": 0,
  "metadata": {
    "colab": {
      "name": "Phase03-Introduction To NLP.ipynb",
      "provenance": [],
      "collapsed_sections": []
    },
    "kernelspec": {
      "name": "python3",
      "display_name": "Python 3"
    },
    "language_info": {
      "name": "python"
    }
  },
  "cells": [
    {
      "cell_type": "markdown",
      "metadata": {
        "id": "d7wdXaIHaS30"
      },
      "source": [
        "#Section 1: NLTK Tutorial"
      ]
    },
    {
      "cell_type": "markdown",
      "metadata": {
        "id": "95WJJSnLu31W"
      },
      "source": [
        "##Text Analytics for Beginners using NLTK-datacamp"
      ]
    },
    {
      "cell_type": "code",
      "metadata": {
        "id": "PxfbEmGMaRiJ",
        "colab": {
          "base_uri": "https://localhost:8080/"
        },
        "outputId": "d49de25b-d71b-42bb-99c3-017aad1dafe7"
      },
      "source": [
        "# Loading NLTk\n",
        "import nltk\n",
        "nltk.download('punkt')"
      ],
      "execution_count": 14,
      "outputs": [
        {
          "output_type": "stream",
          "text": [
            "[nltk_data] Downloading package punkt to /root/nltk_data...\n",
            "[nltk_data]   Package punkt is already up-to-date!\n"
          ],
          "name": "stdout"
        },
        {
          "output_type": "execute_result",
          "data": {
            "text/plain": [
              "True"
            ]
          },
          "metadata": {
            "tags": []
          },
          "execution_count": 14
        }
      ]
    },
    {
      "cell_type": "markdown",
      "metadata": {
        "id": "IwI9GJJQ3YXW"
      },
      "source": [
        "###Tokenization"
      ]
    },
    {
      "cell_type": "markdown",
      "metadata": {
        "id": "K1HsQeR-3Rdy"
      },
      "source": [
        "####Sentence tokenization"
      ]
    },
    {
      "cell_type": "code",
      "metadata": {
        "colab": {
          "base_uri": "https://localhost:8080/"
        },
        "id": "cn_mYDF30f91",
        "outputId": "7b4b886c-21bd-45fe-e727-20e901b15c23"
      },
      "source": [
        "from nltk.tokenize import sent_tokenize\n",
        "\n",
        "text=\"\"\"Hello Mr. Smith, how are you doing today? The weather is great, and city is awesome.\n",
        "The sky is pinkish-blue. You shouldn't eat cardboard\"\"\"\n",
        "\n",
        "tokenized_text = sent_tokenize(text)\n",
        "print(f'Tokenized text -> {tokenized_text}')"
      ],
      "execution_count": 21,
      "outputs": [
        {
          "output_type": "stream",
          "text": [
            "Tokenized text -> ['Hello Mr. Smith, how are you doing today?', 'The weather is great, and city is awesome.', 'The sky is pinkish-blue.', \"You shouldn't eat cardboard\"]\n"
          ],
          "name": "stdout"
        }
      ]
    },
    {
      "cell_type": "markdown",
      "metadata": {
        "id": "NqJy5SaR3cB1"
      },
      "source": [
        "####Word tokenization"
      ]
    },
    {
      "cell_type": "code",
      "metadata": {
        "colab": {
          "base_uri": "https://localhost:8080/"
        },
        "id": "SVFLGLTz2A43",
        "outputId": "d2e3e147-fff6-4ed4-8f87-62a082d47a85"
      },
      "source": [
        "from nltk.tokenize import word_tokenize\n",
        "\n",
        "tokenized_word = word_tokenize(text)\n",
        "print(f'Tokenized word -> {tokenized_word}')"
      ],
      "execution_count": 22,
      "outputs": [
        {
          "output_type": "stream",
          "text": [
            "Tokenized word -> ['Hello', 'Mr.', 'Smith', ',', 'how', 'are', 'you', 'doing', 'today', '?', 'The', 'weather', 'is', 'great', ',', 'and', 'city', 'is', 'awesome', '.', 'The', 'sky', 'is', 'pinkish-blue', '.', 'You', 'should', \"n't\", 'eat', 'cardboard']\n"
          ],
          "name": "stdout"
        }
      ]
    },
    {
      "cell_type": "code",
      "metadata": {
        "colab": {
          "base_uri": "https://localhost:8080/"
        },
        "id": "Rpc3u0Yg4N1F",
        "outputId": "d6588fba-40b3-448e-edba-6ec234fea7a2"
      },
      "source": [
        "print(f'length of tokenized word : {len(tokenized_word)}')"
      ],
      "execution_count": 26,
      "outputs": [
        {
          "output_type": "stream",
          "text": [
            "length of tokenized word : 30\n"
          ],
          "name": "stdout"
        }
      ]
    },
    {
      "cell_type": "markdown",
      "metadata": {
        "id": "QdPdeKf-3fSR"
      },
      "source": [
        "####Frequency Distribution"
      ]
    },
    {
      "cell_type": "code",
      "metadata": {
        "colab": {
          "base_uri": "https://localhost:8080/"
        },
        "id": "B_Vu6fhA3p9g",
        "outputId": "37f399ac-e0a3-4f62-8c53-d13195896d9f"
      },
      "source": [
        "from nltk.probability import FreqDist\n",
        "\n",
        "fdist = FreqDist(tokenized_word)\n",
        "print(fdist)"
      ],
      "execution_count": 25,
      "outputs": [
        {
          "output_type": "stream",
          "text": [
            "<FreqDist with 25 samples and 30 outcomes>\n"
          ],
          "name": "stdout"
        }
      ]
    },
    {
      "cell_type": "code",
      "metadata": {
        "colab": {
          "base_uri": "https://localhost:8080/"
        },
        "id": "cZqhdIyO4XyK",
        "outputId": "34a52670-5f7f-4cd2-d5a9-09d12d7404c0"
      },
      "source": [
        "# print 2 most common words in the text\n",
        "fdist.most_common(3)"
      ],
      "execution_count": 38,
      "outputs": [
        {
          "output_type": "execute_result",
          "data": {
            "text/plain": [
              "[('is', 3), (',', 2), ('The', 2)]"
            ]
          },
          "metadata": {
            "tags": []
          },
          "execution_count": 38
        }
      ]
    },
    {
      "cell_type": "code",
      "metadata": {
        "colab": {
          "base_uri": "https://localhost:8080/",
          "height": 345
        },
        "id": "WZEoCuuw5HVb",
        "outputId": "f8a76390-a661-485c-b507-22fabc0ca611"
      },
      "source": [
        "#Frequenty distribution plot\n",
        "import matplotlib.pyplot as plt\n",
        "\n",
        "plt.title('Fequenty distribution plot')\n",
        "fdist.plot(30, cumulative=False)\n",
        "plt.show()"
      ],
      "execution_count": 45,
      "outputs": [
        {
          "output_type": "display_data",
          "data": {
            "image/png": "[encoded data removed]",
            "text/plain": [
              "<Figure size 432x288 with 1 Axes>"
            ]
          },
          "metadata": {
            "tags": [],
            "needs_background": "light"
          }
        }
      ]
    },
    {
      "cell_type": "markdown",
      "metadata": {
        "id": "bbQ5YZvy55Jv"
      },
      "source": [
        "###Stopwords"
      ]
    },
    {
      "cell_type": "code",
      "metadata": {
        "colab": {
          "base_uri": "https://localhost:8080/"
        },
        "id": "M9KIt-SS52zq",
        "outputId": "4a3dbb06-0e25-474d-e313-441ef501c25a"
      },
      "source": [
        "nltk.download('stopwords')"
      ],
      "execution_count": 46,
      "outputs": [
        {
          "output_type": "stream",
          "text": [
            "[nltk_data] Downloading package stopwords to /root/nltk_data...\n",
            "[nltk_data]   Unzipping corpora/stopwords.zip.\n"
          ],
          "name": "stdout"
        },
        {
          "output_type": "execute_result",
          "data": {
            "text/plain": [
              "True"
            ]
          },
          "metadata": {
            "tags": []
          },
          "execution_count": 46
        }
      ]
    },
    {
      "cell_type": "code",
      "metadata": {
        "colab": {
          "base_uri": "https://localhost:8080/"
        },
        "id": "XJzXOAcr6c5Y",
        "outputId": "11a1c6f3-e853-48c2-f9ca-c65c524f1d23"
      },
      "source": [
        "from nltk.corpus import stopwords\n",
        "\n",
        "stop_words = set(stopwords.words('english'))\n",
        "print(stop_words)\n",
        "print(f'length of stopwords in english : {len(stop_words)}')"
      ],
      "execution_count": 50,
      "outputs": [
        {
          "output_type": "stream",
          "text": [
            "{'own', \"you're\", 'from', 'was', \"isn't\", 'their', 'haven', 'be', 'i', 'his', 'it', 'with', 'here', 'than', 'after', 'too', 'her', 'you', 'd', 'to', 'but', 'of', 'few', 'ma', 'over', 'now', 'yourself', 'nor', 'ours', 'our', 'am', 'ain', 'wasn', 'down', \"it's\", 'itself', 'were', 'about', \"you'll\", \"mightn't\", 'what', 'this', \"that'll\", 't', \"shan't\", 'no', 'my', 'any', 'herself', 'doesn', 'for', 'only', 'who', 'does', 'such', 'won', 've', 'been', 'between', 'that', 'until', \"weren't\", 'just', 'these', 'needn', 'your', 'whom', \"won't\", \"you've\", 'the', 'when', \"wouldn't\", 'having', 'into', 'up', 'and', 'couldn', 'himself', 'him', 'at', 'some', 'aren', 'yours', 'those', 'shouldn', \"you'd\", 'had', 'as', 'do', 'before', 'ourselves', 'did', 'in', 're', \"she's\", 'll', 'off', 'are', 'she', 'them', 'doing', 'again', 'a', 'further', 'me', 'once', 'through', \"wasn't\", 'an', \"mustn't\", 'being', 'so', 'is', 'm', 'themselves', 'has', 'very', 'while', 'can', 'they', 'each', 'during', \"don't\", 'hasn', \"haven't\", \"didn't\", \"doesn't\", 'under', 's', 'have', 'against', 'above', 'if', \"shouldn't\", 'will', 'because', 'on', 'all', \"should've\", 'both', 'other', 'myself', 'he', 'o', 'y', \"hasn't\", 'then', 'theirs', 'don', 'shan', 'which', 'by', 'we', 'not', 'weren', 'below', 'out', 'where', 'hers', \"couldn't\", 'its', 'yourselves', 'there', 'mightn', 'same', 'mustn', 'didn', \"needn't\", \"aren't\", 'or', 'more', 'why', 'most', \"hadn't\", 'hadn', 'wouldn', 'should', 'isn', 'how'}\n",
            "length of stopwords in english : 179\n"
          ],
          "name": "stdout"
        }
      ]
    },
    {
      "cell_type": "code",
      "metadata": {
        "colab": {
          "base_uri": "https://localhost:8080/"
        },
        "id": "Nk7CbR7eC6G-",
        "outputId": "718deef8-2079-4be5-df73-ea0acd5970c1"
      },
      "source": [
        "if 'the' in stop_words:\n",
        "  print('yes')"
      ],
      "execution_count": 53,
      "outputs": [
        {
          "output_type": "stream",
          "text": [
            "yes\n"
          ],
          "name": "stdout"
        }
      ]
    },
    {
      "cell_type": "markdown",
      "metadata": {
        "id": "oZWYeIz0_bLH"
      },
      "source": [
        "####Removing stopwords"
      ]
    },
    {
      "cell_type": "code",
      "metadata": {
        "colab": {
          "base_uri": "https://localhost:8080/"
        },
        "id": "mUrQHrZA7eo8",
        "outputId": "90ed0757-40cd-47d8-b47b-9995eb9cd1dc"
      },
      "source": [
        "filtered_sent = []\n",
        "\n",
        "for w in tokenized_word:\n",
        "  if w not in stop_words:\n",
        "    filtered_sent.append(w)\n",
        "\n",
        "print(f'Tokenized sentence : {tokenized_word}')\n",
        "print(f'length of tokenized sentence : {len(tokenized_word)}')\n",
        "print(f'Filtered sentence : {filtered_sent}') \n",
        "print(f'length of filtered sentence : {len(filtered_sent)}')   "
      ],
      "execution_count": 51,
      "outputs": [
        {
          "output_type": "stream",
          "text": [
            "Tokenized sentence : ['Hello', 'Mr.', 'Smith', ',', 'how', 'are', 'you', 'doing', 'today', '?', 'The', 'weather', 'is', 'great', ',', 'and', 'city', 'is', 'awesome', '.', 'The', 'sky', 'is', 'pinkish-blue', '.', 'You', 'should', \"n't\", 'eat', 'cardboard']\n",
            "length of tokenized sentence : 30\n",
            "Filtered sentence : ['Hello', 'Mr.', 'Smith', ',', 'today', '?', 'The', 'weather', 'great', ',', 'city', 'awesome', '.', 'The', 'sky', 'pinkish-blue', '.', 'You', \"n't\", 'eat', 'cardboard']\n",
            "length of filtered sentence : 21\n"
          ],
          "name": "stdout"
        }
      ]
    },
    {
      "cell_type": "markdown",
      "metadata": {
        "id": "VwbqbD3QDItX"
      },
      "source": [
        "**Why doesn't remove 'the' from tokenized words?**"
      ]
    },
    {
      "cell_type": "markdown",
      "metadata": {
        "id": "cX4A9sZeAUcm"
      },
      "source": [
        "###Lexicon Normailzation"
      ]
    },
    {
      "cell_type": "markdown",
      "metadata": {
        "id": "0NAJh-C-A8uV"
      },
      "source": [
        "####Stemming"
      ]
    },
    {
      "cell_type": "code",
      "metadata": {
        "colab": {
          "base_uri": "https://localhost:8080/"
        },
        "id": "ZG8qUnJp_gMR",
        "outputId": "aac0cd7a-042d-4adb-86d9-72a86e17e33f"
      },
      "source": [
        "from nltk.stem import PorterStemmer\n",
        "from nltk.tokenize import word_tokenize, sent_tokenize\n",
        "\n",
        "ps = PorterStemmer()\n",
        "\n",
        "stemmed_words = []\n",
        "for w in filtered_sent:\n",
        "  stemmed_words.append(ps.stem(w))\n",
        "\n",
        "print(f'Filtered sentence : {filtered_sent}')\n",
        "print(f'length of filtered sent : {len(filtered_sent)}')\n",
        "print(f'Stemmed sentence : {stemmed_words}')\n",
        "print(f'length of stemmed words : {len(stemmed_words)}')"
      ],
      "execution_count": 52,
      "outputs": [
        {
          "output_type": "stream",
          "text": [
            "Filtered sentence : ['Hello', 'Mr.', 'Smith', ',', 'today', '?', 'The', 'weather', 'great', ',', 'city', 'awesome', '.', 'The', 'sky', 'pinkish-blue', '.', 'You', \"n't\", 'eat', 'cardboard']\n",
            "length of filtered sent : 21\n",
            "Stemmed sentence : ['hello', 'mr.', 'smith', ',', 'today', '?', 'the', 'weather', 'great', ',', 'citi', 'awesom', '.', 'the', 'sky', 'pinkish-blu', '.', 'you', \"n't\", 'eat', 'cardboard']\n",
            "length of stemmed words : 21\n"
          ],
          "name": "stdout"
        }
      ]
    },
    {
      "cell_type": "markdown",
      "metadata": {
        "id": "AKm4WykTDVh3"
      },
      "source": [
        "####Lemmatization"
      ]
    },
    {
      "cell_type": "code",
      "metadata": {
        "colab": {
          "base_uri": "https://localhost:8080/"
        },
        "id": "p1WhkZ_EDTT6",
        "outputId": "c7f9c8ab-9613-4ff7-e307-f88042445a6f"
      },
      "source": [
        "nltk.download('wordnet')"
      ],
      "execution_count": 54,
      "outputs": [
        {
          "output_type": "stream",
          "text": [
            "[nltk_data] Downloading package wordnet to /root/nltk_data...\n",
            "[nltk_data]   Unzipping corpora/wordnet.zip.\n"
          ],
          "name": "stdout"
        },
        {
          "output_type": "execute_result",
          "data": {
            "text/plain": [
              "True"
            ]
          },
          "metadata": {
            "tags": []
          },
          "execution_count": 54
        }
      ]
    },
    {
      "cell_type": "code",
      "metadata": {
        "colab": {
          "base_uri": "https://localhost:8080/"
        },
        "id": "KaMlCIvjErk6",
        "outputId": "6e51ff06-b173-4fa0-a28b-f779416dfb0c"
      },
      "source": [
        "# lexicon normailization\n",
        "# performing stemming and lemmatization \n",
        "\n",
        "from nltk.stem.wordnet import WordNetLemmatizer\n",
        "lem = WordNetLemmatizer()\n",
        "\n",
        "from nltk.stem.porter import PorterStemmer\n",
        "stem = PorterStemmer()\n",
        "\n",
        "word = \"flying\"\n",
        "print(f'Lemmatized Word : {lem.lemmatize(word, \"v\")}')\n",
        "print(f'Stemmed Word : {stem.stem(word)}')"
      ],
      "execution_count": 55,
      "outputs": [
        {
          "output_type": "stream",
          "text": [
            "Lemmatized Word : fly\n",
            "Stemmed Word : fli\n"
          ],
          "name": "stdout"
        }
      ]
    },
    {
      "cell_type": "markdown",
      "metadata": {
        "id": "E5wRY3e1L3sU"
      },
      "source": [
        "###POS Tagging"
      ]
    },
    {
      "cell_type": "code",
      "metadata": {
        "id": "bL5Hjsw8L1ro"
      },
      "source": [
        "sent = \"Albert Einstein was born in Ulm, Germany in 1879.\""
      ],
      "execution_count": 56,
      "outputs": []
    },
    {
      "cell_type": "code",
      "metadata": {
        "colab": {
          "base_uri": "https://localhost:8080/"
        },
        "id": "RcFzonxYN3cP",
        "outputId": "108216d2-c46c-467b-ed22-94e87718f347"
      },
      "source": [
        "tokens = word_tokenize(sent)\n",
        "print(f'Tokenized word : {tokens}')"
      ],
      "execution_count": 57,
      "outputs": [
        {
          "output_type": "stream",
          "text": [
            "Tokenized word : ['Albert', 'Einstein', 'was', 'born', 'in', 'Ulm', ',', 'Germany', 'in', '1879', '.']\n"
          ],
          "name": "stdout"
        }
      ]
    },
    {
      "cell_type": "code",
      "metadata": {
        "colab": {
          "base_uri": "https://localhost:8080/"
        },
        "id": "e2ibKE9OOH35",
        "outputId": "3c6ae935-f41a-4294-8c17-8988bfd870cf"
      },
      "source": [
        "nltk.download('averaged_perceptron_tagger')"
      ],
      "execution_count": 61,
      "outputs": [
        {
          "output_type": "stream",
          "text": [
            "[nltk_data] Downloading package averaged_perceptron_tagger to\n",
            "[nltk_data]     /root/nltk_data...\n",
            "[nltk_data]   Unzipping taggers/averaged_perceptron_tagger.zip.\n"
          ],
          "name": "stdout"
        },
        {
          "output_type": "execute_result",
          "data": {
            "text/plain": [
              "True"
            ]
          },
          "metadata": {
            "tags": []
          },
          "execution_count": 61
        }
      ]
    },
    {
      "cell_type": "code",
      "metadata": {
        "colab": {
          "base_uri": "https://localhost:8080/"
        },
        "id": "ibG3LishOOrP",
        "outputId": "05c9e72f-dee9-436c-f1e2-42e46f9c03da"
      },
      "source": [
        "nltk.pos_tag(tokens)"
      ],
      "execution_count": 63,
      "outputs": [
        {
          "output_type": "execute_result",
          "data": {
            "text/plain": [
              "[('Albert', 'NNP'),\n",
              " ('Einstein', 'NNP'),\n",
              " ('was', 'VBD'),\n",
              " ('born', 'VBN'),\n",
              " ('in', 'IN'),\n",
              " ('Ulm', 'NNP'),\n",
              " (',', ','),\n",
              " ('Germany', 'NNP'),\n",
              " ('in', 'IN'),\n",
              " ('1879', 'CD'),\n",
              " ('.', '.')]"
            ]
          },
          "metadata": {
            "tags": []
          },
          "execution_count": 63
        }
      ]
    },
    {
      "cell_type": "markdown",
      "metadata": {
        "id": "QZ4A8t8xO1DS"
      },
      "source": [
        "##Performing Sentiment Analysis using Text Classification\n",
        "##Sentiment Analysis on Movie Reviews"
      ]
    },
    {
      "cell_type": "code",
      "metadata": {
        "id": "0Gh4vFmEOvsg"
      },
      "source": [
        "# import pandas\n",
        "import pandas as pd"
      ],
      "execution_count": 64,
      "outputs": []
    },
    {
      "cell_type": "code",
      "metadata": {
        "colab": {
          "base_uri": "https://localhost:8080/"
        },
        "id": "mzxzZQfibRBs",
        "outputId": "2248c3ac-a331-4f5c-ceeb-ddd6e8650e70"
      },
      "source": [
        "from google.colab import drive\n",
        "drive.mount('/content/drive')"
      ],
      "execution_count": 75,
      "outputs": [
        {
          "output_type": "stream",
          "text": [
            "Drive already mounted at /content/drive; to attempt to forcibly remount, call drive.mount(\"/content/drive\", force_remount=True).\n"
          ],
          "name": "stdout"
        }
      ]
    },
    {
      "cell_type": "code",
      "metadata": {
        "id": "0aR7BNcJcUOz"
      },
      "source": [
        "data = pd.read_csv('/content/drive/MyDrive/AI-Internship/Sentiment-analysis-movie-reviews/train.tsv/train.tsv', sep='\\t',engine='python')"
      ],
      "execution_count": 83,
      "outputs": []
    },
    {
      "cell_type": "code",
      "metadata": {
        "colab": {
          "base_uri": "https://localhost:8080/",
          "height": 355
        },
        "id": "4HphmtADm8lO",
        "outputId": "628d83a9-0c11-40e8-e68e-385f95f026c4"
      },
      "source": [
        "data.head(10)"
      ],
      "execution_count": 87,
      "outputs": [
        {
          "output_type": "execute_result",
          "data": {
            "text/html": [
              "<div>\n",
              "<style scoped>\n",
              "    .dataframe tbody tr th:only-of-type {\n",
              "        vertical-align: middle;\n",
              "    }\n",
              "\n",
              "    .dataframe tbody tr th {\n",
              "        vertical-align: top;\n",
              "    }\n",
              "\n",
              "    .dataframe thead th {\n",
              "        text-align: right;\n",
              "    }\n",
              "</style>\n",
              "<table border=\"1\" class=\"dataframe\">\n",
              "  <thead>\n",
              "    <tr style=\"text-align: right;\">\n",
              "      <th></th>\n",
              "      <th>PhraseId</th>\n",
              "      <th>SentenceId</th>\n",
              "      <th>Phrase</th>\n",
              "      <th>Sentiment</th>\n",
              "    </tr>\n",
              "  </thead>\n",
              "  <tbody>\n",
              "    <tr>\n",
              "      <th>0</th>\n",
              "      <td>1</td>\n",
              "      <td>1</td>\n",
              "      <td>A series of escapades demonstrating the adage ...</td>\n",
              "      <td>1</td>\n",
              "    </tr>\n",
              "    <tr>\n",
              "      <th>1</th>\n",
              "      <td>2</td>\n",
              "      <td>1</td>\n",
              "      <td>A series of escapades demonstrating the adage ...</td>\n",
              "      <td>2</td>\n",
              "    </tr>\n",
              "    <tr>\n",
              "      <th>2</th>\n",
              "      <td>3</td>\n",
              "      <td>1</td>\n",
              "      <td>A series</td>\n",
              "      <td>2</td>\n",
              "    </tr>\n",
              "    <tr>\n",
              "      <th>3</th>\n",
              "      <td>4</td>\n",
              "      <td>1</td>\n",
              "      <td>A</td>\n",
              "      <td>2</td>\n",
              "    </tr>\n",
              "    <tr>\n",
              "      <th>4</th>\n",
              "      <td>5</td>\n",
              "      <td>1</td>\n",
              "      <td>series</td>\n",
              "      <td>2</td>\n",
              "    </tr>\n",
              "    <tr>\n",
              "      <th>5</th>\n",
              "      <td>6</td>\n",
              "      <td>1</td>\n",
              "      <td>of escapades demonstrating the adage that what...</td>\n",
              "      <td>2</td>\n",
              "    </tr>\n",
              "    <tr>\n",
              "      <th>6</th>\n",
              "      <td>7</td>\n",
              "      <td>1</td>\n",
              "      <td>of</td>\n",
              "      <td>2</td>\n",
              "    </tr>\n",
              "    <tr>\n",
              "      <th>7</th>\n",
              "      <td>8</td>\n",
              "      <td>1</td>\n",
              "      <td>escapades demonstrating the adage that what is...</td>\n",
              "      <td>2</td>\n",
              "    </tr>\n",
              "    <tr>\n",
              "      <th>8</th>\n",
              "      <td>9</td>\n",
              "      <td>1</td>\n",
              "      <td>escapades</td>\n",
              "      <td>2</td>\n",
              "    </tr>\n",
              "    <tr>\n",
              "      <th>9</th>\n",
              "      <td>10</td>\n",
              "      <td>1</td>\n",
              "      <td>demonstrating the adage that what is good for ...</td>\n",
              "      <td>2</td>\n",
              "    </tr>\n",
              "  </tbody>\n",
              "</table>\n",
              "</div>"
            ],
            "text/plain": [
              "   PhraseId  ...  Sentiment\n",
              "0         1  ...          1\n",
              "1         2  ...          2\n",
              "2         3  ...          2\n",
              "3         4  ...          2\n",
              "4         5  ...          2\n",
              "5         6  ...          2\n",
              "6         7  ...          2\n",
              "7         8  ...          2\n",
              "8         9  ...          2\n",
              "9        10  ...          2\n",
              "\n",
              "[10 rows x 4 columns]"
            ]
          },
          "metadata": {
            "tags": []
          },
          "execution_count": 87
        }
      ]
    },
    {
      "cell_type": "code",
      "metadata": {
        "colab": {
          "base_uri": "https://localhost:8080/"
        },
        "id": "wgl8OXyqpUJ2",
        "outputId": "d2f2b652-39ae-463a-ba3f-bcefc3b0b5ee"
      },
      "source": [
        "data.shape"
      ],
      "execution_count": 89,
      "outputs": [
        {
          "output_type": "execute_result",
          "data": {
            "text/plain": [
              "(156060, 4)"
            ]
          },
          "metadata": {
            "tags": []
          },
          "execution_count": 89
        }
      ]
    },
    {
      "cell_type": "code",
      "metadata": {
        "colab": {
          "base_uri": "https://localhost:8080/"
        },
        "id": "RHDXziEonuox",
        "outputId": "f9a9d1eb-3b8d-40be-db29-e03440c0e7aa"
      },
      "source": [
        "data.info()"
      ],
      "execution_count": 88,
      "outputs": [
        {
          "output_type": "stream",
          "text": [
            "<class 'pandas.core.frame.DataFrame'>\n",
            "RangeIndex: 156060 entries, 0 to 156059\n",
            "Data columns (total 4 columns):\n",
            " #   Column      Non-Null Count   Dtype \n",
            "---  ------      --------------   ----- \n",
            " 0   PhraseId    156060 non-null  int64 \n",
            " 1   SentenceId  156060 non-null  int64 \n",
            " 2   Phrase      156060 non-null  object\n",
            " 3   Sentiment   156060 non-null  int64 \n",
            "dtypes: int64(3), object(1)\n",
            "memory usage: 4.8+ MB\n"
          ],
          "name": "stdout"
        }
      ]
    },
    {
      "cell_type": "code",
      "metadata": {
        "colab": {
          "base_uri": "https://localhost:8080/"
        },
        "id": "t4SegtGXpYtY",
        "outputId": "2c7fcf56-be8f-49b6-8793-404245dde4bf"
      },
      "source": [
        "data.Sentiment.value_counts()"
      ],
      "execution_count": 90,
      "outputs": [
        {
          "output_type": "execute_result",
          "data": {
            "text/plain": [
              "2    79582\n",
              "3    32927\n",
              "1    27273\n",
              "4     9206\n",
              "0     7072\n",
              "Name: Sentiment, dtype: int64"
            ]
          },
          "metadata": {
            "tags": []
          },
          "execution_count": 90
        }
      ]
    },
    {
      "cell_type": "code",
      "metadata": {
        "colab": {
          "base_uri": "https://localhost:8080/"
        },
        "id": "pdz6cMgWpgWK",
        "outputId": "f5eaaf32-f8c1-4e48-e38a-92099448d9fc"
      },
      "source": [
        "distribution = list(data.Sentiment.value_counts())\n",
        "distribution"
      ],
      "execution_count": 92,
      "outputs": [
        {
          "output_type": "execute_result",
          "data": {
            "text/plain": [
              "[79582, 32927, 27273, 9206, 7072]"
            ]
          },
          "metadata": {
            "tags": []
          },
          "execution_count": 92
        }
      ]
    },
    {
      "cell_type": "code",
      "metadata": {
        "colab": {
          "base_uri": "https://localhost:8080/",
          "height": 294
        },
        "id": "yX9Cd2HTqEtL",
        "outputId": "84ab2762-d594-4804-aef2-5477eb531389"
      },
      "source": [
        "fig = plt.figure(figsize=(5,3))\n",
        "ax = fig.add_axes([0,0,1,1])\n",
        "number_of_data = distribution\n",
        "ax.bar([2,3,1,4,0],number_of_data)\n",
        "plt.xlabel('Review Sentiments')\n",
        "plt.ylabel('Number of Review')\n",
        "plt.title(\"Distribution of data in each sentiment\")\n",
        "plt.show()"
      ],
      "execution_count": 100,
      "outputs": [
        {
          "output_type": "display_data",
          "data": {
            "image/png": "[encoded data removed]",
            "text/plain": [
              "<Figure size 360x216 with 1 Axes>"
            ]
          },
          "metadata": {
            "tags": [],
            "needs_background": "light"
          }
        }
      ]
    },
    {
      "cell_type": "markdown",
      "metadata": {
        "id": "YrgCotT6rROS"
      },
      "source": [
        "####Feature Generation using Bag of Words"
      ]
    },
    {
      "cell_type": "code",
      "metadata": {
        "id": "lPMbEnNgqoRN"
      },
      "source": [
        ""
      ],
      "execution_count": 100,
      "outputs": []
    }
  ]
}