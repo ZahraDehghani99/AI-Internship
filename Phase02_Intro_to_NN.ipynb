{
  "nbformat": 4,
  "nbformat_minor": 0,
  "metadata": {
    "colab": {
      "name": "Phase02-Intro to NN.ipynb",
      "provenance": [],
      "collapsed_sections": []
    },
    "kernelspec": {
      "name": "python3",
      "display_name": "Python 3"
    },
    "language_info": {
      "name": "python"
    }
  },
  "cells": [
    {
      "cell_type": "markdown",
      "metadata": {
        "id": "MGC3fCVJ-jQ4"
      },
      "source": [
        "#Section 3: Feed Forward NN"
      ]
    },
    {
      "cell_type": "code",
      "metadata": {
        "id": "ZS6wUAD2-QSo"
      },
      "source": [
        "import torch\n",
        "import torch.nn as nn\n",
        "import torchvision # for datasets\n",
        "import torchvision.transforms as transforms\n",
        "import matplotlib.pyplot as plt"
      ],
      "execution_count": 1,
      "outputs": []
    },
    {
      "cell_type": "code",
      "metadata": {
        "id": "ZfpNajDpBj6X"
      },
      "source": [
        "input_size = 784 # 28X28 images\n",
        "hidden_size = 100\n",
        "num_classes = 10 \n",
        "num_epochs = 2\n",
        "batch_size = 100\n",
        "learning_rate = 0.001"
      ],
      "execution_count": 2,
      "outputs": []
    },
    {
      "cell_type": "code",
      "metadata": {
        "colab": {
          "base_uri": "https://localhost:8080/"
        },
        "id": "aGk-SPB1Cxa5",
        "outputId": "aea99100-30da-490c-f598-040efb7e6e8c"
      },
      "source": [
        "# MNIST dataset from pytorch\n",
        "train_dataset = torchvision.datasets.MNIST(root='/content/drive/MyDrive/AI-Internship/MNIST', train = True, transform = transforms.ToTensor(),download=True)\n",
        "test_dataset = torchvision.datasets.MNIST(root='/content/drive/MyDrive/AI-Internship/MNIST', train = False, transform = transforms.ToTensor(),download=True)\n"
      ],
      "execution_count": 3,
      "outputs": [
        {
          "output_type": "stream",
          "text": [
            "/usr/local/lib/python3.7/dist-packages/torchvision/datasets/mnist.py:498: UserWarning: The given NumPy array is not writeable, and PyTorch does not support non-writeable tensors. This means you can write to the underlying (supposedly non-writeable) NumPy array using the tensor. You may want to copy the array to protect its data or make it writeable before converting it to a tensor. This type of warning will be suppressed for the rest of this program. (Triggered internally at  /pytorch/torch/csrc/utils/tensor_numpy.cpp:180.)\n",
            "  return torch.from_numpy(parsed.astype(m[2], copy=False)).view(*s)\n"
          ],
          "name": "stderr"
        }
      ]
    },
    {
      "cell_type": "code",
      "metadata": {
        "id": "Rgx9UQIrEMQc"
      },
      "source": [
        "train_loader = torch.utils.data.DataLoader(dataset = train_dataset, batch_size = batch_size, shuffle = True)\n",
        "test_loader = torch.utils.data.DataLoader(dataset = test_dataset, batch_size = batch_size, shuffle = False)"
      ],
      "execution_count": 4,
      "outputs": []
    },
    {
      "cell_type": "code",
      "metadata": {
        "colab": {
          "base_uri": "https://localhost:8080/"
        },
        "id": "a_DV9DmFdQ4H",
        "outputId": "727c950d-f485-450d-c500-6b5499a38350"
      },
      "source": [
        "print(f'length of train_dataset is : {len(train_dataset)} and length of train_loader is : {len(train_loader)}')\n",
        "print(f'length of test_dataset is : {len(test_dataset)} and length of test_loader is : {len(test_loader)}')"
      ],
      "execution_count": 5,
      "outputs": [
        {
          "output_type": "stream",
          "text": [
            "length of train_dataset is : 60000 and length of train_loader is : 600\n",
            "length of test_dataset is : 10000 and length of test_loader is : 100\n"
          ],
          "name": "stdout"
        }
      ]
    },
    {
      "cell_type": "markdown",
      "metadata": {
        "id": "MiJmcZR0JVcL"
      },
      "source": [
        "Let's take a look at one batch of this dataset."
      ]
    },
    {
      "cell_type": "code",
      "metadata": {
        "colab": {
          "base_uri": "https://localhost:8080/"
        },
        "id": "SenMcqrZGE9X",
        "outputId": "833d6c1b-1e59-4743-a282-61b176a8cea5"
      },
      "source": [
        "examples = iter(train_loader)\n",
        "#unpack examples\n",
        "samples , labels = examples.next()\n",
        "print(f'samples shape : {samples.shape} ,labels shape : {labels.shape}')"
      ],
      "execution_count": 6,
      "outputs": [
        {
          "output_type": "stream",
          "text": [
            "samples shape : torch.Size([100, 1, 28, 28]) ,labels shape : torch.Size([100])\n"
          ],
          "name": "stdout"
        }
      ]
    },
    {
      "cell_type": "markdown",
      "metadata": {
        "id": "Cx-PDfN5K9KX"
      },
      "source": [
        "Let's plot 6 images of this batch."
      ]
    },
    {
      "cell_type": "code",
      "metadata": {
        "colab": {
          "base_uri": "https://localhost:8080/",
          "height": 267
        },
        "id": "3-ed8ZoDGEyd",
        "outputId": "9d10c446-767f-43bf-aab9-fdefebdb5b27"
      },
      "source": [
        "for i in range(6):\n",
        "  plt.subplot(2,3, i+1)\n",
        "  plt.imshow(samples[i][0],cmap='gray')"
      ],
      "execution_count": 7,
      "outputs": [
        {
          "output_type": "display_data",
          "data": {
            "image/png": "[encoded data removed]",
            "text/plain": [
              "<Figure size 432x288 with 6 Axes>"
            ]
          },
          "metadata": {
            "tags": [],
            "needs_background": "light"
          }
        }
      ]
    },
    {
      "cell_type": "code",
      "metadata": {
        "id": "ZiWfu2ylLqcb"
      },
      "source": [
        "class NeuralNet(nn.Module):\n",
        "\n",
        "  def __init__(self, input_size, hidden_size, num_classes):\n",
        "    super(NeuralNet, self).__init__()\n",
        "    self.l1 = nn.Linear(input_size, hidden_size)\n",
        "    self.relu = nn.ReLU()\n",
        "    self.l2 = nn.Linear(hidden_size,num_classes)\n",
        "  \n",
        "  def forward(self,x):\n",
        "    out = self.l1(x)\n",
        "    out = self.relu(out)\n",
        "    out = self.l2(out)\n",
        "    return out"
      ],
      "execution_count": 8,
      "outputs": []
    },
    {
      "cell_type": "code",
      "metadata": {
        "id": "S2708v39W8WG"
      },
      "source": [
        "# create model\n",
        "model_mnist = NeuralNet(input_size,hidden_size,num_classes)\n",
        "\n",
        "# create loss and optimizer\n",
        "criterion = nn.CrossEntropyLoss()\n",
        "optimizer = torch.optim.Adam(model_mnist.parameters(), lr= learning_rate)\n",
        "\n",
        "total_input = len(train_loader)"
      ],
      "execution_count": 9,
      "outputs": []
    },
    {
      "cell_type": "markdown",
      "metadata": {
        "id": "XTY2kp9xc5Va"
      },
      "source": [
        "###Train the model"
      ]
    },
    {
      "cell_type": "code",
      "metadata": {
        "colab": {
          "base_uri": "https://localhost:8080/"
        },
        "id": "9AsLgjmqazhQ",
        "outputId": "ef421048-65c6-44cc-e468-56d46c504955"
      },
      "source": [
        "list = []\n",
        "\n",
        "for epoch in range(num_epochs):\n",
        "  for i, (image, label) in enumerate(train_loader):\n",
        "    # shape of image is 100,1,28,28 , we want to reshape it to 100, 784\n",
        "    image = image.reshape(-1, 784)\n",
        "\n",
        "    # forward pass\n",
        "    y_pred_mnist = model_mnist(image)\n",
        "    loss = criterion(y_pred_mnist, label)\n",
        "\n",
        "    # backward pass\n",
        "    optimizer.zero_grad()\n",
        "    loss.backward()\n",
        "    optimizer.step()\n",
        "\n",
        "    if (i+1) % 100 == 0:\n",
        "      print(f'epoch : {epoch+1}/{num_epochs} , step : {i+1}/{total_input}, loss : {loss.item():.4f} ')\n",
        "      list.append([epoch+1,i+1, loss.item()])"
      ],
      "execution_count": 10,
      "outputs": [
        {
          "output_type": "stream",
          "text": [
            "epoch : 1/2 , step : 100/600, loss : 0.4760 \n",
            "epoch : 1/2 , step : 200/600, loss : 0.3044 \n",
            "epoch : 1/2 , step : 300/600, loss : 0.3009 \n",
            "epoch : 1/2 , step : 400/600, loss : 0.3163 \n",
            "epoch : 1/2 , step : 500/600, loss : 0.2030 \n",
            "epoch : 1/2 , step : 600/600, loss : 0.2339 \n",
            "epoch : 2/2 , step : 100/600, loss : 0.2388 \n",
            "epoch : 2/2 , step : 200/600, loss : 0.1098 \n",
            "epoch : 2/2 , step : 300/600, loss : 0.1131 \n",
            "epoch : 2/2 , step : 400/600, loss : 0.1137 \n",
            "epoch : 2/2 , step : 500/600, loss : 0.1801 \n",
            "epoch : 2/2 , step : 600/600, loss : 0.2831 \n"
          ],
          "name": "stdout"
        }
      ]
    },
    {
      "cell_type": "markdown",
      "metadata": {
        "id": "TAAeE9p_c9CX"
      },
      "source": [
        "###Test the model"
      ]
    },
    {
      "cell_type": "code",
      "metadata": {
        "id": "MqVqk-LVcj3Z",
        "colab": {
          "base_uri": "https://localhost:8080/"
        },
        "outputId": "3e6f89fc-0e67-4fdb-f594-aa5c3ed89693"
      },
      "source": [
        "# we don't calculate gradient in this phase\n",
        "\n",
        "with torch.no_grad():\n",
        "  n_true = 0\n",
        "  n_total = 0\n",
        "\n",
        "  for image_test, label_test in test_loader:\n",
        "    \n",
        "    image_test = image_test.reshape(-1,784)\n",
        "    output = model_mnist(image_test)\n",
        "\n",
        "    _, y_pred_test = torch.max(output,1)\n",
        "    n_true += (y_pred_test == label_test).sum()\n",
        "    n_total += label.size(0)\n",
        "\n",
        "\n",
        "print(f'accuracy of model on the 10000 images is : {(n_true/n_total) *100}')\n"
      ],
      "execution_count": 17,
      "outputs": [
        {
          "output_type": "stream",
          "text": [
            "accuracy of model on the 10000 images is : 95.5\n"
          ],
          "name": "stdout"
        }
      ]
    },
    {
      "cell_type": "code",
      "metadata": {
        "colab": {
          "base_uri": "https://localhost:8080/"
        },
        "id": "linXf512n9cp",
        "outputId": "25f12007-e2d4-46af-b2b9-ed52549b801f"
      },
      "source": [
        "print(list)"
      ],
      "execution_count": 18,
      "outputs": [
        {
          "output_type": "stream",
          "text": [
            "[[1, 100, 0.47603169083595276], [1, 200, 0.30441272258758545], [1, 300, 0.30087122321128845], [1, 400, 0.3163400888442993], [1, 500, 0.2030360996723175], [1, 600, 0.2339235544204712], [2, 100, 0.23879747092723846], [2, 200, 0.10976012051105499], [2, 300, 0.11312120407819748], [2, 400, 0.1137070432305336], [2, 500, 0.18006904423236847], [2, 600, 0.2831461429595947]]\n"
          ],
          "name": "stdout"
        }
      ]
    },
    {
      "cell_type": "code",
      "metadata": {
        "colab": {
          "base_uri": "https://localhost:8080/"
        },
        "id": "5EUpIJSspOv0",
        "outputId": "50f72ec1-d342-4789-ac7e-2e3c3a531107"
      },
      "source": [
        "len(list)"
      ],
      "execution_count": 24,
      "outputs": [
        {
          "output_type": "execute_result",
          "data": {
            "text/plain": [
              "12"
            ]
          },
          "metadata": {
            "tags": []
          },
          "execution_count": 24
        }
      ]
    },
    {
      "cell_type": "code",
      "metadata": {
        "colab": {
          "base_uri": "https://localhost:8080/",
          "height": 369
        },
        "id": "x1T9_JZEnbZ9",
        "outputId": "d8bdd6a1-d421-4a1c-f0bc-a787fe911616"
      },
      "source": [
        "import seaborn as sns\n",
        "fig, axs = plt.subplots(2,1,figsize =(10, 5))\n",
        "axs[0].set_title(\"Loss function on the first epoch\")\n",
        "sns.lineplot(x = [list[i][1] for i in range(6)] , y = [list[i][2] for i in range(6)], ax = axs[0])\n",
        "axs[1].set_title(\"Loss function on the second epoch\")\n",
        "sns.lineplot(x = [list[i][1] for i in range(6,len(list))] , y = [list[i][2] for i in range(6,len(list))], ax = axs[1])\n",
        "plt.tight_layout()"
      ],
      "execution_count": 31,
      "outputs": [
        {
          "output_type": "display_data",
          "data": {
            "image/png": "[encoded data removed]",
            "text/plain": [
              "<Figure size 720x360 with 2 Axes>"
            ]
          },
          "metadata": {
            "tags": [],
            "needs_background": "light"
          }
        }
      ]
    }
  ]
}