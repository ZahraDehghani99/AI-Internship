{
  "nbformat": 4,
  "nbformat_minor": 0,
  "metadata": {
    "colab": {
      "name": "NamedEntityRecognition.ipynb",
      "provenance": [],
      "collapsed_sections": [],
      "toc_visible": true
    },
    "kernelspec": {
      "name": "python3",
      "display_name": "Python 3"
    },
    "language_info": {
      "name": "python"
    }
  },
  "cells": [
    {
      "cell_type": "markdown",
      "metadata": {
        "id": "_pn7whCTPkkU"
      },
      "source": [
        "# Named Entity Recognition"
      ]
    },
    {
      "cell_type": "code",
      "metadata": {
        "colab": {
          "base_uri": "https://localhost:8080/"
        },
        "id": "khjvN4PmVAqZ",
        "outputId": "c5b5519d-8797-42fe-996a-7c27f19a4f08"
      },
      "source": [
        "!pip install parsivar"
      ],
      "execution_count": 1,
      "outputs": [
        {
          "output_type": "stream",
          "name": "stdout",
          "text": [
            "Requirement already satisfied: parsivar in /usr/local/lib/python3.7/dist-packages (0.2.3)\n",
            "Requirement already satisfied: nltk==3.4.5 in /usr/local/lib/python3.7/dist-packages (from parsivar) (3.4.5)\n",
            "Requirement already satisfied: six in /usr/local/lib/python3.7/dist-packages (from nltk==3.4.5->parsivar) (1.15.0)\n"
          ]
        }
      ]
    },
    {
      "cell_type": "code",
      "metadata": {
        "colab": {
          "base_uri": "https://localhost:8080/"
        },
        "id": "mPhHXBIWU3RV",
        "outputId": "480b756f-cd8a-491f-ec2b-5e5d682d5381"
      },
      "source": [
        "# Loading NLTk\n",
        "import nltk\n",
        "nltk.download('punkt')\n",
        "nltk.download('averaged_perceptron_tagger')\n",
        "nltk.download('maxent_ne_chunker')\n",
        "nltk.download('words')"
      ],
      "execution_count": 2,
      "outputs": [
        {
          "output_type": "stream",
          "name": "stderr",
          "text": [
            "[nltk_data] Downloading package punkt to /root/nltk_data...\n",
            "[nltk_data]   Package punkt is already up-to-date!\n",
            "[nltk_data] Downloading package averaged_perceptron_tagger to\n",
            "[nltk_data]     /root/nltk_data...\n",
            "[nltk_data]   Package averaged_perceptron_tagger is already up-to-\n",
            "[nltk_data]       date!\n",
            "[nltk_data] Downloading package maxent_ne_chunker to\n",
            "[nltk_data]     /root/nltk_data...\n",
            "[nltk_data]   Package maxent_ne_chunker is already up-to-date!\n",
            "[nltk_data] Downloading package words to /root/nltk_data...\n",
            "[nltk_data]   Package words is already up-to-date!\n"
          ]
        },
        {
          "output_type": "execute_result",
          "data": {
            "text/plain": [
              "True"
            ]
          },
          "metadata": {},
          "execution_count": 2
        }
      ]
    },
    {
      "cell_type": "code",
      "metadata": {
        "id": "BFLe5AaOVLO6"
      },
      "source": [
        "import warnings\n",
        "warnings.filterwarnings('ignore')"
      ],
      "execution_count": 3,
      "outputs": []
    },
    {
      "cell_type": "code",
      "metadata": {
        "colab": {
          "base_uri": "https://localhost:8080/"
        },
        "id": "k54qImGUvoSX",
        "outputId": "54e3ee92-5230-4dfc-e9e1-9e52f235ec06"
      },
      "source": [
        "from google.colab import drive\n",
        "drive.mount('/content/drive')"
      ],
      "execution_count": 4,
      "outputs": [
        {
          "output_type": "stream",
          "name": "stdout",
          "text": [
            "Drive already mounted at /content/drive; to attempt to forcibly remount, call drive.mount(\"/content/drive\", force_remount=True).\n"
          ]
        }
      ]
    },
    {
      "cell_type": "code",
      "metadata": {
        "colab": {
          "base_uri": "https://localhost:8080/"
        },
        "id": "9rU_bSwiVdky",
        "outputId": "ecca941c-063c-47cd-e7cc-0cc094f99756"
      },
      "source": [
        "from nltk.tokenize import word_tokenize\n",
        "from nltk.tag import pos_tag\n",
        "\n",
        "ex = 'my name is Ali and I live in Iran'\n",
        "entities = nltk.ne_chunk(pos_tag(word_tokenize(ex)))\n",
        "print(entities)"
      ],
      "execution_count": 5,
      "outputs": [
        {
          "output_type": "stream",
          "name": "stdout",
          "text": [
            "(S\n",
            "  my/PRP$\n",
            "  name/NN\n",
            "  is/VBZ\n",
            "  (PERSON Ali/NNP)\n",
            "  and/CC\n",
            "  I/PRP\n",
            "  live/VBP\n",
            "  in/IN\n",
            "  (GPE Iran/NNP))\n"
          ]
        }
      ]
    },
    {
      "cell_type": "markdown",
      "metadata": {
        "id": "IQxsh5MaRry9"
      },
      "source": [
        "As we see, nltk can't recognize named entity in persian."
      ]
    },
    {
      "cell_type": "code",
      "metadata": {
        "colab": {
          "base_uri": "https://localhost:8080/"
        },
        "id": "NHDTXAwkVdbm",
        "outputId": "679d8d49-8c33-4ecd-9a19-eed8da75ef6a"
      },
      "source": [
        "ex = 'من علی هستم و در ایران زندگی می کنم'\n",
        "entities = nltk.ne_chunk(pos_tag(word_tokenize(ex)))\n",
        "print(entities)"
      ],
      "execution_count": 6,
      "outputs": [
        {
          "output_type": "stream",
          "name": "stdout",
          "text": [
            "(S\n",
            "  من/JJ\n",
            "  (ORGANIZATION علی/NNP)\n",
            "  هستم/NNP\n",
            "  و/NNP\n",
            "  در/NNP\n",
            "  ایران/NNP\n",
            "  زندگی/NNP\n",
            "  می/NNP\n",
            "  کنم/NN)\n"
          ]
        }
      ]
    },
    {
      "cell_type": "markdown",
      "metadata": {
        "id": "JM39miM1YTO9"
      },
      "source": [
        "## NER with lookup tables"
      ]
    },
    {
      "cell_type": "code",
      "metadata": {
        "id": "ofjTm_ifvifL"
      },
      "source": [
        "import pandas as pd\n",
        "country = pd.read_csv('/content/drive/MyDrive/AI-Internship/country_list.csv', header = None)"
      ],
      "execution_count": 7,
      "outputs": []
    },
    {
      "cell_type": "code",
      "metadata": {
        "colab": {
          "base_uri": "https://localhost:8080/",
          "height": 206
        },
        "id": "ni6-5NZiwJHK",
        "outputId": "d9e0c384-4860-4817-aa9e-e26186c5aeb3"
      },
      "source": [
        "country.head()"
      ],
      "execution_count": 8,
      "outputs": [
        {
          "output_type": "execute_result",
          "data": {
            "text/html": [
              "<div>\n",
              "<style scoped>\n",
              "    .dataframe tbody tr th:only-of-type {\n",
              "        vertical-align: middle;\n",
              "    }\n",
              "\n",
              "    .dataframe tbody tr th {\n",
              "        vertical-align: top;\n",
              "    }\n",
              "\n",
              "    .dataframe thead th {\n",
              "        text-align: right;\n",
              "    }\n",
              "</style>\n",
              "<table border=\"1\" class=\"dataframe\">\n",
              "  <thead>\n",
              "    <tr style=\"text-align: right;\">\n",
              "      <th></th>\n",
              "      <th>0</th>\n",
              "    </tr>\n",
              "  </thead>\n",
              "  <tbody>\n",
              "    <tr>\n",
              "      <th>0</th>\n",
              "      <td>1 'AFG' 'افغانستان'</td>\n",
              "    </tr>\n",
              "    <tr>\n",
              "      <th>1</th>\n",
              "      <td>2 'ALA' 'جزایر آلند'</td>\n",
              "    </tr>\n",
              "    <tr>\n",
              "      <th>2</th>\n",
              "      <td>3 'ALB' 'آلبانی'</td>\n",
              "    </tr>\n",
              "    <tr>\n",
              "      <th>3</th>\n",
              "      <td>4 'DZA' 'الجزایر'</td>\n",
              "    </tr>\n",
              "    <tr>\n",
              "      <th>4</th>\n",
              "      <td>5 'ASM' 'ساموای آمریکا'</td>\n",
              "    </tr>\n",
              "  </tbody>\n",
              "</table>\n",
              "</div>"
            ],
            "text/plain": [
              "                         0\n",
              "0      1 'AFG' 'افغانستان'\n",
              "1     2 'ALA' 'جزایر آلند'\n",
              "2         3 'ALB' 'آلبانی'\n",
              "3        4 'DZA' 'الجزایر'\n",
              "4  5 'ASM' 'ساموای آمریکا'"
            ]
          },
          "metadata": {},
          "execution_count": 8
        }
      ]
    },
    {
      "cell_type": "code",
      "metadata": {
        "colab": {
          "base_uri": "https://localhost:8080/"
        },
        "id": "XiSTpHciY8AH",
        "outputId": "a565e89b-f0a2-4329-8db2-29818ddf7cd6"
      },
      "source": [
        "print(f'country shape : {country.shape}')"
      ],
      "execution_count": 9,
      "outputs": [
        {
          "output_type": "stream",
          "name": "stdout",
          "text": [
            "country shape : (244, 1)\n"
          ]
        }
      ]
    },
    {
      "cell_type": "code",
      "metadata": {
        "colab": {
          "base_uri": "https://localhost:8080/"
        },
        "id": "U3sgBPXn5vuB",
        "outputId": "ac84d5b3-6cd8-4009-fd94-10d8d9888fbf"
      },
      "source": [
        "country.columns"
      ],
      "execution_count": 10,
      "outputs": [
        {
          "output_type": "execute_result",
          "data": {
            "text/plain": [
              "Int64Index([0], dtype='int64')"
            ]
          },
          "metadata": {},
          "execution_count": 10
        }
      ]
    },
    {
      "cell_type": "code",
      "metadata": {
        "colab": {
          "base_uri": "https://localhost:8080/"
        },
        "id": "Nr4zOFnU5fKk",
        "outputId": "48371fb2-5348-4b4b-a7ae-74c743936faf"
      },
      "source": [
        "print(country[0][0])"
      ],
      "execution_count": 11,
      "outputs": [
        {
          "output_type": "stream",
          "name": "stdout",
          "text": [
            "1 'AFG' 'افغانستان'\n"
          ]
        }
      ]
    },
    {
      "cell_type": "code",
      "metadata": {
        "colab": {
          "base_uri": "https://localhost:8080/"
        },
        "id": "Ix4-K0wk5-Q6",
        "outputId": "ec6c2f74-fe1b-442b-fe5d-a7fb519a0724"
      },
      "source": [
        "country[0][0].split()"
      ],
      "execution_count": 12,
      "outputs": [
        {
          "output_type": "execute_result",
          "data": {
            "text/plain": [
              "['1', \"'AFG'\", \"'افغانستان'\"]"
            ]
          },
          "metadata": {},
          "execution_count": 12
        }
      ]
    },
    {
      "cell_type": "code",
      "metadata": {
        "colab": {
          "base_uri": "https://localhost:8080/",
          "height": 36
        },
        "id": "TF1XaNONpmfb",
        "outputId": "537b6231-5f2d-4464-b493-5585285ec723"
      },
      "source": [
        "country[0][0].split()[2]"
      ],
      "execution_count": 16,
      "outputs": [
        {
          "output_type": "execute_result",
          "data": {
            "application/vnd.google.colaboratory.intrinsic+json": {
              "type": "string"
            },
            "text/plain": [
              "\"'افغانستان'\""
            ]
          },
          "metadata": {},
          "execution_count": 16
        }
      ]
    },
    {
      "cell_type": "markdown",
      "metadata": {
        "id": "UeX_y1supsRp"
      },
      "source": [
        "because we want to remove the first and end quotation we slice this string and use [1:-1]"
      ]
    },
    {
      "cell_type": "code",
      "metadata": {
        "colab": {
          "base_uri": "https://localhost:8080/",
          "height": 36
        },
        "id": "DdmDbHfSowCC",
        "outputId": "9a1c11a2-6385-48f6-9bab-8402547a5f4e"
      },
      "source": [
        "country[0][0].split()[2][1:-1]"
      ],
      "execution_count": 15,
      "outputs": [
        {
          "output_type": "execute_result",
          "data": {
            "application/vnd.google.colaboratory.intrinsic+json": {
              "type": "string"
            },
            "text/plain": [
              "'افغانستان'"
            ]
          },
          "metadata": {},
          "execution_count": 15
        }
      ]
    },
    {
      "cell_type": "code",
      "metadata": {
        "colab": {
          "base_uri": "https://localhost:8080/"
        },
        "id": "d0DCNZ1YaH_u",
        "outputId": "e39b296b-d0f3-488a-efa3-98f237619145"
      },
      "source": [
        "en = []\n",
        "fa = []\n",
        "\n",
        "for i in range(country.shape[0]):\n",
        "  en.append(country[0][i].split()[1][1:-1])\n",
        "  fa.append(country[0][i].split()[2][1:-1])\n",
        "\n",
        "print(f'10 elements of en : {en[:10]}')\n",
        "print(f'10 elements of fa : {fa[:10]}')"
      ],
      "execution_count": 17,
      "outputs": [
        {
          "output_type": "stream",
          "name": "stdout",
          "text": [
            "10 elements of en : ['AFG', 'ALA', 'ALB', 'DZA', 'ASM', 'AND', 'AGO', 'AIA', 'ATA', 'ATG']\n",
            "10 elements of fa : ['افغانستان', 'جزای', 'آلبانی', 'الجزایر', 'ساموا', 'آندورا', 'آنگولا', 'آنگویلا', 'جنوبگان', 'آنتیگو']\n"
          ]
        }
      ]
    },
    {
      "cell_type": "markdown",
      "metadata": {
        "id": "VGFy5HGwbMKN"
      },
      "source": [
        "Let's insert two columns to the country dataframe.One for english name of countrie and another for persian name of them."
      ]
    },
    {
      "cell_type": "code",
      "metadata": {
        "id": "JVyCHlVWZym4"
      },
      "source": [
        "country.insert(1, \"en\", en)\n",
        "country.insert(2, \"fa\", fa)"
      ],
      "execution_count": 18,
      "outputs": []
    },
    {
      "cell_type": "code",
      "metadata": {
        "colab": {
          "base_uri": "https://localhost:8080/",
          "height": 206
        },
        "id": "aaIyNgxI6FYj",
        "outputId": "ab0544cd-3147-4a1f-cead-7daca6047ce9"
      },
      "source": [
        "country.head()"
      ],
      "execution_count": 19,
      "outputs": [
        {
          "output_type": "execute_result",
          "data": {
            "text/html": [
              "<div>\n",
              "<style scoped>\n",
              "    .dataframe tbody tr th:only-of-type {\n",
              "        vertical-align: middle;\n",
              "    }\n",
              "\n",
              "    .dataframe tbody tr th {\n",
              "        vertical-align: top;\n",
              "    }\n",
              "\n",
              "    .dataframe thead th {\n",
              "        text-align: right;\n",
              "    }\n",
              "</style>\n",
              "<table border=\"1\" class=\"dataframe\">\n",
              "  <thead>\n",
              "    <tr style=\"text-align: right;\">\n",
              "      <th></th>\n",
              "      <th>0</th>\n",
              "      <th>en</th>\n",
              "      <th>fa</th>\n",
              "    </tr>\n",
              "  </thead>\n",
              "  <tbody>\n",
              "    <tr>\n",
              "      <th>0</th>\n",
              "      <td>1 'AFG' 'افغانستان'</td>\n",
              "      <td>AFG</td>\n",
              "      <td>افغانستان</td>\n",
              "    </tr>\n",
              "    <tr>\n",
              "      <th>1</th>\n",
              "      <td>2 'ALA' 'جزایر آلند'</td>\n",
              "      <td>ALA</td>\n",
              "      <td>جزای</td>\n",
              "    </tr>\n",
              "    <tr>\n",
              "      <th>2</th>\n",
              "      <td>3 'ALB' 'آلبانی'</td>\n",
              "      <td>ALB</td>\n",
              "      <td>آلبانی</td>\n",
              "    </tr>\n",
              "    <tr>\n",
              "      <th>3</th>\n",
              "      <td>4 'DZA' 'الجزایر'</td>\n",
              "      <td>DZA</td>\n",
              "      <td>الجزایر</td>\n",
              "    </tr>\n",
              "    <tr>\n",
              "      <th>4</th>\n",
              "      <td>5 'ASM' 'ساموای آمریکا'</td>\n",
              "      <td>ASM</td>\n",
              "      <td>ساموا</td>\n",
              "    </tr>\n",
              "  </tbody>\n",
              "</table>\n",
              "</div>"
            ],
            "text/plain": [
              "                         0   en         fa\n",
              "0      1 'AFG' 'افغانستان'  AFG  افغانستان\n",
              "1     2 'ALA' 'جزایر آلند'  ALA       جزای\n",
              "2         3 'ALB' 'آلبانی'  ALB     آلبانی\n",
              "3        4 'DZA' 'الجزایر'  DZA    الجزایر\n",
              "4  5 'ASM' 'ساموای آمریکا'  ASM      ساموا"
            ]
          },
          "metadata": {},
          "execution_count": 19
        }
      ]
    },
    {
      "cell_type": "code",
      "metadata": {
        "id": "Zy-Ou7v3Zkqq"
      },
      "source": [
        "country.drop([0], axis=1, inplace=True)"
      ],
      "execution_count": 20,
      "outputs": []
    },
    {
      "cell_type": "code",
      "metadata": {
        "colab": {
          "base_uri": "https://localhost:8080/",
          "height": 206
        },
        "id": "LqR5LkB9c_S7",
        "outputId": "08a19fea-1364-4764-8495-86f6e63c10f3"
      },
      "source": [
        "country.head()"
      ],
      "execution_count": 21,
      "outputs": [
        {
          "output_type": "execute_result",
          "data": {
            "text/html": [
              "<div>\n",
              "<style scoped>\n",
              "    .dataframe tbody tr th:only-of-type {\n",
              "        vertical-align: middle;\n",
              "    }\n",
              "\n",
              "    .dataframe tbody tr th {\n",
              "        vertical-align: top;\n",
              "    }\n",
              "\n",
              "    .dataframe thead th {\n",
              "        text-align: right;\n",
              "    }\n",
              "</style>\n",
              "<table border=\"1\" class=\"dataframe\">\n",
              "  <thead>\n",
              "    <tr style=\"text-align: right;\">\n",
              "      <th></th>\n",
              "      <th>en</th>\n",
              "      <th>fa</th>\n",
              "    </tr>\n",
              "  </thead>\n",
              "  <tbody>\n",
              "    <tr>\n",
              "      <th>0</th>\n",
              "      <td>AFG</td>\n",
              "      <td>افغانستان</td>\n",
              "    </tr>\n",
              "    <tr>\n",
              "      <th>1</th>\n",
              "      <td>ALA</td>\n",
              "      <td>جزای</td>\n",
              "    </tr>\n",
              "    <tr>\n",
              "      <th>2</th>\n",
              "      <td>ALB</td>\n",
              "      <td>آلبانی</td>\n",
              "    </tr>\n",
              "    <tr>\n",
              "      <th>3</th>\n",
              "      <td>DZA</td>\n",
              "      <td>الجزایر</td>\n",
              "    </tr>\n",
              "    <tr>\n",
              "      <th>4</th>\n",
              "      <td>ASM</td>\n",
              "      <td>ساموا</td>\n",
              "    </tr>\n",
              "  </tbody>\n",
              "</table>\n",
              "</div>"
            ],
            "text/plain": [
              "    en         fa\n",
              "0  AFG  افغانستان\n",
              "1  ALA       جزای\n",
              "2  ALB     آلبانی\n",
              "3  DZA    الجزایر\n",
              "4  ASM      ساموا"
            ]
          },
          "metadata": {},
          "execution_count": 21
        }
      ]
    },
    {
      "cell_type": "code",
      "metadata": {
        "id": "iEta7Y4odCYD"
      },
      "source": [
        "# #Save dataframe\n",
        "# country.to_pickle('/content/drive/MyDrive/AI-Internship/country_lookup')"
      ],
      "execution_count": 22,
      "outputs": []
    },
    {
      "cell_type": "code",
      "metadata": {
        "id": "tWHyO3Zcdp5J"
      },
      "source": [
        "#load the preprocessing dataframe\n",
        "country = pd.read_pickle(r'/content/drive/MyDrive/AI-Internship/country_lookup')"
      ],
      "execution_count": null,
      "outputs": []
    },
    {
      "cell_type": "code",
      "metadata": {
        "colab": {
          "base_uri": "https://localhost:8080/"
        },
        "id": "JsjO5zP6d01f",
        "outputId": "f9438a6a-f800-4bdb-d58c-799b379b3bfe"
      },
      "source": [
        "country.shape"
      ],
      "execution_count": 23,
      "outputs": [
        {
          "output_type": "execute_result",
          "data": {
            "text/plain": [
              "(244, 2)"
            ]
          },
          "metadata": {},
          "execution_count": 23
        }
      ]
    },
    {
      "cell_type": "markdown",
      "metadata": {
        "id": "Qo-XNKG_q3rq"
      },
      "source": [
        "Let's develop NER with lookup tables."
      ]
    },
    {
      "cell_type": "code",
      "metadata": {
        "id": "hEcsqbc5enet"
      },
      "source": [
        "def lookup_model(sentence):\n",
        "  words = sentence.split()\n",
        "  for word in words:\n",
        "    if word in country.fa.values:\n",
        "      return ['GRE', word, \"NNP\"] \n"
      ],
      "execution_count": 26,
      "outputs": []
    },
    {
      "cell_type": "code",
      "metadata": {
        "colab": {
          "base_uri": "https://localhost:8080/"
        },
        "id": "l6EO9o1Pn-D_",
        "outputId": "4941fa5c-4e1a-4499-e41d-ca2bff258268"
      },
      "source": [
        "'ایران' in country.fa.values"
      ],
      "execution_count": 25,
      "outputs": [
        {
          "output_type": "execute_result",
          "data": {
            "text/plain": [
              "True"
            ]
          },
          "metadata": {},
          "execution_count": 25
        }
      ]
    },
    {
      "cell_type": "code",
      "metadata": {
        "colab": {
          "base_uri": "https://localhost:8080/"
        },
        "id": "CAnKHdjInwi-",
        "outputId": "ddc16427-bf92-4355-cfea-0c876f4f4ae6"
      },
      "source": [
        "print(lookup_model('من علی هستم و در ایران زندکی می کنم'))"
      ],
      "execution_count": 27,
      "outputs": [
        {
          "output_type": "stream",
          "name": "stdout",
          "text": [
            "['GRE', 'ایران', 'NNP']\n"
          ]
        }
      ]
    },
    {
      "cell_type": "code",
      "metadata": {
        "id": "sViETIhhq0Zx"
      },
      "source": [
        ""
      ],
      "execution_count": null,
      "outputs": []
    }
  ]
}