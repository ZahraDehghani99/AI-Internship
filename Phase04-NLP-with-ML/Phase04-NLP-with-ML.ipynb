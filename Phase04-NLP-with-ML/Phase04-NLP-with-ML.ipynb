{
 "cells": [
  {
   "cell_type": "markdown",
   "metadata": {},
   "source": [
    "# Sentiment Analysis with Hotel Reviews"
   ]
  },
  {
   "cell_type": "markdown",
   "metadata": {},
   "source": [
    "## Read and Explore data (EDA)"
   ]
  },
  {
   "cell_type": "code",
   "execution_count": 1,
   "metadata": {},
   "outputs": [],
   "source": [
    "import parsivar\n",
    "from parsivar import Normalizer, Tokenizer, FindStems, POSTagger, FindChunks, DependencyParser, SpellCheck "
   ]
  },
  {
   "cell_type": "code",
   "execution_count": 101,
   "metadata": {},
   "outputs": [],
   "source": [
    "import warnings\n",
    "warnings.filterwarnings('ignore')"
   ]
  },
  {
   "cell_type": "code",
   "execution_count": 6,
   "metadata": {},
   "outputs": [],
   "source": [
    "from pandas import read_excel\n",
    "my_sheet = 'Sheet2' # change it to your sheet name, you can find your sheet name at the bottom left of your excel file\n",
    "file_name = r'C:\\Users\\Zahra\\Downloads\\Labeled-Sentences.xlsx' \n",
    "df = read_excel(file_name, sheet_name = my_sheet)"
   ]
  },
  {
   "cell_type": "code",
   "execution_count": 7,
   "metadata": {},
   "outputs": [
    {
     "data": {
      "text/html": [
       "<div>\n",
       "<style scoped>\n",
       "    .dataframe tbody tr th:only-of-type {\n",
       "        vertical-align: middle;\n",
       "    }\n",
       "\n",
       "    .dataframe tbody tr th {\n",
       "        vertical-align: top;\n",
       "    }\n",
       "\n",
       "    .dataframe thead th {\n",
       "        text-align: right;\n",
       "    }\n",
       "</style>\n",
       "<table border=\"1\" class=\"dataframe\">\n",
       "  <thead>\n",
       "    <tr style=\"text-align: right;\">\n",
       "      <th></th>\n",
       "      <th>Unnamed: 0</th>\n",
       "      <th>star</th>\n",
       "      <th>label</th>\n",
       "      <th>good=1</th>\n",
       "      <th>fair=0</th>\n",
       "      <th>excellent=2</th>\n",
       "    </tr>\n",
       "  </thead>\n",
       "  <tbody>\n",
       "    <tr>\n",
       "      <th>0</th>\n",
       "      <td>واقعا هتل خوبی بود...از لحاظ نزدیکی به دریا وم...</td>\n",
       "      <td>5</td>\n",
       "      <td>2</td>\n",
       "      <td>NaN</td>\n",
       "      <td>NaN</td>\n",
       "      <td>NaN</td>\n",
       "    </tr>\n",
       "    <tr>\n",
       "      <th>1</th>\n",
       "      <td>از همه مهمتر پرسنل های خیلی خوبی داشت</td>\n",
       "      <td>5</td>\n",
       "      <td>2</td>\n",
       "      <td>NaN</td>\n",
       "      <td>NaN</td>\n",
       "      <td>NaN</td>\n",
       "    </tr>\n",
       "    <tr>\n",
       "      <th>2</th>\n",
       "      <td>من ب این هتل امتیاز کامل میدم</td>\n",
       "      <td>5</td>\n",
       "      <td>2</td>\n",
       "      <td>NaN</td>\n",
       "      <td>NaN</td>\n",
       "      <td>NaN</td>\n",
       "    </tr>\n",
       "    <tr>\n",
       "      <th>3</th>\n",
       "      <td>از نظر ترانسفر فرودگاهی بسیار عالی برخورد</td>\n",
       "      <td>4</td>\n",
       "      <td>2</td>\n",
       "      <td>NaN</td>\n",
       "      <td>NaN</td>\n",
       "      <td>NaN</td>\n",
       "    </tr>\n",
       "    <tr>\n",
       "      <th>4</th>\n",
       "      <td>پرسنل عالی برخورد رستوران حرف نداشت</td>\n",
       "      <td>4</td>\n",
       "      <td>2</td>\n",
       "      <td>NaN</td>\n",
       "      <td>NaN</td>\n",
       "      <td>NaN</td>\n",
       "    </tr>\n",
       "  </tbody>\n",
       "</table>\n",
       "</div>"
      ],
      "text/plain": [
       "                                          Unnamed: 0  star  label  good=1  \\\n",
       "0  واقعا هتل خوبی بود...از لحاظ نزدیکی به دریا وم...     5      2     NaN   \n",
       "1              از همه مهمتر پرسنل های خیلی خوبی داشت     5      2     NaN   \n",
       "2                     من ب این هتل امتیاز کامل میدم      5      2     NaN   \n",
       "3          از نظر ترانسفر فرودگاهی بسیار عالی برخورد     4      2     NaN   \n",
       "4                پرسنل عالی برخورد رستوران حرف نداشت     4      2     NaN   \n",
       "\n",
       "   fair=0  excellent=2  \n",
       "0     NaN          NaN  \n",
       "1     NaN          NaN  \n",
       "2     NaN          NaN  \n",
       "3     NaN          NaN  \n",
       "4     NaN          NaN  "
      ]
     },
     "execution_count": 7,
     "metadata": {},
     "output_type": "execute_result"
    }
   ],
   "source": [
    "df.head()"
   ]
  },
  {
   "cell_type": "markdown",
   "metadata": {},
   "source": [
    "Description of each columns:\n",
    "\n",
    "Unnamed:0 : people's opinion about hotel (we can change this column name into review to have meaning to us.)\n",
    "\n",
    "star : star of the hotel people say about\n",
    "\n",
    "label : people sentiment about that hotel (1:good, 0:fair, excellent:2)\n",
    "\n",
    "**unnamed:0 is feature and label is target.**"
   ]
  },
  {
   "cell_type": "code",
   "execution_count": 9,
   "metadata": {},
   "outputs": [
    {
     "data": {
      "text/plain": [
       "'واقعا هتل خوبی بود...از لحاظ نزدیکی به دریا ومراکز خرید'"
      ]
     },
     "execution_count": 9,
     "metadata": {},
     "output_type": "execute_result"
    }
   ],
   "source": [
    "df['Unnamed: 0'][0]"
   ]
  },
  {
   "cell_type": "code",
   "execution_count": 10,
   "metadata": {},
   "outputs": [
    {
     "name": "stdout",
     "output_type": "stream",
     "text": [
      "<class 'pandas.core.frame.DataFrame'>\n",
      "RangeIndex: 703 entries, 0 to 702\n",
      "Data columns (total 6 columns):\n",
      "Unnamed: 0     703 non-null object\n",
      "star           703 non-null int64\n",
      "label          703 non-null int64\n",
      "good=1         0 non-null float64\n",
      "fair=0         0 non-null float64\n",
      "excellent=2    0 non-null float64\n",
      "dtypes: float64(3), int64(2), object(1)\n",
      "memory usage: 33.0+ KB\n"
     ]
    }
   ],
   "source": [
    "df.info()"
   ]
  },
  {
   "cell_type": "code",
   "execution_count": 13,
   "metadata": {},
   "outputs": [
    {
     "data": {
      "text/plain": [
       "(703, 6)"
      ]
     },
     "execution_count": 13,
     "metadata": {},
     "output_type": "execute_result"
    }
   ],
   "source": [
    "df.shape"
   ]
  },
  {
   "cell_type": "code",
   "execution_count": 14,
   "metadata": {},
   "outputs": [
    {
     "data": {
      "text/html": [
       "<div>\n",
       "<style scoped>\n",
       "    .dataframe tbody tr th:only-of-type {\n",
       "        vertical-align: middle;\n",
       "    }\n",
       "\n",
       "    .dataframe tbody tr th {\n",
       "        vertical-align: top;\n",
       "    }\n",
       "\n",
       "    .dataframe thead th {\n",
       "        text-align: right;\n",
       "    }\n",
       "</style>\n",
       "<table border=\"1\" class=\"dataframe\">\n",
       "  <thead>\n",
       "    <tr style=\"text-align: right;\">\n",
       "      <th></th>\n",
       "      <th>star</th>\n",
       "      <th>label</th>\n",
       "      <th>good=1</th>\n",
       "      <th>fair=0</th>\n",
       "      <th>excellent=2</th>\n",
       "    </tr>\n",
       "  </thead>\n",
       "  <tbody>\n",
       "    <tr>\n",
       "      <th>count</th>\n",
       "      <td>703.000000</td>\n",
       "      <td>703.000000</td>\n",
       "      <td>0.0</td>\n",
       "      <td>0.0</td>\n",
       "      <td>0.0</td>\n",
       "    </tr>\n",
       "    <tr>\n",
       "      <th>mean</th>\n",
       "      <td>4.278805</td>\n",
       "      <td>1.645804</td>\n",
       "      <td>NaN</td>\n",
       "      <td>NaN</td>\n",
       "      <td>NaN</td>\n",
       "    </tr>\n",
       "    <tr>\n",
       "      <th>std</th>\n",
       "      <td>0.783878</td>\n",
       "      <td>0.738449</td>\n",
       "      <td>NaN</td>\n",
       "      <td>NaN</td>\n",
       "      <td>NaN</td>\n",
       "    </tr>\n",
       "    <tr>\n",
       "      <th>min</th>\n",
       "      <td>1.000000</td>\n",
       "      <td>0.000000</td>\n",
       "      <td>NaN</td>\n",
       "      <td>NaN</td>\n",
       "      <td>NaN</td>\n",
       "    </tr>\n",
       "    <tr>\n",
       "      <th>25%</th>\n",
       "      <td>4.000000</td>\n",
       "      <td>2.000000</td>\n",
       "      <td>NaN</td>\n",
       "      <td>NaN</td>\n",
       "      <td>NaN</td>\n",
       "    </tr>\n",
       "    <tr>\n",
       "      <th>50%</th>\n",
       "      <td>4.000000</td>\n",
       "      <td>2.000000</td>\n",
       "      <td>NaN</td>\n",
       "      <td>NaN</td>\n",
       "      <td>NaN</td>\n",
       "    </tr>\n",
       "    <tr>\n",
       "      <th>75%</th>\n",
       "      <td>5.000000</td>\n",
       "      <td>2.000000</td>\n",
       "      <td>NaN</td>\n",
       "      <td>NaN</td>\n",
       "      <td>NaN</td>\n",
       "    </tr>\n",
       "    <tr>\n",
       "      <th>max</th>\n",
       "      <td>5.000000</td>\n",
       "      <td>2.000000</td>\n",
       "      <td>NaN</td>\n",
       "      <td>NaN</td>\n",
       "      <td>NaN</td>\n",
       "    </tr>\n",
       "  </tbody>\n",
       "</table>\n",
       "</div>"
      ],
      "text/plain": [
       "             star       label  good=1  fair=0  excellent=2\n",
       "count  703.000000  703.000000     0.0     0.0          0.0\n",
       "mean     4.278805    1.645804     NaN     NaN          NaN\n",
       "std      0.783878    0.738449     NaN     NaN          NaN\n",
       "min      1.000000    0.000000     NaN     NaN          NaN\n",
       "25%      4.000000    2.000000     NaN     NaN          NaN\n",
       "50%      4.000000    2.000000     NaN     NaN          NaN\n",
       "75%      5.000000    2.000000     NaN     NaN          NaN\n",
       "max      5.000000    2.000000     NaN     NaN          NaN"
      ]
     },
     "execution_count": 14,
     "metadata": {},
     "output_type": "execute_result"
    }
   ],
   "source": [
    "df.describe()"
   ]
  },
  {
   "cell_type": "code",
   "execution_count": 53,
   "metadata": {},
   "outputs": [
    {
     "data": {
      "image/png": "[encoded data removed]",
      "text/plain": [
       "<Figure size 1440x504 with 1 Axes>"
      ]
     },
     "metadata": {
      "needs_background": "light"
     },
     "output_type": "display_data"
    }
   ],
   "source": [
    "import seaborn as sns\n",
    "\n",
    "fig = plt.figure(figsize =(20, 7))\n",
    "# Creating Box plot\n",
    "ax = sns.boxplot(data=df, orient=\"v\", palette=\"Set2\")\n",
    "plt.title(\"Box Plot for each feature\")\n",
    "plt.show()"
   ]
  },
  {
   "cell_type": "markdown",
   "metadata": {},
   "source": [
    "We should not consider **star** as a feature, because it doesn't get us any extra information. So, our reviews are features and label is target."
   ]
  },
  {
   "cell_type": "code",
   "execution_count": 15,
   "metadata": {},
   "outputs": [
    {
     "data": {
      "text/plain": [
       "2    565\n",
       "0    111\n",
       "1     27\n",
       "Name: label, dtype: int64"
      ]
     },
     "execution_count": 15,
     "metadata": {},
     "output_type": "execute_result"
    }
   ],
   "source": [
    "df.label.value_counts()"
   ]
  },
  {
   "cell_type": "code",
   "execution_count": 20,
   "metadata": {},
   "outputs": [
    {
     "data": {
      "image/png": "[encoded data removed]",
      "text/plain": [
       "<Figure size 432x288 with 1 Axes>"
      ]
     },
     "metadata": {
      "needs_background": "light"
     },
     "output_type": "display_data"
    }
   ],
   "source": [
    "# distribution of data in each class\n",
    "distribution = list(df.label.value_counts())\n",
    "\n",
    "import matplotlib.pyplot as plt\n",
    "plt.bar([2, 0, 1] ,distribution)\n",
    "plt.xlabel(\"Label\")\n",
    "plt.ylabel(\"Number of Reviews\")\n",
    "plt.title(\"Distribution of data in each class\")\n",
    "plt.show()"
   ]
  },
  {
   "cell_type": "markdown",
   "metadata": {},
   "source": [
    "As we see, number of reviews in class 2 (excellent) are more than other classes. So it may cause bias in our model.And it's better to have balanced data, but now we don't treat this problem to see the result of models."
   ]
  },
  {
   "cell_type": "code",
   "execution_count": 42,
   "metadata": {},
   "outputs": [
    {
     "data": {
      "text/plain": [
       "'تمیزه، تازه بازسازی شده و همه چی نو به نظر میاد غیر از مبل داخل اتاق ها، اما مبلمان و تخت ها و کمدها خیلی بی کیفیته ممکنه در کمد رو که باز کنین بشکنه'"
      ]
     },
     "execution_count": 42,
     "metadata": {},
     "output_type": "execute_result"
    }
   ],
   "source": [
    "# sample fair review\n",
    "df[df['label']==0].sample(n=1)['Unnamed: 0'].iloc[0]"
   ]
  },
  {
   "cell_type": "code",
   "execution_count": 43,
   "metadata": {},
   "outputs": [
    {
     "data": {
      "text/plain": [
       "' فقط نور اتاقها کم بود ولی اتاق بزرگ و خوبی بهمون دادن'"
      ]
     },
     "execution_count": 43,
     "metadata": {},
     "output_type": "execute_result"
    }
   ],
   "source": [
    "# sample good review\n",
    "df[df['label']==1].sample(n=1)['Unnamed: 0'].iloc[0]"
   ]
  },
  {
   "cell_type": "code",
   "execution_count": 45,
   "metadata": {},
   "outputs": [
    {
     "data": {
      "text/plain": [
       "' خود هتل هم نسبت به سایر هتلهای شمال شیک و مدرن به نظر میرسید '"
      ]
     },
     "execution_count": 45,
     "metadata": {},
     "output_type": "execute_result"
    }
   ],
   "source": [
    "# sample exellent review\n",
    "df[df['label']==2].sample(n=1)['Unnamed: 0'].iloc[0]"
   ]
  },
  {
   "cell_type": "code",
   "execution_count": 60,
   "metadata": {},
   "outputs": [],
   "source": [
    "def data_preprocessing(review):\n",
    "    \n",
    "    # normalizing the text\n",
    "    normalizer = Normalizer()\n",
    "    review = normalizer.normalize(review)\n",
    "    \n",
    "    # spell correction\n",
    "    checker = SpellCheck()\n",
    "    review = checker.spell_corrector(review)\n",
    "    \n",
    "    # sentence segmentation\n",
    "    tokenizer = Tokenizer()\n",
    "    words = tokenizer.tokenize_words(review)\n",
    "    \n",
    "    # stemming \n",
    "    stemmer = FindStems()\n",
    "    review = [stemmer.convert_to_stem(word) for word in words]\n",
    "    \n",
    "    # join words in preprocessed review\n",
    "    review = ' '.join(review)\n",
    "    \n",
    "    return review"
   ]
  },
  {
   "cell_type": "code",
   "execution_count": 61,
   "metadata": {},
   "outputs": [],
   "source": [
    "df['preprocessing_review'] = df['Unnamed: 0'].apply(lambda review: data_preprocessing(review))"
   ]
  },
  {
   "cell_type": "code",
   "execution_count": 62,
   "metadata": {},
   "outputs": [
    {
     "data": {
      "text/html": [
       "<div>\n",
       "<style scoped>\n",
       "    .dataframe tbody tr th:only-of-type {\n",
       "        vertical-align: middle;\n",
       "    }\n",
       "\n",
       "    .dataframe tbody tr th {\n",
       "        vertical-align: top;\n",
       "    }\n",
       "\n",
       "    .dataframe thead th {\n",
       "        text-align: right;\n",
       "    }\n",
       "</style>\n",
       "<table border=\"1\" class=\"dataframe\">\n",
       "  <thead>\n",
       "    <tr style=\"text-align: right;\">\n",
       "      <th></th>\n",
       "      <th>Unnamed: 0</th>\n",
       "      <th>star</th>\n",
       "      <th>label</th>\n",
       "      <th>good=1</th>\n",
       "      <th>fair=0</th>\n",
       "      <th>excellent=2</th>\n",
       "      <th>preprocessing_review</th>\n",
       "    </tr>\n",
       "  </thead>\n",
       "  <tbody>\n",
       "    <tr>\n",
       "      <th>0</th>\n",
       "      <td>واقعا هتل خوبی بود...از لحاظ نزدیکی به دریا وم...</td>\n",
       "      <td>5</td>\n",
       "      <td>2</td>\n",
       "      <td>NaN</td>\n",
       "      <td>NaN</td>\n",
       "      <td>NaN</td>\n",
       "      <td>واقعا هتل خوبی‌بود ... از لحاظ نزدیکی به دریا ...</td>\n",
       "    </tr>\n",
       "    <tr>\n",
       "      <th>1</th>\n",
       "      <td>از همه مهمتر پرسنل های خیلی خوبی داشت</td>\n",
       "      <td>5</td>\n",
       "      <td>2</td>\n",
       "      <td>NaN</td>\n",
       "      <td>NaN</td>\n",
       "      <td>NaN</td>\n",
       "      <td>از همه مهم پرسنل خیلی خوبی داشت&amp;دار</td>\n",
       "    </tr>\n",
       "    <tr>\n",
       "      <th>2</th>\n",
       "      <td>من ب این هتل امتیاز کامل میدم</td>\n",
       "      <td>5</td>\n",
       "      <td>2</td>\n",
       "      <td>NaN</td>\n",
       "      <td>NaN</td>\n",
       "      <td>NaN</td>\n",
       "      <td>من ب این هتل امتیاز کامل مردم</td>\n",
       "    </tr>\n",
       "    <tr>\n",
       "      <th>3</th>\n",
       "      <td>از نظر ترانسفر فرودگاهی بسیار عالی برخورد</td>\n",
       "      <td>4</td>\n",
       "      <td>2</td>\n",
       "      <td>NaN</td>\n",
       "      <td>NaN</td>\n",
       "      <td>NaN</td>\n",
       "      <td>از نظر ترانسفر فرودگاه بسیار عالی برخورد</td>\n",
       "    </tr>\n",
       "    <tr>\n",
       "      <th>4</th>\n",
       "      <td>پرسنل عالی برخورد رستوران حرف نداشت</td>\n",
       "      <td>4</td>\n",
       "      <td>2</td>\n",
       "      <td>NaN</td>\n",
       "      <td>NaN</td>\n",
       "      <td>NaN</td>\n",
       "      <td>پرسنل عالی برخورد رستوران حرف داشت&amp;دار</td>\n",
       "    </tr>\n",
       "  </tbody>\n",
       "</table>\n",
       "</div>"
      ],
      "text/plain": [
       "                                          Unnamed: 0  star  label  good=1  \\\n",
       "0  واقعا هتل خوبی بود...از لحاظ نزدیکی به دریا وم...     5      2     NaN   \n",
       "1              از همه مهمتر پرسنل های خیلی خوبی داشت     5      2     NaN   \n",
       "2                     من ب این هتل امتیاز کامل میدم      5      2     NaN   \n",
       "3          از نظر ترانسفر فرودگاهی بسیار عالی برخورد     4      2     NaN   \n",
       "4                پرسنل عالی برخورد رستوران حرف نداشت     4      2     NaN   \n",
       "\n",
       "   fair=0  excellent=2                               preprocessing_review  \n",
       "0     NaN          NaN  واقعا هتل خوبی‌بود ... از لحاظ نزدیکی به دریا ...  \n",
       "1     NaN          NaN                از همه مهم پرسنل خیلی خوبی داشت&دار  \n",
       "2     NaN          NaN                      من ب این هتل امتیاز کامل مردم  \n",
       "3     NaN          NaN           از نظر ترانسفر فرودگاه بسیار عالی برخورد  \n",
       "4     NaN          NaN             پرسنل عالی برخورد رستوران حرف داشت&دار  "
      ]
     },
     "execution_count": 62,
     "metadata": {},
     "output_type": "execute_result"
    }
   ],
   "source": [
    "df.head()"
   ]
  },
  {
   "cell_type": "code",
   "execution_count": 151,
   "metadata": {},
   "outputs": [],
   "source": [
    "# Save dataframe\n",
    "df.to_pickle(r'C:\\Users\\Zahra\\Downloads\\label_sentiment_preprocess.pkl')"
   ]
  },
  {
   "cell_type": "code",
   "execution_count": 154,
   "metadata": {},
   "outputs": [],
   "source": [
    "# load the preprocessing dataframe\n",
    "# df1 = pd.read_pickle(r'C:\\Users\\Zahra\\Downloads\\label_sentiment_preprocess.pkl')\n",
    "# df1.head()"
   ]
  },
  {
   "cell_type": "code",
   "execution_count": 63,
   "metadata": {},
   "outputs": [
    {
     "data": {
      "text/plain": [
       "'واقعا هتل خوبی\\u200cبود ... از لحاظ نزدیکی به دریا و مرکز خرید'"
      ]
     },
     "execution_count": 63,
     "metadata": {},
     "output_type": "execute_result"
    }
   ],
   "source": [
    "df['preprocessing_review'][0]"
   ]
  },
  {
   "cell_type": "code",
   "execution_count": 65,
   "metadata": {},
   "outputs": [
    {
     "data": {
      "text/html": [
       "<div>\n",
       "<style scoped>\n",
       "    .dataframe tbody tr th:only-of-type {\n",
       "        vertical-align: middle;\n",
       "    }\n",
       "\n",
       "    .dataframe tbody tr th {\n",
       "        vertical-align: top;\n",
       "    }\n",
       "\n",
       "    .dataframe thead th {\n",
       "        text-align: right;\n",
       "    }\n",
       "</style>\n",
       "<table border=\"1\" class=\"dataframe\">\n",
       "  <thead>\n",
       "    <tr style=\"text-align: right;\">\n",
       "      <th></th>\n",
       "      <th>star</th>\n",
       "      <th>preprocessing_review</th>\n",
       "    </tr>\n",
       "  </thead>\n",
       "  <tbody>\n",
       "    <tr>\n",
       "      <th>0</th>\n",
       "      <td>5</td>\n",
       "      <td>واقعا هتل خوبی‌بود ... از لحاظ نزدیکی به دریا ...</td>\n",
       "    </tr>\n",
       "    <tr>\n",
       "      <th>1</th>\n",
       "      <td>5</td>\n",
       "      <td>از همه مهم پرسنل خیلی خوبی داشت&amp;دار</td>\n",
       "    </tr>\n",
       "    <tr>\n",
       "      <th>2</th>\n",
       "      <td>5</td>\n",
       "      <td>من ب این هتل امتیاز کامل مردم</td>\n",
       "    </tr>\n",
       "    <tr>\n",
       "      <th>3</th>\n",
       "      <td>4</td>\n",
       "      <td>از نظر ترانسفر فرودگاه بسیار عالی برخورد</td>\n",
       "    </tr>\n",
       "    <tr>\n",
       "      <th>4</th>\n",
       "      <td>4</td>\n",
       "      <td>پرسنل عالی برخورد رستوران حرف داشت&amp;دار</td>\n",
       "    </tr>\n",
       "  </tbody>\n",
       "</table>\n",
       "</div>"
      ],
      "text/plain": [
       "   star                               preprocessing_review\n",
       "0     5  واقعا هتل خوبی‌بود ... از لحاظ نزدیکی به دریا ...\n",
       "1     5                از همه مهم پرسنل خیلی خوبی داشت&دار\n",
       "2     5                      من ب این هتل امتیاز کامل مردم\n",
       "3     4           از نظر ترانسفر فرودگاه بسیار عالی برخورد\n",
       "4     4             پرسنل عالی برخورد رستوران حرف داشت&دار"
      ]
     },
     "execution_count": 65,
     "metadata": {},
     "output_type": "execute_result"
    }
   ],
   "source": [
    "from sklearn.model_selection import train_test_split\n",
    "\n",
    "data = df.copy()\n",
    "y = data['label'].values\n",
    "data.drop(labels=['Unnamed: 0', 'label', 'good=1', 'fair=0', 'excellent=2'], axis=1, inplace=True) # remove useless columns\n",
    "\n",
    "data.head()"
   ]
  },
  {
   "cell_type": "code",
   "execution_count": 67,
   "metadata": {},
   "outputs": [
    {
     "data": {
      "text/plain": [
       "array([2, 2, 2, 2, 2], dtype=int64)"
      ]
     },
     "execution_count": 67,
     "metadata": {},
     "output_type": "execute_result"
    }
   ],
   "source": [
    "y[:5]"
   ]
  },
  {
   "cell_type": "markdown",
   "metadata": {},
   "source": [
    "### Split train and test dataset"
   ]
  },
  {
   "cell_type": "code",
   "execution_count": 68,
   "metadata": {},
   "outputs": [
    {
     "name": "stdout",
     "output_type": "stream",
     "text": [
      "Train data: (562, 2) (562,)\n",
      "Test data: (141, 2) (141,)\n"
     ]
    }
   ],
   "source": [
    "# split train and test\n",
    "# we set straify to have the same proportion of each class in train and test dataset\n",
    "X_train, X_test, y_train, y_test = train_test_split(data, y, test_size=0.2, stratify=y) \n",
    "\n",
    "print(f'Train data: {X_train.shape} {y_train.shape}')\n",
    "print(f'Test data: {X_test.shape} {y_test.shape}')"
   ]
  },
  {
   "cell_type": "markdown",
   "metadata": {},
   "source": [
    "## Extract Featurs"
   ]
  },
  {
   "cell_type": "markdown",
   "metadata": {},
   "source": [
    "### Bag of words"
   ]
  },
  {
   "cell_type": "code",
   "execution_count": 69,
   "metadata": {},
   "outputs": [
    {
     "name": "stderr",
     "output_type": "stream",
     "text": [
      "[nltk_data] Downloading package punkt to\n",
      "[nltk_data]     C:\\Users\\Zahra\\AppData\\Roaming\\nltk_data...\n",
      "[nltk_data]   Unzipping tokenizers\\punkt.zip.\n"
     ]
    },
    {
     "data": {
      "text/plain": [
       "True"
      ]
     },
     "execution_count": 69,
     "metadata": {},
     "output_type": "execute_result"
    }
   ],
   "source": [
    "# Loading NLTk\n",
    "import nltk\n",
    "nltk.download('punkt')"
   ]
  },
  {
   "cell_type": "code",
   "execution_count": 73,
   "metadata": {},
   "outputs": [
    {
     "name": "stdout",
     "output_type": "stream",
     "text": [
      "X_train_bow shape : (562, 247)\n",
      "X_test_bow shape : (141, 247)\n"
     ]
    }
   ],
   "source": [
    "from sklearn.feature_extraction.text import CountVectorizer\n",
    "\n",
    "# we have used min_df=5 as we only wants those words which occurs at least 5 times in the whole corpus.\n",
    "cv = CountVectorizer(min_df=5)\n",
    "X_train_bow = cv.fit_transform(X_train['preprocessing_review'])\n",
    "X_test_bow = cv.transform(X_test['preprocessing_review'])\n",
    "\n",
    "print(f'X_train_bow shape : {X_train_bow.shape}')\n",
    "print(f'X_test_bow shape : {X_test_bow.shape}')"
   ]
  },
  {
   "cell_type": "code",
   "execution_count": 77,
   "metadata": {},
   "outputs": [
    {
     "data": {
      "text/plain": [
       "scipy.sparse.csr.csr_matrix"
      ]
     },
     "execution_count": 77,
     "metadata": {},
     "output_type": "execute_result"
    }
   ],
   "source": [
    "type(X_train_bow)"
   ]
  },
  {
   "cell_type": "code",
   "execution_count": 78,
   "metadata": {},
   "outputs": [
    {
     "data": {
      "text/plain": [
       "pandas.core.frame.DataFrame"
      ]
     },
     "execution_count": 78,
     "metadata": {},
     "output_type": "execute_result"
    }
   ],
   "source": [
    "type(X_train)"
   ]
  },
  {
   "cell_type": "markdown",
   "metadata": {},
   "source": [
    "### TF-IDF"
   ]
  },
  {
   "cell_type": "code",
   "execution_count": 80,
   "metadata": {},
   "outputs": [
    {
     "name": "stdout",
     "output_type": "stream",
     "text": [
      "X_train_tfidf shape : (562, 247)\n",
      "X_test_tfidf shape : (141, 247)\n"
     ]
    }
   ],
   "source": [
    "from sklearn.feature_extraction.text import TfidfVectorizer\n",
    "\n",
    "tf = TfidfVectorizer(min_df=5)\n",
    "X_train_tfidf = tf.fit_transform(X_train['preprocessing_review'])\n",
    "X_test_tfidf = tf.transform(X_test['preprocessing_review'])\n",
    "\n",
    "print(f'X_train_tfidf shape : {X_train_tfidf.shape}')\n",
    "print(f'X_test_tfidf shape : {X_test_tfidf.shape}')"
   ]
  },
  {
   "cell_type": "markdown",
   "metadata": {},
   "source": [
    "## Model Training"
   ]
  },
  {
   "cell_type": "code",
   "execution_count": 98,
   "metadata": {},
   "outputs": [],
   "source": [
    "#### to do: base model(predict 2 for all of dataset) ###"
   ]
  },
  {
   "cell_type": "markdown",
   "metadata": {},
   "source": [
    "### MultinomialNB (BoW)"
   ]
  },
  {
   "cell_type": "code",
   "execution_count": 83,
   "metadata": {},
   "outputs": [
    {
     "name": "stdout",
     "output_type": "stream",
     "text": [
      "MultinomialNB Accuracy : 0.851063829787234\n"
     ]
    }
   ],
   "source": [
    "from sklearn.naive_bayes import MultinomialNB\n",
    "from sklearn import metrics \n",
    "\n",
    "# model generation using multinomial naive bayes\n",
    "clf_NB = MultinomialNB().fit(X_train_bow, y_train)\n",
    "predicted = clf_NB.predict(X_test_bow)\n",
    "print(f'MultinomialNB Accuracy : {metrics.accuracy_score(y_test, predicted)}')"
   ]
  },
  {
   "cell_type": "code",
   "execution_count": 84,
   "metadata": {},
   "outputs": [
    {
     "name": "stdout",
     "output_type": "stream",
     "text": [
      "              precision    recall  f1-score   support\n",
      "\n",
      "           0       0.62      0.59      0.60        22\n",
      "           1       0.00      0.00      0.00         6\n",
      "           2       0.90      0.95      0.92       113\n",
      "\n",
      "    accuracy                           0.85       141\n",
      "   macro avg       0.51      0.51      0.51       141\n",
      "weighted avg       0.82      0.85      0.83       141\n",
      "\n"
     ]
    }
   ],
   "source": [
    "from sklearn.metrics import classification_report\n",
    "\n",
    "print(classification_report(y_test, predicted))"
   ]
  },
  {
   "cell_type": "code",
   "execution_count": 93,
   "metadata": {},
   "outputs": [],
   "source": [
    "from sklearn import metrics\n",
    "import numpy as np\n",
    "import pandas as pd\n",
    "\n",
    "#define a fuction for confusion matrix\n",
    "def confusion_matrix(y_test, predicted):\n",
    "\n",
    "    cnf_matrix_NBbow = metrics.confusion_matrix(y_test, predicted)\n",
    "    class_names=[0,1,2] # name  of classes\n",
    "    fig, ax = plt.subplots()\n",
    "    tick_marks = np.arange(len(class_names))\n",
    "    plt.xticks(tick_marks, class_names)\n",
    "    plt.yticks(tick_marks, class_names)\n",
    "    # create heatmap\n",
    "    sns.heatmap(pd.DataFrame(cnf_matrix_NBbow), annot=True, cmap=\"YlGnBu\" ,fmt='g')\n",
    "    ax.xaxis.set_label_position(\"top\")\n",
    "    plt.tight_layout()\n",
    "    plt.title('Confusion matrix', y=1.1)\n",
    "    plt.ylabel('Actual label')\n",
    "    plt.xlabel('Predicted label')\n",
    "    plt.show()"
   ]
  },
  {
   "cell_type": "code",
   "execution_count": 94,
   "metadata": {},
   "outputs": [
    {
     "data": {
      "image/png": "[encoded data removed]",
      "text/plain": [
       "<Figure size 432x288 with 2 Axes>"
      ]
     },
     "metadata": {
      "needs_background": "light"
     },
     "output_type": "display_data"
    }
   ],
   "source": [
    "confusion_matrix(y_test, predicted)    "
   ]
  },
  {
   "cell_type": "markdown",
   "metadata": {},
   "source": [
    "### MultinomialNB (TF-IDF)"
   ]
  },
  {
   "cell_type": "code",
   "execution_count": 85,
   "metadata": {},
   "outputs": [
    {
     "name": "stdout",
     "output_type": "stream",
     "text": [
      "MultinomialNB Accuracy (TF-IDF) : 0.8581560283687943\n"
     ]
    }
   ],
   "source": [
    "from sklearn.naive_bayes import MultinomialNB\n",
    "from sklearn import metrics \n",
    "\n",
    "# model generation using multinomial naive bayes\n",
    "clf_NB_tfidf = MultinomialNB().fit(X_train_tfidf, y_train)\n",
    "predicted_NB_tfidf = clf_NB_tfidf.predict(X_test_tfidf)\n",
    "print(f'MultinomialNB Accuracy (TF-IDF) : {metrics.accuracy_score(y_test, predicted_NB_tfidf)}')"
   ]
  },
  {
   "cell_type": "code",
   "execution_count": 86,
   "metadata": {},
   "outputs": [
    {
     "name": "stdout",
     "output_type": "stream",
     "text": [
      "              precision    recall  f1-score   support\n",
      "\n",
      "           0       0.90      0.41      0.56        22\n",
      "           1       0.00      0.00      0.00         6\n",
      "           2       0.85      0.99      0.92       113\n",
      "\n",
      "    accuracy                           0.86       141\n",
      "   macro avg       0.58      0.47      0.49       141\n",
      "weighted avg       0.83      0.86      0.82       141\n",
      "\n"
     ]
    },
    {
     "name": "stderr",
     "output_type": "stream",
     "text": [
      "C:\\Users\\Zahra\\Anaconda3\\lib\\site-packages\\sklearn\\metrics\\classification.py:1437: UndefinedMetricWarning: Precision and F-score are ill-defined and being set to 0.0 in labels with no predicted samples.\n",
      "  'precision', 'predicted', average, warn_for)\n"
     ]
    }
   ],
   "source": [
    "from sklearn.metrics import classification_report\n",
    "\n",
    "print(classification_report(y_test, predicted_NB_tfidf))"
   ]
  },
  {
   "cell_type": "code",
   "execution_count": 92,
   "metadata": {},
   "outputs": [
    {
     "data": {
      "image/png": "[encoded data removed]",
      "text/plain": [
       "<Figure size 432x288 with 2 Axes>"
      ]
     },
     "metadata": {
      "needs_background": "light"
     },
     "output_type": "display_data"
    }
   ],
   "source": [
    "confusion_matrix(y_test, predicted_NB_tfidf) "
   ]
  },
  {
   "cell_type": "markdown",
   "metadata": {},
   "source": [
    "As we see, moltinomialNB model with TF-IDF feature generation method has better accuracy than same model with BoW feature generation method."
   ]
  },
  {
   "cell_type": "markdown",
   "metadata": {},
   "source": [
    "### KNNClassification (BoW)"
   ]
  },
  {
   "cell_type": "code",
   "execution_count": 103,
   "metadata": {},
   "outputs": [
    {
     "data": {
      "text/plain": [
       "GridSearchCV(cv='warn', error_score='raise-deprecating',\n",
       "             estimator=KNeighborsClassifier(algorithm='auto', leaf_size=30,\n",
       "                                            metric='minkowski',\n",
       "                                            metric_params=None, n_jobs=None,\n",
       "                                            n_neighbors=5, p=2,\n",
       "                                            weights='uniform'),\n",
       "             iid='warn', n_jobs=None,\n",
       "             param_grid={'n_neighbors': array([ 3,  4,  5,  6,  7,  8,  9, 10, 11, 12, 13, 14, 15])},\n",
       "             pre_dispatch='2*n_jobs', refit=True, return_train_score=False,\n",
       "             scoring=None, verbose=0)"
      ]
     },
     "execution_count": 103,
     "metadata": {},
     "output_type": "execute_result"
    }
   ],
   "source": [
    "from sklearn.neighbors import KNeighborsClassifier\n",
    "from sklearn.model_selection import GridSearchCV\n",
    "\n",
    "# Select an algorithm\n",
    "algorithm = KNeighborsClassifier()\n",
    "\n",
    "# Select list of possible hyperparameters to search girdsearch into them\n",
    "neighbors = np.arange(3, 16)\n",
    "param_grid  = dict(n_neighbors=neighbors)\n",
    "\n",
    "# Search for best hyperparameters\n",
    "grid_knn_bow = GridSearchCV(estimator=algorithm, param_grid=param_grid)\n",
    "\n",
    "grid_knn_bow.fit(X_train_bow, y_train)"
   ]
  },
  {
   "cell_type": "code",
   "execution_count": 104,
   "metadata": {},
   "outputs": [
    {
     "name": "stdout",
     "output_type": "stream",
     "text": [
      "best score of gird search : 0.8149466192170819\n",
      "best estimator : KNeighborsClassifier(algorithm='auto', leaf_size=30, metric='minkowski',\n",
      "                     metric_params=None, n_jobs=None, n_neighbors=7, p=2,\n",
      "                     weights='uniform')\n",
      "best parameters : {'n_neighbors': 7}\n"
     ]
    }
   ],
   "source": [
    "# Get the results\n",
    "print(f'best score of gird search : {grid_knn_bow.best_score_}')\n",
    "print(f'best estimator : {grid_knn_bow.best_estimator_}')\n",
    "print(f'best parameters : {grid_knn_bow.best_params_}')"
   ]
  },
  {
   "cell_type": "code",
   "execution_count": 106,
   "metadata": {},
   "outputs": [
    {
     "name": "stdout",
     "output_type": "stream",
     "text": [
      "KNNclassifier Accuracy (BoW) : 0.8226950354609929\n"
     ]
    }
   ],
   "source": [
    "predicted_knn_bow = grid_knn_bow.predict(X_test_bow)\n",
    "print(f'KNNclassifier Accuracy (BoW) : {metrics.accuracy_score(y_test, predicted_knn_bow)}')"
   ]
  },
  {
   "cell_type": "code",
   "execution_count": 110,
   "metadata": {},
   "outputs": [
    {
     "name": "stdout",
     "output_type": "stream",
     "text": [
      "              precision    recall  f1-score   support\n",
      "\n",
      "           0       0.55      0.27      0.36        22\n",
      "           1       0.00      0.00      0.00         6\n",
      "           2       0.85      0.97      0.91       113\n",
      "\n",
      "    accuracy                           0.82       141\n",
      "   macro avg       0.46      0.42      0.42       141\n",
      "weighted avg       0.76      0.82      0.78       141\n",
      "\n"
     ]
    }
   ],
   "source": [
    "print(classification_report(y_test, predicted_knn_bow))"
   ]
  },
  {
   "cell_type": "code",
   "execution_count": 111,
   "metadata": {},
   "outputs": [
    {
     "data": {
      "image/png": "[encoded data removed]",
      "text/plain": [
       "<Figure size 432x288 with 2 Axes>"
      ]
     },
     "metadata": {
      "needs_background": "light"
     },
     "output_type": "display_data"
    }
   ],
   "source": [
    "confusion_matrix(y_test, predicted_knn_bow) "
   ]
  },
  {
   "cell_type": "markdown",
   "metadata": {},
   "source": [
    "### KNNClassification (TF-IDF)"
   ]
  },
  {
   "cell_type": "code",
   "execution_count": 112,
   "metadata": {},
   "outputs": [
    {
     "data": {
      "text/plain": [
       "GridSearchCV(cv='warn', error_score='raise-deprecating',\n",
       "             estimator=KNeighborsClassifier(algorithm='auto', leaf_size=30,\n",
       "                                            metric='minkowski',\n",
       "                                            metric_params=None, n_jobs=None,\n",
       "                                            n_neighbors=5, p=2,\n",
       "                                            weights='uniform'),\n",
       "             iid='warn', n_jobs=None,\n",
       "             param_grid={'n_neighbors': array([ 3,  4,  5,  6,  7,  8,  9, 10, 11, 12, 13, 14, 15])},\n",
       "             pre_dispatch='2*n_jobs', refit=True, return_train_score=False,\n",
       "             scoring=None, verbose=0)"
      ]
     },
     "execution_count": 112,
     "metadata": {},
     "output_type": "execute_result"
    }
   ],
   "source": [
    "# Select an algorithm\n",
    "algorithm = KNeighborsClassifier()\n",
    "\n",
    "# Select list of possible hyperparameters to search girdsearch into them\n",
    "neighbors = np.arange(3, 16)\n",
    "param_grid  = dict(n_neighbors=neighbors)\n",
    "\n",
    "# Search for best hyperparameters\n",
    "grid_knn_tfidf = GridSearchCV(estimator=algorithm, param_grid=param_grid)\n",
    "\n",
    "grid_knn_tfidf.fit(X_train_tfidf, y_train)"
   ]
  },
  {
   "cell_type": "code",
   "execution_count": 113,
   "metadata": {},
   "outputs": [
    {
     "name": "stdout",
     "output_type": "stream",
     "text": [
      "best score of gird search : 0.8469750889679716\n",
      "best estimator : KNeighborsClassifier(algorithm='auto', leaf_size=30, metric='minkowski',\n",
      "                     metric_params=None, n_jobs=None, n_neighbors=5, p=2,\n",
      "                     weights='uniform')\n",
      "best parameters : {'n_neighbors': 5}\n"
     ]
    }
   ],
   "source": [
    "# Get the results\n",
    "print(f'best score of gird search : {grid_knn_tfidf.best_score_}')\n",
    "print(f'best estimator : {grid_knn_tfidf.best_estimator_}')\n",
    "print(f'best parameters : {grid_knn_tfidf.best_params_}')"
   ]
  },
  {
   "cell_type": "code",
   "execution_count": 115,
   "metadata": {},
   "outputs": [
    {
     "name": "stdout",
     "output_type": "stream",
     "text": [
      "KNNclassifier Accuracy (TF-IDF) : 0.851063829787234\n"
     ]
    }
   ],
   "source": [
    "predicted_knn_tfidf = grid_knn_tfidf.predict(X_test_tfidf)\n",
    "print(f'KNNclassifier Accuracy (TF-IDF) : {metrics.accuracy_score(y_test, predicted_knn_tfidf)}')"
   ]
  },
  {
   "cell_type": "code",
   "execution_count": 121,
   "metadata": {},
   "outputs": [
    {
     "name": "stdout",
     "output_type": "stream",
     "text": [
      "              precision    recall  f1-score   support\n",
      "\n",
      "           0       0.67      0.45      0.54        22\n",
      "           1       0.00      0.00      0.00         6\n",
      "           2       0.89      0.97      0.93       113\n",
      "\n",
      "    accuracy                           0.85       141\n",
      "   macro avg       0.52      0.48      0.49       141\n",
      "weighted avg       0.81      0.85      0.83       141\n",
      "\n"
     ]
    }
   ],
   "source": [
    "print(classification_report(y_test, predicted_knn_tfidf))"
   ]
  },
  {
   "cell_type": "code",
   "execution_count": 116,
   "metadata": {},
   "outputs": [
    {
     "data": {
      "image/png": "[encoded data removed]",
      "text/plain": [
       "<Figure size 432x288 with 2 Axes>"
      ]
     },
     "metadata": {
      "needs_background": "light"
     },
     "output_type": "display_data"
    }
   ],
   "source": [
    "confusion_matrix(y_test, predicted_knn_tfidf) "
   ]
  },
  {
   "cell_type": "markdown",
   "metadata": {},
   "source": [
    "As we see in the results of these four models, the models that train on the dataset with the TF-IDF feature generation method, have better accuracy than others. So, after this, we train our ML models on the dataset with the TF-IDF feature generation method."
   ]
  },
  {
   "cell_type": "markdown",
   "metadata": {},
   "source": [
    "### SVM Classification (TD-IDF)"
   ]
  },
  {
   "cell_type": "code",
   "execution_count": 134,
   "metadata": {},
   "outputs": [
    {
     "data": {
      "text/plain": [
       "GridSearchCV(cv='warn', error_score='raise-deprecating',\n",
       "             estimator=SVC(C=1.0, cache_size=200, class_weight=None, coef0=0.0,\n",
       "                           decision_function_shape='ovr', degree=3,\n",
       "                           gamma='auto_deprecated', kernel='rbf', max_iter=-1,\n",
       "                           probability=False, random_state=None, shrinking=True,\n",
       "                           tol=0.001, verbose=False),\n",
       "             iid='warn', n_jobs=None,\n",
       "             param_grid={'C': [0.1, 1, 10, 100, 1000],\n",
       "                         'decision_function_shape': ['ovr', 'ovo'],\n",
       "                         'gamma': [1, 0.1, 0.01, 0.001, 0.0001],\n",
       "                         'kernel': ['rbf', 'linear', 'sigmoid']},\n",
       "             pre_dispatch='2*n_jobs', refit=True, return_train_score=False,\n",
       "             scoring=None, verbose=0)"
      ]
     },
     "execution_count": 134,
     "metadata": {},
     "output_type": "execute_result"
    }
   ],
   "source": [
    "from sklearn.svm import SVC\n",
    "\n",
    "# defining parameter range\n",
    "# C : regularization parameter\n",
    "param_grid = {'C': [0.1, 1, 10, 100, 1000], \n",
    "              'gamma': [1, 0.1, 0.01, 0.001, 0.0001],\n",
    "              'kernel': ['rbf','linear','sigmoid'],\n",
    "              'decision_function_shape': ['ovr', 'ovo']} \n",
    "\n",
    "grid_svc2 = GridSearchCV(SVC(), param_grid, refit = True)\n",
    "grid_svc2.fit(X_train_tfidf, y_train)"
   ]
  },
  {
   "cell_type": "code",
   "execution_count": 135,
   "metadata": {},
   "outputs": [
    {
     "name": "stdout",
     "output_type": "stream",
     "text": [
      "best score of gird search : 0.8362989323843416\n",
      "best estimator : SVC(C=1, cache_size=200, class_weight=None, coef0=0.0,\n",
      "    decision_function_shape='ovr', degree=3, gamma=1, kernel='linear',\n",
      "    max_iter=-1, probability=False, random_state=None, shrinking=True,\n",
      "    tol=0.001, verbose=False)\n",
      "best parameters : {'C': 1, 'decision_function_shape': 'ovr', 'gamma': 1, 'kernel': 'linear'}\n"
     ]
    }
   ],
   "source": [
    "# Get the results\n",
    "print(f'best score of gird search : {grid_svc2.best_score_}')\n",
    "print(f'best estimator : {grid_svc2.best_estimator_}')\n",
    "print(f'best parameters : {grid_svc2.best_params_}')"
   ]
  },
  {
   "cell_type": "code",
   "execution_count": 136,
   "metadata": {},
   "outputs": [
    {
     "name": "stdout",
     "output_type": "stream",
     "text": [
      "SVC Accuracy (TF-IDF) : 0.851063829787234\n"
     ]
    }
   ],
   "source": [
    "predicted_svc2 = grid_svc2.predict(X_test_tfidf)\n",
    "print(f'SVC Accuracy (TF-IDF) : {metrics.accuracy_score(y_test, predicted_svc2)}')"
   ]
  },
  {
   "cell_type": "code",
   "execution_count": 137,
   "metadata": {},
   "outputs": [
    {
     "name": "stdout",
     "output_type": "stream",
     "text": [
      "              precision    recall  f1-score   support\n",
      "\n",
      "           0       0.77      0.45      0.57        22\n",
      "           1       0.00      0.00      0.00         6\n",
      "           2       0.86      0.97      0.91       113\n",
      "\n",
      "    accuracy                           0.85       141\n",
      "   macro avg       0.54      0.48      0.49       141\n",
      "weighted avg       0.81      0.85      0.82       141\n",
      "\n"
     ]
    }
   ],
   "source": [
    "print(classification_report(y_test, predicted_svc2))"
   ]
  },
  {
   "cell_type": "code",
   "execution_count": 138,
   "metadata": {},
   "outputs": [
    {
     "data": {
      "image/png": "[encoded data removed]",
      "text/plain": [
       "<Figure size 432x288 with 2 Axes>"
      ]
     },
     "metadata": {
      "needs_background": "light"
     },
     "output_type": "display_data"
    }
   ],
   "source": [
    "confusion_matrix(y_test, predicted_svc2) "
   ]
  },
  {
   "cell_type": "markdown",
   "metadata": {},
   "source": [
    "### Decision Tree Classification (TD-IDF)"
   ]
  },
  {
   "cell_type": "code",
   "execution_count": 125,
   "metadata": {},
   "outputs": [
    {
     "data": {
      "text/plain": [
       "GridSearchCV(cv='warn', error_score='raise-deprecating',\n",
       "             estimator=DecisionTreeClassifier(class_weight=None,\n",
       "                                              criterion='gini', max_depth=None,\n",
       "                                              max_features=None,\n",
       "                                              max_leaf_nodes=None,\n",
       "                                              min_impurity_decrease=0.0,\n",
       "                                              min_impurity_split=None,\n",
       "                                              min_samples_leaf=1,\n",
       "                                              min_samples_split=2,\n",
       "                                              min_weight_fraction_leaf=0.0,\n",
       "                                              presort=False, random_state=None,\n",
       "                                              splitter='best'),\n",
       "             iid='warn', n_jobs=None,\n",
       "             param_grid={'criterion': ['gini', 'entropy'],\n",
       "                         'max_depth': [2, 4, 6, 8, 10, 12]},\n",
       "             pre_dispatch='2*n_jobs', refit=True, return_train_score=False,\n",
       "             scoring=None, verbose=0)"
      ]
     },
     "execution_count": 125,
     "metadata": {},
     "output_type": "execute_result"
    }
   ],
   "source": [
    "from sklearn.tree import DecisionTreeClassifier \n",
    "criterion = ['gini', 'entropy']\n",
    "max_depth = [2,4,6,8,10,12]\n",
    "\n",
    "parameters = dict(criterion=criterion, max_depth=max_depth)\n",
    "\n",
    "grid_dt = GridSearchCV(DecisionTreeClassifier(), parameters)\n",
    "grid_dt.fit(X_train_tfidf, y_train)     "
   ]
  },
  {
   "cell_type": "code",
   "execution_count": 129,
   "metadata": {},
   "outputs": [
    {
     "name": "stdout",
     "output_type": "stream",
     "text": [
      "best score of gird search : 0.8309608540925267\n",
      "best estimator : DecisionTreeClassifier(class_weight=None, criterion='entropy', max_depth=6,\n",
      "                       max_features=None, max_leaf_nodes=None,\n",
      "                       min_impurity_decrease=0.0, min_impurity_split=None,\n",
      "                       min_samples_leaf=1, min_samples_split=2,\n",
      "                       min_weight_fraction_leaf=0.0, presort=False,\n",
      "                       random_state=None, splitter='best')\n",
      "best parameters : {'criterion': 'entropy', 'max_depth': 6}\n"
     ]
    }
   ],
   "source": [
    "# Get the results\n",
    "print(f'best score of gird search : {grid_dt.best_score_}')\n",
    "print(f'best estimator : {grid_dt.best_estimator_}')\n",
    "print(f'best parameters : {grid_dt.best_params_}')"
   ]
  },
  {
   "cell_type": "code",
   "execution_count": 131,
   "metadata": {},
   "outputs": [
    {
     "name": "stdout",
     "output_type": "stream",
     "text": [
      "Decision Tree Accuracy (TF-IDF) : 0.8368794326241135\n"
     ]
    }
   ],
   "source": [
    "predicted_dt = grid_dt.predict(X_test_tfidf)\n",
    "print(f'Decision Tree Accuracy (TF-IDF) : {metrics.accuracy_score(y_test, predicted_dt)}')"
   ]
  },
  {
   "cell_type": "code",
   "execution_count": 132,
   "metadata": {},
   "outputs": [
    {
     "name": "stdout",
     "output_type": "stream",
     "text": [
      "              precision    recall  f1-score   support\n",
      "\n",
      "           0       0.75      0.41      0.53        22\n",
      "           1       0.00      0.00      0.00         6\n",
      "           2       0.87      0.96      0.91       113\n",
      "\n",
      "    accuracy                           0.84       141\n",
      "   macro avg       0.54      0.46      0.48       141\n",
      "weighted avg       0.81      0.84      0.81       141\n",
      "\n"
     ]
    }
   ],
   "source": [
    "print(classification_report(y_test, predicted_dt))"
   ]
  },
  {
   "cell_type": "code",
   "execution_count": 133,
   "metadata": {},
   "outputs": [
    {
     "data": {
      "image/png": "[encoded data removed]",
      "text/plain": [
       "<Figure size 432x288 with 2 Axes>"
      ]
     },
     "metadata": {
      "needs_background": "light"
     },
     "output_type": "display_data"
    }
   ],
   "source": [
    "confusion_matrix(y_test, predicted_dt) "
   ]
  },
  {
   "cell_type": "markdown",
   "metadata": {},
   "source": [
    "### Multinomial Logistic Reggresion (TD-IDF)"
   ]
  },
  {
   "cell_type": "code",
   "execution_count": 140,
   "metadata": {},
   "outputs": [
    {
     "data": {
      "text/plain": [
       "GridSearchCV(cv='warn', error_score='raise-deprecating',\n",
       "             estimator=LogisticRegression(C=1.0, class_weight=None, dual=False,\n",
       "                                          fit_intercept=True,\n",
       "                                          intercept_scaling=1, l1_ratio=None,\n",
       "                                          max_iter=100,\n",
       "                                          multi_class='multinomial',\n",
       "                                          n_jobs=None, penalty='l2',\n",
       "                                          random_state=None, solver='warn',\n",
       "                                          tol=0.0001, verbose=0,\n",
       "                                          warm_start=False),\n",
       "             iid='warn', n_jobs=None,\n",
       "             param_grid={'C': [100, 10, 1.0, 0.1, 0.01], 'penalty': ['l2'],\n",
       "                         'solver': ['newton-cg', 'lbfgs', 'sag', 'saga']},\n",
       "             pre_dispatch='2*n_jobs', refit=True, return_train_score=False,\n",
       "             scoring=None, verbose=0)"
      ]
     },
     "execution_count": 140,
     "metadata": {},
     "output_type": "execute_result"
    }
   ],
   "source": [
    "from sklearn.linear_model import LogisticRegression\n",
    "\n",
    "solvers = ['newton-cg', 'lbfgs','sag', 'saga']\n",
    "penalty = ['l2']\n",
    "c_values = [100, 10, 1.0, 0.1, 0.01]\n",
    "\n",
    "parameters = dict(solver=solvers, penalty=penalty, C=c_values)\n",
    "\n",
    "grid_lr = GridSearchCV(LogisticRegression(multi_class='multinomial'), parameters)\n",
    "grid_lr.fit(X_train_tfidf, y_train)     "
   ]
  },
  {
   "cell_type": "code",
   "execution_count": 141,
   "metadata": {},
   "outputs": [
    {
     "name": "stdout",
     "output_type": "stream",
     "text": [
      "best score of gird search : 0.8434163701067615\n",
      "best estimator : LogisticRegression(C=10, class_weight=None, dual=False, fit_intercept=True,\n",
      "                   intercept_scaling=1, l1_ratio=None, max_iter=100,\n",
      "                   multi_class='multinomial', n_jobs=None, penalty='l2',\n",
      "                   random_state=None, solver='saga', tol=0.0001, verbose=0,\n",
      "                   warm_start=False)\n",
      "best parameters : {'C': 10, 'penalty': 'l2', 'solver': 'saga'}\n"
     ]
    }
   ],
   "source": [
    "# Get the results\n",
    "print(f'best score of gird search : {grid_lr.best_score_}')\n",
    "print(f'best estimator : {grid_lr.best_estimator_}')\n",
    "print(f'best parameters : {grid_lr.best_params_}')"
   ]
  },
  {
   "cell_type": "code",
   "execution_count": 142,
   "metadata": {},
   "outputs": [
    {
     "name": "stdout",
     "output_type": "stream",
     "text": [
      "Logistic Regression Accuracy (TF-IDF) : 0.8368794326241135\n"
     ]
    }
   ],
   "source": [
    "predicted_lr = grid_lr.predict(X_test_tfidf)\n",
    "print(f'Logistic Regression Accuracy (TF-IDF) : {metrics.accuracy_score(y_test, predicted_lr)}')"
   ]
  },
  {
   "cell_type": "code",
   "execution_count": 143,
   "metadata": {},
   "outputs": [
    {
     "name": "stdout",
     "output_type": "stream",
     "text": [
      "              precision    recall  f1-score   support\n",
      "\n",
      "           0       0.65      0.50      0.56        22\n",
      "           1       0.00      0.00      0.00         6\n",
      "           2       0.86      0.95      0.90       113\n",
      "\n",
      "    accuracy                           0.84       141\n",
      "   macro avg       0.50      0.48      0.49       141\n",
      "weighted avg       0.79      0.84      0.81       141\n",
      "\n"
     ]
    }
   ],
   "source": [
    "print(classification_report(y_test, predicted_lr))"
   ]
  },
  {
   "cell_type": "code",
   "execution_count": 144,
   "metadata": {},
   "outputs": [
    {
     "data": {
      "image/png": "[encoded data removed]",
      "text/plain": [
       "<Figure size 432x288 with 2 Axes>"
      ]
     },
     "metadata": {
      "needs_background": "light"
     },
     "output_type": "display_data"
    }
   ],
   "source": [
    "confusion_matrix(y_test, predicted_lr) "
   ]
  },
  {
   "cell_type": "markdown",
   "metadata": {},
   "source": [
    "### Random Forest (TD-IDF)"
   ]
  },
  {
   "cell_type": "code",
   "execution_count": 145,
   "metadata": {},
   "outputs": [
    {
     "data": {
      "text/plain": [
       "GridSearchCV(cv='warn', error_score='raise-deprecating',\n",
       "             estimator=RandomForestClassifier(bootstrap=True, class_weight=None,\n",
       "                                              criterion='gini', max_depth=None,\n",
       "                                              max_features='auto',\n",
       "                                              max_leaf_nodes=None,\n",
       "                                              min_impurity_decrease=0.0,\n",
       "                                              min_impurity_split=None,\n",
       "                                              min_samples_leaf=1,\n",
       "                                              min_samples_split=2,\n",
       "                                              min_weight_fraction_leaf=0.0,\n",
       "                                              n_estimators='warn', n_jobs=None,\n",
       "                                              oob_score=False,\n",
       "                                              random_state=None, verbose=0,\n",
       "                                              warm_start=False),\n",
       "             iid='warn', n_jobs=None,\n",
       "             param_grid={'criterion': ['gini', 'entropy'],\n",
       "                         'max_features': ['sqrt', 'log2'],\n",
       "                         'n_estimators': [10, 100, 1000]},\n",
       "             pre_dispatch='2*n_jobs', refit=True, return_train_score=False,\n",
       "             scoring=None, verbose=0)"
      ]
     },
     "execution_count": 145,
     "metadata": {},
     "output_type": "execute_result"
    }
   ],
   "source": [
    "from sklearn.ensemble import RandomForestClassifier\n",
    "\n",
    "n_estimators = [10, 100, 1000]\n",
    "max_features = ['sqrt', 'log2']\n",
    "criterion = ['gini', 'entropy']\n",
    "\n",
    "parameters = dict(n_estimators=n_estimators, max_features=max_features, criterion=criterion)\n",
    "\n",
    "grid_rf = GridSearchCV(RandomForestClassifier(), parameters)\n",
    "grid_rf.fit(X_train_tfidf, y_train)     "
   ]
  },
  {
   "cell_type": "code",
   "execution_count": 146,
   "metadata": {},
   "outputs": [
    {
     "name": "stdout",
     "output_type": "stream",
     "text": [
      "best score of gird search : 0.8434163701067615\n",
      "best estimator : RandomForestClassifier(bootstrap=True, class_weight=None, criterion='gini',\n",
      "                       max_depth=None, max_features='sqrt', max_leaf_nodes=None,\n",
      "                       min_impurity_decrease=0.0, min_impurity_split=None,\n",
      "                       min_samples_leaf=1, min_samples_split=2,\n",
      "                       min_weight_fraction_leaf=0.0, n_estimators=10,\n",
      "                       n_jobs=None, oob_score=False, random_state=None,\n",
      "                       verbose=0, warm_start=False)\n",
      "best parameters : {'criterion': 'gini', 'max_features': 'sqrt', 'n_estimators': 10}\n"
     ]
    }
   ],
   "source": [
    "# Get the results\n",
    "print(f'best score of gird search : {grid_rf.best_score_}')\n",
    "print(f'best estimator : {grid_rf.best_estimator_}')\n",
    "print(f'best parameters : {grid_rf.best_params_}')"
   ]
  },
  {
   "cell_type": "code",
   "execution_count": 147,
   "metadata": {},
   "outputs": [
    {
     "name": "stdout",
     "output_type": "stream",
     "text": [
      "Random Forest Accuracy (TF-IDF) : 0.8652482269503546\n"
     ]
    }
   ],
   "source": [
    "predicted_rf = grid_rf.predict(X_test_tfidf)\n",
    "print(f'Random Forest Accuracy (TF-IDF) : {metrics.accuracy_score(y_test, predicted_rf)}')"
   ]
  },
  {
   "cell_type": "code",
   "execution_count": 148,
   "metadata": {},
   "outputs": [
    {
     "name": "stdout",
     "output_type": "stream",
     "text": [
      "              precision    recall  f1-score   support\n",
      "\n",
      "           0       0.85      0.50      0.63        22\n",
      "           1       0.00      0.00      0.00         6\n",
      "           2       0.87      0.98      0.92       113\n",
      "\n",
      "    accuracy                           0.87       141\n",
      "   macro avg       0.57      0.49      0.52       141\n",
      "weighted avg       0.83      0.87      0.84       141\n",
      "\n"
     ]
    }
   ],
   "source": [
    "print(classification_report(y_test, predicted_rf))"
   ]
  },
  {
   "cell_type": "code",
   "execution_count": 149,
   "metadata": {},
   "outputs": [
    {
     "data": {
      "image/png": "[encoded data removed]",
      "text/plain": [
       "<Figure size 432x288 with 2 Axes>"
      ]
     },
     "metadata": {
      "needs_background": "light"
     },
     "output_type": "display_data"
    }
   ],
   "source": [
    "confusion_matrix(y_test, predicted_rf) "
   ]
  },
  {
   "cell_type": "markdown",
   "metadata": {},
   "source": [
    "Till now, Random forest has better accuracy than other models.\n",
    "\n",
    "**Random Forest > MultinomialNB > KNN = SVC > Decistion Tree = Multinomial Logistic Regression**"
   ]
  },
  {
   "cell_type": "markdown",
   "metadata": {},
   "source": [
    "### XGBoost (TD-IDF) "
   ]
  },
  {
   "cell_type": "code",
   "execution_count": 159,
   "metadata": {},
   "outputs": [
    {
     "name": "stdout",
     "output_type": "stream",
     "text": [
      "Collecting package metadata (current_repodata.json): ...working... done\n",
      "Solving environment: ...working... done\n",
      "\n",
      "# All requested packages already installed.\n",
      "\n",
      "\n",
      "Note: you may need to restart the kernel to use updated packages.\n"
     ]
    }
   ],
   "source": [
    "conda install -c anaconda py-xgboost"
   ]
  },
  {
   "cell_type": "code",
   "execution_count": 160,
   "metadata": {},
   "outputs": [
    {
     "data": {
      "text/plain": [
       "GridSearchCV(cv='warn', error_score='raise-deprecating',\n",
       "             estimator=XGBClassifier(base_score=0.5, bjective='multi:softmax',\n",
       "                                     booster='gbtree', colsample_bylevel=1,\n",
       "                                     colsample_bynode=1, colsample_bytree=1,\n",
       "                                     gamma=0, learning_rate=0.1,\n",
       "                                     max_delta_step=0, max_depth=3,\n",
       "                                     min_child_weight=1, missing=None,\n",
       "                                     n_estimators=100, n_jobs=1, nthread=None,\n",
       "                                     objective='binary:logistic',\n",
       "                                     random_state=0, reg_alpha=0, reg_lambda=1,\n",
       "                                     scale_pos_weight=1, seed=None, silent=None,\n",
       "                                     subsample=1, verbosity=1),\n",
       "             iid='warn', n_jobs=None,\n",
       "             param_grid={'learning_rate': [0.1, 0.01, 0.001],\n",
       "                         'max_depth': [3, 5, 7, 10],\n",
       "                         'n_estimators': [10, 100, 1000]},\n",
       "             pre_dispatch='2*n_jobs', refit=True, return_train_score=False,\n",
       "             scoring=None, verbose=0)"
      ]
     },
     "execution_count": 160,
     "metadata": {},
     "output_type": "execute_result"
    }
   ],
   "source": [
    "import xgboost as xgb\n",
    "\n",
    "n_estimators = [10, 100, 1000]\n",
    "max_depth = [3, 5, 7, 10]\n",
    "learning_rate = [0.1, 0.01, 0.001]\n",
    "\n",
    "parameters = dict(n_estimators =n_estimators, max_depth=max_depth, learning_rate = learning_rate)\n",
    "grid_xgb = GridSearchCV(xgb.XGBClassifier(bjective='multi:softmax'), parameters)\n",
    "grid_xgb.fit(X_train_tfidf, y_train)"
   ]
  },
  {
   "cell_type": "code",
   "execution_count": 161,
   "metadata": {},
   "outputs": [
    {
     "name": "stdout",
     "output_type": "stream",
     "text": [
      "best score of gird search : 0.8505338078291815\n",
      "best estimator : XGBClassifier(base_score=0.5, bjective='multi:softmax', booster='gbtree',\n",
      "              colsample_bylevel=1, colsample_bynode=1, colsample_bytree=1,\n",
      "              gamma=0, learning_rate=0.1, max_delta_step=0, max_depth=5,\n",
      "              min_child_weight=1, missing=None, n_estimators=100, n_jobs=1,\n",
      "              nthread=None, objective='multi:softprob', random_state=0,\n",
      "              reg_alpha=0, reg_lambda=1, scale_pos_weight=1, seed=None,\n",
      "              silent=None, subsample=1, verbosity=1)\n",
      "best parameters : {'learning_rate': 0.1, 'max_depth': 5, 'n_estimators': 100}\n"
     ]
    }
   ],
   "source": [
    "# Get the results\n",
    "print(f'best score of gird search : {grid_xgb.best_score_}')\n",
    "print(f'best estimator : {grid_xgb.best_estimator_}')\n",
    "print(f'best parameters : {grid_xgb.best_params_}')"
   ]
  },
  {
   "cell_type": "code",
   "execution_count": 162,
   "metadata": {},
   "outputs": [
    {
     "name": "stdout",
     "output_type": "stream",
     "text": [
      "XGBoost Accuracy (TF-IDF) : 0.851063829787234\n"
     ]
    }
   ],
   "source": [
    "predicted_xgb = grid_xgb.predict(X_test_tfidf)\n",
    "print(f'XGBoost Accuracy (TF-IDF) : {metrics.accuracy_score(y_test, predicted_xgb)}')"
   ]
  },
  {
   "cell_type": "code",
   "execution_count": 163,
   "metadata": {},
   "outputs": [
    {
     "name": "stdout",
     "output_type": "stream",
     "text": [
      "              precision    recall  f1-score   support\n",
      "\n",
      "           0       0.67      0.45      0.54        22\n",
      "           1       0.00      0.00      0.00         6\n",
      "           2       0.87      0.97      0.92       113\n",
      "\n",
      "    accuracy                           0.85       141\n",
      "   macro avg       0.51      0.48      0.49       141\n",
      "weighted avg       0.80      0.85      0.82       141\n",
      "\n"
     ]
    }
   ],
   "source": [
    "print(classification_report(y_test, predicted_xgb))"
   ]
  },
  {
   "cell_type": "code",
   "execution_count": 164,
   "metadata": {},
   "outputs": [
    {
     "data": {
      "image/png": "[encoded data removed]",
      "text/plain": [
       "<Figure size 432x288 with 2 Axes>"
      ]
     },
     "metadata": {
      "needs_background": "light"
     },
     "output_type": "display_data"
    }
   ],
   "source": [
    "confusion_matrix(y_test, predicted_xgb) "
   ]
  },
  {
   "cell_type": "markdown",
   "metadata": {},
   "source": [
    "### Ensemble Learninig (Voting) (TD-IDF)"
   ]
  },
  {
   "cell_type": "code",
   "execution_count": 165,
   "metadata": {},
   "outputs": [
    {
     "data": {
      "text/plain": [
       "VotingClassifier(estimators=[('knn',\n",
       "                              KNeighborsClassifier(algorithm='auto',\n",
       "                                                   leaf_size=30,\n",
       "                                                   metric='minkowski',\n",
       "                                                   metric_params=None,\n",
       "                                                   n_jobs=None, n_neighbors=5,\n",
       "                                                   p=2, weights='uniform')),\n",
       "                             ('cart',\n",
       "                              DecisionTreeClassifier(class_weight=None,\n",
       "                                                     criterion='entropy',\n",
       "                                                     max_depth=6,\n",
       "                                                     max_features=None,\n",
       "                                                     max_leaf_nodes=None,\n",
       "                                                     min_impurity_decrease=0.0,\n",
       "                                                     min_impurity_split=None,\n",
       "                                                     min_sa...\n",
       "                                                     min_weight_fraction_leaf=0.0,\n",
       "                                                     presort=False,\n",
       "                                                     random_state=None,\n",
       "                                                     splitter='best')),\n",
       "                             ('svm',\n",
       "                              SVC(C=1, cache_size=200, class_weight=None,\n",
       "                                  coef0=0.0, decision_function_shape='ovr',\n",
       "                                  degree=3, gamma=1, kernel='linear',\n",
       "                                  max_iter=-1, probability=False,\n",
       "                                  random_state=None, shrinking=True, tol=0.001,\n",
       "                                  verbose=False))],\n",
       "                 flatten_transform=True, n_jobs=None, voting='hard',\n",
       "                 weights=None)"
      ]
     },
     "execution_count": 165,
     "metadata": {},
     "output_type": "execute_result"
    }
   ],
   "source": [
    "from sklearn.ensemble import VotingClassifier\n",
    "\n",
    "# create the sub models\n",
    "estimators = []\n",
    "model_knn = KNeighborsClassifier(n_neighbors=5)\n",
    "estimators.append(('knn', model_knn))\n",
    "model_dt = DecisionTreeClassifier(criterion= 'entropy', max_depth= 6)\n",
    "estimators.append(('cart', model_dt))\n",
    "model_svc = SVC(C=1, decision_function_shape='ovr', gamma=1, kernel='linear')\n",
    "estimators.append(('svm', model_svc))\n",
    "\n",
    "# create the ensemble model\n",
    "ensemble_vote = VotingClassifier(estimators)\n",
    "ensemble_vote.fit(X_train_tfidf,y_train)"
   ]
  },
  {
   "cell_type": "code",
   "execution_count": 167,
   "metadata": {},
   "outputs": [
    {
     "name": "stdout",
     "output_type": "stream",
     "text": [
      "Voting Accuracy (TF-IDF) : 0.8581560283687943\n"
     ]
    }
   ],
   "source": [
    "predicted_ensvote = ensemble_vote.predict(X_test_tfidf)\n",
    "print(f'Voting Accuracy (TF-IDF) : {metrics.accuracy_score(y_test, predicted_ensvote)}')"
   ]
  },
  {
   "cell_type": "code",
   "execution_count": 168,
   "metadata": {},
   "outputs": [
    {
     "name": "stdout",
     "output_type": "stream",
     "text": [
      "              precision    recall  f1-score   support\n",
      "\n",
      "           0       0.83      0.45      0.59        22\n",
      "           1       0.00      0.00      0.00         6\n",
      "           2       0.86      0.98      0.92       113\n",
      "\n",
      "    accuracy                           0.86       141\n",
      "   macro avg       0.56      0.48      0.50       141\n",
      "weighted avg       0.82      0.86      0.83       141\n",
      "\n"
     ]
    }
   ],
   "source": [
    "print(classification_report(y_test, predicted_ensvote))"
   ]
  },
  {
   "cell_type": "code",
   "execution_count": 169,
   "metadata": {},
   "outputs": [
    {
     "data": {
      "image/png": "[encoded data removed]",
      "text/plain": [
       "<Figure size 432x288 with 2 Axes>"
      ]
     },
     "metadata": {
      "needs_background": "light"
     },
     "output_type": "display_data"
    }
   ],
   "source": [
    "confusion_matrix(y_test, predicted_ensvote) "
   ]
  },
  {
   "cell_type": "markdown",
   "metadata": {},
   "source": [
    "**Random Forest > MultinomialNB = Voting > KNN = SVC =XGBoost > Decistion Tree = Multinomial Logistic Regression**"
   ]
  },
  {
   "cell_type": "markdown",
   "metadata": {},
   "source": [
    "## Model Comparision"
   ]
  },
  {
   "cell_type": "code",
   "execution_count": 170,
   "metadata": {},
   "outputs": [],
   "source": [
    "acc = [0.8581, 0.8510,0.8510,0.8368,0.8368,0.8652, 0.8510,  0.8581]\n",
    "classifier = ['MultinomialNB','KNN','SVC','DT','logistic reg', 'Random Forest','XGBoost', 'Voting']"
   ]
  },
  {
   "cell_type": "code",
   "execution_count": 179,
   "metadata": {},
   "outputs": [
    {
     "data": {
      "image/png": "[encoded data removed]",
      "text/plain": [
       "<Figure size 1440x216 with 1 Axes>"
      ]
     },
     "metadata": {
      "needs_background": "light"
     },
     "output_type": "display_data"
    }
   ],
   "source": [
    "plt.rcParams[\"figure.figsize\"] = (20,3)\n",
    "plt.plot(classifier ,acc)\n",
    "plt.xlabel('Classifier')\n",
    "plt.ylabel('Accuracy')\n",
    "plt.title(\"Model Comparition\")\n",
    "plt.show()"
   ]
  },
  {
   "cell_type": "markdown",
   "metadata": {},
   "source": [
    "According to our data, because distribution of data in each class is not balanced, and most of the data are in the 'good=2' class, our model may have bias. If we construct a baseline model that predicts 2 for every input, the accuracy of this model, becomes about 80%. So, we should treat imbalanced data to get good result.\n",
    "From the results, Random Forest has better accuracy than other models because it's an ensemble learning model.\n"
   ]
  }
 ],
 "metadata": {
  "kernelspec": {
   "display_name": "Python 3",
   "language": "python",
   "name": "python3"
  },
  "language_info": {
   "codemirror_mode": {
    "name": "ipython",
    "version": 3
   },
   "file_extension": ".py",
   "mimetype": "text/x-python",
   "name": "python",
   "nbconvert_exporter": "python",
   "pygments_lexer": "ipython3",
   "version": "3.7.3"
  }
 },
 "nbformat": 4,
 "nbformat_minor": 2
}
