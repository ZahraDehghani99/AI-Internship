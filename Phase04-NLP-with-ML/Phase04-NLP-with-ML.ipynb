{
 "cells": [
  {
   "cell_type": "markdown",
   "metadata": {},
   "source": [
    "# Sentiment Analysis with Hotel Reviews"
   ]
  },
  {
   "cell_type": "markdown",
   "metadata": {},
   "source": [
    "## Read and Explore data (EDA)"
   ]
  },
  {
   "cell_type": "code",
   "execution_count": 1,
   "metadata": {},
   "outputs": [],
   "source": [
    "import parsivar\n",
    "from parsivar import Normalizer, Tokenizer, FindStems, POSTagger, FindChunks, DependencyParser, SpellCheck "
   ]
  },
  {
   "cell_type": "code",
   "execution_count": 6,
   "metadata": {},
   "outputs": [],
   "source": [
    "from pandas import read_excel\n",
    "my_sheet = 'Sheet2' # change it to your sheet name, you can find your sheet name at the bottom left of your excel file\n",
    "file_name = r'C:\\Users\\Zahra\\Downloads\\Labeled-Sentences.xlsx' \n",
    "df = read_excel(file_name, sheet_name = my_sheet)"
   ]
  },
  {
   "cell_type": "code",
   "execution_count": 7,
   "metadata": {},
   "outputs": [
    {
     "data": {
      "text/html": [
       "<div>\n",
       "<style scoped>\n",
       "    .dataframe tbody tr th:only-of-type {\n",
       "        vertical-align: middle;\n",
       "    }\n",
       "\n",
       "    .dataframe tbody tr th {\n",
       "        vertical-align: top;\n",
       "    }\n",
       "\n",
       "    .dataframe thead th {\n",
       "        text-align: right;\n",
       "    }\n",
       "</style>\n",
       "<table border=\"1\" class=\"dataframe\">\n",
       "  <thead>\n",
       "    <tr style=\"text-align: right;\">\n",
       "      <th></th>\n",
       "      <th>Unnamed: 0</th>\n",
       "      <th>star</th>\n",
       "      <th>label</th>\n",
       "      <th>good=1</th>\n",
       "      <th>fair=0</th>\n",
       "      <th>excellent=2</th>\n",
       "    </tr>\n",
       "  </thead>\n",
       "  <tbody>\n",
       "    <tr>\n",
       "      <th>0</th>\n",
       "      <td>واقعا هتل خوبی بود...از لحاظ نزدیکی به دریا وم...</td>\n",
       "      <td>5</td>\n",
       "      <td>2</td>\n",
       "      <td>NaN</td>\n",
       "      <td>NaN</td>\n",
       "      <td>NaN</td>\n",
       "    </tr>\n",
       "    <tr>\n",
       "      <th>1</th>\n",
       "      <td>از همه مهمتر پرسنل های خیلی خوبی داشت</td>\n",
       "      <td>5</td>\n",
       "      <td>2</td>\n",
       "      <td>NaN</td>\n",
       "      <td>NaN</td>\n",
       "      <td>NaN</td>\n",
       "    </tr>\n",
       "    <tr>\n",
       "      <th>2</th>\n",
       "      <td>من ب این هتل امتیاز کامل میدم</td>\n",
       "      <td>5</td>\n",
       "      <td>2</td>\n",
       "      <td>NaN</td>\n",
       "      <td>NaN</td>\n",
       "      <td>NaN</td>\n",
       "    </tr>\n",
       "    <tr>\n",
       "      <th>3</th>\n",
       "      <td>از نظر ترانسفر فرودگاهی بسیار عالی برخورد</td>\n",
       "      <td>4</td>\n",
       "      <td>2</td>\n",
       "      <td>NaN</td>\n",
       "      <td>NaN</td>\n",
       "      <td>NaN</td>\n",
       "    </tr>\n",
       "    <tr>\n",
       "      <th>4</th>\n",
       "      <td>پرسنل عالی برخورد رستوران حرف نداشت</td>\n",
       "      <td>4</td>\n",
       "      <td>2</td>\n",
       "      <td>NaN</td>\n",
       "      <td>NaN</td>\n",
       "      <td>NaN</td>\n",
       "    </tr>\n",
       "  </tbody>\n",
       "</table>\n",
       "</div>"
      ],
      "text/plain": [
       "                                          Unnamed: 0  star  label  good=1  \\\n",
       "0  واقعا هتل خوبی بود...از لحاظ نزدیکی به دریا وم...     5      2     NaN   \n",
       "1              از همه مهمتر پرسنل های خیلی خوبی داشت     5      2     NaN   \n",
       "2                     من ب این هتل امتیاز کامل میدم      5      2     NaN   \n",
       "3          از نظر ترانسفر فرودگاهی بسیار عالی برخورد     4      2     NaN   \n",
       "4                پرسنل عالی برخورد رستوران حرف نداشت     4      2     NaN   \n",
       "\n",
       "   fair=0  excellent=2  \n",
       "0     NaN          NaN  \n",
       "1     NaN          NaN  \n",
       "2     NaN          NaN  \n",
       "3     NaN          NaN  \n",
       "4     NaN          NaN  "
      ]
     },
     "execution_count": 7,
     "metadata": {},
     "output_type": "execute_result"
    }
   ],
   "source": [
    "df.head()"
   ]
  },
  {
   "cell_type": "markdown",
   "metadata": {},
   "source": [
    "Description of each columns:\n",
    "\n",
    "Unnamed:0 : people's opinion about hotel\n",
    "\n",
    "star : star of the hotel people say about\n",
    "\n",
    "label : people sentiment about that hotel (1:good, 0:fair, excellent:2)\n",
    "\n",
    "**unnamed:0 and star are features and label is target.**"
   ]
  },
  {
   "cell_type": "code",
   "execution_count": 9,
   "metadata": {},
   "outputs": [
    {
     "data": {
      "text/plain": [
       "'واقعا هتل خوبی بود...از لحاظ نزدیکی به دریا ومراکز خرید'"
      ]
     },
     "execution_count": 9,
     "metadata": {},
     "output_type": "execute_result"
    }
   ],
   "source": [
    "df['Unnamed: 0'][0]"
   ]
  },
  {
   "cell_type": "code",
   "execution_count": 10,
   "metadata": {},
   "outputs": [
    {
     "name": "stdout",
     "output_type": "stream",
     "text": [
      "<class 'pandas.core.frame.DataFrame'>\n",
      "RangeIndex: 703 entries, 0 to 702\n",
      "Data columns (total 6 columns):\n",
      "Unnamed: 0     703 non-null object\n",
      "star           703 non-null int64\n",
      "label          703 non-null int64\n",
      "good=1         0 non-null float64\n",
      "fair=0         0 non-null float64\n",
      "excellent=2    0 non-null float64\n",
      "dtypes: float64(3), int64(2), object(1)\n",
      "memory usage: 33.0+ KB\n"
     ]
    }
   ],
   "source": [
    "df.info()"
   ]
  },
  {
   "cell_type": "code",
   "execution_count": 13,
   "metadata": {},
   "outputs": [
    {
     "data": {
      "text/plain": [
       "(703, 6)"
      ]
     },
     "execution_count": 13,
     "metadata": {},
     "output_type": "execute_result"
    }
   ],
   "source": [
    "df.shape"
   ]
  },
  {
   "cell_type": "code",
   "execution_count": 14,
   "metadata": {},
   "outputs": [
    {
     "data": {
      "text/html": [
       "<div>\n",
       "<style scoped>\n",
       "    .dataframe tbody tr th:only-of-type {\n",
       "        vertical-align: middle;\n",
       "    }\n",
       "\n",
       "    .dataframe tbody tr th {\n",
       "        vertical-align: top;\n",
       "    }\n",
       "\n",
       "    .dataframe thead th {\n",
       "        text-align: right;\n",
       "    }\n",
       "</style>\n",
       "<table border=\"1\" class=\"dataframe\">\n",
       "  <thead>\n",
       "    <tr style=\"text-align: right;\">\n",
       "      <th></th>\n",
       "      <th>star</th>\n",
       "      <th>label</th>\n",
       "      <th>good=1</th>\n",
       "      <th>fair=0</th>\n",
       "      <th>excellent=2</th>\n",
       "    </tr>\n",
       "  </thead>\n",
       "  <tbody>\n",
       "    <tr>\n",
       "      <th>count</th>\n",
       "      <td>703.000000</td>\n",
       "      <td>703.000000</td>\n",
       "      <td>0.0</td>\n",
       "      <td>0.0</td>\n",
       "      <td>0.0</td>\n",
       "    </tr>\n",
       "    <tr>\n",
       "      <th>mean</th>\n",
       "      <td>4.278805</td>\n",
       "      <td>1.645804</td>\n",
       "      <td>NaN</td>\n",
       "      <td>NaN</td>\n",
       "      <td>NaN</td>\n",
       "    </tr>\n",
       "    <tr>\n",
       "      <th>std</th>\n",
       "      <td>0.783878</td>\n",
       "      <td>0.738449</td>\n",
       "      <td>NaN</td>\n",
       "      <td>NaN</td>\n",
       "      <td>NaN</td>\n",
       "    </tr>\n",
       "    <tr>\n",
       "      <th>min</th>\n",
       "      <td>1.000000</td>\n",
       "      <td>0.000000</td>\n",
       "      <td>NaN</td>\n",
       "      <td>NaN</td>\n",
       "      <td>NaN</td>\n",
       "    </tr>\n",
       "    <tr>\n",
       "      <th>25%</th>\n",
       "      <td>4.000000</td>\n",
       "      <td>2.000000</td>\n",
       "      <td>NaN</td>\n",
       "      <td>NaN</td>\n",
       "      <td>NaN</td>\n",
       "    </tr>\n",
       "    <tr>\n",
       "      <th>50%</th>\n",
       "      <td>4.000000</td>\n",
       "      <td>2.000000</td>\n",
       "      <td>NaN</td>\n",
       "      <td>NaN</td>\n",
       "      <td>NaN</td>\n",
       "    </tr>\n",
       "    <tr>\n",
       "      <th>75%</th>\n",
       "      <td>5.000000</td>\n",
       "      <td>2.000000</td>\n",
       "      <td>NaN</td>\n",
       "      <td>NaN</td>\n",
       "      <td>NaN</td>\n",
       "    </tr>\n",
       "    <tr>\n",
       "      <th>max</th>\n",
       "      <td>5.000000</td>\n",
       "      <td>2.000000</td>\n",
       "      <td>NaN</td>\n",
       "      <td>NaN</td>\n",
       "      <td>NaN</td>\n",
       "    </tr>\n",
       "  </tbody>\n",
       "</table>\n",
       "</div>"
      ],
      "text/plain": [
       "             star       label  good=1  fair=0  excellent=2\n",
       "count  703.000000  703.000000     0.0     0.0          0.0\n",
       "mean     4.278805    1.645804     NaN     NaN          NaN\n",
       "std      0.783878    0.738449     NaN     NaN          NaN\n",
       "min      1.000000    0.000000     NaN     NaN          NaN\n",
       "25%      4.000000    2.000000     NaN     NaN          NaN\n",
       "50%      4.000000    2.000000     NaN     NaN          NaN\n",
       "75%      5.000000    2.000000     NaN     NaN          NaN\n",
       "max      5.000000    2.000000     NaN     NaN          NaN"
      ]
     },
     "execution_count": 14,
     "metadata": {},
     "output_type": "execute_result"
    }
   ],
   "source": [
    "df.describe()"
   ]
  },
  {
   "cell_type": "code",
   "execution_count": 53,
   "metadata": {},
   "outputs": [
    {
     "data": {
      "image/png": "[encoded data removed]",
      "text/plain": [
       "<Figure size 1440x504 with 1 Axes>"
      ]
     },
     "metadata": {
      "needs_background": "light"
     },
     "output_type": "display_data"
    }
   ],
   "source": [
    "import seaborn as sns\n",
    "\n",
    "fig = plt.figure(figsize =(20, 7))\n",
    "# Creating Box plot\n",
    "ax = sns.boxplot(data=df, orient=\"v\", palette=\"Set2\")\n",
    "plt.title(\"Box Plot for each feature\")\n",
    "plt.show()"
   ]
  },
  {
   "cell_type": "markdown",
   "metadata": {},
   "source": [
    "we shoudl treat outlier data.--> star"
   ]
  },
  {
   "cell_type": "code",
   "execution_count": 15,
   "metadata": {},
   "outputs": [
    {
     "data": {
      "text/plain": [
       "2    565\n",
       "0    111\n",
       "1     27\n",
       "Name: label, dtype: int64"
      ]
     },
     "execution_count": 15,
     "metadata": {},
     "output_type": "execute_result"
    }
   ],
   "source": [
    "df.label.value_counts()"
   ]
  },
  {
   "cell_type": "code",
   "execution_count": 20,
   "metadata": {},
   "outputs": [
    {
     "data": {
      "image/png": "[encoded data removed]",
      "text/plain": [
       "<Figure size 432x288 with 1 Axes>"
      ]
     },
     "metadata": {
      "needs_background": "light"
     },
     "output_type": "display_data"
    }
   ],
   "source": [
    "# distribution of data in each class\n",
    "distribution = list(df.label.value_counts())\n",
    "\n",
    "import matplotlib.pyplot as plt\n",
    "plt.bar([2, 0, 1] ,distribution)\n",
    "plt.xlabel(\"Label\")\n",
    "plt.ylabel(\"Number of Reviews\")\n",
    "plt.title(\"Distribution of data in each class\")\n",
    "plt.show()"
   ]
  },
  {
   "cell_type": "markdown",
   "metadata": {},
   "source": [
    "As we see, number of reviews in class 2 (excellent) are more than other classes. So it may cause bias in our model.And it's better to have balanced data, but now we don't treat this problem to see the result of models."
   ]
  },
  {
   "cell_type": "code",
   "execution_count": 42,
   "metadata": {},
   "outputs": [
    {
     "data": {
      "text/plain": [
       "'تمیزه، تازه بازسازی شده و همه چی نو به نظر میاد غیر از مبل داخل اتاق ها، اما مبلمان و تخت ها و کمدها خیلی بی کیفیته ممکنه در کمد رو که باز کنین بشکنه'"
      ]
     },
     "execution_count": 42,
     "metadata": {},
     "output_type": "execute_result"
    }
   ],
   "source": [
    "# sample fair review\n",
    "df[df['label']==0].sample(n=1)['Unnamed: 0'].iloc[0]"
   ]
  },
  {
   "cell_type": "code",
   "execution_count": 43,
   "metadata": {},
   "outputs": [
    {
     "data": {
      "text/plain": [
       "' فقط نور اتاقها کم بود ولی اتاق بزرگ و خوبی بهمون دادن'"
      ]
     },
     "execution_count": 43,
     "metadata": {},
     "output_type": "execute_result"
    }
   ],
   "source": [
    "# sample good review\n",
    "df[df['label']==1].sample(n=1)['Unnamed: 0'].iloc[0]"
   ]
  },
  {
   "cell_type": "code",
   "execution_count": 45,
   "metadata": {},
   "outputs": [
    {
     "data": {
      "text/plain": [
       "' خود هتل هم نسبت به سایر هتلهای شمال شیک و مدرن به نظر میرسید '"
      ]
     },
     "execution_count": 45,
     "metadata": {},
     "output_type": "execute_result"
    }
   ],
   "source": [
    "# sample exellent review\n",
    "df[df['label']==2].sample(n=1)['Unnamed: 0'].iloc[0]"
   ]
  },
  {
   "cell_type": "code",
   "execution_count": 60,
   "metadata": {},
   "outputs": [],
   "source": [
    "def data_preprocessing(review):\n",
    "    \n",
    "    # normalizing the text\n",
    "    normalizer = Normalizer()\n",
    "    review = normalizer.normalize(review)\n",
    "    \n",
    "    # spell correction\n",
    "    checker = SpellCheck()\n",
    "    review = checker.spell_corrector(review)\n",
    "    \n",
    "    # sentence segmentation\n",
    "    tokenizer = Tokenizer()\n",
    "    words = tokenizer.tokenize_words(review)\n",
    "    \n",
    "    # stemming \n",
    "    stemmer = FindStems()\n",
    "    review = [stemmer.convert_to_stem(word) for word in words]\n",
    "    \n",
    "    # join words in preprocessed review\n",
    "    review = ' '.join(review)\n",
    "    \n",
    "    return review"
   ]
  },
  {
   "cell_type": "code",
   "execution_count": 61,
   "metadata": {},
   "outputs": [],
   "source": [
    "df['preprocessing_review'] = df['Unnamed: 0'].apply(lambda review: data_preprocessing(review))"
   ]
  },
  {
   "cell_type": "code",
   "execution_count": 62,
   "metadata": {},
   "outputs": [
    {
     "data": {
      "text/html": [
       "<div>\n",
       "<style scoped>\n",
       "    .dataframe tbody tr th:only-of-type {\n",
       "        vertical-align: middle;\n",
       "    }\n",
       "\n",
       "    .dataframe tbody tr th {\n",
       "        vertical-align: top;\n",
       "    }\n",
       "\n",
       "    .dataframe thead th {\n",
       "        text-align: right;\n",
       "    }\n",
       "</style>\n",
       "<table border=\"1\" class=\"dataframe\">\n",
       "  <thead>\n",
       "    <tr style=\"text-align: right;\">\n",
       "      <th></th>\n",
       "      <th>Unnamed: 0</th>\n",
       "      <th>star</th>\n",
       "      <th>label</th>\n",
       "      <th>good=1</th>\n",
       "      <th>fair=0</th>\n",
       "      <th>excellent=2</th>\n",
       "      <th>preprocessing_review</th>\n",
       "    </tr>\n",
       "  </thead>\n",
       "  <tbody>\n",
       "    <tr>\n",
       "      <th>0</th>\n",
       "      <td>واقعا هتل خوبی بود...از لحاظ نزدیکی به دریا وم...</td>\n",
       "      <td>5</td>\n",
       "      <td>2</td>\n",
       "      <td>NaN</td>\n",
       "      <td>NaN</td>\n",
       "      <td>NaN</td>\n",
       "      <td>واقعا هتل خوبی‌بود ... از لحاظ نزدیکی به دریا ...</td>\n",
       "    </tr>\n",
       "    <tr>\n",
       "      <th>1</th>\n",
       "      <td>از همه مهمتر پرسنل های خیلی خوبی داشت</td>\n",
       "      <td>5</td>\n",
       "      <td>2</td>\n",
       "      <td>NaN</td>\n",
       "      <td>NaN</td>\n",
       "      <td>NaN</td>\n",
       "      <td>از همه مهم پرسنل خیلی خوبی داشت&amp;دار</td>\n",
       "    </tr>\n",
       "    <tr>\n",
       "      <th>2</th>\n",
       "      <td>من ب این هتل امتیاز کامل میدم</td>\n",
       "      <td>5</td>\n",
       "      <td>2</td>\n",
       "      <td>NaN</td>\n",
       "      <td>NaN</td>\n",
       "      <td>NaN</td>\n",
       "      <td>من ب این هتل امتیاز کامل مردم</td>\n",
       "    </tr>\n",
       "    <tr>\n",
       "      <th>3</th>\n",
       "      <td>از نظر ترانسفر فرودگاهی بسیار عالی برخورد</td>\n",
       "      <td>4</td>\n",
       "      <td>2</td>\n",
       "      <td>NaN</td>\n",
       "      <td>NaN</td>\n",
       "      <td>NaN</td>\n",
       "      <td>از نظر ترانسفر فرودگاه بسیار عالی برخورد</td>\n",
       "    </tr>\n",
       "    <tr>\n",
       "      <th>4</th>\n",
       "      <td>پرسنل عالی برخورد رستوران حرف نداشت</td>\n",
       "      <td>4</td>\n",
       "      <td>2</td>\n",
       "      <td>NaN</td>\n",
       "      <td>NaN</td>\n",
       "      <td>NaN</td>\n",
       "      <td>پرسنل عالی برخورد رستوران حرف داشت&amp;دار</td>\n",
       "    </tr>\n",
       "  </tbody>\n",
       "</table>\n",
       "</div>"
      ],
      "text/plain": [
       "                                          Unnamed: 0  star  label  good=1  \\\n",
       "0  واقعا هتل خوبی بود...از لحاظ نزدیکی به دریا وم...     5      2     NaN   \n",
       "1              از همه مهمتر پرسنل های خیلی خوبی داشت     5      2     NaN   \n",
       "2                     من ب این هتل امتیاز کامل میدم      5      2     NaN   \n",
       "3          از نظر ترانسفر فرودگاهی بسیار عالی برخورد     4      2     NaN   \n",
       "4                پرسنل عالی برخورد رستوران حرف نداشت     4      2     NaN   \n",
       "\n",
       "   fair=0  excellent=2                               preprocessing_review  \n",
       "0     NaN          NaN  واقعا هتل خوبی‌بود ... از لحاظ نزدیکی به دریا ...  \n",
       "1     NaN          NaN                از همه مهم پرسنل خیلی خوبی داشت&دار  \n",
       "2     NaN          NaN                      من ب این هتل امتیاز کامل مردم  \n",
       "3     NaN          NaN           از نظر ترانسفر فرودگاه بسیار عالی برخورد  \n",
       "4     NaN          NaN             پرسنل عالی برخورد رستوران حرف داشت&دار  "
      ]
     },
     "execution_count": 62,
     "metadata": {},
     "output_type": "execute_result"
    }
   ],
   "source": [
    "df.head()"
   ]
  },
  {
   "cell_type": "code",
   "execution_count": 63,
   "metadata": {},
   "outputs": [
    {
     "data": {
      "text/plain": [
       "'واقعا هتل خوبی\\u200cبود ... از لحاظ نزدیکی به دریا و مرکز خرید'"
      ]
     },
     "execution_count": 63,
     "metadata": {},
     "output_type": "execute_result"
    }
   ],
   "source": [
    "df['preprocessing_review'][0]"
   ]
  },
  {
   "cell_type": "code",
   "execution_count": 65,
   "metadata": {},
   "outputs": [
    {
     "data": {
      "text/html": [
       "<div>\n",
       "<style scoped>\n",
       "    .dataframe tbody tr th:only-of-type {\n",
       "        vertical-align: middle;\n",
       "    }\n",
       "\n",
       "    .dataframe tbody tr th {\n",
       "        vertical-align: top;\n",
       "    }\n",
       "\n",
       "    .dataframe thead th {\n",
       "        text-align: right;\n",
       "    }\n",
       "</style>\n",
       "<table border=\"1\" class=\"dataframe\">\n",
       "  <thead>\n",
       "    <tr style=\"text-align: right;\">\n",
       "      <th></th>\n",
       "      <th>star</th>\n",
       "      <th>preprocessing_review</th>\n",
       "    </tr>\n",
       "  </thead>\n",
       "  <tbody>\n",
       "    <tr>\n",
       "      <th>0</th>\n",
       "      <td>5</td>\n",
       "      <td>واقعا هتل خوبی‌بود ... از لحاظ نزدیکی به دریا ...</td>\n",
       "    </tr>\n",
       "    <tr>\n",
       "      <th>1</th>\n",
       "      <td>5</td>\n",
       "      <td>از همه مهم پرسنل خیلی خوبی داشت&amp;دار</td>\n",
       "    </tr>\n",
       "    <tr>\n",
       "      <th>2</th>\n",
       "      <td>5</td>\n",
       "      <td>من ب این هتل امتیاز کامل مردم</td>\n",
       "    </tr>\n",
       "    <tr>\n",
       "      <th>3</th>\n",
       "      <td>4</td>\n",
       "      <td>از نظر ترانسفر فرودگاه بسیار عالی برخورد</td>\n",
       "    </tr>\n",
       "    <tr>\n",
       "      <th>4</th>\n",
       "      <td>4</td>\n",
       "      <td>پرسنل عالی برخورد رستوران حرف داشت&amp;دار</td>\n",
       "    </tr>\n",
       "  </tbody>\n",
       "</table>\n",
       "</div>"
      ],
      "text/plain": [
       "   star                               preprocessing_review\n",
       "0     5  واقعا هتل خوبی‌بود ... از لحاظ نزدیکی به دریا ...\n",
       "1     5                از همه مهم پرسنل خیلی خوبی داشت&دار\n",
       "2     5                      من ب این هتل امتیاز کامل مردم\n",
       "3     4           از نظر ترانسفر فرودگاه بسیار عالی برخورد\n",
       "4     4             پرسنل عالی برخورد رستوران حرف داشت&دار"
      ]
     },
     "execution_count": 65,
     "metadata": {},
     "output_type": "execute_result"
    }
   ],
   "source": [
    "from sklearn.model_selection import train_test_split\n",
    "\n",
    "data = df.copy()\n",
    "y = data['label'].values\n",
    "data.drop(labels=['Unnamed: 0', 'label', 'good=1', 'fair=0', 'excellent=2'], axis=1, inplace=True) # remove useless columns\n",
    "\n",
    "data.head()"
   ]
  },
  {
   "cell_type": "code",
   "execution_count": 67,
   "metadata": {},
   "outputs": [
    {
     "data": {
      "text/plain": [
       "array([2, 2, 2, 2, 2], dtype=int64)"
      ]
     },
     "execution_count": 67,
     "metadata": {},
     "output_type": "execute_result"
    }
   ],
   "source": [
    "y[:5]"
   ]
  },
  {
   "cell_type": "code",
   "execution_count": 68,
   "metadata": {},
   "outputs": [
    {
     "name": "stdout",
     "output_type": "stream",
     "text": [
      "Train data: (562, 2) (562,)\n",
      "Test data: (141, 2) (141,)\n"
     ]
    }
   ],
   "source": [
    "# split train and test\n",
    "X_train, X_test, y_train, y_test = train_test_split(data, y, test_size=0.2, stratify=y)\n",
    "\n",
    "print(f'Train data: {X_train.shape} {y_train.shape}')\n",
    "print(f'Test data: {X_test.shape} {y_test.shape}')"
   ]
  },
  {
   "cell_type": "markdown",
   "metadata": {},
   "source": [
    "## Extract Featurs"
   ]
  },
  {
   "cell_type": "markdown",
   "metadata": {},
   "source": [
    "### Bag of words"
   ]
  },
  {
   "cell_type": "code",
   "execution_count": 69,
   "metadata": {},
   "outputs": [
    {
     "name": "stderr",
     "output_type": "stream",
     "text": [
      "[nltk_data] Downloading package punkt to\n",
      "[nltk_data]     C:\\Users\\Zahra\\AppData\\Roaming\\nltk_data...\n",
      "[nltk_data]   Unzipping tokenizers\\punkt.zip.\n"
     ]
    },
    {
     "data": {
      "text/plain": [
       "True"
      ]
     },
     "execution_count": 69,
     "metadata": {},
     "output_type": "execute_result"
    }
   ],
   "source": [
    "# Loading NLTk\n",
    "import nltk\n",
    "nltk.download('punkt')"
   ]
  },
  {
   "cell_type": "code",
   "execution_count": 73,
   "metadata": {},
   "outputs": [
    {
     "name": "stdout",
     "output_type": "stream",
     "text": [
      "X_train_bow shape : (562, 247)\n",
      "X_test_bow shape : (141, 247)\n"
     ]
    }
   ],
   "source": [
    "from sklearn.feature_extraction.text import CountVectorizer\n",
    "\n",
    "# we have used min_df=5 as we only wants those words which occurs at least 5 times in the whole corpus.\n",
    "cv = CountVectorizer(min_df=5)\n",
    "X_train_bow = cv.fit_transform(X_train['preprocessing_review'])\n",
    "X_test_bow = cv.transform(X_test['preprocessing_review'])\n",
    "\n",
    "print(f'X_train_bow shape : {X_train_bow.shape}')\n",
    "print(f'X_test_bow shape : {X_test_bow.shape}')"
   ]
  },
  {
   "cell_type": "code",
   "execution_count": 77,
   "metadata": {},
   "outputs": [
    {
     "data": {
      "text/plain": [
       "scipy.sparse.csr.csr_matrix"
      ]
     },
     "execution_count": 77,
     "metadata": {},
     "output_type": "execute_result"
    }
   ],
   "source": [
    "type(X_train_bow)"
   ]
  },
  {
   "cell_type": "code",
   "execution_count": 78,
   "metadata": {},
   "outputs": [
    {
     "data": {
      "text/plain": [
       "pandas.core.frame.DataFrame"
      ]
     },
     "execution_count": 78,
     "metadata": {},
     "output_type": "execute_result"
    }
   ],
   "source": [
    "type(X_train)"
   ]
  },
  {
   "cell_type": "markdown",
   "metadata": {},
   "source": [
    "### TF-IDF"
   ]
  },
  {
   "cell_type": "code",
   "execution_count": 80,
   "metadata": {},
   "outputs": [
    {
     "name": "stdout",
     "output_type": "stream",
     "text": [
      "X_train_tfidf shape : (562, 247)\n",
      "X_test_tfidf shape : (141, 247)\n"
     ]
    }
   ],
   "source": [
    "from sklearn.feature_extraction.text import TfidfVectorizer\n",
    "\n",
    "tf = TfidfVectorizer(min_df=5)\n",
    "X_train_tfidf = tf.fit_transform(X_train['preprocessing_review'])\n",
    "X_test_tfidf = tf.transform(X_test['preprocessing_review'])\n",
    "\n",
    "print(f'X_train_tfidf shape : {X_train_tfidf.shape}')\n",
    "print(f'X_test_tfidf shape : {X_test_tfidf.shape}')"
   ]
  },
  {
   "cell_type": "markdown",
   "metadata": {},
   "source": [
    "**Try Word2vec method for extracting features.**"
   ]
  },
  {
   "cell_type": "code",
   "execution_count": 81,
   "metadata": {},
   "outputs": [],
   "source": [
    "##########to do ############"
   ]
  },
  {
   "cell_type": "markdown",
   "metadata": {},
   "source": [
    "**how can I merg X_train['star'] to X_train_bow or X_train_tfidf???\n",
    "is this feature necessary?**"
   ]
  },
  {
   "cell_type": "markdown",
   "metadata": {},
   "source": [
    "## Model Training"
   ]
  },
  {
   "cell_type": "markdown",
   "metadata": {},
   "source": [
    "#### MultinomialNB for BoW"
   ]
  },
  {
   "cell_type": "code",
   "execution_count": 83,
   "metadata": {},
   "outputs": [
    {
     "name": "stdout",
     "output_type": "stream",
     "text": [
      "MultinomialNB Accuracy : 0.851063829787234\n"
     ]
    }
   ],
   "source": [
    "from sklearn.naive_bayes import MultinomialNB\n",
    "from sklearn import metrics \n",
    "\n",
    "# model generation using multinomial naive bayes\n",
    "clf_NB = MultinomialNB().fit(X_train_bow, y_train)\n",
    "predicted = clf_NB.predict(X_test_bow)\n",
    "print(f'MultinomialNB Accuracy : {metrics.accuracy_score(y_test, predicted)}')"
   ]
  },
  {
   "cell_type": "code",
   "execution_count": 84,
   "metadata": {},
   "outputs": [
    {
     "name": "stdout",
     "output_type": "stream",
     "text": [
      "              precision    recall  f1-score   support\n",
      "\n",
      "           0       0.62      0.59      0.60        22\n",
      "           1       0.00      0.00      0.00         6\n",
      "           2       0.90      0.95      0.92       113\n",
      "\n",
      "    accuracy                           0.85       141\n",
      "   macro avg       0.51      0.51      0.51       141\n",
      "weighted avg       0.82      0.85      0.83       141\n",
      "\n"
     ]
    }
   ],
   "source": [
    "from sklearn.metrics import classification_report\n",
    "\n",
    "print(classification_report(y_test, predicted))"
   ]
  },
  {
   "cell_type": "code",
   "execution_count": 93,
   "metadata": {},
   "outputs": [],
   "source": [
    "from sklearn import metrics\n",
    "import numpy as np\n",
    "import pandas as pd\n",
    "\n",
    "#define a fuction for confusion matrix\n",
    "def confusion_matrix(y_test, predicted):\n",
    "\n",
    "    cnf_matrix_NBbow = metrics.confusion_matrix(y_test, predicted)\n",
    "    class_names=[0,1,2] # name  of classes\n",
    "    fig, ax = plt.subplots()\n",
    "    tick_marks = np.arange(len(class_names))\n",
    "    plt.xticks(tick_marks, class_names)\n",
    "    plt.yticks(tick_marks, class_names)\n",
    "    # create heatmap\n",
    "    sns.heatmap(pd.DataFrame(cnf_matrix_NBbow), annot=True, cmap=\"YlGnBu\" ,fmt='g')\n",
    "    ax.xaxis.set_label_position(\"top\")\n",
    "    plt.tight_layout()\n",
    "    plt.title('Confusion matrix', y=1.1)\n",
    "    plt.ylabel('Actual label')\n",
    "    plt.xlabel('Predicted label')\n",
    "    plt.show()"
   ]
  },
  {
   "cell_type": "code",
   "execution_count": 94,
   "metadata": {},
   "outputs": [
    {
     "data": {
      "image/png": "[encoded data removed]",
      "text/plain": [
       "<Figure size 432x288 with 2 Axes>"
      ]
     },
     "metadata": {
      "needs_background": "light"
     },
     "output_type": "display_data"
    }
   ],
   "source": [
    "confusion_matrix(y_test, predicted)    "
   ]
  },
  {
   "cell_type": "markdown",
   "metadata": {},
   "source": [
    "#### MultinomialNB for TF-IDF"
   ]
  },
  {
   "cell_type": "code",
   "execution_count": 85,
   "metadata": {},
   "outputs": [
    {
     "name": "stdout",
     "output_type": "stream",
     "text": [
      "MultinomialNB Accuracy (TF-IDF) : 0.8581560283687943\n"
     ]
    }
   ],
   "source": [
    "from sklearn.naive_bayes import MultinomialNB\n",
    "from sklearn import metrics \n",
    "\n",
    "# model generation using multinomial naive bayes\n",
    "clf_NB_tfidf = MultinomialNB().fit(X_train_tfidf, y_train)\n",
    "predicted_NB_tfidf = clf_NB_tfidf.predict(X_test_tfidf)\n",
    "print(f'MultinomialNB Accuracy (TF-IDF) : {metrics.accuracy_score(y_test, predicted_NB_tfidf)}')"
   ]
  },
  {
   "cell_type": "code",
   "execution_count": 86,
   "metadata": {},
   "outputs": [
    {
     "name": "stdout",
     "output_type": "stream",
     "text": [
      "              precision    recall  f1-score   support\n",
      "\n",
      "           0       0.90      0.41      0.56        22\n",
      "           1       0.00      0.00      0.00         6\n",
      "           2       0.85      0.99      0.92       113\n",
      "\n",
      "    accuracy                           0.86       141\n",
      "   macro avg       0.58      0.47      0.49       141\n",
      "weighted avg       0.83      0.86      0.82       141\n",
      "\n"
     ]
    },
    {
     "name": "stderr",
     "output_type": "stream",
     "text": [
      "C:\\Users\\Zahra\\Anaconda3\\lib\\site-packages\\sklearn\\metrics\\classification.py:1437: UndefinedMetricWarning: Precision and F-score are ill-defined and being set to 0.0 in labels with no predicted samples.\n",
      "  'precision', 'predicted', average, warn_for)\n"
     ]
    }
   ],
   "source": [
    "from sklearn.metrics import classification_report\n",
    "\n",
    "print(classification_report(y_test, predicted_NB_tfidf))"
   ]
  },
  {
   "cell_type": "code",
   "execution_count": 92,
   "metadata": {},
   "outputs": [
    {
     "data": {
      "image/png": "[encoded data removed]",
      "text/plain": [
       "<Figure size 432x288 with 2 Axes>"
      ]
     },
     "metadata": {
      "needs_background": "light"
     },
     "output_type": "display_data"
    }
   ],
   "source": [
    "confusion_matrix(y_test, predicted_NB_tfidf) "
   ]
  },
  {
   "cell_type": "markdown",
   "metadata": {},
   "source": [
    "As we see, moltinomialNB model with TF-IDF feature generation method has better accuracy than same model with BoW feature generation method."
   ]
  },
  {
   "cell_type": "markdown",
   "metadata": {},
   "source": [
    "#### KNNClassification with BoW"
   ]
  },
  {
   "cell_type": "code",
   "execution_count": 95,
   "metadata": {},
   "outputs": [
    {
     "name": "stderr",
     "output_type": "stream",
     "text": [
      "C:\\Users\\Zahra\\Anaconda3\\lib\\site-packages\\sklearn\\linear_model\\logistic.py:432: FutureWarning: Default solver will be changed to 'lbfgs' in 0.22. Specify a solver to silence this warning.\n",
      "  FutureWarning)\n",
      "C:\\Users\\Zahra\\Anaconda3\\lib\\site-packages\\sklearn\\linear_model\\logistic.py:469: FutureWarning: Default multi_class will be changed to 'auto' in 0.22. Specify the multi_class option to silence this warning.\n",
      "  \"this warning.\", FutureWarning)\n"
     ]
    },
    {
     "name": "stdout",
     "output_type": "stream",
     "text": [
      "Logistic Regression Accuracy (BoW) : 0.8581560283687943\n"
     ]
    }
   ],
   "source": [
    "from sklearn.neighbors import KNeighborsClassifier\n",
    "from sklearn.model_selection import GridSearchCV\n",
    "\n",
    "clf_logreg_bow = LogisticRegression()\n",
    "clf_logreg_bow.fit(X_train_bow, y_train)\n",
    "predicted_logreg_bow = clf_logreg_bow.predict(X_test_bow)\n",
    "print(f'Logistic Regression Accuracy (BoW) : {metrics.accuracy_score(y_test, predicted_logreg_bow)}')"
   ]
  },
  {
   "cell_type": "code",
   "execution_count": null,
   "metadata": {},
   "outputs": [],
   "source": [
    "print(classification_report(y_test, predicted_logreg_bow))"
   ]
  },
  {
   "cell_type": "code",
   "execution_count": null,
   "metadata": {},
   "outputs": [],
   "source": [
    "confusion_matrix(y_test, predicted_logreg_bow) "
   ]
  },
  {
   "cell_type": "markdown",
   "metadata": {},
   "source": [
    "#### KNNClassification with TF-IDF"
   ]
  },
  {
   "cell_type": "code",
   "execution_count": null,
   "metadata": {},
   "outputs": [],
   "source": [
    "clf_logreg_tfidf = LogisticRegression()\n",
    "clf_logreg_tfidf.fit(X_train_bow, y_train)\n",
    "predicted_logreg_tfidf = clf_logreg_tfidf.predict(X_test_bow)\n",
    "print(f'Logistic Regression Accuracy (BoW) : {metrics.accuracy_score(y_test, predicted_logreg_tfidf)}')"
   ]
  },
  {
   "cell_type": "code",
   "execution_count": null,
   "metadata": {},
   "outputs": [],
   "source": [
    "print(classification_report(y_test, predicted_logreg_tfidf))"
   ]
  },
  {
   "cell_type": "code",
   "execution_count": null,
   "metadata": {},
   "outputs": [],
   "source": [
    "confusion_matrix(y_test, predicted_logreg_tfidf) "
   ]
  }
 ],
 "metadata": {
  "kernelspec": {
   "display_name": "Python 3",
   "language": "python",
   "name": "python3"
  },
  "language_info": {
   "codemirror_mode": {
    "name": "ipython",
    "version": 3
   },
   "file_extension": ".py",
   "mimetype": "text/x-python",
   "name": "python",
   "nbconvert_exporter": "python",
   "pygments_lexer": "ipython3",
   "version": "3.7.3"
  }
 },
 "nbformat": 4,
 "nbformat_minor": 2
}
