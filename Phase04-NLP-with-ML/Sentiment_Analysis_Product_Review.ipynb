{
  "nbformat": 4,
  "nbformat_minor": 0,
  "metadata": {
    "colab": {
      "name": "Sentiment_Analysis_Product_Review.ipynb",
      "provenance": [],
      "collapsed_sections": [],
      "toc_visible": true
    },
    "kernelspec": {
      "name": "python3",
      "display_name": "Python 3"
    },
    "language_info": {
      "name": "python"
    }
  },
  "cells": [
    {
      "cell_type": "markdown",
      "metadata": {
        "id": "38ATLrOQd9VY"
      },
      "source": [
        "# Sentiment Analysis of Product Review"
      ]
    },
    {
      "cell_type": "markdown",
      "metadata": {
        "id": "T6fmA4t3CuWt"
      },
      "source": [
        "## Read and Explore data (EDA)"
      ]
    },
    {
      "cell_type": "code",
      "metadata": {
        "colab": {
          "base_uri": "https://localhost:8080/"
        },
        "id": "2t5zoDy6CcmR",
        "outputId": "263e550b-3473-4e65-eaa7-4f4de76e932a"
      },
      "source": [
        "!pip install parsivar"
      ],
      "execution_count": 2,
      "outputs": [
        {
          "output_type": "stream",
          "text": [
            "Collecting parsivar\n",
            "  Downloading parsivar-0.2.3.tar.gz (36.2 MB)\n",
            "\u001b[K     |████████████████████████████████| 36.2 MB 61 kB/s \n",
            "\u001b[?25hCollecting nltk==3.4.5\n",
            "  Downloading nltk-3.4.5.zip (1.5 MB)\n",
            "\u001b[K     |████████████████████████████████| 1.5 MB 31.6 MB/s \n",
            "\u001b[?25hRequirement already satisfied: six in /usr/local/lib/python3.7/dist-packages (from nltk==3.4.5->parsivar) (1.15.0)\n",
            "Building wheels for collected packages: parsivar, nltk\n",
            "  Building wheel for parsivar (setup.py) ... \u001b[?25l\u001b[?25hdone\n",
            "  Created wheel for parsivar: filename=parsivar-0.2.3-py3-none-any.whl size=36492971 sha256=4f6185077dbc6edeb2eb754aabf492db1cc9a94275836e60ba5b0d3ec3405ba4\n",
            "  Stored in directory: /root/.cache/pip/wheels/ae/67/7a/49cbf08f64d3f76a26eceaf0e481a40e233f05d4356875cbed\n",
            "  Building wheel for nltk (setup.py) ... \u001b[?25l\u001b[?25hdone\n",
            "  Created wheel for nltk: filename=nltk-3.4.5-py3-none-any.whl size=1449919 sha256=bb97c1aa900d764098e15861f32e0c2a3ba644ee109d73ee82d8628ecd9158f9\n",
            "  Stored in directory: /root/.cache/pip/wheels/48/8b/7f/473521e0c731c6566d631b281f323842bbda9bd819eb9a3ead\n",
            "Successfully built parsivar nltk\n",
            "Installing collected packages: nltk, parsivar\n",
            "  Attempting uninstall: nltk\n",
            "    Found existing installation: nltk 3.2.5\n",
            "    Uninstalling nltk-3.2.5:\n",
            "      Successfully uninstalled nltk-3.2.5\n",
            "Successfully installed nltk-3.4.5 parsivar-0.2.3\n"
          ],
          "name": "stdout"
        }
      ]
    },
    {
      "cell_type": "code",
      "metadata": {
        "id": "QbQIjGU0d8Y0"
      },
      "source": [
        "import pandas as pd\n",
        "import parsivar\n",
        "from parsivar import Normalizer, Tokenizer, FindStems, FindChunks, DependencyParser\n",
        "import warnings\n",
        "warnings.filterwarnings('ignore')\n",
        "import matplotlib.pyplot as plt"
      ],
      "execution_count": 18,
      "outputs": []
    },
    {
      "cell_type": "code",
      "metadata": {
        "colab": {
          "base_uri": "https://localhost:8080/"
        },
        "id": "LTwEfdWjrMk0",
        "outputId": "6b0dc643-4869-484e-fe79-6538d1f6e8c0"
      },
      "source": [
        "from google.colab import drive\n",
        "drive.mount('/content/drive')"
      ],
      "execution_count": 4,
      "outputs": [
        {
          "output_type": "stream",
          "text": [
            "Drive already mounted at /content/drive; to attempt to forcibly remount, call drive.mount(\"/content/drive\", force_remount=True).\n"
          ],
          "name": "stdout"
        }
      ]
    },
    {
      "cell_type": "markdown",
      "metadata": {
        "id": "M5PC-aoqTZuM"
      },
      "source": [
        "### Read the dataset"
      ]
    },
    {
      "cell_type": "code",
      "metadata": {
        "colab": {
          "base_uri": "https://localhost:8080/",
          "height": 221
        },
        "id": "IbNf67YTsC9_",
        "outputId": "0fb2ead9-19c2-47e9-d939-1b69e4835ceb"
      },
      "source": [
        "df = pd.read_csv('/content/drive/MyDrive/AI-Internship/camera_review.txt', sep=\",\", header=None)\n",
        "print(f'data shape : {df.shape}')\n",
        "df.head()"
      ],
      "execution_count": 6,
      "outputs": [
        {
          "output_type": "stream",
          "text": [
            "data shape : (7023, 2)\n"
          ],
          "name": "stdout"
        },
        {
          "output_type": "execute_result",
          "data": {
            "text/html": [
              "<div>\n",
              "<style scoped>\n",
              "    .dataframe tbody tr th:only-of-type {\n",
              "        vertical-align: middle;\n",
              "    }\n",
              "\n",
              "    .dataframe tbody tr th {\n",
              "        vertical-align: top;\n",
              "    }\n",
              "\n",
              "    .dataframe thead th {\n",
              "        text-align: right;\n",
              "    }\n",
              "</style>\n",
              "<table border=\"1\" class=\"dataframe\">\n",
              "  <thead>\n",
              "    <tr style=\"text-align: right;\">\n",
              "      <th></th>\n",
              "      <th>0</th>\n",
              "      <th>1</th>\n",
              "    </tr>\n",
              "  </thead>\n",
              "  <tbody>\n",
              "    <tr>\n",
              "      <th>0</th>\n",
              "      <td>دوربین اصلی این گوشی دارای یک سنسور مگاپیکسلی ...</td>\n",
              "      <td>0</td>\n",
              "    </tr>\n",
              "    <tr>\n",
              "      <th>1</th>\n",
              "      <td>کارت‌های حافظه ای که معمولا بر روی گوشی‌های هو...</td>\n",
              "      <td>0</td>\n",
              "    </tr>\n",
              "    <tr>\n",
              "      <th>2</th>\n",
              "      <td>اندازه رزولوشن نمایشگر iPod دقیقا همانند iPhon...</td>\n",
              "      <td>0</td>\n",
              "    </tr>\n",
              "    <tr>\n",
              "      <th>3</th>\n",
              "      <td>اما صفحه نمایش دوربین فیلمبرداری JVC GZ-MG335،...</td>\n",
              "      <td>0</td>\n",
              "    </tr>\n",
              "    <tr>\n",
              "      <th>4</th>\n",
              "      <td>نهایتا، بر روی قاب پشتی گوشی نیز، دوربین به هم...</td>\n",
              "      <td>0</td>\n",
              "    </tr>\n",
              "  </tbody>\n",
              "</table>\n",
              "</div>"
            ],
            "text/plain": [
              "                                                   0  1\n",
              "0  دوربین اصلی این گوشی دارای یک سنسور مگاپیکسلی ...  0\n",
              "1  کارت‌های حافظه ای که معمولا بر روی گوشی‌های هو...  0\n",
              "2  اندازه رزولوشن نمایشگر iPod دقیقا همانند iPhon...  0\n",
              "3  اما صفحه نمایش دوربین فیلمبرداری JVC GZ-MG335،...  0\n",
              "4  نهایتا، بر روی قاب پشتی گوشی نیز، دوربین به هم...  0"
            ]
          },
          "metadata": {
            "tags": []
          },
          "execution_count": 6
        }
      ]
    },
    {
      "cell_type": "markdown",
      "metadata": {
        "id": "KtYubFTjTdS5"
      },
      "source": [
        "### Explore the dataset"
      ]
    },
    {
      "cell_type": "code",
      "metadata": {
        "colab": {
          "base_uri": "https://localhost:8080/"
        },
        "id": "a7zLbPbHDVcH",
        "outputId": "1e9be98d-148b-4004-caa1-50cb69ae696c"
      },
      "source": [
        "# change the header names\n",
        "print(f'Initial columns name : {df.columns}')\n",
        "df.columns = ['review', 'label']\n",
        "print(f'Current columns name : {df.columns}')"
      ],
      "execution_count": 9,
      "outputs": [
        {
          "output_type": "stream",
          "text": [
            "Initial columns name : Int64Index([0, 1], dtype='int64')\n",
            "Current columns name : Index(['review', 'label'], dtype='object')\n"
          ],
          "name": "stdout"
        }
      ]
    },
    {
      "cell_type": "code",
      "metadata": {
        "colab": {
          "base_uri": "https://localhost:8080/",
          "height": 204
        },
        "id": "1gy8sQhBEWds",
        "outputId": "5e9d1e33-93cb-4b58-d494-3c7d9078cb99"
      },
      "source": [
        "df.head()"
      ],
      "execution_count": 10,
      "outputs": [
        {
          "output_type": "execute_result",
          "data": {
            "text/html": [
              "<div>\n",
              "<style scoped>\n",
              "    .dataframe tbody tr th:only-of-type {\n",
              "        vertical-align: middle;\n",
              "    }\n",
              "\n",
              "    .dataframe tbody tr th {\n",
              "        vertical-align: top;\n",
              "    }\n",
              "\n",
              "    .dataframe thead th {\n",
              "        text-align: right;\n",
              "    }\n",
              "</style>\n",
              "<table border=\"1\" class=\"dataframe\">\n",
              "  <thead>\n",
              "    <tr style=\"text-align: right;\">\n",
              "      <th></th>\n",
              "      <th>review</th>\n",
              "      <th>label</th>\n",
              "    </tr>\n",
              "  </thead>\n",
              "  <tbody>\n",
              "    <tr>\n",
              "      <th>0</th>\n",
              "      <td>دوربین اصلی این گوشی دارای یک سنسور مگاپیکسلی ...</td>\n",
              "      <td>0</td>\n",
              "    </tr>\n",
              "    <tr>\n",
              "      <th>1</th>\n",
              "      <td>کارت‌های حافظه ای که معمولا بر روی گوشی‌های هو...</td>\n",
              "      <td>0</td>\n",
              "    </tr>\n",
              "    <tr>\n",
              "      <th>2</th>\n",
              "      <td>اندازه رزولوشن نمایشگر iPod دقیقا همانند iPhon...</td>\n",
              "      <td>0</td>\n",
              "    </tr>\n",
              "    <tr>\n",
              "      <th>3</th>\n",
              "      <td>اما صفحه نمایش دوربین فیلمبرداری JVC GZ-MG335،...</td>\n",
              "      <td>0</td>\n",
              "    </tr>\n",
              "    <tr>\n",
              "      <th>4</th>\n",
              "      <td>نهایتا، بر روی قاب پشتی گوشی نیز، دوربین به هم...</td>\n",
              "      <td>0</td>\n",
              "    </tr>\n",
              "  </tbody>\n",
              "</table>\n",
              "</div>"
            ],
            "text/plain": [
              "                                              review  label\n",
              "0  دوربین اصلی این گوشی دارای یک سنسور مگاپیکسلی ...      0\n",
              "1  کارت‌های حافظه ای که معمولا بر روی گوشی‌های هو...      0\n",
              "2  اندازه رزولوشن نمایشگر iPod دقیقا همانند iPhon...      0\n",
              "3  اما صفحه نمایش دوربین فیلمبرداری JVC GZ-MG335،...      0\n",
              "4  نهایتا، بر روی قاب پشتی گوشی نیز، دوربین به هم...      0"
            ]
          },
          "metadata": {
            "tags": []
          },
          "execution_count": 10
        }
      ]
    },
    {
      "cell_type": "markdown",
      "metadata": {
        "id": "IQIPO3rPE0DD"
      },
      "source": [
        "Description of each columns:\n",
        "\n",
        "*   review : people's opinion about product.\n",
        "*   label : people sentiment about that product.\n",
        "\n",
        "** review is feature and label is target. **"
      ]
    },
    {
      "cell_type": "code",
      "metadata": {
        "colab": {
          "base_uri": "https://localhost:8080/"
        },
        "id": "doVKwyogslYM",
        "outputId": "570b488c-a835-46da-be1c-b57675c87a10"
      },
      "source": [
        "df.info()"
      ],
      "execution_count": 11,
      "outputs": [
        {
          "output_type": "stream",
          "text": [
            "<class 'pandas.core.frame.DataFrame'>\n",
            "RangeIndex: 7023 entries, 0 to 7022\n",
            "Data columns (total 2 columns):\n",
            " #   Column  Non-Null Count  Dtype \n",
            "---  ------  --------------  ----- \n",
            " 0   review  7023 non-null   object\n",
            " 1   label   7023 non-null   int64 \n",
            "dtypes: int64(1), object(1)\n",
            "memory usage: 109.9+ KB\n"
          ],
          "name": "stdout"
        }
      ]
    },
    {
      "cell_type": "markdown",
      "metadata": {
        "id": "oGm8awQ_Eb5K"
      },
      "source": [
        "As we see, we don't have missing values."
      ]
    },
    {
      "cell_type": "code",
      "metadata": {
        "colab": {
          "base_uri": "https://localhost:8080/",
          "height": 297
        },
        "id": "TucpuR1ytOFV",
        "outputId": "2fb378d2-087e-4545-aba5-455ab217507a"
      },
      "source": [
        "df.describe()"
      ],
      "execution_count": 12,
      "outputs": [
        {
          "output_type": "execute_result",
          "data": {
            "text/html": [
              "<div>\n",
              "<style scoped>\n",
              "    .dataframe tbody tr th:only-of-type {\n",
              "        vertical-align: middle;\n",
              "    }\n",
              "\n",
              "    .dataframe tbody tr th {\n",
              "        vertical-align: top;\n",
              "    }\n",
              "\n",
              "    .dataframe thead th {\n",
              "        text-align: right;\n",
              "    }\n",
              "</style>\n",
              "<table border=\"1\" class=\"dataframe\">\n",
              "  <thead>\n",
              "    <tr style=\"text-align: right;\">\n",
              "      <th></th>\n",
              "      <th>label</th>\n",
              "    </tr>\n",
              "  </thead>\n",
              "  <tbody>\n",
              "    <tr>\n",
              "      <th>count</th>\n",
              "      <td>7023.000000</td>\n",
              "    </tr>\n",
              "    <tr>\n",
              "      <th>mean</th>\n",
              "      <td>0.655418</td>\n",
              "    </tr>\n",
              "    <tr>\n",
              "      <th>std</th>\n",
              "      <td>1.084845</td>\n",
              "    </tr>\n",
              "    <tr>\n",
              "      <th>min</th>\n",
              "      <td>-2.000000</td>\n",
              "    </tr>\n",
              "    <tr>\n",
              "      <th>25%</th>\n",
              "      <td>0.000000</td>\n",
              "    </tr>\n",
              "    <tr>\n",
              "      <th>50%</th>\n",
              "      <td>1.000000</td>\n",
              "    </tr>\n",
              "    <tr>\n",
              "      <th>75%</th>\n",
              "      <td>2.000000</td>\n",
              "    </tr>\n",
              "    <tr>\n",
              "      <th>max</th>\n",
              "      <td>2.000000</td>\n",
              "    </tr>\n",
              "  </tbody>\n",
              "</table>\n",
              "</div>"
            ],
            "text/plain": [
              "             label\n",
              "count  7023.000000\n",
              "mean      0.655418\n",
              "std       1.084845\n",
              "min      -2.000000\n",
              "25%       0.000000\n",
              "50%       1.000000\n",
              "75%       2.000000\n",
              "max       2.000000"
            ]
          },
          "metadata": {
            "tags": []
          },
          "execution_count": 12
        }
      ]
    },
    {
      "cell_type": "code",
      "metadata": {
        "colab": {
          "base_uri": "https://localhost:8080/"
        },
        "id": "cSc_uOXIuj3n",
        "outputId": "0aa2fa14-cfc9-4052-df6b-c60fdd6828c2"
      },
      "source": [
        "df.label.value_counts()"
      ],
      "execution_count": 15,
      "outputs": [
        {
          "output_type": "execute_result",
          "data": {
            "text/plain": [
              " 1    2000\n",
              " 0    2000\n",
              " 2    1928\n",
              "-1     937\n",
              "-2     158\n",
              "Name: label, dtype: int64"
            ]
          },
          "metadata": {
            "tags": []
          },
          "execution_count": 15
        }
      ]
    },
    {
      "cell_type": "code",
      "metadata": {
        "colab": {
          "base_uri": "https://localhost:8080/",
          "height": 295
        },
        "id": "SFF8RRTrEnny",
        "outputId": "317abc59-2525-4c29-c054-0e3fe62f25b0"
      },
      "source": [
        "# destribution of data in each class\n",
        "distribution  = list(df.label.value_counts())\n",
        "\n",
        "plt.bar([1, 0, 2, -1, -2] ,distribution)\n",
        "plt.xlabel(\"Label\")\n",
        "plt.ylabel(\"Number of Reviews\")\n",
        "plt.title(\"Distribution of data in each class\")\n",
        "plt.show()"
      ],
      "execution_count": 19,
      "outputs": [
        {
          "output_type": "display_data",
          "data": {
            "image/png": "[encoded data removed]",
            "text/plain": [
              "<Figure size 432x288 with 1 Axes>"
            ]
          },
          "metadata": {
            "tags": [],
            "needs_background": "light"
          }
        }
      ]
    },
    {
      "cell_type": "markdown",
      "metadata": {
        "id": "OcGbMPzRIXiW"
      },
      "source": [
        "As we see, number of data in class 0, 1, 2 are more than in -1, -2. "
      ]
    },
    {
      "cell_type": "code",
      "metadata": {
        "colab": {
          "base_uri": "https://localhost:8080/",
          "height": 35
        },
        "id": "vhsX2OZjGsQF",
        "outputId": "47932edf-be9b-4a8a-c2b9-7d6af0a59dec"
      },
      "source": [
        "df['review'][0]"
      ],
      "execution_count": 20,
      "outputs": [
        {
          "output_type": "execute_result",
          "data": {
            "application/vnd.google.colaboratory.intrinsic+json": {
              "type": "string"
            },
            "text/plain": [
              "'دوربین اصلی این گوشی دارای یک سنسور مگاپیکسلی می\\u200cباشد که قابلیت فیلم برداری با کیفیت FullHD با سرعت 30 فریم بر ثانیه را نیز داراست.'"
            ]
          },
          "metadata": {
            "tags": []
          },
          "execution_count": 20
        }
      ]
    },
    {
      "cell_type": "code",
      "metadata": {
        "colab": {
          "base_uri": "https://localhost:8080/",
          "height": 52
        },
        "id": "qZKWpwwiQnBM",
        "outputId": "7c897cc6-b766-46ac-ed27-296801f4a98f"
      },
      "source": [
        "df['review'][7000]"
      ],
      "execution_count": 27,
      "outputs": [
        {
          "output_type": "execute_result",
          "data": {
            "application/vnd.google.colaboratory.intrinsic+json": {
              "type": "string"
            },
            "text/plain": [
              "'به نظر من اين گوشي ارزش خريد نداره اگه قيمتش هم اندازه گوشي هايي مثل گلکسي اس اچ تي سي وان ايکس باشه به نظر من حداقلش پردازندش بايد هسته اي مي بود که نيست همچنين اگه بخوايم عمر باتري در نظر بگيريم که اپل خيلي عقبه.'"
            ]
          },
          "metadata": {
            "tags": []
          },
          "execution_count": 27
        }
      ]
    },
    {
      "cell_type": "code",
      "metadata": {
        "colab": {
          "base_uri": "https://localhost:8080/"
        },
        "id": "KQsV9NlWWqD2",
        "outputId": "dfbd6a78-eca4-4b4e-b128-5c723c69c231"
      },
      "source": [
        "# Loading NLTk\n",
        "import nltk\n",
        "nltk.download('punkt')"
      ],
      "execution_count": 44,
      "outputs": [
        {
          "output_type": "stream",
          "text": [
            "[nltk_data] Downloading package punkt to /root/nltk_data...\n",
            "[nltk_data]   Unzipping tokenizers/punkt.zip.\n"
          ],
          "name": "stderr"
        },
        {
          "output_type": "execute_result",
          "data": {
            "text/plain": [
              "True"
            ]
          },
          "metadata": {
            "tags": []
          },
          "execution_count": 44
        }
      ]
    },
    {
      "cell_type": "code",
      "metadata": {
        "colab": {
          "base_uri": "https://localhost:8080/"
        },
        "id": "sP4sUya5WtU2",
        "outputId": "da294c38-6d0f-49c0-b9cc-402e08865fe8"
      },
      "source": [
        "from nltk.tokenize import word_tokenize\n",
        "\n",
        "# word tokenization with nltk\n",
        "tokenized_word = word_tokenize(df['review'][7000])\n",
        "print(f'Tokenized word -> {tokenized_word}')\n",
        "print(f'length of Tokenized word : {len(tokenized_word)}')"
      ],
      "execution_count": 47,
      "outputs": [
        {
          "output_type": "stream",
          "text": [
            "Tokenized word -> ['به', 'نظر', 'من', 'اين', 'گوشي', 'ارزش', 'خريد', 'نداره', 'اگه', 'قيمتش', 'هم', 'اندازه', 'گوشي', 'هايي', 'مثل', 'گلکسي', 'اس', 'اچ', 'تي', 'سي', 'وان', 'ايکس', 'باشه', 'به', 'نظر', 'من', 'حداقلش', 'پردازندش', 'بايد', 'هسته', 'اي', 'مي', 'بود', 'که', 'نيست', 'همچنين', 'اگه', 'بخوايم', 'عمر', 'باتري', 'در', 'نظر', 'بگيريم', 'که', 'اپل', 'خيلي', 'عقبه', '.']\n",
            "length of Tokenized word : 48\n"
          ],
          "name": "stdout"
        }
      ]
    },
    {
      "cell_type": "code",
      "metadata": {
        "colab": {
          "base_uri": "https://localhost:8080/"
        },
        "id": "A2IH6ME9XLSP",
        "outputId": "9bc7d26c-8cf7-45d8-b87c-57cc772128ba"
      },
      "source": [
        "# word tokenization with parsivar\n",
        "tokenizer = Tokenizer()\n",
        "words = tokenizer.tokenize_words(df['review'][7000])\n",
        "print(f'Tokenized word -> {words}')\n",
        "print(f'length of Tokenized word : {len(words)}')"
      ],
      "execution_count": 48,
      "outputs": [
        {
          "output_type": "stream",
          "text": [
            "Tokenized word -> ['به', 'نظر', 'من', 'اين', 'گوشي', 'ارزش', 'خريد', 'نداره', 'اگه', 'قيمتش', 'هم', 'اندازه', 'گوشي', 'هايي', 'مثل', 'گلکسي', 'اس', 'اچ', 'تي', 'سي', 'وان', 'ايکس', 'باشه', 'به', 'نظر', 'من', 'حداقلش', 'پردازندش', 'بايد', 'هسته', 'اي', 'مي', 'بود', 'که', 'نيست', 'همچنين', 'اگه', 'بخوايم', 'عمر', 'باتري', 'در', 'نظر', 'بگيريم', 'که', 'اپل', 'خيلي', 'عقبه.']\n",
            "length of Tokenized word : 47\n"
          ],
          "name": "stdout"
        }
      ]
    },
    {
      "cell_type": "code",
      "metadata": {
        "colab": {
          "base_uri": "https://localhost:8080/"
        },
        "id": "eQdEaHIXYFQ8",
        "outputId": "4fd60bb8-b46d-46ee-d301-12a5be71a6f6"
      },
      "source": [
        "from nltk.probability import FreqDist\n",
        "fdist = FreqDist(tokenized_word)\n",
        "print(fdist)"
      ],
      "execution_count": 50,
      "outputs": [
        {
          "output_type": "stream",
          "text": [
            "<FreqDist with 41 samples and 48 outcomes>\n"
          ],
          "name": "stdout"
        }
      ]
    },
    {
      "cell_type": "code",
      "metadata": {
        "colab": {
          "base_uri": "https://localhost:8080/"
        },
        "id": "Z6iJuEBtYdQi",
        "outputId": "1e4be418-d328-4956-80b0-59295144ac37"
      },
      "source": [
        "# print 3 most common words in the text\n",
        "fdist.most_common(3)"
      ],
      "execution_count": 52,
      "outputs": [
        {
          "output_type": "execute_result",
          "data": {
            "text/plain": [
              "[('نظر', 3), ('به', 2), ('من', 2)]"
            ]
          },
          "metadata": {
            "tags": []
          },
          "execution_count": 52
        }
      ]
    },
    {
      "cell_type": "code",
      "metadata": {
        "colab": {
          "base_uri": "https://localhost:8080/",
          "height": 282
        },
        "id": "jHxg7OV2YkIx",
        "outputId": "5afa8a18-cad4-4718-9f86-7649c12aee3f"
      },
      "source": [
        "# frequently distribution plot\n",
        "plt.rcParams[\"figure.figsize\"] = (15,3)\n",
        "plt.title('Fequenty distribution plot')\n",
        "fdist.plot(48, cumulative=False)\n",
        "plt.show()"
      ],
      "execution_count": 55,
      "outputs": [
        {
          "output_type": "display_data",
          "data": {
            "image/png": "[encoded data removed]",
            "text/plain": [
              "<Figure size 1080x216 with 1 Axes>"
            ]
          },
          "metadata": {
            "tags": [],
            "needs_background": "light"
          }
        }
      ]
    },
    {
      "cell_type": "markdown",
      "metadata": {
        "id": "A7TGxC57InJ0"
      },
      "source": [
        "Let's take a look at one sample in each class."
      ]
    },
    {
      "cell_type": "code",
      "metadata": {
        "colab": {
          "base_uri": "https://localhost:8080/",
          "height": 35
        },
        "id": "y_5OhB0tHsmQ",
        "outputId": "dda3702c-3d1f-4ba3-c5a8-f0470a461bb6"
      },
      "source": [
        "# Sample -2 review\n",
        "df[df['label']==-2].sample(n=1)['review'].iloc[0]"
      ],
      "execution_count": 21,
      "outputs": [
        {
          "output_type": "execute_result",
          "data": {
            "application/vnd.google.colaboratory.intrinsic+json": {
              "type": "string"
            },
            "text/plain": [
              "'خود شرکت ايسوس تايوان اين مسئله رو بيان کرد که به اين مشکل مي خورن ما رايگان عوض مي کنيم نزديک به 1ماه هست که گوشي در شرکت آوات هست کاري واسش نمي کنند.'"
            ]
          },
          "metadata": {
            "tags": []
          },
          "execution_count": 21
        }
      ]
    },
    {
      "cell_type": "code",
      "metadata": {
        "colab": {
          "base_uri": "https://localhost:8080/",
          "height": 35
        },
        "id": "cjv-MDIoI2Oo",
        "outputId": "f1181306-ce0f-4450-dc22-a178aea62675"
      },
      "source": [
        "# Sample -1 review\n",
        "df[df['label']==-1].sample(n=1)['review'].iloc[0]"
      ],
      "execution_count": 22,
      "outputs": [
        {
          "output_type": "execute_result",
          "data": {
            "application/vnd.google.colaboratory.intrinsic+json": {
              "type": "string"
            },
            "text/plain": [
              "'سطح امنیت تشخیص چهره به اندازه ورود با شناسه اسم رمز بالا نیست.'"
            ]
          },
          "metadata": {
            "tags": []
          },
          "execution_count": 22
        }
      ]
    },
    {
      "cell_type": "code",
      "metadata": {
        "colab": {
          "base_uri": "https://localhost:8080/",
          "height": 35
        },
        "id": "nKKZn8ZQI7SR",
        "outputId": "f6e06219-59da-4f7d-fb82-2e2d04fc5c8a"
      },
      "source": [
        "# Sample 0 review\n",
        "df[df['label']==0].sample(n=1)['review'].iloc[0]"
      ],
      "execution_count": 23,
      "outputs": [
        {
          "output_type": "execute_result",
          "data": {
            "application/vnd.google.colaboratory.intrinsic+json": {
              "type": "string"
            },
            "text/plain": [
              "'نوار Notification نسبت به نسخه قبلی تغییر دیگری نداشته است.'"
            ]
          },
          "metadata": {
            "tags": []
          },
          "execution_count": 23
        }
      ]
    },
    {
      "cell_type": "code",
      "metadata": {
        "colab": {
          "base_uri": "https://localhost:8080/",
          "height": 35
        },
        "id": "8ndi1fEEI8pW",
        "outputId": "7d2fbdec-9d31-46be-aee5-50c5ea2d0c6d"
      },
      "source": [
        "# Sample 1 review\n",
        "df[df['label']==1].sample(n=1)['review'].iloc[0]"
      ],
      "execution_count": 24,
      "outputs": [
        {
          "output_type": "execute_result",
          "data": {
            "application/vnd.google.colaboratory.intrinsic+json": {
              "type": "string"
            },
            "text/plain": [
              "'بدست که ميگيري حس حرفه\\u200cايه عکاسي بهت دست ميده مخصوصا وقتي از چشميش استفاده ميکني.'"
            ]
          },
          "metadata": {
            "tags": []
          },
          "execution_count": 24
        }
      ]
    },
    {
      "cell_type": "code",
      "metadata": {
        "colab": {
          "base_uri": "https://localhost:8080/",
          "height": 35
        },
        "id": "XaNP62uVI9Av",
        "outputId": "45a871e8-befe-469d-91d4-ae8b0861e73b"
      },
      "source": [
        "# Sample 2 review\n",
        "df[df['label']==2].sample(n=1)['review'].iloc[0]"
      ],
      "execution_count": 25,
      "outputs": [
        {
          "output_type": "execute_result",
          "data": {
            "application/vnd.google.colaboratory.intrinsic+json": {
              "type": "string"
            },
            "text/plain": [
              "'گلکسی اس3 یکی از بهترین گوشی\\u200cهای موجود در بازار برای مرورگری اینترنت است.'"
            ]
          },
          "metadata": {
            "tags": []
          },
          "execution_count": 25
        }
      ]
    },
    {
      "cell_type": "markdown",
      "metadata": {
        "id": "j_FYDH-YXBnu"
      },
      "source": [
        ""
      ]
    },
    {
      "cell_type": "markdown",
      "metadata": {
        "id": "iBHr2leXTQFA"
      },
      "source": [
        "### Data Preprocessing"
      ]
    },
    {
      "cell_type": "markdown",
      "metadata": {
        "id": "5DAPI-ZUJRaG"
      },
      "source": [
        "Let's define a function for data preprocessing."
      ]
    },
    {
      "cell_type": "code",
      "metadata": {
        "id": "_y4Ti_diJiOh"
      },
      "source": [
        "import time\n",
        "tic = time.time()"
      ],
      "execution_count": 28,
      "outputs": []
    },
    {
      "cell_type": "code",
      "metadata": {
        "id": "of9AfHJ0JLh-"
      },
      "source": [
        "def data_preprocessing(review):\n",
        "    \n",
        "    # normalizing the text\n",
        "    normalizer = Normalizer()\n",
        "    review = normalizer.normalize(review)\n",
        "    \n",
        "    # word tokenization\n",
        "    tokenizer = Tokenizer()\n",
        "    words = tokenizer.tokenize_words(review)\n",
        "    \n",
        "    # stemming \n",
        "    stemmer = FindStems()\n",
        "    review = [stemmer.convert_to_stem(word) for word in words]\n",
        "    \n",
        "    # join words in preprocessed review\n",
        "    review = ' '.join(review)\n",
        "    \n",
        "    return review"
      ],
      "execution_count": 29,
      "outputs": []
    },
    {
      "cell_type": "code",
      "metadata": {
        "id": "D8JdQzmiLyRr"
      },
      "source": [
        "df['preprocessing_review'] = df['review'].apply(lambda review: data_preprocessing(review))"
      ],
      "execution_count": 30,
      "outputs": []
    },
    {
      "cell_type": "code",
      "metadata": {
        "colab": {
          "base_uri": "https://localhost:8080/"
        },
        "id": "2DbaZbIhLyYA",
        "outputId": "dd1fc410-a04a-4115-8339-a61cc8c2c49a"
      },
      "source": [
        "toc = time.time()\n",
        "print(\"data preprocessing takes \"+ str(1000*(toc-tic)) + \" ms\")"
      ],
      "execution_count": 31,
      "outputs": [
        {
          "output_type": "stream",
          "text": [
            "data preprocessing takes 112056.22553825378 ms\n"
          ],
          "name": "stdout"
        }
      ]
    },
    {
      "cell_type": "code",
      "metadata": {
        "id": "j80cN53pO6n1"
      },
      "source": [
        "# Save dataframe\n",
        "df.to_pickle('/content/drive/MyDrive/AI-Internship/product_review_preprocessed')"
      ],
      "execution_count": 32,
      "outputs": []
    },
    {
      "cell_type": "code",
      "metadata": {
        "colab": {
          "base_uri": "https://localhost:8080/",
          "height": 204
        },
        "id": "eJhC3X0xRcbm",
        "outputId": "3a5334a8-2863-487e-c236-04d5dd475fd5"
      },
      "source": [
        "df.head()"
      ],
      "execution_count": 33,
      "outputs": [
        {
          "output_type": "execute_result",
          "data": {
            "text/html": [
              "<div>\n",
              "<style scoped>\n",
              "    .dataframe tbody tr th:only-of-type {\n",
              "        vertical-align: middle;\n",
              "    }\n",
              "\n",
              "    .dataframe tbody tr th {\n",
              "        vertical-align: top;\n",
              "    }\n",
              "\n",
              "    .dataframe thead th {\n",
              "        text-align: right;\n",
              "    }\n",
              "</style>\n",
              "<table border=\"1\" class=\"dataframe\">\n",
              "  <thead>\n",
              "    <tr style=\"text-align: right;\">\n",
              "      <th></th>\n",
              "      <th>review</th>\n",
              "      <th>label</th>\n",
              "      <th>preprocessing_review</th>\n",
              "    </tr>\n",
              "  </thead>\n",
              "  <tbody>\n",
              "    <tr>\n",
              "      <th>0</th>\n",
              "      <td>دوربین اصلی این گوشی دارای یک سنسور مگاپیکسلی ...</td>\n",
              "      <td>0</td>\n",
              "      <td>دوربین اصلی این گوشی دارای یک سنسور مگاپیکسلی ...</td>\n",
              "    </tr>\n",
              "    <tr>\n",
              "      <th>1</th>\n",
              "      <td>کارت‌های حافظه ای که معمولا بر روی گوشی‌های هو...</td>\n",
              "      <td>0</td>\n",
              "      <td>کارت حافظه که معمولا بر روی گوشی هوشمند تلفن ه...</td>\n",
              "    </tr>\n",
              "    <tr>\n",
              "      <th>2</th>\n",
              "      <td>اندازه رزولوشن نمایشگر iPod دقیقا همانند iPhon...</td>\n",
              "      <td>0</td>\n",
              "      <td>اندازه رزولوشن نمایشگر iPod دقیقا همانند iPhon...</td>\n",
              "    </tr>\n",
              "    <tr>\n",
              "      <th>3</th>\n",
              "      <td>اما صفحه نمایش دوربین فیلمبرداری JVC GZ-MG335،...</td>\n",
              "      <td>0</td>\n",
              "      <td>اما صفحه نمایش دوربین فیلم‌برداری JVC GZ - MG3...</td>\n",
              "    </tr>\n",
              "    <tr>\n",
              "      <th>4</th>\n",
              "      <td>نهایتا، بر روی قاب پشتی گوشی نیز، دوربین به هم...</td>\n",
              "      <td>0</td>\n",
              "      <td>نهایتا ، بر روی قاب پشتی گوشی نیز ، دوربین به ...</td>\n",
              "    </tr>\n",
              "  </tbody>\n",
              "</table>\n",
              "</div>"
            ],
            "text/plain": [
              "                                              review  ...                               preprocessing_review\n",
              "0  دوربین اصلی این گوشی دارای یک سنسور مگاپیکسلی ...  ...  دوربین اصلی این گوشی دارای یک سنسور مگاپیکسلی ...\n",
              "1  کارت‌های حافظه ای که معمولا بر روی گوشی‌های هو...  ...  کارت حافظه که معمولا بر روی گوشی هوشمند تلفن ه...\n",
              "2  اندازه رزولوشن نمایشگر iPod دقیقا همانند iPhon...  ...  اندازه رزولوشن نمایشگر iPod دقیقا همانند iPhon...\n",
              "3  اما صفحه نمایش دوربین فیلمبرداری JVC GZ-MG335،...  ...  اما صفحه نمایش دوربین فیلم‌برداری JVC GZ - MG3...\n",
              "4  نهایتا، بر روی قاب پشتی گوشی نیز، دوربین به هم...  ...  نهایتا ، بر روی قاب پشتی گوشی نیز ، دوربین به ...\n",
              "\n",
              "[5 rows x 3 columns]"
            ]
          },
          "metadata": {
            "tags": []
          },
          "execution_count": 33
        }
      ]
    },
    {
      "cell_type": "code",
      "metadata": {
        "colab": {
          "base_uri": "https://localhost:8080/",
          "height": 35
        },
        "id": "N5P7bPWFRjHE",
        "outputId": "63884678-d019-4ef3-851d-44ef086f3728"
      },
      "source": [
        "df['review'][1]"
      ],
      "execution_count": 37,
      "outputs": [
        {
          "output_type": "execute_result",
          "data": {
            "application/vnd.google.colaboratory.intrinsic+json": {
              "type": "string"
            },
            "text/plain": [
              "'کارت\\u200cهای حافظه ای که معمولا بر روی گوشی\\u200cهای هوشمند تلفن همراه نه دوربین\\u200cها استفاده می\\u200cشوند.'"
            ]
          },
          "metadata": {
            "tags": []
          },
          "execution_count": 37
        }
      ]
    },
    {
      "cell_type": "code",
      "metadata": {
        "colab": {
          "base_uri": "https://localhost:8080/",
          "height": 35
        },
        "id": "3nyJPV4ZRm5-",
        "outputId": "c30b39cd-8f82-4e3a-8205-8aef9a309fd2"
      },
      "source": [
        "df['preprocessing_review'][1]"
      ],
      "execution_count": 38,
      "outputs": [
        {
          "output_type": "execute_result",
          "data": {
            "application/vnd.google.colaboratory.intrinsic+json": {
              "type": "string"
            },
            "text/plain": [
              "'کارت حافظه که معمولا بر روی گوشی هوشمند تلفن همراه نه دوربین استفاده شد&شو .'"
            ]
          },
          "metadata": {
            "tags": []
          },
          "execution_count": 38
        }
      ]
    },
    {
      "cell_type": "markdown",
      "metadata": {
        "id": "CFl2rUgySeS_"
      },
      "source": [
        "**What is \\u200 in our dataset? are they preprocessed?**"
      ]
    },
    {
      "cell_type": "code",
      "metadata": {
        "colab": {
          "base_uri": "https://localhost:8080/",
          "height": 204
        },
        "id": "jE_Ou_UjRs3s",
        "outputId": "572ba886-f6b5-42a3-9af4-897973c0d4aa"
      },
      "source": [
        "data = df.copy()\n",
        "y = data['label'].values\n",
        "data.drop(labels=['review', 'label'], axis=1, inplace=True) # remove useless columns\n",
        "\n",
        "data.head()"
      ],
      "execution_count": 40,
      "outputs": [
        {
          "output_type": "execute_result",
          "data": {
            "text/html": [
              "<div>\n",
              "<style scoped>\n",
              "    .dataframe tbody tr th:only-of-type {\n",
              "        vertical-align: middle;\n",
              "    }\n",
              "\n",
              "    .dataframe tbody tr th {\n",
              "        vertical-align: top;\n",
              "    }\n",
              "\n",
              "    .dataframe thead th {\n",
              "        text-align: right;\n",
              "    }\n",
              "</style>\n",
              "<table border=\"1\" class=\"dataframe\">\n",
              "  <thead>\n",
              "    <tr style=\"text-align: right;\">\n",
              "      <th></th>\n",
              "      <th>preprocessing_review</th>\n",
              "    </tr>\n",
              "  </thead>\n",
              "  <tbody>\n",
              "    <tr>\n",
              "      <th>0</th>\n",
              "      <td>دوربین اصلی این گوشی دارای یک سنسور مگاپیکسلی ...</td>\n",
              "    </tr>\n",
              "    <tr>\n",
              "      <th>1</th>\n",
              "      <td>کارت حافظه که معمولا بر روی گوشی هوشمند تلفن ه...</td>\n",
              "    </tr>\n",
              "    <tr>\n",
              "      <th>2</th>\n",
              "      <td>اندازه رزولوشن نمایشگر iPod دقیقا همانند iPhon...</td>\n",
              "    </tr>\n",
              "    <tr>\n",
              "      <th>3</th>\n",
              "      <td>اما صفحه نمایش دوربین فیلم‌برداری JVC GZ - MG3...</td>\n",
              "    </tr>\n",
              "    <tr>\n",
              "      <th>4</th>\n",
              "      <td>نهایتا ، بر روی قاب پشتی گوشی نیز ، دوربین به ...</td>\n",
              "    </tr>\n",
              "  </tbody>\n",
              "</table>\n",
              "</div>"
            ],
            "text/plain": [
              "                                preprocessing_review\n",
              "0  دوربین اصلی این گوشی دارای یک سنسور مگاپیکسلی ...\n",
              "1  کارت حافظه که معمولا بر روی گوشی هوشمند تلفن ه...\n",
              "2  اندازه رزولوشن نمایشگر iPod دقیقا همانند iPhon...\n",
              "3  اما صفحه نمایش دوربین فیلم‌برداری JVC GZ - MG3...\n",
              "4  نهایتا ، بر روی قاب پشتی گوشی نیز ، دوربین به ..."
            ]
          },
          "metadata": {
            "tags": []
          },
          "execution_count": 40
        }
      ]
    },
    {
      "cell_type": "code",
      "metadata": {
        "colab": {
          "base_uri": "https://localhost:8080/"
        },
        "id": "vdeI_zpWVnKz",
        "outputId": "db8db0d4-1578-4385-db58-f5e3918371ee"
      },
      "source": [
        "print(f'data shape: {data.shape}')\n",
        "print(f'y shape : {y.shape}')"
      ],
      "execution_count": 42,
      "outputs": [
        {
          "output_type": "stream",
          "text": [
            "data shape: (7023, 1)\n",
            "y shape : (7023,)\n"
          ],
          "name": "stdout"
        }
      ]
    },
    {
      "cell_type": "markdown",
      "metadata": {
        "id": "L_vBk0_CVBok"
      },
      "source": [
        "### Split train and test dataset"
      ]
    },
    {
      "cell_type": "code",
      "metadata": {
        "colab": {
          "base_uri": "https://localhost:8080/"
        },
        "id": "hyyVB2r6U_i8",
        "outputId": "2ba3e0c8-8bad-4ad6-c45c-5ca3b12d29da"
      },
      "source": [
        "from sklearn.model_selection import train_test_split\n",
        "\n",
        "X_train, X_test, y_train, y_test = train_test_split(data, y, test_size=0.2, stratify=y)\n",
        "print(f'Train data: {X_train.shape} {y_train.shape}')\n",
        "print(f'Test data: {X_test.shape} {y_test.shape}')"
      ],
      "execution_count": 43,
      "outputs": [
        {
          "output_type": "stream",
          "text": [
            "Train data: (5618, 1) (5618,)\n",
            "Test data: (1405, 1) (1405,)\n"
          ],
          "name": "stdout"
        }
      ]
    },
    {
      "cell_type": "code",
      "metadata": {
        "id": "SR6zw9cqWTUH"
      },
      "source": [
        ""
      ],
      "execution_count": null,
      "outputs": []
    }
  ]
}