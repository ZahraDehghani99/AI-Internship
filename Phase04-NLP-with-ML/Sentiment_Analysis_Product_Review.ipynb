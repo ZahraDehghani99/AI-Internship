{
  "nbformat": 4,
  "nbformat_minor": 0,
  "metadata": {
    "colab": {
      "name": "Sentiment_Analysis_Product_Review.ipynb",
      "provenance": [],
      "collapsed_sections": [],
      "toc_visible": true
    },
    "kernelspec": {
      "display_name": "Python 3",
      "name": "python3"
    },
    "language_info": {
      "name": "python"
    }
  },
  "cells": [
    {
      "cell_type": "markdown",
      "metadata": {
        "id": "38ATLrOQd9VY"
      },
      "source": [
        "# Sentiment Analysis of Product Review"
      ]
    },
    {
      "cell_type": "markdown",
      "metadata": {
        "id": "T6fmA4t3CuWt"
      },
      "source": [
        "## Read and Explore data (EDA)"
      ]
    },
    {
      "cell_type": "code",
      "metadata": {
        "colab": {
          "base_uri": "https://localhost:8080/"
        },
        "id": "2t5zoDy6CcmR",
        "outputId": "303e8e2c-2db4-4d3d-f848-f19419002a66"
      },
      "source": [
        "!pip install parsivar"
      ],
      "execution_count": null,
      "outputs": [
        {
          "output_type": "stream",
          "text": [
            "Collecting parsivar\n",
            "  Downloading parsivar-0.2.3.tar.gz (36.2 MB)\n",
            "\u001b[K     |████████████████████████████████| 36.2 MB 62 kB/s \n",
            "\u001b[?25hCollecting nltk==3.4.5\n",
            "  Downloading nltk-3.4.5.zip (1.5 MB)\n",
            "\u001b[K     |████████████████████████████████| 1.5 MB 60.1 MB/s \n",
            "\u001b[?25hRequirement already satisfied: six in /usr/local/lib/python3.7/dist-packages (from nltk==3.4.5->parsivar) (1.15.0)\n",
            "Building wheels for collected packages: parsivar, nltk\n",
            "  Building wheel for parsivar (setup.py) ... \u001b[?25l\u001b[?25hdone\n",
            "  Created wheel for parsivar: filename=parsivar-0.2.3-py3-none-any.whl size=36492971 sha256=705b3f9efab8fa64b7662a587ea3e1426fffa011872544bc186a75b05ecebde7\n",
            "  Stored in directory: /root/.cache/pip/wheels/ae/67/7a/49cbf08f64d3f76a26eceaf0e481a40e233f05d4356875cbed\n",
            "  Building wheel for nltk (setup.py) ... \u001b[?25l\u001b[?25hdone\n",
            "  Created wheel for nltk: filename=nltk-3.4.5-py3-none-any.whl size=1449920 sha256=9c93f38da23fc3d5879464401e5e7c6e2f0044b64c2ff75445f192be3689e8ec\n",
            "  Stored in directory: /root/.cache/pip/wheels/48/8b/7f/473521e0c731c6566d631b281f323842bbda9bd819eb9a3ead\n",
            "Successfully built parsivar nltk\n",
            "Installing collected packages: nltk, parsivar\n",
            "  Attempting uninstall: nltk\n",
            "    Found existing installation: nltk 3.2.5\n",
            "    Uninstalling nltk-3.2.5:\n",
            "      Successfully uninstalled nltk-3.2.5\n",
            "Successfully installed nltk-3.4.5 parsivar-0.2.3\n"
          ],
          "name": "stdout"
        }
      ]
    },
    {
      "cell_type": "code",
      "metadata": {
        "id": "QbQIjGU0d8Y0"
      },
      "source": [
        "import pandas as pd\n",
        "import parsivar\n",
        "from parsivar import Normalizer, Tokenizer, FindStems, FindChunks, DependencyParser\n",
        "import warnings\n",
        "warnings.filterwarnings('ignore')\n",
        "import matplotlib.pyplot as plt"
      ],
      "execution_count": null,
      "outputs": []
    },
    {
      "cell_type": "code",
      "metadata": {
        "colab": {
          "base_uri": "https://localhost:8080/"
        },
        "id": "LTwEfdWjrMk0",
        "outputId": "e1812d46-af1c-433c-d70b-9669bfe2183b"
      },
      "source": [
        "from google.colab import drive\n",
        "drive.mount('/content/drive')"
      ],
      "execution_count": null,
      "outputs": [
        {
          "output_type": "stream",
          "text": [
            "Drive already mounted at /content/drive; to attempt to forcibly remount, call drive.mount(\"/content/drive\", force_remount=True).\n"
          ],
          "name": "stdout"
        }
      ]
    },
    {
      "cell_type": "markdown",
      "metadata": {
        "id": "M5PC-aoqTZuM"
      },
      "source": [
        "### Read the dataset"
      ]
    },
    {
      "cell_type": "code",
      "metadata": {
        "colab": {
          "base_uri": "https://localhost:8080/",
          "height": 221
        },
        "id": "IbNf67YTsC9_",
        "outputId": "0fb2ead9-19c2-47e9-d939-1b69e4835ceb"
      },
      "source": [
        "df = pd.read_csv('/content/drive/MyDrive/AI-Internship/camera_review.txt', sep=\",\", header=None)\n",
        "print(f'data shape : {df.shape}')\n",
        "df.head()"
      ],
      "execution_count": null,
      "outputs": [
        {
          "output_type": "stream",
          "text": [
            "data shape : (7023, 2)\n"
          ],
          "name": "stdout"
        },
        {
          "output_type": "execute_result",
          "data": {
            "text/html": [
              "<div>\n",
              "<style scoped>\n",
              "    .dataframe tbody tr th:only-of-type {\n",
              "        vertical-align: middle;\n",
              "    }\n",
              "\n",
              "    .dataframe tbody tr th {\n",
              "        vertical-align: top;\n",
              "    }\n",
              "\n",
              "    .dataframe thead th {\n",
              "        text-align: right;\n",
              "    }\n",
              "</style>\n",
              "<table border=\"1\" class=\"dataframe\">\n",
              "  <thead>\n",
              "    <tr style=\"text-align: right;\">\n",
              "      <th></th>\n",
              "      <th>0</th>\n",
              "      <th>1</th>\n",
              "    </tr>\n",
              "  </thead>\n",
              "  <tbody>\n",
              "    <tr>\n",
              "      <th>0</th>\n",
              "      <td>دوربین اصلی این گوشی دارای یک سنسور مگاپیکسلی ...</td>\n",
              "      <td>0</td>\n",
              "    </tr>\n",
              "    <tr>\n",
              "      <th>1</th>\n",
              "      <td>کارت‌های حافظه ای که معمولا بر روی گوشی‌های هو...</td>\n",
              "      <td>0</td>\n",
              "    </tr>\n",
              "    <tr>\n",
              "      <th>2</th>\n",
              "      <td>اندازه رزولوشن نمایشگر iPod دقیقا همانند iPhon...</td>\n",
              "      <td>0</td>\n",
              "    </tr>\n",
              "    <tr>\n",
              "      <th>3</th>\n",
              "      <td>اما صفحه نمایش دوربین فیلمبرداری JVC GZ-MG335،...</td>\n",
              "      <td>0</td>\n",
              "    </tr>\n",
              "    <tr>\n",
              "      <th>4</th>\n",
              "      <td>نهایتا، بر روی قاب پشتی گوشی نیز، دوربین به هم...</td>\n",
              "      <td>0</td>\n",
              "    </tr>\n",
              "  </tbody>\n",
              "</table>\n",
              "</div>"
            ],
            "text/plain": [
              "                                                   0  1\n",
              "0  دوربین اصلی این گوشی دارای یک سنسور مگاپیکسلی ...  0\n",
              "1  کارت‌های حافظه ای که معمولا بر روی گوشی‌های هو...  0\n",
              "2  اندازه رزولوشن نمایشگر iPod دقیقا همانند iPhon...  0\n",
              "3  اما صفحه نمایش دوربین فیلمبرداری JVC GZ-MG335،...  0\n",
              "4  نهایتا، بر روی قاب پشتی گوشی نیز، دوربین به هم...  0"
            ]
          },
          "metadata": {
            "tags": []
          },
          "execution_count": 6
        }
      ]
    },
    {
      "cell_type": "markdown",
      "metadata": {
        "id": "KtYubFTjTdS5"
      },
      "source": [
        "### Explore the dataset"
      ]
    },
    {
      "cell_type": "code",
      "metadata": {
        "colab": {
          "base_uri": "https://localhost:8080/"
        },
        "id": "a7zLbPbHDVcH",
        "outputId": "1e9be98d-148b-4004-caa1-50cb69ae696c"
      },
      "source": [
        "# change the header names\n",
        "print(f'Initial columns name : {df.columns}')\n",
        "df.columns = ['review', 'label']\n",
        "print(f'Current columns name : {df.columns}')"
      ],
      "execution_count": null,
      "outputs": [
        {
          "output_type": "stream",
          "text": [
            "Initial columns name : Int64Index([0, 1], dtype='int64')\n",
            "Current columns name : Index(['review', 'label'], dtype='object')\n"
          ],
          "name": "stdout"
        }
      ]
    },
    {
      "cell_type": "code",
      "metadata": {
        "colab": {
          "base_uri": "https://localhost:8080/",
          "height": 204
        },
        "id": "1gy8sQhBEWds",
        "outputId": "5e9d1e33-93cb-4b58-d494-3c7d9078cb99"
      },
      "source": [
        "df.head()"
      ],
      "execution_count": null,
      "outputs": [
        {
          "output_type": "execute_result",
          "data": {
            "text/html": [
              "<div>\n",
              "<style scoped>\n",
              "    .dataframe tbody tr th:only-of-type {\n",
              "        vertical-align: middle;\n",
              "    }\n",
              "\n",
              "    .dataframe tbody tr th {\n",
              "        vertical-align: top;\n",
              "    }\n",
              "\n",
              "    .dataframe thead th {\n",
              "        text-align: right;\n",
              "    }\n",
              "</style>\n",
              "<table border=\"1\" class=\"dataframe\">\n",
              "  <thead>\n",
              "    <tr style=\"text-align: right;\">\n",
              "      <th></th>\n",
              "      <th>review</th>\n",
              "      <th>label</th>\n",
              "    </tr>\n",
              "  </thead>\n",
              "  <tbody>\n",
              "    <tr>\n",
              "      <th>0</th>\n",
              "      <td>دوربین اصلی این گوشی دارای یک سنسور مگاپیکسلی ...</td>\n",
              "      <td>0</td>\n",
              "    </tr>\n",
              "    <tr>\n",
              "      <th>1</th>\n",
              "      <td>کارت‌های حافظه ای که معمولا بر روی گوشی‌های هو...</td>\n",
              "      <td>0</td>\n",
              "    </tr>\n",
              "    <tr>\n",
              "      <th>2</th>\n",
              "      <td>اندازه رزولوشن نمایشگر iPod دقیقا همانند iPhon...</td>\n",
              "      <td>0</td>\n",
              "    </tr>\n",
              "    <tr>\n",
              "      <th>3</th>\n",
              "      <td>اما صفحه نمایش دوربین فیلمبرداری JVC GZ-MG335،...</td>\n",
              "      <td>0</td>\n",
              "    </tr>\n",
              "    <tr>\n",
              "      <th>4</th>\n",
              "      <td>نهایتا، بر روی قاب پشتی گوشی نیز، دوربین به هم...</td>\n",
              "      <td>0</td>\n",
              "    </tr>\n",
              "  </tbody>\n",
              "</table>\n",
              "</div>"
            ],
            "text/plain": [
              "                                              review  label\n",
              "0  دوربین اصلی این گوشی دارای یک سنسور مگاپیکسلی ...      0\n",
              "1  کارت‌های حافظه ای که معمولا بر روی گوشی‌های هو...      0\n",
              "2  اندازه رزولوشن نمایشگر iPod دقیقا همانند iPhon...      0\n",
              "3  اما صفحه نمایش دوربین فیلمبرداری JVC GZ-MG335،...      0\n",
              "4  نهایتا، بر روی قاب پشتی گوشی نیز، دوربین به هم...      0"
            ]
          },
          "metadata": {
            "tags": []
          },
          "execution_count": 10
        }
      ]
    },
    {
      "cell_type": "markdown",
      "metadata": {
        "id": "IQIPO3rPE0DD"
      },
      "source": [
        "Description of each columns:\n",
        "\n",
        "*   review : people's opinion about product.\n",
        "*   label : people sentiment about that product.\n",
        "\n",
        "** review is feature and label is target. **"
      ]
    },
    {
      "cell_type": "code",
      "metadata": {
        "colab": {
          "base_uri": "https://localhost:8080/"
        },
        "id": "doVKwyogslYM",
        "outputId": "570b488c-a835-46da-be1c-b57675c87a10"
      },
      "source": [
        "df.info()"
      ],
      "execution_count": null,
      "outputs": [
        {
          "output_type": "stream",
          "text": [
            "<class 'pandas.core.frame.DataFrame'>\n",
            "RangeIndex: 7023 entries, 0 to 7022\n",
            "Data columns (total 2 columns):\n",
            " #   Column  Non-Null Count  Dtype \n",
            "---  ------  --------------  ----- \n",
            " 0   review  7023 non-null   object\n",
            " 1   label   7023 non-null   int64 \n",
            "dtypes: int64(1), object(1)\n",
            "memory usage: 109.9+ KB\n"
          ],
          "name": "stdout"
        }
      ]
    },
    {
      "cell_type": "markdown",
      "metadata": {
        "id": "oGm8awQ_Eb5K"
      },
      "source": [
        "As we see, we don't have missing values."
      ]
    },
    {
      "cell_type": "code",
      "metadata": {
        "colab": {
          "base_uri": "https://localhost:8080/",
          "height": 297
        },
        "id": "TucpuR1ytOFV",
        "outputId": "2fb378d2-087e-4545-aba5-455ab217507a"
      },
      "source": [
        "df.describe()"
      ],
      "execution_count": null,
      "outputs": [
        {
          "output_type": "execute_result",
          "data": {
            "text/html": [
              "<div>\n",
              "<style scoped>\n",
              "    .dataframe tbody tr th:only-of-type {\n",
              "        vertical-align: middle;\n",
              "    }\n",
              "\n",
              "    .dataframe tbody tr th {\n",
              "        vertical-align: top;\n",
              "    }\n",
              "\n",
              "    .dataframe thead th {\n",
              "        text-align: right;\n",
              "    }\n",
              "</style>\n",
              "<table border=\"1\" class=\"dataframe\">\n",
              "  <thead>\n",
              "    <tr style=\"text-align: right;\">\n",
              "      <th></th>\n",
              "      <th>label</th>\n",
              "    </tr>\n",
              "  </thead>\n",
              "  <tbody>\n",
              "    <tr>\n",
              "      <th>count</th>\n",
              "      <td>7023.000000</td>\n",
              "    </tr>\n",
              "    <tr>\n",
              "      <th>mean</th>\n",
              "      <td>0.655418</td>\n",
              "    </tr>\n",
              "    <tr>\n",
              "      <th>std</th>\n",
              "      <td>1.084845</td>\n",
              "    </tr>\n",
              "    <tr>\n",
              "      <th>min</th>\n",
              "      <td>-2.000000</td>\n",
              "    </tr>\n",
              "    <tr>\n",
              "      <th>25%</th>\n",
              "      <td>0.000000</td>\n",
              "    </tr>\n",
              "    <tr>\n",
              "      <th>50%</th>\n",
              "      <td>1.000000</td>\n",
              "    </tr>\n",
              "    <tr>\n",
              "      <th>75%</th>\n",
              "      <td>2.000000</td>\n",
              "    </tr>\n",
              "    <tr>\n",
              "      <th>max</th>\n",
              "      <td>2.000000</td>\n",
              "    </tr>\n",
              "  </tbody>\n",
              "</table>\n",
              "</div>"
            ],
            "text/plain": [
              "             label\n",
              "count  7023.000000\n",
              "mean      0.655418\n",
              "std       1.084845\n",
              "min      -2.000000\n",
              "25%       0.000000\n",
              "50%       1.000000\n",
              "75%       2.000000\n",
              "max       2.000000"
            ]
          },
          "metadata": {
            "tags": []
          },
          "execution_count": 12
        }
      ]
    },
    {
      "cell_type": "code",
      "metadata": {
        "colab": {
          "base_uri": "https://localhost:8080/"
        },
        "id": "cSc_uOXIuj3n",
        "outputId": "0aa2fa14-cfc9-4052-df6b-c60fdd6828c2"
      },
      "source": [
        "df.label.value_counts()"
      ],
      "execution_count": null,
      "outputs": [
        {
          "output_type": "execute_result",
          "data": {
            "text/plain": [
              " 1    2000\n",
              " 0    2000\n",
              " 2    1928\n",
              "-1     937\n",
              "-2     158\n",
              "Name: label, dtype: int64"
            ]
          },
          "metadata": {
            "tags": []
          },
          "execution_count": 15
        }
      ]
    },
    {
      "cell_type": "code",
      "metadata": {
        "colab": {
          "base_uri": "https://localhost:8080/",
          "height": 295
        },
        "id": "SFF8RRTrEnny",
        "outputId": "317abc59-2525-4c29-c054-0e3fe62f25b0"
      },
      "source": [
        "# destribution of data in each class\n",
        "distribution  = list(df.label.value_counts())\n",
        "\n",
        "plt.bar([1, 0, 2, -1, -2] ,distribution)\n",
        "plt.xlabel(\"Label\")\n",
        "plt.ylabel(\"Number of Reviews\")\n",
        "plt.title(\"Distribution of data in each class\")\n",
        "plt.show()"
      ],
      "execution_count": null,
      "outputs": [
        {
          "output_type": "display_data",
          "data": {
            "image/png": "[encoded data removed]",
            "text/plain": [
              "<Figure size 432x288 with 1 Axes>"
            ]
          },
          "metadata": {
            "tags": []
          }
        }
      ]
    },
    {
      "cell_type": "markdown",
      "metadata": {
        "id": "OcGbMPzRIXiW"
      },
      "source": [
        "As we see, number of data in class 0, 1, 2 are more than in -1, -2. "
      ]
    },
    {
      "cell_type": "code",
      "metadata": {
        "colab": {
          "base_uri": "https://localhost:8080/",
          "height": 35
        },
        "id": "vhsX2OZjGsQF",
        "outputId": "47932edf-be9b-4a8a-c2b9-7d6af0a59dec"
      },
      "source": [
        "df['review'][0]"
      ],
      "execution_count": null,
      "outputs": [
        {
          "output_type": "execute_result",
          "data": {
            "application/vnd.google.colaboratory.intrinsic+json": {
              "type": "string"
            },
            "text/plain": [
              "'دوربین اصلی این گوشی دارای یک سنسور مگاپیکسلی می\\u200cباشد که قابلیت فیلم برداری با کیفیت FullHD با سرعت 30 فریم بر ثانیه را نیز داراست.'"
            ]
          },
          "metadata": {
            "tags": []
          },
          "execution_count": 20
        }
      ]
    },
    {
      "cell_type": "code",
      "metadata": {
        "colab": {
          "base_uri": "https://localhost:8080/",
          "height": 52
        },
        "id": "qZKWpwwiQnBM",
        "outputId": "7c897cc6-b766-46ac-ed27-296801f4a98f"
      },
      "source": [
        "df['review'][7000]"
      ],
      "execution_count": null,
      "outputs": [
        {
          "output_type": "execute_result",
          "data": {
            "application/vnd.google.colaboratory.intrinsic+json": {
              "type": "string"
            },
            "text/plain": [
              "'به نظر من اين گوشي ارزش خريد نداره اگه قيمتش هم اندازه گوشي هايي مثل گلکسي اس اچ تي سي وان ايکس باشه به نظر من حداقلش پردازندش بايد هسته اي مي بود که نيست همچنين اگه بخوايم عمر باتري در نظر بگيريم که اپل خيلي عقبه.'"
            ]
          },
          "metadata": {
            "tags": []
          },
          "execution_count": 27
        }
      ]
    },
    {
      "cell_type": "markdown",
      "metadata": {
        "id": "-7FppeA4faXH"
      },
      "source": [
        "#### Comparison of operations of nltk and parsivar"
      ]
    },
    {
      "cell_type": "code",
      "metadata": {
        "colab": {
          "base_uri": "https://localhost:8080/"
        },
        "id": "KQsV9NlWWqD2",
        "outputId": "dfbd6a78-eca4-4b4e-b128-5c723c69c231"
      },
      "source": [
        "# Loading NLTk\n",
        "import nltk\n",
        "nltk.download('punkt')"
      ],
      "execution_count": null,
      "outputs": [
        {
          "output_type": "stream",
          "text": [
            "[nltk_data] Downloading package punkt to /root/nltk_data...\n",
            "[nltk_data]   Unzipping tokenizers/punkt.zip.\n"
          ],
          "name": "stderr"
        },
        {
          "output_type": "execute_result",
          "data": {
            "text/plain": [
              "True"
            ]
          },
          "metadata": {
            "tags": []
          },
          "execution_count": 44
        }
      ]
    },
    {
      "cell_type": "markdown",
      "metadata": {
        "id": "EGeDvlFSfnfx"
      },
      "source": [
        "##### Sentence Segmentation"
      ]
    },
    {
      "cell_type": "code",
      "metadata": {
        "colab": {
          "base_uri": "https://localhost:8080/"
        },
        "id": "iiBaIlhheaPP",
        "outputId": "05f4dd3d-bd1b-429c-c6c1-9c269c3f9d63"
      },
      "source": [
        "from nltk.tokenize import sent_tokenize\n",
        "\n",
        "# sentence tokenization using nltk\n",
        "tokenized_sent = sent_tokenize(df['review'][7000])\n",
        "print(f'Tokenized sentence -> {tokenized_sent}')\n",
        "print(f'length of Tokenized sent : {len(tokenized_sent)}')"
      ],
      "execution_count": null,
      "outputs": [
        {
          "output_type": "stream",
          "text": [
            "Tokenized sentence -> ['به نظر من اين گوشي ارزش خريد نداره اگه قيمتش هم اندازه گوشي هايي مثل گلکسي اس اچ تي سي وان ايکس باشه به نظر من حداقلش پردازندش بايد هسته اي مي بود که نيست همچنين اگه بخوايم عمر باتري در نظر بگيريم که اپل خيلي عقبه.']\n",
            "length of Tokenized sent : 1\n"
          ],
          "name": "stdout"
        }
      ]
    },
    {
      "cell_type": "code",
      "metadata": {
        "colab": {
          "base_uri": "https://localhost:8080/"
        },
        "id": "Jfolh2A2fBds",
        "outputId": "7af4f3bb-4a4c-4c6c-b595-a876d7fd94d9"
      },
      "source": [
        "# sentence tokenization using parsivar\n",
        "tokenizer = Tokenizer()\n",
        "sents = tokenizer.tokenize_sentences(df['review'][7000])\n",
        "print(f'Tokenized sentence -> {sents}')\n",
        "print(f'length of Tokenized sent : {len(sents)}')"
      ],
      "execution_count": null,
      "outputs": [
        {
          "output_type": "stream",
          "text": [
            "Tokenized sentence -> ['به نظر من اين گوشي ارزش خريد نداره اگه قيمتش هم اندازه گوشي هايي مثل گلکسي اس اچ تي سي وان ايکس باشه به نظر من حداقلش پردازندش بايد هسته اي مي بود که نيست همچنين اگه بخوايم عمر باتري در نظر بگيريم که اپل خيلي عقبه .']\n",
            "length of Tokenized sent : 1\n"
          ],
          "name": "stdout"
        }
      ]
    },
    {
      "cell_type": "markdown",
      "metadata": {
        "id": "ehP1_BLCfzeG"
      },
      "source": [
        "##### Word Tokenization"
      ]
    },
    {
      "cell_type": "code",
      "metadata": {
        "colab": {
          "base_uri": "https://localhost:8080/"
        },
        "id": "sP4sUya5WtU2",
        "outputId": "da294c38-6d0f-49c0-b9cc-402e08865fe8"
      },
      "source": [
        "from nltk.tokenize import word_tokenize\n",
        "\n",
        "# word tokenization using nltk\n",
        "tokenized_word = word_tokenize(df['review'][7000])\n",
        "print(f'Tokenized word -> {tokenized_word}')\n",
        "print(f'length of Tokenized word : {len(tokenized_word)}')"
      ],
      "execution_count": null,
      "outputs": [
        {
          "output_type": "stream",
          "text": [
            "Tokenized word -> ['به', 'نظر', 'من', 'اين', 'گوشي', 'ارزش', 'خريد', 'نداره', 'اگه', 'قيمتش', 'هم', 'اندازه', 'گوشي', 'هايي', 'مثل', 'گلکسي', 'اس', 'اچ', 'تي', 'سي', 'وان', 'ايکس', 'باشه', 'به', 'نظر', 'من', 'حداقلش', 'پردازندش', 'بايد', 'هسته', 'اي', 'مي', 'بود', 'که', 'نيست', 'همچنين', 'اگه', 'بخوايم', 'عمر', 'باتري', 'در', 'نظر', 'بگيريم', 'که', 'اپل', 'خيلي', 'عقبه', '.']\n",
            "length of Tokenized word : 48\n"
          ],
          "name": "stdout"
        }
      ]
    },
    {
      "cell_type": "code",
      "metadata": {
        "colab": {
          "base_uri": "https://localhost:8080/"
        },
        "id": "A2IH6ME9XLSP",
        "outputId": "9bc7d26c-8cf7-45d8-b87c-57cc772128ba"
      },
      "source": [
        "# word tokenization using parsivar\n",
        "tokenizer = Tokenizer()\n",
        "words = tokenizer.tokenize_words(df['review'][7000])\n",
        "print(f'Tokenized word -> {words}')\n",
        "print(f'length of Tokenized word : {len(words)}')"
      ],
      "execution_count": null,
      "outputs": [
        {
          "output_type": "stream",
          "text": [
            "Tokenized word -> ['به', 'نظر', 'من', 'اين', 'گوشي', 'ارزش', 'خريد', 'نداره', 'اگه', 'قيمتش', 'هم', 'اندازه', 'گوشي', 'هايي', 'مثل', 'گلکسي', 'اس', 'اچ', 'تي', 'سي', 'وان', 'ايکس', 'باشه', 'به', 'نظر', 'من', 'حداقلش', 'پردازندش', 'بايد', 'هسته', 'اي', 'مي', 'بود', 'که', 'نيست', 'همچنين', 'اگه', 'بخوايم', 'عمر', 'باتري', 'در', 'نظر', 'بگيريم', 'که', 'اپل', 'خيلي', 'عقبه.']\n",
            "length of Tokenized word : 47\n"
          ],
          "name": "stdout"
        }
      ]
    },
    {
      "cell_type": "markdown",
      "metadata": {
        "id": "xeMwPv1Ef339"
      },
      "source": [
        "##### Frequently Distribution "
      ]
    },
    {
      "cell_type": "code",
      "metadata": {
        "colab": {
          "base_uri": "https://localhost:8080/"
        },
        "id": "eQdEaHIXYFQ8",
        "outputId": "4fd60bb8-b46d-46ee-d301-12a5be71a6f6"
      },
      "source": [
        "from nltk.probability import FreqDist\n",
        "fdist = FreqDist(tokenized_word)\n",
        "print(fdist)"
      ],
      "execution_count": null,
      "outputs": [
        {
          "output_type": "stream",
          "text": [
            "<FreqDist with 41 samples and 48 outcomes>\n"
          ],
          "name": "stdout"
        }
      ]
    },
    {
      "cell_type": "code",
      "metadata": {
        "colab": {
          "base_uri": "https://localhost:8080/"
        },
        "id": "Z6iJuEBtYdQi",
        "outputId": "1e4be418-d328-4956-80b0-59295144ac37"
      },
      "source": [
        "# print 3 most common words in the text\n",
        "fdist.most_common(3)"
      ],
      "execution_count": null,
      "outputs": [
        {
          "output_type": "execute_result",
          "data": {
            "text/plain": [
              "[('نظر', 3), ('به', 2), ('من', 2)]"
            ]
          },
          "metadata": {
            "tags": []
          },
          "execution_count": 52
        }
      ]
    },
    {
      "cell_type": "code",
      "metadata": {
        "colab": {
          "base_uri": "https://localhost:8080/",
          "height": 282
        },
        "id": "jHxg7OV2YkIx",
        "outputId": "5afa8a18-cad4-4718-9f86-7649c12aee3f"
      },
      "source": [
        "# frequently distribution plot\n",
        "plt.rcParams[\"figure.figsize\"] = (15,3)\n",
        "plt.title('Fequenty distribution plot')\n",
        "fdist.plot(48, cumulative=False)\n",
        "plt.show()"
      ],
      "execution_count": null,
      "outputs": [
        {
          "output_type": "display_data",
          "data": {
            "image/png": "[encoded data removed]",
            "text/plain": [
              "<Figure size 1080x216 with 1 Axes>"
            ]
          },
          "metadata": {
            "tags": []
          }
        }
      ]
    },
    {
      "cell_type": "markdown",
      "metadata": {
        "id": "XXo0psG1hGcJ"
      },
      "source": [
        "##### Stemming"
      ]
    },
    {
      "cell_type": "code",
      "metadata": {
        "colab": {
          "base_uri": "https://localhost:8080/"
        },
        "id": "vnhqs2YVeYFX",
        "outputId": "86a77c4b-e962-4f7a-fc0e-47b6475a1ce3"
      },
      "source": [
        "from nltk.stem import PorterStemmer\n",
        "\n",
        "ps = PorterStemmer()\n",
        "\n",
        "stemmed_words = []\n",
        "for w in tokenized_word:\n",
        "  stemmed_words.append(ps.stem(w))\n",
        "\n",
        "print(f'Stemmed sentence : {stemmed_words}')\n",
        "print(f'length of stemmed words : {len(stemmed_words)}')"
      ],
      "execution_count": null,
      "outputs": [
        {
          "output_type": "stream",
          "text": [
            "Stemmed sentence : ['به', 'نظر', 'من', 'اين', 'گوشي', 'ارزش', 'خريد', 'نداره', 'اگه', 'قيمتش', 'هم', 'اندازه', 'گوشي', 'هايي', 'مثل', 'گلکسي', 'اس', 'اچ', 'تي', 'سي', 'وان', 'ايکس', 'باشه', 'به', 'نظر', 'من', 'حداقلش', 'پردازندش', 'بايد', 'هسته', 'اي', 'مي', 'بود', 'که', 'نيست', 'همچنين', 'اگه', 'بخوايم', 'عمر', 'باتري', 'در', 'نظر', 'بگيريم', 'که', 'اپل', 'خيلي', 'عقبه', '.']\n",
            "length of stemmed words : 48\n"
          ],
          "name": "stdout"
        }
      ]
    },
    {
      "cell_type": "code",
      "metadata": {
        "colab": {
          "base_uri": "https://localhost:8080/"
        },
        "id": "YQMOSSwWgf-a",
        "outputId": "e6c493e0-09a8-4bbe-b9af-c77820633d20"
      },
      "source": [
        "stemmer = FindStems()\n",
        "stem_words = []\n",
        "for w in words:\n",
        "  stem_words.append(stemmer.convert_to_stem(w))\n",
        "\n",
        "print(f'Stemmed sentence : {stem_words}')\n",
        "print(f'length of stemmed words : {len(stem_words)}')   "
      ],
      "execution_count": null,
      "outputs": [
        {
          "output_type": "stream",
          "text": [
            "Stemmed sentence : ['به', 'نظر', 'من', 'اين', 'گوشي', 'ارزش', 'خريد', 'نداره', 'اگه', 'قيمتش', 'هم', 'اندازه', 'گوشي', 'هايي', 'مثل', 'گلکسي', 'اس', 'اچ', 'تي', 'سي', 'وان', 'ايکس', 'باشه', 'به', 'نظر', 'من', 'حداقل', 'پردازندش', 'بايد', 'هسته', 'اي', 'مي', 'بود&باش', 'که', 'نيست', 'همچنين', 'اگه', 'بخوايم', 'عمر', 'باتري', 'در', 'نظر', 'بگيريم', 'که', 'اپل', 'خيلي', 'عقبه.']\n",
            "length of stemmed words : 47\n"
          ],
          "name": "stdout"
        }
      ]
    },
    {
      "cell_type": "markdown",
      "metadata": {
        "id": "ku43Lo3si9zR"
      },
      "source": [
        "##### POSTagger"
      ]
    },
    {
      "cell_type": "code",
      "metadata": {
        "colab": {
          "base_uri": "https://localhost:8080/"
        },
        "id": "wDO2qVk4hPz5",
        "outputId": "3b2eb8f6-9669-442a-b5b2-56f3d70b008b"
      },
      "source": [
        "nltk.download('averaged_perceptron_tagger')"
      ],
      "execution_count": null,
      "outputs": [
        {
          "output_type": "stream",
          "text": [
            "[nltk_data] Downloading package averaged_perceptron_tagger to\n",
            "[nltk_data]     /root/nltk_data...\n",
            "[nltk_data]   Unzipping taggers/averaged_perceptron_tagger.zip.\n"
          ],
          "name": "stderr"
        },
        {
          "output_type": "execute_result",
          "data": {
            "text/plain": [
              "True"
            ]
          },
          "metadata": {
            "tags": []
          },
          "execution_count": 60
        }
      ]
    },
    {
      "cell_type": "code",
      "metadata": {
        "colab": {
          "base_uri": "https://localhost:8080/"
        },
        "id": "hpPajb1qhTla",
        "outputId": "42d8de61-0314-43da-9f93-372426934f88"
      },
      "source": [
        "nltk.pos_tag(words)"
      ],
      "execution_count": null,
      "outputs": [
        {
          "output_type": "execute_result",
          "data": {
            "text/plain": [
              "[('به', 'JJ'),\n",
              " ('نظر', 'NNP'),\n",
              " ('من', 'NNP'),\n",
              " ('اين', 'NNP'),\n",
              " ('گوشي', 'NNP'),\n",
              " ('ارزش', 'NNP'),\n",
              " ('خريد', 'NNP'),\n",
              " ('نداره', 'NNP'),\n",
              " ('اگه', 'NNP'),\n",
              " ('قيمتش', 'NNP'),\n",
              " ('هم', 'NNP'),\n",
              " ('اندازه', 'NNP'),\n",
              " ('گوشي', 'NNP'),\n",
              " ('هايي', 'NNP'),\n",
              " ('مثل', 'NNP'),\n",
              " ('گلکسي', 'NNP'),\n",
              " ('اس', 'NNP'),\n",
              " ('اچ', 'NNP'),\n",
              " ('تي', 'NNP'),\n",
              " ('سي', 'NNP'),\n",
              " ('وان', 'NNP'),\n",
              " ('ايکس', 'NNP'),\n",
              " ('باشه', 'NNP'),\n",
              " ('به', 'NNP'),\n",
              " ('نظر', 'NNP'),\n",
              " ('من', 'NNP'),\n",
              " ('حداقلش', 'NNP'),\n",
              " ('پردازندش', 'NNP'),\n",
              " ('بايد', 'NNP'),\n",
              " ('هسته', 'NNP'),\n",
              " ('اي', 'NNP'),\n",
              " ('مي', 'NNP'),\n",
              " ('بود', 'NNP'),\n",
              " ('که', 'NNP'),\n",
              " ('نيست', 'NNP'),\n",
              " ('همچنين', 'NNP'),\n",
              " ('اگه', 'NNP'),\n",
              " ('بخوايم', 'NNP'),\n",
              " ('عمر', 'NNP'),\n",
              " ('باتري', 'NNP'),\n",
              " ('در', 'NNP'),\n",
              " ('نظر', 'NNP'),\n",
              " ('بگيريم', 'NNP'),\n",
              " ('که', 'NNP'),\n",
              " ('اپل', 'NNP'),\n",
              " ('خيلي', 'NNP'),\n",
              " ('عقبه.', 'NN')]"
            ]
          },
          "metadata": {
            "tags": []
          },
          "execution_count": 61
        }
      ]
    },
    {
      "cell_type": "markdown",
      "metadata": {
        "id": "V8FgrcvWiLOg"
      },
      "source": [
        "As we see, pos tag in nltk can't determine part of speech correctly, for example it diagnose 'به' as adj but it's stopword."
      ]
    },
    {
      "cell_type": "markdown",
      "metadata": {
        "id": "0jm1iBkRoLVE"
      },
      "source": [
        "#### Print a sample of each class"
      ]
    },
    {
      "cell_type": "markdown",
      "metadata": {
        "id": "A7TGxC57InJ0"
      },
      "source": [
        "Let's take a look at one sample in each class."
      ]
    },
    {
      "cell_type": "code",
      "metadata": {
        "colab": {
          "base_uri": "https://localhost:8080/",
          "height": 52
        },
        "id": "y_5OhB0tHsmQ",
        "outputId": "dda3702c-3d1f-4ba3-c5a8-f0470a461bb6"
      },
      "source": [
        "# Sample -2 review\n",
        "df[df['label']==-2].sample(n=1)['review'].iloc[0]"
      ],
      "execution_count": null,
      "outputs": [
        {
          "output_type": "execute_result",
          "data": {
            "application/vnd.google.colaboratory.intrinsic+json": {
              "type": "string"
            },
            "text/plain": [
              "'خود شرکت ايسوس تايوان اين مسئله رو بيان کرد که به اين مشکل مي خورن ما رايگان عوض مي کنيم نزديک به 1ماه هست که گوشي در شرکت آوات هست کاري واسش نمي کنند.'"
            ]
          },
          "metadata": {
            "tags": []
          },
          "execution_count": 21
        }
      ]
    },
    {
      "cell_type": "code",
      "metadata": {
        "colab": {
          "base_uri": "https://localhost:8080/",
          "height": 35
        },
        "id": "cjv-MDIoI2Oo",
        "outputId": "f1181306-ce0f-4450-dc22-a178aea62675"
      },
      "source": [
        "# Sample -1 review\n",
        "df[df['label']==-1].sample(n=1)['review'].iloc[0]"
      ],
      "execution_count": null,
      "outputs": [
        {
          "output_type": "execute_result",
          "data": {
            "application/vnd.google.colaboratory.intrinsic+json": {
              "type": "string"
            },
            "text/plain": [
              "'سطح امنیت تشخیص چهره به اندازه ورود با شناسه اسم رمز بالا نیست.'"
            ]
          },
          "metadata": {
            "tags": []
          },
          "execution_count": 22
        }
      ]
    },
    {
      "cell_type": "code",
      "metadata": {
        "colab": {
          "base_uri": "https://localhost:8080/",
          "height": 35
        },
        "id": "nKKZn8ZQI7SR",
        "outputId": "f6e06219-59da-4f7d-fb82-2e2d04fc5c8a"
      },
      "source": [
        "# Sample 0 review\n",
        "df[df['label']==0].sample(n=1)['review'].iloc[0]"
      ],
      "execution_count": null,
      "outputs": [
        {
          "output_type": "execute_result",
          "data": {
            "application/vnd.google.colaboratory.intrinsic+json": {
              "type": "string"
            },
            "text/plain": [
              "'نوار Notification نسبت به نسخه قبلی تغییر دیگری نداشته است.'"
            ]
          },
          "metadata": {
            "tags": []
          },
          "execution_count": 23
        }
      ]
    },
    {
      "cell_type": "code",
      "metadata": {
        "colab": {
          "base_uri": "https://localhost:8080/",
          "height": 35
        },
        "id": "8ndi1fEEI8pW",
        "outputId": "7d2fbdec-9d31-46be-aee5-50c5ea2d0c6d"
      },
      "source": [
        "# Sample 1 review\n",
        "df[df['label']==1].sample(n=1)['review'].iloc[0]"
      ],
      "execution_count": null,
      "outputs": [
        {
          "output_type": "execute_result",
          "data": {
            "application/vnd.google.colaboratory.intrinsic+json": {
              "type": "string"
            },
            "text/plain": [
              "'بدست که ميگيري حس حرفه\\u200cايه عکاسي بهت دست ميده مخصوصا وقتي از چشميش استفاده ميکني.'"
            ]
          },
          "metadata": {
            "tags": []
          },
          "execution_count": 24
        }
      ]
    },
    {
      "cell_type": "code",
      "metadata": {
        "colab": {
          "base_uri": "https://localhost:8080/",
          "height": 35
        },
        "id": "XaNP62uVI9Av",
        "outputId": "45a871e8-befe-469d-91d4-ae8b0861e73b"
      },
      "source": [
        "# Sample 2 review\n",
        "df[df['label']==2].sample(n=1)['review'].iloc[0]"
      ],
      "execution_count": null,
      "outputs": [
        {
          "output_type": "execute_result",
          "data": {
            "application/vnd.google.colaboratory.intrinsic+json": {
              "type": "string"
            },
            "text/plain": [
              "'گلکسی اس3 یکی از بهترین گوشی\\u200cهای موجود در بازار برای مرورگری اینترنت است.'"
            ]
          },
          "metadata": {
            "tags": []
          },
          "execution_count": 25
        }
      ]
    },
    {
      "cell_type": "markdown",
      "metadata": {
        "id": "iBHr2leXTQFA"
      },
      "source": [
        "### Data Preprocessing"
      ]
    },
    {
      "cell_type": "markdown",
      "metadata": {
        "id": "5DAPI-ZUJRaG"
      },
      "source": [
        "Let's define a function for data preprocessing."
      ]
    },
    {
      "cell_type": "code",
      "metadata": {
        "id": "_y4Ti_diJiOh"
      },
      "source": [
        "import time\n",
        "tic = time.time()"
      ],
      "execution_count": null,
      "outputs": []
    },
    {
      "cell_type": "code",
      "metadata": {
        "id": "of9AfHJ0JLh-"
      },
      "source": [
        "def data_preprocessing(review):\n",
        "    \n",
        "    # normalizing the text\n",
        "    normalizer = Normalizer()\n",
        "    review = normalizer.normalize(review)\n",
        "    \n",
        "    # word tokenization\n",
        "    tokenizer = Tokenizer()\n",
        "    words = tokenizer.tokenize_words(review)\n",
        "    \n",
        "    # stemming \n",
        "    stemmer = FindStems()\n",
        "    review = [stemmer.convert_to_stem(word) for word in words]\n",
        "    \n",
        "    # join words in preprocessed review\n",
        "    review = ' '.join(review)\n",
        "    \n",
        "    return review"
      ],
      "execution_count": null,
      "outputs": []
    },
    {
      "cell_type": "code",
      "metadata": {
        "id": "D8JdQzmiLyRr"
      },
      "source": [
        "df['preprocessing_review'] = df['review'].apply(lambda review: data_preprocessing(review))"
      ],
      "execution_count": null,
      "outputs": []
    },
    {
      "cell_type": "code",
      "metadata": {
        "colab": {
          "base_uri": "https://localhost:8080/"
        },
        "id": "2DbaZbIhLyYA",
        "outputId": "dd1fc410-a04a-4115-8339-a61cc8c2c49a"
      },
      "source": [
        "toc = time.time()\n",
        "print(\"data preprocessing takes \"+ str(1000*(toc-tic)) + \" ms\")"
      ],
      "execution_count": null,
      "outputs": [
        {
          "output_type": "stream",
          "text": [
            "data preprocessing takes 112056.22553825378 ms\n"
          ],
          "name": "stdout"
        }
      ]
    },
    {
      "cell_type": "code",
      "metadata": {
        "id": "j80cN53pO6n1"
      },
      "source": [
        "# Save dataframe\n",
        "# df.to_pickle('/content/drive/MyDrive/AI-Internship/product_review_preprocessed')"
      ],
      "execution_count": null,
      "outputs": []
    },
    {
      "cell_type": "code",
      "metadata": {
        "id": "TmGFR3d74Ij6"
      },
      "source": [
        "#load the preprocessing dataframe\n",
        "df = pd.read_pickle(r'/content/drive/MyDrive/AI-Internship/product_review_preprocessed')"
      ],
      "execution_count": null,
      "outputs": []
    },
    {
      "cell_type": "code",
      "metadata": {
        "colab": {
          "base_uri": "https://localhost:8080/",
          "height": 204
        },
        "id": "eJhC3X0xRcbm",
        "outputId": "be860d80-b8d8-44c0-c697-bfcd7f56c15f"
      },
      "source": [
        "df.head()"
      ],
      "execution_count": null,
      "outputs": [
        {
          "output_type": "execute_result",
          "data": {
            "text/html": [
              "<div>\n",
              "<style scoped>\n",
              "    .dataframe tbody tr th:only-of-type {\n",
              "        vertical-align: middle;\n",
              "    }\n",
              "\n",
              "    .dataframe tbody tr th {\n",
              "        vertical-align: top;\n",
              "    }\n",
              "\n",
              "    .dataframe thead th {\n",
              "        text-align: right;\n",
              "    }\n",
              "</style>\n",
              "<table border=\"1\" class=\"dataframe\">\n",
              "  <thead>\n",
              "    <tr style=\"text-align: right;\">\n",
              "      <th></th>\n",
              "      <th>review</th>\n",
              "      <th>label</th>\n",
              "      <th>preprocessing_review</th>\n",
              "    </tr>\n",
              "  </thead>\n",
              "  <tbody>\n",
              "    <tr>\n",
              "      <th>0</th>\n",
              "      <td>دوربین اصلی این گوشی دارای یک سنسور مگاپیکسلی ...</td>\n",
              "      <td>0</td>\n",
              "      <td>دوربین اصلی این گوشی دارای یک سنسور مگاپیکسلی ...</td>\n",
              "    </tr>\n",
              "    <tr>\n",
              "      <th>1</th>\n",
              "      <td>کارت‌های حافظه ای که معمولا بر روی گوشی‌های هو...</td>\n",
              "      <td>0</td>\n",
              "      <td>کارت حافظه که معمولا بر روی گوشی هوشمند تلفن ه...</td>\n",
              "    </tr>\n",
              "    <tr>\n",
              "      <th>2</th>\n",
              "      <td>اندازه رزولوشن نمایشگر iPod دقیقا همانند iPhon...</td>\n",
              "      <td>0</td>\n",
              "      <td>اندازه رزولوشن نمایشگر iPod دقیقا همانند iPhon...</td>\n",
              "    </tr>\n",
              "    <tr>\n",
              "      <th>3</th>\n",
              "      <td>اما صفحه نمایش دوربین فیلمبرداری JVC GZ-MG335،...</td>\n",
              "      <td>0</td>\n",
              "      <td>اما صفحه نمایش دوربین فیلم‌برداری JVC GZ - MG3...</td>\n",
              "    </tr>\n",
              "    <tr>\n",
              "      <th>4</th>\n",
              "      <td>نهایتا، بر روی قاب پشتی گوشی نیز، دوربین به هم...</td>\n",
              "      <td>0</td>\n",
              "      <td>نهایتا ، بر روی قاب پشتی گوشی نیز ، دوربین به ...</td>\n",
              "    </tr>\n",
              "  </tbody>\n",
              "</table>\n",
              "</div>"
            ],
            "text/plain": [
              "                                              review  ...                               preprocessing_review\n",
              "0  دوربین اصلی این گوشی دارای یک سنسور مگاپیکسلی ...  ...  دوربین اصلی این گوشی دارای یک سنسور مگاپیکسلی ...\n",
              "1  کارت‌های حافظه ای که معمولا بر روی گوشی‌های هو...  ...  کارت حافظه که معمولا بر روی گوشی هوشمند تلفن ه...\n",
              "2  اندازه رزولوشن نمایشگر iPod دقیقا همانند iPhon...  ...  اندازه رزولوشن نمایشگر iPod دقیقا همانند iPhon...\n",
              "3  اما صفحه نمایش دوربین فیلمبرداری JVC GZ-MG335،...  ...  اما صفحه نمایش دوربین فیلم‌برداری JVC GZ - MG3...\n",
              "4  نهایتا، بر روی قاب پشتی گوشی نیز، دوربین به هم...  ...  نهایتا ، بر روی قاب پشتی گوشی نیز ، دوربین به ...\n",
              "\n",
              "[5 rows x 3 columns]"
            ]
          },
          "metadata": {
            "tags": []
          },
          "execution_count": 5
        }
      ]
    },
    {
      "cell_type": "code",
      "metadata": {
        "colab": {
          "base_uri": "https://localhost:8080/",
          "height": 35
        },
        "id": "N5P7bPWFRjHE",
        "outputId": "8546f34a-a911-4bce-ac96-0628dbd0e292"
      },
      "source": [
        "df['review'][1]"
      ],
      "execution_count": null,
      "outputs": [
        {
          "output_type": "execute_result",
          "data": {
            "application/vnd.google.colaboratory.intrinsic+json": {
              "type": "string"
            },
            "text/plain": [
              "'کارت\\u200cهای حافظه ای که معمولا بر روی گوشی\\u200cهای هوشمند تلفن همراه نه دوربین\\u200cها استفاده می\\u200cشوند.'"
            ]
          },
          "metadata": {
            "tags": []
          },
          "execution_count": 6
        }
      ]
    },
    {
      "cell_type": "code",
      "metadata": {
        "colab": {
          "base_uri": "https://localhost:8080/",
          "height": 35
        },
        "id": "3nyJPV4ZRm5-",
        "outputId": "4cf1f134-8238-4835-f33a-e28372b1008c"
      },
      "source": [
        "df['preprocessing_review'][1]"
      ],
      "execution_count": null,
      "outputs": [
        {
          "output_type": "execute_result",
          "data": {
            "application/vnd.google.colaboratory.intrinsic+json": {
              "type": "string"
            },
            "text/plain": [
              "'کارت حافظه که معمولا بر روی گوشی هوشمند تلفن همراه نه دوربین استفاده شد&شو .'"
            ]
          },
          "metadata": {
            "tags": []
          },
          "execution_count": 7
        }
      ]
    },
    {
      "cell_type": "markdown",
      "metadata": {
        "id": "CFl2rUgySeS_"
      },
      "source": [
        "**What is \\u200 in our dataset? are they preprocessed?**"
      ]
    },
    {
      "cell_type": "code",
      "metadata": {
        "colab": {
          "base_uri": "https://localhost:8080/",
          "height": 204
        },
        "id": "jE_Ou_UjRs3s",
        "outputId": "34222558-5c6e-49d6-d48c-2e9b5db4e054"
      },
      "source": [
        "data = df.copy()\n",
        "y = data['label'].values\n",
        "data.drop(labels=['review', 'label'], axis=1, inplace=True) # remove useless columns\n",
        "\n",
        "data.head()"
      ],
      "execution_count": null,
      "outputs": [
        {
          "output_type": "execute_result",
          "data": {
            "text/html": [
              "<div>\n",
              "<style scoped>\n",
              "    .dataframe tbody tr th:only-of-type {\n",
              "        vertical-align: middle;\n",
              "    }\n",
              "\n",
              "    .dataframe tbody tr th {\n",
              "        vertical-align: top;\n",
              "    }\n",
              "\n",
              "    .dataframe thead th {\n",
              "        text-align: right;\n",
              "    }\n",
              "</style>\n",
              "<table border=\"1\" class=\"dataframe\">\n",
              "  <thead>\n",
              "    <tr style=\"text-align: right;\">\n",
              "      <th></th>\n",
              "      <th>preprocessing_review</th>\n",
              "    </tr>\n",
              "  </thead>\n",
              "  <tbody>\n",
              "    <tr>\n",
              "      <th>0</th>\n",
              "      <td>دوربین اصلی این گوشی دارای یک سنسور مگاپیکسلی ...</td>\n",
              "    </tr>\n",
              "    <tr>\n",
              "      <th>1</th>\n",
              "      <td>کارت حافظه که معمولا بر روی گوشی هوشمند تلفن ه...</td>\n",
              "    </tr>\n",
              "    <tr>\n",
              "      <th>2</th>\n",
              "      <td>اندازه رزولوشن نمایشگر iPod دقیقا همانند iPhon...</td>\n",
              "    </tr>\n",
              "    <tr>\n",
              "      <th>3</th>\n",
              "      <td>اما صفحه نمایش دوربین فیلم‌برداری JVC GZ - MG3...</td>\n",
              "    </tr>\n",
              "    <tr>\n",
              "      <th>4</th>\n",
              "      <td>نهایتا ، بر روی قاب پشتی گوشی نیز ، دوربین به ...</td>\n",
              "    </tr>\n",
              "  </tbody>\n",
              "</table>\n",
              "</div>"
            ],
            "text/plain": [
              "                                preprocessing_review\n",
              "0  دوربین اصلی این گوشی دارای یک سنسور مگاپیکسلی ...\n",
              "1  کارت حافظه که معمولا بر روی گوشی هوشمند تلفن ه...\n",
              "2  اندازه رزولوشن نمایشگر iPod دقیقا همانند iPhon...\n",
              "3  اما صفحه نمایش دوربین فیلم‌برداری JVC GZ - MG3...\n",
              "4  نهایتا ، بر روی قاب پشتی گوشی نیز ، دوربین به ..."
            ]
          },
          "metadata": {
            "tags": []
          },
          "execution_count": 8
        }
      ]
    },
    {
      "cell_type": "code",
      "metadata": {
        "colab": {
          "base_uri": "https://localhost:8080/"
        },
        "id": "vdeI_zpWVnKz",
        "outputId": "6be8ad97-40eb-4089-930c-7ecbd5d3087c"
      },
      "source": [
        "print(f'data shape: {data.shape}')\n",
        "print(f'y shape : {y.shape}')"
      ],
      "execution_count": null,
      "outputs": [
        {
          "output_type": "stream",
          "text": [
            "data shape: (7023, 1)\n",
            "y shape : (7023,)\n"
          ],
          "name": "stdout"
        }
      ]
    },
    {
      "cell_type": "markdown",
      "metadata": {
        "id": "L_vBk0_CVBok"
      },
      "source": [
        "### Split train and test dataset"
      ]
    },
    {
      "cell_type": "code",
      "metadata": {
        "colab": {
          "base_uri": "https://localhost:8080/"
        },
        "id": "hyyVB2r6U_i8",
        "outputId": "cff9786a-7c20-4e97-985e-e668fa193023"
      },
      "source": [
        "from sklearn.model_selection import train_test_split\n",
        "\n",
        "X_train, X_test, y_train, y_test = train_test_split(data, y, test_size=0.2, stratify=y)\n",
        "print(f'Train data: {X_train.shape} {y_train.shape}')\n",
        "print(f'Test data: {X_test.shape} {y_test.shape}')"
      ],
      "execution_count": null,
      "outputs": [
        {
          "output_type": "stream",
          "text": [
            "Train data: (5618, 1) (5618,)\n",
            "Test data: (1405, 1) (1405,)\n"
          ],
          "name": "stdout"
        }
      ]
    },
    {
      "cell_type": "markdown",
      "metadata": {
        "id": "oFiuCcMWptKG"
      },
      "source": [
        "## Extract Features"
      ]
    },
    {
      "cell_type": "markdown",
      "metadata": {
        "id": "1eh-UDsipxwt"
      },
      "source": [
        "### Bag of Words"
      ]
    },
    {
      "cell_type": "code",
      "metadata": {
        "colab": {
          "base_uri": "https://localhost:8080/"
        },
        "id": "SR6zw9cqWTUH",
        "outputId": "2546c538-86ca-4607-db5d-8f6be5b4071e"
      },
      "source": [
        "from sklearn.feature_extraction.text import CountVectorizer\n",
        "\n",
        "# we have used min_df=5 as we only wants those words which occurs at least 5 times in the whole corpus.\n",
        "cv = CountVectorizer(min_df=5)\n",
        "X_train_bow = cv.fit_transform(X_train['preprocessing_review'])\n",
        "X_test_bow = cv.transform(X_test['preprocessing_review'])\n",
        "\n",
        "print(f'X_train_bow shape : {X_train_bow.shape}')\n",
        "print(f'X_test_bow shape : {X_test_bow.shape}')"
      ],
      "execution_count": null,
      "outputs": [
        {
          "output_type": "stream",
          "text": [
            "X_train_bow shape : (5618, 1948)\n",
            "X_test_bow shape : (1405, 1948)\n"
          ],
          "name": "stdout"
        }
      ]
    },
    {
      "cell_type": "markdown",
      "metadata": {
        "id": "jjaSySdhp1UG"
      },
      "source": [
        "### TF-IDF"
      ]
    },
    {
      "cell_type": "code",
      "metadata": {
        "colab": {
          "base_uri": "https://localhost:8080/"
        },
        "id": "k6ETYoKJp321",
        "outputId": "9ce296ba-8ed6-4d3c-da4b-97bf67c2eee8"
      },
      "source": [
        "from sklearn.feature_extraction.text import TfidfVectorizer\n",
        "\n",
        "tf = TfidfVectorizer(min_df=5)\n",
        "X_train_tfidf = tf.fit_transform(X_train['preprocessing_review'])\n",
        "X_test_tfidf = tf.transform(X_test['preprocessing_review'])\n",
        "\n",
        "print(f'X_train_tfidf shape : {X_train_tfidf.shape}')\n",
        "print(f'X_test_tfidf shape : {X_test_tfidf.shape}')"
      ],
      "execution_count": null,
      "outputs": [
        {
          "output_type": "stream",
          "text": [
            "X_train_tfidf shape : (5618, 1948)\n",
            "X_test_tfidf shape : (1405, 1948)\n"
          ],
          "name": "stdout"
        }
      ]
    },
    {
      "cell_type": "markdown",
      "metadata": {
        "id": "mzIc3HXRwZYr"
      },
      "source": [
        "## Model Training"
      ]
    },
    {
      "cell_type": "markdown",
      "metadata": {
        "id": "6OfLT3DDwlG0"
      },
      "source": [
        "### MultinomialNB (Bow)"
      ]
    },
    {
      "cell_type": "code",
      "metadata": {
        "colab": {
          "base_uri": "https://localhost:8080/"
        },
        "id": "e75KYbM2p4Qy",
        "outputId": "bc4f6d9d-e935-4878-d41d-1dbcf494b5b8"
      },
      "source": [
        "from sklearn.naive_bayes import MultinomialNB\n",
        "from sklearn import metrics \n",
        "\n",
        "# model generation using multinomial naive bayes\n",
        "clf_NB = MultinomialNB().fit(X_train_bow, y_train)\n",
        "predicted_NB_bow = clf_NB.predict(X_test_bow)\n",
        "print(f'MultinomialNB Accuracy : {metrics.accuracy_score(y_test, predicted_NB_bow)}')"
      ],
      "execution_count": null,
      "outputs": [
        {
          "output_type": "stream",
          "text": [
            "MultinomialNB Accuracy : 0.5487544483985766\n"
          ],
          "name": "stdout"
        }
      ]
    },
    {
      "cell_type": "code",
      "metadata": {
        "colab": {
          "base_uri": "https://localhost:8080/"
        },
        "id": "-ylFu1crwbzq",
        "outputId": "27f03d6f-d613-426d-da5e-e3ba2e39b0af"
      },
      "source": [
        "from sklearn.metrics import classification_report\n",
        "\n",
        "print(classification_report(y_test, predicted_NB_bow))"
      ],
      "execution_count": null,
      "outputs": [
        {
          "output_type": "stream",
          "text": [
            "              precision    recall  f1-score   support\n",
            "\n",
            "          -2       0.16      0.12      0.14        32\n",
            "          -1       0.47      0.50      0.48       187\n",
            "           0       0.62      0.62      0.62       400\n",
            "           1       0.48      0.40      0.44       400\n",
            "           2       0.59      0.69      0.64       386\n",
            "\n",
            "    accuracy                           0.55      1405\n",
            "   macro avg       0.46      0.47      0.46      1405\n",
            "weighted avg       0.54      0.55      0.54      1405\n",
            "\n"
          ],
          "name": "stdout"
        }
      ]
    },
    {
      "cell_type": "code",
      "metadata": {
        "id": "u0t0LUiBxahG"
      },
      "source": [
        "from sklearn import metrics\n",
        "import numpy as np\n",
        "import seaborn as sns\n",
        "\n",
        "#define a fuction for confusion matrix\n",
        "def confusion_matrix(y_test, predicted):\n",
        "\n",
        "    df_cm = pd.DataFrame(metrics.confusion_matrix(y_test, predicted), index = [-2, -1, 0, 1, 2],\n",
        "                  columns = [-2, -1, 0, 1, 2])\n",
        "    plt.figure(figsize = (10,7))\n",
        "    sns.heatmap(df_cm, annot=True, cmap=\"YlGnBu\" ,fmt='g')\n",
        "    plt.title('Confusion matrix', y=1.1)\n",
        "    plt.ylabel('Actual label')\n",
        "    plt.xlabel('Predicted label')\n",
        "    plt.show()"
      ],
      "execution_count": 21,
      "outputs": []
    },
    {
      "cell_type": "code",
      "metadata": {
        "colab": {
          "base_uri": "https://localhost:8080/",
          "height": 458
        },
        "id": "2p-f6zlfx3xa",
        "outputId": "f417a95b-a89b-42e1-9612-7866c8da970d"
      },
      "source": [
        "confusion_matrix(y_test, predicted_NB_bow)  "
      ],
      "execution_count": null,
      "outputs": [
        {
          "output_type": "display_data",
          "data": {
            "image/png": "[encoded data removed]",
            "text/plain": [
              "<Figure size 720x504 with 2 Axes>"
            ]
          },
          "metadata": {
            "tags": []
          }
        }
      ]
    },
    {
      "cell_type": "markdown",
      "metadata": {
        "id": "fxheUXBt2g9e"
      },
      "source": [
        "### MultinomialNB (TF-IDF)"
      ]
    },
    {
      "cell_type": "code",
      "metadata": {
        "colab": {
          "base_uri": "https://localhost:8080/"
        },
        "id": "jgScbfLA0fXb",
        "outputId": "00398dee-e069-4096-97f9-f4a8fe66f620"
      },
      "source": [
        "# model generation using multinomial naive bayes\n",
        "clf_NB_tfidf = MultinomialNB().fit(X_train_tfidf, y_train)\n",
        "predicted_NB_tfidf = clf_NB_tfidf.predict(X_test_tfidf)\n",
        "print(f'MultinomialNB Accuracy : {metrics.accuracy_score(y_test, predicted_NB_tfidf)}')"
      ],
      "execution_count": null,
      "outputs": [
        {
          "output_type": "stream",
          "text": [
            "MultinomialNB Accuracy : 0.5330960854092527\n"
          ],
          "name": "stdout"
        }
      ]
    },
    {
      "cell_type": "code",
      "metadata": {
        "colab": {
          "base_uri": "https://localhost:8080/"
        },
        "id": "sRDnyUEW2qQR",
        "outputId": "4fdbde73-c06d-495e-ad60-e240a3ebf3e4"
      },
      "source": [
        "print(classification_report(y_test, predicted_NB_tfidf))"
      ],
      "execution_count": null,
      "outputs": [
        {
          "output_type": "stream",
          "text": [
            "              precision    recall  f1-score   support\n",
            "\n",
            "          -2       0.00      0.00      0.00        32\n",
            "          -1       0.54      0.11      0.19       187\n",
            "           0       0.59      0.62      0.61       400\n",
            "           1       0.42      0.52      0.47       400\n",
            "           2       0.60      0.70      0.65       386\n",
            "\n",
            "    accuracy                           0.53      1405\n",
            "   macro avg       0.43      0.39      0.38      1405\n",
            "weighted avg       0.52      0.53      0.51      1405\n",
            "\n"
          ],
          "name": "stdout"
        }
      ]
    },
    {
      "cell_type": "code",
      "metadata": {
        "colab": {
          "base_uri": "https://localhost:8080/",
          "height": 458
        },
        "id": "dUJgWlMV2qGK",
        "outputId": "b72d7562-873b-4662-915b-975c208cd26b"
      },
      "source": [
        "confusion_matrix(y_test, predicted_NB_tfidf)  "
      ],
      "execution_count": null,
      "outputs": [
        {
          "output_type": "display_data",
          "data": {
            "image/png": "[encoded data removed]",
            "text/plain": [
              "<Figure size 720x504 with 2 Axes>"
            ]
          },
          "metadata": {
            "tags": []
          }
        }
      ]
    },
    {
      "cell_type": "markdown",
      "metadata": {
        "id": "rTJpGs7jJeQA"
      },
      "source": [
        "**MultinimailNB (BoW) > MultinomialNB (TF-IDF)**"
      ]
    },
    {
      "cell_type": "markdown",
      "metadata": {
        "id": "clQcMWvW37zo"
      },
      "source": [
        "### Random Forest (BoW)"
      ]
    },
    {
      "cell_type": "code",
      "metadata": {
        "colab": {
          "base_uri": "https://localhost:8080/"
        },
        "id": "qDCI3i7d2p87",
        "outputId": "0772459e-0543-40e1-e3a4-cd78f331bac1"
      },
      "source": [
        "from sklearn.ensemble import RandomForestClassifier\n",
        "from sklearn.model_selection import GridSearchCV\n",
        "\n",
        "n_estimators = [10, 100, 1000]\n",
        "max_features = ['sqrt', 'log2']\n",
        "criterion = ['gini', 'entropy']\n",
        "\n",
        "parameters = dict(n_estimators=n_estimators, max_features=max_features, criterion=criterion)\n",
        "\n",
        "grid_rf_bow = GridSearchCV(RandomForestClassifier(), parameters)\n",
        "grid_rf_bow.fit(X_train_bow, y_train)     "
      ],
      "execution_count": null,
      "outputs": [
        {
          "output_type": "execute_result",
          "data": {
            "text/plain": [
              "GridSearchCV(cv=None, error_score=nan,\n",
              "             estimator=RandomForestClassifier(bootstrap=True, ccp_alpha=0.0,\n",
              "                                              class_weight=None,\n",
              "                                              criterion='gini', max_depth=None,\n",
              "                                              max_features='auto',\n",
              "                                              max_leaf_nodes=None,\n",
              "                                              max_samples=None,\n",
              "                                              min_impurity_decrease=0.0,\n",
              "                                              min_impurity_split=None,\n",
              "                                              min_samples_leaf=1,\n",
              "                                              min_samples_split=2,\n",
              "                                              min_weight_fraction_leaf=0.0,\n",
              "                                              n_estimators=100, n_jobs=None,\n",
              "                                              oob_score=False,\n",
              "                                              random_state=None, verbose=0,\n",
              "                                              warm_start=False),\n",
              "             iid='deprecated', n_jobs=None,\n",
              "             param_grid={'criterion': ['gini', 'entropy'],\n",
              "                         'max_features': ['sqrt', 'log2'],\n",
              "                         'n_estimators': [10, 100, 1000]},\n",
              "             pre_dispatch='2*n_jobs', refit=True, return_train_score=False,\n",
              "             scoring=None, verbose=0)"
            ]
          },
          "metadata": {
            "tags": []
          },
          "execution_count": 100
        }
      ]
    },
    {
      "cell_type": "code",
      "metadata": {
        "colab": {
          "base_uri": "https://localhost:8080/"
        },
        "id": "I3o5xP9e4LCz",
        "outputId": "4d9499dd-1091-43c9-be55-09574990a15e"
      },
      "source": [
        "# Get the results\n",
        "print(f'best score of gird search : {grid_rf_bow.best_score_}')\n",
        "print(f'best estimator : {grid_rf_bow.best_estimator_}')\n",
        "print(f'best parameters : {grid_rf_bow.best_params_}')"
      ],
      "execution_count": null,
      "outputs": [
        {
          "output_type": "stream",
          "text": [
            "best score of gird search : 0.594873923748982\n",
            "best estimator : RandomForestClassifier(bootstrap=True, ccp_alpha=0.0, class_weight=None,\n",
            "                       criterion='gini', max_depth=None, max_features='sqrt',\n",
            "                       max_leaf_nodes=None, max_samples=None,\n",
            "                       min_impurity_decrease=0.0, min_impurity_split=None,\n",
            "                       min_samples_leaf=1, min_samples_split=2,\n",
            "                       min_weight_fraction_leaf=0.0, n_estimators=1000,\n",
            "                       n_jobs=None, oob_score=False, random_state=None,\n",
            "                       verbose=0, warm_start=False)\n",
            "best parameters : {'criterion': 'gini', 'max_features': 'sqrt', 'n_estimators': 1000}\n"
          ],
          "name": "stdout"
        }
      ]
    },
    {
      "cell_type": "code",
      "metadata": {
        "colab": {
          "base_uri": "https://localhost:8080/"
        },
        "id": "kKyXMzKH4K1e",
        "outputId": "f6302cd4-0f8d-457d-ccb8-cd60ac532b6e"
      },
      "source": [
        "predicted_rf_bow = grid_rf_bow.predict(X_test_bow)\n",
        "print(f'Random Forest Accuracy (BoW) : {metrics.accuracy_score(y_test, predicted_rf_bow)}')"
      ],
      "execution_count": null,
      "outputs": [
        {
          "output_type": "stream",
          "text": [
            "Random Forest Accuracy (BoW) : 0.600711743772242\n"
          ],
          "name": "stdout"
        }
      ]
    },
    {
      "cell_type": "code",
      "metadata": {
        "colab": {
          "base_uri": "https://localhost:8080/"
        },
        "id": "Leknl3-t4YhU",
        "outputId": "517f1f74-eaff-41fc-bce1-8bb21bd8274e"
      },
      "source": [
        "print(classification_report(y_test, predicted_rf_bow))"
      ],
      "execution_count": null,
      "outputs": [
        {
          "output_type": "stream",
          "text": [
            "              precision    recall  f1-score   support\n",
            "\n",
            "          -2       0.00      0.00      0.00        32\n",
            "          -1       0.65      0.36      0.47       187\n",
            "           0       0.59      0.78      0.67       400\n",
            "           1       0.56      0.42      0.48       400\n",
            "           2       0.63      0.77      0.69       386\n",
            "\n",
            "    accuracy                           0.60      1405\n",
            "   macro avg       0.49      0.47      0.46      1405\n",
            "weighted avg       0.59      0.60      0.58      1405\n",
            "\n"
          ],
          "name": "stdout"
        }
      ]
    },
    {
      "cell_type": "code",
      "metadata": {
        "colab": {
          "base_uri": "https://localhost:8080/",
          "height": 458
        },
        "id": "SOlYI9mQ4ajG",
        "outputId": "b73e63ce-a5bb-428d-e0bc-1bf07da77355"
      },
      "source": [
        "confusion_matrix(y_test, predicted_rf_bow) "
      ],
      "execution_count": null,
      "outputs": [
        {
          "output_type": "display_data",
          "data": {
            "image/png": "[encoded data removed]",
            "text/plain": [
              "<Figure size 720x504 with 2 Axes>"
            ]
          },
          "metadata": {
            "tags": []
          }
        }
      ]
    },
    {
      "cell_type": "markdown",
      "metadata": {
        "id": "rGk8jqok4Lwz"
      },
      "source": [
        "### Random Forest (TF-IDF)"
      ]
    },
    {
      "cell_type": "code",
      "metadata": {
        "colab": {
          "base_uri": "https://localhost:8080/"
        },
        "id": "qj_duxqj4Qv9",
        "outputId": "6f5439ef-7de8-4703-8ae0-95216a140d5d"
      },
      "source": [
        "n_estimators = [10, 100, 1000]\n",
        "max_features = ['sqrt', 'log2']\n",
        "criterion = ['gini', 'entropy']\n",
        "\n",
        "parameters = dict(n_estimators=n_estimators, max_features=max_features, criterion=criterion)\n",
        "\n",
        "grid_rf_tfidf = GridSearchCV(RandomForestClassifier(), parameters)\n",
        "grid_rf_tfidf.fit(X_train_tfidf, y_train)     "
      ],
      "execution_count": null,
      "outputs": [
        {
          "output_type": "execute_result",
          "data": {
            "text/plain": [
              "GridSearchCV(cv=None, error_score=nan,\n",
              "             estimator=RandomForestClassifier(bootstrap=True, ccp_alpha=0.0,\n",
              "                                              class_weight=None,\n",
              "                                              criterion='gini', max_depth=None,\n",
              "                                              max_features='auto',\n",
              "                                              max_leaf_nodes=None,\n",
              "                                              max_samples=None,\n",
              "                                              min_impurity_decrease=0.0,\n",
              "                                              min_impurity_split=None,\n",
              "                                              min_samples_leaf=1,\n",
              "                                              min_samples_split=2,\n",
              "                                              min_weight_fraction_leaf=0.0,\n",
              "                                              n_estimators=100, n_jobs=None,\n",
              "                                              oob_score=False,\n",
              "                                              random_state=None, verbose=0,\n",
              "                                              warm_start=False),\n",
              "             iid='deprecated', n_jobs=None,\n",
              "             param_grid={'criterion': ['gini', 'entropy'],\n",
              "                         'max_features': ['sqrt', 'log2'],\n",
              "                         'n_estimators': [10, 100, 1000]},\n",
              "             pre_dispatch='2*n_jobs', refit=True, return_train_score=False,\n",
              "             scoring=None, verbose=0)"
            ]
          },
          "metadata": {
            "tags": []
          },
          "execution_count": 105
        }
      ]
    },
    {
      "cell_type": "code",
      "metadata": {
        "colab": {
          "base_uri": "https://localhost:8080/"
        },
        "id": "sBWZ23Z94RQw",
        "outputId": "f2d69591-67d7-42ac-ba4c-ee4a88da71f5"
      },
      "source": [
        "# Get the results\n",
        "print(f'best score of gird search : {grid_rf_tfidf.best_score_}')\n",
        "print(f'best estimator : {grid_rf_tfidf.best_estimator_}')\n",
        "print(f'best parameters : {grid_rf_tfidf.best_params_}')"
      ],
      "execution_count": null,
      "outputs": [
        {
          "output_type": "stream",
          "text": [
            "best score of gird search : 0.5932732924962686\n",
            "best estimator : RandomForestClassifier(bootstrap=True, ccp_alpha=0.0, class_weight=None,\n",
            "                       criterion='gini', max_depth=None, max_features='sqrt',\n",
            "                       max_leaf_nodes=None, max_samples=None,\n",
            "                       min_impurity_decrease=0.0, min_impurity_split=None,\n",
            "                       min_samples_leaf=1, min_samples_split=2,\n",
            "                       min_weight_fraction_leaf=0.0, n_estimators=1000,\n",
            "                       n_jobs=None, oob_score=False, random_state=None,\n",
            "                       verbose=0, warm_start=False)\n",
            "best parameters : {'criterion': 'gini', 'max_features': 'sqrt', 'n_estimators': 1000}\n"
          ],
          "name": "stdout"
        }
      ]
    },
    {
      "cell_type": "code",
      "metadata": {
        "colab": {
          "base_uri": "https://localhost:8080/"
        },
        "id": "HS9-cm4w4RHW",
        "outputId": "53299617-b874-48a2-9c06-f49e35d540de"
      },
      "source": [
        "predicted_rf_tfidf = grid_rf_bow.predict(X_test_tfidf)\n",
        "print(f'Random Forest Accuracy (TD-IDF) : {metrics.accuracy_score(y_test, predicted_rf_tfidf)}')"
      ],
      "execution_count": null,
      "outputs": [
        {
          "output_type": "stream",
          "text": [
            "Random Forest Accuracy (TD-IDF) : 0.3088967971530249\n"
          ],
          "name": "stdout"
        }
      ]
    },
    {
      "cell_type": "code",
      "metadata": {
        "colab": {
          "base_uri": "https://localhost:8080/"
        },
        "id": "SgotV90LCuoG",
        "outputId": "4b26fd42-35a7-414a-a1b6-3cabff707a3a"
      },
      "source": [
        "print(classification_report(y_test, predicted_rf_tfidf))"
      ],
      "execution_count": null,
      "outputs": [
        {
          "output_type": "stream",
          "text": [
            "              precision    recall  f1-score   support\n",
            "\n",
            "          -2       0.00      0.00      0.00        32\n",
            "          -1       0.50      0.01      0.02       187\n",
            "           0       0.29      0.99      0.45       400\n",
            "           1       0.68      0.04      0.08       400\n",
            "           2       0.70      0.05      0.09       386\n",
            "\n",
            "    accuracy                           0.31      1405\n",
            "   macro avg       0.44      0.22      0.13      1405\n",
            "weighted avg       0.54      0.31      0.18      1405\n",
            "\n"
          ],
          "name": "stdout"
        }
      ]
    },
    {
      "cell_type": "code",
      "metadata": {
        "colab": {
          "base_uri": "https://localhost:8080/",
          "height": 458
        },
        "id": "kFgfHu9oCyZ1",
        "outputId": "b1061208-4867-4d7e-cccd-1fc92d9dd935"
      },
      "source": [
        "confusion_matrix(y_test, predicted_rf_tfidf) "
      ],
      "execution_count": null,
      "outputs": [
        {
          "output_type": "display_data",
          "data": {
            "image/png": "[encoded data removed]",
            "text/plain": [
              "<Figure size 720x504 with 2 Axes>"
            ]
          },
          "metadata": {
            "tags": []
          }
        }
      ]
    },
    {
      "cell_type": "markdown",
      "metadata": {
        "id": "W6rmWvxKJxXW"
      },
      "source": [
        "**Random Forest (BoW) > MultinimialNB(BoW) > MultinimialNB(TF-iDf)> Random Forest (TF-IDF)** "
      ]
    },
    {
      "cell_type": "markdown",
      "metadata": {
        "id": "xsTLsflg5S4a"
      },
      "source": [
        "### XGBoost (BoW)"
      ]
    },
    {
      "cell_type": "code",
      "metadata": {
        "colab": {
          "background_save": true
        },
        "id": "HIOWjeTiIMiB",
        "outputId": "bbea4563-0def-455f-adcd-ff8ffb005576"
      },
      "source": [
        "import xgboost as xgb\n",
        "from sklearn.model_selection import GridSearchCV\n",
        "\n",
        "n_estimators = [10, 100, 1000]\n",
        "max_depth = [3, 5, 7, 10]\n",
        "learning_rate = [0.1, 0.01, 0.001]\n",
        "\n",
        "parameters = dict(n_estimators =n_estimators, max_depth=max_depth, learning_rate = learning_rate)\n",
        "grid_xgb_bow = GridSearchCV(xgb.XGBClassifier(bjective='multi:softmax'), parameters)\n",
        "grid_xgb_bow.fit(X_train_bow, y_train)"
      ],
      "execution_count": null,
      "outputs": [
        {
          "output_type": "execute_result",
          "data": {
            "text/plain": [
              "GridSearchCV(cv=None, error_score=nan,\n",
              "             estimator=XGBClassifier(base_score=0.5, bjective='multi:softmax',\n",
              "                                     booster='gbtree', colsample_bylevel=1,\n",
              "                                     colsample_bynode=1, colsample_bytree=1,\n",
              "                                     gamma=0, learning_rate=0.1,\n",
              "                                     max_delta_step=0, max_depth=3,\n",
              "                                     min_child_weight=1, missing=None,\n",
              "                                     n_estimators=100, n_jobs=1, nthread=None,\n",
              "                                     objective='binary:logistic',\n",
              "                                     random_state=0, reg_alpha=0, reg_lambda=1,\n",
              "                                     scale_pos_weight=1, seed=None, silent=None,\n",
              "                                     subsample=1, verbosity=1),\n",
              "             iid='deprecated', n_jobs=None,\n",
              "             param_grid={'learning_rate': [0.1, 0.01, 0.001],\n",
              "                         'max_depth': [3, 5, 7, 10],\n",
              "                         'n_estimators': [10, 100, 1000]},\n",
              "             pre_dispatch='2*n_jobs', refit=True, return_train_score=False,\n",
              "             scoring=None, verbose=0)"
            ]
          },
          "metadata": {
            "tags": []
          },
          "execution_count": 0
        }
      ]
    },
    {
      "cell_type": "code",
      "metadata": {
        "id": "3Y2Vx0YM5wY4",
        "colab": {
          "base_uri": "https://localhost:8080/"
        },
        "outputId": "cad4f0f0-3ed8-4f72-c02a-cd5acd781a4c"
      },
      "source": [
        "# Get the results\n",
        "print(f'best score of gird search : {grid_xgb_bow.best_score_}')\n",
        "print(f'best estimator : {grid_xgb_bow.best_estimator_}')\n",
        "print(f'best parameters : {grid_xgb_bow.best_params_}')"
      ],
      "execution_count": 15,
      "outputs": [
        {
          "output_type": "stream",
          "text": [
            "best score of gird search : 0.5907847244448811\n",
            "best estimator : XGBClassifier(base_score=0.5, bjective='multi:softmax', booster='gbtree',\n",
            "              colsample_bylevel=1, colsample_bynode=1, colsample_bytree=1,\n",
            "              gamma=0, learning_rate=0.1, max_delta_step=0, max_depth=5,\n",
            "              min_child_weight=1, missing=None, n_estimators=1000, n_jobs=1,\n",
            "              nthread=None, objective='multi:softprob', random_state=0,\n",
            "              reg_alpha=0, reg_lambda=1, scale_pos_weight=1, seed=None,\n",
            "              silent=None, subsample=1, verbosity=1)\n",
            "best parameters : {'learning_rate': 0.1, 'max_depth': 5, 'n_estimators': 1000}\n"
          ],
          "name": "stdout"
        }
      ]
    },
    {
      "cell_type": "code",
      "metadata": {
        "id": "GU6M_mlI6ATN",
        "colab": {
          "base_uri": "https://localhost:8080/"
        },
        "outputId": "6a7d438b-9530-4374-d6f1-ae39ad72c78e"
      },
      "source": [
        "from sklearn import metrics\n",
        "predicted_xgb_bow = grid_xgb_bow.predict(X_test_bow)\n",
        "print(f'XGBoost Accuracy (BoW) : {metrics.accuracy_score(y_test, predicted_xgb_bow)}')"
      ],
      "execution_count": 17,
      "outputs": [
        {
          "output_type": "stream",
          "text": [
            "XGBoost Accuracy (BoW) : 0.6113879003558719\n"
          ],
          "name": "stdout"
        }
      ]
    },
    {
      "cell_type": "code",
      "metadata": {
        "id": "UiBKicN46AK-",
        "colab": {
          "base_uri": "https://localhost:8080/"
        },
        "outputId": "0ef5be26-11f6-4fce-f752-f690f7546e77"
      },
      "source": [
        "from sklearn.metrics import classification_report\n",
        "print(classification_report(y_test, predicted_xgb_bow))"
      ],
      "execution_count": 19,
      "outputs": [
        {
          "output_type": "stream",
          "text": [
            "              precision    recall  f1-score   support\n",
            "\n",
            "          -2       0.19      0.09      0.12        32\n",
            "          -1       0.56      0.45      0.50       187\n",
            "           0       0.59      0.74      0.66       400\n",
            "           1       0.53      0.46      0.49       400\n",
            "           2       0.74      0.76      0.75       386\n",
            "\n",
            "    accuracy                           0.61      1405\n",
            "   macro avg       0.52      0.50      0.50      1405\n",
            "weighted avg       0.60      0.61      0.60      1405\n",
            "\n"
          ],
          "name": "stdout"
        }
      ]
    },
    {
      "cell_type": "code",
      "metadata": {
        "id": "T7MmJ76N6DKT",
        "colab": {
          "base_uri": "https://localhost:8080/",
          "height": 458
        },
        "outputId": "0ea85f04-0805-4623-eafb-9f1f42dec55f"
      },
      "source": [
        "confusion_matrix(y_test, predicted_xgb_bow) "
      ],
      "execution_count": 22,
      "outputs": [
        {
          "output_type": "display_data",
          "data": {
            "image/png": "[encoded data removed]",
            "text/plain": [
              "<Figure size 720x504 with 2 Axes>"
            ]
          },
          "metadata": {
            "tags": [],
            "needs_background": "light"
          }
        }
      ]
    },
    {
      "cell_type": "markdown",
      "metadata": {
        "id": "3tz-UeFdmWMA"
      },
      "source": [
        "Till now, XGBoost has better accuracy and weighted avg f1_score than other models."
      ]
    },
    {
      "cell_type": "markdown",
      "metadata": {
        "id": "GSj2pHm2LHkJ"
      },
      "source": [
        "## Model Comparison (BoW)"
      ]
    },
    {
      "cell_type": "markdown",
      "metadata": {
        "id": "_ELx9AX6nAWC"
      },
      "source": [
        "Compare models that are training on data with the BoW feature generation method."
      ]
    },
    {
      "cell_type": "code",
      "metadata": {
        "id": "IRu9Dj3xK9kt"
      },
      "source": [
        "acc = [0.5487, 0.6007, 0.6113 ]\n",
        "classifier = ['MultinomialNB','Random Forest', 'XGBoost']"
      ],
      "execution_count": 23,
      "outputs": []
    },
    {
      "cell_type": "code",
      "metadata": {
        "id": "r8fOmo4fLG0o",
        "colab": {
          "base_uri": "https://localhost:8080/",
          "height": 208
        },
        "outputId": "4242a568-82f8-42d2-e0eb-ea474b1b8251"
      },
      "source": [
        "plt.rcParams[\"figure.figsize\"] = (20,3)\n",
        "plt.plot(classifier ,acc)\n",
        "plt.xlabel('Classifier')\n",
        "plt.ylabel('Accuracy')\n",
        "plt.title(\"Model Comparition\")\n",
        "plt.show()"
      ],
      "execution_count": 24,
      "outputs": [
        {
          "output_type": "display_data",
          "data": {
            "image/png": "[encoded data removed]",
            "text/plain": [
              "<Figure size 1440x216 with 1 Axes>"
            ]
          },
          "metadata": {
            "tags": [],
            "needs_background": "light"
          }
        }
      ]
    }
  ]
}